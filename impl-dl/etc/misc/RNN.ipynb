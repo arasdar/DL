{
 "cells": [
  {
   "cell_type": "code",
   "execution_count": 8,
   "metadata": {
    "collapsed": true
   },
   "outputs": [],
   "source": [
    "import sys\n",
    "import numpy as np\n",
    "import impl.RNN as rnn\n",
    "import impl.solver as solver"
   ]
  },
  {
   "cell_type": "code",
   "execution_count": 9,
   "metadata": {
    "collapsed": true
   },
   "outputs": [],
   "source": [
    "with open('data/text_data/japan.txt', 'r') as f:\n",
    "    txt = f.read()\n",
    "\n",
    "    X = []\n",
    "    y = []\n",
    "\n",
    "    char_to_idx = {char: i for i, char in enumerate(set(txt))}\n",
    "    idx_to_char = {i: char for i, char in enumerate(set(txt))}\n",
    "\n",
    "    X = np.array([char_to_idx[x] for x in txt])\n",
    "    y = [char_to_idx[x] for x in txt[1:]]\n",
    "    y.append(char_to_idx['.'])\n",
    "    y = np.array(y)"
   ]
  },
  {
   "cell_type": "code",
   "execution_count": 33,
   "metadata": {
    "collapsed": true
   },
   "outputs": [],
   "source": [
    "vocab_size = len(char_to_idx)\n",
    "\n",
    "# hyper parameters\n",
    "time_step = 10\n",
    "n_iter = 13000 # epochs\n",
    "alpha = 1e-3\n",
    "print_after = 1000\n",
    "H = 64"
   ]
  },
  {
   "cell_type": "code",
   "execution_count": 34,
   "metadata": {
    "collapsed": true
   },
   "outputs": [],
   "source": [
    "import numpy as np\n",
    "import impl.loss as loss_fun\n",
    "import impl.layer as l\n",
    "import impl.regularization as reg\n",
    "import impl.utils as util\n",
    "import impl.NN as nn\n",
    "\n",
    "class RNN(nn.NN):\n",
    "\n",
    "    def __init__(self, D, H, char2idx, idx2char):\n",
    "        self.D = D\n",
    "        self.H = H\n",
    "        self.char2idx = char2idx\n",
    "        self.idx2char = idx2char\n",
    "        self.vocab_size = len(char2idx)\n",
    "        super().__init__(D, D, H, None, None, loss='cross_ent', nonlin='relu')\n",
    "\n",
    "    def initial_state(self):\n",
    "        return np.zeros((1, self.H))\n",
    "\n",
    "    def forward(self, X, h, m): # m = self.model\n",
    "        Wxh, Whh, Why = m['Wxh'], m['Whh'], m['Why']\n",
    "        bh, by = m['bh'], m['by']\n",
    "\n",
    "        hprev = h.copy()\n",
    "\n",
    "        h, h_cache = l.tanh_forward(X @ Wxh + hprev @ Whh + bh)\n",
    "        y, y_cache = l.fc_forward(h, Why, by)\n",
    "\n",
    "        cache = X, Whh, h, hprev, y, h_cache, y_cache, Wxh\n",
    "\n",
    "        return y, h, cache\n",
    "\n",
    "    def backward(self, dy, dh, cache):\n",
    "        X, Whh, h, hprev, y, h_cache, y_cache, Wxh = cache\n",
    "\n",
    "        dh_next = dh.copy()\n",
    "        \n",
    "        # Hidden to output gradient\n",
    "        dh, dWhy, dby = l.fc_backward(dy, y_cache)\n",
    "        dh += dh_next\n",
    "        dby = dby.reshape((1, -1))\n",
    "\n",
    "        # tanh\n",
    "        dh = l.tanh_backward(dh, h_cache)\n",
    "\n",
    "        # Hidden gradient\n",
    "        dbh = dh\n",
    "        dWhh = hprev.T @ dh\n",
    "        dWxh = X.T @ dh\n",
    "        \n",
    "        dX = dh @ Wxh.T\n",
    "        dh = dh @ Whh.T\n",
    "\n",
    "        grad = dict(Wxh=dWxh, Whh=dWhh, Why=dWhy, bh=dbh, by=dby)\n",
    "        \n",
    "        return dX, dh, grad\n",
    "\n",
    "    def _init_model(self, D, C, H):\n",
    "            self.model = []\n",
    "            for l in range(2):\n",
    "                m = dict(\n",
    "                    Wxh=np.random.randn(D, H) / np.sqrt(D / 2.),\n",
    "                    Whh=np.random.randn(H, H) / np.sqrt(H / 2.),\n",
    "                    Why=np.random.randn(H, D) / np.sqrt(C / 2.),\n",
    "                    bh=np.zeros((1, H)),\n",
    "                    by=np.zeros((1, D))\n",
    "                )\n",
    "                self.model.append(m)\n",
    "            \n",
    "    def train_step_fwd(self, X_train, h):\n",
    "        ys, caches = [], []\n",
    "        \n",
    "        for X in X_train:\n",
    "            X_one_hot = np.zeros(self.D)\n",
    "            X_one_hot[X] = 1.\n",
    "            x = X_one_hot.reshape(1, -1)\n",
    "            y, h, cache = self.forward(x, h, self.model[0])\n",
    "            y, h, cache2 = self.forward(y, h, self.model[1])\n",
    "            ys.append(y)\n",
    "            caches.append(cache)\n",
    "            caches.append(cache2)\n",
    "           \n",
    "        return ys, caches\n",
    "\n",
    "    def train_step_bwd(self, y_train, ys, caches):\n",
    "        loss, dys = 0.0, []\n",
    "\n",
    "        for y_pred, y in zip(ys, y_train):\n",
    "            loss += loss_fun.cross_entropy(self.model, y_pred, y, lam=0)/ y_train.shape[0]\n",
    "            dy = loss_fun.dcross_entropy(y_pred, y)\n",
    "            dys.append(dy)\n",
    "\n",
    "        # Grads\n",
    "        grads_ = []\n",
    "        dh = np.zeros((1, self.H))\n",
    "        grads = {key: np.zeros_like(val) for key, val in self.model[0].items()}\n",
    "        grads2 = {key: np.zeros_like(val) for key, val in self.model[1].items()}\n",
    "        for t in reversed(range(len(dys))):\n",
    "            dX, dh2, grad2 = self.backward(dys[t], dh, caches[t+1]) \n",
    "            dX, dh, grad = self.backward(dX, dh, caches[t]) \n",
    "            for k in grad.keys():\n",
    "                grads_[1][k] += grad2[k]\n",
    "                grads_[][k] += grad[k]\n",
    "        \n",
    "        return grads, loss"
   ]
  },
  {
   "cell_type": "code",
   "execution_count": 35,
   "metadata": {},
   "outputs": [],
   "source": [
    "net = RNN(D=vocab_size, H=H, char2idx=char_to_idx, idx2char=idx_to_char)"
   ]
  },
  {
   "cell_type": "code",
   "execution_count": 36,
   "metadata": {
    "collapsed": true
   },
   "outputs": [],
   "source": [
    "import numpy as np\n",
    "import impl.utils as util\n",
    "import impl.constant as c\n",
    "import copy\n",
    "from sklearn.utils import shuffle as skshuffle\n",
    "\n",
    "def get_minibatch(X, y, minibatch_size, shuffle=True):\n",
    "    minibatches = []\n",
    "\n",
    "    if shuffle:\n",
    "        X, y = skshuffle(X, y)\n",
    "\n",
    "    for i in range(0, X.shape[0], minibatch_size):\n",
    "        X_mini = X[i:i + minibatch_size]\n",
    "        y_mini = y[i:i + minibatch_size]\n",
    "\n",
    "        minibatches.append((X_mini, y_mini))\n",
    "\n",
    "    return minibatches\n",
    "\n",
    "def adam_rnn(nn, X_train, y_train, alpha=0.001, mb_size=256, n_iter=2000, print_after=100):\n",
    "    minibatches = get_minibatch(X_train, y_train, mb_size, shuffle=False)\n",
    "\n",
    "    idx = 0\n",
    "    state = nn.initial_state()\n",
    "    smooth_loss = -np.log(1.0 / len(set(X_train)))\n",
    "\n",
    "    M = {k: np.zeros_like(v) for k, v in nn.model.items()}\n",
    "    R = {k: np.zeros_like(v) for k, v in nn.model.items()}\n",
    "    beta1 = .9\n",
    "    beta2 = .999\n",
    "\n",
    "    for iter in range(1, n_iter + 1):\n",
    "        t = iter\n",
    "\n",
    "        if idx >= len(minibatches):\n",
    "            idx = 0\n",
    "            state = nn.initial_state()\n",
    "\n",
    "        X_mini, y_mini = minibatches[idx]\n",
    "        idx += 1\n",
    "\n",
    "        if iter % print_after == 0:\n",
    "            print('Iter-{} loss: {:.4f}'.format(iter, smooth_loss))\n",
    "\n",
    "        #             # Testing can be completed once we make sure the training is done and is validated.\n",
    "        #             sample = nn.test_step_fwd(X_mini[0], state)\n",
    "        #             print(sample)\n",
    "\n",
    "        ys, caches = nn.train_step_fwd(X_mini, state)\n",
    "        grads, loss = nn.train_step_bwd(y_mini, ys, caches)\n",
    "        smooth_loss = 0.999 * smooth_loss + 0.001 * loss\n",
    "\n",
    "        for k in grads.keys(): #key, value: items\n",
    "            M[k] = util.exp_running_avg(M[k], grads[k], beta1)\n",
    "            R[k] = util.exp_running_avg(R[k], grads[k]**2, beta2)\n",
    "\n",
    "            m_k_hat = M[k] / (1. - beta1**(t))\n",
    "            r_k_hat = R[k] / (1. - beta2**(t))\n",
    "\n",
    "            nn.model[k] -= alpha * m_k_hat / (np.sqrt(r_k_hat) + c.eps)\n",
    "\n",
    "    return nn"
   ]
  },
  {
   "cell_type": "code",
   "execution_count": 37,
   "metadata": {},
   "outputs": [
    {
     "name": "stdout",
     "output_type": "stream",
     "text": [
      "Iter-1000 loss: 4.8057\n",
      "Iter-2000 loss: 4.7950\n",
      "Iter-3000 loss: 4.7762\n",
      "Iter-4000 loss: 5.5219\n",
      "Iter-5000 loss: 9.6586\n",
      "Iter-6000 loss: 12.7746\n",
      "Iter-7000 loss: 13.9741\n",
      "Iter-8000 loss: 14.3934\n",
      "Iter-9000 loss: 14.5235\n",
      "Iter-10000 loss: 14.5057\n",
      "Iter-11000 loss: 14.5070\n",
      "Iter-12000 loss: 14.4347\n",
      "Iter-13000 loss: 14.3612\n"
     ]
    },
    {
     "data": {
      "text/plain": [
       "<__main__.RNN at 0x7f70951cf7b8>"
      ]
     },
     "execution_count": 37,
     "metadata": {},
     "output_type": "execute_result"
    }
   ],
   "source": [
    "adam_rnn(nn=net, X_train=X, y_train=y, alpha=alpha, mb_size=time_step, n_iter=n_iter, \n",
    "                print_after=print_after)"
   ]
  },
  {
   "cell_type": "code",
   "execution_count": null,
   "metadata": {
    "collapsed": true
   },
   "outputs": [],
   "source": []
  }
 ],
 "metadata": {
  "kernelspec": {
   "display_name": "Python 3",
   "language": "python",
   "name": "python3"
  },
  "language_info": {
   "codemirror_mode": {
    "name": "ipython",
    "version": 3
   },
   "file_extension": ".py",
   "mimetype": "text/x-python",
   "name": "python",
   "nbconvert_exporter": "python",
   "pygments_lexer": "ipython3",
   "version": "3.5.1"
  }
 },
 "nbformat": 4,
 "nbformat_minor": 2
}
