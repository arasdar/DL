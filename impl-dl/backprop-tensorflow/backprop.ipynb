{
 "cells": [
  {
   "cell_type": "markdown",
   "metadata": {},
   "source": [
    "# Backpropagtion with TensorFlow\n",
    "- SGD with 1 layer NN\n",
    "- didn't use train/test split\n",
    "- Reference: \n",
    "https://github.com/hunkim/DeepLearningZeroToAll/blob/master/lab-09-5-softmax_back_prop.py"
   ]
  },
  {
   "cell_type": "code",
   "execution_count": 1,
   "metadata": {
    "collapsed": true
   },
   "outputs": [],
   "source": [
    "import tensorflow as tf\n",
    "import numpy as np\n",
    "import matplotlib.pyplot as plt\n",
    "%matplotlib inline"
   ]
  },
  {
   "cell_type": "code",
   "execution_count": 2,
   "metadata": {
    "collapsed": true
   },
   "outputs": [],
   "source": [
    "# Reproducibility\n",
    "tf.set_random_seed(777)\n",
    "np.random.seed(777)"
   ]
  },
  {
   "cell_type": "markdown",
   "metadata": {},
   "source": [
    "### Read Data"
   ]
  },
  {
   "cell_type": "code",
   "execution_count": 3,
   "metadata": {
    "collapsed": true
   },
   "outputs": [],
   "source": [
    "data_path = '../datasets/zoo.csv'"
   ]
  },
  {
   "cell_type": "code",
   "execution_count": 4,
   "metadata": {
    "collapsed": false
   },
   "outputs": [
    {
     "data": {
      "text/plain": [
       "array([[ 1.,  0.,  0., ...,  0.,  1.,  1.],\n",
       "       [ 1.,  0.,  0., ...,  0.,  1.,  1.],\n",
       "       [ 0.,  0.,  1., ...,  0.,  0.,  4.],\n",
       "       ..., \n",
       "       [ 1.,  0.,  0., ...,  0.,  1.,  1.],\n",
       "       [ 0.,  0.,  1., ...,  0.,  0.,  7.],\n",
       "       [ 0.,  1.,  1., ...,  0.,  0.,  2.]], dtype=float32)"
      ]
     },
     "execution_count": 4,
     "metadata": {},
     "output_type": "execute_result"
    }
   ],
   "source": [
    "xy = np.loadtxt(data_path, delimiter=',', dtype=np.float32)\n",
    "xy"
   ]
  },
  {
   "cell_type": "code",
   "execution_count": 5,
   "metadata": {
    "collapsed": false
   },
   "outputs": [
    {
     "data": {
      "text/plain": [
       "(101, 17)"
      ]
     },
     "execution_count": 5,
     "metadata": {},
     "output_type": "execute_result"
    }
   ],
   "source": [
    "xy.shape"
   ]
  },
  {
   "cell_type": "code",
   "execution_count": 6,
   "metadata": {
    "collapsed": true,
    "deletable": true,
    "editable": true
   },
   "outputs": [],
   "source": [
    "def print_and_shape(name, x):\n",
    "    try:\n",
    "        # numpy array\n",
    "        print(f'{name}: {x.shape}')\n",
    "    except:\n",
    "        # tensor\n",
    "        print(f'{name}: {x.get_shape()}')"
   ]
  },
  {
   "cell_type": "code",
   "execution_count": 7,
   "metadata": {
    "collapsed": false
   },
   "outputs": [
    {
     "name": "stdout",
     "output_type": "stream",
     "text": [
      "x_data: (101, 16)\n",
      "x_data: (101, 16)\n",
      "y_data: (101,)\n"
     ]
    }
   ],
   "source": [
    "x_data = xy[:, :-1]\n",
    "y_data = xy[:, -1]\n",
    "print_and_shape('x_data', x_data)\n",
    "print(f'x_data: {x_data.shape}')\n",
    "print(f'y_data: {y_data.shape}')"
   ]
  },
  {
   "cell_type": "markdown",
   "metadata": {},
   "source": [
    "### Hyperparameters"
   ]
  },
  {
   "cell_type": "code",
   "execution_count": 8,
   "metadata": {
    "collapsed": true
   },
   "outputs": [],
   "source": [
    "data_size, n_dim = x_data.shape # 101, 16\n",
    "n_classes = 7\n",
    "n_epoch = 5000\n",
    "batch_size = 30\n",
    "n_step = data_size // batch_size\n",
    "learning_rate = 0.0005"
   ]
  },
  {
   "cell_type": "markdown",
   "metadata": {},
   "source": [
    "### Placeholders"
   ]
  },
  {
   "cell_type": "code",
   "execution_count": 9,
   "metadata": {
    "collapsed": false
   },
   "outputs": [
    {
     "name": "stdout",
     "output_type": "stream",
     "text": [
      "X: (?, 16)\n",
      "Y: (?, 1)\n"
     ]
    }
   ],
   "source": [
    "X = tf.placeholder(tf.float32, [None, n_dim])\n",
    "Y = tf.placeholder(tf.int32, [None, 1])\n",
    "print(f'X: {X.get_shape()}')\n",
    "print(f'Y: {Y.get_shape()}')"
   ]
  },
  {
   "cell_type": "code",
   "execution_count": 10,
   "metadata": {
    "collapsed": false
   },
   "outputs": [
    {
     "name": "stdout",
     "output_type": "stream",
     "text": [
      "Y_one_hot: (?, 7)\n"
     ]
    }
   ],
   "source": [
    "Y_one_hot = tf.one_hot(Y, n_classes)\n",
    "Y_one_hot = tf.reshape(Y_one_hot, [-1, n_classes])\n",
    "Y_one_hot = tf.cast(Y_one_hot, tf.float32)\n",
    "print(f'Y_one_hot: {Y_one_hot.get_shape()}')"
   ]
  },
  {
   "cell_type": "markdown",
   "metadata": {},
   "source": [
    "### Model\n",
    "- one layer perceptron"
   ]
  },
  {
   "cell_type": "code",
   "execution_count": 11,
   "metadata": {
    "collapsed": false
   },
   "outputs": [
    {
     "name": "stdout",
     "output_type": "stream",
     "text": [
      "W: (16, 7)\n",
      "b: (7,)\n"
     ]
    }
   ],
   "source": [
    "W = tf.Variable(tf.random_normal([n_dim, n_classes]), name='weight')\n",
    "b = tf.Variable(tf.random_normal([n_classes]), name='bias')\n",
    "print(f'W: {W.get_shape()}')\n",
    "print(f'b: {b.get_shape()}')"
   ]
  },
  {
   "cell_type": "markdown",
   "metadata": {},
   "source": [
    "### Activation Function\n",
    "- sigmoid"
   ]
  },
  {
   "cell_type": "code",
   "execution_count": 12,
   "metadata": {
    "collapsed": true
   },
   "outputs": [],
   "source": [
    "def sigmoid(x):\n",
    "    return 1. / (1. + tf.exp(-x))"
   ]
  },
  {
   "cell_type": "code",
   "execution_count": 13,
   "metadata": {
    "collapsed": false
   },
   "outputs": [],
   "source": [
    "def d_sigmoid(x):\n",
    "    return sigmoid(x) * (1. - sigmoid(x))"
   ]
  },
  {
   "cell_type": "markdown",
   "metadata": {},
   "source": [
    "### Forward Propagation"
   ]
  },
  {
   "cell_type": "code",
   "execution_count": 14,
   "metadata": {
    "collapsed": false
   },
   "outputs": [
    {
     "name": "stdout",
     "output_type": "stream",
     "text": [
      "layer1: (?, 7)\n",
      "y_pred: (?, 7)\n"
     ]
    }
   ],
   "source": [
    "layer1 = tf.matmul(X, W) + b\n",
    "y_pred = sigmoid(layer1)\n",
    "print(f'layer1: {layer1.get_shape()}')\n",
    "print(f'y_pred: {y_pred.get_shape()}')"
   ]
  },
  {
   "cell_type": "markdown",
   "metadata": {},
   "source": [
    "### Loss"
   ]
  },
  {
   "cell_type": "code",
   "execution_count": 15,
   "metadata": {
    "collapsed": false
   },
   "outputs": [
    {
     "name": "stdout",
     "output_type": "stream",
     "text": [
      "diff: (?, 7)\n",
      "loss: ()\n"
     ]
    }
   ],
   "source": [
    "diff = y_pred - Y_one_hot\n",
    "loss = 0.5 * tf.reduce_sum(tf.square(diff))\n",
    "print(f'diff: {diff.get_shape()}')\n",
    "print(f'loss: {loss.get_shape()}')"
   ]
  },
  {
   "cell_type": "markdown",
   "metadata": {},
   "source": [
    "### Back Propagation"
   ]
  },
  {
   "cell_type": "markdown",
   "metadata": {},
   "source": [
    "$loss\\quad =\\quad \\frac{1}{2} \\sum\\ (y_{pred} - y_{one\\_hot})^2$\n",
    "\n",
    "$\\frac{\\mathrm d loss}{\\mathrm d y_{pred}}\\quad =\\quad y_{pred} - y_{one\\_hot}\\quad (=diff)$"
   ]
  },
  {
   "cell_type": "code",
   "execution_count": 16,
   "metadata": {
    "collapsed": false
   },
   "outputs": [
    {
     "name": "stdout",
     "output_type": "stream",
     "text": [
      "dloss_dypred: (?, 7)\n"
     ]
    }
   ],
   "source": [
    "dloss_dypred = diff\n",
    "print_and_shape('dloss_dypred', dloss_dypred)"
   ]
  },
  {
   "cell_type": "markdown",
   "metadata": {},
   "source": [
    "${ y }_{ pred }\\quad =\\quad \\sigma (layer_{1}) $\n",
    "\n",
    "$\\frac{\\mathrm d y _{ pred }}{\\mathrm d layer_{ 1 }}\\quad =\\quad \\sigma' (layer1)$"
   ]
  },
  {
   "cell_type": "code",
   "execution_count": 17,
   "metadata": {
    "collapsed": false
   },
   "outputs": [
    {
     "name": "stdout",
     "output_type": "stream",
     "text": [
      "dypred_dlayer1: (?, 7)\n"
     ]
    }
   ],
   "source": [
    "dypred_dlayer1 = d_sigmoid(layer1)\n",
    "print_and_shape('dypred_dlayer1', dypred_dlayer1)"
   ]
  },
  {
   "cell_type": "markdown",
   "metadata": {},
   "source": [
    "$\\frac{\\mathrm d loss}{\\mathrm d layer_{ 1 }} = \\frac{\\mathrm d loss}{\\mathrm d y_{pred}} \\cdot \\frac{\\mathrm d y _{ pred }}{\\mathrm d layer_{ 1 }}$"
   ]
  },
  {
   "cell_type": "code",
   "execution_count": 18,
   "metadata": {
    "collapsed": false
   },
   "outputs": [
    {
     "name": "stdout",
     "output_type": "stream",
     "text": [
      "dloss_dlayer1: (?, 7)\n"
     ]
    }
   ],
   "source": [
    "dloss_dlayer1 = dloss_dypred * dypred_dlayer1\n",
    "print_and_shape('dloss_dlayer1', dloss_dlayer1)"
   ]
  },
  {
   "cell_type": "markdown",
   "metadata": {},
   "source": [
    "$layer_{1}\\quad =\\quad XW + b$\n",
    "\n",
    "$\\frac{\\mathrm d layer _{ 1 }}{\\mathrm d w}\\quad =\\quad X^T$\n",
    "\n",
    "$\\frac{\\mathrm d layer _{ 1 }}{\\mathrm d b}\\quad =\\quad 1$"
   ]
  },
  {
   "cell_type": "code",
   "execution_count": 19,
   "metadata": {
    "collapsed": false
   },
   "outputs": [
    {
     "name": "stdout",
     "output_type": "stream",
     "text": [
      "dlayer1_dw: (16, ?)\n",
      "dlayer1_db: (7,)\n"
     ]
    }
   ],
   "source": [
    "dlayer1_dw = tf.transpose(X)\n",
    "dlayer1_db = tf.ones(n_classes)\n",
    "print_and_shape('dlayer1_dw', dlayer1_dw)\n",
    "print_and_shape('dlayer1_db', dlayer1_db)"
   ]
  },
  {
   "cell_type": "markdown",
   "metadata": {},
   "source": [
    "$\\frac{\\mathrm d loss}{\\mathrm d w}\\quad =\\quad \\frac{\\mathrm d layer_{1}}{\\mathrm d w} \\cdot \\frac{\\mathrm d loss}{\\mathrm d layer_{ 1 }}$\n",
    "\n",
    "$\\frac{\\mathrm d loss}{\\mathrm d b}\\quad =\\quad \\frac{\\mathrm d layer_{1}}{\\mathrm d b} \\cdot \\frac{\\mathrm d loss}{\\mathrm d layer_{ 1 }}$"
   ]
  },
  {
   "cell_type": "code",
   "execution_count": 20,
   "metadata": {
    "collapsed": false
   },
   "outputs": [
    {
     "name": "stdout",
     "output_type": "stream",
     "text": [
      "dloss_dw: (16, 7)\n",
      "dloss_db: (7,)\n"
     ]
    }
   ],
   "source": [
    "dloss_dw = tf.matmul(dlayer1_dw, dloss_dlayer1)\n",
    "dloss_db = tf.reduce_mean(dlayer1_db * dloss_dlayer1, 0) # loss from all data in batch\n",
    "print_and_shape('dloss_dw', dloss_dw)\n",
    "print_and_shape('dloss_db', dloss_db)"
   ]
  },
  {
   "cell_type": "markdown",
   "metadata": {},
   "source": [
    "### helper functions\n",
    "- backprop_ops\n",
    "- accuracy\n",
    "- batch"
   ]
  },
  {
   "cell_type": "code",
   "execution_count": 21,
   "metadata": {
    "collapsed": false
   },
   "outputs": [],
   "source": [
    "backprop_ops = [\n",
    "    tf.assign(W, W - learning_rate * dloss_dw),\n",
    "    tf.assign(b, b - learning_rate * dloss_db)\n",
    "]"
   ]
  },
  {
   "cell_type": "code",
   "execution_count": 22,
   "metadata": {
    "collapsed": true
   },
   "outputs": [],
   "source": [
    "prediction = tf.argmax(y_pred, 1)\n",
    "true_label = tf.argmax(Y_one_hot, 1)\n",
    "accuracy = tf.reduce_mean(tf.cast(tf.equal(prediction, true_label), tf.float32))"
   ]
  },
  {
   "cell_type": "code",
   "execution_count": 23,
   "metadata": {
    "collapsed": false
   },
   "outputs": [],
   "source": [
    "def get_batch(x_data, y_data):\n",
    "    indices = np.random.choice(data_size, batch_size)\n",
    "    x_batch = x_data[indices]\n",
    "    y_batch = y_data[indices].reshape(-1 ,1)\n",
    "    return x_batch, y_batch"
   ]
  },
  {
   "cell_type": "markdown",
   "metadata": {},
   "source": [
    "### Run Model"
   ]
  },
  {
   "cell_type": "code",
   "execution_count": 24,
   "metadata": {
    "collapsed": false
   },
   "outputs": [
    {
     "name": "stdout",
     "output_type": "stream",
     "text": [
      "Training Done!\n",
      "\n",
      "Final accuracy: 0.8416\n"
     ]
    }
   ],
   "source": [
    "with tf.Session() as sess:\n",
    "    # initialization\n",
    "    sess.run(tf.global_variables_initializer())\n",
    "    global_accuracy_history = []\n",
    "\n",
    "    # Train\n",
    "    for epoch in range(n_epoch):\n",
    "        for step in range(n_step):\n",
    "            # get batch\n",
    "            x_batch, y_batch = get_batch(x_data, y_data)\n",
    "            \n",
    "            # run backprop\n",
    "            sess.run(backprop_ops, feed_dict={X: x_batch, Y: y_batch})\n",
    "            \n",
    "            # check batch_accuracy\n",
    "            batch_accuracy = sess.run(accuracy, feed_dict={X: x_batch, Y: y_batch})\n",
    "            # print(f'epoch: {epoch}, step: {step} | accuracy: {batch_accuracy:.4}')\n",
    "            global_accuracy_history.append(batch_accuracy)\n",
    "            \n",
    "    print('Training Done!\\n')\n",
    "\n",
    "    # Test\n",
    "    final_accuracy = sess.run(accuracy, feed_dict={X: x_data, Y: y_data.reshape(-1, 1)})\n",
    "    print(f'Final accuracy: {final_accuracy:.4}')\n",
    "\n",
    "#     pred = sess.run(prediction, feed_dict={X: x_data})\n",
    "#     for p, y in zip(pred, y_data):\n",
    "#         y = int(y)\n",
    "#         if p == y:\n",
    "#             print(f'Correct!\\t Prediction: {p}\\t True label: {y}')\n",
    "#         else:\n",
    "#             print(f'False!\\t Prediction: {p}\\t True label: {y}')"
   ]
  },
  {
   "cell_type": "markdown",
   "metadata": {},
   "source": [
    "### Training Overview"
   ]
  },
  {
   "cell_type": "code",
   "execution_count": 25,
   "metadata": {
    "collapsed": false
   },
   "outputs": [
    {
     "data": {
      "image/png": "[encoded data removed]",
      "text/plain": [
       "<matplotlib.figure.Figure at 0x110778400>"
      ]
     },
     "metadata": {},
     "output_type": "display_data"
    }
   ],
   "source": [
    "plt.figure(figsize=(20, 10))\n",
    "plt.title('Learning Curve')\n",
    "plt.xlabel('global step')\n",
    "plt.ylabel('accuracy')\n",
    "plt.ylim(0, 1)\n",
    "plt.plot(range(n_epoch*n_step), global_accuracy_history)\n",
    "plt.show()"
   ]
  }
 ],
 "metadata": {
  "kernelspec": {
   "display_name": "Python [conda env:tensorflow]",
   "language": "python",
   "name": "conda-env-tensorflow-py"
  },
  "language_info": {
   "codemirror_mode": {
    "name": "ipython",
    "version": 3
   },
   "file_extension": ".py",
   "mimetype": "text/x-python",
   "name": "python",
   "nbconvert_exporter": "python",
   "pygments_lexer": "ipython3",
   "version": "3.6.0"
  }
 },
 "nbformat": 4,
 "nbformat_minor": 2
}
