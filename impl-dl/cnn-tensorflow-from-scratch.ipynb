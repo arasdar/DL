{
 "cells": [
  {
   "cell_type": "markdown",
   "metadata": {},
   "source": [
    "# CNN from scratch"
   ]
  },
  {
   "cell_type": "markdown",
   "metadata": {},
   "source": [
    "In this notebook, we're going to build a convolutional neural network for recognizing handwritten digits from scratch. By from scratch, I mean without using tensorflow's almighty neural network functions like `tf.nn.conv2d`. This way, you'll be able to uncover the blackbox and understand how CNN works more clearly. We'll use tensorflow interactively, so you can check the intermediate results along the way. This will also help your understanding.\n",
    "\n",
    "\n",
    "### Outline\n",
    "Here are some functions we will implement from scratch in this notebook.\n",
    "\n",
    "1. Convolutional layer\n",
    "2. ReLU\n",
    "3. Max Pooling\n",
    "4. Affine layer (Fully connected layer)\n",
    "5. Softmax\n",
    "6. Cross entropy error"
   ]
  },
  {
   "cell_type": "markdown",
   "metadata": {},
   "source": [
    "First things first, let's import TensorFlow"
   ]
  },
  {
   "cell_type": "code",
   "execution_count": 1,
   "metadata": {},
   "outputs": [
    {
     "name": "stdout",
     "output_type": "stream",
     "text": [
      "TensorFlow Version: 1.4.1\n",
      "Default GPU Device: /device:GPU:0\n"
     ]
    }
   ],
   "source": [
    "# GPUs or CPU\n",
    "import tensorflow as tf\n",
    "\n",
    "# Check TensorFlow Version\n",
    "print('TensorFlow Version: {}'.format(tf.__version__))\n",
    "\n",
    "# Check for a GPU\n",
    "print('Default GPU Device: {}'.format(tf.test.gpu_device_name()))"
   ]
  },
  {
   "cell_type": "markdown",
   "metadata": {},
   "source": [
    "These two lines of code will download and read in the handwritten digits data automatically."
   ]
  },
  {
   "cell_type": "code",
   "execution_count": 2,
   "metadata": {},
   "outputs": [
    {
     "name": "stdout",
     "output_type": "stream",
     "text": [
      "Extracting /home/arasdar/datasets/MNIST_data/train-images-idx3-ubyte.gz\n",
      "Extracting /home/arasdar/datasets/MNIST_data/train-labels-idx1-ubyte.gz\n",
      "Extracting /home/arasdar/datasets/MNIST_data/t10k-images-idx3-ubyte.gz\n",
      "Extracting /home/arasdar/datasets/MNIST_data/t10k-labels-idx1-ubyte.gz\n"
     ]
    }
   ],
   "source": [
    "from tensorflow.examples.tutorials.mnist import input_data\n",
    "mnist = input_data.read_data_sets(\"/home/arasdar/datasets/MNIST_data/\", one_hot=True, reshape=False)"
   ]
  },
  {
   "cell_type": "markdown",
   "metadata": {},
   "source": [
    "We're going to look at only 100 examples at a time."
   ]
  },
  {
   "cell_type": "code",
   "execution_count": 3,
   "metadata": {},
   "outputs": [],
   "source": [
    "batch_size = 100"
   ]
  },
  {
   "cell_type": "markdown",
   "metadata": {},
   "source": [
    "Here is the first example of data. It's a representation of a picture as a bunch of numbers."
   ]
  },
  {
   "cell_type": "code",
   "execution_count": 4,
   "metadata": {},
   "outputs": [
    {
     "data": {
      "text/plain": [
       "(28, 28, 1)"
      ]
     },
     "execution_count": 4,
     "metadata": {},
     "output_type": "execute_result"
    }
   ],
   "source": [
    "example_X, example_ys = mnist.train.next_batch(batch_size)\n",
    "example_X[0].shape"
   ]
  },
  {
   "cell_type": "markdown",
   "metadata": {},
   "source": [
    "We use the convenient `InteractiveSession`, for checking the intermediate results along the way. You can now use `Tensor.eval()` and `Operation.run()` without having to specify a session explicitly."
   ]
  },
  {
   "cell_type": "code",
   "execution_count": 5,
   "metadata": {
    "scrolled": false
   },
   "outputs": [],
   "source": [
    "session = tf.InteractiveSession()"
   ]
  },
  {
   "cell_type": "markdown",
   "metadata": {},
   "source": [
    "We start building the computation graph by creating placeholders for the input images(`X`) and target output labels(`t`)."
   ]
  },
  {
   "cell_type": "code",
   "execution_count": 6,
   "metadata": {},
   "outputs": [],
   "source": [
    "X = tf.placeholder('float', [batch_size, 28, 28, 1])\n",
    "t = tf.placeholder('float', [batch_size, 10])"
   ]
  },
  {
   "cell_type": "markdown",
   "metadata": {},
   "source": [
    "Below is an overview of the model we will build. It starts with a convolutional layer, pass the result to ReLU, pool, affine layer, ReLU again, second affine layer, and then apply softmax function. Keep in mind this architecture while you're following the notebook."
   ]
  },
  {
   "cell_type": "markdown",
   "metadata": {},
   "source": [
    "$$ conv - relu - pool - affine - relu - affine - softmax$$"
   ]
  },
  {
   "cell_type": "markdown",
   "metadata": {},
   "source": [
    "## Convolutional layer"
   ]
  },
  {
   "cell_type": "code",
   "execution_count": 7,
   "metadata": {},
   "outputs": [],
   "source": [
    "filter_h, filter_w, filter_c, filter_n = 5, 5, 1, 30"
   ]
  },
  {
   "cell_type": "code",
   "execution_count": 8,
   "metadata": {},
   "outputs": [],
   "source": [
    "W1 = tf.Variable(tf.random_normal([filter_h, filter_w, filter_c, filter_n], stddev=0.01))\n",
    "b1 = tf.Variable(tf.zeros([filter_n]))"
   ]
  },
  {
   "cell_type": "code",
   "execution_count": 9,
   "metadata": {},
   "outputs": [],
   "source": [
    "def convolution(X, W, b, padding, stride):\n",
    "    n, h, w, c = map(lambda d: d.value, X.get_shape())\n",
    "    filter_h, filter_w, filter_c, filter_n = [d.value for d in W.get_shape()]\n",
    "    \n",
    "    out_h = (h + 2*padding - filter_h)//stride + 1\n",
    "    out_w = (w + 2*padding - filter_w)//stride + 1\n",
    "\n",
    "    X_flat = flatten(X, filter_h, filter_w, filter_c, out_h, out_w, stride, padding)\n",
    "    W_flat = tf.reshape(W, [filter_h*filter_w*filter_c, filter_n])\n",
    "    \n",
    "    z = tf.matmul(X_flat, W_flat) + b     # b: 1 X filter_n\n",
    "    \n",
    "    return tf.transpose(tf.reshape(z, [out_h, out_w, n, filter_n]), [2, 0, 1, 3])"
   ]
  },
  {
   "cell_type": "markdown",
   "metadata": {},
   "source": [
    "To compute convolution easily, we do a simple trick called flattening. After flattening, input data will be transformed into a 2D matrix, which allows for matrix multiplication with a filter (which is also flattened into 2D)."
   ]
  },
  {
   "cell_type": "code",
   "execution_count": 10,
   "metadata": {},
   "outputs": [],
   "source": [
    "def flatten(X, window_h, window_w, window_c, out_h, out_w, stride=1, padding=0):\n",
    "    \n",
    "    X_padded = tf.pad(X, [[0,0], [padding, padding], [padding, padding], [0,0]])\n",
    "\n",
    "    windows = []\n",
    "    for y in range(out_h):\n",
    "        for x in range(out_w):\n",
    "            window = tf.slice(X_padded, [0, y*stride, x*stride, 0], [-1, window_h, window_w, -1])\n",
    "            windows.append(window)\n",
    "    stacked = tf.stack(windows) # shape : [out_h, out_w, n, filter_h, filter_w, c]\n",
    "\n",
    "    return tf.reshape(stacked, [-1, window_c*window_w*window_h])"
   ]
  },
  {
   "cell_type": "code",
   "execution_count": 15,
   "metadata": {},
   "outputs": [
    {
     "name": "stdout",
     "output_type": "stream",
     "text": [
      "(100, 28, 28, 1) <dtype: 'float32'> (5, 5, 1, 30) <dtype: 'float32_ref'> (30,) <dtype: 'float32_ref'>\n"
     ]
    }
   ],
   "source": [
    "print(X.shape, X.dtype, W1.shape, W1.dtype, b1.shape, b1.dtype)"
   ]
  },
  {
   "cell_type": "code",
   "execution_count": 17,
   "metadata": {},
   "outputs": [
    {
     "data": {
      "text/plain": [
       "<tf.Tensor 'transpose_1:0' shape=(100, 28, 28, 30) dtype=float32>"
      ]
     },
     "execution_count": 17,
     "metadata": {},
     "output_type": "execute_result"
    }
   ],
   "source": [
    "conv_layer = convolution(X, W1, b1, padding=2, stride=1)\n",
    "conv_layer"
   ]
  },
  {
   "cell_type": "markdown",
   "metadata": {},
   "source": [
    "## ReLU"
   ]
  },
  {
   "cell_type": "code",
   "execution_count": 18,
   "metadata": {},
   "outputs": [],
   "source": [
    "def relu(X):\n",
    "    return tf.maximum(X, tf.zeros_like(X))"
   ]
  },
  {
   "cell_type": "code",
   "execution_count": 20,
   "metadata": {},
   "outputs": [
    {
     "data": {
      "text/plain": [
       "<tf.Tensor 'Maximum_1:0' shape=(100, 28, 28, 30) dtype=float32>"
      ]
     },
     "execution_count": 20,
     "metadata": {},
     "output_type": "execute_result"
    }
   ],
   "source": [
    "conv_activation_layer = relu(conv_layer)\n",
    "conv_activation_layer"
   ]
  },
  {
   "cell_type": "markdown",
   "metadata": {},
   "source": [
    "## Max pooling"
   ]
  },
  {
   "cell_type": "code",
   "execution_count": 21,
   "metadata": {},
   "outputs": [],
   "source": [
    "def max_pool(X, pool_h, pool_w, padding, stride):\n",
    "    n, h, w, c = [d.value for d in X.get_shape()]\n",
    "    \n",
    "    out_h = (h + 2*padding - pool_h)//stride + 1\n",
    "    out_w = (w + 2*padding - pool_w)//stride + 1\n",
    "\n",
    "    X_flat = flatten(X, pool_h, pool_w, c, out_h, out_w, stride, padding)\n",
    "\n",
    "    pool = tf.reduce_max(tf.reshape(X_flat, [out_h, out_w, n, pool_h*pool_w, c]), axis=3)\n",
    "    return tf.transpose(pool, [2, 0, 1, 3])"
   ]
  },
  {
   "cell_type": "code",
   "execution_count": 22,
   "metadata": {},
   "outputs": [
    {
     "data": {
      "text/plain": [
       "<tf.Tensor 'transpose_2:0' shape=(100, 14, 14, 30) dtype=float32>"
      ]
     },
     "execution_count": 22,
     "metadata": {},
     "output_type": "execute_result"
    }
   ],
   "source": [
    "pooling_layer = max_pool(conv_activation_layer, pool_h=2, pool_w=2, padding=0, stride=2)\n",
    "pooling_layer"
   ]
  },
  {
   "cell_type": "markdown",
   "metadata": {},
   "source": [
    "## Affine layer 1"
   ]
  },
  {
   "cell_type": "code",
   "execution_count": 23,
   "metadata": {
    "scrolled": true
   },
   "outputs": [],
   "source": [
    "batch_size, pool_output_h, pool_output_w, filter_n = [d.value for d in pooling_layer.get_shape()]"
   ]
  },
  {
   "cell_type": "code",
   "execution_count": 24,
   "metadata": {},
   "outputs": [],
   "source": [
    "# number of nodes in the hidden layer\n",
    "hidden_size = 100"
   ]
  },
  {
   "cell_type": "code",
   "execution_count": 25,
   "metadata": {},
   "outputs": [],
   "source": [
    "W2 = tf.Variable(tf.random_normal([pool_output_h*pool_output_w*filter_n, hidden_size], stddev=0.01))\n",
    "b2 = tf.Variable(tf.zeros([hidden_size]))"
   ]
  },
  {
   "cell_type": "code",
   "execution_count": 26,
   "metadata": {},
   "outputs": [],
   "source": [
    "def affine(X, W, b):\n",
    "    n = X.get_shape()[0].value # number of samples\n",
    "    X_flat = tf.reshape(X, [n, -1])\n",
    "    return tf.matmul(X_flat, W) + b"
   ]
  },
  {
   "cell_type": "code",
   "execution_count": 27,
   "metadata": {},
   "outputs": [
    {
     "data": {
      "text/plain": [
       "<tf.Tensor 'add_2:0' shape=(100, 100) dtype=float32>"
      ]
     },
     "execution_count": 27,
     "metadata": {},
     "output_type": "execute_result"
    }
   ],
   "source": [
    "affine_layer1 = affine(pooling_layer, W2, b2)\n",
    "affine_layer1"
   ]
  },
  {
   "cell_type": "code",
   "execution_count": 28,
   "metadata": {},
   "outputs": [
    {
     "data": {
      "text/plain": [
       "array([ 0.00925174, -0.00247716,  0.00373842, -0.01411869,  0.01808271,\n",
       "       -0.00904754, -0.00638073, -0.00591116, -0.01707015, -0.0120058 ,\n",
       "       -0.03524879, -0.00075297, -0.02764303, -0.00427013, -0.00041813,\n",
       "       -0.014628  , -0.01604748,  0.01305443,  0.00531883, -0.0068157 ,\n",
       "        0.01700079, -0.00695998,  0.01047445,  0.00686595,  0.00277898,\n",
       "       -0.01327773,  0.02326751,  0.00105084, -0.00554805,  0.00553582,\n",
       "        0.00587317, -0.03639751, -0.01127398, -0.01640638, -0.00076795,\n",
       "       -0.01045864,  0.04147588, -0.01156281,  0.02095137, -0.00906414,\n",
       "       -0.00811423,  0.00924253, -0.01614905, -0.00712552, -0.01189603,\n",
       "       -0.00500245,  0.02677673, -0.03063465,  0.01832008, -0.02034824,\n",
       "        0.00077786,  0.00186712,  0.02998282,  0.02252693, -0.02051033,\n",
       "        0.00244616, -0.00651262, -0.00623711,  0.01035882, -0.00499087,\n",
       "        0.01756883, -0.00748296,  0.01257539, -0.02312755,  0.01175804,\n",
       "       -0.02441126,  0.0081053 , -0.04168748,  0.01337018, -0.01475471,\n",
       "        0.01009009,  0.00202592,  0.01153922, -0.0029256 , -0.00095263,\n",
       "        0.01502997,  0.00875417,  0.02194441, -0.0025549 , -0.01146321,\n",
       "       -0.01528439,  0.03253143,  0.00252969,  0.01415024, -0.01252698,\n",
       "       -0.04096382, -0.0087318 ,  0.04963036,  0.000627  , -0.01366708,\n",
       "       -0.00637358, -0.02686524, -0.00803551, -0.0043704 ,  0.00203722,\n",
       "       -0.02695317, -0.02998732, -0.00332387,  0.01216408,  0.01784112],\n",
       "      dtype=float32)"
      ]
     },
     "execution_count": 28,
     "metadata": {},
     "output_type": "execute_result"
    }
   ],
   "source": [
    "init = tf.global_variables_initializer()\n",
    "init.run()\n",
    "affine_layer1.eval({X:example_X, t:example_ys})[0]"
   ]
  },
  {
   "cell_type": "markdown",
   "metadata": {},
   "source": [
    "The above result shows the representation of the first example as a 100 dimention vector in the hidden layer."
   ]
  },
  {
   "cell_type": "code",
   "execution_count": 29,
   "metadata": {},
   "outputs": [
    {
     "data": {
      "text/plain": [
       "<tf.Tensor 'Maximum_2:0' shape=(100, 100) dtype=float32>"
      ]
     },
     "execution_count": 29,
     "metadata": {},
     "output_type": "execute_result"
    }
   ],
   "source": [
    "affine_activation_layer1 = relu(affine_layer1)\n",
    "affine_activation_layer1"
   ]
  },
  {
   "cell_type": "code",
   "execution_count": 30,
   "metadata": {},
   "outputs": [
    {
     "data": {
      "text/plain": [
       "array([0.00925174, 0.        , 0.00373842, 0.        , 0.01808271,\n",
       "       0.        , 0.        , 0.        , 0.        , 0.        ,\n",
       "       0.        , 0.        , 0.        , 0.        , 0.        ,\n",
       "       0.        , 0.        , 0.01305443, 0.00531883, 0.        ,\n",
       "       0.01700079, 0.        , 0.01047445, 0.00686595, 0.00277898,\n",
       "       0.        , 0.02326751, 0.00105084, 0.        , 0.00553582,\n",
       "       0.00587317, 0.        , 0.        , 0.        , 0.        ,\n",
       "       0.        , 0.04147588, 0.        , 0.02095137, 0.        ,\n",
       "       0.        , 0.00924253, 0.        , 0.        , 0.        ,\n",
       "       0.        , 0.02677673, 0.        , 0.01832008, 0.        ,\n",
       "       0.00077786, 0.00186712, 0.02998282, 0.02252693, 0.        ,\n",
       "       0.00244616, 0.        , 0.        , 0.01035882, 0.        ,\n",
       "       0.01756883, 0.        , 0.01257539, 0.        , 0.01175804,\n",
       "       0.        , 0.0081053 , 0.        , 0.01337018, 0.        ,\n",
       "       0.01009009, 0.00202592, 0.01153922, 0.        , 0.        ,\n",
       "       0.01502997, 0.00875417, 0.02194441, 0.        , 0.        ,\n",
       "       0.        , 0.03253143, 0.00252969, 0.01415024, 0.        ,\n",
       "       0.        , 0.        , 0.04963036, 0.000627  , 0.        ,\n",
       "       0.        , 0.        , 0.        , 0.        , 0.00203722,\n",
       "       0.        , 0.        , 0.        , 0.01216408, 0.01784112],\n",
       "      dtype=float32)"
      ]
     },
     "execution_count": 30,
     "metadata": {},
     "output_type": "execute_result"
    }
   ],
   "source": [
    "affine_activation_layer1.eval({X:example_X, t:example_ys})[0]"
   ]
  },
  {
   "cell_type": "markdown",
   "metadata": {},
   "source": [
    "This is after applying ReLU to the above representation. You can see that we set all the negative numbers to 0."
   ]
  },
  {
   "cell_type": "markdown",
   "metadata": {},
   "source": [
    "## Affine layer 2"
   ]
  },
  {
   "cell_type": "code",
   "execution_count": 31,
   "metadata": {},
   "outputs": [],
   "source": [
    "output_size = 10"
   ]
  },
  {
   "cell_type": "code",
   "execution_count": 33,
   "metadata": {},
   "outputs": [
    {
     "data": {
      "text/plain": [
       "(<tf.Variable 'Variable_6:0' shape=(100, 10) dtype=float32_ref>,\n",
       " <tf.Variable 'Variable_7:0' shape=(10,) dtype=float32_ref>)"
      ]
     },
     "execution_count": 33,
     "metadata": {},
     "output_type": "execute_result"
    }
   ],
   "source": [
    "W3 = tf.Variable(tf.random_normal([hidden_size, output_size], stddev=0.01))\n",
    "b3 = tf.Variable(tf.zeros([output_size]))\n",
    "W3, b3"
   ]
  },
  {
   "cell_type": "code",
   "execution_count": 34,
   "metadata": {},
   "outputs": [],
   "source": [
    "affine_layer2 = affine(affine_activation_layer1, W3, b3)"
   ]
  },
  {
   "cell_type": "code",
   "execution_count": 35,
   "metadata": {},
   "outputs": [],
   "source": [
    "# because you have new variables, you need to initialize them.\n",
    "init = tf.global_variables_initializer()\n",
    "init.run()"
   ]
  },
  {
   "cell_type": "code",
   "execution_count": 36,
   "metadata": {},
   "outputs": [
    {
     "data": {
      "text/plain": [
       "array([ 0.00182686,  0.00224067,  0.00030621, -0.00095036,  0.00034657,\n",
       "       -0.00138684,  0.00118214,  0.00020053, -0.00027152,  0.00456122],\n",
       "      dtype=float32)"
      ]
     },
     "execution_count": 36,
     "metadata": {},
     "output_type": "execute_result"
    }
   ],
   "source": [
    "affine_layer2.eval({X:example_X, t:example_ys})[0]"
   ]
  },
  {
   "cell_type": "markdown",
   "metadata": {},
   "source": [
    "## Softmax"
   ]
  },
  {
   "cell_type": "code",
   "execution_count": 37,
   "metadata": {},
   "outputs": [],
   "source": [
    "def softmax(X):\n",
    "    X_centered = X - tf.reduce_max(X) # to avoid overflow\n",
    "    X_exp = tf.exp(X_centered)\n",
    "    exp_sum = tf.reduce_sum(X_exp, axis=1)\n",
    "    return tf.transpose(tf.transpose(X_exp) / exp_sum)"
   ]
  },
  {
   "cell_type": "code",
   "execution_count": 39,
   "metadata": {},
   "outputs": [
    {
     "data": {
      "text/plain": [
       "<tf.Tensor 'transpose_6:0' shape=(100, 10) dtype=float32>"
      ]
     },
     "execution_count": 39,
     "metadata": {},
     "output_type": "execute_result"
    }
   ],
   "source": [
    "softmax_layer = softmax(affine_layer2)\n",
    "softmax_layer"
   ]
  },
  {
   "cell_type": "code",
   "execution_count": 40,
   "metadata": {},
   "outputs": [
    {
     "data": {
      "text/plain": [
       "array([0.10010205, 0.10014348, 0.09994995, 0.09982443, 0.09995398,\n",
       "       0.09978087, 0.10003753, 0.09993938, 0.09989222, 0.10037614],\n",
       "      dtype=float32)"
      ]
     },
     "execution_count": 40,
     "metadata": {},
     "output_type": "execute_result"
    }
   ],
   "source": [
    "softmax_layer.eval({X:example_X, t:example_ys})[0]"
   ]
  },
  {
   "cell_type": "markdown",
   "metadata": {},
   "source": [
    "We got somewhat evenly distributed probabilities over 10 digits. This is as expected because we haven't trained our model yet."
   ]
  },
  {
   "cell_type": "markdown",
   "metadata": {},
   "source": [
    "## Cross entropy error"
   ]
  },
  {
   "cell_type": "code",
   "execution_count": 41,
   "metadata": {},
   "outputs": [],
   "source": [
    "def cross_entropy_error(y, t):\n",
    "    return -tf.reduce_mean(tf.log(tf.reduce_sum(y * t, axis=1)))"
   ]
  },
  {
   "cell_type": "code",
   "execution_count": 42,
   "metadata": {},
   "outputs": [],
   "source": [
    "loss = cross_entropy_error(softmax_layer, t)"
   ]
  },
  {
   "cell_type": "code",
   "execution_count": 43,
   "metadata": {},
   "outputs": [
    {
     "data": {
      "text/plain": [
       "2.3026032"
      ]
     },
     "execution_count": 43,
     "metadata": {},
     "output_type": "execute_result"
    }
   ],
   "source": [
    "loss.eval({X:example_X, t:example_ys})"
   ]
  },
  {
   "cell_type": "code",
   "execution_count": 44,
   "metadata": {},
   "outputs": [],
   "source": [
    "learning_rate = 0.1\n",
    "trainer = tf.train.GradientDescentOptimizer(learning_rate).minimize(loss)"
   ]
  },
  {
   "cell_type": "code",
   "execution_count": 45,
   "metadata": {},
   "outputs": [],
   "source": [
    "# number of times to iterate over training data\n",
    "training_epochs = 2"
   ]
  },
  {
   "cell_type": "code",
   "execution_count": 46,
   "metadata": {},
   "outputs": [
    {
     "data": {
      "text/plain": [
       "550"
      ]
     },
     "execution_count": 46,
     "metadata": {},
     "output_type": "execute_result"
    }
   ],
   "source": [
    "# number of batches\n",
    "num_batch = int(mnist.train.num_examples/batch_size)\n",
    "num_batch"
   ]
  },
  {
   "cell_type": "code",
   "execution_count": 61,
   "metadata": {},
   "outputs": [
    {
     "data": {
      "text/plain": [
       "1"
      ]
     },
     "execution_count": 61,
     "metadata": {},
     "output_type": "execute_result"
    }
   ],
   "source": [
    "501%10"
   ]
  },
  {
   "cell_type": "code",
   "execution_count": 63,
   "metadata": {},
   "outputs": [
    {
     "name": "stdout",
     "output_type": "stream",
     "text": [
      "0.004186583432284268\n",
      "0.00411091457713734\n",
      "0.0010877627676183527\n",
      "0.0008315690539099954\n",
      "0.0009691767259077592\n"
     ]
    }
   ],
   "source": [
    "sess = tf.Session()\n",
    "sess.run(tf.global_variables_initializer())\n",
    "\n",
    "for i in range(500):\n",
    "    X_mb, y_mb = mnist.train.next_batch(batch_size)\n",
    "\n",
    "    _, loss_val = sess.run([trainer, loss], feed_dict={X: X_mb, t: y_mb})\n",
    "    avg_cost = loss_val / num_batch #.eval(feed_dict={X:X_mb, t:y_mb})\n",
    "    \n",
    "    # Every 1000 iterations = if remaining of or mode of i on 1000 is zero or i is the multiplication of 1000\n",
    "    # Print out the results\n",
    "    if i%100 == 0:\n",
    "        print(avg_cost)\n",
    "\n",
    "#     if i % 100 == 0:\n",
    "#         y_pred = sess.run(forward_step, feed_dict={X: X_val})\n",
    "#         acc = accuracy(y_val, y_pred)\n",
    "\n",
    "#         print('Iter: {} Loss: {:.4f} Validation: {}'.format(i, loss_val, acc))"
   ]
  },
  {
   "cell_type": "code",
   "execution_count": 53,
   "metadata": {},
   "outputs": [
    {
     "name": "stdout",
     "output_type": "stream",
     "text": [
      "0.0002530513026497581\n",
      "0.0005116122961044312\n",
      "0.00015374977480281482\n",
      "0.00024025369774211537\n",
      "0.0002687355875968933\n",
      "0.00021916113116524435\n",
      "0.0004313530434261669\n",
      "0.00013656723228367893\n",
      "0.00027604070576754485\n",
      "0.0002509538422931324\n",
      "0.00026693642139434813\n",
      "0.0004813069647008722\n",
      "0.00024193882942199707\n",
      "0.00022291856733235447\n",
      "0.00028267844156785446\n",
      "0.0002987148545005105\n",
      "0.00020740299062295392\n",
      "0.00031692970882762564\n",
      "0.0002276279709555886\n",
      "0.00022814975543455644\n",
      "0.00013362857428464022\n",
      "0.00020789036696607416\n",
      "0.00018464168364351445\n",
      "0.00041824812238866634\n",
      "0.0003933531045913696\n",
      "0.0002731123566627502\n",
      "0.00023209579966285013\n",
      "0.0002516916394233704\n",
      "0.00020734738219868053\n",
      "0.0002037431841546839\n",
      "0.0002385480837388472\n",
      "0.0001330316202207045\n",
      "0.00036589893427762117\n",
      "0.00029510717500339856\n",
      "0.00017985174601728267\n",
      "0.00030295583334836096\n",
      "0.0002563689784570174\n",
      "0.00021367035128853538\n",
      "0.00028936746445569126\n",
      "0.00030755351890217173\n",
      "0.00022703165357763116\n",
      "0.00020914259282025423\n",
      "0.0001804633167656985\n",
      "0.00016635522246360779\n",
      "0.00019020209258252923\n",
      "0.00011095401915636929\n",
      "0.00024563537402586504\n",
      "0.000314336744221774\n",
      "0.00040946258739991623\n",
      "0.00014553071423010393\n"
     ]
    }
   ],
   "source": [
    "avg_cost = 0\n",
    "for i in range(50):\n",
    "    train_X, train_ys = mnist.train.next_batch(100)\n",
    "    trainer.run(feed_dict={X:train_X, t:train_ys})\n",
    "    avg_cost = loss.eval(feed_dict={X:train_X, t:train_ys}) / num_batch\n",
    "    print(avg_cost)\n",
    "\n",
    "\n",
    "#     #         if net_type == 'cnn':\n",
    "#     X_mb = X_mb.reshape([-1, 28, 28, 1])\n",
    "\n",
    "#     _, loss_val = sess.run([train_step, loss], feed_dict={X: X_mb, y: y_mb})\n",
    "\n",
    "#     if i % 100 == 0:\n",
    "#         y_pred = sess.run(forward_step, feed_dict={X: X_val})\n",
    "#         acc = accuracy(y_val, y_pred)\n",
    "\n",
    "#         print('Iter: {} Loss: {:.4f} Validation: {}'.format(i, loss_val, acc))"
   ]
  },
  {
   "cell_type": "code",
   "execution_count": 38,
   "metadata": {},
   "outputs": [],
   "source": [
    "from tqdm import tqdm_notebook"
   ]
  },
  {
   "cell_type": "code",
   "execution_count": 39,
   "metadata": {
    "scrolled": true
   },
   "outputs": [
    {
     "data": {
      "application/vnd.jupyter.widget-view+json": {
       "model_id": "1f7b1da58754431c8f92199ae8aaae47",
       "version_major": 2,
       "version_minor": 0
      },
      "text/html": [
       "<p>Failed to display Jupyter Widget of type <code>HBox</code>.</p>\n",
       "<p>\n",
       "  If you're reading this message in the Jupyter Notebook or JupyterLab Notebook, it may mean\n",
       "  that the widgets JavaScript is still loading. If this message persists, it\n",
       "  likely means that the widgets JavaScript library is either not installed or\n",
       "  not enabled. See the <a href=\"https://ipywidgets.readthedocs.io/en/stable/user_install.html\">Jupyter\n",
       "  Widgets Documentation</a> for setup instructions.\n",
       "</p>\n",
       "<p>\n",
       "  If you're reading this message in another frontend (for example, a static\n",
       "  rendering on GitHub or <a href=\"https://nbviewer.jupyter.org/\">NBViewer</a>),\n",
       "  it may mean that your frontend doesn't currently support widgets.\n",
       "</p>\n"
      ],
      "text/plain": [
       "HBox(children=(IntProgress(value=0, max=550), HTML(value='')))"
      ]
     },
     "metadata": {},
     "output_type": "display_data"
    },
    {
     "name": "stdout",
     "output_type": "stream",
     "text": [
      "\n",
      "Epoch: 0001 cost= 0.801890662\n"
     ]
    },
    {
     "data": {
      "application/vnd.jupyter.widget-view+json": {
       "model_id": "c00ed7c69c984483b8774d4c6d46b10a",
       "version_major": 2,
       "version_minor": 0
      },
      "text/html": [
       "<p>Failed to display Jupyter Widget of type <code>HBox</code>.</p>\n",
       "<p>\n",
       "  If you're reading this message in the Jupyter Notebook or JupyterLab Notebook, it may mean\n",
       "  that the widgets JavaScript is still loading. If this message persists, it\n",
       "  likely means that the widgets JavaScript library is either not installed or\n",
       "  not enabled. See the <a href=\"https://ipywidgets.readthedocs.io/en/stable/user_install.html\">Jupyter\n",
       "  Widgets Documentation</a> for setup instructions.\n",
       "</p>\n",
       "<p>\n",
       "  If you're reading this message in another frontend (for example, a static\n",
       "  rendering on GitHub or <a href=\"https://nbviewer.jupyter.org/\">NBViewer</a>),\n",
       "  it may mean that your frontend doesn't currently support widgets.\n",
       "</p>\n"
      ],
      "text/plain": [
       "HBox(children=(IntProgress(value=0, max=550), HTML(value='')))"
      ]
     },
     "metadata": {},
     "output_type": "display_data"
    },
    {
     "name": "stdout",
     "output_type": "stream",
     "text": [
      "\n",
      "Epoch: 0002 cost= 0.109185281\n"
     ]
    }
   ],
   "source": [
    "for epoch in range(training_epochs):\n",
    "    avg_cost = 0\n",
    "    for _ in tqdm_notebook(range(num_batch)):\n",
    "        train_X, train_ys = mnist.train.next_batch(batch_size)\n",
    "        trainer.run(feed_dict={X:train_X, t:train_ys})\n",
    "        avg_cost += loss.eval(feed_dict={X:train_X, t:train_ys}) / num_batch\n",
    "\n",
    "    print(\"Epoch:\", '%04d' % (epoch+1), \"cost=\", \"{:.9f}\".format(avg_cost), flush=True)"
   ]
  },
  {
   "cell_type": "code",
   "execution_count": 41,
   "metadata": {
    "collapsed": true
   },
   "outputs": [],
   "source": [
    "test_x = mnist.test.images[:batch_size]\n",
    "test_t = mnist.test.labels[:batch_size]"
   ]
  },
  {
   "cell_type": "code",
   "execution_count": 46,
   "metadata": {
    "collapsed": true
   },
   "outputs": [],
   "source": [
    "def accuracy(network, t):\n",
    "    \n",
    "    t_predict = tf.argmax(network, axis=1)\n",
    "    t_actual = tf.argmax(t, axis=1)\n",
    "\n",
    "    return tf.reduce_mean(tf.cast(tf.equal(t_predict, t_actual), tf.float32))"
   ]
  },
  {
   "cell_type": "code",
   "execution_count": 47,
   "metadata": {},
   "outputs": [
    {
     "data": {
      "text/plain": [
       "0.98000002"
      ]
     },
     "execution_count": 47,
     "metadata": {},
     "output_type": "execute_result"
    }
   ],
   "source": [
    "accuracy(softmax_layer, t).eval(feed_dict={X:test_x, t:test_t})"
   ]
  },
  {
   "cell_type": "markdown",
   "metadata": {},
   "source": [
    "We got an accuracy of 98%. Awesome!"
   ]
  },
  {
   "cell_type": "code",
   "execution_count": 48,
   "metadata": {
    "collapsed": true
   },
   "outputs": [],
   "source": [
    "session.close()"
   ]
  },
  {
   "cell_type": "markdown",
   "metadata": {},
   "source": [
    "---\n",
    "**dreamgonfly@gmail.com**"
   ]
  },
  {
   "cell_type": "markdown",
   "metadata": {},
   "source": [
    "<script>\n",
    "  (function(i,s,o,g,r,a,m){i['GoogleAnalyticsObject']=r;i[r]=i[r]||function(){\n",
    "  (i[r].q=i[r].q||[]).push(arguments)},i[r].l=1*new Date();a=s.createElement(o),\n",
    "  m=s.getElementsByTagName(o)[0];a.async=1;a.src=g;m.parentNode.insertBefore(a,m)\n",
    "  })(window,document,'script','https://www.google-analytics.com/analytics.js','ga');\n",
    "\n",
    "  ga('create', 'UA-91026007-1', 'auto');\n",
    "  ga('send', 'pageview');\n",
    "\n",
    "</script>"
   ]
  }
 ],
 "metadata": {
  "kernelspec": {
   "display_name": "Python 3",
   "language": "python",
   "name": "python3"
  },
  "language_info": {
   "codemirror_mode": {
    "name": "ipython",
    "version": 3
   },
   "file_extension": ".py",
   "mimetype": "text/x-python",
   "name": "python",
   "nbconvert_exporter": "python",
   "pygments_lexer": "ipython3",
   "version": "3.6.4"
  },
  "widgets": {
   "state": {
    "065d38bfc86543d6bc25b291f29108e4": {
     "views": [
      {
       "cell_index": 55
      }
     ]
    },
    "0b05e2f081a449d189273f1ed62c90c1": {
     "views": [
      {
       "cell_index": 55
      }
     ]
    }
   },
   "version": "1.2.0"
  }
 },
 "nbformat": 4,
 "nbformat_minor": 1
}
