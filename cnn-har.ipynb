{
 "cells": [
  {
   "cell_type": "code",
   "execution_count": 1,
   "metadata": {},
   "outputs": [
    {
     "name": "stdout",
     "output_type": "stream",
     "text": [
      "TensorFlow Version: 1.4.1\n",
      "Default GPU Device: /device:GPU:0\n"
     ]
    }
   ],
   "source": [
    "# GPUs or CPU\n",
    "import tensorflow as tf\n",
    "\n",
    "# Check TensorFlow Version\n",
    "print('TensorFlow Version: {}'.format(tf.__version__))\n",
    "\n",
    "# Check for a GPU\n",
    "print('Default GPU Device: {}'.format(tf.test.gpu_device_name()))"
   ]
  },
  {
   "cell_type": "code",
   "execution_count": 11,
   "metadata": {},
   "outputs": [
    {
     "name": "stdout",
     "output_type": "stream",
     "text": [
      "0.0 0.16675734494015235 0.1459466811751904 0.13411316648531013 0.1749183895538629 0.1868879216539717 0.1913764961915125 0.0\n"
     ]
    }
   ],
   "source": [
    "# Input data\n",
    "import numpy as np\n",
    "from utilities import *\n",
    "\n",
    "# test and train read\n",
    "X_train_valid, Y_train_valid, list_ch_train_valid = read_data(data_path=\"../../datasets/har-data/\", \n",
    "                                                              split=\"train\")\n",
    "X_test, Y_test, list_ch_test = read_data(data_path=\"../../datasets/har-data/\", split=\"test\")\n",
    "\n",
    "assert list_ch_train_valid == list_ch_test, \"Mistmatch in channels!\"\n",
    "assert Y_train_valid.max(axis=0) == Y_test.max(axis=0)\n",
    "\n",
    "print(np.mean(Y_train_valid==0), np.mean(Y_train_valid==1), np.mean(Y_train_valid==2), \n",
    "      np.mean(Y_train_valid==3), np.mean(Y_train_valid==4), np.mean(Y_train_valid==5),\n",
    "      np.mean(Y_train_valid==6), np.mean(Y_train_valid==7))"
   ]
  },
  {
   "cell_type": "code",
   "execution_count": 12,
   "metadata": {},
   "outputs": [
    {
     "name": "stdout",
     "output_type": "stream",
     "text": [
      "0.0 0.16675734494015235 0.1459466811751904 0.13411316648531013 0.1749183895538629 0.1868879216539717 0.1913764961915125 0.0\n",
      "(7352, 6) float64 (2947, 6) float64\n"
     ]
    }
   ],
   "source": [
    "# Preparing input and output data\n",
    "# from utilities import *\n",
    "\n",
    "# Normalizing/standardizing the input data features\n",
    "X_train_valid_norm, X_test_norm = standardize(test=X_test, train=X_train_valid)\n",
    "\n",
    "# Onehot encoding/vectorizing the output data labels\n",
    "print(np.mean((Y_train_valid).reshape(-1)==0), np.mean((Y_train_valid).reshape(-1)==1),\n",
    "     np.mean((Y_train_valid).reshape(-1)==2), np.mean((Y_train_valid).reshape(-1)==3),\n",
    "     np.mean((Y_train_valid).reshape(-1)==4), np.mean((Y_train_valid).reshape(-1)==5),\n",
    "     np.mean((Y_train_valid).reshape(-1)==6), np.mean((Y_train_valid).reshape(-1)==7))\n",
    "\n",
    "Y_train_valid_onehot = one_hot(labels=Y_train_valid.reshape(-1), n_class=6) \n",
    "Y_test_onehot = one_hot(labels=Y_test.reshape(-1), n_class=6) \n",
    "\n",
    "print(Y_train_valid_onehot.shape, Y_train_valid_onehot.dtype, \n",
    "      Y_test_onehot.shape, Y_test_onehot.dtype)"
   ]
  },
  {
   "cell_type": "code",
   "execution_count": 13,
   "metadata": {},
   "outputs": [
    {
     "name": "stdout",
     "output_type": "stream",
     "text": [
      "(5146, 128, 9) (2206, 128, 9) (5146, 6) (2206, 6)\n"
     ]
    }
   ],
   "source": [
    "# Train and valid split\n",
    "from sklearn.model_selection import train_test_split\n",
    "\n",
    "X_train_norm, X_valid_norm, Y_train_onehot, Y_valid_onehot = train_test_split(X_train_valid_norm, \n",
    "                                                                              Y_train_valid_onehot,\n",
    "                                                                              test_size=0.30)\n",
    "\n",
    "print(X_train_norm.shape, X_valid_norm.shape, Y_train_onehot.shape, Y_valid_onehot.shape)"
   ]
  },
  {
   "cell_type": "code",
   "execution_count": 14,
   "metadata": {},
   "outputs": [
    {
     "name": "stdout",
     "output_type": "stream",
     "text": [
      "batch_size, seq_len, n_channels 51 128 9\n",
      "n_classes 6\n"
     ]
    }
   ],
   "source": [
    "## Hyperparameters\n",
    "# Input data\n",
    "batch_size = X_train_norm.shape[0]// 100 # minibatch size & number of minibatches\n",
    "seq_len = X_train_norm.shape[1] # Number of steps: each trial length\n",
    "n_channels = X_train_norm.shape[2] # number of channels in each trial\n",
    "print('batch_size, seq_len, n_channels', batch_size, seq_len, n_channels)\n",
    "\n",
    "# Output labels\n",
    "n_classes = Y_train_valid.max(axis=0)\n",
    "assert Y_train_valid.max(axis=0) == Y_test.max(axis=0)\n",
    "print('n_classes', n_classes)\n",
    "\n",
    "# learning parameters\n",
    "learning_rate = 0.0001 #1e-4\n",
    "epochs = 100 # num iterations for updating model\n",
    "keep_prob = 0.50 # 90% neurons are kept and 10% are dropped out"
   ]
  },
  {
   "cell_type": "code",
   "execution_count": 15,
   "metadata": {},
   "outputs": [],
   "source": [
    "# Feed the data from python/numpy to tensorflow framework\n",
    "inputs_ = tf.placeholder(tf.float32, [None, seq_len, n_channels], name = 'inputs_')\n",
    "labels_ = tf.placeholder(tf.float32, [None, n_classes], name = 'labels_')\n",
    "keep_prob_ = tf.placeholder(tf.float32, name = 'keep_prob_')\n",
    "learning_rate_ = tf.placeholder(tf.float32, name = 'learning_rate_')# Construct the LSTM inputs and LSTM cells"
   ]
  },
  {
   "cell_type": "code",
   "execution_count": 16,
   "metadata": {},
   "outputs": [
    {
     "name": "stdout",
     "output_type": "stream",
     "text": [
      "inputs_.shape, conv1.shape, max_pool_1.shape (?, 128, 9) (?, 128, 18) (?, 64, 18)\n",
      "max_pool_1.shape, conv2.shape, max_pool_2.shape (?, 64, 18) (?, 64, 36) (?, 32, 36)\n",
      "max_pool_2.shape, conv3.shape, max_pool_3.shape (?, 32, 36) (?, 32, 72) (?, 16, 72)\n",
      "max_pool_3.shape, conv4.shape, max_pool_4.shape (?, 16, 72) (?, 16, 144) (?, 8, 144)\n",
      "max_pool_4.shape, flat.shape, logits.shape (?, 8, 144) (?, 1152) (?, 6)\n"
     ]
    }
   ],
   "source": [
    "# batch_size, seq_len, n_channels: 51 128 9; n_classes: 6\n",
    "# (batch, 128, 9) --> (batch, 256, 18)\n",
    "# conv same\n",
    "# pool same: (128-2+0)/2 + 1 = (126/2)+1 = 63 + 1=64\n",
    "conv1 = tf.layers.conv1d(inputs=inputs_, filters=18, kernel_size=2, strides=1, padding='same', \n",
    "                         activation = tf.nn.relu)\n",
    "max_pool_1 = tf.layers.max_pooling1d(inputs=conv1, pool_size=2, strides=2, padding='same')\n",
    "# max_pool_1 = tf.nn.dropout(max_pool_1, keep_prob=keep_prob_)\n",
    "print('inputs_.shape, conv1.shape, max_pool_1.shape', inputs_.shape, conv1.shape, max_pool_1.shape)\n",
    "\n",
    "# (batch, 64, 18) --> (batch, 32, 36)\n",
    "# conv same\n",
    "# pool same: (64-2+0)/2 + 1 = (62/2)+1 = 31 + 1=32\n",
    "conv2 = tf.layers.conv1d(inputs=max_pool_1, filters=36, kernel_size=2, strides=1, padding='same', \n",
    "                         activation = tf.nn.relu)\n",
    "max_pool_2 = tf.layers.max_pooling1d(inputs=conv2, pool_size=2, strides=2, padding='same')\n",
    "# max_pool_2 = tf.nn.dropout(max_pool_2, keep_prob=keep_prob_)\n",
    "print('max_pool_1.shape, conv2.shape, max_pool_2.shape', max_pool_1.shape, conv2.shape, max_pool_2.shape)\n",
    "\n",
    "# (batch, 32, 36) --> (batch, 16, 72)\n",
    "# conv same\n",
    "# pool same: (32-2+0)/2 + 1 = (30/2)+1 = 15 + 1=16\n",
    "conv3 = tf.layers.conv1d(inputs=max_pool_2, filters=72, kernel_size=2, strides=1, padding='same', \n",
    "                         activation = tf.nn.relu)\n",
    "max_pool_3 = tf.layers.max_pooling1d(inputs=conv3, pool_size=2, strides=2, padding='same')\n",
    "# max_pool_3 = tf.nn.dropout(max_pool_3, keep_prob=keep_prob_)\n",
    "print('max_pool_2.shape, conv3.shape, max_pool_3.shape', max_pool_2.shape, conv3.shape, max_pool_3.shape)\n",
    "\n",
    "# (batch, 16, 72) --> (batch, 8, 144)\n",
    "# conv same\n",
    "# pool same: (16-2+0)/2 + 1 = (14/2)+1 = 7 + 1=8\n",
    "conv4 = tf.layers.conv1d(inputs=max_pool_3, filters=144, kernel_size=2, strides=1, padding='same', \n",
    "                         activation = tf.nn.relu)\n",
    "max_pool_4 = tf.layers.max_pooling1d(inputs=conv4, pool_size=2, strides=2, padding='same')\n",
    "# max_pool_4 = tf.nn.dropout(max_pool_4, keep_prob=keep_prob_)\n",
    "print('max_pool_3.shape, conv4.shape, max_pool_4.shape', max_pool_3.shape, conv4.shape, max_pool_4.shape)\n",
    "\n",
    "# Flatten and add dropout + predicted output\n",
    "flat = tf.reshape(max_pool_4, (-1, 8*144))\n",
    "flat = tf.nn.dropout(flat, keep_prob=keep_prob_)\n",
    "logits = tf.layers.dense(flat, n_classes)\n",
    "print('max_pool_4.shape, flat.shape, logits.shape', max_pool_4.shape, flat.shape, logits.shape)"
   ]
  },
  {
   "cell_type": "code",
   "execution_count": 17,
   "metadata": {},
   "outputs": [
    {
     "name": "stdout",
     "output_type": "stream",
     "text": [
      "cost_tensor, cost Tensor(\"Reshape_3:0\", shape=(?,), dtype=float32) Tensor(\"Mean:0\", shape=(), dtype=float32)\n",
      "optimizer name: \"Adam\"\n",
      "op: \"NoOp\"\n",
      "input: \"^Adam/update_conv1d/kernel/ApplyAdam\"\n",
      "input: \"^Adam/update_conv1d/bias/ApplyAdam\"\n",
      "input: \"^Adam/update_conv1d_1/kernel/ApplyAdam\"\n",
      "input: \"^Adam/update_conv1d_1/bias/ApplyAdam\"\n",
      "input: \"^Adam/update_conv1d_2/kernel/ApplyAdam\"\n",
      "input: \"^Adam/update_conv1d_2/bias/ApplyAdam\"\n",
      "input: \"^Adam/update_conv1d_3/kernel/ApplyAdam\"\n",
      "input: \"^Adam/update_conv1d_3/bias/ApplyAdam\"\n",
      "input: \"^Adam/update_dense/kernel/ApplyAdam\"\n",
      "input: \"^Adam/update_dense/bias/ApplyAdam\"\n",
      "input: \"^Adam/Assign\"\n",
      "input: \"^Adam/Assign_1\"\n",
      "\n",
      "correct_pred, accuracy Tensor(\"Equal:0\", shape=(?,), dtype=bool) Tensor(\"accuracy:0\", shape=(), dtype=float32)\n",
      "confusion_matrix Tensor(\"confusion_matrix/SparseTensorDenseAdd:0\", shape=(?, ?), dtype=int32)\n"
     ]
    }
   ],
   "source": [
    "# Backward pass: error backpropagation\n",
    "# Cost function\n",
    "cost_tensor = tf.nn.softmax_cross_entropy_with_logits(logits=logits, labels=labels_)\n",
    "cost = tf.reduce_mean(input_tensor=cost_tensor)\n",
    "print('cost_tensor, cost', cost_tensor, cost)\n",
    "\n",
    "# Optimizer\n",
    "optimizer = tf.train.AdamOptimizer(learning_rate=learning_rate_).minimize(cost)\n",
    "print('optimizer', optimizer)\n",
    "\n",
    "# Accuracy\n",
    "correct_pred = tf.equal(tf.argmax(logits, 1), tf.argmax(labels_, 1))\n",
    "accuracy = tf.reduce_mean(tf.cast(correct_pred, tf.float32), name='accuracy')\n",
    "print('correct_pred, accuracy', correct_pred, accuracy)\n",
    "\n",
    "# Confusion matrix\n",
    "confusion_matrix = tf.confusion_matrix(predictions=tf.argmax(logits, 1),\n",
    "                                       labels=tf.argmax(labels_, 1))\n",
    "print('confusion_matrix', confusion_matrix)"
   ]
  },
  {
   "cell_type": "code",
   "execution_count": null,
   "metadata": {},
   "outputs": [
    {
     "name": "stdout",
     "output_type": "stream",
     "text": [
      "Epoch: 1/100 Train loss: 1.573449 Valid loss: 1.556015 Train acc: 0.312157 Valid acc: 0.349818\n",
      "Epoch: 2/100 Train loss: 1.390195 Valid loss: 1.376072 Train acc: 0.411471 Valid acc: 0.459989\n",
      "Epoch: 3/100 Train loss: 1.258292 Valid loss: 1.239838 Train acc: 0.483203 Valid acc: 0.539840\n",
      "Epoch: 4/100 Train loss: 1.139723 Valid loss: 1.115950 Train acc: 0.538333 Valid acc: 0.600848\n",
      "Epoch: 5/100 Train loss: 1.027838 Valid loss: 1.001262 Train acc: 0.590980 Valid acc: 0.652461\n",
      "Epoch: 6/100 Train loss: 0.925564 Valid loss: 0.898638 Train acc: 0.636144 Valid acc: 0.693331\n",
      "Epoch: 7/100 Train loss: 0.838400 Valid loss: 0.812195 Train acc: 0.673277 Valid acc: 0.724680\n",
      "Epoch: 8/100 Train loss: 0.764863 Valid loss: 0.740766 Train acc: 0.703946 Valid acc: 0.749407\n",
      "Epoch: 9/100 Train loss: 0.703454 Valid loss: 0.681704 Train acc: 0.728976 Valid acc: 0.769374\n",
      "Epoch: 10/100 Train loss: 0.652153 Valid loss: 0.632562 Train acc: 0.749431 Valid acc: 0.785643\n",
      "Epoch: 11/100 Train loss: 0.608382 Valid loss: 0.591097 Train acc: 0.766934 Valid acc: 0.799416\n",
      "Epoch: 12/100 Train loss: 0.570972 Valid loss: 0.555764 Train acc: 0.781683 Valid acc: 0.810966\n",
      "Epoch: 13/100 Train loss: 0.538703 Valid loss: 0.525315 Train acc: 0.794148 Valid acc: 0.820858\n",
      "Epoch: 14/100 Train loss: 0.510389 Valid loss: 0.498781 Train acc: 0.805028 Valid acc: 0.829556\n",
      "Epoch: 15/100 Train loss: 0.485333 Valid loss: 0.475503 Train acc: 0.814523 Valid acc: 0.837113\n",
      "Epoch: 16/100 Train loss: 0.463300 Valid loss: 0.454934 Train acc: 0.822831 Valid acc: 0.843753\n",
      "Epoch: 17/100 Train loss: 0.443654 Valid loss: 0.436576 Train acc: 0.830334 Valid acc: 0.849682\n",
      "Epoch: 18/100 Train loss: 0.425878 Valid loss: 0.420090 Train acc: 0.837157 Valid acc: 0.855008\n",
      "Epoch: 19/100 Train loss: 0.410010 Valid loss: 0.405238 Train acc: 0.843158 Valid acc: 0.859765\n",
      "Epoch: 20/100 Train loss: 0.395410 Valid loss: 0.391754 Train acc: 0.848814 Valid acc: 0.864138\n",
      "Epoch: 21/100 Train loss: 0.382071 Valid loss: 0.379474 Train acc: 0.853782 Valid acc: 0.868106\n",
      "Epoch: 22/100 Train loss: 0.369816 Valid loss: 0.368267 Train acc: 0.858342 Valid acc: 0.871712\n",
      "Epoch: 23/100 Train loss: 0.358684 Valid loss: 0.357963 Train acc: 0.862447 Valid acc: 0.875041\n",
      "Epoch: 24/100 Train loss: 0.348386 Valid loss: 0.348484 Train acc: 0.866266 Valid acc: 0.878080\n",
      "Epoch: 25/100 Train loss: 0.338791 Valid loss: 0.339713 Train acc: 0.869820 Valid acc: 0.880893\n",
      "Epoch: 26/100 Train loss: 0.329945 Valid loss: 0.331581 Train acc: 0.873107 Valid acc: 0.883505\n",
      "Epoch: 27/100 Train loss: 0.321676 Valid loss: 0.324009 Train acc: 0.876158 Valid acc: 0.885947\n",
      "Epoch: 28/100 Train loss: 0.313866 Valid loss: 0.316955 Train acc: 0.878992 Valid acc: 0.888217\n",
      "Epoch: 29/100 Train loss: 0.306606 Valid loss: 0.310366 Train acc: 0.881758 Valid acc: 0.890326\n",
      "Epoch: 30/100 Train loss: 0.299887 Valid loss: 0.304197 Train acc: 0.884281 Valid acc: 0.892313\n",
      "Epoch: 31/100 Train loss: 0.293501 Valid loss: 0.298395 Train acc: 0.886610 Valid acc: 0.894197\n",
      "Epoch: 32/100 Train loss: 0.287459 Valid loss: 0.292935 Train acc: 0.888879 Valid acc: 0.895945\n",
      "Epoch: 33/100 Train loss: 0.281796 Valid loss: 0.287798 Train acc: 0.890951 Valid acc: 0.897584\n",
      "Epoch: 34/100 Train loss: 0.276357 Valid loss: 0.282930 Train acc: 0.892976 Valid acc: 0.899140\n",
      "Epoch: 35/100 Train loss: 0.271279 Valid loss: 0.278334 Train acc: 0.894852 Valid acc: 0.900610\n",
      "Epoch: 36/100 Train loss: 0.266497 Valid loss: 0.273979 Train acc: 0.896585 Valid acc: 0.902009\n",
      "Epoch: 37/100 Train loss: 0.261942 Valid loss: 0.269837 Train acc: 0.898251 Valid acc: 0.903343\n",
      "Epoch: 38/100 Train loss: 0.257584 Valid loss: 0.265901 Train acc: 0.899871 Valid acc: 0.904604\n",
      "Epoch: 39/100 Train loss: 0.253404 Valid loss: 0.262164 Train acc: 0.901413 Valid acc: 0.905802\n",
      "Epoch: 40/100 Train loss: 0.249405 Valid loss: 0.258596 Train acc: 0.902877 Valid acc: 0.906944\n",
      "Epoch: 41/100 Train loss: 0.245627 Valid loss: 0.255195 Train acc: 0.904247 Valid acc: 0.908026\n",
      "Epoch: 42/100 Train loss: 0.242006 Valid loss: 0.251946 Train acc: 0.905542 Valid acc: 0.909072\n",
      "Epoch: 43/100 Train loss: 0.238528 Valid loss: 0.248832 Train acc: 0.906872 Valid acc: 0.910079\n",
      "Epoch: 44/100 Train loss: 0.235164 Valid loss: 0.245847 Train acc: 0.908133 Valid acc: 0.911038\n",
      "Epoch: 45/100 Train loss: 0.232009 Valid loss: 0.242986 Train acc: 0.909320 Valid acc: 0.911958\n",
      "Epoch: 46/100 Train loss: 0.228921 Valid loss: 0.240240 Train acc: 0.910460 Valid acc: 0.912839\n",
      "Epoch: 47/100 Train loss: 0.225983 Valid loss: 0.237591 Train acc: 0.911556 Valid acc: 0.913683\n",
      "Epoch: 48/100 Train loss: 0.223111 Valid loss: 0.235038 Train acc: 0.912622 Valid acc: 0.914495\n",
      "Epoch: 49/100 Train loss: 0.220368 Valid loss: 0.232620 Train acc: 0.913621 Valid acc: 0.915262\n",
      "Epoch: 50/100 Train loss: 0.217700 Valid loss: 0.230254 Train acc: 0.914635 Valid acc: 0.916014\n",
      "Epoch: 51/100 Train loss: 0.215097 Valid loss: 0.227983 Train acc: 0.915586 Valid acc: 0.916731\n",
      "Epoch: 52/100 Train loss: 0.212611 Valid loss: 0.225786 Train acc: 0.916489 Valid acc: 0.917416\n",
      "Epoch: 53/100 Train loss: 0.210215 Valid loss: 0.223669 Train acc: 0.917355 Valid acc: 0.918086\n",
      "Epoch: 54/100 Train loss: 0.207890 Valid loss: 0.221618 Train acc: 0.918235 Valid acc: 0.918730\n",
      "Epoch: 55/100 Train loss: 0.205630 Valid loss: 0.219631 Train acc: 0.919062 Valid acc: 0.919346\n",
      "Epoch: 56/100 Train loss: 0.203446 Valid loss: 0.217720 Train acc: 0.919867 Valid acc: 0.919943\n",
      "Epoch: 57/100 Train loss: 0.201320 Valid loss: 0.215863 Train acc: 0.920636 Valid acc: 0.920518\n",
      "Epoch: 58/100 Train loss: 0.199237 Valid loss: 0.214053 Train acc: 0.921400 Valid acc: 0.921083\n",
      "Epoch: 59/100 Train loss: 0.197239 Valid loss: 0.212302 Train acc: 0.922110 Valid acc: 0.921619\n",
      "Epoch: 60/100 Train loss: 0.195302 Valid loss: 0.210604 Train acc: 0.922840 Valid acc: 0.922141\n",
      "Epoch: 61/100 Train loss: 0.193431 Valid loss: 0.208951 Train acc: 0.923533 Valid acc: 0.922648\n",
      "Epoch: 62/100 Train loss: 0.191586 Valid loss: 0.207348 Train acc: 0.924175 Valid acc: 0.923133\n"
     ]
    }
   ],
   "source": [
    "train_acc, train_loss = [], []\n",
    "valid_acc, valid_loss = [], []\n",
    "\n",
    "# Save the training result or trained and validated model params\n",
    "saver = tf.train.Saver()\n",
    "\n",
    "with tf.Session() as sess:\n",
    "    sess.run(tf.global_variables_initializer())\n",
    "   \n",
    "    # Loop over epochs\n",
    "    for e in range(epochs):\n",
    "        \n",
    "        # Loop over batches\n",
    "        for x, y in get_batches(X_train_norm, Y_train_onehot, batch_size):\n",
    "            \n",
    "            ######################## Training\n",
    "            # Feed dictionary\n",
    "            feed = {inputs_ : x, labels_ : y, keep_prob_ : keep_prob, learning_rate_ : learning_rate}\n",
    "            \n",
    "            # Loss\n",
    "            loss, _ , acc = sess.run([cost, optimizer, accuracy], feed_dict = feed)\n",
    "            train_acc.append(acc)\n",
    "            train_loss.append(loss)\n",
    "            \n",
    "            ################## Validation\n",
    "            acc_batch = []\n",
    "            loss_batch = []    \n",
    "            # Loop over batches\n",
    "            for x, y in get_batches(X_valid_norm, Y_valid_onehot, batch_size):\n",
    "\n",
    "                # Feed dictionary\n",
    "                feed = {inputs_ : x, labels_ : y, keep_prob_ : 1.0}\n",
    "\n",
    "                # Loss\n",
    "                loss, acc = sess.run([cost, accuracy], feed_dict = feed)\n",
    "                acc_batch.append(acc)\n",
    "                loss_batch.append(loss)\n",
    "\n",
    "            # Store\n",
    "            valid_acc.append(np.mean(acc_batch))\n",
    "            valid_loss.append(np.mean(loss_batch))\n",
    "            \n",
    "        # Print info for every iter/epoch\n",
    "        print(\"Epoch: {}/{}\".format(e+1, epochs),\n",
    "              \"Train loss: {:6f}\".format(np.mean(train_loss)),\n",
    "              \"Valid loss: {:.6f}\".format(np.mean(valid_loss)),\n",
    "              \"Train acc: {:6f}\".format(np.mean(train_acc)),\n",
    "              \"Valid acc: {:.6f}\".format(np.mean(valid_acc)))\n",
    "                \n",
    "    saver.save(sess,\".checkpoints-dcnn/har.ckpt\")"
   ]
  },
  {
   "cell_type": "code",
   "execution_count": 15,
   "metadata": {},
   "outputs": [
    {
     "data": {
      "image/png": "[encoded data removed]",
      "text/plain": [
       "<matplotlib.figure.Figure at 0x7f1e92161cc0>"
      ]
     },
     "metadata": {},
     "output_type": "display_data"
    }
   ],
   "source": [
    "import matplotlib.pyplot as mplot\n",
    "\n",
    "mplot.plot(train_loss, label='har train_loss')\n",
    "mplot.plot(valid_loss, label='har valid_loss')\n",
    "mplot.legend()\n",
    "mplot.show()"
   ]
  },
  {
   "cell_type": "code",
   "execution_count": 16,
   "metadata": {},
   "outputs": [
    {
     "data": {
      "image/png": "[encoded data removed]",
      "text/plain": [
       "<matplotlib.figure.Figure at 0x7f1e300d54a8>"
      ]
     },
     "metadata": {},
     "output_type": "display_data"
    }
   ],
   "source": [
    "# import matplotlib.pyplot as mplot\n",
    "mplot.plot(train_acc, label='har train_acc')\n",
    "mplot.plot(valid_acc, label='har valid_acc')\n",
    "mplot.legend()\n",
    "mplot.show()"
   ]
  },
  {
   "cell_type": "code",
   "execution_count": 17,
   "metadata": {},
   "outputs": [
    {
     "name": "stdout",
     "output_type": "stream",
     "text": [
      "INFO:tensorflow:Restoring parameters from checkpoints-dcnn/har.ckpt\n",
      "Test loss: 0.297591 Test acc: 0.925697\n"
     ]
    }
   ],
   "source": [
    "test_acc, test_loss = [], []\n",
    "\n",
    "with tf.Session() as sess:\n",
    "    # Restore the validated model\n",
    "    saver.restore(sess, tf.train.latest_checkpoint('checkpoints-dcnn'))\n",
    "    \n",
    "    ################## Test\n",
    "    acc_batch = []\n",
    "    loss_batch = []    \n",
    "    # Loop over batches\n",
    "    for x, y in get_batches(X_test_norm, Y_test_onehot, batch_size):\n",
    "\n",
    "        # Feed dictionary\n",
    "        feed = {inputs_ : x, labels_ : y, keep_prob_ : 1.0}\n",
    "\n",
    "        # Loss\n",
    "        loss, acc = sess.run([cost, accuracy], feed_dict = feed)\n",
    "        acc_batch.append(acc)\n",
    "        loss_batch.append(loss)\n",
    "\n",
    "    # Store\n",
    "    test_acc.append(np.mean(acc_batch))\n",
    "    test_loss.append(np.mean(loss_batch))\n",
    "\n",
    "    # Print info for every iter/epoch\n",
    "    print(\"Test loss: {:6f}\".format(np.mean(test_loss)),\n",
    "          \"Test acc: {:.6f}\".format(np.mean(test_acc)))"
   ]
  },
  {
   "cell_type": "code",
   "execution_count": null,
   "metadata": {},
   "outputs": [],
   "source": []
  }
 ],
 "metadata": {
  "kernelspec": {
   "display_name": "Python 3",
   "language": "python",
   "name": "python3"
  },
  "language_info": {
   "codemirror_mode": {
    "name": "ipython",
    "version": 3
   },
   "file_extension": ".py",
   "mimetype": "text/x-python",
   "name": "python",
   "nbconvert_exporter": "python",
   "pygments_lexer": "ipython3",
   "version": "3.6.4"
  }
 },
 "nbformat": 4,
 "nbformat_minor": 2
}
