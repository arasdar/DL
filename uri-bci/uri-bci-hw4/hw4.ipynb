{
 "cells": [
  {
   "cell_type": "markdown",
   "metadata": {},
   "source": [
    "# Brain-Computer Interfaces (Fall 2017, ELE 594) \n",
    "# Instructor: Yalda Shahriari  4th homework, 11/24/17 \n",
    "# (The homework, is due by Dec 3th, 11:55 pm). "
   ]
  },
  {
   "cell_type": "markdown",
   "metadata": {},
   "source": [
    "In this part use the dataset you recorded yourselves for movement/rest conditions.   \n",
    "1- (a) The data has been parsed by the left hand/right hand/feet/rest conditions. \n",
    "\n",
    "Compute the PSD of each condition for channels C3, C4, and Cz \n",
    "(compute the spectrum for each trial and average the spectra for each condition). \n",
    "\n",
    "For each channel, plot the resulting power spectral from 5-30 Hz for all conditions same plot, with separate subplots for each channel. \n",
    "Repeat for all subjects. \n",
    "\n",
    "Be sure to use common axes with clear labels for each subject. \n",
    "\n",
    "Hint: For PSD use 256-pt pwelch Matlab function. For parameters, use windows of 1-second with 50% overlap. \n",
    "\n",
    "All the PSD plots should be in 10log10 scale.  \n",
    "(b) Repeat step \n",
    "(a) by applying a Common Average Reference (CAR) Filter. \n",
    "(c) Identify the peak alpha (8-12 Hz) and beta (13-30 Hz) frequencies for each subject and plot the topographies for each peak frequency and condition. Use separate subplots and colorbars for each subject. \n",
    "(d) Provide comments, observations, and comparisons for each step in a separate typed document.  "
   ]
  },
  {
   "cell_type": "markdown",
   "metadata": {},
   "source": [
    "2- (a) Using the spectral estimation approach from step (1-b), \n",
    "extract the following four features: alpha-band bin from channel C3, beta-band bin from channel C3, alpha-band bin from channel C4, beta-band bin from channel C4. \n",
    "\n",
    "Use the trial averages as the observations. \n",
    "Using all of the data, compute the Pearson’s correlation coefficient between each of the features and the trial label (i.e., +1 for right hand trial, -1 for left hand trial). \n",
    "(b) Randomly select 70% of the data for training and the rest for test. \n",
    "Using the training data features, determine the mean of each class. \n",
    "\n",
    "Classify the test data based on the Euclidean distance from each class mean. \n",
    "\n",
    "Determine the overall performance (sensitivity, specificity, and accuracy).  \n",
    "\n",
    "Hint: 𝑆𝑝𝑒𝑐𝑖𝑓𝑖𝑐𝑖𝑡𝑦= 𝑇𝑁𝑇𝑁+𝐹𝑃,𝑆𝑒𝑛𝑠𝑖𝑡𝑖𝑣𝑖𝑡𝑦= 𝑇𝑃𝑇𝑃+𝐹𝑁,𝐴𝑐𝑐𝑢𝑟𝑎𝑐𝑦=𝑇𝑃+𝑇𝑁𝑇𝑃+𝑇𝑁+𝐹𝑃+𝐹𝑁 where TP is true positive, TN is true negative, FP is false positive, and FN is false negative. \n",
    "\n",
    "(c) Construct a naïve Bayesian classifier using the training data and compute the performance of the classifier when applied to the testing data. \n",
    "\n",
    "Optional (extra 10% credit): Repeat step (c) using a Fisher Linear Discriminant classifier. "
   ]
  },
  {
   "cell_type": "code",
   "execution_count": null,
   "metadata": {
    "collapsed": true
   },
   "outputs": [],
   "source": []
  }
 ],
 "metadata": {
  "kernelspec": {
   "display_name": "Python 3",
   "language": "python",
   "name": "python3"
  },
  "language_info": {
   "codemirror_mode": {
    "name": "ipython",
    "version": 3
   },
   "file_extension": ".py",
   "mimetype": "text/x-python",
   "name": "python",
   "nbconvert_exporter": "python",
   "pygments_lexer": "ipython3",
   "version": "3.6.2"
  }
 },
 "nbformat": 4,
 "nbformat_minor": 2
}
