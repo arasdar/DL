{
 "cells": [
  {
   "cell_type": "code",
   "execution_count": 3,
   "metadata": {},
   "outputs": [],
   "source": [
    "#-------------------------------------------------------------------------------\n",
    "# Name:        CSC492 - Coding Assignment #1\n",
    "# Purpose:\n",
    "#\n",
    "# Author:      Marion\n",
    "#\n",
    "# Created:     13/10/2017\n",
    "# Copyright:   (c) Marion 2017\n",
    "# Licence:     <your licence>\n",
    "#-------------------------------------------------------------------------------\n",
    "\n",
    "import csv\n",
    "import numpy as np\n",
    "from numpy.random import randn\n",
    "\n",
    "#seed the random numbers to help debbugging\n",
    "\n",
    "np.random.seed(1)\n",
    "\n",
    "#define hyperparameters\n",
    "\n",
    "LEARNING_RATE = 0.01\n",
    "NB_FEATURES = 26\n",
    "NB_TRAININGEX = 13000\n",
    "NB_CLASSES = 13\n",
    "NB_HIDDEN_NEURONS = 16\n",
    "NB_TEST = 10400\n",
    "\n",
    "#getting the test data from the csv file\n",
    "testDatatemp = np.loadtxt(open(\"../../arasdar-DL-git/data/kaggle-music-genre/test.x.csv\",\"rb\"), dtype =np.float16,delimiter = ',',skiprows=1, usecols=range(1,27))\n",
    "\n",
    "#invert testData to get a 26 * 13000 matrix\n",
    "testDatatemp = testDatatemp.T\n",
    "\n",
    "#getting the input data from the csv file\n",
    "input = np.loadtxt(open(\"../../arasdar-DL-git/data/kaggle-music-genre/train.x.csv\",\"rb\"), dtype =np.float16,delimiter = ',',skiprows=1, usecols=range(1,27))\n",
    "\n",
    "# #invert input to get a 26 * 10400 matrix\n",
    "# input = input.T\n",
    "\n",
    "#adding a line of ones for the bias term in the input training array, we get a 27 * 13000 matrix\n",
    "# inputBias = np.ones((1,NB_TRAININGEX))\n",
    "# inputFinal = np.vstack((inputBias,input))\n",
    "inputFinal = input.T\n",
    "\n",
    "#adding a line of ones for the bias term in the input testing array, we get a 27 * 13000 matrix\n",
    "testBias = np.ones((1,NB_TEST))\n",
    "testData = np.vstack((testBias,testDatatemp))\n",
    "\n",
    "#getting the output data from the csv file\n",
    "outputtemp = np.genfromtxt(open(\"../../arasdar-DL-git/data/kaggle-music-genre/train.y.csv\",\"rb\"), dtype = 'str', delimiter=',',skip_header=1, usecols=(1))\n",
    "output = np.zeros((NB_CLASSES,NB_TRAININGEX))"
   ]
  },
  {
   "cell_type": "code",
   "execution_count": 13,
   "metadata": {},
   "outputs": [
    {
     "data": {
      "text/plain": [
       "((13, 13000), (26, 13000), (1, 13000), (1, 10400), (26, 10400), (27, 10400))"
      ]
     },
     "execution_count": 13,
     "metadata": {},
     "output_type": "execute_result"
    }
   ],
   "source": [
    "output.shape, inputFinal.shape, inputBias.shape, testBias.shape, testDatatemp.shape, testData.shape"
   ]
  },
  {
   "cell_type": "code",
   "execution_count": 14,
   "metadata": {},
   "outputs": [
    {
     "data": {
      "text/plain": [
       "(26, 13000)"
      ]
     },
     "execution_count": 14,
     "metadata": {},
     "output_type": "execute_result"
    }
   ],
   "source": [
    "inputFinal.shape"
   ]
  },
  {
   "cell_type": "code",
   "execution_count": 23,
   "metadata": {
    "collapsed": true
   },
   "outputs": [],
   "source": [
    "#initializing all the weigths randomly\n",
    "syn1 = np.random.random((NB_FEATURES,NB_HIDDEN_NEURONS))\n",
    "syn2 = np.random.random((NB_HIDDEN_NEURONS, NB_CLASSES))\n",
    "# bias1 = np.zeros()"
   ]
  },
  {
   "cell_type": "code",
   "execution_count": 24,
   "metadata": {},
   "outputs": [
    {
     "data": {
      "text/plain": [
       "((26, 16), (16, 13))"
      ]
     },
     "execution_count": 24,
     "metadata": {},
     "output_type": "execute_result"
    }
   ],
   "source": [
    "syn1.shape, syn2.shape, #syn2, syn1"
   ]
  },
  {
   "cell_type": "code",
   "execution_count": 25,
   "metadata": {
    "collapsed": true
   },
   "outputs": [],
   "source": [
    "#initializing the output matrix for the training data, we map the classes, we get a 13 * 13000 matrix, 1 for the good class, 0 for the others\n",
    "j = 0\n",
    "while j < NB_TRAININGEX:\n",
    "\tstr = outputtemp[j]\n",
    "\tif str == 'International':\n",
    "\t\toutput[0,j] = 1\n",
    "\tif str == 'Vocal':\n",
    "\t\toutput[1,j] = 1\n",
    "\tif str == 'Latin':\n",
    "\t\toutput[2,j] = 1\n",
    "\tif str == 'Blues':\n",
    "\t\toutput[3,j] = 1\n",
    "\tif str == 'Country':\n",
    "\t\toutput[4,j] = 1\n",
    "\tif str == 'Electronic':\n",
    "\t\toutput[5,j] = 1\n",
    "\tif str == 'Folk':\n",
    "\t\toutput[6,j] = 1\n",
    "\tif str == 'Jazz':\n",
    "\t\toutput[7,j] = 1\n",
    "\tif str == 'New_Age':\n",
    "\t\toutput[8,j] = 1\n",
    "\tif str == 'Pop_Rock':\n",
    "\t\toutput[9,j] = 1\n",
    "\tif str == 'Rap':\n",
    "\t\toutput[10,j] = 1\n",
    "\tif str == 'Reggae':\n",
    "\t\toutput[11,j] = 1\n",
    "\tif str == 'RnB':\n",
    "\t\toutput[12,j] = 1\n",
    "\tj = j+1\n",
    "\n",
    "#values for reference\n",
    "#international = 0\n",
    "#vocal = 1\n",
    "#latin = 2\n",
    "#blues = 3\n",
    "#country = 4\n",
    "#electronic = 5\n",
    "#folk = 6\n",
    "#jazz= 7\n",
    "#new-age=8\n",
    "#pop_rock = 9\n",
    "#rap = 10\n",
    "#reggae = 11\n",
    "#rnb = 12"
   ]
  },
  {
   "cell_type": "code",
   "execution_count": 26,
   "metadata": {
    "collapsed": true
   },
   "outputs": [],
   "source": [
    "def sigmoid(x):\n",
    "\treturn 1/(1 + np.exp(-x))\n",
    "\n",
    "def sigmoidDeriv(x):\n",
    "\treturn x *(1 - x)"
   ]
  },
  {
   "cell_type": "code",
   "execution_count": null,
   "metadata": {
    "collapsed": true
   },
   "outputs": [],
   "source": [
    "#1 hidden layer = 2 synapses = 2 \n",
    "def forwardPass (inputLayer, weights1, weigths2):\n",
    "\n",
    "\thiddenLayer = weights1.T.dot(inputLayer)\n",
    "\n",
    "\t# apply sigmoid on all activations\n",
    "\t#no sigmoid on bias term so initialize i at 1\n",
    "\ti = 1 \n",
    "\twhile i < NB_HIDDEN_NEURONS:\n",
    "\t\thiddenLayer[i] = sigmoid(hiddenLayer[i])\n",
    "\t\ti = i + 1\n",
    "\t\n",
    "\t#add line of ones for the bias term\t\n",
    "\tbias = np.ones((1, inputLayer.shape[1]))\n",
    "\thiddenLayer = np.vstack((hiddenLayer,bias))\n",
    "\tresult = weigths2.T.dot(hiddenLayer)\n",
    "\n",
    "\t# apply sigmoid on all activations\n",
    "\t#no sigmoid on bias term so initialize i at 1\n",
    "\ti = 1 \n",
    "\twhile i < NB_CLASSES:\n",
    "\t\tresult[i] = sigmoid(result[i])\n",
    "\t\ti = i + 1\n",
    "\t\t\n",
    "\t#normalize the data\t\n",
    "\ti = 0\n",
    "\tsum = np.sum(result)\n",
    "\twhile i < NB_CLASSES:\n",
    "\t\tresult[i] = result[i]/sum\n",
    "\t\ti = i+1\n",
    "\treturn result\n",
    "\n",
    "result2 = forwardPass(inputFinal,syn1,syn2)\n",
    "\n",
    "#calculate the error\n",
    "\n",
    "#def errorCalcul(desiredOutput, algorithmOutput, numberClasses):\n",
    "#\terror = np.zeros((1,NB_TRAININGEX))\n",
    "#\tfor j in range(numberClasses):\n",
    "#\t\terror[j]= desiredOutput[1,j]*np.log(algorithmOutput[j])\n",
    "#\treturn error\n",
    "\n",
    "#error2 = errorCalcul(output,result2,NB_CLASSES)\n",
    "\n",
    "#testing\n",
    "\n",
    "testing = forwardPass(testData,syn1,syn2)\n",
    "testing = testing.T\n",
    "\n",
    "#add index column\n",
    "finalOutput = np.zeros((NB_TEST,NB_CLASSES+1))\n",
    "i = 0\n",
    "while i < NB_TEST:\n",
    "\tfinalOutput[i] = np.hstack((i+1,testing[i]))\n",
    "\ti = i + 1\n",
    "\n",
    "finalOutput.astype(np.int32)\n",
    "\n",
    "#test data\n",
    "with open('submission.csv','a') as f_handle:\n",
    "\tnp.savetxt(f_handle, finalOutput, fmt='%i,%1.4f,%1.4f,%1.4f,%1.4f,%1.4f,%1.4f,%1.4f,%1.4f,%1.4f,%1.4f,%1.4f,%1.4f,%1.4f',delimiter=\",\")"
   ]
  }
 ],
 "metadata": {
  "kernelspec": {
   "display_name": "Python 3",
   "language": "python",
   "name": "python3"
  },
  "language_info": {
   "codemirror_mode": {
    "name": "ipython",
    "version": 3
   },
   "file_extension": ".py",
   "mimetype": "text/x-python",
   "name": "python",
   "nbconvert_exporter": "python",
   "pygments_lexer": "ipython3",
   "version": "3.5.1"
  }
 },
 "nbformat": 4,
 "nbformat_minor": 2
}
