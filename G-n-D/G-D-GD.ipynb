{
 "cells": [
  {
   "cell_type": "markdown",
   "metadata": {},
   "source": [
    "# A Simple Autoencoder\n",
    "\n",
    "We'll start off by building a simple autoencoder to compress the MNIST dataset. With autoencoders, we pass input data through an encoder that makes a compressed representation of the input. Then, this representation is passed through a decoder to reconstruct the input data. Generally the encoder and decoder will be built with neural networks, then trained on example data.\n",
    "\n",
    "![Autoencoder](assets/autoencoder_1.png)\n",
    "\n",
    "In this notebook, we'll be build a simple network architecture for the encoder and decoder. Let's get started by importing our libraries and getting the dataset."
   ]
  },
  {
   "cell_type": "code",
   "execution_count": 1,
   "metadata": {},
   "outputs": [],
   "source": [
    "%matplotlib inline\n",
    "\n",
    "import numpy as np\n",
    "import tensorflow as tf\n",
    "import matplotlib.pyplot as plt"
   ]
  },
  {
   "cell_type": "code",
   "execution_count": 2,
   "metadata": {},
   "outputs": [
    {
     "name": "stdout",
     "output_type": "stream",
     "text": [
      "WARNING:tensorflow:From <ipython-input-2-a37a59f11b0d>:2: read_data_sets (from tensorflow.contrib.learn.python.learn.datasets.mnist) is deprecated and will be removed in a future version.\n",
      "Instructions for updating:\n",
      "Please use alternatives such as official/mnist/dataset.py from tensorflow/models.\n",
      "WARNING:tensorflow:From /home/arasdar/anaconda3/envs/env/lib/python3.6/site-packages/tensorflow/contrib/learn/python/learn/datasets/mnist.py:260: maybe_download (from tensorflow.contrib.learn.python.learn.datasets.base) is deprecated and will be removed in a future version.\n",
      "Instructions for updating:\n",
      "Please write your own downloading logic.\n",
      "WARNING:tensorflow:From /home/arasdar/anaconda3/envs/env/lib/python3.6/site-packages/tensorflow/contrib/learn/python/learn/datasets/mnist.py:262: extract_images (from tensorflow.contrib.learn.python.learn.datasets.mnist) is deprecated and will be removed in a future version.\n",
      "Instructions for updating:\n",
      "Please use tf.data to implement this functionality.\n",
      "Extracting MNIST_data/train-images-idx3-ubyte.gz\n",
      "WARNING:tensorflow:From /home/arasdar/anaconda3/envs/env/lib/python3.6/site-packages/tensorflow/contrib/learn/python/learn/datasets/mnist.py:267: extract_labels (from tensorflow.contrib.learn.python.learn.datasets.mnist) is deprecated and will be removed in a future version.\n",
      "Instructions for updating:\n",
      "Please use tf.data to implement this functionality.\n",
      "Extracting MNIST_data/train-labels-idx1-ubyte.gz\n",
      "Extracting MNIST_data/t10k-images-idx3-ubyte.gz\n",
      "Extracting MNIST_data/t10k-labels-idx1-ubyte.gz\n",
      "WARNING:tensorflow:From /home/arasdar/anaconda3/envs/env/lib/python3.6/site-packages/tensorflow/contrib/learn/python/learn/datasets/mnist.py:290: DataSet.__init__ (from tensorflow.contrib.learn.python.learn.datasets.mnist) is deprecated and will be removed in a future version.\n",
      "Instructions for updating:\n",
      "Please use alternatives such as official/mnist/dataset.py from tensorflow/models.\n"
     ]
    }
   ],
   "source": [
    "from tensorflow.examples.tutorials.mnist import input_data\n",
    "mnist = input_data.read_data_sets('MNIST_data')"
   ]
  },
  {
   "cell_type": "markdown",
   "metadata": {},
   "source": [
    "Below I'm plotting an example image from the MNIST dataset. These are 28x28 grayscale images of handwritten digits."
   ]
  },
  {
   "cell_type": "code",
   "execution_count": 3,
   "metadata": {},
   "outputs": [
    {
     "data": {
      "text/plain": [
       "<matplotlib.image.AxesImage at 0x7fe79b171ac8>"
      ]
     },
     "execution_count": 3,
     "metadata": {},
     "output_type": "execute_result"
    },
    {
     "data": {
      "image/png": "[encoded data removed]",
      "text/plain": [
       "<Figure size 432x288 with 1 Axes>"
      ]
     },
     "metadata": {},
     "output_type": "display_data"
    }
   ],
   "source": [
    "img = mnist.train.images[2]\n",
    "plt.imshow(img.reshape((28, 28)), cmap='Greys_r')"
   ]
  },
  {
   "cell_type": "code",
   "execution_count": 4,
   "metadata": {},
   "outputs": [
    {
     "data": {
      "text/plain": [
       "((55000, 784),\n",
       " dtype('float32'),\n",
       " (5000, 784),\n",
       " dtype('float32'),\n",
       " (10000, 784),\n",
       " dtype('float32'))"
      ]
     },
     "execution_count": 4,
     "metadata": {},
     "output_type": "execute_result"
    }
   ],
   "source": [
    "# Looking into the dataset training and validation and testing\n",
    "(mnist.train.images.shape, mnist.train.images.dtype, mnist.validation.images.shape, mnist.validation.images.dtype, \n",
    "mnist.test.images.shape, mnist.test.images.dtype) "
   ]
  },
  {
   "cell_type": "markdown",
   "metadata": {},
   "source": [
    "We'll train an autoencoder with these images by flattening them into 784 length vectors. The images from this dataset are already normalized such that the values are between 0 and 1. Let's start by building basically the simplest autoencoder with a **single ReLU hidden layer**. This layer will be used as the compressed representation. Then, the encoder is the input layer and the hidden layer. The decoder is the hidden layer and the output layer. Since the images are normalized between 0 and 1, we need to use a **sigmoid activation on the output layer** to get values matching the input.\n",
    "\n",
    "![Autoencoder architecture](assets/simple_autoencoder.png)\n",
    "\n",
    "\n",
    "> **Exercise:** Build the graph for the autoencoder in the cell below. The input images will be flattened into 784 length vectors. The targets are the same as the inputs. And there should be one hidden layer with a ReLU activation and an output layer with a sigmoid activation. Feel free to use TensorFlow's higher level API, `tf.layers`. For instance, you would use [`tf.layers.dense(inputs, units, activation=tf.nn.relu)`](https://www.tensorflow.org/api_docs/python/tf/layers/dense) to create a fully connected layer with a ReLU activation. The loss should be calculated with the cross-entropy loss, there is a convenient TensorFlow function for this `tf.nn.sigmoid_cross_entropy_with_logits` ([documentation](https://www.tensorflow.org/api_docs/python/tf/nn/sigmoid_cross_entropy_with_logits)). You should note that `tf.nn.sigmoid_cross_entropy_with_logits` takes the logits, but to get the reconstructed images you'll need to pass the logits through the sigmoid function."
   ]
  },
  {
   "cell_type": "code",
   "execution_count": 37,
   "metadata": {},
   "outputs": [
    {
     "name": "stdout",
     "output_type": "stream",
     "text": [
      "TensorFlow Version: 1.8.0\n",
      "Default GPU Device: /device:GPU:0\n"
     ]
    }
   ],
   "source": [
    "# In this one we should define and detect GPUs for tensorflow\n",
    "# GPUs or CPU\n",
    "import tensorflow as tf\n",
    "\n",
    "# Check TensorFlow Version\n",
    "print('TensorFlow Version: {}'.format(tf.__version__))\n",
    "\n",
    "# Check for a GPU\n",
    "print('Default GPU Device: {}'.format(tf.test.gpu_device_name()))"
   ]
  },
  {
   "cell_type": "code",
   "execution_count": 5,
   "metadata": {},
   "outputs": [
    {
     "name": "stdout",
     "output_type": "stream",
     "text": [
      "32 784\n",
      "(?, 784) <dtype: 'float32'>\n"
     ]
    }
   ],
   "source": [
    "# Size of the encoding layer (the hidden layer)\n",
    "h_units = 32\n",
    "x_units = mnist.validation.images.shape[1]\n",
    "print(h_units, x_units)\n",
    "\n",
    "# input tensor\n",
    "x = tf.placeholder(dtype=tf.float32, shape=(None, x_units))\n",
    "print(x.shape, x.dtype)"
   ]
  },
  {
   "cell_type": "code",
   "execution_count": 6,
   "metadata": {},
   "outputs": [],
   "source": [
    "def generator(x, x_units, h_units, trainable):\n",
    "\n",
    "    # input to the hidden layer: x2h\n",
    "    # encoded = tf.layers.dense(inputs_, encoding_dim, activation=tf.nn.relu)\n",
    "    initial_value = tf.random_normal(dtype=tf.float32, mean=0.0, shape=[x_units, h_units], stddev=0.1)\n",
    "    wg_x2h = tf.Variable(initial_value=initial_value, trainable=trainable)\n",
    "    print(wg_x2h.shape, wg_x2h.dtype)\n",
    "    h = tf.matmul(a=x, b=wg_x2h)\n",
    "    h = tf.maximum(x=(0.1*h), y=h)\n",
    "    print(h.shape, h.dtype)\n",
    "\n",
    "    # hidden to outout which has the input size\n",
    "    # Output layer logits\n",
    "    # logits = tf.layers.dense(encoded, image_size, activation=None)\n",
    "    initial_value = tf.random_normal(dtype=tf.float32, mean=0.0, shape=[h_units, x_units], stddev=0.1)\n",
    "    wg_h2x = tf.Variable(initial_value=initial_value, trainable=trainable)\n",
    "    print(wg_h2x.shape, wg_h2x.dtype)\n",
    "    logits = tf.matmul(a=h, b=wg_h2x)\n",
    "    # Sigmoid output from\n",
    "    out = tf.sigmoid(x=logits)\n",
    "    print(out.shape, out.dtype)\n",
    "    \n",
    "    return out, logits"
   ]
  },
  {
   "cell_type": "code",
   "execution_count": 38,
   "metadata": {},
   "outputs": [
    {
     "name": "stdout",
     "output_type": "stream",
     "text": [
      "(784, 32) <dtype: 'float32_ref'>\n",
      "(?, 32) <dtype: 'float32'>\n",
      "(32, 784) <dtype: 'float32_ref'>\n",
      "(?, 784) <dtype: 'float32'>\n"
     ]
    }
   ],
   "source": [
    "g_out, g_logits = generator(h_units=h_units, trainable=True, x=x, x_units=x_units) \n",
    "g_loss_batch = tf.nn.sigmoid_cross_entropy_with_logits(labels=x, logits=g_logits)\n",
    "g_loss = tf.reduce_mean(g_loss_batch)\n",
    "g_opt = tf.train.AdamOptimizer().minimize(g_loss)"
   ]
  },
  {
   "cell_type": "markdown",
   "metadata": {},
   "source": [
    "## Training"
   ]
  },
  {
   "cell_type": "code",
   "execution_count": 39,
   "metadata": {},
   "outputs": [],
   "source": [
    "# Create the session\n",
    "sess = tf.Session()"
   ]
  },
  {
   "cell_type": "markdown",
   "metadata": {},
   "source": [
    "Here I'll write a bit of code to train the network. I'm not too interested in validation here, so I'll just monitor the training loss and the test loss afterwards. \n",
    "\n",
    "Calling `mnist.train.next_batch(batch_size)` will return a tuple of `(images, labels)`. We're not concerned with the labels here, we just need the images. Otherwise this is pretty straightfoward training with TensorFlow. We initialize the variables with `sess.run(tf.global_variables_initializer())`. Then, run the optimizer and get the loss with `batch_cost, _ = sess.run([cost, opt], feed_dict=feed)`."
   ]
  },
  {
   "cell_type": "code",
   "execution_count": 40,
   "metadata": {},
   "outputs": [
    {
     "data": {
      "text/plain": [
       "(5000, (5000, 784), (array([[0., 0., 0., ..., 0., 0., 0.],\n",
       "         [0., 0., 0., ..., 0., 0., 0.]], dtype=float32),\n",
       "  array([2, 0], dtype=uint8)))"
      ]
     },
     "execution_count": 40,
     "metadata": {},
     "output_type": "execute_result"
    }
   ],
   "source": [
    "# Looking into the batching technique\n",
    "mnist.validation.num_examples, mnist.validation.images.shape, mnist.train.next_batch(batch_size=2)"
   ]
  },
  {
   "cell_type": "code",
   "execution_count": 41,
   "metadata": {},
   "outputs": [
    {
     "name": "stdout",
     "output_type": "stream",
     "text": [
      "Epoch: 1/100... Training loss: 0.6821 Validation loss: 0.6487\n",
      "Epoch: 2/100... Training loss: 0.6013 Validation loss: 0.5321\n",
      "Epoch: 3/100... Training loss: 0.4674 Validation loss: 0.3970\n",
      "Epoch: 4/100... Training loss: 0.3547 Validation loss: 0.3163\n",
      "Epoch: 5/100... Training loss: 0.3000 Validation loss: 0.2858\n",
      "Epoch: 6/100... Training loss: 0.2783 Validation loss: 0.2714\n",
      "Epoch: 7/100... Training loss: 0.2660 Validation loss: 0.2613\n",
      "Epoch: 8/100... Training loss: 0.2575 Validation loss: 0.2524\n",
      "Epoch: 9/100... Training loss: 0.2495 Validation loss: 0.2460\n",
      "Epoch: 10/100... Training loss: 0.2422 Validation loss: 0.2372\n",
      "Epoch: 11/100... Training loss: 0.2353 Validation loss: 0.2317\n",
      "Epoch: 12/100... Training loss: 0.2287 Validation loss: 0.2249\n",
      "Epoch: 13/100... Training loss: 0.2225 Validation loss: 0.2191\n",
      "Epoch: 14/100... Training loss: 0.2170 Validation loss: 0.2146\n",
      "Epoch: 15/100... Training loss: 0.2110 Validation loss: 0.2086\n",
      "Epoch: 16/100... Training loss: 0.2067 Validation loss: 0.2049\n",
      "Epoch: 17/100... Training loss: 0.2021 Validation loss: 0.2005\n",
      "Epoch: 18/100... Training loss: 0.1980 Validation loss: 0.1957\n",
      "Epoch: 19/100... Training loss: 0.1945 Validation loss: 0.1917\n",
      "Epoch: 20/100... Training loss: 0.1910 Validation loss: 0.1893\n",
      "Epoch: 21/100... Training loss: 0.1879 Validation loss: 0.1862\n",
      "Epoch: 22/100... Training loss: 0.1848 Validation loss: 0.1835\n",
      "Epoch: 23/100... Training loss: 0.1821 Validation loss: 0.1796\n",
      "Epoch: 24/100... Training loss: 0.1795 Validation loss: 0.1778\n",
      "Epoch: 25/100... Training loss: 0.1770 Validation loss: 0.1759\n",
      "Epoch: 26/100... Training loss: 0.1745 Validation loss: 0.1730\n",
      "Epoch: 27/100... Training loss: 0.1725 Validation loss: 0.1707\n",
      "Epoch: 28/100... Training loss: 0.1703 Validation loss: 0.1696\n",
      "Epoch: 29/100... Training loss: 0.1682 Validation loss: 0.1675\n",
      "Epoch: 30/100... Training loss: 0.1663 Validation loss: 0.1659\n",
      "Epoch: 31/100... Training loss: 0.1647 Validation loss: 0.1646\n",
      "Epoch: 32/100... Training loss: 0.1630 Validation loss: 0.1627\n",
      "Epoch: 33/100... Training loss: 0.1612 Validation loss: 0.1617\n",
      "Epoch: 34/100... Training loss: 0.1597 Validation loss: 0.1591\n",
      "Epoch: 35/100... Training loss: 0.1582 Validation loss: 0.1571\n",
      "Epoch: 36/100... Training loss: 0.1566 Validation loss: 0.1564\n",
      "Epoch: 37/100... Training loss: 0.1552 Validation loss: 0.1541\n",
      "Epoch: 38/100... Training loss: 0.1538 Validation loss: 0.1526\n",
      "Epoch: 39/100... Training loss: 0.1523 Validation loss: 0.1512\n",
      "Epoch: 40/100... Training loss: 0.1512 Validation loss: 0.1498\n",
      "Epoch: 41/100... Training loss: 0.1498 Validation loss: 0.1490\n",
      "Epoch: 42/100... Training loss: 0.1485 Validation loss: 0.1477\n",
      "Epoch: 43/100... Training loss: 0.1474 Validation loss: 0.1468\n",
      "Epoch: 44/100... Training loss: 0.1461 Validation loss: 0.1461\n",
      "Epoch: 45/100... Training loss: 0.1451 Validation loss: 0.1439\n",
      "Epoch: 46/100... Training loss: 0.1440 Validation loss: 0.1437\n",
      "Epoch: 47/100... Training loss: 0.1428 Validation loss: 0.1421\n",
      "Epoch: 48/100... Training loss: 0.1419 Validation loss: 0.1422\n",
      "Epoch: 49/100... Training loss: 0.1409 Validation loss: 0.1396\n",
      "Epoch: 50/100... Training loss: 0.1398 Validation loss: 0.1393\n",
      "Epoch: 51/100... Training loss: 0.1389 Validation loss: 0.1389\n",
      "Epoch: 52/100... Training loss: 0.1376 Validation loss: 0.1367\n",
      "Epoch: 53/100... Training loss: 0.1373 Validation loss: 0.1356\n",
      "Epoch: 54/100... Training loss: 0.1359 Validation loss: 0.1356\n",
      "Epoch: 55/100... Training loss: 0.1352 Validation loss: 0.1340\n",
      "Epoch: 56/100... Training loss: 0.1342 Validation loss: 0.1342\n",
      "Epoch: 57/100... Training loss: 0.1332 Validation loss: 0.1329\n",
      "Epoch: 58/100... Training loss: 0.1327 Validation loss: 0.1326\n",
      "Epoch: 59/100... Training loss: 0.1318 Validation loss: 0.1313\n",
      "Epoch: 60/100... Training loss: 0.1308 Validation loss: 0.1321\n",
      "Epoch: 61/100... Training loss: 0.1301 Validation loss: 0.1299\n",
      "Epoch: 62/100... Training loss: 0.1297 Validation loss: 0.1290\n",
      "Epoch: 63/100... Training loss: 0.1290 Validation loss: 0.1281\n",
      "Epoch: 64/100... Training loss: 0.1282 Validation loss: 0.1276\n",
      "Epoch: 65/100... Training loss: 0.1280 Validation loss: 0.1262\n",
      "Epoch: 66/100... Training loss: 0.1271 Validation loss: 0.1255\n",
      "Epoch: 67/100... Training loss: 0.1266 Validation loss: 0.1255\n",
      "Epoch: 68/100... Training loss: 0.1261 Validation loss: 0.1268\n",
      "Epoch: 69/100... Training loss: 0.1255 Validation loss: 0.1248\n",
      "Epoch: 70/100... Training loss: 0.1251 Validation loss: 0.1254\n",
      "Epoch: 71/100... Training loss: 0.1245 Validation loss: 0.1244\n",
      "Epoch: 72/100... Training loss: 0.1242 Validation loss: 0.1237\n",
      "Epoch: 73/100... Training loss: 0.1238 Validation loss: 0.1230\n",
      "Epoch: 74/100... Training loss: 0.1234 Validation loss: 0.1231\n",
      "Epoch: 75/100... Training loss: 0.1229 Validation loss: 0.1227\n",
      "Epoch: 76/100... Training loss: 0.1224 Validation loss: 0.1228\n",
      "Epoch: 77/100... Training loss: 0.1222 Validation loss: 0.1217\n",
      "Epoch: 78/100... Training loss: 0.1218 Validation loss: 0.1225\n",
      "Epoch: 79/100... Training loss: 0.1214 Validation loss: 0.1211\n",
      "Epoch: 80/100... Training loss: 0.1210 Validation loss: 0.1204\n",
      "Epoch: 81/100... Training loss: 0.1209 Validation loss: 0.1207\n",
      "Epoch: 82/100... Training loss: 0.1203 Validation loss: 0.1208\n",
      "Epoch: 83/100... Training loss: 0.1199 Validation loss: 0.1201\n",
      "Epoch: 84/100... Training loss: 0.1197 Validation loss: 0.1195\n",
      "Epoch: 85/100... Training loss: 0.1196 Validation loss: 0.1187\n",
      "Epoch: 86/100... Training loss: 0.1191 Validation loss: 0.1189\n",
      "Epoch: 87/100... Training loss: 0.1187 Validation loss: 0.1192\n",
      "Epoch: 88/100... Training loss: 0.1185 Validation loss: 0.1188\n",
      "Epoch: 89/100... Training loss: 0.1183 Validation loss: 0.1175\n",
      "Epoch: 90/100... Training loss: 0.1181 Validation loss: 0.1177\n",
      "Epoch: 91/100... Training loss: 0.1177 Validation loss: 0.1179\n",
      "Epoch: 92/100... Training loss: 0.1174 Validation loss: 0.1173\n",
      "Epoch: 93/100... Training loss: 0.1173 Validation loss: 0.1167\n",
      "Epoch: 94/100... Training loss: 0.1171 Validation loss: 0.1172\n",
      "Epoch: 95/100... Training loss: 0.1164 Validation loss: 0.1174\n",
      "Epoch: 96/100... Training loss: 0.1167 Validation loss: 0.1161\n",
      "Epoch: 97/100... Training loss: 0.1163 Validation loss: 0.1162\n",
      "Epoch: 98/100... Training loss: 0.1160 Validation loss: 0.1154\n",
      "Epoch: 99/100... Training loss: 0.1159 Validation loss: 0.1154\n",
      "Epoch: 100/100... Training loss: 0.1156 Validation loss: 0.1149\n"
     ]
    }
   ],
   "source": [
    "epochs = 100\n",
    "batch_size = mnist.validation.num_examples\n",
    "sess.run(fetches=tf.global_variables_initializer())\n",
    "\n",
    "train_loss_batch, valid_loss_batch = [], []\n",
    "for e in range(epochs):\n",
    "    \n",
    "    # Training batches\n",
    "    loss_batch = []\n",
    "    for _ in range(mnist.train.num_examples//batch_size):\n",
    "        Xarr, _ = mnist.train.next_batch(batch_size)\n",
    "        feed_dict = {x:Xarr}\n",
    "        lossarr, _ = sess.run(fetches=[g_loss, g_opt], feed_dict=feed_dict)\n",
    "        loss_batch.append(lossarr)\n",
    "    # Saving training loss batch\n",
    "    train_loss_batch.append(np.mean(loss_batch))\n",
    "\n",
    "    # Validation batches\n",
    "    loss_batch = []\n",
    "    for _ in range(mnist.validation.num_examples//batch_size):\n",
    "        Xarr, _ = mnist.train.next_batch(batch_size)\n",
    "        feed_dict = {x:Xarr}\n",
    "        lossarr = sess.run(fetches=g_loss, feed_dict=feed_dict)\n",
    "        loss_batch.append(lossarr)\n",
    "    # Saving training loss batch\n",
    "    valid_loss_batch.append(np.mean(loss_batch))\n",
    "\n",
    "    print(\"Epoch: {}/{}...\".format(e+1, epochs),\n",
    "          \"Training loss: {:.4f}\".format(train_loss_batch[e]),\n",
    "          \"Validation loss: {:.4f}\".format(valid_loss_batch[e]))"
   ]
  },
  {
   "cell_type": "code",
   "execution_count": 42,
   "metadata": {},
   "outputs": [
    {
     "name": "stdout",
     "output_type": "stream",
     "text": [
      "Testing loss: 0.11408872\n"
     ]
    }
   ],
   "source": [
    "# Testing the loss of the trained model\n",
    "Xtest = mnist.test.images\n",
    "lossarr = sess.run(fetches=g_loss, feed_dict={x: Xtest})\n",
    "print('Testing loss:', lossarr)"
   ]
  },
  {
   "cell_type": "markdown",
   "metadata": {},
   "source": [
    "## Checking out the results\n",
    "\n",
    "Below I've plotted some of the test images along with their reconstructions. For the most part these look pretty good except for some blurriness in some parts."
   ]
  },
  {
   "cell_type": "code",
   "execution_count": 43,
   "metadata": {},
   "outputs": [
    {
     "name": "stdout",
     "output_type": "stream",
     "text": [
      "(10, 784)\n"
     ]
    },
    {
     "data": {
      "image/png": "[encoded data removed]",
      "text/plain": [
       "<Figure size 1440x288 with 20 Axes>"
      ]
     },
     "metadata": {},
     "output_type": "display_data"
    }
   ],
   "source": [
    "fig, axes = plt.subplots(nrows=2, ncols=10, sharex=True, sharey=True, figsize=(20,4))\n",
    "in_imgs = mnist.test.images[:10]\n",
    "reconstructed = sess.run(fetches=g_out, feed_dict={x: in_imgs})\n",
    "print(reconstructed.shape)\n",
    "\n",
    "for images, row in zip([in_imgs, reconstructed], axes):\n",
    "    for img, ax in zip(images, row):\n",
    "        ax.imshow(img.reshape((28, 28)), cmap='Greys_r')\n",
    "        ax.get_xaxis().set_visible(False)\n",
    "        ax.get_yaxis().set_visible(False)\n",
    "        \n",
    "fig.tight_layout(pad=0.1)"
   ]
  },
  {
   "cell_type": "code",
   "execution_count": 44,
   "metadata": {},
   "outputs": [],
   "source": [
    "Xtest = mnist.test.images[:]\n",
    "Xtest_ = sess.run(fetches=g_out, feed_dict={x: Xtest})"
   ]
  },
  {
   "cell_type": "code",
   "execution_count": 45,
   "metadata": {},
   "outputs": [],
   "source": [
    "Xvalid = mnist.validation.images[:]\n",
    "Xvalid_ = sess.run(fetches=g_out, feed_dict={x: Xvalid})"
   ]
  },
  {
   "cell_type": "code",
   "execution_count": 46,
   "metadata": {},
   "outputs": [],
   "source": [
    "Xtrain = mnist.train.images[:]\n",
    "Xtrain_ = sess.run(fetches=g_out, feed_dict={x: Xtrain})"
   ]
  },
  {
   "cell_type": "code",
   "execution_count": 47,
   "metadata": {},
   "outputs": [],
   "source": [
    "sess.close()"
   ]
  },
  {
   "cell_type": "code",
   "execution_count": 48,
   "metadata": {},
   "outputs": [
    {
     "data": {
      "image/png": "[encoded data removed]",
      "text/plain": [
       "<Figure size 432x288 with 1 Axes>"
      ]
     },
     "metadata": {},
     "output_type": "display_data"
    }
   ],
   "source": [
    "# plotting\n",
    "plt.plot(train_loss_batch, label='train')\n",
    "plt.plot(valid_loss_batch, label='valid')\n",
    "plt.legend()\n",
    "plt.show()"
   ]
  },
  {
   "cell_type": "markdown",
   "metadata": {
    "collapsed": true
   },
   "source": [
    "## Up Next\n",
    "\n",
    "We're dealing with images here, so we can (usually) get better performance using convolution layers. So, next we'll build a better autoencoder with convolutional layers.\n",
    "\n",
    "In practice, autoencoders aren't actually better at compression compared to typical methods like JPEGs and MP3s. But, they are being used for noise reduction, which you'll also build."
   ]
  },
  {
   "cell_type": "code",
   "execution_count": 49,
   "metadata": {},
   "outputs": [],
   "source": [
    "def discriminator(x, x_units, h_units, trainable):\n",
    "    # input to hidden layer: x2h\n",
    "    initial_value = tf.random_normal(dtype=tf.float32, mean=0.0, shape=[x_units, h_units], stddev=0.1)\n",
    "    wd_x2h = tf.Variable(initial_value=initial_value, trainable=trainable)\n",
    "    print(wd_x2h.shape, wd_x2h.dtype)\n",
    "    h = tf.matmul(a=x, b=wd_x2h)\n",
    "    h = tf.maximum(x=(0.1*h), y=h)\n",
    "    print(h.shape, h.dtype)\n",
    "\n",
    "    # hidden to outout which has the input size\n",
    "    initial_value = tf.random_normal(dtype=tf.float32, mean=0.0, shape=[h_units, 2], stddev=0.1)\n",
    "    wd_h2y = tf.Variable(initial_value=initial_value, trainable=trainable)\n",
    "    print(wd_h2y.shape, wd_h2y.dtype)\n",
    "    logits = tf.matmul(a=h, b=wd_h2y)\n",
    "    # Softmax output from\n",
    "    out = tf.nn.softmax(logits)\n",
    "    print(out.shape, out.dtype)\n",
    "    \n",
    "    return out, logits"
   ]
  },
  {
   "cell_type": "code",
   "execution_count": 50,
   "metadata": {},
   "outputs": [
    {
     "name": "stdout",
     "output_type": "stream",
     "text": [
      "32 784\n",
      "(?, 784) <dtype: 'float32'>\n",
      "(?, 2) <dtype: 'uint8'>\n"
     ]
    }
   ],
   "source": [
    "# Size of the encoding layer (the hidden layer)\n",
    "h_units = 32\n",
    "x_units = mnist.validation.images.shape[1]\n",
    "print(h_units, x_units)\n",
    "\n",
    "# input tensor\n",
    "x = tf.placeholder(dtype=tf.float32, shape=(None, x_units))\n",
    "y = tf.placeholder(dtype=tf.uint8, shape=(None, 2))\n",
    "print(x.shape, x.dtype)\n",
    "print(y.shape, y.dtype)"
   ]
  },
  {
   "cell_type": "code",
   "execution_count": 51,
   "metadata": {},
   "outputs": [
    {
     "name": "stdout",
     "output_type": "stream",
     "text": [
      "(784, 32) <dtype: 'float32_ref'>\n",
      "(?, 32) <dtype: 'float32'>\n",
      "(32, 2) <dtype: 'float32_ref'>\n",
      "(?, 2) <dtype: 'float32'>\n"
     ]
    }
   ],
   "source": [
    "d_out, d_logits = discriminator(h_units=h_units, trainable=True, x=x, x_units=x_units)\n",
    "d_loss_batch = tf.nn.softmax_cross_entropy_with_logits_v2(labels=y, logits=d_logits)\n",
    "d_loss = tf.reduce_mean(d_loss_batch)\n",
    "d_opt = tf.train.AdamOptimizer().minimize(d_loss)"
   ]
  },
  {
   "cell_type": "code",
   "execution_count": 52,
   "metadata": {},
   "outputs": [
    {
     "name": "stdout",
     "output_type": "stream",
     "text": [
      "Tensor(\"ArgMax_2:0\", shape=(?,), dtype=int64)\n",
      "Tensor(\"ArgMax_3:0\", shape=(?,), dtype=int64)\n",
      "Tensor(\"Equal_1:0\", shape=(?,), dtype=bool)\n",
      "Tensor(\"Cast_1:0\", shape=(?,), dtype=float32)\n",
      "Tensor(\"Mean_5:0\", shape=(), dtype=float32)\n"
     ]
    }
   ],
   "source": [
    "# Accuracy\n",
    "Ylogits_argmax = tf.argmax(input=d_logits, axis=1)\n",
    "print(Ylogits_argmax)\n",
    "Ylabels_argmax = tf.argmax(input=y, axis=1)\n",
    "print(Ylabels_argmax)\n",
    "accuracy = tf.equal(x=Ylogits_argmax, y=Ylabels_argmax, name=None)\n",
    "print(accuracy)\n",
    "accuracy = tf.cast(x=accuracy, dtype=tf.float32)\n",
    "print(accuracy)\n",
    "accuracy = tf.reduce_mean(input_tensor=accuracy, name=None)\n",
    "print(accuracy)"
   ]
  },
  {
   "cell_type": "code",
   "execution_count": 53,
   "metadata": {},
   "outputs": [],
   "source": [
    "# train, test, and validation\n",
    "# X, X_ and Y, Y_\n",
    "# real = 1, fake = 0\n",
    "# real is 2 and fake is 1\n",
    "Ytrain = np.ones(len(Xtrain), dtype=int)*2\n",
    "Ytrain_ = np.ones(len(Xtrain_), dtype=int)\n",
    "Yvalid = np.ones(len(Xvalid), dtype=int)*2\n",
    "Yvalid_ = np.ones(len(Xvalid_), dtype=int)\n",
    "Ytest = np.ones(len(Xtest), dtype=int)*2\n",
    "Ytest_ = np.ones(len(Xtest_), dtype=int)"
   ]
  },
  {
   "cell_type": "code",
   "execution_count": 54,
   "metadata": {},
   "outputs": [
    {
     "name": "stdout",
     "output_type": "stream",
     "text": [
      "(55000,) int64 [2 2 2 2 2 2 2 2 2 2]\n",
      "(55000,) int64 [1 1 1 1 1 1 1 1 1 1]\n",
      "(5000,) int64 [2 2 2 2 2 2 2 2 2 2]\n",
      "(5000,) int64 [1 1 1 1 1 1 1 1 1 1]\n",
      "(10000,) int64 [2 2 2 2 2 2 2 2 2 2]\n",
      "(10000,) int64 [1 1 1 1 1 1 1 1 1 1]\n"
     ]
    }
   ],
   "source": [
    "print(Ytrain.shape, Ytrain.dtype, Ytrain[:10])\n",
    "print(Ytrain_.shape, Ytrain_.dtype, Ytrain_[:10])\n",
    "print(Yvalid.shape, Yvalid.dtype, Yvalid[:10])\n",
    "print(Yvalid_.shape, Yvalid_.dtype, Yvalid_[:10])\n",
    "print(Ytest.shape, Ytest.dtype, Ytest[:10])\n",
    "print(Ytest_.shape, Ytest_.dtype, Ytest_[:10])"
   ]
  },
  {
   "cell_type": "code",
   "execution_count": 55,
   "metadata": {},
   "outputs": [
    {
     "name": "stdout",
     "output_type": "stream",
     "text": [
      "(55000, 2) float64 (10000, 2) float64 (5000, 2) float64\n",
      "(55000, 2) float64 (10000, 2) float64 (5000, 2) float64\n"
     ]
    }
   ],
   "source": [
    "# Onehotencoding of the output labels\n",
    "def onehot(labels, n_class):\n",
    "\t\"\"\" One-hot encoding \"\"\"\n",
    "\texpansion = np.eye(n_class)\n",
    "\ty = expansion[:, labels-1].T\n",
    "\tassert y.shape[1] == n_class, \"Wrong number of labels!\"\n",
    "\n",
    "\treturn y\n",
    "\n",
    "Ytrain=onehot(labels=Ytrain, n_class=2)\n",
    "Ytest=onehot(labels=Ytest, n_class=2)\n",
    "Yvalid=onehot(labels=Yvalid, n_class=2)\n",
    "Ytrain_=onehot(labels=Ytrain_, n_class=2)\n",
    "Ytest_=onehot(labels=Ytest_, n_class=2)\n",
    "Yvalid_=onehot(labels=Yvalid_, n_class=2)\n",
    "print(Ytrain.shape, Ytrain.dtype, Ytest.shape, Ytest.dtype, Yvalid.shape, Yvalid.dtype)\n",
    "print(Ytrain_.shape, Ytrain_.dtype, Ytest_.shape, Ytest_.dtype, Yvalid_.shape, Yvalid_.dtype)"
   ]
  },
  {
   "cell_type": "code",
   "execution_count": 56,
   "metadata": {},
   "outputs": [],
   "source": [
    "def get_batches(X, Y, batch_size):\n",
    "    \"\"\" Return a generator for batches \"\"\"\n",
    "    n_batches = len(X) // batch_size\n",
    "    X, Y = X[:n_batches*batch_size], Y[:n_batches*batch_size]\n",
    "\n",
    "    # Loop over batches and yield\n",
    "    for b in range(0, len(X), batch_size):\n",
    "        yield X[b:b+batch_size], Y[b:b+batch_size]"
   ]
  },
  {
   "cell_type": "code",
   "execution_count": 57,
   "metadata": {},
   "outputs": [
    {
     "name": "stdout",
     "output_type": "stream",
     "text": [
      "Epoch: 1/100 Train loss: 1.363546 Valid loss: 0.846987 Train accuracy: 0.492264 Valid accuracy: 0.499600\n",
      "Epoch: 2/100 Train loss: 0.647395 Valid loss: 0.694102 Train accuracy: 0.553273 Valid accuracy: 0.523700\n",
      "Epoch: 3/100 Train loss: 0.731742 Valid loss: 0.687351 Train accuracy: 0.373364 Valid accuracy: 0.549600\n",
      "Epoch: 4/100 Train loss: 0.711944 Valid loss: 0.684982 Train accuracy: 0.419827 Valid accuracy: 0.562700\n",
      "Epoch: 5/100 Train loss: 0.705585 Valid loss: 0.683973 Train accuracy: 0.443418 Valid accuracy: 0.570500\n",
      "Epoch: 6/100 Train loss: 0.703270 Valid loss: 0.683322 Train accuracy: 0.453582 Valid accuracy: 0.577300\n",
      "Epoch: 7/100 Train loss: 0.702051 Valid loss: 0.682823 Train accuracy: 0.456973 Valid accuracy: 0.583700\n",
      "Epoch: 8/100 Train loss: 0.701158 Valid loss: 0.682374 Train accuracy: 0.459882 Valid accuracy: 0.590700\n",
      "Epoch: 9/100 Train loss: 0.700362 Valid loss: 0.681974 Train accuracy: 0.462473 Valid accuracy: 0.596400\n",
      "Epoch: 10/100 Train loss: 0.699700 Valid loss: 0.681630 Train accuracy: 0.464409 Valid accuracy: 0.601600\n",
      "Epoch: 11/100 Train loss: 0.699151 Valid loss: 0.681340 Train accuracy: 0.466600 Valid accuracy: 0.605600\n",
      "Epoch: 12/100 Train loss: 0.698742 Valid loss: 0.681069 Train accuracy: 0.468318 Valid accuracy: 0.607900\n",
      "Epoch: 13/100 Train loss: 0.698264 Valid loss: 0.680799 Train accuracy: 0.471018 Valid accuracy: 0.613600\n",
      "Epoch: 14/100 Train loss: 0.698109 Valid loss: 0.680570 Train accuracy: 0.471700 Valid accuracy: 0.617100\n",
      "Epoch: 15/100 Train loss: 0.697665 Valid loss: 0.680299 Train accuracy: 0.476655 Valid accuracy: 0.619700\n",
      "Epoch: 16/100 Train loss: 0.697174 Valid loss: 0.679978 Train accuracy: 0.480400 Valid accuracy: 0.621600\n",
      "Epoch: 17/100 Train loss: 0.697159 Valid loss: 0.679742 Train accuracy: 0.479273 Valid accuracy: 0.626000\n",
      "Epoch: 18/100 Train loss: 0.697133 Valid loss: 0.679494 Train accuracy: 0.479227 Valid accuracy: 0.627500\n",
      "Epoch: 19/100 Train loss: 0.696411 Valid loss: 0.679238 Train accuracy: 0.486318 Valid accuracy: 0.630000\n",
      "Epoch: 20/100 Train loss: 0.696220 Valid loss: 0.678948 Train accuracy: 0.488055 Valid accuracy: 0.634200\n",
      "Epoch: 21/100 Train loss: 0.696294 Valid loss: 0.678704 Train accuracy: 0.487891 Valid accuracy: 0.637300\n",
      "Epoch: 22/100 Train loss: 0.695749 Valid loss: 0.678424 Train accuracy: 0.492927 Valid accuracy: 0.638500\n",
      "Epoch: 23/100 Train loss: 0.695548 Valid loss: 0.678159 Train accuracy: 0.496727 Valid accuracy: 0.643500\n",
      "Epoch: 24/100 Train loss: 0.695542 Valid loss: 0.677823 Train accuracy: 0.496455 Valid accuracy: 0.646400\n",
      "Epoch: 25/100 Train loss: 0.694960 Valid loss: 0.677513 Train accuracy: 0.502464 Valid accuracy: 0.649200\n",
      "Epoch: 26/100 Train loss: 0.694881 Valid loss: 0.677187 Train accuracy: 0.504709 Valid accuracy: 0.651200\n",
      "Epoch: 27/100 Train loss: 0.694860 Valid loss: 0.676958 Train accuracy: 0.503864 Valid accuracy: 0.651800\n",
      "Epoch: 28/100 Train loss: 0.694480 Valid loss: 0.676648 Train accuracy: 0.510200 Valid accuracy: 0.653500\n",
      "Epoch: 29/100 Train loss: 0.694360 Valid loss: 0.676211 Train accuracy: 0.511073 Valid accuracy: 0.657100\n",
      "Epoch: 30/100 Train loss: 0.694214 Valid loss: 0.675914 Train accuracy: 0.510500 Valid accuracy: 0.657900\n",
      "Epoch: 31/100 Train loss: 0.693923 Valid loss: 0.675631 Train accuracy: 0.517100 Valid accuracy: 0.659100\n",
      "Epoch: 32/100 Train loss: 0.693683 Valid loss: 0.675143 Train accuracy: 0.519636 Valid accuracy: 0.662200\n",
      "Epoch: 33/100 Train loss: 0.693424 Valid loss: 0.674705 Train accuracy: 0.521073 Valid accuracy: 0.664000\n",
      "Epoch: 34/100 Train loss: 0.693230 Valid loss: 0.674314 Train accuracy: 0.523427 Valid accuracy: 0.664900\n",
      "Epoch: 35/100 Train loss: 0.693576 Valid loss: 0.674036 Train accuracy: 0.518536 Valid accuracy: 0.666300\n",
      "Epoch: 36/100 Train loss: 0.692890 Valid loss: 0.673684 Train accuracy: 0.528800 Valid accuracy: 0.668900\n",
      "Epoch: 37/100 Train loss: 0.692747 Valid loss: 0.672994 Train accuracy: 0.528527 Valid accuracy: 0.672900\n",
      "Epoch: 38/100 Train loss: 0.692597 Valid loss: 0.672750 Train accuracy: 0.528445 Valid accuracy: 0.671900\n",
      "Epoch: 39/100 Train loss: 0.692683 Valid loss: 0.672298 Train accuracy: 0.529982 Valid accuracy: 0.675500\n",
      "Epoch: 40/100 Train loss: 0.692296 Valid loss: 0.671764 Train accuracy: 0.533236 Valid accuracy: 0.679500\n",
      "Epoch: 41/100 Train loss: 0.691744 Valid loss: 0.670997 Train accuracy: 0.536864 Valid accuracy: 0.682100\n",
      "Epoch: 42/100 Train loss: 0.691588 Valid loss: 0.670605 Train accuracy: 0.535318 Valid accuracy: 0.684200\n",
      "Epoch: 43/100 Train loss: 0.692079 Valid loss: 0.670233 Train accuracy: 0.532045 Valid accuracy: 0.686200\n",
      "Epoch: 44/100 Train loss: 0.691276 Valid loss: 0.669633 Train accuracy: 0.541064 Valid accuracy: 0.688200\n",
      "Epoch: 45/100 Train loss: 0.691150 Valid loss: 0.668984 Train accuracy: 0.537609 Valid accuracy: 0.691000\n",
      "Epoch: 46/100 Train loss: 0.690891 Valid loss: 0.668629 Train accuracy: 0.542936 Valid accuracy: 0.691200\n",
      "Epoch: 47/100 Train loss: 0.691078 Valid loss: 0.667986 Train accuracy: 0.540536 Valid accuracy: 0.694800\n",
      "Epoch: 48/100 Train loss: 0.690093 Valid loss: 0.667018 Train accuracy: 0.548609 Valid accuracy: 0.698300\n",
      "Epoch: 49/100 Train loss: 0.690069 Valid loss: 0.666406 Train accuracy: 0.542927 Valid accuracy: 0.699600\n",
      "Epoch: 50/100 Train loss: 0.689524 Valid loss: 0.665932 Train accuracy: 0.553136 Valid accuracy: 0.699900\n",
      "Epoch: 51/100 Train loss: 0.689630 Valid loss: 0.664891 Train accuracy: 0.546745 Valid accuracy: 0.703600\n",
      "Epoch: 52/100 Train loss: 0.688936 Valid loss: 0.664379 Train accuracy: 0.551164 Valid accuracy: 0.703100\n",
      "Epoch: 53/100 Train loss: 0.689294 Valid loss: 0.663923 Train accuracy: 0.547636 Valid accuracy: 0.703700\n",
      "Epoch: 54/100 Train loss: 0.688523 Valid loss: 0.662677 Train accuracy: 0.559164 Valid accuracy: 0.709000\n",
      "Epoch: 55/100 Train loss: 0.689058 Valid loss: 0.662372 Train accuracy: 0.537309 Valid accuracy: 0.706900\n",
      "Epoch: 56/100 Train loss: 0.687842 Valid loss: 0.661717 Train accuracy: 0.568527 Valid accuracy: 0.710000\n",
      "Epoch: 57/100 Train loss: 0.688327 Valid loss: 0.660353 Train accuracy: 0.545673 Valid accuracy: 0.714400\n",
      "Epoch: 58/100 Train loss: 0.686777 Valid loss: 0.659395 Train accuracy: 0.567691 Valid accuracy: 0.715000\n",
      "Epoch: 59/100 Train loss: 0.687894 Valid loss: 0.658923 Train accuracy: 0.543245 Valid accuracy: 0.714600\n",
      "Epoch: 60/100 Train loss: 0.685969 Valid loss: 0.657614 Train accuracy: 0.576145 Valid accuracy: 0.719600\n",
      "Epoch: 61/100 Train loss: 0.687016 Valid loss: 0.656465 Train accuracy: 0.545064 Valid accuracy: 0.720100\n",
      "Epoch: 62/100 Train loss: 0.684595 Valid loss: 0.655489 Train accuracy: 0.582073 Valid accuracy: 0.722000\n",
      "Epoch: 63/100 Train loss: 0.686128 Valid loss: 0.654365 Train accuracy: 0.548764 Valid accuracy: 0.722500\n",
      "Epoch: 64/100 Train loss: 0.684231 Valid loss: 0.653396 Train accuracy: 0.577973 Valid accuracy: 0.723800\n",
      "Epoch: 65/100 Train loss: 0.685425 Valid loss: 0.652638 Train accuracy: 0.552536 Valid accuracy: 0.722900\n",
      "Epoch: 66/100 Train loss: 0.683205 Valid loss: 0.650446 Train accuracy: 0.587555 Valid accuracy: 0.731300\n",
      "Epoch: 67/100 Train loss: 0.684113 Valid loss: 0.649968 Train accuracy: 0.546555 Valid accuracy: 0.724100\n",
      "Epoch: 68/100 Train loss: 0.681925 Valid loss: 0.648564 Train accuracy: 0.596427 Valid accuracy: 0.730300\n",
      "Epoch: 69/100 Train loss: 0.684000 Valid loss: 0.647309 Train accuracy: 0.547709 Valid accuracy: 0.729100\n",
      "Epoch: 70/100 Train loss: 0.680502 Valid loss: 0.645446 Train accuracy: 0.599009 Valid accuracy: 0.735400\n",
      "Epoch: 71/100 Train loss: 0.682276 Valid loss: 0.644133 Train accuracy: 0.551864 Valid accuracy: 0.733200\n",
      "Epoch: 72/100 Train loss: 0.678795 Valid loss: 0.641939 Train accuracy: 0.605155 Valid accuracy: 0.741200\n",
      "Epoch: 73/100 Train loss: 0.680950 Valid loss: 0.641200 Train accuracy: 0.551391 Valid accuracy: 0.734600\n",
      "Epoch: 74/100 Train loss: 0.677912 Valid loss: 0.639073 Train accuracy: 0.607782 Valid accuracy: 0.742100\n",
      "Epoch: 75/100 Train loss: 0.680110 Valid loss: 0.638169 Train accuracy: 0.553127 Valid accuracy: 0.736600\n",
      "Epoch: 76/100 Train loss: 0.676244 Valid loss: 0.635469 Train accuracy: 0.614055 Valid accuracy: 0.747300\n",
      "Epoch: 77/100 Train loss: 0.678440 Valid loss: 0.634850 Train accuracy: 0.554600 Valid accuracy: 0.738800\n",
      "Epoch: 78/100 Train loss: 0.674864 Valid loss: 0.631887 Train accuracy: 0.618809 Valid accuracy: 0.750200\n"
     ]
    },
    {
     "name": "stdout",
     "output_type": "stream",
     "text": [
      "Epoch: 79/100 Train loss: 0.677318 Valid loss: 0.631273 Train accuracy: 0.555191 Valid accuracy: 0.741700\n",
      "Epoch: 80/100 Train loss: 0.672765 Valid loss: 0.627299 Train accuracy: 0.627745 Valid accuracy: 0.756900\n",
      "Epoch: 81/100 Train loss: 0.674789 Valid loss: 0.627239 Train accuracy: 0.557191 Valid accuracy: 0.743500\n",
      "Epoch: 82/100 Train loss: 0.670793 Valid loss: 0.622957 Train accuracy: 0.634109 Valid accuracy: 0.760900\n",
      "Epoch: 83/100 Train loss: 0.672850 Valid loss: 0.623848 Train accuracy: 0.557582 Valid accuracy: 0.742600\n",
      "Epoch: 84/100 Train loss: 0.669535 Valid loss: 0.618687 Train accuracy: 0.640100 Valid accuracy: 0.764000\n",
      "Epoch: 85/100 Train loss: 0.671003 Valid loss: 0.619129 Train accuracy: 0.559836 Valid accuracy: 0.746400\n",
      "Epoch: 86/100 Train loss: 0.666543 Valid loss: 0.613459 Train accuracy: 0.647255 Valid accuracy: 0.768400\n",
      "Epoch: 87/100 Train loss: 0.668320 Valid loss: 0.614692 Train accuracy: 0.564191 Valid accuracy: 0.748100\n",
      "Epoch: 88/100 Train loss: 0.664602 Valid loss: 0.608339 Train accuracy: 0.651509 Valid accuracy: 0.771300\n",
      "Epoch: 89/100 Train loss: 0.665665 Valid loss: 0.610303 Train accuracy: 0.568255 Valid accuracy: 0.747900\n",
      "Epoch: 90/100 Train loss: 0.662708 Valid loss: 0.602956 Train accuracy: 0.655055 Valid accuracy: 0.774400\n",
      "Epoch: 91/100 Train loss: 0.662760 Valid loss: 0.605745 Train accuracy: 0.572391 Valid accuracy: 0.750000\n",
      "Epoch: 92/100 Train loss: 0.660430 Valid loss: 0.596348 Train accuracy: 0.660573 Valid accuracy: 0.781800\n",
      "Epoch: 93/100 Train loss: 0.658180 Valid loss: 0.600285 Train accuracy: 0.579800 Valid accuracy: 0.752600\n",
      "Epoch: 94/100 Train loss: 0.657917 Valid loss: 0.590126 Train accuracy: 0.664618 Valid accuracy: 0.786600\n",
      "Epoch: 95/100 Train loss: 0.654351 Valid loss: 0.595053 Train accuracy: 0.585582 Valid accuracy: 0.753600\n",
      "Epoch: 96/100 Train loss: 0.655474 Valid loss: 0.583290 Train accuracy: 0.667173 Valid accuracy: 0.791500\n",
      "Epoch: 97/100 Train loss: 0.649836 Valid loss: 0.589573 Train accuracy: 0.593200 Valid accuracy: 0.755000\n",
      "Epoch: 98/100 Train loss: 0.652839 Valid loss: 0.575924 Train accuracy: 0.669664 Valid accuracy: 0.797600\n",
      "Epoch: 99/100 Train loss: 0.644499 Valid loss: 0.583375 Train accuracy: 0.600909 Valid accuracy: 0.758100\n",
      "Epoch: 100/100 Train loss: 0.649732 Valid loss: 0.567801 Train accuracy: 0.673109 Valid accuracy: 0.805600\n"
     ]
    }
   ],
   "source": [
    "# train and loss list\n",
    "train_acc, train_loss = [], []\n",
    "valid_acc, valid_loss = [], []\n",
    "\n",
    "# Save the training result or trained and validated model params\n",
    "saver = tf.train.Saver()\n",
    "\n",
    "# batch size\n",
    "batch_size = Xvalid.shape[0]\n",
    "\n",
    "with tf.Session() as sess:\n",
    "    sess.run(fetches=tf.global_variables_initializer())\n",
    "   \n",
    "    # Loop over epochs\n",
    "    epochs = 100\n",
    "    for epoch in range(epochs):\n",
    "        \n",
    "        # Loop over batches of training \n",
    "        loss_batch, acc_batch = [], []\n",
    "        # real batch\n",
    "        for Xarr, Yarr in get_batches(X=Xtrain, Y=Ytrain, batch_size=batch_size):\n",
    "            feed_dict = {x:Xarr, y:Yarr}\n",
    "            lossarr, _, accarr = sess.run(fetches=[d_loss, d_opt, accuracy], feed_dict=feed_dict)\n",
    "            loss_batch.append(lossarr)\n",
    "            acc_batch.append(accarr)\n",
    "        # fake batch\n",
    "        for Xarr, Yarr in get_batches(X=Xtrain_, Y=Ytrain_, batch_size=batch_size):\n",
    "            feed_dict = {x:Xarr, y:Yarr}\n",
    "            lossarr, _, accarr = sess.run(fetches=[d_loss, d_opt, accuracy], feed_dict=feed_dict)\n",
    "            loss_batch.append(lossarr)\n",
    "            acc_batch.append(accarr)\n",
    "            \n",
    "        # acc and loss for plotting\n",
    "        train_loss.append(np.mean(loss_batch))\n",
    "        train_acc.append(np.mean(acc_batch))\n",
    "\n",
    "        # Loop over batches of training \n",
    "        loss_batch, acc_batch = [], []\n",
    "        # real batch\n",
    "        for Xarr, Yarr in get_batches(X=Xvalid, Y=Yvalid, batch_size=batch_size):\n",
    "            feed_dict = {x:Xarr, y:Yarr}\n",
    "            lossarr, accarr = sess.run(fetches=[d_loss, accuracy], feed_dict=feed_dict)\n",
    "            loss_batch.append(lossarr)\n",
    "            acc_batch.append(accarr)\n",
    "        # fake batch\n",
    "        for Xarr, Yarr in get_batches(X=Xvalid_, Y=Yvalid_, batch_size=batch_size):\n",
    "            feed_dict = {x:Xarr, y:Yarr}\n",
    "            lossarr, accarr = sess.run(fetches=[d_loss, accuracy], feed_dict=feed_dict)\n",
    "            loss_batch.append(lossarr)\n",
    "            acc_batch.append(accarr)\n",
    "            \n",
    "        # acc and loss for plotting\n",
    "        valid_loss.append(np.mean(loss_batch))\n",
    "        valid_acc.append(np.mean(acc_batch))\n",
    "        \n",
    "        # Print info for every iter/epoch\n",
    "        print(\"Epoch: {}/{}\".format(epoch+1, epochs),\n",
    "              \"Train loss: {:6f}\".format(train_loss[epoch]),  \n",
    "              \"Valid loss: {:6f}\".format(valid_loss[epoch]),\n",
    "              \"Train accuracy: {:6f}\".format(train_acc[epoch]),  \n",
    "              \"Valid accuracy: {:6f}\".format(valid_acc[epoch]))  \n",
    "        \n",
    "    saver.save(sess, 'checkpoints/discriminator.ckpt')"
   ]
  },
  {
   "cell_type": "code",
   "execution_count": 58,
   "metadata": {},
   "outputs": [
    {
     "data": {
      "image/png": "[encoded data removed]",
      "text/plain": [
       "<Figure size 432x288 with 1 Axes>"
      ]
     },
     "metadata": {},
     "output_type": "display_data"
    }
   ],
   "source": [
    "import matplotlib.pyplot as mplot\n",
    "%matplotlib inline\n",
    "\n",
    "mplot.plot(train_loss, label='train_loss')\n",
    "mplot.plot(valid_loss, label='valid_loss')\n",
    "mplot.legend()\n",
    "mplot.show()"
   ]
  },
  {
   "cell_type": "code",
   "execution_count": 59,
   "metadata": {},
   "outputs": [
    {
     "data": {
      "image/png": "[encoded data removed]",
      "text/plain": [
       "<Figure size 432x288 with 1 Axes>"
      ]
     },
     "metadata": {},
     "output_type": "display_data"
    }
   ],
   "source": [
    "# import matplotlib.pyplot as mplot\n",
    "mplot.plot(train_acc, label='train_acc')\n",
    "mplot.plot(valid_acc, label='valid_acc')\n",
    "mplot.legend()\n",
    "mplot.show()"
   ]
  },
  {
   "cell_type": "code",
   "execution_count": 61,
   "metadata": {},
   "outputs": [
    {
     "name": "stdout",
     "output_type": "stream",
     "text": [
      "INFO:tensorflow:Restoring parameters from checkpoints/discriminator.ckpt\n",
      "Test loss: 0.573440 Test acc: 0.799250\n"
     ]
    }
   ],
   "source": [
    "with tf.Session() as sess:\n",
    "    # Restore the validated model\n",
    "    # saver.restore(sess, tf.train.latest_checkpoint('checkpoints'))\n",
    "    saver.restore(sess=sess, save_path='checkpoints/discriminator.ckpt')\n",
    "    \n",
    "    # Loop over batches of Test\n",
    "    loss_batch, acc_batch = [], []\n",
    "    # Real batches\n",
    "    for Xarr, Yarr in get_batches(X=Xtest, Y=Ytest, batch_size=batch_size):\n",
    "        # Feed dictionary\n",
    "        feed_dict = {x:Xarr, y:Yarr}\n",
    "        lossarr, accarr = sess.run(fetches=[d_loss, accuracy], feed_dict=feed_dict)\n",
    "        loss_batch.append(lossarr)\n",
    "        acc_batch.append(accarr)\n",
    "    # Fake batches\n",
    "    for Xarr, Yarr in get_batches(X=Xtest_, Y=Ytest_, batch_size=batch_size):\n",
    "        # Feed dictionary\n",
    "        feed_dict = {x:Xarr, y:Yarr}\n",
    "        lossarr, accarr = sess.run(fetches=[d_loss, accuracy], feed_dict=feed_dict)\n",
    "        loss_batch.append(lossarr)\n",
    "        acc_batch.append(accarr)\n",
    "\n",
    "    # Print info for every iter/epoch\n",
    "    print(\"Test loss: {:6f}\".format(np.mean(loss_batch)),\n",
    "          \"Test acc: {:.6f}\".format(np.mean(acc_batch)))"
   ]
  },
  {
   "cell_type": "code",
   "execution_count": null,
   "metadata": {},
   "outputs": [],
   "source": []
  }
 ],
 "metadata": {
  "kernelspec": {
   "display_name": "Python 3",
   "language": "python",
   "name": "python3"
  },
  "language_info": {
   "codemirror_mode": {
    "name": "ipython",
    "version": 3
   },
   "file_extension": ".py",
   "mimetype": "text/x-python",
   "name": "python",
   "nbconvert_exporter": "python",
   "pygments_lexer": "ipython3",
   "version": "3.6.5"
  }
 },
 "nbformat": 4,
 "nbformat_minor": 2
}
