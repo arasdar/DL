{
 "cells": [
  {
   "cell_type": "markdown",
   "metadata": {},
   "source": [
    "# Deep Q-learning\n",
    "\n",
    "In this notebook, we'll build a neural network that can learn to play games through reinforcement learning. More specifically, we'll use Q-learning to train an agent to play a game called [Cart-Pole](https://gym.openai.com/envs/CartPole-v0). In this game, a freely swinging pole is attached to a cart. The cart can move to the left and right, and the goal is to keep the pole upright as long as possible.\n",
    "\n",
    "![Cart-Pole](assets/cart-pole.jpg)\n",
    "\n",
    "We can simulate this game using [OpenAI Gym](https://gym.openai.com/). First, let's check out how OpenAI Gym works. Then, we'll get into training an agent to play the Cart-Pole game."
   ]
  },
  {
   "cell_type": "code",
   "execution_count": 1,
   "metadata": {},
   "outputs": [],
   "source": [
    "import gym\n",
    "import tensorflow as tf\n",
    "import numpy as np"
   ]
  },
  {
   "cell_type": "markdown",
   "metadata": {},
   "source": [
    ">**Note:** Make sure you have OpenAI Gym cloned into the same directory with this notebook. I've included `gym` as a submodule, so you can run `git submodule --init --recursive` to pull the contents into the `gym` repo."
   ]
  },
  {
   "cell_type": "code",
   "execution_count": 2,
   "metadata": {},
   "outputs": [
    {
     "name": "stdout",
     "output_type": "stream",
     "text": [
      "\u001b[33mWARN: gym.spaces.Box autodetected dtype as <class 'numpy.float32'>. Please provide explicit dtype.\u001b[0m\n"
     ]
    },
    {
     "name": "stderr",
     "output_type": "stream",
     "text": [
      "/home/arasdar/anaconda3/envs/env/lib/python3.6/site-packages/gym/__init__.py:22: UserWarning: DEPRECATION WARNING: to improve load times, gym no longer automatically loads gym.spaces. Please run \"import gym.spaces\" to load gym.spaces on your own. This warning will turn into an error in a future version of gym.\n",
      "  warnings.warn('DEPRECATION WARNING: to improve load times, gym no longer automatically loads gym.spaces. Please run \"import gym.spaces\" to load gym.spaces on your own. This warning will turn into an error in a future version of gym.')\n"
     ]
    }
   ],
   "source": [
    "# Create the Cart-Pole game environment\n",
    "env = gym.make('CartPole-v0')"
   ]
  },
  {
   "cell_type": "markdown",
   "metadata": {},
   "source": [
    "We interact with the simulation through `env`. To show the simulation running, you can use `env.render()` to render one frame. Passing in an action as an integer to `env.step` will generate the next step in the simulation.  You can see how many actions are possible from `env.action_space` and to get a random action you can use `env.action_space.sample()`. This is general to all Gym games. In the Cart-Pole game, there are two possible actions, moving the cart left or right. So there are two actions we can take, encoded as 0 and 1.\n",
    "\n",
    "Run the code below to watch the simulation run."
   ]
  },
  {
   "cell_type": "code",
   "execution_count": 3,
   "metadata": {},
   "outputs": [
    {
     "name": "stdout",
     "output_type": "stream",
     "text": [
      "state, action, reward, done, info\n",
      "[ 0.1646906   0.95760406 -0.24476933 -1.65176003] 0 1.0 True {}\n",
      "state, action, reward, done, info\n",
      "[-0.11620527 -0.22622795  0.21166559  0.60600704] 1 1.0 True {}\n",
      "state, action, reward, done, info\n",
      "[ 0.11681769  1.00196516 -0.21966337 -1.88059144] 1 1.0 True {}\n",
      "state, action, reward, done, info\n",
      "[ 0.05924112  0.7589715  -0.22008881 -1.54974618] 1 1.0 True {}\n",
      "state, action, reward, done, info\n",
      "[-0.18739119 -1.01598719  0.21403163  1.58246272] 0 1.0 True {}\n",
      "state, action, reward, done, info\n",
      "[ 0.15973027  1.00969828 -0.22342744 -1.73404178] 0 1.0 True {}\n"
     ]
    }
   ],
   "source": [
    "env.reset()\n",
    "rewards = []\n",
    "for _ in range(100):\n",
    "#     env.render()\n",
    "    action = env.action_space.sample()\n",
    "    state, reward, done, info = env.step(action) # take a random action\n",
    "    rewards.append(reward)\n",
    "    if done:\n",
    "        print('state, action, reward, done, info')\n",
    "        print(state, action, reward, done, info)\n",
    "        rewards = []\n",
    "        env.reset()"
   ]
  },
  {
   "cell_type": "markdown",
   "metadata": {},
   "source": [
    "To shut the window showing the simulation, use `env.close()`."
   ]
  },
  {
   "cell_type": "markdown",
   "metadata": {},
   "source": [
    "If you ran the simulation above, we can look at the rewards:"
   ]
  },
  {
   "cell_type": "code",
   "execution_count": 4,
   "metadata": {},
   "outputs": [
    {
     "name": "stdout",
     "output_type": "stream",
     "text": [
      "[1.0, 1.0, 1.0, 1.0, 1.0, 1.0, 1.0]\n"
     ]
    }
   ],
   "source": [
    "print(rewards[-20:])"
   ]
  },
  {
   "cell_type": "markdown",
   "metadata": {},
   "source": [
    "The game resets after the pole has fallen past a certain angle. For each frame while the simulation is running, it returns a reward of 1.0. The longer the game runs, the more reward we get. Then, our network's goal is to maximize the reward by keeping the pole vertical. It will do this by moving the cart to the left and the right."
   ]
  },
  {
   "cell_type": "markdown",
   "metadata": {},
   "source": [
    "## Q-Network\n",
    "\n",
    "We train our Q-learning agent using the Bellman Equation:\n",
    "\n",
    "$$\n",
    "Q(s, a) = r + \\gamma \\max{Q(s', a')}\n",
    "$$\n",
    "\n",
    "where $s$ is a state, $a$ is an action, and $s'$ is the next state from state $s$ and action $a$.\n",
    "\n",
    "Before we used this equation to learn values for a Q-_table_. However, for this game there are a huge number of states available. The state has four values: the position and velocity of the cart, and the position and velocity of the pole. These are all real-valued numbers, so ignoring floating point precisions, you practically have infinite states. Instead of using a table then, we'll replace it with a neural network that will approximate the Q-table lookup function.\n",
    "\n",
    "<img src=\"assets/deep-q-learning.png\" width=450px>\n",
    "\n",
    "Now, our Q value, $Q(s, a)$ is calculated by passing in a state to the network. The output will be Q-values for each available action, with fully connected hidden layers.\n",
    "\n",
    "<img src=\"assets/q-network.png\" width=550px>\n",
    "\n",
    "\n",
    "As I showed before, we can define our targets for training as $\\hat{Q}(s,a) = r + \\gamma \\max{Q(s', a')}$. Then we update the weights by minimizing $(\\hat{Q}(s,a) - Q(s,a))^2$. \n",
    "\n",
    "For this Cart-Pole game, we have four inputs, one for each value in the state, and two outputs, one for each action. To get $\\hat{Q}$, we'll first choose an action, then simulate the game using that action. This will get us the next state, $s'$, and the reward. With that, we can calculate $\\hat{Q}$ then pass it back into the $Q$ network to run the optimizer and update the weights.\n",
    "\n",
    "Below is my implementation of the Q-network. I used two fully connected layers with ReLU activations. Two seems to be good enough, three might be better. Feel free to try it out."
   ]
  },
  {
   "cell_type": "code",
   "execution_count": 40,
   "metadata": {},
   "outputs": [],
   "source": [
    "def model_input(state_size):\n",
    "    # Given data\n",
    "    inputs = tf.placeholder(tf.float32, [None, state_size], name='inputs')\n",
    "    actions = tf.placeholder(tf.int32, [None], name='actions')\n",
    "\n",
    "    # Target Q values for training\n",
    "    targetQs = tf.placeholder(tf.float32, [None], name='target')\n",
    "    return inputs, actions, targetQs "
   ]
  },
  {
   "cell_type": "code",
   "execution_count": 41,
   "metadata": {},
   "outputs": [],
   "source": [
    "def generator(inputs, hidden_size, action_size):\n",
    "    with tf.variable_scope('generator'):\n",
    "        # First fully connected layer\n",
    "        h1 = tf.layers.dense(inputs=inputs, units=hidden_size)\n",
    "        #bn1 = tf.layers.batch_normalization(h1, training=training)\n",
    "        nl1 = tf.maximum(0.1 * h1, h1)\n",
    "        \n",
    "        # Second fully connected layer\n",
    "        h2 = tf.layers.dense(nl1, hidden_size)\n",
    "        #bn2 = tf.layers.batch_normalization(h2, training=training)\n",
    "        nl2 = tf.maximum(0.1 * h2, h2)\n",
    "        \n",
    "        # Output layer\n",
    "        logits = tf.layers.dense(nl2, action_size)\n",
    "        # out = tf.tanh(logits)\n",
    "\n",
    "        return logits"
   ]
  },
  {
   "cell_type": "code",
   "execution_count": 42,
   "metadata": {},
   "outputs": [],
   "source": [
    "def model_loss(inputs, hidden_size, actions, action_size, targetQs):\n",
    "    # Output layer\n",
    "    output = generator(inputs=inputs, hidden_size=hidden_size, action_size=action_size)        \n",
    "\n",
    "    # One hot encode the actions to later choose the Q-value for the action\n",
    "    one_hot_actions = tf.one_hot(actions, action_size)\n",
    "\n",
    "    ### Train with loss (targetQ - Q)^2\n",
    "    # output has length 2, for two actions. This next line chooses\n",
    "    # one value from output (per row) according to the one-hot encoded actions.\n",
    "    Q = tf.reduce_sum(tf.multiply(output, one_hot_actions), axis=1)\n",
    "\n",
    "    # error backpropagation: loss and opt\n",
    "    loss = tf.reduce_mean(tf.square(targetQs - Q))\n",
    "    \n",
    "    return output, Q, loss"
   ]
  },
  {
   "cell_type": "code",
   "execution_count": 43,
   "metadata": {},
   "outputs": [],
   "source": [
    "class QNetwork:\n",
    "    def __init__(self, state_size, action_size, hidden_size):\n",
    "        # Data of the Model: make the data available inside the framework\n",
    "        self.inputs, self.actions, self.targetQs = model_input(state_size=state_size)\n",
    "\n",
    "        # Create the Model: calculating the loss and forwad pass\n",
    "        self.output, self.Q, self.loss = model_loss(action_size=action_size, actions=self.actions, \n",
    "                                                    hidden_size=hidden_size, \n",
    "                                                    inputs=self.inputs, targetQs=self.targetQs)\n",
    "\n",
    "        # Update the model: backward pass and backprop\n",
    "        self.opt = tf.train.AdamOptimizer().minimize(self.loss)"
   ]
  },
  {
   "cell_type": "markdown",
   "metadata": {},
   "source": [
    "## Experience replay\n",
    "\n",
    "Reinforcement learning algorithms can have stability issues due to correlations between states. To reduce correlations when training, we can store the agent's experiences and later draw a random mini-batch of those experiences to train on. \n",
    "\n",
    "Here, we'll create a `Memory` object that will store our experiences, our transitions $<s, a, r, s'>$. This memory will have a maxmium capacity, so we can keep newer experiences in memory while getting rid of older experiences. Then, we'll sample a random mini-batch of transitions $<s, a, r, s'>$ and train on those.\n",
    "\n",
    "Below, I've implemented a `Memory` object. If you're unfamiliar with `deque`, this is a double-ended queue. You can think of it like a tube open on both sides. You can put objects in either side of the tube. But if it's full, adding anything more will push an object out the other side. This is a great data structure to use for the memory buffer."
   ]
  },
  {
   "cell_type": "code",
   "execution_count": 53,
   "metadata": {},
   "outputs": [],
   "source": [
    "from collections import deque\n",
    "class Memory():\n",
    "    def __init__(self, max_size = 1000):\n",
    "        self.buffer = deque(maxlen=max_size)\n",
    "    \n",
    "    def add(self, experience):\n",
    "        self.buffer.append(experience)\n",
    "            \n",
    "    def sample(self, batch_size):\n",
    "        idx = np.random.choice(np.arange(len(self.buffer)), \n",
    "                               size=batch_size, \n",
    "                               replace=False)\n",
    "        return [self.buffer[ii] for ii in idx]"
   ]
  },
  {
   "cell_type": "markdown",
   "metadata": {},
   "source": [
    "## Exploration - Exploitation\n",
    "\n",
    "To learn about the environment and rules of the game, the agent needs to explore by taking random actions. We'll do this by choosing a random action with some probability $\\epsilon$ (epsilon).  That is, with some probability $\\epsilon$ the agent will make a random action and with probability $1 - \\epsilon$, the agent will choose an action from $Q(s,a)$. This is called an **$\\epsilon$-greedy policy**.\n",
    "\n",
    "\n",
    "At first, the agent needs to do a lot of exploring. Later when it has learned more, the agent can favor choosing actions based on what it has learned. This is called _exploitation_. We'll set it up so the agent is more likely to explore early in training, then more likely to exploit later in training."
   ]
  },
  {
   "cell_type": "markdown",
   "metadata": {},
   "source": [
    "## Q-Learning training algorithm\n",
    "\n",
    "Putting all this together, we can list out the algorithm we'll use to train the network. We'll train the network in _episodes_. One *episode* is one simulation of the game. For this game, the goal is to keep the pole upright for 195 frames. So we can start a new episode once meeting that goal. The game ends if the pole tilts over too far, or if the cart moves too far the left or right. When a game ends, we'll start a new episode. Now, to train the agent:\n",
    "\n",
    "* Initialize the memory $D$\n",
    "* Initialize the action-value network $Q$ with random weights\n",
    "* **For** episode = 1, $M$ **do**\n",
    "  * **For** $t$, $T$ **do**\n",
    "     * With probability $\\epsilon$ select a random action $a_t$, otherwise select $a_t = \\mathrm{argmax}_a Q(s,a)$\n",
    "     * Execute action $a_t$ in simulator and observe reward $r_{t+1}$ and new state $s_{t+1}$\n",
    "     * Store transition $<s_t, a_t, r_{t+1}, s_{t+1}>$ in memory $D$\n",
    "     * Sample random mini-batch from $D$: $<s_j, a_j, r_j, s'_j>$\n",
    "     * Set $\\hat{Q}_j = r_j$ if the episode ends at $j+1$, otherwise set $\\hat{Q}_j = r_j + \\gamma \\max_{a'}{Q(s'_j, a')}$\n",
    "     * Make a gradient descent step with loss $(\\hat{Q}_j - Q(s_j, a_j))^2$\n",
    "  * **endfor**\n",
    "* **endfor**"
   ]
  },
  {
   "cell_type": "markdown",
   "metadata": {},
   "source": [
    "## Hyperparameters\n",
    "\n",
    "One of the more difficult aspects of reinforcememt learning are the large number of hyperparameters. Not only are we tuning the network, but we're tuning the simulation."
   ]
  },
  {
   "cell_type": "code",
   "execution_count": 54,
   "metadata": {},
   "outputs": [],
   "source": [
    "train_episodes = 2000          # max number of episodes to learn from\n",
    "max_steps = 200               # max steps in an episode\n",
    "gamma = 0.99                   # future reward discount\n",
    "\n",
    "# Exploration parameters\n",
    "explore_start = 1.0            # exploration probability at start\n",
    "explore_stop = 0.01            # minimum exploration probability \n",
    "decay_rate = 0.0001            # exponential decay rate for exploration prob\n",
    "\n",
    "# Network parameters\n",
    "hidden_size = 10              # number of units in each Q-network hidden layer\n",
    "state_size = 4                # number of units for the input state/observation\n",
    "action_size = 2               # number of units for the output actions\n",
    "\n",
    "# Memory parameters\n",
    "memory_size = 10000            # memory capacity\n",
    "batch_size = 20                # experience mini-batch size"
   ]
  },
  {
   "cell_type": "code",
   "execution_count": 55,
   "metadata": {},
   "outputs": [],
   "source": [
    "tf.reset_default_graph()\n",
    "# mainQN = QNetwork(name='main', hidden_size=hidden_size, learning_rate=learning_rate)\n",
    "mainQN = QNetwork(action_size=action_size, hidden_size=hidden_size, state_size=state_size)"
   ]
  },
  {
   "cell_type": "markdown",
   "metadata": {},
   "source": [
    "## Populate the experience memory\n",
    "\n",
    "Here I'm re-initializing the simulation and pre-populating the memory. The agent is taking random actions and storing the transitions in memory. This will help the agent with exploring the game."
   ]
  },
  {
   "cell_type": "code",
   "execution_count": 56,
   "metadata": {},
   "outputs": [],
   "source": [
    "# Initialize the simulation\n",
    "env.reset()\n",
    "\n",
    "# Take one random step to get the pole and cart moving\n",
    "state, reward, done, _ = env.step(env.action_space.sample())\n",
    "\n",
    "# init memory\n",
    "memory = Memory(max_size=memory_size)\n",
    "\n",
    "# Make a bunch of random actions and store the experiences\n",
    "for _ in range(batch_size):\n",
    "    # Uncomment the line below to watch the simulation\n",
    "    # env.render()\n",
    "\n",
    "    # Make a random action\n",
    "    action = env.action_space.sample()\n",
    "    next_state, reward, done, _ = env.step(action)\n",
    "\n",
    "    if done:\n",
    "        # The simulation fails so no next state\n",
    "        next_state = np.zeros(state.shape)\n",
    "        \n",
    "        # Add experience to memory\n",
    "        memory.add((state, action, reward, next_state))\n",
    "        \n",
    "        # Start new episode\n",
    "        env.reset()\n",
    "        \n",
    "        # Take one random step to get the pole and cart moving\n",
    "        state, reward, done, _ = env.step(env.action_space.sample())\n",
    "    else:\n",
    "        # Add experience to memory\n",
    "        memory.add((state, action, reward, next_state))\n",
    "        state = next_state"
   ]
  },
  {
   "cell_type": "markdown",
   "metadata": {},
   "source": [
    "## Training\n",
    "\n",
    "Below we'll train our agent. If you want to watch it train, uncomment the `env.render()` line. This is slow because it's rendering the frames slower than the network can train. But, it's cool to watch the agent get better at the game."
   ]
  },
  {
   "cell_type": "code",
   "execution_count": null,
   "metadata": {},
   "outputs": [
    {
     "name": "stdout",
     "output_type": "stream",
     "text": [
      "Episode: 0 Total reward: 7.0 Training loss: 1.0836 Explore P: 0.9993\n",
      "Episode: 1 Total reward: 62.0 Training loss: 1.2512 Explore P: 0.9932\n",
      "Episode: 2 Total reward: 15.0 Training loss: 1.6218 Explore P: 0.9917\n",
      "Episode: 3 Total reward: 11.0 Training loss: 1.4843 Explore P: 0.9906\n",
      "Episode: 4 Total reward: 47.0 Training loss: 2.0786 Explore P: 0.9860\n",
      "Episode: 5 Total reward: 17.0 Training loss: 2.5077 Explore P: 0.9844\n",
      "Episode: 6 Total reward: 26.0 Training loss: 2.7175 Explore P: 0.9819\n",
      "Episode: 7 Total reward: 13.0 Training loss: 2.8599 Explore P: 0.9806\n",
      "Episode: 8 Total reward: 23.0 Training loss: 6.4799 Explore P: 0.9784\n",
      "Episode: 9 Total reward: 16.0 Training loss: 4.1816 Explore P: 0.9768\n",
      "Episode: 10 Total reward: 16.0 Training loss: 3.3353 Explore P: 0.9753\n",
      "Episode: 11 Total reward: 15.0 Training loss: 14.7664 Explore P: 0.9738\n",
      "Episode: 12 Total reward: 28.0 Training loss: 28.1998 Explore P: 0.9711\n",
      "Episode: 13 Total reward: 9.0 Training loss: 5.8040 Explore P: 0.9703\n",
      "Episode: 14 Total reward: 16.0 Training loss: 4.4274 Explore P: 0.9687\n",
      "Episode: 15 Total reward: 11.0 Training loss: 5.4491 Explore P: 0.9677\n",
      "Episode: 16 Total reward: 29.0 Training loss: 29.3238 Explore P: 0.9649\n",
      "Episode: 17 Total reward: 37.0 Training loss: 16.1471 Explore P: 0.9614\n",
      "Episode: 18 Total reward: 19.0 Training loss: 40.7451 Explore P: 0.9596\n",
      "Episode: 19 Total reward: 34.0 Training loss: 4.6879 Explore P: 0.9563\n",
      "Episode: 20 Total reward: 18.0 Training loss: 13.1465 Explore P: 0.9546\n",
      "Episode: 21 Total reward: 18.0 Training loss: 7.0393 Explore P: 0.9529\n",
      "Episode: 22 Total reward: 11.0 Training loss: 16.7546 Explore P: 0.9519\n",
      "Episode: 23 Total reward: 22.0 Training loss: 17.0286 Explore P: 0.9498\n",
      "Episode: 24 Total reward: 19.0 Training loss: 51.5497 Explore P: 0.9481\n",
      "Episode: 25 Total reward: 38.0 Training loss: 73.2399 Explore P: 0.9445\n",
      "Episode: 26 Total reward: 21.0 Training loss: 95.6071 Explore P: 0.9425\n",
      "Episode: 27 Total reward: 12.0 Training loss: 2.9144 Explore P: 0.9414\n",
      "Episode: 28 Total reward: 16.0 Training loss: 97.8234 Explore P: 0.9399\n",
      "Episode: 29 Total reward: 14.0 Training loss: 36.3563 Explore P: 0.9386\n",
      "Episode: 30 Total reward: 14.0 Training loss: 38.4425 Explore P: 0.9373\n",
      "Episode: 31 Total reward: 12.0 Training loss: 4.9143 Explore P: 0.9362\n",
      "Episode: 32 Total reward: 15.0 Training loss: 85.9023 Explore P: 0.9348\n",
      "Episode: 33 Total reward: 43.0 Training loss: 49.5073 Explore P: 0.9309\n",
      "Episode: 34 Total reward: 29.0 Training loss: 3.6210 Explore P: 0.9282\n",
      "Episode: 35 Total reward: 31.0 Training loss: 2.1211 Explore P: 0.9253\n",
      "Episode: 36 Total reward: 13.0 Training loss: 206.7752 Explore P: 0.9242\n",
      "Episode: 37 Total reward: 28.0 Training loss: 95.2528 Explore P: 0.9216\n",
      "Episode: 38 Total reward: 12.0 Training loss: 55.4417 Explore P: 0.9205\n",
      "Episode: 39 Total reward: 20.0 Training loss: 1.4222 Explore P: 0.9187\n",
      "Episode: 40 Total reward: 9.0 Training loss: 95.4506 Explore P: 0.9179\n",
      "Episode: 41 Total reward: 19.0 Training loss: 79.8661 Explore P: 0.9162\n",
      "Episode: 42 Total reward: 14.0 Training loss: 0.9430 Explore P: 0.9149\n",
      "Episode: 43 Total reward: 48.0 Training loss: 69.1238 Explore P: 0.9105\n",
      "Episode: 44 Total reward: 13.0 Training loss: 33.2044 Explore P: 0.9094\n",
      "Episode: 45 Total reward: 10.0 Training loss: 1.5084 Explore P: 0.9085\n",
      "Episode: 46 Total reward: 10.0 Training loss: 36.3769 Explore P: 0.9076\n",
      "Episode: 47 Total reward: 64.0 Training loss: 50.0794 Explore P: 0.9019\n",
      "Episode: 48 Total reward: 33.0 Training loss: 32.3667 Explore P: 0.8989\n",
      "Episode: 49 Total reward: 27.0 Training loss: 55.3588 Explore P: 0.8965\n",
      "Episode: 50 Total reward: 36.0 Training loss: 86.2422 Explore P: 0.8933\n",
      "Episode: 51 Total reward: 19.0 Training loss: 1.5060 Explore P: 0.8917\n",
      "Episode: 52 Total reward: 10.0 Training loss: 1.6361 Explore P: 0.8908\n",
      "Episode: 53 Total reward: 66.0 Training loss: 0.9596 Explore P: 0.8850\n",
      "Episode: 54 Total reward: 19.0 Training loss: 19.3053 Explore P: 0.8833\n",
      "Episode: 55 Total reward: 34.0 Training loss: 42.1957 Explore P: 0.8804\n",
      "Episode: 56 Total reward: 35.0 Training loss: 0.8868 Explore P: 0.8773\n",
      "Episode: 57 Total reward: 22.0 Training loss: 14.5910 Explore P: 0.8754\n",
      "Episode: 58 Total reward: 18.0 Training loss: 1.0235 Explore P: 0.8739\n",
      "Episode: 59 Total reward: 21.0 Training loss: 26.7202 Explore P: 0.8720\n",
      "Episode: 60 Total reward: 30.0 Training loss: 19.2468 Explore P: 0.8695\n",
      "Episode: 61 Total reward: 13.0 Training loss: 18.8443 Explore P: 0.8683\n",
      "Episode: 62 Total reward: 15.0 Training loss: 16.1788 Explore P: 0.8671\n",
      "Episode: 63 Total reward: 28.0 Training loss: 0.8620 Explore P: 0.8647\n",
      "Episode: 64 Total reward: 13.0 Training loss: 20.0584 Explore P: 0.8636\n",
      "Episode: 65 Total reward: 18.0 Training loss: 42.9657 Explore P: 0.8620\n",
      "Episode: 66 Total reward: 21.0 Training loss: 27.3885 Explore P: 0.8602\n",
      "Episode: 67 Total reward: 32.0 Training loss: 32.5591 Explore P: 0.8575\n",
      "Episode: 68 Total reward: 33.0 Training loss: 22.5483 Explore P: 0.8547\n",
      "Episode: 69 Total reward: 32.0 Training loss: 1.4071 Explore P: 0.8520\n",
      "Episode: 70 Total reward: 48.0 Training loss: 21.6281 Explore P: 0.8480\n",
      "Episode: 71 Total reward: 21.0 Training loss: 23.8898 Explore P: 0.8462\n",
      "Episode: 72 Total reward: 11.0 Training loss: 1.0852 Explore P: 0.8453\n",
      "Episode: 73 Total reward: 9.0 Training loss: 1.1306 Explore P: 0.8446\n",
      "Episode: 74 Total reward: 13.0 Training loss: 58.9966 Explore P: 0.8435\n",
      "Episode: 75 Total reward: 25.0 Training loss: 1.2593 Explore P: 0.8414\n",
      "Episode: 76 Total reward: 19.0 Training loss: 38.4784 Explore P: 0.8398\n",
      "Episode: 77 Total reward: 13.0 Training loss: 1.1774 Explore P: 0.8387\n",
      "Episode: 78 Total reward: 13.0 Training loss: 19.1782 Explore P: 0.8377\n",
      "Episode: 79 Total reward: 13.0 Training loss: 1.7191 Explore P: 0.8366\n",
      "Episode: 80 Total reward: 37.0 Training loss: 19.6545 Explore P: 0.8335\n",
      "Episode: 81 Total reward: 10.0 Training loss: 0.8126 Explore P: 0.8327\n",
      "Episode: 82 Total reward: 40.0 Training loss: 0.8930 Explore P: 0.8294\n",
      "Episode: 83 Total reward: 30.0 Training loss: 19.6237 Explore P: 0.8270\n",
      "Episode: 84 Total reward: 21.0 Training loss: 19.3799 Explore P: 0.8253\n",
      "Episode: 85 Total reward: 40.0 Training loss: 23.6785 Explore P: 0.8220\n",
      "Episode: 86 Total reward: 17.0 Training loss: 21.9640 Explore P: 0.8206\n",
      "Episode: 87 Total reward: 36.0 Training loss: 44.2392 Explore P: 0.8177\n",
      "Episode: 88 Total reward: 17.0 Training loss: 0.9945 Explore P: 0.8163\n",
      "Episode: 89 Total reward: 40.0 Training loss: 1.7230 Explore P: 0.8131\n",
      "Episode: 90 Total reward: 44.0 Training loss: 74.5148 Explore P: 0.8096\n",
      "Episode: 91 Total reward: 39.0 Training loss: 1.3818 Explore P: 0.8065\n",
      "Episode: 92 Total reward: 13.0 Training loss: 1.4884 Explore P: 0.8054\n",
      "Episode: 93 Total reward: 33.0 Training loss: 22.2352 Explore P: 0.8028\n",
      "Episode: 94 Total reward: 26.0 Training loss: 24.9550 Explore P: 0.8008\n",
      "Episode: 95 Total reward: 35.0 Training loss: 1.5368 Explore P: 0.7980\n",
      "Episode: 96 Total reward: 85.0 Training loss: 0.9135 Explore P: 0.7913\n",
      "Episode: 97 Total reward: 30.0 Training loss: 24.3776 Explore P: 0.7890\n",
      "Episode: 98 Total reward: 50.0 Training loss: 1.0618 Explore P: 0.7851\n",
      "Episode: 99 Total reward: 24.0 Training loss: 24.0482 Explore P: 0.7833\n",
      "Episode: 100 Total reward: 22.0 Training loss: 26.3554 Explore P: 0.7816\n",
      "Episode: 101 Total reward: 19.0 Training loss: 10.8341 Explore P: 0.7801\n",
      "Episode: 102 Total reward: 32.0 Training loss: 1.9157 Explore P: 0.7776\n",
      "Episode: 103 Total reward: 14.0 Training loss: 21.1618 Explore P: 0.7766\n",
      "Episode: 104 Total reward: 88.0 Training loss: 1.7616 Explore P: 0.7698\n",
      "Episode: 105 Total reward: 13.0 Training loss: 1.9141 Explore P: 0.7689\n",
      "Episode: 106 Total reward: 22.0 Training loss: 1.5031 Explore P: 0.7672\n",
      "Episode: 107 Total reward: 14.0 Training loss: 23.7682 Explore P: 0.7661\n",
      "Episode: 108 Total reward: 48.0 Training loss: 39.2471 Explore P: 0.7625\n",
      "Episode: 109 Total reward: 58.0 Training loss: 32.7216 Explore P: 0.7582\n",
      "Episode: 110 Total reward: 27.0 Training loss: 43.0962 Explore P: 0.7561\n",
      "Episode: 111 Total reward: 31.0 Training loss: 1.4650 Explore P: 0.7538\n",
      "Episode: 112 Total reward: 48.0 Training loss: 18.4536 Explore P: 0.7503\n",
      "Episode: 113 Total reward: 30.0 Training loss: 2.1896 Explore P: 0.7480\n",
      "Episode: 114 Total reward: 56.0 Training loss: 69.7687 Explore P: 0.7439\n"
     ]
    },
    {
     "name": "stdout",
     "output_type": "stream",
     "text": [
      "Episode: 115 Total reward: 48.0 Training loss: 10.8156 Explore P: 0.7404\n",
      "Episode: 116 Total reward: 16.0 Training loss: 2.1748 Explore P: 0.7392\n",
      "Episode: 117 Total reward: 18.0 Training loss: 3.3955 Explore P: 0.7379\n",
      "Episode: 118 Total reward: 60.0 Training loss: 2.2515 Explore P: 0.7336\n",
      "Episode: 119 Total reward: 16.0 Training loss: 3.1361 Explore P: 0.7324\n",
      "Episode: 120 Total reward: 47.0 Training loss: 23.2999 Explore P: 0.7290\n",
      "Episode: 121 Total reward: 39.0 Training loss: 3.7501 Explore P: 0.7262\n",
      "Episode: 122 Total reward: 13.0 Training loss: 2.3831 Explore P: 0.7253\n",
      "Episode: 123 Total reward: 20.0 Training loss: 21.9681 Explore P: 0.7239\n",
      "Episode: 124 Total reward: 50.0 Training loss: 2.2028 Explore P: 0.7203\n",
      "Episode: 125 Total reward: 45.0 Training loss: 2.4473 Explore P: 0.7171\n",
      "Episode: 126 Total reward: 64.0 Training loss: 29.1442 Explore P: 0.7126\n",
      "Episode: 127 Total reward: 17.0 Training loss: 2.4426 Explore P: 0.7114\n",
      "Episode: 128 Total reward: 99.0 Training loss: 34.6289 Explore P: 0.7045\n",
      "Episode: 129 Total reward: 37.0 Training loss: 28.2227 Explore P: 0.7019\n",
      "Episode: 130 Total reward: 63.0 Training loss: 1.4468 Explore P: 0.6976\n",
      "Episode: 131 Total reward: 12.0 Training loss: 3.7712 Explore P: 0.6968\n",
      "Episode: 132 Total reward: 11.0 Training loss: 2.3634 Explore P: 0.6960\n",
      "Episode: 133 Total reward: 11.0 Training loss: 42.8081 Explore P: 0.6953\n",
      "Episode: 134 Total reward: 37.0 Training loss: 8.7534 Explore P: 0.6927\n",
      "Episode: 135 Total reward: 8.0 Training loss: 96.6645 Explore P: 0.6922\n",
      "Episode: 136 Total reward: 13.0 Training loss: 44.7474 Explore P: 0.6913\n",
      "Episode: 137 Total reward: 64.0 Training loss: 86.9089 Explore P: 0.6870\n",
      "Episode: 138 Total reward: 44.0 Training loss: 69.8295 Explore P: 0.6840\n",
      "Episode: 139 Total reward: 19.0 Training loss: 91.1862 Explore P: 0.6827\n",
      "Episode: 140 Total reward: 17.0 Training loss: 3.0205 Explore P: 0.6816\n",
      "Episode: 141 Total reward: 45.0 Training loss: 2.9366 Explore P: 0.6785\n",
      "Episode: 142 Total reward: 65.0 Training loss: 3.1519 Explore P: 0.6742\n",
      "Episode: 143 Total reward: 28.0 Training loss: 3.2168 Explore P: 0.6724\n",
      "Episode: 144 Total reward: 31.0 Training loss: 28.0465 Explore P: 0.6703\n",
      "Episode: 145 Total reward: 56.0 Training loss: 3.1247 Explore P: 0.6666\n",
      "Episode: 146 Total reward: 58.0 Training loss: 53.6518 Explore P: 0.6628\n",
      "Episode: 147 Total reward: 23.0 Training loss: 2.4879 Explore P: 0.6613\n",
      "Episode: 148 Total reward: 135.0 Training loss: 135.9194 Explore P: 0.6526\n",
      "Episode: 149 Total reward: 49.0 Training loss: 6.2729 Explore P: 0.6494\n",
      "Episode: 150 Total reward: 20.0 Training loss: 39.8976 Explore P: 0.6482\n",
      "Episode: 151 Total reward: 13.0 Training loss: 4.2454 Explore P: 0.6473\n",
      "Episode: 152 Total reward: 70.0 Training loss: 4.8862 Explore P: 0.6429\n",
      "Episode: 153 Total reward: 45.0 Training loss: 35.2331 Explore P: 0.6401\n",
      "Episode: 154 Total reward: 56.0 Training loss: 31.6061 Explore P: 0.6365\n",
      "Episode: 155 Total reward: 30.0 Training loss: 59.0463 Explore P: 0.6347\n",
      "Episode: 156 Total reward: 26.0 Training loss: 4.4054 Explore P: 0.6330\n",
      "Episode: 157 Total reward: 25.0 Training loss: 33.0716 Explore P: 0.6315\n",
      "Episode: 158 Total reward: 49.0 Training loss: 5.0980 Explore P: 0.6284\n",
      "Episode: 159 Total reward: 24.0 Training loss: 3.4204 Explore P: 0.6270\n",
      "Episode: 160 Total reward: 37.0 Training loss: 5.9171 Explore P: 0.6247\n",
      "Episode: 161 Total reward: 53.0 Training loss: 29.7146 Explore P: 0.6214\n",
      "Episode: 162 Total reward: 59.0 Training loss: 7.9217 Explore P: 0.6178\n",
      "Episode: 163 Total reward: 35.0 Training loss: 5.0231 Explore P: 0.6157\n",
      "Episode: 164 Total reward: 48.0 Training loss: 8.0303 Explore P: 0.6128\n",
      "Episode: 165 Total reward: 21.0 Training loss: 37.2709 Explore P: 0.6115\n",
      "Episode: 166 Total reward: 42.0 Training loss: 59.5642 Explore P: 0.6090\n",
      "Episode: 167 Total reward: 20.0 Training loss: 4.5197 Explore P: 0.6078\n",
      "Episode: 168 Total reward: 17.0 Training loss: 4.4038 Explore P: 0.6068\n",
      "Episode: 169 Total reward: 87.0 Training loss: 63.0990 Explore P: 0.6016\n",
      "Episode: 170 Total reward: 83.0 Training loss: 7.4550 Explore P: 0.5968\n",
      "Episode: 171 Total reward: 22.0 Training loss: 81.2724 Explore P: 0.5955\n",
      "Episode: 172 Total reward: 17.0 Training loss: 33.6993 Explore P: 0.5945\n",
      "Episode: 173 Total reward: 28.0 Training loss: 4.9819 Explore P: 0.5928\n",
      "Episode: 174 Total reward: 59.0 Training loss: 27.3214 Explore P: 0.5894\n",
      "Episode: 175 Total reward: 71.0 Training loss: 4.1308 Explore P: 0.5853\n",
      "Episode: 176 Total reward: 57.0 Training loss: 3.4267 Explore P: 0.5820\n",
      "Episode: 177 Total reward: 20.0 Training loss: 54.6592 Explore P: 0.5809\n",
      "Episode: 178 Total reward: 55.0 Training loss: 4.6298 Explore P: 0.5778\n",
      "Episode: 179 Total reward: 73.0 Training loss: 53.9134 Explore P: 0.5736\n",
      "Episode: 180 Total reward: 14.0 Training loss: 45.8272 Explore P: 0.5728\n",
      "Episode: 181 Total reward: 63.0 Training loss: 2.8058 Explore P: 0.5693\n",
      "Episode: 182 Total reward: 68.0 Training loss: 4.7037 Explore P: 0.5655\n",
      "Episode: 183 Total reward: 152.0 Training loss: 186.1320 Explore P: 0.5571\n",
      "Episode: 184 Total reward: 75.0 Training loss: 6.6787 Explore P: 0.5531\n",
      "Episode: 185 Total reward: 17.0 Training loss: 251.2278 Explore P: 0.5521\n",
      "Episode: 186 Total reward: 65.0 Training loss: 13.8249 Explore P: 0.5486\n",
      "Episode: 187 Total reward: 69.0 Training loss: 4.2475 Explore P: 0.5449\n",
      "Episode: 188 Total reward: 38.0 Training loss: 42.8243 Explore P: 0.5429\n",
      "Episode: 189 Total reward: 17.0 Training loss: 6.2473 Explore P: 0.5420\n",
      "Episode: 190 Total reward: 22.0 Training loss: 6.2301 Explore P: 0.5408\n",
      "Episode: 191 Total reward: 199.0 Training loss: 43.4719 Explore P: 0.5304\n",
      "Episode: 192 Total reward: 199.0 Training loss: 4.2927 Explore P: 0.5201\n",
      "Episode: 193 Total reward: 124.0 Training loss: 7.0657 Explore P: 0.5138\n",
      "Episode: 194 Total reward: 97.0 Training loss: 98.4780 Explore P: 0.5089\n",
      "Episode: 195 Total reward: 11.0 Training loss: 5.2431 Explore P: 0.5084\n",
      "Episode: 196 Total reward: 31.0 Training loss: 285.0170 Explore P: 0.5069\n",
      "Episode: 197 Total reward: 147.0 Training loss: 4.4618 Explore P: 0.4996\n",
      "Episode: 198 Total reward: 10.0 Training loss: 6.8957 Explore P: 0.4991\n",
      "Episode: 199 Total reward: 81.0 Training loss: 79.7764 Explore P: 0.4952\n",
      "Episode: 200 Total reward: 100.0 Training loss: 233.2115 Explore P: 0.4903\n",
      "Episode: 201 Total reward: 29.0 Training loss: 4.4520 Explore P: 0.4890\n",
      "Episode: 202 Total reward: 148.0 Training loss: 6.3428 Explore P: 0.4819\n",
      "Episode: 203 Total reward: 123.0 Training loss: 5.9869 Explore P: 0.4761\n",
      "Episode: 204 Total reward: 65.0 Training loss: 8.5282 Explore P: 0.4731\n",
      "Episode: 205 Total reward: 101.0 Training loss: 58.7468 Explore P: 0.4685\n",
      "Episode: 206 Total reward: 61.0 Training loss: 5.0075 Explore P: 0.4657\n",
      "Episode: 207 Total reward: 128.0 Training loss: 107.7335 Explore P: 0.4599\n",
      "Episode: 208 Total reward: 199.0 Training loss: 42.7958 Explore P: 0.4510\n",
      "Episode: 209 Total reward: 89.0 Training loss: 615.8290 Explore P: 0.4471\n",
      "Episode: 210 Total reward: 85.0 Training loss: 5.6893 Explore P: 0.4434\n",
      "Episode: 211 Total reward: 137.0 Training loss: 6.3151 Explore P: 0.4375\n",
      "Episode: 212 Total reward: 98.0 Training loss: 192.5689 Explore P: 0.4334\n",
      "Episode: 213 Total reward: 124.0 Training loss: 6.9053 Explore P: 0.4281\n",
      "Episode: 214 Total reward: 107.0 Training loss: 3.3848 Explore P: 0.4237\n",
      "Episode: 215 Total reward: 186.0 Training loss: 124.5115 Explore P: 0.4161\n",
      "Episode: 216 Total reward: 112.0 Training loss: 11.0928 Explore P: 0.4115\n",
      "Episode: 217 Total reward: 86.0 Training loss: 10.9664 Explore P: 0.4081\n",
      "Episode: 218 Total reward: 84.0 Training loss: 9.0110 Explore P: 0.4048\n",
      "Episode: 219 Total reward: 69.0 Training loss: 5.1376 Explore P: 0.4021\n",
      "Episode: 220 Total reward: 123.0 Training loss: 8.4225 Explore P: 0.3973\n",
      "Episode: 221 Total reward: 125.0 Training loss: 81.8623 Explore P: 0.3925\n",
      "Episode: 222 Total reward: 146.0 Training loss: 349.7857 Explore P: 0.3869\n",
      "Episode: 223 Total reward: 136.0 Training loss: 54.6887 Explore P: 0.3818\n",
      "Episode: 224 Total reward: 140.0 Training loss: 4.8594 Explore P: 0.3766\n",
      "Episode: 225 Total reward: 124.0 Training loss: 232.9777 Explore P: 0.3721\n",
      "Episode: 226 Total reward: 140.0 Training loss: 7.5939 Explore P: 0.3671\n",
      "Episode: 227 Total reward: 84.0 Training loss: 258.7805 Explore P: 0.3641\n"
     ]
    },
    {
     "name": "stdout",
     "output_type": "stream",
     "text": [
      "Episode: 228 Total reward: 106.0 Training loss: 61.0984 Explore P: 0.3604\n",
      "Episode: 229 Total reward: 199.0 Training loss: 5.9793 Explore P: 0.3535\n",
      "Episode: 230 Total reward: 173.0 Training loss: 376.4220 Explore P: 0.3476\n",
      "Episode: 231 Total reward: 100.0 Training loss: 3.7250 Explore P: 0.3442\n",
      "Episode: 232 Total reward: 110.0 Training loss: 13.1796 Explore P: 0.3406\n",
      "Episode: 233 Total reward: 105.0 Training loss: 602.4109 Explore P: 0.3371\n",
      "Episode: 234 Total reward: 178.0 Training loss: 12.1061 Explore P: 0.3313\n",
      "Episode: 235 Total reward: 43.0 Training loss: 8.5226 Explore P: 0.3300\n",
      "Episode: 236 Total reward: 199.0 Training loss: 8.5222 Explore P: 0.3237\n",
      "Episode: 237 Total reward: 193.0 Training loss: 136.5909 Explore P: 0.3177\n",
      "Episode: 238 Total reward: 135.0 Training loss: 35.5294 Explore P: 0.3135\n",
      "Episode: 239 Total reward: 190.0 Training loss: 106.7571 Explore P: 0.3078\n",
      "Episode: 240 Total reward: 172.0 Training loss: 10.1202 Explore P: 0.3027\n",
      "Episode: 241 Total reward: 186.0 Training loss: 8.0908 Explore P: 0.2974\n",
      "Episode: 242 Total reward: 197.0 Training loss: 8.2832 Explore P: 0.2917\n",
      "Episode: 243 Total reward: 163.0 Training loss: 5.7322 Explore P: 0.2872\n",
      "Episode: 244 Total reward: 199.0 Training loss: 6.0292 Explore P: 0.2817\n",
      "Episode: 245 Total reward: 199.0 Training loss: 5.1700 Explore P: 0.2764\n",
      "Episode: 246 Total reward: 175.0 Training loss: 8.3486 Explore P: 0.2718\n",
      "Episode: 247 Total reward: 199.0 Training loss: 578.4396 Explore P: 0.2666\n",
      "Episode: 248 Total reward: 199.0 Training loss: 417.0765 Explore P: 0.2615\n",
      "Episode: 249 Total reward: 199.0 Training loss: 8.4475 Explore P: 0.2566\n",
      "Episode: 250 Total reward: 198.0 Training loss: 8.8731 Explore P: 0.2518\n",
      "Episode: 251 Total reward: 199.0 Training loss: 6.6585 Explore P: 0.2470\n",
      "Episode: 252 Total reward: 175.0 Training loss: 10.1845 Explore P: 0.2429\n",
      "Episode: 253 Total reward: 170.0 Training loss: 7.7998 Explore P: 0.2390\n",
      "Episode: 254 Total reward: 172.0 Training loss: 3.7402 Explore P: 0.2350\n",
      "Episode: 255 Total reward: 199.0 Training loss: 11.5211 Explore P: 0.2306\n",
      "Episode: 256 Total reward: 199.0 Training loss: 785.8578 Explore P: 0.2263\n",
      "Episode: 257 Total reward: 199.0 Training loss: 5.5323 Explore P: 0.2220\n",
      "Episode: 258 Total reward: 199.0 Training loss: 6.0311 Explore P: 0.2178\n",
      "Episode: 259 Total reward: 199.0 Training loss: 6.7524 Explore P: 0.2137\n",
      "Episode: 260 Total reward: 199.0 Training loss: 8.4374 Explore P: 0.2097\n",
      "Episode: 261 Total reward: 199.0 Training loss: 6.4967 Explore P: 0.2058\n",
      "Episode: 262 Total reward: 199.0 Training loss: 6.7166 Explore P: 0.2019\n",
      "Episode: 263 Total reward: 199.0 Training loss: 4.4649 Explore P: 0.1981\n",
      "Episode: 264 Total reward: 199.0 Training loss: 739.7618 Explore P: 0.1944\n",
      "Episode: 265 Total reward: 199.0 Training loss: 7.1450 Explore P: 0.1908\n"
     ]
    }
   ],
   "source": [
    "# Now train with experiences\n",
    "saver = tf.train.Saver()\n",
    "\n",
    "# Total rewards list for plotting\n",
    "rewards_list = []\n",
    "\n",
    "# TF session for training\n",
    "with tf.Session() as sess:\n",
    "    \n",
    "    # Initialize variables\n",
    "    sess.run(tf.global_variables_initializer())\n",
    "    \n",
    "    step = 0\n",
    "    for ep in range(train_episodes):\n",
    "        total_reward = 0\n",
    "        \n",
    "        t = 0\n",
    "        while t < max_steps:\n",
    "            step += 1\n",
    "            \n",
    "            # Uncomment this next line to watch the training\n",
    "            # env.render() \n",
    "            \n",
    "            # Explore or Exploit\n",
    "            explore_p = explore_stop + (explore_start - explore_stop)*np.exp(-decay_rate*step) \n",
    "            if explore_p > np.random.rand():\n",
    "                # Make a random action\n",
    "                action = env.action_space.sample()\n",
    "            else:\n",
    "                # Get action from Q-network\n",
    "                feed = {mainQN.inputs: state.reshape((1, *state.shape))}\n",
    "                Qs = sess.run(mainQN.output, feed_dict=feed)\n",
    "                action = np.argmax(Qs)\n",
    "            \n",
    "            # Take action, get new state and reward\n",
    "            next_state, reward, done, _ = env.step(action)\n",
    "    \n",
    "            # Cumulative reward\n",
    "            total_reward += reward\n",
    "            \n",
    "            if done:\n",
    "                # the episode ends so no next state\n",
    "                next_state = np.zeros(state.shape)\n",
    "                t = max_steps\n",
    "                \n",
    "                print('Episode: {}'.format(ep),\n",
    "                      'Total reward: {}'.format(total_reward),\n",
    "                      'Training loss: {:.4f}'.format(loss),\n",
    "                      'Explore P: {:.4f}'.format(explore_p))\n",
    "                \n",
    "                # total rewards for plotting\n",
    "                rewards_list.append((ep, total_reward))\n",
    "                \n",
    "                # Add experience to memory\n",
    "                memory.add((state, action, reward, next_state))\n",
    "                \n",
    "                # Start new episode\n",
    "                env.reset()\n",
    "                \n",
    "                # Take one random step to get the pole and cart moving\n",
    "                state, reward, done, _ = env.step(env.action_space.sample())\n",
    "\n",
    "            else:\n",
    "                # Add experience to memory\n",
    "                memory.add((state, action, reward, next_state))\n",
    "                state = next_state\n",
    "                t += 1\n",
    "            \n",
    "            # Sample mini-batch from memory\n",
    "            batch = memory.sample(batch_size)\n",
    "            states = np.array([each[0] for each in batch])\n",
    "            actions = np.array([each[1] for each in batch])\n",
    "            rewards = np.array([each[2] for each in batch])\n",
    "            next_states = np.array([each[3] for each in batch])\n",
    "            \n",
    "            # Train network\n",
    "            target_Qs = sess.run(mainQN.output, feed_dict={mainQN.inputs: next_states})\n",
    "\n",
    "            # Set target_Qs to 0 for states where episode ends\n",
    "            episode_ends = (next_states == np.zeros(states[0].shape)).all(axis=1)\n",
    "            target_Qs[episode_ends] = (0, 0)\n",
    "\n",
    "            # Bellman equation\n",
    "            targets = rewards + (gamma * np.max(target_Qs, axis=1))\n",
    "\n",
    "            # Updating the model\n",
    "            loss, _ = sess.run([mainQN.loss, mainQN.opt],\n",
    "                                feed_dict={mainQN.inputs: states,\n",
    "                                           mainQN.targetQs: targets,\n",
    "                                           mainQN.actions: actions})\n",
    "    # Save the trained model \n",
    "    saver.save(sess, \"checkpoints/cartpole__.ckpt\")"
   ]
  },
  {
   "cell_type": "markdown",
   "metadata": {},
   "source": [
    "## Visualizing training\n",
    "\n",
    "Below I'll plot the total rewards for each episode. I'm plotting the rolling average too, in blue."
   ]
  },
  {
   "cell_type": "code",
   "execution_count": 59,
   "metadata": {},
   "outputs": [],
   "source": [
    "%matplotlib inline\n",
    "import matplotlib.pyplot as plt\n",
    "\n",
    "def running_mean(x, N):\n",
    "    cumsum = np.cumsum(np.insert(x, 0, 0)) \n",
    "    return (cumsum[N:] - cumsum[:-N]) / N "
   ]
  },
  {
   "cell_type": "code",
   "execution_count": 60,
   "metadata": {},
   "outputs": [
    {
     "data": {
      "text/plain": [
       "Text(0,0.5,'Total Reward')"
      ]
     },
     "execution_count": 60,
     "metadata": {},
     "output_type": "execute_result"
    },
    {
     "data": {
      "image/png": "[encoded data removed]",
      "text/plain": [
       "<Figure size 432x288 with 1 Axes>"
      ]
     },
     "metadata": {},
     "output_type": "display_data"
    }
   ],
   "source": [
    "eps, rews = np.array(rewards_list).T\n",
    "smoothed_rews = running_mean(rews, 10)\n",
    "plt.plot(eps[-len(smoothed_rews):], smoothed_rews)\n",
    "plt.plot(eps, rews, color='grey', alpha=0.3)\n",
    "plt.xlabel('Episode')\n",
    "plt.ylabel('Total Reward')"
   ]
  },
  {
   "cell_type": "markdown",
   "metadata": {},
   "source": [
    "## Testing\n",
    "\n",
    "Let's checkout how our trained agent plays the game."
   ]
  },
  {
   "cell_type": "code",
   "execution_count": 13,
   "metadata": {},
   "outputs": [
    {
     "name": "stdout",
     "output_type": "stream",
     "text": [
      "INFO:tensorflow:Restoring parameters from checkpoints/cartpole.ckpt\n"
     ]
    }
   ],
   "source": [
    "test_episodes = 10\n",
    "test_max_steps = 400\n",
    "env.reset()\n",
    "with tf.Session() as sess:\n",
    "    saver.restore(sess, tf.train.latest_checkpoint('checkpoints'))\n",
    "    \n",
    "    for ep in range(1, test_episodes):\n",
    "        t = 0\n",
    "        while t < test_max_steps:\n",
    "            env.render() \n",
    "            \n",
    "            # Get action from Q-network\n",
    "            feed = {mainQN.inputs_: state.reshape((1, *state.shape))}\n",
    "            Qs = sess.run(mainQN.output, feed_dict=feed)\n",
    "            action = np.argmax(Qs)\n",
    "            \n",
    "            # Take action, get new state and reward\n",
    "            next_state, reward, done, _ = env.step(action)\n",
    "            \n",
    "            if done:\n",
    "                t = test_max_steps\n",
    "                env.reset()\n",
    "                # Take one random step to get the pole and cart moving\n",
    "                state, reward, done, _ = env.step(env.action_space.sample())\n",
    "\n",
    "            else:\n",
    "                state = next_state\n",
    "                t += 1"
   ]
  },
  {
   "cell_type": "code",
   "execution_count": 184,
   "metadata": {
    "collapsed": true
   },
   "outputs": [],
   "source": [
    "env.close()"
   ]
  },
  {
   "cell_type": "markdown",
   "metadata": {},
   "source": [
    "## Extending this\n",
    "\n",
    "So, Cart-Pole is a pretty simple game. However, the same model can be used to train an agent to play something much more complicated like Pong or Space Invaders. Instead of a state like we're using here though, you'd want to use convolutional layers to get the state from the screen images.\n",
    "\n",
    "![Deep Q-Learning Atari](assets/atari-network.png)\n",
    "\n",
    "I'll leave it as a challenge for you to use deep Q-learning to train an agent to play Atari games. Here's the original paper which will get you started: http://www.davidqiu.com:8888/research/nature14236.pdf."
   ]
  }
 ],
 "metadata": {
  "kernelspec": {
   "display_name": "Python 3",
   "language": "python",
   "name": "python3"
  },
  "language_info": {
   "codemirror_mode": {
    "name": "ipython",
    "version": 3
   },
   "file_extension": ".py",
   "mimetype": "text/x-python",
   "name": "python",
   "nbconvert_exporter": "python",
   "pygments_lexer": "ipython3",
   "version": "3.6.5"
  }
 },
 "nbformat": 4,
 "nbformat_minor": 2
}
