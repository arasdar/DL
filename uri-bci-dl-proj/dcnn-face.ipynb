{
 "cells": [
  {
   "cell_type": "code",
   "execution_count": 1,
   "metadata": {},
   "outputs": [
    {
     "name": "stdout",
     "output_type": "stream",
     "text": [
      "(18720, 205, 16) float64 (18720, 1) uint8\n",
      "0.833333333333 0.166666666667 0.0 0.0\n",
      "[2]\n"
     ]
    }
   ],
   "source": [
    "# Read the dataset\n",
    "import scipy.io as spio\n",
    "import numpy as np\n",
    "\n",
    "BahramFace = spio.loadmat(file_name='/home/arasdar/datasets/bci-project-data-RAW/BahramFace.mat')\n",
    "DJFace = spio.loadmat(file_name='/home/arasdar/datasets/bci-project-data-RAW/DJFace.mat')\n",
    "NickFace = spio.loadmat(file_name='/home/arasdar/datasets/bci-project-data-RAW/NickFace.mat')\n",
    "RoohiFace = spio.loadmat(file_name='/home/arasdar/datasets/bci-project-data-RAW/RoohiFace.mat')\n",
    "SarahFace = spio.loadmat(file_name='/home/arasdar/datasets/bci-project-data-RAW/SarahFace.mat')\n",
    "\n",
    "AllData = np.concatenate((BahramFace['Intensification_Data'],\n",
    "                            DJFace['Intensification_Data'],\n",
    "                            NickFace['Intensification_Data'],\n",
    "                            RoohiFace['Intensification_Data'],\n",
    "                            SarahFace['Intensification_Data']), axis=0)\n",
    "\n",
    "AllLabels = np.concatenate((BahramFace['Intensification_Label'],\n",
    "                            DJFace['Intensification_Label'],\n",
    "                            NickFace['Intensification_Label'],\n",
    "                            RoohiFace['Intensification_Label'],\n",
    "                            SarahFace['Intensification_Label']), axis=0)\n",
    "\n",
    "print(AllData.shape, AllData.dtype, AllLabels.shape, AllLabels.dtype)\n",
    "print(np.mean(AllLabels==0), np.mean(AllLabels==1), np.mean(AllLabels==2), np.mean(AllLabels==3))\n",
    "print((AllLabels +  1).max(axis=0))"
   ]
  },
  {
   "cell_type": "code",
   "execution_count": 2,
   "metadata": {},
   "outputs": [
    {
     "name": "stdout",
     "output_type": "stream",
     "text": [
      "(13104, 205, 16) (5616, 205, 16) (13104, 1) (5616, 1)\n"
     ]
    }
   ],
   "source": [
    "# Train and test split\n",
    "from sklearn.model_selection import train_test_split\n",
    "\n",
    "X_train_valid, X_test, Y_train_valid, Y_test = train_test_split(AllData, AllLabels, test_size=0.30)\n",
    "\n",
    "print(X_train_valid.shape, X_test.shape, Y_train_valid.shape, Y_test.shape)"
   ]
  },
  {
   "cell_type": "code",
   "execution_count": 3,
   "metadata": {},
   "outputs": [
    {
     "name": "stdout",
     "output_type": "stream",
     "text": [
      "0.0 0.835851648352 0.164148351648 0.0\n",
      "0.0 0.827457264957 0.172542735043 0.0\n",
      "(5616, 2) float64\n"
     ]
    }
   ],
   "source": [
    "from utilities import *\n",
    "\n",
    "# Normalizing/standardizing the input data features\n",
    "X_train_valid_norm, X_test_norm = standardize(test=X_test, train=X_train_valid)\n",
    "\n",
    "# Onehot encoding/vectorizing the output data labels\n",
    "print(np.mean((Y_train_valid+1).reshape(-1)==0), np.mean((Y_train_valid+1).reshape(-1)==1),\n",
    "     np.mean((Y_train_valid+1).reshape(-1)==2), np.mean((Y_train_valid+1).reshape(-1)==3))\n",
    "\n",
    "print(np.mean((Y_test+1).reshape(-1)==0), np.mean((Y_test+1).reshape(-1)==1),\n",
    "     np.mean((Y_test+1).reshape(-1)==2), np.mean((Y_test+1).reshape(-1)==3))\n",
    "\n",
    "# Y_train_valid_onehot = one_hot(labels=(Y_train_valid+1).reshape(-1), n_class=2) \n",
    "# print(Y_train_valid_onehot.shape, Y_train_valid_onehot.dtype, \n",
    "Y_test_onehot = one_hot(labels=(Y_test+1).reshape(-1), n_class=2) \n",
    "print(Y_test_onehot.shape, Y_test_onehot.dtype)"
   ]
  },
  {
   "cell_type": "code",
   "execution_count": 4,
   "metadata": {},
   "outputs": [],
   "source": [
    "# X_train_valid, X_test, Y_train_valid, Y_test = train_test_split(AllData, AllLabels, test_size=0.30)\n",
    "X_train_norm, X_valid_norm, Y_train, Y_valid = train_test_split(X_train_valid_norm, Y_train_valid, \n",
    "                                                                              test_size=0.30)"
   ]
  },
  {
   "cell_type": "code",
   "execution_count": 5,
   "metadata": {},
   "outputs": [],
   "source": [
    "def get_batches2(X_norm, Y_labels, kernel_size_ratio=1, strides_ratio=1):\n",
    "    # X normalized and Y NOT onehot encoded/vectorized\n",
    "    X, Y = X_norm, Y_labels\n",
    "    AllLabels = Y_labels # 100%\n",
    "\n",
    "    # non = 0 is 87%  AllLabelZero\n",
    "    # tgt = 1 is 13%  AllLabelOne\n",
    "    AllLabelZero = (AllLabels==0).reshape(-1) # 87%\n",
    "    AllLabelOne = (AllLabels==1).reshape(-1) # 13%\n",
    "\n",
    "    X_non, Y_non = X[AllLabelZero], Y[AllLabelZero] # 87%\n",
    "    X_tgt, Y_tgt = X[AllLabelOne], Y[AllLabelOne] # 13%\n",
    "#     print('X_non.shape, Y_non.shape', X_non.shape, Y_non.shape)\n",
    "#     print('X_tgt.shape, Y_tgt.shape', X_tgt.shape, Y_tgt.shape)\n",
    "\n",
    "    # Non-target batch size for get_batches from non-target data\n",
    "    batch_size = X_tgt.shape[0] # 13% -> tgt = 1 is 13%  AllLabelOne\n",
    "    assert X_tgt.shape[0] == Y_tgt.shape[0]\n",
    "#     print('batch_size', batch_size)\n",
    "    \n",
    "    # Convolvolutional minibatching technique\n",
    "    (inputs, filters, kernel_size, strides, padding) = (X_non, 1, \n",
    "                                                        int(batch_size//kernel_size_ratio), \n",
    "                                                        int(batch_size//strides_ratio), \n",
    "                                                        0)\n",
    "#     print('inputs.shape, filters, kernel_size, strides, padding', inputs.shape, filters, \n",
    "#           kernel_size, strides, padding)\n",
    "    n_batches = int((inputs.shape[0] - kernel_size + (2*padding))//strides  + 1) \n",
    "#     print('n_batches', n_batches)\n",
    "    \n",
    "    # Loop over target batches: start, stop, step\n",
    "    for i in range(0, n_batches, 1):\n",
    "        each_X_norm = np.concatenate((X_non[(i*strides):((i*strides)+kernel_size)], X_tgt), axis=0)\n",
    "        each_Y = np.concatenate((Y_non[(i*strides):((i*strides)+kernel_size)], Y_tgt), axis=0)\n",
    "        each_Y_onehot = one_hot(labels=(each_Y+1).reshape(-1), n_class=2)\n",
    "#         print('each_X_norm.shape, each_Y_onehot.shape', each_X_norm.shape, each_Y_onehot.shape)\n",
    "#         print('np.mean(each_Y==0), np.mean(each_Y==1)', np.mean(each_Y==0), np.mean(each_Y==1))\n",
    "        yield each_X_norm, each_Y_onehot"
   ]
  },
  {
   "cell_type": "code",
   "execution_count": 6,
   "metadata": {},
   "outputs": [
    {
     "data": {
      "text/plain": [
       "<generator object get_batches2 at 0x7fd972f25d58>"
      ]
     },
     "execution_count": 6,
     "metadata": {},
     "output_type": "execute_result"
    }
   ],
   "source": [
    "get_batches2(X_norm=X_valid_norm, Y_labels=Y_valid, kernel_size_ratio=1, strides_ratio=2)"
   ]
  },
  {
   "cell_type": "code",
   "execution_count": 7,
   "metadata": {},
   "outputs": [
    {
     "data": {
      "text/plain": [
       "<generator object get_batches2 at 0x7fd96ece6ba0>"
      ]
     },
     "execution_count": 7,
     "metadata": {},
     "output_type": "execute_result"
    }
   ],
   "source": [
    "get_batches2(X_norm=X_train_norm, Y_labels=Y_train, kernel_size_ratio=1, strides_ratio=2)"
   ]
  },
  {
   "cell_type": "code",
   "execution_count": 8,
   "metadata": {},
   "outputs": [
    {
     "name": "stdout",
     "output_type": "stream",
     "text": [
      "seq_len, n_channels 205 16\n",
      "n_classes [2]\n"
     ]
    }
   ],
   "source": [
    "## Hyperparameters\n",
    "# Input data\n",
    "# batch_size = X_train_norm.shape[0]// 100 # minibatch size & number of minibatches\n",
    "seq_len = X_train_norm.shape[1] # Number of steps: each trial length\n",
    "n_channels = X_train_norm.shape[2] # number of channels in each trial\n",
    "# print('batch_size, seq_len, n_channels', batch_size, seq_len, n_channels)\n",
    "print('seq_len, n_channels', seq_len, n_channels)\n",
    "\n",
    "# Output labels\n",
    "n_classes = Y_train_valid.max(axis=0)+1\n",
    "assert Y_train_valid.max(axis=0) == Y_test.max(axis=0)\n",
    "print('n_classes', n_classes)\n",
    "\n",
    "# learning parameters\n",
    "learning_rate = 0.0001 #1e-4\n",
    "keep_prob = 0.50 # 90% neurons are kept and 10% are dropped out"
   ]
  },
  {
   "cell_type": "code",
   "execution_count": 9,
   "metadata": {},
   "outputs": [
    {
     "name": "stdout",
     "output_type": "stream",
     "text": [
      "TensorFlow Version: 1.3.0\n",
      "Default GPU Device: /gpu:0\n"
     ]
    }
   ],
   "source": [
    "# GPUs or CPU\n",
    "import tensorflow as tf\n",
    "\n",
    "# Check TensorFlow Version\n",
    "print('TensorFlow Version: {}'.format(tf.__version__))\n",
    "\n",
    "# Check for a GPU\n",
    "print('Default GPU Device: {}'.format(tf.test.gpu_device_name()))"
   ]
  },
  {
   "cell_type": "code",
   "execution_count": 10,
   "metadata": {},
   "outputs": [
    {
     "name": "stdout",
     "output_type": "stream",
     "text": [
      "inputs_.shape, labels_.shape (?, 205, 16) (?, 2)\n"
     ]
    }
   ],
   "source": [
    "# Feed the data from python/numpy to tensorflow framework\n",
    "inputs_ = tf.placeholder(tf.float32, [None, seq_len, n_channels], name = 'inputs_')\n",
    "labels_ = tf.placeholder(tf.float32, [None, n_classes], name = 'labels_')\n",
    "keep_prob_ = tf.placeholder(tf.float32, name = 'keep_prob_')\n",
    "learning_rate_ = tf.placeholder(tf.float32, name = 'learning_rate_')\n",
    "print('inputs_.shape, labels_.shape', inputs_.shape, labels_.shape)"
   ]
  },
  {
   "cell_type": "code",
   "execution_count": 11,
   "metadata": {},
   "outputs": [
    {
     "name": "stdout",
     "output_type": "stream",
     "text": [
      "inputs_.shape, conv1.shape, max_pool_1.shape (?, 205, 16) (?, 204, 32) (?, 102, 32)\n",
      "max_pool_1.shape, conv2.shape, max_pool_2.shape (?, 102, 32) (?, 102, 64) (?, 51, 64)\n",
      "max_pool_2.shape, conv3.shape, max_pool_3.shape (?, 51, 64) (?, 50, 128) (?, 25, 128)\n",
      "max_pool_3.shape, conv4.shape, max_pool_4.shape (?, 25, 128) (?, 24, 256) (?, 12, 256)\n",
      "max_pool_4.shape, flat.shape, logits.shape (?, 12, 256) (?, 3072) (?, 2)\n"
     ]
    }
   ],
   "source": [
    "# inputs_.shape, labels_.shape (?, 205, 16) (?, 2)\n",
    "# (batch, 205, 16) --> (batch, 102, 32)\n",
    "# conv valid: (205-2+0)/1 + 1 = (203/1)+1 = 203 + 1=204\n",
    "# pool same: (204-2+0)/2 + 1 = (202/2)+1 = 101 + 1=102\n",
    "conv1 = tf.layers.conv1d(inputs=inputs_, filters=32, kernel_size=2, strides=1, padding='valid', \n",
    "                         activation = tf.nn.relu)\n",
    "max_pool_1 = tf.layers.max_pooling1d(inputs=conv1, pool_size=2, strides=2, padding='same')\n",
    "# max_pool_1 = tf.nn.dropout(max_pool_1, keep_prob=keep_prob_)\n",
    "print('inputs_.shape, conv1.shape, max_pool_1.shape', inputs_.shape, conv1.shape, max_pool_1.shape)\n",
    "\n",
    "# (batch, 102, 32) --> (batch, 51, 64)\n",
    "# conv same\n",
    "# pool same: (102-2+0)/2 + 1 = (100/2)+1 = 50 + 1=51\n",
    "conv2 = tf.layers.conv1d(inputs=max_pool_1, filters=64, kernel_size=2, strides=1, padding='same', \n",
    "                         activation = tf.nn.relu)\n",
    "max_pool_2 = tf.layers.max_pooling1d(inputs=conv2, pool_size=2, strides=2, padding='same')\n",
    "# max_pool_2 = tf.nn.dropout(max_pool_2, keep_prob=keep_prob_)\n",
    "print('max_pool_1.shape, conv2.shape, max_pool_2.shape', max_pool_1.shape, conv2.shape, max_pool_2.shape)\n",
    "\n",
    "# (batch, 51, 64) --> (batch, 25, 128)\n",
    "# conv valid: (51-2+0)/1 + 1 = (49/1)+1 = 49 + 1=50\n",
    "# pool same: (50-2+0)/2 + 1 = (48/2)+1 = 24 + 1=25\n",
    "conv3 = tf.layers.conv1d(inputs=max_pool_2, filters=128, kernel_size=2, strides=1, padding='valid', \n",
    "                         activation = tf.nn.relu)\n",
    "max_pool_3 = tf.layers.max_pooling1d(inputs=conv3, pool_size=2, strides=2, padding='same')\n",
    "# max_pool_3 = tf.nn.dropout(max_pool_3, keep_prob=keep_prob_)\n",
    "print('max_pool_2.shape, conv3.shape, max_pool_3.shape', max_pool_2.shape, conv3.shape, max_pool_3.shape)\n",
    "\n",
    "# (batch, 25, 128) --> (batch, 12, 256)\n",
    "# conv valid: (25-2+0)/1 + 1 = (23/1)+1 = 23 + 1=24\n",
    "# pool same: (24-2+0)/2 + 1 = (22/2)+1 = 11 + 1=12\n",
    "conv4 = tf.layers.conv1d(inputs=max_pool_3, filters=256, kernel_size=2, strides=1, padding='valid', \n",
    "                         activation = tf.nn.relu)\n",
    "max_pool_4 = tf.layers.max_pooling1d(inputs=conv4, pool_size=2, strides=2, padding='same')\n",
    "# max_pool_4 = tf.nn.dropout(max_pool_4, keep_prob=keep_prob_)\n",
    "print('max_pool_3.shape, conv4.shape, max_pool_4.shape', max_pool_3.shape, conv4.shape, max_pool_4.shape)\n",
    "\n",
    "# Flatten and add dropout + predicted output\n",
    "flat = tf.reshape(max_pool_4, (-1, 12*256))\n",
    "flat = tf.nn.dropout(flat, keep_prob=keep_prob_)\n",
    "logits = tf.layers.dense(flat, n_classes)\n",
    "probs = tf.nn.softmax(logits=logits)\n",
    "print('max_pool_4.shape, flat.shape, logits.shape', max_pool_4.shape, flat.shape, logits.shape)"
   ]
  },
  {
   "cell_type": "code",
   "execution_count": 12,
   "metadata": {},
   "outputs": [
    {
     "name": "stdout",
     "output_type": "stream",
     "text": [
      "cost, cost_ave: Tensor(\"Reshape_3:0\", shape=(?,), dtype=float32) Tensor(\"Mean:0\", shape=(), dtype=float32)\n",
      "optimizer: name: \"Adam\"\n",
      "op: \"NoOp\"\n",
      "input: \"^Adam/update_conv1d/kernel/ApplyAdam\"\n",
      "input: \"^Adam/update_conv1d/bias/ApplyAdam\"\n",
      "input: \"^Adam/update_conv1d_1/kernel/ApplyAdam\"\n",
      "input: \"^Adam/update_conv1d_1/bias/ApplyAdam\"\n",
      "input: \"^Adam/update_conv1d_2/kernel/ApplyAdam\"\n",
      "input: \"^Adam/update_conv1d_2/bias/ApplyAdam\"\n",
      "input: \"^Adam/update_conv1d_3/kernel/ApplyAdam\"\n",
      "input: \"^Adam/update_conv1d_3/bias/ApplyAdam\"\n",
      "input: \"^Adam/update_dense/kernel/ApplyAdam\"\n",
      "input: \"^Adam/update_dense/bias/ApplyAdam\"\n",
      "input: \"^Adam/Assign\"\n",
      "input: \"^Adam/Assign_1\"\n",
      "\n",
      "correct_pred, correct_pred_ave: Tensor(\"Equal:0\", shape=(?,), dtype=bool) Tensor(\"Mean_1:0\", shape=(), dtype=float32)\n",
      "confusion Tensor(\"confusion_matrix/SparseTensorDenseAdd:0\", shape=(?, ?), dtype=int32)\n"
     ]
    }
   ],
   "source": [
    "# Backward pass: error backpropagation\n",
    "# Cost function\n",
    "cost = tf.nn.softmax_cross_entropy_with_logits(logits=logits, labels=labels_)\n",
    "cost_ave = tf.reduce_mean(input_tensor=cost)\n",
    "print('cost, cost_ave:', cost, cost_ave)\n",
    "\n",
    "# Optimizer\n",
    "optimizer = tf.train.AdamOptimizer(learning_rate=learning_rate_).minimize(cost)\n",
    "print('optimizer:', optimizer)\n",
    "\n",
    "# Accuracy\n",
    "correct_pred = tf.equal(x=tf.argmax(input=probs, axis=1), y=tf.argmax(input=labels_, axis=1))\n",
    "correct_pred_ave = tf.reduce_mean(input_tensor=tf.cast(x=correct_pred, dtype=tf.float32))\n",
    "print('correct_pred, correct_pred_ave:', correct_pred, correct_pred_ave)\n",
    "\n",
    "# Confusion matrix\n",
    "confusion = tf.confusion_matrix(predictions=tf.argmax(input=probs, axis=1), \n",
    "                                labels=tf.argmax(input=labels_, axis=1))\n",
    "print('confusion', confusion)"
   ]
  },
  {
   "cell_type": "code",
   "execution_count": 13,
   "metadata": {},
   "outputs": [
    {
     "name": "stdout",
     "output_type": "stream",
     "text": [
      "Epoch: 1/300 Train loss: 0.699877 Valid loss: 0.689768 Train acc: 0.516127 Valid acc: 0.542006\n",
      "Epoch: 2/300 Train loss: 0.695889 Valid loss: 0.686440 Train acc: 0.524884 Valid acc: 0.571458\n",
      "Epoch: 3/300 Train loss: 0.691757 Valid loss: 0.683121 Train acc: 0.538180 Valid acc: 0.594974\n",
      "Epoch: 4/300 Train loss: 0.687840 Valid loss: 0.679855 Train acc: 0.550744 Valid acc: 0.613354\n",
      "Epoch: 5/300 Train loss: 0.683304 Valid loss: 0.676613 Train acc: 0.563834 Valid acc: 0.628069\n",
      "Epoch: 6/300 Train loss: 0.678765 Valid loss: 0.673222 Train acc: 0.576570 Valid acc: 0.639091\n",
      "Epoch: 7/300 Train loss: 0.674258 Valid loss: 0.669624 Train acc: 0.587697 Valid acc: 0.647013\n",
      "Epoch: 8/300 Train loss: 0.669667 Valid loss: 0.665829 Train acc: 0.598563 Valid acc: 0.654447\n",
      "Epoch: 9/300 Train loss: 0.664849 Valid loss: 0.661797 Train acc: 0.608908 Valid acc: 0.661041\n",
      "Epoch: 10/300 Train loss: 0.659687 Valid loss: 0.657481 Train acc: 0.618513 Valid acc: 0.666646\n",
      "Epoch: 11/300 Train loss: 0.654292 Valid loss: 0.652897 Train acc: 0.627778 Valid acc: 0.672035\n",
      "Epoch: 12/300 Train loss: 0.648531 Valid loss: 0.648068 Train acc: 0.636087 Valid acc: 0.676800\n",
      "Epoch: 13/300 Train loss: 0.642342 Valid loss: 0.643042 Train acc: 0.644146 Valid acc: 0.681423\n",
      "Epoch: 14/300 Train loss: 0.636290 Valid loss: 0.637835 Train acc: 0.651525 Valid acc: 0.685575\n",
      "Epoch: 15/300 Train loss: 0.629960 Valid loss: 0.632577 Train acc: 0.658374 Valid acc: 0.689419\n",
      "Epoch: 16/300 Train loss: 0.623731 Valid loss: 0.627282 Train acc: 0.664801 Valid acc: 0.693045\n",
      "Epoch: 17/300 Train loss: 0.617435 Valid loss: 0.622038 Train acc: 0.670542 Valid acc: 0.696576\n",
      "Epoch: 18/300 Train loss: 0.611195 Valid loss: 0.616887 Train acc: 0.676070 Valid acc: 0.699930\n",
      "Epoch: 19/300 Train loss: 0.605088 Valid loss: 0.611896 Train acc: 0.681184 Valid acc: 0.703008\n",
      "Epoch: 20/300 Train loss: 0.599115 Valid loss: 0.607096 Train acc: 0.686061 Valid acc: 0.706052\n",
      "Epoch: 21/300 Train loss: 0.593297 Valid loss: 0.602506 Train acc: 0.690778 Valid acc: 0.709016\n",
      "Epoch: 22/300 Train loss: 0.587621 Valid loss: 0.598103 Train acc: 0.695151 Valid acc: 0.711841\n",
      "Epoch: 23/300 Train loss: 0.582007 Valid loss: 0.593895 Train acc: 0.699471 Valid acc: 0.714582\n",
      "Epoch: 24/300 Train loss: 0.576666 Valid loss: 0.589851 Train acc: 0.703492 Valid acc: 0.717267\n",
      "Epoch: 25/300 Train loss: 0.571566 Valid loss: 0.585981 Train acc: 0.707212 Valid acc: 0.719848\n",
      "Epoch: 26/300 Train loss: 0.566539 Valid loss: 0.582280 Train acc: 0.710867 Valid acc: 0.722329\n",
      "Epoch: 27/300 Train loss: 0.561794 Valid loss: 0.578708 Train acc: 0.714215 Valid acc: 0.724742\n",
      "Epoch: 28/300 Train loss: 0.557186 Valid loss: 0.575310 Train acc: 0.717439 Valid acc: 0.727067\n",
      "Epoch: 29/300 Train loss: 0.552805 Valid loss: 0.572046 Train acc: 0.720496 Valid acc: 0.729284\n",
      "Epoch: 30/300 Train loss: 0.548445 Valid loss: 0.568892 Train acc: 0.723501 Valid acc: 0.731433\n",
      "Epoch: 31/300 Train loss: 0.544295 Valid loss: 0.565905 Train acc: 0.726363 Valid acc: 0.733474\n",
      "Epoch: 32/300 Train loss: 0.540275 Valid loss: 0.563030 Train acc: 0.729077 Valid acc: 0.735442\n",
      "Epoch: 33/300 Train loss: 0.536426 Valid loss: 0.560299 Train acc: 0.731737 Valid acc: 0.737322\n",
      "Epoch: 34/300 Train loss: 0.532649 Valid loss: 0.557666 Train acc: 0.734295 Valid acc: 0.739166\n",
      "Epoch: 35/300 Train loss: 0.528945 Valid loss: 0.555120 Train acc: 0.736863 Valid acc: 0.740920\n",
      "Epoch: 36/300 Train loss: 0.525435 Valid loss: 0.552717 Train acc: 0.739210 Valid acc: 0.742587\n",
      "Epoch: 37/300 Train loss: 0.522009 Valid loss: 0.550390 Train acc: 0.741464 Valid acc: 0.744141\n",
      "Epoch: 38/300 Train loss: 0.518655 Valid loss: 0.548168 Train acc: 0.743617 Valid acc: 0.745645\n",
      "Epoch: 39/300 Train loss: 0.515485 Valid loss: 0.546041 Train acc: 0.745712 Valid acc: 0.747093\n",
      "Epoch: 40/300 Train loss: 0.512421 Valid loss: 0.544005 Train acc: 0.747723 Valid acc: 0.748468\n",
      "Epoch: 41/300 Train loss: 0.509413 Valid loss: 0.542044 Train acc: 0.749730 Valid acc: 0.749816\n",
      "Epoch: 42/300 Train loss: 0.506464 Valid loss: 0.540160 Train acc: 0.751739 Valid acc: 0.751113\n",
      "Epoch: 43/300 Train loss: 0.503629 Valid loss: 0.538342 Train acc: 0.753568 Valid acc: 0.752369\n",
      "Epoch: 44/300 Train loss: 0.500860 Valid loss: 0.536581 Train acc: 0.755358 Valid acc: 0.753552\n",
      "Epoch: 45/300 Train loss: 0.498139 Valid loss: 0.534902 Train acc: 0.757157 Valid acc: 0.754688\n",
      "Epoch: 46/300 Train loss: 0.495496 Valid loss: 0.533249 Train acc: 0.758867 Valid acc: 0.755774\n",
      "Epoch: 47/300 Train loss: 0.492904 Valid loss: 0.531682 Train acc: 0.760511 Valid acc: 0.756832\n",
      "Epoch: 48/300 Train loss: 0.490388 Valid loss: 0.530177 Train acc: 0.762082 Valid acc: 0.757857\n",
      "Epoch: 49/300 Train loss: 0.487966 Valid loss: 0.528711 Train acc: 0.763586 Valid acc: 0.758876\n",
      "Epoch: 50/300 Train loss: 0.485612 Valid loss: 0.527328 Train acc: 0.765111 Valid acc: 0.759871\n",
      "Epoch: 51/300 Train loss: 0.483292 Valid loss: 0.525996 Train acc: 0.766539 Valid acc: 0.760841\n",
      "Epoch: 52/300 Train loss: 0.480969 Valid loss: 0.524699 Train acc: 0.767948 Valid acc: 0.761799\n",
      "Epoch: 53/300 Train loss: 0.478770 Valid loss: 0.523489 Train acc: 0.769319 Valid acc: 0.762728\n",
      "Epoch: 54/300 Train loss: 0.476631 Valid loss: 0.522289 Train acc: 0.770642 Valid acc: 0.763644\n",
      "Epoch: 55/300 Train loss: 0.474555 Valid loss: 0.521144 Train acc: 0.771903 Valid acc: 0.764563\n",
      "Epoch: 56/300 Train loss: 0.472456 Valid loss: 0.520033 Train acc: 0.773197 Valid acc: 0.765489\n",
      "Epoch: 57/300 Train loss: 0.470448 Valid loss: 0.518959 Train acc: 0.774415 Valid acc: 0.766393\n",
      "Epoch: 58/300 Train loss: 0.468412 Valid loss: 0.517944 Train acc: 0.775691 Valid acc: 0.767262\n",
      "Epoch: 59/300 Train loss: 0.466464 Valid loss: 0.516949 Train acc: 0.776891 Valid acc: 0.768097\n",
      "Epoch: 60/300 Train loss: 0.464558 Valid loss: 0.516003 Train acc: 0.778044 Valid acc: 0.768877\n",
      "Epoch: 61/300 Train loss: 0.462684 Valid loss: 0.515077 Train acc: 0.779152 Valid acc: 0.769642\n",
      "Epoch: 62/300 Train loss: 0.460828 Valid loss: 0.514183 Train acc: 0.780289 Valid acc: 0.770386\n",
      "Epoch: 63/300 Train loss: 0.459021 Valid loss: 0.513319 Train acc: 0.781361 Valid acc: 0.771117\n",
      "Epoch: 64/300 Train loss: 0.457204 Valid loss: 0.512502 Train acc: 0.782489 Valid acc: 0.771800\n",
      "Epoch: 65/300 Train loss: 0.455457 Valid loss: 0.511692 Train acc: 0.783494 Valid acc: 0.772472\n",
      "Epoch: 66/300 Train loss: 0.453726 Valid loss: 0.510908 Train acc: 0.784536 Valid acc: 0.773135\n",
      "Epoch: 67/300 Train loss: 0.452000 Valid loss: 0.510171 Train acc: 0.785565 Valid acc: 0.773784\n",
      "Epoch: 68/300 Train loss: 0.450312 Valid loss: 0.509437 Train acc: 0.786584 Valid acc: 0.774422\n",
      "Epoch: 69/300 Train loss: 0.448618 Valid loss: 0.508764 Train acc: 0.787597 Valid acc: 0.775021\n",
      "Epoch: 70/300 Train loss: 0.447011 Valid loss: 0.508086 Train acc: 0.788583 Valid acc: 0.775609\n",
      "Epoch: 71/300 Train loss: 0.445410 Valid loss: 0.507445 Train acc: 0.789523 Valid acc: 0.776178\n",
      "Epoch: 72/300 Train loss: 0.443822 Valid loss: 0.506816 Train acc: 0.790451 Valid acc: 0.776732\n",
      "Epoch: 73/300 Train loss: 0.442270 Valid loss: 0.506199 Train acc: 0.791366 Valid acc: 0.777268\n",
      "Epoch: 74/300 Train loss: 0.440708 Valid loss: 0.505610 Train acc: 0.792311 Valid acc: 0.777786\n",
      "Epoch: 75/300 Train loss: 0.439157 Valid loss: 0.505024 Train acc: 0.793240 Valid acc: 0.778301\n",
      "Epoch: 76/300 Train loss: 0.437643 Valid loss: 0.504475 Train acc: 0.794144 Valid acc: 0.778772\n",
      "Epoch: 77/300 Train loss: 0.436142 Valid loss: 0.503941 Train acc: 0.795054 Valid acc: 0.779249\n",
      "Epoch: 78/300 Train loss: 0.434689 Valid loss: 0.503424 Train acc: 0.795928 Valid acc: 0.779724\n",
      "Epoch: 79/300 Train loss: 0.433267 Valid loss: 0.502941 Train acc: 0.796769 Valid acc: 0.780171\n",
      "Epoch: 80/300 Train loss: 0.431833 Valid loss: 0.502459 Train acc: 0.797637 Valid acc: 0.780625\n",
      "Epoch: 81/300 Train loss: 0.430433 Valid loss: 0.502020 Train acc: 0.798495 Valid acc: 0.781071\n",
      "Epoch: 82/300 Train loss: 0.429044 Valid loss: 0.501610 Train acc: 0.799310 Valid acc: 0.781499\n",
      "Epoch: 83/300 Train loss: 0.427656 Valid loss: 0.501200 Train acc: 0.800120 Valid acc: 0.781918\n",
      "Epoch: 84/300 Train loss: 0.426296 Valid loss: 0.500833 Train acc: 0.800944 Valid acc: 0.782340\n",
      "Epoch: 85/300 Train loss: 0.424954 Valid loss: 0.500443 Train acc: 0.801739 Valid acc: 0.782754\n",
      "Epoch: 86/300 Train loss: 0.423633 Valid loss: 0.500108 Train acc: 0.802529 Valid acc: 0.783143\n"
     ]
    },
    {
     "name": "stdout",
     "output_type": "stream",
     "text": [
      "Epoch: 87/300 Train loss: 0.422314 Valid loss: 0.499750 Train acc: 0.803299 Valid acc: 0.783538\n",
      "Epoch: 88/300 Train loss: 0.421013 Valid loss: 0.499451 Train acc: 0.804066 Valid acc: 0.783921\n",
      "Epoch: 89/300 Train loss: 0.419706 Valid loss: 0.499127 Train acc: 0.804838 Valid acc: 0.784290\n",
      "Epoch: 90/300 Train loss: 0.418427 Valid loss: 0.498869 Train acc: 0.805603 Valid acc: 0.784658\n",
      "Epoch: 91/300 Train loss: 0.417162 Valid loss: 0.498578 Train acc: 0.806358 Valid acc: 0.785015\n",
      "Epoch: 92/300 Train loss: 0.415877 Valid loss: 0.498339 Train acc: 0.807104 Valid acc: 0.785375\n",
      "Epoch: 93/300 Train loss: 0.414639 Valid loss: 0.498087 Train acc: 0.807824 Valid acc: 0.785719\n",
      "Epoch: 94/300 Train loss: 0.413414 Valid loss: 0.497871 Train acc: 0.808533 Valid acc: 0.786059\n",
      "Epoch: 95/300 Train loss: 0.412209 Valid loss: 0.497649 Train acc: 0.809243 Valid acc: 0.786395\n",
      "Epoch: 96/300 Train loss: 0.410992 Valid loss: 0.497437 Train acc: 0.809964 Valid acc: 0.786737\n",
      "Epoch: 97/300 Train loss: 0.409795 Valid loss: 0.497251 Train acc: 0.810660 Valid acc: 0.787075\n",
      "Epoch: 98/300 Train loss: 0.408608 Valid loss: 0.497064 Train acc: 0.811352 Valid acc: 0.787420\n",
      "Epoch: 99/300 Train loss: 0.407420 Valid loss: 0.496898 Train acc: 0.812025 Valid acc: 0.787755\n",
      "Epoch: 100/300 Train loss: 0.406211 Valid loss: 0.496728 Train acc: 0.812731 Valid acc: 0.788096\n",
      "Epoch: 101/300 Train loss: 0.405048 Valid loss: 0.496566 Train acc: 0.813421 Valid acc: 0.788434\n",
      "Epoch: 102/300 Train loss: 0.403868 Valid loss: 0.496410 Train acc: 0.814126 Valid acc: 0.788761\n",
      "Epoch: 103/300 Train loss: 0.402713 Valid loss: 0.496295 Train acc: 0.814799 Valid acc: 0.789076\n",
      "Epoch: 104/300 Train loss: 0.401568 Valid loss: 0.496172 Train acc: 0.815464 Valid acc: 0.789383\n",
      "Epoch: 105/300 Train loss: 0.400429 Valid loss: 0.496048 Train acc: 0.816135 Valid acc: 0.789679\n",
      "Epoch: 106/300 Train loss: 0.399313 Valid loss: 0.495927 Train acc: 0.816780 Valid acc: 0.789961\n",
      "Epoch: 107/300 Train loss: 0.398170 Valid loss: 0.495832 Train acc: 0.817442 Valid acc: 0.790225\n",
      "Epoch: 108/300 Train loss: 0.397034 Valid loss: 0.495749 Train acc: 0.818098 Valid acc: 0.790489\n",
      "Epoch: 109/300 Train loss: 0.395905 Valid loss: 0.495667 Train acc: 0.818742 Valid acc: 0.790757\n",
      "Epoch: 110/300 Train loss: 0.394811 Valid loss: 0.495612 Train acc: 0.819373 Valid acc: 0.791015\n",
      "Epoch: 111/300 Train loss: 0.393710 Valid loss: 0.495559 Train acc: 0.820008 Valid acc: 0.791276\n",
      "Epoch: 112/300 Train loss: 0.392624 Valid loss: 0.495521 Train acc: 0.820627 Valid acc: 0.791537\n",
      "Epoch: 113/300 Train loss: 0.391521 Valid loss: 0.495515 Train acc: 0.821279 Valid acc: 0.791777\n",
      "Epoch: 114/300 Train loss: 0.390407 Valid loss: 0.495496 Train acc: 0.821912 Valid acc: 0.792015\n",
      "Epoch: 115/300 Train loss: 0.389351 Valid loss: 0.495497 Train acc: 0.822517 Valid acc: 0.792235\n",
      "Epoch: 116/300 Train loss: 0.388263 Valid loss: 0.495492 Train acc: 0.823146 Valid acc: 0.792468\n",
      "Epoch: 117/300 Train loss: 0.387185 Valid loss: 0.495513 Train acc: 0.823756 Valid acc: 0.792695\n",
      "Epoch: 118/300 Train loss: 0.386129 Valid loss: 0.495543 Train acc: 0.824355 Valid acc: 0.792917\n",
      "Epoch: 119/300 Train loss: 0.385085 Valid loss: 0.495571 Train acc: 0.824935 Valid acc: 0.793147\n",
      "Epoch: 120/300 Train loss: 0.384057 Valid loss: 0.495634 Train acc: 0.825530 Valid acc: 0.793351\n",
      "Epoch: 121/300 Train loss: 0.383031 Valid loss: 0.495676 Train acc: 0.826123 Valid acc: 0.793569\n",
      "Epoch: 122/300 Train loss: 0.381999 Valid loss: 0.495738 Train acc: 0.826723 Valid acc: 0.793767\n",
      "Epoch: 123/300 Train loss: 0.380976 Valid loss: 0.495804 Train acc: 0.827294 Valid acc: 0.793962\n",
      "Epoch: 124/300 Train loss: 0.379954 Valid loss: 0.495853 Train acc: 0.827874 Valid acc: 0.794185\n",
      "Epoch: 125/300 Train loss: 0.378931 Valid loss: 0.495951 Train acc: 0.828467 Valid acc: 0.794342\n",
      "Epoch: 126/300 Train loss: 0.377929 Valid loss: 0.496025 Train acc: 0.829012 Valid acc: 0.794533\n",
      "Epoch: 127/300 Train loss: 0.376912 Valid loss: 0.496121 Train acc: 0.829598 Valid acc: 0.794706\n",
      "Epoch: 128/300 Train loss: 0.375914 Valid loss: 0.496227 Train acc: 0.830157 Valid acc: 0.794866\n",
      "Epoch: 129/300 Train loss: 0.374908 Valid loss: 0.496314 Train acc: 0.830718 Valid acc: 0.795043\n",
      "Epoch: 130/300 Train loss: 0.373910 Valid loss: 0.496447 Train acc: 0.831297 Valid acc: 0.795178\n",
      "Epoch: 131/300 Train loss: 0.372905 Valid loss: 0.496567 Train acc: 0.831846 Valid acc: 0.795333\n",
      "Epoch: 132/300 Train loss: 0.371909 Valid loss: 0.496708 Train acc: 0.832412 Valid acc: 0.795464\n",
      "Epoch: 133/300 Train loss: 0.370957 Valid loss: 0.496885 Train acc: 0.832949 Valid acc: 0.795585\n",
      "Epoch: 134/300 Train loss: 0.369975 Valid loss: 0.497024 Train acc: 0.833509 Valid acc: 0.795722\n",
      "Epoch: 135/300 Train loss: 0.369004 Valid loss: 0.497233 Train acc: 0.834062 Valid acc: 0.795823\n",
      "Epoch: 136/300 Train loss: 0.368015 Valid loss: 0.497399 Train acc: 0.834615 Valid acc: 0.795937\n",
      "Epoch: 137/300 Train loss: 0.367044 Valid loss: 0.497604 Train acc: 0.835168 Valid acc: 0.796044\n",
      "Epoch: 138/300 Train loss: 0.366080 Valid loss: 0.497830 Train acc: 0.835703 Valid acc: 0.796158\n",
      "Epoch: 139/300 Train loss: 0.365119 Valid loss: 0.498025 Train acc: 0.836249 Valid acc: 0.796293\n",
      "Epoch: 140/300 Train loss: 0.364169 Valid loss: 0.498256 Train acc: 0.836778 Valid acc: 0.796393\n",
      "Epoch: 141/300 Train loss: 0.363218 Valid loss: 0.498450 Train acc: 0.837310 Valid acc: 0.796506\n",
      "Epoch: 142/300 Train loss: 0.362286 Valid loss: 0.498697 Train acc: 0.837815 Valid acc: 0.796609\n",
      "Epoch: 143/300 Train loss: 0.361340 Valid loss: 0.498916 Train acc: 0.838336 Valid acc: 0.796725\n",
      "Epoch: 144/300 Train loss: 0.360403 Valid loss: 0.499162 Train acc: 0.838873 Valid acc: 0.796820\n",
      "Epoch: 145/300 Train loss: 0.359461 Valid loss: 0.499426 Train acc: 0.839392 Valid acc: 0.796916\n",
      "Epoch: 146/300 Train loss: 0.358529 Valid loss: 0.499682 Train acc: 0.839915 Valid acc: 0.797018\n",
      "Epoch: 147/300 Train loss: 0.357603 Valid loss: 0.499949 Train acc: 0.840425 Valid acc: 0.797122\n",
      "Epoch: 148/300 Train loss: 0.356690 Valid loss: 0.500224 Train acc: 0.840930 Valid acc: 0.797227\n",
      "Epoch: 149/300 Train loss: 0.355747 Valid loss: 0.500512 Train acc: 0.841473 Valid acc: 0.797331\n",
      "Epoch: 150/300 Train loss: 0.354828 Valid loss: 0.500804 Train acc: 0.841983 Valid acc: 0.797433\n",
      "Epoch: 151/300 Train loss: 0.353916 Valid loss: 0.501115 Train acc: 0.842481 Valid acc: 0.797525\n",
      "Epoch: 152/300 Train loss: 0.352997 Valid loss: 0.501402 Train acc: 0.842985 Valid acc: 0.797625\n",
      "Epoch: 153/300 Train loss: 0.352088 Valid loss: 0.501718 Train acc: 0.843490 Valid acc: 0.797709\n",
      "Epoch: 154/300 Train loss: 0.351168 Valid loss: 0.502027 Train acc: 0.843994 Valid acc: 0.797798\n",
      "Epoch: 155/300 Train loss: 0.350272 Valid loss: 0.502324 Train acc: 0.844489 Valid acc: 0.797884\n",
      "Epoch: 156/300 Train loss: 0.349378 Valid loss: 0.502649 Train acc: 0.844989 Valid acc: 0.797966\n",
      "Epoch: 157/300 Train loss: 0.348480 Valid loss: 0.502962 Train acc: 0.845490 Valid acc: 0.798051\n",
      "Epoch: 158/300 Train loss: 0.347608 Valid loss: 0.503286 Train acc: 0.845967 Valid acc: 0.798132\n",
      "Epoch: 159/300 Train loss: 0.346722 Valid loss: 0.503605 Train acc: 0.846449 Valid acc: 0.798216\n",
      "Epoch: 160/300 Train loss: 0.345854 Valid loss: 0.503946 Train acc: 0.846921 Valid acc: 0.798292\n",
      "Epoch: 161/300 Train loss: 0.344969 Valid loss: 0.504301 Train acc: 0.847396 Valid acc: 0.798367\n",
      "Epoch: 162/300 Train loss: 0.344084 Valid loss: 0.504642 Train acc: 0.847879 Valid acc: 0.798448\n",
      "Epoch: 163/300 Train loss: 0.343218 Valid loss: 0.505004 Train acc: 0.848352 Valid acc: 0.798526\n",
      "Epoch: 164/300 Train loss: 0.342353 Valid loss: 0.505372 Train acc: 0.848820 Valid acc: 0.798605\n",
      "Epoch: 165/300 Train loss: 0.341491 Valid loss: 0.505721 Train acc: 0.849284 Valid acc: 0.798690\n",
      "Epoch: 166/300 Train loss: 0.340632 Valid loss: 0.506116 Train acc: 0.849747 Valid acc: 0.798765\n",
      "Epoch: 167/300 Train loss: 0.339779 Valid loss: 0.506507 Train acc: 0.850227 Valid acc: 0.798836\n",
      "Epoch: 168/300 Train loss: 0.338934 Valid loss: 0.506855 Train acc: 0.850682 Valid acc: 0.798920\n",
      "Epoch: 169/300 Train loss: 0.338091 Valid loss: 0.507254 Train acc: 0.851144 Valid acc: 0.798992\n",
      "Epoch: 170/300 Train loss: 0.337263 Valid loss: 0.507638 Train acc: 0.851605 Valid acc: 0.799072\n",
      "Epoch: 171/300 Train loss: 0.336403 Valid loss: 0.508034 Train acc: 0.852057 Valid acc: 0.799152\n"
     ]
    },
    {
     "name": "stdout",
     "output_type": "stream",
     "text": [
      "Epoch: 172/300 Train loss: 0.335571 Valid loss: 0.508452 Train acc: 0.852514 Valid acc: 0.799220\n",
      "Epoch: 173/300 Train loss: 0.334733 Valid loss: 0.508836 Train acc: 0.852964 Valid acc: 0.799305\n",
      "Epoch: 174/300 Train loss: 0.333909 Valid loss: 0.509223 Train acc: 0.853419 Valid acc: 0.799381\n",
      "Epoch: 175/300 Train loss: 0.333080 Valid loss: 0.509654 Train acc: 0.853868 Valid acc: 0.799450\n",
      "Epoch: 176/300 Train loss: 0.332236 Valid loss: 0.510038 Train acc: 0.854322 Valid acc: 0.799530\n",
      "Epoch: 177/300 Train loss: 0.331418 Valid loss: 0.510479 Train acc: 0.854753 Valid acc: 0.799599\n",
      "Epoch: 178/300 Train loss: 0.330595 Valid loss: 0.510924 Train acc: 0.855188 Valid acc: 0.799668\n",
      "Epoch: 179/300 Train loss: 0.329765 Valid loss: 0.511361 Train acc: 0.855626 Valid acc: 0.799746\n",
      "Epoch: 180/300 Train loss: 0.328939 Valid loss: 0.511798 Train acc: 0.856072 Valid acc: 0.799826\n",
      "Epoch: 181/300 Train loss: 0.328123 Valid loss: 0.512248 Train acc: 0.856504 Valid acc: 0.799900\n",
      "Epoch: 182/300 Train loss: 0.327311 Valid loss: 0.512709 Train acc: 0.856931 Valid acc: 0.799963\n",
      "Epoch: 183/300 Train loss: 0.326504 Valid loss: 0.513157 Train acc: 0.857362 Valid acc: 0.800030\n",
      "Epoch: 184/300 Train loss: 0.325705 Valid loss: 0.513636 Train acc: 0.857797 Valid acc: 0.800082\n",
      "Epoch: 185/300 Train loss: 0.324902 Valid loss: 0.514112 Train acc: 0.858234 Valid acc: 0.800134\n",
      "Epoch: 186/300 Train loss: 0.324100 Valid loss: 0.514557 Train acc: 0.858669 Valid acc: 0.800199\n",
      "Epoch: 187/300 Train loss: 0.323299 Valid loss: 0.515050 Train acc: 0.859093 Valid acc: 0.800250\n",
      "Epoch: 188/300 Train loss: 0.322496 Valid loss: 0.515485 Train acc: 0.859521 Valid acc: 0.800311\n",
      "Epoch: 189/300 Train loss: 0.321669 Valid loss: 0.515949 Train acc: 0.859959 Valid acc: 0.800372\n",
      "Epoch: 190/300 Train loss: 0.320891 Valid loss: 0.516453 Train acc: 0.860374 Valid acc: 0.800430\n",
      "Epoch: 191/300 Train loss: 0.320106 Valid loss: 0.516920 Train acc: 0.860795 Valid acc: 0.800493\n",
      "Epoch: 192/300 Train loss: 0.319311 Valid loss: 0.517405 Train acc: 0.861198 Valid acc: 0.800548\n",
      "Epoch: 193/300 Train loss: 0.318540 Valid loss: 0.517881 Train acc: 0.861598 Valid acc: 0.800608\n",
      "Epoch: 194/300 Train loss: 0.317777 Valid loss: 0.518368 Train acc: 0.862011 Valid acc: 0.800667\n",
      "Epoch: 195/300 Train loss: 0.317004 Valid loss: 0.518853 Train acc: 0.862420 Valid acc: 0.800726\n",
      "Epoch: 196/300 Train loss: 0.316231 Valid loss: 0.519358 Train acc: 0.862832 Valid acc: 0.800774\n",
      "Epoch: 197/300 Train loss: 0.315450 Valid loss: 0.519880 Train acc: 0.863238 Valid acc: 0.800824\n",
      "Epoch: 198/300 Train loss: 0.314679 Valid loss: 0.520413 Train acc: 0.863645 Valid acc: 0.800874\n",
      "Epoch: 199/300 Train loss: 0.313931 Valid loss: 0.520947 Train acc: 0.864035 Valid acc: 0.800924\n",
      "Epoch: 200/300 Train loss: 0.313169 Valid loss: 0.521456 Train acc: 0.864439 Valid acc: 0.800981\n",
      "Epoch: 201/300 Train loss: 0.312408 Valid loss: 0.521976 Train acc: 0.864833 Valid acc: 0.801025\n",
      "Epoch: 202/300 Train loss: 0.311646 Valid loss: 0.522492 Train acc: 0.865227 Valid acc: 0.801066\n",
      "Epoch: 203/300 Train loss: 0.310899 Valid loss: 0.523042 Train acc: 0.865624 Valid acc: 0.801096\n",
      "Epoch: 204/300 Train loss: 0.310144 Valid loss: 0.523562 Train acc: 0.866023 Valid acc: 0.801141\n",
      "Epoch: 205/300 Train loss: 0.309403 Valid loss: 0.524125 Train acc: 0.866414 Valid acc: 0.801173\n",
      "Epoch: 206/300 Train loss: 0.308644 Valid loss: 0.524685 Train acc: 0.866805 Valid acc: 0.801210\n",
      "Epoch: 207/300 Train loss: 0.307911 Valid loss: 0.525234 Train acc: 0.867189 Valid acc: 0.801257\n",
      "Epoch: 208/300 Train loss: 0.307167 Valid loss: 0.525796 Train acc: 0.867574 Valid acc: 0.801297\n",
      "Epoch: 209/300 Train loss: 0.306433 Valid loss: 0.526344 Train acc: 0.867957 Valid acc: 0.801335\n",
      "Epoch: 210/300 Train loss: 0.305712 Valid loss: 0.526931 Train acc: 0.868345 Valid acc: 0.801361\n",
      "Epoch: 211/300 Train loss: 0.304971 Valid loss: 0.527479 Train acc: 0.868730 Valid acc: 0.801410\n",
      "Epoch: 212/300 Train loss: 0.304232 Valid loss: 0.528072 Train acc: 0.869112 Valid acc: 0.801444\n",
      "Epoch: 213/300 Train loss: 0.303508 Valid loss: 0.528652 Train acc: 0.869490 Valid acc: 0.801478\n",
      "Epoch: 214/300 Train loss: 0.302780 Valid loss: 0.529187 Train acc: 0.869876 Valid acc: 0.801527\n",
      "Epoch: 215/300 Train loss: 0.302065 Valid loss: 0.529782 Train acc: 0.870246 Valid acc: 0.801553\n",
      "Epoch: 216/300 Train loss: 0.301335 Valid loss: 0.530344 Train acc: 0.870613 Valid acc: 0.801586\n",
      "Epoch: 217/300 Train loss: 0.300625 Valid loss: 0.530901 Train acc: 0.870977 Valid acc: 0.801624\n",
      "Epoch: 218/300 Train loss: 0.299906 Valid loss: 0.531494 Train acc: 0.871345 Valid acc: 0.801653\n",
      "Epoch: 219/300 Train loss: 0.299201 Valid loss: 0.532084 Train acc: 0.871718 Valid acc: 0.801686\n",
      "Epoch: 220/300 Train loss: 0.298491 Valid loss: 0.532673 Train acc: 0.872079 Valid acc: 0.801719\n",
      "Epoch: 221/300 Train loss: 0.297789 Valid loss: 0.533280 Train acc: 0.872443 Valid acc: 0.801752\n",
      "Epoch: 222/300 Train loss: 0.297101 Valid loss: 0.533874 Train acc: 0.872788 Valid acc: 0.801787\n",
      "Epoch: 223/300 Train loss: 0.296421 Valid loss: 0.534438 Train acc: 0.873138 Valid acc: 0.801825\n",
      "Epoch: 224/300 Train loss: 0.295725 Valid loss: 0.535044 Train acc: 0.873490 Valid acc: 0.801852\n",
      "Epoch: 225/300 Train loss: 0.295048 Valid loss: 0.535645 Train acc: 0.873835 Valid acc: 0.801877\n",
      "Epoch: 226/300 Train loss: 0.294365 Valid loss: 0.536215 Train acc: 0.874186 Valid acc: 0.801913\n",
      "Epoch: 227/300 Train loss: 0.293669 Valid loss: 0.536828 Train acc: 0.874538 Valid acc: 0.801939\n",
      "Epoch: 228/300 Train loss: 0.292979 Valid loss: 0.537449 Train acc: 0.874894 Valid acc: 0.801975\n",
      "Epoch: 229/300 Train loss: 0.292296 Valid loss: 0.538065 Train acc: 0.875245 Valid acc: 0.802013\n",
      "Epoch: 230/300 Train loss: 0.291608 Valid loss: 0.538698 Train acc: 0.875599 Valid acc: 0.802044\n",
      "Epoch: 231/300 Train loss: 0.290914 Valid loss: 0.539317 Train acc: 0.875957 Valid acc: 0.802080\n",
      "Epoch: 232/300 Train loss: 0.290230 Valid loss: 0.539947 Train acc: 0.876313 Valid acc: 0.802110\n",
      "Epoch: 233/300 Train loss: 0.289550 Valid loss: 0.540581 Train acc: 0.876652 Valid acc: 0.802137\n",
      "Epoch: 234/300 Train loss: 0.288869 Valid loss: 0.541222 Train acc: 0.876990 Valid acc: 0.802153\n",
      "Epoch: 235/300 Train loss: 0.288206 Valid loss: 0.541857 Train acc: 0.877325 Valid acc: 0.802172\n",
      "Epoch: 236/300 Train loss: 0.287528 Valid loss: 0.542487 Train acc: 0.877670 Valid acc: 0.802193\n",
      "Epoch: 237/300 Train loss: 0.286867 Valid loss: 0.543130 Train acc: 0.878010 Valid acc: 0.802213\n",
      "Epoch: 238/300 Train loss: 0.286228 Valid loss: 0.543799 Train acc: 0.878328 Valid acc: 0.802231\n",
      "Epoch: 239/300 Train loss: 0.285569 Valid loss: 0.544423 Train acc: 0.878662 Valid acc: 0.802258\n",
      "Epoch: 240/300 Train loss: 0.284903 Valid loss: 0.545089 Train acc: 0.879004 Valid acc: 0.802276\n",
      "Epoch: 241/300 Train loss: 0.284242 Valid loss: 0.545706 Train acc: 0.879335 Valid acc: 0.802307\n",
      "Epoch: 242/300 Train loss: 0.283580 Valid loss: 0.546389 Train acc: 0.879673 Valid acc: 0.802321\n",
      "Epoch: 243/300 Train loss: 0.282922 Valid loss: 0.547019 Train acc: 0.880007 Valid acc: 0.802355\n",
      "Epoch: 244/300 Train loss: 0.282278 Valid loss: 0.547718 Train acc: 0.880332 Valid acc: 0.802368\n",
      "Epoch: 245/300 Train loss: 0.281625 Valid loss: 0.548387 Train acc: 0.880673 Valid acc: 0.802386\n",
      "Epoch: 246/300 Train loss: 0.280986 Valid loss: 0.549037 Train acc: 0.880993 Valid acc: 0.802406\n",
      "Epoch: 247/300 Train loss: 0.280341 Valid loss: 0.549719 Train acc: 0.881309 Valid acc: 0.802417\n",
      "Epoch: 248/300 Train loss: 0.279710 Valid loss: 0.550373 Train acc: 0.881622 Valid acc: 0.802437\n",
      "Epoch: 249/300 Train loss: 0.279065 Valid loss: 0.551023 Train acc: 0.881957 Valid acc: 0.802461\n",
      "Epoch: 250/300 Train loss: 0.278436 Valid loss: 0.551690 Train acc: 0.882270 Valid acc: 0.802474\n",
      "Epoch: 251/300 Train loss: 0.277805 Valid loss: 0.552368 Train acc: 0.882585 Valid acc: 0.802484\n",
      "Epoch: 252/300 Train loss: 0.277174 Valid loss: 0.553036 Train acc: 0.882898 Valid acc: 0.802500\n",
      "Epoch: 253/300 Train loss: 0.276553 Valid loss: 0.553701 Train acc: 0.883207 Valid acc: 0.802516\n",
      "Epoch: 254/300 Train loss: 0.275932 Valid loss: 0.554371 Train acc: 0.883520 Valid acc: 0.802529\n",
      "Epoch: 255/300 Train loss: 0.275302 Valid loss: 0.555060 Train acc: 0.883828 Valid acc: 0.802540\n",
      "Epoch: 256/300 Train loss: 0.274673 Valid loss: 0.555724 Train acc: 0.884140 Valid acc: 0.802566\n"
     ]
    },
    {
     "name": "stdout",
     "output_type": "stream",
     "text": [
      "Epoch: 257/300 Train loss: 0.274061 Valid loss: 0.556424 Train acc: 0.884447 Valid acc: 0.802568\n",
      "Epoch: 258/300 Train loss: 0.273442 Valid loss: 0.557092 Train acc: 0.884757 Valid acc: 0.802577\n",
      "Epoch: 259/300 Train loss: 0.272829 Valid loss: 0.557785 Train acc: 0.885062 Valid acc: 0.802585\n",
      "Epoch: 260/300 Train loss: 0.272205 Valid loss: 0.558476 Train acc: 0.885375 Valid acc: 0.802594\n",
      "Epoch: 261/300 Train loss: 0.271592 Valid loss: 0.559189 Train acc: 0.885683 Valid acc: 0.802594\n",
      "Epoch: 262/300 Train loss: 0.270987 Valid loss: 0.559863 Train acc: 0.885983 Valid acc: 0.802610\n",
      "Epoch: 263/300 Train loss: 0.270380 Valid loss: 0.560549 Train acc: 0.886282 Valid acc: 0.802621\n",
      "Epoch: 264/300 Train loss: 0.269778 Valid loss: 0.561298 Train acc: 0.886579 Valid acc: 0.802618\n",
      "Epoch: 265/300 Train loss: 0.269179 Valid loss: 0.562005 Train acc: 0.886874 Valid acc: 0.802622\n",
      "Epoch: 266/300 Train loss: 0.268572 Valid loss: 0.562688 Train acc: 0.887170 Valid acc: 0.802638\n",
      "Epoch: 267/300 Train loss: 0.267977 Valid loss: 0.563408 Train acc: 0.887463 Valid acc: 0.802641\n",
      "Epoch: 268/300 Train loss: 0.267384 Valid loss: 0.564120 Train acc: 0.887754 Valid acc: 0.802651\n",
      "Epoch: 269/300 Train loss: 0.266794 Valid loss: 0.564836 Train acc: 0.888049 Valid acc: 0.802657\n",
      "Epoch: 270/300 Train loss: 0.266208 Valid loss: 0.565536 Train acc: 0.888340 Valid acc: 0.802664\n",
      "Epoch: 271/300 Train loss: 0.265607 Valid loss: 0.566243 Train acc: 0.888638 Valid acc: 0.802668\n",
      "Epoch: 272/300 Train loss: 0.265020 Valid loss: 0.567017 Train acc: 0.888924 Valid acc: 0.802652\n",
      "Epoch: 273/300 Train loss: 0.264439 Valid loss: 0.567731 Train acc: 0.889209 Valid acc: 0.802665\n",
      "Epoch: 274/300 Train loss: 0.263862 Valid loss: 0.568488 Train acc: 0.889496 Valid acc: 0.802652\n",
      "Epoch: 275/300 Train loss: 0.263285 Valid loss: 0.569168 Train acc: 0.889789 Valid acc: 0.802664\n",
      "Epoch: 276/300 Train loss: 0.262715 Valid loss: 0.569880 Train acc: 0.890070 Valid acc: 0.802648\n",
      "Epoch: 277/300 Train loss: 0.262146 Valid loss: 0.570587 Train acc: 0.890352 Valid acc: 0.802637\n",
      "Epoch: 278/300 Train loss: 0.261568 Valid loss: 0.571231 Train acc: 0.890632 Valid acc: 0.802651\n",
      "Epoch: 279/300 Train loss: 0.260996 Valid loss: 0.572006 Train acc: 0.890913 Valid acc: 0.802633\n",
      "Epoch: 280/300 Train loss: 0.260437 Valid loss: 0.572704 Train acc: 0.891187 Valid acc: 0.802628\n",
      "Epoch: 281/300 Train loss: 0.259874 Valid loss: 0.573353 Train acc: 0.891465 Valid acc: 0.802630\n",
      "Epoch: 282/300 Train loss: 0.259311 Valid loss: 0.574106 Train acc: 0.891739 Valid acc: 0.802609\n",
      "Epoch: 283/300 Train loss: 0.258748 Valid loss: 0.574801 Train acc: 0.892020 Valid acc: 0.802604\n",
      "Epoch: 284/300 Train loss: 0.258189 Valid loss: 0.575517 Train acc: 0.892294 Valid acc: 0.802592\n",
      "Epoch: 285/300 Train loss: 0.257627 Valid loss: 0.576280 Train acc: 0.892572 Valid acc: 0.802572\n",
      "Epoch: 286/300 Train loss: 0.257074 Valid loss: 0.577015 Train acc: 0.892843 Valid acc: 0.802560\n",
      "Epoch: 287/300 Train loss: 0.256511 Valid loss: 0.577725 Train acc: 0.893120 Valid acc: 0.802562\n",
      "Epoch: 288/300 Train loss: 0.255951 Valid loss: 0.578484 Train acc: 0.893391 Valid acc: 0.802548\n",
      "Epoch: 289/300 Train loss: 0.255404 Valid loss: 0.579238 Train acc: 0.893659 Valid acc: 0.802538\n",
      "Epoch: 290/300 Train loss: 0.254853 Valid loss: 0.579955 Train acc: 0.893929 Valid acc: 0.802538\n",
      "Epoch: 291/300 Train loss: 0.254305 Valid loss: 0.580737 Train acc: 0.894194 Valid acc: 0.802524\n",
      "Epoch: 292/300 Train loss: 0.253764 Valid loss: 0.581484 Train acc: 0.894460 Valid acc: 0.802520\n",
      "Epoch: 293/300 Train loss: 0.253220 Valid loss: 0.582235 Train acc: 0.894728 Valid acc: 0.802516\n",
      "Epoch: 294/300 Train loss: 0.252676 Valid loss: 0.583021 Train acc: 0.894991 Valid acc: 0.802501\n",
      "Epoch: 295/300 Train loss: 0.252129 Valid loss: 0.583759 Train acc: 0.895252 Valid acc: 0.802498\n",
      "Epoch: 296/300 Train loss: 0.251597 Valid loss: 0.584523 Train acc: 0.895513 Valid acc: 0.802493\n",
      "Epoch: 297/300 Train loss: 0.251063 Valid loss: 0.585308 Train acc: 0.895770 Valid acc: 0.802482\n",
      "Epoch: 298/300 Train loss: 0.250532 Valid loss: 0.586043 Train acc: 0.896029 Valid acc: 0.802486\n",
      "Epoch: 299/300 Train loss: 0.249998 Valid loss: 0.586820 Train acc: 0.896286 Valid acc: 0.802477\n",
      "Epoch: 300/300 Train loss: 0.249471 Valid loss: 0.587602 Train acc: 0.896540 Valid acc: 0.802466\n"
     ]
    }
   ],
   "source": [
    "train_acc, train_loss = [], []\n",
    "valid_acc, valid_loss = [], []\n",
    "\n",
    "# Save the training result or trained and validated model params\n",
    "saver = tf.train.Saver()\n",
    "\n",
    "# hyperparameters\n",
    "epochs = 300 # num iterations for updating model\n",
    "kernel_size_ratios = 1 # conv size for conv minibatching \n",
    "strides_ratios = 1 # conv stride for conv minibatching\n",
    "\n",
    "with tf.Session() as sess:\n",
    "    sess.run(tf.global_variables_initializer())\n",
    "    \n",
    "    # Minibatching techniques tgt batch size: kernel_size_ratio\n",
    "    for k in range(0, kernel_size_ratios, 1):\n",
    "\n",
    "        # Minibatching techniques sampling: strides_ratio\n",
    "        for s in range(0, strides_ratios, 1):\n",
    "\n",
    "            # Loop over epochs\n",
    "            for e in range(0, epochs, 1):\n",
    "\n",
    "                # Loop over batches\n",
    "                for x, y in get_batches2(X_norm=X_train_norm, Y_labels=Y_train, \n",
    "                                         kernel_size_ratio=k+1,\n",
    "                                         strides_ratio=s+1):   \n",
    "\n",
    "                    ######################## Training\n",
    "                    # Feed dictionary\n",
    "                    feed = {inputs_ : x, labels_ : y, keep_prob_ : keep_prob, learning_rate_ : learning_rate}\n",
    "\n",
    "                    # Loss\n",
    "                    loss, _ , acc = sess.run([cost_ave, optimizer, correct_pred_ave], feed_dict = feed)\n",
    "                    train_acc.append(acc)\n",
    "                    train_loss.append(loss)\n",
    "\n",
    "                    ################## Validation\n",
    "                    acc_batch = []\n",
    "                    loss_batch = []    \n",
    "                    # Loop over batches\n",
    "                    for x, y in get_batches2(X_norm=X_valid_norm, Y_labels=Y_valid):\n",
    "\n",
    "                        # Feed dictionary\n",
    "                        feed = {inputs_ : x, labels_ : y, keep_prob_ : 1.0}\n",
    "\n",
    "                        # Loss\n",
    "                        loss, acc = sess.run([cost_ave, correct_pred_ave], feed_dict = feed)\n",
    "                        acc_batch.append(acc)\n",
    "                        loss_batch.append(loss)\n",
    "\n",
    "                    # Store\n",
    "                    valid_acc.append(np.mean(acc_batch))\n",
    "                    valid_loss.append(np.mean(loss_batch))\n",
    "\n",
    "                # Print info for every iter/epoch\n",
    "                print(\"Epoch: {}/{}\".format(e+1, epochs),\n",
    "#                       \"kernel_size_ratio: {}/{}\".format(k+1, kernel_size_ratios),\n",
    "#                       \"strides_ratio: {}/{}\".format(s+1, strides_ratios),\n",
    "                      \"Train loss: {:6f}\".format(np.mean(train_loss)),\n",
    "                      \"Valid loss: {:.6f}\".format(np.mean(valid_loss)),\n",
    "                      \"Train acc: {:6f}\".format(np.mean(train_acc)),\n",
    "                      \"Valid acc: {:.6f}\".format(np.mean(valid_acc)))\n",
    "                \n",
    "    saver.save(sess,\"checkpoints/dcnn-face.ckpt\")"
   ]
  },
  {
   "cell_type": "code",
   "execution_count": 14,
   "metadata": {},
   "outputs": [
    {
     "data": {
      "image/png": "[encoded data removed]",
      "text/plain": [
       "<matplotlib.figure.Figure at 0x7fd8e04c26a0>"
      ]
     },
     "metadata": {},
     "output_type": "display_data"
    }
   ],
   "source": [
    "import matplotlib.pyplot as mplot\n",
    "\n",
    "mplot.plot(train_loss, label='Face train_loss')\n",
    "mplot.plot(valid_loss, label='Face valid_loss')\n",
    "mplot.legend()\n",
    "mplot.show()"
   ]
  },
  {
   "cell_type": "code",
   "execution_count": 15,
   "metadata": {},
   "outputs": [
    {
     "data": {
      "image/png": "[encoded data removed]",
      "text/plain": [
       "<matplotlib.figure.Figure at 0x7fd8bc668f60>"
      ]
     },
     "metadata": {},
     "output_type": "display_data"
    }
   ],
   "source": [
    "# import matplotlib.pyplot as mplot\n",
    "mplot.plot(train_acc, label='Face train_acc')\n",
    "mplot.plot(valid_acc, label='Face valid_acc')\n",
    "mplot.legend()\n",
    "mplot.show()"
   ]
  },
  {
   "cell_type": "code",
   "execution_count": 16,
   "metadata": {},
   "outputs": [
    {
     "name": "stdout",
     "output_type": "stream",
     "text": [
      "INFO:tensorflow:Restoring parameters from checkpoints/dcnn-face.ckpt\n"
     ]
    }
   ],
   "source": [
    "listcost_ave, listcorrect_pred_ave, listconfusion = [], [], []\n",
    "\n",
    "with tf.Session() as sess:\n",
    "    # Restore the validated model\n",
    "    saver.restore(sess, tf.train.latest_checkpoint('checkpoints/'))\n",
    "    \n",
    "    # Loop over batches\n",
    "    for x, y in get_batches(batch_size=100, X=X_test_norm, y=Y_test_onehot):\n",
    "\n",
    "        # Feed dictionary\n",
    "        feed = {inputs_ : x, labels_ : y, keep_prob_ : 1.0}\n",
    "\n",
    "        # Loss\n",
    "        arrcost_ave, arrcorrect_pred_ave, arrconfusion = sess.run([\n",
    "            cost_ave, correct_pred_ave, confusion], feed_dict = feed)\n",
    "        \n",
    "        listcost_ave.append(arrcost_ave) \n",
    "        listcorrect_pred_ave.append(arrcorrect_pred_ave)\n",
    "        listconfusion.append(arrconfusion)"
   ]
  },
  {
   "cell_type": "code",
   "execution_count": 17,
   "metadata": {},
   "outputs": [
    {
     "data": {
      "text/plain": [
       "(56, 56, 56)"
      ]
     },
     "execution_count": 17,
     "metadata": {},
     "output_type": "execute_result"
    }
   ],
   "source": [
    "len(listcorrect_pred_ave), len(listcost_ave), len(listconfusion)"
   ]
  },
  {
   "cell_type": "code",
   "execution_count": 50,
   "metadata": {},
   "outputs": [
    {
     "name": "stdout",
     "output_type": "stream",
     "text": [
      "cost_ave_mean, correct_pred_ave_mean, confusion_mean.shape: 0.453767 0.865536 (2, 2)\n"
     ]
    }
   ],
   "source": [
    "cost_ave_mean = np.array(listcost_ave, dtype=arrcost_ave.dtype).mean(axis=0)\n",
    "correct_pred_ave_mean = np.array(listcorrect_pred_ave, dtype=arrcorrect_pred_ave.dtype).mean(axis=0)\n",
    "confusion_mean = np.array(listconfusion, dtype=arrconfusion.dtype).mean(axis=0)\n",
    "print('cost_ave_mean, correct_pred_ave_mean, confusion_mean.shape:', \n",
    "     cost_ave_mean, correct_pred_ave_mean, confusion_mean.shape)"
   ]
  },
  {
   "cell_type": "code",
   "execution_count": 55,
   "metadata": {},
   "outputs": [
    {
     "data": {
      "text/plain": [
       "array([[ 74.21428571,   8.55357143],\n",
       "       [  4.89285714,  12.33928571]])"
      ]
     },
     "execution_count": 55,
     "metadata": {},
     "output_type": "execute_result"
    }
   ],
   "source": [
    "confusion_mean"
   ]
  },
  {
   "cell_type": "code",
   "execution_count": 56,
   "metadata": {},
   "outputs": [],
   "source": [
    "# accuracy or 1- loss\n",
    "accuracy = (confusion_mean[0, 0] + confusion_mean[1, 1])/ (confusion_mean[0, 0] + confusion_mean[0, 1] + \n",
    "                                                confusion_mean[1, 0] + confusion_mean[1, 1])"
   ]
  },
  {
   "cell_type": "code",
   "execution_count": 57,
   "metadata": {},
   "outputs": [
    {
     "name": "stdout",
     "output_type": "stream",
     "text": [
      "(correct_pred_ave_mean - accuracy): 2.17982700779e-08\n"
     ]
    }
   ],
   "source": [
    "print('(correct_pred_ave_mean - accuracy):', correct_pred_ave_mean - accuracy)  "
   ]
  },
  {
   "cell_type": "code",
   "execution_count": 58,
   "metadata": {},
   "outputs": [
    {
     "name": "stdout",
     "output_type": "stream",
     "text": [
      "loss or (1-acc): 0.134464285714\n"
     ]
    }
   ],
   "source": [
    "# accuracy or 1- loss\n",
    "loss = (confusion_mean[1, 0] + confusion_mean[0, 1])/ (confusion_mean[0, 0] + confusion_mean[0, 1] + \n",
    "                                                       confusion_mean[1, 0] + confusion_mean[1, 1])\n",
    "print('loss or (1-acc):', loss)"
   ]
  },
  {
   "cell_type": "code",
   "execution_count": 59,
   "metadata": {},
   "outputs": [
    {
     "name": "stdout",
     "output_type": "stream",
     "text": [
      "sensitivity: 0.938148984199\n"
     ]
    }
   ],
   "source": [
    "# sensitivity: TruePos rate\n",
    "# 1st col or true prediction condition\n",
    "sensitivity = confusion_mean[0, 0]/ (confusion_mean[0, 0] + \n",
    "                                     confusion_mean[1, 0])\n",
    "print('sensitivity:', sensitivity)"
   ]
  },
  {
   "cell_type": "code",
   "execution_count": 60,
   "metadata": {},
   "outputs": [
    {
     "name": "stdout",
     "output_type": "stream",
     "text": [
      "specificity: 0.590598290598\n"
     ]
    }
   ],
   "source": [
    "# specificity: TrueNeg rate\n",
    "# 2nd col or false prediction condition\n",
    "# (1st row, 2nd col)/ \n",
    "specificity = confusion_mean[1, 1]/ (confusion_mean[0, 1] + \n",
    "                                     confusion_mean[1, 1])\n",
    "print('specificity:', specificity)"
   ]
  },
  {
   "cell_type": "code",
   "execution_count": 61,
   "metadata": {},
   "outputs": [
    {
     "name": "stdout",
     "output_type": "stream",
     "text": [
      "precision: 0.89665587918\n"
     ]
    }
   ],
   "source": [
    "# precision: TP / (TP + FP)\n",
    "precision = confusion_mean[0, 0]/ (confusion_mean[0, 0] + confusion_mean[0, 1])\n",
    "print('precision:', precision)"
   ]
  },
  {
   "cell_type": "code",
   "execution_count": 62,
   "metadata": {},
   "outputs": [
    {
     "name": "stdout",
     "output_type": "stream",
     "text": [
      "total: 100.0\n"
     ]
    }
   ],
   "source": [
    "print('total:', (confusion_mean[0, 0] + confusion_mean[0, 1] + confusion_mean[1, 0] + confusion_mean[1, 1]))"
   ]
  },
  {
   "cell_type": "code",
   "execution_count": 63,
   "metadata": {},
   "outputs": [
    {
     "data": {
      "image/png": "[encoded data removed]",
      "text/plain": [
       "<matplotlib.figure.Figure at 0x7fd87dfa9cf8>"
      ]
     },
     "metadata": {},
     "output_type": "display_data"
    }
   ],
   "source": [
    "mplot.imshow(confusion_mean)\n",
    "mplot.show()\n",
    "mplot.legend()"
   ]
  },
  {
   "cell_type": "code",
   "execution_count": null,
   "metadata": {},
   "outputs": [],
   "source": []
  }
 ],
 "metadata": {
  "kernelspec": {
   "display_name": "Python 3",
   "language": "python",
   "name": "python3"
  },
  "language_info": {
   "codemirror_mode": {
    "name": "ipython",
    "version": 3
   },
   "file_extension": ".py",
   "mimetype": "text/x-python",
   "name": "python",
   "nbconvert_exporter": "python",
   "pygments_lexer": "ipython3",
   "version": "3.6.3"
  }
 },
 "nbformat": 4,
 "nbformat_minor": 2
}
