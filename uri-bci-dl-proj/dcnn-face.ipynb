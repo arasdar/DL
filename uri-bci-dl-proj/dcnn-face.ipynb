{
 "cells": [
  {
   "cell_type": "code",
   "execution_count": 1,
   "metadata": {},
   "outputs": [
    {
     "name": "stdout",
     "output_type": "stream",
     "text": [
      "(31200, 205, 16) float64 (31200, 1) uint8\n",
      "0.5 0.5 0.0 0.0\n",
      "[2]\n"
     ]
    }
   ],
   "source": [
    "# Read the dataset\n",
    "import scipy.io as spio\n",
    "import numpy as np\n",
    "\n",
    "BahramFace = spio.loadmat(file_name='/home/arasdar/datasets/bci-project-data-RAW/BahramFace.mat')\n",
    "DJFace = spio.loadmat(file_name='/home/arasdar/datasets/bci-project-data-RAW/DJFace.mat')\n",
    "NickFace = spio.loadmat(file_name='/home/arasdar/datasets/bci-project-data-RAW/NickFace.mat')\n",
    "RoohiFace = spio.loadmat(file_name='/home/arasdar/datasets/bci-project-data-RAW/RoohiFace.mat')\n",
    "SarahFace = spio.loadmat(file_name='/home/arasdar/datasets/bci-project-data-RAW/SarahFace.mat')\n",
    "\n",
    "AllData = np.concatenate((BahramFace['Intensification_Data'],\n",
    "                            DJFace['Intensification_Data'],\n",
    "                            NickFace['Intensification_Data'],\n",
    "                            RoohiFace['Intensification_Data'],\n",
    "                            SarahFace['Intensification_Data']), axis=0)\n",
    "\n",
    "AllLabels = np.concatenate((BahramFace['Intensification_Label'],\n",
    "                            DJFace['Intensification_Label'],\n",
    "                            NickFace['Intensification_Label'],\n",
    "                            RoohiFace['Intensification_Label'],\n",
    "                            SarahFace['Intensification_Label']), axis=0)\n",
    "\n",
    "AllLabelOne = (AllLabels==1).reshape(-1)\n",
    "AllData_LabelOne = AllData[AllLabelOne]\n",
    "\n",
    "AllLabelZero = (AllLabels==0).reshape(-1)\n",
    "AllData_LabelZero = AllData[AllLabelZero]\n",
    "\n",
    "# Linear synthetic data augmentatiion or creation or generation\n",
    "AllData_LabelOneNew_list = []\n",
    "\n",
    "# w*data+b: translation, rotation, and scaling\n",
    "# linear transformation of the target data\n",
    "w, b = 1.0, 0.0\n",
    "for idx in range(5):\n",
    "    AllData_LabelOneNew = (w * AllData_LabelOne) + b\n",
    "    AllData_LabelOneNew_list.append(AllData_LabelOneNew)\n",
    "    w *= 0.9 # 1.0, 0.9, 0.81, 0.729\n",
    "    b += 0.1 # 0.1, 0.2, 0.3\n",
    "\n",
    "AllData_LabelOneNew_total = np.array(AllData_LabelOneNew_list, \n",
    "                                      dtype=AllData_LabelOne.dtype).reshape(-1, 205, 16)\n",
    "\n",
    "AllDataNew = np.concatenate((AllData_LabelOneNew_total, AllData_LabelZero), axis=0)\n",
    "AllLabelsNew = np.concatenate((AllLabels[AllLabelZero], # Tgt = 6*Non-Tgt\n",
    "                                   AllLabels[AllLabelOne],\n",
    "                                   AllLabels[AllLabelOne],\n",
    "                                   AllLabels[AllLabelOne], \n",
    "                                   AllLabels[AllLabelOne], \n",
    "                                   AllLabels[AllLabelOne]), axis=0)\n",
    "\n",
    "print(AllDataNew.shape, AllDataNew.dtype, AllLabelsNew.shape, AllLabelsNew.dtype)\n",
    "print(np.mean(AllLabelsNew==0), np.mean(AllLabelsNew==1), np.mean(AllLabelsNew==2), np.mean(AllLabelsNew==3))\n",
    "print((AllLabelsNew +  1).max(axis=0))"
   ]
  },
  {
   "cell_type": "code",
   "execution_count": 4,
   "metadata": {},
   "outputs": [
    {
     "name": "stdout",
     "output_type": "stream",
     "text": [
      "(21840, 205, 16) (9360, 205, 16) (21840, 1) (9360, 1)\n"
     ]
    }
   ],
   "source": [
    "# Train and test split\n",
    "from sklearn.model_selection import train_test_split\n",
    "\n",
    "X_train_valid, X_test, Y_train_valid, Y_test = train_test_split(AllDataNew, AllLabelsNew, test_size=0.30)\n",
    "\n",
    "print(X_train_valid.shape, X_test.shape, Y_train_valid.shape, Y_test.shape)"
   ]
  },
  {
   "cell_type": "code",
   "execution_count": 5,
   "metadata": {},
   "outputs": [
    {
     "name": "stdout",
     "output_type": "stream",
     "text": [
      "0.0 0.5 0.5 0.0\n",
      "(21840, 2) float64 (9360, 2) float64\n"
     ]
    }
   ],
   "source": [
    "# Preparing input and output data\n",
    "from utilities import *\n",
    "\n",
    "# Normalizing/standardizing the input data features\n",
    "X_train_valid_norm, X_test_norm = standardize(test=X_test, train=X_train_valid)\n",
    "\n",
    "# Onehot encoding/vectorizing the output data labels\n",
    "print(np.mean((Y_train_valid+1).reshape(-1)==0), np.mean((Y_train_valid+1).reshape(-1)==1),\n",
    "     np.mean((Y_train_valid+1).reshape(-1)==2), np.mean((Y_train_valid+1).reshape(-1)==3))\n",
    "\n",
    "Y_train_valid_onehot = one_hot(labels=(Y_train_valid+1).reshape(-1), n_class=2) \n",
    "Y_test_onehot = one_hot(labels=(Y_test+1).reshape(-1), n_class=2) \n",
    "\n",
    "print(Y_train_valid_onehot.shape, Y_train_valid_onehot.dtype, \n",
    "      Y_test_onehot.shape, Y_test_onehot.dtype)"
   ]
  },
  {
   "cell_type": "code",
   "execution_count": 6,
   "metadata": {},
   "outputs": [
    {
     "name": "stdout",
     "output_type": "stream",
     "text": [
      "(15288, 205, 16) (6552, 205, 16) (15288, 2) (6552, 2)\n"
     ]
    }
   ],
   "source": [
    "# Train and valid split\n",
    "# from sklearn.model_selection import train_test_split\n",
    "\n",
    "X_train_norm, X_valid_norm, Y_train_onehot, Y_valid_onehot = train_test_split(X_train_valid_norm, \n",
    "                                                                              Y_train_valid_onehot,\n",
    "                                                                              test_size=0.30)\n",
    "\n",
    "print(X_train_norm.shape, X_valid_norm.shape, Y_train_onehot.shape, Y_valid_onehot.shape)"
   ]
  },
  {
   "cell_type": "code",
   "execution_count": 7,
   "metadata": {},
   "outputs": [
    {
     "name": "stdout",
     "output_type": "stream",
     "text": [
      "batch_size, seq_len, n_channels 152 205 16\n",
      "n_classes [2]\n"
     ]
    }
   ],
   "source": [
    "## Hyperparameters\n",
    "# Input data\n",
    "batch_size = X_train_norm.shape[0]// 100 # minibatch size & number of minibatches\n",
    "seq_len = X_train_norm.shape[1] # Number of steps: each trial length\n",
    "n_channels = X_train_norm.shape[2] # number of channels in each trial\n",
    "print('batch_size, seq_len, n_channels', batch_size, seq_len, n_channels)\n",
    "\n",
    "# Output labels\n",
    "n_classes = Y_train_valid.max(axis=0)+1\n",
    "assert Y_train_valid.max(axis=0) == Y_test.max(axis=0)\n",
    "print('n_classes', n_classes)\n",
    "\n",
    "# learning parameters\n",
    "learning_rate = 0.0001 #1e-4\n",
    "epochs = 100 # num iterations for updating model\n",
    "keep_prob = 0.50 # 90% neurons are kept and 10% are dropped out"
   ]
  },
  {
   "cell_type": "code",
   "execution_count": 8,
   "metadata": {},
   "outputs": [
    {
     "name": "stdout",
     "output_type": "stream",
     "text": [
      "TensorFlow Version: 1.3.0\n",
      "Default GPU Device: /gpu:0\n"
     ]
    }
   ],
   "source": [
    "# GPUs or CPU\n",
    "import tensorflow as tf\n",
    "\n",
    "# Check TensorFlow Version\n",
    "print('TensorFlow Version: {}'.format(tf.__version__))\n",
    "\n",
    "# Check for a GPU\n",
    "print('Default GPU Device: {}'.format(tf.test.gpu_device_name()))"
   ]
  },
  {
   "cell_type": "code",
   "execution_count": 9,
   "metadata": {},
   "outputs": [],
   "source": [
    "# Feed the data from python/numpy to tensorflow framework\n",
    "inputs_ = tf.placeholder(tf.float32, [None, seq_len, n_channels], name = 'inputs_')\n",
    "labels_ = tf.placeholder(tf.float32, [None, n_classes], name = 'labels_')\n",
    "keep_prob_ = tf.placeholder(tf.float32, name = 'keep_prob_')\n",
    "learning_rate_ = tf.placeholder(tf.float32, name = 'learning_rate_')# Construct the LSTM inputs and LSTM cells"
   ]
  },
  {
   "cell_type": "code",
   "execution_count": 11,
   "metadata": {},
   "outputs": [
    {
     "name": "stdout",
     "output_type": "stream",
     "text": [
      "inputs_.shape, conv1.shape, max_pool_1.shape (?, 205, 16) (?, 204, 32) (?, 102, 32)\n",
      "max_pool_1.shape, conv2.shape, max_pool_2.shape (?, 102, 32) (?, 102, 64) (?, 51, 64)\n",
      "max_pool_2.shape, conv3.shape, max_pool_3.shape (?, 51, 64) (?, 50, 128) (?, 25, 128)\n",
      "max_pool_3.shape, conv4.shape, max_pool_4.shape (?, 25, 128) (?, 24, 256) (?, 12, 256)\n",
      "max_pool_4.shape, flat.shape, logits.shape (?, 12, 256) (?, 3072) (?, 2)\n"
     ]
    }
   ],
   "source": [
    "# batch_size, seq_len, n_channels: 152 205 16; n_classes: [2]\n",
    "# (batch, 205, 16) --> (batch, 102, 32)\n",
    "# conv valid: (205-2+0)/1 + 1 = (203/1)+1 = 203 + 1=204\n",
    "# pool same: (204-2+0)/2 + 1 = (202/2)+1 = 101 + 1=102\n",
    "conv1 = tf.layers.conv1d(inputs=inputs_, filters=32, kernel_size=2, strides=1, padding='valid', \n",
    "                         activation = tf.nn.relu)\n",
    "max_pool_1 = tf.layers.max_pooling1d(inputs=conv1, pool_size=2, strides=2, padding='same')\n",
    "# max_pool_1 = tf.nn.dropout(max_pool_1, keep_prob=keep_prob_)\n",
    "print('inputs_.shape, conv1.shape, max_pool_1.shape', inputs_.shape, conv1.shape, max_pool_1.shape)\n",
    "\n",
    "# (batch, 102, 32) --> (batch, 51, 64)\n",
    "# conv same\n",
    "# pool same: (102-2+0)/2 + 1 = (100/2)+1 = 50 + 1=51\n",
    "conv2 = tf.layers.conv1d(inputs=max_pool_1, filters=64, kernel_size=2, strides=1, padding='same', \n",
    "                         activation = tf.nn.relu)\n",
    "max_pool_2 = tf.layers.max_pooling1d(inputs=conv2, pool_size=2, strides=2, padding='same')\n",
    "# max_pool_2 = tf.nn.dropout(max_pool_2, keep_prob=keep_prob_)\n",
    "print('max_pool_1.shape, conv2.shape, max_pool_2.shape', max_pool_1.shape, conv2.shape, max_pool_2.shape)\n",
    "\n",
    "# (batch, 51, 64) --> (batch, 25, 128)\n",
    "# conv valid: (51-2+0)/1 + 1 = (49/1)+1 = 49 + 1=50\n",
    "# pool same: (50-2+0)/2 + 1 = (48/2)+1 = 24 + 1=25\n",
    "conv3 = tf.layers.conv1d(inputs=max_pool_2, filters=128, kernel_size=2, strides=1, padding='valid', \n",
    "                         activation = tf.nn.relu)\n",
    "max_pool_3 = tf.layers.max_pooling1d(inputs=conv3, pool_size=2, strides=2, padding='same')\n",
    "# max_pool_3 = tf.nn.dropout(max_pool_3, keep_prob=keep_prob_)\n",
    "print('max_pool_2.shape, conv3.shape, max_pool_3.shape', max_pool_2.shape, conv3.shape, max_pool_3.shape)\n",
    "\n",
    "# (batch, 25, 128) --> (batch, 12, 256)\n",
    "# conv valid: (25-2+0)/1 + 1 = (23/1)+1 = 23 + 1=24\n",
    "# pool same: (24-2+0)/2 + 1 = (22/2)+1 = 11 + 1=12\n",
    "conv4 = tf.layers.conv1d(inputs=max_pool_3, filters=256, kernel_size=2, strides=1, padding='valid', \n",
    "                         activation = tf.nn.relu)\n",
    "max_pool_4 = tf.layers.max_pooling1d(inputs=conv4, pool_size=2, strides=2, padding='same')\n",
    "# max_pool_4 = tf.nn.dropout(max_pool_4, keep_prob=keep_prob_)\n",
    "print('max_pool_3.shape, conv4.shape, max_pool_4.shape', max_pool_3.shape, conv4.shape, max_pool_4.shape)\n",
    "\n",
    "# Flatten and add dropout + predicted output\n",
    "flat = tf.reshape(max_pool_4, (-1, 12*256))\n",
    "flat = tf.nn.dropout(flat, keep_prob=keep_prob_)\n",
    "logits = tf.layers.dense(flat, n_classes)\n",
    "print('max_pool_4.shape, flat.shape, logits.shape', max_pool_4.shape, flat.shape, logits.shape)"
   ]
  },
  {
   "cell_type": "code",
   "execution_count": 12,
   "metadata": {},
   "outputs": [
    {
     "name": "stdout",
     "output_type": "stream",
     "text": [
      "cost_tensor, cost Tensor(\"Reshape_4:0\", shape=(?,), dtype=float32) Tensor(\"Mean:0\", shape=(), dtype=float32)\n",
      "optimizer name: \"Adam\"\n",
      "op: \"NoOp\"\n",
      "input: \"^Adam/update_conv1d_4/kernel/ApplyAdam\"\n",
      "input: \"^Adam/update_conv1d_4/bias/ApplyAdam\"\n",
      "input: \"^Adam/update_conv1d_5/kernel/ApplyAdam\"\n",
      "input: \"^Adam/update_conv1d_5/bias/ApplyAdam\"\n",
      "input: \"^Adam/update_conv1d_6/kernel/ApplyAdam\"\n",
      "input: \"^Adam/update_conv1d_6/bias/ApplyAdam\"\n",
      "input: \"^Adam/update_conv1d_7/kernel/ApplyAdam\"\n",
      "input: \"^Adam/update_conv1d_7/bias/ApplyAdam\"\n",
      "input: \"^Adam/update_dense_1/kernel/ApplyAdam\"\n",
      "input: \"^Adam/update_dense_1/bias/ApplyAdam\"\n",
      "input: \"^Adam/Assign\"\n",
      "input: \"^Adam/Assign_1\"\n",
      "\n",
      "correct_pred, accuracy Tensor(\"Equal:0\", shape=(?,), dtype=bool) Tensor(\"accuracy:0\", shape=(), dtype=float32)\n",
      "confusion_matrix Tensor(\"confusion_matrix/SparseTensorDenseAdd:0\", shape=(?, ?), dtype=int32)\n"
     ]
    }
   ],
   "source": [
    "# Backward pass: error backpropagation\n",
    "# Cost function\n",
    "cost_tensor = tf.nn.softmax_cross_entropy_with_logits(logits=logits, labels=labels_)\n",
    "cost = tf.reduce_mean(input_tensor=cost_tensor)\n",
    "print('cost_tensor, cost', cost_tensor, cost)\n",
    "\n",
    "# Optimizer\n",
    "optimizer = tf.train.AdamOptimizer(learning_rate=learning_rate_).minimize(cost)\n",
    "print('optimizer', optimizer)\n",
    "\n",
    "# Accuracy\n",
    "correct_pred = tf.equal(tf.argmax(logits, 1), tf.argmax(labels_, 1))\n",
    "accuracy = tf.reduce_mean(tf.cast(correct_pred, tf.float32), name='accuracy')\n",
    "print('correct_pred, accuracy', correct_pred, accuracy)\n",
    "\n",
    "# Confusion matrix\n",
    "confusion_matrix = tf.confusion_matrix(predictions=tf.argmax(logits, 1),\n",
    "                                       labels=tf.argmax(labels_, 1))\n",
    "print('confusion_matrix', confusion_matrix)"
   ]
  },
  {
   "cell_type": "code",
   "execution_count": 13,
   "metadata": {},
   "outputs": [
    {
     "name": "stdout",
     "output_type": "stream",
     "text": [
      "Epoch: 1/100 Train loss: 0.677816 Valid loss: 0.665328 Train acc: 0.569145 Valid acc: 0.592462\n",
      "Epoch: 2/100 Train loss: 0.634924 Valid loss: 0.625410 Train acc: 0.642763 Valid acc: 0.670246\n",
      "Epoch: 3/100 Train loss: 0.591460 Valid loss: 0.581711 Train acc: 0.686272 Valid acc: 0.709481\n",
      "Epoch: 4/100 Train loss: 0.554730 Valid loss: 0.546331 Train acc: 0.716447 Valid acc: 0.735638\n",
      "Epoch: 5/100 Train loss: 0.526601 Valid loss: 0.518156 Train acc: 0.737961 Valid acc: 0.755276\n",
      "Epoch: 6/100 Train loss: 0.503807 Valid loss: 0.495907 Train acc: 0.754474 Valid acc: 0.770197\n",
      "Epoch: 7/100 Train loss: 0.484843 Valid loss: 0.477555 Train acc: 0.767190 Valid acc: 0.781979\n",
      "Epoch: 8/100 Train loss: 0.468459 Valid loss: 0.462230 Train acc: 0.778265 Valid acc: 0.791357\n",
      "Epoch: 9/100 Train loss: 0.455000 Valid loss: 0.449149 Train acc: 0.787229 Valid acc: 0.799124\n",
      "Epoch: 10/100 Train loss: 0.443400 Valid loss: 0.437964 Train acc: 0.794724 Valid acc: 0.805595\n",
      "Epoch: 11/100 Train loss: 0.433139 Valid loss: 0.428291 Train acc: 0.801077 Valid acc: 0.810992\n",
      "Epoch: 12/100 Train loss: 0.424296 Valid loss: 0.419793 Train acc: 0.806453 Valid acc: 0.815652\n",
      "Epoch: 13/100 Train loss: 0.416176 Valid loss: 0.412223 Train acc: 0.811387 Valid acc: 0.819687\n",
      "Epoch: 14/100 Train loss: 0.408652 Valid loss: 0.405406 Train acc: 0.815930 Valid acc: 0.823266\n",
      "Epoch: 15/100 Train loss: 0.401610 Valid loss: 0.399137 Train acc: 0.820180 Valid acc: 0.826547\n",
      "Epoch: 16/100 Train loss: 0.395365 Valid loss: 0.393372 Train acc: 0.823849 Valid acc: 0.829499\n",
      "Epoch: 17/100 Train loss: 0.389723 Valid loss: 0.388282 Train acc: 0.826985 Valid acc: 0.832103\n",
      "Epoch: 18/100 Train loss: 0.384311 Valid loss: 0.383461 Train acc: 0.830132 Valid acc: 0.834555\n",
      "Epoch: 19/100 Train loss: 0.379177 Valid loss: 0.379049 Train acc: 0.833005 Valid acc: 0.836765\n",
      "Epoch: 20/100 Train loss: 0.374432 Valid loss: 0.374884 Train acc: 0.835526 Valid acc: 0.838830\n",
      "Epoch: 21/100 Train loss: 0.369995 Valid loss: 0.370924 Train acc: 0.837954 Valid acc: 0.840794\n",
      "Epoch: 22/100 Train loss: 0.365843 Valid loss: 0.367211 Train acc: 0.840060 Valid acc: 0.842594\n",
      "Epoch: 23/100 Train loss: 0.361790 Valid loss: 0.363680 Train acc: 0.842217 Valid acc: 0.844311\n",
      "Epoch: 24/100 Train loss: 0.357900 Valid loss: 0.360367 Train acc: 0.844339 Valid acc: 0.845908\n",
      "Epoch: 25/100 Train loss: 0.354204 Valid loss: 0.357230 Train acc: 0.846332 Valid acc: 0.847446\n",
      "Epoch: 26/100 Train loss: 0.350682 Valid loss: 0.354237 Train acc: 0.848269 Valid acc: 0.848874\n",
      "Epoch: 27/100 Train loss: 0.347298 Valid loss: 0.351438 Train acc: 0.850020 Valid acc: 0.850221\n",
      "Epoch: 28/100 Train loss: 0.343921 Valid loss: 0.348680 Train acc: 0.851835 Valid acc: 0.851539\n",
      "Epoch: 29/100 Train loss: 0.340717 Valid loss: 0.346061 Train acc: 0.853555 Valid acc: 0.852790\n",
      "Epoch: 30/100 Train loss: 0.337760 Valid loss: 0.343558 Train acc: 0.855097 Valid acc: 0.853980\n",
      "Epoch: 31/100 Train loss: 0.334846 Valid loss: 0.341127 Train acc: 0.856566 Valid acc: 0.855125\n",
      "Epoch: 32/100 Train loss: 0.331955 Valid loss: 0.338763 Train acc: 0.858034 Valid acc: 0.856243\n",
      "Epoch: 33/100 Train loss: 0.329064 Valid loss: 0.336494 Train acc: 0.859529 Valid acc: 0.857302\n",
      "Epoch: 34/100 Train loss: 0.326278 Valid loss: 0.334269 Train acc: 0.860921 Valid acc: 0.858329\n",
      "Epoch: 35/100 Train loss: 0.323653 Valid loss: 0.332161 Train acc: 0.862295 Valid acc: 0.859320\n",
      "Epoch: 36/100 Train loss: 0.321046 Valid loss: 0.330047 Train acc: 0.863649 Valid acc: 0.860280\n",
      "Epoch: 37/100 Train loss: 0.318519 Valid loss: 0.328042 Train acc: 0.864922 Valid acc: 0.861205\n",
      "Epoch: 38/100 Train loss: 0.316046 Valid loss: 0.326108 Train acc: 0.866214 Valid acc: 0.862109\n",
      "Epoch: 39/100 Train loss: 0.313640 Valid loss: 0.324241 Train acc: 0.867340 Valid acc: 0.862980\n",
      "Epoch: 40/100 Train loss: 0.311299 Valid loss: 0.322411 Train acc: 0.868548 Valid acc: 0.863831\n",
      "Epoch: 41/100 Train loss: 0.308998 Valid loss: 0.320616 Train acc: 0.869690 Valid acc: 0.864671\n",
      "Epoch: 42/100 Train loss: 0.306722 Valid loss: 0.318877 Train acc: 0.870788 Valid acc: 0.865478\n",
      "Epoch: 43/100 Train loss: 0.304542 Valid loss: 0.317167 Train acc: 0.871903 Valid acc: 0.866278\n",
      "Epoch: 44/100 Train loss: 0.302404 Valid loss: 0.315514 Train acc: 0.872996 Valid acc: 0.867051\n",
      "Epoch: 45/100 Train loss: 0.300301 Valid loss: 0.313879 Train acc: 0.874035 Valid acc: 0.867818\n",
      "Epoch: 46/100 Train loss: 0.298238 Valid loss: 0.312268 Train acc: 0.875046 Valid acc: 0.868571\n",
      "Epoch: 47/100 Train loss: 0.296170 Valid loss: 0.310739 Train acc: 0.876015 Valid acc: 0.869304\n",
      "Epoch: 48/100 Train loss: 0.294264 Valid loss: 0.309288 Train acc: 0.876949 Valid acc: 0.869992\n",
      "Epoch: 49/100 Train loss: 0.292376 Valid loss: 0.307966 Train acc: 0.877883 Valid acc: 0.870636\n",
      "Epoch: 50/100 Train loss: 0.290454 Valid loss: 0.306565 Train acc: 0.878803 Valid acc: 0.871303\n",
      "Epoch: 51/100 Train loss: 0.288595 Valid loss: 0.305166 Train acc: 0.879707 Valid acc: 0.871968\n",
      "Epoch: 52/100 Train loss: 0.286765 Valid loss: 0.303793 Train acc: 0.880589 Valid acc: 0.872612\n",
      "Epoch: 53/100 Train loss: 0.284950 Valid loss: 0.302435 Train acc: 0.881469 Valid acc: 0.873255\n",
      "Epoch: 54/100 Train loss: 0.283123 Valid loss: 0.301102 Train acc: 0.882357 Valid acc: 0.873877\n",
      "Epoch: 55/100 Train loss: 0.281353 Valid loss: 0.299846 Train acc: 0.883184 Valid acc: 0.874476\n",
      "Epoch: 56/100 Train loss: 0.279589 Valid loss: 0.298612 Train acc: 0.884041 Valid acc: 0.875055\n",
      "Epoch: 57/100 Train loss: 0.277814 Valid loss: 0.297392 Train acc: 0.884847 Valid acc: 0.875627\n",
      "Epoch: 58/100 Train loss: 0.276086 Valid loss: 0.296172 Train acc: 0.885690 Valid acc: 0.876203\n",
      "Epoch: 59/100 Train loss: 0.274414 Valid loss: 0.295008 Train acc: 0.886494 Valid acc: 0.876763\n",
      "Epoch: 60/100 Train loss: 0.272796 Valid loss: 0.293873 Train acc: 0.887254 Valid acc: 0.877298\n",
      "Epoch: 61/100 Train loss: 0.271189 Valid loss: 0.292722 Train acc: 0.888007 Valid acc: 0.877836\n",
      "Epoch: 62/100 Train loss: 0.269535 Valid loss: 0.291592 Train acc: 0.888782 Valid acc: 0.878360\n",
      "Epoch: 63/100 Train loss: 0.267954 Valid loss: 0.290495 Train acc: 0.889535 Valid acc: 0.878872\n",
      "Epoch: 64/100 Train loss: 0.266407 Valid loss: 0.289440 Train acc: 0.890261 Valid acc: 0.879367\n",
      "Epoch: 65/100 Train loss: 0.264831 Valid loss: 0.288404 Train acc: 0.891000 Valid acc: 0.879858\n",
      "Epoch: 66/100 Train loss: 0.263289 Valid loss: 0.287393 Train acc: 0.891709 Valid acc: 0.880344\n",
      "Epoch: 67/100 Train loss: 0.261817 Valid loss: 0.286403 Train acc: 0.892371 Valid acc: 0.880806\n",
      "Epoch: 68/100 Train loss: 0.260297 Valid loss: 0.285435 Train acc: 0.893079 Valid acc: 0.881279\n",
      "Epoch: 69/100 Train loss: 0.258821 Valid loss: 0.284490 Train acc: 0.893767 Valid acc: 0.881737\n",
      "Epoch: 70/100 Train loss: 0.257326 Valid loss: 0.283513 Train acc: 0.894443 Valid acc: 0.882203\n",
      "Epoch: 71/100 Train loss: 0.255894 Valid loss: 0.282587 Train acc: 0.895119 Valid acc: 0.882643\n",
      "Epoch: 72/100 Train loss: 0.254438 Valid loss: 0.281659 Train acc: 0.895775 Valid acc: 0.883081\n",
      "Epoch: 73/100 Train loss: 0.252968 Valid loss: 0.280720 Train acc: 0.896446 Valid acc: 0.883521\n",
      "Epoch: 74/100 Train loss: 0.251602 Valid loss: 0.279783 Train acc: 0.897059 Valid acc: 0.883959\n",
      "Epoch: 75/100 Train loss: 0.250203 Valid loss: 0.278863 Train acc: 0.897711 Valid acc: 0.884395\n",
      "Epoch: 76/100 Train loss: 0.248845 Valid loss: 0.277979 Train acc: 0.898336 Valid acc: 0.884811\n",
      "Epoch: 77/100 Train loss: 0.247502 Valid loss: 0.277088 Train acc: 0.898946 Valid acc: 0.885228\n",
      "Epoch: 78/100 Train loss: 0.246202 Valid loss: 0.276251 Train acc: 0.899549 Valid acc: 0.885628\n",
      "Epoch: 79/100 Train loss: 0.244897 Valid loss: 0.275399 Train acc: 0.900141 Valid acc: 0.886033\n",
      "Epoch: 80/100 Train loss: 0.243558 Valid loss: 0.274559 Train acc: 0.900743 Valid acc: 0.886437\n",
      "Epoch: 81/100 Train loss: 0.242236 Valid loss: 0.273743 Train acc: 0.901346 Valid acc: 0.886832\n",
      "Epoch: 82/100 Train loss: 0.240999 Valid loss: 0.272988 Train acc: 0.901918 Valid acc: 0.887190\n",
      "Epoch: 83/100 Train loss: 0.239718 Valid loss: 0.272203 Train acc: 0.902499 Valid acc: 0.887564\n",
      "Epoch: 84/100 Train loss: 0.238437 Valid loss: 0.271446 Train acc: 0.903078 Valid acc: 0.887932\n",
      "Epoch: 85/100 Train loss: 0.237181 Valid loss: 0.270690 Train acc: 0.903658 Valid acc: 0.888297\n",
      "Epoch: 86/100 Train loss: 0.235949 Valid loss: 0.269969 Train acc: 0.904218 Valid acc: 0.888654\n"
     ]
    },
    {
     "name": "stdout",
     "output_type": "stream",
     "text": [
      "Epoch: 87/100 Train loss: 0.234734 Valid loss: 0.269254 Train acc: 0.904783 Valid acc: 0.888997\n",
      "Epoch: 88/100 Train loss: 0.233538 Valid loss: 0.268565 Train acc: 0.905327 Valid acc: 0.889340\n",
      "Epoch: 89/100 Train loss: 0.232310 Valid loss: 0.267850 Train acc: 0.905891 Valid acc: 0.889691\n",
      "Epoch: 90/100 Train loss: 0.231120 Valid loss: 0.267149 Train acc: 0.906412 Valid acc: 0.890032\n",
      "Epoch: 91/100 Train loss: 0.229924 Valid loss: 0.266449 Train acc: 0.906956 Valid acc: 0.890373\n",
      "Epoch: 92/100 Train loss: 0.228739 Valid loss: 0.265764 Train acc: 0.907501 Valid acc: 0.890706\n",
      "Epoch: 93/100 Train loss: 0.227586 Valid loss: 0.265101 Train acc: 0.908028 Valid acc: 0.891031\n",
      "Epoch: 94/100 Train loss: 0.226480 Valid loss: 0.264469 Train acc: 0.908507 Valid acc: 0.891341\n",
      "Epoch: 95/100 Train loss: 0.225351 Valid loss: 0.263847 Train acc: 0.909023 Valid acc: 0.891646\n",
      "Epoch: 96/100 Train loss: 0.224215 Valid loss: 0.263227 Train acc: 0.909537 Valid acc: 0.891959\n",
      "Epoch: 97/100 Train loss: 0.223129 Valid loss: 0.262619 Train acc: 0.910026 Valid acc: 0.892260\n",
      "Epoch: 98/100 Train loss: 0.222029 Valid loss: 0.262005 Train acc: 0.910520 Valid acc: 0.892564\n",
      "Epoch: 99/100 Train loss: 0.220913 Valid loss: 0.261394 Train acc: 0.911019 Valid acc: 0.892868\n",
      "Epoch: 100/100 Train loss: 0.219838 Valid loss: 0.260777 Train acc: 0.911483 Valid acc: 0.893169\n"
     ]
    }
   ],
   "source": [
    "train_acc, train_loss = [], []\n",
    "valid_acc, valid_loss = [], []\n",
    "\n",
    "# Save the training result or trained and validated model params\n",
    "saver = tf.train.Saver()\n",
    "\n",
    "with tf.Session() as sess:\n",
    "    sess.run(tf.global_variables_initializer())\n",
    "   \n",
    "    # Loop over epochs\n",
    "    for e in range(epochs):\n",
    "        \n",
    "        # Loop over batches\n",
    "        for x, y in get_batches(X_train_norm, Y_train_onehot, batch_size):\n",
    "            \n",
    "            ######################## Training\n",
    "            # Feed dictionary\n",
    "            feed = {inputs_ : x, labels_ : y, keep_prob_ : keep_prob, learning_rate_ : learning_rate}\n",
    "            \n",
    "            # Loss\n",
    "            loss, _ , acc = sess.run([cost, optimizer, accuracy], feed_dict = feed)\n",
    "            train_acc.append(acc)\n",
    "            train_loss.append(loss)\n",
    "            \n",
    "            ################## Validation\n",
    "            acc_batch = []\n",
    "            loss_batch = []    \n",
    "            # Loop over batches\n",
    "            for x, y in get_batches(X_valid_norm, Y_valid_onehot, batch_size):\n",
    "\n",
    "                # Feed dictionary\n",
    "                feed = {inputs_ : x, labels_ : y, keep_prob_ : 1.0}\n",
    "\n",
    "                # Loss\n",
    "                loss, acc = sess.run([cost, accuracy], feed_dict = feed)\n",
    "                acc_batch.append(acc)\n",
    "                loss_batch.append(loss)\n",
    "\n",
    "            # Store\n",
    "            valid_acc.append(np.mean(acc_batch))\n",
    "            valid_loss.append(np.mean(loss_batch))\n",
    "            \n",
    "        # Print info for every iter/epoch\n",
    "        print(\"Epoch: {}/{}\".format(e+1, epochs),\n",
    "              \"Train loss: {:6f}\".format(np.mean(train_loss)),\n",
    "              \"Valid loss: {:.6f}\".format(np.mean(valid_loss)),\n",
    "              \"Train acc: {:6f}\".format(np.mean(train_acc)),\n",
    "              \"Valid acc: {:.6f}\".format(np.mean(valid_acc)))\n",
    "                \n",
    "    saver.save(sess,\"checkpoints-dcnn/face.ckpt\")"
   ]
  },
  {
   "cell_type": "code",
   "execution_count": 14,
   "metadata": {},
   "outputs": [
    {
     "data": {
      "image/png": "[encoded data removed]",
      "text/plain": [
       "<matplotlib.figure.Figure at 0x7feabc3e7dd8>"
      ]
     },
     "metadata": {},
     "output_type": "display_data"
    }
   ],
   "source": [
    "import matplotlib.pyplot as mplot\n",
    "\n",
    "mplot.plot(train_loss, label='face train_loss')\n",
    "mplot.plot(valid_loss, label='face valid_loss')\n",
    "mplot.legend()\n",
    "mplot.show()"
   ]
  },
  {
   "cell_type": "code",
   "execution_count": 15,
   "metadata": {},
   "outputs": [
    {
     "data": {
      "image/png": "[encoded data removed]",
      "text/plain": [
       "<matplotlib.figure.Figure at 0x7fea981cbbe0>"
      ]
     },
     "metadata": {},
     "output_type": "display_data"
    }
   ],
   "source": [
    "# import matplotlib.pyplot as mplot\n",
    "mplot.plot(train_acc, label='face train_acc')\n",
    "mplot.plot(valid_acc, label='face valid_acc')\n",
    "mplot.legend()\n",
    "mplot.show()"
   ]
  },
  {
   "cell_type": "code",
   "execution_count": 18,
   "metadata": {},
   "outputs": [
    {
     "name": "stdout",
     "output_type": "stream",
     "text": [
      "INFO:tensorflow:Restoring parameters from checkpoints-dcnn/face.ckpt\n",
      "Test loss: 0.208541 Test acc: 0.923641\n"
     ]
    }
   ],
   "source": [
    "test_acc, test_loss = [], []\n",
    "\n",
    "with tf.Session() as sess:\n",
    "    # Restore the validated model\n",
    "    saver.restore(sess, tf.train.latest_checkpoint('checkpoints-dcnn'))\n",
    "    \n",
    "    ################## Test\n",
    "    acc_batch = []\n",
    "    loss_batch = []    \n",
    "    # Loop over batches\n",
    "    for x, y in get_batches(X_test_norm, Y_test_onehot, batch_size):\n",
    "\n",
    "        # Feed dictionary\n",
    "        feed = {inputs_ : x, labels_ : y, keep_prob_ : 1.0}\n",
    "\n",
    "        # Loss\n",
    "        loss, acc = sess.run([cost, accuracy], feed_dict = feed)\n",
    "        acc_batch.append(acc)\n",
    "        loss_batch.append(loss)\n",
    "\n",
    "    # Store\n",
    "    test_acc.append(np.mean(acc_batch))\n",
    "    test_loss.append(np.mean(loss_batch))\n",
    "\n",
    "    # Print info for every iter/epoch\n",
    "    print(\"Test loss: {:6f}\".format(np.mean(test_loss)),\n",
    "          \"Test acc: {:.6f}\".format(np.mean(test_acc)))"
   ]
  },
  {
   "cell_type": "code",
   "execution_count": null,
   "metadata": {},
   "outputs": [],
   "source": []
  }
 ],
 "metadata": {
  "kernelspec": {
   "display_name": "Python 3",
   "language": "python",
   "name": "python3"
  },
  "language_info": {
   "codemirror_mode": {
    "name": "ipython",
    "version": 3
   },
   "file_extension": ".py",
   "mimetype": "text/x-python",
   "name": "python",
   "nbconvert_exporter": "python",
   "pygments_lexer": "ipython3",
   "version": "3.6.3"
  }
 },
 "nbformat": 4,
 "nbformat_minor": 2
}
