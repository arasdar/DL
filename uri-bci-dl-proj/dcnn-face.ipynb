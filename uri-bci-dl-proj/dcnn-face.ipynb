{
 "cells": [
  {
   "cell_type": "code",
   "execution_count": 1,
   "metadata": {},
   "outputs": [
    {
     "name": "stdout",
     "output_type": "stream",
     "text": [
      "(18720, 205, 16) float64 (18720, 1) uint8\n",
      "0.833333333333 0.166666666667 0.0 0.0\n",
      "[2]\n"
     ]
    }
   ],
   "source": [
    "# Read the dataset\n",
    "import scipy.io as spio\n",
    "import numpy as np\n",
    "\n",
    "BahramFace = spio.loadmat(file_name='/home/arasdar/datasets/bci-project-data-RAW/BahramFace.mat')\n",
    "DJFace = spio.loadmat(file_name='/home/arasdar/datasets/bci-project-data-RAW/DJFace.mat')\n",
    "NickFace = spio.loadmat(file_name='/home/arasdar/datasets/bci-project-data-RAW/NickFace.mat')\n",
    "RoohiFace = spio.loadmat(file_name='/home/arasdar/datasets/bci-project-data-RAW/RoohiFace.mat')\n",
    "SarahFace = spio.loadmat(file_name='/home/arasdar/datasets/bci-project-data-RAW/SarahFace.mat')\n",
    "\n",
    "AllData = np.concatenate((BahramFace['Intensification_Data'],\n",
    "                            DJFace['Intensification_Data'],\n",
    "                            NickFace['Intensification_Data'],\n",
    "                            RoohiFace['Intensification_Data'],\n",
    "                            SarahFace['Intensification_Data']), axis=0)\n",
    "\n",
    "AllLabels = np.concatenate((BahramFace['Intensification_Label'],\n",
    "                            DJFace['Intensification_Label'],\n",
    "                            NickFace['Intensification_Label'],\n",
    "                            RoohiFace['Intensification_Label'],\n",
    "                            SarahFace['Intensification_Label']), axis=0)\n",
    "\n",
    "print(AllData.shape, AllData.dtype, AllLabels.shape, AllLabels.dtype)\n",
    "print(np.mean(AllLabels==0), np.mean(AllLabels==1), np.mean(AllLabels==2), np.mean(AllLabels==3))\n",
    "print((AllLabels +  1).max(axis=0))"
   ]
  },
  {
   "cell_type": "code",
   "execution_count": 2,
   "metadata": {},
   "outputs": [
    {
     "name": "stdout",
     "output_type": "stream",
     "text": [
      "(13104, 205, 16) (5616, 205, 16) (13104, 1) (5616, 1)\n"
     ]
    }
   ],
   "source": [
    "# Train and test split\n",
    "from sklearn.model_selection import train_test_split\n",
    "\n",
    "X_train_valid, X_test, Y_train_valid, Y_test = train_test_split(AllData, AllLabels, test_size=0.30)\n",
    "\n",
    "print(X_train_valid.shape, X_test.shape, Y_train_valid.shape, Y_test.shape)"
   ]
  },
  {
   "cell_type": "code",
   "execution_count": 3,
   "metadata": {},
   "outputs": [
    {
     "name": "stdout",
     "output_type": "stream",
     "text": [
      "0.0 0.831654456654 0.168345543346 0.0\n",
      "0.0 0.837250712251 0.162749287749 0.0\n",
      "(5616, 2) float64\n"
     ]
    }
   ],
   "source": [
    "from utilities import *\n",
    "\n",
    "# Normalizing/standardizing the input data features\n",
    "X_train_valid_norm, X_test_norm = standardize(test=X_test, train=X_train_valid)\n",
    "\n",
    "# Onehot encoding/vectorizing the output data labels\n",
    "print(np.mean((Y_train_valid+1).reshape(-1)==0), np.mean((Y_train_valid+1).reshape(-1)==1),\n",
    "     np.mean((Y_train_valid+1).reshape(-1)==2), np.mean((Y_train_valid+1).reshape(-1)==3))\n",
    "\n",
    "print(np.mean((Y_test+1).reshape(-1)==0), np.mean((Y_test+1).reshape(-1)==1),\n",
    "     np.mean((Y_test+1).reshape(-1)==2), np.mean((Y_test+1).reshape(-1)==3))\n",
    "\n",
    "# Y_train_valid_onehot = one_hot(labels=(Y_train_valid+1).reshape(-1), n_class=2) \n",
    "# print(Y_train_valid_onehot.shape, Y_train_valid_onehot.dtype, \n",
    "Y_test_onehot = one_hot(labels=(Y_test+1).reshape(-1), n_class=2) \n",
    "print(Y_test_onehot.shape, Y_test_onehot.dtype)"
   ]
  },
  {
   "cell_type": "code",
   "execution_count": 4,
   "metadata": {},
   "outputs": [],
   "source": [
    "# X_train_valid, X_test, Y_train_valid, Y_test = train_test_split(AllData, AllLabels, test_size=0.30)\n",
    "X_train_norm, X_valid_norm, Y_train, Y_valid = train_test_split(X_train_valid_norm, Y_train_valid, \n",
    "                                                                              test_size=0.30)"
   ]
  },
  {
   "cell_type": "code",
   "execution_count": 5,
   "metadata": {},
   "outputs": [],
   "source": [
    "def get_batches2(X_norm, Y_labels, kernel_size_ratio=1, strides_ratio=1):\n",
    "    # X normalized and Y NOT onehot encoded/vectorized\n",
    "    X, Y = X_norm, Y_labels\n",
    "    AllLabels = Y_labels # 100%\n",
    "\n",
    "    # non = 0 is 87%  AllLabelZero\n",
    "    # tgt = 1 is 13%  AllLabelOne\n",
    "    AllLabelZero = (AllLabels==0).reshape(-1) # 87%\n",
    "    AllLabelOne = (AllLabels==1).reshape(-1) # 13%\n",
    "\n",
    "    X_non, Y_non = X[AllLabelZero], Y[AllLabelZero] # 87%\n",
    "    X_tgt, Y_tgt = X[AllLabelOne], Y[AllLabelOne] # 13%\n",
    "#     print('X_non.shape, Y_non.shape', X_non.shape, Y_non.shape)\n",
    "#     print('X_tgt.shape, Y_tgt.shape', X_tgt.shape, Y_tgt.shape)\n",
    "\n",
    "    # Non-target batch size for get_batches from non-target data\n",
    "    batch_size = X_tgt.shape[0] # 13% -> tgt = 1 is 13%  AllLabelOne\n",
    "    assert X_tgt.shape[0] == Y_tgt.shape[0]\n",
    "#     print('batch_size', batch_size)\n",
    "    \n",
    "    # Convolvolutional minibatching technique\n",
    "    (inputs, filters, kernel_size, strides, padding) = (X_non, 1, \n",
    "                                                        int(batch_size//kernel_size_ratio), \n",
    "                                                        int(batch_size//strides_ratio), \n",
    "                                                        0)\n",
    "#     print('inputs.shape, filters, kernel_size, strides, padding', inputs.shape, filters, \n",
    "#           kernel_size, strides, padding)\n",
    "    n_batches = int((inputs.shape[0] - kernel_size + (2*padding))//strides  + 1) \n",
    "#     print('n_batches', n_batches)\n",
    "    \n",
    "    # Loop over target batches: start, stop, step\n",
    "    for i in range(0, n_batches, 1):\n",
    "        each_X_norm = np.concatenate((X_non[(i*strides):((i*strides)+kernel_size)], X_tgt), axis=0)\n",
    "        each_Y = np.concatenate((Y_non[(i*strides):((i*strides)+kernel_size)], Y_tgt), axis=0)\n",
    "        each_Y_onehot = one_hot(labels=(each_Y+1).reshape(-1), n_class=2)\n",
    "#         print('each_X_norm.shape, each_Y_onehot.shape', each_X_norm.shape, each_Y_onehot.shape)\n",
    "#         print('np.mean(each_Y==0), np.mean(each_Y==1)', np.mean(each_Y==0), np.mean(each_Y==1))\n",
    "        yield each_X_norm, each_Y_onehot"
   ]
  },
  {
   "cell_type": "code",
   "execution_count": 6,
   "metadata": {},
   "outputs": [
    {
     "data": {
      "text/plain": [
       "<generator object get_batches2 at 0x7f7e8ba0b048>"
      ]
     },
     "execution_count": 6,
     "metadata": {},
     "output_type": "execute_result"
    }
   ],
   "source": [
    "get_batches2(X_norm=X_valid_norm, Y_labels=Y_valid, kernel_size_ratio=1, strides_ratio=2)"
   ]
  },
  {
   "cell_type": "code",
   "execution_count": 7,
   "metadata": {},
   "outputs": [
    {
     "data": {
      "text/plain": [
       "<generator object get_batches2 at 0x7f7e4f22ad58>"
      ]
     },
     "execution_count": 7,
     "metadata": {},
     "output_type": "execute_result"
    }
   ],
   "source": [
    "get_batches2(X_norm=X_train_norm, Y_labels=Y_train, kernel_size_ratio=1, strides_ratio=2)"
   ]
  },
  {
   "cell_type": "code",
   "execution_count": 8,
   "metadata": {},
   "outputs": [
    {
     "name": "stdout",
     "output_type": "stream",
     "text": [
      "seq_len, n_channels 205 16\n",
      "n_classes [2]\n"
     ]
    }
   ],
   "source": [
    "## Hyperparameters\n",
    "# Input data\n",
    "# batch_size = X_train_norm.shape[0]// 100 # minibatch size & number of minibatches\n",
    "seq_len = X_train_norm.shape[1] # Number of steps: each trial length\n",
    "n_channels = X_train_norm.shape[2] # number of channels in each trial\n",
    "# print('batch_size, seq_len, n_channels', batch_size, seq_len, n_channels)\n",
    "print('seq_len, n_channels', seq_len, n_channels)\n",
    "\n",
    "# Output labels\n",
    "n_classes = Y_train_valid.max(axis=0)+1\n",
    "assert Y_train_valid.max(axis=0) == Y_test.max(axis=0)\n",
    "print('n_classes', n_classes)\n",
    "\n",
    "# learning parameters\n",
    "learning_rate = 0.0001 #1e-4\n",
    "keep_prob = 0.50 # 90% neurons are kept and 10% are dropped out"
   ]
  },
  {
   "cell_type": "code",
   "execution_count": 9,
   "metadata": {},
   "outputs": [
    {
     "name": "stdout",
     "output_type": "stream",
     "text": [
      "TensorFlow Version: 1.3.0\n",
      "Default GPU Device: /gpu:0\n"
     ]
    }
   ],
   "source": [
    "# GPUs or CPU\n",
    "import tensorflow as tf\n",
    "\n",
    "# Check TensorFlow Version\n",
    "print('TensorFlow Version: {}'.format(tf.__version__))\n",
    "\n",
    "# Check for a GPU\n",
    "print('Default GPU Device: {}'.format(tf.test.gpu_device_name()))"
   ]
  },
  {
   "cell_type": "code",
   "execution_count": 10,
   "metadata": {},
   "outputs": [
    {
     "name": "stdout",
     "output_type": "stream",
     "text": [
      "inputs_.shape, labels_.shape (?, 205, 16) (?, 2)\n"
     ]
    }
   ],
   "source": [
    "# Feed the data from python/numpy to tensorflow framework\n",
    "inputs_ = tf.placeholder(tf.float32, [None, seq_len, n_channels], name = 'inputs_')\n",
    "labels_ = tf.placeholder(tf.float32, [None, n_classes], name = 'labels_')\n",
    "keep_prob_ = tf.placeholder(tf.float32, name = 'keep_prob_')\n",
    "learning_rate_ = tf.placeholder(tf.float32, name = 'learning_rate_')\n",
    "print('inputs_.shape, labels_.shape', inputs_.shape, labels_.shape)"
   ]
  },
  {
   "cell_type": "code",
   "execution_count": 11,
   "metadata": {},
   "outputs": [
    {
     "name": "stdout",
     "output_type": "stream",
     "text": [
      "inputs_.shape, conv1.shape, max_pool_1.shape (?, 205, 16) (?, 204, 32) (?, 102, 32)\n",
      "max_pool_1.shape, conv2.shape, max_pool_2.shape (?, 102, 32) (?, 102, 64) (?, 51, 64)\n",
      "max_pool_2.shape, conv3.shape, max_pool_3.shape (?, 51, 64) (?, 50, 128) (?, 25, 128)\n",
      "max_pool_3.shape, conv4.shape, max_pool_4.shape (?, 25, 128) (?, 24, 256) (?, 12, 256)\n",
      "max_pool_4.shape, flat.shape, logits.shape (?, 12, 256) (?, 3072) (?, 2)\n"
     ]
    }
   ],
   "source": [
    "# inputs_.shape, labels_.shape (?, 205, 16) (?, 2)\n",
    "# (batch, 205, 16) --> (batch, 102, 32)\n",
    "# conv valid: (205-2+0)/1 + 1 = (203/1)+1 = 203 + 1=204\n",
    "# pool same: (204-2+0)/2 + 1 = (202/2)+1 = 101 + 1=102\n",
    "conv1 = tf.layers.conv1d(inputs=inputs_, filters=32, kernel_size=2, strides=1, padding='valid', \n",
    "                         activation = tf.nn.relu)\n",
    "max_pool_1 = tf.layers.max_pooling1d(inputs=conv1, pool_size=2, strides=2, padding='same')\n",
    "# max_pool_1 = tf.nn.dropout(max_pool_1, keep_prob=keep_prob_)\n",
    "print('inputs_.shape, conv1.shape, max_pool_1.shape', inputs_.shape, conv1.shape, max_pool_1.shape)\n",
    "\n",
    "# (batch, 102, 32) --> (batch, 51, 64)\n",
    "# conv same\n",
    "# pool same: (102-2+0)/2 + 1 = (100/2)+1 = 50 + 1=51\n",
    "conv2 = tf.layers.conv1d(inputs=max_pool_1, filters=64, kernel_size=2, strides=1, padding='same', \n",
    "                         activation = tf.nn.relu)\n",
    "max_pool_2 = tf.layers.max_pooling1d(inputs=conv2, pool_size=2, strides=2, padding='same')\n",
    "# max_pool_2 = tf.nn.dropout(max_pool_2, keep_prob=keep_prob_)\n",
    "print('max_pool_1.shape, conv2.shape, max_pool_2.shape', max_pool_1.shape, conv2.shape, max_pool_2.shape)\n",
    "\n",
    "# (batch, 51, 64) --> (batch, 25, 128)\n",
    "# conv valid: (51-2+0)/1 + 1 = (49/1)+1 = 49 + 1=50\n",
    "# pool same: (50-2+0)/2 + 1 = (48/2)+1 = 24 + 1=25\n",
    "conv3 = tf.layers.conv1d(inputs=max_pool_2, filters=128, kernel_size=2, strides=1, padding='valid', \n",
    "                         activation = tf.nn.relu)\n",
    "max_pool_3 = tf.layers.max_pooling1d(inputs=conv3, pool_size=2, strides=2, padding='same')\n",
    "# max_pool_3 = tf.nn.dropout(max_pool_3, keep_prob=keep_prob_)\n",
    "print('max_pool_2.shape, conv3.shape, max_pool_3.shape', max_pool_2.shape, conv3.shape, max_pool_3.shape)\n",
    "\n",
    "# (batch, 25, 128) --> (batch, 12, 256)\n",
    "# conv valid: (25-2+0)/1 + 1 = (23/1)+1 = 23 + 1=24\n",
    "# pool same: (24-2+0)/2 + 1 = (22/2)+1 = 11 + 1=12\n",
    "conv4 = tf.layers.conv1d(inputs=max_pool_3, filters=256, kernel_size=2, strides=1, padding='valid', \n",
    "                         activation = tf.nn.relu)\n",
    "max_pool_4 = tf.layers.max_pooling1d(inputs=conv4, pool_size=2, strides=2, padding='same')\n",
    "# max_pool_4 = tf.nn.dropout(max_pool_4, keep_prob=keep_prob_)\n",
    "print('max_pool_3.shape, conv4.shape, max_pool_4.shape', max_pool_3.shape, conv4.shape, max_pool_4.shape)\n",
    "\n",
    "# Flatten and add dropout + predicted output\n",
    "flat = tf.reshape(max_pool_4, (-1, 12*256))\n",
    "flat = tf.nn.dropout(flat, keep_prob=keep_prob_)\n",
    "logits = tf.layers.dense(flat, n_classes)\n",
    "probs = tf.nn.softmax(logits=logits)\n",
    "print('max_pool_4.shape, flat.shape, logits.shape', max_pool_4.shape, flat.shape, logits.shape)"
   ]
  },
  {
   "cell_type": "code",
   "execution_count": 14,
   "metadata": {},
   "outputs": [
    {
     "name": "stdout",
     "output_type": "stream",
     "text": [
      "cost, cost_ave: Tensor(\"Reshape_6:0\", shape=(?,), dtype=float32) Tensor(\"Mean:0\", shape=(), dtype=float32)\n",
      "optimizer: name: \"Adam\"\n",
      "op: \"NoOp\"\n",
      "input: \"^Adam/update_conv1d/kernel/ApplyAdam\"\n",
      "input: \"^Adam/update_conv1d/bias/ApplyAdam\"\n",
      "input: \"^Adam/update_conv1d_1/kernel/ApplyAdam\"\n",
      "input: \"^Adam/update_conv1d_1/bias/ApplyAdam\"\n",
      "input: \"^Adam/update_conv1d_2/kernel/ApplyAdam\"\n",
      "input: \"^Adam/update_conv1d_2/bias/ApplyAdam\"\n",
      "input: \"^Adam/update_conv1d_3/kernel/ApplyAdam\"\n",
      "input: \"^Adam/update_conv1d_3/bias/ApplyAdam\"\n",
      "input: \"^Adam/update_dense/kernel/ApplyAdam\"\n",
      "input: \"^Adam/update_dense/bias/ApplyAdam\"\n",
      "input: \"^Adam/Assign\"\n",
      "input: \"^Adam/Assign_1\"\n",
      "\n",
      "correct_pred, correct_pred_ave: Tensor(\"Equal:0\", shape=(?,), dtype=bool) Tensor(\"Mean_1:0\", shape=(), dtype=float32)\n",
      "confusion, confusion_ave Tensor(\"confusion_matrix/SparseTensorDenseAdd:0\", shape=(?, ?), dtype=float32) Tensor(\"Mean_2:0\", shape=(), dtype=float32)\n"
     ]
    }
   ],
   "source": [
    "# Backward pass: error backpropagation\n",
    "# Cost function\n",
    "cost = tf.nn.softmax_cross_entropy_with_logits(logits=logits, labels=labels_)\n",
    "cost_ave = tf.reduce_mean(input_tensor=cost)\n",
    "print('cost, cost_ave:', cost, cost_ave)\n",
    "\n",
    "# Optimizer\n",
    "optimizer = tf.train.AdamOptimizer(learning_rate=learning_rate_).minimize(cost)\n",
    "print('optimizer:', optimizer)\n",
    "\n",
    "# Accuracy\n",
    "correct_pred = tf.equal(x=tf.argmax(input=probs, axis=1), y=tf.argmax(input=labels_, axis=1))\n",
    "correct_pred_ave = tf.reduce_mean(input_tensor=tf.cast(correct_pred, tf.float32)) # accuracy??\n",
    "print('correct_pred, correct_pred_ave:', correct_pred, correct_pred_ave)\n",
    "\n",
    "# Confusion matrix\n",
    "confusion = tf.confusion_matrix(predictions=tf.argmax(input=probs, axis=1), \n",
    "                                labels=tf.argmax(input=labels_, axis=1), dtype=tf.float32)\n",
    "confusion_ave = tf.reduce_mean(input_tensor=confusion)\n",
    "print('confusion, confusion_ave', confusion, confusion_ave)"
   ]
  },
  {
   "cell_type": "code",
   "execution_count": 15,
   "metadata": {},
   "outputs": [
    {
     "name": "stdout",
     "output_type": "stream",
     "text": [
      "Epoch: 1/200 kernel_size_ratio: 1/1 strides_ratio: 1/1 Train loss: 0.721604 Valid loss: 0.700709 Train acc: 0.498890 Valid acc: 0.488889\n",
      "Epoch: 2/200 kernel_size_ratio: 1/1 strides_ratio: 1/1 Train loss: 0.716401 Valid loss: 0.699314 Train acc: 0.502102 Valid acc: 0.495972\n",
      "Epoch: 3/200 kernel_size_ratio: 1/1 strides_ratio: 1/1 Train loss: 0.710974 Valid loss: 0.695760 Train acc: 0.508989 Valid acc: 0.520860\n",
      "Epoch: 4/200 kernel_size_ratio: 1/1 strides_ratio: 1/1 Train loss: 0.707027 Valid loss: 0.692563 Train acc: 0.515724 Valid acc: 0.535327\n",
      "Epoch: 5/200 kernel_size_ratio: 1/1 strides_ratio: 1/1 Train loss: 0.703753 Valid loss: 0.689483 Train acc: 0.521510 Valid acc: 0.550357\n",
      "Epoch: 6/200 kernel_size_ratio: 1/1 strides_ratio: 1/1 Train loss: 0.699817 Valid loss: 0.686448 Train acc: 0.530616 Valid acc: 0.566541\n",
      "Epoch: 7/200 kernel_size_ratio: 1/1 strides_ratio: 1/1 Train loss: 0.696501 Valid loss: 0.683550 Train acc: 0.538830 Valid acc: 0.578917\n",
      "Epoch: 8/200 kernel_size_ratio: 1/1 strides_ratio: 1/1 Train loss: 0.692760 Valid loss: 0.680541 Train acc: 0.546746 Valid acc: 0.590754\n",
      "Epoch: 9/200 kernel_size_ratio: 1/1 strides_ratio: 1/1 Train loss: 0.689263 Valid loss: 0.677459 Train acc: 0.555080 Valid acc: 0.601023\n",
      "Epoch: 10/200 kernel_size_ratio: 1/1 strides_ratio: 1/1 Train loss: 0.685604 Valid loss: 0.674330 Train acc: 0.563484 Valid acc: 0.610183\n",
      "Epoch: 11/200 kernel_size_ratio: 1/1 strides_ratio: 1/1 Train loss: 0.681741 Valid loss: 0.671115 Train acc: 0.571693 Valid acc: 0.618914\n",
      "Epoch: 12/200 kernel_size_ratio: 1/1 strides_ratio: 1/1 Train loss: 0.677957 Valid loss: 0.667819 Train acc: 0.579348 Valid acc: 0.626716\n",
      "Epoch: 13/200 kernel_size_ratio: 1/1 strides_ratio: 1/1 Train loss: 0.673975 Valid loss: 0.664433 Train acc: 0.586917 Valid acc: 0.633666\n",
      "Epoch: 14/200 kernel_size_ratio: 1/1 strides_ratio: 1/1 Train loss: 0.669927 Valid loss: 0.660959 Train acc: 0.593903 Valid acc: 0.639796\n",
      "Epoch: 15/200 kernel_size_ratio: 1/1 strides_ratio: 1/1 Train loss: 0.665874 Valid loss: 0.657399 Train acc: 0.600238 Valid acc: 0.645497\n",
      "Epoch: 16/200 kernel_size_ratio: 1/1 strides_ratio: 1/1 Train loss: 0.661650 Valid loss: 0.653760 Train acc: 0.606738 Valid acc: 0.650791\n",
      "Epoch: 17/200 kernel_size_ratio: 1/1 strides_ratio: 1/1 Train loss: 0.657593 Valid loss: 0.650057 Train acc: 0.612380 Valid acc: 0.655761\n",
      "Epoch: 18/200 kernel_size_ratio: 1/1 strides_ratio: 1/1 Train loss: 0.653527 Valid loss: 0.646307 Train acc: 0.617774 Valid acc: 0.660406\n",
      "Epoch: 19/200 kernel_size_ratio: 1/1 strides_ratio: 1/1 Train loss: 0.649551 Valid loss: 0.642526 Train acc: 0.622917 Valid acc: 0.664614\n",
      "Epoch: 20/200 kernel_size_ratio: 1/1 strides_ratio: 1/1 Train loss: 0.645384 Valid loss: 0.638730 Train acc: 0.628042 Valid acc: 0.668496\n",
      "Epoch: 21/200 kernel_size_ratio: 1/1 strides_ratio: 1/1 Train loss: 0.641114 Valid loss: 0.634931 Train acc: 0.633030 Valid acc: 0.672077\n",
      "Epoch: 22/200 kernel_size_ratio: 1/1 strides_ratio: 1/1 Train loss: 0.637088 Valid loss: 0.631137 Train acc: 0.637510 Valid acc: 0.675341\n",
      "Epoch: 23/200 kernel_size_ratio: 1/1 strides_ratio: 1/1 Train loss: 0.632943 Valid loss: 0.627360 Train acc: 0.641860 Valid acc: 0.678432\n",
      "Epoch: 24/200 kernel_size_ratio: 1/1 strides_ratio: 1/1 Train loss: 0.628997 Valid loss: 0.623611 Train acc: 0.645942 Valid acc: 0.681295\n",
      "Epoch: 25/200 kernel_size_ratio: 1/1 strides_ratio: 1/1 Train loss: 0.625225 Valid loss: 0.619900 Train acc: 0.649816 Valid acc: 0.683995\n",
      "Epoch: 26/200 kernel_size_ratio: 1/1 strides_ratio: 1/1 Train loss: 0.621286 Valid loss: 0.616236 Train acc: 0.653755 Valid acc: 0.686537\n",
      "Epoch: 27/200 kernel_size_ratio: 1/1 strides_ratio: 1/1 Train loss: 0.617472 Valid loss: 0.612624 Train acc: 0.657325 Valid acc: 0.689006\n",
      "Epoch: 28/200 kernel_size_ratio: 1/1 strides_ratio: 1/1 Train loss: 0.613616 Valid loss: 0.609064 Train acc: 0.660944 Valid acc: 0.691492\n",
      "Epoch: 29/200 kernel_size_ratio: 1/1 strides_ratio: 1/1 Train loss: 0.609925 Valid loss: 0.605555 Train acc: 0.664209 Valid acc: 0.693975\n",
      "Epoch: 30/200 kernel_size_ratio: 1/1 strides_ratio: 1/1 Train loss: 0.606288 Valid loss: 0.602104 Train acc: 0.667505 Valid acc: 0.696409\n",
      "Epoch: 31/200 kernel_size_ratio: 1/1 strides_ratio: 1/1 Train loss: 0.602596 Valid loss: 0.598705 Train acc: 0.670749 Valid acc: 0.698720\n",
      "Epoch: 32/200 kernel_size_ratio: 1/1 strides_ratio: 1/1 Train loss: 0.599055 Valid loss: 0.595357 Train acc: 0.673764 Valid acc: 0.700943\n",
      "Epoch: 33/200 kernel_size_ratio: 1/1 strides_ratio: 1/1 Train loss: 0.595513 Valid loss: 0.592062 Train acc: 0.676841 Valid acc: 0.703080\n",
      "Epoch: 34/200 kernel_size_ratio: 1/1 strides_ratio: 1/1 Train loss: 0.591988 Valid loss: 0.588820 Train acc: 0.679804 Valid acc: 0.705170\n",
      "Epoch: 35/200 kernel_size_ratio: 1/1 strides_ratio: 1/1 Train loss: 0.588605 Valid loss: 0.585631 Train acc: 0.682610 Valid acc: 0.707213\n",
      "Epoch: 36/200 kernel_size_ratio: 1/1 strides_ratio: 1/1 Train loss: 0.585240 Valid loss: 0.582498 Train acc: 0.685328 Valid acc: 0.709267\n",
      "Epoch: 37/200 kernel_size_ratio: 1/1 strides_ratio: 1/1 Train loss: 0.581970 Valid loss: 0.579421 Train acc: 0.687997 Valid acc: 0.711307\n",
      "Epoch: 38/200 kernel_size_ratio: 1/1 strides_ratio: 1/1 Train loss: 0.578783 Valid loss: 0.576401 Train acc: 0.690533 Valid acc: 0.713297\n",
      "Epoch: 39/200 kernel_size_ratio: 1/1 strides_ratio: 1/1 Train loss: 0.575606 Valid loss: 0.573436 Train acc: 0.693044 Valid acc: 0.715292\n",
      "Epoch: 40/200 kernel_size_ratio: 1/1 strides_ratio: 1/1 Train loss: 0.572517 Valid loss: 0.570530 Train acc: 0.695556 Valid acc: 0.717323\n",
      "Epoch: 41/200 kernel_size_ratio: 1/1 strides_ratio: 1/1 Train loss: 0.569489 Valid loss: 0.567679 Train acc: 0.697888 Valid acc: 0.719360\n",
      "Epoch: 42/200 kernel_size_ratio: 1/1 strides_ratio: 1/1 Train loss: 0.566496 Valid loss: 0.564886 Train acc: 0.700296 Valid acc: 0.721380\n",
      "Epoch: 43/200 kernel_size_ratio: 1/1 strides_ratio: 1/1 Train loss: 0.563600 Valid loss: 0.562153 Train acc: 0.702562 Valid acc: 0.723365\n",
      "Epoch: 44/200 kernel_size_ratio: 1/1 strides_ratio: 1/1 Train loss: 0.560701 Valid loss: 0.559475 Train acc: 0.704764 Valid acc: 0.725222\n",
      "Epoch: 45/200 kernel_size_ratio: 1/1 strides_ratio: 1/1 Train loss: 0.557800 Valid loss: 0.556856 Train acc: 0.706937 Valid acc: 0.727024\n",
      "Epoch: 46/200 kernel_size_ratio: 1/1 strides_ratio: 1/1 Train loss: 0.554961 Valid loss: 0.554291 Train acc: 0.709113 Valid acc: 0.728761\n",
      "Epoch: 47/200 kernel_size_ratio: 1/1 strides_ratio: 1/1 Train loss: 0.552238 Valid loss: 0.551783 Train acc: 0.711156 Valid acc: 0.730457\n",
      "Epoch: 48/200 kernel_size_ratio: 1/1 strides_ratio: 1/1 Train loss: 0.549556 Valid loss: 0.549335 Train acc: 0.713170 Valid acc: 0.732119\n",
      "Epoch: 49/200 kernel_size_ratio: 1/1 strides_ratio: 1/1 Train loss: 0.546886 Valid loss: 0.546944 Train acc: 0.715105 Valid acc: 0.733717\n",
      "Epoch: 50/200 kernel_size_ratio: 1/1 strides_ratio: 1/1 Train loss: 0.544339 Valid loss: 0.544607 Train acc: 0.716937 Valid acc: 0.735237\n",
      "Epoch: 51/200 kernel_size_ratio: 1/1 strides_ratio: 1/1 Train loss: 0.541814 Valid loss: 0.542328 Train acc: 0.718811 Valid acc: 0.736733\n",
      "Epoch: 52/200 kernel_size_ratio: 1/1 strides_ratio: 1/1 Train loss: 0.539275 Valid loss: 0.540113 Train acc: 0.720666 Valid acc: 0.738218\n",
      "Epoch: 53/200 kernel_size_ratio: 1/1 strides_ratio: 1/1 Train loss: 0.536888 Valid loss: 0.537951 Train acc: 0.722407 Valid acc: 0.739635\n",
      "Epoch: 54/200 kernel_size_ratio: 1/1 strides_ratio: 1/1 Train loss: 0.534459 Valid loss: 0.535846 Train acc: 0.724207 Valid acc: 0.740991\n",
      "Epoch: 55/200 kernel_size_ratio: 1/1 strides_ratio: 1/1 Train loss: 0.532071 Valid loss: 0.533798 Train acc: 0.725908 Valid acc: 0.742276\n",
      "Epoch: 56/200 kernel_size_ratio: 1/1 strides_ratio: 1/1 Train loss: 0.529713 Valid loss: 0.531802 Train acc: 0.727674 Valid acc: 0.743543\n",
      "Epoch: 57/200 kernel_size_ratio: 1/1 strides_ratio: 1/1 Train loss: 0.527414 Valid loss: 0.529851 Train acc: 0.729260 Valid acc: 0.744797\n",
      "Epoch: 58/200 kernel_size_ratio: 1/1 strides_ratio: 1/1 Train loss: 0.525259 Valid loss: 0.527947 Train acc: 0.730773 Valid acc: 0.746006\n",
      "Epoch: 59/200 kernel_size_ratio: 1/1 strides_ratio: 1/1 Train loss: 0.523094 Valid loss: 0.526101 Train acc: 0.732252 Valid acc: 0.747189\n",
      "Epoch: 60/200 kernel_size_ratio: 1/1 strides_ratio: 1/1 Train loss: 0.520961 Valid loss: 0.524297 Train acc: 0.733743 Valid acc: 0.748342\n"
     ]
    },
    {
     "name": "stdout",
     "output_type": "stream",
     "text": [
      "Epoch: 61/200 kernel_size_ratio: 1/1 strides_ratio: 1/1 Train loss: 0.518868 Valid loss: 0.522537 Train acc: 0.735277 Valid acc: 0.749467\n",
      "Epoch: 62/200 kernel_size_ratio: 1/1 strides_ratio: 1/1 Train loss: 0.516780 Valid loss: 0.520828 Train acc: 0.736784 Valid acc: 0.750580\n",
      "Epoch: 63/200 kernel_size_ratio: 1/1 strides_ratio: 1/1 Train loss: 0.514726 Valid loss: 0.519162 Train acc: 0.738250 Valid acc: 0.751666\n",
      "Epoch: 64/200 kernel_size_ratio: 1/1 strides_ratio: 1/1 Train loss: 0.512756 Valid loss: 0.517534 Train acc: 0.739643 Valid acc: 0.752729\n",
      "Epoch: 65/200 kernel_size_ratio: 1/1 strides_ratio: 1/1 Train loss: 0.510808 Valid loss: 0.515948 Train acc: 0.741023 Valid acc: 0.753778\n",
      "Epoch: 66/200 kernel_size_ratio: 1/1 strides_ratio: 1/1 Train loss: 0.508897 Valid loss: 0.514401 Train acc: 0.742359 Valid acc: 0.754824\n",
      "Epoch: 67/200 kernel_size_ratio: 1/1 strides_ratio: 1/1 Train loss: 0.507026 Valid loss: 0.512888 Train acc: 0.743648 Valid acc: 0.755872\n",
      "Epoch: 68/200 kernel_size_ratio: 1/1 strides_ratio: 1/1 Train loss: 0.505177 Valid loss: 0.511403 Train acc: 0.744972 Valid acc: 0.756883\n",
      "Epoch: 69/200 kernel_size_ratio: 1/1 strides_ratio: 1/1 Train loss: 0.503350 Valid loss: 0.509950 Train acc: 0.746251 Valid acc: 0.757862\n",
      "Epoch: 70/200 kernel_size_ratio: 1/1 strides_ratio: 1/1 Train loss: 0.501550 Valid loss: 0.508531 Train acc: 0.747492 Valid acc: 0.758831\n",
      "Epoch: 71/200 kernel_size_ratio: 1/1 strides_ratio: 1/1 Train loss: 0.499755 Valid loss: 0.507144 Train acc: 0.748729 Valid acc: 0.759751\n",
      "Epoch: 72/200 kernel_size_ratio: 1/1 strides_ratio: 1/1 Train loss: 0.497988 Valid loss: 0.505784 Train acc: 0.749953 Valid acc: 0.760645\n",
      "Epoch: 73/200 kernel_size_ratio: 1/1 strides_ratio: 1/1 Train loss: 0.496294 Valid loss: 0.504458 Train acc: 0.751133 Valid acc: 0.761520\n",
      "Epoch: 74/200 kernel_size_ratio: 1/1 strides_ratio: 1/1 Train loss: 0.494613 Valid loss: 0.503160 Train acc: 0.752289 Valid acc: 0.762376\n",
      "Epoch: 75/200 kernel_size_ratio: 1/1 strides_ratio: 1/1 Train loss: 0.492946 Valid loss: 0.501894 Train acc: 0.753409 Valid acc: 0.763210\n",
      "Epoch: 76/200 kernel_size_ratio: 1/1 strides_ratio: 1/1 Train loss: 0.491292 Valid loss: 0.500652 Train acc: 0.754514 Valid acc: 0.764041\n",
      "Epoch: 77/200 kernel_size_ratio: 1/1 strides_ratio: 1/1 Train loss: 0.489665 Valid loss: 0.499433 Train acc: 0.755634 Valid acc: 0.764876\n",
      "Epoch: 78/200 kernel_size_ratio: 1/1 strides_ratio: 1/1 Train loss: 0.488081 Valid loss: 0.498243 Train acc: 0.756696 Valid acc: 0.765676\n",
      "Epoch: 79/200 kernel_size_ratio: 1/1 strides_ratio: 1/1 Train loss: 0.486518 Valid loss: 0.497079 Train acc: 0.757787 Valid acc: 0.766452\n",
      "Epoch: 80/200 kernel_size_ratio: 1/1 strides_ratio: 1/1 Train loss: 0.484976 Valid loss: 0.495945 Train acc: 0.758837 Valid acc: 0.767193\n",
      "Epoch: 81/200 kernel_size_ratio: 1/1 strides_ratio: 1/1 Train loss: 0.483422 Valid loss: 0.494838 Train acc: 0.759879 Valid acc: 0.767919\n",
      "Epoch: 82/200 kernel_size_ratio: 1/1 strides_ratio: 1/1 Train loss: 0.481890 Valid loss: 0.493753 Train acc: 0.760927 Valid acc: 0.768626\n",
      "Epoch: 83/200 kernel_size_ratio: 1/1 strides_ratio: 1/1 Train loss: 0.480401 Valid loss: 0.492689 Train acc: 0.761926 Valid acc: 0.769316\n",
      "Epoch: 84/200 kernel_size_ratio: 1/1 strides_ratio: 1/1 Train loss: 0.478935 Valid loss: 0.491655 Train acc: 0.762899 Valid acc: 0.769980\n",
      "Epoch: 85/200 kernel_size_ratio: 1/1 strides_ratio: 1/1 Train loss: 0.477456 Valid loss: 0.490635 Train acc: 0.763898 Valid acc: 0.770629\n",
      "Epoch: 86/200 kernel_size_ratio: 1/1 strides_ratio: 1/1 Train loss: 0.476026 Valid loss: 0.489636 Train acc: 0.764855 Valid acc: 0.771266\n",
      "Epoch: 87/200 kernel_size_ratio: 1/1 strides_ratio: 1/1 Train loss: 0.474618 Valid loss: 0.488666 Train acc: 0.765807 Valid acc: 0.771894\n",
      "Epoch: 88/200 kernel_size_ratio: 1/1 strides_ratio: 1/1 Train loss: 0.473209 Valid loss: 0.487717 Train acc: 0.766728 Valid acc: 0.772508\n",
      "Epoch: 89/200 kernel_size_ratio: 1/1 strides_ratio: 1/1 Train loss: 0.471840 Valid loss: 0.486784 Train acc: 0.767651 Valid acc: 0.773096\n",
      "Epoch: 90/200 kernel_size_ratio: 1/1 strides_ratio: 1/1 Train loss: 0.470499 Valid loss: 0.485887 Train acc: 0.768530 Valid acc: 0.773679\n",
      "Epoch: 91/200 kernel_size_ratio: 1/1 strides_ratio: 1/1 Train loss: 0.469143 Valid loss: 0.485002 Train acc: 0.769387 Valid acc: 0.774243\n",
      "Epoch: 92/200 kernel_size_ratio: 1/1 strides_ratio: 1/1 Train loss: 0.467819 Valid loss: 0.484134 Train acc: 0.770264 Valid acc: 0.774800\n",
      "Epoch: 93/200 kernel_size_ratio: 1/1 strides_ratio: 1/1 Train loss: 0.466475 Valid loss: 0.483292 Train acc: 0.771162 Valid acc: 0.775343\n",
      "Epoch: 94/200 kernel_size_ratio: 1/1 strides_ratio: 1/1 Train loss: 0.465149 Valid loss: 0.482458 Train acc: 0.772034 Valid acc: 0.775878\n",
      "Epoch: 95/200 kernel_size_ratio: 1/1 strides_ratio: 1/1 Train loss: 0.463839 Valid loss: 0.481636 Train acc: 0.772893 Valid acc: 0.776403\n",
      "Epoch: 96/200 kernel_size_ratio: 1/1 strides_ratio: 1/1 Train loss: 0.462573 Valid loss: 0.480825 Train acc: 0.773708 Valid acc: 0.776934\n",
      "Epoch: 97/200 kernel_size_ratio: 1/1 strides_ratio: 1/1 Train loss: 0.461306 Valid loss: 0.480036 Train acc: 0.774534 Valid acc: 0.777454\n",
      "Epoch: 98/200 kernel_size_ratio: 1/1 strides_ratio: 1/1 Train loss: 0.460069 Valid loss: 0.479247 Train acc: 0.775345 Valid acc: 0.777969\n",
      "Epoch: 99/200 kernel_size_ratio: 1/1 strides_ratio: 1/1 Train loss: 0.458803 Valid loss: 0.478482 Train acc: 0.776177 Valid acc: 0.778476\n",
      "Epoch: 100/200 kernel_size_ratio: 1/1 strides_ratio: 1/1 Train loss: 0.457565 Valid loss: 0.477734 Train acc: 0.776983 Valid acc: 0.778973\n",
      "Epoch: 101/200 kernel_size_ratio: 1/1 strides_ratio: 1/1 Train loss: 0.456341 Valid loss: 0.476990 Train acc: 0.777762 Valid acc: 0.779470\n",
      "Epoch: 102/200 kernel_size_ratio: 1/1 strides_ratio: 1/1 Train loss: 0.455143 Valid loss: 0.476280 Train acc: 0.778542 Valid acc: 0.779930\n",
      "Epoch: 103/200 kernel_size_ratio: 1/1 strides_ratio: 1/1 Train loss: 0.453932 Valid loss: 0.475579 Train acc: 0.779319 Valid acc: 0.780397\n",
      "Epoch: 104/200 kernel_size_ratio: 1/1 strides_ratio: 1/1 Train loss: 0.452749 Valid loss: 0.474898 Train acc: 0.780100 Valid acc: 0.780855\n",
      "Epoch: 105/200 kernel_size_ratio: 1/1 strides_ratio: 1/1 Train loss: 0.451560 Valid loss: 0.474235 Train acc: 0.780856 Valid acc: 0.781313\n",
      "Epoch: 106/200 kernel_size_ratio: 1/1 strides_ratio: 1/1 Train loss: 0.450397 Valid loss: 0.473579 Train acc: 0.781612 Valid acc: 0.781776\n",
      "Epoch: 107/200 kernel_size_ratio: 1/1 strides_ratio: 1/1 Train loss: 0.449230 Valid loss: 0.472940 Train acc: 0.782397 Valid acc: 0.782212\n",
      "Epoch: 108/200 kernel_size_ratio: 1/1 strides_ratio: 1/1 Train loss: 0.448081 Valid loss: 0.472307 Train acc: 0.783137 Valid acc: 0.782651\n",
      "Epoch: 109/200 kernel_size_ratio: 1/1 strides_ratio: 1/1 Train loss: 0.446897 Valid loss: 0.471688 Train acc: 0.783907 Valid acc: 0.783089\n",
      "Epoch: 110/200 kernel_size_ratio: 1/1 strides_ratio: 1/1 Train loss: 0.445764 Valid loss: 0.471087 Train acc: 0.784653 Valid acc: 0.783523\n",
      "Epoch: 111/200 kernel_size_ratio: 1/1 strides_ratio: 1/1 Train loss: 0.444654 Valid loss: 0.470488 Train acc: 0.785354 Valid acc: 0.783945\n",
      "Epoch: 112/200 kernel_size_ratio: 1/1 strides_ratio: 1/1 Train loss: 0.443511 Valid loss: 0.469909 Train acc: 0.786077 Valid acc: 0.784361\n",
      "Epoch: 113/200 kernel_size_ratio: 1/1 strides_ratio: 1/1 Train loss: 0.442411 Valid loss: 0.469339 Train acc: 0.786806 Valid acc: 0.784772\n",
      "Epoch: 114/200 kernel_size_ratio: 1/1 strides_ratio: 1/1 Train loss: 0.441310 Valid loss: 0.468786 Train acc: 0.787510 Valid acc: 0.785176\n",
      "Epoch: 115/200 kernel_size_ratio: 1/1 strides_ratio: 1/1 Train loss: 0.440210 Valid loss: 0.468229 Train acc: 0.788229 Valid acc: 0.785565\n",
      "Epoch: 116/200 kernel_size_ratio: 1/1 strides_ratio: 1/1 Train loss: 0.439120 Valid loss: 0.467701 Train acc: 0.788939 Valid acc: 0.785956\n",
      "Epoch: 117/200 kernel_size_ratio: 1/1 strides_ratio: 1/1 Train loss: 0.438031 Valid loss: 0.467178 Train acc: 0.789643 Valid acc: 0.786342\n",
      "Epoch: 118/200 kernel_size_ratio: 1/1 strides_ratio: 1/1 Train loss: 0.436943 Valid loss: 0.466658 Train acc: 0.790347 Valid acc: 0.786720\n",
      "Epoch: 119/200 kernel_size_ratio: 1/1 strides_ratio: 1/1 Train loss: 0.435885 Valid loss: 0.466161 Train acc: 0.791024 Valid acc: 0.787096\n",
      "Epoch: 120/200 kernel_size_ratio: 1/1 strides_ratio: 1/1 Train loss: 0.434835 Valid loss: 0.465673 Train acc: 0.791694 Valid acc: 0.787472\n"
     ]
    },
    {
     "name": "stdout",
     "output_type": "stream",
     "text": [
      "Epoch: 121/200 kernel_size_ratio: 1/1 strides_ratio: 1/1 Train loss: 0.433757 Valid loss: 0.465199 Train acc: 0.792383 Valid acc: 0.787836\n",
      "Epoch: 122/200 kernel_size_ratio: 1/1 strides_ratio: 1/1 Train loss: 0.432732 Valid loss: 0.464728 Train acc: 0.793032 Valid acc: 0.788199\n",
      "Epoch: 123/200 kernel_size_ratio: 1/1 strides_ratio: 1/1 Train loss: 0.431681 Valid loss: 0.464274 Train acc: 0.793692 Valid acc: 0.788562\n",
      "Epoch: 124/200 kernel_size_ratio: 1/1 strides_ratio: 1/1 Train loss: 0.430657 Valid loss: 0.463814 Train acc: 0.794339 Valid acc: 0.788926\n",
      "Epoch: 125/200 kernel_size_ratio: 1/1 strides_ratio: 1/1 Train loss: 0.429652 Valid loss: 0.463378 Train acc: 0.794975 Valid acc: 0.789280\n",
      "Epoch: 126/200 kernel_size_ratio: 1/1 strides_ratio: 1/1 Train loss: 0.428642 Valid loss: 0.462939 Train acc: 0.795622 Valid acc: 0.789619\n",
      "Epoch: 127/200 kernel_size_ratio: 1/1 strides_ratio: 1/1 Train loss: 0.427625 Valid loss: 0.462528 Train acc: 0.796267 Valid acc: 0.789961\n",
      "Epoch: 128/200 kernel_size_ratio: 1/1 strides_ratio: 1/1 Train loss: 0.426623 Valid loss: 0.462122 Train acc: 0.796903 Valid acc: 0.790304\n",
      "Epoch: 129/200 kernel_size_ratio: 1/1 strides_ratio: 1/1 Train loss: 0.425636 Valid loss: 0.461732 Train acc: 0.797521 Valid acc: 0.790644\n",
      "Epoch: 130/200 kernel_size_ratio: 1/1 strides_ratio: 1/1 Train loss: 0.424639 Valid loss: 0.461350 Train acc: 0.798143 Valid acc: 0.790976\n",
      "Epoch: 131/200 kernel_size_ratio: 1/1 strides_ratio: 1/1 Train loss: 0.423655 Valid loss: 0.460973 Train acc: 0.798785 Valid acc: 0.791304\n",
      "Epoch: 132/200 kernel_size_ratio: 1/1 strides_ratio: 1/1 Train loss: 0.422675 Valid loss: 0.460609 Train acc: 0.799400 Valid acc: 0.791636\n",
      "Epoch: 133/200 kernel_size_ratio: 1/1 strides_ratio: 1/1 Train loss: 0.421699 Valid loss: 0.460253 Train acc: 0.800015 Valid acc: 0.791973\n",
      "Epoch: 134/200 kernel_size_ratio: 1/1 strides_ratio: 1/1 Train loss: 0.420732 Valid loss: 0.459906 Train acc: 0.800609 Valid acc: 0.792304\n",
      "Epoch: 135/200 kernel_size_ratio: 1/1 strides_ratio: 1/1 Train loss: 0.419760 Valid loss: 0.459567 Train acc: 0.801205 Valid acc: 0.792631\n",
      "Epoch: 136/200 kernel_size_ratio: 1/1 strides_ratio: 1/1 Train loss: 0.418794 Valid loss: 0.459237 Train acc: 0.801814 Valid acc: 0.792944\n",
      "Epoch: 137/200 kernel_size_ratio: 1/1 strides_ratio: 1/1 Train loss: 0.417840 Valid loss: 0.458915 Train acc: 0.802412 Valid acc: 0.793256\n",
      "Epoch: 138/200 kernel_size_ratio: 1/1 strides_ratio: 1/1 Train loss: 0.416876 Valid loss: 0.458595 Train acc: 0.803019 Valid acc: 0.793570\n",
      "Epoch: 139/200 kernel_size_ratio: 1/1 strides_ratio: 1/1 Train loss: 0.415920 Valid loss: 0.458290 Train acc: 0.803612 Valid acc: 0.793880\n",
      "Epoch: 140/200 kernel_size_ratio: 1/1 strides_ratio: 1/1 Train loss: 0.414974 Valid loss: 0.457987 Train acc: 0.804174 Valid acc: 0.794174\n",
      "Epoch: 141/200 kernel_size_ratio: 1/1 strides_ratio: 1/1 Train loss: 0.414058 Valid loss: 0.457692 Train acc: 0.804752 Valid acc: 0.794458\n",
      "Epoch: 142/200 kernel_size_ratio: 1/1 strides_ratio: 1/1 Train loss: 0.413138 Valid loss: 0.457407 Train acc: 0.805326 Valid acc: 0.794741\n",
      "Epoch: 143/200 kernel_size_ratio: 1/1 strides_ratio: 1/1 Train loss: 0.412212 Valid loss: 0.457107 Train acc: 0.805902 Valid acc: 0.795033\n",
      "Epoch: 144/200 kernel_size_ratio: 1/1 strides_ratio: 1/1 Train loss: 0.411300 Valid loss: 0.456837 Train acc: 0.806461 Valid acc: 0.795308\n",
      "Epoch: 145/200 kernel_size_ratio: 1/1 strides_ratio: 1/1 Train loss: 0.410401 Valid loss: 0.456548 Train acc: 0.807006 Valid acc: 0.795580\n",
      "Epoch: 146/200 kernel_size_ratio: 1/1 strides_ratio: 1/1 Train loss: 0.409496 Valid loss: 0.456286 Train acc: 0.807564 Valid acc: 0.795853\n",
      "Epoch: 147/200 kernel_size_ratio: 1/1 strides_ratio: 1/1 Train loss: 0.408588 Valid loss: 0.456022 Train acc: 0.808122 Valid acc: 0.796120\n",
      "Epoch: 148/200 kernel_size_ratio: 1/1 strides_ratio: 1/1 Train loss: 0.407688 Valid loss: 0.455768 Train acc: 0.808671 Valid acc: 0.796383\n",
      "Epoch: 149/200 kernel_size_ratio: 1/1 strides_ratio: 1/1 Train loss: 0.406805 Valid loss: 0.455511 Train acc: 0.809211 Valid acc: 0.796649\n",
      "Epoch: 150/200 kernel_size_ratio: 1/1 strides_ratio: 1/1 Train loss: 0.405904 Valid loss: 0.455267 Train acc: 0.809782 Valid acc: 0.796902\n",
      "Epoch: 151/200 kernel_size_ratio: 1/1 strides_ratio: 1/1 Train loss: 0.405021 Valid loss: 0.455038 Train acc: 0.810321 Valid acc: 0.797146\n",
      "Epoch: 152/200 kernel_size_ratio: 1/1 strides_ratio: 1/1 Train loss: 0.404134 Valid loss: 0.454806 Train acc: 0.810848 Valid acc: 0.797396\n",
      "Epoch: 153/200 kernel_size_ratio: 1/1 strides_ratio: 1/1 Train loss: 0.403254 Valid loss: 0.454584 Train acc: 0.811390 Valid acc: 0.797640\n",
      "Epoch: 154/200 kernel_size_ratio: 1/1 strides_ratio: 1/1 Train loss: 0.402377 Valid loss: 0.454371 Train acc: 0.811922 Valid acc: 0.797884\n",
      "Epoch: 155/200 kernel_size_ratio: 1/1 strides_ratio: 1/1 Train loss: 0.401492 Valid loss: 0.454163 Train acc: 0.812469 Valid acc: 0.798112\n",
      "Epoch: 156/200 kernel_size_ratio: 1/1 strides_ratio: 1/1 Train loss: 0.400613 Valid loss: 0.453962 Train acc: 0.812997 Valid acc: 0.798335\n",
      "Epoch: 157/200 kernel_size_ratio: 1/1 strides_ratio: 1/1 Train loss: 0.399769 Valid loss: 0.453782 Train acc: 0.813517 Valid acc: 0.798560\n",
      "Epoch: 158/200 kernel_size_ratio: 1/1 strides_ratio: 1/1 Train loss: 0.398869 Valid loss: 0.453597 Train acc: 0.814051 Valid acc: 0.798788\n",
      "Epoch: 159/200 kernel_size_ratio: 1/1 strides_ratio: 1/1 Train loss: 0.398001 Valid loss: 0.453437 Train acc: 0.814582 Valid acc: 0.798998\n",
      "Epoch: 160/200 kernel_size_ratio: 1/1 strides_ratio: 1/1 Train loss: 0.397130 Valid loss: 0.453267 Train acc: 0.815108 Valid acc: 0.799226\n",
      "Epoch: 161/200 kernel_size_ratio: 1/1 strides_ratio: 1/1 Train loss: 0.396298 Valid loss: 0.453120 Train acc: 0.815599 Valid acc: 0.799421\n",
      "Epoch: 162/200 kernel_size_ratio: 1/1 strides_ratio: 1/1 Train loss: 0.395445 Valid loss: 0.452966 Train acc: 0.816117 Valid acc: 0.799623\n",
      "Epoch: 163/200 kernel_size_ratio: 1/1 strides_ratio: 1/1 Train loss: 0.394601 Valid loss: 0.452832 Train acc: 0.816633 Valid acc: 0.799825\n",
      "Epoch: 164/200 kernel_size_ratio: 1/1 strides_ratio: 1/1 Train loss: 0.393761 Valid loss: 0.452684 Train acc: 0.817160 Valid acc: 0.800032\n",
      "Epoch: 165/200 kernel_size_ratio: 1/1 strides_ratio: 1/1 Train loss: 0.392907 Valid loss: 0.452567 Train acc: 0.817682 Valid acc: 0.800223\n",
      "Epoch: 166/200 kernel_size_ratio: 1/1 strides_ratio: 1/1 Train loss: 0.392058 Valid loss: 0.452436 Train acc: 0.818190 Valid acc: 0.800419\n",
      "Epoch: 167/200 kernel_size_ratio: 1/1 strides_ratio: 1/1 Train loss: 0.391227 Valid loss: 0.452330 Train acc: 0.818695 Valid acc: 0.800601\n",
      "Epoch: 168/200 kernel_size_ratio: 1/1 strides_ratio: 1/1 Train loss: 0.390390 Valid loss: 0.452221 Train acc: 0.819192 Valid acc: 0.800790\n",
      "Epoch: 169/200 kernel_size_ratio: 1/1 strides_ratio: 1/1 Train loss: 0.389557 Valid loss: 0.452122 Train acc: 0.819694 Valid acc: 0.800978\n",
      "Epoch: 170/200 kernel_size_ratio: 1/1 strides_ratio: 1/1 Train loss: 0.388745 Valid loss: 0.452025 Train acc: 0.820189 Valid acc: 0.801173\n",
      "Epoch: 171/200 kernel_size_ratio: 1/1 strides_ratio: 1/1 Train loss: 0.387923 Valid loss: 0.451924 Train acc: 0.820699 Valid acc: 0.801364\n",
      "Epoch: 172/200 kernel_size_ratio: 1/1 strides_ratio: 1/1 Train loss: 0.387097 Valid loss: 0.451830 Train acc: 0.821199 Valid acc: 0.801543\n",
      "Epoch: 173/200 kernel_size_ratio: 1/1 strides_ratio: 1/1 Train loss: 0.386271 Valid loss: 0.451727 Train acc: 0.821678 Valid acc: 0.801721\n",
      "Epoch: 174/200 kernel_size_ratio: 1/1 strides_ratio: 1/1 Train loss: 0.385458 Valid loss: 0.451634 Train acc: 0.822154 Valid acc: 0.801900\n",
      "Epoch: 175/200 kernel_size_ratio: 1/1 strides_ratio: 1/1 Train loss: 0.384632 Valid loss: 0.451543 Train acc: 0.822640 Valid acc: 0.802076\n",
      "Epoch: 176/200 kernel_size_ratio: 1/1 strides_ratio: 1/1 Train loss: 0.383836 Valid loss: 0.451465 Train acc: 0.823114 Valid acc: 0.802252\n",
      "Epoch: 177/200 kernel_size_ratio: 1/1 strides_ratio: 1/1 Train loss: 0.383031 Valid loss: 0.451378 Train acc: 0.823586 Valid acc: 0.802428\n",
      "Epoch: 178/200 kernel_size_ratio: 1/1 strides_ratio: 1/1 Train loss: 0.382232 Valid loss: 0.451330 Train acc: 0.824058 Valid acc: 0.802606\n",
      "Epoch: 179/200 kernel_size_ratio: 1/1 strides_ratio: 1/1 Train loss: 0.381436 Valid loss: 0.451257 Train acc: 0.824537 Valid acc: 0.802777\n"
     ]
    },
    {
     "name": "stdout",
     "output_type": "stream",
     "text": [
      "Epoch: 180/200 kernel_size_ratio: 1/1 strides_ratio: 1/1 Train loss: 0.380632 Valid loss: 0.451208 Train acc: 0.825024 Valid acc: 0.802948\n",
      "Epoch: 181/200 kernel_size_ratio: 1/1 strides_ratio: 1/1 Train loss: 0.379825 Valid loss: 0.451171 Train acc: 0.825493 Valid acc: 0.803115\n",
      "Epoch: 182/200 kernel_size_ratio: 1/1 strides_ratio: 1/1 Train loss: 0.379025 Valid loss: 0.451128 Train acc: 0.825956 Valid acc: 0.803279\n",
      "Epoch: 183/200 kernel_size_ratio: 1/1 strides_ratio: 1/1 Train loss: 0.378243 Valid loss: 0.451104 Train acc: 0.826409 Valid acc: 0.803440\n",
      "Epoch: 184/200 kernel_size_ratio: 1/1 strides_ratio: 1/1 Train loss: 0.377473 Valid loss: 0.451060 Train acc: 0.826866 Valid acc: 0.803607\n",
      "Epoch: 185/200 kernel_size_ratio: 1/1 strides_ratio: 1/1 Train loss: 0.376693 Valid loss: 0.451029 Train acc: 0.827329 Valid acc: 0.803770\n",
      "Epoch: 186/200 kernel_size_ratio: 1/1 strides_ratio: 1/1 Train loss: 0.375918 Valid loss: 0.450998 Train acc: 0.827794 Valid acc: 0.803930\n",
      "Epoch: 187/200 kernel_size_ratio: 1/1 strides_ratio: 1/1 Train loss: 0.375141 Valid loss: 0.450974 Train acc: 0.828246 Valid acc: 0.804095\n",
      "Epoch: 188/200 kernel_size_ratio: 1/1 strides_ratio: 1/1 Train loss: 0.374342 Valid loss: 0.450967 Train acc: 0.828719 Valid acc: 0.804251\n",
      "Epoch: 189/200 kernel_size_ratio: 1/1 strides_ratio: 1/1 Train loss: 0.373565 Valid loss: 0.450946 Train acc: 0.829166 Valid acc: 0.804403\n",
      "Epoch: 190/200 kernel_size_ratio: 1/1 strides_ratio: 1/1 Train loss: 0.372790 Valid loss: 0.450943 Train acc: 0.829619 Valid acc: 0.804561\n",
      "Epoch: 191/200 kernel_size_ratio: 1/1 strides_ratio: 1/1 Train loss: 0.372018 Valid loss: 0.450929 Train acc: 0.830063 Valid acc: 0.804713\n",
      "Epoch: 192/200 kernel_size_ratio: 1/1 strides_ratio: 1/1 Train loss: 0.371254 Valid loss: 0.450937 Train acc: 0.830512 Valid acc: 0.804865\n",
      "Epoch: 193/200 kernel_size_ratio: 1/1 strides_ratio: 1/1 Train loss: 0.370491 Valid loss: 0.450930 Train acc: 0.830959 Valid acc: 0.805017\n",
      "Epoch: 194/200 kernel_size_ratio: 1/1 strides_ratio: 1/1 Train loss: 0.369733 Valid loss: 0.450938 Train acc: 0.831393 Valid acc: 0.805165\n",
      "Epoch: 195/200 kernel_size_ratio: 1/1 strides_ratio: 1/1 Train loss: 0.368953 Valid loss: 0.450938 Train acc: 0.831844 Valid acc: 0.805307\n",
      "Epoch: 196/200 kernel_size_ratio: 1/1 strides_ratio: 1/1 Train loss: 0.368195 Valid loss: 0.450936 Train acc: 0.832289 Valid acc: 0.805448\n",
      "Epoch: 197/200 kernel_size_ratio: 1/1 strides_ratio: 1/1 Train loss: 0.367429 Valid loss: 0.450943 Train acc: 0.832723 Valid acc: 0.805587\n",
      "Epoch: 198/200 kernel_size_ratio: 1/1 strides_ratio: 1/1 Train loss: 0.366666 Valid loss: 0.450935 Train acc: 0.833166 Valid acc: 0.805724\n",
      "Epoch: 199/200 kernel_size_ratio: 1/1 strides_ratio: 1/1 Train loss: 0.365920 Valid loss: 0.450959 Train acc: 0.833600 Valid acc: 0.805862\n",
      "Epoch: 200/200 kernel_size_ratio: 1/1 strides_ratio: 1/1 Train loss: 0.365164 Valid loss: 0.450958 Train acc: 0.834036 Valid acc: 0.806000\n"
     ]
    }
   ],
   "source": [
    "train_acc, train_loss = [], []\n",
    "valid_acc, valid_loss = [], []\n",
    "\n",
    "# Save the training result or trained and validated model params\n",
    "saver = tf.train.Saver()\n",
    "\n",
    "# hyperparameters\n",
    "epochs = 200 # num iterations for updating model\n",
    "kernel_size_ratios = 1 # conv size for conv minibatching \n",
    "strides_ratios = 1 # conv stride for conv minibatching\n",
    "\n",
    "with tf.Session() as sess:\n",
    "    sess.run(tf.global_variables_initializer())\n",
    "    \n",
    "    # Minibatching techniques tgt batch size: kernel_size_ratio\n",
    "    for k in range(0, kernel_size_ratios, 1):\n",
    "\n",
    "        # Minibatching techniques sampling: strides_ratio\n",
    "        for s in range(0, strides_ratios, 1):\n",
    "\n",
    "            # Loop over epochs\n",
    "            for e in range(0, epochs, 1):\n",
    "\n",
    "                # Loop over batches\n",
    "                for x, y in get_batches2(X_norm=X_train_norm, Y_labels=Y_train, \n",
    "                                         kernel_size_ratio=k+1,\n",
    "                                         strides_ratio=s+1):   \n",
    "\n",
    "                    ######################## Training\n",
    "                    # Feed dictionary\n",
    "                    feed = {inputs_ : x, labels_ : y, keep_prob_ : keep_prob, learning_rate_ : learning_rate}\n",
    "\n",
    "                    # Loss\n",
    "                    loss, _ , acc = sess.run([cost_ave, optimizer, correct_pred_ave], feed_dict = feed)\n",
    "                    train_acc.append(acc)\n",
    "                    train_loss.append(loss)\n",
    "\n",
    "                    ################## Validation\n",
    "                    acc_batch = []\n",
    "                    loss_batch = []    \n",
    "                    # Loop over batches\n",
    "                    for x, y in get_batches2(X_norm=X_valid_norm, Y_labels=Y_valid):\n",
    "\n",
    "                        # Feed dictionary\n",
    "                        feed = {inputs_ : x, labels_ : y, keep_prob_ : 1.0}\n",
    "\n",
    "                        # Loss\n",
    "                        loss, acc = sess.run([cost_ave, correct_pred_ave], feed_dict = feed)\n",
    "                        acc_batch.append(acc)\n",
    "                        loss_batch.append(loss)\n",
    "\n",
    "                    # Store\n",
    "                    valid_acc.append(np.mean(acc_batch))\n",
    "                    valid_loss.append(np.mean(loss_batch))\n",
    "\n",
    "                # Print info for every iter/epoch\n",
    "                print(\"Epoch: {}/{}\".format(e+1, epochs),\n",
    "                      \"kernel_size_ratio: {}/{}\".format(k+1, kernel_size_ratios),\n",
    "                      \"strides_ratio: {}/{}\".format(s+1, strides_ratios),\n",
    "                      \"Train loss: {:6f}\".format(np.mean(train_loss)),\n",
    "                      \"Valid loss: {:.6f}\".format(np.mean(valid_loss)),\n",
    "                      \"Train acc: {:6f}\".format(np.mean(train_acc)),\n",
    "                      \"Valid acc: {:.6f}\".format(np.mean(valid_acc)))\n",
    "                \n",
    "    saver.save(sess,\"checkpoints/dcnn-face.ckpt\")"
   ]
  },
  {
   "cell_type": "code",
   "execution_count": 16,
   "metadata": {},
   "outputs": [
    {
     "data": {
      "image/png": "[encoded data removed]",
      "text/plain": [
       "<matplotlib.figure.Figure at 0x7f7db83305c0>"
      ]
     },
     "metadata": {},
     "output_type": "display_data"
    }
   ],
   "source": [
    "import matplotlib.pyplot as mplot\n",
    "\n",
    "mplot.plot(train_loss, label='Face train_loss')\n",
    "mplot.plot(valid_loss, label='Face valid_loss')\n",
    "mplot.legend()\n",
    "mplot.show()"
   ]
  },
  {
   "cell_type": "code",
   "execution_count": 17,
   "metadata": {},
   "outputs": [
    {
     "data": {
      "image/png": "[encoded data removed]",
      "text/plain": [
       "<matplotlib.figure.Figure at 0x7f7db038ff98>"
      ]
     },
     "metadata": {},
     "output_type": "display_data"
    }
   ],
   "source": [
    "# import matplotlib.pyplot as mplot\n",
    "mplot.plot(train_acc, label='Face train_acc')\n",
    "mplot.plot(valid_acc, label='Face valid_acc')\n",
    "mplot.legend()\n",
    "mplot.show()"
   ]
  },
  {
   "cell_type": "code",
   "execution_count": 18,
   "metadata": {},
   "outputs": [
    {
     "name": "stdout",
     "output_type": "stream",
     "text": [
      "INFO:tensorflow:Restoring parameters from checkpoints/dcnn-face.ckpt\n"
     ]
    }
   ],
   "source": [
    "listcost_ave, listcorrect_pred_ave, listconfusion = [], [], []\n",
    "\n",
    "with tf.Session() as sess:\n",
    "    # Restore the validated model\n",
    "    saver.restore(sess, tf.train.latest_checkpoint('checkpoints/'))\n",
    "    \n",
    "    # Loop over batches\n",
    "    for x, y in get_batches(batch_size=100, X=X_test_norm, y=Y_test_onehot):\n",
    "\n",
    "        # Feed dictionary\n",
    "        feed = {inputs_ : x, labels_ : y, keep_prob_ : 1.0}\n",
    "\n",
    "        # Loss\n",
    "        arrcost_ave, arrcorrect_pred_ave, arrconfusion = sess.run([\n",
    "            cost_ave, correct_pred_ave, confusion], feed_dict = feed)\n",
    "        \n",
    "        listcost_ave.append(arrcost_ave) \n",
    "        listcorrect_pred_ave.append(arrcorrect_pred_ave)\n",
    "        listconfusion.append(arrconfusion)"
   ]
  },
  {
   "cell_type": "code",
   "execution_count": 20,
   "metadata": {},
   "outputs": [
    {
     "data": {
      "text/plain": [
       "(56, 56, 56)"
      ]
     },
     "execution_count": 20,
     "metadata": {},
     "output_type": "execute_result"
    }
   ],
   "source": [
    "len(listcorrect_pred_ave), len(listcost_ave), len(listconfusion)"
   ]
  },
  {
   "cell_type": "code",
   "execution_count": 22,
   "metadata": {},
   "outputs": [
    {
     "name": "stdout",
     "output_type": "stream",
     "text": [
      "0.336064 0.86625 (2, 2)\n"
     ]
    }
   ],
   "source": [
    "cost_ave_mean = np.array(listcost_ave, dtype=arrcost_ave.dtype).mean(axis=0)\n",
    "correct_pred_ave_mean = np.array(listcorrect_pred_ave, dtype=arrcorrect_pred_ave.dtype).mean(axis=0)\n",
    "confusion_mean = np.array(listconfusion, dtype=arrconfusion.dtype).mean(axis=0)\n",
    "print(cost_ave_mean, correct_pred_ave_mean, confusion_mean.shape)"
   ]
  },
  {
   "cell_type": "code",
   "execution_count": 37,
   "metadata": {},
   "outputs": [
    {
     "data": {
      "text/plain": [
       "(0.33606428, 0.86625004)"
      ]
     },
     "execution_count": 37,
     "metadata": {},
     "output_type": "execute_result"
    }
   ],
   "source": [
    "cost_ave_mean, correct_pred_ave_mean"
   ]
  },
  {
   "cell_type": "code",
   "execution_count": 39,
   "metadata": {},
   "outputs": [],
   "source": [
    "# accuracy or 1- loss\n",
    "accuracy = (confusion_mean[0, 0] + confusion_mean[1, 1])/ (confusion_mean[0, 0] + confusion_mean[0, 1] + \n",
    "                                                confusion_mean[1, 0] + confusion_mean[1, 1])"
   ]
  },
  {
   "cell_type": "code",
   "execution_count": 40,
   "metadata": {},
   "outputs": [
    {
     "data": {
      "text/plain": [
       "5.9604645e-08"
      ]
     },
     "execution_count": 40,
     "metadata": {},
     "output_type": "execute_result"
    }
   ],
   "source": [
    "correct_pred_ave_mean - accuracy  "
   ]
  },
  {
   "cell_type": "code",
   "execution_count": 28,
   "metadata": {},
   "outputs": [
    {
     "data": {
      "text/plain": [
       "0.13375001"
      ]
     },
     "execution_count": 28,
     "metadata": {},
     "output_type": "execute_result"
    }
   ],
   "source": [
    "# accuracy or 1- loss\n",
    "(confusion_mean[1, 0] + confusion_mean[0, 1])/ (confusion_mean[0, 0] + confusion_mean[0, 1] + \n",
    "                                                confusion_mean[1, 0] + confusion_mean[1, 1])"
   ]
  },
  {
   "cell_type": "code",
   "execution_count": 29,
   "metadata": {},
   "outputs": [
    {
     "data": {
      "text/plain": [
       "array([[ 74.2142868 ,   9.51785755],\n",
       "       [  3.85714293,  12.41071415]], dtype=float32)"
      ]
     },
     "execution_count": 29,
     "metadata": {},
     "output_type": "execute_result"
    }
   ],
   "source": [
    "confusion_mean"
   ]
  },
  {
   "cell_type": "code",
   "execution_count": 31,
   "metadata": {},
   "outputs": [
    {
     "data": {
      "text/plain": [
       "0.95059472"
      ]
     },
     "execution_count": 31,
     "metadata": {},
     "output_type": "execute_result"
    }
   ],
   "source": [
    "# sensitivity: TruePos rate\n",
    "# 1st col or true prediction condition\n",
    "confusion_mean[0, 0]/ (confusion_mean[0, 0] + confusion_mean[1, 0])"
   ]
  },
  {
   "cell_type": "code",
   "execution_count": 32,
   "metadata": {},
   "outputs": [
    {
     "data": {
      "text/plain": [
       "0.56596088"
      ]
     },
     "execution_count": 32,
     "metadata": {},
     "output_type": "execute_result"
    }
   ],
   "source": [
    "# specificity: TrueNeg rate\n",
    "# 2nd col or false prediction condition\n",
    "# (1st row, 2nd col)/ \n",
    "confusion_mean[1, 1]/ (confusion_mean[0, 1] + confusion_mean[1, 1])"
   ]
  },
  {
   "cell_type": "code",
   "execution_count": 33,
   "metadata": {},
   "outputs": [
    {
     "data": {
      "text/plain": [
       "0.85673058"
      ]
     },
     "execution_count": 33,
     "metadata": {},
     "output_type": "execute_result"
    }
   ],
   "source": [
    "# precision\n",
    "confusion_mean[0, 0]/ (confusion_mean[0, 0] + confusion_mean[1, 1])"
   ]
  },
  {
   "cell_type": "code",
   "execution_count": 34,
   "metadata": {},
   "outputs": [
    {
     "data": {
      "text/plain": [
       "0.86624998"
      ]
     },
     "execution_count": 34,
     "metadata": {},
     "output_type": "execute_result"
    }
   ],
   "source": [
    "# accuracy or 1- loss\n",
    "(confusion_mean[0, 0] + confusion_mean[1, 1])/ (confusion_mean[0, 0] + confusion_mean[0, 1] + \n",
    "                                                confusion_mean[1, 0] + confusion_mean[1, 1])"
   ]
  },
  {
   "cell_type": "code",
   "execution_count": 35,
   "metadata": {},
   "outputs": [
    {
     "data": {
      "text/plain": [
       "100.0"
      ]
     },
     "execution_count": 35,
     "metadata": {},
     "output_type": "execute_result"
    }
   ],
   "source": [
    "(confusion_mean[0, 0] + confusion_mean[0, 1] + confusion_mean[1, 0] + confusion_mean[1, 1])"
   ]
  },
  {
   "cell_type": "code",
   "execution_count": 36,
   "metadata": {},
   "outputs": [
    {
     "data": {
      "image/png": "[encoded data removed]",
      "text/plain": [
       "<matplotlib.figure.Figure at 0x7f7db8330e80>"
      ]
     },
     "metadata": {},
     "output_type": "display_data"
    }
   ],
   "source": [
    "mplot.imshow(confusion_mean)\n",
    "mplot.show()\n",
    "mplot.legend()"
   ]
  },
  {
   "cell_type": "code",
   "execution_count": null,
   "metadata": {},
   "outputs": [],
   "source": []
  }
 ],
 "metadata": {
  "kernelspec": {
   "display_name": "Python 3",
   "language": "python",
   "name": "python3"
  },
  "language_info": {
   "codemirror_mode": {
    "name": "ipython",
    "version": 3
   },
   "file_extension": ".py",
   "mimetype": "text/x-python",
   "name": "python",
   "nbconvert_exporter": "python",
   "pygments_lexer": "ipython3",
   "version": "3.6.3"
  }
 },
 "nbformat": 4,
 "nbformat_minor": 2
}
