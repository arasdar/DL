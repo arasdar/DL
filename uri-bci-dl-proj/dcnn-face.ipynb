{
 "cells": [
  {
   "cell_type": "code",
   "execution_count": 1,
   "metadata": {},
   "outputs": [
    {
     "name": "stdout",
     "output_type": "stream",
     "text": [
      "(18720, 205, 16) float64 (18720, 1) uint8\n",
      "0.833333333333 0.166666666667 0.0 0.0\n",
      "[2]\n"
     ]
    }
   ],
   "source": [
    "# Read the dataset\n",
    "import scipy.io as spio\n",
    "import numpy as np\n",
    "\n",
    "BahramFace = spio.loadmat(file_name='/home/arasdar/datasets/bci-project-data-RAW/BahramFace.mat')\n",
    "DJFace = spio.loadmat(file_name='/home/arasdar/datasets/bci-project-data-RAW/DJFace.mat')\n",
    "NickFace = spio.loadmat(file_name='/home/arasdar/datasets/bci-project-data-RAW/NickFace.mat')\n",
    "RoohiFace = spio.loadmat(file_name='/home/arasdar/datasets/bci-project-data-RAW/RoohiFace.mat')\n",
    "SarahFace = spio.loadmat(file_name='/home/arasdar/datasets/bci-project-data-RAW/SarahFace.mat')\n",
    "\n",
    "AllData = np.concatenate((BahramFace['Intensification_Data'],\n",
    "                            DJFace['Intensification_Data'],\n",
    "                            NickFace['Intensification_Data'],\n",
    "                            RoohiFace['Intensification_Data'],\n",
    "                            SarahFace['Intensification_Data']), axis=0)\n",
    "\n",
    "AllLabels = np.concatenate((BahramFace['Intensification_Label'],\n",
    "                            DJFace['Intensification_Label'],\n",
    "                            NickFace['Intensification_Label'],\n",
    "                            RoohiFace['Intensification_Label'],\n",
    "                            SarahFace['Intensification_Label']), axis=0)\n",
    "\n",
    "print(AllData.shape, AllData.dtype, AllLabels.shape, AllLabels.dtype)\n",
    "print(np.mean(AllLabels==0), np.mean(AllLabels==1), np.mean(AllLabels==2), np.mean(AllLabels==3))\n",
    "print((AllLabels +  1).max(axis=0))"
   ]
  },
  {
   "cell_type": "code",
   "execution_count": 2,
   "metadata": {},
   "outputs": [
    {
     "name": "stdout",
     "output_type": "stream",
     "text": [
      "(13104, 205, 16) (5616, 205, 16) (13104, 1) (5616, 1)\n"
     ]
    }
   ],
   "source": [
    "# Train and test split\n",
    "from sklearn.model_selection import train_test_split\n",
    "\n",
    "X_train_valid, X_test, Y_train_valid, Y_test = train_test_split(AllData, AllLabels, test_size=0.30)\n",
    "\n",
    "print(X_train_valid.shape, X_test.shape, Y_train_valid.shape, Y_test.shape)"
   ]
  },
  {
   "cell_type": "code",
   "execution_count": 3,
   "metadata": {},
   "outputs": [
    {
     "name": "stdout",
     "output_type": "stream",
     "text": [
      "0.0 0.837072649573 0.162927350427 0.0\n",
      "0.0 0.824608262108 0.175391737892 0.0\n",
      "(5616, 2) float64\n"
     ]
    }
   ],
   "source": [
    "from utilities import *\n",
    "\n",
    "# Normalizing/standardizing the input data features\n",
    "X_train_valid_norm, X_test_norm = standardize(test=X_test, train=X_train_valid)\n",
    "\n",
    "# Onehot encoding/vectorizing the output data labels\n",
    "print(np.mean((Y_train_valid+1).reshape(-1)==0), np.mean((Y_train_valid+1).reshape(-1)==1),\n",
    "     np.mean((Y_train_valid+1).reshape(-1)==2), np.mean((Y_train_valid+1).reshape(-1)==3))\n",
    "\n",
    "print(np.mean((Y_test+1).reshape(-1)==0), np.mean((Y_test+1).reshape(-1)==1),\n",
    "     np.mean((Y_test+1).reshape(-1)==2), np.mean((Y_test+1).reshape(-1)==3))\n",
    "\n",
    "# Y_train_valid_onehot = one_hot(labels=(Y_train_valid+1).reshape(-1), n_class=2) \n",
    "# print(Y_train_valid_onehot.shape, Y_train_valid_onehot.dtype, \n",
    "Y_test_onehot = one_hot(labels=(Y_test+1).reshape(-1), n_class=2) \n",
    "print(Y_test_onehot.shape, Y_test_onehot.dtype)"
   ]
  },
  {
   "cell_type": "code",
   "execution_count": 4,
   "metadata": {},
   "outputs": [],
   "source": [
    "# X_train_valid, X_test, Y_train_valid, Y_test = train_test_split(AllData, AllLabels, test_size=0.30)\n",
    "X_train_norm, X_valid_norm, Y_train, Y_valid = train_test_split(X_train_valid_norm, Y_train_valid, \n",
    "                                                                              test_size=0.30)"
   ]
  },
  {
   "cell_type": "code",
   "execution_count": 5,
   "metadata": {},
   "outputs": [],
   "source": [
    "def get_batches2(X_norm, Y_labels, kernel_size_ratio=1, strides_ratio=1):\n",
    "    # X normalized and Y NOT onehot encoded/vectorized\n",
    "    X, Y = X_norm, Y_labels\n",
    "    AllLabels = Y_labels # 100%\n",
    "\n",
    "    # non = 0 is 87%  AllLabelZero\n",
    "    # tgt = 1 is 13%  AllLabelOne\n",
    "    AllLabelZero = (AllLabels==0).reshape(-1) # 87%\n",
    "    AllLabelOne = (AllLabels==1).reshape(-1) # 13%\n",
    "\n",
    "    X_non, Y_non = X[AllLabelZero], Y[AllLabelZero] # 87%\n",
    "    X_tgt, Y_tgt = X[AllLabelOne], Y[AllLabelOne] # 13%\n",
    "#     print('X_non.shape, Y_non.shape', X_non.shape, Y_non.shape)\n",
    "#     print('X_tgt.shape, Y_tgt.shape', X_tgt.shape, Y_tgt.shape)\n",
    "\n",
    "    # Non-target batch size for get_batches from non-target data\n",
    "    batch_size = X_tgt.shape[0] # 13% -> tgt = 1 is 13%  AllLabelOne\n",
    "    assert X_tgt.shape[0] == Y_tgt.shape[0]\n",
    "#     print('batch_size', batch_size)\n",
    "    \n",
    "    # Convolvolutional minibatching technique\n",
    "    (inputs, filters, kernel_size, strides, padding) = (X_non, 1, \n",
    "                                                        int(batch_size//kernel_size_ratio), \n",
    "                                                        int(batch_size//strides_ratio), \n",
    "                                                        0)\n",
    "#     print('inputs.shape, filters, kernel_size, strides, padding', inputs.shape, filters, \n",
    "#           kernel_size, strides, padding)\n",
    "    n_batches = int((inputs.shape[0] - kernel_size + (2*padding))//strides  + 1) \n",
    "#     print('n_batches', n_batches)\n",
    "    \n",
    "    # Loop over target batches: start, stop, step\n",
    "    for i in range(0, n_batches, 1):\n",
    "        each_X_norm = np.concatenate((X_non[(i*strides):((i*strides)+kernel_size)], X_tgt), axis=0)\n",
    "        each_Y = np.concatenate((Y_non[(i*strides):((i*strides)+kernel_size)], Y_tgt), axis=0)\n",
    "        each_Y_onehot = one_hot(labels=(each_Y+1).reshape(-1), n_class=2)\n",
    "#         print('each_X_norm.shape, each_Y_onehot.shape', each_X_norm.shape, each_Y_onehot.shape)\n",
    "#         print('np.mean(each_Y==0), np.mean(each_Y==1)', np.mean(each_Y==0), np.mean(each_Y==1))\n",
    "        yield each_X_norm, each_Y_onehot"
   ]
  },
  {
   "cell_type": "code",
   "execution_count": 6,
   "metadata": {},
   "outputs": [
    {
     "data": {
      "text/plain": [
       "<generator object get_batches2 at 0x7fd943350d58>"
      ]
     },
     "execution_count": 6,
     "metadata": {},
     "output_type": "execute_result"
    }
   ],
   "source": [
    "get_batches2(X_norm=X_valid_norm, Y_labels=Y_valid, kernel_size_ratio=1, strides_ratio=2)"
   ]
  },
  {
   "cell_type": "code",
   "execution_count": 7,
   "metadata": {},
   "outputs": [
    {
     "data": {
      "text/plain": [
       "<generator object get_batches2 at 0x7fd93f10fd00>"
      ]
     },
     "execution_count": 7,
     "metadata": {},
     "output_type": "execute_result"
    }
   ],
   "source": [
    "get_batches2(X_norm=X_train_norm, Y_labels=Y_train, kernel_size_ratio=1, strides_ratio=2)"
   ]
  },
  {
   "cell_type": "code",
   "execution_count": 8,
   "metadata": {},
   "outputs": [
    {
     "name": "stdout",
     "output_type": "stream",
     "text": [
      "seq_len, n_channels 205 16\n",
      "n_classes [2]\n"
     ]
    }
   ],
   "source": [
    "## Hyperparameters\n",
    "# Input data\n",
    "# batch_size = X_train_norm.shape[0]// 100 # minibatch size & number of minibatches\n",
    "seq_len = X_train_norm.shape[1] # Number of steps: each trial length\n",
    "n_channels = X_train_norm.shape[2] # number of channels in each trial\n",
    "# print('batch_size, seq_len, n_channels', batch_size, seq_len, n_channels)\n",
    "print('seq_len, n_channels', seq_len, n_channels)\n",
    "\n",
    "# Output labels\n",
    "n_classes = Y_train_valid.max(axis=0)+1\n",
    "assert Y_train_valid.max(axis=0) == Y_test.max(axis=0)\n",
    "print('n_classes', n_classes)\n",
    "\n",
    "# learning parameters\n",
    "learning_rate = 0.0001 #1e-4\n",
    "keep_prob = 0.50 # 90% neurons are kept and 10% are dropped out"
   ]
  },
  {
   "cell_type": "code",
   "execution_count": 9,
   "metadata": {},
   "outputs": [
    {
     "name": "stdout",
     "output_type": "stream",
     "text": [
      "TensorFlow Version: 1.3.0\n",
      "Default GPU Device: /gpu:0\n"
     ]
    }
   ],
   "source": [
    "# GPUs or CPU\n",
    "import tensorflow as tf\n",
    "\n",
    "# Check TensorFlow Version\n",
    "print('TensorFlow Version: {}'.format(tf.__version__))\n",
    "\n",
    "# Check for a GPU\n",
    "print('Default GPU Device: {}'.format(tf.test.gpu_device_name()))"
   ]
  },
  {
   "cell_type": "code",
   "execution_count": 10,
   "metadata": {},
   "outputs": [
    {
     "name": "stdout",
     "output_type": "stream",
     "text": [
      "inputs_.shape, labels_.shape (?, 205, 16) (?, 2)\n"
     ]
    }
   ],
   "source": [
    "# Feed the data from python/numpy to tensorflow framework\n",
    "inputs_ = tf.placeholder(tf.float32, [None, seq_len, n_channels], name = 'inputs_')\n",
    "labels_ = tf.placeholder(tf.float32, [None, n_classes], name = 'labels_')\n",
    "keep_prob_ = tf.placeholder(tf.float32, name = 'keep_prob_')\n",
    "learning_rate_ = tf.placeholder(tf.float32, name = 'learning_rate_')\n",
    "print('inputs_.shape, labels_.shape', inputs_.shape, labels_.shape)"
   ]
  },
  {
   "cell_type": "code",
   "execution_count": 11,
   "metadata": {},
   "outputs": [
    {
     "name": "stdout",
     "output_type": "stream",
     "text": [
      "inputs_.shape, conv1.shape, max_pool_1.shape (?, 205, 16) (?, 204, 32) (?, 102, 32)\n",
      "max_pool_1.shape, conv2.shape, max_pool_2.shape (?, 102, 32) (?, 102, 64) (?, 51, 64)\n",
      "max_pool_2.shape, conv3.shape, max_pool_3.shape (?, 51, 64) (?, 50, 128) (?, 25, 128)\n",
      "max_pool_3.shape, conv4.shape, max_pool_4.shape (?, 25, 128) (?, 24, 256) (?, 12, 256)\n",
      "max_pool_4.shape, flat.shape, logits.shape (?, 12, 256) (?, 3072) (?, 2)\n"
     ]
    }
   ],
   "source": [
    "# inputs_.shape, labels_.shape (?, 205, 16) (?, 2)\n",
    "# (batch, 205, 16) --> (batch, 102, 32)\n",
    "# conv valid: (205-2+0)/1 + 1 = (203/1)+1 = 203 + 1=204\n",
    "# pool same: (204-2+0)/2 + 1 = (202/2)+1 = 101 + 1=102\n",
    "conv1 = tf.layers.conv1d(inputs=inputs_, filters=32, kernel_size=2, strides=1, padding='valid', \n",
    "                         activation = tf.nn.relu)\n",
    "max_pool_1 = tf.layers.max_pooling1d(inputs=conv1, pool_size=2, strides=2, padding='same')\n",
    "# max_pool_1 = tf.nn.dropout(max_pool_1, keep_prob=keep_prob_)\n",
    "print('inputs_.shape, conv1.shape, max_pool_1.shape', inputs_.shape, conv1.shape, max_pool_1.shape)\n",
    "\n",
    "# (batch, 102, 32) --> (batch, 51, 64)\n",
    "# conv same\n",
    "# pool same: (102-2+0)/2 + 1 = (100/2)+1 = 50 + 1=51\n",
    "conv2 = tf.layers.conv1d(inputs=max_pool_1, filters=64, kernel_size=2, strides=1, padding='same', \n",
    "                         activation = tf.nn.relu)\n",
    "max_pool_2 = tf.layers.max_pooling1d(inputs=conv2, pool_size=2, strides=2, padding='same')\n",
    "# max_pool_2 = tf.nn.dropout(max_pool_2, keep_prob=keep_prob_)\n",
    "print('max_pool_1.shape, conv2.shape, max_pool_2.shape', max_pool_1.shape, conv2.shape, max_pool_2.shape)\n",
    "\n",
    "# (batch, 51, 64) --> (batch, 25, 128)\n",
    "# conv valid: (51-2+0)/1 + 1 = (49/1)+1 = 49 + 1=50\n",
    "# pool same: (50-2+0)/2 + 1 = (48/2)+1 = 24 + 1=25\n",
    "conv3 = tf.layers.conv1d(inputs=max_pool_2, filters=128, kernel_size=2, strides=1, padding='valid', \n",
    "                         activation = tf.nn.relu)\n",
    "max_pool_3 = tf.layers.max_pooling1d(inputs=conv3, pool_size=2, strides=2, padding='same')\n",
    "# max_pool_3 = tf.nn.dropout(max_pool_3, keep_prob=keep_prob_)\n",
    "print('max_pool_2.shape, conv3.shape, max_pool_3.shape', max_pool_2.shape, conv3.shape, max_pool_3.shape)\n",
    "\n",
    "# (batch, 25, 128) --> (batch, 12, 256)\n",
    "# conv valid: (25-2+0)/1 + 1 = (23/1)+1 = 23 + 1=24\n",
    "# pool same: (24-2+0)/2 + 1 = (22/2)+1 = 11 + 1=12\n",
    "conv4 = tf.layers.conv1d(inputs=max_pool_3, filters=256, kernel_size=2, strides=1, padding='valid', \n",
    "                         activation = tf.nn.relu)\n",
    "max_pool_4 = tf.layers.max_pooling1d(inputs=conv4, pool_size=2, strides=2, padding='same')\n",
    "# max_pool_4 = tf.nn.dropout(max_pool_4, keep_prob=keep_prob_)\n",
    "print('max_pool_3.shape, conv4.shape, max_pool_4.shape', max_pool_3.shape, conv4.shape, max_pool_4.shape)\n",
    "\n",
    "# Flatten and add dropout + predicted output\n",
    "flat = tf.reshape(max_pool_4, (-1, 12*256))\n",
    "flat = tf.nn.dropout(flat, keep_prob=keep_prob_)\n",
    "logits = tf.layers.dense(flat, n_classes)\n",
    "probs = tf.nn.softmax(logits=logits)\n",
    "print('max_pool_4.shape, flat.shape, logits.shape', max_pool_4.shape, flat.shape, logits.shape)"
   ]
  },
  {
   "cell_type": "code",
   "execution_count": 14,
   "metadata": {},
   "outputs": [
    {
     "name": "stdout",
     "output_type": "stream",
     "text": [
      "cost, cost_ave: Tensor(\"Reshape_9:0\", shape=(?,), dtype=float32) Tensor(\"Mean_1:0\", shape=(), dtype=float32)\n",
      "optimizer: name: \"Adam_1\"\n",
      "op: \"NoOp\"\n",
      "input: \"^Adam_1/update_conv1d/kernel/ApplyAdam\"\n",
      "input: \"^Adam_1/update_conv1d/bias/ApplyAdam\"\n",
      "input: \"^Adam_1/update_conv1d_1/kernel/ApplyAdam\"\n",
      "input: \"^Adam_1/update_conv1d_1/bias/ApplyAdam\"\n",
      "input: \"^Adam_1/update_conv1d_2/kernel/ApplyAdam\"\n",
      "input: \"^Adam_1/update_conv1d_2/bias/ApplyAdam\"\n",
      "input: \"^Adam_1/update_conv1d_3/kernel/ApplyAdam\"\n",
      "input: \"^Adam_1/update_conv1d_3/bias/ApplyAdam\"\n",
      "input: \"^Adam_1/update_dense/kernel/ApplyAdam\"\n",
      "input: \"^Adam_1/update_dense/bias/ApplyAdam\"\n",
      "input: \"^Adam_1/Assign\"\n",
      "input: \"^Adam_1/Assign_1\"\n",
      "\n",
      "correct_pred, correct_pred_ave: Tensor(\"Equal_1:0\", shape=(?,), dtype=bool) Tensor(\"Mean_2:0\", shape=(), dtype=float32)\n",
      "confusion Tensor(\"confusion_matrix/SparseTensorDenseAdd:0\", shape=(?, ?), dtype=float32)\n"
     ]
    }
   ],
   "source": [
    "# Backward pass: error backpropagation\n",
    "# Cost function\n",
    "cost = tf.nn.softmax_cross_entropy_with_logits(logits=logits, labels=labels_)\n",
    "cost_ave = tf.reduce_mean(input_tensor=cost)\n",
    "print('cost, cost_ave:', cost, cost_ave)\n",
    "\n",
    "# Optimizer\n",
    "optimizer = tf.train.AdamOptimizer(learning_rate=learning_rate_).minimize(cost)\n",
    "print('optimizer:', optimizer)\n",
    "\n",
    "# Accuracy\n",
    "correct_pred = tf.equal(x=tf.argmax(input=probs, axis=1), y=tf.argmax(input=labels_, axis=1))\n",
    "correct_pred_ave = tf.reduce_mean(input_tensor=tf.cast(x=correct_pred, dtype=tf.float32))\n",
    "print('correct_pred, correct_pred_ave:', correct_pred, correct_pred_ave)\n",
    "\n",
    "# Confusion matrix\n",
    "confusion = tf.confusion_matrix(predictions=tf.argmax(input=probs, axis=1), \n",
    "                                labels=tf.argmax(input=labels_, axis=1), dtype=tf.float32)\n",
    "print('confusion', confusion)"
   ]
  },
  {
   "cell_type": "code",
   "execution_count": 15,
   "metadata": {},
   "outputs": [
    {
     "name": "stdout",
     "output_type": "stream",
     "text": [
      "Epoch: 1/150 Train loss: 0.716436 Valid loss: 0.704629 Train acc: 0.501661 Valid acc: 0.494312\n",
      "Epoch: 2/150 Train loss: 0.711471 Valid loss: 0.700081 Train acc: 0.507647 Valid acc: 0.513025\n",
      "Epoch: 3/150 Train loss: 0.707026 Valid loss: 0.695758 Train acc: 0.515940 Valid acc: 0.530568\n",
      "Epoch: 4/150 Train loss: 0.702820 Valid loss: 0.692351 Train acc: 0.522734 Valid acc: 0.550788\n",
      "Epoch: 5/150 Train loss: 0.697937 Valid loss: 0.689212 Train acc: 0.532609 Valid acc: 0.567594\n",
      "Epoch: 6/150 Train loss: 0.693779 Valid loss: 0.685901 Train acc: 0.542088 Valid acc: 0.581926\n",
      "Epoch: 7/150 Train loss: 0.689533 Valid loss: 0.682568 Train acc: 0.551340 Valid acc: 0.593970\n",
      "Epoch: 8/150 Train loss: 0.685364 Valid loss: 0.679401 Train acc: 0.560865 Valid acc: 0.605811\n",
      "Epoch: 9/150 Train loss: 0.681061 Valid loss: 0.676039 Train acc: 0.569927 Valid acc: 0.615946\n",
      "Epoch: 10/150 Train loss: 0.676775 Valid loss: 0.672405 Train acc: 0.578706 Valid acc: 0.624587\n",
      "Epoch: 11/150 Train loss: 0.672255 Valid loss: 0.668731 Train acc: 0.587468 Valid acc: 0.632652\n",
      "Epoch: 12/150 Train loss: 0.667547 Valid loss: 0.664899 Train acc: 0.596177 Valid acc: 0.639855\n",
      "Epoch: 13/150 Train loss: 0.662424 Valid loss: 0.660758 Train acc: 0.604488 Valid acc: 0.646176\n",
      "Epoch: 14/150 Train loss: 0.657060 Valid loss: 0.656446 Train acc: 0.612694 Valid acc: 0.652063\n",
      "Epoch: 15/150 Train loss: 0.651506 Valid loss: 0.652044 Train acc: 0.620401 Valid acc: 0.657184\n",
      "Epoch: 16/150 Train loss: 0.645924 Valid loss: 0.647505 Train acc: 0.627288 Valid acc: 0.661818\n",
      "Epoch: 17/150 Train loss: 0.640246 Valid loss: 0.642946 Train acc: 0.634085 Valid acc: 0.665899\n",
      "Epoch: 18/150 Train loss: 0.634548 Valid loss: 0.638433 Train acc: 0.640534 Valid acc: 0.669726\n",
      "Epoch: 19/150 Train loss: 0.629077 Valid loss: 0.634056 Train acc: 0.646316 Valid acc: 0.673412\n",
      "Epoch: 20/150 Train loss: 0.623740 Valid loss: 0.629838 Train acc: 0.651616 Valid acc: 0.676922\n",
      "Epoch: 21/150 Train loss: 0.618335 Valid loss: 0.625729 Train acc: 0.656794 Valid acc: 0.680202\n",
      "Epoch: 22/150 Train loss: 0.612955 Valid loss: 0.621833 Train acc: 0.661869 Valid acc: 0.683401\n",
      "Epoch: 23/150 Train loss: 0.607836 Valid loss: 0.618060 Train acc: 0.666586 Valid acc: 0.686370\n",
      "Epoch: 24/150 Train loss: 0.602843 Valid loss: 0.614328 Train acc: 0.670934 Valid acc: 0.689204\n",
      "Epoch: 25/150 Train loss: 0.598056 Valid loss: 0.610732 Train acc: 0.675239 Valid acc: 0.691881\n",
      "Epoch: 26/150 Train loss: 0.593394 Valid loss: 0.607228 Train acc: 0.679430 Valid acc: 0.694500\n",
      "Epoch: 27/150 Train loss: 0.588981 Valid loss: 0.603778 Train acc: 0.683176 Valid acc: 0.697007\n",
      "Epoch: 28/150 Train loss: 0.584510 Valid loss: 0.600470 Train acc: 0.686962 Valid acc: 0.699482\n",
      "Epoch: 29/150 Train loss: 0.580175 Valid loss: 0.597261 Train acc: 0.690524 Valid acc: 0.701948\n",
      "Epoch: 30/150 Train loss: 0.575956 Valid loss: 0.594196 Train acc: 0.693933 Valid acc: 0.704347\n",
      "Epoch: 31/150 Train loss: 0.571872 Valid loss: 0.591200 Train acc: 0.697252 Valid acc: 0.706645\n",
      "Epoch: 32/150 Train loss: 0.567865 Valid loss: 0.588304 Train acc: 0.700575 Valid acc: 0.708875\n",
      "Epoch: 33/150 Train loss: 0.563924 Valid loss: 0.585523 Train acc: 0.703668 Valid acc: 0.711105\n",
      "Epoch: 34/150 Train loss: 0.559990 Valid loss: 0.582795 Train acc: 0.706743 Valid acc: 0.713174\n",
      "Epoch: 35/150 Train loss: 0.556281 Valid loss: 0.580124 Train acc: 0.709572 Valid acc: 0.715191\n",
      "Epoch: 36/150 Train loss: 0.552553 Valid loss: 0.577577 Train acc: 0.712363 Valid acc: 0.717221\n",
      "Epoch: 37/150 Train loss: 0.548898 Valid loss: 0.575072 Train acc: 0.715094 Valid acc: 0.719191\n",
      "Epoch: 38/150 Train loss: 0.545332 Valid loss: 0.572649 Train acc: 0.717702 Valid acc: 0.721122\n",
      "Epoch: 39/150 Train loss: 0.541885 Valid loss: 0.570324 Train acc: 0.720211 Valid acc: 0.723018\n",
      "Epoch: 40/150 Train loss: 0.538510 Valid loss: 0.568035 Train acc: 0.722709 Valid acc: 0.724781\n",
      "Epoch: 41/150 Train loss: 0.535214 Valid loss: 0.565857 Train acc: 0.725101 Valid acc: 0.726516\n",
      "Epoch: 42/150 Train loss: 0.531896 Valid loss: 0.563716 Train acc: 0.727528 Valid acc: 0.728130\n",
      "Epoch: 43/150 Train loss: 0.528708 Valid loss: 0.561689 Train acc: 0.729829 Valid acc: 0.729713\n",
      "Epoch: 44/150 Train loss: 0.525539 Valid loss: 0.559728 Train acc: 0.732059 Valid acc: 0.731227\n",
      "Epoch: 45/150 Train loss: 0.522497 Valid loss: 0.557819 Train acc: 0.734182 Valid acc: 0.732698\n",
      "Epoch: 46/150 Train loss: 0.519514 Valid loss: 0.556017 Train acc: 0.736296 Valid acc: 0.734082\n",
      "Epoch: 47/150 Train loss: 0.516584 Valid loss: 0.554251 Train acc: 0.738335 Valid acc: 0.735446\n",
      "Epoch: 48/150 Train loss: 0.513697 Valid loss: 0.552572 Train acc: 0.740353 Valid acc: 0.736773\n",
      "Epoch: 49/150 Train loss: 0.510914 Valid loss: 0.550948 Train acc: 0.742294 Valid acc: 0.738104\n",
      "Epoch: 50/150 Train loss: 0.508167 Valid loss: 0.549409 Train acc: 0.744185 Valid acc: 0.739359\n",
      "Epoch: 51/150 Train loss: 0.505452 Valid loss: 0.547909 Train acc: 0.746044 Valid acc: 0.740578\n",
      "Epoch: 52/150 Train loss: 0.502818 Valid loss: 0.546442 Train acc: 0.747865 Valid acc: 0.741778\n",
      "Epoch: 53/150 Train loss: 0.500278 Valid loss: 0.545026 Train acc: 0.749636 Valid acc: 0.742957\n",
      "Epoch: 54/150 Train loss: 0.497734 Valid loss: 0.543664 Train acc: 0.751423 Valid acc: 0.744091\n",
      "Epoch: 55/150 Train loss: 0.495227 Valid loss: 0.542375 Train acc: 0.753137 Valid acc: 0.745184\n",
      "Epoch: 56/150 Train loss: 0.492762 Valid loss: 0.541115 Train acc: 0.754794 Valid acc: 0.746269\n",
      "Epoch: 57/150 Train loss: 0.490361 Valid loss: 0.539926 Train acc: 0.756403 Valid acc: 0.747310\n",
      "Epoch: 58/150 Train loss: 0.488012 Valid loss: 0.538747 Train acc: 0.757994 Valid acc: 0.748356\n",
      "Epoch: 59/150 Train loss: 0.485688 Valid loss: 0.537620 Train acc: 0.759564 Valid acc: 0.749362\n",
      "Epoch: 60/150 Train loss: 0.483446 Valid loss: 0.536531 Train acc: 0.761055 Valid acc: 0.750363\n",
      "Epoch: 61/150 Train loss: 0.481223 Valid loss: 0.535481 Train acc: 0.762531 Valid acc: 0.751351\n",
      "Epoch: 62/150 Train loss: 0.479069 Valid loss: 0.534490 Train acc: 0.763935 Valid acc: 0.752311\n",
      "Epoch: 63/150 Train loss: 0.476956 Valid loss: 0.533507 Train acc: 0.765362 Valid acc: 0.753243\n",
      "Epoch: 64/150 Train loss: 0.474850 Valid loss: 0.532577 Train acc: 0.766706 Valid acc: 0.754137\n",
      "Epoch: 65/150 Train loss: 0.472795 Valid loss: 0.531696 Train acc: 0.768005 Valid acc: 0.754991\n",
      "Epoch: 66/150 Train loss: 0.470767 Valid loss: 0.530854 Train acc: 0.769333 Valid acc: 0.755833\n",
      "Epoch: 67/150 Train loss: 0.468783 Valid loss: 0.530034 Train acc: 0.770655 Valid acc: 0.756655\n",
      "Epoch: 68/150 Train loss: 0.466808 Valid loss: 0.529249 Train acc: 0.771913 Valid acc: 0.757454\n",
      "Epoch: 69/150 Train loss: 0.464841 Valid loss: 0.528465 Train acc: 0.773173 Valid acc: 0.758265\n",
      "Epoch: 70/150 Train loss: 0.462877 Valid loss: 0.527735 Train acc: 0.774468 Valid acc: 0.759031\n",
      "Epoch: 71/150 Train loss: 0.461002 Valid loss: 0.527006 Train acc: 0.775689 Valid acc: 0.759783\n",
      "Epoch: 72/150 Train loss: 0.459135 Valid loss: 0.526312 Train acc: 0.776888 Valid acc: 0.760517\n",
      "Epoch: 73/150 Train loss: 0.457350 Valid loss: 0.525640 Train acc: 0.778004 Valid acc: 0.761226\n",
      "Epoch: 74/150 Train loss: 0.455489 Valid loss: 0.525002 Train acc: 0.779187 Valid acc: 0.761926\n",
      "Epoch: 75/150 Train loss: 0.453673 Valid loss: 0.524387 Train acc: 0.780350 Valid acc: 0.762622\n",
      "Epoch: 76/150 Train loss: 0.451922 Valid loss: 0.523803 Train acc: 0.781452 Valid acc: 0.763303\n",
      "Epoch: 77/150 Train loss: 0.450168 Valid loss: 0.523245 Train acc: 0.782567 Valid acc: 0.763966\n",
      "Epoch: 78/150 Train loss: 0.448482 Valid loss: 0.522720 Train acc: 0.783643 Valid acc: 0.764619\n",
      "Epoch: 79/150 Train loss: 0.446778 Valid loss: 0.522194 Train acc: 0.784721 Valid acc: 0.765267\n",
      "Epoch: 80/150 Train loss: 0.445103 Valid loss: 0.521713 Train acc: 0.785744 Valid acc: 0.765904\n",
      "Epoch: 81/150 Train loss: 0.443460 Valid loss: 0.521219 Train acc: 0.786762 Valid acc: 0.766537\n",
      "Epoch: 82/150 Train loss: 0.441829 Valid loss: 0.520738 Train acc: 0.787820 Valid acc: 0.767131\n",
      "Epoch: 83/150 Train loss: 0.440216 Valid loss: 0.520272 Train acc: 0.788836 Valid acc: 0.767724\n",
      "Epoch: 84/150 Train loss: 0.438591 Valid loss: 0.519823 Train acc: 0.789885 Valid acc: 0.768329\n",
      "Epoch: 85/150 Train loss: 0.437010 Valid loss: 0.519402 Train acc: 0.790876 Valid acc: 0.768921\n",
      "Epoch: 86/150 Train loss: 0.435415 Valid loss: 0.518994 Train acc: 0.791840 Valid acc: 0.769518\n"
     ]
    },
    {
     "name": "stdout",
     "output_type": "stream",
     "text": [
      "Epoch: 87/150 Train loss: 0.433842 Valid loss: 0.518624 Train acc: 0.792804 Valid acc: 0.770090\n",
      "Epoch: 88/150 Train loss: 0.432292 Valid loss: 0.518256 Train acc: 0.793761 Valid acc: 0.770660\n",
      "Epoch: 89/150 Train loss: 0.430733 Valid loss: 0.517914 Train acc: 0.794674 Valid acc: 0.771212\n",
      "Epoch: 90/150 Train loss: 0.429220 Valid loss: 0.517567 Train acc: 0.795590 Valid acc: 0.771756\n",
      "Epoch: 91/150 Train loss: 0.427711 Valid loss: 0.517243 Train acc: 0.796498 Valid acc: 0.772283\n",
      "Epoch: 92/150 Train loss: 0.426229 Valid loss: 0.516941 Train acc: 0.797426 Valid acc: 0.772798\n",
      "Epoch: 93/150 Train loss: 0.424759 Valid loss: 0.516640 Train acc: 0.798318 Valid acc: 0.773298\n",
      "Epoch: 94/150 Train loss: 0.423286 Valid loss: 0.516376 Train acc: 0.799220 Valid acc: 0.773797\n",
      "Epoch: 95/150 Train loss: 0.421855 Valid loss: 0.516099 Train acc: 0.800120 Valid acc: 0.774294\n",
      "Epoch: 96/150 Train loss: 0.420427 Valid loss: 0.515860 Train acc: 0.800978 Valid acc: 0.774771\n",
      "Epoch: 97/150 Train loss: 0.419000 Valid loss: 0.515597 Train acc: 0.801852 Valid acc: 0.775248\n",
      "Epoch: 98/150 Train loss: 0.417623 Valid loss: 0.515375 Train acc: 0.802676 Valid acc: 0.775709\n",
      "Epoch: 99/150 Train loss: 0.416220 Valid loss: 0.515155 Train acc: 0.803568 Valid acc: 0.776165\n",
      "Epoch: 100/150 Train loss: 0.414826 Valid loss: 0.514955 Train acc: 0.804426 Valid acc: 0.776614\n",
      "Epoch: 101/150 Train loss: 0.413456 Valid loss: 0.514786 Train acc: 0.805274 Valid acc: 0.777053\n",
      "Epoch: 102/150 Train loss: 0.412096 Valid loss: 0.514596 Train acc: 0.806108 Valid acc: 0.777495\n",
      "Epoch: 103/150 Train loss: 0.410740 Valid loss: 0.514428 Train acc: 0.806931 Valid acc: 0.777924\n",
      "Epoch: 104/150 Train loss: 0.409395 Valid loss: 0.514258 Train acc: 0.807761 Valid acc: 0.778342\n",
      "Epoch: 105/150 Train loss: 0.408083 Valid loss: 0.514089 Train acc: 0.808543 Valid acc: 0.778749\n",
      "Epoch: 106/150 Train loss: 0.406772 Valid loss: 0.513927 Train acc: 0.809320 Valid acc: 0.779143\n",
      "Epoch: 107/150 Train loss: 0.405458 Valid loss: 0.513764 Train acc: 0.810123 Valid acc: 0.779539\n",
      "Epoch: 108/150 Train loss: 0.404187 Valid loss: 0.513614 Train acc: 0.810869 Valid acc: 0.779933\n",
      "Epoch: 109/150 Train loss: 0.402916 Valid loss: 0.513501 Train acc: 0.811634 Valid acc: 0.780325\n",
      "Epoch: 110/150 Train loss: 0.401642 Valid loss: 0.513398 Train acc: 0.812400 Valid acc: 0.780716\n",
      "Epoch: 111/150 Train loss: 0.400372 Valid loss: 0.513306 Train acc: 0.813166 Valid acc: 0.781094\n",
      "Epoch: 112/150 Train loss: 0.399124 Valid loss: 0.513208 Train acc: 0.813926 Valid acc: 0.781475\n",
      "Epoch: 113/150 Train loss: 0.397894 Valid loss: 0.513127 Train acc: 0.814671 Valid acc: 0.781841\n",
      "Epoch: 114/150 Train loss: 0.396679 Valid loss: 0.513067 Train acc: 0.815397 Valid acc: 0.782198\n",
      "Epoch: 115/150 Train loss: 0.395458 Valid loss: 0.513035 Train acc: 0.816141 Valid acc: 0.782544\n",
      "Epoch: 116/150 Train loss: 0.394233 Valid loss: 0.513003 Train acc: 0.816882 Valid acc: 0.782881\n",
      "Epoch: 117/150 Train loss: 0.393015 Valid loss: 0.512992 Train acc: 0.817614 Valid acc: 0.783210\n",
      "Epoch: 118/150 Train loss: 0.391825 Valid loss: 0.512963 Train acc: 0.818323 Valid acc: 0.783550\n",
      "Epoch: 119/150 Train loss: 0.390634 Valid loss: 0.512956 Train acc: 0.819045 Valid acc: 0.783874\n",
      "Epoch: 120/150 Train loss: 0.389469 Valid loss: 0.512947 Train acc: 0.819746 Valid acc: 0.784197\n",
      "Epoch: 121/150 Train loss: 0.388301 Valid loss: 0.512959 Train acc: 0.820424 Valid acc: 0.784503\n",
      "Epoch: 122/150 Train loss: 0.387144 Valid loss: 0.512974 Train acc: 0.821102 Valid acc: 0.784809\n",
      "Epoch: 123/150 Train loss: 0.385983 Valid loss: 0.512993 Train acc: 0.821786 Valid acc: 0.785104\n",
      "Epoch: 124/150 Train loss: 0.384846 Valid loss: 0.513064 Train acc: 0.822467 Valid acc: 0.785396\n",
      "Epoch: 125/150 Train loss: 0.383684 Valid loss: 0.513090 Train acc: 0.823156 Valid acc: 0.785689\n",
      "Epoch: 126/150 Train loss: 0.382524 Valid loss: 0.513128 Train acc: 0.823836 Valid acc: 0.785969\n",
      "Epoch: 127/150 Train loss: 0.381394 Valid loss: 0.513218 Train acc: 0.824497 Valid acc: 0.786252\n",
      "Epoch: 128/150 Train loss: 0.380260 Valid loss: 0.513277 Train acc: 0.825154 Valid acc: 0.786529\n",
      "Epoch: 129/150 Train loss: 0.379163 Valid loss: 0.513343 Train acc: 0.825777 Valid acc: 0.786794\n",
      "Epoch: 130/150 Train loss: 0.378041 Valid loss: 0.513453 Train acc: 0.826426 Valid acc: 0.787055\n",
      "Epoch: 131/150 Train loss: 0.376925 Valid loss: 0.513548 Train acc: 0.827082 Valid acc: 0.787312\n",
      "Epoch: 132/150 Train loss: 0.375816 Valid loss: 0.513633 Train acc: 0.827733 Valid acc: 0.787566\n",
      "Epoch: 133/150 Train loss: 0.374728 Valid loss: 0.513761 Train acc: 0.828374 Valid acc: 0.787823\n",
      "Epoch: 134/150 Train loss: 0.373626 Valid loss: 0.513880 Train acc: 0.829025 Valid acc: 0.788079\n",
      "Epoch: 135/150 Train loss: 0.372547 Valid loss: 0.513969 Train acc: 0.829641 Valid acc: 0.788320\n",
      "Epoch: 136/150 Train loss: 0.371477 Valid loss: 0.514108 Train acc: 0.830267 Valid acc: 0.788568\n",
      "Epoch: 137/150 Train loss: 0.370407 Valid loss: 0.514216 Train acc: 0.830875 Valid acc: 0.788805\n",
      "Epoch: 138/150 Train loss: 0.369354 Valid loss: 0.514367 Train acc: 0.831488 Valid acc: 0.789050\n",
      "Epoch: 139/150 Train loss: 0.368302 Valid loss: 0.514527 Train acc: 0.832104 Valid acc: 0.789284\n",
      "Epoch: 140/150 Train loss: 0.367259 Valid loss: 0.514702 Train acc: 0.832718 Valid acc: 0.789517\n",
      "Epoch: 141/150 Train loss: 0.366211 Valid loss: 0.514874 Train acc: 0.833323 Valid acc: 0.789739\n",
      "Epoch: 142/150 Train loss: 0.365167 Valid loss: 0.515059 Train acc: 0.833939 Valid acc: 0.789958\n",
      "Epoch: 143/150 Train loss: 0.364127 Valid loss: 0.515260 Train acc: 0.834548 Valid acc: 0.790171\n",
      "Epoch: 144/150 Train loss: 0.363107 Valid loss: 0.515469 Train acc: 0.835159 Valid acc: 0.790391\n",
      "Epoch: 145/150 Train loss: 0.362042 Valid loss: 0.515698 Train acc: 0.835759 Valid acc: 0.790617\n",
      "Epoch: 146/150 Train loss: 0.361013 Valid loss: 0.515921 Train acc: 0.836353 Valid acc: 0.790838\n",
      "Epoch: 147/150 Train loss: 0.359993 Valid loss: 0.516135 Train acc: 0.836933 Valid acc: 0.791057\n",
      "Epoch: 148/150 Train loss: 0.358976 Valid loss: 0.516324 Train acc: 0.837524 Valid acc: 0.791272\n",
      "Epoch: 149/150 Train loss: 0.357963 Valid loss: 0.516530 Train acc: 0.838097 Valid acc: 0.791483\n",
      "Epoch: 150/150 Train loss: 0.356953 Valid loss: 0.516749 Train acc: 0.838664 Valid acc: 0.791704\n"
     ]
    }
   ],
   "source": [
    "train_acc, train_loss = [], []\n",
    "valid_acc, valid_loss = [], []\n",
    "\n",
    "# Save the training result or trained and validated model params\n",
    "saver = tf.train.Saver()\n",
    "\n",
    "# hyperparameters\n",
    "epochs = 150 # num iterations for updating model\n",
    "kernel_size_ratios = 1 # conv size for conv minibatching \n",
    "strides_ratios = 1 # conv stride for conv minibatching\n",
    "\n",
    "with tf.Session() as sess:\n",
    "    sess.run(tf.global_variables_initializer())\n",
    "    \n",
    "    # Minibatching techniques tgt batch size: kernel_size_ratio\n",
    "    for k in range(0, kernel_size_ratios, 1):\n",
    "\n",
    "        # Minibatching techniques sampling: strides_ratio\n",
    "        for s in range(0, strides_ratios, 1):\n",
    "\n",
    "            # Loop over epochs\n",
    "            for e in range(0, epochs, 1):\n",
    "\n",
    "                # Loop over batches\n",
    "                for x, y in get_batches2(X_norm=X_train_norm, Y_labels=Y_train):   \n",
    "\n",
    "                    ######################## Training\n",
    "                    # Feed dictionary\n",
    "                    feed = {inputs_ : x, labels_ : y, keep_prob_ : keep_prob, learning_rate_ : learning_rate}\n",
    "\n",
    "                    # Loss\n",
    "                    loss, _ , acc = sess.run([cost_ave, optimizer, correct_pred_ave], feed_dict = feed)\n",
    "                    train_acc.append(acc)\n",
    "                    train_loss.append(loss)\n",
    "\n",
    "                    ################## Validation\n",
    "                    acc_batch = []\n",
    "                    loss_batch = []    \n",
    "                    # Loop over batches\n",
    "                    for x, y in get_batches2(X_norm=X_valid_norm, Y_labels=Y_valid):\n",
    "\n",
    "                        # Feed dictionary\n",
    "                        feed = {inputs_ : x, labels_ : y, keep_prob_ : 1.0}\n",
    "\n",
    "                        # Loss\n",
    "                        loss, acc = sess.run([cost_ave, correct_pred_ave], feed_dict = feed)\n",
    "                        acc_batch.append(acc)\n",
    "                        loss_batch.append(loss)\n",
    "\n",
    "                    # Store\n",
    "                    valid_acc.append(np.mean(acc_batch))\n",
    "                    valid_loss.append(np.mean(loss_batch))\n",
    "\n",
    "                # Print info for every iter/epoch\n",
    "                print(\"Epoch: {}/{}\".format(e+1, epochs),\n",
    "#                       \"kernel_size_ratio: {}/{}\".format(k+1, kernel_size_ratios),\n",
    "#                       \"strides_ratio: {}/{}\".format(s+1, strides_ratios),\n",
    "                      \"Train loss: {:6f}\".format(np.mean(train_loss)),\n",
    "                      \"Valid loss: {:.6f}\".format(np.mean(valid_loss)),\n",
    "                      \"Train acc: {:6f}\".format(np.mean(train_acc)),\n",
    "                      \"Valid acc: {:.6f}\".format(np.mean(valid_acc)))\n",
    "                \n",
    "    saver.save(sess,\"checkpoints/dcnn-face.ckpt\")"
   ]
  },
  {
   "cell_type": "code",
   "execution_count": 16,
   "metadata": {},
   "outputs": [
    {
     "data": {
      "image/png": "[encoded data removed]",
      "text/plain": [
       "<matplotlib.figure.Figure at 0x7fd925d4d7f0>"
      ]
     },
     "metadata": {},
     "output_type": "display_data"
    }
   ],
   "source": [
    "import matplotlib.pyplot as mplot\n",
    "\n",
    "mplot.plot(train_loss, label='Face train_loss')\n",
    "mplot.plot(valid_loss, label='Face valid_loss')\n",
    "mplot.legend()\n",
    "mplot.show()"
   ]
  },
  {
   "cell_type": "code",
   "execution_count": 17,
   "metadata": {},
   "outputs": [
    {
     "data": {
      "image/png": "[encoded data removed]",
      "text/plain": [
       "<matplotlib.figure.Figure at 0x7fd9a9384320>"
      ]
     },
     "metadata": {},
     "output_type": "display_data"
    }
   ],
   "source": [
    "# import matplotlib.pyplot as mplot\n",
    "mplot.plot(train_acc, label='Face train_acc')\n",
    "mplot.plot(valid_acc, label='Face valid_acc')\n",
    "mplot.legend()\n",
    "mplot.show()"
   ]
  },
  {
   "cell_type": "code",
   "execution_count": 18,
   "metadata": {},
   "outputs": [
    {
     "name": "stdout",
     "output_type": "stream",
     "text": [
      "INFO:tensorflow:Restoring parameters from checkpoints/dcnn-face.ckpt\n"
     ]
    }
   ],
   "source": [
    "listcost_ave, listcorrect_pred_ave, listconfusion = [], [], []\n",
    "\n",
    "with tf.Session() as sess:\n",
    "    # Restore the validated model\n",
    "    saver.restore(sess, tf.train.latest_checkpoint('checkpoints/'))\n",
    "    \n",
    "    # Loop over batches\n",
    "    for x, y in get_batches(batch_size=100, X=X_test_norm, y=Y_test_onehot):\n",
    "\n",
    "        # Feed dictionary\n",
    "        feed = {inputs_ : x, labels_ : y, keep_prob_ : 1.0}\n",
    "\n",
    "        # Loss\n",
    "        arrcost_ave, arrcorrect_pred_ave, arrconfusion = sess.run([\n",
    "            cost_ave, correct_pred_ave, confusion], feed_dict = feed)\n",
    "        \n",
    "        listcost_ave.append(arrcost_ave) \n",
    "        listcorrect_pred_ave.append(arrcorrect_pred_ave)\n",
    "        listconfusion.append(arrconfusion)"
   ]
  },
  {
   "cell_type": "code",
   "execution_count": 19,
   "metadata": {},
   "outputs": [
    {
     "data": {
      "text/plain": [
       "(56, 56, 56)"
      ]
     },
     "execution_count": 19,
     "metadata": {},
     "output_type": "execute_result"
    }
   ],
   "source": [
    "len(listcorrect_pred_ave), len(listcost_ave), len(listconfusion)"
   ]
  },
  {
   "cell_type": "code",
   "execution_count": 20,
   "metadata": {},
   "outputs": [
    {
     "name": "stdout",
     "output_type": "stream",
     "text": [
      "cost_ave_mean, correct_pred_ave_mean, confusion_mean.shape: 0.397107 0.853393 (2, 2)\n"
     ]
    }
   ],
   "source": [
    "cost_ave_mean = np.array(listcost_ave, dtype=arrcost_ave.dtype).mean(axis=0)\n",
    "correct_pred_ave_mean = np.array(listcorrect_pred_ave, dtype=arrcorrect_pred_ave.dtype).mean(axis=0)\n",
    "confusion_mean = np.array(listconfusion, dtype=arrconfusion.dtype).mean(axis=0)\n",
    "print('cost_ave_mean, correct_pred_ave_mean, confusion_mean.shape:', \n",
    "     cost_ave_mean, correct_pred_ave_mean, confusion_mean.shape)"
   ]
  },
  {
   "cell_type": "code",
   "execution_count": 21,
   "metadata": {},
   "outputs": [
    {
     "data": {
      "text/plain": [
       "array([[ 72.05357361,  10.39285755],\n",
       "       [  4.26785707,  13.28571415]], dtype=float32)"
      ]
     },
     "execution_count": 21,
     "metadata": {},
     "output_type": "execute_result"
    }
   ],
   "source": [
    "confusion_mean"
   ]
  },
  {
   "cell_type": "code",
   "execution_count": 47,
   "metadata": {},
   "outputs": [
    {
     "name": "stdout",
     "output_type": "stream",
     "text": [
      "accuracy vs correct_pred_ave_mean: 0.853393 0.853393\n"
     ]
    }
   ],
   "source": [
    "# accuracy or 1- loss\n",
    "accuracy = (confusion_mean[0, 0] + confusion_mean[1, 1])/ (confusion_mean[0, 0] + confusion_mean[0, 1] + \n",
    "                                                confusion_mean[1, 0] + confusion_mean[1, 1])\n",
    "print('accuracy vs correct_pred_ave_mean:', accuracy, correct_pred_ave_mean)"
   ]
  },
  {
   "cell_type": "code",
   "execution_count": 31,
   "metadata": {},
   "outputs": [
    {
     "name": "stdout",
     "output_type": "stream",
     "text": [
      "(correct_pred_ave_mean - accuracy): 1.19209e-07\n"
     ]
    }
   ],
   "source": [
    "print('(correct_pred_ave_mean - accuracy):', correct_pred_ave_mean - accuracy)  "
   ]
  },
  {
   "cell_type": "code",
   "execution_count": 32,
   "metadata": {},
   "outputs": [
    {
     "name": "stdout",
     "output_type": "stream",
     "text": [
      "loss or (1-acc): 0.146607\n"
     ]
    }
   ],
   "source": [
    "# accuracy or 1- loss\n",
    "loss = (confusion_mean[1, 0] + confusion_mean[0, 1])/ (confusion_mean[0, 0] + confusion_mean[0, 1] + \n",
    "                                                       confusion_mean[1, 0] + confusion_mean[1, 1])\n",
    "print('loss or (1-acc):', loss)"
   ]
  },
  {
   "cell_type": "code",
   "execution_count": 40,
   "metadata": {},
   "outputs": [
    {
     "name": "stdout",
     "output_type": "stream",
     "text": [
      "sensitivity: 0.94408\n"
     ]
    }
   ],
   "source": [
    "# sensitivity: TruePos rate or recall\n",
    "# 1st col or true prediction condition\n",
    "sensitivity = confusion_mean[0, 0]/ (confusion_mean[0, 0] + \n",
    "                                     confusion_mean[1, 0])\n",
    "print('sensitivity:', sensitivity)"
   ]
  },
  {
   "cell_type": "code",
   "execution_count": 41,
   "metadata": {},
   "outputs": [
    {
     "name": "stdout",
     "output_type": "stream",
     "text": [
      "specificity: 0.561086\n"
     ]
    }
   ],
   "source": [
    "# specificity: TrueNeg rate or recall\n",
    "# 2nd col or false prediction condition\n",
    "# (1st row, 2nd col)/ \n",
    "specificity = confusion_mean[1, 1]/ (confusion_mean[0, 1] + \n",
    "                                     confusion_mean[1, 1])\n",
    "print('specificity:', specificity)"
   ]
  },
  {
   "cell_type": "code",
   "execution_count": 43,
   "metadata": {},
   "outputs": [
    {
     "name": "stdout",
     "output_type": "stream",
     "text": [
      "precision: 0.873944\n"
     ]
    }
   ],
   "source": [
    "# precision: TP / (TP + FP) for 1st row\n",
    "precision = confusion_mean[0, 0]/ (confusion_mean[0, 0] + confusion_mean[0, 1])\n",
    "print('precision:', precision)"
   ]
  },
  {
   "cell_type": "code",
   "execution_count": 44,
   "metadata": {},
   "outputs": [
    {
     "name": "stdout",
     "output_type": "stream",
     "text": [
      "precision2: 0.243133\n"
     ]
    }
   ],
   "source": [
    "# precision: TP / (TP + FP) for 2nd row\n",
    "precision2 = confusion_mean[1, 0]/ (confusion_mean[1, 0] + confusion_mean[1, 1])\n",
    "print('precision2:', precision2)"
   ]
  },
  {
   "cell_type": "code",
   "execution_count": 45,
   "metadata": {},
   "outputs": [
    {
     "name": "stdout",
     "output_type": "stream",
     "text": [
      "total: 100.0\n"
     ]
    }
   ],
   "source": [
    "print('total:', (confusion_mean[0, 0] + confusion_mean[0, 1] + confusion_mean[1, 0] + confusion_mean[1, 1]))"
   ]
  },
  {
   "cell_type": "code",
   "execution_count": 46,
   "metadata": {},
   "outputs": [
    {
     "data": {
      "image/png": "[encoded data removed]",
      "text/plain": [
       "<matplotlib.figure.Figure at 0x7fd8546ff2b0>"
      ]
     },
     "metadata": {},
     "output_type": "display_data"
    }
   ],
   "source": [
    "mplot.imshow(confusion_mean)\n",
    "mplot.show()\n",
    "mplot.legend()"
   ]
  },
  {
   "cell_type": "code",
   "execution_count": null,
   "metadata": {},
   "outputs": [],
   "source": []
  }
 ],
 "metadata": {
  "kernelspec": {
   "display_name": "Python 3",
   "language": "python",
   "name": "python3"
  },
  "language_info": {
   "codemirror_mode": {
    "name": "ipython",
    "version": 3
   },
   "file_extension": ".py",
   "mimetype": "text/x-python",
   "name": "python",
   "nbconvert_exporter": "python",
   "pygments_lexer": "ipython3",
   "version": "3.6.3"
  }
 },
 "nbformat": 4,
 "nbformat_minor": 2
}
