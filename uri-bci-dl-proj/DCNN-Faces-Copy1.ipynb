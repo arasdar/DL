{
 "cells": [
  {
   "cell_type": "code",
   "execution_count": 41,
   "metadata": {},
   "outputs": [
    {
     "name": "stdout",
     "output_type": "stream",
     "text": [
      "(18720, 205, 16) float64 (5400, 205, 16) float64 (13320, 205, 16) float64\n",
      "(13320, 205, 16) float64 (9540, 205, 16) float64 (3780, 205, 16) float64\n",
      "(18720, 1) uint8 (5400, 1) uint8 (13320, 1) uint8\n",
      "(9540, 205, 16) float64 (3780, 205, 16) float64 (5400, 205, 16) float64\n",
      "(9540, 2) (3780, 2) (5400, 2) (9540, 205, 16) (3780, 205, 16) (5400, 205, 16)\n",
      "float64 float64 float64 float64 float64 float64\n",
      "TensorFlow Version: 1.3.0\n",
      "Default GPU Device: /gpu:0\n"
     ]
    }
   ],
   "source": [
    "# Input data\n",
    "\n",
    "import scipy.io as spio\n",
    "import numpy as np\n",
    "\n",
    "# Reading the data for the Face from all the subjects\n",
    "BahramFace = spio.loadmat(file_name='../data/bci-project-data-RAW/BahramFace.mat')\n",
    "DJFace = spio.loadmat(file_name='../data/bci-project-data-RAW/DJFace.mat')\n",
    "NickFace = spio.loadmat(file_name='../data/bci-project-data-RAW/NickFace.mat')\n",
    "RoohiFace = spio.loadmat(file_name='../data/bci-project-data-RAW/RoohiFace.mat')\n",
    "SarahFace = spio.loadmat(file_name='../data/bci-project-data-RAW/SarahFace.mat')\n",
    "\n",
    "# Deviding the input data into train and validation\n",
    "# For creating the training and testing set, 30% percent of each subject is considered as test and\n",
    "# 70% of each subject is conidered as training.\n",
    "length = int(BahramFace['Intensification_Data'].shape[0] * 0.30)\n",
    "# length\n",
    "\n",
    "FacesDataAll = np.vstack(tup=(BahramFace['Intensification_Data'][:], \n",
    "                       DJFace['Intensification_Data'][:], \n",
    "                       NickFace['Intensification_Data'][:],\n",
    "                      RoohiFace['Intensification_Data'][:],\n",
    "                      SarahFace['Intensification_Data'][:]))\n",
    "\n",
    "FacesDataTrainAll = np.vstack(tup=(BahramFace['Intensification_Data'][:-length], \n",
    "                       DJFace['Intensification_Data'][:-length], \n",
    "                       NickFace['Intensification_Data'][:-length],\n",
    "                      RoohiFace['Intensification_Data'][:-length],\n",
    "                      SarahFace['Intensification_Data'][:-length]))\n",
    "\n",
    "FacesDataTest = np.vstack(tup=(BahramFace['Intensification_Data'][-length:], \n",
    "                       DJFace['Intensification_Data'][-length:], \n",
    "                       NickFace['Intensification_Data'][-length:],\n",
    "                      RoohiFace['Intensification_Data'][-length:],\n",
    "                      SarahFace['Intensification_Data'][-length:]))\n",
    "\n",
    "print(FacesDataAll.shape, FacesDataAll.dtype, \n",
    " FacesDataTest.shape, FacesDataTest.dtype, \n",
    " FacesDataTrainAll.shape, FacesDataTrainAll.dtype)\n",
    "\n",
    "BahramFaceDataTrain = BahramFace['Intensification_Data'][:-length]\n",
    "DJFaceDataTrain = DJFace['Intensification_Data'][:-length]\n",
    "NickFaceDataTrain = NickFace['Intensification_Data'][:-length]\n",
    "RoohiFaceDataTrain = RoohiFace['Intensification_Data'][:-length]\n",
    "SarahFaceDataTrain = SarahFace['Intensification_Data'][:-length]\n",
    "\n",
    "# 30% of the total training data is validation,\n",
    "# 70% of the total training data is training\n",
    "# This is applied to every single subject data.\n",
    "length2 = int(BahramFaceDataTrain.shape[0] * 0.30)\n",
    "# length2\n",
    "\n",
    "FacesDataTrain = np.vstack(tup=(BahramFaceDataTrain[:-length2], \n",
    "                       DJFaceDataTrain[:-length2], \n",
    "                       NickFaceDataTrain[:-length2],\n",
    "                      RoohiFaceDataTrain[:-length2],\n",
    "                      SarahFaceDataTrain[:-length2]))\n",
    "\n",
    "FacesDataValid = np.vstack(tup=(BahramFaceDataTrain[-length2:], \n",
    "                       DJFaceDataTrain[-length2:], \n",
    "                       NickFaceDataTrain[-length2:],\n",
    "                      RoohiFaceDataTrain[-length2:],\n",
    "                      SarahFaceDataTrain[-length2:]))\n",
    "\n",
    "print(FacesDataTrainAll.shape, FacesDataTrainAll.dtype, \n",
    " FacesDataTrain.shape, FacesDataTrain.dtype, \n",
    " FacesDataValid.shape, FacesDataValid.dtype)\n",
    "\n",
    "FacesLabelAll = np.vstack(tup=(BahramFace['Intensification_Label'][:], \n",
    "                       DJFace['Intensification_Label'][:], \n",
    "                       NickFace['Intensification_Label'][:],\n",
    "                      RoohiFace['Intensification_Label'][:],\n",
    "                      SarahFace['Intensification_Label'][:]))\n",
    "\n",
    "FacesLabelTrainAll = np.vstack(tup=(BahramFace['Intensification_Label'][:-length], \n",
    "                       DJFace['Intensification_Label'][:-length], \n",
    "                       NickFace['Intensification_Label'][:-length],\n",
    "                      RoohiFace['Intensification_Label'][:-length],\n",
    "                      SarahFace['Intensification_Label'][:-length]))\n",
    "\n",
    "FacesLabelTest = np.vstack(tup=(BahramFace['Intensification_Label'][-length:], \n",
    "                       DJFace['Intensification_Label'][-length:], \n",
    "                       NickFace['Intensification_Label'][-length:],\n",
    "                      RoohiFace['Intensification_Label'][-length:],\n",
    "                      SarahFace['Intensification_Label'][-length:]))\n",
    "\n",
    "print(FacesLabelAll.shape, FacesLabelAll.dtype,\n",
    " FacesLabelTest.shape, FacesLabelTest.dtype, \n",
    " FacesLabelTrainAll.shape, FacesLabelTrainAll.dtype)\n",
    "\n",
    "BahramFaceLabelTrain = BahramFace['Intensification_Label'][:-length]\n",
    "DJFaceLabelTrain = DJFace['Intensification_Label'][:-length]\n",
    "NickFaceLabelTrain = NickFace['Intensification_Label'][:-length]\n",
    "RoohiFaceLabelTrain = RoohiFace['Intensification_Label'][:-length]\n",
    "SarahFaceLabelTrain = SarahFace['Intensification_Label'][:-length]\n",
    "\n",
    "FacesLabelTrain = np.vstack(tup=(BahramFaceLabelTrain[:-length2], \n",
    "                       DJFaceLabelTrain[:-length2], \n",
    "                       NickFaceLabelTrain[:-length2],\n",
    "                      RoohiFaceLabelTrain[:-length2],\n",
    "                      SarahFaceLabelTrain[:-length2]))\n",
    "\n",
    "FacesLabelValid = np.vstack(tup=(BahramFaceLabelTrain[-length2:], \n",
    "                       DJFaceLabelTrain[-length2:], \n",
    "                       NickFaceLabelTrain[-length2:],\n",
    "                      RoohiFaceLabelTrain[-length2:],\n",
    "                      SarahFaceLabelTrain[-length2:]))\n",
    "\n",
    "# # Normalizing input data\n",
    "# def normalize(inputs, inputs_all):\n",
    "#     return (inputs - inputs_all.mean(axis=0)[None,:,:]) / inputs_all.std(axis=0)[None,:,:]\n",
    "# Yalda suggested this normalization.\n",
    "def normalize(inputs):\n",
    "    return (inputs - inputs.mean(axis=0)[None,:,:]) / inputs.std(axis=0)[None,:,:]\n",
    "\n",
    "# onehot vectorizing output labels\n",
    "def one_hot(labels, n_class):\n",
    "    \"\"\" One-hot encoding \"\"\"\n",
    "    expansion = np.eye(n_class)\n",
    "    y = expansion[:, labels-1].T\n",
    "    assert y.shape[1] == n_class, \"Wrong number of labels!\"\n",
    "\n",
    "    return y\n",
    "\n",
    "# get minibatches for learning\n",
    "def get_batches(X, y, batch_size):\n",
    "    \"\"\" Return a generator for batches \"\"\"\n",
    "    n_batches = len(X) // batch_size\n",
    "    X, y = X[:n_batches*batch_size], y[:n_batches*batch_size]\n",
    "\n",
    "    # Loop over batches and yield\n",
    "    for b in range(0, len(X), batch_size):\n",
    "        yield X[b:b+batch_size], y[b:b+batch_size]\n",
    "\n",
    "# Standardize/normalize train and test\n",
    "# X_train_norm_all = normalize(inputs=FacesDataTrain, inputs_all=FacesDataAll)\n",
    "X_train_norm = normalize(inputs=FacesDataTrain)\n",
    "X_valid_norm = normalize(inputs=FacesDataValid)\n",
    "X_test_norm = normalize(inputs=FacesDataTest)\n",
    "\n",
    "print(X_train_norm.shape, X_train_norm.dtype, \n",
    "X_valid_norm.shape, X_valid_norm.dtype,\n",
    "X_test_norm.shape, X_test_norm.dtype)\n",
    "\n",
    "### Hyperparameters\n",
    "\n",
    "# Input data\n",
    "batch_size = X_train_norm.shape[0]// 100 # minibatch size & number of minibatches\n",
    "seq_len = X_train_norm.shape[1] # Number of steps: each trial length\n",
    "n_channels = X_train_norm.shape[2] # number of channels in each trial\n",
    "\n",
    "# Output labels\n",
    "n_classes = int(FacesLabelAll.max() + 1)\n",
    "\n",
    "# Tweekable parameters\n",
    "learning_rate = 0.001 #1e-3\n",
    "epochs = 10 # num iterations for updating model\n",
    "keep_prob = 0.50 # 90% neurons are kept and 10% are dropped out\n",
    "\n",
    "Y_train = np.array(FacesLabelTrain, dtype=int).reshape(-1)\n",
    "Y_valid = np.array(FacesLabelValid, dtype=int).reshape(-1)\n",
    "Y_test = np.array(FacesLabelTest, dtype=int).reshape(-1)\n",
    "\n",
    "Y_train_onehot = one_hot(labels=Y_train, n_class=n_classes)\n",
    "Y_valid_onehot = one_hot(labels=Y_valid, n_class=n_classes)\n",
    "Y_test_onehot = one_hot(labels=Y_test, n_class=n_classes)\n",
    "\n",
    "print(Y_train_onehot.shape, Y_valid_onehot.shape, Y_test_onehot.shape, \n",
    " X_train_norm.shape, X_valid_norm.shape, X_test_norm.shape)\n",
    "\n",
    "print(Y_train_onehot.dtype, Y_valid_onehot.dtype, Y_test_onehot.dtype,\n",
    " X_train_norm.dtype, X_valid_norm.dtype, X_test_norm.dtype)\n",
    "\n",
    "# GPUs or CPU\n",
    "\n",
    "\"\"\"\n",
    "DON'T MODIFY ANYTHING IN THIS CELL\n",
    "\"\"\"\n",
    "from distutils.version import LooseVersion\n",
    "import warnings\n",
    "import tensorflow as tf\n",
    "\n",
    "# Check TensorFlow Version\n",
    "assert LooseVersion(tf.__version__) >= LooseVersion('1.0'), 'Please use TensorFlow version 1.0 or newer.  You are using {}'.format(tf.__version__)\n",
    "print('TensorFlow Version: {}'.format(tf.__version__))\n",
    "\n",
    "# Check for a GPU\n",
    "if not tf.test.gpu_device_name():\n",
    "    warnings.warn('No GPU found. Please use a GPU to train your neural network.')\n",
    "else:\n",
    "    print('Default GPU Device: {}'.format(tf.test.gpu_device_name()))\n",
    "\n",
    "#  No graphs is needed on tensorflow\n",
    "inputs_ = tf.placeholder(tf.float32, [None, seq_len, n_channels], name = 'inputs_')\n",
    "labels_ = tf.placeholder(tf.float32, [None, n_classes], name = 'labels_')\n",
    "keep_prob_ = tf.placeholder(tf.float32, name = 'keep_prob_')\n",
    "learning_rate_ = tf.placeholder(tf.float32, name = 'learning_rate_')# Construct the LSTM inputs and LSTM cells"
   ]
  },
  {
   "cell_type": "code",
   "execution_count": 42,
   "metadata": {},
   "outputs": [
    {
     "name": "stdout",
     "output_type": "stream",
     "text": [
      "(?, 101, 32)\n",
      "(?, 49, 64)\n",
      "(?, 3136) (?, 6272)\n",
      "(?, 2)\n"
     ]
    }
   ],
   "source": [
    "# Forward pass: Convolutional Layers, FC Layer, and Output layer\n",
    "# (batch, 205, 16) --> (batch, 101, 32)\n",
    "# (205 - 5 + 0)/2 + 1 = 100+1= 101\n",
    "# 2/5 with strides/kernel_size is 40% non-overlap/diff region and 60% overlapping window/ common region\n",
    "in_conv = inputs_\n",
    "out_conv = tf.layers.conv1d(inputs=in_conv, filters=32, kernel_size=5, strides=2, padding='valid')\n",
    "out_conv = tf.layers.batch_normalization(inputs=out_conv)\n",
    "out_conv = tf.nn.relu(features=out_conv)\n",
    "out_conv = tf.nn.dropout(x=out_conv, keep_prob=keep_prob_)\n",
    "print(out_conv.shape)\n",
    "\n",
    "# (batch, 101, 32) --> (batch, 49, 64)\n",
    "# (101 - 5 + 0)/2 + 1 = (96/2)+1= 48+1= 49\n",
    "# 2/5 with strides/kernel_size is 40% non-overlap/diff region and 60% overlapping window/ common region\n",
    "in_conv = out_conv\n",
    "out_conv = tf.layers.conv1d(inputs=in_conv, filters=64, kernel_size=5, strides=2, padding='valid')\n",
    "out_conv = tf.layers.batch_normalization(inputs=out_conv)\n",
    "out_conv = tf.nn.relu(features=out_conv)\n",
    "out_conv = tf.nn.dropout(x=out_conv, keep_prob=keep_prob_)\n",
    "print(out_conv.shape)\n",
    "\n",
    "# (batch, 49, 64) --> (batch, 49*64) --> (batch, 49*64*2)\n",
    "# 49*64 = 50*64 - 1*64 = 3200 - 64 = 3136, 3136*2 = 6272\n",
    "# (batch, 49, 64) --> (batch, 3200) --> (batch, 6272)\n",
    "in_fc = tf.reshape(tensor=out_conv, shape=(-1, 49*64))\n",
    "out_fc = tf.layers.dense(inputs=in_fc, units=49*64*2)\n",
    "out_fc = tf.layers.batch_normalization(inputs=out_fc)\n",
    "out_fc = tf.nn.relu(features=out_fc)\n",
    "out_fc = tf.nn.dropout(x=out_fc, keep_prob=keep_prob_)\n",
    "print(in_fc.shape, out_fc.shape)\n",
    "\n",
    "# (batch, 49*64*2) --> (batch, 2) \n",
    "logits = tf.layers.dense(inputs=out_fc, units=n_classes)\n",
    "print(logits.shape)"
   ]
  },
  {
   "cell_type": "code",
   "execution_count": 43,
   "metadata": {},
   "outputs": [
    {
     "name": "stdout",
     "output_type": "stream",
     "text": [
      "Tensor(\"accuracy_2:0\", shape=(), dtype=float32)\n"
     ]
    }
   ],
   "source": [
    "# Backward pass: error backpropagation\n",
    "# Cost function\n",
    "cost_tensor = tf.nn.softmax_cross_entropy_with_logits(logits=logits, labels=labels_)\n",
    "cost = tf.reduce_mean(input_tensor=cost_tensor)\n",
    "\n",
    "# Optimizer\n",
    "optimizer = tf.train.AdamOptimizer(learning_rate=learning_rate_).minimize(cost)\n",
    "\n",
    "# Accuracy\n",
    "correct_pred = tf.equal(tf.argmax(logits, 1), tf.argmax(labels_, 1))\n",
    "accuracy = tf.reduce_mean(tf.cast(correct_pred, tf.float32), name='accuracy')\n",
    "print(accuracy)"
   ]
  },
  {
   "cell_type": "code",
   "execution_count": 44,
   "metadata": {},
   "outputs": [],
   "source": [
    "class_label_pos = tf.argmax(labels_, 1)\n",
    "class_label_neg = tf.argmin(labels_, 1)\n",
    "pred_label_pos = tf.argmax(logits, 1)\n",
    "pred_label_neg = tf.argmin(logits, 1)"
   ]
  },
  {
   "cell_type": "code",
   "execution_count": 53,
   "metadata": {},
   "outputs": [],
   "source": [
    "# TruePos = tf.equal(name='TruePos', x=class_label_pos, y=pred_label_pos)\n",
    "# TruePosMean = tf.reduce_mean(tf.cast(TruePos, tf.float32), name='TruePosMean')\n",
    "\n",
    "# TrueNeg = tf.equal(name='TrueNeg', x=class_label_neg, y=pred_label_neg)\n",
    "# TrueNegMean = tf.reduce_mean(tf.cast(TrueNeg, tf.float32), name='TrueNegMean')\n",
    "\n",
    "# FalseNeg = tf.not_equal(name='FalseNeg', x=class_label_pos, y=pred_label_neg)\n",
    "# FalseNegMean = tf.reduce_mean(tf.cast(FalseNeg, tf.float32), name='FalseNegMean')\n",
    "\n",
    "# FalsePos = tf.not_equal(name='FalsePos', x=class_label_neg, y=pred_label_pos)\n",
    "# FalsePosMean = tf.reduce_mean(tf.cast(FalsePos, tf.float32), name='FalsePosMean')"
   ]
  },
  {
   "cell_type": "code",
   "execution_count": 55,
   "metadata": {},
   "outputs": [],
   "source": [
    "# print(TruePos.shape, TrueNeg.shape, FalseNeg.shape, FalsePos.shape)"
   ]
  },
  {
   "cell_type": "code",
   "execution_count": 56,
   "metadata": {},
   "outputs": [],
   "source": [
    "# print(TruePosMean.shape, TrueNegMean.shape, FalseNegMean.shape, FalsePosMean.shape)"
   ]
  },
  {
   "cell_type": "code",
   "execution_count": 57,
   "metadata": {},
   "outputs": [],
   "source": [
    "NotTruePos = tf.not_equal(name='NotTruePos', x=class_label_pos, y=pred_label_pos)\n",
    "NotTruePosMean = tf.reduce_mean(tf.cast(NotTruePos, tf.float32), name='NotTruePosMean')"
   ]
  },
  {
   "cell_type": "code",
   "execution_count": 58,
   "metadata": {},
   "outputs": [],
   "source": [
    "# When the prediction is not correct: \n",
    "FalsePosMean = (1/n_classes) * NotTruePosMean # false prediction\n",
    "TrueNegMean = ((n_classes - 2)/ n_classes) * NotTruePosMean \n",
    "FalseNegMean = (1/n_classes) * NotTruePosMean"
   ]
  },
  {
   "cell_type": "code",
   "execution_count": 60,
   "metadata": {},
   "outputs": [
    {
     "name": "stdout",
     "output_type": "stream",
     "text": [
      "Tensor(\"truediv_24:0\", shape=(), dtype=float32)\n",
      "Tensor(\"truediv_25:0\", shape=(), dtype=float32)\n",
      "Tensor(\"truediv_26:0\", shape=(), dtype=float32)\n",
      "Tensor(\"truediv_27:0\", shape=(), dtype=float32)\n"
     ]
    }
   ],
   "source": [
    "# sensitivity == tp/ (tp+fn)\n",
    "sensitivity = TruePosMean/ (TruePosMean+FalseNegMean)\n",
    "print(sensitivity)\n",
    "\n",
    "# # specificity == fp/ (fp+tn)\n",
    "specificity = FalsePosMean/(FalsePosMean+TrueNegMean)\n",
    "print(specificity)\n",
    "\n",
    "# acc == (tp+tn)/ (tp+tn+fp+fn)\n",
    "accuracy2 = (TrueNegMean+TruePosMean)/ (TrueNegMean+TruePosMean+FalseNegMean+FalsePosMean)\n",
    "print(accuracy2)\n",
    "\n",
    "# # loss == (fn+fp)/ (fp+fn+tp+tn)\n",
    "cost2 = (FalseNegMean+FalsePosMean)/ (TrueNegMean+TruePosMean+FalseNegMean+FalsePosMean)\n",
    "print(cost2)"
   ]
  },
  {
   "cell_type": "code",
   "execution_count": 61,
   "metadata": {},
   "outputs": [
    {
     "name": "stdout",
     "output_type": "stream",
     "text": [
      "0.363392 0.831579 0.831579 0.0 0.0842105 0.0842105 0.168421 0.908046 1.0 0.831579 0.168421\n",
      "0.215802 0.915789 0.915789 0.0 0.0421053 0.0421053 0.0842105 0.956044 1.0 0.915789 0.0842105\n",
      "0.214497 0.905263 0.905263 0.0 0.0473684 0.0473684 0.0947369 0.950276 1.0 0.905263 0.0947369\n",
      "0.176864 0.947369 0.947369 0.0 0.0263158 0.0263158 0.0526316 0.972973 1.0 0.947368 0.0526316\n",
      "0.154932 0.926316 0.926316 0.0 0.0368421 0.0368421 0.0736842 0.961749 1.0 0.926316 0.0736842\n",
      "0.176091 0.936842 0.936842 0.0 0.031579 0.031579 0.0631579 0.967391 1.0 0.936842 0.0631579\n",
      "0.168401 0.926316 0.926316 0.0 0.0368421 0.0368421 0.0736842 0.961749 1.0 0.926316 0.0736842\n",
      "0.147064 0.968421 0.968421 0.0 0.0157895 0.0157895 0.031579 0.983957 1.0 0.968421 0.031579\n",
      "0.204353 0.926316 0.926316 0.0 0.0368421 0.0368421 0.0736842 0.961749 1.0 0.926316 0.0736842\n",
      "0.164748 0.947369 0.947369 0.0 0.0263158 0.0263158 0.0526316 0.972973 1.0 0.947368 0.0526316\n"
     ]
    }
   ],
   "source": [
    "with tf.Session() as sess:\n",
    "    # initalize session global variables just in the case they are initialized.\n",
    "    sess.run(tf.global_variables_initializer())\n",
    "    \n",
    "    for e in range(epochs):\n",
    "       \n",
    "        # Loop over batches\n",
    "        for x, y in get_batches(X_train_norm, Y_train_onehot, batch_size):\n",
    "            \n",
    "            # Feed dictionary\n",
    "            feed = {inputs_:x, labels_:y, keep_prob_: keep_prob, learning_rate_:learning_rate}\n",
    "            _, loss, acc, tpm, tnm, fnm, fpm, ntpm, sens, spec, acc2, loss2 = sess.run(\n",
    "                [optimizer, cost, accuracy, TruePosMean, TrueNegMean, FalseNegMean, FalsePosMean, \n",
    "                 NotTruePosMean, sensitivity, specificity, accuracy2, cost2],\n",
    "                feed_dict = feed)\n",
    "\n",
    "        print(loss, acc, tpm, tnm, fnm, fpm, ntpm, sens, spec, acc2, loss2)"
   ]
  },
  {
   "cell_type": "code",
   "execution_count": 5,
   "metadata": {},
   "outputs": [
    {
     "data": {
      "image/png": "[encoded data removed]",
      "text/plain": [
       "<matplotlib.figure.Figure at 0x7f5c00085f28>"
      ]
     },
     "metadata": {},
     "output_type": "display_data"
    }
   ],
   "source": [
    "import matplotlib.pyplot as mplot\n",
    "\n",
    "mplot.plot(train_loss, label='train_loss')\n",
    "mplot.plot(valid_loss, label='valid_loss')\n",
    "mplot.legend()\n",
    "mplot.show()"
   ]
  },
  {
   "cell_type": "code",
   "execution_count": 6,
   "metadata": {},
   "outputs": [
    {
     "data": {
      "image/png": "[encoded data removed]",
      "text/plain": [
       "<matplotlib.figure.Figure at 0x7f5b60289e10>"
      ]
     },
     "metadata": {},
     "output_type": "display_data"
    }
   ],
   "source": [
    "# import matplotlib.pyplot as mplot\n",
    "\n",
    "mplot.plot(train_acc, label='train_acc')\n",
    "mplot.plot(valid_acc, label='valid_acc')\n",
    "mplot.legend()\n",
    "mplot.show()"
   ]
  },
  {
   "cell_type": "code",
   "execution_count": null,
   "metadata": {},
   "outputs": [],
   "source": []
  }
 ],
 "metadata": {
  "kernelspec": {
   "display_name": "Python 3",
   "language": "python",
   "name": "python3"
  },
  "language_info": {
   "codemirror_mode": {
    "name": "ipython",
    "version": 3
   },
   "file_extension": ".py",
   "mimetype": "text/x-python",
   "name": "python",
   "nbconvert_exporter": "python",
   "pygments_lexer": "ipython3",
   "version": "3.6.3"
  }
 },
 "nbformat": 4,
 "nbformat_minor": 2
}
