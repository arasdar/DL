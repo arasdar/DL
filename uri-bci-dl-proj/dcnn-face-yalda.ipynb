{
 "cells": [
  {
   "cell_type": "code",
   "execution_count": 1,
   "metadata": {},
   "outputs": [
    {
     "name": "stdout",
     "output_type": "stream",
     "text": [
      "(18720, 205, 16) float64 (18720, 1) uint8\n",
      "0.833333333333 0.166666666667 0.0 0.0\n",
      "[2]\n"
     ]
    }
   ],
   "source": [
    "# Read the dataset\n",
    "import scipy.io as spio\n",
    "import numpy as np\n",
    "\n",
    "BahramFace = spio.loadmat(file_name='/home/arasdar/datasets/bci-project-data-RAW/BahramFace.mat')\n",
    "DJFace = spio.loadmat(file_name='/home/arasdar/datasets/bci-project-data-RAW/DJFace.mat')\n",
    "NickFace = spio.loadmat(file_name='/home/arasdar/datasets/bci-project-data-RAW/NickFace.mat')\n",
    "RoohiFace = spio.loadmat(file_name='/home/arasdar/datasets/bci-project-data-RAW/RoohiFace.mat')\n",
    "SarahFace = spio.loadmat(file_name='/home/arasdar/datasets/bci-project-data-RAW/SarahFace.mat')\n",
    "\n",
    "AllData = np.concatenate((BahramFace['Intensification_Data'],\n",
    "                            DJFace['Intensification_Data'],\n",
    "                            NickFace['Intensification_Data'],\n",
    "                            RoohiFace['Intensification_Data'],\n",
    "                            SarahFace['Intensification_Data']), axis=0)\n",
    "\n",
    "AllLabels = np.concatenate((BahramFace['Intensification_Label'],\n",
    "                            DJFace['Intensification_Label'],\n",
    "                            NickFace['Intensification_Label'],\n",
    "                            RoohiFace['Intensification_Label'],\n",
    "                            SarahFace['Intensification_Label']), axis=0)\n",
    "\n",
    "print(AllData.shape, AllData.dtype, AllLabels.shape, AllLabels.dtype)\n",
    "print(np.mean(AllLabels==0), np.mean(AllLabels==1), np.mean(AllLabels==2), np.mean(AllLabels==3))\n",
    "print((AllLabels +  1).max(axis=0))"
   ]
  },
  {
   "cell_type": "code",
   "execution_count": 2,
   "metadata": {},
   "outputs": [
    {
     "name": "stdout",
     "output_type": "stream",
     "text": [
      "(13104, 205, 16) (5616, 205, 16) (13104, 1) (5616, 1)\n"
     ]
    }
   ],
   "source": [
    "# Train and test split\n",
    "from sklearn.model_selection import train_test_split\n",
    "\n",
    "X_train_valid, X_test, Y_train_valid, Y_test = train_test_split(AllData, AllLabels, test_size=0.30)\n",
    "\n",
    "print(X_train_valid.shape, X_test.shape, Y_train_valid.shape, Y_test.shape)"
   ]
  },
  {
   "cell_type": "code",
   "execution_count": 5,
   "metadata": {},
   "outputs": [
    {
     "name": "stdout",
     "output_type": "stream",
     "text": [
      "(13104, 205, 16) float64 (13104, 1) uint8\n",
      "0.832646520147 0.167353479853 0.0 0.0\n",
      "[2]\n"
     ]
    }
   ],
   "source": [
    "# Implementing Yalda's seggestion\n",
    "#  AllData and Alllabels are limited to train-valid data only\n",
    "AllData, AllLabels = X_train_valid, Y_train_valid\n",
    "print(AllData.shape, AllData.dtype, AllLabels.shape, AllLabels.dtype)\n",
    "print(np.mean(AllLabels==0), np.mean(AllLabels==1), np.mean(AllLabels==2), np.mean(AllLabels==3))\n",
    "print((AllLabels +  1).max(axis=0))"
   ]
  },
  {
   "cell_type": "code",
   "execution_count": 6,
   "metadata": {},
   "outputs": [
    {
     "name": "stdout",
     "output_type": "stream",
     "text": [
      "(21876, 205, 16) float64 (21876, 1) uint8\n",
      "0.498765770708 0.501234229292 0.0 0.0\n",
      "[2]\n"
     ]
    }
   ],
   "source": [
    "# Solving the overfitting problem by adding linearly transformed and separable data\n",
    "# linearly transformed and separable data augmentation\n",
    "AllLabelOne = (AllLabels==1).reshape(-1)\n",
    "AllData_LabelOne = AllData[AllLabelOne]\n",
    "\n",
    "AllLabelZero = (AllLabels==0).reshape(-1)\n",
    "AllData_LabelZero = AllData[AllLabelZero]\n",
    "\n",
    "# Linear synthetic data augmentatiion or creation or generation\n",
    "AllData_LabelOneNew_list = []\n",
    "\n",
    "# w*data+b: translation, rotation, and scaling\n",
    "# linear transformation of the target data\n",
    "w, b = 1.0, 0.0\n",
    "for idx in range(5):\n",
    "    AllData_LabelOneNew = (w * AllData_LabelOne) + b\n",
    "    AllData_LabelOneNew_list.append(AllData_LabelOneNew)\n",
    "    w *= 0.9 # 1.0, 0.9, 0.81, 0.729, 0.6561\n",
    "    b += 0.1 # 0.0, 0.1, 0.2, 0.3, 0.4\n",
    "\n",
    "AllData_LabelOneNew_total = np.array(AllData_LabelOneNew_list, \n",
    "                                      dtype=AllData_LabelOne.dtype).reshape(-1, 205, 16)\n",
    "\n",
    "AllDataNew = np.concatenate((AllData_LabelOneNew_total, AllData_LabelZero), axis=0)\n",
    "AllLabelsNew = np.concatenate((AllLabels[AllLabelZero], # Tgt = 6*Non-Tgt\n",
    "                                   AllLabels[AllLabelOne],\n",
    "                                   AllLabels[AllLabelOne],\n",
    "                                   AllLabels[AllLabelOne], \n",
    "                                   AllLabels[AllLabelOne], \n",
    "                                   AllLabels[AllLabelOne]), axis=0)\n",
    "\n",
    "print(AllDataNew.shape, AllDataNew.dtype, AllLabelsNew.shape, AllLabelsNew.dtype)\n",
    "print(np.mean(AllLabelsNew==0), np.mean(AllLabelsNew==1), np.mean(AllLabelsNew==2), np.mean(AllLabelsNew==3))\n",
    "print((AllLabelsNew +  1).max(axis=0))"
   ]
  },
  {
   "cell_type": "code",
   "execution_count": 7,
   "metadata": {},
   "outputs": [
    {
     "name": "stdout",
     "output_type": "stream",
     "text": [
      "(21876, 205, 16) float64 (21876, 1) uint8\n",
      "0.498765770708 0.501234229292 0.0 0.0\n",
      "[2]\n"
     ]
    }
   ],
   "source": [
    "# Implementing Yalda's seggestion\n",
    "#  AllData and Alllabels are limited to train-valid data only\n",
    "X_train_valid, Y_train_valid = AllDataNew, AllLabelsNew\n",
    "print(AllDataNew.shape, AllDataNew.dtype, AllLabelsNew.shape, AllLabelsNew.dtype)\n",
    "print(np.mean(AllLabelsNew==0), np.mean(AllLabelsNew==1), np.mean(AllLabelsNew==2), np.mean(AllLabelsNew==3))\n",
    "print((AllLabelsNew +  1).max(axis=0))"
   ]
  },
  {
   "cell_type": "code",
   "execution_count": 26,
   "metadata": {},
   "outputs": [
    {
     "name": "stdout",
     "output_type": "stream",
     "text": [
      "0.0 0.498765770708 0.501234229292 0.0\n",
      "0.0 0.834935897436 0.165064102564 0.0\n",
      "(21876, 2) float64 (5616, 2) float64\n"
     ]
    }
   ],
   "source": [
    "# Preparing input and output data\n",
    "from utilities import *\n",
    "\n",
    "# Normalizing/standardizing the input data features\n",
    "X_train_valid_norm, X_test_norm = standardize(test=X_test, train=X_train_valid)\n",
    "\n",
    "# Onehot encoding/vectorizing the output data labels\n",
    "print(np.mean((Y_train_valid+1).reshape(-1)==0), np.mean((Y_train_valid+1).reshape(-1)==1),\n",
    "     np.mean((Y_train_valid+1).reshape(-1)==2), np.mean((Y_train_valid+1).reshape(-1)==3))\n",
    "\n",
    "print(np.mean((Y_test+1).reshape(-1)==0), np.mean((Y_test+1).reshape(-1)==1),\n",
    "     np.mean((Y_test+1).reshape(-1)==2), np.mean((Y_test+1).reshape(-1)==3))\n",
    "\n",
    "Y_train_valid_onehot = one_hot(labels=(Y_train_valid+1).reshape(-1), n_class=2) \n",
    "Y_test_onehot = one_hot(labels=(Y_test+1).reshape(-1), n_class=2) \n",
    "\n",
    "print(Y_train_valid_onehot.shape, Y_train_valid_onehot.dtype, \n",
    "      Y_test_onehot.shape, Y_test_onehot.dtype)"
   ]
  },
  {
   "cell_type": "code",
   "execution_count": 9,
   "metadata": {},
   "outputs": [
    {
     "name": "stdout",
     "output_type": "stream",
     "text": [
      "(15313, 205, 16) (6563, 205, 16) (15313, 2) (6563, 2)\n"
     ]
    }
   ],
   "source": [
    "# Train and valid split\n",
    "# from sklearn.model_selection import train_test_split\n",
    "X_train_norm, X_valid_norm, Y_train_onehot, Y_valid_onehot = train_test_split(X_train_valid_norm, \n",
    "                                                                              Y_train_valid_onehot,\n",
    "                                                                              test_size=0.30)\n",
    "\n",
    "print(X_train_norm.shape, X_valid_norm.shape, Y_train_onehot.shape, Y_valid_onehot.shape)"
   ]
  },
  {
   "cell_type": "code",
   "execution_count": 10,
   "metadata": {},
   "outputs": [
    {
     "name": "stdout",
     "output_type": "stream",
     "text": [
      "batch_size, seq_len, n_channels 153 205 16\n",
      "n_classes [2]\n"
     ]
    }
   ],
   "source": [
    "## Hyperparameters\n",
    "# Input data\n",
    "batch_size = X_train_norm.shape[0]// 100 # minibatch size & number of minibatches\n",
    "seq_len = X_train_norm.shape[1] # Number of steps: each trial length\n",
    "n_channels = X_train_norm.shape[2] # number of channels in each trial\n",
    "print('batch_size, seq_len, n_channels', batch_size, seq_len, n_channels)\n",
    "\n",
    "# Output labels\n",
    "n_classes = Y_train_valid.max(axis=0)+1\n",
    "assert Y_train_valid.max(axis=0) == Y_test.max(axis=0)\n",
    "print('n_classes', n_classes)\n",
    "\n",
    "# learning parameters\n",
    "learning_rate = 0.0001 #1e-4\n",
    "epochs = 100 # num iterations for updating model\n",
    "keep_prob = 0.50 # 90% neurons are kept and 10% are dropped out"
   ]
  },
  {
   "cell_type": "code",
   "execution_count": 11,
   "metadata": {},
   "outputs": [
    {
     "name": "stdout",
     "output_type": "stream",
     "text": [
      "TensorFlow Version: 1.3.0\n",
      "Default GPU Device: /gpu:0\n"
     ]
    }
   ],
   "source": [
    "# GPUs or CPU\n",
    "import tensorflow as tf\n",
    "\n",
    "# Check TensorFlow Version\n",
    "print('TensorFlow Version: {}'.format(tf.__version__))\n",
    "\n",
    "# Check for a GPU\n",
    "print('Default GPU Device: {}'.format(tf.test.gpu_device_name()))"
   ]
  },
  {
   "cell_type": "code",
   "execution_count": 12,
   "metadata": {},
   "outputs": [],
   "source": [
    "# Feed the data from python/numpy to tensorflow framework\n",
    "inputs_ = tf.placeholder(tf.float32, [None, seq_len, n_channels], name = 'inputs_')\n",
    "labels_ = tf.placeholder(tf.float32, [None, n_classes], name = 'labels_')\n",
    "keep_prob_ = tf.placeholder(tf.float32, name = 'keep_prob_')\n",
    "learning_rate_ = tf.placeholder(tf.float32, name = 'learning_rate_')"
   ]
  },
  {
   "cell_type": "code",
   "execution_count": 13,
   "metadata": {},
   "outputs": [
    {
     "name": "stdout",
     "output_type": "stream",
     "text": [
      "inputs_.shape, conv1.shape, max_pool_1.shape (?, 205, 16) (?, 204, 32) (?, 102, 32)\n",
      "max_pool_1.shape, conv2.shape, max_pool_2.shape (?, 102, 32) (?, 102, 64) (?, 51, 64)\n",
      "max_pool_2.shape, conv3.shape, max_pool_3.shape (?, 51, 64) (?, 50, 128) (?, 25, 128)\n",
      "max_pool_3.shape, conv4.shape, max_pool_4.shape (?, 25, 128) (?, 24, 256) (?, 12, 256)\n",
      "max_pool_4.shape, flat.shape, logits.shape (?, 12, 256) (?, 3072) (?, 2)\n"
     ]
    }
   ],
   "source": [
    "# batch_size, seq_len, n_channels: 153 205 16; n_classes: [2]\n",
    "# (batch, 205, 16) --> (batch, 102, 32)\n",
    "# conv valid: (205-2+0)/1 + 1 = (203/1)+1 = 203 + 1=204\n",
    "# pool same: (204-2+0)/2 + 1 = (202/2)+1 = 101 + 1=102\n",
    "conv1 = tf.layers.conv1d(inputs=inputs_, filters=32, kernel_size=2, strides=1, padding='valid', \n",
    "                         activation = tf.nn.relu)\n",
    "max_pool_1 = tf.layers.max_pooling1d(inputs=conv1, pool_size=2, strides=2, padding='same')\n",
    "# max_pool_1 = tf.nn.dropout(max_pool_1, keep_prob=keep_prob_)\n",
    "print('inputs_.shape, conv1.shape, max_pool_1.shape', inputs_.shape, conv1.shape, max_pool_1.shape)\n",
    "\n",
    "# (batch, 102, 32) --> (batch, 51, 64)\n",
    "# conv same\n",
    "# pool same: (102-2+0)/2 + 1 = (100/2)+1 = 50 + 1=51\n",
    "conv2 = tf.layers.conv1d(inputs=max_pool_1, filters=64, kernel_size=2, strides=1, padding='same', \n",
    "                         activation = tf.nn.relu)\n",
    "max_pool_2 = tf.layers.max_pooling1d(inputs=conv2, pool_size=2, strides=2, padding='same')\n",
    "# max_pool_2 = tf.nn.dropout(max_pool_2, keep_prob=keep_prob_)\n",
    "print('max_pool_1.shape, conv2.shape, max_pool_2.shape', max_pool_1.shape, conv2.shape, max_pool_2.shape)\n",
    "\n",
    "# (batch, 51, 64) --> (batch, 25, 128)\n",
    "# conv valid: (51-2+0)/1 + 1 = (49/1)+1 = 49 + 1=50\n",
    "# pool same: (50-2+0)/2 + 1 = (48/2)+1 = 24 + 1=25\n",
    "conv3 = tf.layers.conv1d(inputs=max_pool_2, filters=128, kernel_size=2, strides=1, padding='valid', \n",
    "                         activation = tf.nn.relu)\n",
    "max_pool_3 = tf.layers.max_pooling1d(inputs=conv3, pool_size=2, strides=2, padding='same')\n",
    "# max_pool_3 = tf.nn.dropout(max_pool_3, keep_prob=keep_prob_)\n",
    "print('max_pool_2.shape, conv3.shape, max_pool_3.shape', max_pool_2.shape, conv3.shape, max_pool_3.shape)\n",
    "\n",
    "# (batch, 25, 128) --> (batch, 12, 256)\n",
    "# conv valid: (25-2+0)/1 + 1 = (23/1)+1 = 23 + 1=24\n",
    "# pool same: (24-2+0)/2 + 1 = (22/2)+1 = 11 + 1=12\n",
    "conv4 = tf.layers.conv1d(inputs=max_pool_3, filters=256, kernel_size=2, strides=1, padding='valid', \n",
    "                         activation = tf.nn.relu)\n",
    "max_pool_4 = tf.layers.max_pooling1d(inputs=conv4, pool_size=2, strides=2, padding='same')\n",
    "# max_pool_4 = tf.nn.dropout(max_pool_4, keep_prob=keep_prob_)\n",
    "print('max_pool_3.shape, conv4.shape, max_pool_4.shape', max_pool_3.shape, conv4.shape, max_pool_4.shape)\n",
    "\n",
    "# Flatten and add dropout + predicted output\n",
    "flat = tf.reshape(max_pool_4, (-1, 12*256))\n",
    "flat = tf.nn.dropout(flat, keep_prob=keep_prob_)\n",
    "logits = tf.layers.dense(flat, n_classes)\n",
    "print('max_pool_4.shape, flat.shape, logits.shape', max_pool_4.shape, flat.shape, logits.shape)"
   ]
  },
  {
   "cell_type": "code",
   "execution_count": 14,
   "metadata": {},
   "outputs": [
    {
     "name": "stdout",
     "output_type": "stream",
     "text": [
      "cost_tensor, cost Tensor(\"Reshape_3:0\", shape=(?,), dtype=float32) Tensor(\"Mean:0\", shape=(), dtype=float32)\n",
      "optimizer name: \"Adam\"\n",
      "op: \"NoOp\"\n",
      "input: \"^Adam/update_conv1d/kernel/ApplyAdam\"\n",
      "input: \"^Adam/update_conv1d/bias/ApplyAdam\"\n",
      "input: \"^Adam/update_conv1d_1/kernel/ApplyAdam\"\n",
      "input: \"^Adam/update_conv1d_1/bias/ApplyAdam\"\n",
      "input: \"^Adam/update_conv1d_2/kernel/ApplyAdam\"\n",
      "input: \"^Adam/update_conv1d_2/bias/ApplyAdam\"\n",
      "input: \"^Adam/update_conv1d_3/kernel/ApplyAdam\"\n",
      "input: \"^Adam/update_conv1d_3/bias/ApplyAdam\"\n",
      "input: \"^Adam/update_dense/kernel/ApplyAdam\"\n",
      "input: \"^Adam/update_dense/bias/ApplyAdam\"\n",
      "input: \"^Adam/Assign\"\n",
      "input: \"^Adam/Assign_1\"\n",
      "\n",
      "correct_pred, accuracy Tensor(\"Equal:0\", shape=(?,), dtype=bool) Tensor(\"accuracy:0\", shape=(), dtype=float32)\n",
      "confusion_matrix Tensor(\"confusion_matrix/SparseTensorDenseAdd:0\", shape=(?, ?), dtype=int32)\n"
     ]
    }
   ],
   "source": [
    "# Backward pass: error backpropagation\n",
    "# Cost function\n",
    "cost_tensor = tf.nn.softmax_cross_entropy_with_logits(logits=logits, labels=labels_)\n",
    "cost = tf.reduce_mean(input_tensor=cost_tensor)\n",
    "print('cost_tensor, cost', cost_tensor, cost)\n",
    "\n",
    "# Optimizer\n",
    "optimizer = tf.train.AdamOptimizer(learning_rate=learning_rate_).minimize(cost)\n",
    "print('optimizer', optimizer)\n",
    "\n",
    "# Accuracy\n",
    "correct_pred = tf.equal(tf.argmax(logits, 1), tf.argmax(labels_, 1))\n",
    "accuracy = tf.reduce_mean(tf.cast(correct_pred, tf.float32), name='accuracy')\n",
    "print('correct_pred, accuracy', correct_pred, accuracy)\n",
    "\n",
    "# Confusion matrix\n",
    "confusion_matrix = tf.confusion_matrix(predictions=tf.argmax(logits, 1),\n",
    "                                       labels=tf.argmax(labels_, 1))\n",
    "print('confusion_matrix', confusion_matrix)"
   ]
  },
  {
   "cell_type": "code",
   "execution_count": 15,
   "metadata": {},
   "outputs": [
    {
     "name": "stdout",
     "output_type": "stream",
     "text": [
      "Epoch: 1/100 Train loss: 0.665638 Valid loss: 0.655950 Train acc: 0.592026 Valid acc: 0.628489\n",
      "Epoch: 2/100 Train loss: 0.622650 Valid loss: 0.611572 Train acc: 0.651765 Valid acc: 0.683414\n",
      "Epoch: 3/100 Train loss: 0.585309 Valid loss: 0.574295 Train acc: 0.688083 Valid acc: 0.714778\n",
      "Epoch: 4/100 Train loss: 0.554396 Valid loss: 0.544362 Train acc: 0.713889 Valid acc: 0.736721\n",
      "Epoch: 5/100 Train loss: 0.527845 Valid loss: 0.519125 Train acc: 0.734157 Valid acc: 0.753981\n",
      "Epoch: 6/100 Train loss: 0.505206 Valid loss: 0.497759 Train acc: 0.750566 Valid acc: 0.767989\n",
      "Epoch: 7/100 Train loss: 0.485746 Valid loss: 0.479449 Train acc: 0.764174 Valid acc: 0.779611\n",
      "Epoch: 8/100 Train loss: 0.469306 Valid loss: 0.464052 Train acc: 0.775449 Valid acc: 0.789220\n",
      "Epoch: 9/100 Train loss: 0.455611 Valid loss: 0.451075 Train acc: 0.784561 Valid acc: 0.797266\n",
      "Epoch: 10/100 Train loss: 0.443227 Valid loss: 0.439912 Train acc: 0.792719 Valid acc: 0.804149\n",
      "Epoch: 11/100 Train loss: 0.432344 Valid loss: 0.430094 Train acc: 0.799721 Valid acc: 0.810070\n",
      "Epoch: 12/100 Train loss: 0.422791 Valid loss: 0.421473 Train acc: 0.805735 Valid acc: 0.815158\n",
      "Epoch: 13/100 Train loss: 0.414372 Valid loss: 0.413920 Train acc: 0.811056 Valid acc: 0.819600\n",
      "Epoch: 14/100 Train loss: 0.406394 Valid loss: 0.406920 Train acc: 0.815714 Valid acc: 0.823635\n",
      "Epoch: 15/100 Train loss: 0.399146 Valid loss: 0.400572 Train acc: 0.819943 Valid acc: 0.827289\n",
      "Epoch: 16/100 Train loss: 0.392338 Valid loss: 0.394783 Train acc: 0.823860 Valid acc: 0.830547\n",
      "Epoch: 17/100 Train loss: 0.386204 Valid loss: 0.389513 Train acc: 0.827332 Valid acc: 0.833497\n",
      "Epoch: 18/100 Train loss: 0.380342 Valid loss: 0.384680 Train acc: 0.830708 Valid acc: 0.836159\n",
      "Epoch: 19/100 Train loss: 0.375025 Valid loss: 0.380073 Train acc: 0.833853 Valid acc: 0.838684\n",
      "Epoch: 20/100 Train loss: 0.370040 Valid loss: 0.375717 Train acc: 0.836804 Valid acc: 0.841009\n",
      "Epoch: 21/100 Train loss: 0.365033 Valid loss: 0.371608 Train acc: 0.839667 Valid acc: 0.843214\n",
      "Epoch: 22/100 Train loss: 0.360458 Valid loss: 0.367805 Train acc: 0.842178 Valid acc: 0.845246\n",
      "Epoch: 23/100 Train loss: 0.356298 Valid loss: 0.364212 Train acc: 0.844641 Valid acc: 0.847129\n",
      "Epoch: 24/100 Train loss: 0.352123 Valid loss: 0.360733 Train acc: 0.846985 Valid acc: 0.848932\n",
      "Epoch: 25/100 Train loss: 0.348197 Valid loss: 0.357439 Train acc: 0.849114 Valid acc: 0.850624\n",
      "Epoch: 26/100 Train loss: 0.344438 Valid loss: 0.354236 Train acc: 0.851181 Valid acc: 0.852263\n",
      "Epoch: 27/100 Train loss: 0.340779 Valid loss: 0.351200 Train acc: 0.853190 Valid acc: 0.853816\n",
      "Epoch: 28/100 Train loss: 0.337135 Valid loss: 0.348283 Train acc: 0.855063 Valid acc: 0.855300\n",
      "Epoch: 29/100 Train loss: 0.333716 Valid loss: 0.345499 Train acc: 0.856935 Valid acc: 0.856708\n",
      "Epoch: 30/100 Train loss: 0.330518 Valid loss: 0.342821 Train acc: 0.858704 Valid acc: 0.858037\n",
      "Epoch: 31/100 Train loss: 0.327359 Valid loss: 0.340286 Train acc: 0.860405 Valid acc: 0.859293\n",
      "Epoch: 32/100 Train loss: 0.324292 Valid loss: 0.337827 Train acc: 0.862024 Valid acc: 0.860510\n",
      "Epoch: 33/100 Train loss: 0.321217 Valid loss: 0.335468 Train acc: 0.863626 Valid acc: 0.861679\n",
      "Epoch: 34/100 Train loss: 0.318315 Valid loss: 0.333136 Train acc: 0.865125 Valid acc: 0.862807\n",
      "Epoch: 35/100 Train loss: 0.315491 Valid loss: 0.330881 Train acc: 0.866655 Valid acc: 0.863883\n",
      "Epoch: 36/100 Train loss: 0.312750 Valid loss: 0.328696 Train acc: 0.868045 Valid acc: 0.864930\n",
      "Epoch: 37/100 Train loss: 0.310084 Valid loss: 0.326547 Train acc: 0.869389 Valid acc: 0.865943\n",
      "Epoch: 38/100 Train loss: 0.307488 Valid loss: 0.324461 Train acc: 0.870771 Valid acc: 0.866920\n",
      "Epoch: 39/100 Train loss: 0.304923 Valid loss: 0.322442 Train acc: 0.872076 Valid acc: 0.867873\n",
      "Epoch: 40/100 Train loss: 0.302400 Valid loss: 0.320509 Train acc: 0.873402 Valid acc: 0.868787\n",
      "Epoch: 41/100 Train loss: 0.299926 Valid loss: 0.318556 Train acc: 0.874645 Valid acc: 0.869706\n",
      "Epoch: 42/100 Train loss: 0.297540 Valid loss: 0.316722 Train acc: 0.875843 Valid acc: 0.870570\n",
      "Epoch: 43/100 Train loss: 0.295210 Valid loss: 0.314947 Train acc: 0.877028 Valid acc: 0.871409\n",
      "Epoch: 44/100 Train loss: 0.292911 Valid loss: 0.313160 Train acc: 0.878155 Valid acc: 0.872244\n",
      "Epoch: 45/100 Train loss: 0.290700 Valid loss: 0.311431 Train acc: 0.879208 Valid acc: 0.873052\n",
      "Epoch: 46/100 Train loss: 0.288495 Valid loss: 0.309725 Train acc: 0.880335 Valid acc: 0.873845\n",
      "Epoch: 47/100 Train loss: 0.286388 Valid loss: 0.308079 Train acc: 0.881398 Valid acc: 0.874610\n",
      "Epoch: 48/100 Train loss: 0.284289 Valid loss: 0.306434 Train acc: 0.882454 Valid acc: 0.875369\n",
      "Epoch: 49/100 Train loss: 0.282206 Valid loss: 0.304821 Train acc: 0.883489 Valid acc: 0.876111\n",
      "Epoch: 50/100 Train loss: 0.280137 Valid loss: 0.303250 Train acc: 0.884524 Valid acc: 0.876838\n",
      "Epoch: 51/100 Train loss: 0.278037 Valid loss: 0.301718 Train acc: 0.885543 Valid acc: 0.877542\n",
      "Epoch: 52/100 Train loss: 0.276071 Valid loss: 0.300209 Train acc: 0.886498 Valid acc: 0.878233\n",
      "Epoch: 53/100 Train loss: 0.274144 Valid loss: 0.298747 Train acc: 0.887426 Valid acc: 0.878898\n",
      "Epoch: 54/100 Train loss: 0.272259 Valid loss: 0.297278 Train acc: 0.888343 Valid acc: 0.879569\n",
      "Epoch: 55/100 Train loss: 0.270416 Valid loss: 0.295865 Train acc: 0.889233 Valid acc: 0.880213\n",
      "Epoch: 56/100 Train loss: 0.268630 Valid loss: 0.294484 Train acc: 0.890115 Valid acc: 0.880837\n",
      "Epoch: 57/100 Train loss: 0.266808 Valid loss: 0.293115 Train acc: 0.891022 Valid acc: 0.881466\n",
      "Epoch: 58/100 Train loss: 0.264976 Valid loss: 0.291770 Train acc: 0.891926 Valid acc: 0.882081\n",
      "Epoch: 59/100 Train loss: 0.263190 Valid loss: 0.290468 Train acc: 0.892783 Valid acc: 0.882668\n",
      "Epoch: 60/100 Train loss: 0.261466 Valid loss: 0.289189 Train acc: 0.893629 Valid acc: 0.883243\n",
      "Epoch: 61/100 Train loss: 0.259745 Valid loss: 0.287931 Train acc: 0.894470 Valid acc: 0.883809\n",
      "Epoch: 62/100 Train loss: 0.258065 Valid loss: 0.286692 Train acc: 0.895274 Valid acc: 0.884372\n",
      "Epoch: 63/100 Train loss: 0.256418 Valid loss: 0.285493 Train acc: 0.896087 Valid acc: 0.884911\n",
      "Epoch: 64/100 Train loss: 0.254788 Valid loss: 0.284321 Train acc: 0.896882 Valid acc: 0.885443\n",
      "Epoch: 65/100 Train loss: 0.253178 Valid loss: 0.283135 Train acc: 0.897657 Valid acc: 0.885971\n",
      "Epoch: 66/100 Train loss: 0.251568 Valid loss: 0.281975 Train acc: 0.898450 Valid acc: 0.886489\n",
      "Epoch: 67/100 Train loss: 0.249973 Valid loss: 0.280850 Train acc: 0.899210 Valid acc: 0.886993\n",
      "Epoch: 68/100 Train loss: 0.248397 Valid loss: 0.279746 Train acc: 0.899956 Valid acc: 0.887492\n",
      "Epoch: 69/100 Train loss: 0.246962 Valid loss: 0.278687 Train acc: 0.900651 Valid acc: 0.887956\n",
      "Epoch: 70/100 Train loss: 0.245446 Valid loss: 0.277596 Train acc: 0.901358 Valid acc: 0.888432\n",
      "Epoch: 71/100 Train loss: 0.243943 Valid loss: 0.276524 Train acc: 0.902056 Valid acc: 0.888906\n",
      "Epoch: 72/100 Train loss: 0.242499 Valid loss: 0.275497 Train acc: 0.902740 Valid acc: 0.889366\n",
      "Epoch: 73/100 Train loss: 0.241053 Valid loss: 0.274476 Train acc: 0.903442 Valid acc: 0.889824\n",
      "Epoch: 74/100 Train loss: 0.239594 Valid loss: 0.273461 Train acc: 0.904136 Valid acc: 0.890278\n",
      "Epoch: 75/100 Train loss: 0.238155 Valid loss: 0.272478 Train acc: 0.904821 Valid acc: 0.890718\n",
      "Epoch: 76/100 Train loss: 0.236732 Valid loss: 0.271527 Train acc: 0.905491 Valid acc: 0.891143\n",
      "Epoch: 77/100 Train loss: 0.235347 Valid loss: 0.270561 Train acc: 0.906135 Valid acc: 0.891572\n",
      "Epoch: 78/100 Train loss: 0.234006 Valid loss: 0.269615 Train acc: 0.906771 Valid acc: 0.891995\n",
      "Epoch: 79/100 Train loss: 0.232626 Valid loss: 0.268662 Train acc: 0.907434 Valid acc: 0.892417\n",
      "Epoch: 80/100 Train loss: 0.231275 Valid loss: 0.267726 Train acc: 0.908083 Valid acc: 0.892827\n",
      "Epoch: 81/100 Train loss: 0.229956 Valid loss: 0.266829 Train acc: 0.908692 Valid acc: 0.893228\n",
      "Epoch: 82/100 Train loss: 0.228636 Valid loss: 0.265916 Train acc: 0.909332 Valid acc: 0.893636\n",
      "Epoch: 83/100 Train loss: 0.227368 Valid loss: 0.265027 Train acc: 0.909935 Valid acc: 0.894033\n",
      "Epoch: 84/100 Train loss: 0.226097 Valid loss: 0.264132 Train acc: 0.910512 Valid acc: 0.894427\n",
      "Epoch: 85/100 Train loss: 0.224852 Valid loss: 0.263272 Train acc: 0.911103 Valid acc: 0.894810\n",
      "Epoch: 86/100 Train loss: 0.223582 Valid loss: 0.262407 Train acc: 0.911706 Valid acc: 0.895191\n"
     ]
    },
    {
     "name": "stdout",
     "output_type": "stream",
     "text": [
      "Epoch: 87/100 Train loss: 0.222350 Valid loss: 0.261569 Train acc: 0.912294 Valid acc: 0.895564\n",
      "Epoch: 88/100 Train loss: 0.221116 Valid loss: 0.260726 Train acc: 0.912858 Valid acc: 0.895934\n",
      "Epoch: 89/100 Train loss: 0.219898 Valid loss: 0.259893 Train acc: 0.913422 Valid acc: 0.896296\n",
      "Epoch: 90/100 Train loss: 0.218706 Valid loss: 0.259085 Train acc: 0.913973 Valid acc: 0.896657\n",
      "Epoch: 91/100 Train loss: 0.217536 Valid loss: 0.258271 Train acc: 0.914523 Valid acc: 0.897022\n",
      "Epoch: 92/100 Train loss: 0.216371 Valid loss: 0.257489 Train acc: 0.915053 Valid acc: 0.897373\n",
      "Epoch: 93/100 Train loss: 0.215197 Valid loss: 0.256727 Train acc: 0.915605 Valid acc: 0.897718\n",
      "Epoch: 94/100 Train loss: 0.214075 Valid loss: 0.255967 Train acc: 0.916112 Valid acc: 0.898058\n",
      "Epoch: 95/100 Train loss: 0.212933 Valid loss: 0.255218 Train acc: 0.916632 Valid acc: 0.898396\n",
      "Epoch: 96/100 Train loss: 0.211785 Valid loss: 0.254471 Train acc: 0.917152 Valid acc: 0.898730\n",
      "Epoch: 97/100 Train loss: 0.210682 Valid loss: 0.253738 Train acc: 0.917640 Valid acc: 0.899063\n",
      "Epoch: 98/100 Train loss: 0.209598 Valid loss: 0.253030 Train acc: 0.918153 Valid acc: 0.899385\n",
      "Epoch: 99/100 Train loss: 0.208513 Valid loss: 0.252310 Train acc: 0.918660 Valid acc: 0.899710\n",
      "Epoch: 100/100 Train loss: 0.207405 Valid loss: 0.251606 Train acc: 0.919168 Valid acc: 0.900031\n"
     ]
    }
   ],
   "source": [
    "train_acc, train_loss = [], []\n",
    "valid_acc, valid_loss = [], []\n",
    "\n",
    "# Save the training result or trained and validated model params\n",
    "saver = tf.train.Saver()\n",
    "\n",
    "with tf.Session() as sess:\n",
    "    sess.run(tf.global_variables_initializer())\n",
    "   \n",
    "    # Loop over epochs\n",
    "    for e in range(epochs):\n",
    "        \n",
    "        # Loop over batches\n",
    "        for x, y in get_batches(X_train_norm, Y_train_onehot, batch_size):\n",
    "            \n",
    "            ######################## Training\n",
    "            # Feed dictionary\n",
    "            feed = {inputs_ : x, labels_ : y, keep_prob_ : keep_prob, learning_rate_ : learning_rate}\n",
    "            \n",
    "            # Loss\n",
    "            loss, _ , acc = sess.run([cost, optimizer, accuracy], feed_dict = feed)\n",
    "            train_acc.append(acc)\n",
    "            train_loss.append(loss)\n",
    "            \n",
    "            ################## Validation\n",
    "            acc_batch = []\n",
    "            loss_batch = []    \n",
    "            # Loop over batches\n",
    "            for x, y in get_batches(X_valid_norm, Y_valid_onehot, batch_size):\n",
    "\n",
    "                # Feed dictionary\n",
    "                feed = {inputs_ : x, labels_ : y, keep_prob_ : 1.0}\n",
    "\n",
    "                # Loss\n",
    "                loss, acc = sess.run([cost, accuracy], feed_dict = feed)\n",
    "                acc_batch.append(acc)\n",
    "                loss_batch.append(loss)\n",
    "\n",
    "            # Store\n",
    "            valid_acc.append(np.mean(acc_batch))\n",
    "            valid_loss.append(np.mean(loss_batch))\n",
    "            \n",
    "        # Print info for every iter/epoch\n",
    "        print(\"Epoch: {}/{}\".format(e+1, epochs),\n",
    "              \"Train loss: {:6f}\".format(np.mean(train_loss)),\n",
    "              \"Valid loss: {:.6f}\".format(np.mean(valid_loss)),\n",
    "              \"Train acc: {:6f}\".format(np.mean(train_acc)),\n",
    "              \"Valid acc: {:.6f}\".format(np.mean(valid_acc)))\n",
    "                \n",
    "    saver.save(sess,\"checkpoints-dcnn/face-yalda.ckpt\")"
   ]
  },
  {
   "cell_type": "code",
   "execution_count": 19,
   "metadata": {},
   "outputs": [
    {
     "data": {
      "image/png": "[encoded data removed]",
      "text/plain": [
       "<matplotlib.figure.Figure at 0x7fc12a06cf98>"
      ]
     },
     "metadata": {},
     "output_type": "display_data"
    }
   ],
   "source": [
    "import matplotlib.pyplot as mplot\n",
    "\n",
    "mplot.plot(train_loss, label='Face train_loss')\n",
    "mplot.plot(valid_loss, label='Face valid_loss')\n",
    "mplot.legend()\n",
    "mplot.show()"
   ]
  },
  {
   "cell_type": "code",
   "execution_count": 20,
   "metadata": {},
   "outputs": [
    {
     "data": {
      "image/png": "[encoded data removed]",
      "text/plain": [
       "<matplotlib.figure.Figure at 0x7fc129e42b38>"
      ]
     },
     "metadata": {},
     "output_type": "display_data"
    }
   ],
   "source": [
    "# import matplotlib.pyplot as mplot\n",
    "mplot.plot(train_acc, label='Face train_acc')\n",
    "mplot.plot(valid_acc, label='Face valid_acc')\n",
    "mplot.legend()\n",
    "mplot.show()"
   ]
  },
  {
   "cell_type": "code",
   "execution_count": 25,
   "metadata": {},
   "outputs": [
    {
     "name": "stdout",
     "output_type": "stream",
     "text": [
      "INFO:tensorflow:Restoring parameters from dcnn-face-yalda/face-yalda.ckpt\n",
      "Test loss: 3.445528 Test acc: 0.210603\n"
     ]
    }
   ],
   "source": [
    "test_acc, test_loss = [], []\n",
    "\n",
    "with tf.Session() as sess:\n",
    "    # Restore the validated model\n",
    "    saver.restore(sess, tf.train.latest_checkpoint('dcnn-face-yalda/'))\n",
    "    \n",
    "    ################## Test\n",
    "    acc_batch = []\n",
    "    loss_batch = []    \n",
    "    # Loop over batches\n",
    "    for x, y in get_batches(X_test_norm, Y_test_onehot, batch_size):\n",
    "\n",
    "        # Feed dictionary\n",
    "        feed = {inputs_ : x, labels_ : y, keep_prob_ : 1.0}\n",
    "\n",
    "        # Loss\n",
    "        loss, acc = sess.run([cost, accuracy], feed_dict = feed)\n",
    "        acc_batch.append(acc)\n",
    "        loss_batch.append(loss)\n",
    "\n",
    "    # Store\n",
    "    test_acc.append(np.mean(acc_batch))\n",
    "    test_loss.append(np.mean(loss_batch))\n",
    "\n",
    "    # Print info for every iter/epoch\n",
    "    print(\"Test loss: {:6f}\".format(np.mean(test_loss)),\n",
    "          \"Test acc: {:.6f}\".format(np.mean(test_acc)))"
   ]
  },
  {
   "cell_type": "code",
   "execution_count": null,
   "metadata": {},
   "outputs": [],
   "source": []
  }
 ],
 "metadata": {
  "kernelspec": {
   "display_name": "Python 3",
   "language": "python",
   "name": "python3"
  },
  "language_info": {
   "codemirror_mode": {
    "name": "ipython",
    "version": 3
   },
   "file_extension": ".py",
   "mimetype": "text/x-python",
   "name": "python",
   "nbconvert_exporter": "python",
   "pygments_lexer": "ipython3",
   "version": "3.6.3"
  }
 },
 "nbformat": 4,
 "nbformat_minor": 2
}
