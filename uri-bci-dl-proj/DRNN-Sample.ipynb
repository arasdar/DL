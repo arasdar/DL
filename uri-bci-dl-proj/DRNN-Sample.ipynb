{
 "cells": [
  {
   "cell_type": "code",
   "execution_count": 1,
   "metadata": {},
   "outputs": [],
   "source": [
    "import scipy.io as spio\n",
    "import numpy as np"
   ]
  },
  {
   "cell_type": "code",
   "execution_count": 2,
   "metadata": {},
   "outputs": [],
   "source": [
    "X = spio.loadmat(file_name='../data/bci-sample-data/x.mat')"
   ]
  },
  {
   "cell_type": "code",
   "execution_count": 3,
   "metadata": {},
   "outputs": [],
   "source": [
    "Y = spio.loadmat(file_name='../data/bci-sample-data/y.mat')"
   ]
  },
  {
   "cell_type": "code",
   "execution_count": 4,
   "metadata": {},
   "outputs": [],
   "source": [
    "Data = X['Intensification_Data']\n",
    "SType = Y['Intensification_SType'].mean(axis=1)"
   ]
  },
  {
   "cell_type": "code",
   "execution_count": 5,
   "metadata": {},
   "outputs": [
    {
     "data": {
      "text/plain": [
       "((6480, 192, 64), (6480,), dtype('<f8'), dtype('float64'))"
      ]
     },
     "execution_count": 5,
     "metadata": {},
     "output_type": "execute_result"
    }
   ],
   "source": [
    "(Data.shape, SType.shape, Data.dtype, SType.dtype)"
   ]
  },
  {
   "cell_type": "code",
   "execution_count": 6,
   "metadata": {},
   "outputs": [
    {
     "data": {
      "text/plain": [
       "1944"
      ]
     },
     "execution_count": 6,
     "metadata": {},
     "output_type": "execute_result"
    }
   ],
   "source": [
    "# 30 % total data test\n",
    "# 70 % total data train+valid\n",
    "length = int(Data.shape[0] * 0.30)\n",
    "length"
   ]
  },
  {
   "cell_type": "code",
   "execution_count": 7,
   "metadata": {},
   "outputs": [],
   "source": [
    "TrainDataAll = Data[:-length]\n",
    "TestData = Data[-length:]"
   ]
  },
  {
   "cell_type": "code",
   "execution_count": 8,
   "metadata": {},
   "outputs": [
    {
     "data": {
      "text/plain": [
       "((4536, 192, 64), (1944, 192, 64))"
      ]
     },
     "execution_count": 8,
     "metadata": {},
     "output_type": "execute_result"
    }
   ],
   "source": [
    "TrainDataAll.shape, TestData.shape"
   ]
  },
  {
   "cell_type": "code",
   "execution_count": 9,
   "metadata": {},
   "outputs": [
    {
     "data": {
      "text/plain": [
       "1360"
      ]
     },
     "execution_count": 9,
     "metadata": {},
     "output_type": "execute_result"
    }
   ],
   "source": [
    "# 30% total train data is valid\n",
    "# 70% total trainALl is training\n",
    "length2 = int(TrainDataAll.shape[0] * 0.30)\n",
    "length2"
   ]
  },
  {
   "cell_type": "code",
   "execution_count": 10,
   "metadata": {},
   "outputs": [],
   "source": [
    "TrainData = TrainDataAll[:-length2]\n",
    "ValidData = TrainDataAll[-length2:]"
   ]
  },
  {
   "cell_type": "code",
   "execution_count": 11,
   "metadata": {},
   "outputs": [
    {
     "data": {
      "text/plain": [
       "((3176, 192, 64), (1360, 192, 64))"
      ]
     },
     "execution_count": 11,
     "metadata": {},
     "output_type": "execute_result"
    }
   ],
   "source": [
    "TrainData.shape, ValidData.shape"
   ]
  },
  {
   "cell_type": "code",
   "execution_count": 12,
   "metadata": {},
   "outputs": [],
   "source": [
    "# Normalizing input data\n",
    "def normalize(inputs):\n",
    "    return (inputs - inputs.mean(axis=0)[None,:,:]) / inputs.std(axis=0)[None,:,:]\n",
    "\n",
    "# onehot vectorizing output labels\n",
    "def one_hot(labels, n_class):\n",
    "    \"\"\" One-hot encoding \"\"\"\n",
    "    expansion = np.eye(n_class)\n",
    "    y = expansion[:, labels-1].T\n",
    "    assert y.shape[1] == n_class, \"Wrong number of labels!\"\n",
    "\n",
    "    return y\n",
    "\n",
    "# get minibatches for learning\n",
    "def get_batches(X, y, batch_size):\n",
    "    \"\"\" Return a generator for batches \"\"\"\n",
    "    n_batches = len(X) // batch_size\n",
    "    X, y = X[:n_batches*batch_size], y[:n_batches*batch_size]\n",
    "\n",
    "    # Loop over batches and yield\n",
    "    for b in range(0, len(X), batch_size):\n",
    "        yield X[b:b+batch_size], y[b:b+batch_size]"
   ]
  },
  {
   "cell_type": "code",
   "execution_count": 13,
   "metadata": {},
   "outputs": [],
   "source": [
    "# Standardize/normalize train and test\n",
    "X_train_norm = normalize(inputs=TrainData)\n",
    "X_valid_norm = normalize(inputs=ValidData)\n",
    "X_test_norm = normalize(inputs=TestData)"
   ]
  },
  {
   "cell_type": "code",
   "execution_count": 14,
   "metadata": {},
   "outputs": [
    {
     "data": {
      "text/plain": [
       "((3176, 192, 64),\n",
       " dtype('<f8'),\n",
       " (1360, 192, 64),\n",
       " dtype('<f8'),\n",
       " (1944, 192, 64),\n",
       " dtype('<f8'))"
      ]
     },
     "execution_count": 14,
     "metadata": {},
     "output_type": "execute_result"
    }
   ],
   "source": [
    "(X_train_norm.shape, X_train_norm.dtype, \n",
    "X_valid_norm.shape, X_valid_norm.dtype,\n",
    "X_test_norm.shape, X_test_norm.dtype)"
   ]
  },
  {
   "cell_type": "code",
   "execution_count": 15,
   "metadata": {},
   "outputs": [],
   "source": [
    "LabelsAll = SType[:]\n",
    "TrainLabelsAll = SType[:-length]\n",
    "TestLabels = SType[-length:]"
   ]
  },
  {
   "cell_type": "code",
   "execution_count": 16,
   "metadata": {},
   "outputs": [
    {
     "data": {
      "text/plain": [
       "((6480,), (4536,), (1944,))"
      ]
     },
     "execution_count": 16,
     "metadata": {},
     "output_type": "execute_result"
    }
   ],
   "source": [
    "LabelsAll.shape, TrainLabelsAll.shape, TestLabels.shape"
   ]
  },
  {
   "cell_type": "code",
   "execution_count": 17,
   "metadata": {},
   "outputs": [],
   "source": [
    "TrainLabels = TrainLabelsAll[:-length2]\n",
    "ValidLabels = TrainLabelsAll[-length2:]"
   ]
  },
  {
   "cell_type": "code",
   "execution_count": 18,
   "metadata": {},
   "outputs": [
    {
     "data": {
      "text/plain": [
       "((3176,), (1360,))"
      ]
     },
     "execution_count": 18,
     "metadata": {},
     "output_type": "execute_result"
    }
   ],
   "source": [
    "TrainLabels.shape, ValidLabels.shape"
   ]
  },
  {
   "cell_type": "code",
   "execution_count": 19,
   "metadata": {},
   "outputs": [],
   "source": [
    "Y_train = np.array(TrainLabels, dtype=int)\n",
    "Y_valid = np.array(ValidLabels, dtype=int)\n",
    "Y_test = np.array(TestLabels, dtype=int)"
   ]
  },
  {
   "cell_type": "code",
   "execution_count": 20,
   "metadata": {},
   "outputs": [
    {
     "data": {
      "text/plain": [
       "((3176,), dtype('int64'), (1944,), dtype('int64'), (1360,), dtype('int64'))"
      ]
     },
     "execution_count": 20,
     "metadata": {},
     "output_type": "execute_result"
    }
   ],
   "source": [
    "(Y_train.shape, Y_train.dtype, \n",
    "Y_test.shape, Y_test.dtype,\n",
    "Y_valid.shape, Y_valid.dtype)"
   ]
  },
  {
   "cell_type": "markdown",
   "metadata": {},
   "source": [
    "### Hyperparameters"
   ]
  },
  {
   "cell_type": "code",
   "execution_count": 21,
   "metadata": {},
   "outputs": [],
   "source": [
    "# CNN hyper parameters\n",
    "# Input data\n",
    "batch_size = X_train_norm.shape[0]// 100 # minibatch size & number of minibatches\n",
    "seq_len = X_train_norm.shape[1] # Number of steps: each trial length\n",
    "n_channels = X_train_norm.shape[2] # number of channels in each trial\n",
    "\n",
    "# Output labels\n",
    "n_classes = int(LabelsAll.max() + 1)\n",
    "\n",
    "# Tweekable parameters\n",
    "learning_rate = 0.001 #1e-3\n",
    "epochs = 1 # num iterations for updating model\n",
    "keep_prob = 0.50 # 90% neurons are kept and 10% are dropped out"
   ]
  },
  {
   "cell_type": "code",
   "execution_count": 22,
   "metadata": {},
   "outputs": [],
   "source": [
    "Y_train_onehot = one_hot(labels=Y_train, n_class=n_classes)\n",
    "Y_valid_onehot = one_hot(labels=Y_valid, n_class=n_classes)\n",
    "Y_test_onehot = one_hot(labels=Y_test, n_class=n_classes)"
   ]
  },
  {
   "cell_type": "code",
   "execution_count": 23,
   "metadata": {},
   "outputs": [
    {
     "data": {
      "text/plain": [
       "((3176, 2),\n",
       " (1360, 2),\n",
       " (1944, 2),\n",
       " (3176, 192, 64),\n",
       " (1360, 192, 64),\n",
       " (1944, 192, 64))"
      ]
     },
     "execution_count": 23,
     "metadata": {},
     "output_type": "execute_result"
    }
   ],
   "source": [
    "(Y_train_onehot.shape, Y_valid_onehot.shape, Y_test_onehot.shape,\n",
    " X_train_norm.shape, X_valid_norm.shape, X_test_norm.shape)"
   ]
  },
  {
   "cell_type": "markdown",
   "metadata": {},
   "source": [
    "# GPUs availability or CPU"
   ]
  },
  {
   "cell_type": "code",
   "execution_count": 24,
   "metadata": {},
   "outputs": [
    {
     "name": "stdout",
     "output_type": "stream",
     "text": [
      "TensorFlow Version: 1.3.0\n",
      "Default GPU Device: /gpu:0\n"
     ]
    }
   ],
   "source": [
    "\"\"\"\n",
    "DON'T MODIFY ANYTHING IN THIS CELL\n",
    "\"\"\"\n",
    "from distutils.version import LooseVersion\n",
    "import warnings\n",
    "import tensorflow as tf\n",
    "\n",
    "# Check TensorFlow Version\n",
    "assert LooseVersion(tf.__version__) >= LooseVersion('1.0'), 'Please use TensorFlow version 1.0 or newer.  You are using {}'.format(tf.__version__)\n",
    "print('TensorFlow Version: {}'.format(tf.__version__))\n",
    "\n",
    "# Check for a GPU\n",
    "if not tf.test.gpu_device_name():\n",
    "    warnings.warn('No GPU found. Please use a GPU to train your neural network.')\n",
    "else:\n",
    "    print('Default GPU Device: {}'.format(tf.test.gpu_device_name()))"
   ]
  },
  {
   "cell_type": "code",
   "execution_count": 25,
   "metadata": {},
   "outputs": [],
   "source": [
    "#  No graphs is needed on tensorflow\n",
    "inputs_ = tf.placeholder(tf.float32, [None, seq_len, n_channels], name = 'inputs_')\n",
    "labels_ = tf.placeholder(tf.float32, [None, n_classes], name = 'labels_')\n",
    "keep_prob_ = tf.placeholder(tf.float32, name = 'keep_prob_')\n",
    "learning_rate_ = tf.placeholder(tf.float32, name = 'learning_rate_')"
   ]
  },
  {
   "cell_type": "code",
   "execution_count": 26,
   "metadata": {},
   "outputs": [
    {
     "name": "stdout",
     "output_type": "stream",
     "text": [
      "(?, 192, 64)\n",
      "(192, ?, 64)\n",
      "(?, 64)\n",
      "192\n",
      "(?, 192)\n",
      "192\n"
     ]
    }
   ],
   "source": [
    "# Construct the LSTM inputs and LSTM cells\n",
    "#  This functions very similar to embedding\n",
    "print(inputs_.shape)\n",
    "lstm_in = tf.transpose(inputs_, [1,0,2]) # reshape into (seq_len, N, channels)\n",
    "print(lstm_in.shape)\n",
    "lstm_in = tf.reshape(lstm_in, [-1, n_channels]) # Now (seq_len*N, n_channels)\n",
    "print(lstm_in.shape)\n",
    "\n",
    "# To cells\n",
    "lstm_size = n_channels*3         # 3 times the amount of channels\n",
    "print(lstm_size)\n",
    "lstm_layers = 1        # Number of layers\n",
    "lstm_in = tf.layers.dense(lstm_in, lstm_size, activation=None) # or tf.nn.relu, tf.nn.sigmoid, tf.nn.tanh?\n",
    "print(lstm_in.shape)\n",
    "\n",
    "# Open up the tensor into a list of seq_len pieces\n",
    "lstm_in = tf.split(lstm_in, seq_len, 0)\n",
    "print(len(lstm_in))"
   ]
  },
  {
   "cell_type": "code",
   "execution_count": 31,
   "metadata": {},
   "outputs": [
    {
     "name": "stdout",
     "output_type": "stream",
     "text": [
      "<tensorflow.python.ops.rnn_cell_impl.BasicLSTMCell object at 0x7fbb1630dac8>\n",
      "<tensorflow.python.ops.rnn_cell_impl.DropoutWrapper object at 0x7fbb1630db00>\n",
      "<tensorflow.python.ops.rnn_cell_impl.MultiRNNCell object at 0x7fbb100fb7f0>\n",
      "(LSTMStateTuple(c=<tf.Tensor 'MultiRNNCellZeroState/DropoutWrapperZeroState/BasicLSTMCellZeroState/zeros:0' shape=(31, 192) dtype=float32>, h=<tf.Tensor 'MultiRNNCellZeroState/DropoutWrapperZeroState/BasicLSTMCellZeroState/zeros_1:0' shape=(31, 192) dtype=float32>),)\n"
     ]
    }
   ],
   "source": [
    "# Add LSTM layers\n",
    "# lstm = tf.contrib.rnn.BasicLSTMCell(lstm_size)\n",
    "lstm = tf.nn.rnn_cell.BasicLSTMCell(lstm_size)\n",
    "print(lstm)\n",
    "# drop = tf.contrib.rnn.DropoutWrapper(lstm, output_keep_prob=keep_prob_)\n",
    "drop = tf.nn.rnn_cell.DropoutWrapper(lstm, output_keep_prob=keep_prob_)\n",
    "print(drop)\n",
    "# cell = tf.contrib.rnn.MultiRNNCell([drop] * lstm_layers)\n",
    "cell = tf.nn.rnn_cell.MultiRNNCell([drop] * lstm_layers)\n",
    "print(cell)\n",
    "initial_state = cell.zero_state(batch_size, tf.float32)\n",
    "print(initial_state)"
   ]
  },
  {
   "cell_type": "code",
   "execution_count": 32,
   "metadata": {},
   "outputs": [],
   "source": [
    "# Reuse should be activated\n",
    "#  NOTE: should be run ONCE\n",
    "# Remember the inputs are usually embedded input or texts\n",
    "# outputs, final_state = tf.contrib.rnn.static_rnn(cell=cell, inputs=lstm_in, dtype=tf.float32, \n",
    "#                                                  initial_state = initial_state)\n",
    "outputs, final_state = tf.nn.static_rnn(cell=cell, inputs=lstm_in, dtype=tf.float32,\n",
    "                                        initial_state = initial_state)\n",
    "# outputs, final_state = tf.nn.dynamic_rnn(cell, lstm_in, dtype=tf.float32, \n",
    "#                                          initial_state=initial_state)# print(outputs, final_state)"
   ]
  },
  {
   "cell_type": "code",
   "execution_count": 33,
   "metadata": {},
   "outputs": [
    {
     "name": "stdout",
     "output_type": "stream",
     "text": [
      "Tensor(\"logits/BiasAdd:0\", shape=(31, 2), dtype=float32) Tensor(\"rnn/rnn/multi_rnn_cell/cell_0_191/dropout/mul:0\", shape=(31, 192), dtype=float32)\n"
     ]
    }
   ],
   "source": [
    "# We only need the last output tensor to pass into a classifier\n",
    "logits = tf.layers.dense(outputs[-1], n_classes, name='logits')\n",
    "print(logits, outputs[-1])"
   ]
  },
  {
   "cell_type": "code",
   "execution_count": 34,
   "metadata": {},
   "outputs": [],
   "source": [
    "# Cost function\n",
    "cost_tensor = tf.nn.softmax_cross_entropy_with_logits(logits=logits, labels=labels_)\n",
    "cost = tf.reduce_mean(input_tensor=cost_tensor)\n",
    "\n",
    "# Optimizer\n",
    "optimizer = tf.train.AdamOptimizer(learning_rate=learning_rate_).minimize(cost)\n",
    "\n",
    "# Accuracy\n",
    "correct_pred = tf.equal(tf.argmax(logits, 1), tf.argmax(labels_, 1))\n",
    "accuracy = tf.reduce_mean(tf.cast(correct_pred, tf.float32), name='accuracy')"
   ]
  },
  {
   "cell_type": "markdown",
   "metadata": {},
   "source": [
    "### Train the network"
   ]
  },
  {
   "cell_type": "code",
   "execution_count": 35,
   "metadata": {},
   "outputs": [
    {
     "name": "stdout",
     "output_type": "stream",
     "text": [
      "Epoch: 1/1 Train loss: 0.601384 Valid loss: 0.784733 Train acc: 0.612903 Valid acc: 0.519130\n",
      "Epoch: 1/1 Train loss: 0.626671 Valid loss: 0.775059 Train acc: 0.774194 Valid acc: 0.522881\n",
      "Epoch: 1/1 Train loss: 0.735897 Valid loss: 0.756125 Train acc: 0.806452 Valid acc: 0.529632\n",
      "Epoch: 1/1 Train loss: 0.503708 Valid loss: 0.741739 Train acc: 0.838710 Valid acc: 0.536197\n",
      "Epoch: 1/1 Train loss: 0.579315 Valid loss: 0.729994 Train acc: 0.806452 Valid acc: 0.540885\n",
      "Epoch: 1/1 Train loss: 0.537065 Valid loss: 0.712475 Train acc: 0.774194 Valid acc: 0.557264\n",
      "Epoch: 1/1 Train loss: 0.560465 Valid loss: 0.694979 Train acc: 0.741935 Valid acc: 0.578395\n",
      "Epoch: 1/1 Train loss: 0.541066 Valid loss: 0.679853 Train acc: 0.741935 Valid acc: 0.596774\n",
      "Epoch: 1/1 Train loss: 0.590410 Valid loss: 0.667333 Train acc: 0.741935 Valid acc: 0.612236\n",
      "Epoch: 1/1 Train loss: 0.517146 Valid loss: 0.656910 Train acc: 0.806452 Valid acc: 0.624981\n",
      "Epoch: 1/1 Train loss: 0.452139 Valid loss: 0.648302 Train acc: 0.806452 Valid acc: 0.635136\n",
      "Epoch: 1/1 Train loss: 0.462352 Valid loss: 0.641391 Train acc: 0.806452 Valid acc: 0.643598\n",
      "Epoch: 1/1 Train loss: 0.571202 Valid loss: 0.635703 Train acc: 0.677419 Valid acc: 0.650759\n",
      "Epoch: 1/1 Train loss: 0.607305 Valid loss: 0.630330 Train acc: 0.806452 Valid acc: 0.656950\n",
      "Epoch: 1/1 Train loss: 0.402617 Valid loss: 0.625205 Train acc: 0.838710 Valid acc: 0.662616\n",
      "Epoch: 1/1 Train loss: 0.484860 Valid loss: 0.620261 Train acc: 0.806452 Valid acc: 0.667948\n",
      "Epoch: 1/1 Train loss: 0.516273 Valid loss: 0.615406 Train acc: 0.774194 Valid acc: 0.673271\n",
      "Epoch: 1/1 Train loss: 0.755353 Valid loss: 0.610694 Train acc: 0.548387 Valid acc: 0.678461\n",
      "Epoch: 1/1 Train loss: 0.482772 Valid loss: 0.606180 Train acc: 0.806452 Valid acc: 0.683658\n",
      "Epoch: 1/1 Train loss: 0.410942 Valid loss: 0.601999 Train acc: 0.838710 Valid acc: 0.688747\n",
      "Epoch: 1/1 Train loss: 0.529776 Valid loss: 0.598144 Train acc: 0.838710 Valid acc: 0.693602\n",
      "Epoch: 1/1 Train loss: 0.468017 Valid loss: 0.594580 Train acc: 0.838710 Valid acc: 0.698015\n",
      "Epoch: 1/1 Train loss: 0.519390 Valid loss: 0.591346 Train acc: 0.838710 Valid acc: 0.702045\n",
      "Epoch: 1/1 Train loss: 0.494492 Valid loss: 0.588417 Train acc: 0.870968 Valid acc: 0.705801\n",
      "Epoch: 1/1 Train loss: 0.553502 Valid loss: 0.585628 Train acc: 0.774194 Valid acc: 0.709527\n",
      "Epoch: 1/1 Train loss: 0.641963 Valid loss: 0.582790 Train acc: 0.709677 Valid acc: 0.713111\n",
      "Epoch: 1/1 Train loss: 0.508042 Valid loss: 0.579894 Train acc: 0.741935 Valid acc: 0.716762\n",
      "Epoch: 1/1 Train loss: 0.584525 Valid loss: 0.577031 Train acc: 0.741935 Valid acc: 0.720475\n",
      "Epoch: 1/1 Train loss: 0.515586 Valid loss: 0.574257 Train acc: 0.741935 Valid acc: 0.724086\n",
      "Epoch: 1/1 Train loss: 0.627297 Valid loss: 0.571576 Train acc: 0.741935 Valid acc: 0.727482\n",
      "Epoch: 1/1 Train loss: 0.568514 Valid loss: 0.568996 Train acc: 0.838710 Valid acc: 0.730755\n",
      "Epoch: 1/1 Train loss: 0.460321 Valid loss: 0.566539 Train acc: 0.838710 Valid acc: 0.733871\n",
      "Epoch: 1/1 Train loss: 0.510550 Valid loss: 0.564192 Train acc: 0.806452 Valid acc: 0.736798\n",
      "Epoch: 1/1 Train loss: 0.523500 Valid loss: 0.561985 Train acc: 0.838710 Valid acc: 0.739597\n",
      "Epoch: 1/1 Train loss: 0.659802 Valid loss: 0.559799 Train acc: 0.806452 Valid acc: 0.742236\n",
      "Epoch: 1/1 Train loss: 0.433868 Valid loss: 0.557643 Train acc: 0.806452 Valid acc: 0.744749\n",
      "Epoch: 1/1 Train loss: 0.496663 Valid loss: 0.555542 Train acc: 0.806452 Valid acc: 0.747126\n",
      "Epoch: 1/1 Train loss: 0.521474 Valid loss: 0.553532 Train acc: 0.741935 Valid acc: 0.749398\n",
      "Epoch: 1/1 Train loss: 0.681456 Valid loss: 0.551541 Train acc: 0.774194 Valid acc: 0.751553\n",
      "Epoch: 1/1 Train loss: 0.485270 Valid loss: 0.549652 Train acc: 0.838710 Valid acc: 0.753601\n",
      "Epoch: 1/1 Train loss: 0.520653 Valid loss: 0.547910 Train acc: 0.806452 Valid acc: 0.755549\n",
      "Epoch: 1/1 Train loss: 0.504840 Valid loss: 0.546296 Train acc: 0.806452 Valid acc: 0.757421\n",
      "Epoch: 1/1 Train loss: 0.371907 Valid loss: 0.544800 Train acc: 0.870968 Valid acc: 0.759207\n",
      "Epoch: 1/1 Train loss: 0.558956 Valid loss: 0.543400 Train acc: 0.774194 Valid acc: 0.760912\n",
      "Epoch: 1/1 Train loss: 0.410207 Valid loss: 0.542077 Train acc: 0.870968 Valid acc: 0.762541\n",
      "Epoch: 1/1 Train loss: 0.593259 Valid loss: 0.540802 Train acc: 0.806452 Valid acc: 0.764099\n",
      "Epoch: 1/1 Train loss: 0.697994 Valid loss: 0.539448 Train acc: 0.806452 Valid acc: 0.765574\n",
      "Epoch: 1/1 Train loss: 0.422952 Valid loss: 0.538053 Train acc: 0.870968 Valid acc: 0.766989\n",
      "Epoch: 1/1 Train loss: 0.460492 Valid loss: 0.536602 Train acc: 0.838710 Valid acc: 0.768345\n",
      "Epoch: 1/1 Train loss: 0.493456 Valid loss: 0.535116 Train acc: 0.838710 Valid acc: 0.769647\n",
      "Epoch: 1/1 Train loss: 0.488962 Valid loss: 0.533626 Train acc: 0.806452 Valid acc: 0.770899\n",
      "Epoch: 1/1 Train loss: 0.487895 Valid loss: 0.532157 Train acc: 0.838710 Valid acc: 0.772102\n",
      "Epoch: 1/1 Train loss: 0.444715 Valid loss: 0.530746 Train acc: 0.870968 Valid acc: 0.773259\n",
      "Epoch: 1/1 Train loss: 0.515108 Valid loss: 0.529410 Train acc: 0.806452 Valid acc: 0.774374\n",
      "Epoch: 1/1 Train loss: 0.485822 Valid loss: 0.528175 Train acc: 0.838710 Valid acc: 0.775448\n",
      "Epoch: 1/1 Train loss: 0.493390 Valid loss: 0.527030 Train acc: 0.838710 Valid acc: 0.776484\n",
      "Epoch: 1/1 Train loss: 0.537342 Valid loss: 0.525973 Train acc: 0.774194 Valid acc: 0.777484\n",
      "Epoch: 1/1 Train loss: 0.473054 Valid loss: 0.525005 Train acc: 0.806452 Valid acc: 0.778462\n",
      "Epoch: 1/1 Train loss: 0.434987 Valid loss: 0.524092 Train acc: 0.806452 Valid acc: 0.779407\n",
      "Epoch: 1/1 Train loss: 0.542074 Valid loss: 0.523206 Train acc: 0.741935 Valid acc: 0.780308\n",
      "Epoch: 1/1 Train loss: 0.487400 Valid loss: 0.522357 Train acc: 0.774194 Valid acc: 0.781179\n",
      "Epoch: 1/1 Train loss: 0.456442 Valid loss: 0.521551 Train acc: 0.870968 Valid acc: 0.782022\n",
      "Epoch: 1/1 Train loss: 0.458493 Valid loss: 0.520800 Train acc: 0.806452 Valid acc: 0.782839\n",
      "Epoch: 1/1 Train loss: 0.401542 Valid loss: 0.520124 Train acc: 0.870968 Valid acc: 0.783629\n",
      "Epoch: 1/1 Train loss: 0.591987 Valid loss: 0.519472 Train acc: 0.806452 Valid acc: 0.784396\n",
      "Epoch: 1/1 Train loss: 0.437245 Valid loss: 0.518834 Train acc: 0.838710 Valid acc: 0.785139\n",
      "Epoch: 1/1 Train loss: 0.466448 Valid loss: 0.518213 Train acc: 0.806452 Valid acc: 0.785861\n",
      "Epoch: 1/1 Train loss: 0.396619 Valid loss: 0.517610 Train acc: 0.870968 Valid acc: 0.786561\n",
      "Epoch: 1/1 Train loss: 0.411928 Valid loss: 0.517043 Train acc: 0.806452 Valid acc: 0.787240\n",
      "Epoch: 1/1 Train loss: 0.593203 Valid loss: 0.516487 Train acc: 0.806452 Valid acc: 0.787901\n",
      "Epoch: 1/1 Train loss: 0.443962 Valid loss: 0.515941 Train acc: 0.838710 Valid acc: 0.788542\n",
      "Epoch: 1/1 Train loss: 0.566193 Valid loss: 0.515404 Train acc: 0.838710 Valid acc: 0.789166\n",
      "Epoch: 1/1 Train loss: 0.523353 Valid loss: 0.514865 Train acc: 0.838710 Valid acc: 0.789773\n",
      "Epoch: 1/1 Train loss: 0.529893 Valid loss: 0.514292 Train acc: 0.806452 Valid acc: 0.790363\n",
      "Epoch: 1/1 Train loss: 0.434756 Valid loss: 0.513681 Train acc: 0.870968 Valid acc: 0.790938\n",
      "Epoch: 1/1 Train loss: 0.426756 Valid loss: 0.513030 Train acc: 0.838710 Valid acc: 0.791497\n",
      "Epoch: 1/1 Train loss: 0.556973 Valid loss: 0.512358 Train acc: 0.806452 Valid acc: 0.792042\n",
      "Epoch: 1/1 Train loss: 0.509305 Valid loss: 0.511693 Train acc: 0.838710 Valid acc: 0.792573\n",
      "Epoch: 1/1 Train loss: 0.564242 Valid loss: 0.511048 Train acc: 0.806452 Valid acc: 0.793091\n",
      "Epoch: 1/1 Train loss: 0.538131 Valid loss: 0.510408 Train acc: 0.774194 Valid acc: 0.793595\n",
      "Epoch: 1/1 Train loss: 0.459284 Valid loss: 0.509771 Train acc: 0.838710 Valid acc: 0.794087\n",
      "Epoch: 1/1 Train loss: 0.518716 Valid loss: 0.509144 Train acc: 0.774194 Valid acc: 0.794568\n",
      "Epoch: 1/1 Train loss: 0.464953 Valid loss: 0.508540 Train acc: 0.838710 Valid acc: 0.795036\n",
      "Epoch: 1/1 Train loss: 0.457738 Valid loss: 0.507968 Train acc: 0.838710 Valid acc: 0.795494\n",
      "Epoch: 1/1 Train loss: 0.416018 Valid loss: 0.507429 Train acc: 0.774194 Valid acc: 0.795940\n",
      "Epoch: 1/1 Train loss: 0.543889 Valid loss: 0.506907 Train acc: 0.838710 Valid acc: 0.796376\n",
      "Epoch: 1/1 Train loss: 0.501941 Valid loss: 0.506408 Train acc: 0.774194 Valid acc: 0.796803\n",
      "Epoch: 1/1 Train loss: 0.516462 Valid loss: 0.505925 Train acc: 0.806452 Valid acc: 0.797219\n",
      "Epoch: 1/1 Train loss: 0.433414 Valid loss: 0.505461 Train acc: 0.870968 Valid acc: 0.797626\n"
     ]
    },
    {
     "name": "stdout",
     "output_type": "stream",
     "text": [
      "Epoch: 1/1 Train loss: 0.494030 Valid loss: 0.504997 Train acc: 0.806452 Valid acc: 0.798024\n",
      "Epoch: 1/1 Train loss: 0.491301 Valid loss: 0.504535 Train acc: 0.838710 Valid acc: 0.798414\n",
      "Epoch: 1/1 Train loss: 0.468761 Valid loss: 0.504074 Train acc: 0.806452 Valid acc: 0.798795\n",
      "Epoch: 1/1 Train loss: 0.545914 Valid loss: 0.503613 Train acc: 0.806452 Valid acc: 0.799168\n",
      "Epoch: 1/1 Train loss: 0.366506 Valid loss: 0.503156 Train acc: 0.870968 Valid acc: 0.799532\n",
      "Epoch: 1/1 Train loss: 0.473320 Valid loss: 0.502712 Train acc: 0.806452 Valid acc: 0.799889\n",
      "Epoch: 1/1 Train loss: 0.496860 Valid loss: 0.502280 Train acc: 0.806452 Valid acc: 0.800239\n",
      "Epoch: 1/1 Train loss: 0.501347 Valid loss: 0.501859 Train acc: 0.838710 Valid acc: 0.800582\n",
      "Epoch: 1/1 Train loss: 0.406609 Valid loss: 0.501447 Train acc: 0.838710 Valid acc: 0.800917\n",
      "Epoch: 1/1 Train loss: 0.563309 Valid loss: 0.501038 Train acc: 0.806452 Valid acc: 0.801246\n",
      "Epoch: 1/1 Train loss: 0.457818 Valid loss: 0.500632 Train acc: 0.806452 Valid acc: 0.801568\n",
      "Epoch: 1/1 Train loss: 0.544266 Valid loss: 0.500225 Train acc: 0.838710 Valid acc: 0.801884\n",
      "Epoch: 1/1 Train loss: 0.549088 Valid loss: 0.499816 Train acc: 0.838710 Valid acc: 0.802193\n",
      "Epoch: 1/1 Test loss: 0.454925 Test acc: 0.832987\n"
     ]
    }
   ],
   "source": [
    "# Plotting the acc and loss curve\n",
    "train_acc = []\n",
    "train_loss = []\n",
    "\n",
    "valid_acc = []\n",
    "valid_loss = []\n",
    "\n",
    "with tf.Session() as sess:\n",
    "    # initalize session global variables just in the case they are initialized.\n",
    "    sess.run(tf.global_variables_initializer())\n",
    "    \n",
    "    for e in range(epochs):\n",
    "        # Initialize \n",
    "        state = sess.run(initial_state)\n",
    "        \n",
    "        # Loop over batches\n",
    "        for x, y in get_batches(X_train_norm, Y_train_onehot, batch_size):\n",
    "            \n",
    "            # Feed dictionary\n",
    "            feed = {inputs_:x, labels_:y, keep_prob_: keep_prob, initial_state:state, \n",
    "                    learning_rate_:learning_rate}\n",
    "            loss, _ , state, acc = sess.run([cost, optimizer, final_state, accuracy], feed_dict = feed)\n",
    "            \n",
    "            train_acc.append(acc)\n",
    "            train_loss.append(loss)\n",
    "            \n",
    "            ################################ Validation\n",
    "            # Initialize \n",
    "            state_v = sess.run(cell.zero_state(batch_size, tf.float32))\n",
    "            loss_v_batch, acc_v_batch = [], []\n",
    "\n",
    "            # Loop over batches\n",
    "            for x_v, y_v in get_batches(X_valid_norm, Y_valid_onehot, batch_size):\n",
    "\n",
    "                # Feed dictionary\n",
    "                feed = {inputs_:x_v, labels_:y_v, keep_prob_: 1.0, initial_state:state_v}\n",
    "                loss_v, state_v, acc_v = sess.run([cost, final_state, accuracy], feed_dict = feed)\n",
    "                \n",
    "                acc_v_batch.append(acc_v)\n",
    "                loss_v_batch.append(loss_v)\n",
    "                \n",
    "            valid_acc.append(np.mean(acc_v_batch))\n",
    "            valid_loss.append(np.mean(loss_v_batch))\n",
    "            \n",
    "            # Print info\n",
    "            print(\"Epoch: {}/{}\".format(e+1, epochs),\n",
    "                  \"Train loss: {:6f}\".format(loss),\n",
    "                  \"Valid loss: {:.6f}\".format(np.mean(valid_loss)),\n",
    "                  \"Train acc: {:6f}\".format(acc),\n",
    "                  \"Valid acc: {:.6f}\".format(np.mean(valid_acc)))\n",
    "            \n",
    "    ################################ Test\n",
    "    # Initialize \n",
    "    state = sess.run(initial_state)\n",
    "    acc_batch, loss_batch = [], []\n",
    "\n",
    "    # Loop over batches\n",
    "    for x, y in get_batches(X_test_norm, Y_test_onehot, batch_size):\n",
    "\n",
    "        # Feed dictionary\n",
    "        feed = {inputs_:x, labels_:y, keep_prob_:1.0, initial_state:state}\n",
    "        loss, state, acc = sess.run([cost, final_state, accuracy], feed_dict = feed)\n",
    "\n",
    "        acc_batch.append(acc)\n",
    "        loss_batch.append(loss)\n",
    "\n",
    "    # Print info\n",
    "    print(\"Epoch: {}/{}\".format(e+1, epochs),\n",
    "          \"Test loss: {:6f}\".format(np.mean(loss_batch)),\n",
    "          \"Test acc: {:6f}\".format(np.mean(acc_batch)))"
   ]
  },
  {
   "cell_type": "code",
   "execution_count": 36,
   "metadata": {},
   "outputs": [
    {
     "data": {
      "image/png": "[encoded data removed]",
      "text/plain": [
       "<matplotlib.figure.Figure at 0x7fba19e78630>"
      ]
     },
     "metadata": {},
     "output_type": "display_data"
    }
   ],
   "source": [
    "import matplotlib.pyplot as mplot\n",
    "\n",
    "mplot.plot(train_loss, label='train_losses')\n",
    "mplot.plot(valid_loss, label='valid_losses')\n",
    "mplot.legend()\n",
    "mplot.show()"
   ]
  },
  {
   "cell_type": "code",
   "execution_count": 37,
   "metadata": {},
   "outputs": [
    {
     "data": {
      "image/png": "[encoded data removed]",
      "text/plain": [
       "<matplotlib.figure.Figure at 0x7fbbc59710f0>"
      ]
     },
     "metadata": {},
     "output_type": "display_data"
    }
   ],
   "source": [
    "# import matplotlib.pyplot as mplot\n",
    "\n",
    "mplot.plot(train_acc, label='train_acc_list')\n",
    "mplot.plot(valid_acc, label='valid_acc_list')\n",
    "mplot.legend()\n",
    "mplot.show()"
   ]
  },
  {
   "cell_type": "code",
   "execution_count": null,
   "metadata": {},
   "outputs": [],
   "source": []
  }
 ],
 "metadata": {
  "kernelspec": {
   "display_name": "Python 3",
   "language": "python",
   "name": "python3"
  },
  "language_info": {
   "codemirror_mode": {
    "name": "ipython",
    "version": 3
   },
   "file_extension": ".py",
   "mimetype": "text/x-python",
   "name": "python",
   "nbconvert_exporter": "python",
   "pygments_lexer": "ipython3",
   "version": "3.6.3"
  }
 },
 "nbformat": 4,
 "nbformat_minor": 2
}
