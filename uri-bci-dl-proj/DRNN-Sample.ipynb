{
 "cells": [
  {
   "cell_type": "code",
   "execution_count": 1,
   "metadata": {},
   "outputs": [],
   "source": [
    "import scipy.io as spio\n",
    "import numpy as np"
   ]
  },
  {
   "cell_type": "code",
   "execution_count": 2,
   "metadata": {},
   "outputs": [],
   "source": [
    "X = spio.loadmat(file_name='../data/bci-sample-data/x.mat')"
   ]
  },
  {
   "cell_type": "code",
   "execution_count": 3,
   "metadata": {},
   "outputs": [],
   "source": [
    "Y = spio.loadmat(file_name='../data/bci-sample-data/y.mat')"
   ]
  },
  {
   "cell_type": "code",
   "execution_count": 4,
   "metadata": {},
   "outputs": [],
   "source": [
    "Data = X['Intensification_Data']\n",
    "SType = Y['Intensification_SType'].mean(axis=1)"
   ]
  },
  {
   "cell_type": "code",
   "execution_count": 5,
   "metadata": {},
   "outputs": [
    {
     "data": {
      "text/plain": [
       "((6480, 192, 64), (6480,), dtype('<f8'), dtype('float64'))"
      ]
     },
     "execution_count": 5,
     "metadata": {},
     "output_type": "execute_result"
    }
   ],
   "source": [
    "(Data.shape, SType.shape, Data.dtype, SType.dtype)"
   ]
  },
  {
   "cell_type": "code",
   "execution_count": 6,
   "metadata": {},
   "outputs": [
    {
     "data": {
      "text/plain": [
       "1944"
      ]
     },
     "execution_count": 6,
     "metadata": {},
     "output_type": "execute_result"
    }
   ],
   "source": [
    "# 30 % total data test\n",
    "# 70 % total data train+valid\n",
    "length = int(Data.shape[0] * 0.30)\n",
    "length"
   ]
  },
  {
   "cell_type": "code",
   "execution_count": 7,
   "metadata": {},
   "outputs": [],
   "source": [
    "TrainDataAll = Data[:-length]\n",
    "TestData = Data[-length:]"
   ]
  },
  {
   "cell_type": "code",
   "execution_count": 8,
   "metadata": {},
   "outputs": [
    {
     "data": {
      "text/plain": [
       "((4536, 192, 64), (1944, 192, 64))"
      ]
     },
     "execution_count": 8,
     "metadata": {},
     "output_type": "execute_result"
    }
   ],
   "source": [
    "TrainDataAll.shape, TestData.shape"
   ]
  },
  {
   "cell_type": "code",
   "execution_count": 9,
   "metadata": {},
   "outputs": [
    {
     "data": {
      "text/plain": [
       "1360"
      ]
     },
     "execution_count": 9,
     "metadata": {},
     "output_type": "execute_result"
    }
   ],
   "source": [
    "# 30% total train data is valid\n",
    "# 70% total trainALl is training\n",
    "length2 = int(TrainDataAll.shape[0] * 0.30)\n",
    "length2"
   ]
  },
  {
   "cell_type": "code",
   "execution_count": 10,
   "metadata": {},
   "outputs": [],
   "source": [
    "TrainData = TrainDataAll[:-length2]\n",
    "ValidData = TrainDataAll[-length2:]"
   ]
  },
  {
   "cell_type": "code",
   "execution_count": 11,
   "metadata": {},
   "outputs": [
    {
     "data": {
      "text/plain": [
       "((3176, 192, 64), (1360, 192, 64))"
      ]
     },
     "execution_count": 11,
     "metadata": {},
     "output_type": "execute_result"
    }
   ],
   "source": [
    "TrainData.shape, ValidData.shape"
   ]
  },
  {
   "cell_type": "code",
   "execution_count": 12,
   "metadata": {},
   "outputs": [],
   "source": [
    "# Normalizing input data\n",
    "def normalize(inputs):\n",
    "    return (inputs - inputs.mean(axis=0)[None,:,:]) / inputs.std(axis=0)[None,:,:]\n",
    "\n",
    "# onehot vectorizing output labels\n",
    "def one_hot(labels, n_class):\n",
    "    \"\"\" One-hot encoding \"\"\"\n",
    "    expansion = np.eye(n_class)\n",
    "    y = expansion[:, labels-1].T\n",
    "    assert y.shape[1] == n_class, \"Wrong number of labels!\"\n",
    "\n",
    "    return y\n",
    "\n",
    "# get minibatches for learning\n",
    "def get_batches(X, y, batch_size):\n",
    "    \"\"\" Return a generator for batches \"\"\"\n",
    "    n_batches = len(X) // batch_size\n",
    "    X, y = X[:n_batches*batch_size], y[:n_batches*batch_size]\n",
    "\n",
    "    # Loop over batches and yield\n",
    "    for b in range(0, len(X), batch_size):\n",
    "        yield X[b:b+batch_size], y[b:b+batch_size]"
   ]
  },
  {
   "cell_type": "code",
   "execution_count": 13,
   "metadata": {},
   "outputs": [],
   "source": [
    "# Standardize/normalize train and test\n",
    "X_train_norm = normalize(inputs=TrainData)\n",
    "X_valid_norm = normalize(inputs=ValidData)\n",
    "X_test_norm = normalize(inputs=TestData)"
   ]
  },
  {
   "cell_type": "code",
   "execution_count": 14,
   "metadata": {},
   "outputs": [
    {
     "data": {
      "text/plain": [
       "((3176, 192, 64),\n",
       " dtype('<f8'),\n",
       " (1360, 192, 64),\n",
       " dtype('<f8'),\n",
       " (1944, 192, 64),\n",
       " dtype('<f8'))"
      ]
     },
     "execution_count": 14,
     "metadata": {},
     "output_type": "execute_result"
    }
   ],
   "source": [
    "(X_train_norm.shape, X_train_norm.dtype, \n",
    "X_valid_norm.shape, X_valid_norm.dtype,\n",
    "X_test_norm.shape, X_test_norm.dtype)"
   ]
  },
  {
   "cell_type": "code",
   "execution_count": 15,
   "metadata": {},
   "outputs": [],
   "source": [
    "LabelsAll = SType[:]\n",
    "TrainLabelsAll = SType[:-length]\n",
    "TestLabels = SType[-length:]"
   ]
  },
  {
   "cell_type": "code",
   "execution_count": 16,
   "metadata": {},
   "outputs": [
    {
     "data": {
      "text/plain": [
       "((6480,), (4536,), (1944,))"
      ]
     },
     "execution_count": 16,
     "metadata": {},
     "output_type": "execute_result"
    }
   ],
   "source": [
    "LabelsAll.shape, TrainLabelsAll.shape, TestLabels.shape"
   ]
  },
  {
   "cell_type": "code",
   "execution_count": 17,
   "metadata": {},
   "outputs": [],
   "source": [
    "TrainLabels = TrainLabelsAll[:-length2]\n",
    "ValidLabels = TrainLabelsAll[-length2:]"
   ]
  },
  {
   "cell_type": "code",
   "execution_count": 18,
   "metadata": {},
   "outputs": [
    {
     "data": {
      "text/plain": [
       "((3176,), (1360,))"
      ]
     },
     "execution_count": 18,
     "metadata": {},
     "output_type": "execute_result"
    }
   ],
   "source": [
    "TrainLabels.shape, ValidLabels.shape"
   ]
  },
  {
   "cell_type": "code",
   "execution_count": 19,
   "metadata": {},
   "outputs": [],
   "source": [
    "Y_train = np.array(TrainLabels, dtype=int)\n",
    "Y_valid = np.array(ValidLabels, dtype=int)\n",
    "Y_test = np.array(TestLabels, dtype=int)"
   ]
  },
  {
   "cell_type": "code",
   "execution_count": 20,
   "metadata": {},
   "outputs": [
    {
     "data": {
      "text/plain": [
       "((3176,), dtype('int64'), (1944,), dtype('int64'), (1360,), dtype('int64'))"
      ]
     },
     "execution_count": 20,
     "metadata": {},
     "output_type": "execute_result"
    }
   ],
   "source": [
    "(Y_train.shape, Y_train.dtype, \n",
    "Y_test.shape, Y_test.dtype,\n",
    "Y_valid.shape, Y_valid.dtype)"
   ]
  },
  {
   "cell_type": "markdown",
   "metadata": {},
   "source": [
    "### Hyperparameters"
   ]
  },
  {
   "cell_type": "code",
   "execution_count": 21,
   "metadata": {},
   "outputs": [],
   "source": [
    "# CNN hyper parameters\n",
    "# Input data\n",
    "batch_size = X_train_norm.shape[0]// 100 # minibatch size & number of minibatches\n",
    "seq_len = X_train_norm.shape[1] # Number of steps: each trial length\n",
    "n_channels = X_train_norm.shape[2] # number of channels in each trial\n",
    "\n",
    "# Output labels\n",
    "n_classes = int(LabelsAll.max() + 1)\n",
    "\n",
    "# Tweekable parameters\n",
    "learning_rate = 0.001 #1e-3\n",
    "epochs = 1 # num iterations for updating model\n",
    "keep_prob = 0.50 # 90% neurons are kept and 10% are dropped out"
   ]
  },
  {
   "cell_type": "code",
   "execution_count": 22,
   "metadata": {},
   "outputs": [],
   "source": [
    "Y_train_onehot = one_hot(labels=Y_train, n_class=n_classes)\n",
    "Y_valid_onehot = one_hot(labels=Y_valid, n_class=n_classes)\n",
    "Y_test_onehot = one_hot(labels=Y_test, n_class=n_classes)"
   ]
  },
  {
   "cell_type": "code",
   "execution_count": 23,
   "metadata": {},
   "outputs": [
    {
     "data": {
      "text/plain": [
       "((3176, 2),\n",
       " (1360, 2),\n",
       " (1944, 2),\n",
       " (3176, 192, 64),\n",
       " (1360, 192, 64),\n",
       " (1944, 192, 64))"
      ]
     },
     "execution_count": 23,
     "metadata": {},
     "output_type": "execute_result"
    }
   ],
   "source": [
    "(Y_train_onehot.shape, Y_valid_onehot.shape, Y_test_onehot.shape,\n",
    " X_train_norm.shape, X_valid_norm.shape, X_test_norm.shape)"
   ]
  },
  {
   "cell_type": "markdown",
   "metadata": {},
   "source": [
    "# GPUs availability or CPU"
   ]
  },
  {
   "cell_type": "code",
   "execution_count": 24,
   "metadata": {},
   "outputs": [
    {
     "name": "stdout",
     "output_type": "stream",
     "text": [
      "TensorFlow Version: 1.3.0\n",
      "Default GPU Device: /gpu:0\n"
     ]
    }
   ],
   "source": [
    "\"\"\"\n",
    "DON'T MODIFY ANYTHING IN THIS CELL\n",
    "\"\"\"\n",
    "from distutils.version import LooseVersion\n",
    "import warnings\n",
    "import tensorflow as tf\n",
    "\n",
    "# Check TensorFlow Version\n",
    "assert LooseVersion(tf.__version__) >= LooseVersion('1.0'), 'Please use TensorFlow version 1.0 or newer.  You are using {}'.format(tf.__version__)\n",
    "print('TensorFlow Version: {}'.format(tf.__version__))\n",
    "\n",
    "# Check for a GPU\n",
    "if not tf.test.gpu_device_name():\n",
    "    warnings.warn('No GPU found. Please use a GPU to train your neural network.')\n",
    "else:\n",
    "    print('Default GPU Device: {}'.format(tf.test.gpu_device_name()))"
   ]
  },
  {
   "cell_type": "code",
   "execution_count": 25,
   "metadata": {},
   "outputs": [],
   "source": [
    "#  No graphs is needed on tensorflow\n",
    "inputs_ = tf.placeholder(tf.float32, [None, seq_len, n_channels], name = 'inputs_')\n",
    "labels_ = tf.placeholder(tf.float32, [None, n_classes], name = 'labels_')\n",
    "keep_prob_ = tf.placeholder(tf.float32, name = 'keep_prob_')\n",
    "learning_rate_ = tf.placeholder(tf.float32, name = 'learning_rate_')"
   ]
  },
  {
   "cell_type": "code",
   "execution_count": 26,
   "metadata": {},
   "outputs": [
    {
     "name": "stdout",
     "output_type": "stream",
     "text": [
      "(?, 192, 64)\n",
      "(192, ?, 64)\n",
      "(?, 64)\n",
      "192\n",
      "(?, 192)\n",
      "192\n"
     ]
    }
   ],
   "source": [
    "# Construct the LSTM inputs and LSTM cells\n",
    "#  This functions very similar to embedding\n",
    "print(inputs_.shape)\n",
    "lstm_in = tf.transpose(inputs_, [1,0,2]) # reshape into (seq_len, N, channels)\n",
    "print(lstm_in.shape)\n",
    "lstm_in = tf.reshape(lstm_in, [-1, n_channels]) # Now (seq_len*N, n_channels)\n",
    "print(lstm_in.shape)\n",
    "\n",
    "# To cells\n",
    "lstm_size = n_channels*3         # 3 times the amount of channels\n",
    "print(lstm_size)\n",
    "lstm_layers = 1        # Number of layers\n",
    "lstm_in = tf.layers.dense(lstm_in, lstm_size, activation=None) # or tf.nn.relu, tf.nn.sigmoid, tf.nn.tanh?\n",
    "print(lstm_in.shape)\n",
    "\n",
    "# Open up the tensor into a list of seq_len pieces\n",
    "lstm_in = tf.split(lstm_in, seq_len, 0)\n",
    "print(len(lstm_in))"
   ]
  },
  {
   "cell_type": "code",
   "execution_count": 27,
   "metadata": {},
   "outputs": [
    {
     "name": "stdout",
     "output_type": "stream",
     "text": [
      "<tensorflow.python.ops.rnn_cell_impl.BasicLSTMCell object at 0x7fde8d6246d8>\n",
      "<tensorflow.python.ops.rnn_cell_impl.DropoutWrapper object at 0x7fde8d624710>\n",
      "<tensorflow.python.ops.rnn_cell_impl.MultiRNNCell object at 0x7fde8d4ca470>\n",
      "(LSTMStateTuple(c=<tf.Tensor 'MultiRNNCellZeroState/DropoutWrapperZeroState/BasicLSTMCellZeroState/zeros:0' shape=(31, 192) dtype=float32>, h=<tf.Tensor 'MultiRNNCellZeroState/DropoutWrapperZeroState/BasicLSTMCellZeroState/zeros_1:0' shape=(31, 192) dtype=float32>),)\n"
     ]
    }
   ],
   "source": [
    "# Add LSTM layers\n",
    "lstm = tf.contrib.rnn.BasicLSTMCell(lstm_size)\n",
    "print(lstm)\n",
    "drop = tf.contrib.rnn.DropoutWrapper(lstm, output_keep_prob=keep_prob_)\n",
    "print(drop)\n",
    "cell = tf.contrib.rnn.MultiRNNCell([drop] * lstm_layers)\n",
    "print(cell)\n",
    "initial_state = cell.zero_state(batch_size, tf.float32)\n",
    "print(initial_state)"
   ]
  },
  {
   "cell_type": "code",
   "execution_count": 28,
   "metadata": {},
   "outputs": [],
   "source": [
    "# Reuse should be activated\n",
    "# Remember the inputs are usually embedded input or texts\n",
    "# outputs, final_state = tf.contrib.rnn.static_rnn(cell=cell, inputs=lstm_in, dtype=tf.float32, \n",
    "#                                                  initial_state = initial_state)\n",
    "outputs, final_state = tf.nn.static_rnn(cell=cell, inputs=lstm_in, dtype=tf.float32,\n",
    "                                        initial_state = initial_state)\n",
    "# outputs, final_state = tf.nn.dynamic_rnn(cell, lstm_in, dtype=tf.float32, \n",
    "#                                          initial_state=initial_state)# print(outputs, final_state)"
   ]
  },
  {
   "cell_type": "code",
   "execution_count": 29,
   "metadata": {},
   "outputs": [
    {
     "name": "stdout",
     "output_type": "stream",
     "text": [
      "Tensor(\"logits/BiasAdd:0\", shape=(31, 2), dtype=float32) Tensor(\"rnn/rnn/multi_rnn_cell/cell_0_191/dropout/mul:0\", shape=(31, 192), dtype=float32)\n"
     ]
    }
   ],
   "source": [
    "# We only need the last output tensor to pass into a classifier\n",
    "logits = tf.layers.dense(outputs[-1], n_classes, name='logits')\n",
    "print(logits, outputs[-1])"
   ]
  },
  {
   "cell_type": "code",
   "execution_count": 30,
   "metadata": {},
   "outputs": [],
   "source": [
    "# Cost function\n",
    "cost_tensor = tf.nn.softmax_cross_entropy_with_logits(logits=logits, labels=labels_)\n",
    "cost = tf.reduce_mean(input_tensor=cost_tensor)\n",
    "\n",
    "# Optimizer\n",
    "optimizer = tf.train.AdamOptimizer(learning_rate=learning_rate_).minimize(cost)\n",
    "\n",
    "# Accuracy\n",
    "correct_pred = tf.equal(tf.argmax(logits, 1), tf.argmax(labels_, 1))\n",
    "accuracy = tf.reduce_mean(tf.cast(correct_pred, tf.float32), name='accuracy')"
   ]
  },
  {
   "cell_type": "markdown",
   "metadata": {},
   "source": [
    "### Train the network"
   ]
  },
  {
   "cell_type": "code",
   "execution_count": 31,
   "metadata": {},
   "outputs": [
    {
     "name": "stdout",
     "output_type": "stream",
     "text": [
      "Epoch: 1/1 Train loss: 1.135442 Valid loss: 0.654080 Train acc: 0.193548 Valid acc: 0.575394\n",
      "Epoch: 1/1 Train loss: 0.575230 Valid loss: 0.660410 Train acc: 0.774194 Valid acc: 0.573893\n",
      "Epoch: 1/1 Train loss: 0.588752 Valid loss: 0.663319 Train acc: 0.806452 Valid acc: 0.575394\n",
      "Epoch: 1/1 Train loss: 0.437211 Valid loss: 0.665535 Train acc: 0.870968 Valid acc: 0.577832\n",
      "Epoch: 1/1 Train loss: 0.499972 Valid loss: 0.669387 Train acc: 0.806452 Valid acc: 0.578995\n",
      "Epoch: 1/1 Train loss: 0.568623 Valid loss: 0.666264 Train acc: 0.741935 Valid acc: 0.586772\n",
      "Epoch: 1/1 Train loss: 0.509124 Valid loss: 0.660159 Train acc: 0.838710 Valid acc: 0.598114\n",
      "Epoch: 1/1 Train loss: 0.515925 Valid loss: 0.653142 Train acc: 0.774194 Valid acc: 0.610278\n",
      "Epoch: 1/1 Train loss: 0.478986 Valid loss: 0.646712 Train acc: 0.838710 Valid acc: 0.621072\n",
      "Epoch: 1/1 Train loss: 0.617071 Valid loss: 0.640586 Train acc: 0.838710 Valid acc: 0.630608\n",
      "Epoch: 1/1 Train loss: 0.440370 Valid loss: 0.634782 Train acc: 0.838710 Valid acc: 0.638751\n",
      "Epoch: 1/1 Train loss: 0.684013 Valid loss: 0.629357 Train acc: 0.645161 Valid acc: 0.646037\n",
      "Epoch: 1/1 Train loss: 0.612136 Valid loss: 0.624665 Train acc: 0.677419 Valid acc: 0.652548\n",
      "Epoch: 1/1 Train loss: 0.642105 Valid loss: 0.620518 Train acc: 0.741935 Valid acc: 0.658397\n",
      "Epoch: 1/1 Train loss: 0.376520 Valid loss: 0.616751 Train acc: 0.870968 Valid acc: 0.663766\n",
      "Epoch: 1/1 Train loss: 0.513841 Valid loss: 0.613181 Train acc: 0.741935 Valid acc: 0.668745\n",
      "Epoch: 1/1 Train loss: 0.503835 Valid loss: 0.609756 Train acc: 0.709677 Valid acc: 0.673580\n",
      "Epoch: 1/1 Train loss: 0.742100 Valid loss: 0.606420 Train acc: 0.516129 Valid acc: 0.677961\n",
      "Epoch: 1/1 Train loss: 0.520039 Valid loss: 0.603156 Train acc: 0.838710 Valid acc: 0.682157\n",
      "Epoch: 1/1 Train loss: 0.549868 Valid loss: 0.600096 Train acc: 0.806452 Valid acc: 0.686121\n",
      "Epoch: 1/1 Train loss: 0.558129 Valid loss: 0.597170 Train acc: 0.806452 Valid acc: 0.690137\n",
      "Epoch: 1/1 Train loss: 0.559344 Valid loss: 0.594262 Train acc: 0.838710 Valid acc: 0.694060\n",
      "Epoch: 1/1 Train loss: 0.508182 Valid loss: 0.591263 Train acc: 0.838710 Valid acc: 0.698001\n",
      "Epoch: 1/1 Train loss: 0.440563 Valid loss: 0.588306 Train acc: 0.838710 Valid acc: 0.701550\n",
      "Epoch: 1/1 Train loss: 0.513739 Valid loss: 0.585338 Train acc: 0.741935 Valid acc: 0.705056\n",
      "Epoch: 1/1 Train loss: 0.603374 Valid loss: 0.582272 Train acc: 0.645161 Valid acc: 0.708725\n",
      "Epoch: 1/1 Train loss: 0.516405 Valid loss: 0.579184 Train acc: 0.677419 Valid acc: 0.712372\n",
      "Epoch: 1/1 Train loss: 0.626685 Valid loss: 0.576157 Train acc: 0.806452 Valid acc: 0.715947\n",
      "Epoch: 1/1 Train loss: 0.583629 Valid loss: 0.573259 Train acc: 0.838710 Valid acc: 0.719404\n",
      "Epoch: 1/1 Train loss: 0.580588 Valid loss: 0.570493 Train acc: 0.709677 Valid acc: 0.722906\n",
      "Epoch: 1/1 Train loss: 0.608251 Valid loss: 0.567867 Train acc: 0.741935 Valid acc: 0.726230\n",
      "Epoch: 1/1 Train loss: 0.541615 Valid loss: 0.565387 Train acc: 0.741935 Valid acc: 0.729417\n",
      "Epoch: 1/1 Train loss: 0.524577 Valid loss: 0.563046 Train acc: 0.806452 Valid acc: 0.732456\n",
      "Epoch: 1/1 Train loss: 0.531770 Valid loss: 0.560875 Train acc: 0.741935 Valid acc: 0.735338\n",
      "Epoch: 1/1 Train loss: 0.682377 Valid loss: 0.558758 Train acc: 0.741935 Valid acc: 0.738035\n",
      "Epoch: 1/1 Train loss: 0.481621 Valid loss: 0.556710 Train acc: 0.838710 Valid acc: 0.740602\n",
      "Epoch: 1/1 Train loss: 0.463634 Valid loss: 0.554752 Train acc: 0.838710 Valid acc: 0.743051\n",
      "Epoch: 1/1 Train loss: 0.588352 Valid loss: 0.552895 Train acc: 0.709677 Valid acc: 0.745371\n",
      "Epoch: 1/1 Train loss: 0.605761 Valid loss: 0.551087 Train acc: 0.806452 Valid acc: 0.747591\n",
      "Epoch: 1/1 Train loss: 0.455747 Valid loss: 0.549336 Train acc: 0.838710 Valid acc: 0.749700\n",
      "Epoch: 1/1 Train loss: 0.375067 Valid loss: 0.547693 Train acc: 0.838710 Valid acc: 0.751706\n",
      "Epoch: 1/1 Train loss: 0.556062 Valid loss: 0.546171 Train acc: 0.806452 Valid acc: 0.753617\n",
      "Epoch: 1/1 Train loss: 0.384297 Valid loss: 0.544738 Train acc: 0.870968 Valid acc: 0.755439\n",
      "Epoch: 1/1 Train loss: 0.555799 Valid loss: 0.543361 Train acc: 0.806452 Valid acc: 0.757178\n",
      "Epoch: 1/1 Train loss: 0.448316 Valid loss: 0.542016 Train acc: 0.870968 Valid acc: 0.758840\n",
      "Epoch: 1/1 Train loss: 0.528046 Valid loss: 0.540680 Train acc: 0.806452 Valid acc: 0.760429\n",
      "Epoch: 1/1 Train loss: 0.683880 Valid loss: 0.539295 Train acc: 0.806452 Valid acc: 0.761951\n",
      "Epoch: 1/1 Train loss: 0.399201 Valid loss: 0.537886 Train acc: 0.870968 Valid acc: 0.763410\n",
      "Epoch: 1/1 Train loss: 0.423683 Valid loss: 0.536438 Train acc: 0.838710 Valid acc: 0.764809\n",
      "Epoch: 1/1 Train loss: 0.462599 Valid loss: 0.534992 Train acc: 0.774194 Valid acc: 0.766152\n",
      "Epoch: 1/1 Train loss: 0.561475 Valid loss: 0.533541 Train acc: 0.806452 Valid acc: 0.767442\n",
      "Epoch: 1/1 Train loss: 0.533324 Valid loss: 0.532104 Train acc: 0.838710 Valid acc: 0.768697\n",
      "Epoch: 1/1 Train loss: 0.433542 Valid loss: 0.530704 Train acc: 0.838710 Valid acc: 0.769905\n",
      "Epoch: 1/1 Train loss: 0.374377 Valid loss: 0.529363 Train acc: 0.838710 Valid acc: 0.771082\n",
      "Epoch: 1/1 Train loss: 0.449266 Valid loss: 0.528096 Train acc: 0.806452 Valid acc: 0.772216\n",
      "Epoch: 1/1 Train loss: 0.482803 Valid loss: 0.526910 Train acc: 0.806452 Valid acc: 0.773309\n",
      "Epoch: 1/1 Train loss: 0.543541 Valid loss: 0.525814 Train acc: 0.806452 Valid acc: 0.774365\n",
      "Epoch: 1/1 Train loss: 0.521517 Valid loss: 0.524797 Train acc: 0.774194 Valid acc: 0.775383\n",
      "Epoch: 1/1 Train loss: 0.459348 Valid loss: 0.523849 Train acc: 0.838710 Valid acc: 0.776368\n",
      "Epoch: 1/1 Train loss: 0.429646 Valid loss: 0.522961 Train acc: 0.838710 Valid acc: 0.777319\n",
      "Epoch: 1/1 Train loss: 0.632041 Valid loss: 0.522093 Train acc: 0.709677 Valid acc: 0.778239\n",
      "Epoch: 1/1 Train loss: 0.418465 Valid loss: 0.521243 Train acc: 0.870968 Valid acc: 0.779142\n",
      "Epoch: 1/1 Train loss: 0.539997 Valid loss: 0.520408 Train acc: 0.774194 Valid acc: 0.780016\n",
      "Epoch: 1/1 Train loss: 0.417019 Valid loss: 0.519614 Train acc: 0.870968 Valid acc: 0.780863\n",
      "Epoch: 1/1 Train loss: 0.530738 Valid loss: 0.518829 Train acc: 0.806452 Valid acc: 0.781684\n",
      "Epoch: 1/1 Train loss: 0.459965 Valid loss: 0.518032 Train acc: 0.838710 Valid acc: 0.782468\n",
      "Epoch: 1/1 Train loss: 0.571117 Valid loss: 0.517244 Train acc: 0.806452 Valid acc: 0.783229\n",
      "Epoch: 1/1 Train loss: 0.428838 Valid loss: 0.516456 Train acc: 0.870968 Valid acc: 0.783968\n",
      "Epoch: 1/1 Train loss: 0.465738 Valid loss: 0.515681 Train acc: 0.838710 Valid acc: 0.784685\n",
      "Epoch: 1/1 Train loss: 0.550491 Valid loss: 0.514908 Train acc: 0.806452 Valid acc: 0.785382\n",
      "Epoch: 1/1 Train loss: 0.482968 Valid loss: 0.514136 Train acc: 0.838710 Valid acc: 0.786059\n",
      "Epoch: 1/1 Train loss: 0.464193 Valid loss: 0.513370 Train acc: 0.838710 Valid acc: 0.786718\n",
      "Epoch: 1/1 Train loss: 0.436714 Valid loss: 0.512613 Train acc: 0.838710 Valid acc: 0.787358\n",
      "Epoch: 1/1 Train loss: 0.510929 Valid loss: 0.511875 Train acc: 0.774194 Valid acc: 0.787981\n",
      "Epoch: 1/1 Train loss: 0.400792 Valid loss: 0.511153 Train acc: 0.870968 Valid acc: 0.788577\n",
      "Epoch: 1/1 Train loss: 0.492437 Valid loss: 0.510448 Train acc: 0.838710 Valid acc: 0.789158\n",
      "Epoch: 1/1 Train loss: 0.533814 Valid loss: 0.509763 Train acc: 0.774194 Valid acc: 0.789723\n",
      "Epoch: 1/1 Train loss: 0.528891 Valid loss: 0.509093 Train acc: 0.838710 Valid acc: 0.790274\n",
      "Epoch: 1/1 Train loss: 0.510331 Valid loss: 0.508432 Train acc: 0.806452 Valid acc: 0.790812\n",
      "Epoch: 1/1 Train loss: 0.453051 Valid loss: 0.507780 Train acc: 0.870968 Valid acc: 0.791345\n",
      "Epoch: 1/1 Train loss: 0.477829 Valid loss: 0.507142 Train acc: 0.838710 Valid acc: 0.791865\n",
      "Epoch: 1/1 Train loss: 0.547514 Valid loss: 0.506523 Train acc: 0.806452 Valid acc: 0.792372\n",
      "Epoch: 1/1 Train loss: 0.467167 Valid loss: 0.505927 Train acc: 0.838710 Valid acc: 0.792867\n",
      "Epoch: 1/1 Train loss: 0.477358 Valid loss: 0.505362 Train acc: 0.838710 Valid acc: 0.793350\n",
      "Epoch: 1/1 Train loss: 0.447481 Valid loss: 0.504841 Train acc: 0.838710 Valid acc: 0.793822\n",
      "Epoch: 1/1 Train loss: 0.483968 Valid loss: 0.504357 Train acc: 0.838710 Valid acc: 0.794283\n",
      "Epoch: 1/1 Train loss: 0.487627 Valid loss: 0.503919 Train acc: 0.806452 Valid acc: 0.794733\n",
      "Epoch: 1/1 Train loss: 0.560924 Valid loss: 0.503503 Train acc: 0.806452 Valid acc: 0.795173\n",
      "Epoch: 1/1 Train loss: 0.415820 Valid loss: 0.503108 Train acc: 0.870968 Valid acc: 0.795612\n"
     ]
    },
    {
     "name": "stdout",
     "output_type": "stream",
     "text": [
      "Epoch: 1/1 Train loss: 0.489938 Valid loss: 0.502715 Train acc: 0.838710 Valid acc: 0.796041\n",
      "Epoch: 1/1 Train loss: 0.508914 Valid loss: 0.502308 Train acc: 0.806452 Valid acc: 0.796460\n",
      "Epoch: 1/1 Train loss: 0.550523 Valid loss: 0.501873 Train acc: 0.774194 Valid acc: 0.796862\n",
      "Epoch: 1/1 Train loss: 0.548850 Valid loss: 0.501422 Train acc: 0.806452 Valid acc: 0.797256\n",
      "Epoch: 1/1 Train loss: 0.387404 Valid loss: 0.500962 Train acc: 0.870968 Valid acc: 0.797641\n",
      "Epoch: 1/1 Train loss: 0.450614 Valid loss: 0.500510 Train acc: 0.806452 Valid acc: 0.798018\n",
      "Epoch: 1/1 Train loss: 0.549660 Valid loss: 0.500061 Train acc: 0.838710 Valid acc: 0.798387\n",
      "Epoch: 1/1 Train loss: 0.569914 Valid loss: 0.499622 Train acc: 0.806452 Valid acc: 0.798749\n",
      "Epoch: 1/1 Train loss: 0.412485 Valid loss: 0.499197 Train acc: 0.838710 Valid acc: 0.799103\n",
      "Epoch: 1/1 Train loss: 0.528886 Valid loss: 0.498785 Train acc: 0.806452 Valid acc: 0.799450\n",
      "Epoch: 1/1 Train loss: 0.414407 Valid loss: 0.498389 Train acc: 0.838710 Valid acc: 0.799790\n",
      "Epoch: 1/1 Train loss: 0.568604 Valid loss: 0.498006 Train acc: 0.838710 Valid acc: 0.800123\n",
      "Epoch: 1/1 Train loss: 0.450516 Valid loss: 0.497641 Train acc: 0.838710 Valid acc: 0.800450\n",
      "Epoch: 1/1 Test loss: 0.459181 Test acc: 0.832987\n"
     ]
    }
   ],
   "source": [
    "# Plotting the acc and loss curve\n",
    "train_acc = []\n",
    "train_loss = []\n",
    "\n",
    "valid_acc = []\n",
    "valid_loss = []\n",
    "\n",
    "with tf.Session() as sess:\n",
    "    # initalize session global variables just in the case they are initialized.\n",
    "    sess.run(tf.global_variables_initializer())\n",
    "    \n",
    "    for e in range(epochs):\n",
    "        # Initialize \n",
    "        state = sess.run(initial_state)\n",
    "        \n",
    "        # Loop over batches\n",
    "        for x, y in get_batches(X_train_norm, Y_train_onehot, batch_size):\n",
    "            \n",
    "            # Feed dictionary\n",
    "            feed = {inputs_:x, labels_:y, keep_prob_: keep_prob, initial_state:state, \n",
    "                    learning_rate_:learning_rate}\n",
    "            loss, _ , state, acc = sess.run([cost, optimizer, final_state, accuracy], feed_dict = feed)\n",
    "            \n",
    "            train_acc.append(acc)\n",
    "            train_loss.append(loss)\n",
    "            \n",
    "            ################################ Validation\n",
    "            # Initialize \n",
    "            state_v = sess.run(cell.zero_state(batch_size, tf.float32))\n",
    "            loss_v_batch, acc_v_batch = [], []\n",
    "\n",
    "            # Loop over batches\n",
    "            for x_v, y_v in get_batches(X_valid_norm, Y_valid_onehot, batch_size):\n",
    "\n",
    "                # Feed dictionary\n",
    "                feed = {inputs_:x_v, labels_:y_v, keep_prob_: 1.0, initial_state:state_v}\n",
    "                loss_v, state_v, acc_v = sess.run([cost, final_state, accuracy], feed_dict = feed)\n",
    "                \n",
    "                acc_v_batch.append(acc_v)\n",
    "                loss_v_batch.append(loss_v)\n",
    "                \n",
    "            valid_acc.append(np.mean(acc_v_batch))\n",
    "            valid_loss.append(np.mean(loss_v_batch))\n",
    "            \n",
    "            # Print info\n",
    "            print(\"Epoch: {}/{}\".format(e+1, epochs),\n",
    "                  \"Train loss: {:6f}\".format(loss),\n",
    "                  \"Valid loss: {:.6f}\".format(np.mean(valid_loss)),\n",
    "                  \"Train acc: {:6f}\".format(acc),\n",
    "                  \"Valid acc: {:.6f}\".format(np.mean(valid_acc)))\n",
    "            \n",
    "    ################################ Test\n",
    "    # Initialize \n",
    "    state = sess.run(initial_state)\n",
    "    acc_batch, loss_batch = [], []\n",
    "\n",
    "    # Loop over batches\n",
    "    for x, y in get_batches(X_test_norm, Y_test_onehot, batch_size):\n",
    "\n",
    "        # Feed dictionary\n",
    "        feed = {inputs_:x, labels_:y, keep_prob_:1.0, initial_state:state}\n",
    "        loss, state, acc = sess.run([cost, final_state, accuracy], feed_dict = feed)\n",
    "\n",
    "        acc_batch.append(acc)\n",
    "        loss_batch.append(loss)\n",
    "\n",
    "    # Print info\n",
    "    print(\"Epoch: {}/{}\".format(e+1, epochs),\n",
    "          \"Test loss: {:6f}\".format(np.mean(loss_batch)),\n",
    "          \"Test acc: {:6f}\".format(np.mean(acc_batch)))"
   ]
  },
  {
   "cell_type": "code",
   "execution_count": 32,
   "metadata": {},
   "outputs": [
    {
     "data": {
      "image/png": "[encoded data removed]",
      "text/plain": [
       "<matplotlib.figure.Figure at 0x7fdd905cceb8>"
      ]
     },
     "metadata": {},
     "output_type": "display_data"
    }
   ],
   "source": [
    "import matplotlib.pyplot as mplot\n",
    "\n",
    "mplot.plot(train_loss, label='train_losses')\n",
    "mplot.plot(valid_loss, label='valid_losses')\n",
    "mplot.legend()\n",
    "mplot.show()"
   ]
  },
  {
   "cell_type": "code",
   "execution_count": 33,
   "metadata": {},
   "outputs": [
    {
     "data": {
      "image/png": "[encoded data removed]",
      "text/plain": [
       "<matplotlib.figure.Figure at 0x7fdd2998eef0>"
      ]
     },
     "metadata": {},
     "output_type": "display_data"
    }
   ],
   "source": [
    "# import matplotlib.pyplot as mplot\n",
    "\n",
    "mplot.plot(train_acc, label='train_acc_list')\n",
    "mplot.plot(valid_acc, label='valid_acc_list')\n",
    "mplot.legend()\n",
    "mplot.show()"
   ]
  },
  {
   "cell_type": "code",
   "execution_count": null,
   "metadata": {},
   "outputs": [],
   "source": []
  }
 ],
 "metadata": {
  "kernelspec": {
   "display_name": "Python 3",
   "language": "python",
   "name": "python3"
  },
  "language_info": {
   "codemirror_mode": {
    "name": "ipython",
    "version": 3
   },
   "file_extension": ".py",
   "mimetype": "text/x-python",
   "name": "python",
   "nbconvert_exporter": "python",
   "pygments_lexer": "ipython3",
   "version": "3.6.3"
  }
 },
 "nbformat": 4,
 "nbformat_minor": 2
}
