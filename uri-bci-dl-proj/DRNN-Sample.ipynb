{
 "cells": [
  {
   "cell_type": "code",
   "execution_count": 1,
   "metadata": {},
   "outputs": [],
   "source": [
    "import scipy.io as spio\n",
    "import numpy as np"
   ]
  },
  {
   "cell_type": "code",
   "execution_count": 2,
   "metadata": {},
   "outputs": [],
   "source": [
    "X = spio.loadmat(file_name='../data/bci-sample-data/x.mat')"
   ]
  },
  {
   "cell_type": "code",
   "execution_count": 3,
   "metadata": {},
   "outputs": [],
   "source": [
    "Y = spio.loadmat(file_name='../data/bci-sample-data/y.mat')"
   ]
  },
  {
   "cell_type": "code",
   "execution_count": 4,
   "metadata": {},
   "outputs": [],
   "source": [
    "Data = X['Intensification_Data']\n",
    "SType = Y['Intensification_SType'].mean(axis=1)"
   ]
  },
  {
   "cell_type": "code",
   "execution_count": 5,
   "metadata": {},
   "outputs": [
    {
     "data": {
      "text/plain": [
       "((6480, 192, 64), (6480,), dtype('<f8'), dtype('float64'))"
      ]
     },
     "execution_count": 5,
     "metadata": {},
     "output_type": "execute_result"
    }
   ],
   "source": [
    "(Data.shape, SType.shape, Data.dtype, SType.dtype)"
   ]
  },
  {
   "cell_type": "code",
   "execution_count": 6,
   "metadata": {},
   "outputs": [
    {
     "data": {
      "text/plain": [
       "1944"
      ]
     },
     "execution_count": 6,
     "metadata": {},
     "output_type": "execute_result"
    }
   ],
   "source": [
    "# 30 % total data test\n",
    "# 70 % total data train+valid\n",
    "length = int(Data.shape[0] * 0.30)\n",
    "length"
   ]
  },
  {
   "cell_type": "code",
   "execution_count": 7,
   "metadata": {},
   "outputs": [],
   "source": [
    "TrainDataAll = Data[:-length]\n",
    "TestData = Data[-length:]"
   ]
  },
  {
   "cell_type": "code",
   "execution_count": 8,
   "metadata": {},
   "outputs": [
    {
     "data": {
      "text/plain": [
       "((4536, 192, 64), (1944, 192, 64))"
      ]
     },
     "execution_count": 8,
     "metadata": {},
     "output_type": "execute_result"
    }
   ],
   "source": [
    "TrainDataAll.shape, TestData.shape"
   ]
  },
  {
   "cell_type": "code",
   "execution_count": 9,
   "metadata": {},
   "outputs": [
    {
     "data": {
      "text/plain": [
       "1360"
      ]
     },
     "execution_count": 9,
     "metadata": {},
     "output_type": "execute_result"
    }
   ],
   "source": [
    "# 30% total train data is valid\n",
    "# 70% total trainALl is training\n",
    "length2 = int(TrainDataAll.shape[0] * 0.30)\n",
    "length2"
   ]
  },
  {
   "cell_type": "code",
   "execution_count": 10,
   "metadata": {},
   "outputs": [],
   "source": [
    "TrainData = TrainDataAll[:-length2]\n",
    "ValidData = TrainDataAll[-length2:]"
   ]
  },
  {
   "cell_type": "code",
   "execution_count": 11,
   "metadata": {},
   "outputs": [
    {
     "data": {
      "text/plain": [
       "((3176, 192, 64), (1360, 192, 64))"
      ]
     },
     "execution_count": 11,
     "metadata": {},
     "output_type": "execute_result"
    }
   ],
   "source": [
    "TrainData.shape, ValidData.shape"
   ]
  },
  {
   "cell_type": "code",
   "execution_count": 12,
   "metadata": {},
   "outputs": [],
   "source": [
    "# Normalizing input data\n",
    "def normalize(inputs):\n",
    "    return (inputs - inputs.mean(axis=0)[None,:,:]) / inputs.std(axis=0)[None,:,:]\n",
    "\n",
    "# onehot vectorizing output labels\n",
    "def one_hot(labels, n_class):\n",
    "    \"\"\" One-hot encoding \"\"\"\n",
    "    expansion = np.eye(n_class)\n",
    "    y = expansion[:, labels-1].T\n",
    "    assert y.shape[1] == n_class, \"Wrong number of labels!\"\n",
    "\n",
    "    return y\n",
    "\n",
    "# get minibatches for learning\n",
    "def get_batches(X, y, batch_size):\n",
    "    \"\"\" Return a generator for batches \"\"\"\n",
    "    n_batches = len(X) // batch_size\n",
    "    X, y = X[:n_batches*batch_size], y[:n_batches*batch_size]\n",
    "\n",
    "    # Loop over batches and yield\n",
    "    for b in range(0, len(X), batch_size):\n",
    "        yield X[b:b+batch_size], y[b:b+batch_size]"
   ]
  },
  {
   "cell_type": "code",
   "execution_count": 13,
   "metadata": {},
   "outputs": [],
   "source": [
    "# Standardize/normalize train and test\n",
    "X_train_norm = normalize(inputs=TrainData)\n",
    "X_valid_norm = normalize(inputs=ValidData)\n",
    "X_test_norm = normalize(inputs=TestData)"
   ]
  },
  {
   "cell_type": "code",
   "execution_count": 14,
   "metadata": {},
   "outputs": [
    {
     "data": {
      "text/plain": [
       "((3176, 192, 64),\n",
       " dtype('<f8'),\n",
       " (1360, 192, 64),\n",
       " dtype('<f8'),\n",
       " (1944, 192, 64),\n",
       " dtype('<f8'))"
      ]
     },
     "execution_count": 14,
     "metadata": {},
     "output_type": "execute_result"
    }
   ],
   "source": [
    "(X_train_norm.shape, X_train_norm.dtype, \n",
    "X_valid_norm.shape, X_valid_norm.dtype,\n",
    "X_test_norm.shape, X_test_norm.dtype)"
   ]
  },
  {
   "cell_type": "code",
   "execution_count": 15,
   "metadata": {},
   "outputs": [],
   "source": [
    "LabelsAll = SType[:]\n",
    "TrainLabelsAll = SType[:-length]\n",
    "TestLabels = SType[-length:]"
   ]
  },
  {
   "cell_type": "code",
   "execution_count": 16,
   "metadata": {},
   "outputs": [
    {
     "data": {
      "text/plain": [
       "((6480,), (4536,), (1944,))"
      ]
     },
     "execution_count": 16,
     "metadata": {},
     "output_type": "execute_result"
    }
   ],
   "source": [
    "LabelsAll.shape, TrainLabelsAll.shape, TestLabels.shape"
   ]
  },
  {
   "cell_type": "code",
   "execution_count": 17,
   "metadata": {},
   "outputs": [],
   "source": [
    "TrainLabels = TrainLabelsAll[:-length2]\n",
    "ValidLabels = TrainLabelsAll[-length2:]"
   ]
  },
  {
   "cell_type": "code",
   "execution_count": 18,
   "metadata": {},
   "outputs": [
    {
     "data": {
      "text/plain": [
       "((3176,), (1360,))"
      ]
     },
     "execution_count": 18,
     "metadata": {},
     "output_type": "execute_result"
    }
   ],
   "source": [
    "TrainLabels.shape, ValidLabels.shape"
   ]
  },
  {
   "cell_type": "code",
   "execution_count": 19,
   "metadata": {},
   "outputs": [],
   "source": [
    "Y_train = np.array(TrainLabels, dtype=int)\n",
    "Y_valid = np.array(ValidLabels, dtype=int)\n",
    "Y_test = np.array(TestLabels, dtype=int)"
   ]
  },
  {
   "cell_type": "code",
   "execution_count": 20,
   "metadata": {},
   "outputs": [
    {
     "data": {
      "text/plain": [
       "((3176,), dtype('int64'), (1944,), dtype('int64'), (1360,), dtype('int64'))"
      ]
     },
     "execution_count": 20,
     "metadata": {},
     "output_type": "execute_result"
    }
   ],
   "source": [
    "(Y_train.shape, Y_train.dtype, \n",
    "Y_test.shape, Y_test.dtype,\n",
    "Y_valid.shape, Y_valid.dtype)"
   ]
  },
  {
   "cell_type": "markdown",
   "metadata": {},
   "source": [
    "### Hyperparameters"
   ]
  },
  {
   "cell_type": "code",
   "execution_count": 21,
   "metadata": {},
   "outputs": [],
   "source": [
    "# CNN hyper parameters\n",
    "# Input data\n",
    "batch_size = X_train_norm.shape[0]// 100 # minibatch size & number of minibatches\n",
    "seq_len = X_train_norm.shape[1] # Number of steps: each trial length\n",
    "n_channels = X_train_norm.shape[2] # number of channels in each trial\n",
    "\n",
    "# Output labels\n",
    "n_classes = int(LabelsAll.max() + 1)\n",
    "\n",
    "# Tweekable parameters\n",
    "learning_rate = 0.001 #1e-3\n",
    "epochs = 1 # num iterations for updating model\n",
    "keep_prob = 0.50 # 90% neurons are kept and 10% are dropped out"
   ]
  },
  {
   "cell_type": "code",
   "execution_count": 22,
   "metadata": {},
   "outputs": [],
   "source": [
    "Y_train_onehot = one_hot(labels=Y_train, n_class=n_classes)\n",
    "Y_valid_onehot = one_hot(labels=Y_valid, n_class=n_classes)\n",
    "Y_test_onehot = one_hot(labels=Y_test, n_class=n_classes)"
   ]
  },
  {
   "cell_type": "code",
   "execution_count": 23,
   "metadata": {},
   "outputs": [
    {
     "data": {
      "text/plain": [
       "((3176, 2),\n",
       " (1360, 2),\n",
       " (1944, 2),\n",
       " (3176, 192, 64),\n",
       " (1360, 192, 64),\n",
       " (1944, 192, 64))"
      ]
     },
     "execution_count": 23,
     "metadata": {},
     "output_type": "execute_result"
    }
   ],
   "source": [
    "(Y_train_onehot.shape, Y_valid_onehot.shape, Y_test_onehot.shape,\n",
    " X_train_norm.shape, X_valid_norm.shape, X_test_norm.shape)"
   ]
  },
  {
   "cell_type": "markdown",
   "metadata": {},
   "source": [
    "# GPUs availability or CPU"
   ]
  },
  {
   "cell_type": "code",
   "execution_count": 24,
   "metadata": {},
   "outputs": [
    {
     "name": "stdout",
     "output_type": "stream",
     "text": [
      "TensorFlow Version: 1.3.0\n",
      "Default GPU Device: /gpu:0\n"
     ]
    }
   ],
   "source": [
    "\"\"\"\n",
    "DON'T MODIFY ANYTHING IN THIS CELL\n",
    "\"\"\"\n",
    "from distutils.version import LooseVersion\n",
    "import warnings\n",
    "import tensorflow as tf\n",
    "\n",
    "# Check TensorFlow Version\n",
    "assert LooseVersion(tf.__version__) >= LooseVersion('1.0'), 'Please use TensorFlow version 1.0 or newer.  You are using {}'.format(tf.__version__)\n",
    "print('TensorFlow Version: {}'.format(tf.__version__))\n",
    "\n",
    "# Check for a GPU\n",
    "if not tf.test.gpu_device_name():\n",
    "    warnings.warn('No GPU found. Please use a GPU to train your neural network.')\n",
    "else:\n",
    "    print('Default GPU Device: {}'.format(tf.test.gpu_device_name()))"
   ]
  },
  {
   "cell_type": "code",
   "execution_count": 25,
   "metadata": {},
   "outputs": [],
   "source": [
    "#  No graphs is needed on tensorflow\n",
    "inputs_ = tf.placeholder(tf.float32, [None, seq_len, n_channels], name = 'inputs_')\n",
    "labels_ = tf.placeholder(tf.float32, [None, n_classes], name = 'labels_')\n",
    "keep_prob_ = tf.placeholder(tf.float32, name = 'keep_prob_')\n",
    "learning_rate_ = tf.placeholder(tf.float32, name = 'learning_rate_')"
   ]
  },
  {
   "cell_type": "code",
   "execution_count": 27,
   "metadata": {},
   "outputs": [],
   "source": [
    "# Convolutional Layers, FC Layer, and Output layer\n",
    "# # (batch, 192, 9) --> (batch, 91, 18)\n",
    "# out_conv = tf.layers.conv1d(inputs=inputs_, filters=18, kernel_size=12, strides=2, \n",
    "#                          padding='valid', activation = tf.nn.relu)\n",
    "# out_conv = tf.nn.dropout(x=out_conv, keep_prob=keep_prob_)\n",
    "# print(out_conv.shape)\n",
    "\n",
    "# # (batch, 91, 18) --> (batch, 91*18) --> (batch, 91*18*2)\n",
    "# # 91 * 18 = 728 + 910 = 1638 * 2 = 3276\n",
    "# # (batch, 91, 18) --> (batch, 1638) --> (batch, 3276)\n",
    "# in_fc = tf.reshape(out_conv, (-1, 91*18))\n",
    "# out_fc = tf.layers.dense(inputs=in_fc, units=91*18*2, activation=tf.nn.relu)\n",
    "# out_fc = tf.nn.dropout(x=out_fc, keep_prob=keep_prob_)\n",
    "# print(in_fc.shape, out_fc.shape)\n",
    "\n",
    "# # (batch, 91*18*2) --> (batch, 2) \n",
    "# logits = tf.layers.dense(inputs=out_fc, units=n_classes)\n",
    "# print(logits.shape)"
   ]
  },
  {
   "cell_type": "code",
   "execution_count": 37,
   "metadata": {},
   "outputs": [
    {
     "name": "stdout",
     "output_type": "stream",
     "text": [
      "(?, 192, 64)\n",
      "(192, ?, 64)\n",
      "(?, 64)\n",
      "192\n",
      "(?, 192)\n",
      "192\n"
     ]
    }
   ],
   "source": [
    "# Construct the LSTM inputs and LSTM cells\n",
    "#  This functions very similar to embedding\n",
    "print(inputs_.shape)\n",
    "lstm_in = tf.transpose(inputs_, [1,0,2]) # reshape into (seq_len, N, channels)\n",
    "print(lstm_in.shape)\n",
    "lstm_in = tf.reshape(lstm_in, [-1, n_channels]) # Now (seq_len*N, n_channels)\n",
    "print(lstm_in.shape)\n",
    "\n",
    "# To cells\n",
    "lstm_size = n_channels*3         # 3 times the amount of channels\n",
    "print(lstm_size)\n",
    "lstm_layers = 1        # Number of layers\n",
    "lstm_in = tf.layers.dense(lstm_in, lstm_size, activation=None) # or tf.nn.relu, tf.nn.sigmoid, tf.nn.tanh?\n",
    "print(lstm_in.shape)\n",
    "\n",
    "# Open up the tensor into a list of seq_len pieces\n",
    "lstm_in = tf.split(lstm_in, seq_len, 0)\n",
    "print(len(lstm_in))"
   ]
  },
  {
   "cell_type": "code",
   "execution_count": 38,
   "metadata": {},
   "outputs": [],
   "source": [
    "# # Construct the LSTM inputs and LSTM cells\n",
    "# # To cells\n",
    "# lstm_size = n_channels*3         # 3 times the amount of channels\n",
    "# print(lstm_size)\n",
    "# lstm_layers = 1        # Number of layers"
   ]
  },
  {
   "cell_type": "code",
   "execution_count": 39,
   "metadata": {},
   "outputs": [
    {
     "name": "stdout",
     "output_type": "stream",
     "text": [
      "<tensorflow.python.ops.rnn_cell_impl.BasicLSTMCell object at 0x7fc50c3c2b00>\n",
      "<tensorflow.python.ops.rnn_cell_impl.DropoutWrapper object at 0x7fc50c3c2ba8>\n",
      "<tensorflow.python.ops.rnn_cell_impl.MultiRNNCell object at 0x7fc50c3c2c88>\n",
      "(LSTMStateTuple(c=<tf.Tensor 'MultiRNNCellZeroState_3/DropoutWrapperZeroState/BasicLSTMCellZeroState/zeros:0' shape=(31, 192) dtype=float32>, h=<tf.Tensor 'MultiRNNCellZeroState_3/DropoutWrapperZeroState/BasicLSTMCellZeroState/zeros_1:0' shape=(31, 192) dtype=float32>),)\n"
     ]
    }
   ],
   "source": [
    "# Add LSTM layers\n",
    "lstm = tf.contrib.rnn.BasicLSTMCell(lstm_size)\n",
    "print(lstm)\n",
    "drop = tf.contrib.rnn.DropoutWrapper(lstm, output_keep_prob=keep_prob_)\n",
    "print(drop)\n",
    "cell = tf.contrib.rnn.MultiRNNCell([drop] * lstm_layers)\n",
    "print(cell)\n",
    "initial_state = cell.zero_state(batch_size, tf.float32)\n",
    "print(initial_state)"
   ]
  },
  {
   "cell_type": "code",
   "execution_count": 40,
   "metadata": {},
   "outputs": [],
   "source": [
    "# Reuse should be activated\n",
    "# Remember the inputs are usually embedded input or texts\n",
    "outputs, final_state = tf.contrib.rnn.static_rnn(cell=cell, inputs=lstm_in, dtype=tf.float32, \n",
    "                                                 initial_state = initial_state)\n",
    "# outputs, final_state = tf.nn.dynamic_rnn(cell, lstm_in, dtype=tf.float32, \n",
    "#                                          initial_state=initial_state)# print(outputs, final_state)"
   ]
  },
  {
   "cell_type": "code",
   "execution_count": 41,
   "metadata": {},
   "outputs": [
    {
     "name": "stdout",
     "output_type": "stream",
     "text": [
      "Tensor(\"logits/BiasAdd:0\", shape=(31, 2), dtype=float32) Tensor(\"rnn_3/rnn/multi_rnn_cell/cell_0_191/dropout/mul:0\", shape=(31, 192), dtype=float32)\n"
     ]
    }
   ],
   "source": [
    "# We only need the last output tensor to pass into a classifier\n",
    "logits = tf.layers.dense(outputs[-1], n_classes, name='logits')\n",
    "print(logits, outputs[-1])"
   ]
  },
  {
   "cell_type": "code",
   "execution_count": 42,
   "metadata": {},
   "outputs": [],
   "source": [
    "# Cost function\n",
    "cost_tensor = tf.nn.softmax_cross_entropy_with_logits(logits=logits, labels=labels_)\n",
    "cost = tf.reduce_mean(input_tensor=cost_tensor)\n",
    "\n",
    "# Optimizer\n",
    "optimizer = tf.train.AdamOptimizer(learning_rate=learning_rate_).minimize(cost)\n",
    "\n",
    "# Accuracy\n",
    "correct_pred = tf.equal(tf.argmax(logits, 1), tf.argmax(labels_, 1))\n",
    "accuracy = tf.reduce_mean(tf.cast(correct_pred, tf.float32), name='accuracy')"
   ]
  },
  {
   "cell_type": "markdown",
   "metadata": {},
   "source": [
    "### Train the network"
   ]
  },
  {
   "cell_type": "code",
   "execution_count": 48,
   "metadata": {},
   "outputs": [
    {
     "name": "stdout",
     "output_type": "stream",
     "text": [
      "Epoch: 1/1 Train loss: 0.729235 Validation loss: 0.741735 Train acc: 0.612903 Validation acc: 0.524381\n",
      "Epoch: 1/1 Train loss: 0.615117 Validation loss: 0.740116 Train acc: 0.741935 Validation acc: 0.546136\n",
      "Epoch: 1/1 Train loss: 0.580960 Validation loss: 0.721459 Train acc: 0.806452 Validation acc: 0.553638\n",
      "Epoch: 1/1 Train loss: 0.432633 Validation loss: 0.720844 Train acc: 0.870968 Validation acc: 0.552138\n",
      "Epoch: 1/1 Train loss: 0.583333 Validation loss: 0.721707 Train acc: 0.806452 Validation acc: 0.552888\n",
      "Epoch: 1/1 Train loss: 0.568717 Validation loss: 0.673426 Train acc: 0.741935 Validation acc: 0.583646\n",
      "Epoch: 1/1 Train loss: 0.603415 Validation loss: 0.625383 Train acc: 0.645161 Validation acc: 0.648162\n",
      "Epoch: 1/1 Train loss: 0.463846 Validation loss: 0.598205 Train acc: 0.774194 Validation acc: 0.694674\n",
      "Epoch: 1/1 Train loss: 0.517157 Validation loss: 0.586475 Train acc: 0.838710 Validation acc: 0.708927\n",
      "Epoch: 1/1 Train loss: 0.547511 Validation loss: 0.578707 Train acc: 0.838710 Validation acc: 0.726181\n",
      "Epoch: 1/1 Train loss: 0.477066 Validation loss: 0.570811 Train acc: 0.774194 Validation acc: 0.732183\n",
      "Epoch: 1/1 Train loss: 0.469583 Validation loss: 0.566185 Train acc: 0.806452 Validation acc: 0.735934\n",
      "Epoch: 1/1 Train loss: 0.655785 Validation loss: 0.562022 Train acc: 0.677419 Validation acc: 0.748687\n",
      "Epoch: 1/1 Train loss: 0.450451 Validation loss: 0.555154 Train acc: 0.838710 Validation acc: 0.751688\n",
      "Epoch: 1/1 Train loss: 0.397606 Validation loss: 0.548967 Train acc: 0.870968 Validation acc: 0.759190\n",
      "Epoch: 1/1 Train loss: 0.582136 Validation loss: 0.542094 Train acc: 0.709677 Validation acc: 0.761440\n",
      "Epoch: 1/1 Train loss: 0.427609 Validation loss: 0.535070 Train acc: 0.806452 Validation acc: 0.765941\n",
      "Epoch: 1/1 Train loss: 0.753960 Validation loss: 0.527194 Train acc: 0.483871 Validation acc: 0.771943\n",
      "Epoch: 1/1 Train loss: 0.506627 Validation loss: 0.521053 Train acc: 0.806452 Validation acc: 0.778695\n",
      "Epoch: 1/1 Train loss: 0.441734 Validation loss: 0.517767 Train acc: 0.806452 Validation acc: 0.787697\n",
      "Epoch: 1/1 Train loss: 0.483913 Validation loss: 0.515105 Train acc: 0.838710 Validation acc: 0.792198\n",
      "Epoch: 1/1 Train loss: 0.486968 Validation loss: 0.511429 Train acc: 0.806452 Validation acc: 0.797449\n",
      "Epoch: 1/1 Train loss: 0.566368 Validation loss: 0.507820 Train acc: 0.838710 Validation acc: 0.800450\n",
      "Epoch: 1/1 Train loss: 0.400656 Validation loss: 0.505911 Train acc: 0.870968 Validation acc: 0.804951\n",
      "Epoch: 1/1 Train loss: 0.480685 Validation loss: 0.502525 Train acc: 0.774194 Validation acc: 0.811703\n",
      "Epoch: 1/1 Train loss: 0.675986 Validation loss: 0.494964 Train acc: 0.709677 Validation acc: 0.818455\n",
      "Epoch: 1/1 Train loss: 0.488571 Validation loss: 0.488997 Train acc: 0.741935 Validation acc: 0.822205\n",
      "Epoch: 1/1 Train loss: 0.506609 Validation loss: 0.484870 Train acc: 0.806452 Validation acc: 0.825206\n",
      "Epoch: 1/1 Train loss: 0.548273 Validation loss: 0.481420 Train acc: 0.838710 Validation acc: 0.825956\n",
      "Epoch: 1/1 Train loss: 0.478703 Validation loss: 0.478712 Train acc: 0.709677 Validation acc: 0.825956\n",
      "Epoch: 1/1 Train loss: 0.470468 Validation loss: 0.477448 Train acc: 0.838710 Validation acc: 0.825956\n",
      "Epoch: 1/1 Train loss: 0.538786 Validation loss: 0.476647 Train acc: 0.741935 Validation acc: 0.827457\n",
      "Epoch: 1/1 Train loss: 0.545225 Validation loss: 0.476527 Train acc: 0.774194 Validation acc: 0.829707\n",
      "Epoch: 1/1 Train loss: 0.435107 Validation loss: 0.476867 Train acc: 0.806452 Validation acc: 0.829707\n",
      "Epoch: 1/1 Train loss: 0.671297 Validation loss: 0.474524 Train acc: 0.774194 Validation acc: 0.830458\n",
      "Epoch: 1/1 Train loss: 0.379278 Validation loss: 0.472597 Train acc: 0.838710 Validation acc: 0.830458\n",
      "Epoch: 1/1 Train loss: 0.459742 Validation loss: 0.471157 Train acc: 0.838710 Validation acc: 0.831208\n",
      "Epoch: 1/1 Train loss: 0.617286 Validation loss: 0.470667 Train acc: 0.741935 Validation acc: 0.830458\n",
      "Epoch: 1/1 Train loss: 0.595803 Validation loss: 0.469160 Train acc: 0.806452 Validation acc: 0.831958\n",
      "Epoch: 1/1 Train loss: 0.475561 Validation loss: 0.469271 Train acc: 0.838710 Validation acc: 0.832708\n",
      "Epoch: 1/1 Train loss: 0.528208 Validation loss: 0.470956 Train acc: 0.838710 Validation acc: 0.832708\n",
      "Epoch: 1/1 Train loss: 0.495461 Validation loss: 0.472579 Train acc: 0.806452 Validation acc: 0.833458\n",
      "Epoch: 1/1 Train loss: 0.339474 Validation loss: 0.474151 Train acc: 0.870968 Validation acc: 0.833458\n",
      "Epoch: 1/1 Train loss: 0.588494 Validation loss: 0.474819 Train acc: 0.806452 Validation acc: 0.833458\n",
      "Epoch: 1/1 Train loss: 0.365779 Validation loss: 0.475163 Train acc: 0.870968 Validation acc: 0.833458\n",
      "Epoch: 1/1 Train loss: 0.599714 Validation loss: 0.474355 Train acc: 0.806452 Validation acc: 0.833458\n",
      "Epoch: 1/1 Train loss: 0.572133 Validation loss: 0.470168 Train acc: 0.806452 Validation acc: 0.833458\n",
      "Epoch: 1/1 Train loss: 0.428325 Validation loss: 0.467504 Train acc: 0.838710 Validation acc: 0.833458\n",
      "Epoch: 1/1 Train loss: 0.527621 Validation loss: 0.465932 Train acc: 0.741935 Validation acc: 0.833458\n",
      "Epoch: 1/1 Train loss: 0.520871 Validation loss: 0.464783 Train acc: 0.838710 Validation acc: 0.833458\n",
      "Epoch: 1/1 Train loss: 0.628219 Validation loss: 0.463950 Train acc: 0.774194 Validation acc: 0.833458\n",
      "Epoch: 1/1 Train loss: 0.554700 Validation loss: 0.461861 Train acc: 0.838710 Validation acc: 0.833458\n",
      "Epoch: 1/1 Train loss: 0.510681 Validation loss: 0.460393 Train acc: 0.806452 Validation acc: 0.833458\n",
      "Epoch: 1/1 Train loss: 0.547367 Validation loss: 0.460352 Train acc: 0.838710 Validation acc: 0.833458\n",
      "Epoch: 1/1 Train loss: 0.425676 Validation loss: 0.462303 Train acc: 0.838710 Validation acc: 0.833458\n",
      "Epoch: 1/1 Train loss: 0.445641 Validation loss: 0.464874 Train acc: 0.838710 Validation acc: 0.833458\n",
      "Epoch: 1/1 Train loss: 0.512801 Validation loss: 0.467514 Train acc: 0.806452 Validation acc: 0.833458\n",
      "Epoch: 1/1 Train loss: 0.515890 Validation loss: 0.470895 Train acc: 0.838710 Validation acc: 0.833458\n",
      "Epoch: 1/1 Train loss: 0.451915 Validation loss: 0.475203 Train acc: 0.838710 Validation acc: 0.833458\n",
      "Epoch: 1/1 Train loss: 0.409683 Validation loss: 0.478213 Train acc: 0.870968 Validation acc: 0.833458\n",
      "Epoch: 1/1 Train loss: 0.494060 Validation loss: 0.481432 Train acc: 0.806452 Validation acc: 0.833458\n",
      "Epoch: 1/1 Train loss: 0.447888 Validation loss: 0.482684 Train acc: 0.870968 Validation acc: 0.833458\n",
      "Epoch: 1/1 Train loss: 0.495941 Validation loss: 0.482336 Train acc: 0.806452 Validation acc: 0.833458\n",
      "Epoch: 1/1 Train loss: 0.374016 Validation loss: 0.483382 Train acc: 0.838710 Validation acc: 0.833458\n",
      "Epoch: 1/1 Train loss: 0.556160 Validation loss: 0.480316 Train acc: 0.806452 Validation acc: 0.833458\n",
      "Epoch: 1/1 Train loss: 0.512291 Validation loss: 0.474919 Train acc: 0.838710 Validation acc: 0.833458\n",
      "Epoch: 1/1 Train loss: 0.493005 Validation loss: 0.471388 Train acc: 0.806452 Validation acc: 0.833458\n",
      "Epoch: 1/1 Train loss: 0.430360 Validation loss: 0.467266 Train acc: 0.870968 Validation acc: 0.833458\n",
      "Epoch: 1/1 Train loss: 0.431617 Validation loss: 0.464443 Train acc: 0.838710 Validation acc: 0.833458\n",
      "Epoch: 1/1 Train loss: 0.580382 Validation loss: 0.462681 Train acc: 0.806452 Validation acc: 0.833458\n",
      "Epoch: 1/1 Train loss: 0.460099 Validation loss: 0.461726 Train acc: 0.838710 Validation acc: 0.833458\n",
      "Epoch: 1/1 Train loss: 0.527491 Validation loss: 0.461776 Train acc: 0.838710 Validation acc: 0.833458\n",
      "Epoch: 1/1 Train loss: 0.401517 Validation loss: 0.462087 Train acc: 0.838710 Validation acc: 0.833458\n",
      "Epoch: 1/1 Train loss: 0.465905 Validation loss: 0.462301 Train acc: 0.806452 Validation acc: 0.833458\n",
      "Epoch: 1/1 Train loss: 0.453619 Validation loss: 0.461527 Train acc: 0.870968 Validation acc: 0.833458\n",
      "Epoch: 1/1 Train loss: 0.464061 Validation loss: 0.460383 Train acc: 0.838710 Validation acc: 0.833458\n",
      "Epoch: 1/1 Train loss: 0.600693 Validation loss: 0.459463 Train acc: 0.774194 Validation acc: 0.833458\n",
      "Epoch: 1/1 Train loss: 0.480707 Validation loss: 0.458692 Train acc: 0.838710 Validation acc: 0.833458\n",
      "Epoch: 1/1 Train loss: 0.508672 Validation loss: 0.457661 Train acc: 0.806452 Validation acc: 0.833458\n",
      "Epoch: 1/1 Train loss: 0.492152 Validation loss: 0.456948 Train acc: 0.870968 Validation acc: 0.833458\n"
     ]
    },
    {
     "name": "stdout",
     "output_type": "stream",
     "text": [
      "Epoch: 1/1 Train loss: 0.565825 Validation loss: 0.456541 Train acc: 0.806452 Validation acc: 0.833458\n",
      "Epoch: 1/1 Train loss: 0.564909 Validation loss: 0.456732 Train acc: 0.774194 Validation acc: 0.833458\n",
      "Epoch: 1/1 Train loss: 0.479041 Validation loss: 0.457484 Train acc: 0.838710 Validation acc: 0.833458\n",
      "Epoch: 1/1 Train loss: 0.429094 Validation loss: 0.458788 Train acc: 0.838710 Validation acc: 0.833458\n",
      "Epoch: 1/1 Train loss: 0.404151 Validation loss: 0.461374 Train acc: 0.838710 Validation acc: 0.833458\n",
      "Epoch: 1/1 Train loss: 0.605953 Validation loss: 0.461968 Train acc: 0.741935 Validation acc: 0.833458\n",
      "Epoch: 1/1 Train loss: 0.523092 Validation loss: 0.463016 Train acc: 0.774194 Validation acc: 0.833458\n",
      "Epoch: 1/1 Train loss: 0.515139 Validation loss: 0.462276 Train acc: 0.806452 Validation acc: 0.833458\n",
      "Epoch: 1/1 Train loss: 0.429008 Validation loss: 0.462441 Train acc: 0.838710 Validation acc: 0.833458\n",
      "Epoch: 1/1 Train loss: 0.454095 Validation loss: 0.461983 Train acc: 0.838710 Validation acc: 0.833458\n",
      "Epoch: 1/1 Train loss: 0.470035 Validation loss: 0.461621 Train acc: 0.806452 Validation acc: 0.833458\n",
      "Epoch: 1/1 Train loss: 0.477706 Validation loss: 0.461472 Train acc: 0.838710 Validation acc: 0.833458\n",
      "Epoch: 1/1 Train loss: 0.592983 Validation loss: 0.461775 Train acc: 0.806452 Validation acc: 0.833458\n",
      "Epoch: 1/1 Train loss: 0.460906 Validation loss: 0.460841 Train acc: 0.838710 Validation acc: 0.833458\n",
      "Epoch: 1/1 Train loss: 0.520988 Validation loss: 0.462427 Train acc: 0.806452 Validation acc: 0.833458\n",
      "Epoch: 1/1 Train loss: 0.516388 Validation loss: 0.461182 Train acc: 0.774194 Validation acc: 0.833458\n",
      "Epoch: 1/1 Train loss: 0.453483 Validation loss: 0.460624 Train acc: 0.838710 Validation acc: 0.833458\n",
      "Epoch: 1/1 Train loss: 0.471046 Validation loss: 0.460693 Train acc: 0.838710 Validation acc: 0.833458\n",
      "Epoch: 1/1 Train loss: 0.496680 Validation loss: 0.460418 Train acc: 0.806452 Validation acc: 0.833458\n",
      "Epoch: 1/1 Train loss: 0.477794 Validation loss: 0.459931 Train acc: 0.806452 Validation acc: 0.833458\n",
      "Epoch: 1/1 Train loss: 0.508555 Validation loss: 0.459461 Train acc: 0.838710 Validation acc: 0.833458\n",
      "Epoch: 1/1 Train loss: 0.511825 Validation loss: 0.458443 Train acc: 0.838710 Validation acc: 0.833458\n"
     ]
    }
   ],
   "source": [
    "validation_acc = []\n",
    "validation_loss = []\n",
    "\n",
    "train_acc = []\n",
    "train_loss = []\n",
    "\n",
    "with tf.Session() as sess:\n",
    "    # initalize session global variables just in the case they are initialized.\n",
    "    sess.run(tf.global_variables_initializer())\n",
    "    \n",
    "    for e in range(epochs):\n",
    "        # Initialize \n",
    "        state = sess.run(initial_state)\n",
    "        \n",
    "        # Loop over batches\n",
    "        for x, y in get_batches(X_train_norm, Y_train_onehot, batch_size):\n",
    "            \n",
    "            # Feed dictionary\n",
    "            feed = {inputs_:x, labels_:y, keep_prob_: keep_prob, initial_state:state, \n",
    "                    learning_rate_:learning_rate}\n",
    "            loss, _ , state, acc = sess.run([cost, optimizer, final_state, accuracy], \n",
    "                                             feed_dict = feed)\n",
    "            train_acc.append(acc)\n",
    "            train_loss.append(loss)\n",
    "            \n",
    "            # Initiate for validation set\n",
    "            val_state = sess.run(cell.zero_state(batch_size, tf.float32))\n",
    "\n",
    "            val_acc_ = []\n",
    "            val_loss_ = []\n",
    "\n",
    "            for x_v, y_v in get_batches(X_valid_norm, Y_valid_onehot, batch_size):\n",
    "\n",
    "                # Feed dictiobary of valid minibatches\n",
    "                feed = {inputs_:x_v, labels_:y_v, keep_prob_:1.0, initial_state:val_state}\n",
    "\n",
    "                # Loss\n",
    "                loss_v, val_state, acc_v = sess.run([cost, final_state, accuracy], feed_dict = feed)\n",
    "                # loss_v, state_v, acc_v = sess.run([cost, final_state, accuracy], feed_dict = feed)\n",
    "\n",
    "                val_acc_.append(acc_v)\n",
    "                val_loss_.append(loss_v)\n",
    "\n",
    "            # Print info\n",
    "            print(\"Epoch: {}/{}\".format(e+1, epochs),\n",
    "                  \"Train loss: {:6f}\".format(loss),\n",
    "                  \"Validation loss: {:6f}\".format(np.mean(val_loss_)),\n",
    "                  \"Train acc: {:.6f}\".format(acc),\n",
    "                  \"Validation acc: {:.6f}\".format(np.mean(val_acc_)))\n",
    "\n",
    "            # Store\n",
    "            validation_acc.append(np.mean(val_acc_))\n",
    "            validation_loss.append(np.mean(val_loss_))"
   ]
  },
  {
   "cell_type": "code",
   "execution_count": 49,
   "metadata": {},
   "outputs": [
    {
     "data": {
      "image/png": "[encoded data removed]",
      "text/plain": [
       "<matplotlib.figure.Figure at 0x7fc44e27d390>"
      ]
     },
     "metadata": {},
     "output_type": "display_data"
    }
   ],
   "source": [
    "import matplotlib.pyplot as mplot\n",
    "\n",
    "mplot.plot(train_loss, label='train_losses')\n",
    "mplot.plot(validation_loss, label='valid_losses')\n",
    "mplot.legend()\n",
    "mplot.show()"
   ]
  },
  {
   "cell_type": "code",
   "execution_count": 50,
   "metadata": {},
   "outputs": [
    {
     "data": {
      "image/png": "[encoded data removed]",
      "text/plain": [
       "<matplotlib.figure.Figure at 0x7fc44d88ed30>"
      ]
     },
     "metadata": {},
     "output_type": "display_data"
    }
   ],
   "source": [
    "# import matplotlib.pyplot as mplot\n",
    "\n",
    "mplot.plot(train_acc, label='train_acc_list')\n",
    "mplot.plot(validation_acc, label='valid_acc_list')\n",
    "mplot.legend()\n",
    "mplot.show()"
   ]
  },
  {
   "cell_type": "code",
   "execution_count": null,
   "metadata": {},
   "outputs": [],
   "source": []
  }
 ],
 "metadata": {
  "kernelspec": {
   "display_name": "Python 3",
   "language": "python",
   "name": "python3"
  },
  "language_info": {
   "codemirror_mode": {
    "name": "ipython",
    "version": 3
   },
   "file_extension": ".py",
   "mimetype": "text/x-python",
   "name": "python",
   "nbconvert_exporter": "python",
   "pygments_lexer": "ipython3",
   "version": "3.6.3"
  }
 },
 "nbformat": 4,
 "nbformat_minor": 2
}
