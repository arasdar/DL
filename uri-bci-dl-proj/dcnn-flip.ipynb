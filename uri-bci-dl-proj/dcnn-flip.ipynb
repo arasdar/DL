{
 "cells": [
  {
   "cell_type": "code",
   "execution_count": 1,
   "metadata": {},
   "outputs": [
    {
     "name": "stdout",
     "output_type": "stream",
     "text": [
      "(31500, 205, 16) float64 (31500, 1) uint8\n",
      "0.5 0.5\n",
      "[2]\n"
     ]
    }
   ],
   "source": [
    "# Read the data\n",
    "import scipy.io as spio\n",
    "import numpy as np\n",
    "\n",
    "BahramFace = spio.loadmat(file_name='/home/arasdar/datasets/bci-project-data-RAW/BahramFlipp.mat')\n",
    "DJFace = spio.loadmat(file_name='/home/arasdar/datasets/bci-project-data-RAW/DJFlipp.mat')\n",
    "NickFace = spio.loadmat(file_name='/home/arasdar/datasets/bci-project-data-RAW/NickFlipp.mat')\n",
    "RoohiFace = spio.loadmat(file_name='/home/arasdar/datasets/bci-project-data-RAW/RoohiFlipp.mat')\n",
    "SarahFace = spio.loadmat(file_name='/home/arasdar/datasets/bci-project-data-RAW/SarahFlipp.mat')\n",
    "\n",
    "AllFacesData = np.concatenate((BahramFace['Intensification_Data'],\n",
    "                               DJFace['Intensification_Data'],\n",
    "                               NickFace['Intensification_Data'],\n",
    "                               RoohiFace['Intensification_Data'],\n",
    "                               SarahFace['Intensification_Data']), axis=0)\n",
    "\n",
    "AllFacesLabel = np.concatenate((BahramFace['Intensification_Label'],\n",
    "                                DJFace['Intensification_Label'],\n",
    "                                NickFace['Intensification_Label'],\n",
    "                                RoohiFace['Intensification_Label'],\n",
    "                                SarahFace['Intensification_Label']), axis=0)\n",
    "\n",
    "AllFacesLabelOne = (AllFacesLabel==1).reshape(-1)\n",
    "AllFacesData_LabelOne = AllFacesData[AllFacesLabelOne]\n",
    "\n",
    "AllFacesLabelZero = (AllFacesLabel==0).reshape(-1)\n",
    "AllFacesData_LabelZero = AllFacesData[AllFacesLabelZero]\n",
    "\n",
    "# Linear synthetic data augmentatiion or creation or generation\n",
    "AllFacesData_LabelOneNew_list = []\n",
    "\n",
    "# w*data+b: translation, rotation, and scaling\n",
    "# linear transformation of the target data\n",
    "w, b = 1.0, 0.0\n",
    "for idx in range(5):\n",
    "    AllFacesData_LabelOneNew = (w * AllFacesData_LabelOne) + b\n",
    "    AllFacesData_LabelOneNew_list.append(AllFacesData_LabelOneNew)\n",
    "    w *= 0.9 # 1.0, 0.9, 0.81, 0.729\n",
    "    b += 0.1 # 0.1, 0.2, 0.3\n",
    "\n",
    "AllFacesData_LabelOneNew_total = np.array(AllFacesData_LabelOneNew_list, \n",
    "                                      dtype=AllFacesData_LabelOne.dtype).reshape(-1, 205, 16)\n",
    "\n",
    "AllFacesDataNew = np.concatenate((AllFacesData_LabelOneNew_total, AllFacesData_LabelZero), axis=0)\n",
    "\n",
    "AllFacesLabelNew = np.concatenate((AllFacesLabel[AllFacesLabelZero], # Tgt = 6*Non-Tgt\n",
    "                                   AllFacesLabel[AllFacesLabelOne],\n",
    "                                   AllFacesLabel[AllFacesLabelOne],\n",
    "                                   AllFacesLabel[AllFacesLabelOne], \n",
    "                                   AllFacesLabel[AllFacesLabelOne], \n",
    "                                   AllFacesLabel[AllFacesLabelOne]), axis=0)\n",
    "\n",
    "print(AllFacesDataNew.shape, AllFacesDataNew.dtype, AllFacesLabelNew.shape, AllFacesLabelNew.dtype)\n",
    "print(np.mean(AllFacesLabelNew==0), np.mean(AllFacesLabelNew==1))\n",
    "print((AllFacesLabelNew +  1).max(axis=0))"
   ]
  },
  {
   "cell_type": "code",
   "execution_count": 2,
   "metadata": {},
   "outputs": [
    {
     "name": "stdout",
     "output_type": "stream",
     "text": [
      "(22050, 205, 16) (9450, 205, 16) (22050, 1) (9450, 1)\n"
     ]
    }
   ],
   "source": [
    "# Train and test split\n",
    "from sklearn.model_selection import train_test_split\n",
    "\n",
    "X_train_valid, X_test, Y_train_valid, Y_test = train_test_split(AllFacesDataNew, AllFacesLabelNew, \n",
    "                                                                test_size=0.30)\n",
    "\n",
    "print(X_train_valid.shape, X_test.shape, Y_train_valid.shape, Y_test.shape)"
   ]
  },
  {
   "cell_type": "code",
   "execution_count": 3,
   "metadata": {},
   "outputs": [
    {
     "name": "stdout",
     "output_type": "stream",
     "text": [
      "0.0 0.498820861678 0.501179138322 0.0\n",
      "(22050, 2) float64 (9450, 2) float64\n"
     ]
    }
   ],
   "source": [
    "# Pre-processing input and output data\n",
    "from utilities import *\n",
    "\n",
    "# Normalizing the input data\n",
    "X_train_valid_norm, X_test_norm = standardize(test=X_test, train=X_train_valid)\n",
    "\n",
    "# # Onehot encoding/vectorizing the output labels/ data\n",
    "print(np.mean((Y_train_valid+1).reshape(-1)==0), np.mean((Y_train_valid+1).reshape(-1)==1),\n",
    "     np.mean((Y_train_valid+1).reshape(-1)==2), np.mean((Y_train_valid+1).reshape(-1)==3))\n",
    "\n",
    "Y_train_valid_onehot = one_hot(labels=(Y_train_valid+1).reshape(-1), n_class=2) \n",
    "Y_test_onehot = one_hot(labels=(Y_test+1).reshape(-1), n_class=2) \n",
    "\n",
    "print(Y_train_valid_onehot.shape, Y_train_valid_onehot.dtype, \n",
    "      Y_test_onehot.shape, Y_test_onehot.dtype)"
   ]
  },
  {
   "cell_type": "code",
   "execution_count": 5,
   "metadata": {},
   "outputs": [
    {
     "name": "stdout",
     "output_type": "stream",
     "text": [
      "(15435, 205, 16) (6615, 205, 16) (15435, 2) (6615, 2)\n"
     ]
    }
   ],
   "source": [
    "# Train and valid split\n",
    "# from sklearn.model_selection import train_test_split\n",
    "\n",
    "X_train_norm, X_valid_norm, Y_train_onehot, Y_valid_onehot = train_test_split(X_train_valid_norm, \n",
    "                                                                              Y_train_valid_onehot,\n",
    "                                                                              test_size=0.30)\n",
    "\n",
    "print(X_train_norm.shape, X_valid_norm.shape, Y_train_onehot.shape, Y_valid_onehot.shape)"
   ]
  },
  {
   "cell_type": "code",
   "execution_count": 6,
   "metadata": {},
   "outputs": [
    {
     "name": "stdout",
     "output_type": "stream",
     "text": [
      "batch_size, seq_len, n_channels 154 205 16\n",
      "n_classes [2]\n"
     ]
    }
   ],
   "source": [
    "### Hyperparameters\n",
    "\n",
    "# Input data\n",
    "batch_size = X_train_norm.shape[0]// 100 # minibatch size & number of minibatches\n",
    "seq_len = X_train_norm.shape[1] # Number of steps: each trial length\n",
    "n_channels = X_train_norm.shape[2] # number of channels in each trial\n",
    "print('batch_size, seq_len, n_channels', batch_size, seq_len, n_channels)\n",
    "\n",
    "# Output labels\n",
    "n_classes = Y_train_valid.max(axis=0)+1\n",
    "assert Y_train_valid.max(axis=0) == Y_test.max(axis=0)\n",
    "print('n_classes', n_classes)\n",
    "\n",
    "# learning parameters\n",
    "learning_rate = 0.0001 #1e-4\n",
    "epochs = 100 # num iterations for updating model\n",
    "keep_prob = 0.50 # 90% neurons are kept and 10% are dropped out"
   ]
  },
  {
   "cell_type": "code",
   "execution_count": 7,
   "metadata": {},
   "outputs": [
    {
     "name": "stdout",
     "output_type": "stream",
     "text": [
      "TensorFlow Version: 1.3.0\n",
      "Default GPU Device: /gpu:0\n"
     ]
    }
   ],
   "source": [
    "# GPUs or CPU\n",
    "import tensorflow as tf\n",
    "\n",
    "# Check TensorFlow Version\n",
    "print('TensorFlow Version: {}'.format(tf.__version__))\n",
    "\n",
    "# Check for a GPU\n",
    "print('Default GPU Device: {}'.format(tf.test.gpu_device_name()))"
   ]
  },
  {
   "cell_type": "code",
   "execution_count": 8,
   "metadata": {},
   "outputs": [],
   "source": [
    "#  Buffering/ placeholders to transfer the data from py to tf\n",
    "inputs_ = tf.placeholder(tf.float32, [None, seq_len, n_channels], name = 'inputs_')\n",
    "labels_ = tf.placeholder(tf.float32, [None, n_classes], name = 'labels_')\n",
    "keep_prob_ = tf.placeholder(tf.float32, name = 'keep_prob_')\n",
    "learning_rate_ = tf.placeholder(tf.float32, name = 'learning_rate_')# Construct the LSTM inputs and LSTM cells"
   ]
  },
  {
   "cell_type": "code",
   "execution_count": 9,
   "metadata": {},
   "outputs": [
    {
     "name": "stdout",
     "output_type": "stream",
     "text": [
      "(?, 205, 16) (?, 204, 32) (?, 102, 32)\n",
      "(?, 102, 32) (?, 102, 64) (?, 51, 64)\n",
      "(?, 51, 64) (?, 50, 128) (?, 25, 128)\n",
      "(?, 25, 128) (?, 24, 256) (?, 12, 256)\n",
      "(?, 12, 256) (?, 3072) (?, 2)\n"
     ]
    }
   ],
   "source": [
    "# with graph.as_default():\n",
    "# batch_size, seq_len, n_channels: 218 205 16\n",
    "# (batch, 205, 16) --> (batch, 102, 32)\n",
    "# conv valid: (205-2+0)/1 + 1 = (203/1)+1 = 203 + 1=204\n",
    "# pool same: (204-2+0)/2 + 1 = (202/2)+1 = 101 + 1=102\n",
    "conv1 = tf.layers.conv1d(inputs=inputs_, filters=32, kernel_size=2, strides=1, padding='valid', \n",
    "                         activation = tf.nn.relu)\n",
    "max_pool_1 = tf.layers.max_pooling1d(inputs=conv1, pool_size=2, strides=2, padding='same')\n",
    "# max_pool_1 = tf.nn.dropout(max_pool_1, keep_prob=keep_prob_)\n",
    "print(inputs_.shape, conv1.shape, max_pool_1.shape)\n",
    "\n",
    "# (batch, 102, 32) --> (batch, 51, 64)\n",
    "# conv same\n",
    "# pool same: (102-2+0)/2 + 1 = (100/2)+1 = 50 + 1=51\n",
    "conv2 = tf.layers.conv1d(inputs=max_pool_1, filters=64, kernel_size=2, strides=1, padding='same', \n",
    "                         activation = tf.nn.relu)\n",
    "max_pool_2 = tf.layers.max_pooling1d(inputs=conv2, pool_size=2, strides=2, padding='same')\n",
    "# max_pool_2 = tf.nn.dropout(max_pool_2, keep_prob=keep_prob_)\n",
    "print(max_pool_1.shape, conv2.shape, max_pool_2.shape)\n",
    "\n",
    "# (batch, 51, 64) --> (batch, 25, 128)\n",
    "# conv valid: (51-2+0)/1 + 1 = (49/1)+1 = 49 + 1=50\n",
    "# pool same: (50-2+0)/2 + 1 = (48/2)+1 = 24 + 1=25\n",
    "conv3 = tf.layers.conv1d(inputs=max_pool_2, filters=128, kernel_size=2, strides=1, padding='valid', \n",
    "                         activation = tf.nn.relu)\n",
    "max_pool_3 = tf.layers.max_pooling1d(inputs=conv3, pool_size=2, strides=2, padding='same')\n",
    "# max_pool_3 = tf.nn.dropout(max_pool_3, keep_prob=keep_prob_)\n",
    "print(max_pool_2.shape, conv3.shape, max_pool_3.shape)\n",
    "\n",
    "# (batch, 25, 128) --> (batch, 12, 256)\n",
    "# conv valid: (25-2+0)/1 + 1 = (23/1)+1 = 23 + 1=24\n",
    "# pool same: (24-2+0)/2 + 1 = (22/2)+1 = 11 + 1=12\n",
    "conv4 = tf.layers.conv1d(inputs=max_pool_3, filters=256, kernel_size=2, strides=1, padding='valid', \n",
    "                         activation = tf.nn.relu)\n",
    "max_pool_4 = tf.layers.max_pooling1d(inputs=conv4, pool_size=3, strides=2, padding='same')\n",
    "# max_pool_4 = tf.nn.dropout(max_pool_4, keep_prob=keep_prob_)\n",
    "print(max_pool_3.shape, conv4.shape, max_pool_4.shape)\n",
    "\n",
    "# Flatten and add dropout + predicted output\n",
    "flat = tf.reshape(max_pool_4, (-1, 12*256))\n",
    "flat = tf.nn.dropout(flat, keep_prob=keep_prob_)\n",
    "logits = tf.layers.dense(flat, n_classes)\n",
    "print(max_pool_4.shape, flat.shape, logits.shape)"
   ]
  },
  {
   "cell_type": "code",
   "execution_count": 12,
   "metadata": {},
   "outputs": [
    {
     "name": "stdout",
     "output_type": "stream",
     "text": [
      "Tensor(\"Equal_2:0\", shape=(?,), dtype=bool) Tensor(\"accuracy_2:0\", shape=(), dtype=float32)\n",
      "Tensor(\"confusion_matrix_2/SparseTensorDenseAdd:0\", shape=(?, ?), dtype=int32)\n"
     ]
    }
   ],
   "source": [
    "# Backward pass: error backpropagation\n",
    "# Cost function\n",
    "cost_tensor = tf.nn.softmax_cross_entropy_with_logits(logits=logits, labels=labels_)\n",
    "cost = tf.reduce_mean(input_tensor=cost_tensor)\n",
    "\n",
    "# Optimizer\n",
    "optimizer = tf.train.AdamOptimizer(learning_rate=learning_rate_).minimize(cost)\n",
    "\n",
    "# Accuracy\n",
    "correct_pred = tf.equal(tf.argmax(logits, 1), tf.argmax(labels_, 1))\n",
    "accuracy = tf.reduce_mean(tf.cast(correct_pred, tf.float32), name='accuracy')\n",
    "print(correct_pred, accuracy)\n",
    "\n",
    "# Confusion matrix\n",
    "confusion_matrix = tf.confusion_matrix(predictions=tf.argmax(logits, 1),\n",
    "                                       labels=tf.argmax(labels_, 1))\n",
    "print(confusion_matrix)"
   ]
  },
  {
   "cell_type": "code",
   "execution_count": 13,
   "metadata": {},
   "outputs": [
    {
     "name": "stdout",
     "output_type": "stream",
     "text": [
      "Epoch: 1/100 Train loss: 0.701912 Valid loss: 0.676955 Train acc: 0.532987 Valid acc: 0.558664\n",
      "Epoch: 2/100 Train loss: 0.678280 Valid loss: 0.659171 Train acc: 0.575162 Valid acc: 0.608673\n",
      "Epoch: 3/100 Train loss: 0.656269 Valid loss: 0.639078 Train acc: 0.610887 Valid acc: 0.643293\n",
      "Epoch: 4/100 Train loss: 0.632769 Valid loss: 0.616607 Train acc: 0.640812 Valid acc: 0.670805\n",
      "Epoch: 5/100 Train loss: 0.610448 Valid loss: 0.594388 Train acc: 0.664766 Valid acc: 0.692413\n",
      "Epoch: 6/100 Train loss: 0.590348 Valid loss: 0.574320 Train acc: 0.684069 Valid acc: 0.709663\n",
      "Epoch: 7/100 Train loss: 0.571919 Valid loss: 0.556700 Train acc: 0.699842 Valid acc: 0.723627\n",
      "Epoch: 8/100 Train loss: 0.556391 Valid loss: 0.541779 Train acc: 0.712451 Valid acc: 0.734702\n",
      "Epoch: 9/100 Train loss: 0.542809 Valid loss: 0.529027 Train acc: 0.723384 Valid acc: 0.743834\n",
      "Epoch: 10/100 Train loss: 0.530440 Valid loss: 0.517911 Train acc: 0.732766 Valid acc: 0.751563\n",
      "Epoch: 11/100 Train loss: 0.520035 Valid loss: 0.508137 Train acc: 0.740431 Valid acc: 0.758242\n",
      "Epoch: 12/100 Train loss: 0.510033 Valid loss: 0.499447 Train acc: 0.747689 Valid acc: 0.764025\n",
      "Epoch: 13/100 Train loss: 0.500836 Valid loss: 0.491551 Train acc: 0.754251 Valid acc: 0.769182\n",
      "Epoch: 14/100 Train loss: 0.492471 Valid loss: 0.484453 Train acc: 0.759940 Valid acc: 0.773699\n",
      "Epoch: 15/100 Train loss: 0.484709 Valid loss: 0.477974 Train acc: 0.765195 Valid acc: 0.777764\n",
      "Epoch: 16/100 Train loss: 0.477701 Valid loss: 0.472062 Train acc: 0.769761 Valid acc: 0.781413\n",
      "Epoch: 17/100 Train loss: 0.471180 Valid loss: 0.466622 Train acc: 0.773915 Valid acc: 0.784726\n",
      "Epoch: 18/100 Train loss: 0.465151 Valid loss: 0.461535 Train acc: 0.777983 Valid acc: 0.787788\n",
      "Epoch: 19/100 Train loss: 0.459296 Valid loss: 0.456691 Train acc: 0.781740 Valid acc: 0.790694\n",
      "Epoch: 20/100 Train loss: 0.453933 Valid loss: 0.452192 Train acc: 0.785159 Valid acc: 0.793336\n",
      "Epoch: 21/100 Train loss: 0.448743 Valid loss: 0.448060 Train acc: 0.788454 Valid acc: 0.795726\n",
      "Epoch: 22/100 Train loss: 0.443633 Valid loss: 0.444087 Train acc: 0.791676 Valid acc: 0.797994\n",
      "Epoch: 23/100 Train loss: 0.438711 Valid loss: 0.440324 Train acc: 0.794867 Valid acc: 0.800125\n",
      "Epoch: 24/100 Train loss: 0.434017 Valid loss: 0.436740 Train acc: 0.797714 Valid acc: 0.802139\n",
      "Epoch: 25/100 Train loss: 0.429654 Valid loss: 0.433315 Train acc: 0.800291 Valid acc: 0.804042\n",
      "Epoch: 26/100 Train loss: 0.425490 Valid loss: 0.430050 Train acc: 0.802727 Valid acc: 0.805863\n",
      "Epoch: 27/100 Train loss: 0.421268 Valid loss: 0.426951 Train acc: 0.805274 Valid acc: 0.807565\n",
      "Epoch: 28/100 Train loss: 0.417344 Valid loss: 0.423972 Train acc: 0.807542 Valid acc: 0.809182\n",
      "Epoch: 29/100 Train loss: 0.413471 Valid loss: 0.421074 Train acc: 0.809810 Valid acc: 0.810753\n",
      "Epoch: 30/100 Train loss: 0.409648 Valid loss: 0.418290 Train acc: 0.812007 Valid acc: 0.812245\n",
      "Epoch: 31/100 Train loss: 0.406031 Valid loss: 0.415655 Train acc: 0.814074 Valid acc: 0.813650\n",
      "Epoch: 32/100 Train loss: 0.402538 Valid loss: 0.413161 Train acc: 0.816065 Valid acc: 0.814978\n",
      "Epoch: 33/100 Train loss: 0.399242 Valid loss: 0.410698 Train acc: 0.817910 Valid acc: 0.816283\n",
      "Epoch: 34/100 Train loss: 0.395946 Valid loss: 0.408276 Train acc: 0.819765 Valid acc: 0.817558\n",
      "Epoch: 35/100 Train loss: 0.392691 Valid loss: 0.405918 Train acc: 0.821636 Valid acc: 0.818796\n",
      "Epoch: 36/100 Train loss: 0.389689 Valid loss: 0.403768 Train acc: 0.823281 Valid acc: 0.819935\n",
      "Epoch: 37/100 Train loss: 0.386638 Valid loss: 0.401610 Train acc: 0.825005 Valid acc: 0.821075\n",
      "Epoch: 38/100 Train loss: 0.383640 Valid loss: 0.399519 Train acc: 0.826649 Valid acc: 0.822174\n",
      "Epoch: 39/100 Train loss: 0.380731 Valid loss: 0.397471 Train acc: 0.828243 Valid acc: 0.823247\n",
      "Epoch: 40/100 Train loss: 0.377922 Valid loss: 0.395533 Train acc: 0.829789 Valid acc: 0.824266\n",
      "Epoch: 41/100 Train loss: 0.375099 Valid loss: 0.393609 Train acc: 0.831324 Valid acc: 0.825266\n",
      "Epoch: 42/100 Train loss: 0.372290 Valid loss: 0.391708 Train acc: 0.832877 Valid acc: 0.826256\n",
      "Epoch: 43/100 Train loss: 0.369642 Valid loss: 0.389930 Train acc: 0.834280 Valid acc: 0.827190\n",
      "Epoch: 44/100 Train loss: 0.367013 Valid loss: 0.388169 Train acc: 0.835701 Valid acc: 0.828107\n",
      "Epoch: 45/100 Train loss: 0.364432 Valid loss: 0.386433 Train acc: 0.837061 Valid acc: 0.829009\n",
      "Epoch: 46/100 Train loss: 0.361860 Valid loss: 0.384748 Train acc: 0.838451 Valid acc: 0.829883\n",
      "Epoch: 47/100 Train loss: 0.359409 Valid loss: 0.383123 Train acc: 0.839755 Valid acc: 0.830729\n",
      "Epoch: 48/100 Train loss: 0.357038 Valid loss: 0.381583 Train acc: 0.841025 Valid acc: 0.831528\n",
      "Epoch: 49/100 Train loss: 0.354691 Valid loss: 0.380042 Train acc: 0.842259 Valid acc: 0.832325\n",
      "Epoch: 50/100 Train loss: 0.352410 Valid loss: 0.378549 Train acc: 0.843494 Valid acc: 0.833094\n",
      "Epoch: 51/100 Train loss: 0.350126 Valid loss: 0.377064 Train acc: 0.844753 Valid acc: 0.833860\n",
      "Epoch: 52/100 Train loss: 0.347868 Valid loss: 0.375557 Train acc: 0.845887 Valid acc: 0.834636\n",
      "Epoch: 53/100 Train loss: 0.345576 Valid loss: 0.374095 Train acc: 0.847077 Valid acc: 0.835394\n",
      "Epoch: 54/100 Train loss: 0.343380 Valid loss: 0.372738 Train acc: 0.848234 Valid acc: 0.836095\n",
      "Epoch: 55/100 Train loss: 0.341213 Valid loss: 0.371373 Train acc: 0.849376 Valid acc: 0.836798\n",
      "Epoch: 56/100 Train loss: 0.339100 Valid loss: 0.370053 Train acc: 0.850428 Valid acc: 0.837474\n",
      "Epoch: 57/100 Train loss: 0.336991 Valid loss: 0.368767 Train acc: 0.851532 Valid acc: 0.838128\n",
      "Epoch: 58/100 Train loss: 0.334919 Valid loss: 0.367481 Train acc: 0.852605 Valid acc: 0.838789\n",
      "Epoch: 59/100 Train loss: 0.332901 Valid loss: 0.366248 Train acc: 0.853646 Valid acc: 0.839427\n",
      "Epoch: 60/100 Train loss: 0.330894 Valid loss: 0.365077 Train acc: 0.854667 Valid acc: 0.840036\n",
      "Epoch: 61/100 Train loss: 0.328943 Valid loss: 0.363873 Train acc: 0.855672 Valid acc: 0.840659\n",
      "Epoch: 62/100 Train loss: 0.327009 Valid loss: 0.362672 Train acc: 0.856671 Valid acc: 0.841271\n",
      "Epoch: 63/100 Train loss: 0.325094 Valid loss: 0.361519 Train acc: 0.857653 Valid acc: 0.841860\n",
      "Epoch: 64/100 Train loss: 0.323218 Valid loss: 0.360413 Train acc: 0.858637 Valid acc: 0.842426\n",
      "Epoch: 65/100 Train loss: 0.321345 Valid loss: 0.359323 Train acc: 0.859590 Valid acc: 0.842986\n",
      "Epoch: 66/100 Train loss: 0.319464 Valid loss: 0.358263 Train acc: 0.860532 Valid acc: 0.843529\n",
      "Epoch: 67/100 Train loss: 0.317661 Valid loss: 0.357177 Train acc: 0.861436 Valid acc: 0.844081\n",
      "Epoch: 68/100 Train loss: 0.315832 Valid loss: 0.356115 Train acc: 0.862410 Valid acc: 0.844623\n",
      "Epoch: 69/100 Train loss: 0.314025 Valid loss: 0.355095 Train acc: 0.863312 Valid acc: 0.845141\n",
      "Epoch: 70/100 Train loss: 0.312317 Valid loss: 0.354126 Train acc: 0.864154 Valid acc: 0.845643\n",
      "Epoch: 71/100 Train loss: 0.310598 Valid loss: 0.353171 Train acc: 0.865052 Valid acc: 0.846129\n",
      "Epoch: 72/100 Train loss: 0.308887 Valid loss: 0.352233 Train acc: 0.865920 Valid acc: 0.846614\n",
      "Epoch: 73/100 Train loss: 0.307195 Valid loss: 0.351243 Train acc: 0.866757 Valid acc: 0.847117\n",
      "Epoch: 74/100 Train loss: 0.305540 Valid loss: 0.350301 Train acc: 0.867597 Valid acc: 0.847594\n",
      "Epoch: 75/100 Train loss: 0.303927 Valid loss: 0.349436 Train acc: 0.868390 Valid acc: 0.848041\n",
      "Epoch: 76/100 Train loss: 0.302332 Valid loss: 0.348591 Train acc: 0.869175 Valid acc: 0.848479\n",
      "Epoch: 77/100 Train loss: 0.300740 Valid loss: 0.347766 Train acc: 0.869960 Valid acc: 0.848904\n",
      "Epoch: 78/100 Train loss: 0.299112 Valid loss: 0.346874 Train acc: 0.870768 Valid acc: 0.849355\n",
      "Epoch: 79/100 Train loss: 0.297525 Valid loss: 0.346035 Train acc: 0.871549 Valid acc: 0.849785\n",
      "Epoch: 80/100 Train loss: 0.295979 Valid loss: 0.345214 Train acc: 0.872321 Valid acc: 0.850207\n",
      "Epoch: 81/100 Train loss: 0.294407 Valid loss: 0.344385 Train acc: 0.873090 Valid acc: 0.850631\n",
      "Epoch: 82/100 Train loss: 0.292874 Valid loss: 0.343550 Train acc: 0.873849 Valid acc: 0.851055\n",
      "Epoch: 83/100 Train loss: 0.291342 Valid loss: 0.342740 Train acc: 0.874597 Valid acc: 0.851469\n",
      "Epoch: 84/100 Train loss: 0.289863 Valid loss: 0.341946 Train acc: 0.875354 Valid acc: 0.851880\n",
      "Epoch: 85/100 Train loss: 0.288406 Valid loss: 0.341159 Train acc: 0.876063 Valid acc: 0.852284\n",
      "Epoch: 86/100 Train loss: 0.286956 Valid loss: 0.340390 Train acc: 0.876766 Valid acc: 0.852678\n"
     ]
    },
    {
     "name": "stdout",
     "output_type": "stream",
     "text": [
      "Epoch: 87/100 Train loss: 0.285492 Valid loss: 0.339623 Train acc: 0.877480 Valid acc: 0.853074\n",
      "Epoch: 88/100 Train loss: 0.284065 Valid loss: 0.338853 Train acc: 0.878160 Valid acc: 0.853470\n",
      "Epoch: 89/100 Train loss: 0.282669 Valid loss: 0.338102 Train acc: 0.878846 Valid acc: 0.853856\n",
      "Epoch: 90/100 Train loss: 0.281247 Valid loss: 0.337393 Train acc: 0.879535 Valid acc: 0.854228\n",
      "Epoch: 91/100 Train loss: 0.279847 Valid loss: 0.336671 Train acc: 0.880233 Valid acc: 0.854598\n",
      "Epoch: 92/100 Train loss: 0.278491 Valid loss: 0.335999 Train acc: 0.880891 Valid acc: 0.854952\n",
      "Epoch: 93/100 Train loss: 0.277081 Valid loss: 0.335283 Train acc: 0.881569 Valid acc: 0.855324\n",
      "Epoch: 94/100 Train loss: 0.275721 Valid loss: 0.334590 Train acc: 0.882204 Valid acc: 0.855685\n",
      "Epoch: 95/100 Train loss: 0.274359 Valid loss: 0.333913 Train acc: 0.882872 Valid acc: 0.856040\n",
      "Epoch: 96/100 Train loss: 0.272995 Valid loss: 0.333216 Train acc: 0.883548 Valid acc: 0.856401\n",
      "Epoch: 97/100 Train loss: 0.271642 Valid loss: 0.332517 Train acc: 0.884208 Valid acc: 0.856761\n",
      "Epoch: 98/100 Train loss: 0.270305 Valid loss: 0.331873 Train acc: 0.884851 Valid acc: 0.857100\n",
      "Epoch: 99/100 Train loss: 0.268992 Valid loss: 0.331247 Train acc: 0.885483 Valid acc: 0.857431\n",
      "Epoch: 100/100 Train loss: 0.267690 Valid loss: 0.330602 Train acc: 0.886120 Valid acc: 0.857772\n"
     ]
    }
   ],
   "source": [
    "train_acc, train_loss = [], []\n",
    "valid_acc, valid_loss = [], []\n",
    "\n",
    "# Save the training result or trained and validated model params\n",
    "saver = tf.train.Saver()\n",
    "\n",
    "with tf.Session() as sess:\n",
    "    sess.run(tf.global_variables_initializer())\n",
    "   \n",
    "    # Loop over epochs\n",
    "    for e in range(epochs):\n",
    "        \n",
    "        # Loop over batches\n",
    "        for x, y in get_batches(X_train_norm, Y_train_onehot, batch_size):\n",
    "            \n",
    "            ######################## Training\n",
    "            # Feed dictionary\n",
    "            feed = {inputs_ : x, labels_ : y, keep_prob_ : keep_prob, learning_rate_ : learning_rate}\n",
    "            \n",
    "            # Loss\n",
    "            loss, _ , acc = sess.run([cost, optimizer, accuracy], feed_dict = feed)\n",
    "            train_acc.append(acc)\n",
    "            train_loss.append(loss)\n",
    "            \n",
    "            ################## Validation\n",
    "            acc_batch = []\n",
    "            loss_batch = []    \n",
    "            # Loop over batches\n",
    "            for x, y in get_batches(X_valid_norm, Y_valid_onehot, batch_size):\n",
    "\n",
    "                # Feed dictionary\n",
    "                feed = {inputs_ : x, labels_ : y, keep_prob_ : 1.0}\n",
    "\n",
    "                # Loss\n",
    "                loss, acc = sess.run([cost, accuracy], feed_dict = feed)\n",
    "                acc_batch.append(acc)\n",
    "                loss_batch.append(loss)\n",
    "\n",
    "            # Store\n",
    "            valid_acc.append(np.mean(acc_batch))\n",
    "            valid_loss.append(np.mean(loss_batch))\n",
    "            \n",
    "        # Print info for every iter/epoch\n",
    "        print(\"Epoch: {}/{}\".format(e+1, epochs),\n",
    "              \"Train loss: {:6f}\".format(np.mean(train_loss)),\n",
    "              \"Valid loss: {:.6f}\".format(np.mean(valid_loss)),\n",
    "              \"Train acc: {:6f}\".format(np.mean(train_acc)),\n",
    "              \"Valid acc: {:.6f}\".format(np.mean(valid_acc)))\n",
    "                \n",
    "    saver.save(sess,\"checkpoints-cnn/har.ckpt\")"
   ]
  },
  {
   "cell_type": "code",
   "execution_count": 20,
   "metadata": {},
   "outputs": [
    {
     "data": {
      "image/png": "[encoded data removed]",
      "text/plain": [
       "<matplotlib.figure.Figure at 0x7f23286ceb38>"
      ]
     },
     "metadata": {},
     "output_type": "display_data"
    }
   ],
   "source": [
    "import matplotlib.pyplot as mplot\n",
    "\n",
    "mplot.plot(train_loss, label='Flip train_loss')\n",
    "mplot.plot(valid_loss, label='Flip valid_loss')\n",
    "mplot.legend()\n",
    "mplot.show()"
   ]
  },
  {
   "cell_type": "code",
   "execution_count": 21,
   "metadata": {},
   "outputs": [
    {
     "data": {
      "image/png": "[encoded data removed]",
      "text/plain": [
       "<matplotlib.figure.Figure at 0x7f22c8f704a8>"
      ]
     },
     "metadata": {},
     "output_type": "display_data"
    }
   ],
   "source": [
    "mplot.plot(train_acc, label='Flip train_acc')\n",
    "mplot.plot(valid_acc, label='Flip valid_acc')\n",
    "mplot.legend()\n",
    "mplot.show()"
   ]
  },
  {
   "cell_type": "code",
   "execution_count": 23,
   "metadata": {},
   "outputs": [
    {
     "name": "stdout",
     "output_type": "stream",
     "text": [
      "INFO:tensorflow:Restoring parameters from checkpoints-cnn/har.ckpt\n",
      "Test loss: 0.289769 Test acc: 0.882798\n"
     ]
    }
   ],
   "source": [
    "test_acc, test_loss = [], []\n",
    "\n",
    "with tf.Session() as sess:\n",
    "    # Restore the validated model\n",
    "    saver.restore(sess, tf.train.latest_checkpoint('checkpoints-cnn'))\n",
    "    \n",
    "    ################## Test\n",
    "    acc_batch = []\n",
    "    loss_batch = []    \n",
    "    # Loop over batches\n",
    "    for x, y in get_batches(X_test_norm, Y_test_onehot, batch_size):\n",
    "\n",
    "        # Feed dictionary\n",
    "        feed = {inputs_ : x, labels_ : y, keep_prob_ : 1.0}\n",
    "\n",
    "        # Loss\n",
    "        loss, acc, confusion = sess.run([cost, accuracy, confusion_matrix], feed_dict = feed)\n",
    "        acc_batch.append(acc)\n",
    "        loss_batch.append(loss)\n",
    "\n",
    "    # Store\n",
    "    test_acc.append(np.mean(acc_batch))\n",
    "    test_loss.append(np.mean(loss_batch))\n",
    "\n",
    "    # Print info for every iter/epoch\n",
    "    print(\"Test loss: {:6f}\".format(np.mean(test_loss)),\n",
    "          \"Test acc: {:.6f}\".format(np.mean(test_acc)))"
   ]
  },
  {
   "cell_type": "code",
   "execution_count": 19,
   "metadata": {},
   "outputs": [],
   "source": [
    "# mplot.imshow(confusion)\n",
    "# mplot.show()"
   ]
  },
  {
   "cell_type": "code",
   "execution_count": null,
   "metadata": {},
   "outputs": [],
   "source": []
  }
 ],
 "metadata": {
  "kernelspec": {
   "display_name": "Python 3",
   "language": "python",
   "name": "python3"
  },
  "language_info": {
   "codemirror_mode": {
    "name": "ipython",
    "version": 3
   },
   "file_extension": ".py",
   "mimetype": "text/x-python",
   "name": "python",
   "nbconvert_exporter": "python",
   "pygments_lexer": "ipython3",
   "version": "3.6.3"
  }
 },
 "nbformat": 4,
 "nbformat_minor": 2
}
