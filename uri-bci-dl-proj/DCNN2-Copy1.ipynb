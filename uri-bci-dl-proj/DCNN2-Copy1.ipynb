{
 "cells": [
  {
   "cell_type": "markdown",
   "metadata": {},
   "source": [
    "# Input data"
   ]
  },
  {
   "cell_type": "code",
   "execution_count": 1,
   "metadata": {},
   "outputs": [],
   "source": [
    "import scipy.io as spio\n",
    "import numpy as np"
   ]
  },
  {
   "cell_type": "code",
   "execution_count": 2,
   "metadata": {},
   "outputs": [],
   "source": [
    "BahramFace = spio.loadmat(file_name='../data/bci-project-data-RAW/BahramFace.mat')\n",
    "DJFace = spio.loadmat(file_name='../data/bci-project-data-RAW/DJFace.mat')\n",
    "NickFace = spio.loadmat(file_name='../data/bci-project-data-RAW/NickFace.mat')\n",
    "RoohiFace = spio.loadmat(file_name='../data/bci-project-data-RAW/RoohiFace.mat')\n",
    "SarahFace = spio.loadmat(file_name='../data/bci-project-data-RAW/SarahFace.mat')"
   ]
  },
  {
   "cell_type": "code",
   "execution_count": 3,
   "metadata": {},
   "outputs": [
    {
     "data": {
      "text/plain": [
       "1080"
      ]
     },
     "execution_count": 3,
     "metadata": {},
     "output_type": "execute_result"
    }
   ],
   "source": [
    "# Deviding the input data into train and validation\n",
    "length = int(BahramFace['Intensification_Data'].shape[0] * 0.30)\n",
    "length"
   ]
  },
  {
   "cell_type": "code",
   "execution_count": 4,
   "metadata": {},
   "outputs": [],
   "source": [
    "FacesDataAll = np.vstack(tup=(BahramFace['Intensification_Data'][:], \n",
    "                       DJFace['Intensification_Data'][:], \n",
    "                       NickFace['Intensification_Data'][:],\n",
    "                      RoohiFace['Intensification_Data'][:],\n",
    "                      SarahFace['Intensification_Data'][:]))\n",
    "\n",
    "FacesDataTrain = np.vstack(tup=(BahramFace['Intensification_Data'][:-length], \n",
    "                       DJFace['Intensification_Data'][:-length], \n",
    "                       NickFace['Intensification_Data'][:-length],\n",
    "                      RoohiFace['Intensification_Data'][:-length],\n",
    "                      SarahFace['Intensification_Data'][:-length]))\n",
    "\n",
    "FacesDataTest = np.vstack(tup=(BahramFace['Intensification_Data'][-length:], \n",
    "                       DJFace['Intensification_Data'][-length:], \n",
    "                       NickFace['Intensification_Data'][-length:],\n",
    "                      RoohiFace['Intensification_Data'][-length:],\n",
    "                      SarahFace['Intensification_Data'][-length:]))"
   ]
  },
  {
   "cell_type": "code",
   "execution_count": 5,
   "metadata": {},
   "outputs": [
    {
     "data": {
      "text/plain": [
       "((18720, 205, 16),\n",
       " dtype('<f8'),\n",
       " (5400, 205, 16),\n",
       " dtype('<f8'),\n",
       " (13320, 205, 16),\n",
       " dtype('<f8'))"
      ]
     },
     "execution_count": 5,
     "metadata": {},
     "output_type": "execute_result"
    }
   ],
   "source": [
    "(FacesDataAll.shape, FacesDataAll.dtype, \n",
    " FacesDataTest.shape, FacesDataTest.dtype, \n",
    " FacesDataTrain.shape, FacesDataTrain.dtype)"
   ]
  },
  {
   "cell_type": "code",
   "execution_count": 6,
   "metadata": {},
   "outputs": [],
   "source": [
    "FacesLabelAll = np.vstack(tup=(BahramFace['Intensification_Label'][:], \n",
    "                       DJFace['Intensification_Label'][:], \n",
    "                       NickFace['Intensification_Label'][:],\n",
    "                      RoohiFace['Intensification_Label'][:],\n",
    "                      SarahFace['Intensification_Label'][:]))\n",
    "\n",
    "FacesLabelTrain = np.vstack(tup=(BahramFace['Intensification_Label'][:-length], \n",
    "                       DJFace['Intensification_Label'][:-length], \n",
    "                       NickFace['Intensification_Label'][:-length],\n",
    "                      RoohiFace['Intensification_Label'][:-length],\n",
    "                      SarahFace['Intensification_Label'][:-length]))\n",
    "\n",
    "FacesLabelTest = np.vstack(tup=(BahramFace['Intensification_Label'][-length:], \n",
    "                       DJFace['Intensification_Label'][-length:], \n",
    "                       NickFace['Intensification_Label'][-length:],\n",
    "                      RoohiFace['Intensification_Label'][-length:],\n",
    "                      SarahFace['Intensification_Label'][-length:]))"
   ]
  },
  {
   "cell_type": "code",
   "execution_count": 7,
   "metadata": {},
   "outputs": [
    {
     "data": {
      "text/plain": [
       "((18720, 1),\n",
       " dtype('uint8'),\n",
       " (5400, 1),\n",
       " dtype('uint8'),\n",
       " (13320, 1),\n",
       " dtype('uint8'))"
      ]
     },
     "execution_count": 7,
     "metadata": {},
     "output_type": "execute_result"
    }
   ],
   "source": [
    "(FacesLabelAll.shape, FacesLabelAll.dtype, \n",
    " FacesLabelTest.shape, FacesLabelTest.dtype, \n",
    " FacesLabelTrain.shape, FacesLabelTrain.dtype)"
   ]
  },
  {
   "cell_type": "code",
   "execution_count": 8,
   "metadata": {},
   "outputs": [],
   "source": [
    "# Normalizing input data\n",
    "def normalize(inputs, inputs_all):\n",
    "    return (inputs - inputs_all.mean(axis=0)[None,:,:]) / inputs_all.std(axis=0)[None,:,:]\n",
    "\n",
    "# onehot vectorizing output labels\n",
    "def one_hot(labels, n_class):\n",
    "    \"\"\" One-hot encoding \"\"\"\n",
    "    expansion = np.eye(n_class)\n",
    "    y = expansion[:, labels-1].T\n",
    "    assert y.shape[1] == n_class, \"Wrong number of labels!\"\n",
    "\n",
    "    return y\n",
    "\n",
    "# get minibatches for learning\n",
    "def get_batches(X, y, batch_size):\n",
    "    \"\"\" Return a generator for batches \"\"\"\n",
    "    n_batches = len(X) // batch_size\n",
    "    X, y = X[:n_batches*batch_size], y[:n_batches*batch_size]\n",
    "\n",
    "    # Loop over batches and yield\n",
    "    for b in range(0, len(X), batch_size):\n",
    "        yield X[b:b+batch_size], y[b:b+batch_size]"
   ]
  },
  {
   "cell_type": "code",
   "execution_count": 9,
   "metadata": {},
   "outputs": [],
   "source": [
    "# Standardize/normalize train and test\n",
    "X_train_norm_all = normalize(inputs=FacesDataTrain, inputs_all=FacesDataAll)\n",
    "X_test_norm = normalize(inputs=FacesDataTest, inputs_all=FacesDataAll)"
   ]
  },
  {
   "cell_type": "code",
   "execution_count": 10,
   "metadata": {},
   "outputs": [],
   "source": [
    "# 30 % of train data is valid and the rest is training\n",
    "# length = int(X_norm.shape[0] * 0.3)\n",
    "X_train_norm = X_train_norm_all[:-length]\n",
    "X_valid_norm = X_train_norm_all[-length:]# 30% test and 70% train data"
   ]
  },
  {
   "cell_type": "code",
   "execution_count": 11,
   "metadata": {},
   "outputs": [
    {
     "data": {
      "text/plain": [
       "((12240, 205, 16),\n",
       " dtype('<f8'),\n",
       " (1080, 205, 16),\n",
       " dtype('<f8'),\n",
       " (5400, 205, 16),\n",
       " dtype('<f8'))"
      ]
     },
     "execution_count": 11,
     "metadata": {},
     "output_type": "execute_result"
    }
   ],
   "source": [
    "(X_train_norm.shape, X_train_norm.dtype, \n",
    "X_valid_norm.shape, X_valid_norm.dtype,\n",
    "X_test_norm.shape, X_test_norm.dtype)"
   ]
  },
  {
   "cell_type": "markdown",
   "metadata": {},
   "source": [
    "### Hyperparameters"
   ]
  },
  {
   "cell_type": "code",
   "execution_count": 26,
   "metadata": {},
   "outputs": [],
   "source": [
    "# Input data\n",
    "# X_(5832, 192, 64): (n_trials, seq_len, n_channels), batch_size== n_trials\n",
    "batch_size = X_train_norm.shape[0]// 100 # Batch size: number of trials\n",
    "seq_len = X_train_norm.shape[1]          # Number of steps: each trial length\n",
    "n_channels = X_train_norm.shape[2] # number of channels in each trial\n",
    "\n",
    "# Output labels\n",
    "# Y_(5832, 2): (n_trails, n_classes)\n",
    "n_classes = FacesLabelAll.max() + 1\n",
    "\n",
    "# Tweekable parameters\n",
    "learning_rate = 0.0001 #1e-4\n",
    "epochs = 5 # num iterations for updating model\n",
    "keep_prob = 0.50 # 90% neurons are kept and 10% are dropped out"
   ]
  },
  {
   "cell_type": "code",
   "execution_count": 27,
   "metadata": {},
   "outputs": [],
   "source": [
    "Y_train_all = np.array(FacesLabelTrain, dtype=int).reshape(-1)\n",
    "Y_test = np.array(FacesLabelTest, dtype=int).reshape(-1)"
   ]
  },
  {
   "cell_type": "code",
   "execution_count": 28,
   "metadata": {},
   "outputs": [],
   "source": [
    "# 30 % of train data is valid and the rest is training\n",
    "# length = int(X_norm.shape[0] * 0.3)\n",
    "Y_train = Y_train_all[:-length]\n",
    "Y_valid = Y_train_all[-length:]# 30% test and 70% train data"
   ]
  },
  {
   "cell_type": "code",
   "execution_count": 29,
   "metadata": {},
   "outputs": [],
   "source": [
    "Y_train_onehot = one_hot(labels=Y_train, n_class=n_classes)\n",
    "Y_valid_onehot = one_hot(labels=Y_valid, n_class=n_classes)\n",
    "Y_test_onehot = one_hot(labels=Y_test, n_class=n_classes)"
   ]
  },
  {
   "cell_type": "code",
   "execution_count": 30,
   "metadata": {},
   "outputs": [
    {
     "data": {
      "text/plain": [
       "((12240, 2),\n",
       " (1080, 2),\n",
       " (5400, 2),\n",
       " (12240, 205, 16),\n",
       " (1080, 205, 16),\n",
       " (5400, 205, 16))"
      ]
     },
     "execution_count": 30,
     "metadata": {},
     "output_type": "execute_result"
    }
   ],
   "source": [
    "(Y_train_onehot.shape, Y_valid_onehot.shape, Y_test_onehot.shape, \n",
    " X_train_norm.shape, X_valid_norm.shape, X_test_norm.shape)"
   ]
  },
  {
   "cell_type": "code",
   "execution_count": 31,
   "metadata": {},
   "outputs": [
    {
     "data": {
      "text/plain": [
       "(dtype('float64'),\n",
       " dtype('float64'),\n",
       " dtype('float64'),\n",
       " dtype('<f8'),\n",
       " dtype('<f8'),\n",
       " dtype('<f8'))"
      ]
     },
     "execution_count": 31,
     "metadata": {},
     "output_type": "execute_result"
    }
   ],
   "source": [
    "(Y_train_onehot.dtype, Y_valid_onehot.dtype, Y_test_onehot.dtype,\n",
    " X_train_norm.dtype, X_valid_norm.dtype, X_test_norm.dtype)"
   ]
  },
  {
   "cell_type": "markdown",
   "metadata": {},
   "source": [
    "# GPUs or CPU"
   ]
  },
  {
   "cell_type": "code",
   "execution_count": 32,
   "metadata": {},
   "outputs": [
    {
     "name": "stdout",
     "output_type": "stream",
     "text": [
      "TensorFlow Version: 1.3.0\n",
      "Default GPU Device: /gpu:0\n"
     ]
    }
   ],
   "source": [
    "\"\"\"\n",
    "DON'T MODIFY ANYTHING IN THIS CELL\n",
    "\"\"\"\n",
    "from distutils.version import LooseVersion\n",
    "import warnings\n",
    "import tensorflow as tf\n",
    "\n",
    "# Check TensorFlow Version\n",
    "assert LooseVersion(tf.__version__) >= LooseVersion('1.0'), 'Please use TensorFlow version 1.0 or newer.  You are using {}'.format(tf.__version__)\n",
    "print('TensorFlow Version: {}'.format(tf.__version__))\n",
    "\n",
    "# Check for a GPU\n",
    "if not tf.test.gpu_device_name():\n",
    "    warnings.warn('No GPU found. Please use a GPU to train your neural network.')\n",
    "else:\n",
    "    print('Default GPU Device: {}'.format(tf.test.gpu_device_name()))"
   ]
  },
  {
   "cell_type": "code",
   "execution_count": 46,
   "metadata": {},
   "outputs": [],
   "source": [
    "#  No graphs is needed on tensorflow\n",
    "inputs_ = tf.placeholder(dtype=tf.float32, shape=[None, seq_len, n_channels], name = 'inputs_')\n",
    "labels_ = tf.placeholder(dtype=tf.float32, shape=[None, n_classes], name = 'labels_')\n",
    "is_train = tf.placeholder(dtype=tf.bool, shape=None, name='is_train')\n",
    "keep_prob_ = tf.placeholder(dtype=tf.float32, shape=None, name = 'keep_prob_')\n",
    "learning_rate_ = tf.placeholder(tf.float32, shape=None, name = 'learning_rate_')"
   ]
  },
  {
   "cell_type": "markdown",
   "metadata": {},
   "source": [
    "# Forward pass: Convolutional Layers, FC Layer, and Output layer"
   ]
  },
  {
   "cell_type": "code",
   "execution_count": 61,
   "metadata": {},
   "outputs": [
    {
     "name": "stdout",
     "output_type": "stream",
     "text": [
      "(?, 101, 32)\n",
      "(?, 49, 64)\n",
      "(?, 3136) (?, 6272)\n",
      "(?, 2)\n"
     ]
    }
   ],
   "source": [
    "# (batch, 205, 16) --> (batch, 101, 32)\n",
    "# (205 - 5 + 0)/2 + 1 = 100+1= 101\n",
    "# 2/5 with strides/kernel_size is 40% non-overlap/diff region and 60% overlapping window/ common region\n",
    "in_conv = inputs_\n",
    "out_conv = tf.layers.conv1d(inputs=in_conv, filters=32, kernel_size=5, strides=2, padding='valid')\n",
    "out_conv = tf.layers.batch_normalization(inputs=out_conv)\n",
    "out_conv = tf.nn.relu(features=out_conv)\n",
    "if is_train is True:\n",
    "    out_conv = tf.nn.dropout(x=out_conv, keep_prob=keep_prob_)\n",
    "print(out_conv.shape)\n",
    "\n",
    "# (batch, 101, 32) --> (batch, 49, 64)\n",
    "# (101 - 5 + 0)/2 + 1 = (96/2)+1= 48+1= 49\n",
    "# 2/5 with strides/kernel_size is 40% non-overlap/diff region and 60% overlapping window/ common region\n",
    "in_conv = out_conv\n",
    "out_conv = tf.layers.conv1d(inputs=in_conv, filters=64, kernel_size=5, strides=2, padding='valid')\n",
    "out_conv = tf.layers.batch_normalization(inputs=out_conv)\n",
    "out_conv = tf.nn.relu(features=out_conv)\n",
    "if is_train is True:\n",
    "    out_conv = tf.nn.dropout(x=out_conv, keep_prob=keep_prob_)\n",
    "print(out_conv.shape)\n",
    "\n",
    "# (batch, 49, 64) --> (batch, 49*64) --> (batch, 49*64*2)\n",
    "# 49*64 = 50*64 - 1*64 = 3200 - 64 = 3136, 3136*2 = 6272\n",
    "# (batch, 49, 64) --> (batch, 3200) --> (batch, 6272)\n",
    "in_fc = tf.reshape(tensor=out_conv, shape=(-1, 49*64))\n",
    "out_fc = tf.layers.dense(inputs=in_fc, units=49*64*2)\n",
    "out_fc = tf.layers.batch_normalization(inputs=out_fc)\n",
    "out_fc = tf.nn.relu(features=out_fc)\n",
    "if is_train is True:\n",
    "    out_fc = tf.nn.dropout(x=out_fc, keep_prob=keep_prob_)\n",
    "print(in_fc.shape, out_fc.shape)\n",
    "\n",
    "# (batch, 49*64*2) --> (batch, 2) \n",
    "logits = tf.layers.dense(inputs=out_fc, units=n_classes)\n",
    "print(logits.shape)"
   ]
  },
  {
   "cell_type": "markdown",
   "metadata": {},
   "source": [
    "# Backward pass: error backpropagation"
   ]
  },
  {
   "cell_type": "code",
   "execution_count": 62,
   "metadata": {},
   "outputs": [],
   "source": [
    "# Cost function\n",
    "cost_tensor = tf.nn.softmax_cross_entropy_with_logits(logits=logits, labels=labels_)\n",
    "cost = tf.reduce_mean(input_tensor=cost_tensor)\n",
    "\n",
    "# Optimizer\n",
    "optimizer = tf.train.AdamOptimizer(learning_rate=learning_rate_).minimize(cost)\n",
    "\n",
    "# Accuracy\n",
    "correct_pred = tf.equal(tf.argmax(logits, 1), tf.argmax(labels_, 1))\n",
    "accuracy = tf.reduce_mean(tf.cast(correct_pred, tf.float32), name='accuracy')"
   ]
  },
  {
   "cell_type": "markdown",
   "metadata": {},
   "source": [
    "# Train the network"
   ]
  },
  {
   "cell_type": "code",
   "execution_count": 63,
   "metadata": {},
   "outputs": [
    {
     "name": "stdout",
     "output_type": "stream",
     "text": [
      "Epoch: 1/5 Train loss: 0.741101 Valid loss: 0.548871 train acc: 0.245902 Valid acc: 0.833333\n",
      "Epoch: 1/5 Train loss: 0.450048 Valid loss: 0.807604 train acc: 0.836066 Valid acc: 0.833333\n",
      "Epoch: 1/5 Train loss: 0.563431 Valid loss: 0.895608 train acc: 0.827869 Valid acc: 0.833333\n",
      "Epoch: 1/5 Train loss: 0.589742 Valid loss: 0.862790 train acc: 0.827869 Valid acc: 0.833333\n",
      "Epoch: 1/5 Train loss: 0.541081 Valid loss: 0.768224 train acc: 0.844262 Valid acc: 0.833333\n",
      "Epoch: 1/5 Train loss: 0.528404 Valid loss: 0.647018 train acc: 0.827869 Valid acc: 0.833333\n",
      "Epoch: 1/5 Train loss: 0.464109 Valid loss: 0.534505 train acc: 0.827869 Valid acc: 0.833333\n",
      "Epoch: 1/5 Train loss: 0.431648 Valid loss: 0.463485 train acc: 0.836066 Valid acc: 0.833333\n",
      "Epoch: 1/5 Train loss: 0.435083 Valid loss: 0.443366 train acc: 0.836066 Valid acc: 0.833333\n",
      "Epoch: 1/5 Train loss: 0.454119 Valid loss: 0.444511 train acc: 0.827869 Valid acc: 0.833333\n",
      "Epoch: 1/5 Train loss: 0.479400 Valid loss: 0.441402 train acc: 0.836066 Valid acc: 0.833333\n",
      "Epoch: 1/5 Train loss: 0.465269 Valid loss: 0.437868 train acc: 0.836066 Valid acc: 0.833333\n",
      "Epoch: 1/5 Train loss: 0.437405 Valid loss: 0.449310 train acc: 0.836066 Valid acc: 0.833333\n",
      "Epoch: 1/5 Train loss: 0.423788 Valid loss: 0.479669 train acc: 0.827869 Valid acc: 0.833333\n",
      "Epoch: 1/5 Train loss: 0.393919 Valid loss: 0.519322 train acc: 0.836066 Valid acc: 0.833333\n",
      "Epoch: 1/5 Train loss: 0.405325 Valid loss: 0.550793 train acc: 0.827869 Valid acc: 0.833333\n",
      "Epoch: 1/5 Train loss: 0.404480 Valid loss: 0.566815 train acc: 0.836066 Valid acc: 0.833333\n",
      "Epoch: 1/5 Train loss: 0.415865 Valid loss: 0.566681 train acc: 0.836065 Valid acc: 0.833333\n",
      "Epoch: 1/5 Train loss: 0.407549 Valid loss: 0.551320 train acc: 0.836066 Valid acc: 0.833333\n",
      "Epoch: 1/5 Train loss: 0.405765 Valid loss: 0.525090 train acc: 0.836066 Valid acc: 0.833333\n",
      "Epoch: 1/5 Train loss: 0.419467 Valid loss: 0.488315 train acc: 0.827869 Valid acc: 0.833333\n",
      "Epoch: 1/5 Train loss: 0.387588 Valid loss: 0.450847 train acc: 0.827869 Valid acc: 0.833333\n",
      "Epoch: 1/5 Train loss: 0.475280 Valid loss: 0.421961 train acc: 0.827869 Valid acc: 0.833333\n",
      "Epoch: 1/5 Train loss: 0.501589 Valid loss: 0.421991 train acc: 0.811475 Valid acc: 0.836111\n",
      "Epoch: 1/5 Train loss: 0.417023 Valid loss: 0.438369 train acc: 0.827869 Valid acc: 0.828704\n",
      "Epoch: 1/5 Train loss: 0.467387 Valid loss: 0.435794 train acc: 0.786885 Valid acc: 0.828704\n",
      "Epoch: 1/5 Train loss: 0.457484 Valid loss: 0.420453 train acc: 0.811475 Valid acc: 0.831481\n",
      "Epoch: 1/5 Train loss: 0.482412 Valid loss: 0.414903 train acc: 0.811475 Valid acc: 0.835185\n",
      "Epoch: 1/5 Train loss: 0.383241 Valid loss: 0.428727 train acc: 0.860656 Valid acc: 0.834259\n",
      "Epoch: 1/5 Train loss: 0.380248 Valid loss: 0.449384 train acc: 0.860656 Valid acc: 0.833333\n",
      "Epoch: 1/5 Train loss: 0.331284 Valid loss: 0.469226 train acc: 0.836066 Valid acc: 0.833333\n",
      "Epoch: 1/5 Train loss: 0.344459 Valid loss: 0.480799 train acc: 0.836066 Valid acc: 0.833333\n",
      "Epoch: 1/5 Train loss: 0.361397 Valid loss: 0.484191 train acc: 0.877049 Valid acc: 0.833333\n",
      "Epoch: 1/5 Train loss: 0.346856 Valid loss: 0.479800 train acc: 0.844262 Valid acc: 0.833333\n",
      "Epoch: 1/5 Train loss: 0.321408 Valid loss: 0.469828 train acc: 0.877049 Valid acc: 0.833333\n",
      "Epoch: 1/5 Train loss: 0.382121 Valid loss: 0.452784 train acc: 0.844262 Valid acc: 0.832407\n",
      "Epoch: 1/5 Train loss: 0.352973 Valid loss: 0.440262 train acc: 0.827869 Valid acc: 0.832407\n",
      "Epoch: 1/5 Train loss: 0.279136 Valid loss: 0.438237 train acc: 0.901639 Valid acc: 0.831481\n",
      "Epoch: 1/5 Train loss: 0.313220 Valid loss: 0.442141 train acc: 0.885246 Valid acc: 0.831481\n",
      "Epoch: 1/5 Train loss: 0.312913 Valid loss: 0.446373 train acc: 0.918033 Valid acc: 0.832407\n",
      "Epoch: 1/5 Train loss: 0.302648 Valid loss: 0.456280 train acc: 0.877049 Valid acc: 0.833333\n",
      "Epoch: 1/5 Train loss: 0.365548 Valid loss: 0.466392 train acc: 0.868852 Valid acc: 0.833333\n",
      "Epoch: 1/5 Train loss: 0.342915 Valid loss: 0.476714 train acc: 0.877049 Valid acc: 0.833333\n",
      "Epoch: 1/5 Train loss: 0.389504 Valid loss: 0.485636 train acc: 0.836066 Valid acc: 0.833333\n",
      "Epoch: 1/5 Train loss: 0.441667 Valid loss: 0.490240 train acc: 0.836066 Valid acc: 0.833333\n",
      "Epoch: 1/5 Train loss: 0.426419 Valid loss: 0.488571 train acc: 0.852459 Valid acc: 0.833333\n",
      "Epoch: 1/5 Train loss: 0.367101 Valid loss: 0.489156 train acc: 0.844262 Valid acc: 0.833333\n",
      "Epoch: 1/5 Train loss: 0.534422 Valid loss: 0.480663 train acc: 0.811475 Valid acc: 0.832407\n",
      "Epoch: 1/5 Train loss: 0.431243 Valid loss: 0.469929 train acc: 0.827869 Valid acc: 0.833333\n",
      "Epoch: 1/5 Train loss: 0.387972 Valid loss: 0.460758 train acc: 0.852459 Valid acc: 0.833333\n",
      "Epoch: 1/5 Train loss: 0.393661 Valid loss: 0.451865 train acc: 0.844262 Valid acc: 0.833333\n",
      "Epoch: 1/5 Train loss: 0.388973 Valid loss: 0.447437 train acc: 0.852459 Valid acc: 0.834259\n",
      "Epoch: 1/5 Train loss: 0.425320 Valid loss: 0.443323 train acc: 0.844262 Valid acc: 0.834259\n",
      "Epoch: 1/5 Train loss: 0.457085 Valid loss: 0.444501 train acc: 0.819672 Valid acc: 0.835185\n",
      "Epoch: 1/5 Train loss: 0.391353 Valid loss: 0.446213 train acc: 0.860656 Valid acc: 0.835185\n",
      "Epoch: 1/5 Train loss: 0.504930 Valid loss: 0.448628 train acc: 0.803279 Valid acc: 0.833333\n",
      "Epoch: 1/5 Train loss: 0.424885 Valid loss: 0.455820 train acc: 0.844262 Valid acc: 0.833333\n",
      "Epoch: 1/5 Train loss: 0.440319 Valid loss: 0.462690 train acc: 0.819672 Valid acc: 0.833333\n",
      "Epoch: 1/5 Train loss: 0.502149 Valid loss: 0.461017 train acc: 0.786885 Valid acc: 0.832407\n",
      "Epoch: 1/5 Train loss: 0.331568 Valid loss: 0.452230 train acc: 0.868852 Valid acc: 0.833333\n",
      "Epoch: 1/5 Train loss: 0.338832 Valid loss: 0.449244 train acc: 0.852459 Valid acc: 0.832407\n",
      "Epoch: 1/5 Train loss: 0.379705 Valid loss: 0.445687 train acc: 0.860656 Valid acc: 0.832407\n",
      "Epoch: 1/5 Train loss: 0.358824 Valid loss: 0.441960 train acc: 0.877049 Valid acc: 0.832407\n",
      "Epoch: 1/5 Train loss: 0.335625 Valid loss: 0.438405 train acc: 0.877049 Valid acc: 0.833333\n",
      "Epoch: 1/5 Train loss: 0.325360 Valid loss: 0.441074 train acc: 0.868852 Valid acc: 0.832407\n",
      "Epoch: 1/5 Train loss: 0.339433 Valid loss: 0.440498 train acc: 0.877049 Valid acc: 0.833333\n",
      "Epoch: 1/5 Train loss: 0.326696 Valid loss: 0.437865 train acc: 0.844262 Valid acc: 0.833333\n",
      "Epoch: 1/5 Train loss: 0.359194 Valid loss: 0.435736 train acc: 0.844262 Valid acc: 0.833333\n",
      "Epoch: 1/5 Train loss: 0.614770 Valid loss: 0.434815 train acc: 0.786885 Valid acc: 0.833333\n",
      "Epoch: 1/5 Train loss: 0.543315 Valid loss: 0.432307 train acc: 0.811475 Valid acc: 0.833333\n",
      "Epoch: 1/5 Train loss: 0.494060 Valid loss: 0.431986 train acc: 0.795082 Valid acc: 0.833333\n",
      "Epoch: 1/5 Train loss: 0.500999 Valid loss: 0.427708 train acc: 0.803279 Valid acc: 0.833333\n",
      "Epoch: 1/5 Train loss: 0.444839 Valid loss: 0.421956 train acc: 0.819672 Valid acc: 0.833333\n",
      "Epoch: 1/5 Train loss: 0.362716 Valid loss: 0.419377 train acc: 0.860656 Valid acc: 0.833333\n",
      "Epoch: 1/5 Train loss: 0.476502 Valid loss: 0.416156 train acc: 0.836066 Valid acc: 0.833333\n",
      "Epoch: 1/5 Train loss: 0.371005 Valid loss: 0.415361 train acc: 0.860656 Valid acc: 0.833333\n",
      "Epoch: 1/5 Train loss: 0.412025 Valid loss: 0.415082 train acc: 0.868852 Valid acc: 0.833333\n",
      "Epoch: 1/5 Train loss: 0.350967 Valid loss: 0.417272 train acc: 0.860656 Valid acc: 0.832407\n",
      "Epoch: 1/5 Train loss: 0.375788 Valid loss: 0.422049 train acc: 0.836066 Valid acc: 0.832407\n",
      "Epoch: 1/5 Train loss: 0.365828 Valid loss: 0.427507 train acc: 0.844262 Valid acc: 0.832407\n",
      "Epoch: 1/5 Train loss: 0.392360 Valid loss: 0.429576 train acc: 0.836066 Valid acc: 0.832407\n",
      "Epoch: 1/5 Train loss: 0.316687 Valid loss: 0.433407 train acc: 0.868852 Valid acc: 0.832407\n",
      "Epoch: 1/5 Train loss: 0.345714 Valid loss: 0.437510 train acc: 0.860656 Valid acc: 0.832407\n",
      "Epoch: 1/5 Train loss: 0.351564 Valid loss: 0.441623 train acc: 0.868852 Valid acc: 0.833333\n",
      "Epoch: 1/5 Train loss: 0.305932 Valid loss: 0.441242 train acc: 0.860656 Valid acc: 0.832407\n",
      "Epoch: 1/5 Train loss: 0.286440 Valid loss: 0.439561 train acc: 0.877049 Valid acc: 0.832407\n",
      "Epoch: 1/5 Train loss: 0.339036 Valid loss: 0.437241 train acc: 0.852459 Valid acc: 0.833333\n",
      "Epoch: 1/5 Train loss: 0.378451 Valid loss: 0.418790 train acc: 0.827869 Valid acc: 0.835185\n",
      "Epoch: 1/5 Train loss: 0.333239 Valid loss: 0.394773 train acc: 0.844262 Valid acc: 0.839815\n",
      "Epoch: 1/5 Train loss: 0.395229 Valid loss: 0.376725 train acc: 0.852459 Valid acc: 0.850000\n",
      "Epoch: 1/5 Train loss: 0.317851 Valid loss: 0.375779 train acc: 0.885246 Valid acc: 0.850000\n",
      "Epoch: 1/5 Train loss: 0.334916 Valid loss: 0.375429 train acc: 0.901639 Valid acc: 0.853704\n"
     ]
    },
    {
     "name": "stdout",
     "output_type": "stream",
     "text": [
      "Epoch: 1/5 Train loss: 0.356514 Valid loss: 0.372666 train acc: 0.844262 Valid acc: 0.850926\n",
      "Epoch: 1/5 Train loss: 2.415366 Valid loss: 0.386808 train acc: 0.885246 Valid acc: 0.850926\n",
      "Epoch: 1/5 Train loss: 0.481677 Valid loss: 0.406150 train acc: 0.852459 Valid acc: 0.847222\n",
      "Epoch: 1/5 Train loss: 0.352148 Valid loss: 0.398273 train acc: 0.918033 Valid acc: 0.854630\n",
      "Epoch: 1/5 Train loss: 0.376427 Valid loss: 0.376783 train acc: 0.852459 Valid acc: 0.854630\n",
      "Epoch: 1/5 Train loss: 0.348405 Valid loss: 0.365846 train acc: 0.860656 Valid acc: 0.853704\n",
      "Epoch: 1/5 Train loss: 0.311941 Valid loss: 0.376457 train acc: 0.877049 Valid acc: 0.850000\n",
      "Epoch: 1/5 Train loss: 0.315122 Valid loss: 0.400584 train acc: 0.852459 Valid acc: 0.839815\n",
      "Epoch: 2/5 Train loss: 0.248140 Valid loss: 0.435322 train acc: 0.926229 Valid acc: 0.837037\n",
      "Epoch: 2/5 Train loss: 0.313691 Valid loss: 0.472679 train acc: 0.868852 Valid acc: 0.837037\n",
      "Epoch: 2/5 Train loss: 0.338728 Valid loss: 0.503582 train acc: 0.868852 Valid acc: 0.834259\n",
      "Epoch: 2/5 Train loss: 0.295074 Valid loss: 0.520910 train acc: 0.885246 Valid acc: 0.833333\n",
      "Epoch: 2/5 Train loss: 0.356847 Valid loss: 0.523224 train acc: 0.860656 Valid acc: 0.833333\n",
      "Epoch: 2/5 Train loss: 0.372352 Valid loss: 0.510853 train acc: 0.844262 Valid acc: 0.836111\n",
      "Epoch: 2/5 Train loss: 0.279069 Valid loss: 0.487687 train acc: 0.852459 Valid acc: 0.837037\n",
      "Epoch: 2/5 Train loss: 0.280515 Valid loss: 0.457702 train acc: 0.860656 Valid acc: 0.836111\n",
      "Epoch: 2/5 Train loss: 0.321412 Valid loss: 0.428828 train acc: 0.877049 Valid acc: 0.839815\n",
      "Epoch: 2/5 Train loss: 0.293233 Valid loss: 0.402638 train acc: 0.877049 Valid acc: 0.845370\n",
      "Epoch: 2/5 Train loss: 0.308130 Valid loss: 0.382371 train acc: 0.893443 Valid acc: 0.848148\n",
      "Epoch: 2/5 Train loss: 0.267674 Valid loss: 0.370225 train acc: 0.901639 Valid acc: 0.857407\n",
      "Epoch: 2/5 Train loss: 0.283782 Valid loss: 0.365232 train acc: 0.893443 Valid acc: 0.861111\n",
      "Epoch: 2/5 Train loss: 0.331551 Valid loss: 0.365785 train acc: 0.860656 Valid acc: 0.861111\n",
      "Epoch: 2/5 Train loss: 0.278312 Valid loss: 0.371687 train acc: 0.909836 Valid acc: 0.856481\n",
      "Epoch: 2/5 Train loss: 0.231052 Valid loss: 0.381438 train acc: 0.926229 Valid acc: 0.852778\n",
      "Epoch: 2/5 Train loss: 0.268712 Valid loss: 0.394540 train acc: 0.893443 Valid acc: 0.850926\n",
      "Epoch: 2/5 Train loss: 0.275837 Valid loss: 0.407080 train acc: 0.893443 Valid acc: 0.848148\n",
      "Epoch: 2/5 Train loss: 0.284059 Valid loss: 0.418044 train acc: 0.893443 Valid acc: 0.846296\n",
      "Epoch: 2/5 Train loss: 0.286806 Valid loss: 0.424769 train acc: 0.868852 Valid acc: 0.845370\n",
      "Epoch: 2/5 Train loss: 0.259041 Valid loss: 0.426447 train acc: 0.885246 Valid acc: 0.845370\n",
      "Epoch: 2/5 Train loss: 0.285622 Valid loss: 0.438392 train acc: 0.885246 Valid acc: 0.844444\n",
      "Epoch: 2/5 Train loss: 0.311572 Valid loss: 0.439144 train acc: 0.893443 Valid acc: 0.844444\n",
      "Epoch: 2/5 Train loss: 0.432957 Valid loss: 0.421507 train acc: 0.819672 Valid acc: 0.846296\n",
      "Epoch: 2/5 Train loss: 0.368768 Valid loss: 0.414923 train acc: 0.844262 Valid acc: 0.849074\n",
      "Epoch: 2/5 Train loss: 0.418699 Valid loss: 0.412098 train acc: 0.836066 Valid acc: 0.850000\n",
      "Epoch: 2/5 Train loss: 0.457557 Valid loss: 0.406415 train acc: 0.868852 Valid acc: 0.850926\n",
      "Epoch: 2/5 Train loss: 0.429732 Valid loss: 0.391502 train acc: 0.860656 Valid acc: 0.854630\n",
      "Epoch: 2/5 Train loss: 0.274416 Valid loss: 0.386662 train acc: 0.885246 Valid acc: 0.856481\n",
      "Epoch: 2/5 Train loss: 0.254018 Valid loss: 0.390753 train acc: 0.868852 Valid acc: 0.856481\n",
      "Epoch: 2/5 Train loss: 0.177162 Valid loss: 0.404999 train acc: 0.950820 Valid acc: 0.850926\n",
      "Epoch: 2/5 Train loss: 0.247943 Valid loss: 0.432765 train acc: 0.901639 Valid acc: 0.843518\n",
      "Epoch: 2/5 Train loss: 0.261194 Valid loss: 0.468952 train acc: 0.909836 Valid acc: 0.839815\n",
      "Epoch: 2/5 Train loss: 0.205020 Valid loss: 0.506431 train acc: 0.918033 Valid acc: 0.836111\n",
      "Epoch: 2/5 Train loss: 0.276720 Valid loss: 0.537238 train acc: 0.893443 Valid acc: 0.834259\n",
      "Epoch: 2/5 Train loss: 0.288481 Valid loss: 0.543452 train acc: 0.885246 Valid acc: 0.833333\n",
      "Epoch: 2/5 Train loss: 0.250341 Valid loss: 0.532534 train acc: 0.909836 Valid acc: 0.834259\n",
      "Epoch: 2/5 Train loss: 0.155634 Valid loss: 0.525449 train acc: 0.926229 Valid acc: 0.834259\n",
      "Epoch: 2/5 Train loss: 0.174834 Valid loss: 0.516353 train acc: 0.926229 Valid acc: 0.837037\n",
      "Epoch: 2/5 Train loss: 0.217521 Valid loss: 0.500306 train acc: 0.942623 Valid acc: 0.837963\n",
      "Epoch: 2/5 Train loss: 0.178645 Valid loss: 0.485419 train acc: 0.934426 Valid acc: 0.837963\n",
      "Epoch: 2/5 Train loss: 0.279381 Valid loss: 0.473686 train acc: 0.893443 Valid acc: 0.839815\n",
      "Epoch: 2/5 Train loss: 0.287970 Valid loss: 0.465468 train acc: 0.877049 Valid acc: 0.841667\n",
      "Epoch: 2/5 Train loss: 0.321641 Valid loss: 0.456246 train acc: 0.893443 Valid acc: 0.843518\n",
      "Epoch: 2/5 Train loss: 0.362972 Valid loss: 0.444078 train acc: 0.836066 Valid acc: 0.845370\n",
      "Epoch: 2/5 Train loss: 0.389064 Valid loss: 0.433673 train acc: 0.868852 Valid acc: 0.845370\n",
      "Epoch: 2/5 Train loss: 0.307615 Valid loss: 0.430575 train acc: 0.860656 Valid acc: 0.846296\n",
      "Epoch: 2/5 Train loss: 0.520962 Valid loss: 0.429262 train acc: 0.786885 Valid acc: 0.845370\n",
      "Epoch: 2/5 Train loss: 0.386509 Valid loss: 0.431875 train acc: 0.868852 Valid acc: 0.844444\n",
      "Epoch: 2/5 Train loss: 0.333657 Valid loss: 0.438984 train acc: 0.868852 Valid acc: 0.842593\n",
      "Epoch: 2/5 Train loss: 0.354249 Valid loss: 0.445800 train acc: 0.852459 Valid acc: 0.842593\n",
      "Epoch: 2/5 Train loss: 0.354540 Valid loss: 0.454518 train acc: 0.860656 Valid acc: 0.838889\n",
      "Epoch: 2/5 Train loss: 0.393311 Valid loss: 0.456897 train acc: 0.860656 Valid acc: 0.838889\n",
      "Epoch: 2/5 Train loss: 0.455630 Valid loss: 0.459573 train acc: 0.827869 Valid acc: 0.838889\n",
      "Epoch: 2/5 Train loss: 0.329877 Valid loss: 0.456918 train acc: 0.877049 Valid acc: 0.838889\n",
      "Epoch: 2/5 Train loss: 0.511938 Valid loss: 0.446462 train acc: 0.819672 Valid acc: 0.838889\n",
      "Epoch: 2/5 Train loss: 0.390424 Valid loss: 0.436916 train acc: 0.860656 Valid acc: 0.839815\n",
      "Epoch: 2/5 Train loss: 0.386388 Valid loss: 0.428638 train acc: 0.811475 Valid acc: 0.839815\n",
      "Epoch: 2/5 Train loss: 0.488063 Valid loss: 0.415711 train acc: 0.778689 Valid acc: 0.839815\n",
      "Epoch: 2/5 Train loss: 0.300607 Valid loss: 0.407498 train acc: 0.893443 Valid acc: 0.839815\n",
      "Epoch: 2/5 Train loss: 0.282364 Valid loss: 0.407693 train acc: 0.885246 Valid acc: 0.840741\n",
      "Epoch: 2/5 Train loss: 0.344765 Valid loss: 0.409424 train acc: 0.844262 Valid acc: 0.841667\n",
      "Epoch: 2/5 Train loss: 0.307698 Valid loss: 0.412827 train acc: 0.885246 Valid acc: 0.840741\n",
      "Epoch: 2/5 Train loss: 0.284085 Valid loss: 0.417631 train acc: 0.885246 Valid acc: 0.839815\n",
      "Epoch: 2/5 Train loss: 0.299254 Valid loss: 0.427689 train acc: 0.885246 Valid acc: 0.837037\n",
      "Epoch: 2/5 Train loss: 0.298413 Valid loss: 0.432215 train acc: 0.885246 Valid acc: 0.837037\n",
      "Epoch: 2/5 Train loss: 0.266990 Valid loss: 0.431944 train acc: 0.860656 Valid acc: 0.837963\n",
      "Epoch: 2/5 Train loss: 0.332266 Valid loss: 0.429030 train acc: 0.860656 Valid acc: 0.837037\n",
      "Epoch: 2/5 Train loss: 0.591443 Valid loss: 0.423433 train acc: 0.795082 Valid acc: 0.837037\n",
      "Epoch: 2/5 Train loss: 0.553789 Valid loss: 0.414668 train acc: 0.795082 Valid acc: 0.837963\n",
      "Epoch: 2/5 Train loss: 0.490058 Valid loss: 0.406433 train acc: 0.786885 Valid acc: 0.838889\n",
      "Epoch: 2/5 Train loss: 0.452124 Valid loss: 0.395882 train acc: 0.811475 Valid acc: 0.839815\n",
      "Epoch: 2/5 Train loss: 0.413673 Valid loss: 0.386123 train acc: 0.852459 Valid acc: 0.841667\n",
      "Epoch: 2/5 Train loss: 0.344729 Valid loss: 0.382567 train acc: 0.852459 Valid acc: 0.841667\n",
      "Epoch: 2/5 Train loss: 0.353150 Valid loss: 0.381057 train acc: 0.836066 Valid acc: 0.841667\n",
      "Epoch: 2/5 Train loss: 0.347626 Valid loss: 0.382257 train acc: 0.885246 Valid acc: 0.840741\n",
      "Epoch: 2/5 Train loss: 0.336510 Valid loss: 0.385110 train acc: 0.893443 Valid acc: 0.839815\n",
      "Epoch: 2/5 Train loss: 0.306162 Valid loss: 0.391062 train acc: 0.885246 Valid acc: 0.840741\n",
      "Epoch: 2/5 Train loss: 0.342979 Valid loss: 0.398562 train acc: 0.852459 Valid acc: 0.837963\n",
      "Epoch: 2/5 Train loss: 0.325656 Valid loss: 0.406269 train acc: 0.852459 Valid acc: 0.837963\n",
      "Epoch: 2/5 Train loss: 0.369044 Valid loss: 0.409891 train acc: 0.844262 Valid acc: 0.837963\n",
      "Epoch: 2/5 Train loss: 0.296449 Valid loss: 0.412876 train acc: 0.877049 Valid acc: 0.837037\n",
      "Epoch: 2/5 Train loss: 0.300125 Valid loss: 0.415104 train acc: 0.885246 Valid acc: 0.836111\n",
      "Epoch: 2/5 Train loss: 0.318987 Valid loss: 0.415926 train acc: 0.877049 Valid acc: 0.836111\n"
     ]
    },
    {
     "name": "stdout",
     "output_type": "stream",
     "text": [
      "Epoch: 2/5 Train loss: 0.265072 Valid loss: 0.414043 train acc: 0.877049 Valid acc: 0.836111\n",
      "Epoch: 2/5 Train loss: 0.249914 Valid loss: 0.410911 train acc: 0.901639 Valid acc: 0.837037\n",
      "Epoch: 2/5 Train loss: 0.301494 Valid loss: 0.407334 train acc: 0.868852 Valid acc: 0.838889\n",
      "Epoch: 2/5 Train loss: 0.337606 Valid loss: 0.392229 train acc: 0.844262 Valid acc: 0.841667\n",
      "Epoch: 2/5 Train loss: 0.279064 Valid loss: 0.373436 train acc: 0.868852 Valid acc: 0.844444\n",
      "Epoch: 2/5 Train loss: 0.336386 Valid loss: 0.359484 train acc: 0.860656 Valid acc: 0.853704\n",
      "Epoch: 2/5 Train loss: 0.275884 Valid loss: 0.352592 train acc: 0.877049 Valid acc: 0.857407\n",
      "Epoch: 2/5 Train loss: 0.266348 Valid loss: 0.349383 train acc: 0.909836 Valid acc: 0.861111\n",
      "Epoch: 2/5 Train loss: 0.279693 Valid loss: 0.347627 train acc: 0.885246 Valid acc: 0.863889\n",
      "Epoch: 2/5 Train loss: 1.061508 Valid loss: 0.388869 train acc: 0.934426 Valid acc: 0.845370\n",
      "Epoch: 2/5 Train loss: 0.692011 Valid loss: 0.488056 train acc: 0.827869 Valid acc: 0.834259\n",
      "Epoch: 2/5 Train loss: 0.309934 Valid loss: 0.574185 train acc: 0.836066 Valid acc: 0.834259\n",
      "Epoch: 2/5 Train loss: 0.451893 Valid loss: 0.617623 train acc: 0.827869 Valid acc: 0.833333\n",
      "Epoch: 2/5 Train loss: 0.446927 Valid loss: 0.616380 train acc: 0.844262 Valid acc: 0.833333\n",
      "Epoch: 2/5 Train loss: 0.405706 Valid loss: 0.579675 train acc: 0.844262 Valid acc: 0.833333\n",
      "Epoch: 2/5 Train loss: 0.374222 Valid loss: 0.519911 train acc: 0.836066 Valid acc: 0.834259\n",
      "Epoch: 3/5 Train loss: 0.250328 Valid loss: 0.461784 train acc: 0.868852 Valid acc: 0.836111\n",
      "Epoch: 3/5 Train loss: 0.309845 Valid loss: 0.411025 train acc: 0.868852 Valid acc: 0.837963\n",
      "Epoch: 3/5 Train loss: 0.311051 Valid loss: 0.372725 train acc: 0.868852 Valid acc: 0.854630\n",
      "Epoch: 3/5 Train loss: 0.269595 Valid loss: 0.348874 train acc: 0.901639 Valid acc: 0.857407\n",
      "Epoch: 3/5 Train loss: 0.336984 Valid loss: 0.337511 train acc: 0.877049 Valid acc: 0.865741\n",
      "Epoch: 3/5 Train loss: 0.349163 Valid loss: 0.333537 train acc: 0.868852 Valid acc: 0.862037\n",
      "Epoch: 3/5 Train loss: 0.256105 Valid loss: 0.332287 train acc: 0.950820 Valid acc: 0.862037\n",
      "Epoch: 3/5 Train loss: 0.270126 Valid loss: 0.332135 train acc: 0.926229 Valid acc: 0.862963\n",
      "Epoch: 3/5 Train loss: 0.333444 Valid loss: 0.335164 train acc: 0.926229 Valid acc: 0.864815\n",
      "Epoch: 3/5 Train loss: 0.274696 Valid loss: 0.342413 train acc: 0.926229 Valid acc: 0.861111\n",
      "Epoch: 3/5 Train loss: 0.304586 Valid loss: 0.354739 train acc: 0.893443 Valid acc: 0.857407\n",
      "Epoch: 3/5 Train loss: 0.265653 Valid loss: 0.370801 train acc: 0.909836 Valid acc: 0.853704\n",
      "Epoch: 3/5 Train loss: 0.286809 Valid loss: 0.389862 train acc: 0.885246 Valid acc: 0.850000\n",
      "Epoch: 3/5 Train loss: 0.308481 Valid loss: 0.409828 train acc: 0.877049 Valid acc: 0.844444\n",
      "Epoch: 3/5 Train loss: 0.271827 Valid loss: 0.428294 train acc: 0.901639 Valid acc: 0.840741\n",
      "Epoch: 3/5 Train loss: 0.239577 Valid loss: 0.438592 train acc: 0.909836 Valid acc: 0.838889\n",
      "Epoch: 3/5 Train loss: 0.259656 Valid loss: 0.438009 train acc: 0.868852 Valid acc: 0.840741\n",
      "Epoch: 3/5 Train loss: 0.265080 Valid loss: 0.428909 train acc: 0.877049 Valid acc: 0.840741\n",
      "Epoch: 3/5 Train loss: 0.280601 Valid loss: 0.414079 train acc: 0.893443 Valid acc: 0.846296\n",
      "Epoch: 3/5 Train loss: 0.254102 Valid loss: 0.396752 train acc: 0.868852 Valid acc: 0.852778\n",
      "Epoch: 3/5 Train loss: 0.249952 Valid loss: 0.380303 train acc: 0.909836 Valid acc: 0.855556\n",
      "Epoch: 3/5 Train loss: 0.192666 Valid loss: 0.374632 train acc: 0.909836 Valid acc: 0.856481\n",
      "Epoch: 3/5 Train loss: 0.178290 Valid loss: 0.371198 train acc: 0.942623 Valid acc: 0.855556\n",
      "Epoch: 3/5 Train loss: 0.184710 Valid loss: 0.367093 train acc: 0.918033 Valid acc: 0.858333\n",
      "Epoch: 3/5 Train loss: 0.296256 Valid loss: 0.372047 train acc: 0.877049 Valid acc: 0.855556\n",
      "Epoch: 3/5 Train loss: 0.201599 Valid loss: 0.376901 train acc: 0.909836 Valid acc: 0.854630\n",
      "Epoch: 3/5 Train loss: 0.236112 Valid loss: 0.378450 train acc: 0.926229 Valid acc: 0.852778\n",
      "Epoch: 3/5 Train loss: 0.345227 Valid loss: 0.371027 train acc: 0.885246 Valid acc: 0.856481\n",
      "Epoch: 3/5 Train loss: 0.204536 Valid loss: 0.369702 train acc: 0.934426 Valid acc: 0.855556\n",
      "Epoch: 3/5 Train loss: 0.220624 Valid loss: 0.369721 train acc: 0.893443 Valid acc: 0.856481\n",
      "Epoch: 3/5 Train loss: 0.104899 Valid loss: 0.375932 train acc: 0.983607 Valid acc: 0.855556\n",
      "Epoch: 3/5 Train loss: 0.186399 Valid loss: 0.389708 train acc: 0.926229 Valid acc: 0.852778\n",
      "Epoch: 3/5 Train loss: 0.235649 Valid loss: 0.405069 train acc: 0.926229 Valid acc: 0.849074\n",
      "Epoch: 3/5 Train loss: 0.154844 Valid loss: 0.424172 train acc: 0.934426 Valid acc: 0.848148\n",
      "Epoch: 3/5 Train loss: 0.261434 Valid loss: 0.444654 train acc: 0.901639 Valid acc: 0.845370\n",
      "Epoch: 3/5 Train loss: 0.236776 Valid loss: 0.457092 train acc: 0.918033 Valid acc: 0.845370\n",
      "Epoch: 3/5 Train loss: 0.207045 Valid loss: 0.460482 train acc: 0.926229 Valid acc: 0.845370\n",
      "Epoch: 3/5 Train loss: 0.102567 Valid loss: 0.470398 train acc: 0.967213 Valid acc: 0.841667\n",
      "Epoch: 3/5 Train loss: 0.136283 Valid loss: 0.476856 train acc: 0.950820 Valid acc: 0.841667\n",
      "Epoch: 3/5 Train loss: 0.132484 Valid loss: 0.481150 train acc: 0.959016 Valid acc: 0.842593\n",
      "Epoch: 3/5 Train loss: 0.131844 Valid loss: 0.482606 train acc: 0.950820 Valid acc: 0.842593\n",
      "Epoch: 3/5 Train loss: 0.245968 Valid loss: 0.477486 train acc: 0.909836 Valid acc: 0.841667\n",
      "Epoch: 3/5 Train loss: 0.275614 Valid loss: 0.464484 train acc: 0.909836 Valid acc: 0.842593\n",
      "Epoch: 3/5 Train loss: 0.306704 Valid loss: 0.446675 train acc: 0.885246 Valid acc: 0.844444\n",
      "Epoch: 3/5 Train loss: 0.320234 Valid loss: 0.423921 train acc: 0.852459 Valid acc: 0.847222\n",
      "Epoch: 3/5 Train loss: 0.305757 Valid loss: 0.402097 train acc: 0.893443 Valid acc: 0.849074\n",
      "Epoch: 3/5 Train loss: 0.282143 Valid loss: 0.389477 train acc: 0.868852 Valid acc: 0.855556\n",
      "Epoch: 3/5 Train loss: 0.447616 Valid loss: 0.381304 train acc: 0.803279 Valid acc: 0.859259\n",
      "Epoch: 3/5 Train loss: 0.303420 Valid loss: 0.378172 train acc: 0.901639 Valid acc: 0.857407\n",
      "Epoch: 3/5 Train loss: 0.236770 Valid loss: 0.379059 train acc: 0.909836 Valid acc: 0.855555\n",
      "Epoch: 3/5 Train loss: 0.310515 Valid loss: 0.381874 train acc: 0.868852 Valid acc: 0.855556\n",
      "Epoch: 3/5 Train loss: 0.292233 Valid loss: 0.388570 train acc: 0.868852 Valid acc: 0.850926\n",
      "Epoch: 3/5 Train loss: 0.338545 Valid loss: 0.398399 train acc: 0.860656 Valid acc: 0.847222\n",
      "Epoch: 3/5 Train loss: 0.387012 Valid loss: 0.410633 train acc: 0.836066 Valid acc: 0.843518\n",
      "Epoch: 3/5 Train loss: 0.286630 Valid loss: 0.420515 train acc: 0.901639 Valid acc: 0.844444\n",
      "Epoch: 3/5 Train loss: 0.482246 Valid loss: 0.422315 train acc: 0.827869 Valid acc: 0.843519\n",
      "Epoch: 3/5 Train loss: 0.354994 Valid loss: 0.423214 train acc: 0.877049 Valid acc: 0.844444\n",
      "Epoch: 3/5 Train loss: 0.327479 Valid loss: 0.419643 train acc: 0.893443 Valid acc: 0.844444\n",
      "Epoch: 3/5 Train loss: 0.458796 Valid loss: 0.407838 train acc: 0.836066 Valid acc: 0.845370\n",
      "Epoch: 3/5 Train loss: 0.261832 Valid loss: 0.398501 train acc: 0.901639 Valid acc: 0.845370\n",
      "Epoch: 3/5 Train loss: 0.257287 Valid loss: 0.395699 train acc: 0.885246 Valid acc: 0.845370\n",
      "Epoch: 3/5 Train loss: 0.328021 Valid loss: 0.393901 train acc: 0.860656 Valid acc: 0.844444\n",
      "Epoch: 3/5 Train loss: 0.287382 Valid loss: 0.392152 train acc: 0.901639 Valid acc: 0.844444\n",
      "Epoch: 3/5 Train loss: 0.243372 Valid loss: 0.391331 train acc: 0.885246 Valid acc: 0.844444\n",
      "Epoch: 3/5 Train loss: 0.267133 Valid loss: 0.395037 train acc: 0.893443 Valid acc: 0.843518\n",
      "Epoch: 3/5 Train loss: 0.241087 Valid loss: 0.396606 train acc: 0.901639 Valid acc: 0.843518\n",
      "Epoch: 3/5 Train loss: 0.222528 Valid loss: 0.396394 train acc: 0.918033 Valid acc: 0.843518\n",
      "Epoch: 3/5 Train loss: 0.303763 Valid loss: 0.394877 train acc: 0.868852 Valid acc: 0.843518\n",
      "Epoch: 3/5 Train loss: 0.585372 Valid loss: 0.390819 train acc: 0.795082 Valid acc: 0.843518\n",
      "Epoch: 3/5 Train loss: 0.572039 Valid loss: 0.385702 train acc: 0.754098 Valid acc: 0.844444\n",
      "Epoch: 3/5 Train loss: 0.493755 Valid loss: 0.381760 train acc: 0.778688 Valid acc: 0.844444\n",
      "Epoch: 3/5 Train loss: 0.453328 Valid loss: 0.375941 train acc: 0.803279 Valid acc: 0.844444\n",
      "Epoch: 3/5 Train loss: 0.391464 Valid loss: 0.369910 train acc: 0.844262 Valid acc: 0.847222\n",
      "Epoch: 3/5 Train loss: 0.334748 Valid loss: 0.368052 train acc: 0.877049 Valid acc: 0.849074\n",
      "Epoch: 3/5 Train loss: 0.326378 Valid loss: 0.367501 train acc: 0.852459 Valid acc: 0.850000\n",
      "Epoch: 3/5 Train loss: 0.321298 Valid loss: 0.368256 train acc: 0.868852 Valid acc: 0.849074\n"
     ]
    },
    {
     "name": "stdout",
     "output_type": "stream",
     "text": [
      "Epoch: 3/5 Train loss: 0.296630 Valid loss: 0.369695 train acc: 0.901639 Valid acc: 0.850000\n",
      "Epoch: 3/5 Train loss: 0.280492 Valid loss: 0.373509 train acc: 0.909836 Valid acc: 0.846296\n",
      "Epoch: 3/5 Train loss: 0.317584 Valid loss: 0.378284 train acc: 0.868852 Valid acc: 0.843519\n",
      "Epoch: 3/5 Train loss: 0.294270 Valid loss: 0.383307 train acc: 0.844262 Valid acc: 0.843518\n",
      "Epoch: 3/5 Train loss: 0.333689 Valid loss: 0.385947 train acc: 0.844262 Valid acc: 0.840741\n",
      "Epoch: 3/5 Train loss: 0.278203 Valid loss: 0.389814 train acc: 0.893443 Valid acc: 0.840741\n",
      "Epoch: 3/5 Train loss: 0.274086 Valid loss: 0.394290 train acc: 0.901639 Valid acc: 0.840741\n",
      "Epoch: 3/5 Train loss: 0.279526 Valid loss: 0.398351 train acc: 0.877049 Valid acc: 0.841667\n",
      "Epoch: 3/5 Train loss: 0.246307 Valid loss: 0.400348 train acc: 0.885246 Valid acc: 0.839815\n",
      "Epoch: 3/5 Train loss: 0.220177 Valid loss: 0.400796 train acc: 0.918033 Valid acc: 0.840741\n",
      "Epoch: 3/5 Train loss: 0.278068 Valid loss: 0.400558 train acc: 0.893443 Valid acc: 0.841667\n",
      "Epoch: 3/5 Train loss: 0.303315 Valid loss: 0.388488 train acc: 0.852459 Valid acc: 0.848148\n",
      "Epoch: 3/5 Train loss: 0.248382 Valid loss: 0.371055 train acc: 0.868852 Valid acc: 0.852778\n",
      "Epoch: 3/5 Train loss: 0.312992 Valid loss: 0.349638 train acc: 0.852459 Valid acc: 0.857407\n",
      "Epoch: 3/5 Train loss: 0.256077 Valid loss: 0.340357 train acc: 0.901639 Valid acc: 0.861111\n",
      "Epoch: 3/5 Train loss: 0.231346 Valid loss: 0.338620 train acc: 0.926229 Valid acc: 0.854630\n",
      "Epoch: 3/5 Train loss: 0.241216 Valid loss: 0.339803 train acc: 0.926229 Valid acc: 0.855556\n",
      "Epoch: 3/5 Train loss: 1.012071 Valid loss: 0.367795 train acc: 0.942623 Valid acc: 0.845370\n",
      "Epoch: 3/5 Train loss: 0.403894 Valid loss: 0.399504 train acc: 0.909836 Valid acc: 0.842593\n",
      "Epoch: 3/5 Train loss: 0.295231 Valid loss: 0.393968 train acc: 0.918033 Valid acc: 0.842593\n",
      "Epoch: 3/5 Train loss: 0.315401 Valid loss: 0.363886 train acc: 0.877049 Valid acc: 0.849074\n",
      "Epoch: 3/5 Train loss: 0.261851 Valid loss: 0.337334 train acc: 0.942623 Valid acc: 0.859259\n",
      "Epoch: 3/5 Train loss: 0.228842 Valid loss: 0.335262 train acc: 0.934426 Valid acc: 0.862963\n",
      "Epoch: 3/5 Train loss: 0.231028 Valid loss: 0.357679 train acc: 0.926229 Valid acc: 0.859259\n",
      "Epoch: 4/5 Train loss: 0.207835 Valid loss: 0.396784 train acc: 0.950820 Valid acc: 0.849074\n",
      "Epoch: 4/5 Train loss: 0.279430 Valid loss: 0.439823 train acc: 0.877049 Valid acc: 0.840741\n",
      "Epoch: 4/5 Train loss: 0.303463 Valid loss: 0.475173 train acc: 0.877049 Valid acc: 0.838889\n",
      "Epoch: 4/5 Train loss: 0.272033 Valid loss: 0.495766 train acc: 0.893443 Valid acc: 0.837037\n",
      "Epoch: 4/5 Train loss: 0.328412 Valid loss: 0.497872 train acc: 0.860656 Valid acc: 0.837963\n",
      "Epoch: 4/5 Train loss: 0.341527 Valid loss: 0.482665 train acc: 0.852459 Valid acc: 0.838889\n",
      "Epoch: 4/5 Train loss: 0.213878 Valid loss: 0.457331 train acc: 0.877049 Valid acc: 0.840741\n",
      "Epoch: 4/5 Train loss: 0.236133 Valid loss: 0.424823 train acc: 0.885246 Valid acc: 0.845370\n",
      "Epoch: 4/5 Train loss: 0.292177 Valid loss: 0.393111 train acc: 0.893443 Valid acc: 0.850000\n",
      "Epoch: 4/5 Train loss: 0.248214 Valid loss: 0.363815 train acc: 0.901639 Valid acc: 0.859259\n",
      "Epoch: 4/5 Train loss: 0.274877 Valid loss: 0.341928 train acc: 0.893443 Valid acc: 0.862037\n",
      "Epoch: 4/5 Train loss: 0.233348 Valid loss: 0.328945 train acc: 0.909836 Valid acc: 0.867593\n",
      "Epoch: 4/5 Train loss: 0.257889 Valid loss: 0.323213 train acc: 0.918033 Valid acc: 0.865741\n",
      "Epoch: 4/5 Train loss: 0.288390 Valid loss: 0.321344 train acc: 0.909836 Valid acc: 0.865741\n",
      "Epoch: 4/5 Train loss: 0.266537 Valid loss: 0.321294 train acc: 0.918033 Valid acc: 0.864815\n",
      "Epoch: 4/5 Train loss: 0.207296 Valid loss: 0.322978 train acc: 0.950820 Valid acc: 0.867593\n",
      "Epoch: 4/5 Train loss: 0.224985 Valid loss: 0.327130 train acc: 0.926229 Valid acc: 0.865741\n",
      "Epoch: 4/5 Train loss: 0.222015 Valid loss: 0.333940 train acc: 0.926230 Valid acc: 0.866667\n",
      "Epoch: 4/5 Train loss: 0.244598 Valid loss: 0.343803 train acc: 0.901639 Valid acc: 0.862963\n",
      "Epoch: 4/5 Train loss: 0.226890 Valid loss: 0.356219 train acc: 0.926229 Valid acc: 0.860185\n",
      "Epoch: 4/5 Train loss: 0.226305 Valid loss: 0.369761 train acc: 0.918033 Valid acc: 0.859259\n",
      "Epoch: 4/5 Train loss: 0.165770 Valid loss: 0.396084 train acc: 0.926229 Valid acc: 0.857407\n",
      "Epoch: 4/5 Train loss: 0.130571 Valid loss: 0.425270 train acc: 0.950820 Valid acc: 0.850926\n",
      "Epoch: 4/5 Train loss: 0.130363 Valid loss: 0.450080 train acc: 0.942623 Valid acc: 0.848148\n",
      "Epoch: 4/5 Train loss: 0.226410 Valid loss: 0.480144 train acc: 0.909836 Valid acc: 0.845370\n",
      "Epoch: 4/5 Train loss: 0.161864 Valid loss: 0.496914 train acc: 0.926229 Valid acc: 0.840741\n",
      "Epoch: 4/5 Train loss: 0.212852 Valid loss: 0.491676 train acc: 0.942623 Valid acc: 0.843518\n",
      "Epoch: 4/5 Train loss: 0.296345 Valid loss: 0.458681 train acc: 0.885246 Valid acc: 0.847222\n",
      "Epoch: 4/5 Train loss: 0.163298 Valid loss: 0.430615 train acc: 0.959016 Valid acc: 0.850000\n",
      "Epoch: 4/5 Train loss: 0.151516 Valid loss: 0.407515 train acc: 0.942623 Valid acc: 0.855556\n",
      "Epoch: 4/5 Train loss: 0.077379 Valid loss: 0.396360 train acc: 0.975410 Valid acc: 0.857407\n",
      "Epoch: 4/5 Train loss: 0.135511 Valid loss: 0.398472 train acc: 0.959016 Valid acc: 0.856481\n",
      "Epoch: 4/5 Train loss: 0.198941 Valid loss: 0.408946 train acc: 0.934426 Valid acc: 0.855556\n",
      "Epoch: 4/5 Train loss: 0.136884 Valid loss: 0.426698 train acc: 0.950820 Valid acc: 0.853704\n",
      "Epoch: 4/5 Train loss: 0.207619 Valid loss: 0.452617 train acc: 0.909836 Valid acc: 0.847222\n",
      "Epoch: 4/5 Train loss: 0.185131 Valid loss: 0.476244 train acc: 0.942623 Valid acc: 0.844444\n",
      "Epoch: 4/5 Train loss: 0.159683 Valid loss: 0.496051 train acc: 0.950820 Valid acc: 0.843518\n",
      "Epoch: 4/5 Train loss: 0.082434 Valid loss: 0.525044 train acc: 0.975410 Valid acc: 0.841667\n",
      "Epoch: 4/5 Train loss: 0.097189 Valid loss: 0.549659 train acc: 0.942623 Valid acc: 0.838889\n",
      "Epoch: 4/5 Train loss: 0.089907 Valid loss: 0.571419 train acc: 0.975410 Valid acc: 0.837037\n",
      "Epoch: 4/5 Train loss: 0.098551 Valid loss: 0.586774 train acc: 0.975410 Valid acc: 0.836111\n",
      "Epoch: 4/5 Train loss: 0.194234 Valid loss: 0.585882 train acc: 0.909836 Valid acc: 0.837037\n",
      "Epoch: 4/5 Train loss: 0.265848 Valid loss: 0.562768 train acc: 0.918033 Valid acc: 0.839815\n",
      "Epoch: 4/5 Train loss: 0.306077 Valid loss: 0.522025 train acc: 0.877049 Valid acc: 0.841667\n",
      "Epoch: 4/5 Train loss: 0.308511 Valid loss: 0.470201 train acc: 0.852459 Valid acc: 0.846296\n",
      "Epoch: 4/5 Train loss: 0.309770 Valid loss: 0.421100 train acc: 0.893443 Valid acc: 0.850000\n",
      "Epoch: 4/5 Train loss: 0.253867 Valid loss: 0.391905 train acc: 0.885246 Valid acc: 0.851852\n",
      "Epoch: 4/5 Train loss: 0.431284 Valid loss: 0.379442 train acc: 0.827869 Valid acc: 0.849074\n",
      "Epoch: 4/5 Train loss: 0.289577 Valid loss: 0.376635 train acc: 0.893443 Valid acc: 0.845370\n",
      "Epoch: 4/5 Train loss: 0.235049 Valid loss: 0.375883 train acc: 0.901639 Valid acc: 0.846296\n",
      "Epoch: 4/5 Train loss: 0.290756 Valid loss: 0.376399 train acc: 0.893443 Valid acc: 0.850000\n",
      "Epoch: 4/5 Train loss: 0.286357 Valid loss: 0.381439 train acc: 0.877049 Valid acc: 0.851852\n",
      "Epoch: 4/5 Train loss: 0.329554 Valid loss: 0.395974 train acc: 0.877049 Valid acc: 0.850926\n",
      "Epoch: 4/5 Train loss: 0.370907 Valid loss: 0.420526 train acc: 0.836066 Valid acc: 0.849074\n",
      "Epoch: 4/5 Train loss: 0.264211 Valid loss: 0.445343 train acc: 0.893443 Valid acc: 0.845370\n",
      "Epoch: 4/5 Train loss: 0.456861 Valid loss: 0.457371 train acc: 0.836066 Valid acc: 0.843518\n",
      "Epoch: 4/5 Train loss: 0.325497 Valid loss: 0.462371 train acc: 0.868852 Valid acc: 0.840741\n",
      "Epoch: 4/5 Train loss: 0.302889 Valid loss: 0.454579 train acc: 0.885246 Valid acc: 0.841667\n",
      "Epoch: 4/5 Train loss: 0.431497 Valid loss: 0.433002 train acc: 0.836066 Valid acc: 0.842593\n",
      "Epoch: 4/5 Train loss: 0.232115 Valid loss: 0.410950 train acc: 0.926229 Valid acc: 0.844444\n",
      "Epoch: 4/5 Train loss: 0.224885 Valid loss: 0.396830 train acc: 0.909836 Valid acc: 0.845370\n",
      "Epoch: 4/5 Train loss: 0.300946 Valid loss: 0.384869 train acc: 0.868852 Valid acc: 0.845370\n",
      "Epoch: 4/5 Train loss: 0.275871 Valid loss: 0.375558 train acc: 0.901639 Valid acc: 0.848148\n",
      "Epoch: 4/5 Train loss: 0.219878 Valid loss: 0.369706 train acc: 0.909836 Valid acc: 0.852778\n",
      "Epoch: 4/5 Train loss: 0.253810 Valid loss: 0.369154 train acc: 0.909836 Valid acc: 0.851852\n",
      "Epoch: 4/5 Train loss: 0.216991 Valid loss: 0.368997 train acc: 0.926229 Valid acc: 0.850926\n",
      "Epoch: 4/5 Train loss: 0.199713 Valid loss: 0.369473 train acc: 0.934426 Valid acc: 0.850000\n",
      "Epoch: 4/5 Train loss: 0.296551 Valid loss: 0.370611 train acc: 0.877049 Valid acc: 0.849074\n"
     ]
    },
    {
     "name": "stdout",
     "output_type": "stream",
     "text": [
      "Epoch: 4/5 Train loss: 0.570879 Valid loss: 0.370847 train acc: 0.778688 Valid acc: 0.848148\n",
      "Epoch: 4/5 Train loss: 0.569128 Valid loss: 0.370708 train acc: 0.754098 Valid acc: 0.849074\n",
      "Epoch: 4/5 Train loss: 0.483063 Valid loss: 0.371402 train acc: 0.786885 Valid acc: 0.849074\n",
      "Epoch: 4/5 Train loss: 0.428482 Valid loss: 0.370053 train acc: 0.811475 Valid acc: 0.849074\n",
      "Epoch: 4/5 Train loss: 0.358813 Valid loss: 0.367390 train acc: 0.852459 Valid acc: 0.849074\n",
      "Epoch: 4/5 Train loss: 0.322151 Valid loss: 0.368280 train acc: 0.885246 Valid acc: 0.848148\n",
      "Epoch: 4/5 Train loss: 0.285780 Valid loss: 0.371512 train acc: 0.877049 Valid acc: 0.849074\n",
      "Epoch: 4/5 Train loss: 0.295716 Valid loss: 0.374887 train acc: 0.868852 Valid acc: 0.847222\n",
      "Epoch: 4/5 Train loss: 0.248137 Valid loss: 0.378724 train acc: 0.918033 Valid acc: 0.846296\n",
      "Epoch: 4/5 Train loss: 0.254826 Valid loss: 0.383837 train acc: 0.918033 Valid acc: 0.844444\n",
      "Epoch: 4/5 Train loss: 0.296804 Valid loss: 0.387624 train acc: 0.868852 Valid acc: 0.842593\n",
      "Epoch: 4/5 Train loss: 0.276937 Valid loss: 0.389914 train acc: 0.852459 Valid acc: 0.841667\n",
      "Epoch: 4/5 Train loss: 0.321978 Valid loss: 0.388205 train acc: 0.844262 Valid acc: 0.842593\n",
      "Epoch: 4/5 Train loss: 0.260811 Valid loss: 0.386317 train acc: 0.901639 Valid acc: 0.843518\n",
      "Epoch: 4/5 Train loss: 0.252315 Valid loss: 0.384594 train acc: 0.926229 Valid acc: 0.843518\n",
      "Epoch: 4/5 Train loss: 0.262881 Valid loss: 0.382697 train acc: 0.893443 Valid acc: 0.844444\n",
      "Epoch: 4/5 Train loss: 0.234851 Valid loss: 0.379878 train acc: 0.885246 Valid acc: 0.848148\n",
      "Epoch: 4/5 Train loss: 0.199519 Valid loss: 0.377587 train acc: 0.934426 Valid acc: 0.849074\n",
      "Epoch: 4/5 Train loss: 0.255824 Valid loss: 0.376044 train acc: 0.909836 Valid acc: 0.851852\n",
      "Epoch: 4/5 Train loss: 0.254114 Valid loss: 0.368944 train acc: 0.877049 Valid acc: 0.850926\n",
      "Epoch: 4/5 Train loss: 0.201631 Valid loss: 0.360104 train acc: 0.918033 Valid acc: 0.852778\n",
      "Epoch: 4/5 Train loss: 0.269751 Valid loss: 0.351794 train acc: 0.909836 Valid acc: 0.851852\n",
      "Epoch: 4/5 Train loss: 0.222309 Valid loss: 0.347591 train acc: 0.934426 Valid acc: 0.854630\n",
      "Epoch: 4/5 Train loss: 0.200298 Valid loss: 0.345429 train acc: 0.934426 Valid acc: 0.857407\n",
      "Epoch: 4/5 Train loss: 0.204656 Valid loss: 0.344383 train acc: 0.926229 Valid acc: 0.857407\n",
      "Epoch: 4/5 Train loss: 0.213929 Valid loss: 0.343060 train acc: 0.959016 Valid acc: 0.855556\n",
      "Epoch: 4/5 Train loss: 0.307893 Valid loss: 0.344337 train acc: 0.918033 Valid acc: 0.857407\n",
      "Epoch: 4/5 Train loss: 0.181692 Valid loss: 0.350910 train acc: 0.942623 Valid acc: 0.856481\n",
      "Epoch: 4/5 Train loss: 0.237221 Valid loss: 0.355861 train acc: 0.893443 Valid acc: 0.857407\n",
      "Epoch: 4/5 Train loss: 0.211794 Valid loss: 0.355235 train acc: 0.885246 Valid acc: 0.858333\n",
      "Epoch: 4/5 Train loss: 0.185978 Valid loss: 0.351350 train acc: 0.926229 Valid acc: 0.859259\n",
      "Epoch: 4/5 Train loss: 0.197220 Valid loss: 0.346389 train acc: 0.934426 Valid acc: 0.857407\n",
      "Epoch: 5/5 Train loss: 0.194206 Valid loss: 0.343700 train acc: 0.950820 Valid acc: 0.858333\n",
      "Epoch: 5/5 Train loss: 0.254322 Valid loss: 0.342833 train acc: 0.885246 Valid acc: 0.858333\n",
      "Epoch: 5/5 Train loss: 0.277244 Valid loss: 0.343686 train acc: 0.877049 Valid acc: 0.858333\n",
      "Epoch: 5/5 Train loss: 0.233521 Valid loss: 0.344732 train acc: 0.918033 Valid acc: 0.859259\n",
      "Epoch: 5/5 Train loss: 0.279352 Valid loss: 0.345862 train acc: 0.877049 Valid acc: 0.860185\n",
      "Epoch: 5/5 Train loss: 0.281964 Valid loss: 0.346697 train acc: 0.885246 Valid acc: 0.860185\n",
      "Epoch: 5/5 Train loss: 0.169992 Valid loss: 0.348607 train acc: 0.967213 Valid acc: 0.861111\n",
      "Epoch: 5/5 Train loss: 0.198906 Valid loss: 0.349503 train acc: 0.918033 Valid acc: 0.862037\n",
      "Epoch: 5/5 Train loss: 0.273305 Valid loss: 0.351145 train acc: 0.934426 Valid acc: 0.862963\n",
      "Epoch: 5/5 Train loss: 0.221958 Valid loss: 0.348985 train acc: 0.918033 Valid acc: 0.862963\n",
      "Epoch: 5/5 Train loss: 0.254861 Valid loss: 0.345084 train acc: 0.901639 Valid acc: 0.860185\n",
      "Epoch: 5/5 Train loss: 0.206423 Valid loss: 0.340363 train acc: 0.918033 Valid acc: 0.860185\n",
      "Epoch: 5/5 Train loss: 0.215807 Valid loss: 0.336643 train acc: 0.926229 Valid acc: 0.861111\n",
      "Epoch: 5/5 Train loss: 0.253768 Valid loss: 0.335052 train acc: 0.893443 Valid acc: 0.866667\n",
      "Epoch: 5/5 Train loss: 0.233903 Valid loss: 0.336185 train acc: 0.926229 Valid acc: 0.864815\n",
      "Epoch: 5/5 Train loss: 0.188312 Valid loss: 0.336523 train acc: 0.959016 Valid acc: 0.866667\n",
      "Epoch: 5/5 Train loss: 0.198817 Valid loss: 0.334918 train acc: 0.909836 Valid acc: 0.864815\n",
      "Epoch: 5/5 Train loss: 0.199013 Valid loss: 0.332626 train acc: 0.918033 Valid acc: 0.864815\n",
      "Epoch: 5/5 Train loss: 0.219853 Valid loss: 0.331387 train acc: 0.909836 Valid acc: 0.864815\n",
      "Epoch: 5/5 Train loss: 0.202224 Valid loss: 0.332762 train acc: 0.934426 Valid acc: 0.864815\n",
      "Epoch: 5/5 Train loss: 0.209690 Valid loss: 0.337259 train acc: 0.918033 Valid acc: 0.862963\n",
      "Epoch: 5/5 Train loss: 0.187696 Valid loss: 0.357575 train acc: 0.909836 Valid acc: 0.865741\n",
      "Epoch: 5/5 Train loss: 0.110462 Valid loss: 0.388919 train acc: 0.959016 Valid acc: 0.861111\n",
      "Epoch: 5/5 Train loss: 0.117922 Valid loss: 0.427664 train acc: 0.959016 Valid acc: 0.860185\n",
      "Epoch: 5/5 Train loss: 0.240501 Valid loss: 0.485063 train acc: 0.909836 Valid acc: 0.853704\n",
      "Epoch: 5/5 Train loss: 0.143778 Valid loss: 0.533056 train acc: 0.942623 Valid acc: 0.843518\n",
      "Epoch: 5/5 Train loss: 0.173154 Valid loss: 0.546721 train acc: 0.942623 Valid acc: 0.842593\n",
      "Epoch: 5/5 Train loss: 0.272951 Valid loss: 0.506112 train acc: 0.885246 Valid acc: 0.848148\n",
      "Epoch: 5/5 Train loss: 0.147076 Valid loss: 0.464702 train acc: 0.967213 Valid acc: 0.853704\n",
      "Epoch: 5/5 Train loss: 0.126481 Valid loss: 0.427930 train acc: 0.950820 Valid acc: 0.856481\n",
      "Epoch: 5/5 Train loss: 0.059478 Valid loss: 0.408645 train acc: 0.991803 Valid acc: 0.856481\n",
      "Epoch: 5/5 Train loss: 0.100647 Valid loss: 0.408098 train acc: 0.959016 Valid acc: 0.856481\n",
      "Epoch: 5/5 Train loss: 0.165759 Valid loss: 0.415772 train acc: 0.942623 Valid acc: 0.854630\n",
      "Epoch: 5/5 Train loss: 0.127048 Valid loss: 0.433829 train acc: 0.950820 Valid acc: 0.853704\n",
      "Epoch: 5/5 Train loss: 0.173601 Valid loss: 0.464085 train acc: 0.918033 Valid acc: 0.852778\n",
      "Epoch: 5/5 Train loss: 0.153064 Valid loss: 0.492875 train acc: 0.942623 Valid acc: 0.847222\n",
      "Epoch: 5/5 Train loss: 0.117600 Valid loss: 0.516942 train acc: 0.967213 Valid acc: 0.846296\n",
      "Epoch: 5/5 Train loss: 0.076019 Valid loss: 0.555758 train acc: 0.983607 Valid acc: 0.845370\n",
      "Epoch: 5/5 Train loss: 0.072417 Valid loss: 0.590612 train acc: 0.983607 Valid acc: 0.840741\n",
      "Epoch: 5/5 Train loss: 0.070590 Valid loss: 0.626505 train acc: 0.975410 Valid acc: 0.837037\n",
      "Epoch: 5/5 Train loss: 0.071648 Valid loss: 0.654422 train acc: 0.983607 Valid acc: 0.836111\n",
      "Epoch: 5/5 Train loss: 0.147882 Valid loss: 0.655851 train acc: 0.926229 Valid acc: 0.836111\n",
      "Epoch: 5/5 Train loss: 0.236661 Valid loss: 0.616873 train acc: 0.918033 Valid acc: 0.839815\n",
      "Epoch: 5/5 Train loss: 0.306963 Valid loss: 0.546478 train acc: 0.885246 Valid acc: 0.844444\n",
      "Epoch: 5/5 Train loss: 0.301352 Valid loss: 0.462200 train acc: 0.860656 Valid acc: 0.848148\n",
      "Epoch: 5/5 Train loss: 0.277529 Valid loss: 0.398422 train acc: 0.901639 Valid acc: 0.849074\n",
      "Epoch: 5/5 Train loss: 0.240639 Valid loss: 0.384761 train acc: 0.909836 Valid acc: 0.838889\n",
      "Epoch: 5/5 Train loss: 0.373943 Valid loss: 0.396966 train acc: 0.836066 Valid acc: 0.827778\n",
      "Epoch: 5/5 Train loss: 0.287494 Valid loss: 0.399248 train acc: 0.885246 Valid acc: 0.825000\n",
      "Epoch: 5/5 Train loss: 0.225238 Valid loss: 0.387429 train acc: 0.918033 Valid acc: 0.832407\n",
      "Epoch: 5/5 Train loss: 0.262305 Valid loss: 0.380420 train acc: 0.893443 Valid acc: 0.840741\n",
      "Epoch: 5/5 Train loss: 0.263111 Valid loss: 0.387874 train acc: 0.877049 Valid acc: 0.849074\n",
      "Epoch: 5/5 Train loss: 0.294317 Valid loss: 0.411109 train acc: 0.885246 Valid acc: 0.845370\n",
      "Epoch: 5/5 Train loss: 0.330500 Valid loss: 0.439318 train acc: 0.836066 Valid acc: 0.847222\n",
      "Epoch: 5/5 Train loss: 0.243733 Valid loss: 0.457630 train acc: 0.885246 Valid acc: 0.846296\n",
      "Epoch: 5/5 Train loss: 0.419679 Valid loss: 0.455097 train acc: 0.852459 Valid acc: 0.846296\n",
      "Epoch: 5/5 Train loss: 0.288433 Valid loss: 0.444204 train acc: 0.877049 Valid acc: 0.844444\n",
      "Epoch: 5/5 Train loss: 0.258286 Valid loss: 0.423415 train acc: 0.909836 Valid acc: 0.845370\n",
      "Epoch: 5/5 Train loss: 0.381351 Valid loss: 0.396282 train acc: 0.868852 Valid acc: 0.850000\n"
     ]
    },
    {
     "name": "stdout",
     "output_type": "stream",
     "text": [
      "Epoch: 5/5 Train loss: 0.188029 Valid loss: 0.378293 train acc: 0.942623 Valid acc: 0.845370\n",
      "Epoch: 5/5 Train loss: 0.205373 Valid loss: 0.370062 train acc: 0.934426 Valid acc: 0.846296\n",
      "Epoch: 5/5 Train loss: 0.268216 Valid loss: 0.365865 train acc: 0.860656 Valid acc: 0.850926\n",
      "Epoch: 5/5 Train loss: 0.250808 Valid loss: 0.363634 train acc: 0.909836 Valid acc: 0.848148\n",
      "Epoch: 5/5 Train loss: 0.194484 Valid loss: 0.363213 train acc: 0.934426 Valid acc: 0.847222\n",
      "Epoch: 5/5 Train loss: 0.241246 Valid loss: 0.366287 train acc: 0.909836 Valid acc: 0.849074\n",
      "Epoch: 5/5 Train loss: 0.207125 Valid loss: 0.369654 train acc: 0.934426 Valid acc: 0.850926\n",
      "Epoch: 5/5 Train loss: 0.182708 Valid loss: 0.373307 train acc: 0.942623 Valid acc: 0.848148\n",
      "Epoch: 5/5 Train loss: 0.280631 Valid loss: 0.376271 train acc: 0.860656 Valid acc: 0.846296\n",
      "Epoch: 5/5 Train loss: 0.551645 Valid loss: 0.376414 train acc: 0.795082 Valid acc: 0.846296\n",
      "Epoch: 5/5 Train loss: 0.562383 Valid loss: 0.374153 train acc: 0.762295 Valid acc: 0.849074\n",
      "Epoch: 5/5 Train loss: 0.450318 Valid loss: 0.371897 train acc: 0.786885 Valid acc: 0.848148\n",
      "Epoch: 5/5 Train loss: 0.394539 Valid loss: 0.367364 train acc: 0.836066 Valid acc: 0.849074\n",
      "Epoch: 5/5 Train loss: 0.331225 Valid loss: 0.362410 train acc: 0.868852 Valid acc: 0.850000\n",
      "Epoch: 5/5 Train loss: 0.294832 Valid loss: 0.360518 train acc: 0.893443 Valid acc: 0.849074\n",
      "Epoch: 5/5 Train loss: 0.259344 Valid loss: 0.361089 train acc: 0.901639 Valid acc: 0.850000\n",
      "Epoch: 5/5 Train loss: 0.288244 Valid loss: 0.362483 train acc: 0.877049 Valid acc: 0.849074\n",
      "Epoch: 5/5 Train loss: 0.233294 Valid loss: 0.365387 train acc: 0.942623 Valid acc: 0.848148\n",
      "Epoch: 5/5 Train loss: 0.241166 Valid loss: 0.370856 train acc: 0.918033 Valid acc: 0.847222\n",
      "Epoch: 5/5 Train loss: 0.270698 Valid loss: 0.377029 train acc: 0.885246 Valid acc: 0.846296\n",
      "Epoch: 5/5 Train loss: 0.258565 Valid loss: 0.382696 train acc: 0.868852 Valid acc: 0.846296\n",
      "Epoch: 5/5 Train loss: 0.298373 Valid loss: 0.384284 train acc: 0.868852 Valid acc: 0.845370\n",
      "Epoch: 5/5 Train loss: 0.246707 Valid loss: 0.384633 train acc: 0.901639 Valid acc: 0.846296\n",
      "Epoch: 5/5 Train loss: 0.233204 Valid loss: 0.384487 train acc: 0.934426 Valid acc: 0.846296\n",
      "Epoch: 5/5 Train loss: 0.242742 Valid loss: 0.382797 train acc: 0.893443 Valid acc: 0.844444\n",
      "Epoch: 5/5 Train loss: 0.222210 Valid loss: 0.378593 train acc: 0.885246 Valid acc: 0.845370\n",
      "Epoch: 5/5 Train loss: 0.183983 Valid loss: 0.374327 train acc: 0.950820 Valid acc: 0.845370\n",
      "Epoch: 5/5 Train loss: 0.236556 Valid loss: 0.370794 train acc: 0.934426 Valid acc: 0.846296\n",
      "Epoch: 5/5 Train loss: 0.225751 Valid loss: 0.361823 train acc: 0.877049 Valid acc: 0.851852\n",
      "Epoch: 5/5 Train loss: 0.167349 Valid loss: 0.353646 train acc: 0.934426 Valid acc: 0.855556\n",
      "Epoch: 5/5 Train loss: 0.224182 Valid loss: 0.348744 train acc: 0.918033 Valid acc: 0.856481\n",
      "Epoch: 5/5 Train loss: 0.204446 Valid loss: 0.347612 train acc: 0.926229 Valid acc: 0.856482\n",
      "Epoch: 5/5 Train loss: 0.172782 Valid loss: 0.347333 train acc: 0.950820 Valid acc: 0.858333\n",
      "Epoch: 5/5 Train loss: 0.177113 Valid loss: 0.347094 train acc: 0.959016 Valid acc: 0.859259\n",
      "Epoch: 5/5 Train loss: 0.232043 Valid loss: 0.346457 train acc: 0.975410 Valid acc: 0.857407\n",
      "Epoch: 5/5 Train loss: 0.294612 Valid loss: 0.347473 train acc: 0.926229 Valid acc: 0.856481\n",
      "Epoch: 5/5 Train loss: 0.157427 Valid loss: 0.348129 train acc: 0.967213 Valid acc: 0.853704\n",
      "Epoch: 5/5 Train loss: 0.199606 Valid loss: 0.347911 train acc: 0.926229 Valid acc: 0.852778\n",
      "Epoch: 5/5 Train loss: 0.166746 Valid loss: 0.346394 train acc: 0.950820 Valid acc: 0.857407\n",
      "Epoch: 5/5 Train loss: 0.151180 Valid loss: 0.345153 train acc: 0.959016 Valid acc: 0.858333\n",
      "Epoch: 5/5 Train loss: 0.168611 Valid loss: 0.347568 train acc: 0.950820 Valid acc: 0.855556\n",
      "Testing loss: 0.304457 Testing acc: 0.883703\n"
     ]
    }
   ],
   "source": [
    "train_losses, valid_losses = [], []\n",
    "train_acc_list, valid_acc_list = [], []\n",
    "\n",
    "with tf.Session() as sess:\n",
    "    sess.run(tf.global_variables_initializer())\n",
    "   \n",
    "    # Loop over epochs\n",
    "    for e in range(epochs):\n",
    "        \n",
    "        # Loop over training minibatches\n",
    "        for x, y in get_batches(X_train_norm, Y_train_onehot, batch_size):\n",
    "            \n",
    "            # Feed dictionary of training minibatch\n",
    "            feed = {inputs_:x, labels_:y, is_train: True, keep_prob_:keep_prob, learning_rate_:learning_rate}\n",
    "            train_loss, _ , train_acc = sess.run([cost, optimizer, accuracy], feed_dict = feed)\n",
    "            \n",
    "            # Feed dictionary of validation full-batch \n",
    "            # no dropout/keep_prob; no learning rate/ no learning\n",
    "            feed = {inputs_:X_valid_norm, labels_:Y_valid_onehot, is_train: False}\n",
    "            valid_loss, valid_acc = sess.run([cost, accuracy], feed_dict = feed)\n",
    "\n",
    "            # Print at each iter/ epoch\n",
    "            print(\"Epoch: {}/{}\".format(e+1, epochs),\n",
    "                  \"Train loss: {:6f}\".format(train_loss),\n",
    "                  \"Valid loss: {:.6f}\".format(valid_loss),\n",
    "                  \"train acc: {:.6f}\".format(train_acc),\n",
    "                  \"Valid acc: {:.6f}\".format(valid_acc))\n",
    "\n",
    "            # Ploting the learning curve for training and validation\n",
    "            train_losses.append(train_loss)\n",
    "            valid_losses.append(valid_loss)\n",
    "            train_acc_list.append(train_acc)\n",
    "            valid_acc_list.append(valid_acc)\n",
    "            \n",
    "    # Testing after all epochs for the final model\n",
    "    # Feed dictionary of testing full-batch similar to validation\n",
    "    # no dropout/keep_prob; no learning rate/ no learning\n",
    "    feed = {inputs_:X_test_norm, labels_:Y_test_onehot, is_train: False}\n",
    "    loss, acc = sess.run([cost, accuracy], feed_dict = feed)\n",
    "    print(\"Testing loss: {:.6f}\".format(loss), \n",
    "         \"Testing acc: {:.6f}\".format(acc))"
   ]
  },
  {
   "cell_type": "code",
   "execution_count": 64,
   "metadata": {},
   "outputs": [
    {
     "data": {
      "image/png": "[encoded data removed]",
      "text/plain": [
       "<matplotlib.figure.Figure at 0x7f94f41cf978>"
      ]
     },
     "metadata": {},
     "output_type": "display_data"
    }
   ],
   "source": [
    "import matplotlib.pyplot as mplot\n",
    "\n",
    "mplot.plot(train_losses, label='train_losses')\n",
    "mplot.plot(valid_losses, label='valid_losses')\n",
    "mplot.legend()\n",
    "mplot.show()"
   ]
  },
  {
   "cell_type": "code",
   "execution_count": 65,
   "metadata": {},
   "outputs": [
    {
     "data": {
      "image/png": "[encoded data removed]",
      "text/plain": [
       "<matplotlib.figure.Figure at 0x7f94f41cf9e8>"
      ]
     },
     "metadata": {},
     "output_type": "display_data"
    }
   ],
   "source": [
    "# import matplotlib.pyplot as mplot\n",
    "mplot.plot(train_acc_list, label='train_acc_list')\n",
    "mplot.plot(valid_acc_list, label='valid_acc_list')\n",
    "mplot.legend()\n",
    "mplot.show()"
   ]
  },
  {
   "cell_type": "code",
   "execution_count": null,
   "metadata": {},
   "outputs": [],
   "source": []
  }
 ],
 "metadata": {
  "kernelspec": {
   "display_name": "Python 3",
   "language": "python",
   "name": "python3"
  },
  "language_info": {
   "codemirror_mode": {
    "name": "ipython",
    "version": 3
   },
   "file_extension": ".py",
   "mimetype": "text/x-python",
   "name": "python",
   "nbconvert_exporter": "python",
   "pygments_lexer": "ipython3",
   "version": "3.6.3"
  }
 },
 "nbformat": 4,
 "nbformat_minor": 2
}
