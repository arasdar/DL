{
 "cells": [
  {
   "cell_type": "markdown",
   "metadata": {},
   "source": [
    "# Input data"
   ]
  },
  {
   "cell_type": "code",
   "execution_count": 1,
   "metadata": {},
   "outputs": [],
   "source": [
    "import scipy.io as spio\n",
    "import numpy as np"
   ]
  },
  {
   "cell_type": "code",
   "execution_count": 2,
   "metadata": {},
   "outputs": [],
   "source": [
    "BahramFace = spio.loadmat(file_name='../data/bci-project-data-RAW/BahramFace.mat')\n",
    "DJFace = spio.loadmat(file_name='../data/bci-project-data-RAW/DJFace.mat')\n",
    "NickFace = spio.loadmat(file_name='../data/bci-project-data-RAW/NickFace.mat')\n",
    "RoohiFace = spio.loadmat(file_name='../data/bci-project-data-RAW/RoohiFace.mat')\n",
    "SarahFace = spio.loadmat(file_name='../data/bci-project-data-RAW/SarahFace.mat')"
   ]
  },
  {
   "cell_type": "code",
   "execution_count": 3,
   "metadata": {},
   "outputs": [
    {
     "data": {
      "text/plain": [
       "1080"
      ]
     },
     "execution_count": 3,
     "metadata": {},
     "output_type": "execute_result"
    }
   ],
   "source": [
    "# Deviding the input data into train and validation\n",
    "length = int(BahramFace['Intensification_Data'].shape[0] * 0.30)\n",
    "length"
   ]
  },
  {
   "cell_type": "code",
   "execution_count": 4,
   "metadata": {},
   "outputs": [],
   "source": [
    "FacesDataAll = np.vstack(tup=(BahramFace['Intensification_Data'][:], \n",
    "                       DJFace['Intensification_Data'][:], \n",
    "                       NickFace['Intensification_Data'][:],\n",
    "                      RoohiFace['Intensification_Data'][:],\n",
    "                      SarahFace['Intensification_Data'][:]))\n",
    "\n",
    "FacesDataTrain = np.vstack(tup=(BahramFace['Intensification_Data'][:-length], \n",
    "                       DJFace['Intensification_Data'][:-length], \n",
    "                       NickFace['Intensification_Data'][:-length],\n",
    "                      RoohiFace['Intensification_Data'][:-length],\n",
    "                      SarahFace['Intensification_Data'][:-length]))\n",
    "\n",
    "FacesDataTest = np.vstack(tup=(BahramFace['Intensification_Data'][-length:], \n",
    "                       DJFace['Intensification_Data'][-length:], \n",
    "                       NickFace['Intensification_Data'][-length:],\n",
    "                      RoohiFace['Intensification_Data'][-length:],\n",
    "                      SarahFace['Intensification_Data'][-length:]))"
   ]
  },
  {
   "cell_type": "code",
   "execution_count": 7,
   "metadata": {},
   "outputs": [
    {
     "data": {
      "text/plain": [
       "((18720, 205, 16),\n",
       " dtype('<f8'),\n",
       " (5400, 205, 16),\n",
       " dtype('<f8'),\n",
       " (13320, 205, 16),\n",
       " dtype('<f8'))"
      ]
     },
     "execution_count": 7,
     "metadata": {},
     "output_type": "execute_result"
    }
   ],
   "source": [
    "(FacesDataAll.shape, FacesDataAll.dtype, \n",
    " FacesDataTest.shape, FacesDataTest.dtype, \n",
    " FacesDataTrain.shape, FacesDataTrain.dtype)"
   ]
  },
  {
   "cell_type": "code",
   "execution_count": 20,
   "metadata": {},
   "outputs": [],
   "source": [
    "FacesLabelAll = np.vstack(tup=(BahramFace['Intensification_Label'][:], \n",
    "                       DJFace['Intensification_Label'][:], \n",
    "                       NickFace['Intensification_Label'][:],\n",
    "                      RoohiFace['Intensification_Label'][:],\n",
    "                      SarahFace['Intensification_Label'][:]))\n",
    "\n",
    "FacesLabelTrain = np.vstack(tup=(BahramFace['Intensification_Label'][:-length], \n",
    "                       DJFace['Intensification_Label'][:-length], \n",
    "                       NickFace['Intensification_Label'][:-length],\n",
    "                      RoohiFace['Intensification_Label'][:-length],\n",
    "                      SarahFace['Intensification_Label'][:-length]))\n",
    "\n",
    "FacesLabelTest = np.vstack(tup=(BahramFace['Intensification_Label'][-length:], \n",
    "                       DJFace['Intensification_Label'][-length:], \n",
    "                       NickFace['Intensification_Label'][-length:],\n",
    "                      RoohiFace['Intensification_Label'][-length:],\n",
    "                      SarahFace['Intensification_Label'][-length:]))"
   ]
  },
  {
   "cell_type": "code",
   "execution_count": 22,
   "metadata": {},
   "outputs": [
    {
     "data": {
      "text/plain": [
       "((18720, 1),\n",
       " dtype('uint8'),\n",
       " (5400, 1),\n",
       " dtype('uint8'),\n",
       " (13320, 1),\n",
       " dtype('uint8'))"
      ]
     },
     "execution_count": 22,
     "metadata": {},
     "output_type": "execute_result"
    }
   ],
   "source": [
    "(FacesLabelAll.shape, FacesLabelAll.dtype, \n",
    " FacesLabelTest.shape, FacesLabelTest.dtype, \n",
    " FacesLabelTrain.shape, FacesLabelTrain.dtype)"
   ]
  },
  {
   "cell_type": "code",
   "execution_count": 23,
   "metadata": {},
   "outputs": [],
   "source": [
    "# Normalizing input data\n",
    "def normalize(inputs, inputs_all):\n",
    "    return (inputs - inputs_all.mean(axis=0)[None,:,:]) / inputs_all.std(axis=0)[None,:,:]\n",
    "\n",
    "# onehot vectorizing output labels\n",
    "def one_hot(labels, n_class):\n",
    "    \"\"\" One-hot encoding \"\"\"\n",
    "    expansion = np.eye(n_class)\n",
    "    y = expansion[:, labels-1].T\n",
    "    assert y.shape[1] == n_class, \"Wrong number of labels!\"\n",
    "\n",
    "    return y\n",
    "\n",
    "# get minibatches for learning\n",
    "def get_batches(X, y, batch_size):\n",
    "    \"\"\" Return a generator for batches \"\"\"\n",
    "    n_batches = len(X) // batch_size\n",
    "    X, y = X[:n_batches*batch_size], y[:n_batches*batch_size]\n",
    "\n",
    "    # Loop over batches and yield\n",
    "    for b in range(0, len(X), batch_size):\n",
    "        yield X[b:b+batch_size], y[b:b+batch_size]"
   ]
  },
  {
   "cell_type": "code",
   "execution_count": 24,
   "metadata": {},
   "outputs": [],
   "source": [
    "# Standardize/normalize train and test\n",
    "X_train_norm_all = normalize(inputs=FacesDataTrain, inputs_all=FacesDataAll)\n",
    "X_test_norm = normalize(inputs=FacesDataTest, inputs_all=FacesDataAll)"
   ]
  },
  {
   "cell_type": "code",
   "execution_count": 26,
   "metadata": {},
   "outputs": [],
   "source": [
    "# 30 % of train data is valid and the rest is training\n",
    "# length = int(X_norm.shape[0] * 0.3)\n",
    "X_train_norm = X_train_norm_all[:-length]\n",
    "X_valid_norm = X_train_norm_all[-length:]# 30% test and 70% train data"
   ]
  },
  {
   "cell_type": "code",
   "execution_count": 27,
   "metadata": {},
   "outputs": [
    {
     "data": {
      "text/plain": [
       "((12240, 205, 16),\n",
       " dtype('<f8'),\n",
       " (12240,),\n",
       " dtype('int64'),\n",
       " (1080, 205, 16),\n",
       " dtype('<f8'),\n",
       " (1080,),\n",
       " dtype('int64'),\n",
       " (5400, 205, 16),\n",
       " dtype('<f8'),\n",
       " (5400,),\n",
       " dtype('int64'))"
      ]
     },
     "execution_count": 27,
     "metadata": {},
     "output_type": "execute_result"
    }
   ],
   "source": [
    "(X_train_norm.shape, X_train_norm.dtype, Y_train.shape, Y_train.dtype, \n",
    "X_valid_norm.shape, X_valid_norm.dtype, Y_valid.shape, Y_valid.dtype,\n",
    "X_test_norm.shape, X_test_norm.dtype, Y_test.shape, Y_test.dtype)"
   ]
  },
  {
   "cell_type": "markdown",
   "metadata": {},
   "source": [
    "### Hyperparameters"
   ]
  },
  {
   "cell_type": "code",
   "execution_count": 34,
   "metadata": {},
   "outputs": [],
   "source": [
    "# Input data\n",
    "# X_(5832, 192, 64): (n_trials, seq_len, n_channels), batch_size== n_trials\n",
    "batch_size = X_train_norm.shape[0]// 100 # Batch size: number of trials\n",
    "seq_len = X_train_norm.shape[1]          # Number of steps: each trial length\n",
    "n_channels = X_train_norm.shape[2] # number of channels in each trial\n",
    "\n",
    "# Output labels\n",
    "# Y_(5832, 2): (n_trails, n_classes)\n",
    "n_classes = FacesLabelAll.max() + 1\n",
    "\n",
    "# Tweekable parameters\n",
    "learning_rate = 0.0001 #1e-4\n",
    "epochs = 5 # num iterations for updating model\n",
    "keep_prob = 0.50 # 90% neurons are kept and 10% are dropped out"
   ]
  },
  {
   "cell_type": "code",
   "execution_count": 36,
   "metadata": {},
   "outputs": [],
   "source": [
    "Y_train_all = np.array(FacesLabelTrain, dtype=int).reshape(-1)\n",
    "Y_test = np.array(FacesLabelTest, dtype=int).reshape(-1)"
   ]
  },
  {
   "cell_type": "code",
   "execution_count": 37,
   "metadata": {},
   "outputs": [],
   "source": [
    "# 30 % of train data is valid and the rest is training\n",
    "# length = int(X_norm.shape[0] * 0.3)\n",
    "Y_train = Y_train_all[:-length]\n",
    "Y_valid = Y_train_all[-length:]# 30% test and 70% train data"
   ]
  },
  {
   "cell_type": "code",
   "execution_count": 38,
   "metadata": {},
   "outputs": [],
   "source": [
    "Y_train_onehot = one_hot(labels=Y_train, n_class=n_classes)\n",
    "Y_valid_onehot = one_hot(labels=Y_valid, n_class=n_classes)\n",
    "Y_test_onehot = one_hot(labels=Y_test, n_class=n_classes)"
   ]
  },
  {
   "cell_type": "code",
   "execution_count": 39,
   "metadata": {},
   "outputs": [
    {
     "data": {
      "text/plain": [
       "((12240, 2),\n",
       " (1080, 2),\n",
       " (5400, 2),\n",
       " (12240, 205, 16),\n",
       " (1080, 205, 16),\n",
       " (5400, 205, 16))"
      ]
     },
     "execution_count": 39,
     "metadata": {},
     "output_type": "execute_result"
    }
   ],
   "source": [
    "(Y_train_onehot.shape, Y_valid_onehot.shape, Y_test_onehot.shape, \n",
    " X_train_norm.shape, X_valid_norm.shape, X_test_norm.shape)"
   ]
  },
  {
   "cell_type": "code",
   "execution_count": 40,
   "metadata": {},
   "outputs": [
    {
     "data": {
      "text/plain": [
       "(dtype('float64'), dtype('float64'), dtype('<f8'), dtype('<f8'))"
      ]
     },
     "execution_count": 40,
     "metadata": {},
     "output_type": "execute_result"
    }
   ],
   "source": [
    "(Y_train_onehot.dtype, Y_valid_onehot.dtype, X_train_norm.dtype, X_valid_norm.dtype)"
   ]
  },
  {
   "cell_type": "markdown",
   "metadata": {},
   "source": [
    "# GPUs or CPU"
   ]
  },
  {
   "cell_type": "code",
   "execution_count": 41,
   "metadata": {},
   "outputs": [
    {
     "name": "stdout",
     "output_type": "stream",
     "text": [
      "TensorFlow Version: 1.3.0\n",
      "Default GPU Device: /gpu:0\n"
     ]
    }
   ],
   "source": [
    "\"\"\"\n",
    "DON'T MODIFY ANYTHING IN THIS CELL\n",
    "\"\"\"\n",
    "from distutils.version import LooseVersion\n",
    "import warnings\n",
    "import tensorflow as tf\n",
    "\n",
    "# Check TensorFlow Version\n",
    "assert LooseVersion(tf.__version__) >= LooseVersion('1.0'), 'Please use TensorFlow version 1.0 or newer.  You are using {}'.format(tf.__version__)\n",
    "print('TensorFlow Version: {}'.format(tf.__version__))\n",
    "\n",
    "# Check for a GPU\n",
    "if not tf.test.gpu_device_name():\n",
    "    warnings.warn('No GPU found. Please use a GPU to train your neural network.')\n",
    "else:\n",
    "    print('Default GPU Device: {}'.format(tf.test.gpu_device_name()))"
   ]
  },
  {
   "cell_type": "code",
   "execution_count": 42,
   "metadata": {},
   "outputs": [],
   "source": [
    "#  No graphs is needed on tensorflow\n",
    "inputs_ = tf.placeholder(tf.float32, [None, seq_len, n_channels], name = 'inputs_')\n",
    "labels_ = tf.placeholder(tf.float32, [None, n_classes], name = 'labels_')\n",
    "keep_prob_ = tf.placeholder(tf.float32, name = 'keep_prob_')\n",
    "learning_rate_ = tf.placeholder(tf.float32, name = 'learning_rate_')"
   ]
  },
  {
   "cell_type": "markdown",
   "metadata": {},
   "source": [
    "# Convolutional Layers, FC Layer, and Output layer"
   ]
  },
  {
   "cell_type": "code",
   "execution_count": 44,
   "metadata": {},
   "outputs": [
    {
     "name": "stdout",
     "output_type": "stream",
     "text": [
      "(?, 101, 32)\n",
      "(?, 3232) (?, 6464)\n",
      "(?, 2)\n"
     ]
    }
   ],
   "source": [
    "# (batch, 205, 16) --> (batch, 101, 32)\n",
    "# (205 - 5 + 0)/2 + 1 = 100+1= 101\n",
    "# 2/5 with strides/kernel_size is 40% non-overlap/diff region and 60% overlapping window/ common region\n",
    "out_conv = tf.layers.conv1d(inputs=inputs_, filters=32, kernel_size=5, strides=2, padding='valid')\n",
    "out_conv = tf.layers.batch_normalization(inputs=out_conv)\n",
    "out_conv = tf.nn.relu(features=out_conv)\n",
    "out_conv = tf.nn.dropout(x=out_conv, keep_prob=keep_prob_)\n",
    "print(out_conv.shape)\n",
    "\n",
    "# (batch, 101, 32) --> (batch, 101*32) --> (batch, 101*32*2)\n",
    "# 101*32 = 202 + 3030 = 3232*2 = 6464\n",
    "# (batch, 101, 32) --> (batch, 3232) --> (batch, 6464)\n",
    "in_fc = tf.reshape(tensor=out_conv, shape=(-1, 101*32))\n",
    "out_fc = tf.layers.dense(inputs=in_fc, units=101*32*2)\n",
    "out_fc = tf.layers.batch_normalization(inputs=out_fc)\n",
    "out_fc = tf.nn.relu(features=out_fc)\n",
    "out_fc = tf.nn.dropout(x=out_fc, keep_prob=keep_prob_)\n",
    "print(in_fc.shape, out_fc.shape)\n",
    "\n",
    "# (batch, 101*32*2) --> (batch, 2) \n",
    "logits = tf.layers.dense(inputs=out_fc, units=n_classes)\n",
    "print(logits.shape)"
   ]
  },
  {
   "cell_type": "code",
   "execution_count": 45,
   "metadata": {},
   "outputs": [],
   "source": [
    "# Cost function\n",
    "cost_tensor = tf.nn.softmax_cross_entropy_with_logits(logits=logits, labels=labels_)\n",
    "cost = tf.reduce_mean(input_tensor=cost_tensor)\n",
    "\n",
    "# Optimizer\n",
    "optimizer = tf.train.AdamOptimizer(learning_rate=learning_rate_).minimize(cost)\n",
    "\n",
    "# Accuracy\n",
    "correct_pred = tf.equal(tf.argmax(logits, 1), tf.argmax(labels_, 1))\n",
    "accuracy = tf.reduce_mean(tf.cast(correct_pred, tf.float32), name='accuracy')"
   ]
  },
  {
   "cell_type": "markdown",
   "metadata": {},
   "source": [
    "### Train the network"
   ]
  },
  {
   "cell_type": "code",
   "execution_count": 53,
   "metadata": {},
   "outputs": [
    {
     "name": "stdout",
     "output_type": "stream",
     "text": [
      "Epoch: 1/5 Train loss: 0.381882 Valid loss: 0.340025 train acc: 0.844262 Valid acc: 0.859259\n",
      "Epoch: 2/5 Train loss: 0.385963 Valid loss: 0.375326 train acc: 0.860656 Valid acc: 0.847222\n",
      "Epoch: 3/5 Train loss: 0.327891 Valid loss: 0.405176 train acc: 0.860656 Valid acc: 0.845370\n",
      "Epoch: 4/5 Train loss: 0.318346 Valid loss: 0.331237 train acc: 0.827869 Valid acc: 0.873148\n",
      "Epoch: 5/5 Train loss: 0.269741 Valid loss: 0.354235 train acc: 0.885246 Valid acc: 0.855556\n"
     ]
    }
   ],
   "source": [
    "train_losses, valid_losses = [], []\n",
    "train_acc_list, valid_acc_list = [], []\n",
    "\n",
    "with tf.Session() as sess:\n",
    "    sess.run(tf.global_variables_initializer())\n",
    "   \n",
    "    # Loop over epochs\n",
    "    for e in range(epochs):\n",
    "        \n",
    "        # Loop over training minibatches\n",
    "        for x, y in get_batches(X_train_norm, Y_train_onehot, batch_size):\n",
    "            \n",
    "            # Feed dictionary of training minibatch\n",
    "            feed = {inputs_:x, labels_:y, keep_prob_:keep_prob, learning_rate_:learning_rate}\n",
    "            train_loss, _ , train_acc = sess.run([cost, optimizer, accuracy], feed_dict = feed)\n",
    "            \n",
    "        # Feed dictionary of validation full-batch \n",
    "        # no dropout/keep_prob; no learning rate/ no learning\n",
    "        feed = {inputs_:X_valid_norm, labels_:Y_valid_onehot, keep_prob_:1.0}\n",
    "        valid_loss, valid_acc = sess.run([cost, accuracy], feed_dict = feed)\n",
    "\n",
    "        # Print at each iter/ epoch\n",
    "        print(\"Epoch: {}/{}\".format(e+1, epochs),\n",
    "              \"Train loss: {:6f}\".format(train_loss),\n",
    "              \"Valid loss: {:.6f}\".format(valid_loss),\n",
    "              \"train acc: {:.6f}\".format(train_acc),\n",
    "              \"Valid acc: {:.6f}\".format(valid_acc))\n",
    "\n",
    "        # Ploting the learning curve for training and validation\n",
    "        train_losses.append(train_loss)\n",
    "        valid_losses.append(valid_loss)\n",
    "        train_acc_list.append(train_acc)\n",
    "        valid_acc_list.append(valid_acc)"
   ]
  },
  {
   "cell_type": "code",
   "execution_count": 54,
   "metadata": {},
   "outputs": [
    {
     "name": "stdout",
     "output_type": "stream",
     "text": [
      "Testing loss: 0.576111 Testing acc: 0.790741\n"
     ]
    }
   ],
   "source": [
    "with tf.Session() as sess:\n",
    "    sess.run(tf.global_variables_initializer())\n",
    "       \n",
    "    # Testing after all epochs for the final model\n",
    "    # Feed dictionary of testing full-batch similar to validation\n",
    "    # no dropout/keep_prob; no learning rate/ no learning\n",
    "    feed = {inputs_:X_test_norm, labels_:Y_test_onehot, keep_prob_:1.0}\n",
    "    loss, acc = sess.run([cost, accuracy], feed_dict = feed)\n",
    "    print(\"Testing loss: {:.6f}\".format(loss), \n",
    "         \"Testing acc: {:.6f}\".format(acc))"
   ]
  },
  {
   "cell_type": "code",
   "execution_count": 55,
   "metadata": {},
   "outputs": [
    {
     "data": {
      "image/png": "[encoded data removed]",
      "text/plain": [
       "<matplotlib.figure.Figure at 0x7fc67c1fbd30>"
      ]
     },
     "metadata": {},
     "output_type": "display_data"
    }
   ],
   "source": [
    "import matplotlib.pyplot as mplot\n",
    "\n",
    "mplot.plot(train_losses, label='train_losses')\n",
    "mplot.plot(valid_losses, label='valid_losses')\n",
    "mplot.legend()\n",
    "mplot.show()"
   ]
  },
  {
   "cell_type": "code",
   "execution_count": 56,
   "metadata": {},
   "outputs": [
    {
     "data": {
      "image/png": "[encoded data removed]",
      "text/plain": [
       "<matplotlib.figure.Figure at 0x7fc67c206710>"
      ]
     },
     "metadata": {},
     "output_type": "display_data"
    }
   ],
   "source": [
    "# import matplotlib.pyplot as mplot\n",
    "mplot.plot(train_acc_list, label='train_acc_list')\n",
    "mplot.plot(valid_acc_list, label='valid_acc_list')\n",
    "mplot.legend()\n",
    "mplot.show()"
   ]
  },
  {
   "cell_type": "code",
   "execution_count": null,
   "metadata": {},
   "outputs": [],
   "source": []
  }
 ],
 "metadata": {
  "kernelspec": {
   "display_name": "Python 3",
   "language": "python",
   "name": "python3"
  },
  "language_info": {
   "codemirror_mode": {
    "name": "ipython",
    "version": 3
   },
   "file_extension": ".py",
   "mimetype": "text/x-python",
   "name": "python",
   "nbconvert_exporter": "python",
   "pygments_lexer": "ipython3",
   "version": "3.6.3"
  }
 },
 "nbformat": 4,
 "nbformat_minor": 2
}
