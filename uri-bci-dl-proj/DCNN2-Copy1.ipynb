{
 "cells": [
  {
   "cell_type": "code",
   "execution_count": 2,
   "metadata": {},
   "outputs": [],
   "source": [
    "import scipy.io as spio\n",
    "import numpy as np"
   ]
  },
  {
   "cell_type": "code",
   "execution_count": 3,
   "metadata": {},
   "outputs": [],
   "source": [
    "BahramFace = spio.loadmat(file_name='../data/bci-project-data-RAW/BahramFace.mat')\n",
    "DJFace = spio.loadmat(file_name='../data/bci-project-data-RAW/DJFace.mat')\n",
    "NickFace = spio.loadmat(file_name='../data/bci-project-data-RAW/NickFace.mat')\n",
    "RoohiFace = spio.loadmat(file_name='../data/bci-project-data-RAW/RoohiFace.mat')\n",
    "SarahFace = spio.loadmat(file_name='../data/bci-project-data-RAW/SarahFace.mat')"
   ]
  },
  {
   "cell_type": "code",
   "execution_count": 4,
   "metadata": {},
   "outputs": [],
   "source": [
    "FacesData = np.vstack(tup=(BahramFace['Intensification_Data'], \n",
    "                       DJFace['Intensification_Data'], \n",
    "                       NickFace['Intensification_Data'],\n",
    "                      RoohiFace['Intensification_Data'],\n",
    "                      SarahFace['Intensification_Data']))"
   ]
  },
  {
   "cell_type": "code",
   "execution_count": 5,
   "metadata": {},
   "outputs": [],
   "source": [
    "FacesLabel = np.vstack(tup=(BahramFace['Intensification_Label'], \n",
    "                       DJFace['Intensification_Label'], \n",
    "                       NickFace['Intensification_Label'],\n",
    "                      RoohiFace['Intensification_Label'],\n",
    "                      SarahFace['Intensification_Label']))"
   ]
  },
  {
   "cell_type": "code",
   "execution_count": 6,
   "metadata": {},
   "outputs": [
    {
     "data": {
      "text/plain": [
       "((18720, 205, 16), dtype('<f8'), (18720, 1), dtype('uint8'))"
      ]
     },
     "execution_count": 6,
     "metadata": {},
     "output_type": "execute_result"
    }
   ],
   "source": [
    "(FacesData.shape, FacesData.dtype, FacesLabel.shape, FacesLabel.dtype)"
   ]
  },
  {
   "cell_type": "code",
   "execution_count": 7,
   "metadata": {},
   "outputs": [],
   "source": [
    "# Normalizing input data\n",
    "def normalize(inputs):\n",
    "    return (inputs - inputs.mean(axis=0)[None,:,:]) / inputs.std(axis=0)[None,:,:]\n",
    "\n",
    "# onehot vectorizing output labels\n",
    "def one_hot(labels, n_class):\n",
    "    \"\"\" One-hot encoding \"\"\"\n",
    "    expansion = np.eye(n_class)\n",
    "    y = expansion[:, labels-1].T\n",
    "    assert y.shape[1] == n_class, \"Wrong number of labels!\"\n",
    "\n",
    "    return y\n",
    "\n",
    "# get minibatches for learning\n",
    "def get_batches(X, y, batch_size):\n",
    "    \"\"\" Return a generator for batches \"\"\"\n",
    "    n_batches = len(X) // batch_size\n",
    "    X, y = X[:n_batches*batch_size], y[:n_batches*batch_size]\n",
    "\n",
    "    # Loop over batches and yield\n",
    "    for b in range(0, len(X), batch_size):\n",
    "        yield X[b:b+batch_size], y[b:b+batch_size]"
   ]
  },
  {
   "cell_type": "code",
   "execution_count": 8,
   "metadata": {},
   "outputs": [],
   "source": [
    "# Standardize/normalize train and test\n",
    "X_norm = normalize(inputs=FacesData)"
   ]
  },
  {
   "cell_type": "code",
   "execution_count": 9,
   "metadata": {},
   "outputs": [],
   "source": [
    "# Deviding the input data into train and validation\n",
    "# 30 % of data is test and the rest train\n",
    "length = int(X_norm.shape[0] * 0.3)\n",
    "X_train_norm = X_norm[: -length]\n",
    "X_valid_norm = X_norm[-length:]"
   ]
  },
  {
   "cell_type": "code",
   "execution_count": 17,
   "metadata": {},
   "outputs": [],
   "source": [
    "Y_train = np.array(FacesLabel[ :-length], dtype=int).reshape(-1)\n",
    "Y_valid = np.array(FacesLabel[-length: ], dtype=int).reshape(-1)"
   ]
  },
  {
   "cell_type": "code",
   "execution_count": 18,
   "metadata": {},
   "outputs": [
    {
     "data": {
      "text/plain": [
       "((13104, 205, 16), dtype('<f8'), (13104,), dtype('int64'))"
      ]
     },
     "execution_count": 18,
     "metadata": {},
     "output_type": "execute_result"
    }
   ],
   "source": [
    "(X_train_norm.shape, X_train_norm.dtype, Y_train.shape, Y_train.dtype)"
   ]
  },
  {
   "cell_type": "markdown",
   "metadata": {},
   "source": [
    "### Hyperparameters"
   ]
  },
  {
   "cell_type": "code",
   "execution_count": 19,
   "metadata": {},
   "outputs": [],
   "source": [
    "# Input data\n",
    "# X_(5832, 192, 64): (n_trials, seq_len, n_channels), batch_size== n_trials\n",
    "batch_size = X_train_norm.shape[0]// 100 # Batch size: number of trials\n",
    "seq_len = X_train_norm.shape[1]          # Number of steps: each trial length\n",
    "n_channels = X_train_norm.shape[2] # number of channels in each trial\n",
    "\n",
    "# Output labels\n",
    "# Y_(5832, 2): (n_trails, n_classes)\n",
    "n_classes = Y_train.max() + 1\n",
    "\n",
    "# Tweekable parameters\n",
    "learning_rate = 0.0001 #1e-4\n",
    "epochs = 10 # num iterations for updating model\n",
    "keep_prob = 0.50 # 90% neurons are kept and 10% are dropped out"
   ]
  },
  {
   "cell_type": "code",
   "execution_count": 20,
   "metadata": {},
   "outputs": [],
   "source": [
    "Y_train_onehot = one_hot(labels=Y_train, n_class=n_classes)\n",
    "Y_valid_onehot = one_hot(labels=Y_valid, n_class=n_classes)"
   ]
  },
  {
   "cell_type": "code",
   "execution_count": 21,
   "metadata": {},
   "outputs": [
    {
     "data": {
      "text/plain": [
       "((13104, 2), (5616, 2), (13104, 205, 16), (5616, 205, 16))"
      ]
     },
     "execution_count": 21,
     "metadata": {},
     "output_type": "execute_result"
    }
   ],
   "source": [
    "(Y_train_onehot.shape, Y_valid_onehot.shape, X_train_norm.shape, X_valid_norm.shape)"
   ]
  },
  {
   "cell_type": "markdown",
   "metadata": {},
   "source": [
    "# GPUs or CPU"
   ]
  },
  {
   "cell_type": "code",
   "execution_count": 22,
   "metadata": {},
   "outputs": [
    {
     "name": "stdout",
     "output_type": "stream",
     "text": [
      "TensorFlow Version: 1.3.0\n",
      "Default GPU Device: /gpu:0\n"
     ]
    }
   ],
   "source": [
    "\"\"\"\n",
    "DON'T MODIFY ANYTHING IN THIS CELL\n",
    "\"\"\"\n",
    "from distutils.version import LooseVersion\n",
    "import warnings\n",
    "import tensorflow as tf\n",
    "\n",
    "# Check TensorFlow Version\n",
    "assert LooseVersion(tf.__version__) >= LooseVersion('1.0'), 'Please use TensorFlow version 1.0 or newer.  You are using {}'.format(tf.__version__)\n",
    "print('TensorFlow Version: {}'.format(tf.__version__))\n",
    "\n",
    "# Check for a GPU\n",
    "if not tf.test.gpu_device_name():\n",
    "    warnings.warn('No GPU found. Please use a GPU to train your neural network.')\n",
    "else:\n",
    "    print('Default GPU Device: {}'.format(tf.test.gpu_device_name()))"
   ]
  },
  {
   "cell_type": "code",
   "execution_count": 23,
   "metadata": {},
   "outputs": [],
   "source": [
    "#  No graphs is needed on tensorflow\n",
    "inputs_ = tf.placeholder(tf.float32, [None, seq_len, n_channels], name = 'inputs_')\n",
    "labels_ = tf.placeholder(tf.float32, [None, n_classes], name = 'labels_')\n",
    "keep_prob_ = tf.placeholder(tf.float32, name = 'keep_prob_')\n",
    "learning_rate_ = tf.placeholder(tf.float32, name = 'learning_rate_')"
   ]
  },
  {
   "cell_type": "markdown",
   "metadata": {},
   "source": [
    "# Convolutional Layers, FC Layer, and Output layer"
   ]
  },
  {
   "cell_type": "code",
   "execution_count": 28,
   "metadata": {},
   "outputs": [
    {
     "name": "stdout",
     "output_type": "stream",
     "text": [
      "(?, 101, 32)\n",
      "(?, 3232) (?, 6464)\n",
      "(?, 2)\n"
     ]
    }
   ],
   "source": [
    "# (batch, 205, 16) --> (batch, 101, 32)\n",
    "# (205 - 5 + 0)/2 + 1 = 100+1= 101\n",
    "# 2/5 with strides/kernel_size is 40% non-overlap and 60% overlapping window\n",
    "out_conv = tf.layers.conv1d(inputs=inputs_, filters=32, kernel_size=5, strides=2, padding='valid', \n",
    "                            activation = tf.nn.relu)\n",
    "print(out_conv.shape)\n",
    "\n",
    "# (batch, 101, 32) --> (batch, 101*32) --> (batch, 101*32*2)\n",
    "# 101*32 = 202 + 3030 = 3232*2 = 6464\n",
    "in_fc = tf.reshape(out_conv, (-1, 101*32))\n",
    "out_fc = tf.layers.dense(inputs=in_fc, units=101*32*2, activation=tf.nn.relu)\n",
    "out_fc = tf.nn.dropout(x=out_fc, keep_prob=keep_prob_)\n",
    "print(in_fc.shape, out_fc.shape)\n",
    "\n",
    "# (batch, 101*32*2) --> (batch, 2) \n",
    "logits = tf.layers.dense(inputs=out_fc, units=n_classes)\n",
    "print(logits.shape)"
   ]
  },
  {
   "cell_type": "code",
   "execution_count": 29,
   "metadata": {},
   "outputs": [],
   "source": [
    "# Cost function\n",
    "cost_tensor = tf.nn.softmax_cross_entropy_with_logits(logits=logits, labels=labels_)\n",
    "cost = tf.reduce_mean(input_tensor=cost_tensor)\n",
    "\n",
    "# Optimizer\n",
    "optimizer = tf.train.AdamOptimizer(learning_rate=learning_rate_).minimize(cost)\n",
    "\n",
    "# Accuracy\n",
    "correct_pred = tf.equal(tf.argmax(logits, 1), tf.argmax(labels_, 1))\n",
    "accuracy = tf.reduce_mean(tf.cast(correct_pred, tf.float32), name='accuracy')"
   ]
  },
  {
   "cell_type": "markdown",
   "metadata": {},
   "source": [
    "### Train the network"
   ]
  },
  {
   "cell_type": "code",
   "execution_count": 30,
   "metadata": {},
   "outputs": [
    {
     "name": "stdout",
     "output_type": "stream",
     "text": [
      "Epoch: 0/100 Train loss: 0.307839 Valid loss: 0.555954 train acc: 0.854962 Valid acc: 0.842058\n",
      "Epoch: 1/100 Train loss: 0.290521 Valid loss: 0.661963 train acc: 0.854962 Valid acc: 0.850249\n",
      "Epoch: 2/100 Train loss: 0.279709 Valid loss: 0.790252 train acc: 0.854962 Valid acc: 0.851139\n",
      "Epoch: 3/100 Train loss: 0.272659 Valid loss: 0.966495 train acc: 0.854962 Valid acc: 0.844195\n",
      "Epoch: 4/100 Train loss: 0.268715 Valid loss: 1.081522 train acc: 0.870229 Valid acc: 0.839031\n",
      "Epoch: 5/100 Train loss: 0.269322 Valid loss: 1.209688 train acc: 0.862595 Valid acc: 0.831553\n",
      "Epoch: 6/100 Train loss: 0.265562 Valid loss: 1.357624 train acc: 0.877863 Valid acc: 0.819088\n",
      "Epoch: 7/100 Train loss: 0.279410 Valid loss: 1.418967 train acc: 0.870229 Valid acc: 0.817308\n",
      "Epoch: 8/100 Train loss: 0.244877 Valid loss: 1.504864 train acc: 0.893130 Valid acc: 0.810541\n",
      "Epoch: 9/100 Train loss: 0.240026 Valid loss: 1.558977 train acc: 0.885496 Valid acc: 0.815527\n",
      "Epoch: 10/100 Train loss: 0.225632 Valid loss: 1.668767 train acc: 0.908397 Valid acc: 0.820513\n",
      "Epoch: 11/100 Train loss: 0.276041 Valid loss: 2.205438 train acc: 0.885496 Valid acc: 0.830662\n",
      "Epoch: 12/100 Train loss: 0.211795 Valid loss: 2.324192 train acc: 0.916031 Valid acc: 0.832977\n",
      "Epoch: 13/100 Train loss: 0.179843 Valid loss: 2.473102 train acc: 0.916031 Valid acc: 0.826389\n",
      "Epoch: 14/100 Train loss: 0.152593 Valid loss: 2.652832 train acc: 0.946565 Valid acc: 0.823540\n",
      "Epoch: 15/100 Train loss: 0.127702 Valid loss: 2.876069 train acc: 0.954198 Valid acc: 0.823006\n",
      "Epoch: 16/100 Train loss: 0.113768 Valid loss: 3.191691 train acc: 0.954198 Valid acc: 0.816951\n",
      "Epoch: 17/100 Train loss: 0.098530 Valid loss: 3.331620 train acc: 0.969466 Valid acc: 0.813924\n",
      "Epoch: 18/100 Train loss: 0.098681 Valid loss: 3.320236 train acc: 0.969466 Valid acc: 0.802350\n",
      "Epoch: 19/100 Train loss: 0.071318 Valid loss: 3.709613 train acc: 0.977099 Valid acc: 0.794694\n",
      "Epoch: 20/100 Train loss: 0.070663 Valid loss: 4.093473 train acc: 1.000000 Valid acc: 0.748397\n",
      "Epoch: 21/100 Train loss: 0.050881 Valid loss: 4.023078 train acc: 0.992366 Valid acc: 0.769053\n",
      "Epoch: 22/100 Train loss: 0.074743 Valid loss: 4.351328 train acc: 0.961832 Valid acc: 0.812144\n",
      "Epoch: 23/100 Train loss: 0.091825 Valid loss: 4.363843 train acc: 0.954198 Valid acc: 0.831018\n",
      "Epoch: 24/100 Train loss: 0.046735 Valid loss: 4.722597 train acc: 0.992366 Valid acc: 0.802172\n",
      "Epoch: 25/100 Train loss: 0.084862 Valid loss: 4.490640 train acc: 0.992366 Valid acc: 0.796474\n",
      "Epoch: 26/100 Train loss: 0.127701 Valid loss: 4.390750 train acc: 0.977099 Valid acc: 0.762642\n",
      "Epoch: 27/100 Train loss: 0.236610 Valid loss: 4.867453 train acc: 0.916031 Valid acc: 0.681268\n",
      "Epoch: 28/100 Train loss: 0.210111 Valid loss: 5.606038 train acc: 0.916031 Valid acc: 0.654736\n",
      "Epoch: 29/100 Train loss: 0.069991 Valid loss: 5.537770 train acc: 0.992366 Valid acc: 0.690705\n",
      "Epoch: 30/100 Train loss: 0.040113 Valid loss: 6.054156 train acc: 0.992366 Valid acc: 0.720798\n",
      "Epoch: 31/100 Train loss: 0.018043 Valid loss: 6.899041 train acc: 1.000000 Valid acc: 0.765491\n",
      "Epoch: 32/100 Train loss: 0.019417 Valid loss: 7.480087 train acc: 1.000000 Valid acc: 0.788105\n",
      "Epoch: 33/100 Train loss: 0.017002 Valid loss: 8.355921 train acc: 1.000000 Valid acc: 0.803953\n",
      "Epoch: 34/100 Train loss: 0.012005 Valid loss: 8.531830 train acc: 1.000000 Valid acc: 0.787393\n",
      "Epoch: 35/100 Train loss: 0.011824 Valid loss: 9.385718 train acc: 1.000000 Valid acc: 0.804843\n",
      "Epoch: 36/100 Train loss: 0.008892 Valid loss: 9.749498 train acc: 1.000000 Valid acc: 0.808226\n",
      "Epoch: 37/100 Train loss: 0.020841 Valid loss: 10.581046 train acc: 1.000000 Valid acc: 0.819978\n",
      "Epoch: 38/100 Train loss: 0.010289 Valid loss: 10.640933 train acc: 1.000000 Valid acc: 0.823540\n",
      "Epoch: 39/100 Train loss: 0.013310 Valid loss: 10.206542 train acc: 0.992366 Valid acc: 0.809473\n",
      "Epoch: 40/100 Train loss: 0.003906 Valid loss: 10.136271 train acc: 1.000000 Valid acc: 0.806268\n",
      "Epoch: 41/100 Train loss: 0.019917 Valid loss: 9.551539 train acc: 0.984733 Valid acc: 0.775107\n",
      "Epoch: 42/100 Train loss: 0.004588 Valid loss: 9.521317 train acc: 1.000000 Valid acc: 0.788283\n",
      "Epoch: 43/100 Train loss: 0.002483 Valid loss: 10.332430 train acc: 1.000000 Valid acc: 0.792913\n",
      "Epoch: 44/100 Train loss: 0.001723 Valid loss: 10.855844 train acc: 1.000000 Valid acc: 0.790420\n",
      "Epoch: 45/100 Train loss: 0.003473 Valid loss: 10.218028 train acc: 1.000000 Valid acc: 0.778668\n",
      "Epoch: 46/100 Train loss: 0.012118 Valid loss: 10.649826 train acc: 0.992366 Valid acc: 0.802706\n",
      "Epoch: 47/100 Train loss: 0.002369 Valid loss: 10.004683 train acc: 1.000000 Valid acc: 0.783120\n",
      "Epoch: 48/100 Train loss: 0.001415 Valid loss: 10.364828 train acc: 1.000000 Valid acc: 0.786503\n",
      "Epoch: 49/100 Train loss: 0.002686 Valid loss: 10.312449 train acc: 1.000000 Valid acc: 0.782051\n",
      "Epoch: 50/100 Train loss: 0.001907 Valid loss: 11.097928 train acc: 1.000000 Valid acc: 0.798611\n",
      "Epoch: 51/100 Train loss: 0.001210 Valid loss: 10.718335 train acc: 1.000000 Valid acc: 0.792913\n",
      "Epoch: 52/100 Train loss: 0.004222 Valid loss: 10.179799 train acc: 1.000000 Valid acc: 0.778312\n",
      "Epoch: 53/100 Train loss: 0.002249 Valid loss: 9.963093 train acc: 1.000000 Valid acc: 0.774038\n",
      "Epoch: 54/100 Train loss: 0.001593 Valid loss: 10.887242 train acc: 1.000000 Valid acc: 0.791845\n",
      "Epoch: 55/100 Train loss: 0.002033 Valid loss: 11.534685 train acc: 1.000000 Valid acc: 0.800214\n",
      "Epoch: 56/100 Train loss: 0.002374 Valid loss: 11.773544 train acc: 1.000000 Valid acc: 0.804131\n",
      "Epoch: 57/100 Train loss: 0.001827 Valid loss: 11.538655 train acc: 1.000000 Valid acc: 0.800036\n",
      "Epoch: 58/100 Train loss: 0.004138 Valid loss: 11.979078 train acc: 1.000000 Valid acc: 0.800392\n",
      "Epoch: 59/100 Train loss: 0.022429 Valid loss: 10.518179 train acc: 0.992366 Valid acc: 0.790954\n",
      "Epoch: 60/100 Train loss: 0.002500 Valid loss: 10.560341 train acc: 1.000000 Valid acc: 0.796118\n",
      "Epoch: 61/100 Train loss: 0.005452 Valid loss: 11.202323 train acc: 1.000000 Valid acc: 0.776709\n",
      "Epoch: 62/100 Train loss: 0.019850 Valid loss: 10.436032 train acc: 0.992366 Valid acc: 0.781517\n",
      "Epoch: 63/100 Train loss: 0.001421 Valid loss: 10.890719 train acc: 1.000000 Valid acc: 0.759437\n",
      "Epoch: 64/100 Train loss: 0.000528 Valid loss: 11.908948 train acc: 1.000000 Valid acc: 0.790776\n",
      "Epoch: 65/100 Train loss: 0.001113 Valid loss: 10.899442 train acc: 1.000000 Valid acc: 0.785968\n",
      "Epoch: 66/100 Train loss: 0.003694 Valid loss: 11.011245 train acc: 1.000000 Valid acc: 0.779380\n",
      "Epoch: 67/100 Train loss: 0.010981 Valid loss: 12.181650 train acc: 1.000000 Valid acc: 0.768162\n",
      "Epoch: 68/100 Train loss: 0.000715 Valid loss: 12.077906 train acc: 1.000000 Valid acc: 0.802885\n",
      "Epoch: 69/100 Train loss: 0.001413 Valid loss: 12.816153 train acc: 1.000000 Valid acc: 0.805199\n",
      "Epoch: 70/100 Train loss: 0.001837 Valid loss: 12.583565 train acc: 1.000000 Valid acc: 0.791845\n",
      "Epoch: 71/100 Train loss: 0.006101 Valid loss: 12.605391 train acc: 0.992366 Valid acc: 0.790776\n",
      "Epoch: 72/100 Train loss: 0.000563 Valid loss: 13.444988 train acc: 1.000000 Valid acc: 0.797899\n",
      "Epoch: 73/100 Train loss: 0.001343 Valid loss: 13.316319 train acc: 1.000000 Valid acc: 0.782942\n",
      "Epoch: 74/100 Train loss: 0.000466 Valid loss: 13.687261 train acc: 1.000000 Valid acc: 0.789352\n",
      "Epoch: 75/100 Train loss: 0.002084 Valid loss: 12.195038 train acc: 1.000000 Valid acc: 0.782229\n",
      "Epoch: 76/100 Train loss: 0.000782 Valid loss: 12.083797 train acc: 1.000000 Valid acc: 0.775997\n",
      "Epoch: 77/100 Train loss: 0.002530 Valid loss: 12.910940 train acc: 1.000000 Valid acc: 0.775641\n",
      "Epoch: 78/100 Train loss: 0.002377 Valid loss: 13.984950 train acc: 1.000000 Valid acc: 0.798077\n",
      "Epoch: 79/100 Train loss: 0.000814 Valid loss: 14.177513 train acc: 1.000000 Valid acc: 0.801816\n",
      "Epoch: 80/100 Train loss: 0.000701 Valid loss: 13.625712 train acc: 1.000000 Valid acc: 0.791132\n",
      "Epoch: 81/100 Train loss: 0.008566 Valid loss: 13.178617 train acc: 0.992366 Valid acc: 0.790776\n",
      "Epoch: 82/100 Train loss: 0.000229 Valid loss: 14.399108 train acc: 1.000000 Valid acc: 0.799501\n",
      "Epoch: 83/100 Train loss: 0.002604 Valid loss: 14.028989 train acc: 1.000000 Valid acc: 0.807514\n",
      "Epoch: 84/100 Train loss: 0.000371 Valid loss: 14.103723 train acc: 1.000000 Valid acc: 0.793447\n"
     ]
    },
    {
     "name": "stdout",
     "output_type": "stream",
     "text": [
      "Epoch: 85/100 Train loss: 0.000688 Valid loss: 13.953279 train acc: 1.000000 Valid acc: 0.795050\n",
      "Epoch: 86/100 Train loss: 0.000834 Valid loss: 14.587975 train acc: 1.000000 Valid acc: 0.792557\n",
      "Epoch: 87/100 Train loss: 0.000486 Valid loss: 14.721891 train acc: 1.000000 Valid acc: 0.792379\n",
      "Epoch: 88/100 Train loss: 0.000130 Valid loss: 15.159450 train acc: 1.000000 Valid acc: 0.808582\n",
      "Epoch: 89/100 Train loss: 0.000890 Valid loss: 15.179757 train acc: 1.000000 Valid acc: 0.811432\n",
      "Epoch: 90/100 Train loss: 0.000259 Valid loss: 15.329816 train acc: 1.000000 Valid acc: 0.809295\n",
      "Epoch: 91/100 Train loss: 0.001009 Valid loss: 14.360765 train acc: 1.000000 Valid acc: 0.772258\n",
      "Epoch: 92/100 Train loss: 0.000853 Valid loss: 16.062393 train acc: 1.000000 Valid acc: 0.798611\n",
      "Epoch: 93/100 Train loss: 0.000679 Valid loss: 14.731914 train acc: 1.000000 Valid acc: 0.818732\n",
      "Epoch: 94/100 Train loss: 0.008124 Valid loss: 15.756064 train acc: 0.992366 Valid acc: 0.809473\n",
      "Epoch: 95/100 Train loss: 0.007851 Valid loss: 14.517654 train acc: 1.000000 Valid acc: 0.781339\n",
      "Epoch: 96/100 Train loss: 0.002738 Valid loss: 13.551471 train acc: 1.000000 Valid acc: 0.774395\n",
      "Epoch: 97/100 Train loss: 0.000442 Valid loss: 14.703106 train acc: 1.000000 Valid acc: 0.790954\n",
      "Epoch: 98/100 Train loss: 0.011132 Valid loss: 15.395838 train acc: 0.992366 Valid acc: 0.801282\n",
      "Epoch: 99/100 Train loss: 0.001523 Valid loss: 15.198302 train acc: 1.000000 Valid acc: 0.812322\n"
     ]
    }
   ],
   "source": [
    "train_losses, valid_losses = [], []\n",
    "train_acc_list, valid_acc_list = [], []\n",
    "\n",
    "with tf.Session() as sess:\n",
    "    sess.run(tf.global_variables_initializer())\n",
    "   \n",
    "    # Loop over epochs\n",
    "    for e in range(epochs):\n",
    "        \n",
    "        # Loop over training minibatches\n",
    "        for x, y in get_batches(X_train_norm, Y_train_onehot, batch_size):\n",
    "            \n",
    "            # Feed dictionary of training minibatch\n",
    "            feed = {inputs_:x, labels_:y, keep_prob_:keep_prob, learning_rate_:learning_rate}\n",
    "            train_loss, _ , train_acc = sess.run([cost, optimizer, accuracy], feed_dict = feed)\n",
    "            \n",
    "            # Feed dictionary of validation full-batch \n",
    "            # no dropout/keep_prob; no learning rate/ no learning\n",
    "            feed = {inputs_:X_valid_norm, labels_:Y_valid_onehot, keep_prob_:1.0}\n",
    "            valid_loss, valid_acc = sess.run([cost, accuracy], feed_dict = feed)\n",
    "\n",
    "            # Print at each iter/ epoch\n",
    "            print(\"Epoch: {}/{}\".format(e, epochs),\n",
    "                  \"Train loss: {:6f}\".format(train_loss),\n",
    "                  \"Valid loss: {:.6f}\".format(valid_loss),\n",
    "                  \"train acc: {:.6f}\".format(train_acc),\n",
    "                  \"Valid acc: {:.6f}\".format(valid_acc))\n",
    "\n",
    "            # Ploting the learning curve for training and validation\n",
    "            train_losses.append(train_loss)\n",
    "            valid_losses.append(valid_loss)\n",
    "            train_acc_list.append(train_acc)\n",
    "            valid_acc_list.append(valid_acc)"
   ]
  },
  {
   "cell_type": "code",
   "execution_count": 31,
   "metadata": {},
   "outputs": [
    {
     "data": {
      "image/png": "[encoded data removed]",
      "text/plain": [
       "<matplotlib.figure.Figure at 0x7f25b3d70160>"
      ]
     },
     "metadata": {},
     "output_type": "display_data"
    }
   ],
   "source": [
    "import matplotlib.pyplot as mplot\n",
    "\n",
    "mplot.plot(train_losses, label='train_losses')\n",
    "mplot.plot(valid_losses, label='valid_losses')\n",
    "mplot.legend()\n",
    "mplot.show()"
   ]
  },
  {
   "cell_type": "code",
   "execution_count": null,
   "metadata": {},
   "outputs": [],
   "source": [
    "# import matplotlib.pyplot as mplot\n",
    "mplot.plot(train_acc_list, label='train_acc_list')\n",
    "mplot.plot(valid_acc_list, label='valid_acc_list')\n",
    "mplot.legend()\n",
    "mplot.show()"
   ]
  },
  {
   "cell_type": "code",
   "execution_count": null,
   "metadata": {},
   "outputs": [],
   "source": []
  }
 ],
 "metadata": {
  "kernelspec": {
   "display_name": "Python 3",
   "language": "python",
   "name": "python3"
  },
  "language_info": {
   "codemirror_mode": {
    "name": "ipython",
    "version": 3
   },
   "file_extension": ".py",
   "mimetype": "text/x-python",
   "name": "python",
   "nbconvert_exporter": "python",
   "pygments_lexer": "ipython3",
   "version": "3.6.3"
  }
 },
 "nbformat": 4,
 "nbformat_minor": 2
}
