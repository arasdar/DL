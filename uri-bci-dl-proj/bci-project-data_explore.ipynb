{
 "cells": [
  {
   "cell_type": "code",
   "execution_count": 1,
   "metadata": {},
   "outputs": [],
   "source": [
    "import scipy.io as spio\n",
    "import numpy as np"
   ]
  },
  {
   "cell_type": "code",
   "execution_count": 2,
   "metadata": {},
   "outputs": [
    {
     "name": "stdout",
     "output_type": "stream",
     "text": [
      "\u001b[0m\u001b[01;34mbci\u001b[0m/                        \u001b[01;34mfinancial_data\u001b[0m/      \u001b[01;34msentiments\u001b[0m/\r\n",
      "\u001b[01;34mbci-project-data-FILTERED\u001b[0m/  \u001b[01;34mhar-data\u001b[0m/            \u001b[01;34msmartwatch_data\u001b[0m/\r\n",
      "\u001b[01;34mbci-project-data-RAW\u001b[0m/       \u001b[01;34mhr_data\u001b[0m/             \u001b[01;34mtext_data\u001b[0m/\r\n",
      "\u001b[01;34mbci-sample-data\u001b[0m/            \u001b[01;34mkaggle-music-genre\u001b[0m/  \u001b[01;34mtranslation_data\u001b[0m/\r\n",
      "\u001b[01;34mbike_data\u001b[0m/                  \u001b[01;34mMNIST_data\u001b[0m/\r\n"
     ]
    }
   ],
   "source": [
    "ls ../data/"
   ]
  },
  {
   "cell_type": "code",
   "execution_count": 3,
   "metadata": {},
   "outputs": [],
   "source": [
    "BahramFace = spio.loadmat(file_name='../data/bci-project-data-RAW/BahramFace.mat')\n",
    "DJFace = spio.loadmat(file_name='../data/bci-project-data-RAW/DJFace.mat')\n",
    "NickFace = spio.loadmat(file_name='../data/bci-project-data-RAW/NickFace.mat')\n",
    "RoohiFace = spio.loadmat(file_name='../data/bci-project-data-RAW/RoohiFace.mat')\n",
    "SarahFace = spio.loadmat(file_name='../data/bci-project-data-RAW/SarahFace.mat')"
   ]
  },
  {
   "cell_type": "code",
   "execution_count": 4,
   "metadata": {},
   "outputs": [
    {
     "data": {
      "text/plain": [
       "(dict_keys(['__header__', '__version__', '__globals__', 'Intensification_Data', 'Intensification_Label']),\n",
       " dict_keys(['__header__', '__version__', '__globals__', 'Intensification_Data', 'Intensification_Label']),\n",
       " dict_keys(['__header__', '__version__', '__globals__', 'Intensification_Data', 'Intensification_Label']),\n",
       " dict_keys(['__header__', '__version__', '__globals__', 'Intensification_Data', 'Intensification_Label']),\n",
       " dict_keys(['__header__', '__version__', '__globals__', 'Intensification_Data', 'Intensification_Label']))"
      ]
     },
     "execution_count": 4,
     "metadata": {},
     "output_type": "execute_result"
    }
   ],
   "source": [
    "BahramFace.keys(), DJFace.keys(), NickFace.keys(), RoohiFace.keys(), SarahFace.keys()"
   ]
  },
  {
   "cell_type": "code",
   "execution_count": 5,
   "metadata": {},
   "outputs": [
    {
     "data": {
      "text/plain": [
       "((3600, 205, 16),\n",
       " (3780, 205, 16),\n",
       " (3780, 205, 16),\n",
       " (3780, 205, 16),\n",
       " (3780, 205, 16))"
      ]
     },
     "execution_count": 5,
     "metadata": {},
     "output_type": "execute_result"
    }
   ],
   "source": [
    "(BahramFace['Intensification_Data'].shape, DJFace['Intensification_Data'].shape, \n",
    "NickFace['Intensification_Data'].shape, RoohiFace['Intensification_Data'].shape,\n",
    "SarahFace['Intensification_Data'].shape)"
   ]
  },
  {
   "cell_type": "code",
   "execution_count": 6,
   "metadata": {},
   "outputs": [],
   "source": [
    "length = int(BahramFace['Intensification_Data'].shape[0] * 0.30)"
   ]
  },
  {
   "cell_type": "code",
   "execution_count": 7,
   "metadata": {},
   "outputs": [
    {
     "data": {
      "text/plain": [
       "((2520, 205, 16), (1080, 205, 16))"
      ]
     },
     "execution_count": 7,
     "metadata": {},
     "output_type": "execute_result"
    }
   ],
   "source": [
    "# Train and test: 0.7 vs 0.3\n",
    "BahramFace['Intensification_Data'][:-length].shape, BahramFace['Intensification_Data'][-length:].shape"
   ]
  },
  {
   "cell_type": "code",
   "execution_count": 8,
   "metadata": {},
   "outputs": [],
   "source": [
    "FacesDataTrain = np.vstack(tup=(BahramFace['Intensification_Data'][:-length], \n",
    "                       DJFace['Intensification_Data'][:-length], \n",
    "                       NickFace['Intensification_Data'][:-length],\n",
    "                      RoohiFace['Intensification_Data'][:-length],\n",
    "                      SarahFace['Intensification_Data'][:-length]))"
   ]
  },
  {
   "cell_type": "code",
   "execution_count": 9,
   "metadata": {},
   "outputs": [
    {
     "data": {
      "text/plain": [
       "((13320, 205, 16), dtype('<f8'))"
      ]
     },
     "execution_count": 9,
     "metadata": {},
     "output_type": "execute_result"
    }
   ],
   "source": [
    "FacesDataTrain.shape, FacesDataTrain.dtype"
   ]
  },
  {
   "cell_type": "code",
   "execution_count": 10,
   "metadata": {},
   "outputs": [],
   "source": [
    "FacesDataValid = np.vstack(tup=(BahramFace['Intensification_Data'][-length:], \n",
    "                       DJFace['Intensification_Data'][-length:], \n",
    "                       NickFace['Intensification_Data'][-length:],\n",
    "                      RoohiFace['Intensification_Data'][-length:],\n",
    "                      SarahFace['Intensification_Data'][-length:]))"
   ]
  },
  {
   "cell_type": "code",
   "execution_count": 11,
   "metadata": {},
   "outputs": [
    {
     "data": {
      "text/plain": [
       "((5400, 205, 16), dtype('<f8'))"
      ]
     },
     "execution_count": 11,
     "metadata": {},
     "output_type": "execute_result"
    }
   ],
   "source": [
    "FacesDataValid.shape, FacesDataValid.dtype"
   ]
  },
  {
   "cell_type": "code",
   "execution_count": 12,
   "metadata": {},
   "outputs": [],
   "source": [
    "FacesLabelTrain = np.vstack(tup=(BahramFace['Intensification_Label'][:-length], \n",
    "                       DJFace['Intensification_Label'][:-length], \n",
    "                       NickFace['Intensification_Label'][:-length],\n",
    "                      RoohiFace['Intensification_Label'][:-length],\n",
    "                      SarahFace['Intensification_Label'][:-length]))"
   ]
  },
  {
   "cell_type": "code",
   "execution_count": 13,
   "metadata": {},
   "outputs": [
    {
     "data": {
      "text/plain": [
       "((13320, 1), dtype('uint8'))"
      ]
     },
     "execution_count": 13,
     "metadata": {},
     "output_type": "execute_result"
    }
   ],
   "source": [
    "FacesLabelTrain.shape, FacesLabelTrain.dtype"
   ]
  },
  {
   "cell_type": "code",
   "execution_count": 14,
   "metadata": {},
   "outputs": [],
   "source": [
    "FacesLabelValid = np.vstack(tup=(BahramFace['Intensification_Label'][-length:], \n",
    "                       DJFace['Intensification_Label'][-length:], \n",
    "                       NickFace['Intensification_Label'][-length:],\n",
    "                      RoohiFace['Intensification_Label'][-length:],\n",
    "                      SarahFace['Intensification_Label'][-length:]))"
   ]
  },
  {
   "cell_type": "code",
   "execution_count": 15,
   "metadata": {},
   "outputs": [
    {
     "data": {
      "text/plain": [
       "((5400, 1), dtype('uint8'))"
      ]
     },
     "execution_count": 15,
     "metadata": {},
     "output_type": "execute_result"
    }
   ],
   "source": [
    "FacesLabelValid.shape, FacesLabelValid.dtype"
   ]
  },
  {
   "cell_type": "code",
   "execution_count": 16,
   "metadata": {},
   "outputs": [],
   "source": [
    "FacesLabelAll = np.vstack(tup=(BahramFace['Intensification_Label'][:], \n",
    "                       DJFace['Intensification_Label'][:], \n",
    "                       NickFace['Intensification_Label'][:],\n",
    "                      RoohiFace['Intensification_Label'][:],\n",
    "                      SarahFace['Intensification_Label'][:]))"
   ]
  },
  {
   "cell_type": "code",
   "execution_count": 17,
   "metadata": {},
   "outputs": [
    {
     "data": {
      "text/plain": [
       "((18720, 1),\n",
       " (13320, 1),\n",
       " (5400, 1),\n",
       " dtype('uint8'),\n",
       " dtype('uint8'),\n",
       " dtype('uint8'))"
      ]
     },
     "execution_count": 17,
     "metadata": {},
     "output_type": "execute_result"
    }
   ],
   "source": [
    "(FacesLabelAll.shape, FacesLabelTrain.shape, FacesLabelValid.shape, \n",
    "FacesLabelAll.dtype, FacesLabelTrain.dtype, FacesLabelValid.dtype)"
   ]
  },
  {
   "cell_type": "code",
   "execution_count": 18,
   "metadata": {},
   "outputs": [
    {
     "data": {
      "text/plain": [
       "((18720, 1), (18720, 1))"
      ]
     },
     "execution_count": 18,
     "metadata": {},
     "output_type": "execute_result"
    }
   ],
   "source": [
    "(FacesLabelAll==0).shape, FacesLabelAll.shape"
   ]
  },
  {
   "cell_type": "code",
   "execution_count": 19,
   "metadata": {},
   "outputs": [
    {
     "data": {
      "text/plain": [
       "0.83333333333333337"
      ]
     },
     "execution_count": 19,
     "metadata": {},
     "output_type": "execute_result"
    }
   ],
   "source": [
    "np.mean(FacesLabelAll==0)"
   ]
  },
  {
   "cell_type": "code",
   "execution_count": 20,
   "metadata": {},
   "outputs": [
    {
     "data": {
      "text/plain": [
       "(0.83333333333333337,\n",
       " 0.83333333333333337,\n",
       " 0.83333333333333337,\n",
       " 0.83333333333333337,\n",
       " 0.83333333333333337)"
      ]
     },
     "execution_count": 20,
     "metadata": {},
     "output_type": "execute_result"
    }
   ],
   "source": [
    "(np.mean(BahramFace['Intensification_Label']==0), np.mean(DJFace['Intensification_Label']==0),\n",
    "np.mean(NickFace['Intensification_Label']==0), np.mean(RoohiFace['Intensification_Label']==0), \n",
    "np.mean(SarahFace['Intensification_Label']==0))"
   ]
  },
  {
   "cell_type": "code",
   "execution_count": 21,
   "metadata": {},
   "outputs": [],
   "source": [
    "BahramFlipp = spio.loadmat(file_name='../data/bci-project-data-RAW/BahramFlipp.mat')\n",
    "DJFlipp = spio.loadmat(file_name='../data/bci-project-data-RAW/DJFlipp.mat')\n",
    "NickFlipp = spio.loadmat(file_name='../data/bci-project-data-RAW/NickFlipp.mat')\n",
    "RoohiFlipp = spio.loadmat(file_name='../data/bci-project-data-RAW/RoohiFlipp.mat')\n",
    "SarahFlipp = spio.loadmat(file_name='../data/bci-project-data-RAW/SarahFlipp.mat')"
   ]
  },
  {
   "cell_type": "code",
   "execution_count": 22,
   "metadata": {},
   "outputs": [
    {
     "data": {
      "text/plain": [
       "(0.83333333333333337,\n",
       " 0.83333333333333337,\n",
       " 0.83333333333333337,\n",
       " 0.83333333333333337,\n",
       " 0.83333333333333337)"
      ]
     },
     "execution_count": 22,
     "metadata": {},
     "output_type": "execute_result"
    }
   ],
   "source": [
    "(np.mean(BahramFlipp['Intensification_Label']==0), np.mean(DJFlipp['Intensification_Label']==0),\n",
    "np.mean(NickFlipp['Intensification_Label']==0), np.mean(RoohiFlipp['Intensification_Label']==0), \n",
    "np.mean(SarahFlipp['Intensification_Label']==0))"
   ]
  },
  {
   "cell_type": "code",
   "execution_count": 24,
   "metadata": {},
   "outputs": [],
   "source": [
    "y = spio.loadmat(file_name='../data/bci-sample-data/y.mat')"
   ]
  },
  {
   "cell_type": "code",
   "execution_count": 25,
   "metadata": {},
   "outputs": [],
   "source": [
    "LabelsAll = y['Intensification_SType']"
   ]
  },
  {
   "cell_type": "code",
   "execution_count": 27,
   "metadata": {},
   "outputs": [
    {
     "data": {
      "text/plain": [
       "((6480, 192), dtype('uint8'))"
      ]
     },
     "execution_count": 27,
     "metadata": {},
     "output_type": "execute_result"
    }
   ],
   "source": [
    "LabelsAll.shape, LabelsAll.dtype"
   ]
  },
  {
   "cell_type": "code",
   "execution_count": 28,
   "metadata": {},
   "outputs": [
    {
     "data": {
      "text/plain": [
       "0.83333333333333337"
      ]
     },
     "execution_count": 28,
     "metadata": {},
     "output_type": "execute_result"
    }
   ],
   "source": [
    "np.mean(LabelsAll == 0)"
   ]
  },
  {
   "cell_type": "code",
   "execution_count": null,
   "metadata": {},
   "outputs": [],
   "source": []
  }
 ],
 "metadata": {
  "kernelspec": {
   "display_name": "Python 3",
   "language": "python",
   "name": "python3"
  },
  "language_info": {
   "codemirror_mode": {
    "name": "ipython",
    "version": 3
   },
   "file_extension": ".py",
   "mimetype": "text/x-python",
   "name": "python",
   "nbconvert_exporter": "python",
   "pygments_lexer": "ipython3",
   "version": "3.6.3"
  }
 },
 "nbformat": 4,
 "nbformat_minor": 2
}
