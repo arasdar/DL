{
 "cells": [
  {
   "cell_type": "code",
   "execution_count": 1,
   "metadata": {},
   "outputs": [],
   "source": [
    "import scipy.io as spio\n",
    "import numpy as np"
   ]
  },
  {
   "cell_type": "code",
   "execution_count": 2,
   "metadata": {},
   "outputs": [
    {
     "name": "stdout",
     "output_type": "stream",
     "text": [
      "BahramFace.mat     DJFlipped.mat  NickFace.mat     RoohiFlipped.mat\r\n",
      "BahramFlipped.mat  eloc16.txt     NickFlipped.mat  SarahFace.mat\r\n",
      "DJFace.mat         epoching.m     RoohiFace.mat    SarahFlipped.mat\r\n"
     ]
    }
   ],
   "source": [
    "ls ../data/bci-project-data-FILTERED/"
   ]
  },
  {
   "cell_type": "code",
   "execution_count": 3,
   "metadata": {},
   "outputs": [],
   "source": [
    "BahramFace = spio.loadmat(file_name='../data/bci-project-data-RAW/BahramFace.mat')\n",
    "DJFace = spio.loadmat(file_name='../data/bci-project-data-RAW/DJFace.mat')\n",
    "NickFace = spio.loadmat(file_name='../data/bci-project-data-RAW/NickFace.mat')\n",
    "RoohiFace = spio.loadmat(file_name='../data/bci-project-data-RAW/RoohiFace.mat')\n",
    "SarahFace = spio.loadmat(file_name='../data/bci-project-data-RAW/SarahFace.mat')"
   ]
  },
  {
   "cell_type": "code",
   "execution_count": 4,
   "metadata": {},
   "outputs": [
    {
     "data": {
      "text/plain": [
       "(dict_keys(['__header__', '__version__', '__globals__', 'Intensification_Data', 'Intensification_Label']),\n",
       " dict_keys(['__header__', '__version__', '__globals__', 'Intensification_Data', 'Intensification_Label']),\n",
       " dict_keys(['__header__', '__version__', '__globals__', 'Intensification_Data', 'Intensification_Label']),\n",
       " dict_keys(['__header__', '__version__', '__globals__', 'Intensification_Data', 'Intensification_Label']),\n",
       " dict_keys(['__header__', '__version__', '__globals__', 'Intensification_Data', 'Intensification_Label']))"
      ]
     },
     "execution_count": 4,
     "metadata": {},
     "output_type": "execute_result"
    }
   ],
   "source": [
    "BahramFace.keys(), DJFace.keys(), NickFace.keys(), RoohiFace.keys(), SarahFace.keys()"
   ]
  },
  {
   "cell_type": "code",
   "execution_count": 5,
   "metadata": {},
   "outputs": [
    {
     "data": {
      "text/plain": [
       "((3600, 205, 16),\n",
       " (3780, 205, 16),\n",
       " (3780, 205, 16),\n",
       " (3780, 205, 16),\n",
       " (3780, 205, 16))"
      ]
     },
     "execution_count": 5,
     "metadata": {},
     "output_type": "execute_result"
    }
   ],
   "source": [
    "(BahramFace['Intensification_Data'].shape, DJFace['Intensification_Data'].shape, \n",
    "NickFace['Intensification_Data'].shape, RoohiFace['Intensification_Data'].shape,\n",
    "SarahFace['Intensification_Data'].shape)"
   ]
  },
  {
   "cell_type": "code",
   "execution_count": 9,
   "metadata": {},
   "outputs": [],
   "source": [
    "length = int(BahramFace['Intensification_Data'].shape[0] * 0.30)"
   ]
  },
  {
   "cell_type": "code",
   "execution_count": 16,
   "metadata": {},
   "outputs": [
    {
     "data": {
      "text/plain": [
       "((2520, 205, 16), (1080, 205, 16))"
      ]
     },
     "execution_count": 16,
     "metadata": {},
     "output_type": "execute_result"
    }
   ],
   "source": [
    "# Train and test: 0.7 vs 0.3\n",
    "BahramFace['Intensification_Data'][:-length].shape, BahramFace['Intensification_Data'][-length:].shape"
   ]
  },
  {
   "cell_type": "code",
   "execution_count": 17,
   "metadata": {},
   "outputs": [],
   "source": [
    "FacesDataTrain = np.vstack(tup=(BahramFace['Intensification_Data'][:-length], \n",
    "                       DJFace['Intensification_Data'][:-length], \n",
    "                       NickFace['Intensification_Data'][:-length],\n",
    "                      RoohiFace['Intensification_Data'][:-length],\n",
    "                      SarahFace['Intensification_Data'][:-length]))"
   ]
  },
  {
   "cell_type": "code",
   "execution_count": 19,
   "metadata": {},
   "outputs": [
    {
     "data": {
      "text/plain": [
       "((13320, 205, 16), dtype('<f8'))"
      ]
     },
     "execution_count": 19,
     "metadata": {},
     "output_type": "execute_result"
    }
   ],
   "source": [
    "FacesDataTrain.shape, FacesDataTrain.dtype"
   ]
  },
  {
   "cell_type": "code",
   "execution_count": 20,
   "metadata": {},
   "outputs": [],
   "source": [
    "FacesDataValid = np.vstack(tup=(BahramFace['Intensification_Data'][-length:], \n",
    "                       DJFace['Intensification_Data'][-length:], \n",
    "                       NickFace['Intensification_Data'][-length:],\n",
    "                      RoohiFace['Intensification_Data'][-length:],\n",
    "                      SarahFace['Intensification_Data'][-length:]))"
   ]
  },
  {
   "cell_type": "code",
   "execution_count": 21,
   "metadata": {},
   "outputs": [
    {
     "data": {
      "text/plain": [
       "((5400, 205, 16), dtype('<f8'))"
      ]
     },
     "execution_count": 21,
     "metadata": {},
     "output_type": "execute_result"
    }
   ],
   "source": [
    "FacesDataValid.shape, FacesDataValid.dtype"
   ]
  },
  {
   "cell_type": "code",
   "execution_count": 22,
   "metadata": {},
   "outputs": [],
   "source": [
    "FacesLabelTrain = np.vstack(tup=(BahramFace['Intensification_Label'][:-length], \n",
    "                       DJFace['Intensification_Label'][:-length], \n",
    "                       NickFace['Intensification_Label'][:-length],\n",
    "                      RoohiFace['Intensification_Label'][:-length],\n",
    "                      SarahFace['Intensification_Label'][:-length]))"
   ]
  },
  {
   "cell_type": "code",
   "execution_count": 23,
   "metadata": {},
   "outputs": [
    {
     "data": {
      "text/plain": [
       "((13320, 1), dtype('uint8'))"
      ]
     },
     "execution_count": 23,
     "metadata": {},
     "output_type": "execute_result"
    }
   ],
   "source": [
    "FacesLabelTrain.shape, FacesLabelTrain.dtype"
   ]
  },
  {
   "cell_type": "code",
   "execution_count": 24,
   "metadata": {},
   "outputs": [],
   "source": [
    "FacesLabelValid = np.vstack(tup=(BahramFace['Intensification_Label'][-length:], \n",
    "                       DJFace['Intensification_Label'][-length:], \n",
    "                       NickFace['Intensification_Label'][-length:],\n",
    "                      RoohiFace['Intensification_Label'][-length:],\n",
    "                      SarahFace['Intensification_Label'][-length:]))"
   ]
  },
  {
   "cell_type": "code",
   "execution_count": 25,
   "metadata": {},
   "outputs": [
    {
     "data": {
      "text/plain": [
       "((5400, 1), dtype('uint8'))"
      ]
     },
     "execution_count": 25,
     "metadata": {},
     "output_type": "execute_result"
    }
   ],
   "source": [
    "FacesLabelValid.shape, FacesLabelValid.dtype"
   ]
  },
  {
   "cell_type": "code",
   "execution_count": null,
   "metadata": {},
   "outputs": [],
   "source": []
  }
 ],
 "metadata": {
  "kernelspec": {
   "display_name": "Python 3",
   "language": "python",
   "name": "python3"
  },
  "language_info": {
   "codemirror_mode": {
    "name": "ipython",
    "version": 3
   },
   "file_extension": ".py",
   "mimetype": "text/x-python",
   "name": "python",
   "nbconvert_exporter": "python",
   "pygments_lexer": "ipython3",
   "version": "3.6.3"
  }
 },
 "nbformat": 4,
 "nbformat_minor": 2
}
