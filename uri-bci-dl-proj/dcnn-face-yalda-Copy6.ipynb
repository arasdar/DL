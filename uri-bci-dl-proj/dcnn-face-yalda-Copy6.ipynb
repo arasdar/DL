{
 "cells": [
  {
   "cell_type": "code",
   "execution_count": 1,
   "metadata": {},
   "outputs": [
    {
     "name": "stdout",
     "output_type": "stream",
     "text": [
      "(18720, 205, 16) float64 (18720, 1) uint8\n",
      "0.833333333333 0.166666666667 0.0 0.0\n",
      "[2]\n"
     ]
    }
   ],
   "source": [
    "# Read the dataset\n",
    "import scipy.io as spio\n",
    "import numpy as np\n",
    "\n",
    "BahramFace = spio.loadmat(file_name='/home/arasdar/datasets/bci-project-data-RAW/BahramFace.mat')\n",
    "DJFace = spio.loadmat(file_name='/home/arasdar/datasets/bci-project-data-RAW/DJFace.mat')\n",
    "NickFace = spio.loadmat(file_name='/home/arasdar/datasets/bci-project-data-RAW/NickFace.mat')\n",
    "RoohiFace = spio.loadmat(file_name='/home/arasdar/datasets/bci-project-data-RAW/RoohiFace.mat')\n",
    "SarahFace = spio.loadmat(file_name='/home/arasdar/datasets/bci-project-data-RAW/SarahFace.mat')\n",
    "\n",
    "AllData = np.concatenate((BahramFace['Intensification_Data'],\n",
    "                            DJFace['Intensification_Data'],\n",
    "                            NickFace['Intensification_Data'],\n",
    "                            RoohiFace['Intensification_Data'],\n",
    "                            SarahFace['Intensification_Data']), axis=0)\n",
    "\n",
    "AllLabels = np.concatenate((BahramFace['Intensification_Label'],\n",
    "                            DJFace['Intensification_Label'],\n",
    "                            NickFace['Intensification_Label'],\n",
    "                            RoohiFace['Intensification_Label'],\n",
    "                            SarahFace['Intensification_Label']), axis=0)\n",
    "\n",
    "print(AllData.shape, AllData.dtype, AllLabels.shape, AllLabels.dtype)\n",
    "print(np.mean(AllLabels==0), np.mean(AllLabels==1), np.mean(AllLabels==2), np.mean(AllLabels==3))\n",
    "print((AllLabels +  1).max(axis=0))"
   ]
  },
  {
   "cell_type": "code",
   "execution_count": 2,
   "metadata": {},
   "outputs": [
    {
     "name": "stdout",
     "output_type": "stream",
     "text": [
      "(13104, 205, 16) (5616, 205, 16) (13104, 1) (5616, 1)\n"
     ]
    }
   ],
   "source": [
    "# Train and test split\n",
    "from sklearn.model_selection import train_test_split\n",
    "\n",
    "X_train_valid, X_test, Y_train_valid, Y_test = train_test_split(AllData, AllLabels, test_size=0.30)\n",
    "\n",
    "print(X_train_valid.shape, X_test.shape, Y_train_valid.shape, Y_test.shape)"
   ]
  },
  {
   "cell_type": "code",
   "execution_count": 3,
   "metadata": {},
   "outputs": [
    {
     "name": "stdout",
     "output_type": "stream",
     "text": [
      "0.0 0.833638583639 0.166361416361 0.0\n",
      "0.0 0.832621082621 0.167378917379 0.0\n",
      "(5616, 2) float64\n"
     ]
    }
   ],
   "source": [
    "from utilities import *\n",
    "\n",
    "# Normalizing/standardizing the input data features\n",
    "X_train_valid_norm, X_test_norm = standardize(test=X_test, train=X_train_valid)\n",
    "\n",
    "# Onehot encoding/vectorizing the output data labels\n",
    "print(np.mean((Y_train_valid+1).reshape(-1)==0), np.mean((Y_train_valid+1).reshape(-1)==1),\n",
    "     np.mean((Y_train_valid+1).reshape(-1)==2), np.mean((Y_train_valid+1).reshape(-1)==3))\n",
    "\n",
    "print(np.mean((Y_test+1).reshape(-1)==0), np.mean((Y_test+1).reshape(-1)==1),\n",
    "     np.mean((Y_test+1).reshape(-1)==2), np.mean((Y_test+1).reshape(-1)==3))\n",
    "\n",
    "# Y_train_valid_onehot = one_hot(labels=(Y_train_valid+1).reshape(-1), n_class=2) \n",
    "# print(Y_train_valid_onehot.shape, Y_train_valid_onehot.dtype, \n",
    "Y_test_onehot = one_hot(labels=(Y_test+1).reshape(-1), n_class=2) \n",
    "print(Y_test_onehot.shape, Y_test_onehot.dtype)"
   ]
  },
  {
   "cell_type": "code",
   "execution_count": 4,
   "metadata": {},
   "outputs": [],
   "source": [
    "# X_train_valid, X_test, Y_train_valid, Y_test = train_test_split(AllData, AllLabels, test_size=0.30)\n",
    "X_train_norm, X_valid_norm, Y_train, Y_valid = train_test_split(X_train_valid_norm, Y_train_valid, \n",
    "                                                                              test_size=0.30)"
   ]
  },
  {
   "cell_type": "code",
   "execution_count": 5,
   "metadata": {},
   "outputs": [],
   "source": [
    "def get_batches2(X_norm, Y_labels, kernel_size_ratio=1, strides_ratio=1):\n",
    "    # X normalized and Y NOT onehot encoded/vectorized\n",
    "    X, Y = X_norm, Y_labels\n",
    "    AllLabels = Y_labels # 100%\n",
    "\n",
    "    # non = 0 is 87%  AllLabelZero\n",
    "    # tgt = 1 is 13%  AllLabelOne\n",
    "    AllLabelZero = (AllLabels==0).reshape(-1) # 87%\n",
    "    AllLabelOne = (AllLabels==1).reshape(-1) # 13%\n",
    "\n",
    "    X_non, Y_non = X[AllLabelZero], Y[AllLabelZero] # 87%\n",
    "    X_tgt, Y_tgt = X[AllLabelOne], Y[AllLabelOne] # 13%\n",
    "#     print('X_non.shape, Y_non.shape', X_non.shape, Y_non.shape)\n",
    "#     print('X_tgt.shape, Y_tgt.shape', X_tgt.shape, Y_tgt.shape)\n",
    "\n",
    "    # Non-target batch size for get_batches from non-target data\n",
    "    batch_size = X_tgt.shape[0] # 13% -> tgt = 1 is 13%  AllLabelOne\n",
    "    assert X_tgt.shape[0] == Y_tgt.shape[0]\n",
    "#     print('batch_size', batch_size)\n",
    "    \n",
    "    # Convolvolutional minibatching technique\n",
    "    (inputs, filters, kernel_size, strides, padding) = (X_non, 1, \n",
    "                                                        int(batch_size//kernel_size_ratio), \n",
    "                                                        int(batch_size//strides_ratio), \n",
    "                                                        0)\n",
    "#     print('inputs.shape, filters, kernel_size, strides, padding', inputs.shape, filters, \n",
    "#           kernel_size, strides, padding)\n",
    "    n_batches = int((inputs.shape[0] - kernel_size + (2*padding))//strides  + 1) \n",
    "#     print('n_batches', n_batches)\n",
    "    \n",
    "    # Loop over target batches: start, stop, step\n",
    "    for i in range(0, n_batches, 1):\n",
    "        each_X_norm = np.concatenate((X_non[(i*strides):((i*strides)+kernel_size)], X_tgt), axis=0)\n",
    "        each_Y = np.concatenate((Y_non[(i*strides):((i*strides)+kernel_size)], Y_tgt), axis=0)\n",
    "        each_Y_onehot = one_hot(labels=(each_Y+1).reshape(-1), n_class=2)\n",
    "#         print('each_X_norm.shape, each_Y_onehot.shape', each_X_norm.shape, each_Y_onehot.shape)\n",
    "#         print('np.mean(each_Y==0), np.mean(each_Y==1)', np.mean(each_Y==0), np.mean(each_Y==1))\n",
    "        yield each_X_norm, each_Y_onehot"
   ]
  },
  {
   "cell_type": "code",
   "execution_count": 6,
   "metadata": {},
   "outputs": [
    {
     "data": {
      "text/plain": [
       "<generator object get_batches2 at 0x7f2324ff5e60>"
      ]
     },
     "execution_count": 6,
     "metadata": {},
     "output_type": "execute_result"
    }
   ],
   "source": [
    "get_batches2(X_norm=X_valid_norm, Y_labels=Y_valid, kernel_size_ratio=1, strides_ratio=2)"
   ]
  },
  {
   "cell_type": "code",
   "execution_count": 7,
   "metadata": {},
   "outputs": [
    {
     "data": {
      "text/plain": [
       "<generator object get_batches2 at 0x7f2320db7d00>"
      ]
     },
     "execution_count": 7,
     "metadata": {},
     "output_type": "execute_result"
    }
   ],
   "source": [
    "get_batches2(X_norm=X_train_norm, Y_labels=Y_train, kernel_size_ratio=1, strides_ratio=2)"
   ]
  },
  {
   "cell_type": "code",
   "execution_count": 8,
   "metadata": {},
   "outputs": [
    {
     "name": "stdout",
     "output_type": "stream",
     "text": [
      "seq_len, n_channels 205 16\n",
      "n_classes [2]\n"
     ]
    }
   ],
   "source": [
    "## Hyperparameters\n",
    "# Input data\n",
    "# batch_size = X_train_norm.shape[0]// 100 # minibatch size & number of minibatches\n",
    "seq_len = X_train_norm.shape[1] # Number of steps: each trial length\n",
    "n_channels = X_train_norm.shape[2] # number of channels in each trial\n",
    "# print('batch_size, seq_len, n_channels', batch_size, seq_len, n_channels)\n",
    "print('seq_len, n_channels', seq_len, n_channels)\n",
    "\n",
    "# Output labels\n",
    "n_classes = Y_train_valid.max(axis=0)+1\n",
    "assert Y_train_valid.max(axis=0) == Y_test.max(axis=0)\n",
    "print('n_classes', n_classes)\n",
    "\n",
    "# learning parameters\n",
    "learning_rate = 0.0001 #1e-4\n",
    "keep_prob = 0.50 # 90% neurons are kept and 10% are dropped out"
   ]
  },
  {
   "cell_type": "code",
   "execution_count": 9,
   "metadata": {},
   "outputs": [
    {
     "name": "stdout",
     "output_type": "stream",
     "text": [
      "TensorFlow Version: 1.3.0\n",
      "Default GPU Device: /gpu:0\n"
     ]
    }
   ],
   "source": [
    "# GPUs or CPU\n",
    "import tensorflow as tf\n",
    "\n",
    "# Check TensorFlow Version\n",
    "print('TensorFlow Version: {}'.format(tf.__version__))\n",
    "\n",
    "# Check for a GPU\n",
    "print('Default GPU Device: {}'.format(tf.test.gpu_device_name()))"
   ]
  },
  {
   "cell_type": "code",
   "execution_count": 10,
   "metadata": {},
   "outputs": [
    {
     "name": "stdout",
     "output_type": "stream",
     "text": [
      "inputs_.shape, labels_.shape (?, 205, 16) (?, 2)\n"
     ]
    }
   ],
   "source": [
    "# Feed the data from python/numpy to tensorflow framework\n",
    "inputs_ = tf.placeholder(tf.float32, [None, seq_len, n_channels], name = 'inputs_')\n",
    "labels_ = tf.placeholder(tf.float32, [None, n_classes], name = 'labels_')\n",
    "keep_prob_ = tf.placeholder(tf.float32, name = 'keep_prob_')\n",
    "learning_rate_ = tf.placeholder(tf.float32, name = 'learning_rate_')\n",
    "print('inputs_.shape, labels_.shape', inputs_.shape, labels_.shape)"
   ]
  },
  {
   "cell_type": "code",
   "execution_count": 11,
   "metadata": {},
   "outputs": [
    {
     "name": "stdout",
     "output_type": "stream",
     "text": [
      "inputs_.shape, conv1.shape, max_pool_1.shape (?, 205, 16) (?, 204, 32) (?, 102, 32)\n",
      "max_pool_1.shape, conv2.shape, max_pool_2.shape (?, 102, 32) (?, 102, 64) (?, 51, 64)\n",
      "max_pool_2.shape, conv3.shape, max_pool_3.shape (?, 51, 64) (?, 50, 128) (?, 25, 128)\n",
      "max_pool_3.shape, conv4.shape, max_pool_4.shape (?, 25, 128) (?, 24, 256) (?, 12, 256)\n",
      "max_pool_4.shape, flat.shape, logits.shape (?, 12, 256) (?, 3072) (?, 2)\n"
     ]
    }
   ],
   "source": [
    "# inputs_.shape, labels_.shape (?, 205, 16) (?, 2)\n",
    "# (batch, 205, 16) --> (batch, 102, 32)\n",
    "# conv valid: (205-2+0)/1 + 1 = (203/1)+1 = 203 + 1=204\n",
    "# pool same: (204-2+0)/2 + 1 = (202/2)+1 = 101 + 1=102\n",
    "conv1 = tf.layers.conv1d(inputs=inputs_, filters=32, kernel_size=2, strides=1, padding='valid', \n",
    "                         activation = tf.nn.relu)\n",
    "max_pool_1 = tf.layers.max_pooling1d(inputs=conv1, pool_size=2, strides=2, padding='same')\n",
    "# max_pool_1 = tf.nn.dropout(max_pool_1, keep_prob=keep_prob_)\n",
    "print('inputs_.shape, conv1.shape, max_pool_1.shape', inputs_.shape, conv1.shape, max_pool_1.shape)\n",
    "\n",
    "# (batch, 102, 32) --> (batch, 51, 64)\n",
    "# conv same\n",
    "# pool same: (102-2+0)/2 + 1 = (100/2)+1 = 50 + 1=51\n",
    "conv2 = tf.layers.conv1d(inputs=max_pool_1, filters=64, kernel_size=2, strides=1, padding='same', \n",
    "                         activation = tf.nn.relu)\n",
    "max_pool_2 = tf.layers.max_pooling1d(inputs=conv2, pool_size=2, strides=2, padding='same')\n",
    "# max_pool_2 = tf.nn.dropout(max_pool_2, keep_prob=keep_prob_)\n",
    "print('max_pool_1.shape, conv2.shape, max_pool_2.shape', max_pool_1.shape, conv2.shape, max_pool_2.shape)\n",
    "\n",
    "# (batch, 51, 64) --> (batch, 25, 128)\n",
    "# conv valid: (51-2+0)/1 + 1 = (49/1)+1 = 49 + 1=50\n",
    "# pool same: (50-2+0)/2 + 1 = (48/2)+1 = 24 + 1=25\n",
    "conv3 = tf.layers.conv1d(inputs=max_pool_2, filters=128, kernel_size=2, strides=1, padding='valid', \n",
    "                         activation = tf.nn.relu)\n",
    "max_pool_3 = tf.layers.max_pooling1d(inputs=conv3, pool_size=2, strides=2, padding='same')\n",
    "# max_pool_3 = tf.nn.dropout(max_pool_3, keep_prob=keep_prob_)\n",
    "print('max_pool_2.shape, conv3.shape, max_pool_3.shape', max_pool_2.shape, conv3.shape, max_pool_3.shape)\n",
    "\n",
    "# (batch, 25, 128) --> (batch, 12, 256)\n",
    "# conv valid: (25-2+0)/1 + 1 = (23/1)+1 = 23 + 1=24\n",
    "# pool same: (24-2+0)/2 + 1 = (22/2)+1 = 11 + 1=12\n",
    "conv4 = tf.layers.conv1d(inputs=max_pool_3, filters=256, kernel_size=2, strides=1, padding='valid', \n",
    "                         activation = tf.nn.relu)\n",
    "max_pool_4 = tf.layers.max_pooling1d(inputs=conv4, pool_size=2, strides=2, padding='same')\n",
    "# max_pool_4 = tf.nn.dropout(max_pool_4, keep_prob=keep_prob_)\n",
    "print('max_pool_3.shape, conv4.shape, max_pool_4.shape', max_pool_3.shape, conv4.shape, max_pool_4.shape)\n",
    "\n",
    "# Flatten and add dropout + predicted output\n",
    "flat = tf.reshape(max_pool_4, (-1, 12*256))\n",
    "flat = tf.nn.dropout(flat, keep_prob=keep_prob_)\n",
    "logits = tf.layers.dense(flat, n_classes)\n",
    "print('max_pool_4.shape, flat.shape, logits.shape', max_pool_4.shape, flat.shape, logits.shape)"
   ]
  },
  {
   "cell_type": "code",
   "execution_count": 17,
   "metadata": {},
   "outputs": [
    {
     "name": "stdout",
     "output_type": "stream",
     "text": [
      "cost_tensor, cost Tensor(\"Reshape_6:0\", shape=(?,), dtype=float32) Tensor(\"Mean_1:0\", shape=(), dtype=float32)\n",
      "optimizer name: \"Adam_1\"\n",
      "op: \"NoOp\"\n",
      "input: \"^Adam_1/update_conv1d/kernel/ApplyAdam\"\n",
      "input: \"^Adam_1/update_conv1d/bias/ApplyAdam\"\n",
      "input: \"^Adam_1/update_conv1d_1/kernel/ApplyAdam\"\n",
      "input: \"^Adam_1/update_conv1d_1/bias/ApplyAdam\"\n",
      "input: \"^Adam_1/update_conv1d_2/kernel/ApplyAdam\"\n",
      "input: \"^Adam_1/update_conv1d_2/bias/ApplyAdam\"\n",
      "input: \"^Adam_1/update_conv1d_3/kernel/ApplyAdam\"\n",
      "input: \"^Adam_1/update_conv1d_3/bias/ApplyAdam\"\n",
      "input: \"^Adam_1/update_dense/kernel/ApplyAdam\"\n",
      "input: \"^Adam_1/update_dense/bias/ApplyAdam\"\n",
      "input: \"^Adam_1/Assign\"\n",
      "input: \"^Adam_1/Assign_1\"\n",
      "\n",
      "correct_pred, accuracy Tensor(\"Equal_1:0\", shape=(?,), dtype=bool) Tensor(\"accuracy_1:0\", shape=(), dtype=float32)\n",
      "confusion Tensor(\"confusion_matrix_1/SparseTensorDenseAdd:0\", shape=(?, ?), dtype=int32)\n"
     ]
    }
   ],
   "source": [
    "# Backward pass: error backpropagation\n",
    "# Cost function\n",
    "cost_tensor = tf.nn.softmax_cross_entropy_with_logits(logits=logits, labels=labels_)\n",
    "cost = tf.reduce_mean(input_tensor=cost_tensor)\n",
    "print('cost_tensor, cost', cost_tensor, cost)\n",
    "\n",
    "# Optimizer\n",
    "optimizer = tf.train.AdamOptimizer(learning_rate=learning_rate_).minimize(cost)\n",
    "print('optimizer', optimizer)\n",
    "\n",
    "# Accuracy\n",
    "correct_pred = tf.equal(tf.argmax(logits, 1), tf.argmax(labels_, 1))\n",
    "accuracy = tf.reduce_mean(tf.cast(correct_pred, tf.float32), name='accuracy')\n",
    "print('correct_pred, accuracy', correct_pred, accuracy)\n",
    "\n",
    "# Confusion matrix\n",
    "confusion = tf.confusion_matrix(predictions=tf.argmax(logits, 1),\n",
    "                                       labels=tf.argmax(labels_, 1))\n",
    "print('confusion', confusion)"
   ]
  },
  {
   "cell_type": "code",
   "execution_count": 13,
   "metadata": {},
   "outputs": [
    {
     "name": "stdout",
     "output_type": "stream",
     "text": [
      "Epoch: 1/100 kernel_size_ratio: 1/1 strides_ratio: 1/2 Train loss: 0.705775 Valid loss: 0.692376 Train acc: 0.507346 Valid acc: 0.522160\n",
      "Epoch: 1/100 kernel_size_ratio: 1/1 strides_ratio: 2/2 Train loss: 0.698262 Valid loss: 0.687698 Train acc: 0.521982 Valid acc: 0.555560\n",
      "Epoch: 2/100 kernel_size_ratio: 1/1 strides_ratio: 1/2 Train loss: 0.695451 Valid loss: 0.684863 Train acc: 0.530809 Valid acc: 0.571749\n",
      "Epoch: 2/100 kernel_size_ratio: 1/1 strides_ratio: 2/2 Train loss: 0.689546 Valid loss: 0.679949 Train acc: 0.548939 Valid acc: 0.597761\n",
      "Epoch: 3/100 kernel_size_ratio: 1/1 strides_ratio: 1/2 Train loss: 0.686309 Valid loss: 0.677049 Train acc: 0.557899 Valid acc: 0.608971\n",
      "Epoch: 3/100 kernel_size_ratio: 1/1 strides_ratio: 2/2 Train loss: 0.679830 Valid loss: 0.671410 Train acc: 0.575005 Valid acc: 0.625022\n",
      "Epoch: 4/100 kernel_size_ratio: 1/1 strides_ratio: 1/2 Train loss: 0.676047 Valid loss: 0.667989 Train acc: 0.583191 Valid acc: 0.632498\n",
      "Epoch: 4/100 kernel_size_ratio: 1/1 strides_ratio: 2/2 Train loss: 0.668492 Valid loss: 0.661227 Train acc: 0.599012 Valid acc: 0.643935\n",
      "Epoch: 5/100 kernel_size_ratio: 1/1 strides_ratio: 1/2 Train loss: 0.664038 Valid loss: 0.657143 Train acc: 0.606606 Valid acc: 0.649060\n",
      "Epoch: 5/100 kernel_size_ratio: 1/1 strides_ratio: 2/2 Train loss: 0.655284 Valid loss: 0.649234 Train acc: 0.619505 Valid acc: 0.657602\n",
      "Epoch: 6/100 kernel_size_ratio: 1/1 strides_ratio: 1/2 Train loss: 0.650296 Valid loss: 0.644569 Train acc: 0.625956 Valid acc: 0.661981\n",
      "Epoch: 6/100 kernel_size_ratio: 1/1 strides_ratio: 2/2 Train loss: 0.640874 Valid loss: 0.635849 Train acc: 0.636838 Valid acc: 0.669710\n",
      "Epoch: 7/100 kernel_size_ratio: 1/1 strides_ratio: 1/2 Train loss: 0.635583 Valid loss: 0.630933 Train acc: 0.642312 Valid acc: 0.673716\n",
      "Epoch: 7/100 kernel_size_ratio: 1/1 strides_ratio: 2/2 Train loss: 0.625943 Valid loss: 0.622152 Train acc: 0.652227 Valid acc: 0.680611\n",
      "Epoch: 8/100 kernel_size_ratio: 1/1 strides_ratio: 1/2 Train loss: 0.620552 Valid loss: 0.617343 Train acc: 0.657238 Valid acc: 0.684373\n",
      "Epoch: 8/100 kernel_size_ratio: 1/1 strides_ratio: 2/2 Train loss: 0.611201 Valid loss: 0.608922 Train acc: 0.665961 Valid acc: 0.690790\n",
      "Epoch: 9/100 kernel_size_ratio: 1/1 strides_ratio: 1/2 Train loss: 0.606118 Valid loss: 0.604403 Train acc: 0.670502 Valid acc: 0.694157\n",
      "Epoch: 9/100 kernel_size_ratio: 1/1 strides_ratio: 2/2 Train loss: 0.597197 Valid loss: 0.596602 Train acc: 0.678267 Valid acc: 0.699875\n",
      "Epoch: 10/100 kernel_size_ratio: 1/1 strides_ratio: 1/2 Train loss: 0.592360 Valid loss: 0.592452 Train acc: 0.682352 Valid acc: 0.702913\n",
      "Epoch: 10/100 kernel_size_ratio: 1/1 strides_ratio: 2/2 Train loss: 0.583982 Valid loss: 0.585299 Train acc: 0.689257 Valid acc: 0.708008\n",
      "Epoch: 11/100 kernel_size_ratio: 1/1 strides_ratio: 1/2 Train loss: 0.579457 Valid loss: 0.581480 Train acc: 0.692923 Valid acc: 0.710653\n",
      "Epoch: 11/100 kernel_size_ratio: 1/1 strides_ratio: 2/2 Train loss: 0.571604 Valid loss: 0.574974 Train acc: 0.699025 Valid acc: 0.715056\n",
      "Epoch: 12/100 kernel_size_ratio: 1/1 strides_ratio: 1/2 Train loss: 0.567364 Valid loss: 0.571513 Train acc: 0.702305 Valid acc: 0.717378\n",
      "Epoch: 12/100 kernel_size_ratio: 1/1 strides_ratio: 2/2 Train loss: 0.560119 Valid loss: 0.565633 Train acc: 0.707931 Valid acc: 0.721366\n",
      "Epoch: 13/100 kernel_size_ratio: 1/1 strides_ratio: 1/2 Train loss: 0.556268 Valid loss: 0.562508 Train acc: 0.710853 Valid acc: 0.723486\n",
      "Epoch: 13/100 kernel_size_ratio: 1/1 strides_ratio: 2/2 Train loss: 0.549594 Valid loss: 0.557196 Train acc: 0.715898 Valid acc: 0.727177\n",
      "Epoch: 14/100 kernel_size_ratio: 1/1 strides_ratio: 1/2 Train loss: 0.545969 Valid loss: 0.554372 Train acc: 0.718581 Valid acc: 0.729077\n",
      "Epoch: 14/100 kernel_size_ratio: 1/1 strides_ratio: 2/2 Train loss: 0.539812 Valid loss: 0.549542 Train acc: 0.723124 Valid acc: 0.732349\n",
      "Epoch: 15/100 kernel_size_ratio: 1/1 strides_ratio: 1/2 Train loss: 0.536532 Valid loss: 0.546969 Train acc: 0.725593 Valid acc: 0.734069\n",
      "Epoch: 15/100 kernel_size_ratio: 1/1 strides_ratio: 2/2 Train loss: 0.530776 Valid loss: 0.542597 Train acc: 0.729772 Valid acc: 0.736970\n",
      "Epoch: 16/100 kernel_size_ratio: 1/1 strides_ratio: 1/2 Train loss: 0.527673 Valid loss: 0.540280 Train acc: 0.732016 Valid acc: 0.738482\n",
      "Epoch: 16/100 kernel_size_ratio: 1/1 strides_ratio: 2/2 Train loss: 0.522297 Valid loss: 0.536329 Train acc: 0.735885 Valid acc: 0.741121\n",
      "Epoch: 17/100 kernel_size_ratio: 1/1 strides_ratio: 1/2 Train loss: 0.519434 Valid loss: 0.534241 Train acc: 0.737935 Valid acc: 0.742507\n",
      "Epoch: 17/100 kernel_size_ratio: 1/1 strides_ratio: 2/2 Train loss: 0.514400 Valid loss: 0.530611 Train acc: 0.741535 Valid acc: 0.744925\n",
      "Epoch: 18/100 kernel_size_ratio: 1/1 strides_ratio: 1/2 Train loss: 0.511770 Valid loss: 0.528695 Train acc: 0.743382 Valid acc: 0.746222\n",
      "Epoch: 18/100 kernel_size_ratio: 1/1 strides_ratio: 2/2 Train loss: 0.507127 Valid loss: 0.525396 Train acc: 0.746612 Valid acc: 0.748467\n",
      "Epoch: 19/100 kernel_size_ratio: 1/1 strides_ratio: 1/2 Train loss: 0.504621 Valid loss: 0.523628 Train acc: 0.748374 Valid acc: 0.749666\n",
      "Epoch: 19/100 kernel_size_ratio: 1/1 strides_ratio: 2/2 Train loss: 0.500215 Valid loss: 0.520619 Train acc: 0.751450 Valid acc: 0.751735\n",
      "Epoch: 20/100 kernel_size_ratio: 1/1 strides_ratio: 1/2 Train loss: 0.497860 Valid loss: 0.519015 Train acc: 0.753126 Valid acc: 0.752842\n",
      "Epoch: 20/100 kernel_size_ratio: 1/1 strides_ratio: 2/2 Train loss: 0.493757 Valid loss: 0.516266 Train acc: 0.755969 Valid acc: 0.754716\n",
      "Epoch: 21/100 kernel_size_ratio: 1/1 strides_ratio: 1/2 Train loss: 0.491525 Valid loss: 0.514808 Train acc: 0.757477 Valid acc: 0.755706\n",
      "Epoch: 21/100 kernel_size_ratio: 1/1 strides_ratio: 2/2 Train loss: 0.487622 Valid loss: 0.512261 Train acc: 0.760135 Valid acc: 0.757406\n",
      "Epoch: 22/100 kernel_size_ratio: 1/1 strides_ratio: 1/2 Train loss: 0.485461 Valid loss: 0.510897 Train acc: 0.761561 Valid acc: 0.758326\n",
      "Epoch: 22/100 kernel_size_ratio: 1/1 strides_ratio: 2/2 Train loss: 0.481732 Valid loss: 0.508554 Train acc: 0.764112 Valid acc: 0.759896\n",
      "Epoch: 23/100 kernel_size_ratio: 1/1 strides_ratio: 1/2 Train loss: 0.479681 Valid loss: 0.507279 Train acc: 0.765486 Valid acc: 0.760769\n",
      "Epoch: 23/100 kernel_size_ratio: 1/1 strides_ratio: 2/2 Train loss: 0.476147 Valid loss: 0.505111 Train acc: 0.767876 Valid acc: 0.762248\n",
      "Epoch: 24/100 kernel_size_ratio: 1/1 strides_ratio: 1/2 Train loss: 0.474205 Valid loss: 0.503937 Train acc: 0.769187 Valid acc: 0.763052\n",
      "Epoch: 24/100 kernel_size_ratio: 1/1 strides_ratio: 2/2 Train loss: 0.470842 Valid loss: 0.501907 Train acc: 0.771433 Valid acc: 0.764427\n",
      "Epoch: 25/100 kernel_size_ratio: 1/1 strides_ratio: 1/2 Train loss: 0.468991 Valid loss: 0.500815 Train acc: 0.772666 Valid acc: 0.765166\n",
      "Epoch: 25/100 kernel_size_ratio: 1/1 strides_ratio: 2/2 Train loss: 0.465747 Valid loss: 0.498936 Train acc: 0.774840 Valid acc: 0.766410\n",
      "Epoch: 26/100 kernel_size_ratio: 1/1 strides_ratio: 1/2 Train loss: 0.463970 Valid loss: 0.497930 Train acc: 0.776006 Valid acc: 0.767068\n",
      "Epoch: 26/100 kernel_size_ratio: 1/1 strides_ratio: 2/2 Train loss: 0.460819 Valid loss: 0.496177 Train acc: 0.778061 Valid acc: 0.768199\n",
      "Epoch: 27/100 kernel_size_ratio: 1/1 strides_ratio: 1/2 Train loss: 0.459118 Valid loss: 0.495228 Train acc: 0.779178 Valid acc: 0.768819\n",
      "Epoch: 27/100 kernel_size_ratio: 1/1 strides_ratio: 2/2 Train loss: 0.456093 Valid loss: 0.493594 Train acc: 0.781110 Valid acc: 0.769899\n",
      "Epoch: 28/100 kernel_size_ratio: 1/1 strides_ratio: 1/2 Train loss: 0.454441 Valid loss: 0.492707 Train acc: 0.782180 Valid acc: 0.770479\n",
      "Epoch: 28/100 kernel_size_ratio: 1/1 strides_ratio: 2/2 Train loss: 0.451456 Valid loss: 0.491192 Train acc: 0.784129 Valid acc: 0.771482\n",
      "Epoch: 29/100 kernel_size_ratio: 1/1 strides_ratio: 1/2 Train loss: 0.449853 Valid loss: 0.490356 Train acc: 0.785164 Valid acc: 0.772049\n",
      "Epoch: 29/100 kernel_size_ratio: 1/1 strides_ratio: 2/2 Train loss: 0.447028 Valid loss: 0.488946 Train acc: 0.786989 Valid acc: 0.772996\n",
      "Epoch: 30/100 kernel_size_ratio: 1/1 strides_ratio: 1/2 Train loss: 0.445447 Valid loss: 0.488188 Train acc: 0.787982 Valid acc: 0.773501\n",
      "Epoch: 30/100 kernel_size_ratio: 1/1 strides_ratio: 2/2 Train loss: 0.442697 Valid loss: 0.486867 Train acc: 0.789740 Valid acc: 0.774397\n"
     ]
    },
    {
     "name": "stdout",
     "output_type": "stream",
     "text": [
      "Epoch: 31/100 kernel_size_ratio: 1/1 strides_ratio: 1/2 Train loss: 0.441144 Valid loss: 0.486143 Train acc: 0.790713 Valid acc: 0.774881\n",
      "Epoch: 31/100 kernel_size_ratio: 1/1 strides_ratio: 2/2 Train loss: 0.438491 Valid loss: 0.484921 Train acc: 0.792417 Valid acc: 0.775705\n",
      "Epoch: 32/100 kernel_size_ratio: 1/1 strides_ratio: 1/2 Train loss: 0.437022 Valid loss: 0.484245 Train acc: 0.793365 Valid acc: 0.776147\n",
      "Epoch: 32/100 kernel_size_ratio: 1/1 strides_ratio: 2/2 Train loss: 0.434425 Valid loss: 0.483084 Train acc: 0.794979 Valid acc: 0.776920\n",
      "Epoch: 33/100 kernel_size_ratio: 1/1 strides_ratio: 1/2 Train loss: 0.432998 Valid loss: 0.482448 Train acc: 0.795867 Valid acc: 0.777329\n",
      "Epoch: 33/100 kernel_size_ratio: 1/1 strides_ratio: 2/2 Train loss: 0.430450 Valid loss: 0.481362 Train acc: 0.797451 Valid acc: 0.778051\n",
      "Epoch: 34/100 kernel_size_ratio: 1/1 strides_ratio: 1/2 Train loss: 0.429080 Valid loss: 0.480763 Train acc: 0.798293 Valid acc: 0.778435\n",
      "Epoch: 34/100 kernel_size_ratio: 1/1 strides_ratio: 2/2 Train loss: 0.426589 Valid loss: 0.479750 Train acc: 0.799814 Valid acc: 0.779115\n",
      "Epoch: 35/100 kernel_size_ratio: 1/1 strides_ratio: 1/2 Train loss: 0.425225 Valid loss: 0.479192 Train acc: 0.800654 Valid acc: 0.779480\n",
      "Epoch: 35/100 kernel_size_ratio: 1/1 strides_ratio: 2/2 Train loss: 0.422775 Valid loss: 0.478230 Train acc: 0.802168 Valid acc: 0.780120\n",
      "Epoch: 36/100 kernel_size_ratio: 1/1 strides_ratio: 1/2 Train loss: 0.421428 Valid loss: 0.477709 Train acc: 0.802999 Valid acc: 0.780468\n",
      "Epoch: 36/100 kernel_size_ratio: 1/1 strides_ratio: 2/2 Train loss: 0.419033 Valid loss: 0.476832 Train acc: 0.804465 Valid acc: 0.781089\n",
      "Epoch: 37/100 kernel_size_ratio: 1/1 strides_ratio: 1/2 Train loss: 0.417720 Valid loss: 0.476330 Train acc: 0.805261 Valid acc: 0.781415\n",
      "Epoch: 37/100 kernel_size_ratio: 1/1 strides_ratio: 2/2 Train loss: 0.415390 Valid loss: 0.475488 Train acc: 0.806709 Valid acc: 0.781993\n",
      "Epoch: 38/100 kernel_size_ratio: 1/1 strides_ratio: 1/2 Train loss: 0.414101 Valid loss: 0.475019 Train acc: 0.807496 Valid acc: 0.782302\n",
      "Epoch: 38/100 kernel_size_ratio: 1/1 strides_ratio: 2/2 Train loss: 0.411801 Valid loss: 0.474238 Train acc: 0.808903 Valid acc: 0.782820\n",
      "Epoch: 39/100 kernel_size_ratio: 1/1 strides_ratio: 1/2 Train loss: 0.410527 Valid loss: 0.473804 Train acc: 0.809662 Valid acc: 0.783098\n",
      "Epoch: 39/100 kernel_size_ratio: 1/1 strides_ratio: 2/2 Train loss: 0.408306 Valid loss: 0.473088 Train acc: 0.810960 Valid acc: 0.783597\n",
      "Epoch: 40/100 kernel_size_ratio: 1/1 strides_ratio: 1/2 Train loss: 0.407064 Valid loss: 0.472680 Train acc: 0.811704 Valid acc: 0.783856\n",
      "Epoch: 40/100 kernel_size_ratio: 1/1 strides_ratio: 2/2 Train loss: 0.404868 Valid loss: 0.472010 Train acc: 0.813064 Valid acc: 0.784304\n",
      "Epoch: 41/100 kernel_size_ratio: 1/1 strides_ratio: 1/2 Train loss: 0.403675 Valid loss: 0.471628 Train acc: 0.813785 Valid acc: 0.784549\n",
      "Epoch: 41/100 kernel_size_ratio: 1/1 strides_ratio: 2/2 Train loss: 0.401501 Valid loss: 0.470987 Train acc: 0.815104 Valid acc: 0.784968\n",
      "Epoch: 42/100 kernel_size_ratio: 1/1 strides_ratio: 1/2 Train loss: 0.400329 Valid loss: 0.470647 Train acc: 0.815789 Valid acc: 0.785202\n",
      "Epoch: 42/100 kernel_size_ratio: 1/1 strides_ratio: 2/2 Train loss: 0.398211 Valid loss: 0.470062 Train acc: 0.817077 Valid acc: 0.785620\n",
      "Epoch: 43/100 kernel_size_ratio: 1/1 strides_ratio: 1/2 Train loss: 0.397017 Valid loss: 0.469751 Train acc: 0.817785 Valid acc: 0.785844\n",
      "Epoch: 43/100 kernel_size_ratio: 1/1 strides_ratio: 2/2 Train loss: 0.394923 Valid loss: 0.469220 Train acc: 0.819051 Valid acc: 0.786228\n",
      "Epoch: 44/100 kernel_size_ratio: 1/1 strides_ratio: 1/2 Train loss: 0.393796 Valid loss: 0.468915 Train acc: 0.819733 Valid acc: 0.786430\n",
      "Epoch: 44/100 kernel_size_ratio: 1/1 strides_ratio: 2/2 Train loss: 0.391724 Valid loss: 0.468432 Train acc: 0.820946 Valid acc: 0.786798\n",
      "Epoch: 45/100 kernel_size_ratio: 1/1 strides_ratio: 1/2 Train loss: 0.390606 Valid loss: 0.468141 Train acc: 0.821599 Valid acc: 0.787002\n",
      "Epoch: 45/100 kernel_size_ratio: 1/1 strides_ratio: 2/2 Train loss: 0.388556 Valid loss: 0.467689 Train acc: 0.822794 Valid acc: 0.787361\n",
      "Epoch: 46/100 kernel_size_ratio: 1/1 strides_ratio: 1/2 Train loss: 0.387444 Valid loss: 0.467416 Train acc: 0.823465 Valid acc: 0.787560\n",
      "Epoch: 46/100 kernel_size_ratio: 1/1 strides_ratio: 2/2 Train loss: 0.385480 Valid loss: 0.466998 Train acc: 0.824601 Valid acc: 0.787896\n",
      "Epoch: 47/100 kernel_size_ratio: 1/1 strides_ratio: 1/2 Train loss: 0.384384 Valid loss: 0.466767 Train acc: 0.825239 Valid acc: 0.788076\n",
      "Epoch: 47/100 kernel_size_ratio: 1/1 strides_ratio: 2/2 Train loss: 0.382399 Valid loss: 0.466396 Train acc: 0.826391 Valid acc: 0.788404\n",
      "Epoch: 48/100 kernel_size_ratio: 1/1 strides_ratio: 1/2 Train loss: 0.381312 Valid loss: 0.466189 Train acc: 0.827018 Valid acc: 0.788578\n",
      "Epoch: 48/100 kernel_size_ratio: 1/1 strides_ratio: 2/2 Train loss: 0.379374 Valid loss: 0.465854 Train acc: 0.828118 Valid acc: 0.788881\n",
      "Epoch: 49/100 kernel_size_ratio: 1/1 strides_ratio: 1/2 Train loss: 0.378301 Valid loss: 0.465658 Train acc: 0.828737 Valid acc: 0.789044\n",
      "Epoch: 49/100 kernel_size_ratio: 1/1 strides_ratio: 2/2 Train loss: 0.376371 Valid loss: 0.465375 Train acc: 0.829818 Valid acc: 0.789339\n",
      "Epoch: 50/100 kernel_size_ratio: 1/1 strides_ratio: 1/2 Train loss: 0.375325 Valid loss: 0.465212 Train acc: 0.830421 Valid acc: 0.789498\n",
      "Epoch: 50/100 kernel_size_ratio: 1/1 strides_ratio: 2/2 Train loss: 0.373433 Valid loss: 0.464940 Train acc: 0.831527 Valid acc: 0.789783\n",
      "Epoch: 51/100 kernel_size_ratio: 1/1 strides_ratio: 1/2 Train loss: 0.372401 Valid loss: 0.464790 Train acc: 0.832117 Valid acc: 0.789937\n",
      "Epoch: 51/100 kernel_size_ratio: 1/1 strides_ratio: 2/2 Train loss: 0.370562 Valid loss: 0.464562 Train acc: 0.833176 Valid acc: 0.790217\n",
      "Epoch: 52/100 kernel_size_ratio: 1/1 strides_ratio: 1/2 Train loss: 0.369547 Valid loss: 0.464402 Train acc: 0.833766 Valid acc: 0.790369\n",
      "Epoch: 52/100 kernel_size_ratio: 1/1 strides_ratio: 2/2 Train loss: 0.367701 Valid loss: 0.464209 Train acc: 0.834798 Valid acc: 0.790637\n",
      "Epoch: 53/100 kernel_size_ratio: 1/1 strides_ratio: 1/2 Train loss: 0.366718 Valid loss: 0.464092 Train acc: 0.835362 Valid acc: 0.790784\n",
      "Epoch: 53/100 kernel_size_ratio: 1/1 strides_ratio: 2/2 Train loss: 0.364884 Valid loss: 0.463932 Train acc: 0.836378 Valid acc: 0.791037\n",
      "Epoch: 54/100 kernel_size_ratio: 1/1 strides_ratio: 1/2 Train loss: 0.363901 Valid loss: 0.463870 Train acc: 0.836934 Valid acc: 0.791177\n",
      "Epoch: 54/100 kernel_size_ratio: 1/1 strides_ratio: 2/2 Train loss: 0.362125 Valid loss: 0.463746 Train acc: 0.837936 Valid acc: 0.791424\n",
      "Epoch: 55/100 kernel_size_ratio: 1/1 strides_ratio: 1/2 Train loss: 0.361127 Valid loss: 0.463660 Train acc: 0.838493 Valid acc: 0.791565\n",
      "Epoch: 55/100 kernel_size_ratio: 1/1 strides_ratio: 2/2 Train loss: 0.359381 Valid loss: 0.463591 Train acc: 0.839457 Valid acc: 0.791798\n",
      "Epoch: 56/100 kernel_size_ratio: 1/1 strides_ratio: 1/2 Train loss: 0.358412 Valid loss: 0.463533 Train acc: 0.840002 Valid acc: 0.791932\n",
      "Epoch: 56/100 kernel_size_ratio: 1/1 strides_ratio: 2/2 Train loss: 0.356686 Valid loss: 0.463478 Train acc: 0.840967 Valid acc: 0.792153\n",
      "Epoch: 57/100 kernel_size_ratio: 1/1 strides_ratio: 1/2 Train loss: 0.355733 Valid loss: 0.463456 Train acc: 0.841502 Valid acc: 0.792271\n",
      "Epoch: 57/100 kernel_size_ratio: 1/1 strides_ratio: 2/2 Train loss: 0.354016 Valid loss: 0.463429 Train acc: 0.842448 Valid acc: 0.792486\n",
      "Epoch: 58/100 kernel_size_ratio: 1/1 strides_ratio: 1/2 Train loss: 0.353080 Valid loss: 0.463385 Train acc: 0.842970 Valid acc: 0.792609\n",
      "Epoch: 58/100 kernel_size_ratio: 1/1 strides_ratio: 2/2 Train loss: 0.351382 Valid loss: 0.463376 Train acc: 0.843926 Valid acc: 0.792802\n",
      "Epoch: 59/100 kernel_size_ratio: 1/1 strides_ratio: 1/2 Train loss: 0.350457 Valid loss: 0.463373 Train acc: 0.844443 Valid acc: 0.792908\n",
      "Epoch: 59/100 kernel_size_ratio: 1/1 strides_ratio: 2/2 Train loss: 0.348778 Valid loss: 0.463385 Train acc: 0.845361 Valid acc: 0.793095\n",
      "Epoch: 60/100 kernel_size_ratio: 1/1 strides_ratio: 1/2 Train loss: 0.347875 Valid loss: 0.463406 Train acc: 0.845854 Valid acc: 0.793190\n",
      "Epoch: 60/100 kernel_size_ratio: 1/1 strides_ratio: 2/2 Train loss: 0.346238 Valid loss: 0.463435 Train acc: 0.846754 Valid acc: 0.793362\n"
     ]
    },
    {
     "name": "stdout",
     "output_type": "stream",
     "text": [
      "Epoch: 61/100 kernel_size_ratio: 1/1 strides_ratio: 1/2 Train loss: 0.345338 Valid loss: 0.463463 Train acc: 0.847244 Valid acc: 0.793458\n",
      "Epoch: 61/100 kernel_size_ratio: 1/1 strides_ratio: 2/2 Train loss: 0.343722 Valid loss: 0.463538 Train acc: 0.848128 Valid acc: 0.793618\n",
      "Epoch: 62/100 kernel_size_ratio: 1/1 strides_ratio: 1/2 Train loss: 0.342821 Valid loss: 0.463578 Train acc: 0.848608 Valid acc: 0.793703\n",
      "Epoch: 62/100 kernel_size_ratio: 1/1 strides_ratio: 2/2 Train loss: 0.341218 Valid loss: 0.463660 Train acc: 0.849468 Valid acc: 0.793867\n",
      "Epoch: 63/100 kernel_size_ratio: 1/1 strides_ratio: 1/2 Train loss: 0.340352 Valid loss: 0.463698 Train acc: 0.849941 Valid acc: 0.793955\n",
      "Epoch: 63/100 kernel_size_ratio: 1/1 strides_ratio: 2/2 Train loss: 0.338797 Valid loss: 0.463796 Train acc: 0.850793 Valid acc: 0.794108\n",
      "Epoch: 64/100 kernel_size_ratio: 1/1 strides_ratio: 1/2 Train loss: 0.337934 Valid loss: 0.463875 Train acc: 0.851270 Valid acc: 0.794181\n",
      "Epoch: 64/100 kernel_size_ratio: 1/1 strides_ratio: 2/2 Train loss: 0.336360 Valid loss: 0.463994 Train acc: 0.852112 Valid acc: 0.794326\n",
      "Epoch: 65/100 kernel_size_ratio: 1/1 strides_ratio: 1/2 Train loss: 0.335480 Valid loss: 0.464083 Train acc: 0.852600 Valid acc: 0.794400\n",
      "Epoch: 65/100 kernel_size_ratio: 1/1 strides_ratio: 2/2 Train loss: 0.333928 Valid loss: 0.464261 Train acc: 0.853440 Valid acc: 0.794528\n",
      "Epoch: 66/100 kernel_size_ratio: 1/1 strides_ratio: 1/2 Train loss: 0.333080 Valid loss: 0.464358 Train acc: 0.853903 Valid acc: 0.794598\n",
      "Epoch: 66/100 kernel_size_ratio: 1/1 strides_ratio: 2/2 Train loss: 0.331557 Valid loss: 0.464565 Train acc: 0.854724 Valid acc: 0.794728\n",
      "Epoch: 67/100 kernel_size_ratio: 1/1 strides_ratio: 1/2 Train loss: 0.330716 Valid loss: 0.464662 Train acc: 0.855185 Valid acc: 0.794806\n",
      "Epoch: 67/100 kernel_size_ratio: 1/1 strides_ratio: 2/2 Train loss: 0.329219 Valid loss: 0.464907 Train acc: 0.855989 Valid acc: 0.794928\n",
      "Epoch: 68/100 kernel_size_ratio: 1/1 strides_ratio: 1/2 Train loss: 0.328390 Valid loss: 0.465011 Train acc: 0.856436 Valid acc: 0.794997\n",
      "Epoch: 68/100 kernel_size_ratio: 1/1 strides_ratio: 2/2 Train loss: 0.326886 Valid loss: 0.465277 Train acc: 0.857244 Valid acc: 0.795110\n",
      "Epoch: 69/100 kernel_size_ratio: 1/1 strides_ratio: 1/2 Train loss: 0.326069 Valid loss: 0.465416 Train acc: 0.857673 Valid acc: 0.795167\n",
      "Epoch: 69/100 kernel_size_ratio: 1/1 strides_ratio: 2/2 Train loss: 0.324611 Valid loss: 0.465705 Train acc: 0.858461 Valid acc: 0.795272\n",
      "Epoch: 70/100 kernel_size_ratio: 1/1 strides_ratio: 1/2 Train loss: 0.323805 Valid loss: 0.465871 Train acc: 0.858907 Valid acc: 0.795326\n",
      "Epoch: 70/100 kernel_size_ratio: 1/1 strides_ratio: 2/2 Train loss: 0.322332 Valid loss: 0.466160 Train acc: 0.859696 Valid acc: 0.795434\n",
      "Epoch: 71/100 kernel_size_ratio: 1/1 strides_ratio: 1/2 Train loss: 0.321529 Valid loss: 0.466345 Train acc: 0.860121 Valid acc: 0.795482\n",
      "Epoch: 71/100 kernel_size_ratio: 1/1 strides_ratio: 2/2 Train loss: 0.320081 Valid loss: 0.466668 Train acc: 0.860898 Valid acc: 0.795573\n",
      "Epoch: 72/100 kernel_size_ratio: 1/1 strides_ratio: 1/2 Train loss: 0.319292 Valid loss: 0.466835 Train acc: 0.861314 Valid acc: 0.795621\n",
      "Epoch: 72/100 kernel_size_ratio: 1/1 strides_ratio: 2/2 Train loss: 0.317860 Valid loss: 0.467196 Train acc: 0.862084 Valid acc: 0.795693\n",
      "Epoch: 73/100 kernel_size_ratio: 1/1 strides_ratio: 1/2 Train loss: 0.317079 Valid loss: 0.467401 Train acc: 0.862497 Valid acc: 0.795733\n",
      "Epoch: 73/100 kernel_size_ratio: 1/1 strides_ratio: 2/2 Train loss: 0.315667 Valid loss: 0.467778 Train acc: 0.863240 Valid acc: 0.795816\n",
      "Epoch: 74/100 kernel_size_ratio: 1/1 strides_ratio: 1/2 Train loss: 0.314893 Valid loss: 0.468002 Train acc: 0.863650 Valid acc: 0.795851\n",
      "Epoch: 74/100 kernel_size_ratio: 1/1 strides_ratio: 2/2 Train loss: 0.313505 Valid loss: 0.468396 Train acc: 0.864383 Valid acc: 0.795920\n",
      "Epoch: 75/100 kernel_size_ratio: 1/1 strides_ratio: 1/2 Train loss: 0.312737 Valid loss: 0.468608 Train acc: 0.864783 Valid acc: 0.795958\n",
      "Epoch: 75/100 kernel_size_ratio: 1/1 strides_ratio: 2/2 Train loss: 0.311355 Valid loss: 0.469010 Train acc: 0.865511 Valid acc: 0.796021\n",
      "Epoch: 76/100 kernel_size_ratio: 1/1 strides_ratio: 1/2 Train loss: 0.310612 Valid loss: 0.469251 Train acc: 0.865897 Valid acc: 0.796051\n",
      "Epoch: 76/100 kernel_size_ratio: 1/1 strides_ratio: 2/2 Train loss: 0.309264 Valid loss: 0.469676 Train acc: 0.866601 Valid acc: 0.796121\n",
      "Epoch: 77/100 kernel_size_ratio: 1/1 strides_ratio: 1/2 Train loss: 0.308522 Valid loss: 0.469911 Train acc: 0.866992 Valid acc: 0.796154\n",
      "Epoch: 77/100 kernel_size_ratio: 1/1 strides_ratio: 2/2 Train loss: 0.307160 Valid loss: 0.470343 Train acc: 0.867712 Valid acc: 0.796208\n",
      "Epoch: 78/100 kernel_size_ratio: 1/1 strides_ratio: 1/2 Train loss: 0.306420 Valid loss: 0.470577 Train acc: 0.868098 Valid acc: 0.796243\n",
      "Epoch: 78/100 kernel_size_ratio: 1/1 strides_ratio: 2/2 Train loss: 0.305086 Valid loss: 0.471047 Train acc: 0.868801 Valid acc: 0.796286\n",
      "Epoch: 79/100 kernel_size_ratio: 1/1 strides_ratio: 1/2 Train loss: 0.304349 Valid loss: 0.471306 Train acc: 0.869182 Valid acc: 0.796313\n",
      "Epoch: 79/100 kernel_size_ratio: 1/1 strides_ratio: 2/2 Train loss: 0.303038 Valid loss: 0.471803 Train acc: 0.869875 Valid acc: 0.796342\n",
      "Epoch: 80/100 kernel_size_ratio: 1/1 strides_ratio: 1/2 Train loss: 0.302321 Valid loss: 0.472053 Train acc: 0.870241 Valid acc: 0.796372\n",
      "Epoch: 80/100 kernel_size_ratio: 1/1 strides_ratio: 2/2 Train loss: 0.301022 Valid loss: 0.472550 Train acc: 0.870917 Valid acc: 0.796399\n",
      "Epoch: 81/100 kernel_size_ratio: 1/1 strides_ratio: 1/2 Train loss: 0.300307 Valid loss: 0.472818 Train acc: 0.871284 Valid acc: 0.796422\n",
      "Epoch: 81/100 kernel_size_ratio: 1/1 strides_ratio: 2/2 Train loss: 0.299010 Valid loss: 0.473326 Train acc: 0.871964 Valid acc: 0.796442\n",
      "Epoch: 82/100 kernel_size_ratio: 1/1 strides_ratio: 1/2 Train loss: 0.298304 Valid loss: 0.473611 Train acc: 0.872328 Valid acc: 0.796454\n",
      "Epoch: 82/100 kernel_size_ratio: 1/1 strides_ratio: 2/2 Train loss: 0.297041 Valid loss: 0.474126 Train acc: 0.872982 Valid acc: 0.796483\n",
      "Epoch: 83/100 kernel_size_ratio: 1/1 strides_ratio: 1/2 Train loss: 0.296341 Valid loss: 0.474443 Train acc: 0.873343 Valid acc: 0.796493\n",
      "Epoch: 83/100 kernel_size_ratio: 1/1 strides_ratio: 2/2 Train loss: 0.295073 Valid loss: 0.474977 Train acc: 0.873996 Valid acc: 0.796514\n",
      "Epoch: 84/100 kernel_size_ratio: 1/1 strides_ratio: 1/2 Train loss: 0.294373 Valid loss: 0.475271 Train acc: 0.874356 Valid acc: 0.796528\n",
      "Epoch: 84/100 kernel_size_ratio: 1/1 strides_ratio: 2/2 Train loss: 0.293129 Valid loss: 0.475844 Train acc: 0.874998 Valid acc: 0.796541\n",
      "Epoch: 85/100 kernel_size_ratio: 1/1 strides_ratio: 1/2 Train loss: 0.292447 Valid loss: 0.476128 Train acc: 0.875343 Valid acc: 0.796559\n",
      "Epoch: 85/100 kernel_size_ratio: 1/1 strides_ratio: 2/2 Train loss: 0.291218 Valid loss: 0.476713 Train acc: 0.875969 Valid acc: 0.796568\n",
      "Epoch: 86/100 kernel_size_ratio: 1/1 strides_ratio: 1/2 Train loss: 0.290544 Valid loss: 0.477015 Train acc: 0.876312 Valid acc: 0.796579\n",
      "Epoch: 86/100 kernel_size_ratio: 1/1 strides_ratio: 2/2 Train loss: 0.289303 Valid loss: 0.477590 Train acc: 0.876952 Valid acc: 0.796587\n",
      "Epoch: 87/100 kernel_size_ratio: 1/1 strides_ratio: 1/2 Train loss: 0.288634 Valid loss: 0.477891 Train acc: 0.877296 Valid acc: 0.796597\n",
      "Epoch: 87/100 kernel_size_ratio: 1/1 strides_ratio: 2/2 Train loss: 0.287426 Valid loss: 0.478474 Train acc: 0.877911 Valid acc: 0.796592\n",
      "Epoch: 88/100 kernel_size_ratio: 1/1 strides_ratio: 1/2 Train loss: 0.286767 Valid loss: 0.478819 Train acc: 0.878241 Valid acc: 0.796581\n",
      "Epoch: 88/100 kernel_size_ratio: 1/1 strides_ratio: 2/2 Train loss: 0.285550 Valid loss: 0.479425 Train acc: 0.878867 Valid acc: 0.796564\n",
      "Epoch: 89/100 kernel_size_ratio: 1/1 strides_ratio: 1/2 Train loss: 0.284911 Valid loss: 0.479755 Train acc: 0.879190 Valid acc: 0.796563\n",
      "Epoch: 89/100 kernel_size_ratio: 1/1 strides_ratio: 2/2 Train loss: 0.283723 Valid loss: 0.480383 Train acc: 0.879793 Valid acc: 0.796548\n",
      "Epoch: 90/100 kernel_size_ratio: 1/1 strides_ratio: 1/2 Train loss: 0.283085 Valid loss: 0.480732 Train acc: 0.880117 Valid acc: 0.796539\n",
      "Epoch: 90/100 kernel_size_ratio: 1/1 strides_ratio: 2/2 Train loss: 0.281913 Valid loss: 0.481356 Train acc: 0.880721 Valid acc: 0.796522\n"
     ]
    },
    {
     "name": "stdout",
     "output_type": "stream",
     "text": [
      "Epoch: 91/100 kernel_size_ratio: 1/1 strides_ratio: 1/2 Train loss: 0.281261 Valid loss: 0.481702 Train acc: 0.881050 Valid acc: 0.796511\n",
      "Epoch: 91/100 kernel_size_ratio: 1/1 strides_ratio: 2/2 Train loss: 0.280110 Valid loss: 0.482360 Train acc: 0.881631 Valid acc: 0.796483\n",
      "Epoch: 92/100 kernel_size_ratio: 1/1 strides_ratio: 1/2 Train loss: 0.279480 Valid loss: 0.482697 Train acc: 0.881950 Valid acc: 0.796480\n",
      "Epoch: 92/100 kernel_size_ratio: 1/1 strides_ratio: 2/2 Train loss: 0.278338 Valid loss: 0.483353 Train acc: 0.882529 Valid acc: 0.796446\n",
      "Epoch: 93/100 kernel_size_ratio: 1/1 strides_ratio: 1/2 Train loss: 0.277705 Valid loss: 0.483711 Train acc: 0.882844 Valid acc: 0.796432\n",
      "Epoch: 93/100 kernel_size_ratio: 1/1 strides_ratio: 2/2 Train loss: 0.276583 Valid loss: 0.484384 Train acc: 0.883412 Valid acc: 0.796405\n",
      "Epoch: 94/100 kernel_size_ratio: 1/1 strides_ratio: 1/2 Train loss: 0.275966 Valid loss: 0.484744 Train acc: 0.883716 Valid acc: 0.796394\n",
      "Epoch: 94/100 kernel_size_ratio: 1/1 strides_ratio: 2/2 Train loss: 0.274840 Valid loss: 0.485437 Train acc: 0.884280 Valid acc: 0.796355\n",
      "Epoch: 95/100 kernel_size_ratio: 1/1 strides_ratio: 1/2 Train loss: 0.274229 Valid loss: 0.485804 Train acc: 0.884592 Valid acc: 0.796343\n",
      "Epoch: 95/100 kernel_size_ratio: 1/1 strides_ratio: 2/2 Train loss: 0.273132 Valid loss: 0.486477 Train acc: 0.885137 Valid acc: 0.796316\n",
      "Epoch: 96/100 kernel_size_ratio: 1/1 strides_ratio: 1/2 Train loss: 0.272521 Valid loss: 0.486907 Train acc: 0.885444 Valid acc: 0.796286\n",
      "Epoch: 96/100 kernel_size_ratio: 1/1 strides_ratio: 2/2 Train loss: 0.271427 Valid loss: 0.487572 Train acc: 0.885987 Valid acc: 0.796269\n",
      "Epoch: 97/100 kernel_size_ratio: 1/1 strides_ratio: 1/2 Train loss: 0.270823 Valid loss: 0.487988 Train acc: 0.886285 Valid acc: 0.796247\n",
      "Epoch: 97/100 kernel_size_ratio: 1/1 strides_ratio: 2/2 Train loss: 0.269739 Valid loss: 0.488688 Train acc: 0.886824 Valid acc: 0.796215\n",
      "Epoch: 98/100 kernel_size_ratio: 1/1 strides_ratio: 1/2 Train loss: 0.269135 Valid loss: 0.489073 Train acc: 0.887126 Valid acc: 0.796197\n",
      "Epoch: 98/100 kernel_size_ratio: 1/1 strides_ratio: 2/2 Train loss: 0.268067 Valid loss: 0.489791 Train acc: 0.887655 Valid acc: 0.796163\n",
      "Epoch: 99/100 kernel_size_ratio: 1/1 strides_ratio: 1/2 Train loss: 0.267473 Valid loss: 0.490189 Train acc: 0.887948 Valid acc: 0.796146\n",
      "Epoch: 99/100 kernel_size_ratio: 1/1 strides_ratio: 2/2 Train loss: 0.266414 Valid loss: 0.490903 Train acc: 0.888477 Valid acc: 0.796122\n",
      "Epoch: 100/100 kernel_size_ratio: 1/1 strides_ratio: 1/2 Train loss: 0.265826 Valid loss: 0.491319 Train acc: 0.888769 Valid acc: 0.796102\n",
      "Epoch: 100/100 kernel_size_ratio: 1/1 strides_ratio: 2/2 Train loss: 0.264769 Valid loss: 0.492083 Train acc: 0.889294 Valid acc: 0.796062\n"
     ]
    }
   ],
   "source": [
    "train_acc, train_loss = [], []\n",
    "valid_acc, valid_loss = [], []\n",
    "\n",
    "# Save the training result or trained and validated model params\n",
    "saver = tf.train.Saver()\n",
    "\n",
    "# hyperparameters\n",
    "epochs = 100 # num iterations for updating model\n",
    "kernel_size_ratios = 1 # conv size for conv minibatching \n",
    "strides_ratios = 2 # conv stride for conv minibatching\n",
    "\n",
    "with tf.Session() as sess:\n",
    "    sess.run(tf.global_variables_initializer())\n",
    "   \n",
    "    # Loop over epochs\n",
    "    for e in range(0, epochs, 1):\n",
    "\n",
    "        # Minibatching techniques tgt batch size: kernel_size_ratio\n",
    "        for k in range(0, kernel_size_ratios, 1):\n",
    "\n",
    "            # Minibatching techniques sampling: strides_ratio\n",
    "            for s in range(0, strides_ratios, 1):\n",
    "\n",
    "                # Loop over batches\n",
    "                for x, y in get_batches2(X_norm=X_train_norm, Y_labels=Y_train, \n",
    "                                         kernel_size_ratio=k+1,\n",
    "                                         strides_ratio=s+1):   \n",
    "\n",
    "                    ######################## Training\n",
    "                    # Feed dictionary\n",
    "                    feed = {inputs_ : x, labels_ : y, keep_prob_ : keep_prob, learning_rate_ : learning_rate}\n",
    "\n",
    "                    # Loss\n",
    "                    loss, _ , acc = sess.run([cost, optimizer, accuracy], feed_dict = feed)\n",
    "                    train_acc.append(acc)\n",
    "                    train_loss.append(loss)\n",
    "\n",
    "                    ################## Validation\n",
    "                    acc_batch = []\n",
    "                    loss_batch = []    \n",
    "                    # Loop over batches\n",
    "                    for x, y in get_batches2(X_norm=X_valid_norm, Y_labels=Y_valid):\n",
    "\n",
    "                        # Feed dictionary\n",
    "                        feed = {inputs_ : x, labels_ : y, keep_prob_ : 1.0}\n",
    "\n",
    "                        # Loss\n",
    "                        loss, acc = sess.run([cost, accuracy], feed_dict = feed)\n",
    "                        acc_batch.append(acc)\n",
    "                        loss_batch.append(loss)\n",
    "\n",
    "                    # Store\n",
    "                    valid_acc.append(np.mean(acc_batch))\n",
    "                    valid_loss.append(np.mean(loss_batch))\n",
    "\n",
    "                # Print info for every iter/epoch\n",
    "                print(\"Epoch: {}/{}\".format(e+1, epochs),\n",
    "                      \"kernel_size_ratio: {}/{}\".format(k+1, kernel_size_ratios),\n",
    "                      \"strides_ratio: {}/{}\".format(s+1, strides_ratios),\n",
    "                      \"Train loss: {:6f}\".format(np.mean(train_loss)),\n",
    "                      \"Valid loss: {:.6f}\".format(np.mean(valid_loss)),\n",
    "                      \"Train acc: {:6f}\".format(np.mean(train_acc)),\n",
    "                      \"Valid acc: {:.6f}\".format(np.mean(valid_acc)))\n",
    "                \n",
    "    saver.save(sess,\"checkpoints/dcnn-face-yalda-Copy6.ckpt\")"
   ]
  },
  {
   "cell_type": "code",
   "execution_count": 14,
   "metadata": {},
   "outputs": [
    {
     "data": {
      "image/png": "[encoded data removed]",
      "text/plain": [
       "<matplotlib.figure.Figure at 0x7f22607bc3c8>"
      ]
     },
     "metadata": {},
     "output_type": "display_data"
    }
   ],
   "source": [
    "import matplotlib.pyplot as mplot\n",
    "\n",
    "mplot.plot(train_loss, label='Face train_loss')\n",
    "mplot.plot(valid_loss, label='Face valid_loss')\n",
    "mplot.legend()\n",
    "mplot.show()"
   ]
  },
  {
   "cell_type": "code",
   "execution_count": 15,
   "metadata": {},
   "outputs": [
    {
     "data": {
      "image/png": "[encoded data removed]",
      "text/plain": [
       "<matplotlib.figure.Figure at 0x7f22601d49e8>"
      ]
     },
     "metadata": {},
     "output_type": "display_data"
    }
   ],
   "source": [
    "# import matplotlib.pyplot as mplot\n",
    "mplot.plot(train_acc, label='Face train_acc')\n",
    "mplot.plot(valid_acc, label='Face valid_acc')\n",
    "mplot.legend()\n",
    "mplot.show()"
   ]
  },
  {
   "cell_type": "code",
   "execution_count": 19,
   "metadata": {},
   "outputs": [
    {
     "name": "stdout",
     "output_type": "stream",
     "text": [
      "INFO:tensorflow:Restoring parameters from checkpoints/dcnn-face-yalda-Copy6.ckpt\n",
      "Test loss: 0.327950 Test acc: 0.894643\n"
     ]
    }
   ],
   "source": [
    "test_acc, test_loss = [], []\n",
    "\n",
    "with tf.Session() as sess:\n",
    "    # Restore the validated model\n",
    "    saver.restore(sess, tf.train.latest_checkpoint('checkpoints/'))\n",
    "    \n",
    "    ################## Test\n",
    "    acc_batch = []\n",
    "    loss_batch = []    \n",
    "    # Loop over batches\n",
    "    for x, y in get_batches(batch_size=100, X=X_test_norm, y=Y_test_onehot):\n",
    "\n",
    "        # Feed dictionary\n",
    "        feed = {inputs_ : x, labels_ : y, keep_prob_ : 1.0}\n",
    "\n",
    "        # Loss\n",
    "        loss, acc, con = sess.run([cost, accuracy, confusion], feed_dict = feed)\n",
    "        acc_batch.append(acc)\n",
    "        loss_batch.append(loss)\n",
    "\n",
    "    # Store\n",
    "    test_acc.append(np.mean(acc_batch))\n",
    "    test_loss.append(np.mean(loss_batch))\n",
    "\n",
    "    # Print info for every iter/epoch\n",
    "    print(\"Test loss: {:6f}\".format(np.mean(test_loss)),\n",
    "          \"Test acc: {:.6f}\".format(np.mean(test_acc)))"
   ]
  },
  {
   "cell_type": "code",
   "execution_count": 20,
   "metadata": {},
   "outputs": [
    {
     "data": {
      "text/plain": [
       "(2, 2)"
      ]
     },
     "execution_count": 20,
     "metadata": {},
     "output_type": "execute_result"
    }
   ],
   "source": [
    "con.shape"
   ]
  },
  {
   "cell_type": "code",
   "execution_count": 22,
   "metadata": {},
   "outputs": [
    {
     "data": {
      "text/plain": [
       "1.0"
      ]
     },
     "execution_count": 22,
     "metadata": {},
     "output_type": "execute_result"
    }
   ],
   "source": [
    "# sensitivity: 1st col or true prediction condition\n",
    "con[0, 0]/ (con[0, 0] + con[1, 0])"
   ]
  },
  {
   "cell_type": "code",
   "execution_count": 23,
   "metadata": {},
   "outputs": [
    {
     "data": {
      "text/plain": [
       "0.31578947368421051"
      ]
     },
     "execution_count": 23,
     "metadata": {},
     "output_type": "execute_result"
    }
   ],
   "source": [
    "# specificity: 2nd col or false prediction condition\n",
    "# (1st row, 2nd col)/ \n",
    "con[0, 1]/ (con[0, 1] + con[1, 1])"
   ]
  },
  {
   "cell_type": "code",
   "execution_count": 24,
   "metadata": {},
   "outputs": [
    {
     "data": {
      "text/plain": [
       "0.86170212765957444"
      ]
     },
     "execution_count": 24,
     "metadata": {},
     "output_type": "execute_result"
    }
   ],
   "source": [
    "# accuracy: true prediction condition\n",
    "con[0, 0]/ (con[0, 0] + con[1, 1])"
   ]
  },
  {
   "cell_type": "code",
   "execution_count": null,
   "metadata": {},
   "outputs": [],
   "source": []
  }
 ],
 "metadata": {
  "kernelspec": {
   "display_name": "Python 3",
   "language": "python",
   "name": "python3"
  },
  "language_info": {
   "codemirror_mode": {
    "name": "ipython",
    "version": 3
   },
   "file_extension": ".py",
   "mimetype": "text/x-python",
   "name": "python",
   "nbconvert_exporter": "python",
   "pygments_lexer": "ipython3",
   "version": "3.6.3"
  }
 },
 "nbformat": 4,
 "nbformat_minor": 2
}
