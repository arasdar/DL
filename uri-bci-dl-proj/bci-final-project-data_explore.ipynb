{
 "cells": [
  {
   "cell_type": "code",
   "execution_count": 1,
   "metadata": {},
   "outputs": [],
   "source": [
    "import scipy.io as spio\n",
    "import numpy as np"
   ]
  },
  {
   "cell_type": "code",
   "execution_count": 40,
   "metadata": {},
   "outputs": [
    {
     "name": "stdout",
     "output_type": "stream",
     "text": [
      "BahramFace.mat     DJFlipped.mat  NickFace.mat     RoohiFlipped.mat\r\n",
      "BahramFlipped.mat  eloc16.txt     NickFlipped.mat  SarahFace.mat\r\n",
      "DJFace.mat         epoching.m     RoohiFace.mat    SarahFlipped.mat\r\n"
     ]
    }
   ],
   "source": [
    "ls ../data/bci-project-data-FILTERED/"
   ]
  },
  {
   "cell_type": "code",
   "execution_count": 43,
   "metadata": {},
   "outputs": [],
   "source": [
    "BahramFace = spio.loadmat(file_name='../data/bci-project-data-RAW/BahramFace.mat')\n",
    "DJFace = spio.loadmat(file_name='../data/bci-project-data-RAW/DJFace.mat')\n",
    "NickFace = spio.loadmat(file_name='../data/bci-project-data-RAW/NickFace.mat')\n",
    "RoohiFace = spio.loadmat(file_name='../data/bci-project-data-RAW/RoohiFace.mat')\n",
    "SarahFace = spio.loadmat(file_name='../data/bci-project-data-RAW/SarahFace.mat')"
   ]
  },
  {
   "cell_type": "code",
   "execution_count": 44,
   "metadata": {},
   "outputs": [
    {
     "data": {
      "text/plain": [
       "(dict_keys(['__header__', '__version__', '__globals__', 'Intensification_Data', 'Intensification_Label']),\n",
       " dict_keys(['__header__', '__version__', '__globals__', 'Intensification_Data', 'Intensification_Label']),\n",
       " dict_keys(['__header__', '__version__', '__globals__', 'Intensification_Data', 'Intensification_Label']),\n",
       " dict_keys(['__header__', '__version__', '__globals__', 'Intensification_Data', 'Intensification_Label']),\n",
       " dict_keys(['__header__', '__version__', '__globals__', 'Intensification_Data', 'Intensification_Label']))"
      ]
     },
     "execution_count": 44,
     "metadata": {},
     "output_type": "execute_result"
    }
   ],
   "source": [
    "BahramFace.keys(), DJFace.keys(), NickFace.keys(), RoohiFace.keys(), SarahFace.keys()"
   ]
  },
  {
   "cell_type": "code",
   "execution_count": 45,
   "metadata": {},
   "outputs": [
    {
     "data": {
      "text/plain": [
       "((3600, 205, 16),\n",
       " (3780, 205, 16),\n",
       " (3780, 205, 16),\n",
       " (3780, 205, 16),\n",
       " (3780, 205, 16))"
      ]
     },
     "execution_count": 45,
     "metadata": {},
     "output_type": "execute_result"
    }
   ],
   "source": [
    "(BahramFace['Intensification_Data'].shape, DJFace['Intensification_Data'].shape, \n",
    "NickFace['Intensification_Data'].shape, RoohiFace['Intensification_Data'].shape,\n",
    "SarahFace['Intensification_Data'].shape)"
   ]
  },
  {
   "cell_type": "code",
   "execution_count": 48,
   "metadata": {},
   "outputs": [],
   "source": [
    "FacesData = np.vstack(tup=(BahramFace['Intensification_Data'], \n",
    "                       DJFace['Intensification_Data'], \n",
    "                       NickFace['Intensification_Data'],\n",
    "                      RoohiFace['Intensification_Data'],\n",
    "                      SarahFace['Intensification_Data']))"
   ]
  },
  {
   "cell_type": "code",
   "execution_count": 53,
   "metadata": {},
   "outputs": [
    {
     "data": {
      "text/plain": [
       "((18720, 205, 16), dtype('<f8'))"
      ]
     },
     "execution_count": 53,
     "metadata": {},
     "output_type": "execute_result"
    }
   ],
   "source": [
    "FacesData.shape, FacesData.dtype"
   ]
  },
  {
   "cell_type": "code",
   "execution_count": 50,
   "metadata": {},
   "outputs": [],
   "source": [
    "FacesLabel = np.vstack(tup=(BahramFace['Intensification_Label'], \n",
    "                       DJFace['Intensification_Label'], \n",
    "                       NickFace['Intensification_Label'],\n",
    "                      RoohiFace['Intensification_Label'],\n",
    "                      SarahFace['Intensification_Label']))"
   ]
  },
  {
   "cell_type": "code",
   "execution_count": 52,
   "metadata": {},
   "outputs": [
    {
     "data": {
      "text/plain": [
       "((18720, 1), dtype('uint8'))"
      ]
     },
     "execution_count": 52,
     "metadata": {},
     "output_type": "execute_result"
    }
   ],
   "source": [
    "FacesLabel.shape, FacesLabel.dtype"
   ]
  }
 ],
 "metadata": {
  "kernelspec": {
   "display_name": "Python 3",
   "language": "python",
   "name": "python3"
  },
  "language_info": {
   "codemirror_mode": {
    "name": "ipython",
    "version": 3
   },
   "file_extension": ".py",
   "mimetype": "text/x-python",
   "name": "python",
   "nbconvert_exporter": "python",
   "pygments_lexer": "ipython3",
   "version": "3.6.3"
  }
 },
 "nbformat": 4,
 "nbformat_minor": 2
}
