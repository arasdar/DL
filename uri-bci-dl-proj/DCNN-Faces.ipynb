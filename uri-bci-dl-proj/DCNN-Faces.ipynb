{
 "cells": [
  {
   "cell_type": "code",
   "execution_count": 1,
   "metadata": {},
   "outputs": [
    {
     "name": "stdout",
     "output_type": "stream",
     "text": [
      "(31200, 205, 16) float64 (31200, 1) uint8\n",
      "0.5 0.5\n",
      "[2]\n"
     ]
    }
   ],
   "source": [
    "# Read the data\n",
    "import scipy.io as spio\n",
    "import numpy as np\n",
    "\n",
    "BahramFace = spio.loadmat(file_name='/home/arasdar/datasets/bci-project-data-RAW/BahramFace.mat')\n",
    "DJFace = spio.loadmat(file_name='/home/arasdar/datasets/bci-project-data-RAW/DJFace.mat')\n",
    "NickFace = spio.loadmat(file_name='/home/arasdar/datasets/bci-project-data-RAW/NickFace.mat')\n",
    "RoohiFace = spio.loadmat(file_name='/home/arasdar/datasets/bci-project-data-RAW/RoohiFace.mat')\n",
    "SarahFace = spio.loadmat(file_name='/home/arasdar/datasets/bci-project-data-RAW/SarahFace.mat')\n",
    "\n",
    "AllFacesData = np.concatenate((BahramFace['Intensification_Data'], \n",
    "                       DJFace['Intensification_Data'], \n",
    "                       NickFace['Intensification_Data'],\n",
    "                      RoohiFace['Intensification_Data'],\n",
    "                      SarahFace['Intensification_Data']), axis=0)\n",
    "\n",
    "AllFacesLabel = np.concatenate((BahramFace['Intensification_Label'],\n",
    "                               DJFace['Intensification_Label'],\n",
    "                               NickFace['Intensification_Label'],\n",
    "                               RoohiFace['Intensification_Label'],\n",
    "                               SarahFace['Intensification_Label']), axis=0)\n",
    "\n",
    "AllFacesLabelOne = (AllFacesLabel==1).reshape(-1)\n",
    "AllFacesData_LabelOne = AllFacesData[AllFacesLabelOne]\n",
    "\n",
    "AllFacesLabelZero = (AllFacesLabel==0).reshape(-1)\n",
    "AllFacesData_LabelZero = AllFacesData[AllFacesLabelZero]\n",
    "\n",
    "# Linear synthetic data augmentatiion or creation or generation\n",
    "AllFacesData_LabelOneNew_list = []\n",
    "\n",
    "# w*data+b: translation, rotation, and scaling\n",
    "# linear transformation of the target data\n",
    "w, b = 1.0, 0.0\n",
    "for idx in range(5):\n",
    "    AllFacesData_LabelOneNew = (w * AllFacesData_LabelOne) + b\n",
    "    AllFacesData_LabelOneNew_list.append(AllFacesData_LabelOneNew)\n",
    "    w *= 0.9 # 1.0, 0.9, 0.81, 0.729\n",
    "    b += 0.1 # 0.1, 0.2, 0.3\n",
    "\n",
    "AllFacesData_LabelOneNew_total = np.array(AllFacesData_LabelOneNew_list, \n",
    "                                      dtype=AllFacesData_LabelOne.dtype).reshape(-1, 205, 16)\n",
    "\n",
    "AllFacesDataNew = np.concatenate((AllFacesData_LabelOneNew_total, AllFacesData_LabelZero), axis=0)\n",
    "\n",
    "AllFacesLabelNew = np.concatenate((AllFacesLabel[AllFacesLabelZero], # Tgt = 6*Non-Tgt\n",
    "                                   AllFacesLabel[AllFacesLabelOne],\n",
    "                                   AllFacesLabel[AllFacesLabelOne],\n",
    "                                   AllFacesLabel[AllFacesLabelOne], \n",
    "                                   AllFacesLabel[AllFacesLabelOne], \n",
    "                                   AllFacesLabel[AllFacesLabelOne]), axis=0)\n",
    "\n",
    "print(AllFacesDataNew.shape, AllFacesDataNew.dtype, AllFacesLabelNew.shape, AllFacesLabelNew.dtype)\n",
    "print(np.mean(AllFacesLabelNew==0), np.mean(AllFacesLabelNew==1))\n",
    "print((AllFacesLabelNew +  1).max(axis=0))"
   ]
  },
  {
   "cell_type": "code",
   "execution_count": 3,
   "metadata": {},
   "outputs": [
    {
     "name": "stdout",
     "output_type": "stream",
     "text": [
      "(21840, 205, 16) (9360, 205, 16) (21840, 1) (9360, 1)\n"
     ]
    }
   ],
   "source": [
    "# Train and test split\n",
    "from sklearn.model_selection import train_test_split\n",
    "\n",
    "X_train_valid, X_test, Y_train_valid, Y_test = train_test_split(AllFacesDataNew, AllFacesLabelNew, \n",
    "                                                                test_size=0.30)\n",
    "\n",
    "print(X_train_valid.shape, X_test.shape, Y_train_valid.shape, Y_test.shape)"
   ]
  },
  {
   "cell_type": "code",
   "execution_count": 15,
   "metadata": {},
   "outputs": [
    {
     "name": "stdout",
     "output_type": "stream",
     "text": [
      "0.0 0.49706959707 0.50293040293 0.0\n",
      "(21840, 2) float64 (9360, 2) float64\n"
     ]
    }
   ],
   "source": [
    "# Pre-processing input and output data\n",
    "from utilities import *\n",
    "\n",
    "# Normalizing the input data\n",
    "X_train_valid_norm, X_test_norm = standardize(test=X_test, train=X_train_valid)\n",
    "\n",
    "# # Onehot encoding/vectorizing the output labels/ data\n",
    "print(np.mean((Y_train_valid+1).reshape(-1)==0), np.mean((Y_train_valid+1).reshape(-1)==1),\n",
    "     np.mean((Y_train_valid+1).reshape(-1)==2), np.mean((Y_train_valid+1).reshape(-1)==3))\n",
    "\n",
    "Y_train_valid_onehot = one_hot(labels=(Y_train_valid+1).reshape(-1), n_class=2) \n",
    "Y_test_onehot = one_hot(labels=(Y_test+1).reshape(-1), n_class=2) \n",
    "\n",
    "print(Y_train_valid_onehot.shape, Y_train_valid_onehot.dtype, \n",
    "      Y_test_onehot.shape, Y_test_onehot.dtype)"
   ]
  },
  {
   "cell_type": "code",
   "execution_count": 16,
   "metadata": {},
   "outputs": [
    {
     "name": "stdout",
     "output_type": "stream",
     "text": [
      "(15288, 205, 16) (6552, 205, 16) (15288, 2) (6552, 2)\n"
     ]
    }
   ],
   "source": [
    "# Train and valid split\n",
    "# from sklearn.model_selection import train_test_split\n",
    "\n",
    "X_train_norm, X_valid_norm, Y_train_onehot, Y_valid_onehot = train_test_split(X_train_valid_norm, \n",
    "                                                                              Y_train_valid_onehot,\n",
    "                                                                              test_size=0.30)\n",
    "\n",
    "print(X_train_norm.shape, X_valid_norm.shape, Y_train_onehot.shape, Y_valid_onehot.shape)"
   ]
  },
  {
   "cell_type": "code",
   "execution_count": 17,
   "metadata": {},
   "outputs": [
    {
     "name": "stdout",
     "output_type": "stream",
     "text": [
      "batch_size, seq_len, n_channels 152 205 16\n",
      "n_classes [2]\n"
     ]
    }
   ],
   "source": [
    "### Hyperparameters\n",
    "\n",
    "# Input data\n",
    "batch_size = X_train_norm.shape[0]// 100 # minibatch size & number of minibatches\n",
    "seq_len = X_train_norm.shape[1] # Number of steps: each trial length\n",
    "n_channels = X_train_norm.shape[2] # number of channels in each trial\n",
    "print('batch_size, seq_len, n_channels', batch_size, seq_len, n_channels)\n",
    "\n",
    "# Output labels\n",
    "n_classes = Y_train_valid.max(axis=0)+1\n",
    "assert Y_train_valid.max(axis=0) == Y_test.max(axis=0)\n",
    "print('n_classes', n_classes)\n",
    "\n",
    "# learning parameters\n",
    "learning_rate = 0.0001 #1e-4\n",
    "epochs = 100 # num iterations for updating model\n",
    "keep_prob = 0.50 # 90% neurons are kept and 10% are dropped out"
   ]
  },
  {
   "cell_type": "code",
   "execution_count": 18,
   "metadata": {},
   "outputs": [
    {
     "name": "stdout",
     "output_type": "stream",
     "text": [
      "TensorFlow Version: 1.3.0\n",
      "Default GPU Device: /gpu:0\n"
     ]
    }
   ],
   "source": [
    "# GPUs or CPU\n",
    "import tensorflow as tf\n",
    "\n",
    "# Check TensorFlow Version\n",
    "print('TensorFlow Version: {}'.format(tf.__version__))\n",
    "\n",
    "# Check for a GPU\n",
    "print('Default GPU Device: {}'.format(tf.test.gpu_device_name()))"
   ]
  },
  {
   "cell_type": "code",
   "execution_count": 19,
   "metadata": {},
   "outputs": [],
   "source": [
    "#  Buffering/ placeholders to transfer the data from py to tf\n",
    "inputs_ = tf.placeholder(tf.float32, [None, seq_len, n_channels], name = 'inputs_')\n",
    "labels_ = tf.placeholder(tf.float32, [None, n_classes], name = 'labels_')\n",
    "keep_prob_ = tf.placeholder(tf.float32, name = 'keep_prob_')\n",
    "learning_rate_ = tf.placeholder(tf.float32, name = 'learning_rate_')# Construct the LSTM inputs and LSTM cells"
   ]
  },
  {
   "cell_type": "code",
   "execution_count": 20,
   "metadata": {},
   "outputs": [
    {
     "name": "stdout",
     "output_type": "stream",
     "text": [
      "(?, 205, 16) (?, 204, 32) (?, 102, 32)\n",
      "(?, 102, 32) (?, 102, 64) (?, 51, 64)\n",
      "(?, 51, 64) (?, 50, 128) (?, 25, 128)\n",
      "(?, 25, 128) (?, 24, 256) (?, 12, 256)\n",
      "(?, 12, 256) (?, 3072) (?, 2)\n"
     ]
    }
   ],
   "source": [
    "# with graph.as_default():\n",
    "# batch_size, seq_len, n_channels: 218 205 16\n",
    "# (batch, 205, 16) --> (batch, 102, 32)\n",
    "# conv valid: (205-2+0)/1 + 1 = (203/1)+1 = 203 + 1=204\n",
    "# pool same: (204-2+0)/2 + 1 = (202/2)+1 = 101 + 1=102\n",
    "conv1 = tf.layers.conv1d(inputs=inputs_, filters=32, kernel_size=2, strides=1, padding='valid', \n",
    "                         activation = tf.nn.relu)\n",
    "max_pool_1 = tf.layers.max_pooling1d(inputs=conv1, pool_size=2, strides=2, padding='same')\n",
    "# max_pool_1 = tf.nn.dropout(max_pool_1, keep_prob=keep_prob_)\n",
    "print(inputs_.shape, conv1.shape, max_pool_1.shape)\n",
    "\n",
    "# (batch, 102, 32) --> (batch, 51, 64)\n",
    "# conv same\n",
    "# pool same: (102-2+0)/2 + 1 = (100/2)+1 = 50 + 1=51\n",
    "conv2 = tf.layers.conv1d(inputs=max_pool_1, filters=64, kernel_size=2, strides=1, padding='same', \n",
    "                         activation = tf.nn.relu)\n",
    "max_pool_2 = tf.layers.max_pooling1d(inputs=conv2, pool_size=2, strides=2, padding='same')\n",
    "# max_pool_2 = tf.nn.dropout(max_pool_2, keep_prob=keep_prob_)\n",
    "print(max_pool_1.shape, conv2.shape, max_pool_2.shape)\n",
    "\n",
    "# (batch, 51, 64) --> (batch, 25, 128)\n",
    "# conv valid: (51-2+0)/1 + 1 = (49/1)+1 = 49 + 1=50\n",
    "# pool same: (50-2+0)/2 + 1 = (48/2)+1 = 24 + 1=25\n",
    "conv3 = tf.layers.conv1d(inputs=max_pool_2, filters=128, kernel_size=2, strides=1, padding='valid', \n",
    "                         activation = tf.nn.relu)\n",
    "max_pool_3 = tf.layers.max_pooling1d(inputs=conv3, pool_size=2, strides=2, padding='same')\n",
    "# max_pool_3 = tf.nn.dropout(max_pool_3, keep_prob=keep_prob_)\n",
    "print(max_pool_2.shape, conv3.shape, max_pool_3.shape)\n",
    "\n",
    "# (batch, 25, 128) --> (batch, 12, 256)\n",
    "# conv valid: (25-2+0)/1 + 1 = (23/1)+1 = 23 + 1=24\n",
    "# pool same: (24-2+0)/2 + 1 = (22/2)+1 = 11 + 1=12\n",
    "conv4 = tf.layers.conv1d(inputs=max_pool_3, filters=256, kernel_size=2, strides=1, padding='valid', \n",
    "                         activation = tf.nn.relu)\n",
    "max_pool_4 = tf.layers.max_pooling1d(inputs=conv4, pool_size=3, strides=2, padding='same')\n",
    "# max_pool_4 = tf.nn.dropout(max_pool_4, keep_prob=keep_prob_)\n",
    "print(max_pool_3.shape, conv4.shape, max_pool_4.shape)\n",
    "\n",
    "# Flatten and add dropout + predicted output\n",
    "flat = tf.reshape(max_pool_4, (-1, 12*256))\n",
    "flat = tf.nn.dropout(flat, keep_prob=keep_prob_)\n",
    "logits = tf.layers.dense(flat, n_classes)\n",
    "print(max_pool_4.shape, flat.shape, logits.shape)"
   ]
  },
  {
   "cell_type": "code",
   "execution_count": 21,
   "metadata": {},
   "outputs": [
    {
     "name": "stdout",
     "output_type": "stream",
     "text": [
      "Tensor(\"Equal:0\", shape=(?,), dtype=bool) Tensor(\"accuracy:0\", shape=(), dtype=float32)\n"
     ]
    }
   ],
   "source": [
    "# Backward pass: error backpropagation\n",
    "# Cost function\n",
    "cost_tensor = tf.nn.softmax_cross_entropy_with_logits(logits=logits, labels=labels_)\n",
    "cost = tf.reduce_mean(input_tensor=cost_tensor)\n",
    "\n",
    "# Optimizer\n",
    "optimizer = tf.train.AdamOptimizer(learning_rate=learning_rate_).minimize(cost)\n",
    "\n",
    "# Accuracy\n",
    "correct_pred = tf.equal(tf.argmax(logits, 1), tf.argmax(labels_, 1))\n",
    "accuracy = tf.reduce_mean(tf.cast(correct_pred, tf.float32), name='accuracy')\n",
    "print(correct_pred, accuracy)"
   ]
  },
  {
   "cell_type": "code",
   "execution_count": 22,
   "metadata": {},
   "outputs": [
    {
     "name": "stdout",
     "output_type": "stream",
     "text": [
      "Epoch: 1/100 Train loss: 0.678172 Valid loss: 0.661596 Train acc: 0.563487 Valid acc: 0.619019\n",
      "Epoch: 2/100 Train loss: 0.644113 Valid loss: 0.629959 Train acc: 0.628158 Valid acc: 0.674269\n",
      "Epoch: 3/100 Train loss: 0.606745 Valid loss: 0.592272 Train acc: 0.671952 Valid acc: 0.710350\n",
      "Epoch: 4/100 Train loss: 0.572613 Valid loss: 0.557342 Train acc: 0.702368 Valid acc: 0.736523\n",
      "Epoch: 5/100 Train loss: 0.542567 Valid loss: 0.527502 Train acc: 0.725408 Valid acc: 0.756186\n",
      "Epoch: 6/100 Train loss: 0.517172 Valid loss: 0.502891 Train acc: 0.743465 Valid acc: 0.771129\n",
      "Epoch: 7/100 Train loss: 0.497417 Valid loss: 0.482885 Train acc: 0.757143 Valid acc: 0.782462\n",
      "Epoch: 8/100 Train loss: 0.480566 Valid loss: 0.466299 Train acc: 0.769005 Valid acc: 0.791584\n",
      "Epoch: 9/100 Train loss: 0.466219 Valid loss: 0.452268 Train acc: 0.778611 Valid acc: 0.799116\n",
      "Epoch: 10/100 Train loss: 0.453342 Valid loss: 0.440239 Train acc: 0.786835 Valid acc: 0.805441\n",
      "Epoch: 11/100 Train loss: 0.442413 Valid loss: 0.429795 Train acc: 0.793888 Valid acc: 0.810832\n",
      "Epoch: 12/100 Train loss: 0.432969 Valid loss: 0.420749 Train acc: 0.799764 Valid acc: 0.815495\n",
      "Epoch: 13/100 Train loss: 0.424480 Valid loss: 0.412567 Train acc: 0.804823 Valid acc: 0.819670\n",
      "Epoch: 14/100 Train loss: 0.416658 Valid loss: 0.405312 Train acc: 0.809624 Valid acc: 0.823334\n",
      "Epoch: 15/100 Train loss: 0.409527 Valid loss: 0.398771 Train acc: 0.813978 Valid acc: 0.826639\n",
      "Epoch: 16/100 Train loss: 0.403121 Valid loss: 0.392842 Train acc: 0.817780 Valid acc: 0.829596\n",
      "Epoch: 17/100 Train loss: 0.397072 Valid loss: 0.387488 Train acc: 0.821354 Valid acc: 0.832331\n",
      "Epoch: 18/100 Train loss: 0.391231 Valid loss: 0.382406 Train acc: 0.824748 Valid acc: 0.834894\n",
      "Epoch: 19/100 Train loss: 0.385876 Valid loss: 0.377750 Train acc: 0.827742 Valid acc: 0.837213\n",
      "Epoch: 20/100 Train loss: 0.381068 Valid loss: 0.373445 Train acc: 0.830312 Valid acc: 0.839356\n",
      "Epoch: 21/100 Train loss: 0.376231 Valid loss: 0.369365 Train acc: 0.833080 Valid acc: 0.841371\n",
      "Epoch: 22/100 Train loss: 0.371850 Valid loss: 0.365540 Train acc: 0.835484 Valid acc: 0.843295\n",
      "Epoch: 23/100 Train loss: 0.367561 Valid loss: 0.361914 Train acc: 0.837898 Valid acc: 0.845089\n",
      "Epoch: 24/100 Train loss: 0.363678 Valid loss: 0.358572 Train acc: 0.839978 Valid acc: 0.846755\n",
      "Epoch: 25/100 Train loss: 0.359891 Valid loss: 0.355345 Train acc: 0.842011 Valid acc: 0.848365\n",
      "Epoch: 26/100 Train loss: 0.356275 Valid loss: 0.352297 Train acc: 0.843945 Valid acc: 0.849868\n",
      "Epoch: 27/100 Train loss: 0.352893 Valid loss: 0.349440 Train acc: 0.845787 Valid acc: 0.851321\n",
      "Epoch: 28/100 Train loss: 0.349624 Valid loss: 0.346641 Train acc: 0.847554 Valid acc: 0.852703\n",
      "Epoch: 29/100 Train loss: 0.346495 Valid loss: 0.343995 Train acc: 0.849267 Valid acc: 0.854013\n",
      "Epoch: 30/100 Train loss: 0.343372 Valid loss: 0.341476 Train acc: 0.850882 Valid acc: 0.855238\n",
      "Epoch: 31/100 Train loss: 0.340432 Valid loss: 0.339084 Train acc: 0.852426 Valid acc: 0.856421\n",
      "Epoch: 32/100 Train loss: 0.337494 Valid loss: 0.336726 Train acc: 0.853995 Valid acc: 0.857576\n",
      "Epoch: 33/100 Train loss: 0.334843 Valid loss: 0.334500 Train acc: 0.855393 Valid acc: 0.858676\n",
      "Epoch: 34/100 Train loss: 0.332133 Valid loss: 0.332305 Train acc: 0.856796 Valid acc: 0.859748\n",
      "Epoch: 35/100 Train loss: 0.329395 Valid loss: 0.330170 Train acc: 0.858192 Valid acc: 0.860779\n",
      "Epoch: 36/100 Train loss: 0.326819 Valid loss: 0.328114 Train acc: 0.859529 Valid acc: 0.861760\n",
      "Epoch: 37/100 Train loss: 0.324433 Valid loss: 0.326149 Train acc: 0.860770 Valid acc: 0.862700\n",
      "Epoch: 38/100 Train loss: 0.321997 Valid loss: 0.324227 Train acc: 0.862008 Valid acc: 0.863607\n",
      "Epoch: 39/100 Train loss: 0.319668 Valid loss: 0.322415 Train acc: 0.863256 Valid acc: 0.864466\n",
      "Epoch: 40/100 Train loss: 0.317335 Valid loss: 0.320604 Train acc: 0.864424 Valid acc: 0.865313\n",
      "Epoch: 41/100 Train loss: 0.315154 Valid loss: 0.318858 Train acc: 0.865510 Valid acc: 0.866131\n",
      "Epoch: 42/100 Train loss: 0.312968 Valid loss: 0.317120 Train acc: 0.866653 Valid acc: 0.866937\n",
      "Epoch: 43/100 Train loss: 0.310797 Valid loss: 0.315441 Train acc: 0.867820 Valid acc: 0.867725\n",
      "Epoch: 44/100 Train loss: 0.308761 Valid loss: 0.313869 Train acc: 0.868792 Valid acc: 0.868467\n",
      "Epoch: 45/100 Train loss: 0.306718 Valid loss: 0.312332 Train acc: 0.869827 Valid acc: 0.869185\n",
      "Epoch: 46/100 Train loss: 0.304767 Valid loss: 0.310847 Train acc: 0.870804 Valid acc: 0.869866\n",
      "Epoch: 47/100 Train loss: 0.302836 Valid loss: 0.309361 Train acc: 0.871771 Valid acc: 0.870543\n",
      "Epoch: 48/100 Train loss: 0.300844 Valid loss: 0.307885 Train acc: 0.872741 Valid acc: 0.871215\n",
      "Epoch: 49/100 Train loss: 0.298924 Valid loss: 0.306459 Train acc: 0.873692 Valid acc: 0.871862\n",
      "Epoch: 50/100 Train loss: 0.296955 Valid loss: 0.305075 Train acc: 0.874646 Valid acc: 0.872490\n",
      "Epoch: 51/100 Train loss: 0.295088 Valid loss: 0.303694 Train acc: 0.875562 Valid acc: 0.873111\n",
      "Epoch: 52/100 Train loss: 0.293298 Valid loss: 0.302431 Train acc: 0.876406 Valid acc: 0.873686\n",
      "Epoch: 53/100 Train loss: 0.291511 Valid loss: 0.301145 Train acc: 0.877243 Valid acc: 0.874267\n",
      "Epoch: 54/100 Train loss: 0.289750 Valid loss: 0.299896 Train acc: 0.878082 Valid acc: 0.874824\n",
      "Epoch: 55/100 Train loss: 0.288002 Valid loss: 0.298647 Train acc: 0.878911 Valid acc: 0.875381\n",
      "Epoch: 56/100 Train loss: 0.286331 Valid loss: 0.297457 Train acc: 0.879700 Valid acc: 0.875917\n",
      "Epoch: 57/100 Train loss: 0.284682 Valid loss: 0.296273 Train acc: 0.880503 Valid acc: 0.876446\n",
      "Epoch: 58/100 Train loss: 0.283050 Valid loss: 0.295115 Train acc: 0.881291 Valid acc: 0.876962\n",
      "Epoch: 59/100 Train loss: 0.281419 Valid loss: 0.293953 Train acc: 0.882081 Valid acc: 0.877483\n",
      "Epoch: 60/100 Train loss: 0.279821 Valid loss: 0.292832 Train acc: 0.882834 Valid acc: 0.877984\n",
      "Epoch: 61/100 Train loss: 0.278269 Valid loss: 0.291787 Train acc: 0.883566 Valid acc: 0.878452\n",
      "Epoch: 62/100 Train loss: 0.276749 Valid loss: 0.290744 Train acc: 0.884329 Valid acc: 0.878924\n",
      "Epoch: 63/100 Train loss: 0.275184 Valid loss: 0.289675 Train acc: 0.885109 Valid acc: 0.879398\n",
      "Epoch: 64/100 Train loss: 0.273683 Valid loss: 0.288655 Train acc: 0.885814 Valid acc: 0.879856\n",
      "Epoch: 65/100 Train loss: 0.272209 Valid loss: 0.287631 Train acc: 0.886521 Valid acc: 0.880310\n",
      "Epoch: 66/100 Train loss: 0.270772 Valid loss: 0.286643 Train acc: 0.887193 Valid acc: 0.880743\n",
      "Epoch: 67/100 Train loss: 0.269329 Valid loss: 0.285658 Train acc: 0.887864 Valid acc: 0.881171\n",
      "Epoch: 68/100 Train loss: 0.267893 Valid loss: 0.284711 Train acc: 0.888540 Valid acc: 0.881579\n",
      "Epoch: 69/100 Train loss: 0.266480 Valid loss: 0.283777 Train acc: 0.889182 Valid acc: 0.881986\n",
      "Epoch: 70/100 Train loss: 0.265072 Valid loss: 0.282855 Train acc: 0.889836 Valid acc: 0.882386\n",
      "Epoch: 71/100 Train loss: 0.263699 Valid loss: 0.281957 Train acc: 0.890511 Valid acc: 0.882783\n",
      "Epoch: 72/100 Train loss: 0.262358 Valid loss: 0.281055 Train acc: 0.891144 Valid acc: 0.883183\n",
      "Epoch: 73/100 Train loss: 0.261011 Valid loss: 0.280184 Train acc: 0.891763 Valid acc: 0.883559\n",
      "Epoch: 74/100 Train loss: 0.259644 Valid loss: 0.279321 Train acc: 0.892399 Valid acc: 0.883935\n",
      "Epoch: 75/100 Train loss: 0.258356 Valid loss: 0.278511 Train acc: 0.893006 Valid acc: 0.884288\n",
      "Epoch: 76/100 Train loss: 0.257055 Valid loss: 0.277743 Train acc: 0.893597 Valid acc: 0.884636\n",
      "Epoch: 77/100 Train loss: 0.255782 Valid loss: 0.276958 Train acc: 0.894180 Valid acc: 0.884981\n",
      "Epoch: 78/100 Train loss: 0.254452 Valid loss: 0.276149 Train acc: 0.894798 Valid acc: 0.885332\n",
      "Epoch: 79/100 Train loss: 0.253174 Valid loss: 0.275353 Train acc: 0.895396 Valid acc: 0.885685\n",
      "Epoch: 80/100 Train loss: 0.251960 Valid loss: 0.274601 Train acc: 0.895979 Valid acc: 0.886019\n",
      "Epoch: 81/100 Train loss: 0.250720 Valid loss: 0.273829 Train acc: 0.896545 Valid acc: 0.886356\n",
      "Epoch: 82/100 Train loss: 0.249523 Valid loss: 0.273077 Train acc: 0.897080 Valid acc: 0.886687\n",
      "Epoch: 83/100 Train loss: 0.248304 Valid loss: 0.272297 Train acc: 0.897638 Valid acc: 0.887022\n",
      "Epoch: 84/100 Train loss: 0.247107 Valid loss: 0.271565 Train acc: 0.898195 Valid acc: 0.887344\n",
      "Epoch: 85/100 Train loss: 0.245907 Valid loss: 0.270858 Train acc: 0.898754 Valid acc: 0.887661\n",
      "Epoch: 86/100 Train loss: 0.244737 Valid loss: 0.270136 Train acc: 0.899271 Valid acc: 0.887973\n"
     ]
    },
    {
     "name": "stdout",
     "output_type": "stream",
     "text": [
      "Epoch: 87/100 Train loss: 0.243544 Valid loss: 0.269409 Train acc: 0.899827 Valid acc: 0.888282\n",
      "Epoch: 88/100 Train loss: 0.242371 Valid loss: 0.268684 Train acc: 0.900353 Valid acc: 0.888589\n",
      "Epoch: 89/100 Train loss: 0.241225 Valid loss: 0.267988 Train acc: 0.900900 Valid acc: 0.888883\n",
      "Epoch: 90/100 Train loss: 0.240082 Valid loss: 0.267300 Train acc: 0.901434 Valid acc: 0.889181\n",
      "Epoch: 91/100 Train loss: 0.239011 Valid loss: 0.266693 Train acc: 0.901941 Valid acc: 0.889451\n",
      "Epoch: 92/100 Train loss: 0.237901 Valid loss: 0.266036 Train acc: 0.902443 Valid acc: 0.889730\n",
      "Epoch: 93/100 Train loss: 0.236761 Valid loss: 0.265393 Train acc: 0.902956 Valid acc: 0.890007\n",
      "Epoch: 94/100 Train loss: 0.235653 Valid loss: 0.264784 Train acc: 0.903483 Valid acc: 0.890274\n",
      "Epoch: 95/100 Train loss: 0.234584 Valid loss: 0.264188 Train acc: 0.903970 Valid acc: 0.890544\n",
      "Epoch: 96/100 Train loss: 0.233496 Valid loss: 0.263603 Train acc: 0.904462 Valid acc: 0.890808\n",
      "Epoch: 97/100 Train loss: 0.232419 Valid loss: 0.262981 Train acc: 0.904959 Valid acc: 0.891077\n",
      "Epoch: 98/100 Train loss: 0.231331 Valid loss: 0.262379 Train acc: 0.905446 Valid acc: 0.891342\n",
      "Epoch: 99/100 Train loss: 0.230242 Valid loss: 0.261787 Train acc: 0.905939 Valid acc: 0.891602\n",
      "Epoch: 100/100 Train loss: 0.229186 Valid loss: 0.261215 Train acc: 0.906404 Valid acc: 0.891855\n"
     ]
    }
   ],
   "source": [
    "train_acc, train_loss = [], []\n",
    "valid_acc, valid_loss = [], []\n",
    "\n",
    "# Save the training result or trained and validated model params\n",
    "saver = tf.train.Saver()\n",
    "\n",
    "with tf.Session() as sess:\n",
    "    sess.run(tf.global_variables_initializer())\n",
    "   \n",
    "    # Loop over epochs\n",
    "    for e in range(epochs):\n",
    "        \n",
    "        # Loop over batches\n",
    "        for x, y in get_batches(X_train_norm, Y_train_onehot, batch_size):\n",
    "            \n",
    "            ######################## Training\n",
    "            # Feed dictionary\n",
    "            feed = {inputs_ : x, labels_ : y, keep_prob_ : keep_prob, learning_rate_ : learning_rate}\n",
    "            \n",
    "            # Loss\n",
    "            loss, _ , acc = sess.run([cost, optimizer, accuracy], feed_dict = feed)\n",
    "            train_acc.append(acc)\n",
    "            train_loss.append(loss)\n",
    "            \n",
    "            ################## Validation\n",
    "            acc_batch = []\n",
    "            loss_batch = []    \n",
    "            # Loop over batches\n",
    "            for x, y in get_batches(X_valid_norm, Y_valid_onehot, batch_size):\n",
    "\n",
    "                # Feed dictionary\n",
    "                feed = {inputs_ : x, labels_ : y, keep_prob_ : 1.0}\n",
    "\n",
    "                # Loss\n",
    "                loss, acc = sess.run([cost, accuracy], feed_dict = feed)\n",
    "                acc_batch.append(acc)\n",
    "                loss_batch.append(loss)\n",
    "\n",
    "            # Store\n",
    "            valid_acc.append(np.mean(acc_batch))\n",
    "            valid_loss.append(np.mean(loss_batch))\n",
    "            \n",
    "        # Print info for every iter/epoch\n",
    "        print(\"Epoch: {}/{}\".format(e+1, epochs),\n",
    "              \"Train loss: {:6f}\".format(np.mean(train_loss)),\n",
    "              \"Valid loss: {:.6f}\".format(np.mean(valid_loss)),\n",
    "              \"Train acc: {:6f}\".format(np.mean(train_acc)),\n",
    "              \"Valid acc: {:.6f}\".format(np.mean(valid_acc)))\n",
    "                \n",
    "    saver.save(sess,\"checkpoints-cnn/har.ckpt\")"
   ]
  },
  {
   "cell_type": "code",
   "execution_count": 23,
   "metadata": {},
   "outputs": [
    {
     "data": {
      "image/png": "[encoded data removed]",
      "text/plain": [
       "<matplotlib.figure.Figure at 0x7f6211b44da0>"
      ]
     },
     "metadata": {},
     "output_type": "display_data"
    }
   ],
   "source": [
    "import matplotlib.pyplot as mplot\n",
    "\n",
    "mplot.plot(train_loss, label='train_loss')\n",
    "mplot.plot(valid_loss, label='valid_loss')\n",
    "mplot.legend()\n",
    "mplot.show()"
   ]
  },
  {
   "cell_type": "code",
   "execution_count": 24,
   "metadata": {},
   "outputs": [
    {
     "data": {
      "image/png": "[encoded data removed]",
      "text/plain": [
       "<matplotlib.figure.Figure at 0x7f61d6e7a4a8>"
      ]
     },
     "metadata": {},
     "output_type": "display_data"
    }
   ],
   "source": [
    "mplot.plot(train_acc, label='train_acc')\n",
    "mplot.plot(valid_acc, label='valid_acc')\n",
    "mplot.legend()\n",
    "mplot.show()"
   ]
  },
  {
   "cell_type": "code",
   "execution_count": 25,
   "metadata": {},
   "outputs": [
    {
     "name": "stdout",
     "output_type": "stream",
     "text": [
      "INFO:tensorflow:Restoring parameters from checkpoints-cnn/har.ckpt\n",
      "Test loss: 0.243053 Test acc: 0.905953\n"
     ]
    }
   ],
   "source": [
    "test_acc, test_loss = [], []\n",
    "\n",
    "with tf.Session() as sess:\n",
    "    # Restore the validated model\n",
    "    saver.restore(sess, tf.train.latest_checkpoint('checkpoints-cnn'))\n",
    "    \n",
    "    ################## Test\n",
    "    acc_batch = []\n",
    "    loss_batch = []    \n",
    "    # Loop over batches\n",
    "    for x, y in get_batches(X_test_norm, Y_test_onehot, batch_size):\n",
    "\n",
    "        # Feed dictionary\n",
    "        feed = {inputs_ : x, labels_ : y, keep_prob_ : 1.0}\n",
    "\n",
    "        # Loss\n",
    "        loss, acc = sess.run([cost, accuracy], feed_dict = feed)\n",
    "        acc_batch.append(acc)\n",
    "        loss_batch.append(loss)\n",
    "\n",
    "    # Store\n",
    "    test_acc.append(np.mean(acc_batch))\n",
    "    test_loss.append(np.mean(loss_batch))\n",
    "\n",
    "    # Print info for every iter/epoch\n",
    "    print(\"Test loss: {:6f}\".format(np.mean(test_loss)),\n",
    "          \"Test acc: {:.6f}\".format(np.mean(test_acc)))"
   ]
  },
  {
   "cell_type": "code",
   "execution_count": null,
   "metadata": {},
   "outputs": [],
   "source": []
  }
 ],
 "metadata": {
  "kernelspec": {
   "display_name": "Python 3",
   "language": "python",
   "name": "python3"
  },
  "language_info": {
   "codemirror_mode": {
    "name": "ipython",
    "version": 3
   },
   "file_extension": ".py",
   "mimetype": "text/x-python",
   "name": "python",
   "nbconvert_exporter": "python",
   "pygments_lexer": "ipython3",
   "version": "3.6.3"
  }
 },
 "nbformat": 4,
 "nbformat_minor": 2
}
