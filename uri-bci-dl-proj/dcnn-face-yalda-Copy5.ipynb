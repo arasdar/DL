{
 "cells": [
  {
   "cell_type": "code",
   "execution_count": 1,
   "metadata": {},
   "outputs": [
    {
     "name": "stdout",
     "output_type": "stream",
     "text": [
      "(18720, 205, 16) float64 (18720, 1) uint8\n",
      "0.833333333333 0.166666666667 0.0 0.0\n",
      "[2]\n"
     ]
    }
   ],
   "source": [
    "# Read the dataset\n",
    "import scipy.io as spio\n",
    "import numpy as np\n",
    "\n",
    "BahramFace = spio.loadmat(file_name='/home/arasdar/datasets/bci-project-data-RAW/BahramFace.mat')\n",
    "DJFace = spio.loadmat(file_name='/home/arasdar/datasets/bci-project-data-RAW/DJFace.mat')\n",
    "NickFace = spio.loadmat(file_name='/home/arasdar/datasets/bci-project-data-RAW/NickFace.mat')\n",
    "RoohiFace = spio.loadmat(file_name='/home/arasdar/datasets/bci-project-data-RAW/RoohiFace.mat')\n",
    "SarahFace = spio.loadmat(file_name='/home/arasdar/datasets/bci-project-data-RAW/SarahFace.mat')\n",
    "\n",
    "AllData = np.concatenate((BahramFace['Intensification_Data'],\n",
    "                            DJFace['Intensification_Data'],\n",
    "                            NickFace['Intensification_Data'],\n",
    "                            RoohiFace['Intensification_Data'],\n",
    "                            SarahFace['Intensification_Data']), axis=0)\n",
    "\n",
    "AllLabels = np.concatenate((BahramFace['Intensification_Label'],\n",
    "                            DJFace['Intensification_Label'],\n",
    "                            NickFace['Intensification_Label'],\n",
    "                            RoohiFace['Intensification_Label'],\n",
    "                            SarahFace['Intensification_Label']), axis=0)\n",
    "\n",
    "print(AllData.shape, AllData.dtype, AllLabels.shape, AllLabels.dtype)\n",
    "print(np.mean(AllLabels==0), np.mean(AllLabels==1), np.mean(AllLabels==2), np.mean(AllLabels==3))\n",
    "print((AllLabels +  1).max(axis=0))"
   ]
  },
  {
   "cell_type": "code",
   "execution_count": 2,
   "metadata": {},
   "outputs": [
    {
     "name": "stdout",
     "output_type": "stream",
     "text": [
      "(13104, 205, 16) (5616, 205, 16) (13104, 1) (5616, 1)\n"
     ]
    }
   ],
   "source": [
    "# Train and test split\n",
    "from sklearn.model_selection import train_test_split\n",
    "\n",
    "X_train_valid, X_test, Y_train_valid, Y_test = train_test_split(AllData, AllLabels, test_size=0.30)\n",
    "\n",
    "print(X_train_valid.shape, X_test.shape, Y_train_valid.shape, Y_test.shape)"
   ]
  },
  {
   "cell_type": "code",
   "execution_count": 3,
   "metadata": {},
   "outputs": [
    {
     "name": "stdout",
     "output_type": "stream",
     "text": [
      "0.0 0.831043956044 0.168956043956 0.0\n",
      "0.0 0.838675213675 0.161324786325 0.0\n",
      "(5616, 2) float64\n"
     ]
    }
   ],
   "source": [
    "from utilities import *\n",
    "\n",
    "# Normalizing/standardizing the input data features\n",
    "X_train_valid_norm, X_test_norm = standardize(test=X_test, train=X_train_valid)\n",
    "\n",
    "# Onehot encoding/vectorizing the output data labels\n",
    "print(np.mean((Y_train_valid+1).reshape(-1)==0), np.mean((Y_train_valid+1).reshape(-1)==1),\n",
    "     np.mean((Y_train_valid+1).reshape(-1)==2), np.mean((Y_train_valid+1).reshape(-1)==3))\n",
    "\n",
    "print(np.mean((Y_test+1).reshape(-1)==0), np.mean((Y_test+1).reshape(-1)==1),\n",
    "     np.mean((Y_test+1).reshape(-1)==2), np.mean((Y_test+1).reshape(-1)==3))\n",
    "\n",
    "# Y_train_valid_onehot = one_hot(labels=(Y_train_valid+1).reshape(-1), n_class=2) \n",
    "# print(Y_train_valid_onehot.shape, Y_train_valid_onehot.dtype, \n",
    "Y_test_onehot = one_hot(labels=(Y_test+1).reshape(-1), n_class=2) \n",
    "print(Y_test_onehot.shape, Y_test_onehot.dtype)"
   ]
  },
  {
   "cell_type": "code",
   "execution_count": 4,
   "metadata": {},
   "outputs": [],
   "source": [
    "# X_train_valid, X_test, Y_train_valid, Y_test = train_test_split(AllData, AllLabels, test_size=0.30)\n",
    "X_train_norm, X_valid_norm, Y_train, Y_valid = train_test_split(X_train_valid_norm, Y_train_valid, \n",
    "                                                                              test_size=0.30)"
   ]
  },
  {
   "cell_type": "code",
   "execution_count": 5,
   "metadata": {},
   "outputs": [],
   "source": [
    "def get_batches2(X_norm, Y_labels):\n",
    "    # X normalized and Y NOT onehot encoded/vectorized\n",
    "    X, Y = X_norm, Y_labels\n",
    "    AllLabels = Y_labels # 100%\n",
    "\n",
    "    # non = 0 is 87%  AllLabelZero\n",
    "    # tgt = 1 is 13%  AllLabelOne\n",
    "    AllLabelZero = (AllLabels==0).reshape(-1) # 87%\n",
    "    AllLabelOne = (AllLabels==1).reshape(-1) # 13%\n",
    "\n",
    "    X_non, Y_non = X[AllLabelZero], Y[AllLabelZero] # 87%\n",
    "    X_tgt, Y_tgt = X[AllLabelOne], Y[AllLabelOne] # 13%\n",
    "    #     print('X_non.shape, Y_non.shape', X_non.shape, Y_non.shape)\n",
    "    #     print('X_tgt.shape, Y_tgt.shape', X_tgt.shape, Y_tgt.shape)\n",
    "\n",
    "    # Non-target batch size for get_batches from non-target data\n",
    "    batch_size = X_tgt.shape[0] # 13% -> tgt = 1 is 13%  AllLabelOne\n",
    "    assert X_tgt.shape[0] == Y_tgt.shape[0]\n",
    "#     print('batch_size', batch_size)\n",
    "    \n",
    "    # Convolvolutional minibatching technique\n",
    "    stride = batch_size\n",
    "    pad = 0\n",
    "    kernel_size = batch_size\n",
    "    inputs, filters, kernel_size, strides, padding = X_non, 1, batch_size, batch_size//2, 0\n",
    "#     print('inputs.shape, filters, kernel_size, strides, padding', \n",
    "#           inputs.shape, filters, kernel_size, strides, padding)\n",
    "    n_batches = (inputs.shape[0] - kernel_size + (2*padding))//strides  + 1 \n",
    "#     print('n_batches', n_batches)\n",
    "    \n",
    "    # Loop over target batches: start, stop, step\n",
    "    for i in range(0, n_batches, 1):\n",
    "        each_X_norm = np.concatenate((X_non[(i*strides):((i*strides)+kernel_size)], X_tgt), axis=0)\n",
    "        each_Y = np.concatenate((Y_non[(i*strides):((i*strides)+kernel_size)], Y_tgt), axis=0)\n",
    "        each_Y_onehot = one_hot(labels=(each_Y+1).reshape(-1), n_class=2)\n",
    "#         print('each_X_norm.shape, each_Y_onehot.shape', each_X_norm.shape, each_Y_onehot.shape)\n",
    "#         print('np.mean(each_Y==0), np.mean(each_Y==1)', np.mean(each_Y==0), np.mean(each_Y==1))\n",
    "        yield each_X_norm, each_Y_onehot"
   ]
  },
  {
   "cell_type": "code",
   "execution_count": 6,
   "metadata": {},
   "outputs": [
    {
     "data": {
      "text/plain": [
       "<generator object get_batches2 at 0x7f74e2675990>"
      ]
     },
     "execution_count": 6,
     "metadata": {},
     "output_type": "execute_result"
    }
   ],
   "source": [
    "get_batches2(X_norm=X_valid_norm, Y_labels=Y_valid)"
   ]
  },
  {
   "cell_type": "code",
   "execution_count": 7,
   "metadata": {},
   "outputs": [
    {
     "data": {
      "text/plain": [
       "<generator object get_batches2 at 0x7f74e2675ba0>"
      ]
     },
     "execution_count": 7,
     "metadata": {},
     "output_type": "execute_result"
    }
   ],
   "source": [
    "get_batches2(X_norm=X_train_norm, Y_labels=Y_train)"
   ]
  },
  {
   "cell_type": "code",
   "execution_count": 11,
   "metadata": {},
   "outputs": [
    {
     "name": "stdout",
     "output_type": "stream",
     "text": [
      "seq_len, n_channels 205 16\n",
      "n_classes [2]\n"
     ]
    }
   ],
   "source": [
    "## Hyperparameters\n",
    "# Input data\n",
    "# batch_size = X_train_norm.shape[0]// 100 # minibatch size & number of minibatches\n",
    "seq_len = X_train_norm.shape[1] # Number of steps: each trial length\n",
    "n_channels = X_train_norm.shape[2] # number of channels in each trial\n",
    "# print('batch_size, seq_len, n_channels', batch_size, seq_len, n_channels)\n",
    "print('seq_len, n_channels', seq_len, n_channels)\n",
    "\n",
    "# Output labels\n",
    "n_classes = Y_train_valid.max(axis=0)+1\n",
    "assert Y_train_valid.max(axis=0) == Y_test.max(axis=0)\n",
    "print('n_classes', n_classes)\n",
    "\n",
    "# learning parameters\n",
    "learning_rate = 0.0001 #1e-4\n",
    "epochs = 100 # num iterations for updating model\n",
    "keep_prob = 0.50 # 90% neurons are kept and 10% are dropped out"
   ]
  },
  {
   "cell_type": "code",
   "execution_count": 12,
   "metadata": {},
   "outputs": [
    {
     "name": "stdout",
     "output_type": "stream",
     "text": [
      "TensorFlow Version: 1.3.0\n",
      "Default GPU Device: /gpu:0\n"
     ]
    }
   ],
   "source": [
    "# GPUs or CPU\n",
    "import tensorflow as tf\n",
    "\n",
    "# Check TensorFlow Version\n",
    "print('TensorFlow Version: {}'.format(tf.__version__))\n",
    "\n",
    "# Check for a GPU\n",
    "print('Default GPU Device: {}'.format(tf.test.gpu_device_name()))"
   ]
  },
  {
   "cell_type": "code",
   "execution_count": 13,
   "metadata": {},
   "outputs": [
    {
     "name": "stdout",
     "output_type": "stream",
     "text": [
      "inputs_.shape, labels_.shape (?, 205, 16) (?, 2)\n"
     ]
    }
   ],
   "source": [
    "# Feed the data from python/numpy to tensorflow framework\n",
    "inputs_ = tf.placeholder(tf.float32, [None, seq_len, n_channels], name = 'inputs_')\n",
    "labels_ = tf.placeholder(tf.float32, [None, n_classes], name = 'labels_')\n",
    "keep_prob_ = tf.placeholder(tf.float32, name = 'keep_prob_')\n",
    "learning_rate_ = tf.placeholder(tf.float32, name = 'learning_rate_')\n",
    "print('inputs_.shape, labels_.shape', inputs_.shape, labels_.shape)"
   ]
  },
  {
   "cell_type": "code",
   "execution_count": 14,
   "metadata": {},
   "outputs": [
    {
     "name": "stdout",
     "output_type": "stream",
     "text": [
      "inputs_.shape, conv1.shape, max_pool_1.shape (?, 205, 16) (?, 204, 32) (?, 102, 32)\n",
      "max_pool_1.shape, conv2.shape, max_pool_2.shape (?, 102, 32) (?, 102, 64) (?, 51, 64)\n",
      "max_pool_2.shape, conv3.shape, max_pool_3.shape (?, 51, 64) (?, 50, 128) (?, 25, 128)\n",
      "max_pool_3.shape, conv4.shape, max_pool_4.shape (?, 25, 128) (?, 24, 256) (?, 12, 256)\n",
      "max_pool_4.shape, flat.shape, logits.shape (?, 12, 256) (?, 3072) (?, 2)\n"
     ]
    }
   ],
   "source": [
    "# inputs_.shape, labels_.shape (?, 205, 16) (?, 2)\n",
    "# (batch, 205, 16) --> (batch, 102, 32)\n",
    "# conv valid: (205-2+0)/1 + 1 = (203/1)+1 = 203 + 1=204\n",
    "# pool same: (204-2+0)/2 + 1 = (202/2)+1 = 101 + 1=102\n",
    "conv1 = tf.layers.conv1d(inputs=inputs_, filters=32, kernel_size=2, strides=1, padding='valid', \n",
    "                         activation = tf.nn.relu)\n",
    "max_pool_1 = tf.layers.max_pooling1d(inputs=conv1, pool_size=2, strides=2, padding='same')\n",
    "# max_pool_1 = tf.nn.dropout(max_pool_1, keep_prob=keep_prob_)\n",
    "print('inputs_.shape, conv1.shape, max_pool_1.shape', inputs_.shape, conv1.shape, max_pool_1.shape)\n",
    "\n",
    "# (batch, 102, 32) --> (batch, 51, 64)\n",
    "# conv same\n",
    "# pool same: (102-2+0)/2 + 1 = (100/2)+1 = 50 + 1=51\n",
    "conv2 = tf.layers.conv1d(inputs=max_pool_1, filters=64, kernel_size=2, strides=1, padding='same', \n",
    "                         activation = tf.nn.relu)\n",
    "max_pool_2 = tf.layers.max_pooling1d(inputs=conv2, pool_size=2, strides=2, padding='same')\n",
    "# max_pool_2 = tf.nn.dropout(max_pool_2, keep_prob=keep_prob_)\n",
    "print('max_pool_1.shape, conv2.shape, max_pool_2.shape', max_pool_1.shape, conv2.shape, max_pool_2.shape)\n",
    "\n",
    "# (batch, 51, 64) --> (batch, 25, 128)\n",
    "# conv valid: (51-2+0)/1 + 1 = (49/1)+1 = 49 + 1=50\n",
    "# pool same: (50-2+0)/2 + 1 = (48/2)+1 = 24 + 1=25\n",
    "conv3 = tf.layers.conv1d(inputs=max_pool_2, filters=128, kernel_size=2, strides=1, padding='valid', \n",
    "                         activation = tf.nn.relu)\n",
    "max_pool_3 = tf.layers.max_pooling1d(inputs=conv3, pool_size=2, strides=2, padding='same')\n",
    "# max_pool_3 = tf.nn.dropout(max_pool_3, keep_prob=keep_prob_)\n",
    "print('max_pool_2.shape, conv3.shape, max_pool_3.shape', max_pool_2.shape, conv3.shape, max_pool_3.shape)\n",
    "\n",
    "# (batch, 25, 128) --> (batch, 12, 256)\n",
    "# conv valid: (25-2+0)/1 + 1 = (23/1)+1 = 23 + 1=24\n",
    "# pool same: (24-2+0)/2 + 1 = (22/2)+1 = 11 + 1=12\n",
    "conv4 = tf.layers.conv1d(inputs=max_pool_3, filters=256, kernel_size=2, strides=1, padding='valid', \n",
    "                         activation = tf.nn.relu)\n",
    "max_pool_4 = tf.layers.max_pooling1d(inputs=conv4, pool_size=2, strides=2, padding='same')\n",
    "# max_pool_4 = tf.nn.dropout(max_pool_4, keep_prob=keep_prob_)\n",
    "print('max_pool_3.shape, conv4.shape, max_pool_4.shape', max_pool_3.shape, conv4.shape, max_pool_4.shape)\n",
    "\n",
    "# Flatten and add dropout + predicted output\n",
    "flat = tf.reshape(max_pool_4, (-1, 12*256))\n",
    "flat = tf.nn.dropout(flat, keep_prob=keep_prob_)\n",
    "logits = tf.layers.dense(flat, n_classes)\n",
    "print('max_pool_4.shape, flat.shape, logits.shape', max_pool_4.shape, flat.shape, logits.shape)"
   ]
  },
  {
   "cell_type": "code",
   "execution_count": 15,
   "metadata": {},
   "outputs": [
    {
     "name": "stdout",
     "output_type": "stream",
     "text": [
      "cost_tensor, cost Tensor(\"Reshape_3:0\", shape=(?,), dtype=float32) Tensor(\"Mean:0\", shape=(), dtype=float32)\n",
      "optimizer name: \"Adam\"\n",
      "op: \"NoOp\"\n",
      "input: \"^Adam/update_conv1d/kernel/ApplyAdam\"\n",
      "input: \"^Adam/update_conv1d/bias/ApplyAdam\"\n",
      "input: \"^Adam/update_conv1d_1/kernel/ApplyAdam\"\n",
      "input: \"^Adam/update_conv1d_1/bias/ApplyAdam\"\n",
      "input: \"^Adam/update_conv1d_2/kernel/ApplyAdam\"\n",
      "input: \"^Adam/update_conv1d_2/bias/ApplyAdam\"\n",
      "input: \"^Adam/update_conv1d_3/kernel/ApplyAdam\"\n",
      "input: \"^Adam/update_conv1d_3/bias/ApplyAdam\"\n",
      "input: \"^Adam/update_dense/kernel/ApplyAdam\"\n",
      "input: \"^Adam/update_dense/bias/ApplyAdam\"\n",
      "input: \"^Adam/Assign\"\n",
      "input: \"^Adam/Assign_1\"\n",
      "\n",
      "correct_pred, accuracy Tensor(\"Equal:0\", shape=(?,), dtype=bool) Tensor(\"accuracy:0\", shape=(), dtype=float32)\n",
      "confusion_matrix Tensor(\"confusion_matrix/SparseTensorDenseAdd:0\", shape=(?, ?), dtype=int32)\n"
     ]
    }
   ],
   "source": [
    "# Backward pass: error backpropagation\n",
    "# Cost function\n",
    "cost_tensor = tf.nn.softmax_cross_entropy_with_logits(logits=logits, labels=labels_)\n",
    "cost = tf.reduce_mean(input_tensor=cost_tensor)\n",
    "print('cost_tensor, cost', cost_tensor, cost)\n",
    "\n",
    "# Optimizer\n",
    "optimizer = tf.train.AdamOptimizer(learning_rate=learning_rate_).minimize(cost)\n",
    "print('optimizer', optimizer)\n",
    "\n",
    "# Accuracy\n",
    "correct_pred = tf.equal(tf.argmax(logits, 1), tf.argmax(labels_, 1))\n",
    "accuracy = tf.reduce_mean(tf.cast(correct_pred, tf.float32), name='accuracy')\n",
    "print('correct_pred, accuracy', correct_pred, accuracy)\n",
    "\n",
    "# Confusion matrix\n",
    "confusion_matrix = tf.confusion_matrix(predictions=tf.argmax(logits, 1),\n",
    "                                       labels=tf.argmax(labels_, 1))\n",
    "print('confusion_matrix', confusion_matrix)"
   ]
  },
  {
   "cell_type": "code",
   "execution_count": 16,
   "metadata": {},
   "outputs": [
    {
     "name": "stdout",
     "output_type": "stream",
     "text": [
      "Epoch: 1/100 Train loss: 0.728397 Valid loss: 0.710726 Train acc: 0.497673 Valid acc: 0.493997\n",
      "Epoch: 2/100 Train loss: 0.718811 Valid loss: 0.702720 Train acc: 0.505436 Valid acc: 0.505628\n",
      "Epoch: 3/100 Train loss: 0.711801 Valid loss: 0.697908 Train acc: 0.514628 Valid acc: 0.521512\n",
      "Epoch: 4/100 Train loss: 0.705422 Valid loss: 0.693076 Train acc: 0.525333 Valid acc: 0.541507\n",
      "Epoch: 5/100 Train loss: 0.699447 Valid loss: 0.688314 Train acc: 0.537507 Valid acc: 0.559813\n",
      "Epoch: 6/100 Train loss: 0.693864 Valid loss: 0.683538 Train acc: 0.549120 Valid acc: 0.575911\n",
      "Epoch: 7/100 Train loss: 0.687868 Valid loss: 0.678383 Train acc: 0.561934 Valid acc: 0.591040\n",
      "Epoch: 8/100 Train loss: 0.681668 Valid loss: 0.672769 Train acc: 0.574076 Valid acc: 0.605004\n",
      "Epoch: 9/100 Train loss: 0.675023 Valid loss: 0.666589 Train acc: 0.586315 Valid acc: 0.617495\n",
      "Epoch: 10/100 Train loss: 0.667769 Valid loss: 0.659810 Train acc: 0.598051 Valid acc: 0.628527\n",
      "Epoch: 11/100 Train loss: 0.660167 Valid loss: 0.652559 Train acc: 0.608827 Valid acc: 0.637912\n",
      "Epoch: 12/100 Train loss: 0.652108 Valid loss: 0.645025 Train acc: 0.618874 Valid acc: 0.646531\n",
      "Epoch: 13/100 Train loss: 0.644037 Valid loss: 0.637411 Train acc: 0.628208 Valid acc: 0.654163\n",
      "Epoch: 14/100 Train loss: 0.636043 Valid loss: 0.629883 Train acc: 0.636806 Valid acc: 0.661150\n",
      "Epoch: 15/100 Train loss: 0.628106 Valid loss: 0.622527 Train acc: 0.644738 Valid acc: 0.667599\n",
      "Epoch: 16/100 Train loss: 0.620236 Valid loss: 0.615377 Train acc: 0.652335 Valid acc: 0.673731\n",
      "Epoch: 17/100 Train loss: 0.612516 Valid loss: 0.608415 Train acc: 0.659406 Valid acc: 0.679723\n",
      "Epoch: 18/100 Train loss: 0.604921 Valid loss: 0.601644 Train acc: 0.666091 Valid acc: 0.685297\n",
      "Epoch: 19/100 Train loss: 0.597466 Valid loss: 0.595062 Train acc: 0.672365 Valid acc: 0.690617\n",
      "Epoch: 20/100 Train loss: 0.590139 Valid loss: 0.588687 Train acc: 0.678487 Valid acc: 0.695509\n",
      "Epoch: 21/100 Train loss: 0.583024 Valid loss: 0.582533 Train acc: 0.684257 Valid acc: 0.700111\n",
      "Epoch: 22/100 Train loss: 0.576146 Valid loss: 0.576617 Train acc: 0.689719 Valid acc: 0.704450\n",
      "Epoch: 23/100 Train loss: 0.569508 Valid loss: 0.570960 Train acc: 0.694851 Valid acc: 0.708543\n",
      "Epoch: 24/100 Train loss: 0.563103 Valid loss: 0.565571 Train acc: 0.699807 Valid acc: 0.712343\n",
      "Epoch: 25/100 Train loss: 0.556958 Valid loss: 0.560451 Train acc: 0.704504 Valid acc: 0.715873\n",
      "Epoch: 26/100 Train loss: 0.551066 Valid loss: 0.555589 Train acc: 0.709048 Valid acc: 0.719325\n",
      "Epoch: 27/100 Train loss: 0.545452 Valid loss: 0.550964 Train acc: 0.713309 Valid acc: 0.722700\n",
      "Epoch: 28/100 Train loss: 0.540072 Valid loss: 0.546571 Train acc: 0.717359 Valid acc: 0.725912\n",
      "Epoch: 29/100 Train loss: 0.534835 Valid loss: 0.542397 Train acc: 0.721234 Valid acc: 0.728973\n",
      "Epoch: 30/100 Train loss: 0.529778 Valid loss: 0.538430 Train acc: 0.724932 Valid acc: 0.731939\n",
      "Epoch: 31/100 Train loss: 0.524933 Valid loss: 0.534646 Train acc: 0.728466 Valid acc: 0.734733\n",
      "Epoch: 32/100 Train loss: 0.520351 Valid loss: 0.531035 Train acc: 0.731780 Valid acc: 0.737394\n",
      "Epoch: 33/100 Train loss: 0.515910 Valid loss: 0.527599 Train acc: 0.734907 Valid acc: 0.739924\n",
      "Epoch: 34/100 Train loss: 0.511566 Valid loss: 0.524314 Train acc: 0.738031 Valid acc: 0.742290\n",
      "Epoch: 35/100 Train loss: 0.507375 Valid loss: 0.521169 Train acc: 0.740980 Valid acc: 0.744544\n",
      "Epoch: 36/100 Train loss: 0.503362 Valid loss: 0.518164 Train acc: 0.743811 Valid acc: 0.746695\n",
      "Epoch: 37/100 Train loss: 0.499429 Valid loss: 0.515290 Train acc: 0.746496 Valid acc: 0.748774\n",
      "Epoch: 38/100 Train loss: 0.495621 Valid loss: 0.512547 Train acc: 0.749136 Valid acc: 0.750770\n",
      "Epoch: 39/100 Train loss: 0.491942 Valid loss: 0.509925 Train acc: 0.751664 Valid acc: 0.752636\n",
      "Epoch: 40/100 Train loss: 0.488432 Valid loss: 0.507420 Train acc: 0.754128 Valid acc: 0.754391\n",
      "Epoch: 41/100 Train loss: 0.485007 Valid loss: 0.505026 Train acc: 0.756503 Valid acc: 0.756023\n",
      "Epoch: 42/100 Train loss: 0.481640 Valid loss: 0.502745 Train acc: 0.758826 Valid acc: 0.757568\n",
      "Epoch: 43/100 Train loss: 0.478375 Valid loss: 0.500557 Train acc: 0.761032 Valid acc: 0.759069\n",
      "Epoch: 44/100 Train loss: 0.475208 Valid loss: 0.498451 Train acc: 0.763226 Valid acc: 0.760502\n",
      "Epoch: 45/100 Train loss: 0.472122 Valid loss: 0.496443 Train acc: 0.765341 Valid acc: 0.761910\n",
      "Epoch: 46/100 Train loss: 0.469107 Valid loss: 0.494508 Train acc: 0.767397 Valid acc: 0.763284\n",
      "Epoch: 47/100 Train loss: 0.466153 Valid loss: 0.492653 Train acc: 0.769403 Valid acc: 0.764632\n",
      "Epoch: 48/100 Train loss: 0.463301 Valid loss: 0.490875 Train acc: 0.771299 Valid acc: 0.765934\n",
      "Epoch: 49/100 Train loss: 0.460476 Valid loss: 0.489160 Train acc: 0.773197 Valid acc: 0.767184\n",
      "Epoch: 50/100 Train loss: 0.457703 Valid loss: 0.487545 Train acc: 0.775021 Valid acc: 0.768352\n",
      "Epoch: 51/100 Train loss: 0.454970 Valid loss: 0.485984 Train acc: 0.776835 Valid acc: 0.769476\n",
      "Epoch: 52/100 Train loss: 0.452319 Valid loss: 0.484485 Train acc: 0.778608 Valid acc: 0.770552\n",
      "Epoch: 53/100 Train loss: 0.449700 Valid loss: 0.483045 Train acc: 0.780317 Valid acc: 0.771594\n",
      "Epoch: 54/100 Train loss: 0.447162 Valid loss: 0.481665 Train acc: 0.781980 Valid acc: 0.772575\n",
      "Epoch: 55/100 Train loss: 0.444644 Valid loss: 0.480322 Train acc: 0.783626 Valid acc: 0.773535\n",
      "Epoch: 56/100 Train loss: 0.442197 Valid loss: 0.479031 Train acc: 0.785229 Valid acc: 0.774433\n",
      "Epoch: 57/100 Train loss: 0.439766 Valid loss: 0.477784 Train acc: 0.786820 Valid acc: 0.775311\n",
      "Epoch: 58/100 Train loss: 0.437396 Valid loss: 0.476595 Train acc: 0.788376 Valid acc: 0.776163\n",
      "Epoch: 59/100 Train loss: 0.435064 Valid loss: 0.475451 Train acc: 0.789870 Valid acc: 0.776987\n",
      "Epoch: 60/100 Train loss: 0.432730 Valid loss: 0.474348 Train acc: 0.791377 Valid acc: 0.777780\n",
      "Epoch: 61/100 Train loss: 0.430441 Valid loss: 0.473303 Train acc: 0.792856 Valid acc: 0.778542\n",
      "Epoch: 62/100 Train loss: 0.428217 Valid loss: 0.472281 Train acc: 0.794294 Valid acc: 0.779285\n",
      "Epoch: 63/100 Train loss: 0.426010 Valid loss: 0.471292 Train acc: 0.795705 Valid acc: 0.780005\n",
      "Epoch: 64/100 Train loss: 0.423813 Valid loss: 0.470342 Train acc: 0.797099 Valid acc: 0.780688\n",
      "Epoch: 65/100 Train loss: 0.421674 Valid loss: 0.469439 Train acc: 0.798439 Valid acc: 0.781353\n",
      "Epoch: 66/100 Train loss: 0.419555 Valid loss: 0.468579 Train acc: 0.799789 Valid acc: 0.782001\n",
      "Epoch: 67/100 Train loss: 0.417453 Valid loss: 0.467739 Train acc: 0.801109 Valid acc: 0.782638\n",
      "Epoch: 68/100 Train loss: 0.415352 Valid loss: 0.466922 Train acc: 0.802436 Valid acc: 0.783259\n",
      "Epoch: 69/100 Train loss: 0.413285 Valid loss: 0.466136 Train acc: 0.803724 Valid acc: 0.783876\n",
      "Epoch: 70/100 Train loss: 0.411235 Valid loss: 0.465398 Train acc: 0.805038 Valid acc: 0.784477\n",
      "Epoch: 71/100 Train loss: 0.409213 Valid loss: 0.464686 Train acc: 0.806274 Valid acc: 0.785035\n",
      "Epoch: 72/100 Train loss: 0.407212 Valid loss: 0.464029 Train acc: 0.807518 Valid acc: 0.785581\n",
      "Epoch: 73/100 Train loss: 0.405216 Valid loss: 0.463419 Train acc: 0.808740 Valid acc: 0.786115\n",
      "Epoch: 74/100 Train loss: 0.403256 Valid loss: 0.462833 Train acc: 0.809949 Valid acc: 0.786638\n",
      "Epoch: 75/100 Train loss: 0.401323 Valid loss: 0.462276 Train acc: 0.811115 Valid acc: 0.787166\n",
      "Epoch: 76/100 Train loss: 0.399383 Valid loss: 0.461747 Train acc: 0.812310 Valid acc: 0.787673\n",
      "Epoch: 77/100 Train loss: 0.397472 Valid loss: 0.461240 Train acc: 0.813482 Valid acc: 0.788177\n",
      "Epoch: 78/100 Train loss: 0.395560 Valid loss: 0.460767 Train acc: 0.814636 Valid acc: 0.788674\n",
      "Epoch: 79/100 Train loss: 0.393701 Valid loss: 0.460310 Train acc: 0.815760 Valid acc: 0.789162\n",
      "Epoch: 80/100 Train loss: 0.391845 Valid loss: 0.459879 Train acc: 0.816877 Valid acc: 0.789627\n",
      "Epoch: 81/100 Train loss: 0.389993 Valid loss: 0.459476 Train acc: 0.817974 Valid acc: 0.790088\n",
      "Epoch: 82/100 Train loss: 0.388154 Valid loss: 0.459114 Train acc: 0.819070 Valid acc: 0.790529\n",
      "Epoch: 83/100 Train loss: 0.386342 Valid loss: 0.458770 Train acc: 0.820146 Valid acc: 0.790962\n",
      "Epoch: 84/100 Train loss: 0.384541 Valid loss: 0.458444 Train acc: 0.821209 Valid acc: 0.791384\n",
      "Epoch: 85/100 Train loss: 0.382754 Valid loss: 0.458150 Train acc: 0.822289 Valid acc: 0.791802\n",
      "Epoch: 86/100 Train loss: 0.381003 Valid loss: 0.457887 Train acc: 0.823328 Valid acc: 0.792202\n"
     ]
    },
    {
     "name": "stdout",
     "output_type": "stream",
     "text": [
      "Epoch: 87/100 Train loss: 0.379247 Valid loss: 0.457635 Train acc: 0.824365 Valid acc: 0.792593\n",
      "Epoch: 88/100 Train loss: 0.377508 Valid loss: 0.457399 Train acc: 0.825382 Valid acc: 0.792977\n",
      "Epoch: 89/100 Train loss: 0.375779 Valid loss: 0.457185 Train acc: 0.826405 Valid acc: 0.793332\n",
      "Epoch: 90/100 Train loss: 0.374054 Valid loss: 0.456990 Train acc: 0.827423 Valid acc: 0.793687\n",
      "Epoch: 91/100 Train loss: 0.372353 Valid loss: 0.456823 Train acc: 0.828401 Valid acc: 0.794033\n",
      "Epoch: 92/100 Train loss: 0.370662 Valid loss: 0.456660 Train acc: 0.829374 Valid acc: 0.794366\n",
      "Epoch: 93/100 Train loss: 0.368983 Valid loss: 0.456531 Train acc: 0.830344 Valid acc: 0.794686\n",
      "Epoch: 94/100 Train loss: 0.367318 Valid loss: 0.456430 Train acc: 0.831322 Valid acc: 0.795000\n",
      "Epoch: 95/100 Train loss: 0.365673 Valid loss: 0.456361 Train acc: 0.832281 Valid acc: 0.795288\n",
      "Epoch: 96/100 Train loss: 0.364025 Valid loss: 0.456300 Train acc: 0.833224 Valid acc: 0.795582\n",
      "Epoch: 97/100 Train loss: 0.362386 Valid loss: 0.456253 Train acc: 0.834163 Valid acc: 0.795885\n",
      "Epoch: 98/100 Train loss: 0.360760 Valid loss: 0.456236 Train acc: 0.835085 Valid acc: 0.796155\n",
      "Epoch: 99/100 Train loss: 0.359134 Valid loss: 0.456234 Train acc: 0.836007 Valid acc: 0.796420\n",
      "Epoch: 100/100 Train loss: 0.357522 Valid loss: 0.456233 Train acc: 0.836928 Valid acc: 0.796680\n"
     ]
    }
   ],
   "source": [
    "train_acc, train_loss = [], []\n",
    "valid_acc, valid_loss = [], []\n",
    "\n",
    "# Save the training result or trained and validated model params\n",
    "saver = tf.train.Saver()\n",
    "\n",
    "with tf.Session() as sess:\n",
    "    sess.run(tf.global_variables_initializer())\n",
    "   \n",
    "    # Loop over epochs\n",
    "    for e in range(epochs):\n",
    "        \n",
    "        # Loop over batches\n",
    "        #         for x, y in get_batches(X_train_norm, Y_train_onehot, batch_size):\n",
    "        for x, y in get_batches2(X_norm=X_train_norm, Y_labels=Y_train):\n",
    "            \n",
    "            ######################## Training\n",
    "            # Feed dictionary\n",
    "            feed = {inputs_ : x, labels_ : y, keep_prob_ : keep_prob, learning_rate_ : learning_rate}\n",
    "            \n",
    "            # Loss\n",
    "            loss, _ , acc = sess.run([cost, optimizer, accuracy], feed_dict = feed)\n",
    "            train_acc.append(acc)\n",
    "            train_loss.append(loss)\n",
    "            \n",
    "            ################## Validation\n",
    "            acc_batch = []\n",
    "            loss_batch = []    \n",
    "            # Loop over batches\n",
    "            #             for x, y in get_batches(X_valid_norm, Y_valid_onehot, batch_size):\n",
    "            for x, y in get_batches2(X_norm=X_valid_norm, Y_labels=Y_valid):\n",
    "\n",
    "                # Feed dictionary\n",
    "                feed = {inputs_ : x, labels_ : y, keep_prob_ : 1.0}\n",
    "\n",
    "                # Loss\n",
    "                loss, acc = sess.run([cost, accuracy], feed_dict = feed)\n",
    "                acc_batch.append(acc)\n",
    "                loss_batch.append(loss)\n",
    "\n",
    "            # Store\n",
    "            valid_acc.append(np.mean(acc_batch))\n",
    "            valid_loss.append(np.mean(loss_batch))\n",
    "            \n",
    "        # Print info for every iter/epoch\n",
    "        print(\"Epoch: {}/{}\".format(e+1, epochs),\n",
    "              \"Train loss: {:6f}\".format(np.mean(train_loss)),\n",
    "              \"Valid loss: {:.6f}\".format(np.mean(valid_loss)),\n",
    "              \"Train acc: {:6f}\".format(np.mean(train_acc)),\n",
    "              \"Valid acc: {:.6f}\".format(np.mean(valid_acc)))\n",
    "                \n",
    "    saver.save(sess,\"checkpoints/dcnn-face-yalda-Copy5.ckpt\")"
   ]
  },
  {
   "cell_type": "code",
   "execution_count": 17,
   "metadata": {},
   "outputs": [
    {
     "data": {
      "image/png": "[encoded data removed]",
      "text/plain": [
       "<matplotlib.figure.Figure at 0x7f7457ec8240>"
      ]
     },
     "metadata": {},
     "output_type": "display_data"
    }
   ],
   "source": [
    "import matplotlib.pyplot as mplot\n",
    "\n",
    "mplot.plot(train_loss, label='Face train_loss')\n",
    "mplot.plot(valid_loss, label='Face valid_loss')\n",
    "mplot.legend()\n",
    "mplot.show()"
   ]
  },
  {
   "cell_type": "code",
   "execution_count": 18,
   "metadata": {},
   "outputs": [
    {
     "data": {
      "image/png": "[encoded data removed]",
      "text/plain": [
       "<matplotlib.figure.Figure at 0x7f74500dc978>"
      ]
     },
     "metadata": {},
     "output_type": "display_data"
    }
   ],
   "source": [
    "# import matplotlib.pyplot as mplot\n",
    "mplot.plot(train_acc, label='Face train_acc')\n",
    "mplot.plot(valid_acc, label='Face valid_acc')\n",
    "mplot.legend()\n",
    "mplot.show()"
   ]
  },
  {
   "cell_type": "code",
   "execution_count": 19,
   "metadata": {},
   "outputs": [
    {
     "name": "stdout",
     "output_type": "stream",
     "text": [
      "INFO:tensorflow:Restoring parameters from checkpoints/dcnn-face-yalda-Copy5.ckpt\n",
      "Test loss: 0.357055 Test acc: 0.858214\n"
     ]
    }
   ],
   "source": [
    "test_acc, test_loss = [], []\n",
    "\n",
    "with tf.Session() as sess:\n",
    "    # Restore the validated model\n",
    "    saver.restore(sess, tf.train.latest_checkpoint('checkpoints/'))\n",
    "    \n",
    "    ################## Test\n",
    "    acc_batch = []\n",
    "    loss_batch = []    \n",
    "    # Loop over batches\n",
    "    for x, y in get_batches(batch_size=100, X=X_test_norm, y=Y_test_onehot):\n",
    "\n",
    "        # Feed dictionary\n",
    "        feed = {inputs_ : x, labels_ : y, keep_prob_ : 1.0}\n",
    "\n",
    "        # Loss\n",
    "        loss, acc = sess.run([cost, accuracy], feed_dict = feed)\n",
    "        acc_batch.append(acc)\n",
    "        loss_batch.append(loss)\n",
    "\n",
    "    # Store\n",
    "    test_acc.append(np.mean(acc_batch))\n",
    "    test_loss.append(np.mean(loss_batch))\n",
    "\n",
    "    # Print info for every iter/epoch\n",
    "    print(\"Test loss: {:6f}\".format(np.mean(test_loss)),\n",
    "          \"Test acc: {:.6f}\".format(np.mean(test_acc)))"
   ]
  },
  {
   "cell_type": "code",
   "execution_count": null,
   "metadata": {},
   "outputs": [],
   "source": []
  }
 ],
 "metadata": {
  "kernelspec": {
   "display_name": "Python 3",
   "language": "python",
   "name": "python3"
  },
  "language_info": {
   "codemirror_mode": {
    "name": "ipython",
    "version": 3
   },
   "file_extension": ".py",
   "mimetype": "text/x-python",
   "name": "python",
   "nbconvert_exporter": "python",
   "pygments_lexer": "ipython3",
   "version": "3.6.3"
  }
 },
 "nbformat": 4,
 "nbformat_minor": 2
}
