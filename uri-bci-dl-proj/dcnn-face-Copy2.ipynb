{
 "cells": [
  {
   "cell_type": "code",
   "execution_count": 1,
   "metadata": {},
   "outputs": [
    {
     "name": "stdout",
     "output_type": "stream",
     "text": [
      "(31200, 205, 16) float64 (31200, 1) uint8\n",
      "0.5 0.5 0.0 0.0\n",
      "[2]\n"
     ]
    }
   ],
   "source": [
    "# Read the dataset\n",
    "import scipy.io as spio\n",
    "import numpy as np\n",
    "\n",
    "BahramFace = spio.loadmat(file_name='/home/arasdar/datasets/bci-project-data-RAW/BahramFace.mat')\n",
    "DJFace = spio.loadmat(file_name='/home/arasdar/datasets/bci-project-data-RAW/DJFace.mat')\n",
    "NickFace = spio.loadmat(file_name='/home/arasdar/datasets/bci-project-data-RAW/NickFace.mat')\n",
    "RoohiFace = spio.loadmat(file_name='/home/arasdar/datasets/bci-project-data-RAW/RoohiFace.mat')\n",
    "SarahFace = spio.loadmat(file_name='/home/arasdar/datasets/bci-project-data-RAW/SarahFace.mat')\n",
    "\n",
    "AllData = np.concatenate((BahramFace['Intensification_Data'],\n",
    "                            DJFace['Intensification_Data'],\n",
    "                            NickFace['Intensification_Data'],\n",
    "                            RoohiFace['Intensification_Data'],\n",
    "                            SarahFace['Intensification_Data']), axis=0)\n",
    "\n",
    "AllLabels = np.concatenate((BahramFace['Intensification_Label'],\n",
    "                            DJFace['Intensification_Label'],\n",
    "                            NickFace['Intensification_Label'],\n",
    "                            RoohiFace['Intensification_Label'],\n",
    "                            SarahFace['Intensification_Label']), axis=0)\n",
    "\n",
    "AllLabelOne = (AllLabels==1).reshape(-1)\n",
    "AllData_LabelOne = AllData[AllLabelOne]\n",
    "\n",
    "AllLabelZero = (AllLabels==0).reshape(-1)\n",
    "AllData_LabelZero = AllData[AllLabelZero]\n",
    "\n",
    "# Linear synthetic data augmentatiion or creation or generation\n",
    "AllData_LabelOneNew_list = []\n",
    "\n",
    "# w*data+b: translation, rotation, and scaling\n",
    "# linear transformation of the target data\n",
    "w, b = 1.0, 0.0\n",
    "for idx in range(5):\n",
    "    AllData_LabelOneNew = (w * AllData_LabelOne) + b\n",
    "    AllData_LabelOneNew_list.append(AllData_LabelOneNew)\n",
    "    w *= 0.9 # 1.0, 0.9, 0.81, 0.729\n",
    "    b += 0.1 # 0.1, 0.2, 0.3\n",
    "\n",
    "AllData_LabelOneNew_total = np.array(AllData_LabelOneNew_list, \n",
    "                                      dtype=AllData_LabelOne.dtype).reshape(-1, 205, 16)\n",
    "\n",
    "AllDataNew = np.concatenate((AllData_LabelOneNew_total, AllData_LabelZero), axis=0)\n",
    "AllLabelsNew = np.concatenate((AllLabels[AllLabelZero], # Tgt = 6*Non-Tgt\n",
    "                                   AllLabels[AllLabelOne],\n",
    "                                   AllLabels[AllLabelOne],\n",
    "                                   AllLabels[AllLabelOne], \n",
    "                                   AllLabels[AllLabelOne], \n",
    "                                   AllLabels[AllLabelOne]), axis=0)\n",
    "\n",
    "print(AllDataNew.shape, AllDataNew.dtype, AllLabelsNew.shape, AllLabelsNew.dtype)\n",
    "print(np.mean(AllLabelsNew==0), np.mean(AllLabelsNew==1), np.mean(AllLabelsNew==2), np.mean(AllLabelsNew==3))\n",
    "print((AllLabelsNew +  1).max(axis=0))"
   ]
  },
  {
   "cell_type": "code",
   "execution_count": 2,
   "metadata": {},
   "outputs": [
    {
     "name": "stdout",
     "output_type": "stream",
     "text": [
      "(21840, 205, 16) (9360, 205, 16) (21840, 1) (9360, 1)\n"
     ]
    }
   ],
   "source": [
    "# Train and test split\n",
    "from sklearn.model_selection import train_test_split\n",
    "\n",
    "X_train_valid, X_test, Y_train_valid, Y_test = train_test_split(AllDataNew, AllLabelsNew, test_size=0.30)\n",
    "\n",
    "print(X_train_valid.shape, X_test.shape, Y_train_valid.shape, Y_test.shape)"
   ]
  },
  {
   "cell_type": "code",
   "execution_count": 3,
   "metadata": {},
   "outputs": [
    {
     "name": "stdout",
     "output_type": "stream",
     "text": [
      "0.0 0.49913003663 0.50086996337 0.0\n",
      "(21840, 2) float64 (9360, 2) float64\n"
     ]
    }
   ],
   "source": [
    "# Preparing input and output data\n",
    "from utilities import *\n",
    "\n",
    "# Normalizing/standardizing the input data features\n",
    "X_train_valid_norm, X_test_norm = standardize(test=X_test, train=X_train_valid)\n",
    "\n",
    "# Onehot encoding/vectorizing the output data labels\n",
    "print(np.mean((Y_train_valid+1).reshape(-1)==0), np.mean((Y_train_valid+1).reshape(-1)==1),\n",
    "     np.mean((Y_train_valid+1).reshape(-1)==2), np.mean((Y_train_valid+1).reshape(-1)==3))\n",
    "\n",
    "Y_train_valid_onehot = one_hot(labels=(Y_train_valid+1).reshape(-1), n_class=2) \n",
    "Y_test_onehot = one_hot(labels=(Y_test+1).reshape(-1), n_class=2) \n",
    "\n",
    "print(Y_train_valid_onehot.shape, Y_train_valid_onehot.dtype, \n",
    "      Y_test_onehot.shape, Y_test_onehot.dtype)"
   ]
  },
  {
   "cell_type": "code",
   "execution_count": 4,
   "metadata": {},
   "outputs": [
    {
     "name": "stdout",
     "output_type": "stream",
     "text": [
      "(15288, 205, 16) (6552, 205, 16) (15288, 2) (6552, 2)\n"
     ]
    }
   ],
   "source": [
    "# Train and valid split\n",
    "# from sklearn.model_selection import train_test_split\n",
    "\n",
    "X_train_norm, X_valid_norm, Y_train_onehot, Y_valid_onehot = train_test_split(X_train_valid_norm, \n",
    "                                                                              Y_train_valid_onehot,\n",
    "                                                                              test_size=0.30)\n",
    "\n",
    "print(X_train_norm.shape, X_valid_norm.shape, Y_train_onehot.shape, Y_valid_onehot.shape)"
   ]
  },
  {
   "cell_type": "code",
   "execution_count": 5,
   "metadata": {},
   "outputs": [
    {
     "name": "stdout",
     "output_type": "stream",
     "text": [
      "batch_size, seq_len, n_channels 152 205 16\n",
      "n_classes [2]\n"
     ]
    }
   ],
   "source": [
    "## Hyperparameters\n",
    "# Input data\n",
    "batch_size = X_train_norm.shape[0]// 100 # minibatch size & number of minibatches\n",
    "seq_len = X_train_norm.shape[1] # Number of steps: each trial length\n",
    "n_channels = X_train_norm.shape[2] # number of channels in each trial\n",
    "print('batch_size, seq_len, n_channels', batch_size, seq_len, n_channels)\n",
    "\n",
    "# Output labels\n",
    "n_classes = Y_train_valid.max(axis=0)+1\n",
    "assert Y_train_valid.max(axis=0) == Y_test.max(axis=0)\n",
    "print('n_classes', n_classes)\n",
    "\n",
    "# learning parameters\n",
    "learning_rate = 0.0001 #1e-4\n",
    "epochs = 100 # num iterations for updating model\n",
    "keep_prob = 0.50 # 90% neurons are kept and 10% are dropped out"
   ]
  },
  {
   "cell_type": "code",
   "execution_count": 6,
   "metadata": {},
   "outputs": [
    {
     "name": "stdout",
     "output_type": "stream",
     "text": [
      "TensorFlow Version: 1.3.0\n",
      "Default GPU Device: /gpu:0\n"
     ]
    }
   ],
   "source": [
    "# GPUs or CPU\n",
    "import tensorflow as tf\n",
    "\n",
    "# Check TensorFlow Version\n",
    "print('TensorFlow Version: {}'.format(tf.__version__))\n",
    "\n",
    "# Check for a GPU\n",
    "print('Default GPU Device: {}'.format(tf.test.gpu_device_name()))"
   ]
  },
  {
   "cell_type": "code",
   "execution_count": 7,
   "metadata": {},
   "outputs": [],
   "source": [
    "# Feed the data from python/numpy to tensorflow framework\n",
    "inputs_ = tf.placeholder(tf.float32, [None, seq_len, n_channels], name = 'inputs_')\n",
    "labels_ = tf.placeholder(tf.float32, [None, n_classes], name = 'labels_')\n",
    "keep_prob_ = tf.placeholder(tf.float32, name = 'keep_prob_')\n",
    "learning_rate_ = tf.placeholder(tf.float32, name = 'learning_rate_')# Construct the LSTM inputs and LSTM cells"
   ]
  },
  {
   "cell_type": "code",
   "execution_count": 8,
   "metadata": {},
   "outputs": [
    {
     "name": "stdout",
     "output_type": "stream",
     "text": [
      "inputs_.shape, conv1.shape, max_pool_1.shape (?, 205, 16) (?, 204, 32) (?, 102, 32)\n",
      "max_pool_1.shape, conv2.shape, max_pool_2.shape (?, 102, 32) (?, 102, 64) (?, 51, 64)\n",
      "max_pool_2.shape, conv3.shape, max_pool_3.shape (?, 51, 64) (?, 50, 128) (?, 25, 128)\n",
      "max_pool_3.shape, conv4.shape, max_pool_4.shape (?, 25, 128) (?, 24, 256) (?, 12, 256)\n",
      "max_pool_4.shape, flat.shape, logits.shape (?, 12, 256) (?, 3072) (?, 2)\n"
     ]
    }
   ],
   "source": [
    "# batch_size, seq_len, n_channels: 152 205 16; n_classes: [2]\n",
    "# (batch, 205, 16) --> (batch, 102, 32)\n",
    "# conv valid: (205-2+0)/1 + 1 = (203/1)+1 = 203 + 1=204\n",
    "# pool same: (204-2+0)/2 + 1 = (202/2)+1 = 101 + 1=102\n",
    "conv1 = tf.layers.conv1d(inputs=inputs_, filters=32, kernel_size=2, strides=1, padding='valid', \n",
    "                         activation = tf.nn.relu)\n",
    "max_pool_1 = tf.layers.max_pooling1d(inputs=conv1, pool_size=2, strides=2, padding='same')\n",
    "# max_pool_1 = tf.nn.dropout(max_pool_1, keep_prob=keep_prob_)\n",
    "print('inputs_.shape, conv1.shape, max_pool_1.shape', inputs_.shape, conv1.shape, max_pool_1.shape)\n",
    "\n",
    "# (batch, 102, 32) --> (batch, 51, 64)\n",
    "# conv same\n",
    "# pool same: (102-2+0)/2 + 1 = (100/2)+1 = 50 + 1=51\n",
    "conv2 = tf.layers.conv1d(inputs=max_pool_1, filters=64, kernel_size=2, strides=1, padding='same', \n",
    "                         activation = tf.nn.relu)\n",
    "max_pool_2 = tf.layers.max_pooling1d(inputs=conv2, pool_size=2, strides=2, padding='same')\n",
    "# max_pool_2 = tf.nn.dropout(max_pool_2, keep_prob=keep_prob_)\n",
    "print('max_pool_1.shape, conv2.shape, max_pool_2.shape', max_pool_1.shape, conv2.shape, max_pool_2.shape)\n",
    "\n",
    "# (batch, 51, 64) --> (batch, 25, 128)\n",
    "# conv valid: (51-2+0)/1 + 1 = (49/1)+1 = 49 + 1=50\n",
    "# pool same: (50-2+0)/2 + 1 = (48/2)+1 = 24 + 1=25\n",
    "conv3 = tf.layers.conv1d(inputs=max_pool_2, filters=128, kernel_size=2, strides=1, padding='valid', \n",
    "                         activation = tf.nn.relu)\n",
    "max_pool_3 = tf.layers.max_pooling1d(inputs=conv3, pool_size=2, strides=2, padding='same')\n",
    "# max_pool_3 = tf.nn.dropout(max_pool_3, keep_prob=keep_prob_)\n",
    "print('max_pool_2.shape, conv3.shape, max_pool_3.shape', max_pool_2.shape, conv3.shape, max_pool_3.shape)\n",
    "\n",
    "# (batch, 25, 128) --> (batch, 12, 256)\n",
    "# conv valid: (25-2+0)/1 + 1 = (23/1)+1 = 23 + 1=24\n",
    "# pool same: (24-2+0)/2 + 1 = (22/2)+1 = 11 + 1=12\n",
    "conv4 = tf.layers.conv1d(inputs=max_pool_3, filters=256, kernel_size=2, strides=1, padding='valid', \n",
    "                         activation = tf.nn.relu)\n",
    "max_pool_4 = tf.layers.max_pooling1d(inputs=conv4, pool_size=2, strides=2, padding='same')\n",
    "# max_pool_4 = tf.nn.dropout(max_pool_4, keep_prob=keep_prob_)\n",
    "print('max_pool_3.shape, conv4.shape, max_pool_4.shape', max_pool_3.shape, conv4.shape, max_pool_4.shape)\n",
    "\n",
    "# Flatten and add dropout + predicted output\n",
    "flat = tf.reshape(max_pool_4, (-1, 12*256))\n",
    "flat = tf.nn.dropout(flat, keep_prob=keep_prob_)\n",
    "logits = tf.layers.dense(flat, n_classes)\n",
    "print('max_pool_4.shape, flat.shape, logits.shape', max_pool_4.shape, flat.shape, logits.shape)"
   ]
  },
  {
   "cell_type": "code",
   "execution_count": 9,
   "metadata": {},
   "outputs": [
    {
     "name": "stdout",
     "output_type": "stream",
     "text": [
      "cost_tensor, cost Tensor(\"Reshape_3:0\", shape=(?,), dtype=float32) Tensor(\"Mean:0\", shape=(), dtype=float32)\n",
      "optimizer name: \"Adam\"\n",
      "op: \"NoOp\"\n",
      "input: \"^Adam/update_conv1d/kernel/ApplyAdam\"\n",
      "input: \"^Adam/update_conv1d/bias/ApplyAdam\"\n",
      "input: \"^Adam/update_conv1d_1/kernel/ApplyAdam\"\n",
      "input: \"^Adam/update_conv1d_1/bias/ApplyAdam\"\n",
      "input: \"^Adam/update_conv1d_2/kernel/ApplyAdam\"\n",
      "input: \"^Adam/update_conv1d_2/bias/ApplyAdam\"\n",
      "input: \"^Adam/update_conv1d_3/kernel/ApplyAdam\"\n",
      "input: \"^Adam/update_conv1d_3/bias/ApplyAdam\"\n",
      "input: \"^Adam/update_dense/kernel/ApplyAdam\"\n",
      "input: \"^Adam/update_dense/bias/ApplyAdam\"\n",
      "input: \"^Adam/Assign\"\n",
      "input: \"^Adam/Assign_1\"\n",
      "\n",
      "correct_pred, accuracy Tensor(\"Equal:0\", shape=(?,), dtype=bool) Tensor(\"accuracy:0\", shape=(), dtype=float32)\n",
      "confusion_matrix Tensor(\"confusion_matrix/SparseTensorDenseAdd:0\", shape=(?, ?), dtype=int32)\n"
     ]
    }
   ],
   "source": [
    "# Backward pass: error backpropagation\n",
    "# Cost function\n",
    "cost_tensor = tf.nn.softmax_cross_entropy_with_logits(logits=logits, labels=labels_)\n",
    "cost = tf.reduce_mean(input_tensor=cost_tensor)\n",
    "print('cost_tensor, cost', cost_tensor, cost)\n",
    "\n",
    "# Optimizer\n",
    "optimizer = tf.train.AdamOptimizer(learning_rate=learning_rate_).minimize(cost)\n",
    "print('optimizer', optimizer)\n",
    "\n",
    "# Accuracy\n",
    "correct_pred = tf.equal(tf.argmax(logits, 1), tf.argmax(labels_, 1))\n",
    "accuracy = tf.reduce_mean(tf.cast(correct_pred, tf.float32), name='accuracy')\n",
    "print('correct_pred, accuracy', correct_pred, accuracy)\n",
    "\n",
    "# Confusion matrix\n",
    "confusion_matrix = tf.confusion_matrix(predictions=tf.argmax(logits, 1),\n",
    "                                       labels=tf.argmax(labels_, 1))\n",
    "print('confusion_matrix', confusion_matrix)"
   ]
  },
  {
   "cell_type": "code",
   "execution_count": 10,
   "metadata": {},
   "outputs": [
    {
     "name": "stdout",
     "output_type": "stream",
     "text": [
      "Epoch: 1/100 Train loss: 0.670054 Valid loss: 0.662018 Train acc: 0.580132 Valid acc: 0.590025\n",
      "Epoch: 2/100 Train loss: 0.628852 Valid loss: 0.623679 Train acc: 0.648026 Valid acc: 0.661601\n",
      "Epoch: 3/100 Train loss: 0.585996 Valid loss: 0.581549 Train acc: 0.687917 Valid acc: 0.701252\n",
      "Epoch: 4/100 Train loss: 0.550738 Valid loss: 0.546611 Train acc: 0.716924 Valid acc: 0.728551\n",
      "Epoch: 5/100 Train loss: 0.522063 Valid loss: 0.518442 Train acc: 0.738553 Valid acc: 0.749447\n",
      "Epoch: 6/100 Train loss: 0.498511 Valid loss: 0.496052 Train acc: 0.755570 Valid acc: 0.765610\n",
      "Epoch: 7/100 Train loss: 0.479191 Valid loss: 0.477820 Train acc: 0.768816 Valid acc: 0.778159\n",
      "Epoch: 8/100 Train loss: 0.463532 Valid loss: 0.462410 Train acc: 0.779490 Valid acc: 0.788239\n",
      "Epoch: 9/100 Train loss: 0.449896 Valid loss: 0.449902 Train acc: 0.788502 Valid acc: 0.796408\n",
      "Epoch: 10/100 Train loss: 0.438336 Valid loss: 0.439284 Train acc: 0.795592 Valid acc: 0.803296\n",
      "Epoch: 11/100 Train loss: 0.428362 Valid loss: 0.430051 Train acc: 0.801818 Valid acc: 0.809147\n",
      "Epoch: 12/100 Train loss: 0.419427 Valid loss: 0.422027 Train acc: 0.807423 Valid acc: 0.814179\n",
      "Epoch: 13/100 Train loss: 0.411427 Valid loss: 0.414817 Train acc: 0.812540 Valid acc: 0.818568\n",
      "Epoch: 14/100 Train loss: 0.404193 Valid loss: 0.408335 Train acc: 0.816884 Valid acc: 0.822490\n",
      "Epoch: 15/100 Train loss: 0.397758 Valid loss: 0.402579 Train acc: 0.820860 Valid acc: 0.826025\n",
      "Epoch: 16/100 Train loss: 0.391957 Valid loss: 0.397312 Train acc: 0.824350 Valid acc: 0.829167\n",
      "Epoch: 17/100 Train loss: 0.386439 Valid loss: 0.392536 Train acc: 0.827527 Valid acc: 0.831968\n",
      "Epoch: 18/100 Train loss: 0.381384 Valid loss: 0.388337 Train acc: 0.830570 Valid acc: 0.834529\n",
      "Epoch: 19/100 Train loss: 0.376442 Valid loss: 0.384264 Train acc: 0.833428 Valid acc: 0.836919\n",
      "Epoch: 20/100 Train loss: 0.371857 Valid loss: 0.380243 Train acc: 0.836125 Valid acc: 0.839175\n",
      "Epoch: 21/100 Train loss: 0.367486 Valid loss: 0.376590 Train acc: 0.838521 Valid acc: 0.841252\n",
      "Epoch: 22/100 Train loss: 0.363538 Valid loss: 0.373130 Train acc: 0.840718 Valid acc: 0.843184\n",
      "Epoch: 23/100 Train loss: 0.359687 Valid loss: 0.369843 Train acc: 0.842863 Valid acc: 0.845002\n",
      "Epoch: 24/100 Train loss: 0.356007 Valid loss: 0.366812 Train acc: 0.844926 Valid acc: 0.846674\n",
      "Epoch: 25/100 Train loss: 0.352619 Valid loss: 0.363920 Train acc: 0.846816 Valid acc: 0.848279\n",
      "Epoch: 26/100 Train loss: 0.349235 Valid loss: 0.361094 Train acc: 0.848575 Valid acc: 0.849826\n",
      "Epoch: 27/100 Train loss: 0.345998 Valid loss: 0.358360 Train acc: 0.850256 Valid acc: 0.851290\n",
      "Epoch: 28/100 Train loss: 0.342874 Valid loss: 0.355757 Train acc: 0.851889 Valid acc: 0.852679\n",
      "Epoch: 29/100 Train loss: 0.339796 Valid loss: 0.353326 Train acc: 0.853548 Valid acc: 0.853997\n",
      "Epoch: 30/100 Train loss: 0.336889 Valid loss: 0.350961 Train acc: 0.855066 Valid acc: 0.855262\n",
      "Epoch: 31/100 Train loss: 0.334011 Valid loss: 0.348734 Train acc: 0.856551 Valid acc: 0.856471\n",
      "Epoch: 32/100 Train loss: 0.331303 Valid loss: 0.346618 Train acc: 0.857989 Valid acc: 0.857630\n",
      "Epoch: 33/100 Train loss: 0.328716 Valid loss: 0.344571 Train acc: 0.859374 Valid acc: 0.858738\n",
      "Epoch: 34/100 Train loss: 0.326019 Valid loss: 0.342521 Train acc: 0.860731 Valid acc: 0.859829\n",
      "Epoch: 35/100 Train loss: 0.323472 Valid loss: 0.340561 Train acc: 0.862036 Valid acc: 0.860874\n",
      "Epoch: 36/100 Train loss: 0.321016 Valid loss: 0.338688 Train acc: 0.863290 Valid acc: 0.861863\n",
      "Epoch: 37/100 Train loss: 0.318573 Valid loss: 0.336829 Train acc: 0.864584 Valid acc: 0.862827\n",
      "Epoch: 38/100 Train loss: 0.316314 Valid loss: 0.335027 Train acc: 0.865755 Valid acc: 0.863761\n",
      "Epoch: 39/100 Train loss: 0.313959 Valid loss: 0.333266 Train acc: 0.866955 Valid acc: 0.864661\n",
      "Epoch: 40/100 Train loss: 0.311711 Valid loss: 0.331576 Train acc: 0.868074 Valid acc: 0.865521\n",
      "Epoch: 41/100 Train loss: 0.309552 Valid loss: 0.329881 Train acc: 0.869175 Valid acc: 0.866353\n",
      "Epoch: 42/100 Train loss: 0.307450 Valid loss: 0.328297 Train acc: 0.870205 Valid acc: 0.867152\n",
      "Epoch: 43/100 Train loss: 0.305336 Valid loss: 0.326755 Train acc: 0.871241 Valid acc: 0.867938\n",
      "Epoch: 44/100 Train loss: 0.303282 Valid loss: 0.325293 Train acc: 0.872216 Valid acc: 0.868692\n",
      "Epoch: 45/100 Train loss: 0.301292 Valid loss: 0.323855 Train acc: 0.873256 Valid acc: 0.869428\n",
      "Epoch: 46/100 Train loss: 0.299220 Valid loss: 0.322414 Train acc: 0.874311 Valid acc: 0.870165\n",
      "Epoch: 47/100 Train loss: 0.297246 Valid loss: 0.320992 Train acc: 0.875267 Valid acc: 0.870872\n",
      "Epoch: 48/100 Train loss: 0.295359 Valid loss: 0.319628 Train acc: 0.876179 Valid acc: 0.871552\n",
      "Epoch: 49/100 Train loss: 0.293460 Valid loss: 0.318281 Train acc: 0.877082 Valid acc: 0.872204\n",
      "Epoch: 50/100 Train loss: 0.291573 Valid loss: 0.317028 Train acc: 0.878037 Valid acc: 0.872841\n",
      "Epoch: 51/100 Train loss: 0.289796 Valid loss: 0.315816 Train acc: 0.878919 Valid acc: 0.873455\n",
      "Epoch: 52/100 Train loss: 0.288024 Valid loss: 0.314641 Train acc: 0.879747 Valid acc: 0.874063\n",
      "Epoch: 53/100 Train loss: 0.286250 Valid loss: 0.313498 Train acc: 0.880626 Valid acc: 0.874652\n",
      "Epoch: 54/100 Train loss: 0.284501 Valid loss: 0.312353 Train acc: 0.881466 Valid acc: 0.875236\n",
      "Epoch: 55/100 Train loss: 0.282832 Valid loss: 0.311196 Train acc: 0.882286 Valid acc: 0.875818\n",
      "Epoch: 56/100 Train loss: 0.281137 Valid loss: 0.310079 Train acc: 0.883119 Valid acc: 0.876380\n",
      "Epoch: 57/100 Train loss: 0.279476 Valid loss: 0.308949 Train acc: 0.883869 Valid acc: 0.876937\n",
      "Epoch: 58/100 Train loss: 0.277823 Valid loss: 0.307885 Train acc: 0.884646 Valid acc: 0.877477\n",
      "Epoch: 59/100 Train loss: 0.276225 Valid loss: 0.306804 Train acc: 0.885422 Valid acc: 0.878002\n",
      "Epoch: 60/100 Train loss: 0.274632 Valid loss: 0.305732 Train acc: 0.886191 Valid acc: 0.878519\n",
      "Epoch: 61/100 Train loss: 0.273028 Valid loss: 0.304674 Train acc: 0.886937 Valid acc: 0.879021\n",
      "Epoch: 62/100 Train loss: 0.271500 Valid loss: 0.303685 Train acc: 0.887662 Valid acc: 0.879508\n",
      "Epoch: 63/100 Train loss: 0.270020 Valid loss: 0.302543 Train acc: 0.888381 Valid acc: 0.880001\n",
      "Epoch: 64/100 Train loss: 0.268530 Valid loss: 0.301437 Train acc: 0.889071 Valid acc: 0.880490\n",
      "Epoch: 65/100 Train loss: 0.267087 Valid loss: 0.300377 Train acc: 0.889740 Valid acc: 0.880958\n",
      "Epoch: 66/100 Train loss: 0.265599 Valid loss: 0.299296 Train acc: 0.890435 Valid acc: 0.881432\n",
      "Epoch: 67/100 Train loss: 0.264112 Valid loss: 0.298267 Train acc: 0.891155 Valid acc: 0.881895\n",
      "Epoch: 68/100 Train loss: 0.262692 Valid loss: 0.297272 Train acc: 0.891832 Valid acc: 0.882346\n",
      "Epoch: 69/100 Train loss: 0.261247 Valid loss: 0.296288 Train acc: 0.892506 Valid acc: 0.882790\n",
      "Epoch: 70/100 Train loss: 0.259873 Valid loss: 0.295394 Train acc: 0.893154 Valid acc: 0.883232\n",
      "Epoch: 71/100 Train loss: 0.258478 Valid loss: 0.294529 Train acc: 0.893818 Valid acc: 0.883663\n",
      "Epoch: 72/100 Train loss: 0.257115 Valid loss: 0.293723 Train acc: 0.894448 Valid acc: 0.884063\n",
      "Epoch: 73/100 Train loss: 0.255806 Valid loss: 0.292871 Train acc: 0.895049 Valid acc: 0.884474\n",
      "Epoch: 74/100 Train loss: 0.254476 Valid loss: 0.292064 Train acc: 0.895673 Valid acc: 0.884869\n",
      "Epoch: 75/100 Train loss: 0.253184 Valid loss: 0.291234 Train acc: 0.896284 Valid acc: 0.885259\n",
      "Epoch: 76/100 Train loss: 0.251895 Valid loss: 0.290406 Train acc: 0.896888 Valid acc: 0.885643\n",
      "Epoch: 77/100 Train loss: 0.250613 Valid loss: 0.289588 Train acc: 0.897493 Valid acc: 0.886033\n",
      "Epoch: 78/100 Train loss: 0.249373 Valid loss: 0.288762 Train acc: 0.898067 Valid acc: 0.886413\n",
      "Epoch: 79/100 Train loss: 0.248144 Valid loss: 0.287986 Train acc: 0.898621 Valid acc: 0.886777\n",
      "Epoch: 80/100 Train loss: 0.246900 Valid loss: 0.287216 Train acc: 0.899215 Valid acc: 0.887147\n",
      "Epoch: 81/100 Train loss: 0.245688 Valid loss: 0.286439 Train acc: 0.899789 Valid acc: 0.887522\n",
      "Epoch: 82/100 Train loss: 0.244450 Valid loss: 0.285673 Train acc: 0.900345 Valid acc: 0.887897\n",
      "Epoch: 83/100 Train loss: 0.243221 Valid loss: 0.284916 Train acc: 0.900905 Valid acc: 0.888258\n",
      "Epoch: 84/100 Train loss: 0.242055 Valid loss: 0.284199 Train acc: 0.901437 Valid acc: 0.888610\n",
      "Epoch: 85/100 Train loss: 0.240867 Valid loss: 0.283486 Train acc: 0.901980 Valid acc: 0.888960\n",
      "Epoch: 86/100 Train loss: 0.239669 Valid loss: 0.282785 Train acc: 0.902517 Valid acc: 0.889303\n"
     ]
    },
    {
     "name": "stdout",
     "output_type": "stream",
     "text": [
      "Epoch: 87/100 Train loss: 0.238504 Valid loss: 0.282069 Train acc: 0.903048 Valid acc: 0.889629\n",
      "Epoch: 88/100 Train loss: 0.237314 Valid loss: 0.281397 Train acc: 0.903599 Valid acc: 0.889956\n",
      "Epoch: 89/100 Train loss: 0.236140 Valid loss: 0.280739 Train acc: 0.904128 Valid acc: 0.890289\n",
      "Epoch: 90/100 Train loss: 0.235024 Valid loss: 0.280090 Train acc: 0.904651 Valid acc: 0.890602\n",
      "Epoch: 91/100 Train loss: 0.233900 Valid loss: 0.279425 Train acc: 0.905169 Valid acc: 0.890921\n",
      "Epoch: 92/100 Train loss: 0.232793 Valid loss: 0.278810 Train acc: 0.905677 Valid acc: 0.891225\n",
      "Epoch: 93/100 Train loss: 0.231702 Valid loss: 0.278185 Train acc: 0.906152 Valid acc: 0.891533\n",
      "Epoch: 94/100 Train loss: 0.230664 Valid loss: 0.277578 Train acc: 0.906633 Valid acc: 0.891827\n",
      "Epoch: 95/100 Train loss: 0.229611 Valid loss: 0.276902 Train acc: 0.907113 Valid acc: 0.892123\n",
      "Epoch: 96/100 Train loss: 0.228529 Valid loss: 0.276257 Train acc: 0.907588 Valid acc: 0.892417\n",
      "Epoch: 97/100 Train loss: 0.227475 Valid loss: 0.275601 Train acc: 0.908062 Valid acc: 0.892713\n",
      "Epoch: 98/100 Train loss: 0.226457 Valid loss: 0.275015 Train acc: 0.908530 Valid acc: 0.892985\n",
      "Epoch: 99/100 Train loss: 0.225425 Valid loss: 0.274403 Train acc: 0.909005 Valid acc: 0.893269\n",
      "Epoch: 100/100 Train loss: 0.224397 Valid loss: 0.273811 Train acc: 0.909447 Valid acc: 0.893551\n"
     ]
    }
   ],
   "source": [
    "train_acc, train_loss = [], []\n",
    "valid_acc, valid_loss = [], []\n",
    "\n",
    "# Save the training result or trained and validated model params\n",
    "saver = tf.train.Saver()\n",
    "\n",
    "with tf.Session() as sess:\n",
    "    sess.run(tf.global_variables_initializer())\n",
    "   \n",
    "    # Loop over epochs\n",
    "    for e in range(epochs):\n",
    "        \n",
    "        # Loop over batches\n",
    "        for x, y in get_batches(X_train_norm, Y_train_onehot, batch_size):\n",
    "            \n",
    "            ######################## Training\n",
    "            # Feed dictionary\n",
    "            feed = {inputs_ : x, labels_ : y, keep_prob_ : keep_prob, learning_rate_ : learning_rate}\n",
    "            \n",
    "            # Loss\n",
    "            loss, _ , acc = sess.run([cost, optimizer, accuracy], feed_dict = feed)\n",
    "            train_acc.append(acc)\n",
    "            train_loss.append(loss)\n",
    "            \n",
    "            ################## Validation\n",
    "            acc_batch = []\n",
    "            loss_batch = []    \n",
    "            # Loop over batches\n",
    "            for x, y in get_batches(X_valid_norm, Y_valid_onehot, batch_size):\n",
    "\n",
    "                # Feed dictionary\n",
    "                feed = {inputs_ : x, labels_ : y, keep_prob_ : 1.0}\n",
    "\n",
    "                # Loss\n",
    "                loss, acc = sess.run([cost, accuracy], feed_dict = feed)\n",
    "                acc_batch.append(acc)\n",
    "                loss_batch.append(loss)\n",
    "\n",
    "            # Store\n",
    "            valid_acc.append(np.mean(acc_batch))\n",
    "            valid_loss.append(np.mean(loss_batch))\n",
    "            \n",
    "        # Print info for every iter/epoch\n",
    "        print(\"Epoch: {}/{}\".format(e+1, epochs),\n",
    "              \"Train loss: {:6f}\".format(np.mean(train_loss)),\n",
    "              \"Valid loss: {:.6f}\".format(np.mean(valid_loss)),\n",
    "              \"Train acc: {:6f}\".format(np.mean(train_acc)),\n",
    "              \"Valid acc: {:.6f}\".format(np.mean(valid_acc)))\n",
    "                \n",
    "    saver.save(sess,\"checkpoints-dcnn/face.ckpt\")"
   ]
  },
  {
   "cell_type": "code",
   "execution_count": 11,
   "metadata": {},
   "outputs": [
    {
     "data": {
      "image/png": "[encoded data removed]",
      "text/plain": [
       "<matplotlib.figure.Figure at 0x7f38afdbb0f0>"
      ]
     },
     "metadata": {},
     "output_type": "display_data"
    }
   ],
   "source": [
    "import matplotlib.pyplot as mplot\n",
    "\n",
    "mplot.plot(train_loss, label='Face train_loss')\n",
    "mplot.plot(valid_loss, label='Face valid_loss')\n",
    "mplot.legend()\n",
    "mplot.show()"
   ]
  },
  {
   "cell_type": "code",
   "execution_count": 12,
   "metadata": {},
   "outputs": [
    {
     "data": {
      "image/png": "[encoded data removed]",
      "text/plain": [
       "<matplotlib.figure.Figure at 0x7f384c04ddd8>"
      ]
     },
     "metadata": {},
     "output_type": "display_data"
    }
   ],
   "source": [
    "# import matplotlib.pyplot as mplot\n",
    "mplot.plot(train_acc, label='Face train_acc')\n",
    "mplot.plot(valid_acc, label='Face valid_acc')\n",
    "mplot.legend()\n",
    "mplot.show()"
   ]
  },
  {
   "cell_type": "code",
   "execution_count": 13,
   "metadata": {},
   "outputs": [
    {
     "name": "stdout",
     "output_type": "stream",
     "text": [
      "INFO:tensorflow:Restoring parameters from checkpoints-dcnn/face.ckpt\n",
      "Test loss: 0.192754 Test acc: 0.927739\n"
     ]
    }
   ],
   "source": [
    "test_acc, test_loss = [], []\n",
    "\n",
    "with tf.Session() as sess:\n",
    "    # Restore the validated model\n",
    "    saver.restore(sess, tf.train.latest_checkpoint('checkpoints-dcnn'))\n",
    "    \n",
    "    ################## Test\n",
    "    acc_batch = []\n",
    "    loss_batch = []    \n",
    "    # Loop over batches\n",
    "    for x, y in get_batches(X_test_norm, Y_test_onehot, batch_size):\n",
    "\n",
    "        # Feed dictionary\n",
    "        feed = {inputs_ : x, labels_ : y, keep_prob_ : 1.0}\n",
    "\n",
    "        # Loss\n",
    "        loss, acc = sess.run([cost, accuracy], feed_dict = feed)\n",
    "        acc_batch.append(acc)\n",
    "        loss_batch.append(loss)\n",
    "\n",
    "    # Store\n",
    "    test_acc.append(np.mean(acc_batch))\n",
    "    test_loss.append(np.mean(loss_batch))\n",
    "\n",
    "    # Print info for every iter/epoch\n",
    "    print(\"Test loss: {:6f}\".format(np.mean(test_loss)),\n",
    "          \"Test acc: {:.6f}\".format(np.mean(test_acc)))"
   ]
  },
  {
   "cell_type": "code",
   "execution_count": null,
   "metadata": {},
   "outputs": [],
   "source": []
  }
 ],
 "metadata": {
  "kernelspec": {
   "display_name": "Python 3",
   "language": "python",
   "name": "python3"
  },
  "language_info": {
   "codemirror_mode": {
    "name": "ipython",
    "version": 3
   },
   "file_extension": ".py",
   "mimetype": "text/x-python",
   "name": "python",
   "nbconvert_exporter": "python",
   "pygments_lexer": "ipython3",
   "version": "3.6.3"
  }
 },
 "nbformat": 4,
 "nbformat_minor": 2
}
