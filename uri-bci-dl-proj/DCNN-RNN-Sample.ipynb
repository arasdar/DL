{
 "cells": [
  {
   "cell_type": "code",
   "execution_count": 1,
   "metadata": {},
   "outputs": [],
   "source": [
    "import scipy.io as spio\n",
    "import numpy as np"
   ]
  },
  {
   "cell_type": "code",
   "execution_count": 2,
   "metadata": {},
   "outputs": [],
   "source": [
    "X = spio.loadmat(file_name='../data/bci-sample-data/x.mat')"
   ]
  },
  {
   "cell_type": "code",
   "execution_count": 3,
   "metadata": {},
   "outputs": [],
   "source": [
    "Y = spio.loadmat(file_name='../data/bci-sample-data/y.mat')"
   ]
  },
  {
   "cell_type": "code",
   "execution_count": 4,
   "metadata": {},
   "outputs": [],
   "source": [
    "Data = X['Intensification_Data']\n",
    "SType = Y['Intensification_SType'].mean(axis=1)"
   ]
  },
  {
   "cell_type": "code",
   "execution_count": 5,
   "metadata": {},
   "outputs": [
    {
     "data": {
      "text/plain": [
       "((6480, 192, 64), (6480,), dtype('<f8'), dtype('float64'))"
      ]
     },
     "execution_count": 5,
     "metadata": {},
     "output_type": "execute_result"
    }
   ],
   "source": [
    "(Data.shape, SType.shape, Data.dtype, SType.dtype)"
   ]
  },
  {
   "cell_type": "code",
   "execution_count": 6,
   "metadata": {},
   "outputs": [
    {
     "data": {
      "text/plain": [
       "1944"
      ]
     },
     "execution_count": 6,
     "metadata": {},
     "output_type": "execute_result"
    }
   ],
   "source": [
    "# 30 % total data test\n",
    "# 70 % total data train+valid\n",
    "length = int(Data.shape[0] * 0.30)\n",
    "length"
   ]
  },
  {
   "cell_type": "code",
   "execution_count": 7,
   "metadata": {},
   "outputs": [],
   "source": [
    "TrainDataAll = Data[:-length]\n",
    "TestData = Data[-length:]"
   ]
  },
  {
   "cell_type": "code",
   "execution_count": 8,
   "metadata": {},
   "outputs": [
    {
     "data": {
      "text/plain": [
       "((4536, 192, 64), (1944, 192, 64))"
      ]
     },
     "execution_count": 8,
     "metadata": {},
     "output_type": "execute_result"
    }
   ],
   "source": [
    "TrainDataAll.shape, TestData.shape"
   ]
  },
  {
   "cell_type": "code",
   "execution_count": 9,
   "metadata": {},
   "outputs": [
    {
     "data": {
      "text/plain": [
       "1360"
      ]
     },
     "execution_count": 9,
     "metadata": {},
     "output_type": "execute_result"
    }
   ],
   "source": [
    "# 30% total train data is valid\n",
    "# 70% total trainALl is training\n",
    "length2 = int(TrainDataAll.shape[0] * 0.30)\n",
    "length2"
   ]
  },
  {
   "cell_type": "code",
   "execution_count": 10,
   "metadata": {},
   "outputs": [],
   "source": [
    "TrainData = TrainDataAll[:-length2]\n",
    "ValidData = TrainDataAll[-length2:]"
   ]
  },
  {
   "cell_type": "code",
   "execution_count": 11,
   "metadata": {},
   "outputs": [
    {
     "data": {
      "text/plain": [
       "((3176, 192, 64), (1360, 192, 64))"
      ]
     },
     "execution_count": 11,
     "metadata": {},
     "output_type": "execute_result"
    }
   ],
   "source": [
    "TrainData.shape, ValidData.shape"
   ]
  },
  {
   "cell_type": "code",
   "execution_count": 12,
   "metadata": {},
   "outputs": [],
   "source": [
    "# Normalizing input data\n",
    "def normalize(inputs):\n",
    "    return (inputs - inputs.mean(axis=0)[None,:,:]) / inputs.std(axis=0)[None,:,:]\n",
    "\n",
    "# onehot vectorizing output labels\n",
    "def one_hot(labels, n_class):\n",
    "    \"\"\" One-hot encoding \"\"\"\n",
    "    expansion = np.eye(n_class)\n",
    "    y = expansion[:, labels-1].T\n",
    "    assert y.shape[1] == n_class, \"Wrong number of labels!\"\n",
    "\n",
    "    return y\n",
    "\n",
    "# get minibatches for learning\n",
    "def get_batches(X, y, batch_size):\n",
    "    \"\"\" Return a generator for batches \"\"\"\n",
    "    n_batches = len(X) // batch_size\n",
    "    X, y = X[:n_batches*batch_size], y[:n_batches*batch_size]\n",
    "\n",
    "    # Loop over batches and yield\n",
    "    for b in range(0, len(X), batch_size):\n",
    "        yield X[b:b+batch_size], y[b:b+batch_size]"
   ]
  },
  {
   "cell_type": "code",
   "execution_count": 13,
   "metadata": {},
   "outputs": [],
   "source": [
    "# Standardize/normalize train and test\n",
    "X_train_norm = normalize(inputs=TrainData)\n",
    "X_valid_norm = normalize(inputs=ValidData)\n",
    "X_test_norm = normalize(inputs=TestData)"
   ]
  },
  {
   "cell_type": "code",
   "execution_count": 14,
   "metadata": {},
   "outputs": [
    {
     "data": {
      "text/plain": [
       "((3176, 192, 64),\n",
       " dtype('<f8'),\n",
       " (1360, 192, 64),\n",
       " dtype('<f8'),\n",
       " (1944, 192, 64),\n",
       " dtype('<f8'))"
      ]
     },
     "execution_count": 14,
     "metadata": {},
     "output_type": "execute_result"
    }
   ],
   "source": [
    "(X_train_norm.shape, X_train_norm.dtype, \n",
    "X_valid_norm.shape, X_valid_norm.dtype,\n",
    "X_test_norm.shape, X_test_norm.dtype)"
   ]
  },
  {
   "cell_type": "code",
   "execution_count": 15,
   "metadata": {},
   "outputs": [],
   "source": [
    "LabelsAll = SType[:]\n",
    "TrainLabelsAll = SType[:-length]\n",
    "TestLabels = SType[-length:]"
   ]
  },
  {
   "cell_type": "code",
   "execution_count": 16,
   "metadata": {},
   "outputs": [
    {
     "data": {
      "text/plain": [
       "((6480,), (4536,), (1944,))"
      ]
     },
     "execution_count": 16,
     "metadata": {},
     "output_type": "execute_result"
    }
   ],
   "source": [
    "LabelsAll.shape, TrainLabelsAll.shape, TestLabels.shape"
   ]
  },
  {
   "cell_type": "code",
   "execution_count": 17,
   "metadata": {},
   "outputs": [],
   "source": [
    "TrainLabels = TrainLabelsAll[:-length2]\n",
    "ValidLabels = TrainLabelsAll[-length2:]"
   ]
  },
  {
   "cell_type": "code",
   "execution_count": 18,
   "metadata": {},
   "outputs": [
    {
     "data": {
      "text/plain": [
       "((3176,), (1360,))"
      ]
     },
     "execution_count": 18,
     "metadata": {},
     "output_type": "execute_result"
    }
   ],
   "source": [
    "TrainLabels.shape, ValidLabels.shape"
   ]
  },
  {
   "cell_type": "code",
   "execution_count": 19,
   "metadata": {},
   "outputs": [],
   "source": [
    "Y_train = np.array(TrainLabels, dtype=int)\n",
    "Y_valid = np.array(ValidLabels, dtype=int)\n",
    "Y_test = np.array(TestLabels, dtype=int)"
   ]
  },
  {
   "cell_type": "code",
   "execution_count": 20,
   "metadata": {},
   "outputs": [
    {
     "data": {
      "text/plain": [
       "((3176,), dtype('int64'), (1944,), dtype('int64'), (1360,), dtype('int64'))"
      ]
     },
     "execution_count": 20,
     "metadata": {},
     "output_type": "execute_result"
    }
   ],
   "source": [
    "(Y_train.shape, Y_train.dtype, \n",
    "Y_test.shape, Y_test.dtype,\n",
    "Y_valid.shape, Y_valid.dtype)"
   ]
  },
  {
   "cell_type": "markdown",
   "metadata": {},
   "source": [
    "### Hyperparameters"
   ]
  },
  {
   "cell_type": "code",
   "execution_count": 21,
   "metadata": {},
   "outputs": [],
   "source": [
    "# CNN hyper parameters\n",
    "# Input data\n",
    "batch_size = X_train_norm.shape[0]// 100 # minibatch size & number of minibatches\n",
    "seq_len = X_train_norm.shape[1] # Number of steps: each trial length\n",
    "n_channels = X_train_norm.shape[2] # number of channels in each trial\n",
    "\n",
    "# Output labels\n",
    "n_classes = int(LabelsAll.max() + 1)\n",
    "\n",
    "# Tweekable parameters\n",
    "learning_rate = 0.001 #1e-3\n",
    "epochs = 1 # num iterations for updating model\n",
    "keep_prob = 0.50 # 90% neurons are kept and 10% are dropped out"
   ]
  },
  {
   "cell_type": "code",
   "execution_count": 22,
   "metadata": {},
   "outputs": [],
   "source": [
    "Y_train_onehot = one_hot(labels=Y_train, n_class=n_classes)\n",
    "Y_valid_onehot = one_hot(labels=Y_valid, n_class=n_classes)\n",
    "Y_test_onehot = one_hot(labels=Y_test, n_class=n_classes)"
   ]
  },
  {
   "cell_type": "code",
   "execution_count": 23,
   "metadata": {},
   "outputs": [
    {
     "data": {
      "text/plain": [
       "((3176, 2),\n",
       " (1360, 2),\n",
       " (1944, 2),\n",
       " (3176, 192, 64),\n",
       " (1360, 192, 64),\n",
       " (1944, 192, 64))"
      ]
     },
     "execution_count": 23,
     "metadata": {},
     "output_type": "execute_result"
    }
   ],
   "source": [
    "(Y_train_onehot.shape, Y_valid_onehot.shape, Y_test_onehot.shape,\n",
    " X_train_norm.shape, X_valid_norm.shape, X_test_norm.shape)"
   ]
  },
  {
   "cell_type": "markdown",
   "metadata": {},
   "source": [
    "# GPUs availability or CPU"
   ]
  },
  {
   "cell_type": "code",
   "execution_count": 24,
   "metadata": {},
   "outputs": [
    {
     "name": "stdout",
     "output_type": "stream",
     "text": [
      "TensorFlow Version: 1.3.0\n",
      "Default GPU Device: /gpu:0\n"
     ]
    }
   ],
   "source": [
    "\"\"\"\n",
    "DON'T MODIFY ANYTHING IN THIS CELL\n",
    "\"\"\"\n",
    "from distutils.version import LooseVersion\n",
    "import warnings\n",
    "import tensorflow as tf\n",
    "\n",
    "# Check TensorFlow Version\n",
    "assert LooseVersion(tf.__version__) >= LooseVersion('1.0'), 'Please use TensorFlow version 1.0 or newer.  You are using {}'.format(tf.__version__)\n",
    "print('TensorFlow Version: {}'.format(tf.__version__))\n",
    "\n",
    "# Check for a GPU\n",
    "if not tf.test.gpu_device_name():\n",
    "    warnings.warn('No GPU found. Please use a GPU to train your neural network.')\n",
    "else:\n",
    "    print('Default GPU Device: {}'.format(tf.test.gpu_device_name()))"
   ]
  },
  {
   "cell_type": "code",
   "execution_count": 25,
   "metadata": {},
   "outputs": [],
   "source": [
    "#  No graphs is needed on tensorflow\n",
    "inputs_ = tf.placeholder(tf.float32, [None, seq_len, n_channels], name = 'inputs_')\n",
    "labels_ = tf.placeholder(tf.float32, [None, n_classes], name = 'labels_')\n",
    "keep_prob_ = tf.placeholder(tf.float32, name = 'keep_prob_')\n",
    "learning_rate_ = tf.placeholder(tf.float32, name = 'learning_rate_')"
   ]
  },
  {
   "cell_type": "code",
   "execution_count": 28,
   "metadata": {},
   "outputs": [
    {
     "name": "stdout",
     "output_type": "stream",
     "text": [
      "in_conv.shape (?, 192, 64)\n",
      "out_conv.shape (?, 91, 18)\n"
     ]
    }
   ],
   "source": [
    "# Convolutional Layers\n",
    "# (batch, 192, 9) --> (batch, 91, 18)\n",
    "in_conv = inputs_\n",
    "print('in_conv.shape', in_conv.shape)\n",
    "out_conv = tf.layers.conv1d(inputs=inputs_, filters=18, kernel_size=12, strides=2, \n",
    "                         padding='valid', activation = tf.nn.relu)\n",
    "out_conv = tf.nn.dropout(x=out_conv, keep_prob=keep_prob_)\n",
    "print('out_conv.shape', out_conv.shape)"
   ]
  },
  {
   "cell_type": "code",
   "execution_count": 29,
   "metadata": {},
   "outputs": [
    {
     "name": "stdout",
     "output_type": "stream",
     "text": [
      "(?, 91, 18)\n",
      "(91, ?, 18)\n",
      "(?, 18)\n",
      "54\n",
      "(?, 54)\n",
      "91\n"
     ]
    }
   ],
   "source": [
    "# Embedding or similar\n",
    "lstm_in = out_conv\n",
    "print(lstm_in.shape)\n",
    "lstm_in = tf.transpose(lstm_in, [1,0,2]) # reshape into (seq_len, N, channels)\n",
    "print(lstm_in.shape)\n",
    "lstm_in = tf.reshape(lstm_in, [-1, 18]) # Now (seq_len*N, n_channels)\n",
    "print(lstm_in.shape)\n",
    "\n",
    "# To cells\n",
    "lstm_size = 18*3 # 3 times the amount of lstm/rrn input channels\n",
    "print(lstm_size)\n",
    "# lstm_layers = 1        # Number of layers\n",
    "lstm_in = tf.layers.dense(lstm_in, lstm_size, activation=None) # or tf.nn.relu, tf.nn.sigmoid, tf.nn.tanh?\n",
    "print(lstm_in.shape)\n",
    "\n",
    "# Open up the tensor into a list of seq_len pieces\n",
    "lstm_in = tf.split(lstm_in, 91, 0)\n",
    "print(len(lstm_in))"
   ]
  },
  {
   "cell_type": "code",
   "execution_count": 30,
   "metadata": {},
   "outputs": [
    {
     "name": "stdout",
     "output_type": "stream",
     "text": [
      "<tensorflow.python.ops.rnn_cell_impl.BasicLSTMCell object at 0x7fb9a0073cf8>\n",
      "<tensorflow.python.ops.rnn_cell_impl.DropoutWrapper object at 0x7fb9a0073c50>\n",
      "<tensorflow.python.ops.rnn_cell_impl.MultiRNNCell object at 0x7fb9a0067e80>\n",
      "(LSTMStateTuple(c=<tf.Tensor 'MultiRNNCellZeroState/DropoutWrapperZeroState/BasicLSTMCellZeroState/zeros:0' shape=(31, 54) dtype=float32>, h=<tf.Tensor 'MultiRNNCellZeroState/DropoutWrapperZeroState/BasicLSTMCellZeroState/zeros_1:0' shape=(31, 54) dtype=float32>),)\n"
     ]
    }
   ],
   "source": [
    "# Add LSTM layers\n",
    "lstm = tf.contrib.rnn.BasicLSTMCell(lstm_size)\n",
    "print(lstm)\n",
    "drop = tf.contrib.rnn.DropoutWrapper(lstm, output_keep_prob=keep_prob_)\n",
    "print(drop)\n",
    "cell = tf.contrib.rnn.MultiRNNCell([drop]) #[drop] * lstm_layers\n",
    "print(cell)\n",
    "initial_state = cell.zero_state(batch_size, tf.float32)\n",
    "print(initial_state)"
   ]
  },
  {
   "cell_type": "code",
   "execution_count": 31,
   "metadata": {},
   "outputs": [],
   "source": [
    "# Reuse should be activated\n",
    "# Remember the inputs are usually embedded input or texts\n",
    "outputs, final_state = tf.contrib.rnn.static_rnn(cell=cell, inputs=lstm_in, dtype=tf.float32, \n",
    "                                                 initial_state = initial_state)\n",
    "# outputs, final_state = tf.nn.dynamic_rnn(cell, lstm_in, dtype=tf.float32, \n",
    "#                                          initial_state=initial_state)# print(outputs, final_state)"
   ]
  },
  {
   "cell_type": "code",
   "execution_count": 32,
   "metadata": {},
   "outputs": [
    {
     "name": "stdout",
     "output_type": "stream",
     "text": [
      "Tensor(\"logits/BiasAdd:0\", shape=(31, 2), dtype=float32) Tensor(\"rnn/rnn/multi_rnn_cell/cell_0_90/dropout/mul:0\", shape=(31, 54), dtype=float32)\n"
     ]
    }
   ],
   "source": [
    "# We only need the last output tensor to pass into a classifier\n",
    "logits = tf.layers.dense(outputs[-1], n_classes, name='logits')\n",
    "print(logits, outputs[-1])"
   ]
  },
  {
   "cell_type": "code",
   "execution_count": 36,
   "metadata": {},
   "outputs": [],
   "source": [
    "# Cost function\n",
    "cost_tensor = tf.nn.softmax_cross_entropy_with_logits(logits=logits, labels=labels_)\n",
    "cost = tf.reduce_mean(input_tensor=cost_tensor)\n",
    "\n",
    "# Optimizer\n",
    "optimizer = tf.train.AdamOptimizer(learning_rate=learning_rate_).minimize(cost)\n",
    "\n",
    "# Accuracy\n",
    "correct_pred = tf.equal(tf.argmax(logits, 1), tf.argmax(labels_, 1))\n",
    "accuracy = tf.reduce_mean(tf.cast(correct_pred, tf.float32), name='accuracy')"
   ]
  },
  {
   "cell_type": "markdown",
   "metadata": {},
   "source": [
    "### Train the network"
   ]
  },
  {
   "cell_type": "code",
   "execution_count": 45,
   "metadata": {},
   "outputs": [
    {
     "name": "stdout",
     "output_type": "stream",
     "text": [
      "Epoch: 1/1 Train loss: 0.421438 Valid loss: 0.479534 Train acc: 0.838710 Valid acc: 0.819197\n",
      "Epoch: 1/1 Test loss: 0.494102 Test acc: 0.806452\n",
      "Epoch: 1/1 Test loss: 0.442674 Test acc: 0.838710\n",
      "Epoch: 1/1 Test loss: 0.459733 Test acc: 0.827957\n",
      "Epoch: 1/1 Test loss: 0.441877 Test acc: 0.838710\n",
      "Epoch: 1/1 Test loss: 0.444351 Test acc: 0.838710\n",
      "Epoch: 1/1 Test loss: 0.464887 Test acc: 0.827957\n",
      "Epoch: 1/1 Test loss: 0.451569 Test acc: 0.834101\n",
      "Epoch: 1/1 Test loss: 0.448641 Test acc: 0.834677\n",
      "Epoch: 1/1 Test loss: 0.448212 Test acc: 0.835125\n",
      "Epoch: 1/1 Test loss: 0.452739 Test acc: 0.832258\n",
      "Epoch: 1/1 Test loss: 0.447115 Test acc: 0.835777\n",
      "Epoch: 1/1 Test loss: 0.453000 Test acc: 0.833333\n",
      "Epoch: 1/1 Test loss: 0.451785 Test acc: 0.833747\n",
      "Epoch: 1/1 Test loss: 0.451013 Test acc: 0.834101\n",
      "Epoch: 1/1 Test loss: 0.450098 Test acc: 0.834409\n",
      "Epoch: 1/1 Test loss: 0.452636 Test acc: 0.832661\n",
      "Epoch: 1/1 Test loss: 0.451500 Test acc: 0.833017\n",
      "Epoch: 1/1 Test loss: 0.451258 Test acc: 0.833333\n",
      "Epoch: 1/1 Test loss: 0.454228 Test acc: 0.831918\n",
      "Epoch: 1/1 Test loss: 0.450719 Test acc: 0.833871\n",
      "Epoch: 1/1 Test loss: 0.450599 Test acc: 0.834101\n",
      "Epoch: 1/1 Test loss: 0.452971 Test acc: 0.832844\n",
      "Epoch: 1/1 Test loss: 0.454369 Test acc: 0.833099\n",
      "Epoch: 1/1 Test loss: 0.453579 Test acc: 0.833333\n",
      "Epoch: 1/1 Test loss: 0.455901 Test acc: 0.832258\n",
      "Epoch: 1/1 Test loss: 0.454688 Test acc: 0.832506\n",
      "Epoch: 1/1 Test loss: 0.449930 Test acc: 0.835125\n",
      "Epoch: 1/1 Test loss: 0.452274 Test acc: 0.834101\n",
      "Epoch: 1/1 Test loss: 0.454468 Test acc: 0.833148\n",
      "Epoch: 1/1 Test loss: 0.454427 Test acc: 0.833333\n",
      "Epoch: 1/1 Test loss: 0.454208 Test acc: 0.833507\n",
      "Epoch: 1/1 Test loss: 0.455735 Test acc: 0.832661\n",
      "Epoch: 1/1 Test loss: 0.453487 Test acc: 0.833822\n",
      "Epoch: 1/1 Test loss: 0.455217 Test acc: 0.833017\n",
      "Epoch: 1/1 Test loss: 0.454041 Test acc: 0.833180\n",
      "Epoch: 1/1 Test loss: 0.454218 Test acc: 0.833333\n",
      "Epoch: 1/1 Test loss: 0.455201 Test acc: 0.832607\n",
      "Epoch: 1/1 Test loss: 0.453373 Test acc: 0.833616\n",
      "Epoch: 1/1 Test loss: 0.454328 Test acc: 0.832920\n",
      "Epoch: 1/1 Test loss: 0.452703 Test acc: 0.833871\n",
      "Epoch: 1/1 Test loss: 0.453879 Test acc: 0.833202\n",
      "Epoch: 1/1 Test loss: 0.453702 Test acc: 0.833333\n",
      "Epoch: 1/1 Test loss: 0.454633 Test acc: 0.832708\n",
      "Epoch: 1/1 Test loss: 0.454093 Test acc: 0.832845\n",
      "Epoch: 1/1 Test loss: 0.453579 Test acc: 0.832975\n",
      "Epoch: 1/1 Test loss: 0.453679 Test acc: 0.833100\n",
      "Epoch: 1/1 Test loss: 0.452374 Test acc: 0.833905\n",
      "Epoch: 1/1 Test loss: 0.453181 Test acc: 0.833333\n",
      "Epoch: 1/1 Test loss: 0.453776 Test acc: 0.832785\n",
      "Epoch: 1/1 Test loss: 0.452476 Test acc: 0.833548\n",
      "Epoch: 1/1 Test loss: 0.452089 Test acc: 0.833650\n",
      "Epoch: 1/1 Test loss: 0.453080 Test acc: 0.833126\n",
      "Epoch: 1/1 Test loss: 0.452837 Test acc: 0.833232\n",
      "Epoch: 1/1 Test loss: 0.452401 Test acc: 0.833333\n",
      "Epoch: 1/1 Test loss: 0.452275 Test acc: 0.833431\n",
      "Epoch: 1/1 Test loss: 0.453075 Test acc: 0.832949\n",
      "Epoch: 1/1 Test loss: 0.451858 Test acc: 0.833616\n",
      "Epoch: 1/1 Test loss: 0.452815 Test acc: 0.833148\n",
      "Epoch: 1/1 Test loss: 0.452845 Test acc: 0.833242\n",
      "Epoch: 1/1 Test loss: 0.452693 Test acc: 0.833333\n",
      "Epoch: 1/1 Test loss: 0.452688 Test acc: 0.833422\n",
      "Epoch: 1/1 Test loss: 0.453343 Test acc: 0.832987\n"
     ]
    }
   ],
   "source": [
    "# Plotting the acc and loss curve\n",
    "train_acc = []\n",
    "train_loss = []\n",
    "\n",
    "valid_acc = []\n",
    "valid_loss = []\n",
    "\n",
    "with tf.Session() as sess:\n",
    "    # initalize session global variables just in the case they are initialized.\n",
    "    sess.run(tf.global_variables_initializer())\n",
    "    \n",
    "    for e in range(epochs):\n",
    "        # Initialize \n",
    "        state = sess.run(initial_state)\n",
    "        \n",
    "        # Loop over batches\n",
    "        for x, y in get_batches(X_train_norm, Y_train_onehot, batch_size):\n",
    "            \n",
    "            # Feed dictionary\n",
    "            feed = {inputs_:x, labels_:y, keep_prob_: keep_prob, initial_state:state, \n",
    "                    learning_rate_:learning_rate}\n",
    "            loss, _ , state, acc = sess.run([cost, optimizer, final_state, accuracy], feed_dict = feed)\n",
    "            \n",
    "            train_acc.append(acc)\n",
    "            train_loss.append(loss)\n",
    "            \n",
    "            ################################ Validation\n",
    "            # Initialize \n",
    "            state_v = sess.run(cell.zero_state(batch_size, tf.float32))\n",
    "            loss_v_batch, acc_v_batch = [], []\n",
    "\n",
    "            # Loop over batches\n",
    "            for x_v, y_v in get_batches(X_valid_norm, Y_valid_onehot, batch_size):\n",
    "\n",
    "                # Feed dictionary\n",
    "                feed = {inputs_:x_v, labels_:y_v, keep_prob_: 1.0, initial_state:state_v}\n",
    "                loss_v, state_v, acc_v = sess.run([cost, final_state, accuracy], feed_dict = feed)\n",
    "                \n",
    "                acc_v_batch.append(acc_v)\n",
    "                loss_v_batch.append(loss_v)\n",
    "                \n",
    "            valid_acc.append(np.mean(acc_v_batch))\n",
    "            valid_loss.append(np.mean(loss_v_batch))\n",
    "            \n",
    "        # Print info\n",
    "        print(\"Epoch: {}/{}\".format(e+1, epochs),\n",
    "              \"Train loss: {:6f}\".format(loss),\n",
    "              \"Valid loss: {:.6f}\".format(np.mean(valid_loss)),\n",
    "              \"Train acc: {:6f}\".format(acc),\n",
    "              \"Valid acc: {:.6f}\".format(np.mean(valid_acc)))\n",
    "            \n",
    "    ################################ Test\n",
    "    # Initialize \n",
    "    state = sess.run(initial_state)\n",
    "    acc_batch, loss_batch = [], []\n",
    "\n",
    "    # Loop over batches\n",
    "    for x, y in get_batches(X_test_norm, Y_test_onehot, batch_size):\n",
    "\n",
    "        # Feed dictionary\n",
    "        feed = {inputs_:x, labels_:y, keep_prob_:1.0, initial_state:state}\n",
    "        loss, state, acc = sess.run([cost, final_state, accuracy], feed_dict = feed)\n",
    "\n",
    "        acc_batch.append(acc)\n",
    "        loss_batch.append(loss)\n",
    "\n",
    "    # Print info\n",
    "    print(\"Epoch: {}/{}\".format(e+1, epochs),\n",
    "          \"Test loss: {:6f}\".format(np.mean(loss_batch)),\n",
    "          \"Test acc: {:6f}\".format(np.mean(acc_batch)))"
   ]
  },
  {
   "cell_type": "code",
   "execution_count": 46,
   "metadata": {},
   "outputs": [
    {
     "data": {
      "image/png": "[encoded data removed]",
      "text/plain": [
       "<matplotlib.figure.Figure at 0x7fb7b938e240>"
      ]
     },
     "metadata": {},
     "output_type": "display_data"
    }
   ],
   "source": [
    "import matplotlib.pyplot as mplot\n",
    "\n",
    "mplot.plot(train_loss, label='train_losses')\n",
    "mplot.plot(valid_loss, label='valid_losses')\n",
    "mplot.legend()\n",
    "mplot.show()"
   ]
  },
  {
   "cell_type": "code",
   "execution_count": 47,
   "metadata": {},
   "outputs": [
    {
     "data": {
      "image/png": "[encoded data removed]",
      "text/plain": [
       "<matplotlib.figure.Figure at 0x7fb7af224208>"
      ]
     },
     "metadata": {},
     "output_type": "display_data"
    }
   ],
   "source": [
    "# import matplotlib.pyplot as mplot\n",
    "\n",
    "mplot.plot(train_acc, label='train_acc_list')\n",
    "mplot.plot(valid_acc, label='valid_acc_list')\n",
    "mplot.legend()\n",
    "mplot.show()"
   ]
  },
  {
   "cell_type": "code",
   "execution_count": null,
   "metadata": {},
   "outputs": [],
   "source": []
  }
 ],
 "metadata": {
  "kernelspec": {
   "display_name": "Python 3",
   "language": "python",
   "name": "python3"
  },
  "language_info": {
   "codemirror_mode": {
    "name": "ipython",
    "version": 3
   },
   "file_extension": ".py",
   "mimetype": "text/x-python",
   "name": "python",
   "nbconvert_exporter": "python",
   "pygments_lexer": "ipython3",
   "version": "3.6.3"
  }
 },
 "nbformat": 4,
 "nbformat_minor": 2
}
