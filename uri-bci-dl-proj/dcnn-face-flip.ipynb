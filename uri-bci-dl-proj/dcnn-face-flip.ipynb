{
 "cells": [
  {
   "cell_type": "code",
   "execution_count": 2,
   "metadata": {},
   "outputs": [
    {
     "name": "stdout",
     "output_type": "stream",
     "text": [
      "(62700, 205, 16) float64 (62700, 1) uint8\n",
      "0.5 0.5 0.0 0.0\n",
      "[2]\n"
     ]
    }
   ],
   "source": [
    "# Read the dataset\n",
    "import scipy.io as spio\n",
    "import numpy as np\n",
    "\n",
    "BahramFace = spio.loadmat(file_name='/home/arasdar/datasets/bci-project-data-RAW/BahramFace.mat')\n",
    "DJFace = spio.loadmat(file_name='/home/arasdar/datasets/bci-project-data-RAW/DJFace.mat')\n",
    "NickFace = spio.loadmat(file_name='/home/arasdar/datasets/bci-project-data-RAW/NickFace.mat')\n",
    "RoohiFace = spio.loadmat(file_name='/home/arasdar/datasets/bci-project-data-RAW/RoohiFace.mat')\n",
    "SarahFace = spio.loadmat(file_name='/home/arasdar/datasets/bci-project-data-RAW/SarahFace.mat')\n",
    "\n",
    "BahramFlip = spio.loadmat(file_name='/home/arasdar/datasets/bci-project-data-RAW/BahramFlipp.mat')\n",
    "DJFlip = spio.loadmat(file_name='/home/arasdar/datasets/bci-project-data-RAW/DJFlipp.mat')\n",
    "NickFlip = spio.loadmat(file_name='/home/arasdar/datasets/bci-project-data-RAW/NickFlipp.mat')\n",
    "RoohiFlip = spio.loadmat(file_name='/home/arasdar/datasets/bci-project-data-RAW/RoohiFlipp.mat')\n",
    "SarahFlip = spio.loadmat(file_name='/home/arasdar/datasets/bci-project-data-RAW/SarahFlipp.mat')\n",
    "\n",
    "\n",
    "AllData = np.concatenate((BahramFace['Intensification_Data'],\n",
    "                            DJFace['Intensification_Data'],\n",
    "                            NickFace['Intensification_Data'],\n",
    "                            RoohiFace['Intensification_Data'],\n",
    "                            SarahFace['Intensification_Data'],\n",
    "                            BahramFlip['Intensification_Data'],\n",
    "                            DJFlip['Intensification_Data'],\n",
    "                            NickFlip['Intensification_Data'],\n",
    "                            RoohiFlip['Intensification_Data'],\n",
    "                            SarahFlip['Intensification_Data']), axis=0)\n",
    "\n",
    "AllLabels = np.concatenate((BahramFace['Intensification_Label'],\n",
    "                            DJFace['Intensification_Label'],\n",
    "                            NickFace['Intensification_Label'],\n",
    "                            RoohiFace['Intensification_Label'],\n",
    "                            SarahFace['Intensification_Label'],\n",
    "                            BahramFlip['Intensification_Label'],\n",
    "                            DJFlip['Intensification_Label'],\n",
    "                            NickFlip['Intensification_Label'],\n",
    "                            RoohiFlip['Intensification_Label'],\n",
    "                            SarahFlip['Intensification_Label']), axis=0)\n",
    "\n",
    "AllLabelOne = (AllLabels==1).reshape(-1)\n",
    "AllData_LabelOne = AllData[AllLabelOne]\n",
    "\n",
    "AllLabelZero = (AllLabels==0).reshape(-1)\n",
    "AllData_LabelZero = AllData[AllLabelZero]\n",
    "\n",
    "# Linear synthetic data augmentatiion or creation or generation\n",
    "AllData_LabelOneNew_list = []\n",
    "\n",
    "# w*data+b: translation, rotation, and scaling\n",
    "# linear transformation of the target data\n",
    "w, b = 1.0, 0.0\n",
    "for idx in range(5):\n",
    "    AllData_LabelOneNew = (w * AllData_LabelOne) + b\n",
    "    AllData_LabelOneNew_list.append(AllData_LabelOneNew)\n",
    "    w *= 0.9 # 1.0, 0.9, 0.81, 0.729\n",
    "    b += 0.1 # 0.1, 0.2, 0.3\n",
    "\n",
    "AllData_LabelOneNew_total = np.array(AllData_LabelOneNew_list, \n",
    "                                      dtype=AllData_LabelOne.dtype).reshape(-1, 205, 16)\n",
    "\n",
    "AllDataNew = np.concatenate((AllData_LabelOneNew_total, AllData_LabelZero), axis=0)\n",
    "AllLabelsNew = np.concatenate((AllLabels[AllLabelZero], # Tgt = 6*Non-Tgt\n",
    "                                   AllLabels[AllLabelOne],\n",
    "                                   AllLabels[AllLabelOne],\n",
    "                                   AllLabels[AllLabelOne], \n",
    "                                   AllLabels[AllLabelOne], \n",
    "                                   AllLabels[AllLabelOne]), axis=0)\n",
    "\n",
    "print(AllDataNew.shape, AllDataNew.dtype, AllLabelsNew.shape, AllLabelsNew.dtype)\n",
    "print(np.mean(AllLabelsNew==0), np.mean(AllLabelsNew==1), np.mean(AllLabelsNew==2), np.mean(AllLabelsNew==3))\n",
    "print((AllLabelsNew +  1).max(axis=0))"
   ]
  },
  {
   "cell_type": "code",
   "execution_count": 3,
   "metadata": {},
   "outputs": [
    {
     "name": "stdout",
     "output_type": "stream",
     "text": [
      "(43890, 205, 16) (18810, 205, 16) (43890, 1) (18810, 1)\n"
     ]
    }
   ],
   "source": [
    "# Train and test split\n",
    "from sklearn.model_selection import train_test_split\n",
    "\n",
    "X_train_valid, X_test, Y_train_valid, Y_test = train_test_split(AllDataNew, AllLabelsNew, test_size=0.30)\n",
    "\n",
    "print(X_train_valid.shape, X_test.shape, Y_train_valid.shape, Y_test.shape)"
   ]
  },
  {
   "cell_type": "code",
   "execution_count": 4,
   "metadata": {},
   "outputs": [
    {
     "name": "stdout",
     "output_type": "stream",
     "text": [
      "0.0 0.499681020734 0.500318979266 0.0\n",
      "(43890, 2) float64 (18810, 2) float64\n"
     ]
    }
   ],
   "source": [
    "# Preparing input and output data\n",
    "from utilities import *\n",
    "\n",
    "# Normalizing/standardizing the input data features\n",
    "X_train_valid_norm, X_test_norm = standardize(test=X_test, train=X_train_valid)\n",
    "\n",
    "# Onehot encoding/vectorizing the output data labels\n",
    "print(np.mean((Y_train_valid+1).reshape(-1)==0), np.mean((Y_train_valid+1).reshape(-1)==1),\n",
    "     np.mean((Y_train_valid+1).reshape(-1)==2), np.mean((Y_train_valid+1).reshape(-1)==3))\n",
    "\n",
    "Y_train_valid_onehot = one_hot(labels=(Y_train_valid+1).reshape(-1), n_class=2) \n",
    "Y_test_onehot = one_hot(labels=(Y_test+1).reshape(-1), n_class=2) \n",
    "\n",
    "print(Y_train_valid_onehot.shape, Y_train_valid_onehot.dtype, \n",
    "      Y_test_onehot.shape, Y_test_onehot.dtype)"
   ]
  },
  {
   "cell_type": "code",
   "execution_count": 5,
   "metadata": {},
   "outputs": [
    {
     "name": "stdout",
     "output_type": "stream",
     "text": [
      "(30723, 205, 16) (13167, 205, 16) (30723, 2) (13167, 2)\n"
     ]
    }
   ],
   "source": [
    "# Train and valid split\n",
    "# from sklearn.model_selection import train_test_split\n",
    "\n",
    "X_train_norm, X_valid_norm, Y_train_onehot, Y_valid_onehot = train_test_split(X_train_valid_norm, \n",
    "                                                                              Y_train_valid_onehot,\n",
    "                                                                              test_size=0.30)\n",
    "\n",
    "print(X_train_norm.shape, X_valid_norm.shape, Y_train_onehot.shape, Y_valid_onehot.shape)"
   ]
  },
  {
   "cell_type": "code",
   "execution_count": 6,
   "metadata": {},
   "outputs": [
    {
     "name": "stdout",
     "output_type": "stream",
     "text": [
      "batch_size, seq_len, n_channels 307 205 16\n",
      "n_classes [2]\n"
     ]
    }
   ],
   "source": [
    "## Hyperparameters\n",
    "# Input data\n",
    "batch_size = X_train_norm.shape[0]// 100 # minibatch size & number of minibatches\n",
    "seq_len = X_train_norm.shape[1] # Number of steps: each trial length\n",
    "n_channels = X_train_norm.shape[2] # number of channels in each trial\n",
    "print('batch_size, seq_len, n_channels', batch_size, seq_len, n_channels)\n",
    "\n",
    "# Output labels\n",
    "n_classes = Y_train_valid.max(axis=0)+1\n",
    "assert Y_train_valid.max(axis=0) == Y_test.max(axis=0)\n",
    "print('n_classes', n_classes)\n",
    "\n",
    "# learning parameters\n",
    "learning_rate = 0.0001 #1e-4\n",
    "epochs = 100 # num iterations for updating model\n",
    "keep_prob = 0.50 # 90% neurons are kept and 10% are dropped out"
   ]
  },
  {
   "cell_type": "code",
   "execution_count": 7,
   "metadata": {},
   "outputs": [
    {
     "name": "stdout",
     "output_type": "stream",
     "text": [
      "TensorFlow Version: 1.3.0\n",
      "Default GPU Device: /gpu:0\n"
     ]
    }
   ],
   "source": [
    "# GPUs or CPU\n",
    "import tensorflow as tf\n",
    "\n",
    "# Check TensorFlow Version\n",
    "print('TensorFlow Version: {}'.format(tf.__version__))\n",
    "\n",
    "# Check for a GPU\n",
    "print('Default GPU Device: {}'.format(tf.test.gpu_device_name()))"
   ]
  },
  {
   "cell_type": "code",
   "execution_count": 8,
   "metadata": {},
   "outputs": [],
   "source": [
    "# Feed the data from python/numpy to tensorflow framework\n",
    "inputs_ = tf.placeholder(tf.float32, [None, seq_len, n_channels], name = 'inputs_')\n",
    "labels_ = tf.placeholder(tf.float32, [None, n_classes], name = 'labels_')\n",
    "keep_prob_ = tf.placeholder(tf.float32, name = 'keep_prob_')\n",
    "learning_rate_ = tf.placeholder(tf.float32, name = 'learning_rate_')# Construct the LSTM inputs and LSTM cells"
   ]
  },
  {
   "cell_type": "code",
   "execution_count": 10,
   "metadata": {},
   "outputs": [
    {
     "name": "stdout",
     "output_type": "stream",
     "text": [
      "inputs_.shape, conv1.shape, max_pool_1.shape (?, 205, 16) (?, 204, 32) (?, 102, 32)\n",
      "max_pool_1.shape, conv2.shape, max_pool_2.shape (?, 102, 32) (?, 102, 64) (?, 51, 64)\n",
      "max_pool_2.shape, conv3.shape, max_pool_3.shape (?, 51, 64) (?, 50, 128) (?, 25, 128)\n",
      "max_pool_3.shape, conv4.shape, max_pool_4.shape (?, 25, 128) (?, 24, 256) (?, 12, 256)\n",
      "max_pool_4.shape, flat.shape, logits.shape (?, 12, 256) (?, 3072) (?, 2)\n"
     ]
    }
   ],
   "source": [
    "# batch_size, seq_len, n_channels: 307 205 16; n_classes: [2]\n",
    "# (batch, 205, 16) --> (batch, 102, 32)\n",
    "# conv valid: (205-2+0)/1 + 1 = (203/1)+1 = 203 + 1=204\n",
    "# pool same: (204-2+0)/2 + 1 = (202/2)+1 = 101 + 1=102\n",
    "conv1 = tf.layers.conv1d(inputs=inputs_, filters=32, kernel_size=2, strides=1, padding='valid', \n",
    "                         activation = tf.nn.relu)\n",
    "max_pool_1 = tf.layers.max_pooling1d(inputs=conv1, pool_size=2, strides=2, padding='same')\n",
    "# max_pool_1 = tf.nn.dropout(max_pool_1, keep_prob=keep_prob_)\n",
    "print('inputs_.shape, conv1.shape, max_pool_1.shape', inputs_.shape, conv1.shape, max_pool_1.shape)\n",
    "\n",
    "# (batch, 102, 32) --> (batch, 51, 64)\n",
    "# conv same\n",
    "# pool same: (102-2+0)/2 + 1 = (100/2)+1 = 50 + 1=51\n",
    "conv2 = tf.layers.conv1d(inputs=max_pool_1, filters=64, kernel_size=2, strides=1, padding='same', \n",
    "                         activation = tf.nn.relu)\n",
    "max_pool_2 = tf.layers.max_pooling1d(inputs=conv2, pool_size=2, strides=2, padding='same')\n",
    "# max_pool_2 = tf.nn.dropout(max_pool_2, keep_prob=keep_prob_)\n",
    "print('max_pool_1.shape, conv2.shape, max_pool_2.shape', max_pool_1.shape, conv2.shape, max_pool_2.shape)\n",
    "\n",
    "# (batch, 51, 64) --> (batch, 25, 128)\n",
    "# conv valid: (51-2+0)/1 + 1 = (49/1)+1 = 49 + 1=50\n",
    "# pool same: (50-2+0)/2 + 1 = (48/2)+1 = 24 + 1=25\n",
    "conv3 = tf.layers.conv1d(inputs=max_pool_2, filters=128, kernel_size=2, strides=1, padding='valid', \n",
    "                         activation = tf.nn.relu)\n",
    "max_pool_3 = tf.layers.max_pooling1d(inputs=conv3, pool_size=2, strides=2, padding='same')\n",
    "# max_pool_3 = tf.nn.dropout(max_pool_3, keep_prob=keep_prob_)\n",
    "print('max_pool_2.shape, conv3.shape, max_pool_3.shape', max_pool_2.shape, conv3.shape, max_pool_3.shape)\n",
    "\n",
    "# (batch, 25, 128) --> (batch, 12, 256)\n",
    "# conv valid: (25-2+0)/1 + 1 = (23/1)+1 = 23 + 1=24\n",
    "# pool same: (24-2+0)/2 + 1 = (22/2)+1 = 11 + 1=12\n",
    "conv4 = tf.layers.conv1d(inputs=max_pool_3, filters=256, kernel_size=2, strides=1, padding='valid', \n",
    "                         activation = tf.nn.relu)\n",
    "max_pool_4 = tf.layers.max_pooling1d(inputs=conv4, pool_size=2, strides=2, padding='same')\n",
    "# max_pool_4 = tf.nn.dropout(max_pool_4, keep_prob=keep_prob_)\n",
    "print('max_pool_3.shape, conv4.shape, max_pool_4.shape', max_pool_3.shape, conv4.shape, max_pool_4.shape)\n",
    "\n",
    "# Flatten and add dropout + predicted output\n",
    "flat = tf.reshape(max_pool_4, (-1, 12*256))\n",
    "flat = tf.nn.dropout(flat, keep_prob=keep_prob_)\n",
    "logits = tf.layers.dense(flat, n_classes)\n",
    "print('max_pool_4.shape, flat.shape, logits.shape', max_pool_4.shape, flat.shape, logits.shape)"
   ]
  },
  {
   "cell_type": "code",
   "execution_count": 12,
   "metadata": {},
   "outputs": [
    {
     "name": "stdout",
     "output_type": "stream",
     "text": [
      "cost_tensor, cost Tensor(\"Reshape_7:0\", shape=(?,), dtype=float32) Tensor(\"Mean_1:0\", shape=(), dtype=float32)\n",
      "optimizer name: \"Adam_1\"\n",
      "op: \"NoOp\"\n",
      "input: \"^Adam_1/update_conv1d_4/kernel/ApplyAdam\"\n",
      "input: \"^Adam_1/update_conv1d_4/bias/ApplyAdam\"\n",
      "input: \"^Adam_1/update_conv1d_5/kernel/ApplyAdam\"\n",
      "input: \"^Adam_1/update_conv1d_5/bias/ApplyAdam\"\n",
      "input: \"^Adam_1/update_conv1d_6/kernel/ApplyAdam\"\n",
      "input: \"^Adam_1/update_conv1d_6/bias/ApplyAdam\"\n",
      "input: \"^Adam_1/update_conv1d_7/kernel/ApplyAdam\"\n",
      "input: \"^Adam_1/update_conv1d_7/bias/ApplyAdam\"\n",
      "input: \"^Adam_1/update_dense_1/kernel/ApplyAdam\"\n",
      "input: \"^Adam_1/update_dense_1/bias/ApplyAdam\"\n",
      "input: \"^Adam_1/Assign\"\n",
      "input: \"^Adam_1/Assign_1\"\n",
      "\n",
      "correct_pred, accuracy Tensor(\"Equal_1:0\", shape=(?,), dtype=bool) Tensor(\"accuracy_1:0\", shape=(), dtype=float32)\n",
      "confusion_matrix Tensor(\"confusion_matrix_1/SparseTensorDenseAdd:0\", shape=(?, ?), dtype=int32)\n"
     ]
    }
   ],
   "source": [
    "# Backward pass: error backpropagation\n",
    "# Cost function\n",
    "cost_tensor = tf.nn.softmax_cross_entropy_with_logits(logits=logits, labels=labels_)\n",
    "cost = tf.reduce_mean(input_tensor=cost_tensor)\n",
    "print('cost_tensor, cost', cost_tensor, cost)\n",
    "\n",
    "# Optimizer\n",
    "optimizer = tf.train.AdamOptimizer(learning_rate=learning_rate_).minimize(cost)\n",
    "print('optimizer', optimizer)\n",
    "\n",
    "# Accuracy\n",
    "correct_pred = tf.equal(tf.argmax(logits, 1), tf.argmax(labels_, 1))\n",
    "accuracy = tf.reduce_mean(tf.cast(correct_pred, tf.float32), name='accuracy')\n",
    "print('correct_pred, accuracy', correct_pred, accuracy)\n",
    "\n",
    "# Confusion matrix\n",
    "confusion_matrix = tf.confusion_matrix(predictions=tf.argmax(logits, 1),\n",
    "                                       labels=tf.argmax(labels_, 1))\n",
    "print('confusion_matrix', confusion_matrix)"
   ]
  },
  {
   "cell_type": "code",
   "execution_count": 13,
   "metadata": {},
   "outputs": [
    {
     "name": "stdout",
     "output_type": "stream",
     "text": [
      "Epoch: 1/100 Train loss: 0.677091 Valid loss: 0.667405 Train acc: 0.572182 Valid acc: 0.605396\n",
      "Epoch: 2/100 Train loss: 0.649684 Valid loss: 0.640335 Train acc: 0.624446 Valid acc: 0.653848\n",
      "Epoch: 3/100 Train loss: 0.621831 Valid loss: 0.612216 Train acc: 0.658512 Valid acc: 0.683001\n",
      "Epoch: 4/100 Train loss: 0.595538 Valid loss: 0.585332 Train acc: 0.684340 Valid acc: 0.706291\n",
      "Epoch: 5/100 Train loss: 0.572878 Valid loss: 0.562117 Train acc: 0.704423 Valid acc: 0.724560\n",
      "Epoch: 6/100 Train loss: 0.554029 Valid loss: 0.543472 Train acc: 0.719712 Valid acc: 0.738147\n",
      "Epoch: 7/100 Train loss: 0.538417 Valid loss: 0.528012 Train acc: 0.732099 Valid acc: 0.749004\n",
      "Epoch: 8/100 Train loss: 0.525328 Valid loss: 0.515226 Train acc: 0.742158 Valid acc: 0.757791\n",
      "Epoch: 9/100 Train loss: 0.514128 Valid loss: 0.504306 Train acc: 0.750337 Valid acc: 0.765105\n",
      "Epoch: 10/100 Train loss: 0.504664 Valid loss: 0.495109 Train acc: 0.757182 Valid acc: 0.771155\n",
      "Epoch: 11/100 Train loss: 0.496099 Valid loss: 0.487131 Train acc: 0.762961 Valid acc: 0.776356\n",
      "Epoch: 12/100 Train loss: 0.488548 Valid loss: 0.479950 Train acc: 0.768238 Valid acc: 0.780981\n",
      "Epoch: 13/100 Train loss: 0.481679 Valid loss: 0.473515 Train acc: 0.773002 Valid acc: 0.785071\n",
      "Epoch: 14/100 Train loss: 0.475470 Valid loss: 0.467840 Train acc: 0.777334 Valid acc: 0.788656\n",
      "Epoch: 15/100 Train loss: 0.469729 Valid loss: 0.462590 Train acc: 0.781131 Valid acc: 0.791908\n",
      "Epoch: 16/100 Train loss: 0.464167 Valid loss: 0.457725 Train acc: 0.784758 Valid acc: 0.794876\n",
      "Epoch: 17/100 Train loss: 0.459186 Valid loss: 0.453240 Train acc: 0.788032 Valid acc: 0.797576\n",
      "Epoch: 18/100 Train loss: 0.454472 Valid loss: 0.449063 Train acc: 0.790912 Valid acc: 0.800066\n",
      "Epoch: 19/100 Train loss: 0.449982 Valid loss: 0.445158 Train acc: 0.793720 Valid acc: 0.802393\n",
      "Epoch: 20/100 Train loss: 0.445768 Valid loss: 0.441446 Train acc: 0.796335 Valid acc: 0.804595\n",
      "Epoch: 21/100 Train loss: 0.441802 Valid loss: 0.438017 Train acc: 0.798726 Valid acc: 0.806643\n",
      "Epoch: 22/100 Train loss: 0.437927 Valid loss: 0.434793 Train acc: 0.801103 Valid acc: 0.808542\n",
      "Epoch: 23/100 Train loss: 0.434253 Valid loss: 0.431708 Train acc: 0.803311 Valid acc: 0.810342\n",
      "Epoch: 24/100 Train loss: 0.430858 Valid loss: 0.428763 Train acc: 0.805299 Valid acc: 0.812041\n",
      "Epoch: 25/100 Train loss: 0.427407 Valid loss: 0.425954 Train acc: 0.807307 Valid acc: 0.813667\n",
      "Epoch: 26/100 Train loss: 0.424158 Valid loss: 0.423267 Train acc: 0.809179 Valid acc: 0.815199\n",
      "Epoch: 27/100 Train loss: 0.421006 Valid loss: 0.420658 Train acc: 0.811080 Valid acc: 0.816656\n",
      "Epoch: 28/100 Train loss: 0.417991 Valid loss: 0.418171 Train acc: 0.812837 Valid acc: 0.818059\n",
      "Epoch: 29/100 Train loss: 0.415089 Valid loss: 0.415808 Train acc: 0.814518 Valid acc: 0.819360\n",
      "Epoch: 30/100 Train loss: 0.412234 Valid loss: 0.413534 Train acc: 0.816136 Valid acc: 0.820637\n",
      "Epoch: 31/100 Train loss: 0.409509 Valid loss: 0.411319 Train acc: 0.817663 Valid acc: 0.821812\n",
      "Epoch: 32/100 Train loss: 0.406768 Valid loss: 0.409163 Train acc: 0.819201 Valid acc: 0.822971\n",
      "Epoch: 33/100 Train loss: 0.404157 Valid loss: 0.407108 Train acc: 0.820663 Valid acc: 0.824072\n",
      "Epoch: 34/100 Train loss: 0.401619 Valid loss: 0.405115 Train acc: 0.822035 Valid acc: 0.825127\n",
      "Epoch: 35/100 Train loss: 0.399194 Valid loss: 0.403214 Train acc: 0.823371 Valid acc: 0.826107\n",
      "Epoch: 36/100 Train loss: 0.396752 Valid loss: 0.401393 Train acc: 0.824758 Valid acc: 0.827061\n",
      "Epoch: 37/100 Train loss: 0.394394 Valid loss: 0.399662 Train acc: 0.826012 Valid acc: 0.828009\n",
      "Epoch: 38/100 Train loss: 0.392049 Valid loss: 0.397919 Train acc: 0.827260 Valid acc: 0.828932\n",
      "Epoch: 39/100 Train loss: 0.389857 Valid loss: 0.396249 Train acc: 0.828429 Valid acc: 0.829794\n",
      "Epoch: 40/100 Train loss: 0.387678 Valid loss: 0.394605 Train acc: 0.829585 Valid acc: 0.830636\n",
      "Epoch: 41/100 Train loss: 0.385547 Valid loss: 0.393069 Train acc: 0.830725 Valid acc: 0.831450\n",
      "Epoch: 42/100 Train loss: 0.383453 Valid loss: 0.391590 Train acc: 0.831830 Valid acc: 0.832234\n",
      "Epoch: 43/100 Train loss: 0.381408 Valid loss: 0.390103 Train acc: 0.832874 Valid acc: 0.833002\n",
      "Epoch: 44/100 Train loss: 0.379388 Valid loss: 0.388633 Train acc: 0.833950 Valid acc: 0.833752\n",
      "Epoch: 45/100 Train loss: 0.377398 Valid loss: 0.387174 Train acc: 0.834989 Valid acc: 0.834490\n",
      "Epoch: 46/100 Train loss: 0.375494 Valid loss: 0.385776 Train acc: 0.835986 Valid acc: 0.835207\n",
      "Epoch: 47/100 Train loss: 0.373663 Valid loss: 0.384463 Train acc: 0.836930 Valid acc: 0.835864\n",
      "Epoch: 48/100 Train loss: 0.371808 Valid loss: 0.383220 Train acc: 0.837890 Valid acc: 0.836519\n",
      "Epoch: 49/100 Train loss: 0.369976 Valid loss: 0.381972 Train acc: 0.838832 Valid acc: 0.837161\n",
      "Epoch: 50/100 Train loss: 0.368203 Valid loss: 0.380771 Train acc: 0.839742 Valid acc: 0.837780\n",
      "Epoch: 51/100 Train loss: 0.366452 Valid loss: 0.379523 Train acc: 0.840619 Valid acc: 0.838383\n",
      "Epoch: 52/100 Train loss: 0.364729 Valid loss: 0.378357 Train acc: 0.841481 Valid acc: 0.838972\n",
      "Epoch: 53/100 Train loss: 0.363039 Valid loss: 0.377155 Train acc: 0.842330 Valid acc: 0.839554\n",
      "Epoch: 54/100 Train loss: 0.361323 Valid loss: 0.375945 Train acc: 0.843165 Valid acc: 0.840128\n",
      "Epoch: 55/100 Train loss: 0.359689 Valid loss: 0.374797 Train acc: 0.843966 Valid acc: 0.840676\n",
      "Epoch: 56/100 Train loss: 0.358091 Valid loss: 0.373697 Train acc: 0.844753 Valid acc: 0.841209\n",
      "Epoch: 57/100 Train loss: 0.356473 Valid loss: 0.372626 Train acc: 0.845541 Valid acc: 0.841733\n",
      "Epoch: 58/100 Train loss: 0.354933 Valid loss: 0.371551 Train acc: 0.846294 Valid acc: 0.842243\n",
      "Epoch: 59/100 Train loss: 0.353367 Valid loss: 0.370501 Train acc: 0.847078 Valid acc: 0.842758\n",
      "Epoch: 60/100 Train loss: 0.351803 Valid loss: 0.369559 Train acc: 0.847845 Valid acc: 0.843244\n",
      "Epoch: 61/100 Train loss: 0.350284 Valid loss: 0.368586 Train acc: 0.848594 Valid acc: 0.843726\n",
      "Epoch: 62/100 Train loss: 0.348804 Valid loss: 0.367585 Train acc: 0.849329 Valid acc: 0.844197\n",
      "Epoch: 63/100 Train loss: 0.347323 Valid loss: 0.366614 Train acc: 0.850050 Valid acc: 0.844660\n",
      "Epoch: 64/100 Train loss: 0.345889 Valid loss: 0.365673 Train acc: 0.850738 Valid acc: 0.845101\n",
      "Epoch: 65/100 Train loss: 0.344484 Valid loss: 0.364757 Train acc: 0.851423 Valid acc: 0.845543\n",
      "Epoch: 66/100 Train loss: 0.343070 Valid loss: 0.363817 Train acc: 0.852102 Valid acc: 0.845987\n",
      "Epoch: 67/100 Train loss: 0.341685 Valid loss: 0.362884 Train acc: 0.852789 Valid acc: 0.846426\n",
      "Epoch: 68/100 Train loss: 0.340323 Valid loss: 0.362033 Train acc: 0.853440 Valid acc: 0.846835\n",
      "Epoch: 69/100 Train loss: 0.338972 Valid loss: 0.361171 Train acc: 0.854086 Valid acc: 0.847238\n",
      "Epoch: 70/100 Train loss: 0.337646 Valid loss: 0.360339 Train acc: 0.854744 Valid acc: 0.847635\n",
      "Epoch: 71/100 Train loss: 0.336262 Valid loss: 0.359529 Train acc: 0.855420 Valid acc: 0.848027\n",
      "Epoch: 72/100 Train loss: 0.334946 Valid loss: 0.358745 Train acc: 0.856067 Valid acc: 0.848406\n",
      "Epoch: 73/100 Train loss: 0.333633 Valid loss: 0.357936 Train acc: 0.856709 Valid acc: 0.848784\n",
      "Epoch: 74/100 Train loss: 0.332352 Valid loss: 0.357114 Train acc: 0.857316 Valid acc: 0.849157\n",
      "Epoch: 75/100 Train loss: 0.331094 Valid loss: 0.356309 Train acc: 0.857930 Valid acc: 0.849524\n",
      "Epoch: 76/100 Train loss: 0.329886 Valid loss: 0.355534 Train acc: 0.858500 Valid acc: 0.849882\n",
      "Epoch: 77/100 Train loss: 0.328641 Valid loss: 0.354765 Train acc: 0.859090 Valid acc: 0.850238\n",
      "Epoch: 78/100 Train loss: 0.327412 Valid loss: 0.354000 Train acc: 0.859685 Valid acc: 0.850594\n",
      "Epoch: 79/100 Train loss: 0.326186 Valid loss: 0.353242 Train acc: 0.860275 Valid acc: 0.850944\n",
      "Epoch: 80/100 Train loss: 0.324969 Valid loss: 0.352487 Train acc: 0.860863 Valid acc: 0.851286\n",
      "Epoch: 81/100 Train loss: 0.323775 Valid loss: 0.351772 Train acc: 0.861425 Valid acc: 0.851622\n",
      "Epoch: 82/100 Train loss: 0.322575 Valid loss: 0.351075 Train acc: 0.862006 Valid acc: 0.851959\n",
      "Epoch: 83/100 Train loss: 0.321392 Valid loss: 0.350389 Train acc: 0.862567 Valid acc: 0.852285\n",
      "Epoch: 84/100 Train loss: 0.320246 Valid loss: 0.349688 Train acc: 0.863109 Valid acc: 0.852609\n",
      "Epoch: 85/100 Train loss: 0.319084 Valid loss: 0.349008 Train acc: 0.863650 Valid acc: 0.852927\n",
      "Epoch: 86/100 Train loss: 0.317973 Valid loss: 0.348333 Train acc: 0.864181 Valid acc: 0.853225\n"
     ]
    },
    {
     "name": "stdout",
     "output_type": "stream",
     "text": [
      "Epoch: 87/100 Train loss: 0.316844 Valid loss: 0.347673 Train acc: 0.864732 Valid acc: 0.853537\n",
      "Epoch: 88/100 Train loss: 0.315715 Valid loss: 0.347033 Train acc: 0.865264 Valid acc: 0.853847\n",
      "Epoch: 89/100 Train loss: 0.314596 Valid loss: 0.346386 Train acc: 0.865782 Valid acc: 0.854152\n",
      "Epoch: 90/100 Train loss: 0.313478 Valid loss: 0.345761 Train acc: 0.866297 Valid acc: 0.854450\n",
      "Epoch: 91/100 Train loss: 0.312370 Valid loss: 0.345131 Train acc: 0.866812 Valid acc: 0.854751\n",
      "Epoch: 92/100 Train loss: 0.311280 Valid loss: 0.344528 Train acc: 0.867328 Valid acc: 0.855046\n",
      "Epoch: 93/100 Train loss: 0.310215 Valid loss: 0.343919 Train acc: 0.867841 Valid acc: 0.855339\n",
      "Epoch: 94/100 Train loss: 0.309147 Valid loss: 0.343322 Train acc: 0.868337 Valid acc: 0.855624\n",
      "Epoch: 95/100 Train loss: 0.308104 Valid loss: 0.342735 Train acc: 0.868822 Valid acc: 0.855910\n",
      "Epoch: 96/100 Train loss: 0.307074 Valid loss: 0.342139 Train acc: 0.869324 Valid acc: 0.856188\n",
      "Epoch: 97/100 Train loss: 0.306035 Valid loss: 0.341595 Train acc: 0.869815 Valid acc: 0.856469\n",
      "Epoch: 98/100 Train loss: 0.305007 Valid loss: 0.341046 Train acc: 0.870292 Valid acc: 0.856741\n",
      "Epoch: 99/100 Train loss: 0.303975 Valid loss: 0.340465 Train acc: 0.870785 Valid acc: 0.857007\n",
      "Epoch: 100/100 Train loss: 0.302937 Valid loss: 0.339895 Train acc: 0.871268 Valid acc: 0.857278\n"
     ]
    }
   ],
   "source": [
    "train_acc, train_loss = [], []\n",
    "valid_acc, valid_loss = [], []\n",
    "\n",
    "# Save the training result or trained and validated model params\n",
    "saver = tf.train.Saver()\n",
    "\n",
    "with tf.Session() as sess:\n",
    "    sess.run(tf.global_variables_initializer())\n",
    "   \n",
    "    # Loop over epochs\n",
    "    for e in range(epochs):\n",
    "        \n",
    "        # Loop over batches\n",
    "        for x, y in get_batches(X_train_norm, Y_train_onehot, batch_size):\n",
    "            \n",
    "            ######################## Training\n",
    "            # Feed dictionary\n",
    "            feed = {inputs_ : x, labels_ : y, keep_prob_ : keep_prob, learning_rate_ : learning_rate}\n",
    "            \n",
    "            # Loss\n",
    "            loss, _ , acc = sess.run([cost, optimizer, accuracy], feed_dict = feed)\n",
    "            train_acc.append(acc)\n",
    "            train_loss.append(loss)\n",
    "            \n",
    "            ################## Validation\n",
    "            acc_batch = []\n",
    "            loss_batch = []    \n",
    "            # Loop over batches\n",
    "            for x, y in get_batches(X_valid_norm, Y_valid_onehot, batch_size):\n",
    "\n",
    "                # Feed dictionary\n",
    "                feed = {inputs_ : x, labels_ : y, keep_prob_ : 1.0}\n",
    "\n",
    "                # Loss\n",
    "                loss, acc = sess.run([cost, accuracy], feed_dict = feed)\n",
    "                acc_batch.append(acc)\n",
    "                loss_batch.append(loss)\n",
    "\n",
    "            # Store\n",
    "            valid_acc.append(np.mean(acc_batch))\n",
    "            valid_loss.append(np.mean(loss_batch))\n",
    "            \n",
    "        # Print info for every iter/epoch\n",
    "        print(\"Epoch: {}/{}\".format(e+1, epochs),\n",
    "              \"Train loss: {:6f}\".format(np.mean(train_loss)),\n",
    "              \"Valid loss: {:.6f}\".format(np.mean(valid_loss)),\n",
    "              \"Train acc: {:6f}\".format(np.mean(train_acc)),\n",
    "              \"Valid acc: {:.6f}\".format(np.mean(valid_acc)))\n",
    "                \n",
    "    saver.save(sess,\"checkpoints-dcnn/face-flip.ckpt\")"
   ]
  },
  {
   "cell_type": "code",
   "execution_count": 17,
   "metadata": {},
   "outputs": [
    {
     "data": {
      "image/png": "[encoded data removed]",
      "text/plain": [
       "<matplotlib.figure.Figure at 0x7f04d47a8278>"
      ]
     },
     "metadata": {},
     "output_type": "display_data"
    }
   ],
   "source": [
    "import matplotlib.pyplot as mplot\n",
    "\n",
    "mplot.plot(train_loss, label='face-flip train_loss')\n",
    "mplot.plot(valid_loss, label='face-flip valid_loss')\n",
    "mplot.legend()\n",
    "mplot.show()"
   ]
  },
  {
   "cell_type": "code",
   "execution_count": 18,
   "metadata": {},
   "outputs": [
    {
     "data": {
      "image/png": "[encoded data removed]",
      "text/plain": [
       "<matplotlib.figure.Figure at 0x7f04e03ebe48>"
      ]
     },
     "metadata": {},
     "output_type": "display_data"
    }
   ],
   "source": [
    "# import matplotlib.pyplot as mplot\n",
    "mplot.plot(train_acc, label='face-flip train_acc')\n",
    "mplot.plot(valid_acc, label='face-flip valid_acc')\n",
    "mplot.legend()\n",
    "mplot.show()"
   ]
  },
  {
   "cell_type": "code",
   "execution_count": 20,
   "metadata": {},
   "outputs": [
    {
     "name": "stdout",
     "output_type": "stream",
     "text": [
      "INFO:tensorflow:Restoring parameters from checkpoints-dcnn/face-flip.ckpt\n",
      "Test loss: 0.272925 Test acc: 0.888663\n"
     ]
    }
   ],
   "source": [
    "test_acc, test_loss = [], []\n",
    "\n",
    "with tf.Session() as sess:\n",
    "    # Restore the validated model\n",
    "    saver.restore(sess, tf.train.latest_checkpoint('checkpoints-dcnn'))\n",
    "    \n",
    "    ################## Test\n",
    "    acc_batch = []\n",
    "    loss_batch = []    \n",
    "    # Loop over batches\n",
    "    for x, y in get_batches(X_test_norm, Y_test_onehot, batch_size):\n",
    "\n",
    "        # Feed dictionary\n",
    "        feed = {inputs_ : x, labels_ : y, keep_prob_ : 1.0}\n",
    "\n",
    "        # Loss\n",
    "        loss, acc = sess.run([cost, accuracy], feed_dict = feed)\n",
    "        acc_batch.append(acc)\n",
    "        loss_batch.append(loss)\n",
    "\n",
    "    # Store\n",
    "    test_acc.append(np.mean(acc_batch))\n",
    "    test_loss.append(np.mean(loss_batch))\n",
    "\n",
    "    # Print info for every iter/epoch\n",
    "    print(\"Test loss: {:6f}\".format(np.mean(test_loss)),\n",
    "          \"Test acc: {:.6f}\".format(np.mean(test_acc)))"
   ]
  },
  {
   "cell_type": "code",
   "execution_count": null,
   "metadata": {},
   "outputs": [],
   "source": []
  }
 ],
 "metadata": {
  "kernelspec": {
   "display_name": "Python 3",
   "language": "python",
   "name": "python3"
  },
  "language_info": {
   "codemirror_mode": {
    "name": "ipython",
    "version": 3
   },
   "file_extension": ".py",
   "mimetype": "text/x-python",
   "name": "python",
   "nbconvert_exporter": "python",
   "pygments_lexer": "ipython3",
   "version": "3.6.3"
  }
 },
 "nbformat": 4,
 "nbformat_minor": 2
}
