{
 "cells": [
  {
   "cell_type": "code",
   "execution_count": 1,
   "metadata": {},
   "outputs": [],
   "source": [
    "# Input data\n",
    "import scipy.io as spio\n",
    "import numpy as np\n",
    "from utilities import *\n",
    "from sklearn.model_selection import train_test_split"
   ]
  },
  {
   "cell_type": "code",
   "execution_count": 2,
   "metadata": {},
   "outputs": [
    {
     "name": "stdout",
     "output_type": "stream",
     "text": [
      "0.0 0.16675734494 0.145946681175 0.134113166485 0.174918389554 0.186887921654 0.191376496192 0.0\n"
     ]
    }
   ],
   "source": [
    "# test and train\n",
    "# input and output\n",
    "X_train_all, Y_train_all, list_ch_train = read_data(data_path=\"../data/har-data/\", split=\"train\") # train\n",
    "X_test, Y_test, list_ch_test = read_data(data_path=\"../data/har-data/\", split=\"test\") # test\n",
    "assert list_ch_train == list_ch_test, \"Mistmatch in channels!\"\n",
    "assert Y_train_all.max(axis=0) == Y_test.max(axis=0)\n",
    "print(np.mean(Y_train_all==0), np.mean(Y_train_all==1), np.mean(Y_train_all==2), np.mean(Y_train_all==3),\n",
    "     np.mean(Y_train_all==4), np.mean(Y_train_all==5), np.mean(Y_train_all==6), np.mean(Y_train_all==7))"
   ]
  },
  {
   "cell_type": "code",
   "execution_count": 3,
   "metadata": {},
   "outputs": [
    {
     "name": "stdout",
     "output_type": "stream",
     "text": [
      "(5146, 128, 9) (2206, 128, 9) (5146,) (2206,)\n",
      "float64 float64 int64 int64\n"
     ]
    }
   ],
   "source": [
    "X_train, X_valid, Y_train, Y_valid = train_test_split(X_train_all,\n",
    "                                                      Y_train_all,\n",
    "                                                      stratify = Y_train_all,\n",
    "                                                      random_state = 123,\n",
    "                                                      test_size=0.30)\n",
    "print(X_train.shape, X_valid.shape, Y_train.shape, Y_valid.shape)\n",
    "print(X_train.dtype, X_valid.dtype, Y_train.dtype, Y_valid.dtype)"
   ]
  },
  {
   "cell_type": "code",
   "execution_count": 4,
   "metadata": {},
   "outputs": [
    {
     "name": "stdout",
     "output_type": "stream",
     "text": [
      "(5146, 128, 9) float64 (2206, 128, 9) float64 (2947, 128, 9) float64\n"
     ]
    }
   ],
   "source": [
    "# Standardize/normalize train and test\n",
    "X_train_norm = (X_train - X_train.mean(axis=0, keepdims=3))/ X_train.std(axis=0, keepdims=3)\n",
    "X_valid_norm = (X_valid - X_train.mean(axis=0, keepdims=3))/ X_train.std(axis=0, keepdims=3)\n",
    "X_test_norm = (X_test - X_train.mean(axis=0, keepdims=3))/ X_train.std(axis=0, keepdims=3)\n",
    "\n",
    "print(X_train_norm.shape, X_train_norm.dtype,\n",
    "      X_valid_norm.shape, X_valid_norm.dtype,\n",
    "      X_test_norm.shape, X_test_norm.dtype)"
   ]
  },
  {
   "cell_type": "code",
   "execution_count": 5,
   "metadata": {},
   "outputs": [
    {
     "name": "stdout",
     "output_type": "stream",
     "text": [
      "(5146, 6) (2206, 6) (5146, 128, 9) (2206, 128, 9)\n"
     ]
    }
   ],
   "source": [
    "Y_train_onehot = one_hot(labels=Y_train.reshape(-1), n_class=6)\n",
    "Y_valid_onehot = one_hot(labels=Y_valid.reshape(-1), n_class=6)\n",
    "Y_test_onehot = one_hot(labels=Y_test.reshape(-1), n_class=6)\n",
    "\n",
    "print(Y_train_onehot.shape, Y_valid_onehot.shape, \n",
    " X_train_norm.shape, X_valid_norm.shape)"
   ]
  },
  {
   "cell_type": "code",
   "execution_count": 6,
   "metadata": {},
   "outputs": [
    {
     "name": "stdout",
     "output_type": "stream",
     "text": [
      "batch_size, seq_len, n_channels 51 128 9\n",
      "n_classes 6\n"
     ]
    }
   ],
   "source": [
    "### Hyperparameters\n",
    "\n",
    "# Input data\n",
    "batch_size = X_train_norm.shape[0]// 100 # minibatch size & number of minibatches\n",
    "seq_len = X_train_norm.shape[1] # Number of steps: each trial length\n",
    "n_channels = X_train_norm.shape[2] # number of channels in each trial\n",
    "print('batch_size, seq_len, n_channels', batch_size, seq_len, n_channels)\n",
    "\n",
    "# Output labels\n",
    "n_classes = int(Y_train_all.max(axis=0))\n",
    "print('n_classes', n_classes)\n",
    "\n",
    "# learning parameters\n",
    "learning_rate = 0.0001 #1e-4\n",
    "epochs = 100 # num iterations for updating model\n",
    "keep_prob = 0.50 # 90% neurons are kept and 10% are dropped out"
   ]
  },
  {
   "cell_type": "code",
   "execution_count": 7,
   "metadata": {},
   "outputs": [
    {
     "name": "stdout",
     "output_type": "stream",
     "text": [
      "TensorFlow Version: 1.3.0\n",
      "Default GPU Device: /gpu:0\n"
     ]
    }
   ],
   "source": [
    "# GPUs or CPU\n",
    "import tensorflow as tf\n",
    "\n",
    "# Check TensorFlow Version\n",
    "print('TensorFlow Version: {}'.format(tf.__version__))\n",
    "\n",
    "# Check for a GPU\n",
    "print('Default GPU Device: {}'.format(tf.test.gpu_device_name()))"
   ]
  },
  {
   "cell_type": "code",
   "execution_count": 8,
   "metadata": {},
   "outputs": [],
   "source": [
    "#  Buffering/ placeholders to transfer the data from py to tf\n",
    "inputs_ = tf.placeholder(tf.float32, [None, seq_len, n_channels], name = 'inputs_')\n",
    "labels_ = tf.placeholder(tf.float32, [None, n_classes], name = 'labels_')\n",
    "keep_prob_ = tf.placeholder(tf.float32, name = 'keep_prob_')\n",
    "learning_rate_ = tf.placeholder(tf.float32, name = 'learning_rate_')# Construct the LSTM inputs and LSTM cells"
   ]
  },
  {
   "cell_type": "code",
   "execution_count": 9,
   "metadata": {},
   "outputs": [
    {
     "name": "stdout",
     "output_type": "stream",
     "text": [
      "(?, 128, 26) (?, 64, 26)\n",
      "(?, 64, 36) (?, 32, 36)\n",
      "(?, 32, 72) (?, 16, 72)\n",
      "(?, 16, 144) (?, 8, 144)\n",
      "(?, 8, 144) (?, 1152) (?, 6)\n"
     ]
    }
   ],
   "source": [
    "# with graph.as_default():\n",
    "# (5146, 128, 9) (2206, 128, 9) (5146,) (2206,)\n",
    "# (batch, 128, 9) --> (batch, 64, 18)\n",
    "conv1 = tf.layers.conv1d(inputs=inputs_, filters=26, kernel_size=2, strides=1, padding='same', \n",
    "                         activation = tf.nn.relu)\n",
    "max_pool_1 = tf.layers.max_pooling1d(inputs=conv1, pool_size=2, strides=2, padding='same')\n",
    "# max_pool_1 = tf.nn.dropout(max_pool_1, keep_prob=keep_prob_)\n",
    "print(conv1.shape, max_pool_1.shape)\n",
    "\n",
    "# (batch, 64, 18) --> (batch, 32, 36)\n",
    "conv2 = tf.layers.conv1d(inputs=max_pool_1, filters=36, kernel_size=2, strides=1, padding='same', \n",
    "                         activation = tf.nn.relu)\n",
    "max_pool_2 = tf.layers.max_pooling1d(inputs=conv2, pool_size=2, strides=2, padding='same')\n",
    "# max_pool_2 = tf.nn.dropout(max_pool_2, keep_prob=keep_prob_)\n",
    "print(conv2.shape, max_pool_2.shape)\n",
    "\n",
    "# (batch, 32, 36) --> (batch, 16, 72)\n",
    "conv3 = tf.layers.conv1d(inputs=max_pool_2, filters=72, kernel_size=2, strides=1, padding='same', \n",
    "                         activation = tf.nn.relu)\n",
    "max_pool_3 = tf.layers.max_pooling1d(inputs=conv3, pool_size=2, strides=2, padding='same')\n",
    "# max_pool_3 = tf.nn.dropout(max_pool_3, keep_prob=keep_prob_)\n",
    "print(conv3.shape, max_pool_3.shape)\n",
    "\n",
    "# (batch, 16, 72) --> (batch, 8, 144)\n",
    "conv4 = tf.layers.conv1d(inputs=max_pool_3, filters=144, kernel_size=2, strides=1, \n",
    "                         padding='same', activation = tf.nn.relu)\n",
    "max_pool_4 = tf.layers.max_pooling1d(inputs=conv4, pool_size=2, strides=2, padding='same')\n",
    "# max_pool_4 = tf.nn.dropout(max_pool_4, keep_prob=keep_prob_)\n",
    "print(conv4.shape, max_pool_4.shape)\n",
    "\n",
    "# Flatten and add dropout + predicted output\n",
    "flat = tf.reshape(max_pool_4, (-1, 8*144))\n",
    "flat = tf.nn.dropout(flat, keep_prob=keep_prob_)\n",
    "logits = tf.layers.dense(flat, n_classes)\n",
    "print(max_pool_4.shape, flat.shape, logits.shape)"
   ]
  },
  {
   "cell_type": "code",
   "execution_count": 10,
   "metadata": {},
   "outputs": [
    {
     "name": "stdout",
     "output_type": "stream",
     "text": [
      "Tensor(\"Equal:0\", shape=(?,), dtype=bool) Tensor(\"accuracy:0\", shape=(), dtype=float32)\n"
     ]
    }
   ],
   "source": [
    "# Backward pass: error backpropagation\n",
    "# Cost function\n",
    "cost_tensor = tf.nn.softmax_cross_entropy_with_logits(logits=logits, labels=labels_)\n",
    "cost = tf.reduce_mean(input_tensor=cost_tensor)\n",
    "\n",
    "# Optimizer\n",
    "optimizer = tf.train.AdamOptimizer(learning_rate=learning_rate_).minimize(cost)\n",
    "\n",
    "# Accuracy\n",
    "correct_pred = tf.equal(tf.argmax(logits, 1), tf.argmax(labels_, 1))\n",
    "accuracy = tf.reduce_mean(tf.cast(correct_pred, tf.float32), name='accuracy')\n",
    "print(correct_pred, accuracy)"
   ]
  },
  {
   "cell_type": "code",
   "execution_count": 11,
   "metadata": {},
   "outputs": [
    {
     "name": "stdout",
     "output_type": "stream",
     "text": [
      "Epoch: 1/100 Train loss: 1.508446 Valid loss: 1.469985 Train acc: 0.315686 Valid acc: 0.367889\n",
      "Epoch: 2/100 Train loss: 1.350803 Valid loss: 1.310587 Train acc: 0.418726 Valid acc: 0.488659\n",
      "Epoch: 3/100 Train loss: 1.220240 Valid loss: 1.178791 Train acc: 0.503529 Valid acc: 0.575458\n",
      "Epoch: 4/100 Train loss: 1.082024 Valid loss: 1.039016 Train acc: 0.570147 Valid acc: 0.642681\n",
      "Epoch: 5/100 Train loss: 0.953935 Valid loss: 0.909597 Train acc: 0.625451 Valid acc: 0.692908\n",
      "Epoch: 6/100 Train loss: 0.849804 Valid loss: 0.805273 Train acc: 0.668529 Valid acc: 0.730036\n",
      "Epoch: 7/100 Train loss: 0.766079 Valid loss: 0.722592 Train acc: 0.703333 Valid acc: 0.758611\n",
      "Epoch: 8/100 Train loss: 0.697905 Valid loss: 0.656332 Train acc: 0.731226 Valid acc: 0.780696\n",
      "Epoch: 9/100 Train loss: 0.641763 Valid loss: 0.602278 Train acc: 0.753747 Valid acc: 0.798237\n",
      "Epoch: 10/100 Train loss: 0.595388 Valid loss: 0.557622 Train acc: 0.772059 Valid acc: 0.812519\n",
      "Epoch: 11/100 Train loss: 0.556199 Valid loss: 0.520110 Train acc: 0.787059 Valid acc: 0.824335\n",
      "Epoch: 12/100 Train loss: 0.522599 Valid loss: 0.488172 Train acc: 0.800278 Valid acc: 0.834383\n",
      "Epoch: 13/100 Train loss: 0.493655 Valid loss: 0.460702 Train acc: 0.811161 Valid acc: 0.842966\n",
      "Epoch: 14/100 Train loss: 0.468441 Valid loss: 0.436833 Train acc: 0.820658 Valid acc: 0.850399\n",
      "Epoch: 15/100 Train loss: 0.446042 Valid loss: 0.415922 Train acc: 0.829268 Valid acc: 0.856908\n",
      "Epoch: 16/100 Train loss: 0.426447 Valid loss: 0.397452 Train acc: 0.836703 Valid acc: 0.862666\n",
      "Epoch: 17/100 Train loss: 0.408955 Valid loss: 0.380994 Train acc: 0.843137 Valid acc: 0.867836\n",
      "Epoch: 18/100 Train loss: 0.393073 Valid loss: 0.366253 Train acc: 0.849129 Valid acc: 0.872449\n",
      "Epoch: 19/100 Train loss: 0.378725 Valid loss: 0.352963 Train acc: 0.854520 Valid acc: 0.876626\n",
      "Epoch: 20/100 Train loss: 0.365656 Valid loss: 0.340940 Train acc: 0.859422 Valid acc: 0.880398\n",
      "Epoch: 21/100 Train loss: 0.353774 Valid loss: 0.329988 Train acc: 0.863884 Valid acc: 0.883823\n",
      "Epoch: 22/100 Train loss: 0.342899 Valid loss: 0.319999 Train acc: 0.867995 Valid acc: 0.886955\n",
      "Epoch: 23/100 Train loss: 0.332902 Valid loss: 0.310839 Train acc: 0.871782 Valid acc: 0.889812\n",
      "Epoch: 24/100 Train loss: 0.323657 Valid loss: 0.302366 Train acc: 0.875114 Valid acc: 0.892460\n",
      "Epoch: 25/100 Train loss: 0.315199 Valid loss: 0.294554 Train acc: 0.878180 Valid acc: 0.894880\n",
      "Epoch: 26/100 Train loss: 0.307249 Valid loss: 0.287305 Train acc: 0.881026 Valid acc: 0.897154\n",
      "Epoch: 27/100 Train loss: 0.299837 Valid loss: 0.280566 Train acc: 0.883747 Valid acc: 0.899261\n",
      "Epoch: 28/100 Train loss: 0.292900 Valid loss: 0.274285 Train acc: 0.886253 Valid acc: 0.901224\n",
      "Epoch: 29/100 Train loss: 0.286371 Valid loss: 0.268410 Train acc: 0.888641 Valid acc: 0.903061\n",
      "Epoch: 30/100 Train loss: 0.280224 Valid loss: 0.262890 Train acc: 0.890876 Valid acc: 0.904779\n",
      "Epoch: 31/100 Train loss: 0.274445 Valid loss: 0.257709 Train acc: 0.893004 Valid acc: 0.906397\n",
      "Epoch: 32/100 Train loss: 0.269062 Valid loss: 0.252833 Train acc: 0.895055 Valid acc: 0.907911\n",
      "Epoch: 33/100 Train loss: 0.263880 Valid loss: 0.248240 Train acc: 0.896934 Valid acc: 0.909355\n",
      "Epoch: 34/100 Train loss: 0.259041 Valid loss: 0.243892 Train acc: 0.898754 Valid acc: 0.910713\n",
      "Epoch: 35/100 Train loss: 0.254522 Valid loss: 0.239774 Train acc: 0.900364 Valid acc: 0.912006\n",
      "Epoch: 36/100 Train loss: 0.250155 Valid loss: 0.235861 Train acc: 0.901950 Valid acc: 0.913231\n",
      "Epoch: 37/100 Train loss: 0.245995 Valid loss: 0.232148 Train acc: 0.903498 Valid acc: 0.914400\n",
      "Epoch: 38/100 Train loss: 0.242078 Valid loss: 0.228619 Train acc: 0.904928 Valid acc: 0.915506\n",
      "Epoch: 39/100 Train loss: 0.238309 Valid loss: 0.225254 Train acc: 0.906290 Valid acc: 0.916556\n",
      "Epoch: 40/100 Train loss: 0.234696 Valid loss: 0.222050 Train acc: 0.907569 Valid acc: 0.917563\n",
      "Epoch: 41/100 Train loss: 0.231231 Valid loss: 0.218988 Train acc: 0.908824 Valid acc: 0.918531\n",
      "Epoch: 42/100 Train loss: 0.227931 Valid loss: 0.216051 Train acc: 0.910023 Valid acc: 0.919458\n",
      "Epoch: 43/100 Train loss: 0.224693 Valid loss: 0.213237 Train acc: 0.911177 Valid acc: 0.920337\n",
      "Epoch: 44/100 Train loss: 0.221624 Valid loss: 0.210530 Train acc: 0.912264 Valid acc: 0.921192\n",
      "Epoch: 45/100 Train loss: 0.218746 Valid loss: 0.207955 Train acc: 0.913290 Valid acc: 0.922009\n",
      "Epoch: 46/100 Train loss: 0.215981 Valid loss: 0.205458 Train acc: 0.914297 Valid acc: 0.922799\n",
      "Epoch: 47/100 Train loss: 0.213257 Valid loss: 0.203056 Train acc: 0.915265 Valid acc: 0.923566\n",
      "Epoch: 48/100 Train loss: 0.210639 Valid loss: 0.200746 Train acc: 0.916213 Valid acc: 0.924294\n",
      "Epoch: 49/100 Train loss: 0.208125 Valid loss: 0.198517 Train acc: 0.917111 Valid acc: 0.925007\n",
      "Epoch: 50/100 Train loss: 0.205692 Valid loss: 0.196369 Train acc: 0.917992 Valid acc: 0.925695\n",
      "Epoch: 51/100 Train loss: 0.203340 Valid loss: 0.194300 Train acc: 0.918808 Valid acc: 0.926362\n",
      "Epoch: 52/100 Train loss: 0.201044 Valid loss: 0.192289 Train acc: 0.919623 Valid acc: 0.927014\n",
      "Epoch: 53/100 Train loss: 0.198834 Valid loss: 0.190352 Train acc: 0.920433 Valid acc: 0.927635\n",
      "Epoch: 54/100 Train loss: 0.196674 Valid loss: 0.188469 Train acc: 0.921198 Valid acc: 0.928248\n",
      "Epoch: 55/100 Train loss: 0.194594 Valid loss: 0.186648 Train acc: 0.921947 Valid acc: 0.928845\n",
      "Epoch: 56/100 Train loss: 0.192570 Valid loss: 0.184879 Train acc: 0.922679 Valid acc: 0.929425\n",
      "Epoch: 57/100 Train loss: 0.190631 Valid loss: 0.183164 Train acc: 0.923357 Valid acc: 0.929988\n",
      "Epoch: 58/100 Train loss: 0.188729 Valid loss: 0.181493 Train acc: 0.924050 Valid acc: 0.930539\n",
      "Epoch: 59/100 Train loss: 0.186864 Valid loss: 0.179872 Train acc: 0.924722 Valid acc: 0.931075\n",
      "Epoch: 60/100 Train loss: 0.185046 Valid loss: 0.178309 Train acc: 0.925392 Valid acc: 0.931593\n",
      "Epoch: 61/100 Train loss: 0.183286 Valid loss: 0.176776 Train acc: 0.926037 Valid acc: 0.932105\n",
      "Epoch: 62/100 Train loss: 0.181561 Valid loss: 0.175281 Train acc: 0.926660 Valid acc: 0.932598\n",
      "Epoch: 63/100 Train loss: 0.179869 Valid loss: 0.173824 Train acc: 0.927295 Valid acc: 0.933078\n",
      "Epoch: 64/100 Train loss: 0.178239 Valid loss: 0.172422 Train acc: 0.927886 Valid acc: 0.933540\n",
      "Epoch: 65/100 Train loss: 0.176647 Valid loss: 0.171042 Train acc: 0.928495 Valid acc: 0.933998\n",
      "Epoch: 66/100 Train loss: 0.175070 Valid loss: 0.169706 Train acc: 0.929046 Valid acc: 0.934444\n",
      "Epoch: 67/100 Train loss: 0.173588 Valid loss: 0.168403 Train acc: 0.929576 Valid acc: 0.934882\n",
      "Epoch: 68/100 Train loss: 0.172139 Valid loss: 0.167119 Train acc: 0.930127 Valid acc: 0.935311\n",
      "Epoch: 69/100 Train loss: 0.170698 Valid loss: 0.165860 Train acc: 0.930651 Valid acc: 0.935729\n",
      "Epoch: 70/100 Train loss: 0.169277 Valid loss: 0.164637 Train acc: 0.931193 Valid acc: 0.936140\n",
      "Epoch: 71/100 Train loss: 0.167887 Valid loss: 0.163435 Train acc: 0.931751 Valid acc: 0.936538\n",
      "Epoch: 72/100 Train loss: 0.166529 Valid loss: 0.162277 Train acc: 0.932241 Valid acc: 0.936923\n",
      "Epoch: 73/100 Train loss: 0.165178 Valid loss: 0.161124 Train acc: 0.932756 Valid acc: 0.937300\n",
      "Epoch: 74/100 Train loss: 0.163877 Valid loss: 0.160004 Train acc: 0.933235 Valid acc: 0.937670\n",
      "Epoch: 75/100 Train loss: 0.162613 Valid loss: 0.158913 Train acc: 0.933720 Valid acc: 0.938034\n",
      "Epoch: 76/100 Train loss: 0.161331 Valid loss: 0.157828 Train acc: 0.934198 Valid acc: 0.938391\n",
      "Epoch: 77/100 Train loss: 0.160096 Valid loss: 0.156764 Train acc: 0.934647 Valid acc: 0.938743\n",
      "Epoch: 78/100 Train loss: 0.158865 Valid loss: 0.155730 Train acc: 0.935113 Valid acc: 0.939077\n",
      "Epoch: 79/100 Train loss: 0.157675 Valid loss: 0.154707 Train acc: 0.935565 Valid acc: 0.939413\n",
      "Epoch: 80/100 Train loss: 0.156495 Valid loss: 0.153716 Train acc: 0.936010 Valid acc: 0.939737\n",
      "Epoch: 81/100 Train loss: 0.155353 Valid loss: 0.152737 Train acc: 0.936427 Valid acc: 0.940059\n",
      "Epoch: 82/100 Train loss: 0.154242 Valid loss: 0.151781 Train acc: 0.936860 Valid acc: 0.940375\n",
      "Epoch: 83/100 Train loss: 0.153131 Valid loss: 0.150848 Train acc: 0.937279 Valid acc: 0.940681\n",
      "Epoch: 84/100 Train loss: 0.152053 Valid loss: 0.149946 Train acc: 0.937682 Valid acc: 0.940979\n",
      "Epoch: 85/100 Train loss: 0.151006 Valid loss: 0.149049 Train acc: 0.938060 Valid acc: 0.941276\n",
      "Epoch: 86/100 Train loss: 0.149947 Valid loss: 0.148169 Train acc: 0.938466 Valid acc: 0.941566\n"
     ]
    },
    {
     "name": "stdout",
     "output_type": "stream",
     "text": [
      "Epoch: 87/100 Train loss: 0.148902 Valid loss: 0.147301 Train acc: 0.938860 Valid acc: 0.941856\n",
      "Epoch: 88/100 Train loss: 0.147891 Valid loss: 0.146447 Train acc: 0.939227 Valid acc: 0.942142\n",
      "Epoch: 89/100 Train loss: 0.146922 Valid loss: 0.145604 Train acc: 0.939564 Valid acc: 0.942422\n",
      "Epoch: 90/100 Train loss: 0.145937 Valid loss: 0.144773 Train acc: 0.939937 Valid acc: 0.942700\n",
      "Epoch: 91/100 Train loss: 0.144974 Valid loss: 0.143957 Train acc: 0.940313 Valid acc: 0.942976\n",
      "Epoch: 92/100 Train loss: 0.144039 Valid loss: 0.143161 Train acc: 0.940674 Valid acc: 0.943245\n",
      "Epoch: 93/100 Train loss: 0.143108 Valid loss: 0.142371 Train acc: 0.941037 Valid acc: 0.943516\n",
      "Epoch: 94/100 Train loss: 0.142194 Valid loss: 0.141589 Train acc: 0.941375 Valid acc: 0.943787\n",
      "Epoch: 95/100 Train loss: 0.141299 Valid loss: 0.140825 Train acc: 0.941705 Valid acc: 0.944053\n",
      "Epoch: 96/100 Train loss: 0.140411 Valid loss: 0.140064 Train acc: 0.942040 Valid acc: 0.944317\n",
      "Epoch: 97/100 Train loss: 0.139531 Valid loss: 0.139334 Train acc: 0.942365 Valid acc: 0.944573\n",
      "Epoch: 98/100 Train loss: 0.138654 Valid loss: 0.138606 Train acc: 0.942693 Valid acc: 0.944824\n",
      "Epoch: 99/100 Train loss: 0.137795 Valid loss: 0.137886 Train acc: 0.943013 Valid acc: 0.945079\n",
      "Epoch: 100/100 Train loss: 0.136958 Valid loss: 0.137180 Train acc: 0.943324 Valid acc: 0.945327\n"
     ]
    }
   ],
   "source": [
    "train_acc, train_loss = [], []\n",
    "valid_acc, valid_loss = [], []\n",
    "\n",
    "# Save the training result or trained and validated model params\n",
    "saver = tf.train.Saver()\n",
    "\n",
    "with tf.Session() as sess:\n",
    "    sess.run(tf.global_variables_initializer())\n",
    "   \n",
    "    # Loop over epochs\n",
    "    for e in range(epochs):\n",
    "        \n",
    "        # Loop over batches\n",
    "        for x, y in get_batches(X_train_norm, Y_train_onehot, batch_size):\n",
    "            \n",
    "            ######################## Training\n",
    "            # Feed dictionary\n",
    "            feed = {inputs_ : x, labels_ : y, keep_prob_ : keep_prob, learning_rate_ : learning_rate}\n",
    "            \n",
    "            # Loss\n",
    "            loss, _ , acc = sess.run([cost, optimizer, accuracy], feed_dict = feed)\n",
    "            train_acc.append(acc)\n",
    "            train_loss.append(loss)\n",
    "            \n",
    "            ################## Validation\n",
    "            acc_batch = []\n",
    "            loss_batch = []    \n",
    "            # Loop over batches\n",
    "            for x, y in get_batches(X_valid_norm, Y_valid_onehot, batch_size):\n",
    "\n",
    "                # Feed dictionary\n",
    "                feed = {inputs_ : x, labels_ : y, keep_prob_ : 1.0}\n",
    "\n",
    "                # Loss\n",
    "                loss, acc = sess.run([cost, accuracy], feed_dict = feed)\n",
    "                acc_batch.append(acc)\n",
    "                loss_batch.append(loss)\n",
    "\n",
    "            # Store\n",
    "            valid_acc.append(np.mean(acc_batch))\n",
    "            valid_loss.append(np.mean(loss_batch))\n",
    "            \n",
    "        # Print info for every iter/epoch\n",
    "        print(\"Epoch: {}/{}\".format(e+1, epochs),\n",
    "              \"Train loss: {:6f}\".format(np.mean(train_loss)),\n",
    "              \"Valid loss: {:.6f}\".format(np.mean(valid_loss)),\n",
    "              \"Train acc: {:6f}\".format(np.mean(train_acc)),\n",
    "              \"Valid acc: {:.6f}\".format(np.mean(valid_acc)))\n",
    "                \n",
    "    saver.save(sess,\"checkpoints-cnn/har.ckpt\")"
   ]
  },
  {
   "cell_type": "code",
   "execution_count": 12,
   "metadata": {},
   "outputs": [
    {
     "data": {
      "image/png": "[encoded data removed]",
      "text/plain": [
       "<matplotlib.figure.Figure at 0x7f99ebbceef0>"
      ]
     },
     "metadata": {},
     "output_type": "display_data"
    }
   ],
   "source": [
    "import matplotlib.pyplot as mplot\n",
    "\n",
    "mplot.plot(train_loss, label='train_loss')\n",
    "mplot.plot(valid_loss, label='valid_loss')\n",
    "mplot.legend()\n",
    "mplot.show()"
   ]
  },
  {
   "cell_type": "code",
   "execution_count": 13,
   "metadata": {},
   "outputs": [
    {
     "data": {
      "image/png": "[encoded data removed]",
      "text/plain": [
       "<matplotlib.figure.Figure at 0x7f99a00fb240>"
      ]
     },
     "metadata": {},
     "output_type": "display_data"
    }
   ],
   "source": [
    "mplot.plot(train_acc, label='train_acc')\n",
    "mplot.plot(valid_acc, label='valid_acc')\n",
    "mplot.legend()\n",
    "mplot.show()"
   ]
  },
  {
   "cell_type": "code",
   "execution_count": 14,
   "metadata": {},
   "outputs": [
    {
     "name": "stdout",
     "output_type": "stream",
     "text": [
      "INFO:tensorflow:Restoring parameters from checkpoints-cnn/har.ckpt\n",
      "Test loss: 0.351738 Test acc: 0.922257\n"
     ]
    }
   ],
   "source": [
    "test_acc, test_loss = [], []\n",
    "\n",
    "with tf.Session() as sess:\n",
    "    # Restore the validated model\n",
    "    saver.restore(sess, tf.train.latest_checkpoint('checkpoints-cnn'))\n",
    "    \n",
    "    ################## Test\n",
    "    acc_batch = []\n",
    "    loss_batch = []    \n",
    "    # Loop over batches\n",
    "    for x, y in get_batches(X_test_norm, Y_test_onehot, batch_size):\n",
    "\n",
    "        # Feed dictionary\n",
    "        feed = {inputs_ : x, labels_ : y, keep_prob_ : 1.0}\n",
    "\n",
    "        # Loss\n",
    "        loss, acc = sess.run([cost, accuracy], feed_dict = feed)\n",
    "        acc_batch.append(acc)\n",
    "        loss_batch.append(loss)\n",
    "\n",
    "    # Store\n",
    "    test_acc.append(np.mean(acc_batch))\n",
    "    test_loss.append(np.mean(loss_batch))\n",
    "\n",
    "    # Print info for every iter/epoch\n",
    "    print(\"Test loss: {:6f}\".format(np.mean(test_loss)),\n",
    "          \"Test acc: {:.6f}\".format(np.mean(test_acc)))"
   ]
  },
  {
   "cell_type": "code",
   "execution_count": null,
   "metadata": {},
   "outputs": [],
   "source": []
  }
 ],
 "metadata": {
  "kernelspec": {
   "display_name": "Python 3",
   "language": "python",
   "name": "python3"
  },
  "language_info": {
   "codemirror_mode": {
    "name": "ipython",
    "version": 3
   },
   "file_extension": ".py",
   "mimetype": "text/x-python",
   "name": "python",
   "nbconvert_exporter": "python",
   "pygments_lexer": "ipython3",
   "version": "3.6.3"
  }
 },
 "nbformat": 4,
 "nbformat_minor": 2
}
