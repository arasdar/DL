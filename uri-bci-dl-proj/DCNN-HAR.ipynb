{
 "cells": [
  {
   "cell_type": "code",
   "execution_count": 3,
   "metadata": {},
   "outputs": [],
   "source": [
    "# Input data\n",
    "import scipy.io as spio\n",
    "import numpy as np\n",
    "from utilities import *\n",
    "from sklearn.model_selection import train_test_split"
   ]
  },
  {
   "cell_type": "code",
   "execution_count": 4,
   "metadata": {},
   "outputs": [
    {
     "name": "stdout",
     "output_type": "stream",
     "text": [
      "(5146, 128, 9) (2206, 128, 9) (5146,) (2206,)\n",
      "float64 float64 int64 int64\n"
     ]
    }
   ],
   "source": [
    "# test and train\n",
    "X_train_all, Y_train_all, list_ch_train = read_data(data_path=\"../data/har-data/\", split=\"train\") # train\n",
    "X_test, Y_test, list_ch_test = read_data(data_path=\"../data/har-data/\", split=\"test\") # test\n",
    "assert list_ch_train == list_ch_test, \"Mistmatch in channels!\"\n",
    "\n",
    "# Normalize\n",
    "X_train_all_norm, X_test_norm = standardize(train=X_train_all, test=X_test)\n",
    "\n",
    "# Validationset\n",
    "X_train_norm, X_valid_norm, Y_train, Y_valid = train_test_split(X_train_all_norm, Y_train_all, \n",
    "                                                                stratify = Y_train_all,\n",
    "                                                                random_state = 123, test_size=0.30)\n",
    "print(X_train_norm.shape, X_valid_norm.shape, Y_train.shape, Y_valid.shape)\n",
    "print(X_train_norm.dtype, X_valid_norm.dtype, Y_train.dtype, Y_valid.dtype)"
   ]
  },
  {
   "cell_type": "code",
   "execution_count": 5,
   "metadata": {},
   "outputs": [
    {
     "name": "stdout",
     "output_type": "stream",
     "text": [
      "batch_size, seq_len, n_channels 514 128 9\n",
      "Y_train_all.max(axis=0): 6\n",
      "Y_test.max(axis=0): 6\n"
     ]
    }
   ],
   "source": [
    "### Hyperparameters\n",
    "\n",
    "# Input data\n",
    "batch_size = X_train_norm.shape[0]// 10 # minibatch size & number of minibatches\n",
    "seq_len = X_train_norm.shape[1] # Number of steps: each trial length\n",
    "n_channels = X_train_norm.shape[2] # number of channels in each trial\n",
    "print('batch_size, seq_len, n_channels', batch_size, seq_len, n_channels)\n",
    "\n",
    "# Output labels\n",
    "n_classes = int(Y_train_all.max(axis=0))\n",
    "print('Y_train_all.max(axis=0):', Y_train_all.max(axis=0))\n",
    "print('Y_test.max(axis=0):', Y_test.max(axis=0))\n",
    "\n",
    "# learning parameters\n",
    "learning_rate = 0.001 #1e-3\n",
    "epochs = 100 # num iterations for updating model\n",
    "keep_prob = 0.50 # 90% neurons are kept and 10% are dropped out"
   ]
  },
  {
   "cell_type": "code",
   "execution_count": 6,
   "metadata": {},
   "outputs": [
    {
     "name": "stdout",
     "output_type": "stream",
     "text": [
      "(5146, 6) (2206, 6) (2947, 6)\n",
      "(5146, 128, 9) (2206, 128, 9) (2947, 128, 9)\n"
     ]
    }
   ],
   "source": [
    "Y_train_onehot = one_hot(labels=Y_train.reshape(-1), n_class=n_classes)\n",
    "Y_valid_onehot = one_hot(labels=Y_valid.reshape(-1), n_class=n_classes)\n",
    "Y_test_onehot = one_hot(labels=Y_test.reshape(-1), n_class=n_classes)\n",
    "\n",
    "print(Y_train_onehot.shape, Y_valid_onehot.shape, Y_test_onehot.shape)\n",
    "print(X_train_norm.shape, X_valid_norm.shape, X_test_norm.shape)"
   ]
  },
  {
   "cell_type": "code",
   "execution_count": 7,
   "metadata": {},
   "outputs": [
    {
     "name": "stdout",
     "output_type": "stream",
     "text": [
      "TensorFlow Version: 1.3.0\n",
      "Default GPU Device: /gpu:0\n"
     ]
    }
   ],
   "source": [
    "# GPUs or CPU\n",
    "import tensorflow as tf\n",
    "\n",
    "# Check TensorFlow Version\n",
    "print('TensorFlow Version: {}'.format(tf.__version__))\n",
    "\n",
    "# Check for a GPU\n",
    "print('Default GPU Device: {}'.format(tf.test.gpu_device_name()))"
   ]
  },
  {
   "cell_type": "code",
   "execution_count": 8,
   "metadata": {},
   "outputs": [],
   "source": [
    "#  Buffering/ placeholders to transfer the data from py to tf\n",
    "inputs_ = tf.placeholder(tf.float32, [None, seq_len, n_channels], name = 'inputs_')\n",
    "labels_ = tf.placeholder(tf.float32, [None, n_classes], name = 'labels_')\n",
    "keep_prob_ = tf.placeholder(tf.float32, name = 'keep_prob_')\n",
    "learning_rate_ = tf.placeholder(tf.float32, name = 'learning_rate_')# Construct the LSTM inputs and LSTM cells"
   ]
  },
  {
   "cell_type": "code",
   "execution_count": 9,
   "metadata": {},
   "outputs": [
    {
     "name": "stdout",
     "output_type": "stream",
     "text": [
      "(?, 128, 26) (?, 64, 26)\n",
      "(?, 64, 36) (?, 32, 36)\n",
      "(?, 32, 72) (?, 16, 72)\n",
      "(?, 16, 144) (?, 8, 144)\n"
     ]
    }
   ],
   "source": [
    "# with graph.as_default():\n",
    "# (5146, 128, 9) (2206, 128, 9) (5146,) (2206,)\n",
    "# (batch, 128, 9) --> (batch, 64, 18)\n",
    "conv1 = tf.layers.conv1d(inputs=inputs_, filters=26, kernel_size=2, strides=1, padding='same', \n",
    "                         activation = tf.nn.relu)\n",
    "max_pool_1 = tf.layers.max_pooling1d(inputs=conv1, pool_size=2, strides=2, padding='same')\n",
    "# max_pool_1 = tf.nn.dropout(max_pool_1, keep_prob=keep_prob_)\n",
    "print(conv1.shape, max_pool_1.shape)\n",
    "\n",
    "# (batch, 64, 18) --> (batch, 32, 36)\n",
    "conv2 = tf.layers.conv1d(inputs=max_pool_1, filters=36, kernel_size=2, strides=1, padding='same', \n",
    "                         activation = tf.nn.relu)\n",
    "max_pool_2 = tf.layers.max_pooling1d(inputs=conv2, pool_size=2, strides=2, padding='same')\n",
    "# max_pool_2 = tf.nn.dropout(max_pool_2, keep_prob=keep_prob_)\n",
    "print(conv2.shape, max_pool_2.shape)\n",
    "\n",
    "# (batch, 32, 36) --> (batch, 16, 72)\n",
    "conv3 = tf.layers.conv1d(inputs=max_pool_2, filters=72, kernel_size=2, strides=1, padding='same', \n",
    "                         activation = tf.nn.relu)\n",
    "max_pool_3 = tf.layers.max_pooling1d(inputs=conv3, pool_size=2, strides=2, padding='same')\n",
    "# max_pool_3 = tf.nn.dropout(max_pool_3, keep_prob=keep_prob_)\n",
    "print(conv3.shape, max_pool_3.shape)\n",
    "\n",
    "# (batch, 16, 72) --> (batch, 8, 144)\n",
    "conv4 = tf.layers.conv1d(inputs=max_pool_3, filters=144, kernel_size=2, strides=1, \n",
    "                         padding='same', activation = tf.nn.relu)\n",
    "max_pool_4 = tf.layers.max_pooling1d(inputs=conv4, pool_size=2, strides=2, padding='same')\n",
    "# max_pool_4 = tf.nn.dropout(max_pool_4, keep_prob=keep_prob_)\n",
    "print(conv4.shape, max_pool_4.shape)\n",
    "\n",
    "# Flatten and add dropout + predicted output\n",
    "flat = tf.reshape(max_pool_4, (-1, 8*144))\n",
    "flat = tf.nn.dropout(flat, keep_prob=keep_prob_)\n",
    "logits = tf.layers.dense(flat, n_classes)"
   ]
  },
  {
   "cell_type": "code",
   "execution_count": 10,
   "metadata": {},
   "outputs": [
    {
     "name": "stdout",
     "output_type": "stream",
     "text": [
      "Tensor(\"Equal:0\", shape=(?,), dtype=bool) Tensor(\"accuracy:0\", shape=(), dtype=float32)\n"
     ]
    }
   ],
   "source": [
    "# Backward pass: error backpropagation\n",
    "# Cost function\n",
    "cost_tensor = tf.nn.softmax_cross_entropy_with_logits(logits=logits, labels=labels_)\n",
    "cost = tf.reduce_mean(input_tensor=cost_tensor)\n",
    "\n",
    "# Optimizer\n",
    "optimizer = tf.train.AdamOptimizer(learning_rate=learning_rate_).minimize(cost)\n",
    "\n",
    "# Accuracy\n",
    "correct_pred = tf.equal(tf.argmax(logits, 1), tf.argmax(labels_, 1))\n",
    "accuracy = tf.reduce_mean(tf.cast(correct_pred, tf.float32), name='accuracy')\n",
    "print(correct_pred, accuracy)"
   ]
  },
  {
   "cell_type": "code",
   "execution_count": 32,
   "metadata": {},
   "outputs": [
    {
     "name": "stdout",
     "output_type": "stream",
     "text": [
      "Epoch: 1/100 Train loss: 1.580470 Valid loss: 1.511572 Train acc: 0.258171 Valid acc: 0.305350\n",
      "Epoch: 2/100 Train loss: 1.401583 Valid loss: 1.337553 Train acc: 0.367510 Valid acc: 0.433293\n",
      "Epoch: 3/100 Train loss: 1.251326 Valid loss: 1.186711 Train acc: 0.478729 Valid acc: 0.551978\n",
      "Epoch: 4/100 Train loss: 1.092378 Valid loss: 1.020455 Train acc: 0.562792 Valid acc: 0.632429\n",
      "Epoch: 5/100 Train loss: 0.941493 Valid loss: 0.869896 Train acc: 0.627821 Valid acc: 0.688113\n",
      "Epoch: 6/100 Train loss: 0.821550 Valid loss: 0.755217 Train acc: 0.676427 Valid acc: 0.728599\n",
      "Epoch: 7/100 Train loss: 0.729315 Valid loss: 0.669332 Train acc: 0.713035 Valid acc: 0.758720\n",
      "Epoch: 8/100 Train loss: 0.656900 Valid loss: 0.603011 Train acc: 0.741513 Valid acc: 0.781803\n",
      "Epoch: 9/100 Train loss: 0.599155 Valid loss: 0.550369 Train acc: 0.764051 Valid acc: 0.800038\n",
      "Epoch: 10/100 Train loss: 0.552246 Valid loss: 0.507701 Train acc: 0.782315 Valid acc: 0.814810\n",
      "Epoch: 11/100 Train loss: 0.513422 Valid loss: 0.472503 Train acc: 0.797241 Valid acc: 0.826985\n",
      "Epoch: 12/100 Train loss: 0.480427 Valid loss: 0.442815 Train acc: 0.809987 Valid acc: 0.837289\n",
      "Epoch: 13/100 Train loss: 0.452365 Valid loss: 0.417460 Train acc: 0.820802 Valid acc: 0.846087\n",
      "Epoch: 14/100 Train loss: 0.428204 Valid loss: 0.395644 Train acc: 0.830072 Valid acc: 0.853533\n",
      "Epoch: 15/100 Train loss: 0.406883 Valid loss: 0.376608 Train acc: 0.838314 Valid acc: 0.860058\n",
      "Epoch: 16/100 Train loss: 0.388047 Valid loss: 0.359878 Train acc: 0.845537 Valid acc: 0.865792\n",
      "Epoch: 17/100 Train loss: 0.371530 Valid loss: 0.345077 Train acc: 0.851751 Valid acc: 0.870817\n",
      "Epoch: 18/100 Train loss: 0.356805 Valid loss: 0.331858 Train acc: 0.857317 Valid acc: 0.875305\n",
      "Epoch: 19/100 Train loss: 0.343535 Valid loss: 0.320024 Train acc: 0.862400 Valid acc: 0.879334\n",
      "Epoch: 20/100 Train loss: 0.331518 Valid loss: 0.309313 Train acc: 0.866907 Valid acc: 0.882962\n",
      "Epoch: 21/100 Train loss: 0.320483 Valid loss: 0.299484 Train acc: 0.871123 Valid acc: 0.886298\n",
      "Epoch: 22/100 Train loss: 0.310306 Valid loss: 0.290475 Train acc: 0.874973 Valid acc: 0.889364\n",
      "Epoch: 23/100 Train loss: 0.300941 Valid loss: 0.282205 Train acc: 0.878523 Valid acc: 0.892161\n",
      "Epoch: 24/100 Train loss: 0.292356 Valid loss: 0.274590 Train acc: 0.881858 Valid acc: 0.894739\n",
      "Epoch: 25/100 Train loss: 0.284500 Valid loss: 0.267558 Train acc: 0.884825 Valid acc: 0.897111\n",
      "Epoch: 26/100 Train loss: 0.277198 Valid loss: 0.261044 Train acc: 0.887601 Valid acc: 0.899319\n",
      "Epoch: 27/100 Train loss: 0.270318 Valid loss: 0.254978 Train acc: 0.890193 Valid acc: 0.901353\n",
      "Epoch: 28/100 Train loss: 0.264062 Valid loss: 0.249347 Train acc: 0.892517 Valid acc: 0.903260\n",
      "Epoch: 29/100 Train loss: 0.258124 Valid loss: 0.244100 Train acc: 0.894747 Valid acc: 0.905063\n",
      "Epoch: 30/100 Train loss: 0.252491 Valid loss: 0.239167 Train acc: 0.896855 Valid acc: 0.906746\n",
      "Epoch: 31/100 Train loss: 0.247146 Valid loss: 0.234445 Train acc: 0.898939 Valid acc: 0.908388\n",
      "Epoch: 32/100 Train loss: 0.242040 Valid loss: 0.229959 Train acc: 0.900924 Valid acc: 0.909934\n",
      "Epoch: 33/100 Train loss: 0.237249 Valid loss: 0.225728 Train acc: 0.902789 Valid acc: 0.911384\n",
      "Epoch: 34/100 Train loss: 0.232669 Valid loss: 0.221716 Train acc: 0.904572 Valid acc: 0.912767\n",
      "Epoch: 35/100 Train loss: 0.228348 Valid loss: 0.217921 Train acc: 0.906226 Valid acc: 0.914102\n",
      "Epoch: 36/100 Train loss: 0.224215 Valid loss: 0.214312 Train acc: 0.907847 Valid acc: 0.915378\n",
      "Epoch: 37/100 Train loss: 0.220270 Valid loss: 0.210865 Train acc: 0.909433 Valid acc: 0.916626\n",
      "Epoch: 38/100 Train loss: 0.216517 Valid loss: 0.207581 Train acc: 0.910926 Valid acc: 0.917825\n",
      "Epoch: 39/100 Train loss: 0.212886 Valid loss: 0.204419 Train acc: 0.912332 Valid acc: 0.918986\n",
      "Epoch: 40/100 Train loss: 0.209402 Valid loss: 0.201368 Train acc: 0.913692 Valid acc: 0.920100\n",
      "Epoch: 41/100 Train loss: 0.206002 Valid loss: 0.198458 Train acc: 0.915042 Valid acc: 0.921186\n",
      "Epoch: 42/100 Train loss: 0.202776 Valid loss: 0.195658 Train acc: 0.916301 Valid acc: 0.922245\n",
      "Epoch: 43/100 Train loss: 0.199633 Valid loss: 0.192916 Train acc: 0.917510 Valid acc: 0.923268\n",
      "Epoch: 44/100 Train loss: 0.196572 Valid loss: 0.190295 Train acc: 0.918739 Valid acc: 0.924242\n",
      "Epoch: 45/100 Train loss: 0.193604 Valid loss: 0.187746 Train acc: 0.919913 Valid acc: 0.925193\n",
      "Epoch: 46/100 Train loss: 0.190699 Valid loss: 0.185225 Train acc: 0.921062 Valid acc: 0.926158\n",
      "Epoch: 47/100 Train loss: 0.187868 Valid loss: 0.182767 Train acc: 0.922216 Valid acc: 0.927103\n",
      "Epoch: 48/100 Train loss: 0.185105 Valid loss: 0.180423 Train acc: 0.923326 Valid acc: 0.928004\n",
      "Epoch: 49/100 Train loss: 0.182415 Valid loss: 0.178138 Train acc: 0.924414 Valid acc: 0.928892\n",
      "Epoch: 50/100 Train loss: 0.179814 Valid loss: 0.175895 Train acc: 0.925463 Valid acc: 0.929779\n",
      "Epoch: 51/100 Train loss: 0.177299 Valid loss: 0.173705 Train acc: 0.926490 Valid acc: 0.930651\n",
      "Epoch: 52/100 Train loss: 0.174859 Valid loss: 0.171619 Train acc: 0.927424 Valid acc: 0.931472\n",
      "Epoch: 53/100 Train loss: 0.172495 Valid loss: 0.169600 Train acc: 0.928350 Valid acc: 0.932279\n",
      "Epoch: 54/100 Train loss: 0.170176 Valid loss: 0.167624 Train acc: 0.929273 Valid acc: 0.933070\n",
      "Epoch: 55/100 Train loss: 0.167938 Valid loss: 0.165722 Train acc: 0.930180 Valid acc: 0.933828\n",
      "Epoch: 56/100 Train loss: 0.165756 Valid loss: 0.163859 Train acc: 0.931055 Valid acc: 0.934593\n",
      "Epoch: 57/100 Train loss: 0.163647 Valid loss: 0.162079 Train acc: 0.931900 Valid acc: 0.935315\n",
      "Epoch: 58/100 Train loss: 0.161587 Valid loss: 0.160343 Train acc: 0.932752 Valid acc: 0.936037\n",
      "Epoch: 59/100 Train loss: 0.159573 Valid loss: 0.158622 Train acc: 0.933565 Valid acc: 0.936754\n",
      "Epoch: 60/100 Train loss: 0.157625 Valid loss: 0.156981 Train acc: 0.934374 Valid acc: 0.937429\n",
      "Epoch: 61/100 Train loss: 0.155679 Valid loss: 0.155350 Train acc: 0.935173 Valid acc: 0.938113\n",
      "Epoch: 62/100 Train loss: 0.153796 Valid loss: 0.153778 Train acc: 0.935964 Valid acc: 0.938768\n",
      "Epoch: 63/100 Train loss: 0.151940 Valid loss: 0.152232 Train acc: 0.936758 Valid acc: 0.939412\n",
      "Epoch: 64/100 Train loss: 0.150145 Valid loss: 0.150737 Train acc: 0.937491 Valid acc: 0.940039\n",
      "Epoch: 65/100 Train loss: 0.148415 Valid loss: 0.149294 Train acc: 0.938228 Valid acc: 0.940641\n",
      "Epoch: 66/100 Train loss: 0.146707 Valid loss: 0.147887 Train acc: 0.938958 Valid acc: 0.941235\n",
      "Epoch: 67/100 Train loss: 0.145091 Valid loss: 0.146521 Train acc: 0.939628 Valid acc: 0.941815\n",
      "Epoch: 68/100 Train loss: 0.143461 Valid loss: 0.145157 Train acc: 0.940301 Valid acc: 0.942392\n",
      "Epoch: 69/100 Train loss: 0.141891 Valid loss: 0.143847 Train acc: 0.940966 Valid acc: 0.942935\n",
      "Epoch: 70/100 Train loss: 0.140362 Valid loss: 0.142571 Train acc: 0.941604 Valid acc: 0.943469\n",
      "Epoch: 71/100 Train loss: 0.138828 Valid loss: 0.141278 Train acc: 0.942264 Valid acc: 0.944006\n",
      "Epoch: 72/100 Train loss: 0.137339 Valid loss: 0.140033 Train acc: 0.942883 Valid acc: 0.944516\n",
      "Epoch: 73/100 Train loss: 0.135866 Valid loss: 0.138810 Train acc: 0.943526 Valid acc: 0.945026\n",
      "Epoch: 74/100 Train loss: 0.134418 Valid loss: 0.137609 Train acc: 0.944140 Valid acc: 0.945530\n",
      "Epoch: 75/100 Train loss: 0.133013 Valid loss: 0.136444 Train acc: 0.944739 Valid acc: 0.946012\n",
      "Epoch: 76/100 Train loss: 0.131636 Valid loss: 0.135297 Train acc: 0.945315 Valid acc: 0.946486\n",
      "Epoch: 77/100 Train loss: 0.130313 Valid loss: 0.134159 Train acc: 0.945887 Valid acc: 0.946962\n",
      "Epoch: 78/100 Train loss: 0.129056 Valid loss: 0.133086 Train acc: 0.946413 Valid acc: 0.947409\n",
      "Epoch: 79/100 Train loss: 0.127822 Valid loss: 0.132109 Train acc: 0.946939 Valid acc: 0.947813\n",
      "Epoch: 80/100 Train loss: 0.126583 Valid loss: 0.131110 Train acc: 0.947466 Valid acc: 0.948236\n",
      "Epoch: 81/100 Train loss: 0.125342 Valid loss: 0.130100 Train acc: 0.947994 Valid acc: 0.948655\n",
      "Epoch: 82/100 Train loss: 0.124144 Valid loss: 0.129113 Train acc: 0.948493 Valid acc: 0.949060\n",
      "Epoch: 83/100 Train loss: 0.122957 Valid loss: 0.128128 Train acc: 0.948994 Valid acc: 0.949468\n",
      "Epoch: 84/100 Train loss: 0.121779 Valid loss: 0.127151 Train acc: 0.949495 Valid acc: 0.949869\n",
      "Epoch: 85/100 Train loss: 0.120624 Valid loss: 0.126178 Train acc: 0.949984 Valid acc: 0.950268\n",
      "Epoch: 86/100 Train loss: 0.119473 Valid loss: 0.125210 Train acc: 0.950482 Valid acc: 0.950678\n"
     ]
    },
    {
     "name": "stdout",
     "output_type": "stream",
     "text": [
      "Epoch: 87/100 Train loss: 0.118355 Valid loss: 0.124288 Train acc: 0.950939 Valid acc: 0.951063\n",
      "Epoch: 88/100 Train loss: 0.117281 Valid loss: 0.123405 Train acc: 0.951397 Valid acc: 0.951427\n",
      "Epoch: 89/100 Train loss: 0.116217 Valid loss: 0.122526 Train acc: 0.951845 Valid acc: 0.951793\n",
      "Epoch: 90/100 Train loss: 0.115191 Valid loss: 0.121672 Train acc: 0.952274 Valid acc: 0.952150\n",
      "Epoch: 91/100 Train loss: 0.114172 Valid loss: 0.120850 Train acc: 0.952704 Valid acc: 0.952498\n",
      "Epoch: 92/100 Train loss: 0.113171 Valid loss: 0.120034 Train acc: 0.953123 Valid acc: 0.952844\n",
      "Epoch: 93/100 Train loss: 0.112185 Valid loss: 0.119235 Train acc: 0.953548 Valid acc: 0.953183\n",
      "Epoch: 94/100 Train loss: 0.111191 Valid loss: 0.118432 Train acc: 0.953978 Valid acc: 0.953530\n",
      "Epoch: 95/100 Train loss: 0.110227 Valid loss: 0.117642 Train acc: 0.954395 Valid acc: 0.953865\n",
      "Epoch: 96/100 Train loss: 0.109280 Valid loss: 0.116886 Train acc: 0.954803 Valid acc: 0.954182\n",
      "Epoch: 97/100 Train loss: 0.108338 Valid loss: 0.116130 Train acc: 0.955201 Valid acc: 0.954499\n",
      "Epoch: 98/100 Train loss: 0.107422 Valid loss: 0.115392 Train acc: 0.955604 Valid acc: 0.954807\n",
      "Epoch: 99/100 Train loss: 0.106492 Valid loss: 0.114659 Train acc: 0.956013 Valid acc: 0.955116\n",
      "Epoch: 100/100 Train loss: 0.105615 Valid loss: 0.113950 Train acc: 0.956383 Valid acc: 0.955413\n"
     ]
    }
   ],
   "source": [
    "validation_acc = []\n",
    "validation_loss = []\n",
    "\n",
    "train_acc = []\n",
    "train_loss = []\n",
    "\n",
    "# Save the training result or trained and validated model params\n",
    "saver = tf.train.Saver()\n",
    "\n",
    "with tf.Session() as sess:\n",
    "    sess.run(tf.global_variables_initializer())\n",
    "   \n",
    "    # Loop over epochs\n",
    "    for e in range(epochs):\n",
    "        \n",
    "        # Loop over batches\n",
    "        for x, y in get_batches(X_train_norm, Y_train_onehot, batch_size):\n",
    "            \n",
    "            ######################## Training\n",
    "            # Feed dictionary\n",
    "            feed = {inputs_ : x, labels_ : y, keep_prob_ : keep_prob, learning_rate_ : learning_rate}\n",
    "            \n",
    "            # Loss\n",
    "            loss, _ , acc = sess.run([cost, optimizer, accuracy], feed_dict = feed)\n",
    "            train_acc.append(acc)\n",
    "            train_loss.append(loss)\n",
    "            \n",
    "            ################## Validation\n",
    "            val_acc_ = []\n",
    "            val_loss_ = []    \n",
    "            for x_v, y_v in get_batches(X_valid_norm, Y_valid_onehot, batch_size):\n",
    "                \n",
    "                # Feed\n",
    "                feed = {inputs_ : x_v, labels_ : y_v, keep_prob_ : 1.0}  \n",
    "\n",
    "                # Loss\n",
    "                loss_v, acc_v = sess.run([cost, accuracy], feed_dict = feed)                    \n",
    "                val_acc_.append(acc_v)\n",
    "                val_loss_.append(loss_v)\n",
    "\n",
    "            # Store\n",
    "            validation_acc.append(np.mean(val_acc_))\n",
    "            validation_loss.append(np.mean(val_loss_))\n",
    "            \n",
    "        # Print info for every iter/epoch\n",
    "        print(\"Epoch: {}/{}\".format(e+1, epochs),\n",
    "              \"Train loss: {:6f}\".format(np.mean(train_loss)),\n",
    "              \"Valid loss: {:.6f}\".format(np.mean(validation_loss)),\n",
    "              \"Train acc: {:6f}\".format(np.mean(train_acc)),\n",
    "              \"Valid acc: {:.6f}\".format(np.mean(validation_acc)))\n",
    "                \n",
    "    saver.save(sess,\"checkpoints-cnn/har.ckpt\")"
   ]
  },
  {
   "cell_type": "code",
   "execution_count": 33,
   "metadata": {},
   "outputs": [
    {
     "data": {
      "image/png": "[encoded data removed]",
      "text/plain": [
       "<matplotlib.figure.Figure at 0x7efe103e6278>"
      ]
     },
     "metadata": {},
     "output_type": "display_data"
    }
   ],
   "source": [
    "import matplotlib.pyplot as mplot\n",
    "\n",
    "mplot.plot(train_loss, label='train_loss')\n",
    "mplot.plot(validation_loss, label='valid_loss')\n",
    "mplot.legend()\n",
    "mplot.show()"
   ]
  },
  {
   "cell_type": "code",
   "execution_count": 34,
   "metadata": {},
   "outputs": [
    {
     "data": {
      "image/png": "[encoded data removed]",
      "text/plain": [
       "<matplotlib.figure.Figure at 0x7efd78694a90>"
      ]
     },
     "metadata": {},
     "output_type": "display_data"
    }
   ],
   "source": [
    "# import matplotlib.pyplot as mplot\n",
    "\n",
    "mplot.plot(train_acc, label='train_acc')\n",
    "mplot.plot(validation_acc, label='valid_acc')\n",
    "mplot.legend()\n",
    "mplot.show()"
   ]
  },
  {
   "cell_type": "code",
   "execution_count": 35,
   "metadata": {},
   "outputs": [
    {
     "name": "stdout",
     "output_type": "stream",
     "text": [
      "INFO:tensorflow:Restoring parameters from checkpoints-cnn/har.ckpt\n",
      "Test accuracy: 0.936187\n"
     ]
    }
   ],
   "source": [
    "test_acc = []\n",
    "\n",
    "with tf.Session() as sess:\n",
    "    # Restore\n",
    "    saver.restore(sess, tf.train.latest_checkpoint('checkpoints-cnn'))\n",
    "    \n",
    "    for x_t, y_t in get_batches(X_test_norm, Y_test_onehot, batch_size):\n",
    "        feed = {inputs_: x_t,\n",
    "                labels_: y_t,\n",
    "                keep_prob_: 1}\n",
    "        \n",
    "        batch_acc = sess.run(accuracy, feed_dict=feed)\n",
    "        test_acc.append(batch_acc)\n",
    "    print(\"Test accuracy: {:.6f}\".format(np.mean(test_acc)))"
   ]
  },
  {
   "cell_type": "code",
   "execution_count": null,
   "metadata": {},
   "outputs": [],
   "source": []
  }
 ],
 "metadata": {
  "kernelspec": {
   "display_name": "Python 3",
   "language": "python",
   "name": "python3"
  },
  "language_info": {
   "codemirror_mode": {
    "name": "ipython",
    "version": 3
   },
   "file_extension": ".py",
   "mimetype": "text/x-python",
   "name": "python",
   "nbconvert_exporter": "python",
   "pygments_lexer": "ipython3",
   "version": "3.6.3"
  }
 },
 "nbformat": 4,
 "nbformat_minor": 2
}
