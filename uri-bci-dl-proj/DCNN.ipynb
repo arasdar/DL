{
 "cells": [
  {
   "cell_type": "code",
   "execution_count": 1,
   "metadata": {
    "collapsed": true
   },
   "outputs": [],
   "source": [
    "import scipy.io as spio\n",
    "import numpy as np"
   ]
  },
  {
   "cell_type": "code",
   "execution_count": 3,
   "metadata": {
    "collapsed": true
   },
   "outputs": [],
   "source": [
    "# This is supposed to be the Faces or Flippeds\n",
    "X = spio.loadmat(file_name='../data/bci/x.mat')"
   ]
  },
  {
   "cell_type": "code",
   "execution_count": 4,
   "metadata": {
    "collapsed": true
   },
   "outputs": [],
   "source": [
    "# This is supposed to be the labels\n",
    "Y = spio.loadmat(file_name='../data/bci/y.mat')"
   ]
  },
  {
   "cell_type": "code",
   "execution_count": 13,
   "metadata": {},
   "outputs": [
    {
     "data": {
      "text/plain": [
       "(dict_keys(['__globals__', 'Intensification_Data', '__header__', '__version__']),\n",
       " dict_keys(['__globals__', 'Intensification_SType', '__header__', '__version__']),\n",
       " [],\n",
       " [],\n",
       " (6480, 192, 64),\n",
       " (6480, 192),\n",
       " b'MATLAB 5.0 MAT-file, Platform: PCWIN64, Created on: Mon Oct 30 19:58:56 2017',\n",
       " b'MATLAB 5.0 MAT-file, Platform: PCWIN64, Created on: Mon Oct 30 19:59:22 2017',\n",
       " '1.0',\n",
       " '1.0')"
      ]
     },
     "execution_count": 13,
     "metadata": {},
     "output_type": "execute_result"
    }
   ],
   "source": [
    "(X.keys(), Y.keys(), X['__globals__'], Y['__globals__'], \n",
    " X['Intensification_Data'].shape, Y['Intensification_SType'].shape, \n",
    "X['__header__'], Y['__header__'], X['__version__'], Y['__version__'])"
   ]
  },
  {
   "cell_type": "code",
   "execution_count": 17,
   "metadata": {
    "collapsed": true
   },
   "outputs": [],
   "source": [
    "Data = X['Intensification_Data']\n",
    "SType = Y['Intensification_SType'] # Stimulus type"
   ]
  },
  {
   "cell_type": "code",
   "execution_count": 20,
   "metadata": {},
   "outputs": [
    {
     "data": {
      "text/plain": [
       "((6480, 192, 64), dtype('<f8'), (6480, 192), (6480, 192))"
      ]
     },
     "execution_count": 20,
     "metadata": {},
     "output_type": "execute_result"
    }
   ],
   "source": [
    "Data.shape, Data.dtype, SType.shape, SType.shape"
   ]
  },
  {
   "cell_type": "code",
   "execution_count": 26,
   "metadata": {},
   "outputs": [
    {
     "data": {
      "text/plain": [
       "((1, 192, 64), dtype('<f8'), 12288)"
      ]
     },
     "execution_count": 26,
     "metadata": {},
     "output_type": "execute_result"
    }
   ],
   "source": [
    "# Normalizing the input data\n",
    "# Visualize the mean and var/ std\n",
    "mean = Data.mean(axis=0, dtype=float, keepdims=3)\n",
    "mean.shape, mean.dtype"
   ]
  },
  {
   "cell_type": "code",
   "execution_count": 29,
   "metadata": {},
   "outputs": [
    {
     "data": {
      "text/plain": [
       "((1, 192, 64), dtype('<f8'))"
      ]
     },
     "execution_count": 29,
     "metadata": {},
     "output_type": "execute_result"
    }
   ],
   "source": [
    "# Std or standard deviation or square-root variance\n",
    "# ddof : int, optional\n",
    "# Means Delta Degrees of Freedom. \n",
    "# The divisor used in calculations is N - ddof, where N represents the number of elements. \n",
    "# By default ddof is zero.\n",
    "std = Data.std(axis=0, ddof=0., dtype=float, keepdims=3)\n",
    "std.shape, std.dtype"
   ]
  },
  {
   "cell_type": "code",
   "execution_count": 40,
   "metadata": {},
   "outputs": [
    {
     "data": {
      "text/plain": [
       "((6480, 192, 64), dtype('<f8'))"
      ]
     },
     "execution_count": 40,
     "metadata": {},
     "output_type": "execute_result"
    }
   ],
   "source": [
    "data_norm = (Data - mean)/ std\n",
    "data_norm.shape, data_norm.dtype"
   ]
  },
  {
   "cell_type": "code",
   "execution_count": 45,
   "metadata": {},
   "outputs": [],
   "source": [
    "# I suggested 10% test and 90% train\n",
    "# Yalda suggested 30% test and 70% train\n",
    "# Let's stick 30% first which is the most pessimistic ones among the options.\n",
    "# The size of training set vs the size of test set\n",
    "row_test = int(data_norm.shape[0] * 0.30)"
   ]
  },
  {
   "cell_type": "code",
   "execution_count": 54,
   "metadata": {
    "collapsed": true
   },
   "outputs": [],
   "source": [
    "X_train = data_norm[:-1*row_test]\n",
    "X_test = data_norm[-1*row_test:]"
   ]
  },
  {
   "cell_type": "code",
   "execution_count": 55,
   "metadata": {},
   "outputs": [
    {
     "data": {
      "text/plain": [
       "((6480, 192, 64),\n",
       " (6480, 192, 64),\n",
       " (4536, 192, 64),\n",
       " (1944, 192, 64),\n",
       " dtype('<f8'),\n",
       " dtype('<f8'),\n",
       " dtype('<f8'),\n",
       " dtype('<f8'))"
      ]
     },
     "execution_count": 55,
     "metadata": {},
     "output_type": "execute_result"
    }
   ],
   "source": [
    "(Data.shape, data_norm.shape, X_train.shape, X_test.shape, \n",
    " Data.dtype, data_norm.dtype, X_train.dtype, X_test.dtype)"
   ]
  },
  {
   "cell_type": "code",
   "execution_count": 59,
   "metadata": {},
   "outputs": [],
   "source": [
    "Y_train = SType[:-1*row_test, 0]\n",
    "Y_test = SType[-1*row_test:, 0]"
   ]
  },
  {
   "cell_type": "code",
   "execution_count": 60,
   "metadata": {},
   "outputs": [
    {
     "data": {
      "text/plain": [
       "((6480, 192), (4536,), (1944,), dtype('uint8'), dtype('uint8'), dtype('uint8'))"
      ]
     },
     "execution_count": 60,
     "metadata": {},
     "output_type": "execute_result"
    }
   ],
   "source": [
    "(SType.shape, Y_train.shape, Y_test.shape, \n",
    "SType.dtype, Y_train.dtype, Y_test.dtype)"
   ]
  },
  {
   "cell_type": "markdown",
   "metadata": {},
   "source": [
    "### Hyperparameters"
   ]
  },
  {
   "cell_type": "code",
   "execution_count": 62,
   "metadata": {},
   "outputs": [],
   "source": [
    "mb_size = 32  # minibatch size == number of input trials\n",
    "seq_len = Data.shape[1] # Number of timepoints in each trial length\n",
    "n_channels = Data.shape[2] # number of channels in each trial\n",
    "\n",
    "# Tweekable parameters\n",
    "learning_rate = 1e-3\n",
    "epochs = 1\n",
    "keep_prob = 0.95"
   ]
  },
  {
   "cell_type": "markdown",
   "metadata": {},
   "source": [
    "# GPUs availability or CPU"
   ]
  },
  {
   "cell_type": "code",
   "execution_count": 63,
   "metadata": {},
   "outputs": [
    {
     "name": "stdout",
     "output_type": "stream",
     "text": [
      "TensorFlow Version: 1.0.0\n"
     ]
    },
    {
     "name": "stderr",
     "output_type": "stream",
     "text": [
      "/home/arasdar/anaconda3/envs/arasdar-DL-env/lib/python3.5/site-packages/ipykernel_launcher.py:14: UserWarning: No GPU found. Please use a GPU to train your neural network.\n",
      "  \n"
     ]
    }
   ],
   "source": [
    "\"\"\"\n",
    "DON'T MODIFY ANYTHING IN THIS CELL\n",
    "\"\"\"\n",
    "from distutils.version import LooseVersion\n",
    "import warnings\n",
    "import tensorflow as tf\n",
    "\n",
    "# Check TensorFlow Version\n",
    "assert LooseVersion(tf.__version__) >= LooseVersion('1.0'), 'Please use TensorFlow version 1.0 or newer.  You are using {}'.format(tf.__version__)\n",
    "print('TensorFlow Version: {}'.format(tf.__version__))\n",
    "\n",
    "# Check for a GPU\n",
    "if not tf.test.gpu_device_name():\n",
    "    warnings.warn('No GPU found. Please use a GPU to train your neural network.')\n",
    "else:\n",
    "    print('Default GPU Device: {}'.format(tf.test.gpu_device_name()))"
   ]
  },
  {
   "cell_type": "code",
   "execution_count": 66,
   "metadata": {},
   "outputs": [],
   "source": [
    "graph = tf.Graph()\n",
    "\n",
    "# Construct placeholders\n",
    "with graph.as_default():\n",
    "    inputs_ = tf.placeholder(tf.float32, [None, seq_len, n_channels], name = 'inputs_')\n",
    "    keep_prob_ = tf.placeholder(tf.float32, name = 'keep_prob_')\n",
    "    learning_rate_ = tf.placeholder(tf.float32, name = 'learning_rate_')"
   ]
  },
  {
   "cell_type": "markdown",
   "metadata": {},
   "source": [
    "# Convolutional Layers"
   ]
  },
  {
   "cell_type": "code",
   "execution_count": 53,
   "metadata": {
    "collapsed": true
   },
   "outputs": [],
   "source": [
    "with graph.as_default():\n",
    "    \n",
    "    # (minibatch, 192, 64) --> (minibatch, 18, 191, 64)\n",
    "    #     tf.layers.conv1d(activation=, activity_regularizer=, bias_initializer=, bias_regularizer=, \n",
    "    #                      data_format=, dilation_rate=, filters=, inputs=, kernel_initializer=, \n",
    "    #                      kernel_regularizer=, kernel_size=, name=, padding=, reuse=, strides=, \n",
    "    #                      trainable=, use_bias=)\n",
    "    y_conv = tf.layers.conv1d(inputs=inputs_, filters=18, kernel_size=2, strides=1, \n",
    "                                 padding='valid', activation = tf.nn.relu)\n",
    "    # tf.nn.conv1d(data_format=, filters=, name=, padding=, stride=, use_cudnn_on_gpu=, value=)\n",
    "    #     y_conv = tf.nn.conv1d(data_format='NHWC', filters=[], padding=, stride=, value=inputs_)"
   ]
  },
  {
   "cell_type": "markdown",
   "metadata": {},
   "source": [
    "# FC layer: \n",
    "Now, flatten and pass to the classifier"
   ]
  },
  {
   "cell_type": "code",
   "execution_count": 27,
   "metadata": {
    "collapsed": true
   },
   "outputs": [],
   "source": [
    "with graph.as_default():\n",
    "    # Flatten and add dropout\n",
    "    #     print(max_pool_4.shape, *max_pool_4.shape) # (?, 12, 144)\n",
    "    flat = tf.reshape(max_pool_4, (-1, 12*144))\n",
    "    flat = tf.nn.dropout(x=flat, keep_prob=keep_prob_)\n",
    "    \n",
    "    # Predictions\n",
    "    logits = tf.layers.dense(inputs=flat, units=n_classes)\n",
    "    \n",
    "    # Cost function and optimizer\n",
    "    cost = tf.reduce_mean(input_tensor=tf.nn.softmax_cross_entropy_with_logits(logits=logits, labels=labels_))\n",
    "    optimizer = tf.train.AdamOptimizer(learning_rate=learning_rate_).minimize(cost)\n",
    "    \n",
    "    # Accuracy\n",
    "    correct_pred = tf.equal(tf.argmax(logits, 1), tf.argmax(labels_, 1))\n",
    "    accuracy = tf.reduce_mean(tf.cast(correct_pred, tf.float32), name='accuracy')"
   ]
  },
  {
   "cell_type": "markdown",
   "metadata": {},
   "source": [
    "### Train the network"
   ]
  },
  {
   "cell_type": "code",
   "execution_count": 32,
   "metadata": {
    "collapsed": true
   },
   "outputs": [],
   "source": [
    "import os\n",
    "\n",
    "if (os.path.exists('checkpoints-cnn-ffnn') == False):\n",
    "    !mkdir checkpoints-cnn-ffnn"
   ]
  },
  {
   "cell_type": "code",
   "execution_count": 33,
   "metadata": {
    "collapsed": true
   },
   "outputs": [],
   "source": [
    "#  Testing get_batch()\n",
    "XY_train = get_batches(X_train_norm, Y_train_onehot, batch_size)\n",
    "len(XY_train)\n",
    "X, Y = XY_train[0]"
   ]
  },
  {
   "cell_type": "code",
   "execution_count": 35,
   "metadata": {},
   "outputs": [
    {
     "name": "stdout",
     "output_type": "stream",
     "text": [
      "Epoch: 1/10 Train loss: 0.458018 Train acc: 0.827586 Valid loss: 0.444676 Valid acc: 0.833333\n",
      "Epoch: 2/10 Train loss: 0.354878 Train acc: 0.775862 Valid loss: 0.360553 Valid acc: 0.856481\n",
      "Epoch: 3/10 Train loss: 0.339282 Train acc: 0.844828 Valid loss: 0.337230 Valid acc: 0.868827\n",
      "Epoch: 4/10 Train loss: 0.298143 Train acc: 0.862069 Valid loss: 0.301684 Valid acc: 0.879630\n",
      "Epoch: 5/10 Train loss: 0.281424 Train acc: 0.896552 Valid loss: 0.302770 Valid acc: 0.881173\n",
      "Epoch: 6/10 Train loss: 0.290232 Train acc: 0.879310 Valid loss: 0.293540 Valid acc: 0.884259\n",
      "Epoch: 7/10 Train loss: 0.265929 Train acc: 0.879310 Valid loss: 0.276326 Valid acc: 0.890432\n",
      "Epoch: 8/10 Train loss: 0.294277 Train acc: 0.862069 Valid loss: 0.286151 Valid acc: 0.888889\n",
      "Epoch: 9/10 Train loss: 0.266821 Train acc: 0.879310 Valid loss: 0.280809 Valid acc: 0.896605\n",
      "Epoch: 10/10 Train loss: 0.313059 Train acc: 0.896552 Valid loss: 0.277896 Valid acc: 0.890432\n"
     ]
    }
   ],
   "source": [
    "valid_acc_list = []\n",
    "valid_loss_list = []\n",
    "\n",
    "train_acc_list = []\n",
    "train_loss_list = []\n",
    "\n",
    "with graph.as_default():\n",
    "    saver = tf.train.Saver()\n",
    "\n",
    "# train and valid minibatches\n",
    "XY_train = get_batches(X_train_norm, Y_train_onehot, batch_size)\n",
    "\n",
    "with tf.Session(graph=graph) as sess:\n",
    "    \n",
    "    # Init session variables\n",
    "    sess.run(tf.global_variables_initializer())\n",
    "   \n",
    "    # Loop over epochs: full batch/ dataset\n",
    "    for epoch in range(epochs):\n",
    "        \n",
    "        # Loop over minibatches\n",
    "        for idx in range(len(XY_train)):\n",
    "            \n",
    "            # Training for minibatches of training set\n",
    "            X, Y = XY_train[idx]\n",
    "            feed_dict = {inputs_:X , labels_:Y, keep_prob_:keep_prob, learning_rate_:learning_rate}\n",
    "            train_loss, _ , train_acc = sess.run([cost, optimizer, accuracy], feed_dict = feed_dict)\n",
    "            train_acc_list.append(train_acc)\n",
    "            train_loss_list.append(train_loss)\n",
    "                                        \n",
    "        # Validation for all validation set\n",
    "        X, Y = X_valid_norm, Y_valid_onehot\n",
    "        feed_dict = {inputs_:X , labels_:Y, keep_prob_:1.0}\n",
    "        valid_loss, valid_acc = sess.run([cost, accuracy], feed_dict = feed_dict)\n",
    "        valid_acc_list.append(valid_acc)\n",
    "        valid_loss_list.append(valid_loss)\n",
    "                \n",
    "        # Print info in each epoch/ iteration  OR full batch\n",
    "        print(\"Epoch: {}/{}\".format(epoch+1, epochs),\n",
    "              \"Train loss: {:6f}\".format(train_loss),\n",
    "              \"Train acc: {:.6f}\".format(train_acc),\n",
    "              \"Valid loss: {:6f}\".format(valid_loss),\n",
    "              \"Valid acc: {:.6f}\".format(valid_acc))\n",
    "    \n",
    "    # At the end of all epochs\n",
    "    saver.save(sess,\"checkpoints-cnn-ffnn/bci.ckpt\")"
   ]
  },
  {
   "cell_type": "code",
   "execution_count": 46,
   "metadata": {},
   "outputs": [
    {
     "data": {
      "image/png": "[encoded data removed]",
      "text/plain": [
       "<matplotlib.figure.Figure at 0x143042240>"
      ]
     },
     "metadata": {},
     "output_type": "display_data"
    }
   ],
   "source": [
    "import matplotlib.pyplot as mplot\n",
    "\n",
    "mplot.plot(train_loss_list, label='train_loss')\n",
    "# mplot.plot(valid_loss_list, label='valid_loss')\n",
    "mplot.legend()\n",
    "mplot.show()"
   ]
  },
  {
   "cell_type": "code",
   "execution_count": 47,
   "metadata": {},
   "outputs": [
    {
     "data": {
      "image/png": "[encoded data removed]",
      "text/plain": [
       "<matplotlib.figure.Figure at 0x1430b3588>"
      ]
     },
     "metadata": {},
     "output_type": "display_data"
    }
   ],
   "source": [
    "# import matplotlib.pyplot as mplot\n",
    "\n",
    "# mplot.plot(train_loss_list, label='train_loss')\n",
    "mplot.plot(valid_loss_list, label='valid_loss')\n",
    "mplot.legend()\n",
    "mplot.show()"
   ]
  },
  {
   "cell_type": "code",
   "execution_count": 49,
   "metadata": {},
   "outputs": [
    {
     "data": {
      "image/png": "[encoded data removed]",
      "text/plain": [
       "<matplotlib.figure.Figure at 0x142eb4ba8>"
      ]
     },
     "metadata": {},
     "output_type": "display_data"
    }
   ],
   "source": [
    "mplot.plot(train_acc_list, label='train_accuracy')\n",
    "mplot.legend()\n",
    "mplot.show()"
   ]
  },
  {
   "cell_type": "code",
   "execution_count": 50,
   "metadata": {},
   "outputs": [
    {
     "data": {
      "image/png": "[encoded data removed]",
      "text/plain": [
       "<matplotlib.figure.Figure at 0x1432e79e8>"
      ]
     },
     "metadata": {},
     "output_type": "display_data"
    }
   ],
   "source": [
    "mplot.plot(valid_acc_list, label='valid_accuracy')\n",
    "mplot.legend()\n",
    "mplot.show()"
   ]
  },
  {
   "cell_type": "code",
   "execution_count": null,
   "metadata": {
    "collapsed": true
   },
   "outputs": [],
   "source": []
  }
 ],
 "metadata": {
  "kernelspec": {
   "display_name": "Python 3",
   "language": "python",
   "name": "python3"
  },
  "language_info": {
   "codemirror_mode": {
    "name": "ipython",
    "version": 3
   },
   "file_extension": ".py",
   "mimetype": "text/x-python",
   "name": "python",
   "nbconvert_exporter": "python",
   "pygments_lexer": "ipython3",
   "version": "3.5.1"
  }
 },
 "nbformat": 4,
 "nbformat_minor": 2
}
