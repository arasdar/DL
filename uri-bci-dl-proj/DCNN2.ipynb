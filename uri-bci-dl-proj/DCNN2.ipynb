{
 "cells": [
  {
   "cell_type": "code",
   "execution_count": 1,
   "metadata": {
    "collapsed": true
   },
   "outputs": [],
   "source": [
    "import scipy.io as spio\n",
    "import numpy as np"
   ]
  },
  {
   "cell_type": "code",
   "execution_count": 2,
   "metadata": {
    "collapsed": true
   },
   "outputs": [],
   "source": [
    "X = spio.loadmat(file_name='../data/bci/x.mat')"
   ]
  },
  {
   "cell_type": "code",
   "execution_count": 3,
   "metadata": {
    "collapsed": true
   },
   "outputs": [],
   "source": [
    "Y = spio.loadmat(file_name='../data/bci/y.mat')"
   ]
  },
  {
   "cell_type": "code",
   "execution_count": 4,
   "metadata": {
    "collapsed": true
   },
   "outputs": [],
   "source": [
    "Data = X['Intensification_Data']\n",
    "SType = Y['Intensification_SType'].mean(axis=1)"
   ]
  },
  {
   "cell_type": "code",
   "execution_count": 21,
   "metadata": {
    "collapsed": true
   },
   "outputs": [],
   "source": [
    "# Normalizing input data\n",
    "def normalize(inputs):\n",
    "    return (inputs - inputs.mean(axis=0)[None,:,:]) / inputs.std(axis=0)[None,:,:]\n",
    "\n",
    "# onehot vectorizing output labels\n",
    "def one_hot(labels, n_class):\n",
    "    \"\"\" One-hot encoding \"\"\"\n",
    "    expansion = np.eye(n_class)\n",
    "    y = expansion[:, labels-1].T\n",
    "    assert y.shape[1] == n_class, \"Wrong number of labels!\"\n",
    "\n",
    "    return y\n",
    "\n",
    "# get minibatches for learning\n",
    "def get_batches(X, y, batch_size):\n",
    "    \"\"\" Return a generator for batches \"\"\"\n",
    "    n_batches = len(X) // batch_size\n",
    "    X, y = X[:n_batches*batch_size], y[:n_batches*batch_size]\n",
    "\n",
    "    # Loop over batches and yield\n",
    "    for b in range(0, len(X), batch_size):\n",
    "        yield X[b:b+batch_size], y[b:b+batch_size]"
   ]
  },
  {
   "cell_type": "code",
   "execution_count": 22,
   "metadata": {
    "collapsed": true
   },
   "outputs": [],
   "source": [
    "# Standardize/normalize train and test\n",
    "X_norm = normalize(inputs=Data)"
   ]
  },
  {
   "cell_type": "code",
   "execution_count": 23,
   "metadata": {
    "collapsed": true
   },
   "outputs": [],
   "source": [
    "# Deviding the input data into train and validation\n",
    "# 30 % of data is test and the rest train\n",
    "length = int(X_norm.shape[0] * 0.3)\n",
    "X_train_norm = X_norm[: -length]\n",
    "X_valid_norm = X_norm[-length:]"
   ]
  },
  {
   "cell_type": "code",
   "execution_count": 24,
   "metadata": {
    "collapsed": true
   },
   "outputs": [],
   "source": [
    "Y_train = np.array(SType[ :-length], dtype=int)\n",
    "Y_valid = np.array(SType[-length: ], dtype=int)"
   ]
  },
  {
   "cell_type": "markdown",
   "metadata": {},
   "source": [
    "### Hyperparameters"
   ]
  },
  {
   "cell_type": "code",
   "execution_count": 25,
   "metadata": {
    "collapsed": true
   },
   "outputs": [],
   "source": [
    "# Input data\n",
    "# X_(5832, 192, 64): (n_trials, seq_len, n_channels), batch_size== n_trials\n",
    "batch_size = X_train_norm.shape[0]// 100 # Batch size: number of trials\n",
    "seq_len = X_train_norm.shape[1]          # Number of steps: each trial length\n",
    "n_channels = X_train_norm.shape[2] # number of channels in each trial\n",
    "\n",
    "# Output labels\n",
    "# Y_(5832, 2): (n_trails, n_classes)\n",
    "n_classes = Y_train.max() + 1\n",
    "\n",
    "# Tweekable parameters\n",
    "learning_rate = 0.001 #1e-3\n",
    "epochs = 10 # num iterations for updating model\n",
    "keep_prob = 0.95 # 90% neurons are kept and 10% are dropped out"
   ]
  },
  {
   "cell_type": "code",
   "execution_count": 26,
   "metadata": {
    "collapsed": true
   },
   "outputs": [],
   "source": [
    "Y_train_onehot = one_hot(labels=Y_train, n_class=n_classes)\n",
    "Y_valid_onehot = one_hot(labels=Y_valid, n_class=n_classes)"
   ]
  },
  {
   "cell_type": "code",
   "execution_count": 27,
   "metadata": {},
   "outputs": [
    {
     "data": {
      "text/plain": [
       "((4536, 2), (1944, 2), (4536, 192, 64), (1944, 192, 64))"
      ]
     },
     "execution_count": 27,
     "metadata": {},
     "output_type": "execute_result"
    }
   ],
   "source": [
    "(Y_train_onehot.shape, Y_valid_onehot.shape, X_train_norm.shape, X_valid_norm.shape)"
   ]
  },
  {
   "cell_type": "markdown",
   "metadata": {},
   "source": [
    "# GPUs availability or CPU"
   ]
  },
  {
   "cell_type": "code",
   "execution_count": 28,
   "metadata": {},
   "outputs": [
    {
     "name": "stdout",
     "output_type": "stream",
     "text": [
      "TensorFlow Version: 1.3.0\n",
      "Default GPU Device: /gpu:0\n"
     ]
    }
   ],
   "source": [
    "\"\"\"\n",
    "DON'T MODIFY ANYTHING IN THIS CELL\n",
    "\"\"\"\n",
    "from distutils.version import LooseVersion\n",
    "import warnings\n",
    "import tensorflow as tf\n",
    "\n",
    "# Check TensorFlow Version\n",
    "assert LooseVersion(tf.__version__) >= LooseVersion('1.0'), 'Please use TensorFlow version 1.0 or newer.  You are using {}'.format(tf.__version__)\n",
    "print('TensorFlow Version: {}'.format(tf.__version__))\n",
    "\n",
    "# Check for a GPU\n",
    "if not tf.test.gpu_device_name():\n",
    "    warnings.warn('No GPU found. Please use a GPU to train your neural network.')\n",
    "else:\n",
    "    print('Default GPU Device: {}'.format(tf.test.gpu_device_name()))"
   ]
  },
  {
   "cell_type": "code",
   "execution_count": 29,
   "metadata": {
    "collapsed": true
   },
   "outputs": [],
   "source": [
    "inputs_ = tf.placeholder(tf.float32, [None, seq_len, n_channels], name = 'inputs_')\n",
    "labels_ = tf.placeholder(tf.float32, [None, n_classes], name = 'labels_')\n",
    "keep_prob_ = tf.placeholder(tf.float32, name = 'keep_prob_')\n",
    "learning_rate_ = tf.placeholder(tf.float32, name = 'learning_rate_')"
   ]
  },
  {
   "cell_type": "markdown",
   "metadata": {},
   "source": [
    "# Convolutional Layers, FC Layers, and Output layer"
   ]
  },
  {
   "cell_type": "code",
   "execution_count": 30,
   "metadata": {},
   "outputs": [
    {
     "name": "stdout",
     "output_type": "stream",
     "text": [
      "(?, 91, 18)\n",
      "(?, 1638) (?, 3276)\n",
      "(?, 2)\n"
     ]
    }
   ],
   "source": [
    "# (batch, 192, 9) --> (batch, 91, 18)\n",
    "out_conv = tf.layers.conv1d(inputs=inputs_, filters=18, kernel_size=12, strides=2, \n",
    "                         padding='valid', activation = tf.nn.relu)\n",
    "print(out_conv.shape)\n",
    "\n",
    "# (batch, 91, 18) --> (batch, 91*18) --> (batch, 91*18*2) \n",
    "in_fc = tf.reshape(out_conv, (-1, 91*18))\n",
    "out_fc = tf.layers.dense(inputs=in_fc, units=91*18*2, activation=tf.nn.relu)\n",
    "out_fc = tf.nn.dropout(x=out_fc, keep_prob=keep_prob_)\n",
    "print(in_fc.shape, out_fc.shape)\n",
    "\n",
    "# (batch, 91*18*2) --> (batch, 2) \n",
    "logits = tf.layers.dense(inputs=out_fc, units=n_classes)\n",
    "print(logits.shape)"
   ]
  },
  {
   "cell_type": "code",
   "execution_count": 31,
   "metadata": {},
   "outputs": [],
   "source": [
    "# Cost function and optimizer\n",
    "cost_tensor = tf.nn.softmax_cross_entropy_with_logits(logits=logits, labels=labels_)\n",
    "cost = tf.reduce_mean(input_tensor=cost_tensor)\n",
    "optimizer = tf.train.AdamOptimizer(learning_rate=learning_rate_).minimize(cost)\n",
    "\n",
    "# Accuracy\n",
    "correct_pred = tf.equal(tf.argmax(logits, 1), tf.argmax(labels_, 1))\n",
    "accuracy = tf.reduce_mean(tf.cast(correct_pred, tf.float32), name='accuracy')"
   ]
  },
  {
   "cell_type": "markdown",
   "metadata": {},
   "source": [
    "### Train the network"
   ]
  },
  {
   "cell_type": "code",
   "execution_count": 35,
   "metadata": {},
   "outputs": [
    {
     "name": "stdout",
     "output_type": "stream",
     "text": [
      "Epoch: 0/1 Train loss: 3.728856 Valid loss: 3.882883 train acc: 0.177778 Valid acc: 0.833333\n",
      "Epoch: 0/1 Train loss: 5.595199 Valid loss: 4.940581 train acc: 0.844445 Valid acc: 0.833333\n",
      "Epoch: 0/1 Train loss: 6.927114 Valid loss: 4.965527 train acc: 0.844445 Valid acc: 0.833333\n",
      "Epoch: 0/1 Train loss: 5.876118 Valid loss: 4.693816 train acc: 0.822222 Valid acc: 0.830761\n",
      "Epoch: 0/1 Train loss: 4.833348 Valid loss: 4.345282 train acc: 0.844445 Valid acc: 0.775206\n",
      "Epoch: 0/1 Train loss: 1.654185 Valid loss: 3.951766 train acc: 0.733333 Valid acc: 0.732510\n",
      "Epoch: 0/1 Train loss: 6.143596 Valid loss: 2.222680 train acc: 0.600000 Valid acc: 0.793210\n",
      "Epoch: 0/1 Train loss: 1.509249 Valid loss: 1.308269 train acc: 0.866667 Valid acc: 0.735082\n",
      "Epoch: 0/1 Train loss: 1.129480 Valid loss: 3.069188 train acc: 0.777778 Valid acc: 0.541152\n",
      "Epoch: 0/1 Train loss: 7.246019 Valid loss: 1.442941 train acc: 0.355556 Valid acc: 0.727881\n",
      "Epoch: 0/1 Train loss: 2.480733 Valid loss: 2.002934 train acc: 0.600000 Valid acc: 0.830761\n",
      "Epoch: 0/1 Train loss: 2.162505 Valid loss: 2.990345 train acc: 0.844445 Valid acc: 0.833333\n",
      "Epoch: 0/1 Train loss: 2.020159 Valid loss: 3.748260 train acc: 0.822222 Valid acc: 0.833333\n",
      "Epoch: 0/1 Train loss: 1.502654 Valid loss: 4.290088 train acc: 0.866667 Valid acc: 0.833333\n",
      "Epoch: 0/1 Train loss: 3.670383 Valid loss: 4.498269 train acc: 0.822222 Valid acc: 0.833333\n",
      "Epoch: 0/1 Train loss: 7.564186 Valid loss: 4.077893 train acc: 0.822222 Valid acc: 0.833333\n",
      "Epoch: 0/1 Train loss: 3.375244 Valid loss: 3.460952 train acc: 0.844445 Valid acc: 0.833333\n",
      "Epoch: 0/1 Train loss: 7.625025 Valid loss: 2.433205 train acc: 0.822222 Valid acc: 0.833333\n",
      "Epoch: 0/1 Train loss: 2.047159 Valid loss: 1.507094 train acc: 0.822222 Valid acc: 0.822016\n",
      "Epoch: 0/1 Train loss: 0.581341 Valid loss: 0.928948 train acc: 0.822222 Valid acc: 0.754115\n",
      "Epoch: 0/1 Train loss: 1.425004 Valid loss: 1.805749 train acc: 0.800000 Valid acc: 0.411008\n",
      "Epoch: 0/1 Train loss: 4.921907 Valid loss: 1.380196 train acc: 0.133333 Valid acc: 0.466049\n",
      "Epoch: 0/1 Train loss: 2.275872 Valid loss: 0.780178 train acc: 0.222222 Valid acc: 0.705761\n",
      "Epoch: 0/1 Train loss: 0.906434 Valid loss: 0.905156 train acc: 0.555556 Valid acc: 0.800926\n",
      "Epoch: 0/1 Train loss: 0.978131 Valid loss: 1.098867 train acc: 0.844445 Valid acc: 0.827160\n",
      "Epoch: 0/1 Train loss: 0.598581 Valid loss: 1.273013 train acc: 0.822222 Valid acc: 0.832819\n",
      "Epoch: 0/1 Train loss: 1.668474 Valid loss: 1.346352 train acc: 0.844445 Valid acc: 0.831790\n",
      "Epoch: 0/1 Train loss: 1.212881 Valid loss: 1.343635 train acc: 0.822222 Valid acc: 0.825617\n",
      "Epoch: 0/1 Train loss: 0.868036 Valid loss: 1.322487 train acc: 0.800000 Valid acc: 0.819959\n",
      "Epoch: 0/1 Train loss: 1.129009 Valid loss: 1.311220 train acc: 0.844445 Valid acc: 0.795267\n",
      "Epoch: 0/1 Train loss: 1.157187 Valid loss: 1.367573 train acc: 0.844445 Valid acc: 0.757716\n",
      "Epoch: 0/1 Train loss: 1.456736 Valid loss: 1.495245 train acc: 0.822222 Valid acc: 0.717593\n",
      "Epoch: 0/1 Train loss: 0.920019 Valid loss: 1.651580 train acc: 0.866667 Valid acc: 0.683128\n",
      "Epoch: 0/1 Train loss: 1.386023 Valid loss: 1.754471 train acc: 0.777778 Valid acc: 0.655350\n",
      "Epoch: 0/1 Train loss: 1.642980 Valid loss: 1.841805 train acc: 0.800000 Valid acc: 0.622942\n",
      "Epoch: 0/1 Train loss: 0.576103 Valid loss: 1.895185 train acc: 0.777778 Valid acc: 0.599280\n",
      "Epoch: 0/1 Train loss: 5.550317 Valid loss: 0.723684 train acc: 0.222222 Valid acc: 0.739712\n",
      "Epoch: 0/1 Train loss: 3.356413 Valid loss: 0.843996 train acc: 0.177778 Valid acc: 0.826132\n",
      "Epoch: 0/1 Train loss: 0.725534 Valid loss: 1.212724 train acc: 0.733333 Valid acc: 0.831276\n",
      "Epoch: 0/1 Train loss: 1.242713 Valid loss: 1.526477 train acc: 0.555556 Valid acc: 0.833848\n",
      "Epoch: 0/1 Train loss: 1.596488 Valid loss: 1.746999 train acc: 0.844445 Valid acc: 0.833848\n",
      "Epoch: 0/1 Train loss: 0.598182 Valid loss: 1.935227 train acc: 0.800000 Valid acc: 0.832305\n",
      "Epoch: 0/1 Train loss: 0.825151 Valid loss: 2.076992 train acc: 0.866667 Valid acc: 0.833333\n",
      "Epoch: 0/1 Train loss: 0.770167 Valid loss: 2.181978 train acc: 0.822222 Valid acc: 0.833333\n",
      "Epoch: 0/1 Train loss: 4.546429 Valid loss: 2.136286 train acc: 0.822222 Valid acc: 0.833333\n",
      "Epoch: 0/1 Train loss: 1.894661 Valid loss: 2.054801 train acc: 0.844445 Valid acc: 0.833333\n",
      "Epoch: 0/1 Train loss: 1.096474 Valid loss: 1.947785 train acc: 0.822222 Valid acc: 0.833333\n",
      "Epoch: 0/1 Train loss: 0.467539 Valid loss: 1.853131 train acc: 0.844445 Valid acc: 0.816872\n",
      "Epoch: 0/1 Train loss: 6.175742 Valid loss: 1.635322 train acc: 0.844445 Valid acc: 0.756173\n",
      "Epoch: 0/1 Train loss: 1.273855 Valid loss: 1.457299 train acc: 0.777778 Valid acc: 0.705761\n",
      "Epoch: 0/1 Train loss: 1.407172 Valid loss: 1.152553 train acc: 0.400000 Valid acc: 0.832305\n",
      "Epoch: 0/1 Train loss: 0.934421 Valid loss: 1.089123 train acc: 0.844445 Valid acc: 0.833848\n",
      "Epoch: 0/1 Train loss: 3.827744 Valid loss: 0.949387 train acc: 0.822222 Valid acc: 0.833333\n",
      "Epoch: 0/1 Train loss: 0.968561 Valid loss: 0.869312 train acc: 0.844445 Valid acc: 0.833333\n",
      "Epoch: 0/1 Train loss: 0.731687 Valid loss: 1.097100 train acc: 0.822222 Valid acc: 0.722222\n",
      "Epoch: 0/1 Train loss: 0.551384 Valid loss: 1.590867 train acc: 0.777778 Valid acc: 0.644547\n",
      "Epoch: 0/1 Train loss: 3.095165 Valid loss: 1.342573 train acc: 0.377778 Valid acc: 0.695988\n",
      "Epoch: 0/1 Train loss: 0.900957 Valid loss: 1.216704 train acc: 0.577778 Valid acc: 0.819444\n",
      "Epoch: 0/1 Train loss: 0.766070 Valid loss: 1.286590 train acc: 0.822222 Valid acc: 0.832819\n",
      "Epoch: 0/1 Train loss: 0.527666 Valid loss: 1.361900 train acc: 0.844445 Valid acc: 0.833333\n",
      "Epoch: 0/1 Train loss: 0.522161 Valid loss: 1.410650 train acc: 0.844445 Valid acc: 0.833333\n",
      "Epoch: 0/1 Train loss: 1.097247 Valid loss: 1.378736 train acc: 0.822222 Valid acc: 0.833333\n",
      "Epoch: 0/1 Train loss: 2.202404 Valid loss: 1.250618 train acc: 0.844445 Valid acc: 0.833333\n",
      "Epoch: 0/1 Train loss: 0.859925 Valid loss: 1.114437 train acc: 0.822222 Valid acc: 0.833333\n",
      "Epoch: 0/1 Train loss: 0.815139 Valid loss: 0.974322 train acc: 0.822222 Valid acc: 0.833333\n",
      "Epoch: 0/1 Train loss: 0.517861 Valid loss: 0.854700 train acc: 0.844445 Valid acc: 0.833333\n",
      "Epoch: 0/1 Train loss: 0.600426 Valid loss: 0.744964 train acc: 0.822222 Valid acc: 0.833333\n",
      "Epoch: 0/1 Train loss: 0.597725 Valid loss: 0.640263 train acc: 0.844445 Valid acc: 0.833333\n",
      "Epoch: 0/1 Train loss: 0.573931 Valid loss: 0.563519 train acc: 0.800000 Valid acc: 0.833333\n",
      "Epoch: 0/1 Train loss: 0.536505 Valid loss: 0.510169 train acc: 0.866667 Valid acc: 0.829218\n",
      "Epoch: 0/1 Train loss: 0.573686 Valid loss: 0.521756 train acc: 0.822222 Valid acc: 0.801955\n",
      "Epoch: 0/1 Train loss: 0.583244 Valid loss: 0.573280 train acc: 0.688889 Valid acc: 0.750514\n",
      "Epoch: 0/1 Train loss: 0.638813 Valid loss: 0.551174 train acc: 0.555556 Valid acc: 0.770576\n",
      "Epoch: 0/1 Train loss: 0.501005 Valid loss: 0.529718 train acc: 0.800000 Valid acc: 0.797839\n",
      "Epoch: 0/1 Train loss: 0.646550 Valid loss: 0.516658 train acc: 0.733333 Valid acc: 0.810185\n",
      "Epoch: 0/1 Train loss: 0.477592 Valid loss: 0.527355 train acc: 0.822222 Valid acc: 0.829732\n",
      "Epoch: 0/1 Train loss: 0.483274 Valid loss: 0.561366 train acc: 0.822222 Valid acc: 0.832305\n",
      "Epoch: 0/1 Train loss: 0.563607 Valid loss: 0.559850 train acc: 0.866667 Valid acc: 0.832819\n",
      "Epoch: 0/1 Train loss: 0.610228 Valid loss: 0.544201 train acc: 0.800000 Valid acc: 0.832305\n",
      "Epoch: 0/1 Train loss: 0.546909 Valid loss: 0.528199 train acc: 0.822222 Valid acc: 0.831276\n",
      "Epoch: 0/1 Train loss: 0.540233 Valid loss: 0.512002 train acc: 0.822222 Valid acc: 0.823560\n",
      "Epoch: 0/1 Train loss: 0.445014 Valid loss: 0.508510 train acc: 0.844445 Valid acc: 0.818416\n",
      "Epoch: 0/1 Train loss: 0.498160 Valid loss: 0.511295 train acc: 0.844445 Valid acc: 0.813786\n",
      "Epoch: 0/1 Train loss: 0.615222 Valid loss: 0.533826 train acc: 0.800000 Valid acc: 0.794239\n",
      "Epoch: 0/1 Train loss: 0.572618 Valid loss: 0.565346 train acc: 0.777778 Valid acc: 0.759259\n",
      "Epoch: 0/1 Train loss: 0.439961 Valid loss: 0.599282 train acc: 0.866667 Valid acc: 0.729424\n",
      "Epoch: 0/1 Train loss: 0.544192 Valid loss: 0.573825 train acc: 0.755556 Valid acc: 0.748971\n",
      "Epoch: 0/1 Train loss: 0.519486 Valid loss: 0.546019 train acc: 0.800000 Valid acc: 0.779835\n",
      "Epoch: 0/1 Train loss: 0.477894 Valid loss: 0.524874 train acc: 0.822222 Valid acc: 0.794239\n"
     ]
    },
    {
     "name": "stdout",
     "output_type": "stream",
     "text": [
      "Epoch: 0/1 Train loss: 0.535046 Valid loss: 0.495742 train acc: 0.800000 Valid acc: 0.824074\n",
      "Epoch: 0/1 Train loss: 0.513361 Valid loss: 0.507823 train acc: 0.777778 Valid acc: 0.834362\n",
      "Epoch: 0/1 Train loss: 0.485488 Valid loss: 0.538926 train acc: 0.822222 Valid acc: 0.834362\n",
      "Epoch: 0/1 Train loss: 0.716833 Valid loss: 0.546976 train acc: 0.844445 Valid acc: 0.833333\n",
      "Epoch: 0/1 Train loss: 1.045510 Valid loss: 0.508819 train acc: 0.822222 Valid acc: 0.834362\n",
      "Epoch: 0/1 Train loss: 0.536986 Valid loss: 0.488827 train acc: 0.844445 Valid acc: 0.834362\n",
      "Epoch: 0/1 Train loss: 0.488438 Valid loss: 0.495836 train acc: 0.800000 Valid acc: 0.826132\n",
      "Epoch: 0/1 Train loss: 0.497003 Valid loss: 0.510209 train acc: 0.822222 Valid acc: 0.806584\n",
      "Epoch: 0/1 Train loss: 0.559378 Valid loss: 0.514615 train acc: 0.755556 Valid acc: 0.802984\n",
      "Epoch: 0/1 Train loss: 0.544965 Valid loss: 0.507759 train acc: 0.822222 Valid acc: 0.821502\n",
      "Epoch: 0/1 Train loss: 0.584494 Valid loss: 0.491678 train acc: 0.822222 Valid acc: 0.830761\n"
     ]
    }
   ],
   "source": [
    "with tf.Session() as sess:\n",
    "    sess.run(tf.global_variables_initializer())\n",
    "   \n",
    "    # Loop over epochs\n",
    "    for e in range(epochs):\n",
    "        \n",
    "        # Loop over training minibatches\n",
    "        for x, y in get_batches(X_train_norm, Y_train_onehot, batch_size):\n",
    "            \n",
    "            # Feed dictionary\n",
    "            feed = {inputs_:x, labels_:y, keep_prob_:keep_prob, learning_rate_:learning_rate}\n",
    "            train_loss, _ , train_acc = sess.run([cost, optimizer, accuracy], feed_dict = feed)\n",
    "            \n",
    "            # Feed dictionary: no dropout/keep_prob; no learning rate/ no learning\n",
    "            feed = {inputs_:X_valid_norm, labels_:Y_valid_onehot, keep_prob_:1.0}\n",
    "            valid_loss, valid_acc = sess.run([cost, accuracy], feed_dict = feed)\n",
    "\n",
    "            # Print at each iter/ epoch\n",
    "            print(\"Epoch: {}/{}\".format(e, epochs),\n",
    "                  \"Train loss: {:6f}\".format(train_loss),\n",
    "                  \"Valid loss: {:.6f}\".format(valid_loss),\n",
    "                  \"train acc: {:.6f}\".format(train_acc),\n",
    "                  \"Valid acc: {:.6f}\".format(valid_acc))"
   ]
  },
  {
   "cell_type": "code",
   "execution_count": null,
   "metadata": {
    "collapsed": true
   },
   "outputs": [],
   "source": []
  }
 ],
 "metadata": {
  "kernelspec": {
   "display_name": "Python 3",
   "language": "python",
   "name": "python3"
  },
  "language_info": {
   "codemirror_mode": {
    "name": "ipython",
    "version": 3
   },
   "file_extension": ".py",
   "mimetype": "text/x-python",
   "name": "python",
   "nbconvert_exporter": "python",
   "pygments_lexer": "ipython3",
   "version": "3.6.3"
  }
 },
 "nbformat": 4,
 "nbformat_minor": 2
}
