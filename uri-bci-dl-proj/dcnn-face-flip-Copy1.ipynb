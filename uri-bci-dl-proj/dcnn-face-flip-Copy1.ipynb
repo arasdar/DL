{
 "cells": [
  {
   "cell_type": "code",
   "execution_count": 4,
   "metadata": {},
   "outputs": [
    {
     "name": "stdout",
     "output_type": "stream",
     "text": [
      "(37620, 205, 16) float64 (37620, 1) uint8\n",
      "0.833333333333 0.166666666667 0.0 0.0\n",
      "[2]\n"
     ]
    }
   ],
   "source": [
    "# Read the dataset\n",
    "import scipy.io as spio\n",
    "import numpy as np\n",
    "\n",
    "BahramFace = spio.loadmat(file_name='/home/arasdar/datasets/bci-project-data-RAW/BahramFace.mat')\n",
    "DJFace = spio.loadmat(file_name='/home/arasdar/datasets/bci-project-data-RAW/DJFace.mat')\n",
    "NickFace = spio.loadmat(file_name='/home/arasdar/datasets/bci-project-data-RAW/NickFace.mat')\n",
    "RoohiFace = spio.loadmat(file_name='/home/arasdar/datasets/bci-project-data-RAW/RoohiFace.mat')\n",
    "SarahFace = spio.loadmat(file_name='/home/arasdar/datasets/bci-project-data-RAW/SarahFace.mat')\n",
    "\n",
    "BahramFlip = spio.loadmat(file_name='/home/arasdar/datasets/bci-project-data-RAW/BahramFlipp.mat')\n",
    "DJFlip = spio.loadmat(file_name='/home/arasdar/datasets/bci-project-data-RAW/DJFlipp.mat')\n",
    "NickFlip = spio.loadmat(file_name='/home/arasdar/datasets/bci-project-data-RAW/NickFlipp.mat')\n",
    "RoohiFlip = spio.loadmat(file_name='/home/arasdar/datasets/bci-project-data-RAW/RoohiFlipp.mat')\n",
    "SarahFlip = spio.loadmat(file_name='/home/arasdar/datasets/bci-project-data-RAW/SarahFlipp.mat')\n",
    "\n",
    "AllData = np.concatenate((BahramFace['Intensification_Data'],\n",
    "                            DJFace['Intensification_Data'],\n",
    "                            NickFace['Intensification_Data'],\n",
    "                            RoohiFace['Intensification_Data'],\n",
    "                            SarahFace['Intensification_Data'],\n",
    "                            BahramFlip['Intensification_Data'],\n",
    "                            DJFlip['Intensification_Data'],\n",
    "                            NickFlip['Intensification_Data'],\n",
    "                            RoohiFlip['Intensification_Data'],\n",
    "                            SarahFlip['Intensification_Data']), axis=0)\n",
    "\n",
    "AllLabels = np.concatenate((BahramFace['Intensification_Label'],\n",
    "                            DJFace['Intensification_Label'],\n",
    "                            NickFace['Intensification_Label'],\n",
    "                            RoohiFace['Intensification_Label'],\n",
    "                            SarahFace['Intensification_Label'],\n",
    "                            BahramFlip['Intensification_Label'],\n",
    "                            DJFlip['Intensification_Label'],\n",
    "                            NickFlip['Intensification_Label'],\n",
    "                            RoohiFlip['Intensification_Label'],\n",
    "                            SarahFlip['Intensification_Label']), axis=0)\n",
    "\n",
    "print(AllData.shape, AllData.dtype, AllLabels.shape, AllLabels.dtype)\n",
    "print(np.mean(AllLabels==0), np.mean(AllLabels==1), np.mean(AllLabels==2), np.mean(AllLabels==3))\n",
    "print((AllLabels +  1).max(axis=0))"
   ]
  },
  {
   "cell_type": "code",
   "execution_count": 18,
   "metadata": {},
   "outputs": [
    {
     "name": "stdout",
     "output_type": "stream",
     "text": [
      "(62700, 205, 16) float64 (62700, 1) uint8\n",
      "0.5 0.5 0.0 0.0\n",
      "[2]\n"
     ]
    }
   ],
   "source": [
    "# Solving the overfitting problem by adding linearly transformed and separable data\n",
    "# linearly transformed and separable data augmentation\n",
    "AllLabelOne = (AllLabels==1).reshape(-1)\n",
    "AllData_LabelOne = AllData[AllLabelOne]\n",
    "\n",
    "AllLabelZero = (AllLabels==0).reshape(-1)\n",
    "AllData_LabelZero = AllData[AllLabelZero]\n",
    "\n",
    "# Linear synthetic data augmentatiion or creation or generation\n",
    "AllData_LabelOneNew_list = []\n",
    "\n",
    "# w*data+b: translation, rotation, and scaling\n",
    "# linear transformation of the target data\n",
    "w, b = 1.0, 0.0\n",
    "for idx in range(5):\n",
    "    AllData_LabelOneNew = (w * AllData_LabelOne) + b\n",
    "    AllData_LabelOneNew_list.append(AllData_LabelOneNew)\n",
    "    w *= 0.9 # 1.0, 0.9, 0.81, 0.729, 0.6561\n",
    "    b += 0.1 # 0.0, 0.1, 0.2, 0.3, 0.4\n",
    "\n",
    "AllData_LabelOneNew_total = np.array(AllData_LabelOneNew_list, \n",
    "                                      dtype=AllData_LabelOne.dtype).reshape(-1, 205, 16)\n",
    "\n",
    "AllDataNew = np.concatenate((AllData_LabelOneNew_total, AllData_LabelZero), axis=0)\n",
    "AllLabelsNew = np.concatenate((AllLabels[AllLabelZero], # Tgt = 6*Non-Tgt\n",
    "                                   AllLabels[AllLabelOne],\n",
    "                                   AllLabels[AllLabelOne],\n",
    "                                   AllLabels[AllLabelOne], \n",
    "                                   AllLabels[AllLabelOne], \n",
    "                                   AllLabels[AllLabelOne]), axis=0)\n",
    "\n",
    "print(AllDataNew.shape, AllDataNew.dtype, AllLabelsNew.shape, AllLabelsNew.dtype)\n",
    "print(np.mean(AllLabelsNew==0), np.mean(AllLabelsNew==1), np.mean(AllLabelsNew==2), np.mean(AllLabelsNew==3))\n",
    "print((AllLabelsNew +  1).max(axis=0))"
   ]
  },
  {
   "cell_type": "code",
   "execution_count": 19,
   "metadata": {},
   "outputs": [
    {
     "name": "stdout",
     "output_type": "stream",
     "text": [
      "(43890, 205, 16) (18810, 205, 16) (43890, 1) (18810, 1)\n"
     ]
    }
   ],
   "source": [
    "# Train and test split\n",
    "from sklearn.model_selection import train_test_split\n",
    "\n",
    "X_train_valid, X_test, Y_train_valid, Y_test = train_test_split(AllDataNew, AllLabelsNew, test_size=0.30)\n",
    "\n",
    "print(X_train_valid.shape, X_test.shape, Y_train_valid.shape, Y_test.shape)"
   ]
  },
  {
   "cell_type": "code",
   "execution_count": 7,
   "metadata": {},
   "outputs": [
    {
     "name": "stdout",
     "output_type": "stream",
     "text": [
      "0.0 0.500592390066 0.499407609934 0.0\n",
      "(43890, 2) float64 (18810, 2) float64\n"
     ]
    }
   ],
   "source": [
    "# Preparing input and output data\n",
    "from utilities import *\n",
    "\n",
    "# Normalizing/standardizing the input data features\n",
    "X_train_valid_norm, X_test_norm = standardize(test=X_test, train=X_train_valid)\n",
    "\n",
    "# Onehot encoding/vectorizing the output data labels\n",
    "print(np.mean((Y_train_valid+1).reshape(-1)==0), np.mean((Y_train_valid+1).reshape(-1)==1),\n",
    "     np.mean((Y_train_valid+1).reshape(-1)==2), np.mean((Y_train_valid+1).reshape(-1)==3))\n",
    "\n",
    "Y_train_valid_onehot = one_hot(labels=(Y_train_valid+1).reshape(-1), n_class=2) \n",
    "Y_test_onehot = one_hot(labels=(Y_test+1).reshape(-1), n_class=2) \n",
    "\n",
    "print(Y_train_valid_onehot.shape, Y_train_valid_onehot.dtype, \n",
    "      Y_test_onehot.shape, Y_test_onehot.dtype)"
   ]
  },
  {
   "cell_type": "code",
   "execution_count": 8,
   "metadata": {},
   "outputs": [
    {
     "name": "stdout",
     "output_type": "stream",
     "text": [
      "(30723, 205, 16) (13167, 205, 16) (30723, 2) (13167, 2)\n"
     ]
    }
   ],
   "source": [
    "# Train and valid split\n",
    "# from sklearn.model_selection import train_test_split\n",
    "X_train_norm, X_valid_norm, Y_train_onehot, Y_valid_onehot = train_test_split(X_train_valid_norm, \n",
    "                                                                              Y_train_valid_onehot,\n",
    "                                                                              test_size=0.30)\n",
    "\n",
    "print(X_train_norm.shape, X_valid_norm.shape, Y_train_onehot.shape, Y_valid_onehot.shape)"
   ]
  },
  {
   "cell_type": "code",
   "execution_count": 9,
   "metadata": {},
   "outputs": [
    {
     "name": "stdout",
     "output_type": "stream",
     "text": [
      "batch_size, seq_len, n_channels 307 205 16\n",
      "n_classes [2]\n"
     ]
    }
   ],
   "source": [
    "## Hyperparameters\n",
    "# Input data\n",
    "batch_size = X_train_norm.shape[0]// 100 # minibatch size & number of minibatches\n",
    "seq_len = X_train_norm.shape[1] # Number of steps: each trial length\n",
    "n_channels = X_train_norm.shape[2] # number of channels in each trial\n",
    "print('batch_size, seq_len, n_channels', batch_size, seq_len, n_channels)\n",
    "\n",
    "# Output labels\n",
    "n_classes = Y_train_valid.max(axis=0)+1\n",
    "assert Y_train_valid.max(axis=0) == Y_test.max(axis=0)\n",
    "print('n_classes', n_classes)\n",
    "\n",
    "# learning parameters\n",
    "learning_rate = 0.0001 #1e-4\n",
    "epochs = 100 # num iterations for updating model\n",
    "keep_prob = 0.50 # 90% neurons are kept and 10% are dropped out"
   ]
  },
  {
   "cell_type": "code",
   "execution_count": 10,
   "metadata": {},
   "outputs": [
    {
     "name": "stdout",
     "output_type": "stream",
     "text": [
      "TensorFlow Version: 1.3.0\n",
      "Default GPU Device: /gpu:0\n"
     ]
    }
   ],
   "source": [
    "# GPUs or CPU\n",
    "import tensorflow as tf\n",
    "\n",
    "# Check TensorFlow Version\n",
    "print('TensorFlow Version: {}'.format(tf.__version__))\n",
    "\n",
    "# Check for a GPU\n",
    "print('Default GPU Device: {}'.format(tf.test.gpu_device_name()))"
   ]
  },
  {
   "cell_type": "code",
   "execution_count": 11,
   "metadata": {},
   "outputs": [],
   "source": [
    "# Feed the data from python/numpy to tensorflow framework\n",
    "inputs_ = tf.placeholder(tf.float32, [None, seq_len, n_channels], name = 'inputs_')\n",
    "labels_ = tf.placeholder(tf.float32, [None, n_classes], name = 'labels_')\n",
    "keep_prob_ = tf.placeholder(tf.float32, name = 'keep_prob_')\n",
    "learning_rate_ = tf.placeholder(tf.float32, name = 'learning_rate_')"
   ]
  },
  {
   "cell_type": "code",
   "execution_count": 12,
   "metadata": {},
   "outputs": [
    {
     "name": "stdout",
     "output_type": "stream",
     "text": [
      "inputs_.shape, conv1.shape, max_pool_1.shape (?, 205, 16) (?, 204, 32) (?, 102, 32)\n",
      "max_pool_1.shape, conv2.shape, max_pool_2.shape (?, 102, 32) (?, 102, 64) (?, 51, 64)\n",
      "max_pool_2.shape, conv3.shape, max_pool_3.shape (?, 51, 64) (?, 50, 128) (?, 25, 128)\n",
      "max_pool_3.shape, conv4.shape, max_pool_4.shape (?, 25, 128) (?, 24, 256) (?, 12, 256)\n",
      "max_pool_4.shape, flat.shape, logits.shape (?, 12, 256) (?, 3072) (?, 2)\n"
     ]
    }
   ],
   "source": [
    "# batch_size, seq_len, n_channels: 307 205 16; n_classes: [2]\n",
    "# (batch, 205, 16) --> (batch, 102, 32)\n",
    "# conv valid: (205-2+0)/1 + 1 = (203/1)+1 = 203 + 1=204\n",
    "# pool same: (204-2+0)/2 + 1 = (202/2)+1 = 101 + 1=102\n",
    "conv1 = tf.layers.conv1d(inputs=inputs_, filters=32, kernel_size=2, strides=1, padding='valid', \n",
    "                         activation = tf.nn.relu)\n",
    "max_pool_1 = tf.layers.max_pooling1d(inputs=conv1, pool_size=2, strides=2, padding='same')\n",
    "# max_pool_1 = tf.nn.dropout(max_pool_1, keep_prob=keep_prob_)\n",
    "print('inputs_.shape, conv1.shape, max_pool_1.shape', inputs_.shape, conv1.shape, max_pool_1.shape)\n",
    "\n",
    "# (batch, 102, 32) --> (batch, 51, 64)\n",
    "# conv same\n",
    "# pool same: (102-2+0)/2 + 1 = (100/2)+1 = 50 + 1=51\n",
    "conv2 = tf.layers.conv1d(inputs=max_pool_1, filters=64, kernel_size=2, strides=1, padding='same', \n",
    "                         activation = tf.nn.relu)\n",
    "max_pool_2 = tf.layers.max_pooling1d(inputs=conv2, pool_size=2, strides=2, padding='same')\n",
    "# max_pool_2 = tf.nn.dropout(max_pool_2, keep_prob=keep_prob_)\n",
    "print('max_pool_1.shape, conv2.shape, max_pool_2.shape', max_pool_1.shape, conv2.shape, max_pool_2.shape)\n",
    "\n",
    "# (batch, 51, 64) --> (batch, 25, 128)\n",
    "# conv valid: (51-2+0)/1 + 1 = (49/1)+1 = 49 + 1=50\n",
    "# pool same: (50-2+0)/2 + 1 = (48/2)+1 = 24 + 1=25\n",
    "conv3 = tf.layers.conv1d(inputs=max_pool_2, filters=128, kernel_size=2, strides=1, padding='valid', \n",
    "                         activation = tf.nn.relu)\n",
    "max_pool_3 = tf.layers.max_pooling1d(inputs=conv3, pool_size=2, strides=2, padding='same')\n",
    "# max_pool_3 = tf.nn.dropout(max_pool_3, keep_prob=keep_prob_)\n",
    "print('max_pool_2.shape, conv3.shape, max_pool_3.shape', max_pool_2.shape, conv3.shape, max_pool_3.shape)\n",
    "\n",
    "# (batch, 25, 128) --> (batch, 12, 256)\n",
    "# conv valid: (25-2+0)/1 + 1 = (23/1)+1 = 23 + 1=24\n",
    "# pool same: (24-2+0)/2 + 1 = (22/2)+1 = 11 + 1=12\n",
    "conv4 = tf.layers.conv1d(inputs=max_pool_3, filters=256, kernel_size=2, strides=1, padding='valid', \n",
    "                         activation = tf.nn.relu)\n",
    "max_pool_4 = tf.layers.max_pooling1d(inputs=conv4, pool_size=2, strides=2, padding='same')\n",
    "# max_pool_4 = tf.nn.dropout(max_pool_4, keep_prob=keep_prob_)\n",
    "print('max_pool_3.shape, conv4.shape, max_pool_4.shape', max_pool_3.shape, conv4.shape, max_pool_4.shape)\n",
    "\n",
    "# Flatten and add dropout + predicted output\n",
    "flat = tf.reshape(max_pool_4, (-1, 12*256))\n",
    "flat = tf.nn.dropout(flat, keep_prob=keep_prob_)\n",
    "logits = tf.layers.dense(flat, n_classes)\n",
    "print('max_pool_4.shape, flat.shape, logits.shape', max_pool_4.shape, flat.shape, logits.shape)"
   ]
  },
  {
   "cell_type": "code",
   "execution_count": 13,
   "metadata": {},
   "outputs": [
    {
     "name": "stdout",
     "output_type": "stream",
     "text": [
      "cost_tensor, cost Tensor(\"Reshape_3:0\", shape=(?,), dtype=float32) Tensor(\"Mean:0\", shape=(), dtype=float32)\n",
      "optimizer name: \"Adam\"\n",
      "op: \"NoOp\"\n",
      "input: \"^Adam/update_conv1d/kernel/ApplyAdam\"\n",
      "input: \"^Adam/update_conv1d/bias/ApplyAdam\"\n",
      "input: \"^Adam/update_conv1d_1/kernel/ApplyAdam\"\n",
      "input: \"^Adam/update_conv1d_1/bias/ApplyAdam\"\n",
      "input: \"^Adam/update_conv1d_2/kernel/ApplyAdam\"\n",
      "input: \"^Adam/update_conv1d_2/bias/ApplyAdam\"\n",
      "input: \"^Adam/update_conv1d_3/kernel/ApplyAdam\"\n",
      "input: \"^Adam/update_conv1d_3/bias/ApplyAdam\"\n",
      "input: \"^Adam/update_dense/kernel/ApplyAdam\"\n",
      "input: \"^Adam/update_dense/bias/ApplyAdam\"\n",
      "input: \"^Adam/Assign\"\n",
      "input: \"^Adam/Assign_1\"\n",
      "\n",
      "correct_pred, accuracy Tensor(\"Equal:0\", shape=(?,), dtype=bool) Tensor(\"accuracy:0\", shape=(), dtype=float32)\n",
      "confusion_matrix Tensor(\"confusion_matrix/SparseTensorDenseAdd:0\", shape=(?, ?), dtype=int32)\n"
     ]
    }
   ],
   "source": [
    "# Backward pass: error backpropagation\n",
    "# Cost function\n",
    "cost_tensor = tf.nn.softmax_cross_entropy_with_logits(logits=logits, labels=labels_)\n",
    "cost = tf.reduce_mean(input_tensor=cost_tensor)\n",
    "print('cost_tensor, cost', cost_tensor, cost)\n",
    "\n",
    "# Optimizer\n",
    "optimizer = tf.train.AdamOptimizer(learning_rate=learning_rate_).minimize(cost)\n",
    "print('optimizer', optimizer)\n",
    "\n",
    "# Accuracy\n",
    "correct_pred = tf.equal(tf.argmax(logits, 1), tf.argmax(labels_, 1))\n",
    "accuracy = tf.reduce_mean(tf.cast(correct_pred, tf.float32), name='accuracy')\n",
    "print('correct_pred, accuracy', correct_pred, accuracy)\n",
    "\n",
    "# Confusion matrix\n",
    "confusion_matrix = tf.confusion_matrix(predictions=tf.argmax(logits, 1),\n",
    "                                       labels=tf.argmax(labels_, 1))\n",
    "print('confusion_matrix', confusion_matrix)"
   ]
  },
  {
   "cell_type": "code",
   "execution_count": 14,
   "metadata": {},
   "outputs": [
    {
     "name": "stdout",
     "output_type": "stream",
     "text": [
      "Epoch: 1/100 Train loss: 0.691253 Valid loss: 0.677621 Train acc: 0.556450 Valid acc: 0.587058\n",
      "Epoch: 2/100 Train loss: 0.662559 Valid loss: 0.650281 Train acc: 0.609104 Valid acc: 0.645329\n",
      "Epoch: 3/100 Train loss: 0.629938 Valid loss: 0.618227 Train acc: 0.648469 Valid acc: 0.679260\n",
      "Epoch: 4/100 Train loss: 0.599215 Valid loss: 0.588187 Train acc: 0.678241 Valid acc: 0.704932\n",
      "Epoch: 5/100 Train loss: 0.573672 Valid loss: 0.563302 Train acc: 0.700606 Valid acc: 0.723915\n",
      "Epoch: 6/100 Train loss: 0.552760 Valid loss: 0.543220 Train acc: 0.717557 Valid acc: 0.738657\n",
      "Epoch: 7/100 Train loss: 0.535714 Valid loss: 0.527061 Train acc: 0.730828 Valid acc: 0.750118\n",
      "Epoch: 8/100 Train loss: 0.521391 Valid loss: 0.513719 Train acc: 0.741454 Valid acc: 0.759385\n",
      "Epoch: 9/100 Train loss: 0.509244 Valid loss: 0.502460 Train acc: 0.750228 Valid acc: 0.767009\n",
      "Epoch: 10/100 Train loss: 0.498459 Valid loss: 0.492653 Train acc: 0.757723 Valid acc: 0.773439\n",
      "Epoch: 11/100 Train loss: 0.488925 Valid loss: 0.484166 Train acc: 0.764270 Valid acc: 0.778990\n",
      "Epoch: 12/100 Train loss: 0.480556 Valid loss: 0.476612 Train acc: 0.770054 Valid acc: 0.783832\n",
      "Epoch: 13/100 Train loss: 0.472890 Valid loss: 0.469929 Train acc: 0.775169 Valid acc: 0.788094\n",
      "Epoch: 14/100 Train loss: 0.465955 Valid loss: 0.463924 Train acc: 0.779649 Valid acc: 0.791867\n",
      "Epoch: 15/100 Train loss: 0.459481 Valid loss: 0.458466 Train acc: 0.783800 Valid acc: 0.795245\n",
      "Epoch: 16/100 Train loss: 0.453428 Valid loss: 0.453378 Train acc: 0.787620 Valid acc: 0.798314\n",
      "Epoch: 17/100 Train loss: 0.447907 Valid loss: 0.448786 Train acc: 0.791123 Valid acc: 0.801102\n",
      "Epoch: 18/100 Train loss: 0.442763 Valid loss: 0.444543 Train acc: 0.794309 Valid acc: 0.803680\n",
      "Epoch: 19/100 Train loss: 0.438087 Valid loss: 0.440584 Train acc: 0.797130 Valid acc: 0.806052\n",
      "Epoch: 20/100 Train loss: 0.433616 Valid loss: 0.436846 Train acc: 0.799928 Valid acc: 0.808252\n",
      "Epoch: 21/100 Train loss: 0.429285 Valid loss: 0.433390 Train acc: 0.802606 Valid acc: 0.810318\n",
      "Epoch: 22/100 Train loss: 0.425187 Valid loss: 0.430093 Train acc: 0.805013 Valid acc: 0.812265\n",
      "Epoch: 23/100 Train loss: 0.421402 Valid loss: 0.427138 Train acc: 0.807295 Valid acc: 0.814030\n",
      "Epoch: 24/100 Train loss: 0.417775 Valid loss: 0.424351 Train acc: 0.809502 Valid acc: 0.815725\n",
      "Epoch: 25/100 Train loss: 0.414178 Valid loss: 0.421658 Train acc: 0.811631 Valid acc: 0.817344\n",
      "Epoch: 26/100 Train loss: 0.410732 Valid loss: 0.419068 Train acc: 0.813668 Valid acc: 0.818869\n",
      "Epoch: 27/100 Train loss: 0.407494 Valid loss: 0.416588 Train acc: 0.815562 Valid acc: 0.820299\n",
      "Epoch: 28/100 Train loss: 0.404413 Valid loss: 0.414252 Train acc: 0.817370 Valid acc: 0.821655\n",
      "Epoch: 29/100 Train loss: 0.401380 Valid loss: 0.412025 Train acc: 0.819088 Valid acc: 0.822944\n",
      "Epoch: 30/100 Train loss: 0.398470 Valid loss: 0.409840 Train acc: 0.820676 Valid acc: 0.824182\n",
      "Epoch: 31/100 Train loss: 0.395710 Valid loss: 0.407761 Train acc: 0.822201 Valid acc: 0.825360\n",
      "Epoch: 32/100 Train loss: 0.393023 Valid loss: 0.405724 Train acc: 0.823670 Valid acc: 0.826488\n",
      "Epoch: 33/100 Train loss: 0.390462 Valid loss: 0.403788 Train acc: 0.825075 Valid acc: 0.827561\n",
      "Epoch: 34/100 Train loss: 0.387967 Valid loss: 0.401933 Train acc: 0.826458 Valid acc: 0.828578\n",
      "Epoch: 35/100 Train loss: 0.385525 Valid loss: 0.400196 Train acc: 0.827804 Valid acc: 0.829560\n",
      "Epoch: 36/100 Train loss: 0.383127 Valid loss: 0.398503 Train acc: 0.829126 Valid acc: 0.830518\n",
      "Epoch: 37/100 Train loss: 0.380826 Valid loss: 0.396835 Train acc: 0.830419 Valid acc: 0.831432\n",
      "Epoch: 38/100 Train loss: 0.378543 Valid loss: 0.395269 Train acc: 0.831636 Valid acc: 0.832306\n",
      "Epoch: 39/100 Train loss: 0.376305 Valid loss: 0.393719 Train acc: 0.832859 Valid acc: 0.833161\n",
      "Epoch: 40/100 Train loss: 0.374182 Valid loss: 0.392233 Train acc: 0.833964 Valid acc: 0.833994\n",
      "Epoch: 41/100 Train loss: 0.372069 Valid loss: 0.390749 Train acc: 0.835089 Valid acc: 0.834794\n",
      "Epoch: 42/100 Train loss: 0.370051 Valid loss: 0.389348 Train acc: 0.836183 Valid acc: 0.835554\n",
      "Epoch: 43/100 Train loss: 0.368124 Valid loss: 0.387997 Train acc: 0.837205 Valid acc: 0.836279\n",
      "Epoch: 44/100 Train loss: 0.366155 Valid loss: 0.386672 Train acc: 0.838262 Valid acc: 0.837001\n",
      "Epoch: 45/100 Train loss: 0.364249 Valid loss: 0.385385 Train acc: 0.839289 Valid acc: 0.837701\n",
      "Epoch: 46/100 Train loss: 0.362411 Valid loss: 0.384191 Train acc: 0.840251 Valid acc: 0.838364\n",
      "Epoch: 47/100 Train loss: 0.360603 Valid loss: 0.383000 Train acc: 0.841234 Valid acc: 0.839020\n",
      "Epoch: 48/100 Train loss: 0.358795 Valid loss: 0.381838 Train acc: 0.842172 Valid acc: 0.839652\n",
      "Epoch: 49/100 Train loss: 0.357041 Valid loss: 0.380706 Train acc: 0.843106 Valid acc: 0.840272\n",
      "Epoch: 50/100 Train loss: 0.355390 Valid loss: 0.379591 Train acc: 0.843954 Valid acc: 0.840881\n",
      "Epoch: 51/100 Train loss: 0.353769 Valid loss: 0.378458 Train acc: 0.844804 Valid acc: 0.841477\n",
      "Epoch: 52/100 Train loss: 0.352098 Valid loss: 0.377382 Train acc: 0.845671 Valid acc: 0.842055\n",
      "Epoch: 53/100 Train loss: 0.350492 Valid loss: 0.376360 Train acc: 0.846475 Valid acc: 0.842613\n",
      "Epoch: 54/100 Train loss: 0.348899 Valid loss: 0.375396 Train acc: 0.847314 Valid acc: 0.843165\n",
      "Epoch: 55/100 Train loss: 0.347375 Valid loss: 0.374442 Train acc: 0.848098 Valid acc: 0.843704\n",
      "Epoch: 56/100 Train loss: 0.345888 Valid loss: 0.373534 Train acc: 0.848864 Valid acc: 0.844222\n",
      "Epoch: 57/100 Train loss: 0.344394 Valid loss: 0.372598 Train acc: 0.849626 Valid acc: 0.844730\n",
      "Epoch: 58/100 Train loss: 0.342950 Valid loss: 0.371701 Train acc: 0.850362 Valid acc: 0.845217\n",
      "Epoch: 59/100 Train loss: 0.341489 Valid loss: 0.370832 Train acc: 0.851068 Valid acc: 0.845702\n",
      "Epoch: 60/100 Train loss: 0.340056 Valid loss: 0.369993 Train acc: 0.851801 Valid acc: 0.846172\n",
      "Epoch: 61/100 Train loss: 0.338700 Valid loss: 0.369200 Train acc: 0.852490 Valid acc: 0.846637\n",
      "Epoch: 62/100 Train loss: 0.337321 Valid loss: 0.368366 Train acc: 0.853205 Valid acc: 0.847092\n",
      "Epoch: 63/100 Train loss: 0.336017 Valid loss: 0.367528 Train acc: 0.853861 Valid acc: 0.847541\n",
      "Epoch: 64/100 Train loss: 0.334643 Valid loss: 0.366699 Train acc: 0.854542 Valid acc: 0.847988\n",
      "Epoch: 65/100 Train loss: 0.333294 Valid loss: 0.365921 Train acc: 0.855233 Valid acc: 0.848431\n",
      "Epoch: 66/100 Train loss: 0.331958 Valid loss: 0.365138 Train acc: 0.855898 Valid acc: 0.848865\n",
      "Epoch: 67/100 Train loss: 0.330673 Valid loss: 0.364308 Train acc: 0.856545 Valid acc: 0.849292\n",
      "Epoch: 68/100 Train loss: 0.329417 Valid loss: 0.363587 Train acc: 0.857168 Valid acc: 0.849696\n",
      "Epoch: 69/100 Train loss: 0.328117 Valid loss: 0.362850 Train acc: 0.857806 Valid acc: 0.850104\n",
      "Epoch: 70/100 Train loss: 0.326899 Valid loss: 0.362114 Train acc: 0.858401 Valid acc: 0.850506\n",
      "Epoch: 71/100 Train loss: 0.325628 Valid loss: 0.361407 Train acc: 0.859003 Valid acc: 0.850910\n",
      "Epoch: 72/100 Train loss: 0.324418 Valid loss: 0.360697 Train acc: 0.859612 Valid acc: 0.851297\n",
      "Epoch: 73/100 Train loss: 0.323220 Valid loss: 0.360002 Train acc: 0.860207 Valid acc: 0.851680\n",
      "Epoch: 74/100 Train loss: 0.322055 Valid loss: 0.359329 Train acc: 0.860775 Valid acc: 0.852045\n",
      "Epoch: 75/100 Train loss: 0.320916 Valid loss: 0.358722 Train acc: 0.861342 Valid acc: 0.852415\n",
      "Epoch: 76/100 Train loss: 0.319730 Valid loss: 0.358123 Train acc: 0.861933 Valid acc: 0.852783\n",
      "Epoch: 77/100 Train loss: 0.318572 Valid loss: 0.357520 Train acc: 0.862502 Valid acc: 0.853147\n",
      "Epoch: 78/100 Train loss: 0.317424 Valid loss: 0.356914 Train acc: 0.863074 Valid acc: 0.853499\n",
      "Epoch: 79/100 Train loss: 0.316282 Valid loss: 0.356333 Train acc: 0.863633 Valid acc: 0.853844\n",
      "Epoch: 80/100 Train loss: 0.315153 Valid loss: 0.355753 Train acc: 0.864171 Valid acc: 0.854183\n",
      "Epoch: 81/100 Train loss: 0.314058 Valid loss: 0.355183 Train acc: 0.864692 Valid acc: 0.854517\n",
      "Epoch: 82/100 Train loss: 0.312928 Valid loss: 0.354599 Train acc: 0.865247 Valid acc: 0.854852\n",
      "Epoch: 83/100 Train loss: 0.311837 Valid loss: 0.354046 Train acc: 0.865765 Valid acc: 0.855178\n",
      "Epoch: 84/100 Train loss: 0.310784 Valid loss: 0.353489 Train acc: 0.866275 Valid acc: 0.855493\n",
      "Epoch: 85/100 Train loss: 0.309695 Valid loss: 0.352913 Train acc: 0.866814 Valid acc: 0.855809\n",
      "Epoch: 86/100 Train loss: 0.308670 Valid loss: 0.352399 Train acc: 0.867308 Valid acc: 0.856119\n"
     ]
    },
    {
     "name": "stdout",
     "output_type": "stream",
     "text": [
      "Epoch: 87/100 Train loss: 0.307632 Valid loss: 0.351869 Train acc: 0.867820 Valid acc: 0.856425\n",
      "Epoch: 88/100 Train loss: 0.306605 Valid loss: 0.351325 Train acc: 0.868306 Valid acc: 0.856725\n",
      "Epoch: 89/100 Train loss: 0.305554 Valid loss: 0.350806 Train acc: 0.868831 Valid acc: 0.857030\n",
      "Epoch: 90/100 Train loss: 0.304585 Valid loss: 0.350302 Train acc: 0.869305 Valid acc: 0.857319\n",
      "Epoch: 91/100 Train loss: 0.303608 Valid loss: 0.349769 Train acc: 0.869784 Valid acc: 0.857602\n",
      "Epoch: 92/100 Train loss: 0.302614 Valid loss: 0.349243 Train acc: 0.870265 Valid acc: 0.857878\n",
      "Epoch: 93/100 Train loss: 0.301601 Valid loss: 0.348723 Train acc: 0.870737 Valid acc: 0.858166\n",
      "Epoch: 94/100 Train loss: 0.300627 Valid loss: 0.348208 Train acc: 0.871215 Valid acc: 0.858444\n",
      "Epoch: 95/100 Train loss: 0.299633 Valid loss: 0.347698 Train acc: 0.871702 Valid acc: 0.858719\n",
      "Epoch: 96/100 Train loss: 0.298683 Valid loss: 0.347185 Train acc: 0.872164 Valid acc: 0.858993\n",
      "Epoch: 97/100 Train loss: 0.297712 Valid loss: 0.346763 Train acc: 0.872645 Valid acc: 0.859261\n",
      "Epoch: 98/100 Train loss: 0.296767 Valid loss: 0.346313 Train acc: 0.873099 Valid acc: 0.859521\n",
      "Epoch: 99/100 Train loss: 0.295856 Valid loss: 0.345813 Train acc: 0.873528 Valid acc: 0.859772\n",
      "Epoch: 100/100 Train loss: 0.294931 Valid loss: 0.345282 Train acc: 0.873962 Valid acc: 0.860033\n"
     ]
    }
   ],
   "source": [
    "train_acc, train_loss = [], []\n",
    "valid_acc, valid_loss = [], []\n",
    "\n",
    "# Save the training result or trained and validated model params\n",
    "saver = tf.train.Saver()\n",
    "\n",
    "with tf.Session() as sess:\n",
    "    sess.run(tf.global_variables_initializer())\n",
    "   \n",
    "    # Loop over epochs\n",
    "    for e in range(epochs):\n",
    "        \n",
    "        # Loop over batches\n",
    "        for x, y in get_batches(X_train_norm, Y_train_onehot, batch_size):\n",
    "            \n",
    "            ######################## Training\n",
    "            # Feed dictionary\n",
    "            feed = {inputs_ : x, labels_ : y, keep_prob_ : keep_prob, learning_rate_ : learning_rate}\n",
    "            \n",
    "            # Loss\n",
    "            loss, _ , acc = sess.run([cost, optimizer, accuracy], feed_dict = feed)\n",
    "            train_acc.append(acc)\n",
    "            train_loss.append(loss)\n",
    "            \n",
    "            ################## Validation\n",
    "            acc_batch = []\n",
    "            loss_batch = []    \n",
    "            # Loop over batches\n",
    "            for x, y in get_batches(X_valid_norm, Y_valid_onehot, batch_size):\n",
    "\n",
    "                # Feed dictionary\n",
    "                feed = {inputs_ : x, labels_ : y, keep_prob_ : 1.0}\n",
    "\n",
    "                # Loss\n",
    "                loss, acc = sess.run([cost, accuracy], feed_dict = feed)\n",
    "                acc_batch.append(acc)\n",
    "                loss_batch.append(loss)\n",
    "\n",
    "            # Store\n",
    "            valid_acc.append(np.mean(acc_batch))\n",
    "            valid_loss.append(np.mean(loss_batch))\n",
    "            \n",
    "        # Print info for every iter/epoch\n",
    "        print(\"Epoch: {}/{}\".format(e+1, epochs),\n",
    "              \"Train loss: {:6f}\".format(np.mean(train_loss)),\n",
    "              \"Valid loss: {:.6f}\".format(np.mean(valid_loss)),\n",
    "              \"Train acc: {:6f}\".format(np.mean(train_acc)),\n",
    "              \"Valid acc: {:.6f}\".format(np.mean(valid_acc)))\n",
    "                \n",
    "    saver.save(sess,\"checkpoints-dcnn/face-flip.ckpt\")"
   ]
  },
  {
   "cell_type": "code",
   "execution_count": 15,
   "metadata": {},
   "outputs": [
    {
     "data": {
      "image/png": "[encoded data removed]",
      "text/plain": [
       "<matplotlib.figure.Figure at 0x7f8068519d68>"
      ]
     },
     "metadata": {},
     "output_type": "display_data"
    }
   ],
   "source": [
    "import matplotlib.pyplot as mplot\n",
    "\n",
    "mplot.plot(train_loss, label='face-flip train_loss')\n",
    "mplot.plot(valid_loss, label='face-flip valid_loss')\n",
    "mplot.legend()\n",
    "mplot.show()"
   ]
  },
  {
   "cell_type": "code",
   "execution_count": 16,
   "metadata": {},
   "outputs": [
    {
     "data": {
      "image/png": "[encoded data removed]",
      "text/plain": [
       "<matplotlib.figure.Figure at 0x7f7ecc35e710>"
      ]
     },
     "metadata": {},
     "output_type": "display_data"
    }
   ],
   "source": [
    "# import matplotlib.pyplot as mplot\n",
    "mplot.plot(train_acc, label='face-flip train_acc')\n",
    "mplot.plot(valid_acc, label='face-flip valid_acc')\n",
    "mplot.legend()\n",
    "mplot.show()"
   ]
  },
  {
   "cell_type": "code",
   "execution_count": 17,
   "metadata": {},
   "outputs": [
    {
     "name": "stdout",
     "output_type": "stream",
     "text": [
      "INFO:tensorflow:Restoring parameters from checkpoints-dcnn/face-flip.ckpt\n",
      "Test loss: 0.333729 Test acc: 0.870348\n"
     ]
    }
   ],
   "source": [
    "test_acc, test_loss = [], []\n",
    "\n",
    "with tf.Session() as sess:\n",
    "    # Restore the validated model\n",
    "    saver.restore(sess, tf.train.latest_checkpoint('checkpoints-dcnn'))\n",
    "    \n",
    "    ################## Test\n",
    "    acc_batch = []\n",
    "    loss_batch = []    \n",
    "    # Loop over batches\n",
    "    for x, y in get_batches(X_test_norm, Y_test_onehot, batch_size):\n",
    "\n",
    "        # Feed dictionary\n",
    "        feed = {inputs_ : x, labels_ : y, keep_prob_ : 1.0}\n",
    "\n",
    "        # Loss\n",
    "        loss, acc = sess.run([cost, accuracy], feed_dict = feed)\n",
    "        acc_batch.append(acc)\n",
    "        loss_batch.append(loss)\n",
    "\n",
    "    # Store\n",
    "    test_acc.append(np.mean(acc_batch))\n",
    "    test_loss.append(np.mean(loss_batch))\n",
    "\n",
    "    # Print info for every iter/epoch\n",
    "    print(\"Test loss: {:6f}\".format(np.mean(test_loss)),\n",
    "          \"Test acc: {:.6f}\".format(np.mean(test_acc)))"
   ]
  },
  {
   "cell_type": "code",
   "execution_count": null,
   "metadata": {},
   "outputs": [],
   "source": []
  }
 ],
 "metadata": {
  "kernelspec": {
   "display_name": "Python 3",
   "language": "python",
   "name": "python3"
  },
  "language_info": {
   "codemirror_mode": {
    "name": "ipython",
    "version": 3
   },
   "file_extension": ".py",
   "mimetype": "text/x-python",
   "name": "python",
   "nbconvert_exporter": "python",
   "pygments_lexer": "ipython3",
   "version": "3.6.3"
  }
 },
 "nbformat": 4,
 "nbformat_minor": 2
}
