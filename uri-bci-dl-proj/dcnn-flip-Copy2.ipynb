{
 "cells": [
  {
   "cell_type": "code",
   "execution_count": 1,
   "metadata": {},
   "outputs": [
    {
     "name": "stdout",
     "output_type": "stream",
     "text": [
      "(18900, 205, 16) float64 (18900, 1) uint8\n",
      "0.833333333333 0.166666666667 0.0 0.0\n",
      "[2]\n"
     ]
    }
   ],
   "source": [
    "# Read the dataset\n",
    "import scipy.io as spio\n",
    "import numpy as np\n",
    "\n",
    "BahramFlip = spio.loadmat(file_name='/home/arasdar/datasets/bci-project-data-RAW/BahramFlipp.mat')\n",
    "DJFlip = spio.loadmat(file_name='/home/arasdar/datasets/bci-project-data-RAW/DJFlipp.mat')\n",
    "NickFlip = spio.loadmat(file_name='/home/arasdar/datasets/bci-project-data-RAW/NickFlipp.mat')\n",
    "RoohiFlip = spio.loadmat(file_name='/home/arasdar/datasets/bci-project-data-RAW/RoohiFlipp.mat')\n",
    "SarahFlip = spio.loadmat(file_name='/home/arasdar/datasets/bci-project-data-RAW/SarahFlipp.mat')\n",
    "\n",
    "AllData = np.concatenate((BahramFlip['Intensification_Data'],\n",
    "                            DJFlip['Intensification_Data'],\n",
    "                            NickFlip['Intensification_Data'],\n",
    "                            RoohiFlip['Intensification_Data'],\n",
    "                            SarahFlip['Intensification_Data']), axis=0)\n",
    "\n",
    "AllLabels = np.concatenate((BahramFlip['Intensification_Label'],\n",
    "                            DJFlip['Intensification_Label'],\n",
    "                            NickFlip['Intensification_Label'],\n",
    "                            RoohiFlip['Intensification_Label'],\n",
    "                            SarahFlip['Intensification_Label']), axis=0)\n",
    "\n",
    "print(AllData.shape, AllData.dtype, AllLabels.shape, AllLabels.dtype)\n",
    "print(np.mean(AllLabels==0), np.mean(AllLabels==1), np.mean(AllLabels==2), np.mean(AllLabels==3))\n",
    "print((AllLabels +  1).max(axis=0))"
   ]
  },
  {
   "cell_type": "code",
   "execution_count": 2,
   "metadata": {},
   "outputs": [
    {
     "name": "stdout",
     "output_type": "stream",
     "text": [
      "(13230, 205, 16) (5670, 205, 16) (13230, 1) (5670, 1)\n"
     ]
    }
   ],
   "source": [
    "# Train and test split\n",
    "from sklearn.model_selection import train_test_split\n",
    "\n",
    "X_train_valid, X_test, Y_train_valid, Y_test = train_test_split(AllData, AllLabels, test_size=0.30)\n",
    "\n",
    "print(X_train_valid.shape, X_test.shape, Y_train_valid.shape, Y_test.shape)"
   ]
  },
  {
   "cell_type": "code",
   "execution_count": 3,
   "metadata": {},
   "outputs": [
    {
     "name": "stdout",
     "output_type": "stream",
     "text": [
      "0.0 0.832501889645 0.167498110355 0.0\n",
      "0.0 0.835273368607 0.164726631393 0.0\n",
      "(5670, 2) float64\n"
     ]
    }
   ],
   "source": [
    "from utilities import *\n",
    "\n",
    "# Normalizing/standardizing the input data features\n",
    "X_train_valid_norm, X_test_norm = standardize(test=X_test, train=X_train_valid)\n",
    "\n",
    "# Onehot encoding/vectorizing the output data labels\n",
    "print(np.mean((Y_train_valid+1).reshape(-1)==0), np.mean((Y_train_valid+1).reshape(-1)==1),\n",
    "     np.mean((Y_train_valid+1).reshape(-1)==2), np.mean((Y_train_valid+1).reshape(-1)==3))\n",
    "\n",
    "print(np.mean((Y_test+1).reshape(-1)==0), np.mean((Y_test+1).reshape(-1)==1),\n",
    "     np.mean((Y_test+1).reshape(-1)==2), np.mean((Y_test+1).reshape(-1)==3))\n",
    "\n",
    "# Y_train_valid_onehot = one_hot(labels=(Y_train_valid+1).reshape(-1), n_class=2) \n",
    "# print(Y_train_valid_onehot.shape, Y_train_valid_onehot.dtype, \n",
    "Y_test_onehot = one_hot(labels=(Y_test+1).reshape(-1), n_class=2) \n",
    "print(Y_test_onehot.shape, Y_test_onehot.dtype)"
   ]
  },
  {
   "cell_type": "code",
   "execution_count": 4,
   "metadata": {},
   "outputs": [],
   "source": [
    "# 70% train 30 % valid\n",
    "# get_batches from each train and valid the same\n",
    "# still it will be 70% to 30%\n",
    "# get_batches 83% vs 16%\n",
    "# get_batch 16% vs 16% each time\n",
    "# X_train_valid, X_test, Y_train_valid, Y_test = train_test_split(AllData, AllLabels, test_size=0.30)\n",
    "X_train_norm, X_valid_norm, Y_train, Y_valid = train_test_split(X_train_valid_norm, Y_train_valid, \n",
    "                                                                              test_size=0.30)"
   ]
  },
  {
   "cell_type": "code",
   "execution_count": 5,
   "metadata": {},
   "outputs": [],
   "source": [
    "def get_batches2(X_norm, Y_labels):\n",
    "    # Input train or valid\n",
    "    # This is not-applicable to test\n",
    "    X, Y = X_norm, Y_labels #_onehot\n",
    "    AllLabels = Y_labels # 100%\n",
    "\n",
    "    # non = 0 is 87%  AllLabelZero\n",
    "    # tgt = 1 is 13%  AllLabelOne\n",
    "    AllLabelZero = (AllLabels==0).reshape(-1) # 87%\n",
    "    AllLabelOne = (AllLabels==1).reshape(-1) # 13%\n",
    "\n",
    "    X_non, Y_non = X[AllLabelZero], Y[AllLabelZero] # 87%\n",
    "    X_tgt, Y_tgt = X[AllLabelOne], Y[AllLabelOne] # 13%\n",
    "    #     print('X_non.shape, Y_non.shape', X_non.shape, Y_non.shape)\n",
    "    #     print('X_tgt.shape, Y_tgt.shape', X_tgt.shape, Y_tgt.shape)\n",
    "\n",
    "    # Non-target batch size for get_batches from non-target data\n",
    "    batch_size = X_tgt.shape[0] # 13% -> tgt = 1 is 13%  AllLabelOne\n",
    "    assert X_tgt.shape[0] == Y_tgt.shape[0]\n",
    "    #     print(batch_size)\n",
    "\n",
    "    # # 87% - 13% +1: non - tgt + 1\n",
    "    # n_batches = X_non.shape[0] - tgt_batch_size + 1 # stride=1 \n",
    "    # # max overlap for non-tgt 87% - 13% +1\n",
    "\n",
    "    #     # 87% // 13%: non/ tgt\n",
    "    #     # max overlap for non-tgt 87%// 13%\n",
    "    #     num_non_batches = X_non.shape[0]// tgt_batch_size # stride= tgt_batch_size \n",
    "    # #     print(num_non_batches)\n",
    "    #     # # n_batches = len(X) // batch_size # stride=batch_size # min overlap\n",
    "    #     X_non_, Y_non_ = X_non[:num_non_batches*tgt_batch_size], Y_non[:num_non_batches*tgt_batch_size]\n",
    "\n",
    "    n_batches = X_non.shape[0] // batch_size\n",
    "    X_non, Y_non = X_non[:n_batches*batch_size], Y_non[:n_batches*batch_size]\n",
    "    \n",
    "    #     \"\"\" Return a generator for batches \"\"\"\n",
    "    #     n_batches = len(X) // batch_size\n",
    "    #     X, y = X[:n_batches*batch_size], y[:n_batches*batch_size]\n",
    "\n",
    "    # Loop over target batches: start, stop, step\n",
    "    for i in range(0, X_non.shape[0], batch_size):\n",
    "        #         print(i)\n",
    "        # each_train_valid_batch\n",
    "        each_X_norm = np.concatenate((X_non[i:i+batch_size], X_tgt), axis=0)\n",
    "        each_Y = np.concatenate((Y_non[i:i+batch_size], Y_tgt), axis=0)\n",
    "        each_Y_onehot = one_hot(labels=(each_Y+1).reshape(-1), n_class=2)\n",
    "#         np.random.shuffle(each_X_norm)\n",
    "#         np.random.shuffle(each_Y_onehot)\n",
    "        #         print('each_X_norm.shape, each_Y_onehot.shape', each_X_norm.shape, each_Y_onehot.shape)\n",
    "        #         print('each_X_norm.dtype, each_Y_onehot.dtype', each_X_norm.dtype, each_Y_onehot.dtype)\n",
    "        yield each_X_norm, each_Y_onehot"
   ]
  },
  {
   "cell_type": "code",
   "execution_count": 6,
   "metadata": {},
   "outputs": [
    {
     "name": "stdout",
     "output_type": "stream",
     "text": [
      "seq_len, n_channels 205 16\n",
      "n_classes [2]\n"
     ]
    }
   ],
   "source": [
    "## Hyperparameters\n",
    "# Input data\n",
    "# batch_size = X_train_norm.shape[0]// 100 # minibatch size & number of minibatches\n",
    "seq_len = X_train_norm.shape[1] # Number of steps: each trial length\n",
    "n_channels = X_train_norm.shape[2] # number of channels in each trial\n",
    "# print('batch_size, seq_len, n_channels', batch_size, seq_len, n_channels)\n",
    "print('seq_len, n_channels', seq_len, n_channels)\n",
    "\n",
    "# Output labels\n",
    "n_classes = Y_train_valid.max(axis=0)+1\n",
    "assert Y_train_valid.max(axis=0) == Y_test.max(axis=0)\n",
    "print('n_classes', n_classes)\n",
    "\n",
    "# learning parameters\n",
    "learning_rate = 0.0001 #1e-4\n",
    "epochs = 200 # num iterations for updating model\n",
    "keep_prob = 0.50 # 90% neurons are kept and 10% are dropped out"
   ]
  },
  {
   "cell_type": "code",
   "execution_count": 7,
   "metadata": {},
   "outputs": [
    {
     "name": "stdout",
     "output_type": "stream",
     "text": [
      "TensorFlow Version: 1.3.0\n",
      "Default GPU Device: /gpu:0\n"
     ]
    }
   ],
   "source": [
    "# GPUs or CPU\n",
    "import tensorflow as tf\n",
    "\n",
    "# Check TensorFlow Version\n",
    "print('TensorFlow Version: {}'.format(tf.__version__))\n",
    "\n",
    "# Check for a GPU\n",
    "print('Default GPU Device: {}'.format(tf.test.gpu_device_name()))"
   ]
  },
  {
   "cell_type": "code",
   "execution_count": 8,
   "metadata": {},
   "outputs": [
    {
     "name": "stdout",
     "output_type": "stream",
     "text": [
      "inputs_.shape, labels_.shape (?, 205, 16) (?, 2)\n"
     ]
    }
   ],
   "source": [
    "# Feed the data from python/numpy to tensorflow framework\n",
    "inputs_ = tf.placeholder(tf.float32, [None, seq_len, n_channels], name = 'inputs_')\n",
    "labels_ = tf.placeholder(tf.float32, [None, n_classes], name = 'labels_')\n",
    "keep_prob_ = tf.placeholder(tf.float32, name = 'keep_prob_')\n",
    "learning_rate_ = tf.placeholder(tf.float32, name = 'learning_rate_')\n",
    "print('inputs_.shape, labels_.shape', inputs_.shape, labels_.shape)"
   ]
  },
  {
   "cell_type": "code",
   "execution_count": 9,
   "metadata": {},
   "outputs": [
    {
     "name": "stdout",
     "output_type": "stream",
     "text": [
      "inputs_.shape, conv1.shape, max_pool_1.shape (?, 205, 16) (?, 204, 32) (?, 102, 32)\n",
      "max_pool_1.shape, conv2.shape, max_pool_2.shape (?, 102, 32) (?, 102, 64) (?, 51, 64)\n",
      "max_pool_2.shape, conv3.shape, max_pool_3.shape (?, 51, 64) (?, 50, 128) (?, 25, 128)\n",
      "max_pool_3.shape, conv4.shape, max_pool_4.shape (?, 25, 128) (?, 24, 256) (?, 12, 256)\n",
      "max_pool_4.shape, flat.shape, logits.shape (?, 12, 256) (?, 3072) (?, 2)\n"
     ]
    }
   ],
   "source": [
    "# inputs_.shape, labels_.shape (?, 205, 16) (?, 2)\n",
    "# (batch, 205, 16) --> (batch, 102, 32)\n",
    "# conv valid: (205-2+0)/1 + 1 = (203/1)+1 = 203 + 1=204\n",
    "# pool same: (204-2+0)/2 + 1 = (202/2)+1 = 101 + 1=102\n",
    "conv1 = tf.layers.conv1d(inputs=inputs_, filters=32, kernel_size=2, strides=1, padding='valid', \n",
    "                         activation = tf.nn.relu)\n",
    "max_pool_1 = tf.layers.max_pooling1d(inputs=conv1, pool_size=2, strides=2, padding='same')\n",
    "# max_pool_1 = tf.nn.dropout(max_pool_1, keep_prob=keep_prob_)\n",
    "print('inputs_.shape, conv1.shape, max_pool_1.shape', inputs_.shape, conv1.shape, max_pool_1.shape)\n",
    "\n",
    "# (batch, 102, 32) --> (batch, 51, 64)\n",
    "# conv same\n",
    "# pool same: (102-2+0)/2 + 1 = (100/2)+1 = 50 + 1=51\n",
    "conv2 = tf.layers.conv1d(inputs=max_pool_1, filters=64, kernel_size=2, strides=1, padding='same', \n",
    "                         activation = tf.nn.relu)\n",
    "max_pool_2 = tf.layers.max_pooling1d(inputs=conv2, pool_size=2, strides=2, padding='same')\n",
    "# max_pool_2 = tf.nn.dropout(max_pool_2, keep_prob=keep_prob_)\n",
    "print('max_pool_1.shape, conv2.shape, max_pool_2.shape', max_pool_1.shape, conv2.shape, max_pool_2.shape)\n",
    "\n",
    "# (batch, 51, 64) --> (batch, 25, 128)\n",
    "# conv valid: (51-2+0)/1 + 1 = (49/1)+1 = 49 + 1=50\n",
    "# pool same: (50-2+0)/2 + 1 = (48/2)+1 = 24 + 1=25\n",
    "conv3 = tf.layers.conv1d(inputs=max_pool_2, filters=128, kernel_size=2, strides=1, padding='valid', \n",
    "                         activation = tf.nn.relu)\n",
    "max_pool_3 = tf.layers.max_pooling1d(inputs=conv3, pool_size=2, strides=2, padding='same')\n",
    "# max_pool_3 = tf.nn.dropout(max_pool_3, keep_prob=keep_prob_)\n",
    "print('max_pool_2.shape, conv3.shape, max_pool_3.shape', max_pool_2.shape, conv3.shape, max_pool_3.shape)\n",
    "\n",
    "# (batch, 25, 128) --> (batch, 12, 256)\n",
    "# conv valid: (25-2+0)/1 + 1 = (23/1)+1 = 23 + 1=24\n",
    "# pool same: (24-2+0)/2 + 1 = (22/2)+1 = 11 + 1=12\n",
    "conv4 = tf.layers.conv1d(inputs=max_pool_3, filters=256, kernel_size=2, strides=1, padding='valid', \n",
    "                         activation = tf.nn.relu)\n",
    "max_pool_4 = tf.layers.max_pooling1d(inputs=conv4, pool_size=2, strides=2, padding='same')\n",
    "# max_pool_4 = tf.nn.dropout(max_pool_4, keep_prob=keep_prob_)\n",
    "print('max_pool_3.shape, conv4.shape, max_pool_4.shape', max_pool_3.shape, conv4.shape, max_pool_4.shape)\n",
    "\n",
    "# Flatten and add dropout + predicted output\n",
    "flat = tf.reshape(max_pool_4, (-1, 12*256))\n",
    "flat = tf.nn.dropout(flat, keep_prob=keep_prob_)\n",
    "logits = tf.layers.dense(flat, n_classes)\n",
    "print('max_pool_4.shape, flat.shape, logits.shape', max_pool_4.shape, flat.shape, logits.shape)"
   ]
  },
  {
   "cell_type": "code",
   "execution_count": 10,
   "metadata": {},
   "outputs": [
    {
     "name": "stdout",
     "output_type": "stream",
     "text": [
      "cost_tensor, cost Tensor(\"Reshape_3:0\", shape=(?,), dtype=float32) Tensor(\"Mean:0\", shape=(), dtype=float32)\n",
      "optimizer name: \"Adam\"\n",
      "op: \"NoOp\"\n",
      "input: \"^Adam/update_conv1d/kernel/ApplyAdam\"\n",
      "input: \"^Adam/update_conv1d/bias/ApplyAdam\"\n",
      "input: \"^Adam/update_conv1d_1/kernel/ApplyAdam\"\n",
      "input: \"^Adam/update_conv1d_1/bias/ApplyAdam\"\n",
      "input: \"^Adam/update_conv1d_2/kernel/ApplyAdam\"\n",
      "input: \"^Adam/update_conv1d_2/bias/ApplyAdam\"\n",
      "input: \"^Adam/update_conv1d_3/kernel/ApplyAdam\"\n",
      "input: \"^Adam/update_conv1d_3/bias/ApplyAdam\"\n",
      "input: \"^Adam/update_dense/kernel/ApplyAdam\"\n",
      "input: \"^Adam/update_dense/bias/ApplyAdam\"\n",
      "input: \"^Adam/Assign\"\n",
      "input: \"^Adam/Assign_1\"\n",
      "\n",
      "correct_pred, accuracy Tensor(\"Equal:0\", shape=(?,), dtype=bool) Tensor(\"accuracy:0\", shape=(), dtype=float32)\n",
      "confusion_matrix Tensor(\"confusion_matrix/SparseTensorDenseAdd:0\", shape=(?, ?), dtype=int32)\n"
     ]
    }
   ],
   "source": [
    "# Backward pass: error backpropagation\n",
    "# Cost function\n",
    "cost_tensor = tf.nn.softmax_cross_entropy_with_logits(logits=logits, labels=labels_)\n",
    "cost = tf.reduce_mean(input_tensor=cost_tensor)\n",
    "print('cost_tensor, cost', cost_tensor, cost)\n",
    "\n",
    "# Optimizer\n",
    "optimizer = tf.train.AdamOptimizer(learning_rate=learning_rate_).minimize(cost)\n",
    "print('optimizer', optimizer)\n",
    "\n",
    "# Accuracy\n",
    "correct_pred = tf.equal(tf.argmax(logits, 1), tf.argmax(labels_, 1))\n",
    "accuracy = tf.reduce_mean(tf.cast(correct_pred, tf.float32), name='accuracy')\n",
    "print('correct_pred, accuracy', correct_pred, accuracy)\n",
    "\n",
    "# Confusion matrix\n",
    "confusion_matrix = tf.confusion_matrix(predictions=tf.argmax(logits, 1),\n",
    "                                       labels=tf.argmax(labels_, 1))\n",
    "print('confusion_matrix', confusion_matrix)"
   ]
  },
  {
   "cell_type": "code",
   "execution_count": 11,
   "metadata": {},
   "outputs": [
    {
     "name": "stdout",
     "output_type": "stream",
     "text": [
      "Epoch: 1/200 Train loss: 0.743418 Valid loss: 0.712558 Train acc: 0.499805 Valid acc: 0.498715\n",
      "Epoch: 2/200 Train loss: 0.730782 Valid loss: 0.707700 Train acc: 0.497883 Valid acc: 0.494934\n",
      "Epoch: 3/200 Train loss: 0.725428 Valid loss: 0.704765 Train acc: 0.501368 Valid acc: 0.494873\n",
      "Epoch: 4/200 Train loss: 0.720960 Valid loss: 0.701527 Train acc: 0.503534 Valid acc: 0.502276\n",
      "Epoch: 5/200 Train loss: 0.716956 Valid loss: 0.699526 Train acc: 0.506984 Valid acc: 0.506924\n",
      "Epoch: 6/200 Train loss: 0.713796 Valid loss: 0.697588 Train acc: 0.510923 Valid acc: 0.513779\n",
      "Epoch: 7/200 Train loss: 0.710674 Valid loss: 0.695739 Train acc: 0.515244 Valid acc: 0.522693\n",
      "Epoch: 8/200 Train loss: 0.708107 Valid loss: 0.694085 Train acc: 0.518795 Valid acc: 0.529235\n",
      "Epoch: 9/200 Train loss: 0.705632 Valid loss: 0.692477 Train acc: 0.522895 Valid acc: 0.537563\n",
      "Epoch: 10/200 Train loss: 0.703196 Valid loss: 0.690918 Train acc: 0.527205 Valid acc: 0.544846\n",
      "Epoch: 11/200 Train loss: 0.700764 Valid loss: 0.689376 Train acc: 0.532052 Valid acc: 0.551495\n",
      "Epoch: 12/200 Train loss: 0.698526 Valid loss: 0.687811 Train acc: 0.536743 Valid acc: 0.558211\n",
      "Epoch: 13/200 Train loss: 0.696133 Valid loss: 0.686210 Train acc: 0.541969 Valid acc: 0.564673\n",
      "Epoch: 14/200 Train loss: 0.693804 Valid loss: 0.684547 Train acc: 0.546882 Valid acc: 0.570728\n",
      "Epoch: 15/200 Train loss: 0.691398 Valid loss: 0.682807 Train acc: 0.551809 Valid acc: 0.576253\n",
      "Epoch: 16/200 Train loss: 0.688921 Valid loss: 0.680979 Train acc: 0.556710 Valid acc: 0.581473\n",
      "Epoch: 17/200 Train loss: 0.686479 Valid loss: 0.679058 Train acc: 0.561207 Valid acc: 0.586344\n",
      "Epoch: 18/200 Train loss: 0.683860 Valid loss: 0.677041 Train acc: 0.566088 Valid acc: 0.591157\n",
      "Epoch: 19/200 Train loss: 0.681134 Valid loss: 0.674919 Train acc: 0.570845 Valid acc: 0.595753\n",
      "Epoch: 20/200 Train loss: 0.678506 Valid loss: 0.672694 Train acc: 0.575182 Valid acc: 0.600009\n",
      "Epoch: 21/200 Train loss: 0.675826 Valid loss: 0.670386 Train acc: 0.579439 Valid acc: 0.603935\n",
      "Epoch: 22/200 Train loss: 0.673088 Valid loss: 0.668022 Train acc: 0.583411 Valid acc: 0.607532\n",
      "Epoch: 23/200 Train loss: 0.670321 Valid loss: 0.665614 Train acc: 0.587424 Valid acc: 0.611034\n",
      "Epoch: 24/200 Train loss: 0.667287 Valid loss: 0.663184 Train acc: 0.591504 Valid acc: 0.614432\n",
      "Epoch: 25/200 Train loss: 0.664472 Valid loss: 0.660753 Train acc: 0.595242 Valid acc: 0.617624\n",
      "Epoch: 26/200 Train loss: 0.661677 Valid loss: 0.658337 Train acc: 0.598730 Valid acc: 0.620749\n",
      "Epoch: 27/200 Train loss: 0.658780 Valid loss: 0.655950 Train acc: 0.602302 Valid acc: 0.623605\n",
      "Epoch: 28/200 Train loss: 0.656018 Valid loss: 0.653607 Train acc: 0.605498 Valid acc: 0.626396\n",
      "Epoch: 29/200 Train loss: 0.653249 Valid loss: 0.651314 Train acc: 0.608754 Valid acc: 0.629142\n",
      "Epoch: 30/200 Train loss: 0.650506 Valid loss: 0.649068 Train acc: 0.611983 Valid acc: 0.631789\n",
      "Epoch: 31/200 Train loss: 0.647854 Valid loss: 0.646870 Train acc: 0.615146 Valid acc: 0.634327\n",
      "Epoch: 32/200 Train loss: 0.645151 Valid loss: 0.644714 Train acc: 0.618206 Valid acc: 0.636776\n",
      "Epoch: 33/200 Train loss: 0.642491 Valid loss: 0.642603 Train acc: 0.621109 Valid acc: 0.639175\n",
      "Epoch: 34/200 Train loss: 0.639875 Valid loss: 0.640546 Train acc: 0.623913 Valid acc: 0.641467\n",
      "Epoch: 35/200 Train loss: 0.637341 Valid loss: 0.638525 Train acc: 0.626669 Valid acc: 0.643568\n",
      "Epoch: 36/200 Train loss: 0.634788 Valid loss: 0.636556 Train acc: 0.629298 Valid acc: 0.645613\n",
      "Epoch: 37/200 Train loss: 0.632287 Valid loss: 0.634639 Train acc: 0.632001 Valid acc: 0.647642\n",
      "Epoch: 38/200 Train loss: 0.629817 Valid loss: 0.632767 Train acc: 0.634665 Valid acc: 0.649562\n",
      "Epoch: 39/200 Train loss: 0.627383 Valid loss: 0.630939 Train acc: 0.637217 Valid acc: 0.651384\n",
      "Epoch: 40/200 Train loss: 0.625053 Valid loss: 0.629152 Train acc: 0.639645 Valid acc: 0.653132\n",
      "Epoch: 41/200 Train loss: 0.622669 Valid loss: 0.627413 Train acc: 0.642073 Valid acc: 0.654858\n",
      "Epoch: 42/200 Train loss: 0.620370 Valid loss: 0.625714 Train acc: 0.644459 Valid acc: 0.656528\n",
      "Epoch: 43/200 Train loss: 0.618089 Valid loss: 0.624053 Train acc: 0.646833 Valid acc: 0.658124\n",
      "Epoch: 44/200 Train loss: 0.615871 Valid loss: 0.622451 Train acc: 0.649082 Valid acc: 0.659644\n",
      "Epoch: 45/200 Train loss: 0.613633 Valid loss: 0.620868 Train acc: 0.651370 Valid acc: 0.661104\n",
      "Epoch: 46/200 Train loss: 0.611434 Valid loss: 0.619326 Train acc: 0.653597 Valid acc: 0.662515\n",
      "Epoch: 47/200 Train loss: 0.609243 Valid loss: 0.617813 Train acc: 0.655721 Valid acc: 0.663918\n",
      "Epoch: 48/200 Train loss: 0.607056 Valid loss: 0.616332 Train acc: 0.657860 Valid acc: 0.665284\n",
      "Epoch: 49/200 Train loss: 0.604936 Valid loss: 0.614887 Train acc: 0.659928 Valid acc: 0.666605\n",
      "Epoch: 50/200 Train loss: 0.602777 Valid loss: 0.613473 Train acc: 0.662000 Valid acc: 0.667854\n",
      "Epoch: 51/200 Train loss: 0.600684 Valid loss: 0.612087 Train acc: 0.664026 Valid acc: 0.669049\n",
      "Epoch: 52/200 Train loss: 0.598651 Valid loss: 0.610736 Train acc: 0.665967 Valid acc: 0.670208\n",
      "Epoch: 53/200 Train loss: 0.596560 Valid loss: 0.609413 Train acc: 0.668039 Valid acc: 0.671346\n",
      "Epoch: 54/200 Train loss: 0.594516 Valid loss: 0.608112 Train acc: 0.669874 Valid acc: 0.672470\n",
      "Epoch: 55/200 Train loss: 0.592489 Valid loss: 0.606836 Train acc: 0.671809 Valid acc: 0.673611\n",
      "Epoch: 56/200 Train loss: 0.590481 Valid loss: 0.605594 Train acc: 0.673674 Valid acc: 0.674746\n",
      "Epoch: 57/200 Train loss: 0.588533 Valid loss: 0.604373 Train acc: 0.675480 Valid acc: 0.675856\n",
      "Epoch: 58/200 Train loss: 0.586605 Valid loss: 0.603181 Train acc: 0.677202 Valid acc: 0.676967\n",
      "Epoch: 59/200 Train loss: 0.584648 Valid loss: 0.601997 Train acc: 0.679029 Valid acc: 0.678018\n",
      "Epoch: 60/200 Train loss: 0.582695 Valid loss: 0.600845 Train acc: 0.680826 Valid acc: 0.679049\n",
      "Epoch: 61/200 Train loss: 0.580798 Valid loss: 0.599728 Train acc: 0.682529 Valid acc: 0.680082\n",
      "Epoch: 62/200 Train loss: 0.578892 Valid loss: 0.598623 Train acc: 0.684231 Valid acc: 0.681096\n",
      "Epoch: 63/200 Train loss: 0.577024 Valid loss: 0.597545 Train acc: 0.685851 Valid acc: 0.682087\n",
      "Epoch: 64/200 Train loss: 0.575125 Valid loss: 0.596480 Train acc: 0.687490 Valid acc: 0.683060\n",
      "Epoch: 65/200 Train loss: 0.573291 Valid loss: 0.595445 Train acc: 0.689034 Valid acc: 0.684026\n",
      "Epoch: 66/200 Train loss: 0.571449 Valid loss: 0.594425 Train acc: 0.690603 Valid acc: 0.684984\n",
      "Epoch: 67/200 Train loss: 0.569647 Valid loss: 0.593438 Train acc: 0.692157 Valid acc: 0.685921\n",
      "Epoch: 68/200 Train loss: 0.567816 Valid loss: 0.592460 Train acc: 0.693749 Valid acc: 0.686849\n",
      "Epoch: 69/200 Train loss: 0.566017 Valid loss: 0.591517 Train acc: 0.695314 Valid acc: 0.687745\n",
      "Epoch: 70/200 Train loss: 0.564223 Valid loss: 0.590587 Train acc: 0.696823 Valid acc: 0.688630\n",
      "Epoch: 71/200 Train loss: 0.562447 Valid loss: 0.589668 Train acc: 0.698323 Valid acc: 0.689490\n",
      "Epoch: 72/200 Train loss: 0.560665 Valid loss: 0.588780 Train acc: 0.699840 Valid acc: 0.690347\n",
      "Epoch: 73/200 Train loss: 0.558904 Valid loss: 0.587896 Train acc: 0.701316 Valid acc: 0.691176\n",
      "Epoch: 74/200 Train loss: 0.557184 Valid loss: 0.587045 Train acc: 0.702754 Valid acc: 0.691989\n",
      "Epoch: 75/200 Train loss: 0.555461 Valid loss: 0.586209 Train acc: 0.704212 Valid acc: 0.692801\n",
      "Epoch: 76/200 Train loss: 0.553754 Valid loss: 0.585382 Train acc: 0.705651 Valid acc: 0.693610\n",
      "Epoch: 77/200 Train loss: 0.552055 Valid loss: 0.584588 Train acc: 0.707060 Valid acc: 0.694380\n",
      "Epoch: 78/200 Train loss: 0.550368 Valid loss: 0.583801 Train acc: 0.708414 Valid acc: 0.695138\n",
      "Epoch: 79/200 Train loss: 0.548676 Valid loss: 0.583039 Train acc: 0.709809 Valid acc: 0.695882\n",
      "Epoch: 80/200 Train loss: 0.546986 Valid loss: 0.582276 Train acc: 0.711164 Valid acc: 0.696629\n",
      "Epoch: 81/200 Train loss: 0.545369 Valid loss: 0.581544 Train acc: 0.712441 Valid acc: 0.697352\n",
      "Epoch: 82/200 Train loss: 0.543715 Valid loss: 0.580819 Train acc: 0.713761 Valid acc: 0.698070\n",
      "Epoch: 83/200 Train loss: 0.542061 Valid loss: 0.580119 Train acc: 0.715090 Valid acc: 0.698764\n",
      "Epoch: 84/200 Train loss: 0.540460 Valid loss: 0.579447 Train acc: 0.716332 Valid acc: 0.699436\n",
      "Epoch: 85/200 Train loss: 0.538825 Valid loss: 0.578770 Train acc: 0.717633 Valid acc: 0.700142\n",
      "Epoch: 86/200 Train loss: 0.537230 Valid loss: 0.578111 Train acc: 0.718893 Valid acc: 0.700839\n"
     ]
    },
    {
     "name": "stdout",
     "output_type": "stream",
     "text": [
      "Epoch: 87/200 Train loss: 0.535630 Valid loss: 0.577470 Train acc: 0.720160 Valid acc: 0.701507\n",
      "Epoch: 88/200 Train loss: 0.534025 Valid loss: 0.576842 Train acc: 0.721415 Valid acc: 0.702162\n",
      "Epoch: 89/200 Train loss: 0.532403 Valid loss: 0.576235 Train acc: 0.722698 Valid acc: 0.702793\n",
      "Epoch: 90/200 Train loss: 0.530803 Valid loss: 0.575633 Train acc: 0.723902 Valid acc: 0.703421\n",
      "Epoch: 91/200 Train loss: 0.529241 Valid loss: 0.575051 Train acc: 0.725118 Valid acc: 0.704044\n",
      "Epoch: 92/200 Train loss: 0.527651 Valid loss: 0.574483 Train acc: 0.726337 Valid acc: 0.704659\n",
      "Epoch: 93/200 Train loss: 0.526070 Valid loss: 0.573931 Train acc: 0.727562 Valid acc: 0.705272\n",
      "Epoch: 94/200 Train loss: 0.524479 Valid loss: 0.573411 Train acc: 0.728763 Valid acc: 0.705841\n",
      "Epoch: 95/200 Train loss: 0.522924 Valid loss: 0.572881 Train acc: 0.729964 Valid acc: 0.706407\n",
      "Epoch: 96/200 Train loss: 0.521393 Valid loss: 0.572373 Train acc: 0.731122 Valid acc: 0.706953\n",
      "Epoch: 97/200 Train loss: 0.519855 Valid loss: 0.571885 Train acc: 0.732307 Valid acc: 0.707469\n",
      "Epoch: 98/200 Train loss: 0.518315 Valid loss: 0.571400 Train acc: 0.733468 Valid acc: 0.707977\n",
      "Epoch: 99/200 Train loss: 0.516793 Valid loss: 0.570939 Train acc: 0.734603 Valid acc: 0.708452\n",
      "Epoch: 100/200 Train loss: 0.515250 Valid loss: 0.570484 Train acc: 0.735748 Valid acc: 0.708918\n",
      "Epoch: 101/200 Train loss: 0.513720 Valid loss: 0.570036 Train acc: 0.736880 Valid acc: 0.709369\n",
      "Epoch: 102/200 Train loss: 0.512168 Valid loss: 0.569611 Train acc: 0.738029 Valid acc: 0.709801\n",
      "Epoch: 103/200 Train loss: 0.510647 Valid loss: 0.569192 Train acc: 0.739118 Valid acc: 0.710237\n",
      "Epoch: 104/200 Train loss: 0.509138 Valid loss: 0.568809 Train acc: 0.740231 Valid acc: 0.710649\n",
      "Epoch: 105/200 Train loss: 0.507607 Valid loss: 0.568420 Train acc: 0.741364 Valid acc: 0.711075\n",
      "Epoch: 106/200 Train loss: 0.506086 Valid loss: 0.568056 Train acc: 0.742442 Valid acc: 0.711481\n",
      "Epoch: 107/200 Train loss: 0.504587 Valid loss: 0.567701 Train acc: 0.743531 Valid acc: 0.711883\n",
      "Epoch: 108/200 Train loss: 0.503114 Valid loss: 0.567346 Train acc: 0.744607 Valid acc: 0.712285\n",
      "Epoch: 109/200 Train loss: 0.501635 Valid loss: 0.567010 Train acc: 0.745640 Valid acc: 0.712677\n",
      "Epoch: 110/200 Train loss: 0.500135 Valid loss: 0.566687 Train acc: 0.746740 Valid acc: 0.713059\n",
      "Epoch: 111/200 Train loss: 0.498654 Valid loss: 0.566359 Train acc: 0.747810 Valid acc: 0.713442\n",
      "Epoch: 112/200 Train loss: 0.497160 Valid loss: 0.566067 Train acc: 0.748887 Valid acc: 0.713800\n",
      "Epoch: 113/200 Train loss: 0.495691 Valid loss: 0.565791 Train acc: 0.749938 Valid acc: 0.714164\n",
      "Epoch: 114/200 Train loss: 0.494230 Valid loss: 0.565524 Train acc: 0.750975 Valid acc: 0.714513\n",
      "Epoch: 115/200 Train loss: 0.492753 Valid loss: 0.565255 Train acc: 0.751987 Valid acc: 0.714867\n",
      "Epoch: 116/200 Train loss: 0.491332 Valid loss: 0.565007 Train acc: 0.752970 Valid acc: 0.715200\n",
      "Epoch: 117/200 Train loss: 0.489867 Valid loss: 0.564764 Train acc: 0.753995 Valid acc: 0.715535\n",
      "Epoch: 118/200 Train loss: 0.488403 Valid loss: 0.564540 Train acc: 0.754999 Valid acc: 0.715863\n",
      "Epoch: 119/200 Train loss: 0.486934 Valid loss: 0.564323 Train acc: 0.756000 Valid acc: 0.716191\n",
      "Epoch: 120/200 Train loss: 0.485490 Valid loss: 0.564102 Train acc: 0.757001 Valid acc: 0.716517\n",
      "Epoch: 121/200 Train loss: 0.484069 Valid loss: 0.563929 Train acc: 0.757994 Valid acc: 0.716826\n",
      "Epoch: 122/200 Train loss: 0.482646 Valid loss: 0.563729 Train acc: 0.758969 Valid acc: 0.717138\n",
      "Epoch: 123/200 Train loss: 0.481231 Valid loss: 0.563562 Train acc: 0.759934 Valid acc: 0.717437\n",
      "Epoch: 124/200 Train loss: 0.479813 Valid loss: 0.563402 Train acc: 0.760893 Valid acc: 0.717733\n",
      "Epoch: 125/200 Train loss: 0.478417 Valid loss: 0.563234 Train acc: 0.761867 Valid acc: 0.718032\n",
      "Epoch: 126/200 Train loss: 0.477011 Valid loss: 0.563106 Train acc: 0.762829 Valid acc: 0.718318\n",
      "Epoch: 127/200 Train loss: 0.475617 Valid loss: 0.562972 Train acc: 0.763780 Valid acc: 0.718600\n",
      "Epoch: 128/200 Train loss: 0.474237 Valid loss: 0.562874 Train acc: 0.764722 Valid acc: 0.718888\n",
      "Epoch: 129/200 Train loss: 0.472831 Valid loss: 0.562758 Train acc: 0.765676 Valid acc: 0.719163\n",
      "Epoch: 130/200 Train loss: 0.471459 Valid loss: 0.562659 Train acc: 0.766596 Valid acc: 0.719435\n",
      "Epoch: 131/200 Train loss: 0.470077 Valid loss: 0.562579 Train acc: 0.767528 Valid acc: 0.719706\n",
      "Epoch: 132/200 Train loss: 0.468703 Valid loss: 0.562487 Train acc: 0.768457 Valid acc: 0.719965\n",
      "Epoch: 133/200 Train loss: 0.467347 Valid loss: 0.562398 Train acc: 0.769365 Valid acc: 0.720222\n",
      "Epoch: 134/200 Train loss: 0.465993 Valid loss: 0.562370 Train acc: 0.770265 Valid acc: 0.720475\n",
      "Epoch: 135/200 Train loss: 0.464632 Valid loss: 0.562311 Train acc: 0.771184 Valid acc: 0.720725\n",
      "Epoch: 136/200 Train loss: 0.463286 Valid loss: 0.562267 Train acc: 0.772076 Valid acc: 0.720970\n",
      "Epoch: 137/200 Train loss: 0.461937 Valid loss: 0.562239 Train acc: 0.772969 Valid acc: 0.721213\n",
      "Epoch: 138/200 Train loss: 0.460591 Valid loss: 0.562226 Train acc: 0.773851 Valid acc: 0.721443\n",
      "Epoch: 139/200 Train loss: 0.459247 Valid loss: 0.562203 Train acc: 0.774744 Valid acc: 0.721672\n",
      "Epoch: 140/200 Train loss: 0.457907 Valid loss: 0.562186 Train acc: 0.775641 Valid acc: 0.721906\n",
      "Epoch: 141/200 Train loss: 0.456584 Valid loss: 0.562207 Train acc: 0.776509 Valid acc: 0.722128\n",
      "Epoch: 142/200 Train loss: 0.455255 Valid loss: 0.562195 Train acc: 0.777383 Valid acc: 0.722346\n",
      "Epoch: 143/200 Train loss: 0.453933 Valid loss: 0.562220 Train acc: 0.778261 Valid acc: 0.722561\n",
      "Epoch: 144/200 Train loss: 0.452603 Valid loss: 0.562267 Train acc: 0.779135 Valid acc: 0.722774\n",
      "Epoch: 145/200 Train loss: 0.451297 Valid loss: 0.562297 Train acc: 0.779986 Valid acc: 0.722988\n",
      "Epoch: 146/200 Train loss: 0.449974 Valid loss: 0.562352 Train acc: 0.780836 Valid acc: 0.723190\n",
      "Epoch: 147/200 Train loss: 0.448680 Valid loss: 0.562424 Train acc: 0.781665 Valid acc: 0.723387\n",
      "Epoch: 148/200 Train loss: 0.447388 Valid loss: 0.562475 Train acc: 0.782500 Valid acc: 0.723588\n",
      "Epoch: 149/200 Train loss: 0.446081 Valid loss: 0.562552 Train acc: 0.783341 Valid acc: 0.723775\n",
      "Epoch: 150/200 Train loss: 0.444797 Valid loss: 0.562646 Train acc: 0.784175 Valid acc: 0.723956\n",
      "Epoch: 151/200 Train loss: 0.443524 Valid loss: 0.562727 Train acc: 0.784998 Valid acc: 0.724136\n",
      "Epoch: 152/200 Train loss: 0.442249 Valid loss: 0.562828 Train acc: 0.785819 Valid acc: 0.724312\n",
      "Epoch: 153/200 Train loss: 0.440970 Valid loss: 0.562947 Train acc: 0.786629 Valid acc: 0.724489\n",
      "Epoch: 154/200 Train loss: 0.439712 Valid loss: 0.563055 Train acc: 0.787452 Valid acc: 0.724663\n",
      "Epoch: 155/200 Train loss: 0.438428 Valid loss: 0.563173 Train acc: 0.788266 Valid acc: 0.724829\n",
      "Epoch: 156/200 Train loss: 0.437162 Valid loss: 0.563309 Train acc: 0.789065 Valid acc: 0.724983\n",
      "Epoch: 157/200 Train loss: 0.435893 Valid loss: 0.563448 Train acc: 0.789857 Valid acc: 0.725147\n",
      "Epoch: 158/200 Train loss: 0.434623 Valid loss: 0.563596 Train acc: 0.790672 Valid acc: 0.725298\n",
      "Epoch: 159/200 Train loss: 0.433371 Valid loss: 0.563777 Train acc: 0.791467 Valid acc: 0.725442\n",
      "Epoch: 160/200 Train loss: 0.432138 Valid loss: 0.563955 Train acc: 0.792237 Valid acc: 0.725583\n",
      "Epoch: 161/200 Train loss: 0.430903 Valid loss: 0.564115 Train acc: 0.793009 Valid acc: 0.725726\n",
      "Epoch: 162/200 Train loss: 0.429661 Valid loss: 0.564285 Train acc: 0.793796 Valid acc: 0.725869\n",
      "Epoch: 163/200 Train loss: 0.428432 Valid loss: 0.564510 Train acc: 0.794552 Valid acc: 0.725998\n",
      "Epoch: 164/200 Train loss: 0.427201 Valid loss: 0.564700 Train acc: 0.795315 Valid acc: 0.726141\n",
      "Epoch: 165/200 Train loss: 0.425973 Valid loss: 0.564895 Train acc: 0.796069 Valid acc: 0.726282\n",
      "Epoch: 166/200 Train loss: 0.424747 Valid loss: 0.565109 Train acc: 0.796845 Valid acc: 0.726411\n",
      "Epoch: 167/200 Train loss: 0.423535 Valid loss: 0.565349 Train acc: 0.797594 Valid acc: 0.726535\n",
      "Epoch: 168/200 Train loss: 0.422293 Valid loss: 0.565557 Train acc: 0.798366 Valid acc: 0.726665\n",
      "Epoch: 169/200 Train loss: 0.421088 Valid loss: 0.565832 Train acc: 0.799116 Valid acc: 0.726781\n",
      "Epoch: 170/200 Train loss: 0.419891 Valid loss: 0.566077 Train acc: 0.799852 Valid acc: 0.726896\n",
      "Epoch: 171/200 Train loss: 0.418689 Valid loss: 0.566320 Train acc: 0.800597 Valid acc: 0.727011\n"
     ]
    },
    {
     "name": "stdout",
     "output_type": "stream",
     "text": [
      "Epoch: 172/200 Train loss: 0.417490 Valid loss: 0.566579 Train acc: 0.801334 Valid acc: 0.727120\n",
      "Epoch: 173/200 Train loss: 0.416298 Valid loss: 0.566838 Train acc: 0.802061 Valid acc: 0.727236\n",
      "Epoch: 174/200 Train loss: 0.415111 Valid loss: 0.567113 Train acc: 0.802788 Valid acc: 0.727352\n",
      "Epoch: 175/200 Train loss: 0.413947 Valid loss: 0.567411 Train acc: 0.803506 Valid acc: 0.727449\n",
      "Epoch: 176/200 Train loss: 0.412766 Valid loss: 0.567714 Train acc: 0.804223 Valid acc: 0.727548\n",
      "Epoch: 177/200 Train loss: 0.411580 Valid loss: 0.568030 Train acc: 0.804951 Valid acc: 0.727635\n",
      "Epoch: 178/200 Train loss: 0.410407 Valid loss: 0.568360 Train acc: 0.805652 Valid acc: 0.727730\n",
      "Epoch: 179/200 Train loss: 0.409229 Valid loss: 0.568680 Train acc: 0.806368 Valid acc: 0.727828\n",
      "Epoch: 180/200 Train loss: 0.408069 Valid loss: 0.568999 Train acc: 0.807068 Valid acc: 0.727922\n",
      "Epoch: 181/200 Train loss: 0.406912 Valid loss: 0.569348 Train acc: 0.807761 Valid acc: 0.728002\n",
      "Epoch: 182/200 Train loss: 0.405772 Valid loss: 0.569664 Train acc: 0.808444 Valid acc: 0.728093\n",
      "Epoch: 183/200 Train loss: 0.404637 Valid loss: 0.570023 Train acc: 0.809123 Valid acc: 0.728180\n",
      "Epoch: 184/200 Train loss: 0.403497 Valid loss: 0.570399 Train acc: 0.809808 Valid acc: 0.728260\n",
      "Epoch: 185/200 Train loss: 0.402353 Valid loss: 0.570770 Train acc: 0.810502 Valid acc: 0.728333\n",
      "Epoch: 186/200 Train loss: 0.401211 Valid loss: 0.571135 Train acc: 0.811178 Valid acc: 0.728413\n",
      "Epoch: 187/200 Train loss: 0.400093 Valid loss: 0.571496 Train acc: 0.811848 Valid acc: 0.728498\n",
      "Epoch: 188/200 Train loss: 0.398962 Valid loss: 0.571880 Train acc: 0.812522 Valid acc: 0.728580\n",
      "Epoch: 189/200 Train loss: 0.397828 Valid loss: 0.572306 Train acc: 0.813208 Valid acc: 0.728644\n",
      "Epoch: 190/200 Train loss: 0.396710 Valid loss: 0.572689 Train acc: 0.813866 Valid acc: 0.728720\n",
      "Epoch: 191/200 Train loss: 0.395581 Valid loss: 0.573073 Train acc: 0.814534 Valid acc: 0.728791\n",
      "Epoch: 192/200 Train loss: 0.394481 Valid loss: 0.573509 Train acc: 0.815176 Valid acc: 0.728854\n",
      "Epoch: 193/200 Train loss: 0.393357 Valid loss: 0.573922 Train acc: 0.815843 Valid acc: 0.728934\n",
      "Epoch: 194/200 Train loss: 0.392252 Valid loss: 0.574349 Train acc: 0.816491 Valid acc: 0.729001\n",
      "Epoch: 195/200 Train loss: 0.391156 Valid loss: 0.574791 Train acc: 0.817133 Valid acc: 0.729056\n",
      "Epoch: 196/200 Train loss: 0.390069 Valid loss: 0.575258 Train acc: 0.817772 Valid acc: 0.729101\n",
      "Epoch: 197/200 Train loss: 0.388970 Valid loss: 0.575706 Train acc: 0.818409 Valid acc: 0.729148\n",
      "Epoch: 198/200 Train loss: 0.387875 Valid loss: 0.576129 Train acc: 0.819043 Valid acc: 0.729200\n",
      "Epoch: 199/200 Train loss: 0.386802 Valid loss: 0.576606 Train acc: 0.819668 Valid acc: 0.729246\n",
      "Epoch: 200/200 Train loss: 0.385736 Valid loss: 0.577084 Train acc: 0.820284 Valid acc: 0.729305\n"
     ]
    }
   ],
   "source": [
    "train_acc, train_loss = [], []\n",
    "valid_acc, valid_loss = [], []\n",
    "\n",
    "# Save the training result or trained and validated model params\n",
    "saver = tf.train.Saver()\n",
    "\n",
    "with tf.Session() as sess:\n",
    "    sess.run(tf.global_variables_initializer())\n",
    "   \n",
    "    # Loop over epochs\n",
    "    for e in range(epochs):\n",
    "        \n",
    "        # Loop over batches\n",
    "        #         for x, y in get_batches(X_train_norm, Y_train_onehot, batch_size):\n",
    "        for x, y in get_batches2(X_norm=X_train_norm, Y_labels=Y_train):\n",
    "            \n",
    "            ######################## Training\n",
    "            # Feed dictionary\n",
    "            feed = {inputs_ : x, labels_ : y, keep_prob_ : keep_prob, learning_rate_ : learning_rate}\n",
    "            \n",
    "            # Loss\n",
    "            loss, _ , acc = sess.run([cost, optimizer, accuracy], feed_dict = feed)\n",
    "            train_acc.append(acc)\n",
    "            train_loss.append(loss)\n",
    "            \n",
    "            ################## Validation\n",
    "            acc_batch = []\n",
    "            loss_batch = []    \n",
    "            # Loop over batches\n",
    "            #             for x, y in get_batches(X_valid_norm, Y_valid_onehot, batch_size):\n",
    "            for x, y in get_batches2(X_norm=X_valid_norm, Y_labels=Y_valid):\n",
    "\n",
    "                # Feed dictionary\n",
    "                feed = {inputs_ : x, labels_ : y, keep_prob_ : 1.0}\n",
    "\n",
    "                # Loss\n",
    "                loss, acc = sess.run([cost, accuracy], feed_dict = feed)\n",
    "                acc_batch.append(acc)\n",
    "                loss_batch.append(loss)\n",
    "\n",
    "            # Store\n",
    "            valid_acc.append(np.mean(acc_batch))\n",
    "            valid_loss.append(np.mean(loss_batch))\n",
    "            \n",
    "        # Print info for every iter/epoch\n",
    "        print(\"Epoch: {}/{}\".format(e+1, epochs),\n",
    "              \"Train loss: {:6f}\".format(np.mean(train_loss)),\n",
    "              \"Valid loss: {:.6f}\".format(np.mean(valid_loss)),\n",
    "              \"Train acc: {:6f}\".format(np.mean(train_acc)),\n",
    "              \"Valid acc: {:.6f}\".format(np.mean(valid_acc)))\n",
    "                \n",
    "    saver.save(sess,\"checkpoints/dcnn-flip-Copy2.ckpt\")"
   ]
  },
  {
   "cell_type": "code",
   "execution_count": 12,
   "metadata": {},
   "outputs": [
    {
     "data": {
      "image/png": "[encoded data removed]",
      "text/plain": [
       "<matplotlib.figure.Figure at 0x7f444c67c320>"
      ]
     },
     "metadata": {},
     "output_type": "display_data"
    }
   ],
   "source": [
    "import matplotlib.pyplot as mplot\n",
    "\n",
    "mplot.plot(train_loss, label='Flip train_loss')\n",
    "mplot.plot(valid_loss, label='Flip valid_loss')\n",
    "mplot.legend()\n",
    "mplot.show()"
   ]
  },
  {
   "cell_type": "code",
   "execution_count": 13,
   "metadata": {},
   "outputs": [
    {
     "data": {
      "image/png": "[encoded data removed]",
      "text/plain": [
       "<matplotlib.figure.Figure at 0x7f4444665c88>"
      ]
     },
     "metadata": {},
     "output_type": "display_data"
    }
   ],
   "source": [
    "# import matplotlib.pyplot as mplot\n",
    "mplot.plot(train_acc, label='Flip train_acc')\n",
    "mplot.plot(valid_acc, label='Flip valid_acc')\n",
    "mplot.legend()\n",
    "mplot.show()"
   ]
  },
  {
   "cell_type": "code",
   "execution_count": 14,
   "metadata": {},
   "outputs": [
    {
     "name": "stdout",
     "output_type": "stream",
     "text": [
      "INFO:tensorflow:Restoring parameters from checkpoints/dcnn-flip-Copy2.ckpt\n",
      "Test loss: 0.408567 Test acc: 0.834464\n"
     ]
    }
   ],
   "source": [
    "test_acc, test_loss = [], []\n",
    "\n",
    "with tf.Session() as sess:\n",
    "    # Restore the validated model\n",
    "    saver.restore(sess, tf.train.latest_checkpoint('checkpoints/'))\n",
    "    \n",
    "    ################## Test\n",
    "    acc_batch = []\n",
    "    loss_batch = []    \n",
    "    # Loop over batches\n",
    "    for x, y in get_batches(batch_size=100, X=X_test_norm, y=Y_test_onehot):\n",
    "\n",
    "        # Feed dictionary\n",
    "        feed = {inputs_ : x, labels_ : y, keep_prob_ : 1.0}\n",
    "\n",
    "        # Loss\n",
    "        loss, acc = sess.run([cost, accuracy], feed_dict = feed)\n",
    "        acc_batch.append(acc)\n",
    "        loss_batch.append(loss)\n",
    "\n",
    "    # Store\n",
    "    test_acc.append(np.mean(acc_batch))\n",
    "    test_loss.append(np.mean(loss_batch))\n",
    "\n",
    "    # Print info for every iter/epoch\n",
    "    print(\"Test loss: {:6f}\".format(np.mean(test_loss)),\n",
    "          \"Test acc: {:.6f}\".format(np.mean(test_acc)))"
   ]
  },
  {
   "cell_type": "code",
   "execution_count": null,
   "metadata": {},
   "outputs": [],
   "source": []
  }
 ],
 "metadata": {
  "kernelspec": {
   "display_name": "Python 3",
   "language": "python",
   "name": "python3"
  },
  "language_info": {
   "codemirror_mode": {
    "name": "ipython",
    "version": 3
   },
   "file_extension": ".py",
   "mimetype": "text/x-python",
   "name": "python",
   "nbconvert_exporter": "python",
   "pygments_lexer": "ipython3",
   "version": "3.6.3"
  }
 },
 "nbformat": 4,
 "nbformat_minor": 2
}
