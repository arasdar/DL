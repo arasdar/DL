{
 "cells": [
  {
   "cell_type": "markdown",
   "metadata": {},
   "source": [
    "# HAR LSTM training "
   ]
  },
  {
   "cell_type": "code",
   "execution_count": 1,
   "metadata": {
    "collapsed": true
   },
   "outputs": [],
   "source": [
    "# Imports\n",
    "import numpy as np\n",
    "import os\n",
    "from utils.utilities import *\n",
    "from sklearn.model_selection import train_test_split\n",
    "import matplotlib.pyplot as plt\n",
    "%matplotlib inline"
   ]
  },
  {
   "cell_type": "markdown",
   "metadata": {},
   "source": [
    "## Prepare data"
   ]
  },
  {
   "cell_type": "code",
   "execution_count": 2,
   "metadata": {
    "collapsed": true
   },
   "outputs": [],
   "source": [
    "X_train, labels_train, list_ch_train = read_data(data_path=\"./data/\", split=\"train\") # train\n",
    "X_test, labels_test, list_ch_test = read_data(data_path=\"./data/\", split=\"test\") # test\n",
    "\n",
    "assert list_ch_train == list_ch_test, \"Mistmatch in channels!\""
   ]
  },
  {
   "cell_type": "code",
   "execution_count": 3,
   "metadata": {
    "collapsed": true
   },
   "outputs": [],
   "source": [
    "# Standardize\n",
    "X_train, X_test = standardize(X_train, X_test) "
   ]
  },
  {
   "cell_type": "markdown",
   "metadata": {},
   "source": [
    "Train/Validation Split"
   ]
  },
  {
   "cell_type": "code",
   "execution_count": 4,
   "metadata": {
    "collapsed": true
   },
   "outputs": [],
   "source": [
    "X_tr, X_vld, lab_tr, lab_vld = train_test_split(X_train, labels_train, \n",
    "                                                stratify = labels_train,\n",
    "                                                random_state = 123)"
   ]
  },
  {
   "cell_type": "markdown",
   "metadata": {},
   "source": [
    "One-hot encoding:"
   ]
  },
  {
   "cell_type": "code",
   "execution_count": 5,
   "metadata": {
    "collapsed": true
   },
   "outputs": [],
   "source": [
    "y_tr = one_hot(lab_tr)\n",
    "y_vld = one_hot(lab_vld)\n",
    "y_test = one_hot(labels_test)"
   ]
  },
  {
   "cell_type": "markdown",
   "metadata": {},
   "source": [
    "### Hyperparameters"
   ]
  },
  {
   "cell_type": "code",
   "execution_count": 6,
   "metadata": {},
   "outputs": [
    {
     "name": "stdout",
     "output_type": "stream",
     "text": [
      "TensorFlow Version: 1.3.0\n"
     ]
    },
    {
     "name": "stderr",
     "output_type": "stream",
     "text": [
      "/home/arasdar/anaconda3/envs/tf-cpu/lib/python3.6/site-packages/ipykernel_launcher.py:14: UserWarning: No GPU found. Please use a GPU to train your neural network.\n",
      "  \n"
     ]
    }
   ],
   "source": [
    "\"\"\"\n",
    "DON'T MODIFY ANYTHING IN THIS CELL\n",
    "\"\"\"\n",
    "from distutils.version import LooseVersion\n",
    "import warnings\n",
    "import tensorflow as tf\n",
    "\n",
    "# Check TensorFlow Version\n",
    "assert LooseVersion(tf.__version__) >= LooseVersion('1.0'), 'Please use TensorFlow version 1.0 or newer.  You are using {}'.format(tf.__version__)\n",
    "print('TensorFlow Version: {}'.format(tf.__version__))\n",
    "\n",
    "# Check for a GPU\n",
    "if not tf.test.gpu_device_name():\n",
    "    warnings.warn('No GPU found. Please use a GPU to train your neural network.')\n",
    "else:\n",
    "    print('Default GPU Device: {}'.format(tf.test.gpu_device_name()))"
   ]
  },
  {
   "cell_type": "code",
   "execution_count": 7,
   "metadata": {
    "collapsed": true
   },
   "outputs": [],
   "source": [
    "lstm_size = 27         # 3 times the amount of channels\n",
    "lstm_layers = 2        # Number of layers\n",
    "batch_size = 600       # Batch size\n",
    "seq_len = 128          # Number of steps\n",
    "learning_rate = 0.0001  # Learning rate (default is 0.001)\n",
    "epochs = 1000\n",
    "\n",
    "# Fixed\n",
    "n_classes = 6\n",
    "n_channels = 9"
   ]
  },
  {
   "cell_type": "markdown",
   "metadata": {},
   "source": [
    "### Construct the graph\n",
    "Placeholders"
   ]
  },
  {
   "cell_type": "code",
   "execution_count": 8,
   "metadata": {
    "collapsed": true
   },
   "outputs": [],
   "source": [
    "graph = tf.Graph()\n",
    "\n",
    "# Construct placeholders\n",
    "with graph.as_default():\n",
    "    inputs_ = tf.placeholder(tf.float32, [None, seq_len, n_channels], name = 'inputs')\n",
    "    labels_ = tf.placeholder(tf.float32, [None, n_classes], name = 'labels')\n",
    "    keep_prob_ = tf.placeholder(tf.float32, name = 'keep')\n",
    "    learning_rate_ = tf.placeholder(tf.float32, name = 'learning_rate')"
   ]
  },
  {
   "cell_type": "markdown",
   "metadata": {},
   "source": [
    "Construct inputs to LSTM"
   ]
  },
  {
   "cell_type": "code",
   "execution_count": 9,
   "metadata": {
    "collapsed": true
   },
   "outputs": [],
   "source": [
    "with graph.as_default():\n",
    "    # Construct the LSTM inputs and LSTM cells\n",
    "    lstm_in = tf.transpose(inputs_, [1,0,2]) # reshape into (seq_len, N, channels)\n",
    "    lstm_in = tf.reshape(lstm_in, [-1, n_channels]) # Now (seq_len*N, n_channels)\n",
    "    \n",
    "    # To cells\n",
    "    lstm_in = tf.layers.dense(lstm_in, lstm_size, activation=None) # or tf.nn.relu, tf.nn.sigmoid, tf.nn.tanh?\n",
    "    \n",
    "    # Open up the tensor into a list of seq_len pieces\n",
    "    lstm_in = tf.split(lstm_in, seq_len, 0)\n",
    "    \n",
    "    # Add LSTM layers\n",
    "    lstm = tf.contrib.rnn.BasicLSTMCell(lstm_size)\n",
    "    drop = tf.contrib.rnn.DropoutWrapper(lstm, output_keep_prob=keep_prob_)\n",
    "    cell = tf.contrib.rnn.MultiRNNCell([drop] * lstm_layers)\n",
    "    initial_state = cell.zero_state(batch_size, tf.float32)"
   ]
  },
  {
   "cell_type": "markdown",
   "metadata": {},
   "source": [
    "Define forward pass, cost function and optimizer:"
   ]
  },
  {
   "cell_type": "code",
   "execution_count": 10,
   "metadata": {
    "collapsed": true
   },
   "outputs": [],
   "source": [
    "with graph.as_default():\n",
    "    outputs, final_state = tf.contrib.rnn.static_rnn(cell, lstm_in, dtype=tf.float32,\n",
    "                                                     initial_state = initial_state)\n",
    "    \n",
    "    # We only need the last output tensor to pass into a classifier\n",
    "    logits = tf.layers.dense(outputs[-1], n_classes, name='logits')\n",
    "    \n",
    "    # Cost function and optimizer\n",
    "    cost = tf.reduce_mean(tf.nn.softmax_cross_entropy_with_logits(logits=logits, labels=labels_))\n",
    "    #optimizer = tf.train.AdamOptimizer(learning_rate_).minimize(cost) # No grad clipping\n",
    "    \n",
    "    # Grad clipping\n",
    "    train_op = tf.train.AdamOptimizer(learning_rate_)\n",
    "\n",
    "    gradients = train_op.compute_gradients(cost)\n",
    "    capped_gradients = [(tf.clip_by_value(grad, -1., 1.), var) for grad, var in gradients]\n",
    "    optimizer = train_op.apply_gradients(capped_gradients)\n",
    "    \n",
    "    # Accuracy\n",
    "    correct_pred = tf.equal(tf.argmax(logits, 1), tf.argmax(labels_, 1))\n",
    "    accuracy = tf.reduce_mean(tf.cast(correct_pred, tf.float32), name='accuracy')"
   ]
  },
  {
   "cell_type": "markdown",
   "metadata": {},
   "source": [
    "### Train the network"
   ]
  },
  {
   "cell_type": "code",
   "execution_count": null,
   "metadata": {
    "collapsed": true
   },
   "outputs": [],
   "source": [
    "if (os.path.exists('checkpoints') == False):\n",
    "    !mkdir checkpoints"
   ]
  },
  {
   "cell_type": "code",
   "execution_count": null,
   "metadata": {
    "scrolled": true
   },
   "outputs": [
    {
     "name": "stdout",
     "output_type": "stream",
     "text": [
      "Epoch: 0/1000 Iteration: 5 Train loss: 1.696601 Train acc: 0.318333\n",
      "Epoch: 1/1000 Iteration: 10 Train loss: 1.705608 Train acc: 0.278333\n",
      "Epoch: 1/1000 Iteration: 15 Train loss: 1.688112 Train acc: 0.330000\n",
      "Epoch: 2/1000 Iteration: 20 Train loss: 1.682528 Train acc: 0.323333\n",
      "Epoch: 2/1000 Iteration: 25 Train loss: 1.681423 Train acc: 0.330000\n",
      "Epoch: 2/1000 Iteration: 25 Validation loss: 1.655036 Validation acc: 0.412778\n",
      "Epoch: 3/1000 Iteration: 30 Train loss: 1.683265 Train acc: 0.313333\n",
      "Epoch: 3/1000 Iteration: 35 Train loss: 1.656298 Train acc: 0.348333\n",
      "Epoch: 4/1000 Iteration: 40 Train loss: 1.672438 Train acc: 0.321667\n",
      "Epoch: 4/1000 Iteration: 45 Train loss: 1.667601 Train acc: 0.346667\n",
      "Epoch: 5/1000 Iteration: 50 Train loss: 1.590535 Train acc: 0.423333\n",
      "Epoch: 5/1000 Iteration: 50 Validation loss: 1.603563 Validation acc: 0.417778\n",
      "Epoch: 6/1000 Iteration: 55 Train loss: 1.623085 Train acc: 0.361667\n",
      "Epoch: 6/1000 Iteration: 60 Train loss: 1.603726 Train acc: 0.391667\n",
      "Epoch: 7/1000 Iteration: 65 Train loss: 1.591645 Train acc: 0.388333\n",
      "Epoch: 7/1000 Iteration: 70 Train loss: 1.592205 Train acc: 0.395000\n",
      "Epoch: 8/1000 Iteration: 75 Train loss: 1.587856 Train acc: 0.375000\n",
      "Epoch: 8/1000 Iteration: 75 Validation loss: 1.553970 Validation acc: 0.426667\n",
      "Epoch: 8/1000 Iteration: 80 Train loss: 1.579670 Train acc: 0.400000\n",
      "Epoch: 9/1000 Iteration: 85 Train loss: 1.592205 Train acc: 0.380000\n",
      "Epoch: 9/1000 Iteration: 90 Train loss: 1.588223 Train acc: 0.358333\n",
      "Epoch: 10/1000 Iteration: 95 Train loss: 1.511615 Train acc: 0.441667\n",
      "Epoch: 11/1000 Iteration: 100 Train loss: 1.542140 Train acc: 0.405000\n",
      "Epoch: 11/1000 Iteration: 100 Validation loss: 1.507445 Validation acc: 0.431111\n",
      "Epoch: 11/1000 Iteration: 105 Train loss: 1.517112 Train acc: 0.451667\n",
      "Epoch: 12/1000 Iteration: 110 Train loss: 1.517306 Train acc: 0.415000\n",
      "Epoch: 12/1000 Iteration: 115 Train loss: 1.513140 Train acc: 0.425000\n",
      "Epoch: 13/1000 Iteration: 120 Train loss: 1.530639 Train acc: 0.415000\n",
      "Epoch: 13/1000 Iteration: 125 Train loss: 1.512082 Train acc: 0.433333\n",
      "Epoch: 13/1000 Iteration: 125 Validation loss: 1.463985 Validation acc: 0.451111\n",
      "Epoch: 14/1000 Iteration: 130 Train loss: 1.522586 Train acc: 0.438333\n",
      "Epoch: 14/1000 Iteration: 135 Train loss: 1.516296 Train acc: 0.406667\n",
      "Epoch: 15/1000 Iteration: 140 Train loss: 1.443063 Train acc: 0.468333\n",
      "Epoch: 16/1000 Iteration: 145 Train loss: 1.467791 Train acc: 0.451667\n",
      "Epoch: 16/1000 Iteration: 150 Train loss: 1.448307 Train acc: 0.458333\n",
      "Epoch: 16/1000 Iteration: 150 Validation loss: 1.422833 Validation acc: 0.467778\n",
      "Epoch: 17/1000 Iteration: 155 Train loss: 1.443738 Train acc: 0.440000\n",
      "Epoch: 17/1000 Iteration: 160 Train loss: 1.448259 Train acc: 0.456667\n",
      "Epoch: 18/1000 Iteration: 165 Train loss: 1.464237 Train acc: 0.468333\n",
      "Epoch: 18/1000 Iteration: 170 Train loss: 1.447181 Train acc: 0.476667\n",
      "Epoch: 19/1000 Iteration: 175 Train loss: 1.462184 Train acc: 0.438333\n",
      "Epoch: 19/1000 Iteration: 175 Validation loss: 1.382057 Validation acc: 0.491667\n",
      "Epoch: 19/1000 Iteration: 180 Train loss: 1.449062 Train acc: 0.471667\n",
      "Epoch: 20/1000 Iteration: 185 Train loss: 1.367948 Train acc: 0.523333\n",
      "Epoch: 21/1000 Iteration: 190 Train loss: 1.393260 Train acc: 0.521667\n",
      "Epoch: 21/1000 Iteration: 195 Train loss: 1.366139 Train acc: 0.500000\n",
      "Epoch: 22/1000 Iteration: 200 Train loss: 1.379951 Train acc: 0.483333\n",
      "Epoch: 22/1000 Iteration: 200 Validation loss: 1.340105 Validation acc: 0.505556\n",
      "Epoch: 22/1000 Iteration: 205 Train loss: 1.385673 Train acc: 0.493333\n",
      "Epoch: 23/1000 Iteration: 210 Train loss: 1.388523 Train acc: 0.513333\n",
      "Epoch: 23/1000 Iteration: 215 Train loss: 1.349416 Train acc: 0.518333\n",
      "Epoch: 24/1000 Iteration: 220 Train loss: 1.401982 Train acc: 0.485000\n",
      "Epoch: 24/1000 Iteration: 225 Train loss: 1.373356 Train acc: 0.528333\n",
      "Epoch: 24/1000 Iteration: 225 Validation loss: 1.294991 Validation acc: 0.537778\n",
      "Epoch: 25/1000 Iteration: 230 Train loss: 1.297291 Train acc: 0.540000\n",
      "Epoch: 26/1000 Iteration: 235 Train loss: 1.327656 Train acc: 0.541667\n",
      "Epoch: 26/1000 Iteration: 240 Train loss: 1.282998 Train acc: 0.561667\n",
      "Epoch: 27/1000 Iteration: 245 Train loss: 1.291828 Train acc: 0.553333\n",
      "Epoch: 27/1000 Iteration: 250 Train loss: 1.308493 Train acc: 0.531667\n",
      "Epoch: 27/1000 Iteration: 250 Validation loss: 1.245697 Validation acc: 0.575000\n",
      "Epoch: 28/1000 Iteration: 255 Train loss: 1.316805 Train acc: 0.520000\n",
      "Epoch: 28/1000 Iteration: 260 Train loss: 1.287180 Train acc: 0.566667\n",
      "Epoch: 29/1000 Iteration: 265 Train loss: 1.296687 Train acc: 0.548333\n",
      "Epoch: 29/1000 Iteration: 270 Train loss: 1.273843 Train acc: 0.581667\n",
      "Epoch: 30/1000 Iteration: 275 Train loss: 1.213155 Train acc: 0.601667\n",
      "Epoch: 30/1000 Iteration: 275 Validation loss: 1.190887 Validation acc: 0.605000\n",
      "Epoch: 31/1000 Iteration: 280 Train loss: 1.239848 Train acc: 0.566667\n",
      "Epoch: 31/1000 Iteration: 285 Train loss: 1.190918 Train acc: 0.615000\n",
      "Epoch: 32/1000 Iteration: 290 Train loss: 1.200869 Train acc: 0.590000\n",
      "Epoch: 32/1000 Iteration: 295 Train loss: 1.218894 Train acc: 0.586667\n",
      "Epoch: 33/1000 Iteration: 300 Train loss: 1.205666 Train acc: 0.601667\n",
      "Epoch: 33/1000 Iteration: 300 Validation loss: 1.129681 Validation acc: 0.645000\n",
      "Epoch: 33/1000 Iteration: 305 Train loss: 1.192950 Train acc: 0.596667\n",
      "Epoch: 34/1000 Iteration: 310 Train loss: 1.217768 Train acc: 0.583333\n",
      "Epoch: 34/1000 Iteration: 315 Train loss: 1.162765 Train acc: 0.641667\n",
      "Epoch: 35/1000 Iteration: 320 Train loss: 1.103272 Train acc: 0.626667\n",
      "Epoch: 36/1000 Iteration: 325 Train loss: 1.127327 Train acc: 0.610000\n",
      "Epoch: 36/1000 Iteration: 325 Validation loss: 1.062594 Validation acc: 0.692222\n",
      "Epoch: 36/1000 Iteration: 330 Train loss: 1.076791 Train acc: 0.630000\n",
      "Epoch: 37/1000 Iteration: 335 Train loss: 1.114706 Train acc: 0.620000\n",
      "Epoch: 37/1000 Iteration: 340 Train loss: 1.103681 Train acc: 0.651667\n",
      "Epoch: 38/1000 Iteration: 345 Train loss: 1.104380 Train acc: 0.628333\n",
      "Epoch: 38/1000 Iteration: 350 Train loss: 1.041971 Train acc: 0.680000\n",
      "Epoch: 38/1000 Iteration: 350 Validation loss: 0.994903 Validation acc: 0.727778\n",
      "Epoch: 39/1000 Iteration: 355 Train loss: 1.097689 Train acc: 0.621667\n",
      "Epoch: 39/1000 Iteration: 360 Train loss: 1.066460 Train acc: 0.651667\n",
      "Epoch: 40/1000 Iteration: 365 Train loss: 1.003092 Train acc: 0.680000\n",
      "Epoch: 41/1000 Iteration: 370 Train loss: 1.009480 Train acc: 0.675000\n",
      "Epoch: 41/1000 Iteration: 375 Train loss: 0.979168 Train acc: 0.660000\n",
      "Epoch: 41/1000 Iteration: 375 Validation loss: 0.932799 Validation acc: 0.742222\n",
      "Epoch: 42/1000 Iteration: 380 Train loss: 1.000439 Train acc: 0.636667\n",
      "Epoch: 42/1000 Iteration: 385 Train loss: 1.000580 Train acc: 0.650000\n",
      "Epoch: 43/1000 Iteration: 390 Train loss: 1.017225 Train acc: 0.656667\n",
      "Epoch: 43/1000 Iteration: 395 Train loss: 0.954793 Train acc: 0.693333\n",
      "Epoch: 44/1000 Iteration: 400 Train loss: 0.997110 Train acc: 0.676667\n",
      "Epoch: 44/1000 Iteration: 400 Validation loss: 0.881210 Validation acc: 0.751667\n",
      "Epoch: 44/1000 Iteration: 405 Train loss: 0.967043 Train acc: 0.713333\n",
      "Epoch: 45/1000 Iteration: 410 Train loss: 0.927530 Train acc: 0.666667\n",
      "Epoch: 46/1000 Iteration: 415 Train loss: 0.944092 Train acc: 0.688333\n",
      "Epoch: 46/1000 Iteration: 420 Train loss: 0.875448 Train acc: 0.700000\n",
      "Epoch: 47/1000 Iteration: 425 Train loss: 0.922325 Train acc: 0.681667\n",
      "Epoch: 47/1000 Iteration: 425 Validation loss: 0.839230 Validation acc: 0.759444\n",
      "Epoch: 47/1000 Iteration: 430 Train loss: 0.929583 Train acc: 0.685000\n",
      "Epoch: 48/1000 Iteration: 435 Train loss: 0.931311 Train acc: 0.671667\n",
      "Epoch: 48/1000 Iteration: 440 Train loss: 0.881720 Train acc: 0.716667\n",
      "Epoch: 49/1000 Iteration: 445 Train loss: 0.937059 Train acc: 0.666667\n",
      "Epoch: 49/1000 Iteration: 450 Train loss: 0.910527 Train acc: 0.676667\n",
      "Epoch: 49/1000 Iteration: 450 Validation loss: 0.803789 Validation acc: 0.761111\n",
      "Epoch: 50/1000 Iteration: 455 Train loss: 0.836965 Train acc: 0.708333\n",
      "Epoch: 51/1000 Iteration: 460 Train loss: 0.884520 Train acc: 0.668333\n",
      "Epoch: 51/1000 Iteration: 465 Train loss: 0.832593 Train acc: 0.723333\n",
      "Epoch: 52/1000 Iteration: 470 Train loss: 0.870392 Train acc: 0.670000\n",
      "Epoch: 52/1000 Iteration: 475 Train loss: 0.876138 Train acc: 0.675000\n",
      "Epoch: 52/1000 Iteration: 475 Validation loss: 0.771812 Validation acc: 0.768889\n"
     ]
    },
    {
     "name": "stdout",
     "output_type": "stream",
     "text": [
      "Epoch: 53/1000 Iteration: 480 Train loss: 0.909543 Train acc: 0.660000\n",
      "Epoch: 53/1000 Iteration: 485 Train loss: 0.832468 Train acc: 0.688333\n",
      "Epoch: 54/1000 Iteration: 490 Train loss: 0.874186 Train acc: 0.683333\n",
      "Epoch: 54/1000 Iteration: 495 Train loss: 0.868158 Train acc: 0.705000\n",
      "Epoch: 55/1000 Iteration: 500 Train loss: 0.778014 Train acc: 0.728333\n",
      "Epoch: 55/1000 Iteration: 500 Validation loss: 0.743036 Validation acc: 0.785000\n",
      "Epoch: 56/1000 Iteration: 505 Train loss: 0.820177 Train acc: 0.703333\n",
      "Epoch: 56/1000 Iteration: 510 Train loss: 0.763879 Train acc: 0.743333\n",
      "Epoch: 57/1000 Iteration: 515 Train loss: 0.820971 Train acc: 0.718333\n",
      "Epoch: 57/1000 Iteration: 520 Train loss: 0.831136 Train acc: 0.690000\n",
      "Epoch: 58/1000 Iteration: 525 Train loss: 0.822168 Train acc: 0.706667\n",
      "Epoch: 58/1000 Iteration: 525 Validation loss: 0.710259 Validation acc: 0.801667\n",
      "Epoch: 58/1000 Iteration: 530 Train loss: 0.809939 Train acc: 0.703333\n",
      "Epoch: 59/1000 Iteration: 535 Train loss: 0.823894 Train acc: 0.711667\n",
      "Epoch: 59/1000 Iteration: 540 Train loss: 0.811597 Train acc: 0.723333\n",
      "Epoch: 60/1000 Iteration: 545 Train loss: 0.751285 Train acc: 0.745000\n",
      "Epoch: 61/1000 Iteration: 550 Train loss: 0.746848 Train acc: 0.750000\n",
      "Epoch: 61/1000 Iteration: 550 Validation loss: 0.680854 Validation acc: 0.811111\n",
      "Epoch: 61/1000 Iteration: 555 Train loss: 0.724726 Train acc: 0.748333\n",
      "Epoch: 62/1000 Iteration: 560 Train loss: 0.779901 Train acc: 0.703333\n",
      "Epoch: 62/1000 Iteration: 565 Train loss: 0.777134 Train acc: 0.718333\n",
      "Epoch: 63/1000 Iteration: 570 Train loss: 0.773746 Train acc: 0.718333\n",
      "Epoch: 63/1000 Iteration: 575 Train loss: 0.714649 Train acc: 0.755000\n",
      "Epoch: 63/1000 Iteration: 575 Validation loss: 0.652282 Validation acc: 0.822222\n",
      "Epoch: 64/1000 Iteration: 580 Train loss: 0.764771 Train acc: 0.743333\n",
      "Epoch: 64/1000 Iteration: 585 Train loss: 0.762952 Train acc: 0.726667\n",
      "Epoch: 65/1000 Iteration: 590 Train loss: 0.725918 Train acc: 0.740000\n",
      "Epoch: 66/1000 Iteration: 595 Train loss: 0.709439 Train acc: 0.776667\n",
      "Epoch: 66/1000 Iteration: 600 Train loss: 0.689256 Train acc: 0.755000\n",
      "Epoch: 66/1000 Iteration: 600 Validation loss: 0.625129 Validation acc: 0.825556\n",
      "Epoch: 67/1000 Iteration: 605 Train loss: 0.743896 Train acc: 0.738333\n",
      "Epoch: 67/1000 Iteration: 610 Train loss: 0.745401 Train acc: 0.745000\n",
      "Epoch: 68/1000 Iteration: 615 Train loss: 0.736365 Train acc: 0.773333\n",
      "Epoch: 68/1000 Iteration: 620 Train loss: 0.689207 Train acc: 0.763333\n",
      "Epoch: 69/1000 Iteration: 625 Train loss: 0.711428 Train acc: 0.750000\n",
      "Epoch: 69/1000 Iteration: 625 Validation loss: 0.600826 Validation acc: 0.825556\n",
      "Epoch: 69/1000 Iteration: 630 Train loss: 0.732026 Train acc: 0.760000\n",
      "Epoch: 70/1000 Iteration: 635 Train loss: 0.692156 Train acc: 0.741667\n",
      "Epoch: 71/1000 Iteration: 640 Train loss: 0.665895 Train acc: 0.795000\n",
      "Epoch: 71/1000 Iteration: 645 Train loss: 0.620892 Train acc: 0.788333\n",
      "Epoch: 72/1000 Iteration: 650 Train loss: 0.698926 Train acc: 0.773333\n",
      "Epoch: 72/1000 Iteration: 650 Validation loss: 0.580449 Validation acc: 0.820000\n",
      "Epoch: 72/1000 Iteration: 655 Train loss: 0.674116 Train acc: 0.753333\n",
      "Epoch: 73/1000 Iteration: 660 Train loss: 0.661815 Train acc: 0.790000\n",
      "Epoch: 73/1000 Iteration: 665 Train loss: 0.649067 Train acc: 0.786667\n",
      "Epoch: 74/1000 Iteration: 670 Train loss: 0.701247 Train acc: 0.751667\n",
      "Epoch: 74/1000 Iteration: 675 Train loss: 0.703166 Train acc: 0.765000\n",
      "Epoch: 74/1000 Iteration: 675 Validation loss: 0.565010 Validation acc: 0.818889\n",
      "Epoch: 75/1000 Iteration: 680 Train loss: 0.658717 Train acc: 0.751667\n",
      "Epoch: 76/1000 Iteration: 685 Train loss: 0.650068 Train acc: 0.781667\n",
      "Epoch: 76/1000 Iteration: 690 Train loss: 0.616554 Train acc: 0.800000\n",
      "Epoch: 77/1000 Iteration: 695 Train loss: 0.657236 Train acc: 0.758333\n",
      "Epoch: 77/1000 Iteration: 700 Train loss: 0.656562 Train acc: 0.766667\n",
      "Epoch: 77/1000 Iteration: 700 Validation loss: 0.542829 Validation acc: 0.825000\n",
      "Epoch: 78/1000 Iteration: 705 Train loss: 0.658583 Train acc: 0.763333\n",
      "Epoch: 78/1000 Iteration: 710 Train loss: 0.612490 Train acc: 0.768333\n",
      "Epoch: 79/1000 Iteration: 715 Train loss: 0.656610 Train acc: 0.743333\n",
      "Epoch: 79/1000 Iteration: 720 Train loss: 0.674472 Train acc: 0.758333\n",
      "Epoch: 80/1000 Iteration: 725 Train loss: 0.610883 Train acc: 0.796667\n",
      "Epoch: 80/1000 Iteration: 725 Validation loss: 0.531563 Validation acc: 0.822222\n",
      "Epoch: 81/1000 Iteration: 730 Train loss: 0.616238 Train acc: 0.793333\n",
      "Epoch: 81/1000 Iteration: 735 Train loss: 0.581402 Train acc: 0.823333\n",
      "Epoch: 82/1000 Iteration: 740 Train loss: 0.647362 Train acc: 0.755000\n",
      "Epoch: 82/1000 Iteration: 745 Train loss: 0.604363 Train acc: 0.778333\n",
      "Epoch: 83/1000 Iteration: 750 Train loss: 0.606849 Train acc: 0.776667\n",
      "Epoch: 83/1000 Iteration: 750 Validation loss: 0.514102 Validation acc: 0.822222\n",
      "Epoch: 83/1000 Iteration: 755 Train loss: 0.588926 Train acc: 0.790000\n",
      "Epoch: 84/1000 Iteration: 760 Train loss: 0.646044 Train acc: 0.751667\n",
      "Epoch: 84/1000 Iteration: 765 Train loss: 0.607058 Train acc: 0.785000\n",
      "Epoch: 85/1000 Iteration: 770 Train loss: 0.581204 Train acc: 0.806667\n",
      "Epoch: 86/1000 Iteration: 775 Train loss: 0.591469 Train acc: 0.798333\n",
      "Epoch: 86/1000 Iteration: 775 Validation loss: 0.501910 Validation acc: 0.822778\n",
      "Epoch: 86/1000 Iteration: 780 Train loss: 0.574194 Train acc: 0.793333\n",
      "Epoch: 87/1000 Iteration: 785 Train loss: 0.594713 Train acc: 0.766667\n",
      "Epoch: 87/1000 Iteration: 790 Train loss: 0.591055 Train acc: 0.783333\n",
      "Epoch: 88/1000 Iteration: 795 Train loss: 0.605714 Train acc: 0.778333\n",
      "Epoch: 88/1000 Iteration: 800 Train loss: 0.575312 Train acc: 0.793333\n",
      "Epoch: 88/1000 Iteration: 800 Validation loss: 0.490884 Validation acc: 0.823889\n",
      "Epoch: 89/1000 Iteration: 805 Train loss: 0.623503 Train acc: 0.765000\n",
      "Epoch: 89/1000 Iteration: 810 Train loss: 0.589664 Train acc: 0.800000\n",
      "Epoch: 90/1000 Iteration: 815 Train loss: 0.574121 Train acc: 0.791667\n",
      "Epoch: 91/1000 Iteration: 820 Train loss: 0.560157 Train acc: 0.790000\n",
      "Epoch: 91/1000 Iteration: 825 Train loss: 0.518560 Train acc: 0.835000\n",
      "Epoch: 91/1000 Iteration: 825 Validation loss: 0.480085 Validation acc: 0.824444\n",
      "Epoch: 92/1000 Iteration: 830 Train loss: 0.572510 Train acc: 0.808333\n",
      "Epoch: 92/1000 Iteration: 835 Train loss: 0.571393 Train acc: 0.800000\n",
      "Epoch: 93/1000 Iteration: 840 Train loss: 0.601130 Train acc: 0.785000\n",
      "Epoch: 93/1000 Iteration: 845 Train loss: 0.558376 Train acc: 0.788333\n",
      "Epoch: 94/1000 Iteration: 850 Train loss: 0.595723 Train acc: 0.771667\n",
      "Epoch: 94/1000 Iteration: 850 Validation loss: 0.472099 Validation acc: 0.826111\n",
      "Epoch: 94/1000 Iteration: 855 Train loss: 0.581297 Train acc: 0.791667\n",
      "Epoch: 95/1000 Iteration: 860 Train loss: 0.550769 Train acc: 0.776667\n",
      "Epoch: 96/1000 Iteration: 865 Train loss: 0.553033 Train acc: 0.800000\n",
      "Epoch: 96/1000 Iteration: 870 Train loss: 0.507706 Train acc: 0.825000\n",
      "Epoch: 97/1000 Iteration: 875 Train loss: 0.574497 Train acc: 0.790000\n",
      "Epoch: 97/1000 Iteration: 875 Validation loss: 0.460459 Validation acc: 0.822778\n",
      "Epoch: 97/1000 Iteration: 880 Train loss: 0.553994 Train acc: 0.786667\n",
      "Epoch: 98/1000 Iteration: 885 Train loss: 0.564630 Train acc: 0.771667\n",
      "Epoch: 98/1000 Iteration: 890 Train loss: 0.519180 Train acc: 0.823333\n",
      "Epoch: 99/1000 Iteration: 895 Train loss: 0.579774 Train acc: 0.776667\n",
      "Epoch: 99/1000 Iteration: 900 Train loss: 0.569668 Train acc: 0.790000\n",
      "Epoch: 99/1000 Iteration: 900 Validation loss: 0.454866 Validation acc: 0.823333\n",
      "Epoch: 100/1000 Iteration: 905 Train loss: 0.528311 Train acc: 0.810000\n",
      "Epoch: 101/1000 Iteration: 910 Train loss: 0.546715 Train acc: 0.798333\n",
      "Epoch: 101/1000 Iteration: 915 Train loss: 0.510754 Train acc: 0.810000\n",
      "Epoch: 102/1000 Iteration: 920 Train loss: 0.556960 Train acc: 0.761667\n",
      "Epoch: 102/1000 Iteration: 925 Train loss: 0.541307 Train acc: 0.803333\n",
      "Epoch: 102/1000 Iteration: 925 Validation loss: 0.447078 Validation acc: 0.827778\n",
      "Epoch: 103/1000 Iteration: 930 Train loss: 0.539030 Train acc: 0.785000\n",
      "Epoch: 103/1000 Iteration: 935 Train loss: 0.510602 Train acc: 0.810000\n",
      "Epoch: 104/1000 Iteration: 940 Train loss: 0.561706 Train acc: 0.786667\n",
      "Epoch: 104/1000 Iteration: 945 Train loss: 0.549317 Train acc: 0.803333\n",
      "Epoch: 105/1000 Iteration: 950 Train loss: 0.509278 Train acc: 0.811667\n"
     ]
    },
    {
     "name": "stdout",
     "output_type": "stream",
     "text": [
      "Epoch: 105/1000 Iteration: 950 Validation loss: 0.441384 Validation acc: 0.827778\n",
      "Epoch: 106/1000 Iteration: 955 Train loss: 0.537889 Train acc: 0.780000\n",
      "Epoch: 106/1000 Iteration: 960 Train loss: 0.503183 Train acc: 0.808333\n",
      "Epoch: 107/1000 Iteration: 965 Train loss: 0.538168 Train acc: 0.790000\n",
      "Epoch: 107/1000 Iteration: 970 Train loss: 0.527135 Train acc: 0.788333\n",
      "Epoch: 108/1000 Iteration: 975 Train loss: 0.520277 Train acc: 0.810000\n",
      "Epoch: 108/1000 Iteration: 975 Validation loss: 0.436657 Validation acc: 0.826111\n",
      "Epoch: 108/1000 Iteration: 980 Train loss: 0.511978 Train acc: 0.790000\n",
      "Epoch: 109/1000 Iteration: 985 Train loss: 0.550194 Train acc: 0.790000\n",
      "Epoch: 109/1000 Iteration: 990 Train loss: 0.523803 Train acc: 0.795000\n",
      "Epoch: 110/1000 Iteration: 995 Train loss: 0.495868 Train acc: 0.796667\n",
      "Epoch: 111/1000 Iteration: 1000 Train loss: 0.508368 Train acc: 0.810000\n",
      "Epoch: 111/1000 Iteration: 1000 Validation loss: 0.431174 Validation acc: 0.825556\n",
      "Epoch: 111/1000 Iteration: 1005 Train loss: 0.477327 Train acc: 0.811667\n",
      "Epoch: 112/1000 Iteration: 1010 Train loss: 0.502321 Train acc: 0.798333\n",
      "Epoch: 112/1000 Iteration: 1015 Train loss: 0.508816 Train acc: 0.810000\n",
      "Epoch: 113/1000 Iteration: 1020 Train loss: 0.515915 Train acc: 0.808333\n",
      "Epoch: 113/1000 Iteration: 1025 Train loss: 0.478254 Train acc: 0.816667\n",
      "Epoch: 113/1000 Iteration: 1025 Validation loss: 0.423681 Validation acc: 0.829444\n",
      "Epoch: 114/1000 Iteration: 1030 Train loss: 0.564388 Train acc: 0.768333\n",
      "Epoch: 114/1000 Iteration: 1035 Train loss: 0.536480 Train acc: 0.781667\n",
      "Epoch: 115/1000 Iteration: 1040 Train loss: 0.471195 Train acc: 0.840000\n",
      "Epoch: 116/1000 Iteration: 1045 Train loss: 0.497057 Train acc: 0.791667\n",
      "Epoch: 116/1000 Iteration: 1050 Train loss: 0.444774 Train acc: 0.823333\n",
      "Epoch: 116/1000 Iteration: 1050 Validation loss: 0.413908 Validation acc: 0.830000\n",
      "Epoch: 117/1000 Iteration: 1055 Train loss: 0.511297 Train acc: 0.790000\n",
      "Epoch: 117/1000 Iteration: 1060 Train loss: 0.519090 Train acc: 0.778333\n",
      "Epoch: 118/1000 Iteration: 1065 Train loss: 0.513362 Train acc: 0.781667\n",
      "Epoch: 118/1000 Iteration: 1070 Train loss: 0.464416 Train acc: 0.816667\n",
      "Epoch: 119/1000 Iteration: 1075 Train loss: 0.518773 Train acc: 0.788333\n",
      "Epoch: 119/1000 Iteration: 1075 Validation loss: 0.405106 Validation acc: 0.831111\n",
      "Epoch: 119/1000 Iteration: 1080 Train loss: 0.509371 Train acc: 0.805000\n",
      "Epoch: 120/1000 Iteration: 1085 Train loss: 0.478076 Train acc: 0.806667\n",
      "Epoch: 121/1000 Iteration: 1090 Train loss: 0.483494 Train acc: 0.816667\n",
      "Epoch: 121/1000 Iteration: 1095 Train loss: 0.455942 Train acc: 0.813333\n",
      "Epoch: 122/1000 Iteration: 1100 Train loss: 0.504288 Train acc: 0.815000\n",
      "Epoch: 122/1000 Iteration: 1100 Validation loss: 0.392963 Validation acc: 0.837778\n",
      "Epoch: 122/1000 Iteration: 1105 Train loss: 0.495364 Train acc: 0.798333\n",
      "Epoch: 123/1000 Iteration: 1110 Train loss: 0.516170 Train acc: 0.778333\n",
      "Epoch: 123/1000 Iteration: 1115 Train loss: 0.485969 Train acc: 0.801667\n",
      "Epoch: 124/1000 Iteration: 1120 Train loss: 0.528332 Train acc: 0.785000\n",
      "Epoch: 124/1000 Iteration: 1125 Train loss: 0.514857 Train acc: 0.781667\n",
      "Epoch: 124/1000 Iteration: 1125 Validation loss: 0.391260 Validation acc: 0.843889\n",
      "Epoch: 125/1000 Iteration: 1130 Train loss: 0.482025 Train acc: 0.790000\n",
      "Epoch: 126/1000 Iteration: 1135 Train loss: 0.469664 Train acc: 0.833333\n",
      "Epoch: 126/1000 Iteration: 1140 Train loss: 0.446933 Train acc: 0.821667\n",
      "Epoch: 127/1000 Iteration: 1145 Train loss: 0.483899 Train acc: 0.808333\n",
      "Epoch: 127/1000 Iteration: 1150 Train loss: 0.476674 Train acc: 0.808333\n",
      "Epoch: 127/1000 Iteration: 1150 Validation loss: 0.385983 Validation acc: 0.845000\n",
      "Epoch: 128/1000 Iteration: 1155 Train loss: 0.474182 Train acc: 0.795000\n",
      "Epoch: 128/1000 Iteration: 1160 Train loss: 0.466538 Train acc: 0.806667\n",
      "Epoch: 129/1000 Iteration: 1165 Train loss: 0.496227 Train acc: 0.791667\n",
      "Epoch: 129/1000 Iteration: 1170 Train loss: 0.481934 Train acc: 0.816667\n",
      "Epoch: 130/1000 Iteration: 1175 Train loss: 0.474484 Train acc: 0.796667\n",
      "Epoch: 130/1000 Iteration: 1175 Validation loss: 0.381579 Validation acc: 0.841667\n",
      "Epoch: 131/1000 Iteration: 1180 Train loss: 0.484762 Train acc: 0.785000\n",
      "Epoch: 131/1000 Iteration: 1185 Train loss: 0.428485 Train acc: 0.833333\n",
      "Epoch: 132/1000 Iteration: 1190 Train loss: 0.446455 Train acc: 0.826667\n",
      "Epoch: 132/1000 Iteration: 1195 Train loss: 0.475635 Train acc: 0.806667\n",
      "Epoch: 133/1000 Iteration: 1200 Train loss: 0.488725 Train acc: 0.795000\n",
      "Epoch: 133/1000 Iteration: 1200 Validation loss: 0.375529 Validation acc: 0.845000\n",
      "Epoch: 133/1000 Iteration: 1205 Train loss: 0.451228 Train acc: 0.815000\n",
      "Epoch: 134/1000 Iteration: 1210 Train loss: 0.486862 Train acc: 0.798333\n",
      "Epoch: 134/1000 Iteration: 1215 Train loss: 0.478766 Train acc: 0.795000\n",
      "Epoch: 135/1000 Iteration: 1220 Train loss: 0.435857 Train acc: 0.828333\n",
      "Epoch: 136/1000 Iteration: 1225 Train loss: 0.457832 Train acc: 0.810000\n",
      "Epoch: 136/1000 Iteration: 1225 Validation loss: 0.369397 Validation acc: 0.847222\n",
      "Epoch: 136/1000 Iteration: 1230 Train loss: 0.430270 Train acc: 0.840000\n",
      "Epoch: 137/1000 Iteration: 1235 Train loss: 0.476111 Train acc: 0.791667\n",
      "Epoch: 137/1000 Iteration: 1240 Train loss: 0.468954 Train acc: 0.791667\n",
      "Epoch: 138/1000 Iteration: 1245 Train loss: 0.475974 Train acc: 0.791667\n",
      "Epoch: 138/1000 Iteration: 1250 Train loss: 0.421012 Train acc: 0.816667\n",
      "Epoch: 138/1000 Iteration: 1250 Validation loss: 0.366071 Validation acc: 0.850556\n",
      "Epoch: 139/1000 Iteration: 1255 Train loss: 0.496995 Train acc: 0.776667\n",
      "Epoch: 139/1000 Iteration: 1260 Train loss: 0.461027 Train acc: 0.808333\n",
      "Epoch: 140/1000 Iteration: 1265 Train loss: 0.426395 Train acc: 0.836667\n",
      "Epoch: 141/1000 Iteration: 1270 Train loss: 0.447659 Train acc: 0.818333\n",
      "Epoch: 141/1000 Iteration: 1275 Train loss: 0.399485 Train acc: 0.830000\n",
      "Epoch: 141/1000 Iteration: 1275 Validation loss: 0.361336 Validation acc: 0.857778\n",
      "Epoch: 142/1000 Iteration: 1280 Train loss: 0.475657 Train acc: 0.806667\n",
      "Epoch: 142/1000 Iteration: 1285 Train loss: 0.456178 Train acc: 0.803333\n",
      "Epoch: 143/1000 Iteration: 1290 Train loss: 0.474110 Train acc: 0.791667\n",
      "Epoch: 143/1000 Iteration: 1295 Train loss: 0.434347 Train acc: 0.818333\n",
      "Epoch: 144/1000 Iteration: 1300 Train loss: 0.476251 Train acc: 0.796667\n",
      "Epoch: 144/1000 Iteration: 1300 Validation loss: 0.357125 Validation acc: 0.865000\n",
      "Epoch: 144/1000 Iteration: 1305 Train loss: 0.463105 Train acc: 0.800000\n",
      "Epoch: 145/1000 Iteration: 1310 Train loss: 0.450585 Train acc: 0.803333\n",
      "Epoch: 146/1000 Iteration: 1315 Train loss: 0.427688 Train acc: 0.826667\n",
      "Epoch: 146/1000 Iteration: 1320 Train loss: 0.412899 Train acc: 0.841667\n",
      "Epoch: 147/1000 Iteration: 1325 Train loss: 0.435458 Train acc: 0.835000\n",
      "Epoch: 147/1000 Iteration: 1325 Validation loss: 0.355490 Validation acc: 0.861667\n",
      "Epoch: 147/1000 Iteration: 1330 Train loss: 0.435476 Train acc: 0.818333\n",
      "Epoch: 148/1000 Iteration: 1335 Train loss: 0.438549 Train acc: 0.815000\n",
      "Epoch: 148/1000 Iteration: 1340 Train loss: 0.408929 Train acc: 0.833333\n",
      "Epoch: 149/1000 Iteration: 1345 Train loss: 0.485555 Train acc: 0.786667\n",
      "Epoch: 149/1000 Iteration: 1350 Train loss: 0.455676 Train acc: 0.826667\n",
      "Epoch: 149/1000 Iteration: 1350 Validation loss: 0.349251 Validation acc: 0.868333\n",
      "Epoch: 150/1000 Iteration: 1355 Train loss: 0.435112 Train acc: 0.811667\n",
      "Epoch: 151/1000 Iteration: 1360 Train loss: 0.440851 Train acc: 0.796667\n",
      "Epoch: 151/1000 Iteration: 1365 Train loss: 0.388573 Train acc: 0.836667\n",
      "Epoch: 152/1000 Iteration: 1370 Train loss: 0.455406 Train acc: 0.825000\n"
     ]
    }
   ],
   "source": [
    "validation_acc = []\n",
    "validation_loss = []\n",
    "\n",
    "train_acc = []\n",
    "train_loss = []\n",
    "\n",
    "with graph.as_default():\n",
    "    saver = tf.train.Saver()\n",
    "\n",
    "with tf.Session(graph=graph) as sess:\n",
    "    sess.run(tf.global_variables_initializer())\n",
    "    iteration = 1\n",
    "    \n",
    "    for e in range(epochs):\n",
    "        # Initialize \n",
    "        state = sess.run(initial_state)\n",
    "        \n",
    "        # Loop over batches\n",
    "        for x,y in get_batches(X_tr, y_tr, batch_size):\n",
    "            \n",
    "            # Feed dictionary\n",
    "            feed = {inputs_ : x, labels_ : y, keep_prob_ : 0.5, \n",
    "                    initial_state : state, learning_rate_ : learning_rate}\n",
    "            \n",
    "            loss, _ , state, acc = sess.run([cost, optimizer, final_state, accuracy], \n",
    "                                             feed_dict = feed)\n",
    "            train_acc.append(acc)\n",
    "            train_loss.append(loss)\n",
    "            \n",
    "            # Print at each 5 iters\n",
    "            if (iteration % 5 == 0):\n",
    "                print(\"Epoch: {}/{}\".format(e, epochs),\n",
    "                      \"Iteration: {:d}\".format(iteration),\n",
    "                      \"Train loss: {:6f}\".format(loss),\n",
    "                      \"Train acc: {:.6f}\".format(acc))\n",
    "            \n",
    "            # Compute validation loss at every 25 iterations\n",
    "            if (iteration%25 == 0):\n",
    "                \n",
    "                # Initiate for validation set\n",
    "                val_state = sess.run(cell.zero_state(batch_size, tf.float32))\n",
    "                \n",
    "                val_acc_ = []\n",
    "                val_loss_ = []\n",
    "                for x_v, y_v in get_batches(X_vld, y_vld, batch_size):\n",
    "                    # Feed\n",
    "                    feed = {inputs_ : x_v, labels_ : y_v, keep_prob_ : 1.0, initial_state : val_state}\n",
    "                    \n",
    "                    # Loss\n",
    "                    loss_v, state_v, acc_v = sess.run([cost, final_state, accuracy], feed_dict = feed)\n",
    "                    \n",
    "                    val_acc_.append(acc_v)\n",
    "                    val_loss_.append(loss_v)\n",
    "                \n",
    "                # Print info\n",
    "                print(\"Epoch: {}/{}\".format(e, epochs),\n",
    "                      \"Iteration: {:d}\".format(iteration),\n",
    "                      \"Validation loss: {:6f}\".format(np.mean(val_loss_)),\n",
    "                      \"Validation acc: {:.6f}\".format(np.mean(val_acc_)))\n",
    "                \n",
    "                # Store\n",
    "                validation_acc.append(np.mean(val_acc_))\n",
    "                validation_loss.append(np.mean(val_loss_))\n",
    "            \n",
    "            # Iterate \n",
    "            iteration += 1\n",
    "    \n",
    "    saver.save(sess,\"checkpoints/har-lstm.ckpt\")"
   ]
  },
  {
   "cell_type": "code",
   "execution_count": 12,
   "metadata": {},
   "outputs": [
    {
     "data": {
      "image/png": "[encoded data removed]",
      "text/plain": [
       "<matplotlib.figure.Figure at 0x7f266cc57898>"
      ]
     },
     "metadata": {},
     "output_type": "display_data"
    }
   ],
   "source": [
    "# Plot training and test loss\n",
    "t = np.arange(iteration-1)\n",
    "\n",
    "plt.figure(figsize = (6,6))\n",
    "plt.plot(t, np.array(train_loss), 'r-', t[t % 25 == 0], np.array(validation_loss), 'b*')\n",
    "plt.xlabel(\"iteration\")\n",
    "plt.ylabel(\"Loss\")\n",
    "plt.legend(['train', 'validation'], loc='upper right')\n",
    "plt.show()"
   ]
  },
  {
   "cell_type": "code",
   "execution_count": 13,
   "metadata": {},
   "outputs": [
    {
     "data": {
      "image/png": "[encoded data removed]",
      "text/plain": [
       "<matplotlib.figure.Figure at 0x7f266cc575f8>"
      ]
     },
     "metadata": {},
     "output_type": "display_data"
    }
   ],
   "source": [
    "# Plot Accuracies\n",
    "plt.figure(figsize = (6,6))\n",
    "\n",
    "plt.plot(t, np.array(train_acc), 'r-', t[t % 25 == 0], validation_acc, 'b*')\n",
    "plt.xlabel(\"iteration\")\n",
    "plt.ylabel(\"Accuray\")\n",
    "plt.legend(['train', 'validation'], loc='upper right')\n",
    "plt.show()"
   ]
  },
  {
   "cell_type": "markdown",
   "metadata": {},
   "source": [
    "## Evaluate on test set"
   ]
  },
  {
   "cell_type": "code",
   "execution_count": 14,
   "metadata": {},
   "outputs": [
    {
     "name": "stdout",
     "output_type": "stream",
     "text": [
      "Test accuracy: 0.890833\n"
     ]
    }
   ],
   "source": [
    "test_acc = []\n",
    "\n",
    "with tf.Session(graph=graph) as sess:\n",
    "    # Restore\n",
    "    saver.restore(sess, tf.train.latest_checkpoint('checkpoints'))\n",
    "    test_state = sess.run(cell.zero_state(batch_size, tf.float32))\n",
    "    \n",
    "    for x_t, y_t in get_batches(X_test, y_test, batch_size):\n",
    "        feed = {inputs_: x_t,\n",
    "                labels_: y_t,\n",
    "                keep_prob_: 1,\n",
    "                initial_state: test_state}\n",
    "        \n",
    "        batch_acc, test_state = sess.run([accuracy, final_state], feed_dict=feed)\n",
    "        test_acc.append(batch_acc)\n",
    "    print(\"Test accuracy: {:.6f}\".format(np.mean(test_acc)))"
   ]
  },
  {
   "cell_type": "code",
   "execution_count": null,
   "metadata": {
    "collapsed": true
   },
   "outputs": [],
   "source": []
  },
  {
   "cell_type": "code",
   "execution_count": null,
   "metadata": {
    "collapsed": true
   },
   "outputs": [],
   "source": []
  },
  {
   "cell_type": "code",
   "execution_count": null,
   "metadata": {
    "collapsed": true
   },
   "outputs": [],
   "source": []
  },
  {
   "cell_type": "code",
   "execution_count": null,
   "metadata": {
    "collapsed": true
   },
   "outputs": [],
   "source": []
  },
  {
   "cell_type": "code",
   "execution_count": null,
   "metadata": {
    "collapsed": true
   },
   "outputs": [],
   "source": []
  },
  {
   "cell_type": "code",
   "execution_count": null,
   "metadata": {
    "collapsed": true
   },
   "outputs": [],
   "source": []
  },
  {
   "cell_type": "code",
   "execution_count": null,
   "metadata": {
    "collapsed": true
   },
   "outputs": [],
   "source": []
  },
  {
   "cell_type": "code",
   "execution_count": null,
   "metadata": {
    "collapsed": true
   },
   "outputs": [],
   "source": []
  },
  {
   "cell_type": "code",
   "execution_count": null,
   "metadata": {
    "collapsed": true
   },
   "outputs": [],
   "source": []
  },
  {
   "cell_type": "code",
   "execution_count": null,
   "metadata": {
    "collapsed": true
   },
   "outputs": [],
   "source": []
  }
 ],
 "metadata": {
  "kernelspec": {
   "display_name": "Python 3",
   "language": "python",
   "name": "python3"
  },
  "language_info": {
   "codemirror_mode": {
    "name": "ipython",
    "version": 3
   },
   "file_extension": ".py",
   "mimetype": "text/x-python",
   "name": "python",
   "nbconvert_exporter": "python",
   "pygments_lexer": "ipython3",
   "version": "3.6.3"
  },
  "widgets": {
   "state": {},
   "version": "1.1.2"
  }
 },
 "nbformat": 4,
 "nbformat_minor": 2
}
