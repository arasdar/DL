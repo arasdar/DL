{
 "cells": [
  {
   "cell_type": "code",
   "execution_count": 1,
   "metadata": {},
   "outputs": [],
   "source": [
    "# Input data\n",
    "import numpy as np\n",
    "from utilities import *\n",
    "\n",
    "# test and train read\n",
    "X_train_valid, Y_train_valid, _ = read_data(data_path=\"../../datasets/har/har-data/\", split=\"train\")\n",
    "X_test, Y_test, _ = read_data(data_path=\"../../datasets/har/har-data/\", split=\"test\")"
   ]
  },
  {
   "cell_type": "code",
   "execution_count": 34,
   "metadata": {},
   "outputs": [],
   "source": [
    "# Normalizing/standardizing the input data features\n",
    "X_train_valid_norm, X_test_norm = standardize(test=X_test, train=X_train_valid)\n",
    "Y_train_valid_onehot = one_hot(labels=Y_train_valid.reshape(-1), n_class=6) \n",
    "Y_test_onehot = one_hot(labels=Y_test.reshape(-1), n_class=6) "
   ]
  },
  {
   "cell_type": "code",
   "execution_count": 35,
   "metadata": {},
   "outputs": [],
   "source": [
    "# Train and valid split\n",
    "from sklearn.model_selection import train_test_split\n",
    "\n",
    "X_train_norm, X_valid_norm, Y_train_onehot, Y_valid_onehot = train_test_split(X_train_valid_norm, \n",
    "                                                                              Y_train_valid_onehot,\n",
    "                                                                              test_size=0.10)"
   ]
  },
  {
   "cell_type": "code",
   "execution_count": 36,
   "metadata": {},
   "outputs": [
    {
     "name": "stdout",
     "output_type": "stream",
     "text": [
      "batch_size, seq_len, n_channels 66 128 9\n",
      "n_classes 6\n"
     ]
    }
   ],
   "source": [
    "## Hyperparameters\n",
    "# Input data\n",
    "# NWC for signal: N is batch size, W is the width/sequence length, and C is the number of channels\n",
    "# NHWC for images: This is the same as signals and H stands for height\n",
    "N, W, C = X_train_norm.shape[0]//100, X_train_norm.shape[1], X_train_norm.shape[2]\n",
    "batch_size, seq_len, n_channels = N, W, C\n",
    "print('batch_size, seq_len, n_channels', batch_size, seq_len, n_channels)\n",
    "\n",
    "# Output labels\n",
    "n_classes = Y_train_valid.max(axis=0)\n",
    "assert Y_train_valid.max(axis=0) == Y_test.max(axis=0)\n",
    "print('n_classes', n_classes)\n",
    "\n",
    "# learning parameters\n",
    "learning_rate = 0.0001 #1e-4\n",
    "epochs = 100 # num iterations for updating model\n",
    "keep_prob = 0.50 # 90% neurons are kept and 10% are dropped out"
   ]
  },
  {
   "cell_type": "code",
   "execution_count": 37,
   "metadata": {},
   "outputs": [
    {
     "name": "stdout",
     "output_type": "stream",
     "text": [
      "TensorFlow Version: 1.7.0\n",
      "Default GPU Device: /device:GPU:0\n"
     ]
    }
   ],
   "source": [
    "# GPUs or CPU\n",
    "import tensorflow as tf\n",
    "\n",
    "# Check TensorFlow Version\n",
    "print('TensorFlow Version: {}'.format(tf.__version__))\n",
    "\n",
    "# Check for a GPU\n",
    "print('Default GPU Device: {}'.format(tf.test.gpu_device_name()))"
   ]
  },
  {
   "cell_type": "code",
   "execution_count": 38,
   "metadata": {},
   "outputs": [],
   "source": [
    "# Input and output and hyperpaprameters NP tensors to feed into TF tensors: NP2TF tensors for computation\n",
    "# Input and output and hyperpaprameters tensors to feed into the tensor flow framwork\n",
    "Xin = tf.placeholder(dtype=tf.float32, shape=[None, seq_len, n_channels], name = 'Xin')\n",
    "keep_prob_= tf.placeholder(dtype=tf.float32, name = 'keep_prob_', shape=None)\n",
    "learning_rate_ = tf.placeholder(dtype=tf.float32, name = 'learning_rate_', shape=None)"
   ]
  },
  {
   "cell_type": "code",
   "execution_count": 39,
   "metadata": {},
   "outputs": [],
   "source": [
    "# # Successfully implemented!\n",
    "# # Simple example of running it;\n",
    "# # This is a simple example of using placeholder to define a tensor and feed it into the session\n",
    "# # Also doing this, we can see how it might work using the session\n",
    "# # tensor, varilable, and operation for generating an output for high performance computation\n",
    "# Xexample = tf.placeholder(dtype=tf.float32, shape=(1024, 1024), name=None)\n",
    "# Yexample = tf.matmul(a=Xexample, b=Xexample, name=None)\n",
    "\n",
    "# with tf.Session() as sess:\n",
    "# #   print(sess.run(y))  # ERROR: will fail because x was not fed.\n",
    "\n",
    "# #     rand_array = np.random.rand(1024, 1024)\n",
    "# #     Xin = tf.random_normal(dtype=tf.float32, mean=0., name=None, shape=Xexample.shape, stddev=1.)    \n",
    "#     Xin = np.random.normal(loc=0., scale=1., size=Xexample.shape)\n",
    "#     print(Xexample.shape)\n",
    "#     print(Xin.shape, Xin.dtype)\n",
    "#     Yout = sess.run(fetches=Yexample, feed_dict={Xexample: Xin})\n",
    "#     print(Yout.shape, Yout.dtype, Yexample.shape, Yexample.dtype)  # Will succeed."
   ]
  },
  {
   "cell_type": "code",
   "execution_count": 40,
   "metadata": {},
   "outputs": [],
   "source": [
    "# Successfull!\n",
    "# print(inputs_.shape, inputs_.dtype, inputs_.shape[0], inputs_.shape[1], inputs_.shape[2])\n",
    "# # NWC=?, 128, 9\n",
    "# width, in_ch, out_ch = inputs_.shape[1]//4, inputs_.shape[2], inputs_.shape[2]*2\n",
    "# # print(width, in_ch, out_ch)\n",
    "# filter_shape=[width.value, in_ch.value, out_ch.value]\n",
    "# print(filter_shape)\n",
    "# init_val = tf.random_normal(dtype=tf.float32, mean=0., name=None, stddev=1., shape=filter_shape)\n",
    "# # print(init_val.shape, init_val.dtype)\n",
    "# # filters = tf.get_variable(shape=[width, in_ch, out_ch], name='conv1d1', dtype=tf.float32, trainable=True)\n",
    "# filter1 = tf.Variable(initial_value=init_val, dtype=tf.float32, name=None, trainable=True)\n",
    "# conv1d = tf.nn.conv1d(data_format='NWC', filters=filter1, name=None, padding='SAME', stride=2,\n",
    "#                       use_cudnn_on_gpu=True, value=inputs_)\n",
    "# print(conv1d.shape, conv1d.dtype)\n",
    "# filterT = tf.Variable(dtype=tf.float32, initial_value=init_val, name=None, trainable=True)\n",
    "# print(filterT.shape, filterT.dtype)\n",
    "# output_shape = [batch_size, inputs_.shape[1].value, inputs_.shape[2].value]\n",
    "# print(output_shape)\n",
    "# conv1dT = tf.contrib.nn.conv1d_transpose(data_format='NWC', filter=filterT, name=None, output_shape=output_shape, \n",
    "#                                          padding='SAME', stride=2, value=conv1d)\n",
    "# print(conv1dT.shape, conv1d.dtype)"
   ]
  },
  {
   "cell_type": "code",
   "execution_count": 41,
   "metadata": {},
   "outputs": [],
   "source": [
    "# Successfull!\n",
    "# # This is explaining a single operation on input tensors and varilables to generate the output tensor\n",
    "# # The pull request is open as of this moment, so the API and behavior can and probably will change. \n",
    "# # Some feature that one might expect from conv1d_transpose aren't supported:\n",
    "\n",
    "# # output_shape requires batch size to be known statically, can't pass -1;\n",
    "# # on the other hand, output shape is dynamic (this explains None dimension).\n",
    "# # Also, the kernel_width=7 expects in_width=255, not 256. \n",
    "# # Should make kernel_width less than 4 to match in_width=256. \n",
    "# # The result is this demo code:\n",
    "# Xexample = tf.placeholder(shape=[None, 256, 16], dtype=tf.float32, name=None)\n",
    "# print(Xexample.shape, Xexample.dtype)\n",
    "# [kernel_width, output_depth, input_depth] = [Xexample.shape[1].value//4, Xexample.shape[2].value//2, \n",
    "#                                              Xexample.shape[2].value]\n",
    "# shape = [kernel_width, output_depth, input_depth] \n",
    "# print(shape)\n",
    "# init_val = tf.random_normal(shape=shape, dtype=tf.float32, mean=0., name=None, stddev=1.)\n",
    "# Wexample = tf.Variable(initial_value=init_val, dtype=tf.float32, name=None, trainable=True)\n",
    "# print(Wexample.shape, Wexample.dtype)\n",
    "# # output shape is based on NWC: batch size, width, and Channels\n",
    "# stride = 4\n",
    "# shape = [1, Xexample.shape[1].value*stride, Wexample.shape[1].value] \n",
    "# print(shape)\n",
    "# Yexample = tf.contrib.nn.conv1d_transpose(value=Xexample, filter=Wexample, output_shape=shape, data_format='NWC',\n",
    "#                                      name=None, stride=4, padding='SAME')\n",
    "# # both paddings 'SAME' or 'VALID' work # any difference?\n",
    "# print(Yexample.shape, Yexample.dtype)\n",
    "\n",
    "# with tf.Session() as sess:\n",
    "#     sess.run(fetches=tf.global_variables_initializer())\n",
    "#     print(Xexample.shape)\n",
    "#     shape = [Yexample.shape[0].value, Xexample.shape[1].value, Xexample.shape[2].value]\n",
    "#     print(shape)\n",
    "#     Xin = np.random.normal(loc=0., scale=1., size=shape) \n",
    "#     Yout = sess.run(fetches=Yexample, feed_dict={Xexample: Xin})\n",
    "#     print(Yout.shape, Yout.dtype)"
   ]
  },
  {
   "cell_type": "code",
   "execution_count": 42,
   "metadata": {},
   "outputs": [
    {
     "name": "stdout",
     "output_type": "stream",
     "text": [
      "(?, 128, 9) <dtype: 'float32'>\n",
      "(32, 9, 18) <dtype: 'float32_ref'>\n",
      "(?, 64, 18) <dtype: 'float32'>\n"
     ]
    }
   ],
   "source": [
    "print(Xin.shape, Xin.dtype)\n",
    "# shape = [kernel_width, input_depth, output_depth] \n",
    "shape = [Xin.shape[1].value//4, Xin.shape[2].value, Xin.shape[2].value*2]\n",
    "init_val = tf.random_normal(dtype=tf.float32, mean=0., name=None, shape=shape, stddev=1.0)\n",
    "W1 = tf.Variable(dtype=tf.float32, initial_value=init_val, name=None, trainable=True)\n",
    "print(W1.shape, W1.dtype)\n",
    "Xconv1 = tf.nn.conv1d(data_format='NWC', filters=W1, name=None, padding='SAME', stride=2, use_cudnn_on_gpu=True, \n",
    "                     value=Xin)\n",
    "Xconv1 = tf.nn.relu(features=Xconv1, name=None)\n",
    "print(Xconv1.shape, Xconv1.dtype)"
   ]
  },
  {
   "cell_type": "code",
   "execution_count": 43,
   "metadata": {},
   "outputs": [
    {
     "name": "stdout",
     "output_type": "stream",
     "text": [
      "(?, 64, 18) <dtype: 'float32'>\n",
      "(16, 18, 36) <dtype: 'float32_ref'>\n",
      "(?, 32, 36) <dtype: 'float32'>\n"
     ]
    }
   ],
   "source": [
    "print(Xconv1.shape, Xconv1.dtype)\n",
    "shape = [Xconv1.shape[1].value//4, Xconv1.shape[2].value, Xconv1.shape[2].value*2]\n",
    "init_val = tf.random_normal(dtype=tf.float32, mean=0., name=None, shape=shape, stddev=1.0)\n",
    "W2 = tf.Variable(dtype=tf.float32, initial_value=init_val, name=None, trainable=True)\n",
    "print(W2.shape, W2.dtype)\n",
    "Xconv2 = tf.nn.conv1d(data_format='NWC', filters=W2, name=None, padding='SAME', stride=2, use_cudnn_on_gpu=True, \n",
    "                     value=Xconv1)\n",
    "Xconv2 = tf.nn.relu(features=Xconv2, name=None)\n",
    "print(Xconv2.shape, Xconv2.dtype)"
   ]
  },
  {
   "cell_type": "code",
   "execution_count": 44,
   "metadata": {},
   "outputs": [
    {
     "name": "stdout",
     "output_type": "stream",
     "text": [
      "(?, 32, 36) <dtype: 'float32'>\n",
      "(8, 36, 72) <dtype: 'float32_ref'>\n",
      "(?, 16, 72) <dtype: 'float32'>\n"
     ]
    }
   ],
   "source": [
    "print(Xconv2.shape, Xconv2.dtype)\n",
    "shape = [Xconv2.shape[1].value//4, Xconv2.shape[2].value, Xconv2.shape[2].value*2]\n",
    "init_val = tf.random_normal(dtype=tf.float32, mean=0., name=None, shape=shape, stddev=1.0)\n",
    "W3 = tf.Variable(dtype=tf.float32, initial_value=init_val, name=None, trainable=True)\n",
    "print(W3.shape, W3.dtype)\n",
    "Xconv3 = tf.nn.conv1d(data_format='NWC', filters=W3, name=None, padding='SAME', stride=2, use_cudnn_on_gpu=True, \n",
    "                     value=Xconv2)\n",
    "Xconv3 = tf.nn.relu(features=Xconv3, name=None)\n",
    "print(Xconv3.shape, Xconv3.dtype)"
   ]
  },
  {
   "cell_type": "code",
   "execution_count": 45,
   "metadata": {},
   "outputs": [
    {
     "name": "stdout",
     "output_type": "stream",
     "text": [
      "(?, 16, 72) <dtype: 'float32'>\n",
      "(8, 36, 72) <dtype: 'float32_ref'>\n",
      "[66, 32, 36]\n",
      "(66, 32, 36) <dtype: 'float32'>\n",
      "(?, 32, 36) <dtype: 'float32'>\n"
     ]
    }
   ],
   "source": [
    "print(Xconv3.shape, Xconv3.dtype)\n",
    "shape = [Xconv2.shape[1].value//4, Xconv2.shape[2].value, Xconv2.shape[2].value*2]\n",
    "init_val = tf.random_normal(dtype=tf.float32, mean=0., name=None, shape=shape, stddev=1.0)\n",
    "W3T = tf.Variable(dtype=tf.float32, initial_value=init_val, name=None, trainable=True)\n",
    "print(W3T.shape, W3T.dtype)\n",
    "# output shape should be NWC equal to Xconv2\n",
    "out_shape = [batch_size, Xconv2.shape[1].value, Xconv2.shape[2].value] # NWC, only N should be set (experimental)\n",
    "print(out_shape)\n",
    "Xconv2_ = tf.contrib.nn.conv1d_transpose(data_format='NWC', filter=W3T, name=None, padding='SAME', stride=2, \n",
    "                                         value=Xconv3, output_shape=out_shape)\n",
    "Xconv2_ = tf.nn.relu(features=Xconv2_, name=None)\n",
    "print(Xconv2_.shape, Xconv2_.dtype)\n",
    "print(Xconv2.shape, Xconv2.dtype)"
   ]
  },
  {
   "cell_type": "code",
   "execution_count": 46,
   "metadata": {},
   "outputs": [
    {
     "name": "stdout",
     "output_type": "stream",
     "text": [
      "(66, 32, 36) <dtype: 'float32'>\n",
      "(16, 18, 36) <dtype: 'float32_ref'>\n",
      "[66, 64, 18]\n",
      "(66, 64, 18) <dtype: 'float32'>\n",
      "(?, 64, 18) <dtype: 'float32'>\n"
     ]
    }
   ],
   "source": [
    "print(Xconv2_.shape, Xconv2_.dtype)\n",
    "shape = [Xconv1.shape[1].value//4, Xconv1.shape[2].value, Xconv1.shape[2].value*2]\n",
    "init_val = tf.random_normal(dtype=tf.float32, mean=0., name=None, shape=shape, stddev=1.0)\n",
    "W2T = tf.Variable(dtype=tf.float32, initial_value=init_val, name=None, trainable=True)\n",
    "print(W2T.shape, W2T.dtype)\n",
    "# output shape should be NWC equal to Xconv1\n",
    "out_shape = [batch_size, Xconv1.shape[1].value, Xconv1.shape[2].value] # NWC, only N should be set (experimental)\n",
    "print(out_shape)\n",
    "Xconv1_ = tf.contrib.nn.conv1d_transpose(data_format='NWC', filter=W2T, name=None, padding='SAME', stride=2, \n",
    "                                         value=Xconv2_, output_shape=out_shape)\n",
    "Xconv1_ = tf.nn.relu(features=Xconv1_, name=None)\n",
    "print(Xconv1_.shape, Xconv1_.dtype)\n",
    "print(Xconv1.shape, Xconv1.dtype)"
   ]
  },
  {
   "cell_type": "code",
   "execution_count": 49,
   "metadata": {},
   "outputs": [
    {
     "name": "stdout",
     "output_type": "stream",
     "text": [
      "(66, 64, 18) <dtype: 'float32'>\n",
      "(32, 9, 18) <dtype: 'float32_ref'>\n",
      "[66, 128, 9]\n",
      "(66, 128, 9) <dtype: 'float32'>\n",
      "(?, 128, 9) <dtype: 'float32'>\n"
     ]
    }
   ],
   "source": [
    "print(Xconv1_.shape, Xconv1_.dtype)\n",
    "shape = [Xin.shape[1].value//4, Xin.shape[2].value, Xin.shape[2].value*2]\n",
    "init_val = tf.random_normal(dtype=tf.float32, mean=0., name=None, shape=shape, stddev=1.0)\n",
    "W1T = tf.Variable(dtype=tf.float32, initial_value=init_val, name=None, trainable=True)\n",
    "print(W1T.shape, W1T.dtype)\n",
    "# output shape should be NWC equal to Xin\n",
    "out_shape = [batch_size, Xin.shape[1].value, Xin.shape[2].value] # NWC, only N should be set (experimental)\n",
    "print(out_shape)\n",
    "Xout = tf.contrib.nn.conv1d_transpose(data_format='NWC', filter=W1T, name=None, padding='SAME', stride=2, \n",
    "                                         value=Xconv1_, output_shape=out_shape)\n",
    "# Xin_ = tf.nn.relu(features=Xin_, name=None)\n",
    "print(Xout.shape, Xout.dtype)\n",
    "print(Xin.shape, Xin.dtype)"
   ]
  },
  {
   "cell_type": "code",
   "execution_count": 50,
   "metadata": {},
   "outputs": [
    {
     "name": "stdout",
     "output_type": "stream",
     "text": [
      "(66, 128, 9) <dtype: 'float32'>\n",
      "() <dtype: 'float32'>\n",
      "optimizer name: \"Adam_3\"\n",
      "op: \"NoOp\"\n",
      "input: \"^Adam_3/update_Variable_12/ApplyAdam\"\n",
      "input: \"^Adam_3/update_Variable_13/ApplyAdam\"\n",
      "input: \"^Adam_3/update_Variable_14/ApplyAdam\"\n",
      "input: \"^Adam_3/update_Variable_15/ApplyAdam\"\n",
      "input: \"^Adam_3/update_Variable_16/ApplyAdam\"\n",
      "input: \"^Adam_3/update_Variable_19/ApplyAdam\"\n",
      "input: \"^Adam_3/Assign\"\n",
      "input: \"^Adam_3/Assign_1\"\n",
      "\n"
     ]
    }
   ],
   "source": [
    "# Backward pass: error backpropagation\n",
    "# Cost function\n",
    "# cost_tensor = tf.nn.softmax_cross_entropy_with_logits(logits=logits, labels=labels_)\n",
    "cost_tensor = tf.nn.sigmoid_cross_entropy_with_logits(labels=Xin, logits=Xout, name=None)\n",
    "print(cost_tensor.shape, cost_tensor.dtype)\n",
    "cost = tf.reduce_mean(input_tensor=cost_tensor)\n",
    "cost = tf.abs(name=None, x=cost)\n",
    "print(cost.shape, cost.dtype)\n",
    "\n",
    "# Optimizer\n",
    "optimizer = tf.train.AdamOptimizer(learning_rate=learning_rate_).minimize(cost)\n",
    "print('optimizer', optimizer)"
   ]
  },
  {
   "cell_type": "code",
   "execution_count": 52,
   "metadata": {
    "scrolled": true
   },
   "outputs": [
    {
     "name": "stdout",
     "output_type": "stream",
     "text": [
      "Epoch: 1/100 Train loss: 922495.687500 Valid loss: 932820.875000\n",
      "Epoch: 2/100 Train loss: 707970.500000 Valid loss: 715640.312500\n",
      "Epoch: 3/100 Train loss: 563612.000000 Valid loss: 569524.375000\n",
      "Epoch: 4/100 Train loss: 455472.312500 Valid loss: 460006.312500\n",
      "Epoch: 5/100 Train loss: 371090.187500 Valid loss: 376383.593750\n",
      "Epoch: 6/100 Train loss: 314066.031250 Valid loss: 319681.812500\n",
      "Epoch: 7/100 Train loss: 273076.656250 Valid loss: 278923.125000\n",
      "Epoch: 8/100 Train loss: 242141.343750 Valid loss: 248159.500000\n",
      "Epoch: 9/100 Train loss: 217934.109375 Valid loss: 224071.437500\n",
      "Epoch: 10/100 Train loss: 198436.984375 Valid loss: 204666.265625\n",
      "Epoch: 11/100 Train loss: 182402.796875 Valid loss: 188689.078125\n",
      "Epoch: 12/100 Train loss: 168927.296875 Valid loss: 175269.046875\n",
      "Epoch: 13/100 Train loss: 157446.078125 Valid loss: 163834.453125\n",
      "Epoch: 14/100 Train loss: 147528.531250 Valid loss: 153950.625000\n",
      "Epoch: 15/100 Train loss: 138875.500000 Valid loss: 145326.171875\n",
      "Epoch: 16/100 Train loss: 131249.062500 Valid loss: 137725.625000\n",
      "Epoch: 17/100 Train loss: 124469.656250 Valid loss: 130968.156250\n",
      "Epoch: 18/100 Train loss: 118400.726562 Valid loss: 124921.757812\n",
      "Epoch: 19/100 Train loss: 112930.406250 Valid loss: 119469.335938\n",
      "Epoch: 20/100 Train loss: 107980.593750 Valid loss: 114533.820312\n",
      "Epoch: 21/100 Train loss: 103479.515625 Valid loss: 110035.023438\n",
      "Epoch: 22/100 Train loss: 99354.570312 Valid loss: 105915.390625\n",
      "Epoch: 23/100 Train loss: 95560.679688 Valid loss: 102124.773438\n",
      "Epoch: 24/100 Train loss: 92058.625000 Valid loss: 98624.335938\n",
      "Epoch: 25/100 Train loss: 88817.289062 Valid loss: 95384.835938\n",
      "Epoch: 26/100 Train loss: 85802.085938 Valid loss: 92375.304688\n",
      "Epoch: 27/100 Train loss: 82996.351562 Valid loss: 89569.875000\n",
      "Epoch: 28/100 Train loss: 80371.000000 Valid loss: 86947.664062\n",
      "Epoch: 29/100 Train loss: 77912.023438 Valid loss: 84491.203125\n",
      "Epoch: 30/100 Train loss: 75602.359375 Valid loss: 82184.617188\n",
      "Epoch: 31/100 Train loss: 73438.093750 Valid loss: 80018.437500\n",
      "Epoch: 32/100 Train loss: 71397.031250 Valid loss: 77976.609375\n",
      "Epoch: 33/100 Train loss: 69467.882812 Valid loss: 76048.750000\n",
      "Epoch: 34/100 Train loss: 67644.984375 Valid loss: 74223.281250\n",
      "Epoch: 35/100 Train loss: 65916.984375 Valid loss: 72493.367188\n",
      "Epoch: 36/100 Train loss: 64275.511719 Valid loss: 70853.070312\n",
      "Epoch: 37/100 Train loss: 62714.984375 Valid loss: 69296.742188\n",
      "Epoch: 38/100 Train loss: 61234.164062 Valid loss: 67815.890625\n",
      "Epoch: 39/100 Train loss: 59824.210938 Valid loss: 66402.406250\n",
      "Epoch: 40/100 Train loss: 58477.261719 Valid loss: 65054.246094\n",
      "Epoch: 41/100 Train loss: 57186.425781 Valid loss: 63766.351562\n",
      "Epoch: 42/100 Train loss: 55956.382812 Valid loss: 62534.644531\n",
      "Epoch: 43/100 Train loss: 54785.621094 Valid loss: 61356.093750\n",
      "Epoch: 44/100 Train loss: 53660.792969 Valid loss: 60225.332031\n",
      "Epoch: 45/100 Train loss: 52579.648438 Valid loss: 59140.691406\n",
      "Epoch: 46/100 Train loss: 51540.773438 Valid loss: 58099.000000\n",
      "Epoch: 47/100 Train loss: 50542.726562 Valid loss: 57097.277344\n",
      "Epoch: 48/100 Train loss: 49583.839844 Valid loss: 56133.601562\n",
      "Epoch: 49/100 Train loss: 48662.269531 Valid loss: 55208.000000\n",
      "Epoch: 50/100 Train loss: 47773.347656 Valid loss: 54316.222656\n",
      "Epoch: 51/100 Train loss: 46915.292969 Valid loss: 53455.210938\n",
      "Epoch: 52/100 Train loss: 46087.515625 Valid loss: 52624.136719\n",
      "Epoch: 53/100 Train loss: 45289.843750 Valid loss: 51822.460938\n",
      "Epoch: 54/100 Train loss: 44519.367188 Valid loss: 51048.925781\n",
      "Epoch: 55/100 Train loss: 43771.503906 Valid loss: 50300.566406\n",
      "Epoch: 56/100 Train loss: 43048.097656 Valid loss: 49577.085938\n",
      "Epoch: 57/100 Train loss: 42349.726562 Valid loss: 48877.050781\n",
      "Epoch: 58/100 Train loss: 41676.011719 Valid loss: 48199.140625\n",
      "Epoch: 59/100 Train loss: 41020.703125 Valid loss: 47541.238281\n",
      "Epoch: 60/100 Train loss: 40384.964844 Valid loss: 46904.476562\n",
      "Epoch: 61/100 Train loss: 39779.218750 Valid loss: 46286.886719\n",
      "Epoch: 62/100 Train loss: 39197.593750 Valid loss: 45689.250000\n",
      "Epoch: 63/100 Train loss: 38619.671875 Valid loss: 45107.601562\n",
      "Epoch: 64/100 Train loss: 38071.917969 Valid loss: 44544.019531\n",
      "Epoch: 65/100 Train loss: 37528.832031 Valid loss: 43995.875000\n",
      "Epoch: 66/100 Train loss: 37003.503906 Valid loss: 43464.136719\n",
      "Epoch: 67/100 Train loss: 36487.117188 Valid loss: 42946.210938\n",
      "Epoch: 68/100 Train loss: 35984.031250 Valid loss: 42441.910156\n",
      "Epoch: 69/100 Train loss: 35497.687500 Valid loss: 41951.511719\n",
      "Epoch: 70/100 Train loss: 35020.558594 Valid loss: 41473.847656\n",
      "Epoch: 71/100 Train loss: 34556.007812 Valid loss: 41009.207031\n",
      "Epoch: 72/100 Train loss: 34103.972656 Valid loss: 40556.285156\n",
      "Epoch: 73/100 Train loss: 33661.347656 Valid loss: 40115.058594\n",
      "Epoch: 74/100 Train loss: 33231.472656 Valid loss: 39684.519531\n",
      "Epoch: 75/100 Train loss: 32814.261719 Valid loss: 39265.253906\n",
      "Epoch: 76/100 Train loss: 32407.021484 Valid loss: 38857.789062\n",
      "Epoch: 77/100 Train loss: 32008.996094 Valid loss: 38460.562500\n",
      "Epoch: 78/100 Train loss: 31618.423828 Valid loss: 38072.664062\n",
      "Epoch: 79/100 Train loss: 31238.779297 Valid loss: 37695.257812\n",
      "Epoch: 80/100 Train loss: 30870.101562 Valid loss: 37326.910156\n",
      "Epoch: 81/100 Train loss: 30511.388672 Valid loss: 36965.539062\n",
      "Epoch: 82/100 Train loss: 30167.193359 Valid loss: 36613.308594\n",
      "Epoch: 83/100 Train loss: 29834.332031 Valid loss: 36270.140625\n",
      "Epoch: 84/100 Train loss: 29499.394531 Valid loss: 35932.667969\n",
      "Epoch: 85/100 Train loss: 29174.673828 Valid loss: 35603.640625\n",
      "Epoch: 86/100 Train loss: 28854.554688 Valid loss: 35282.355469\n",
      "Epoch: 87/100 Train loss: 28542.427734 Valid loss: 34967.585938\n",
      "Epoch: 88/100 Train loss: 28231.558594 Valid loss: 34659.335938\n",
      "Epoch: 89/100 Train loss: 27938.361328 Valid loss: 34360.375000\n",
      "Epoch: 90/100 Train loss: 27648.925781 Valid loss: 34067.570312\n",
      "Epoch: 91/100 Train loss: 27368.271484 Valid loss: 33780.757812\n",
      "Epoch: 92/100 Train loss: 27092.007812 Valid loss: 33500.406250\n",
      "Epoch: 93/100 Train loss: 26815.177734 Valid loss: 33223.816406\n",
      "Epoch: 94/100 Train loss: 26550.515625 Valid loss: 32954.421875\n",
      "Epoch: 95/100 Train loss: 26293.578125 Valid loss: 32690.068359\n",
      "Epoch: 96/100 Train loss: 26044.335938 Valid loss: 32430.939453\n",
      "Epoch: 97/100 Train loss: 25791.378906 Valid loss: 32175.966797\n",
      "Epoch: 98/100 Train loss: 25538.443359 Valid loss: 31925.880859\n",
      "Epoch: 99/100 Train loss: 25290.222656 Valid loss: 31680.236328\n",
      "Epoch: 100/100 Train loss: 25054.058594 Valid loss: 31439.818359\n"
     ]
    }
   ],
   "source": [
    "# Save the training result or trained and validated model params\n",
    "saver = tf.train.Saver()\n",
    "train_loss, valid_loss = [], []\n",
    "\n",
    "with tf.Session() as sess:\n",
    "    # my assumption is the local variables are the parameters and hyperparameters\n",
    "    # the globala variables are the one needed/required by the seession/graph to run\n",
    "    sess.run(fetches=tf.global_variables_initializer())\n",
    "   \n",
    "    # Loop over epochs\n",
    "    for e in range(epochs):\n",
    "        \n",
    "        # Loop over batches\n",
    "        for X_train_norm_batch, _ in get_batches(X_train_norm, Y_train_onehot, batch_size):\n",
    "            \n",
    "            ######################## Training\n",
    "            # Feed dictionary\n",
    "            feed = {Xin : X_train_norm_batch, keep_prob_ : 0.95, learning_rate_ : learning_rate}\n",
    "            \n",
    "            # Loss\n",
    "            loss, _ = sess.run(fetches=[cost, optimizer], feed_dict = feed)\n",
    "            train_loss.append(loss)\n",
    "\n",
    "            ################## Validation\n",
    "            loss_batch = []    \n",
    "            # Loop over batches\n",
    "            for X_valid_norm_batch, _ in get_batches(X_valid_norm, Y_valid_onehot, batch_size):\n",
    "\n",
    "                # Feed dictionary\n",
    "                feed = {Xin : X_valid_norm_batch, keep_prob_ : 1.0} \n",
    "                # no learning is needed therefore no learning rate is needed.\n",
    "\n",
    "                # Loss\n",
    "                loss = sess.run(fetches=[cost], feed_dict = feed)\n",
    "                # no learning is needed therefore no learning rate is needed.\n",
    "                # Therefore no optimization approach or backprop is needed either.\n",
    "                loss_batch.append(loss)\n",
    "\n",
    "            # Store\n",
    "            valid_loss.append(np.mean(loss_batch))\n",
    "            \n",
    "        # Print info for every iter/epoch\n",
    "        print(\"Epoch: {}/{}\".format(e+1, epochs),\n",
    "              \"Train loss: {:6f}\".format(np.mean(train_loss)),\n",
    "              \"Valid loss: {:.6f}\".format(np.mean(valid_loss)))\n",
    "                \n",
    "    saver.save(sess,\"checkpoints/cnn-har-TEST.ckpt\")"
   ]
  },
  {
   "cell_type": "code",
   "execution_count": 54,
   "metadata": {},
   "outputs": [
    {
     "data": {
      "image/png": "[encoded data removed]",
      "text/plain": [
       "<Figure size 432x288 with 1 Axes>"
      ]
     },
     "metadata": {},
     "output_type": "display_data"
    }
   ],
   "source": [
    "import matplotlib.pyplot as mplot\n",
    "%matplotlib inline\n",
    "\n",
    "mplot.plot(train_loss, label='har train_loss')\n",
    "mplot.plot(valid_loss, label='har valid_loss')\n",
    "mplot.legend()\n",
    "mplot.show()"
   ]
  },
  {
   "cell_type": "code",
   "execution_count": 56,
   "metadata": {},
   "outputs": [
    {
     "name": "stdout",
     "output_type": "stream",
     "text": [
      "INFO:tensorflow:Restoring parameters from checkpoints/cnn-har-TEST.ckpt\n",
      "Test loss: 32326.398438\n"
     ]
    }
   ],
   "source": [
    "# initilize the saver which has already been initialized.\n",
    "test_loss = []\n",
    "\n",
    "with tf.Session() as sess:\n",
    "    # Restore the validated model\n",
    "    saver.restore(sess, tf.train.latest_checkpoint('checkpoints'))\n",
    "    \n",
    "    ################## Test\n",
    "    loss_batch = []    \n",
    "    # Loop over batches\n",
    "    for X_test_norm_batch, _ in get_batches(X_test_norm, Y_test_onehot, batch_size):\n",
    "\n",
    "        # Feed dictionary\n",
    "        # No learning/training is needed at this step\n",
    "        feed = {Xin: X_test_norm_batch, keep_prob_ : 1.0}\n",
    "\n",
    "        # Loss\n",
    "        # Only the computation of the cost is needed\n",
    "        loss = sess.run(fetches=[cost], feed_dict = feed)\n",
    "        loss_batch.append(loss)\n",
    "\n",
    "    # Store\n",
    "    test_loss.append(np.mean(loss_batch))\n",
    "\n",
    "    # Print info for every iter/epoch\n",
    "    print(\"Test loss: {:6f}\".format(np.mean(test_loss)))"
   ]
  },
  {
   "cell_type": "code",
   "execution_count": null,
   "metadata": {},
   "outputs": [],
   "source": []
  }
 ],
 "metadata": {
  "kernelspec": {
   "display_name": "Python 3",
   "language": "python",
   "name": "python3"
  },
  "language_info": {
   "codemirror_mode": {
    "name": "ipython",
    "version": 3
   },
   "file_extension": ".py",
   "mimetype": "text/x-python",
   "name": "python",
   "nbconvert_exporter": "python",
   "pygments_lexer": "ipython3",
   "version": "3.6.5"
  },
  "widgets": {
   "state": {},
   "version": "1.1.2"
  }
 },
 "nbformat": 4,
 "nbformat_minor": 2
}
