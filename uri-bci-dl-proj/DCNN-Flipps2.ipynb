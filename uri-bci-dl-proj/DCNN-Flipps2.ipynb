{
 "cells": [
  {
   "cell_type": "markdown",
   "metadata": {},
   "source": [
    "# Input data"
   ]
  },
  {
   "cell_type": "code",
   "execution_count": 1,
   "metadata": {},
   "outputs": [],
   "source": [
    "import scipy.io as spio\n",
    "import numpy as np"
   ]
  },
  {
   "cell_type": "code",
   "execution_count": 2,
   "metadata": {},
   "outputs": [],
   "source": [
    "# Reading the data for the Face from all the subjects\n",
    "BahramFlipp = spio.loadmat(file_name='../data/bci-project-data-RAW/BahramFlipp.mat')\n",
    "DJFlipp = spio.loadmat(file_name='../data/bci-project-data-RAW/DJFlipp.mat')\n",
    "NickFlipp = spio.loadmat(file_name='../data/bci-project-data-RAW/NickFlipp.mat')\n",
    "RoohiFlipp = spio.loadmat(file_name='../data/bci-project-data-RAW/RoohiFlipp.mat')\n",
    "SarahFlipp = spio.loadmat(file_name='../data/bci-project-data-RAW/SarahFlipp.mat')"
   ]
  },
  {
   "cell_type": "code",
   "execution_count": 3,
   "metadata": {},
   "outputs": [
    {
     "data": {
      "text/plain": [
       "1134"
      ]
     },
     "execution_count": 3,
     "metadata": {},
     "output_type": "execute_result"
    }
   ],
   "source": [
    "# Deviding the input data into train and test\n",
    "# For creating the training and testing set, \n",
    "# 30% percent of each subject is considered as test and\n",
    "# 70% of each subject is conidered as training.\n",
    "length = int(BahramFlipp['Intensification_Data'].shape[0] * 0.30)\n",
    "length"
   ]
  },
  {
   "cell_type": "code",
   "execution_count": 4,
   "metadata": {},
   "outputs": [],
   "source": [
    "FlippsDataAll = np.vstack(tup=(BahramFlipp['Intensification_Data'][:], \n",
    "                       DJFlipp['Intensification_Data'][:], \n",
    "                       NickFlipp['Intensification_Data'][:],\n",
    "                      RoohiFlipp['Intensification_Data'][:],\n",
    "                      SarahFlipp['Intensification_Data'][:]))\n",
    "\n",
    "FlippsDataTrainAll = np.vstack(tup=(BahramFlipp['Intensification_Data'][:-length], \n",
    "                       DJFlipp['Intensification_Data'][:-length], \n",
    "                       NickFlipp['Intensification_Data'][:-length],\n",
    "                      RoohiFlipp['Intensification_Data'][:-length],\n",
    "                      SarahFlipp['Intensification_Data'][:-length]))\n",
    "\n",
    "FlippsDataTest = np.vstack(tup=(BahramFlipp['Intensification_Data'][-length:], \n",
    "                       DJFlipp['Intensification_Data'][-length:], \n",
    "                       NickFlipp['Intensification_Data'][-length:],\n",
    "                      RoohiFlipp['Intensification_Data'][-length:],\n",
    "                      SarahFlipp['Intensification_Data'][-length:]))"
   ]
  },
  {
   "cell_type": "code",
   "execution_count": 5,
   "metadata": {},
   "outputs": [
    {
     "data": {
      "text/plain": [
       "((18900, 205, 16),\n",
       " dtype('<f8'),\n",
       " (5670, 205, 16),\n",
       " dtype('<f8'),\n",
       " (13230, 205, 16),\n",
       " dtype('<f8'))"
      ]
     },
     "execution_count": 5,
     "metadata": {},
     "output_type": "execute_result"
    }
   ],
   "source": [
    "(FlippsDataAll.shape, FlippsDataAll.dtype,\n",
    " FlippsDataTest.shape, FlippsDataTest.dtype, \n",
    " FlippsDataTrainAll.shape, FlippsDataTrainAll.dtype)"
   ]
  },
  {
   "cell_type": "code",
   "execution_count": 6,
   "metadata": {},
   "outputs": [],
   "source": [
    "BahramFlippDataTrain = BahramFlipp['Intensification_Data'][:-length]\n",
    "DJFlippDataTrain = DJFlipp['Intensification_Data'][:-length]\n",
    "NickFlippDataTrain = NickFlipp['Intensification_Data'][:-length]\n",
    "RoohiFlippDataTrain = RoohiFlipp['Intensification_Data'][:-length]\n",
    "SarahFlippDataTrain = SarahFlipp['Intensification_Data'][:-length]"
   ]
  },
  {
   "cell_type": "code",
   "execution_count": 7,
   "metadata": {},
   "outputs": [
    {
     "data": {
      "text/plain": [
       "793"
      ]
     },
     "execution_count": 7,
     "metadata": {},
     "output_type": "execute_result"
    }
   ],
   "source": [
    "# 30% of the training is validation.\n",
    "# This is applied to every single subject data.\n",
    "length2 = int(BahramFlippDataTrain.shape[0] * 0.30)\n",
    "length2"
   ]
  },
  {
   "cell_type": "code",
   "execution_count": 8,
   "metadata": {},
   "outputs": [],
   "source": [
    "FlippsDataTrain = np.vstack(tup=(BahramFlippDataTrain[:-length2], \n",
    "                       DJFlippDataTrain[:-length2], \n",
    "                       NickFlippDataTrain[:-length2],\n",
    "                      RoohiFlippDataTrain[:-length2],\n",
    "                      SarahFlippDataTrain[:-length2]))\n",
    "\n",
    "FlippsDataValid = np.vstack(tup=(BahramFlippDataTrain[-length2:], \n",
    "                       DJFlippDataTrain[-length2:],\n",
    "                       NickFlippDataTrain[-length2:],\n",
    "                      RoohiFlippDataTrain[-length2:],\n",
    "                      SarahFlippDataTrain[-length2:]))"
   ]
  },
  {
   "cell_type": "code",
   "execution_count": 9,
   "metadata": {},
   "outputs": [
    {
     "data": {
      "text/plain": [
       "((13230, 205, 16),\n",
       " dtype('<f8'),\n",
       " (9265, 205, 16),\n",
       " dtype('<f8'),\n",
       " (3965, 205, 16),\n",
       " dtype('<f8'))"
      ]
     },
     "execution_count": 9,
     "metadata": {},
     "output_type": "execute_result"
    }
   ],
   "source": [
    "(FlippsDataTrainAll.shape, FlippsDataTrainAll.dtype, \n",
    " FlippsDataTrain.shape, FlippsDataTrain.dtype, \n",
    " FlippsDataValid.shape, FlippsDataValid.dtype)"
   ]
  },
  {
   "cell_type": "code",
   "execution_count": 10,
   "metadata": {},
   "outputs": [],
   "source": [
    "FlippsLabelAll = np.vstack(tup=(BahramFlipp['Intensification_Label'][:], \n",
    "                       DJFlipp['Intensification_Label'][:], \n",
    "                       NickFlipp['Intensification_Label'][:],\n",
    "                      RoohiFlipp['Intensification_Label'][:],\n",
    "                      SarahFlipp['Intensification_Label'][:]))\n",
    "\n",
    "FlippsLabelTrainAll = np.vstack(tup=(BahramFlipp['Intensification_Label'][:-length], \n",
    "                       DJFlipp['Intensification_Label'][:-length], \n",
    "                       NickFlipp['Intensification_Label'][:-length],\n",
    "                      RoohiFlipp['Intensification_Label'][:-length],\n",
    "                      SarahFlipp['Intensification_Label'][:-length]))\n",
    "\n",
    "FlippsLabelTest = np.vstack(tup=(BahramFlipp['Intensification_Label'][-length:], \n",
    "                       DJFlipp['Intensification_Label'][-length:], \n",
    "                       NickFlipp['Intensification_Label'][-length:],\n",
    "                      RoohiFlipp['Intensification_Label'][-length:],\n",
    "                      SarahFlipp['Intensification_Label'][-length:]))"
   ]
  },
  {
   "cell_type": "code",
   "execution_count": 11,
   "metadata": {},
   "outputs": [
    {
     "data": {
      "text/plain": [
       "((18900, 1),\n",
       " dtype('uint8'),\n",
       " (5670, 1),\n",
       " dtype('uint8'),\n",
       " (13230, 205, 16),\n",
       " dtype('<f8'))"
      ]
     },
     "execution_count": 11,
     "metadata": {},
     "output_type": "execute_result"
    }
   ],
   "source": [
    "(FlippsLabelAll.shape, FlippsLabelAll.dtype,\n",
    " FlippsLabelTest.shape, FlippsLabelTest.dtype, \n",
    " FlippsDataTrainAll.shape, FlippsDataTrainAll.dtype)"
   ]
  },
  {
   "cell_type": "code",
   "execution_count": 12,
   "metadata": {},
   "outputs": [],
   "source": [
    "BahramFlippLabelTrain = BahramFlipp['Intensification_Label'][:-length]\n",
    "DJFlippLabelTrain = DJFlipp['Intensification_Label'][:-length]\n",
    "NickFlippLabelTrain = NickFlipp['Intensification_Label'][:-length]\n",
    "RoohiFlippLabelTrain = RoohiFlipp['Intensification_Label'][:-length]\n",
    "SarahFlippLabelTrain = SarahFlipp['Intensification_Label'][:-length]"
   ]
  },
  {
   "cell_type": "code",
   "execution_count": 13,
   "metadata": {},
   "outputs": [],
   "source": [
    "FlippsLabelTrain = np.vstack(tup=(BahramFlippLabelTrain[:-length2], \n",
    "                       DJFlippLabelTrain[:-length2], \n",
    "                       NickFlippLabelTrain[:-length2],\n",
    "                      RoohiFlippLabelTrain[:-length2],\n",
    "                      SarahFlippLabelTrain[:-length2]))\n",
    "\n",
    "FlippsLabelValid = np.vstack(tup=(BahramFlippLabelTrain[-length2:], \n",
    "                       DJFlippLabelTrain[-length2:], \n",
    "                       NickFlippLabelTrain[-length2:],\n",
    "                      RoohiFlippLabelTrain[-length2:],\n",
    "                      SarahFlippLabelTrain[-length2:]))"
   ]
  },
  {
   "cell_type": "code",
   "execution_count": 14,
   "metadata": {},
   "outputs": [],
   "source": [
    "# # Normalizing input data\n",
    "# def normalize(inputs, inputs_all):\n",
    "#     return (inputs - inputs_all.mean(axis=0)[None,:,:]) / inputs_all.std(axis=0)[None,:,:]\n",
    "# Yalda suggested this normalization.\n",
    "def normalize(inputs):\n",
    "    return (inputs - inputs.mean(axis=0)[None,:,:]) / inputs.std(axis=0)[None,:,:]\n",
    "\n",
    "# onehot vectorizing output labels\n",
    "def one_hot(labels, n_class):\n",
    "    \"\"\" One-hot encoding \"\"\"\n",
    "    expansion = np.eye(n_class)\n",
    "    y = expansion[:, labels-1].T\n",
    "    assert y.shape[1] == n_class, \"Wrong number of labels!\"\n",
    "\n",
    "    return y\n",
    "\n",
    "# get minibatches for learning\n",
    "def get_batches(X, y, batch_size):\n",
    "    \"\"\" Return a generator for batches \"\"\"\n",
    "    n_batches = len(X) // batch_size\n",
    "    X, y = X[:n_batches*batch_size], y[:n_batches*batch_size]\n",
    "\n",
    "    # Loop over batches and yield\n",
    "    for b in range(0, len(X), batch_size):\n",
    "        yield X[b:b+batch_size], y[b:b+batch_size]"
   ]
  },
  {
   "cell_type": "code",
   "execution_count": 15,
   "metadata": {},
   "outputs": [],
   "source": [
    "# Standardize/normalize train and test\n",
    "# X_train_norm_all = normalize(inputs=FacesDataTrain, inputs_all=FacesDataAll)\n",
    "X_train_norm = normalize(inputs=FlippsDataTrain)\n",
    "X_valid_norm = normalize(inputs=FlippsDataValid)\n",
    "X_test_norm = normalize(inputs=FlippsDataTest)"
   ]
  },
  {
   "cell_type": "code",
   "execution_count": 16,
   "metadata": {},
   "outputs": [
    {
     "data": {
      "text/plain": [
       "((9265, 205, 16),\n",
       " dtype('<f8'),\n",
       " (3965, 205, 16),\n",
       " dtype('<f8'),\n",
       " (5670, 205, 16),\n",
       " dtype('<f8'))"
      ]
     },
     "execution_count": 16,
     "metadata": {},
     "output_type": "execute_result"
    }
   ],
   "source": [
    "(X_train_norm.shape, X_train_norm.dtype, \n",
    "X_valid_norm.shape, X_valid_norm.dtype,\n",
    "X_test_norm.shape, X_test_norm.dtype)"
   ]
  },
  {
   "cell_type": "markdown",
   "metadata": {},
   "source": [
    "### Hyperparameters"
   ]
  },
  {
   "cell_type": "code",
   "execution_count": 17,
   "metadata": {},
   "outputs": [],
   "source": [
    "# Input data\n",
    "batch_size = X_train_norm.shape[0]// 100 # minibatch size & number of minibatches\n",
    "seq_len = X_train_norm.shape[1] # Number of steps: each trial length\n",
    "n_channels = X_train_norm.shape[2] # number of channels in each trial\n",
    "\n",
    "# Output labels\n",
    "n_classes = int(FlippsLabelAll.max() + 1)\n",
    "\n",
    "# Tweekable parameters\n",
    "learning_rate = 0.001 #1e-3\n",
    "epochs = 1 # num iterations for updating model\n",
    "keep_prob = 0.50 # 90% neurons are kept and 10% are dropped out"
   ]
  },
  {
   "cell_type": "code",
   "execution_count": 18,
   "metadata": {},
   "outputs": [],
   "source": [
    "Y_train = np.array(FlippsLabelTrain, dtype=int).reshape(-1)\n",
    "Y_valid = np.array(FlippsLabelValid, dtype=int).reshape(-1)\n",
    "Y_test = np.array(FlippsLabelTest, dtype=int).reshape(-1)"
   ]
  },
  {
   "cell_type": "code",
   "execution_count": 19,
   "metadata": {},
   "outputs": [],
   "source": [
    "Y_train_onehot = one_hot(labels=Y_train, n_class=n_classes)\n",
    "Y_valid_onehot = one_hot(labels=Y_valid, n_class=n_classes)\n",
    "Y_test_onehot = one_hot(labels=Y_test, n_class=n_classes)"
   ]
  },
  {
   "cell_type": "code",
   "execution_count": 20,
   "metadata": {},
   "outputs": [
    {
     "data": {
      "text/plain": [
       "((9265, 2),\n",
       " (3965, 2),\n",
       " (5670, 2),\n",
       " (9265, 205, 16),\n",
       " (3965, 205, 16),\n",
       " (5670, 205, 16))"
      ]
     },
     "execution_count": 20,
     "metadata": {},
     "output_type": "execute_result"
    }
   ],
   "source": [
    "(Y_train_onehot.shape, Y_valid_onehot.shape, Y_test_onehot.shape, \n",
    " X_train_norm.shape, X_valid_norm.shape, X_test_norm.shape)"
   ]
  },
  {
   "cell_type": "code",
   "execution_count": 21,
   "metadata": {},
   "outputs": [
    {
     "data": {
      "text/plain": [
       "(dtype('float64'),\n",
       " dtype('float64'),\n",
       " dtype('float64'),\n",
       " dtype('<f8'),\n",
       " dtype('<f8'),\n",
       " dtype('<f8'))"
      ]
     },
     "execution_count": 21,
     "metadata": {},
     "output_type": "execute_result"
    }
   ],
   "source": [
    "(Y_train_onehot.dtype, Y_valid_onehot.dtype, Y_test_onehot.dtype,\n",
    " X_train_norm.dtype, X_valid_norm.dtype, X_test_norm.dtype)"
   ]
  },
  {
   "cell_type": "markdown",
   "metadata": {},
   "source": [
    "# GPUs or CPU"
   ]
  },
  {
   "cell_type": "code",
   "execution_count": 22,
   "metadata": {},
   "outputs": [
    {
     "name": "stdout",
     "output_type": "stream",
     "text": [
      "TensorFlow Version: 1.3.0\n",
      "Default GPU Device: /gpu:0\n"
     ]
    }
   ],
   "source": [
    "\"\"\"\n",
    "DON'T MODIFY ANYTHING IN THIS CELL\n",
    "\"\"\"\n",
    "from distutils.version import LooseVersion\n",
    "import warnings\n",
    "import tensorflow as tf\n",
    "\n",
    "# Check TensorFlow Version\n",
    "assert LooseVersion(tf.__version__) >= LooseVersion('1.0'), 'Please use TensorFlow version 1.0 or newer.  You are using {}'.format(tf.__version__)\n",
    "print('TensorFlow Version: {}'.format(tf.__version__))\n",
    "\n",
    "# Check for a GPU\n",
    "if not tf.test.gpu_device_name():\n",
    "    warnings.warn('No GPU found. Please use a GPU to train your neural network.')\n",
    "else:\n",
    "    print('Default GPU Device: {}'.format(tf.test.gpu_device_name()))"
   ]
  },
  {
   "cell_type": "code",
   "execution_count": 23,
   "metadata": {},
   "outputs": [],
   "source": [
    "#  No graphs is needed on tensorflow\n",
    "inputs_ = tf.placeholder(tf.float32, [None, seq_len, n_channels], name = 'inputs_')\n",
    "labels_ = tf.placeholder(tf.float32, [None, n_classes], name = 'labels_')\n",
    "keep_prob_ = tf.placeholder(tf.float32, name = 'keep_prob_')\n",
    "learning_rate_ = tf.placeholder(tf.float32, name = 'learning_rate_')"
   ]
  },
  {
   "cell_type": "markdown",
   "metadata": {},
   "source": [
    "# Forward pass: Convolutional Layers, FC Layer, and Output layer"
   ]
  },
  {
   "cell_type": "code",
   "execution_count": 24,
   "metadata": {},
   "outputs": [
    {
     "name": "stdout",
     "output_type": "stream",
     "text": [
      "(?, 101, 32)\n",
      "(?, 49, 64)\n",
      "(?, 3136) (?, 6272)\n",
      "(?, 2)\n"
     ]
    }
   ],
   "source": [
    "# (batch, 205, 16) --> (batch, 101, 32)\n",
    "# (205 - 5 + 0)/2 + 1 = 100+1= 101\n",
    "# 2/5 with strides/kernel_size is 40% non-overlap/diff region and 60% overlapping window/ common region\n",
    "in_conv = inputs_\n",
    "out_conv = tf.layers.conv1d(inputs=in_conv, filters=32, kernel_size=5, strides=2, padding='valid')\n",
    "out_conv = tf.layers.batch_normalization(inputs=out_conv)\n",
    "out_conv = tf.nn.relu(features=out_conv)\n",
    "out_conv = tf.nn.dropout(x=out_conv, keep_prob=keep_prob_)\n",
    "print(out_conv.shape)\n",
    "\n",
    "# (batch, 101, 32) --> (batch, 49, 64)\n",
    "# (101 - 5 + 0)/2 + 1 = (96/2)+1= 48+1= 49\n",
    "# 2/5 with strides/kernel_size is 40% non-overlap/diff region and 60% overlapping window/ common region\n",
    "in_conv = out_conv\n",
    "out_conv = tf.layers.conv1d(inputs=in_conv, filters=64, kernel_size=5, strides=2, padding='valid')\n",
    "out_conv = tf.layers.batch_normalization(inputs=out_conv)\n",
    "out_conv = tf.nn.relu(features=out_conv)\n",
    "out_conv = tf.nn.dropout(x=out_conv, keep_prob=keep_prob_)\n",
    "print(out_conv.shape)\n",
    "\n",
    "# (batch, 49, 64) --> (batch, 49*64) --> (batch, 49*64*2)\n",
    "# 49*64 = 50*64 - 1*64 = 3200 - 64 = 3136, 3136*2 = 6272\n",
    "# (batch, 49, 64) --> (batch, 3136) --> (batch, 6272)\n",
    "in_fc = tf.reshape(tensor=out_conv, shape=(-1, 49*64))\n",
    "out_fc = tf.layers.dense(inputs=in_fc, units=49*64*2)\n",
    "out_fc = tf.layers.batch_normalization(inputs=out_fc)\n",
    "out_fc = tf.nn.relu(features=out_fc)\n",
    "out_fc = tf.nn.dropout(x=out_fc, keep_prob=keep_prob_)\n",
    "print(in_fc.shape, out_fc.shape)\n",
    "\n",
    "# (batch, 49*64*2) --> (batch, 2) \n",
    "logits = tf.layers.dense(inputs=out_fc, units=n_classes)\n",
    "print(logits.shape)"
   ]
  },
  {
   "cell_type": "markdown",
   "metadata": {},
   "source": [
    "# Backward pass: error backpropagation"
   ]
  },
  {
   "cell_type": "code",
   "execution_count": 25,
   "metadata": {},
   "outputs": [],
   "source": [
    "# Cost function\n",
    "cost_tensor = tf.nn.softmax_cross_entropy_with_logits(logits=logits, labels=labels_)\n",
    "cost = tf.reduce_mean(input_tensor=cost_tensor)\n",
    "\n",
    "# Optimizer\n",
    "optimizer = tf.train.AdamOptimizer(learning_rate=learning_rate_).minimize(cost)\n",
    "\n",
    "# Accuracy\n",
    "correct_pred = tf.equal(tf.argmax(logits, 1), tf.argmax(labels_, 1))\n",
    "accuracy = tf.reduce_mean(tf.cast(correct_pred, tf.float32), name='accuracy')"
   ]
  },
  {
   "cell_type": "markdown",
   "metadata": {},
   "source": [
    "# Train the network"
   ]
  },
  {
   "cell_type": "code",
   "execution_count": 26,
   "metadata": {},
   "outputs": [
    {
     "name": "stdout",
     "output_type": "stream",
     "text": [
      "Epoch: 1/1 Train loss: 0.634720 Valid loss: 5.400208 Train acc: 0.652174 Valid acc: 0.833165\n",
      "Epoch: 1/1 Train loss: 5.085453 Valid loss: 4.983957 Train acc: 0.847826 Valid acc: 0.833165\n",
      "Epoch: 1/1 Train loss: 5.132773 Valid loss: 4.199116 Train acc: 0.826087 Valid acc: 0.833165\n",
      "Epoch: 1/1 Train loss: 3.142268 Valid loss: 3.449906 Train acc: 0.836957 Valid acc: 0.833165\n",
      "Epoch: 1/1 Train loss: 1.619848 Valid loss: 2.862725 Train acc: 0.826087 Valid acc: 0.833165\n",
      "Epoch: 1/1 Train loss: 0.627786 Valid loss: 2.491606 Train acc: 0.836957 Valid acc: 0.821495\n",
      "Epoch: 1/1 Train loss: 0.501788 Valid loss: 2.265112 Train acc: 0.826087 Valid acc: 0.727972\n",
      "Epoch: 1/1 Train loss: 0.807518 Valid loss: 2.092276 Train acc: 0.250000 Valid acc: 0.657830\n",
      "Epoch: 1/1 Train loss: 0.834084 Valid loss: 1.947045 Train acc: 0.239130 Valid acc: 0.603303\n",
      "Epoch: 1/1 Train loss: 0.777026 Valid loss: 1.822100 Train acc: 0.304348 Valid acc: 0.587588\n",
      "Epoch: 1/1 Train loss: 0.655917 Valid loss: 1.714533 Train acc: 0.695652 Valid acc: 0.609868\n",
      "Epoch: 1/1 Train loss: 0.591694 Valid loss: 1.621570 Train acc: 0.836957 Valid acc: 0.628476\n",
      "Epoch: 1/1 Train loss: 0.532598 Valid loss: 1.540732 Train acc: 0.836957 Valid acc: 0.644221\n",
      "Epoch: 1/1 Train loss: 0.530484 Valid loss: 1.469936 Train acc: 0.826087 Valid acc: 0.657717\n",
      "Epoch: 1/1 Train loss: 0.480008 Valid loss: 1.407471 Train acc: 0.836957 Valid acc: 0.669414\n",
      "Epoch: 1/1 Train loss: 0.493046 Valid loss: 1.352005 Train acc: 0.826087 Valid acc: 0.679648\n",
      "Epoch: 1/1 Train loss: 0.455784 Valid loss: 1.302442 Train acc: 0.847826 Valid acc: 0.688678\n",
      "Epoch: 1/1 Train loss: 0.463298 Valid loss: 1.257924 Train acc: 0.826087 Valid acc: 0.696706\n",
      "Epoch: 1/1 Train loss: 0.477889 Valid loss: 1.217776 Train acc: 0.826087 Valid acc: 0.703888\n",
      "Epoch: 1/1 Train loss: 0.475563 Valid loss: 1.181437 Train acc: 0.826087 Valid acc: 0.710351\n",
      "Epoch: 1/1 Train loss: 0.440156 Valid loss: 1.148461 Train acc: 0.847826 Valid acc: 0.716200\n",
      "Epoch: 1/1 Train loss: 0.506750 Valid loss: 1.118489 Train acc: 0.826087 Valid acc: 0.721516\n",
      "Epoch: 1/1 Train loss: 0.481065 Valid loss: 1.091213 Train acc: 0.836957 Valid acc: 0.726371\n",
      "Epoch: 1/1 Train loss: 0.458538 Valid loss: 1.066357 Train acc: 0.847826 Valid acc: 0.730820\n",
      "Epoch: 1/1 Train loss: 0.542887 Valid loss: 1.043695 Train acc: 0.826087 Valid acc: 0.734914\n",
      "Epoch: 1/1 Train loss: 0.457273 Valid loss: 1.022995 Train acc: 0.826087 Valid acc: 0.738693\n",
      "Epoch: 1/1 Train loss: 0.472181 Valid loss: 1.004071 Train acc: 0.836957 Valid acc: 0.742192\n",
      "Epoch: 1/1 Train loss: 0.451707 Valid loss: 0.986746 Train acc: 0.836957 Valid acc: 0.745441\n",
      "Epoch: 1/1 Train loss: 0.701595 Valid loss: 0.970995 Train acc: 0.826087 Valid acc: 0.748466\n",
      "Epoch: 1/1 Train loss: 0.478900 Valid loss: 0.956648 Train acc: 0.836957 Valid acc: 0.751289\n",
      "Epoch: 1/1 Train loss: 0.469953 Valid loss: 0.943556 Train acc: 0.836957 Valid acc: 0.753930\n",
      "Epoch: 1/1 Train loss: 0.467866 Valid loss: 0.931579 Train acc: 0.826087 Valid acc: 0.756406\n",
      "Epoch: 1/1 Train loss: 0.454460 Valid loss: 0.920555 Train acc: 0.836957 Valid acc: 0.758732\n",
      "Epoch: 1/1 Train loss: 0.461010 Valid loss: 0.910353 Train acc: 0.836957 Valid acc: 0.760922\n",
      "Epoch: 1/1 Train loss: 0.464392 Valid loss: 0.900863 Train acc: 0.836957 Valid acc: 0.762986\n",
      "Epoch: 1/1 Train loss: 0.477985 Valid loss: 0.891989 Train acc: 0.826087 Valid acc: 0.764935\n",
      "Epoch: 1/1 Train loss: 0.444648 Valid loss: 0.883630 Train acc: 0.836957 Valid acc: 0.766779\n",
      "Epoch: 1/1 Train loss: 0.468144 Valid loss: 0.875708 Train acc: 0.826087 Valid acc: 0.768526\n",
      "Epoch: 1/1 Train loss: 0.467920 Valid loss: 0.868163 Train acc: 0.836957 Valid acc: 0.770183\n",
      "Epoch: 1/1 Train loss: 0.641054 Valid loss: 0.861010 Train acc: 0.815217 Valid acc: 0.771758\n",
      "Epoch: 1/1 Train loss: 0.464277 Valid loss: 0.854211 Train acc: 0.847826 Valid acc: 0.773256\n",
      "Epoch: 1/1 Train loss: 0.486902 Valid loss: 0.847696 Train acc: 0.847826 Valid acc: 0.774682\n",
      "Epoch: 1/1 Train loss: 0.500007 Valid loss: 0.841408 Train acc: 0.836957 Valid acc: 0.776042\n",
      "Epoch: 1/1 Train loss: 0.480955 Valid loss: 0.835301 Train acc: 0.836957 Valid acc: 0.777340\n",
      "Epoch: 1/1 Train loss: 0.465064 Valid loss: 0.829342 Train acc: 0.826087 Valid acc: 0.778581\n",
      "Epoch: 1/1 Train loss: 0.483824 Valid loss: 0.823496 Train acc: 0.826087 Valid acc: 0.779768\n",
      "Epoch: 1/1 Train loss: 0.464870 Valid loss: 0.817735 Train acc: 0.836957 Valid acc: 0.780904\n",
      "Epoch: 1/1 Train loss: 0.465584 Valid loss: 0.812041 Train acc: 0.836957 Valid acc: 0.781992\n",
      "Epoch: 1/1 Train loss: 0.464181 Valid loss: 0.806407 Train acc: 0.836957 Valid acc: 0.783037\n",
      "Epoch: 1/1 Train loss: 0.451976 Valid loss: 0.800841 Train acc: 0.826087 Valid acc: 0.784039\n",
      "Epoch: 1/1 Train loss: 0.470270 Valid loss: 0.795369 Train acc: 0.836957 Valid acc: 0.785003\n",
      "Epoch: 1/1 Train loss: 0.440452 Valid loss: 0.789996 Train acc: 0.836957 Valid acc: 0.785929\n",
      "Epoch: 1/1 Train loss: 0.460094 Valid loss: 0.784727 Train acc: 0.815217 Valid acc: 0.786820\n",
      "Epoch: 1/1 Train loss: 0.422796 Valid loss: 0.779556 Train acc: 0.847826 Valid acc: 0.787678\n",
      "Epoch: 1/1 Train loss: 0.439001 Valid loss: 0.774508 Train acc: 0.826087 Valid acc: 0.788505\n",
      "Epoch: 1/1 Train loss: 0.448917 Valid loss: 0.769601 Train acc: 0.826087 Valid acc: 0.789303\n",
      "Epoch: 1/1 Train loss: 0.435809 Valid loss: 0.764841 Train acc: 0.836957 Valid acc: 0.790072\n",
      "Epoch: 1/1 Train loss: 0.445138 Valid loss: 0.760236 Train acc: 0.836957 Valid acc: 0.790815\n",
      "Epoch: 1/1 Train loss: 0.434236 Valid loss: 0.755789 Train acc: 0.836957 Valid acc: 0.791533\n",
      "Epoch: 1/1 Train loss: 0.440458 Valid loss: 0.751504 Train acc: 0.836957 Valid acc: 0.792227\n",
      "Epoch: 1/1 Train loss: 0.442679 Valid loss: 0.747381 Train acc: 0.826087 Valid acc: 0.792898\n",
      "Epoch: 1/1 Train loss: 0.413948 Valid loss: 0.743412 Train acc: 0.847826 Valid acc: 0.793547\n",
      "Epoch: 1/1 Train loss: 0.443580 Valid loss: 0.739595 Train acc: 0.826087 Valid acc: 0.794176\n",
      "Epoch: 1/1 Train loss: 0.442979 Valid loss: 0.735922 Train acc: 0.836957 Valid acc: 0.794786\n",
      "Epoch: 1/1 Train loss: 0.455567 Valid loss: 0.732400 Train acc: 0.836957 Valid acc: 0.795376\n",
      "Epoch: 1/1 Train loss: 0.464299 Valid loss: 0.729030 Train acc: 0.826087 Valid acc: 0.795949\n",
      "Epoch: 1/1 Train loss: 0.420666 Valid loss: 0.725795 Train acc: 0.847826 Valid acc: 0.796504\n",
      "Epoch: 1/1 Train loss: 0.445168 Valid loss: 0.722691 Train acc: 0.826087 Valid acc: 0.797043\n",
      "Epoch: 1/1 Train loss: 0.451648 Valid loss: 0.719714 Train acc: 0.826087 Valid acc: 0.797567\n",
      "Epoch: 1/1 Train loss: 0.475708 Valid loss: 0.716858 Train acc: 0.826087 Valid acc: 0.798075\n",
      "Epoch: 1/1 Train loss: 0.433155 Valid loss: 0.714110 Train acc: 0.836957 Valid acc: 0.798569\n",
      "Epoch: 1/1 Train loss: 0.427073 Valid loss: 0.711470 Train acc: 0.847826 Valid acc: 0.799050\n",
      "Epoch: 1/1 Train loss: 0.504134 Valid loss: 0.708944 Train acc: 0.815217 Valid acc: 0.799517\n",
      "Epoch: 1/1 Train loss: 0.495300 Valid loss: 0.706548 Train acc: 0.836957 Valid acc: 0.799972\n",
      "Epoch: 1/1 Train loss: 0.443305 Valid loss: 0.704259 Train acc: 0.836957 Valid acc: 0.800415\n",
      "Epoch: 1/1 Train loss: 0.448227 Valid loss: 0.702064 Train acc: 0.826087 Valid acc: 0.800845\n",
      "Epoch: 1/1 Train loss: 0.439440 Valid loss: 0.699943 Train acc: 0.847826 Valid acc: 0.801265\n",
      "Epoch: 1/1 Train loss: 0.451558 Valid loss: 0.697876 Train acc: 0.836957 Valid acc: 0.801674\n",
      "Epoch: 1/1 Train loss: 0.438349 Valid loss: 0.695846 Train acc: 0.836957 Valid acc: 0.802073\n",
      "Epoch: 1/1 Train loss: 0.479278 Valid loss: 0.693850 Train acc: 0.826087 Valid acc: 0.802461\n",
      "Epoch: 1/1 Train loss: 0.474640 Valid loss: 0.691908 Train acc: 0.826087 Valid acc: 0.802841\n",
      "Epoch: 1/1 Train loss: 0.516187 Valid loss: 0.690063 Train acc: 0.836957 Valid acc: 0.803210\n",
      "Epoch: 1/1 Train loss: 0.476324 Valid loss: 0.688337 Train acc: 0.836957 Valid acc: 0.803571\n",
      "Epoch: 1/1 Train loss: 0.470455 Valid loss: 0.686740 Train acc: 0.815217 Valid acc: 0.803924\n",
      "Epoch: 1/1 Train loss: 0.443037 Valid loss: 0.685273 Train acc: 0.847826 Valid acc: 0.804268\n",
      "Epoch: 1/1 Train loss: 0.432181 Valid loss: 0.683926 Train acc: 0.836957 Valid acc: 0.804604\n",
      "Epoch: 1/1 Train loss: 0.465427 Valid loss: 0.682689 Train acc: 0.826087 Valid acc: 0.804932\n",
      "Epoch: 1/1 Train loss: 0.428006 Valid loss: 0.681537 Train acc: 0.836957 Valid acc: 0.805253\n",
      "Epoch: 1/1 Train loss: 0.558317 Valid loss: 0.680480 Train acc: 0.836957 Valid acc: 0.805566\n"
     ]
    },
    {
     "name": "stdout",
     "output_type": "stream",
     "text": [
      "Epoch: 1/1 Train loss: 0.459915 Valid loss: 0.679493 Train acc: 0.826087 Valid acc: 0.805873\n",
      "Epoch: 1/1 Train loss: 0.435051 Valid loss: 0.678553 Train acc: 0.836957 Valid acc: 0.806173\n",
      "Epoch: 1/1 Train loss: 0.476638 Valid loss: 0.677638 Train acc: 0.826087 Valid acc: 0.806466\n",
      "Epoch: 1/1 Train loss: 0.464126 Valid loss: 0.676733 Train acc: 0.836957 Valid acc: 0.806753\n",
      "Epoch: 1/1 Train loss: 0.469859 Valid loss: 0.675818 Train acc: 0.836957 Valid acc: 0.807034\n",
      "Epoch: 1/1 Train loss: 0.483496 Valid loss: 0.674887 Train acc: 0.826087 Valid acc: 0.807310\n",
      "Epoch: 1/1 Train loss: 0.456434 Valid loss: 0.673934 Train acc: 0.836957 Valid acc: 0.807579\n",
      "Epoch: 1/1 Train loss: 0.463741 Valid loss: 0.672948 Train acc: 0.836957 Valid acc: 0.807843\n",
      "Epoch: 1/1 Train loss: 0.460652 Valid loss: 0.671925 Train acc: 0.836957 Valid acc: 0.808101\n",
      "Epoch: 1/1 Train loss: 0.458716 Valid loss: 0.670869 Train acc: 0.826087 Valid acc: 0.808354\n",
      "Epoch: 1/1 Train loss: 0.454270 Valid loss: 0.669779 Train acc: 0.836957 Valid acc: 0.808602\n",
      "Epoch: 1/1 Test loss: 0.562207 Test acc: 0.833215\n"
     ]
    }
   ],
   "source": [
    "# Plotting the acc and loss curve\n",
    "train_acc = []\n",
    "train_loss = []\n",
    "\n",
    "valid_acc = []\n",
    "valid_loss = []\n",
    "\n",
    "with tf.Session() as sess:\n",
    "    # initalize session global variables just in the case they are initialized.\n",
    "    sess.run(tf.global_variables_initializer())\n",
    "    \n",
    "    for e in range(epochs):\n",
    "       \n",
    "        # Loop over batches\n",
    "        for x, y in get_batches(X_train_norm, Y_train_onehot, batch_size):\n",
    "            \n",
    "            # Feed dictionary\n",
    "            feed = {inputs_:x, labels_:y, keep_prob_: keep_prob, learning_rate_:learning_rate}\n",
    "            loss, _ , acc = sess.run([cost, optimizer, accuracy], feed_dict = feed)\n",
    "            \n",
    "            train_acc.append(acc)\n",
    "            train_loss.append(loss)\n",
    "            \n",
    "            ################################ Validation\n",
    "            # Initialize \n",
    "            loss_v_batch, acc_v_batch = [], []\n",
    "\n",
    "            # Loop over batches\n",
    "            for x_v, y_v in get_batches(X_valid_norm, Y_valid_onehot, batch_size):\n",
    "\n",
    "                # Feed dictionary\n",
    "                feed = {inputs_:x_v, labels_:y_v, keep_prob_: 1.0}\n",
    "                loss_v, acc_v = sess.run([cost, accuracy], feed_dict = feed)\n",
    "                \n",
    "                acc_v_batch.append(acc_v)\n",
    "                loss_v_batch.append(loss_v)\n",
    "                \n",
    "            valid_acc.append(np.mean(acc_v_batch))\n",
    "            valid_loss.append(np.mean(loss_v_batch))\n",
    "            \n",
    "            # Print info\n",
    "            print(\"Epoch: {}/{}\".format(e+1, epochs),\n",
    "                  \"Train loss: {:6f}\".format(loss),\n",
    "                  \"Valid loss: {:.6f}\".format(np.mean(valid_loss)),\n",
    "                  \"Train acc: {:6f}\".format(acc),\n",
    "                  \"Valid acc: {:.6f}\".format(np.mean(valid_acc)))\n",
    "            \n",
    "    ################################ Test\n",
    "    # Initialize \n",
    "    acc_batch, loss_batch = [], []\n",
    "\n",
    "    # Loop over batches\n",
    "    for x, y in get_batches(X_test_norm, Y_test_onehot, batch_size):\n",
    "\n",
    "        # Feed dictionary\n",
    "        feed = {inputs_:x, labels_:y, keep_prob_:1.0}\n",
    "        loss, acc = sess.run([cost, accuracy], feed_dict = feed)\n",
    "\n",
    "        acc_batch.append(acc)\n",
    "        loss_batch.append(loss)\n",
    "\n",
    "    # Print info\n",
    "    print(\"Epoch: {}/{}\".format(e+1, epochs),\n",
    "          \"Test loss: {:6f}\".format(np.mean(loss_batch)),\n",
    "          \"Test acc: {:6f}\".format(np.mean(acc_batch)))"
   ]
  },
  {
   "cell_type": "code",
   "execution_count": 27,
   "metadata": {},
   "outputs": [
    {
     "data": {
      "image/png": "[encoded data removed]",
      "text/plain": [
       "<matplotlib.figure.Figure at 0x7f37f0447278>"
      ]
     },
     "metadata": {},
     "output_type": "display_data"
    }
   ],
   "source": [
    "import matplotlib.pyplot as mplot\n",
    "\n",
    "mplot.plot(train_loss, label='train_loss')\n",
    "mplot.plot(valid_loss, label='valid_loss')\n",
    "mplot.legend()\n",
    "mplot.show()"
   ]
  },
  {
   "cell_type": "code",
   "execution_count": 28,
   "metadata": {},
   "outputs": [
    {
     "data": {
      "image/png": "[encoded data removed]",
      "text/plain": [
       "<matplotlib.figure.Figure at 0x7f379408c518>"
      ]
     },
     "metadata": {},
     "output_type": "display_data"
    }
   ],
   "source": [
    "# import matplotlib.pyplot as mplot\n",
    "\n",
    "mplot.plot(train_acc, label='train_acc')\n",
    "mplot.plot(valid_acc, label='valid_acc')\n",
    "mplot.legend()\n",
    "mplot.show()"
   ]
  },
  {
   "cell_type": "code",
   "execution_count": null,
   "metadata": {},
   "outputs": [],
   "source": []
  }
 ],
 "metadata": {
  "kernelspec": {
   "display_name": "Python 3",
   "language": "python",
   "name": "python3"
  },
  "language_info": {
   "codemirror_mode": {
    "name": "ipython",
    "version": 3
   },
   "file_extension": ".py",
   "mimetype": "text/x-python",
   "name": "python",
   "nbconvert_exporter": "python",
   "pygments_lexer": "ipython3",
   "version": "3.6.3"
  }
 },
 "nbformat": 4,
 "nbformat_minor": 2
}
