{
 "cells": [
  {
   "cell_type": "code",
   "execution_count": 1,
   "metadata": {},
   "outputs": [
    {
     "name": "stdout",
     "output_type": "stream",
     "text": [
      "(31500, 205, 16) float64 (31500, 1) uint8\n",
      "0.5 0.5 0.0 0.0\n",
      "[2]\n"
     ]
    }
   ],
   "source": [
    "# Read the dataset\n",
    "import scipy.io as spio\n",
    "import numpy as np\n",
    "\n",
    "BahramFlip = spio.loadmat(file_name='/home/arasdar/datasets/bci-project-data-RAW/BahramFlipp.mat')\n",
    "DJFlip = spio.loadmat(file_name='/home/arasdar/datasets/bci-project-data-RAW/DJFlipp.mat')\n",
    "NickFlip = spio.loadmat(file_name='/home/arasdar/datasets/bci-project-data-RAW/NickFlipp.mat')\n",
    "RoohiFlip = spio.loadmat(file_name='/home/arasdar/datasets/bci-project-data-RAW/RoohiFlipp.mat')\n",
    "SarahFlip = spio.loadmat(file_name='/home/arasdar/datasets/bci-project-data-RAW/SarahFlipp.mat')\n",
    "\n",
    "AllData = np.concatenate((BahramFlip['Intensification_Data'],\n",
    "                            DJFlip['Intensification_Data'],\n",
    "                            NickFlip['Intensification_Data'],\n",
    "                            RoohiFlip['Intensification_Data'],\n",
    "                            SarahFlip['Intensification_Data']), axis=0)\n",
    "\n",
    "AllLabels = np.concatenate((BahramFlip['Intensification_Label'],\n",
    "                            DJFlip['Intensification_Label'],\n",
    "                            NickFlip['Intensification_Label'],\n",
    "                            RoohiFlip['Intensification_Label'],\n",
    "                            SarahFlip['Intensification_Label']), axis=0)\n",
    "\n",
    "AllLabelOne = (AllLabels==1).reshape(-1)\n",
    "AllData_LabelOne = AllData[AllLabelOne]\n",
    "\n",
    "AllLabelZero = (AllLabels==0).reshape(-1)\n",
    "AllData_LabelZero = AllData[AllLabelZero]\n",
    "\n",
    "# Linear synthetic data augmentatiion or creation or generation\n",
    "AllData_LabelOneNew_list = []\n",
    "\n",
    "# w*data+b: translation, rotation, and scaling\n",
    "# linear transformation of the target data\n",
    "w, b = 1.0, 0.0\n",
    "for idx in range(5):\n",
    "    AllData_LabelOneNew = (w * AllData_LabelOne) + b\n",
    "    AllData_LabelOneNew_list.append(AllData_LabelOneNew)\n",
    "    w *= 0.9 # 1.0, 0.9, 0.81, 0.729\n",
    "    b += 0.1 # 0.1, 0.2, 0.3\n",
    "\n",
    "AllData_LabelOneNew_total = np.array(AllData_LabelOneNew_list, \n",
    "                                      dtype=AllData_LabelOne.dtype).reshape(-1, 205, 16)\n",
    "\n",
    "AllDataNew = np.concatenate((AllData_LabelOneNew_total, AllData_LabelZero), axis=0)\n",
    "AllLabelsNew = np.concatenate((AllLabels[AllLabelZero], # Tgt = 6*Non-Tgt\n",
    "                                   AllLabels[AllLabelOne],\n",
    "                                   AllLabels[AllLabelOne],\n",
    "                                   AllLabels[AllLabelOne], \n",
    "                                   AllLabels[AllLabelOne], \n",
    "                                   AllLabels[AllLabelOne]), axis=0)\n",
    "\n",
    "print(AllDataNew.shape, AllDataNew.dtype, AllLabelsNew.shape, AllLabelsNew.dtype)\n",
    "print(np.mean(AllLabelsNew==0), np.mean(AllLabelsNew==1), np.mean(AllLabelsNew==2), np.mean(AllLabelsNew==3))\n",
    "print((AllLabelsNew +  1).max(axis=0))"
   ]
  },
  {
   "cell_type": "code",
   "execution_count": 2,
   "metadata": {},
   "outputs": [
    {
     "name": "stdout",
     "output_type": "stream",
     "text": [
      "(22050, 205, 16) (9450, 205, 16) (22050, 1) (9450, 1)\n"
     ]
    }
   ],
   "source": [
    "# Train and test split\n",
    "from sklearn.model_selection import train_test_split\n",
    "\n",
    "X_train_valid, X_test, Y_train_valid, Y_test = train_test_split(AllDataNew, AllLabelsNew, test_size=0.30)\n",
    "\n",
    "print(X_train_valid.shape, X_test.shape, Y_train_valid.shape, Y_test.shape)"
   ]
  },
  {
   "cell_type": "code",
   "execution_count": 3,
   "metadata": {},
   "outputs": [
    {
     "name": "stdout",
     "output_type": "stream",
     "text": [
      "0.0 0.500362811791 0.499637188209 0.0\n",
      "(22050, 2) float64 (9450, 2) float64\n"
     ]
    }
   ],
   "source": [
    "# Preparing input and output data\n",
    "from utilities import *\n",
    "\n",
    "# Normalizing/standardizing the input data features\n",
    "X_train_valid_norm, X_test_norm = standardize(test=X_test, train=X_train_valid)\n",
    "\n",
    "# Onehot encoding/vectorizing the output data labels\n",
    "print(np.mean((Y_train_valid+1).reshape(-1)==0), np.mean((Y_train_valid+1).reshape(-1)==1),\n",
    "     np.mean((Y_train_valid+1).reshape(-1)==2), np.mean((Y_train_valid+1).reshape(-1)==3))\n",
    "\n",
    "Y_train_valid_onehot = one_hot(labels=(Y_train_valid+1).reshape(-1), n_class=2) \n",
    "Y_test_onehot = one_hot(labels=(Y_test+1).reshape(-1), n_class=2) \n",
    "\n",
    "print(Y_train_valid_onehot.shape, Y_train_valid_onehot.dtype, \n",
    "      Y_test_onehot.shape, Y_test_onehot.dtype)"
   ]
  },
  {
   "cell_type": "code",
   "execution_count": 4,
   "metadata": {},
   "outputs": [
    {
     "name": "stdout",
     "output_type": "stream",
     "text": [
      "(15435, 205, 16) (6615, 205, 16) (15435, 2) (6615, 2)\n"
     ]
    }
   ],
   "source": [
    "# Train and valid split\n",
    "# from sklearn.model_selection import train_test_split\n",
    "\n",
    "X_train_norm, X_valid_norm, Y_train_onehot, Y_valid_onehot = train_test_split(X_train_valid_norm, \n",
    "                                                                              Y_train_valid_onehot,\n",
    "                                                                              test_size=0.30)\n",
    "\n",
    "print(X_train_norm.shape, X_valid_norm.shape, Y_train_onehot.shape, Y_valid_onehot.shape)"
   ]
  },
  {
   "cell_type": "code",
   "execution_count": 5,
   "metadata": {},
   "outputs": [
    {
     "name": "stdout",
     "output_type": "stream",
     "text": [
      "batch_size, seq_len, n_channels 154 205 16\n",
      "n_classes [2]\n"
     ]
    }
   ],
   "source": [
    "## Hyperparameters\n",
    "# Input data\n",
    "batch_size = X_train_norm.shape[0]// 100 # minibatch size & number of minibatches\n",
    "seq_len = X_train_norm.shape[1] # Number of steps: each trial length\n",
    "n_channels = X_train_norm.shape[2] # number of channels in each trial\n",
    "print('batch_size, seq_len, n_channels', batch_size, seq_len, n_channels)\n",
    "\n",
    "# Output labels\n",
    "n_classes = Y_train_valid.max(axis=0)+1\n",
    "assert Y_train_valid.max(axis=0) == Y_test.max(axis=0)\n",
    "print('n_classes', n_classes)\n",
    "\n",
    "# learning parameters\n",
    "learning_rate = 0.0001 #1e-4\n",
    "epochs = 100 # num iterations for updating model\n",
    "keep_prob = 0.50 # 90% neurons are kept and 10% are dropped out"
   ]
  },
  {
   "cell_type": "code",
   "execution_count": 6,
   "metadata": {},
   "outputs": [
    {
     "name": "stdout",
     "output_type": "stream",
     "text": [
      "TensorFlow Version: 1.3.0\n",
      "Default GPU Device: /gpu:0\n"
     ]
    }
   ],
   "source": [
    "# GPUs or CPU\n",
    "import tensorflow as tf\n",
    "\n",
    "# Check TensorFlow Version\n",
    "print('TensorFlow Version: {}'.format(tf.__version__))\n",
    "\n",
    "# Check for a GPU\n",
    "print('Default GPU Device: {}'.format(tf.test.gpu_device_name()))"
   ]
  },
  {
   "cell_type": "code",
   "execution_count": 7,
   "metadata": {},
   "outputs": [],
   "source": [
    "# Feed the data from python/numpy to tensorflow framework\n",
    "inputs_ = tf.placeholder(tf.float32, [None, seq_len, n_channels], name = 'inputs_')\n",
    "labels_ = tf.placeholder(tf.float32, [None, n_classes], name = 'labels_')\n",
    "keep_prob_ = tf.placeholder(tf.float32, name = 'keep_prob_')\n",
    "learning_rate_ = tf.placeholder(tf.float32, name = 'learning_rate_')# Construct the LSTM inputs and LSTM cells"
   ]
  },
  {
   "cell_type": "code",
   "execution_count": 8,
   "metadata": {},
   "outputs": [
    {
     "name": "stdout",
     "output_type": "stream",
     "text": [
      "inputs_.shape, conv1.shape, max_pool_1.shape (?, 205, 16) (?, 204, 32) (?, 102, 32)\n",
      "max_pool_1.shape, conv2.shape, max_pool_2.shape (?, 102, 32) (?, 102, 64) (?, 51, 64)\n",
      "max_pool_2.shape, conv3.shape, max_pool_3.shape (?, 51, 64) (?, 50, 128) (?, 25, 128)\n",
      "max_pool_3.shape, conv4.shape, max_pool_4.shape (?, 25, 128) (?, 24, 256) (?, 12, 256)\n",
      "max_pool_4.shape, flat.shape, logits.shape (?, 12, 256) (?, 3072) (?, 2)\n"
     ]
    }
   ],
   "source": [
    "# batch_size, seq_len, n_channels: 154 205 16; n_classes [2]\n",
    "# (batch, 205, 16) --> (batch, 102, 32)\n",
    "# conv valid: (205-2+0)/1 + 1 = (203/1)+1 = 203 + 1=204\n",
    "# pool same: (204-2+0)/2 + 1 = (202/2)+1 = 101 + 1=102\n",
    "conv1 = tf.layers.conv1d(inputs=inputs_, filters=32, kernel_size=2, strides=1, padding='valid', \n",
    "                         activation = tf.nn.relu)\n",
    "max_pool_1 = tf.layers.max_pooling1d(inputs=conv1, pool_size=2, strides=2, padding='same')\n",
    "# max_pool_1 = tf.nn.dropout(max_pool_1, keep_prob=keep_prob_)\n",
    "print('inputs_.shape, conv1.shape, max_pool_1.shape', inputs_.shape, conv1.shape, max_pool_1.shape)\n",
    "\n",
    "# (batch, 102, 32) --> (batch, 51, 64)\n",
    "# conv same\n",
    "# pool same: (102-2+0)/2 + 1 = (100/2)+1 = 50 + 1=51\n",
    "conv2 = tf.layers.conv1d(inputs=max_pool_1, filters=64, kernel_size=2, strides=1, padding='same', \n",
    "                         activation = tf.nn.relu)\n",
    "max_pool_2 = tf.layers.max_pooling1d(inputs=conv2, pool_size=2, strides=2, padding='same')\n",
    "# max_pool_2 = tf.nn.dropout(max_pool_2, keep_prob=keep_prob_)\n",
    "print('max_pool_1.shape, conv2.shape, max_pool_2.shape', max_pool_1.shape, conv2.shape, max_pool_2.shape)\n",
    "\n",
    "# (batch, 51, 64) --> (batch, 25, 128)\n",
    "# conv valid: (51-2+0)/1 + 1 = (49/1)+1 = 49 + 1=50\n",
    "# pool same: (50-2+0)/2 + 1 = (48/2)+1 = 24 + 1=25\n",
    "conv3 = tf.layers.conv1d(inputs=max_pool_2, filters=128, kernel_size=2, strides=1, padding='valid', \n",
    "                         activation = tf.nn.relu)\n",
    "max_pool_3 = tf.layers.max_pooling1d(inputs=conv3, pool_size=2, strides=2, padding='same')\n",
    "# max_pool_3 = tf.nn.dropout(max_pool_3, keep_prob=keep_prob_)\n",
    "print('max_pool_2.shape, conv3.shape, max_pool_3.shape', max_pool_2.shape, conv3.shape, max_pool_3.shape)\n",
    "\n",
    "# (batch, 25, 128) --> (batch, 12, 256)\n",
    "# conv valid: (25-2+0)/1 + 1 = (23/1)+1 = 23 + 1=24\n",
    "# pool same: (24-2+0)/2 + 1 = (22/2)+1 = 11 + 1=12\n",
    "conv4 = tf.layers.conv1d(inputs=max_pool_3, filters=256, kernel_size=2, strides=1, padding='valid', \n",
    "                         activation = tf.nn.relu)\n",
    "max_pool_4 = tf.layers.max_pooling1d(inputs=conv4, pool_size=2, strides=2, padding='same')\n",
    "# max_pool_4 = tf.nn.dropout(max_pool_4, keep_prob=keep_prob_)\n",
    "print('max_pool_3.shape, conv4.shape, max_pool_4.shape', max_pool_3.shape, conv4.shape, max_pool_4.shape)\n",
    "\n",
    "# Flatten and add dropout + predicted output\n",
    "flat = tf.reshape(max_pool_4, (-1, 12*256))\n",
    "flat = tf.nn.dropout(flat, keep_prob=keep_prob_)\n",
    "logits = tf.layers.dense(flat, n_classes)\n",
    "print('max_pool_4.shape, flat.shape, logits.shape', max_pool_4.shape, flat.shape, logits.shape)"
   ]
  },
  {
   "cell_type": "code",
   "execution_count": 9,
   "metadata": {},
   "outputs": [
    {
     "name": "stdout",
     "output_type": "stream",
     "text": [
      "cost_tensor, cost Tensor(\"Reshape_3:0\", shape=(?,), dtype=float32) Tensor(\"Mean:0\", shape=(), dtype=float32)\n",
      "optimizer name: \"Adam\"\n",
      "op: \"NoOp\"\n",
      "input: \"^Adam/update_conv1d/kernel/ApplyAdam\"\n",
      "input: \"^Adam/update_conv1d/bias/ApplyAdam\"\n",
      "input: \"^Adam/update_conv1d_1/kernel/ApplyAdam\"\n",
      "input: \"^Adam/update_conv1d_1/bias/ApplyAdam\"\n",
      "input: \"^Adam/update_conv1d_2/kernel/ApplyAdam\"\n",
      "input: \"^Adam/update_conv1d_2/bias/ApplyAdam\"\n",
      "input: \"^Adam/update_conv1d_3/kernel/ApplyAdam\"\n",
      "input: \"^Adam/update_conv1d_3/bias/ApplyAdam\"\n",
      "input: \"^Adam/update_dense/kernel/ApplyAdam\"\n",
      "input: \"^Adam/update_dense/bias/ApplyAdam\"\n",
      "input: \"^Adam/Assign\"\n",
      "input: \"^Adam/Assign_1\"\n",
      "\n",
      "correct_pred, accuracy Tensor(\"Equal:0\", shape=(?,), dtype=bool) Tensor(\"accuracy:0\", shape=(), dtype=float32)\n",
      "confusion_matrix Tensor(\"confusion_matrix/SparseTensorDenseAdd:0\", shape=(?, ?), dtype=int32)\n"
     ]
    }
   ],
   "source": [
    "# Backward pass: error backpropagation\n",
    "# Cost function\n",
    "cost_tensor = tf.nn.softmax_cross_entropy_with_logits(logits=logits, labels=labels_)\n",
    "cost = tf.reduce_mean(input_tensor=cost_tensor)\n",
    "print('cost_tensor, cost', cost_tensor, cost)\n",
    "\n",
    "# Optimizer\n",
    "optimizer = tf.train.AdamOptimizer(learning_rate=learning_rate_).minimize(cost)\n",
    "print('optimizer', optimizer)\n",
    "\n",
    "# Accuracy\n",
    "correct_pred = tf.equal(tf.argmax(logits, 1), tf.argmax(labels_, 1))\n",
    "accuracy = tf.reduce_mean(tf.cast(correct_pred, tf.float32), name='accuracy')\n",
    "print('correct_pred, accuracy', correct_pred, accuracy)\n",
    "\n",
    "# Confusion matrix\n",
    "confusion_matrix = tf.confusion_matrix(predictions=tf.argmax(logits, 1),\n",
    "                                       labels=tf.argmax(labels_, 1))\n",
    "print('confusion_matrix', confusion_matrix)"
   ]
  },
  {
   "cell_type": "code",
   "execution_count": 10,
   "metadata": {},
   "outputs": [
    {
     "name": "stdout",
     "output_type": "stream",
     "text": [
      "Epoch: 1/100 Train loss: 0.691516 Valid loss: 0.674200 Train acc: 0.543766 Valid acc: 0.573417\n",
      "Epoch: 2/100 Train loss: 0.664266 Valid loss: 0.652120 Train acc: 0.596558 Valid acc: 0.626732\n",
      "Epoch: 3/100 Train loss: 0.635942 Valid loss: 0.626936 Train acc: 0.636472 Valid acc: 0.661028\n",
      "Epoch: 4/100 Train loss: 0.610614 Valid loss: 0.603487 Train acc: 0.663864 Valid acc: 0.685668\n",
      "Epoch: 5/100 Train loss: 0.588269 Valid loss: 0.583016 Train acc: 0.686299 Valid acc: 0.705180\n",
      "Epoch: 6/100 Train loss: 0.569206 Valid loss: 0.565430 Train acc: 0.703171 Valid acc: 0.720360\n",
      "Epoch: 7/100 Train loss: 0.552753 Valid loss: 0.550358 Train acc: 0.717300 Valid acc: 0.732399\n",
      "Epoch: 8/100 Train loss: 0.538827 Valid loss: 0.537625 Train acc: 0.728149 Valid acc: 0.741944\n",
      "Epoch: 9/100 Train loss: 0.526476 Valid loss: 0.526633 Train acc: 0.737511 Valid acc: 0.749861\n",
      "Epoch: 10/100 Train loss: 0.515743 Valid loss: 0.516952 Train acc: 0.744942 Valid acc: 0.756612\n",
      "Epoch: 11/100 Train loss: 0.506072 Valid loss: 0.508381 Train acc: 0.751948 Valid acc: 0.762426\n",
      "Epoch: 12/100 Train loss: 0.497311 Valid loss: 0.500671 Train acc: 0.758176 Valid acc: 0.767501\n",
      "Epoch: 13/100 Train loss: 0.489314 Valid loss: 0.493718 Train acc: 0.763621 Valid acc: 0.771941\n",
      "Epoch: 14/100 Train loss: 0.482132 Valid loss: 0.487286 Train acc: 0.768544 Valid acc: 0.775970\n",
      "Epoch: 15/100 Train loss: 0.475405 Valid loss: 0.481445 Train acc: 0.772952 Valid acc: 0.779548\n",
      "Epoch: 16/100 Train loss: 0.469140 Valid loss: 0.475982 Train acc: 0.776908 Valid acc: 0.782887\n",
      "Epoch: 17/100 Train loss: 0.463516 Valid loss: 0.471018 Train acc: 0.780432 Valid acc: 0.785860\n",
      "Epoch: 18/100 Train loss: 0.457920 Valid loss: 0.466325 Train acc: 0.784019 Valid acc: 0.788637\n",
      "Epoch: 19/100 Train loss: 0.452629 Valid loss: 0.461912 Train acc: 0.787365 Valid acc: 0.791235\n",
      "Epoch: 20/100 Train loss: 0.447748 Valid loss: 0.457769 Train acc: 0.790373 Valid acc: 0.793643\n",
      "Epoch: 21/100 Train loss: 0.443062 Valid loss: 0.453847 Train acc: 0.793386 Valid acc: 0.795891\n",
      "Epoch: 22/100 Train loss: 0.438350 Valid loss: 0.450114 Train acc: 0.796210 Valid acc: 0.798028\n",
      "Epoch: 23/100 Train loss: 0.433889 Valid loss: 0.446539 Train acc: 0.798763 Valid acc: 0.800041\n",
      "Epoch: 24/100 Train loss: 0.429752 Valid loss: 0.443175 Train acc: 0.801291 Valid acc: 0.801928\n",
      "Epoch: 25/100 Train loss: 0.425752 Valid loss: 0.439904 Train acc: 0.803657 Valid acc: 0.803749\n",
      "Epoch: 26/100 Train loss: 0.421886 Valid loss: 0.436739 Train acc: 0.805907 Valid acc: 0.805492\n",
      "Epoch: 27/100 Train loss: 0.418065 Valid loss: 0.433707 Train acc: 0.808182 Valid acc: 0.807170\n",
      "Epoch: 28/100 Train loss: 0.414453 Valid loss: 0.430801 Train acc: 0.810253 Valid acc: 0.808752\n",
      "Epoch: 29/100 Train loss: 0.411002 Valid loss: 0.428068 Train acc: 0.812317 Valid acc: 0.810223\n",
      "Epoch: 30/100 Train loss: 0.407571 Valid loss: 0.425408 Train acc: 0.814251 Valid acc: 0.811665\n",
      "Epoch: 31/100 Train loss: 0.404294 Valid loss: 0.422838 Train acc: 0.816131 Valid acc: 0.813050\n",
      "Epoch: 32/100 Train loss: 0.401058 Valid loss: 0.420322 Train acc: 0.817967 Valid acc: 0.814402\n",
      "Epoch: 33/100 Train loss: 0.397998 Valid loss: 0.417905 Train acc: 0.819650 Valid acc: 0.815682\n",
      "Epoch: 34/100 Train loss: 0.395049 Valid loss: 0.415636 Train acc: 0.821327 Valid acc: 0.816879\n",
      "Epoch: 35/100 Train loss: 0.392177 Valid loss: 0.413408 Train acc: 0.822922 Valid acc: 0.818044\n",
      "Epoch: 36/100 Train loss: 0.389259 Valid loss: 0.411178 Train acc: 0.824499 Valid acc: 0.819216\n",
      "Epoch: 37/100 Train loss: 0.386420 Valid loss: 0.409041 Train acc: 0.826120 Valid acc: 0.820328\n",
      "Epoch: 38/100 Train loss: 0.383666 Valid loss: 0.406952 Train acc: 0.827635 Valid acc: 0.821407\n",
      "Epoch: 39/100 Train loss: 0.381018 Valid loss: 0.404965 Train acc: 0.829056 Valid acc: 0.822427\n",
      "Epoch: 40/100 Train loss: 0.378388 Valid loss: 0.403007 Train acc: 0.830477 Valid acc: 0.823428\n",
      "Epoch: 41/100 Train loss: 0.375829 Valid loss: 0.401119 Train acc: 0.831923 Valid acc: 0.824381\n",
      "Epoch: 42/100 Train loss: 0.373312 Valid loss: 0.399223 Train acc: 0.833295 Valid acc: 0.825338\n",
      "Epoch: 43/100 Train loss: 0.370711 Valid loss: 0.397365 Train acc: 0.834690 Valid acc: 0.826271\n",
      "Epoch: 44/100 Train loss: 0.368279 Valid loss: 0.395570 Train acc: 0.835998 Valid acc: 0.827177\n",
      "Epoch: 45/100 Train loss: 0.365889 Valid loss: 0.393837 Train acc: 0.837309 Valid acc: 0.828037\n",
      "Epoch: 46/100 Train loss: 0.363538 Valid loss: 0.392116 Train acc: 0.838590 Valid acc: 0.828896\n",
      "Epoch: 47/100 Train loss: 0.361274 Valid loss: 0.390440 Train acc: 0.839729 Valid acc: 0.829730\n",
      "Epoch: 48/100 Train loss: 0.359000 Valid loss: 0.388774 Train acc: 0.840887 Valid acc: 0.830552\n",
      "Epoch: 49/100 Train loss: 0.356795 Valid loss: 0.387170 Train acc: 0.842051 Valid acc: 0.831351\n",
      "Epoch: 50/100 Train loss: 0.354571 Valid loss: 0.385595 Train acc: 0.843164 Valid acc: 0.832129\n",
      "Epoch: 51/100 Train loss: 0.352424 Valid loss: 0.384060 Train acc: 0.844321 Valid acc: 0.832885\n",
      "Epoch: 52/100 Train loss: 0.350281 Valid loss: 0.382552 Train acc: 0.845400 Valid acc: 0.833623\n",
      "Epoch: 53/100 Train loss: 0.348131 Valid loss: 0.381043 Train acc: 0.846500 Valid acc: 0.834365\n",
      "Epoch: 54/100 Train loss: 0.346048 Valid loss: 0.379593 Train acc: 0.847602 Valid acc: 0.835074\n",
      "Epoch: 55/100 Train loss: 0.344010 Valid loss: 0.378163 Train acc: 0.848643 Valid acc: 0.835770\n",
      "Epoch: 56/100 Train loss: 0.342008 Valid loss: 0.376755 Train acc: 0.849658 Valid acc: 0.836445\n",
      "Epoch: 57/100 Train loss: 0.339999 Valid loss: 0.375377 Train acc: 0.850666 Valid acc: 0.837107\n",
      "Epoch: 58/100 Train loss: 0.338020 Valid loss: 0.374033 Train acc: 0.851679 Valid acc: 0.837768\n",
      "Epoch: 59/100 Train loss: 0.336132 Valid loss: 0.372701 Train acc: 0.852625 Valid acc: 0.838413\n",
      "Epoch: 60/100 Train loss: 0.334228 Valid loss: 0.371382 Train acc: 0.853625 Valid acc: 0.839052\n",
      "Epoch: 61/100 Train loss: 0.332267 Valid loss: 0.370052 Train acc: 0.854621 Valid acc: 0.839697\n",
      "Epoch: 62/100 Train loss: 0.330376 Valid loss: 0.368771 Train acc: 0.855597 Valid acc: 0.840315\n",
      "Epoch: 63/100 Train loss: 0.328530 Valid loss: 0.367545 Train acc: 0.856523 Valid acc: 0.840903\n",
      "Epoch: 64/100 Train loss: 0.326724 Valid loss: 0.366338 Train acc: 0.857482 Valid acc: 0.841481\n",
      "Epoch: 65/100 Train loss: 0.324951 Valid loss: 0.365150 Train acc: 0.858350 Valid acc: 0.842050\n",
      "Epoch: 66/100 Train loss: 0.323139 Valid loss: 0.363946 Train acc: 0.859231 Valid acc: 0.842629\n",
      "Epoch: 67/100 Train loss: 0.321364 Valid loss: 0.362764 Train acc: 0.860147 Valid acc: 0.843187\n",
      "Epoch: 68/100 Train loss: 0.319630 Valid loss: 0.361622 Train acc: 0.861006 Valid acc: 0.843729\n",
      "Epoch: 69/100 Train loss: 0.317865 Valid loss: 0.360511 Train acc: 0.861891 Valid acc: 0.844259\n",
      "Epoch: 70/100 Train loss: 0.316134 Valid loss: 0.359429 Train acc: 0.862727 Valid acc: 0.844774\n",
      "Epoch: 71/100 Train loss: 0.314447 Valid loss: 0.358329 Train acc: 0.863561 Valid acc: 0.845293\n",
      "Epoch: 72/100 Train loss: 0.312831 Valid loss: 0.357292 Train acc: 0.864371 Valid acc: 0.845782\n",
      "Epoch: 73/100 Train loss: 0.311207 Valid loss: 0.356251 Train acc: 0.865204 Valid acc: 0.846277\n",
      "Epoch: 74/100 Train loss: 0.309617 Valid loss: 0.355221 Train acc: 0.865990 Valid acc: 0.846770\n",
      "Epoch: 75/100 Train loss: 0.307991 Valid loss: 0.354199 Train acc: 0.866781 Valid acc: 0.847257\n",
      "Epoch: 76/100 Train loss: 0.306397 Valid loss: 0.353199 Train acc: 0.867601 Valid acc: 0.847734\n",
      "Epoch: 77/100 Train loss: 0.304821 Valid loss: 0.352218 Train acc: 0.868371 Valid acc: 0.848202\n",
      "Epoch: 78/100 Train loss: 0.303197 Valid loss: 0.351235 Train acc: 0.869170 Valid acc: 0.848672\n",
      "Epoch: 79/100 Train loss: 0.301677 Valid loss: 0.350289 Train acc: 0.869933 Valid acc: 0.849124\n",
      "Epoch: 80/100 Train loss: 0.300160 Valid loss: 0.349349 Train acc: 0.870689 Valid acc: 0.849575\n",
      "Epoch: 81/100 Train loss: 0.298594 Valid loss: 0.348391 Train acc: 0.871486 Valid acc: 0.850033\n",
      "Epoch: 82/100 Train loss: 0.297049 Valid loss: 0.347437 Train acc: 0.872247 Valid acc: 0.850482\n",
      "Epoch: 83/100 Train loss: 0.295536 Valid loss: 0.346505 Train acc: 0.872986 Valid acc: 0.850922\n",
      "Epoch: 84/100 Train loss: 0.294075 Valid loss: 0.345593 Train acc: 0.873699 Valid acc: 0.851357\n",
      "Epoch: 85/100 Train loss: 0.292597 Valid loss: 0.344675 Train acc: 0.874405 Valid acc: 0.851785\n",
      "Epoch: 86/100 Train loss: 0.291112 Valid loss: 0.343793 Train acc: 0.875128 Valid acc: 0.852201\n"
     ]
    },
    {
     "name": "stdout",
     "output_type": "stream",
     "text": [
      "Epoch: 87/100 Train loss: 0.289692 Valid loss: 0.342915 Train acc: 0.875835 Valid acc: 0.852618\n",
      "Epoch: 88/100 Train loss: 0.288232 Valid loss: 0.342041 Train acc: 0.876564 Valid acc: 0.853035\n",
      "Epoch: 89/100 Train loss: 0.286832 Valid loss: 0.341185 Train acc: 0.877256 Valid acc: 0.853442\n",
      "Epoch: 90/100 Train loss: 0.285430 Valid loss: 0.340339 Train acc: 0.877932 Valid acc: 0.853844\n",
      "Epoch: 91/100 Train loss: 0.284075 Valid loss: 0.339532 Train acc: 0.878586 Valid acc: 0.854227\n",
      "Epoch: 92/100 Train loss: 0.282657 Valid loss: 0.338704 Train acc: 0.879279 Valid acc: 0.854618\n",
      "Epoch: 93/100 Train loss: 0.281254 Valid loss: 0.337878 Train acc: 0.879960 Valid acc: 0.855008\n",
      "Epoch: 94/100 Train loss: 0.279895 Valid loss: 0.337074 Train acc: 0.880614 Valid acc: 0.855390\n",
      "Epoch: 95/100 Train loss: 0.278525 Valid loss: 0.336304 Train acc: 0.881294 Valid acc: 0.855757\n",
      "Epoch: 96/100 Train loss: 0.277179 Valid loss: 0.335517 Train acc: 0.881958 Valid acc: 0.856125\n",
      "Epoch: 97/100 Train loss: 0.275826 Valid loss: 0.334724 Train acc: 0.882608 Valid acc: 0.856495\n",
      "Epoch: 98/100 Train loss: 0.274492 Valid loss: 0.333964 Train acc: 0.883253 Valid acc: 0.856854\n",
      "Epoch: 99/100 Train loss: 0.273220 Valid loss: 0.333263 Train acc: 0.883852 Valid acc: 0.857194\n",
      "Epoch: 100/100 Train loss: 0.271902 Valid loss: 0.332531 Train acc: 0.884477 Valid acc: 0.857548\n"
     ]
    }
   ],
   "source": [
    "train_acc, train_loss = [], []\n",
    "valid_acc, valid_loss = [], []\n",
    "\n",
    "# Save the training result or trained and validated model params\n",
    "saver = tf.train.Saver()\n",
    "\n",
    "with tf.Session() as sess:\n",
    "    sess.run(tf.global_variables_initializer())\n",
    "   \n",
    "    # Loop over epochs\n",
    "    for e in range(epochs):\n",
    "        \n",
    "        # Loop over batches\n",
    "        for x, y in get_batches(X_train_norm, Y_train_onehot, batch_size):\n",
    "            \n",
    "            ######################## Training\n",
    "            # Feed dictionary\n",
    "            feed = {inputs_ : x, labels_ : y, keep_prob_ : keep_prob, learning_rate_ : learning_rate}\n",
    "            \n",
    "            # Loss\n",
    "            loss, _ , acc = sess.run([cost, optimizer, accuracy], feed_dict = feed)\n",
    "            train_acc.append(acc)\n",
    "            train_loss.append(loss)\n",
    "            \n",
    "            ################## Validation\n",
    "            acc_batch = []\n",
    "            loss_batch = []    \n",
    "            # Loop over batches\n",
    "            for x, y in get_batches(X_valid_norm, Y_valid_onehot, batch_size):\n",
    "\n",
    "                # Feed dictionary\n",
    "                feed = {inputs_ : x, labels_ : y, keep_prob_ : 1.0}\n",
    "\n",
    "                # Loss\n",
    "                loss, acc = sess.run([cost, accuracy], feed_dict = feed)\n",
    "                acc_batch.append(acc)\n",
    "                loss_batch.append(loss)\n",
    "\n",
    "            # Store\n",
    "            valid_acc.append(np.mean(acc_batch))\n",
    "            valid_loss.append(np.mean(loss_batch))\n",
    "            \n",
    "        # Print info for every iter/epoch\n",
    "        print(\"Epoch: {}/{}\".format(e+1, epochs),\n",
    "              \"Train loss: {:6f}\".format(np.mean(train_loss)),\n",
    "              \"Valid loss: {:.6f}\".format(np.mean(valid_loss)),\n",
    "              \"Train acc: {:6f}\".format(np.mean(train_acc)),\n",
    "              \"Valid acc: {:.6f}\".format(np.mean(valid_acc)))\n",
    "                \n",
    "    saver.save(sess,\"checkpoints-dcnn/flip.ckpt\")"
   ]
  },
  {
   "cell_type": "code",
   "execution_count": 11,
   "metadata": {},
   "outputs": [
    {
     "data": {
      "image/png": "[encoded data removed]",
      "text/plain": [
       "<matplotlib.figure.Figure at 0x7f1f50319f98>"
      ]
     },
     "metadata": {},
     "output_type": "display_data"
    }
   ],
   "source": [
    "import matplotlib.pyplot as mplot\n",
    "\n",
    "mplot.plot(train_loss, label='Flip train_loss')\n",
    "mplot.plot(valid_loss, label='Flip valid_loss')\n",
    "mplot.legend()\n",
    "mplot.show()"
   ]
  },
  {
   "cell_type": "code",
   "execution_count": 12,
   "metadata": {},
   "outputs": [
    {
     "data": {
      "image/png": "[encoded data removed]",
      "text/plain": [
       "<matplotlib.figure.Figure at 0x7f1f385c99b0>"
      ]
     },
     "metadata": {},
     "output_type": "display_data"
    }
   ],
   "source": [
    "# import matplotlib.pyplot as mplot\n",
    "mplot.plot(train_acc, label='Flip train_acc')\n",
    "mplot.plot(valid_acc, label='Flip valid_acc')\n",
    "mplot.legend()\n",
    "mplot.show()"
   ]
  },
  {
   "cell_type": "code",
   "execution_count": 13,
   "metadata": {},
   "outputs": [
    {
     "name": "stdout",
     "output_type": "stream",
     "text": [
      "INFO:tensorflow:Restoring parameters from checkpoints-dcnn/flip.ckpt\n",
      "Test loss: 0.261808 Test acc: 0.891207\n"
     ]
    }
   ],
   "source": [
    "test_acc, test_loss = [], []\n",
    "\n",
    "with tf.Session() as sess:\n",
    "    # Restore the validated model\n",
    "    saver.restore(sess, tf.train.latest_checkpoint('checkpoints-dcnn'))\n",
    "    \n",
    "    ################## Test\n",
    "    acc_batch = []\n",
    "    loss_batch = []    \n",
    "    # Loop over batches\n",
    "    for x, y in get_batches(X_test_norm, Y_test_onehot, batch_size):\n",
    "\n",
    "        # Feed dictionary\n",
    "        feed = {inputs_ : x, labels_ : y, keep_prob_ : 1.0}\n",
    "\n",
    "        # Loss\n",
    "        loss, acc = sess.run([cost, accuracy], feed_dict = feed)\n",
    "        acc_batch.append(acc)\n",
    "        loss_batch.append(loss)\n",
    "\n",
    "    # Store\n",
    "    test_acc.append(np.mean(acc_batch))\n",
    "    test_loss.append(np.mean(loss_batch))\n",
    "\n",
    "    # Print info for every iter/epoch\n",
    "    print(\"Test loss: {:6f}\".format(np.mean(test_loss)),\n",
    "          \"Test acc: {:.6f}\".format(np.mean(test_acc)))"
   ]
  },
  {
   "cell_type": "code",
   "execution_count": null,
   "metadata": {},
   "outputs": [],
   "source": []
  }
 ],
 "metadata": {
  "kernelspec": {
   "display_name": "Python 3",
   "language": "python",
   "name": "python3"
  },
  "language_info": {
   "codemirror_mode": {
    "name": "ipython",
    "version": 3
   },
   "file_extension": ".py",
   "mimetype": "text/x-python",
   "name": "python",
   "nbconvert_exporter": "python",
   "pygments_lexer": "ipython3",
   "version": "3.6.3"
  }
 },
 "nbformat": 4,
 "nbformat_minor": 2
}
