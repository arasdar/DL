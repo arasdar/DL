{
 "cells": [
  {
   "cell_type": "code",
   "execution_count": 1,
   "metadata": {},
   "outputs": [],
   "source": [
    "import scipy.io as spio\n",
    "import numpy as np"
   ]
  },
  {
   "cell_type": "code",
   "execution_count": 2,
   "metadata": {},
   "outputs": [],
   "source": [
    "X = spio.loadmat(file_name='../data/bci-sample-data/x.mat')"
   ]
  },
  {
   "cell_type": "code",
   "execution_count": 3,
   "metadata": {},
   "outputs": [],
   "source": [
    "Y = spio.loadmat(file_name='../data/bci-sample-data/y.mat')"
   ]
  },
  {
   "cell_type": "code",
   "execution_count": 4,
   "metadata": {},
   "outputs": [],
   "source": [
    "Data = X['Intensification_Data']\n",
    "SType = Y['Intensification_SType'].mean(axis=1)"
   ]
  },
  {
   "cell_type": "code",
   "execution_count": 5,
   "metadata": {},
   "outputs": [
    {
     "data": {
      "text/plain": [
       "((6480, 192, 64), (6480,), dtype('<f8'), dtype('float64'))"
      ]
     },
     "execution_count": 5,
     "metadata": {},
     "output_type": "execute_result"
    }
   ],
   "source": [
    "(Data.shape, SType.shape, Data.dtype, SType.dtype)"
   ]
  },
  {
   "cell_type": "code",
   "execution_count": 6,
   "metadata": {},
   "outputs": [
    {
     "data": {
      "text/plain": [
       "1944"
      ]
     },
     "execution_count": 6,
     "metadata": {},
     "output_type": "execute_result"
    }
   ],
   "source": [
    "# 30 % total data test\n",
    "# 70 % total data train+valid\n",
    "length = int(Data.shape[0] * 0.30)\n",
    "length"
   ]
  },
  {
   "cell_type": "code",
   "execution_count": 7,
   "metadata": {},
   "outputs": [],
   "source": [
    "TrainDataAll = Data[:-length]\n",
    "TestData = Data[-length:]"
   ]
  },
  {
   "cell_type": "code",
   "execution_count": 8,
   "metadata": {},
   "outputs": [
    {
     "data": {
      "text/plain": [
       "((4536, 192, 64), (1944, 192, 64))"
      ]
     },
     "execution_count": 8,
     "metadata": {},
     "output_type": "execute_result"
    }
   ],
   "source": [
    "TrainDataAll.shape, TestData.shape"
   ]
  },
  {
   "cell_type": "code",
   "execution_count": 9,
   "metadata": {},
   "outputs": [
    {
     "data": {
      "text/plain": [
       "1360"
      ]
     },
     "execution_count": 9,
     "metadata": {},
     "output_type": "execute_result"
    }
   ],
   "source": [
    "# 30% total train data is valid\n",
    "# 70% total trainALl is training\n",
    "length2 = int(TrainDataAll.shape[0] * 0.30)\n",
    "length2"
   ]
  },
  {
   "cell_type": "code",
   "execution_count": 10,
   "metadata": {},
   "outputs": [],
   "source": [
    "TrainData = TrainDataAll[:-length2]\n",
    "ValidData = TrainDataAll[-length2:]"
   ]
  },
  {
   "cell_type": "code",
   "execution_count": 11,
   "metadata": {},
   "outputs": [
    {
     "data": {
      "text/plain": [
       "((3176, 192, 64), (1360, 192, 64))"
      ]
     },
     "execution_count": 11,
     "metadata": {},
     "output_type": "execute_result"
    }
   ],
   "source": [
    "TrainData.shape, ValidData.shape"
   ]
  },
  {
   "cell_type": "code",
   "execution_count": 12,
   "metadata": {},
   "outputs": [],
   "source": [
    "# Normalizing input data\n",
    "def normalize(inputs):\n",
    "    return (inputs - inputs.mean(axis=0)[None,:,:]) / inputs.std(axis=0)[None,:,:]\n",
    "\n",
    "# onehot vectorizing output labels\n",
    "def one_hot(labels, n_class):\n",
    "    \"\"\" One-hot encoding \"\"\"\n",
    "    expansion = np.eye(n_class)\n",
    "    y = expansion[:, labels-1].T\n",
    "    assert y.shape[1] == n_class, \"Wrong number of labels!\"\n",
    "\n",
    "    return y\n",
    "\n",
    "# get minibatches for learning\n",
    "def get_batches(X, y, batch_size):\n",
    "    \"\"\" Return a generator for batches \"\"\"\n",
    "    n_batches = len(X) // batch_size\n",
    "    X, y = X[:n_batches*batch_size], y[:n_batches*batch_size]\n",
    "\n",
    "    # Loop over batches and yield\n",
    "    for b in range(0, len(X), batch_size):\n",
    "        yield X[b:b+batch_size], y[b:b+batch_size]"
   ]
  },
  {
   "cell_type": "code",
   "execution_count": 13,
   "metadata": {},
   "outputs": [],
   "source": [
    "# Standardize/normalize train and test\n",
    "X_train_norm = normalize(inputs=TrainData)\n",
    "X_valid_norm = normalize(inputs=ValidData)\n",
    "X_test_norm = normalize(inputs=TestData)"
   ]
  },
  {
   "cell_type": "code",
   "execution_count": 14,
   "metadata": {},
   "outputs": [
    {
     "data": {
      "text/plain": [
       "((3176, 192, 64),\n",
       " dtype('<f8'),\n",
       " (1360, 192, 64),\n",
       " dtype('<f8'),\n",
       " (1944, 192, 64),\n",
       " dtype('<f8'))"
      ]
     },
     "execution_count": 14,
     "metadata": {},
     "output_type": "execute_result"
    }
   ],
   "source": [
    "(X_train_norm.shape, X_train_norm.dtype, \n",
    "X_valid_norm.shape, X_valid_norm.dtype,\n",
    "X_test_norm.shape, X_test_norm.dtype)"
   ]
  },
  {
   "cell_type": "code",
   "execution_count": 15,
   "metadata": {},
   "outputs": [],
   "source": [
    "LabelsAll = SType[:]\n",
    "TrainLabelsAll = SType[:-length]\n",
    "TestLabels = SType[-length:]"
   ]
  },
  {
   "cell_type": "code",
   "execution_count": 16,
   "metadata": {},
   "outputs": [
    {
     "data": {
      "text/plain": [
       "((6480,), (4536,), (1944,))"
      ]
     },
     "execution_count": 16,
     "metadata": {},
     "output_type": "execute_result"
    }
   ],
   "source": [
    "LabelsAll.shape, TrainLabelsAll.shape, TestLabels.shape"
   ]
  },
  {
   "cell_type": "code",
   "execution_count": 17,
   "metadata": {},
   "outputs": [],
   "source": [
    "TrainLabels = TrainLabelsAll[:-length2]\n",
    "ValidLabels = TrainLabelsAll[-length2:]"
   ]
  },
  {
   "cell_type": "code",
   "execution_count": 18,
   "metadata": {},
   "outputs": [
    {
     "data": {
      "text/plain": [
       "((3176,), (1360,))"
      ]
     },
     "execution_count": 18,
     "metadata": {},
     "output_type": "execute_result"
    }
   ],
   "source": [
    "TrainLabels.shape, ValidLabels.shape"
   ]
  },
  {
   "cell_type": "code",
   "execution_count": 19,
   "metadata": {},
   "outputs": [],
   "source": [
    "Y_train = np.array(TrainLabels, dtype=int)\n",
    "Y_valid = np.array(ValidLabels, dtype=int)\n",
    "Y_test = np.array(TestLabels, dtype=int)"
   ]
  },
  {
   "cell_type": "code",
   "execution_count": 20,
   "metadata": {},
   "outputs": [
    {
     "data": {
      "text/plain": [
       "((3176,), dtype('int64'), (1944,), dtype('int64'), (1360,), dtype('int64'))"
      ]
     },
     "execution_count": 20,
     "metadata": {},
     "output_type": "execute_result"
    }
   ],
   "source": [
    "(Y_train.shape, Y_train.dtype, \n",
    "Y_test.shape, Y_test.dtype,\n",
    "Y_valid.shape, Y_valid.dtype)"
   ]
  },
  {
   "cell_type": "markdown",
   "metadata": {},
   "source": [
    "### Hyperparameters"
   ]
  },
  {
   "cell_type": "code",
   "execution_count": 27,
   "metadata": {},
   "outputs": [],
   "source": [
    "# Input data\n",
    "batch_size = X_train_norm.shape[0]// 100 # minibatch size & number of minibatches\n",
    "seq_len = X_train_norm.shape[1] # Number of steps: each trial length\n",
    "n_channels = X_train_norm.shape[2] # number of channels in each trial\n",
    "\n",
    "# Output labels\n",
    "n_classes = int(LabelsAll.max() + 1)\n",
    "\n",
    "# Tweekable parameters\n",
    "learning_rate = 0.001 #1e-3\n",
    "epochs = 20 # num iterations for updating model\n",
    "keep_prob = 0.50 # 90% neurons are kept and 10% are dropped out"
   ]
  },
  {
   "cell_type": "code",
   "execution_count": 28,
   "metadata": {},
   "outputs": [],
   "source": [
    "Y_train_onehot = one_hot(labels=Y_train, n_class=n_classes)\n",
    "Y_valid_onehot = one_hot(labels=Y_valid, n_class=n_classes)\n",
    "Y_test_onehot = one_hot(labels=Y_test, n_class=n_classes)"
   ]
  },
  {
   "cell_type": "code",
   "execution_count": 29,
   "metadata": {},
   "outputs": [
    {
     "data": {
      "text/plain": [
       "((3176, 2),\n",
       " (1360, 2),\n",
       " (1944, 2),\n",
       " (3176, 192, 64),\n",
       " (1360, 192, 64),\n",
       " (1944, 192, 64))"
      ]
     },
     "execution_count": 29,
     "metadata": {},
     "output_type": "execute_result"
    }
   ],
   "source": [
    "(Y_train_onehot.shape, Y_valid_onehot.shape, Y_test_onehot.shape,\n",
    " X_train_norm.shape, X_valid_norm.shape, X_test_norm.shape)"
   ]
  },
  {
   "cell_type": "markdown",
   "metadata": {},
   "source": [
    "# GPUs availability or CPU"
   ]
  },
  {
   "cell_type": "code",
   "execution_count": 30,
   "metadata": {},
   "outputs": [
    {
     "name": "stdout",
     "output_type": "stream",
     "text": [
      "TensorFlow Version: 1.3.0\n",
      "Default GPU Device: /gpu:0\n"
     ]
    }
   ],
   "source": [
    "\"\"\"\n",
    "DON'T MODIFY ANYTHING IN THIS CELL\n",
    "\"\"\"\n",
    "from distutils.version import LooseVersion\n",
    "import warnings\n",
    "import tensorflow as tf\n",
    "\n",
    "# Check TensorFlow Version\n",
    "assert LooseVersion(tf.__version__) >= LooseVersion('1.0'), 'Please use TensorFlow version 1.0 or newer.  You are using {}'.format(tf.__version__)\n",
    "print('TensorFlow Version: {}'.format(tf.__version__))\n",
    "\n",
    "# Check for a GPU\n",
    "if not tf.test.gpu_device_name():\n",
    "    warnings.warn('No GPU found. Please use a GPU to train your neural network.')\n",
    "else:\n",
    "    print('Default GPU Device: {}'.format(tf.test.gpu_device_name()))"
   ]
  },
  {
   "cell_type": "code",
   "execution_count": 31,
   "metadata": {},
   "outputs": [],
   "source": [
    "#  No graphs is needed on tensorflow\n",
    "inputs_ = tf.placeholder(tf.float32, [None, seq_len, n_channels], name = 'inputs_')\n",
    "labels_ = tf.placeholder(tf.float32, [None, n_classes], name = 'labels_')\n",
    "keep_prob_ = tf.placeholder(tf.float32, name = 'keep_prob_')\n",
    "learning_rate_ = tf.placeholder(tf.float32, name = 'learning_rate_')"
   ]
  },
  {
   "cell_type": "markdown",
   "metadata": {},
   "source": [
    "# Convolutional Layers, FC Layer, and Output layer"
   ]
  },
  {
   "cell_type": "code",
   "execution_count": 32,
   "metadata": {},
   "outputs": [
    {
     "name": "stdout",
     "output_type": "stream",
     "text": [
      "(?, 91, 18)\n",
      "(?, 1638) (?, 3276)\n",
      "(?, 2)\n"
     ]
    }
   ],
   "source": [
    "# (batch, 192, 9) --> (batch, 91, 18)\n",
    "out_conv = tf.layers.conv1d(inputs=inputs_, filters=18, kernel_size=12, strides=2, \n",
    "                         padding='valid', activation = tf.nn.relu)\n",
    "out_conv = tf.nn.dropout(x=out_conv, keep_prob=keep_prob_)\n",
    "print(out_conv.shape)\n",
    "\n",
    "# (batch, 91, 18) --> (batch, 91*18) --> (batch, 91*18*2)\n",
    "# 91 * 18 = 728 + 910 = 1638 * 2 = 3276\n",
    "# (batch, 91, 18) --> (batch, 1638) --> (batch, 3276)\n",
    "in_fc = tf.reshape(out_conv, (-1, 91*18))\n",
    "out_fc = tf.layers.dense(inputs=in_fc, units=91*18*2, activation=tf.nn.relu)\n",
    "out_fc = tf.nn.dropout(x=out_fc, keep_prob=keep_prob_)\n",
    "print(in_fc.shape, out_fc.shape)\n",
    "\n",
    "# (batch, 91*18*2) --> (batch, 2) \n",
    "logits = tf.layers.dense(inputs=out_fc, units=n_classes)\n",
    "print(logits.shape)"
   ]
  },
  {
   "cell_type": "code",
   "execution_count": 33,
   "metadata": {},
   "outputs": [],
   "source": [
    "# Cost function\n",
    "cost_tensor = tf.nn.softmax_cross_entropy_with_logits(logits=logits, labels=labels_)\n",
    "cost = tf.reduce_mean(input_tensor=cost_tensor)\n",
    "\n",
    "# Optimizer\n",
    "optimizer = tf.train.AdamOptimizer(learning_rate=learning_rate_).minimize(cost)\n",
    "\n",
    "# Accuracy\n",
    "correct_pred = tf.equal(tf.argmax(logits, 1), tf.argmax(labels_, 1))\n",
    "accuracy = tf.reduce_mean(tf.cast(correct_pred, tf.float32), name='accuracy')"
   ]
  },
  {
   "cell_type": "markdown",
   "metadata": {},
   "source": [
    "### Train the network"
   ]
  },
  {
   "cell_type": "code",
   "execution_count": 34,
   "metadata": {},
   "outputs": [
    {
     "name": "stdout",
     "output_type": "stream",
     "text": [
      "Epoch: 1/20 Train loss: 0.619637 Valid loss: 0.488151 train acc: 0.838710 Valid acc: 0.831618\n",
      "Epoch: 2/20 Train loss: 0.581029 Valid loss: 0.440592 train acc: 0.838710 Valid acc: 0.835294\n",
      "Epoch: 3/20 Train loss: 0.422348 Valid loss: 0.409216 train acc: 0.838710 Valid acc: 0.833824\n",
      "Epoch: 4/20 Train loss: 0.491675 Valid loss: 0.417317 train acc: 0.838710 Valid acc: 0.838971\n",
      "Epoch: 5/20 Train loss: 0.300732 Valid loss: 0.383577 train acc: 0.838710 Valid acc: 0.848529\n",
      "Epoch: 6/20 Train loss: 0.397338 Valid loss: 0.404593 train acc: 0.838710 Valid acc: 0.847794\n",
      "Epoch: 7/20 Train loss: 0.455494 Valid loss: 0.378114 train acc: 0.806452 Valid acc: 0.846324\n",
      "Epoch: 8/20 Train loss: 0.389841 Valid loss: 0.363730 train acc: 0.806452 Valid acc: 0.853676\n",
      "Epoch: 9/20 Train loss: 0.308682 Valid loss: 0.378148 train acc: 0.838710 Valid acc: 0.847059\n",
      "Epoch: 10/20 Train loss: 0.345080 Valid loss: 0.420865 train acc: 0.838710 Valid acc: 0.837500\n",
      "Epoch: 11/20 Train loss: 0.509460 Valid loss: 0.428181 train acc: 0.870968 Valid acc: 0.852941\n",
      "Epoch: 12/20 Train loss: 0.344784 Valid loss: 0.369480 train acc: 0.903226 Valid acc: 0.856618\n",
      "Epoch: 13/20 Train loss: 0.561577 Valid loss: 0.404629 train acc: 0.806452 Valid acc: 0.845588\n",
      "Epoch: 14/20 Train loss: 0.380752 Valid loss: 0.504491 train acc: 0.903226 Valid acc: 0.838971\n",
      "Epoch: 15/20 Train loss: 0.340702 Valid loss: 0.353663 train acc: 0.838710 Valid acc: 0.855147\n",
      "Epoch: 16/20 Train loss: 0.344239 Valid loss: 0.365547 train acc: 0.806452 Valid acc: 0.853676\n",
      "Epoch: 17/20 Train loss: 0.355839 Valid loss: 0.403687 train acc: 0.870968 Valid acc: 0.855882\n",
      "Epoch: 18/20 Train loss: 0.433922 Valid loss: 0.400106 train acc: 0.838710 Valid acc: 0.861029\n",
      "Epoch: 19/20 Train loss: 0.493799 Valid loss: 0.416598 train acc: 0.741935 Valid acc: 0.841912\n",
      "Epoch: 20/20 Train loss: 0.400735 Valid loss: 0.377508 train acc: 0.870968 Valid acc: 0.852941\n",
      "Test loss: 0.352047 Test acc: 0.867284\n"
     ]
    }
   ],
   "source": [
    "train_losses, valid_losses = [], []\n",
    "train_acc_list, valid_acc_list = [], []\n",
    "\n",
    "with tf.Session() as sess:\n",
    "    sess.run(tf.global_variables_initializer())\n",
    "   \n",
    "    # Loop over epochs\n",
    "    for e in range(epochs):\n",
    "        \n",
    "        # Loop over training minibatches\n",
    "        for x, y in get_batches(X_train_norm, Y_train_onehot, batch_size):\n",
    "            \n",
    "            # Feed dictionary of training minibatch\n",
    "            feed = {inputs_:x, labels_:y, keep_prob_:keep_prob, learning_rate_:learning_rate}\n",
    "            train_loss, _ , train_acc = sess.run([cost, optimizer, accuracy], feed_dict = feed)\n",
    "            \n",
    "            # Feed dictionary of validation fullbatch \n",
    "            feed = {inputs_:X_valid_norm, labels_:Y_valid_onehot, keep_prob_:1.0}\n",
    "            valid_loss, valid_acc = sess.run([cost, accuracy], feed_dict = feed)\n",
    "\n",
    "            # Ploting the learning curve for training and validation\n",
    "            train_losses.append(train_loss)\n",
    "            valid_losses.append(valid_loss)\n",
    "            train_acc_list.append(train_acc)\n",
    "            valid_acc_list.append(valid_acc)\n",
    "\n",
    "        # Print at each iter/ epoch\n",
    "        print(\"Epoch: {}/{}\".format(e+1, epochs),\n",
    "              \"Train loss: {:6f}\".format(train_loss),\n",
    "              \"Valid loss: {:.6f}\".format(valid_loss),\n",
    "              \"train acc: {:.6f}\".format(train_acc),\n",
    "              \"Valid acc: {:.6f}\".format(valid_acc))\n",
    "\n",
    "    # Feed dictionary of testing fullbatch \n",
    "    feed = {inputs_:X_test_norm, labels_:Y_test_onehot, keep_prob_:1.0}\n",
    "    loss, acc = sess.run([cost, accuracy], feed_dict = feed)\n",
    "    \n",
    "    # Print at each iter/ epoch\n",
    "    print(\"Test loss: {:6f}\".format(loss),\n",
    "          \"Test acc: {:.6f}\".format(acc))\n"
   ]
  },
  {
   "cell_type": "code",
   "execution_count": 35,
   "metadata": {},
   "outputs": [
    {
     "data": {
      "image/png": "[encoded data removed]",
      "text/plain": [
       "<matplotlib.figure.Figure at 0x7f4add41bf60>"
      ]
     },
     "metadata": {},
     "output_type": "display_data"
    }
   ],
   "source": [
    "import matplotlib.pyplot as mplot\n",
    "\n",
    "mplot.plot(train_losses, label='train_losses')\n",
    "mplot.plot(valid_losses, label='valid_losses')\n",
    "mplot.legend()\n",
    "mplot.show()"
   ]
  },
  {
   "cell_type": "code",
   "execution_count": 36,
   "metadata": {},
   "outputs": [
    {
     "data": {
      "image/png": "[encoded data removed]",
      "text/plain": [
       "<matplotlib.figure.Figure at 0x7f4a6c30af28>"
      ]
     },
     "metadata": {},
     "output_type": "display_data"
    }
   ],
   "source": [
    "# import matplotlib.pyplot as mplot\n",
    "\n",
    "mplot.plot(train_acc_list, label='train_acc_list')\n",
    "mplot.plot(valid_acc_list, label='valid_acc_list')\n",
    "mplot.legend()\n",
    "mplot.show()"
   ]
  },
  {
   "cell_type": "code",
   "execution_count": null,
   "metadata": {},
   "outputs": [],
   "source": []
  }
 ],
 "metadata": {
  "kernelspec": {
   "display_name": "Python 3",
   "language": "python",
   "name": "python3"
  },
  "language_info": {
   "codemirror_mode": {
    "name": "ipython",
    "version": 3
   },
   "file_extension": ".py",
   "mimetype": "text/x-python",
   "name": "python",
   "nbconvert_exporter": "python",
   "pygments_lexer": "ipython3",
   "version": "3.6.3"
  }
 },
 "nbformat": 4,
 "nbformat_minor": 2
}
