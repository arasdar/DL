{
 "cells": [
  {
   "cell_type": "code",
   "execution_count": 1,
   "metadata": {},
   "outputs": [],
   "source": [
    "import scipy.io as spio\n",
    "import numpy as np"
   ]
  },
  {
   "cell_type": "code",
   "execution_count": 2,
   "metadata": {},
   "outputs": [],
   "source": [
    "X = spio.loadmat(file_name='../data/bci-sample-data/x.mat')"
   ]
  },
  {
   "cell_type": "code",
   "execution_count": 3,
   "metadata": {},
   "outputs": [],
   "source": [
    "Y = spio.loadmat(file_name='../data/bci-sample-data/y.mat')"
   ]
  },
  {
   "cell_type": "code",
   "execution_count": 4,
   "metadata": {},
   "outputs": [],
   "source": [
    "Data = X['Intensification_Data']\n",
    "SType = Y['Intensification_SType'].mean(axis=1)"
   ]
  },
  {
   "cell_type": "code",
   "execution_count": 5,
   "metadata": {},
   "outputs": [
    {
     "data": {
      "text/plain": [
       "((6480, 192, 64), (6480,), dtype('<f8'), dtype('float64'))"
      ]
     },
     "execution_count": 5,
     "metadata": {},
     "output_type": "execute_result"
    }
   ],
   "source": [
    "(Data.shape, SType.shape, Data.dtype, SType.dtype)"
   ]
  },
  {
   "cell_type": "code",
   "execution_count": 6,
   "metadata": {},
   "outputs": [
    {
     "data": {
      "text/plain": [
       "1944"
      ]
     },
     "execution_count": 6,
     "metadata": {},
     "output_type": "execute_result"
    }
   ],
   "source": [
    "# 30 % total data test\n",
    "# 70 % total data train+valid\n",
    "length = int(Data.shape[0] * 0.30)\n",
    "length"
   ]
  },
  {
   "cell_type": "code",
   "execution_count": 7,
   "metadata": {},
   "outputs": [],
   "source": [
    "TrainDataAll = Data[:-length]\n",
    "TestData = Data[-length:]"
   ]
  },
  {
   "cell_type": "code",
   "execution_count": 8,
   "metadata": {},
   "outputs": [
    {
     "data": {
      "text/plain": [
       "((4536, 192, 64), (1944, 192, 64))"
      ]
     },
     "execution_count": 8,
     "metadata": {},
     "output_type": "execute_result"
    }
   ],
   "source": [
    "TrainDataAll.shape, TestData.shape"
   ]
  },
  {
   "cell_type": "code",
   "execution_count": 9,
   "metadata": {},
   "outputs": [
    {
     "data": {
      "text/plain": [
       "1360"
      ]
     },
     "execution_count": 9,
     "metadata": {},
     "output_type": "execute_result"
    }
   ],
   "source": [
    "# 30% total train data is valid\n",
    "# 70% total trainALl is training\n",
    "length2 = int(TrainDataAll.shape[0] * 0.30)\n",
    "length2"
   ]
  },
  {
   "cell_type": "code",
   "execution_count": 10,
   "metadata": {},
   "outputs": [],
   "source": [
    "TrainData = TrainDataAll[:-length2]\n",
    "ValidData = TrainDataAll[-length2:]"
   ]
  },
  {
   "cell_type": "code",
   "execution_count": 11,
   "metadata": {},
   "outputs": [
    {
     "data": {
      "text/plain": [
       "((3176, 192, 64), (1360, 192, 64))"
      ]
     },
     "execution_count": 11,
     "metadata": {},
     "output_type": "execute_result"
    }
   ],
   "source": [
    "TrainData.shape, ValidData.shape"
   ]
  },
  {
   "cell_type": "code",
   "execution_count": 12,
   "metadata": {},
   "outputs": [],
   "source": [
    "# Normalizing input data\n",
    "def normalize(inputs):\n",
    "    return (inputs - inputs.mean(axis=0)[None,:,:]) / inputs.std(axis=0)[None,:,:]\n",
    "\n",
    "# onehot vectorizing output labels\n",
    "def one_hot(labels, n_class):\n",
    "    \"\"\" One-hot encoding \"\"\"\n",
    "    expansion = np.eye(n_class)\n",
    "    y = expansion[:, labels-1].T\n",
    "    assert y.shape[1] == n_class, \"Wrong number of labels!\"\n",
    "\n",
    "    return y\n",
    "\n",
    "# get minibatches for learning\n",
    "def get_batches(X, y, batch_size):\n",
    "    \"\"\" Return a generator for batches \"\"\"\n",
    "    n_batches = len(X) // batch_size\n",
    "    X, y = X[:n_batches*batch_size], y[:n_batches*batch_size]\n",
    "\n",
    "    # Loop over batches and yield\n",
    "    for b in range(0, len(X), batch_size):\n",
    "        yield X[b:b+batch_size], y[b:b+batch_size]"
   ]
  },
  {
   "cell_type": "code",
   "execution_count": 13,
   "metadata": {},
   "outputs": [],
   "source": [
    "# Standardize/normalize train and test\n",
    "X_train_norm = normalize(inputs=TrainData)\n",
    "X_valid_norm = normalize(inputs=ValidData)\n",
    "X_test_norm = normalize(inputs=TestData)"
   ]
  },
  {
   "cell_type": "code",
   "execution_count": 14,
   "metadata": {},
   "outputs": [
    {
     "data": {
      "text/plain": [
       "((3176, 192, 64),\n",
       " dtype('<f8'),\n",
       " (1360, 192, 64),\n",
       " dtype('<f8'),\n",
       " (1944, 192, 64),\n",
       " dtype('<f8'))"
      ]
     },
     "execution_count": 14,
     "metadata": {},
     "output_type": "execute_result"
    }
   ],
   "source": [
    "(X_train_norm.shape, X_train_norm.dtype, \n",
    "X_valid_norm.shape, X_valid_norm.dtype,\n",
    "X_test_norm.shape, X_test_norm.dtype)"
   ]
  },
  {
   "cell_type": "code",
   "execution_count": 15,
   "metadata": {},
   "outputs": [],
   "source": [
    "LabelsAll = SType[:]\n",
    "TrainLabelsAll = SType[:-length]\n",
    "TestLabels = SType[-length:]"
   ]
  },
  {
   "cell_type": "code",
   "execution_count": 16,
   "metadata": {},
   "outputs": [
    {
     "data": {
      "text/plain": [
       "((6480,), (4536,), (1944,))"
      ]
     },
     "execution_count": 16,
     "metadata": {},
     "output_type": "execute_result"
    }
   ],
   "source": [
    "LabelsAll.shape, TrainLabelsAll.shape, TestLabels.shape"
   ]
  },
  {
   "cell_type": "code",
   "execution_count": 17,
   "metadata": {},
   "outputs": [],
   "source": [
    "TrainLabels = TrainLabelsAll[:-length2]\n",
    "ValidLabels = TrainLabelsAll[-length2:]"
   ]
  },
  {
   "cell_type": "code",
   "execution_count": 18,
   "metadata": {},
   "outputs": [
    {
     "data": {
      "text/plain": [
       "((3176,), (1360,))"
      ]
     },
     "execution_count": 18,
     "metadata": {},
     "output_type": "execute_result"
    }
   ],
   "source": [
    "TrainLabels.shape, ValidLabels.shape"
   ]
  },
  {
   "cell_type": "code",
   "execution_count": 19,
   "metadata": {},
   "outputs": [],
   "source": [
    "Y_train = np.array(TrainLabels, dtype=int)\n",
    "Y_valid = np.array(ValidLabels, dtype=int)\n",
    "Y_test = np.array(TestLabels, dtype=int)"
   ]
  },
  {
   "cell_type": "code",
   "execution_count": 20,
   "metadata": {},
   "outputs": [
    {
     "data": {
      "text/plain": [
       "((3176,), dtype('int64'), (1944,), dtype('int64'), (1360,), dtype('int64'))"
      ]
     },
     "execution_count": 20,
     "metadata": {},
     "output_type": "execute_result"
    }
   ],
   "source": [
    "(Y_train.shape, Y_train.dtype, \n",
    "Y_test.shape, Y_test.dtype,\n",
    "Y_valid.shape, Y_valid.dtype)"
   ]
  },
  {
   "cell_type": "markdown",
   "metadata": {},
   "source": [
    "### Hyperparameters"
   ]
  },
  {
   "cell_type": "code",
   "execution_count": 21,
   "metadata": {},
   "outputs": [],
   "source": [
    "# Input data\n",
    "batch_size = X_train_norm.shape[0]// 100 # minibatch size & number of minibatches\n",
    "seq_len = X_train_norm.shape[1] # Number of steps: each trial length\n",
    "n_channels = X_train_norm.shape[2] # number of channels in each trial\n",
    "\n",
    "# Output labels\n",
    "n_classes = int(LabelsAll.max() + 1)\n",
    "\n",
    "# Tweekable parameters\n",
    "learning_rate = 0.001 #1e-3\n",
    "epochs = 1 # num iterations for updating model\n",
    "keep_prob = 0.50 # 90% neurons are kept and 10% are dropped out"
   ]
  },
  {
   "cell_type": "code",
   "execution_count": 22,
   "metadata": {},
   "outputs": [],
   "source": [
    "Y_train_onehot = one_hot(labels=Y_train, n_class=n_classes)\n",
    "Y_valid_onehot = one_hot(labels=Y_valid, n_class=n_classes)\n",
    "Y_test_onehot = one_hot(labels=Y_test, n_class=n_classes)"
   ]
  },
  {
   "cell_type": "code",
   "execution_count": 23,
   "metadata": {},
   "outputs": [
    {
     "data": {
      "text/plain": [
       "((3176, 2),\n",
       " (1360, 2),\n",
       " (1944, 2),\n",
       " (3176, 192, 64),\n",
       " (1360, 192, 64),\n",
       " (1944, 192, 64))"
      ]
     },
     "execution_count": 23,
     "metadata": {},
     "output_type": "execute_result"
    }
   ],
   "source": [
    "(Y_train_onehot.shape, Y_valid_onehot.shape, Y_test_onehot.shape,\n",
    " X_train_norm.shape, X_valid_norm.shape, X_test_norm.shape)"
   ]
  },
  {
   "cell_type": "markdown",
   "metadata": {},
   "source": [
    "# GPUs availability or CPU"
   ]
  },
  {
   "cell_type": "code",
   "execution_count": 24,
   "metadata": {},
   "outputs": [
    {
     "name": "stdout",
     "output_type": "stream",
     "text": [
      "TensorFlow Version: 1.3.0\n",
      "Default GPU Device: /gpu:0\n"
     ]
    }
   ],
   "source": [
    "\"\"\"\n",
    "DON'T MODIFY ANYTHING IN THIS CELL\n",
    "\"\"\"\n",
    "from distutils.version import LooseVersion\n",
    "import warnings\n",
    "import tensorflow as tf\n",
    "\n",
    "# Check TensorFlow Version\n",
    "assert LooseVersion(tf.__version__) >= LooseVersion('1.0'), 'Please use TensorFlow version 1.0 or newer.  You are using {}'.format(tf.__version__)\n",
    "print('TensorFlow Version: {}'.format(tf.__version__))\n",
    "\n",
    "# Check for a GPU\n",
    "if not tf.test.gpu_device_name():\n",
    "    warnings.warn('No GPU found. Please use a GPU to train your neural network.')\n",
    "else:\n",
    "    print('Default GPU Device: {}'.format(tf.test.gpu_device_name()))"
   ]
  },
  {
   "cell_type": "code",
   "execution_count": 25,
   "metadata": {},
   "outputs": [],
   "source": [
    "#  No graphs is needed on tensorflow\n",
    "inputs_ = tf.placeholder(tf.float32, [None, seq_len, n_channels], name = 'inputs_')\n",
    "labels_ = tf.placeholder(tf.float32, [None, n_classes], name = 'labels_')\n",
    "keep_prob_ = tf.placeholder(tf.float32, name = 'keep_prob_')\n",
    "learning_rate_ = tf.placeholder(tf.float32, name = 'learning_rate_')"
   ]
  },
  {
   "cell_type": "markdown",
   "metadata": {},
   "source": [
    "# Convolutional Layers, FC Layer, and Output layer"
   ]
  },
  {
   "cell_type": "code",
   "execution_count": 26,
   "metadata": {},
   "outputs": [
    {
     "name": "stdout",
     "output_type": "stream",
     "text": [
      "(?, 91, 18)\n",
      "(?, 1638) (?, 3276)\n",
      "(?, 2)\n"
     ]
    }
   ],
   "source": [
    "# (batch, 192, 64) --> (batch, 94, 128)\n",
    "# (192 - 6 + 0)/2 + 1 = (186/2)+1= 93+1= 94\n",
    "# (2/6)==(1/3) with strides/kernel_size is 33.333% non-overlap/diff region and \n",
    "# 66.666% overlapping window/ common region\n",
    "in_conv = inputs_\n",
    "out_conv = tf.layers.conv1d(inputs=in_conv, filters=128, kernel_size=6, strides=2, padding='valid')\n",
    "out_conv = tf.layers.batch_normalization(inputs=out_conv)\n",
    "out_conv = tf.nn.relu(features=out_conv)\n",
    "out_conv = tf.nn.dropout(x=out_conv, keep_prob=keep_prob_)\n",
    "print(out_conv.shape)\n",
    "\n",
    "# (batch, 94, 128) --> (batch, 45, 256)\n",
    "# (94 - 6 + 0)/2 + 1 = (88/2)+1= 44+1= 45\n",
    "# (2/6)==(1/3) with strides/kernel_size is 33.333% non-overlap/diff region and \n",
    "# 66.666% overlapping window/ common region\n",
    "in_conv = out_conv\n",
    "out_conv = tf.layers.conv1d(inputs=in_conv, filters=256, kernel_size=6, strides=2, padding='valid')\n",
    "out_conv = tf.layers.batch_normalization(inputs=out_conv)\n",
    "out_conv = tf.nn.relu(features=out_conv)\n",
    "out_conv = tf.nn.dropout(x=out_conv, keep_prob=keep_prob_)\n",
    "print(out_conv.shape)\n",
    "\n",
    "# (batch, 45, 256) --> (batch, 45*256) --> (batch, 45*256*2)\n",
    "# 45*256 = 50*64 - 1*64 = 3200 - 64 = 3136, 3136*2 = 6272\n",
    "# (batch, 49, 64) --> (batch, 3136) --> (batch, 6272)\n",
    "in_fc = tf.reshape(tensor=out_conv, shape=(-1, 49*64))\n",
    "out_fc = tf.layers.dense(inputs=in_fc, units=49*64*2)\n",
    "out_fc = tf.layers.batch_normalization(inputs=out_fc)\n",
    "out_fc = tf.nn.relu(features=out_fc)\n",
    "out_fc = tf.nn.dropout(x=out_fc, keep_prob=keep_prob_)\n",
    "print(in_fc.shape, out_fc.shape)\n",
    "\n",
    "# (batch, 49*64*2) --> (batch, 2) \n",
    "logits = tf.layers.dense(inputs=out_fc, units=n_classes)\n",
    "print(logits.shape)"
   ]
  },
  {
   "cell_type": "code",
   "execution_count": 27,
   "metadata": {},
   "outputs": [],
   "source": [
    "# Cost function\n",
    "cost_tensor = tf.nn.softmax_cross_entropy_with_logits(logits=logits, labels=labels_)\n",
    "cost = tf.reduce_mean(input_tensor=cost_tensor)\n",
    "\n",
    "# Optimizer\n",
    "optimizer = tf.train.AdamOptimizer(learning_rate=learning_rate_).minimize(cost)\n",
    "\n",
    "# Accuracy\n",
    "correct_pred = tf.equal(tf.argmax(logits, 1), tf.argmax(labels_, 1))\n",
    "accuracy = tf.reduce_mean(tf.cast(correct_pred, tf.float32), name='accuracy')"
   ]
  },
  {
   "cell_type": "markdown",
   "metadata": {},
   "source": [
    "### Train the network"
   ]
  },
  {
   "cell_type": "code",
   "execution_count": 29,
   "metadata": {},
   "outputs": [
    {
     "name": "stdout",
     "output_type": "stream",
     "text": [
      "Epoch: 1/1 Train loss: 2.645248 Valid loss: 2.747576 Train acc: 0.290323 Valid acc: 0.833458\n",
      "Epoch: 1/1 Train loss: 5.820436 Valid loss: 3.324418 Train acc: 0.806452 Valid acc: 0.833458\n",
      "Epoch: 1/1 Train loss: 5.537508 Valid loss: 3.691692 Train acc: 0.806452 Valid acc: 0.833458\n",
      "Epoch: 1/1 Train loss: 3.012818 Valid loss: 3.918167 Train acc: 0.870968 Valid acc: 0.833458\n",
      "Epoch: 1/1 Train loss: 4.399818 Valid loss: 4.010785 Train acc: 0.806452 Valid acc: 0.833458\n",
      "Epoch: 1/1 Train loss: 1.418678 Valid loss: 4.040558 Train acc: 0.870968 Valid acc: 0.833458\n",
      "Epoch: 1/1 Train loss: 2.091600 Valid loss: 3.965137 Train acc: 0.806452 Valid acc: 0.833351\n",
      "Epoch: 1/1 Train loss: 1.491446 Valid loss: 3.839387 Train acc: 0.741935 Valid acc: 0.831583\n",
      "Epoch: 1/1 Train loss: 1.709944 Valid loss: 3.677674 Train acc: 0.838710 Valid acc: 0.827040\n",
      "Epoch: 1/1 Train loss: 3.229526 Valid loss: 3.484790 Train acc: 0.838710 Valid acc: 0.812603\n",
      "Epoch: 1/1 Train loss: 1.200591 Valid loss: 3.561882 Train acc: 0.870968 Valid acc: 0.783400\n",
      "Epoch: 1/1 Train loss: 7.231702 Valid loss: 3.404876 Train acc: 0.354839 Valid acc: 0.773381\n",
      "Epoch: 1/1 Train loss: 3.128271 Valid loss: 3.323541 Train acc: 0.741935 Valid acc: 0.767961\n",
      "Epoch: 1/1 Train loss: 6.087270 Valid loss: 3.283622 Train acc: 0.741935 Valid acc: 0.763369\n",
      "Epoch: 1/1 Train loss: 4.366134 Valid loss: 3.243130 Train acc: 0.870968 Valid acc: 0.758440\n",
      "Epoch: 1/1 Train loss: 1.712506 Valid loss: 3.189771 Train acc: 0.677419 Valid acc: 0.753845\n",
      "Epoch: 1/1 Train loss: 1.520875 Valid loss: 3.119479 Train acc: 0.451613 Valid acc: 0.751291\n",
      "Epoch: 1/1 Train loss: 1.246445 Valid loss: 3.040017 Train acc: 0.806452 Valid acc: 0.750021\n",
      "Epoch: 1/1 Train loss: 1.135380 Valid loss: 2.951795 Train acc: 0.838710 Valid acc: 0.750543\n",
      "Epoch: 1/1 Train loss: 1.031258 Valid loss: 2.857049 Train acc: 0.806452 Valid acc: 0.751238\n",
      "Epoch: 1/1 Train loss: 2.264406 Valid loss: 2.759238 Train acc: 0.838710 Valid acc: 0.749437\n",
      "Epoch: 1/1 Train loss: 1.040278 Valid loss: 2.688494 Train acc: 0.612903 Valid acc: 0.740776\n",
      "Epoch: 1/1 Train loss: 1.308245 Valid loss: 2.608490 Train acc: 0.677419 Valid acc: 0.736521\n",
      "Epoch: 1/1 Train loss: 1.263915 Valid loss: 2.529808 Train acc: 0.483871 Valid acc: 0.737372\n",
      "Epoch: 1/1 Train loss: 0.654875 Valid loss: 2.462003 Train acc: 0.903226 Valid acc: 0.740015\n",
      "Epoch: 1/1 Train loss: 1.521104 Valid loss: 2.397668 Train acc: 0.677419 Valid acc: 0.742628\n",
      "Epoch: 1/1 Train loss: 0.867841 Valid loss: 2.334168 Train acc: 0.838710 Valid acc: 0.744381\n",
      "Epoch: 1/1 Train loss: 0.570612 Valid loss: 2.273914 Train acc: 0.806452 Valid acc: 0.745311\n",
      "Epoch: 1/1 Train loss: 0.749733 Valid loss: 2.220778 Train acc: 0.838710 Valid acc: 0.743720\n",
      "Epoch: 1/1 Train loss: 1.375620 Valid loss: 2.167556 Train acc: 0.645161 Valid acc: 0.744711\n",
      "Epoch: 1/1 Train loss: 1.559042 Valid loss: 2.117212 Train acc: 0.838710 Valid acc: 0.746049\n",
      "Epoch: 1/1 Train loss: 0.521383 Valid loss: 2.069701 Train acc: 0.774194 Valid acc: 0.747374\n",
      "Epoch: 1/1 Train loss: 0.757259 Valid loss: 2.024618 Train acc: 0.806452 Valid acc: 0.748278\n",
      "Epoch: 1/1 Train loss: 0.393233 Valid loss: 1.981869 Train acc: 0.806452 Valid acc: 0.748952\n",
      "Epoch: 1/1 Train loss: 1.003103 Valid loss: 1.941721 Train acc: 0.709677 Valid acc: 0.750338\n",
      "Epoch: 1/1 Train loss: 0.632625 Valid loss: 1.904447 Train acc: 0.806452 Valid acc: 0.751646\n",
      "Epoch: 1/1 Train loss: 0.271623 Valid loss: 1.870485 Train acc: 0.870968 Valid acc: 0.753188\n",
      "Epoch: 1/1 Train loss: 0.661208 Valid loss: 1.840294 Train acc: 0.774194 Valid acc: 0.754866\n",
      "Epoch: 1/1 Train loss: 1.175038 Valid loss: 1.810983 Train acc: 0.806452 Valid acc: 0.755920\n",
      "Epoch: 1/1 Train loss: 1.007962 Valid loss: 1.782168 Train acc: 0.838710 Valid acc: 0.756020\n",
      "Epoch: 1/1 Train loss: 0.523529 Valid loss: 1.755347 Train acc: 0.774194 Valid acc: 0.755219\n",
      "Epoch: 1/1 Train loss: 0.715987 Valid loss: 1.731481 Train acc: 0.774194 Valid acc: 0.753135\n",
      "Epoch: 1/1 Train loss: 0.711008 Valid loss: 1.708701 Train acc: 0.709677 Valid acc: 0.751130\n",
      "Epoch: 1/1 Train loss: 0.724565 Valid loss: 1.684926 Train acc: 0.580645 Valid acc: 0.750426\n",
      "Epoch: 1/1 Train loss: 0.890908 Valid loss: 1.661933 Train acc: 0.645161 Valid acc: 0.751638\n",
      "Epoch: 1/1 Train loss: 0.693609 Valid loss: 1.642556 Train acc: 0.774194 Valid acc: 0.753205\n",
      "Epoch: 1/1 Train loss: 1.113529 Valid loss: 1.624493 Train acc: 0.806452 Valid acc: 0.754816\n",
      "Epoch: 1/1 Train loss: 0.710541 Valid loss: 1.606966 Train acc: 0.870968 Valid acc: 0.756408\n",
      "Epoch: 1/1 Train loss: 0.834441 Valid loss: 1.589243 Train acc: 0.741935 Valid acc: 0.757934\n",
      "Epoch: 1/1 Train loss: 1.062781 Valid loss: 1.570713 Train acc: 0.870968 Valid acc: 0.759445\n",
      "Epoch: 1/1 Train loss: 0.786305 Valid loss: 1.551204 Train acc: 0.806452 Valid acc: 0.760455\n",
      "Epoch: 1/1 Train loss: 0.451718 Valid loss: 1.532603 Train acc: 0.838710 Valid acc: 0.760863\n",
      "Epoch: 1/1 Train loss: 0.712647 Valid loss: 1.515874 Train acc: 0.741935 Valid acc: 0.760478\n",
      "Epoch: 1/1 Train loss: 0.564654 Valid loss: 1.501795 Train acc: 0.838710 Valid acc: 0.759134\n",
      "Epoch: 1/1 Train loss: 0.540922 Valid loss: 1.490965 Train acc: 0.838710 Valid acc: 0.756625\n",
      "Epoch: 1/1 Train loss: 0.837651 Valid loss: 1.480562 Train acc: 0.741935 Valid acc: 0.754086\n",
      "Epoch: 1/1 Train loss: 0.819464 Valid loss: 1.470561 Train acc: 0.838710 Valid acc: 0.751504\n",
      "Epoch: 1/1 Train loss: 0.614875 Valid loss: 1.459666 Train acc: 0.677419 Valid acc: 0.749373\n",
      "Epoch: 1/1 Train loss: 0.974765 Valid loss: 1.448306 Train acc: 0.806452 Valid acc: 0.747505\n",
      "Epoch: 1/1 Train loss: 0.770217 Valid loss: 1.437331 Train acc: 0.774194 Valid acc: 0.745611\n",
      "Epoch: 1/1 Train loss: 0.865246 Valid loss: 1.424161 Train acc: 0.677419 Valid acc: 0.745207\n",
      "Epoch: 1/1 Train loss: 0.559086 Valid loss: 1.411183 Train acc: 0.806452 Valid acc: 0.745904\n",
      "Epoch: 1/1 Train loss: 0.615251 Valid loss: 1.399319 Train acc: 0.774194 Valid acc: 0.746782\n",
      "Epoch: 1/1 Train loss: 0.321372 Valid loss: 1.388475 Train acc: 0.870968 Valid acc: 0.747796\n",
      "Epoch: 1/1 Train loss: 0.854619 Valid loss: 1.377828 Train acc: 0.806452 Valid acc: 0.748768\n",
      "Epoch: 1/1 Train loss: 0.943156 Valid loss: 1.366916 Train acc: 0.774194 Valid acc: 0.749699\n",
      "Epoch: 1/1 Train loss: 1.099749 Valid loss: 1.355330 Train acc: 0.806452 Valid acc: 0.750367\n",
      "Epoch: 1/1 Train loss: 0.569577 Valid loss: 1.343824 Train acc: 0.903226 Valid acc: 0.750375\n",
      "Epoch: 1/1 Train loss: 1.037982 Valid loss: 1.334312 Train acc: 0.741935 Valid acc: 0.748198\n",
      "Epoch: 1/1 Train loss: 1.154050 Valid loss: 1.326205 Train acc: 0.645161 Valid acc: 0.744947\n",
      "Epoch: 1/1 Train loss: 0.688550 Valid loss: 1.317935 Train acc: 0.612903 Valid acc: 0.742358\n",
      "Epoch: 1/1 Train loss: 0.735296 Valid loss: 1.308225 Train acc: 0.548387 Valid acc: 0.741435\n",
      "Epoch: 1/1 Train loss: 0.587358 Valid loss: 1.297871 Train acc: 0.741935 Valid acc: 0.741843\n",
      "Epoch: 1/1 Train loss: 0.517047 Valid loss: 1.287825 Train acc: 0.741935 Valid acc: 0.742757\n",
      "Epoch: 1/1 Train loss: 0.413046 Valid loss: 1.278550 Train acc: 0.838710 Valid acc: 0.743886\n",
      "Epoch: 1/1 Train loss: 0.975994 Valid loss: 1.269602 Train acc: 0.838710 Valid acc: 0.745025\n",
      "Epoch: 1/1 Train loss: 1.293523 Valid loss: 1.260512 Train acc: 0.806452 Valid acc: 0.746154\n",
      "Epoch: 1/1 Train loss: 0.464751 Valid loss: 1.251766 Train acc: 0.806452 Valid acc: 0.747293\n",
      "Epoch: 1/1 Train loss: 0.654095 Valid loss: 1.243259 Train acc: 0.774194 Valid acc: 0.748317\n",
      "Epoch: 1/1 Train loss: 0.420561 Valid loss: 1.235058 Train acc: 0.870968 Valid acc: 0.749119\n",
      "Epoch: 1/1 Train loss: 0.437292 Valid loss: 1.227154 Train acc: 0.774194 Valid acc: 0.749808\n",
      "Epoch: 1/1 Train loss: 0.556248 Valid loss: 1.219463 Train acc: 0.774194 Valid acc: 0.750389\n",
      "Epoch: 1/1 Train loss: 0.346197 Valid loss: 1.212003 Train acc: 0.838710 Valid acc: 0.750911\n",
      "Epoch: 1/1 Train loss: 0.427540 Valid loss: 1.204745 Train acc: 0.903226 Valid acc: 0.751518\n",
      "Epoch: 1/1 Train loss: 0.544287 Valid loss: 1.197536 Train acc: 0.741935 Valid acc: 0.752235\n",
      "Epoch: 1/1 Train loss: 0.657707 Valid loss: 1.190430 Train acc: 0.612903 Valid acc: 0.753075\n",
      "Epoch: 1/1 Train loss: 0.509209 Valid loss: 1.183381 Train acc: 0.774194 Valid acc: 0.753921\n",
      "Epoch: 1/1 Train loss: 0.555567 Valid loss: 1.176383 Train acc: 0.806452 Valid acc: 0.754782\n",
      "Epoch: 1/1 Train loss: 0.371872 Valid loss: 1.169498 Train acc: 0.870968 Valid acc: 0.755616\n",
      "Epoch: 1/1 Train loss: 0.677489 Valid loss: 1.162674 Train acc: 0.806452 Valid acc: 0.756414\n"
     ]
    },
    {
     "name": "stdout",
     "output_type": "stream",
     "text": [
      "Epoch: 1/1 Train loss: 0.803277 Valid loss: 1.155765 Train acc: 0.838710 Valid acc: 0.757186\n",
      "Epoch: 1/1 Train loss: 0.667151 Valid loss: 1.148959 Train acc: 0.741935 Valid acc: 0.757958\n",
      "Epoch: 1/1 Train loss: 0.564863 Valid loss: 1.142248 Train acc: 0.774194 Valid acc: 0.758698\n",
      "Epoch: 1/1 Train loss: 0.338720 Valid loss: 1.135754 Train acc: 0.903226 Valid acc: 0.759445\n",
      "Epoch: 1/1 Train loss: 0.483259 Valid loss: 1.129520 Train acc: 0.774194 Valid acc: 0.760185\n",
      "Epoch: 1/1 Train loss: 0.310054 Valid loss: 1.123477 Train acc: 0.838710 Valid acc: 0.760925\n",
      "Epoch: 1/1 Train loss: 0.448501 Valid loss: 1.117595 Train acc: 0.870968 Valid acc: 0.761649\n",
      "Epoch: 1/1 Train loss: 0.892400 Valid loss: 1.111552 Train acc: 0.838710 Valid acc: 0.762344\n",
      "Epoch: 1/1 Train loss: 0.574339 Valid loss: 1.105459 Train acc: 0.870968 Valid acc: 0.762948\n",
      "Epoch: 1/1 Train loss: 0.507461 Valid loss: 1.099686 Train acc: 0.806452 Valid acc: 0.763293\n",
      "Epoch: 1/1 Train loss: 0.496719 Valid loss: 1.094455 Train acc: 0.806452 Valid acc: 0.763208\n",
      "Epoch: 1/1 Train loss: 0.684268 Valid loss: 1.088726 Train acc: 0.612903 Valid acc: 0.763720\n",
      "Epoch: 1/1 Test loss: 0.501759 Test acc: 0.817898\n"
     ]
    }
   ],
   "source": [
    "# Plotting the acc and loss curve\n",
    "train_acc = []\n",
    "train_loss = []\n",
    "\n",
    "valid_acc = []\n",
    "valid_loss = []\n",
    "\n",
    "with tf.Session() as sess:\n",
    "    # initalize session global variables just in the case they are initialized.\n",
    "    sess.run(tf.global_variables_initializer())\n",
    "    \n",
    "    for e in range(epochs):\n",
    "       \n",
    "        # Loop over batches\n",
    "        for x, y in get_batches(X_train_norm, Y_train_onehot, batch_size):\n",
    "            \n",
    "            # Feed dictionary\n",
    "            feed = {inputs_:x, labels_:y, keep_prob_: keep_prob, learning_rate_:learning_rate}\n",
    "            loss, _ , acc = sess.run([cost, optimizer, accuracy], feed_dict = feed)\n",
    "            \n",
    "            train_acc.append(acc)\n",
    "            train_loss.append(loss)\n",
    "            \n",
    "            ################################ Validation\n",
    "            # Initialize \n",
    "            loss_v_batch, acc_v_batch = [], []\n",
    "\n",
    "            # Loop over batches\n",
    "            for x_v, y_v in get_batches(X_valid_norm, Y_valid_onehot, batch_size):\n",
    "\n",
    "                # Feed dictionary\n",
    "                feed = {inputs_:x_v, labels_:y_v, keep_prob_: 1.0}\n",
    "                loss_v, acc_v = sess.run([cost, accuracy], feed_dict = feed)\n",
    "                \n",
    "                acc_v_batch.append(acc_v)\n",
    "                loss_v_batch.append(loss_v)\n",
    "                \n",
    "            valid_acc.append(np.mean(acc_v_batch))\n",
    "            valid_loss.append(np.mean(loss_v_batch))\n",
    "            \n",
    "            # Print info\n",
    "            print(\"Epoch: {}/{}\".format(e+1, epochs),\n",
    "                  \"Train loss: {:6f}\".format(loss),\n",
    "                  \"Valid loss: {:.6f}\".format(np.mean(valid_loss)),\n",
    "                  \"Train acc: {:6f}\".format(acc),\n",
    "                  \"Valid acc: {:.6f}\".format(np.mean(valid_acc)))\n",
    "            \n",
    "    ################################ Test\n",
    "    # Initialize \n",
    "    acc_batch, loss_batch = [], []\n",
    "\n",
    "    # Loop over batches\n",
    "    for x, y in get_batches(X_test_norm, Y_test_onehot, batch_size):\n",
    "\n",
    "        # Feed dictionary\n",
    "        feed = {inputs_:x, labels_:y, keep_prob_:1.0}\n",
    "        loss, acc = sess.run([cost, accuracy], feed_dict = feed)\n",
    "\n",
    "        acc_batch.append(acc)\n",
    "        loss_batch.append(loss)\n",
    "\n",
    "    # Print info\n",
    "    print(\"Epoch: {}/{}\".format(e+1, epochs),\n",
    "          \"Test loss: {:6f}\".format(np.mean(loss_batch)),\n",
    "          \"Test acc: {:6f}\".format(np.mean(acc_batch)))"
   ]
  },
  {
   "cell_type": "code",
   "execution_count": 31,
   "metadata": {},
   "outputs": [
    {
     "data": {
      "image/png": "[encoded data removed]",
      "text/plain": [
       "<matplotlib.figure.Figure at 0x7fe558024d68>"
      ]
     },
     "metadata": {},
     "output_type": "display_data"
    }
   ],
   "source": [
    "import matplotlib.pyplot as mplot\n",
    "\n",
    "mplot.plot(train_loss, label='train_loss')\n",
    "mplot.plot(valid_loss, label='valid_loss')\n",
    "mplot.legend()\n",
    "mplot.show()"
   ]
  },
  {
   "cell_type": "code",
   "execution_count": 33,
   "metadata": {},
   "outputs": [
    {
     "data": {
      "image/png": "[encoded data removed]",
      "text/plain": [
       "<matplotlib.figure.Figure at 0x7fe5481e9198>"
      ]
     },
     "metadata": {},
     "output_type": "display_data"
    }
   ],
   "source": [
    "# import matplotlib.pyplot as mplot\n",
    "\n",
    "mplot.plot(train_acc, label='train_acc')\n",
    "mplot.plot(valid_acc, label='valid_acc')\n",
    "mplot.legend()\n",
    "mplot.show()"
   ]
  },
  {
   "cell_type": "code",
   "execution_count": null,
   "metadata": {},
   "outputs": [],
   "source": []
  }
 ],
 "metadata": {
  "kernelspec": {
   "display_name": "Python 3",
   "language": "python",
   "name": "python3"
  },
  "language_info": {
   "codemirror_mode": {
    "name": "ipython",
    "version": 3
   },
   "file_extension": ".py",
   "mimetype": "text/x-python",
   "name": "python",
   "nbconvert_exporter": "python",
   "pygments_lexer": "ipython3",
   "version": "3.6.3"
  }
 },
 "nbformat": 4,
 "nbformat_minor": 2
}
