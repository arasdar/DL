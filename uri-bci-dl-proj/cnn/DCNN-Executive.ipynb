{
 "cells": [
  {
   "cell_type": "code",
   "execution_count": 1,
   "metadata": {},
   "outputs": [],
   "source": [
    "# Input data\n",
    "import scipy.io as spio\n",
    "import numpy as np\n",
    "from utilities import *\n",
    "from sklearn.model_selection import train_test_split"
   ]
  },
  {
   "cell_type": "code",
   "execution_count": 3,
   "metadata": {},
   "outputs": [
    {
     "name": "stdout",
     "output_type": "stream",
     "text": [
      "dict_keys(['__header__', '__version__', '__globals__', 'new_executive'])\n",
      "(3072, 13, 920) float64\n",
      "(920, 3072, 13)\n"
     ]
    }
   ],
   "source": [
    "new_executive = spio.loadmat(file_name='../data/bci_EEG_data-dl_proj/new_EEG_data/new_executive.mat')\n",
    "print(new_executive.keys())\n",
    "new_executive_data = new_executive['new_executive']\n",
    "print(new_executive_data.shape, new_executive_data.dtype)\n",
    "\n",
    "new_executive_data_transposed = new_executive_data.transpose(2, 0, 1)\n",
    "print(new_executive_data_transposed.shape)"
   ]
  },
  {
   "cell_type": "code",
   "execution_count": 4,
   "metadata": {},
   "outputs": [
    {
     "name": "stdout",
     "output_type": "stream",
     "text": [
      "dict_keys(['__header__', '__version__', '__globals__', 'new_executive_label'])\n",
      "(920, 1) uint16 [2]\n",
      "0.5 0.5\n"
     ]
    }
   ],
   "source": [
    "# Output data: class labels\n",
    "new_executive_label = spio.loadmat(file_name=\n",
    "                                   '../data/bci_EEG_data-dl_proj/new_EEG_data/new_executive_label.mat')\n",
    "print(new_executive_label.keys())\n",
    "new_executive_label_all = new_executive_label['new_executive_label']\n",
    "print(new_executive_label_all.shape, new_executive_label_all.dtype, \n",
    "      new_executive_label_all.max(axis=0))\n",
    "\n",
    "print(np.mean(new_executive_label_all==1), np.mean(new_executive_label_all==2))"
   ]
  },
  {
   "cell_type": "code",
   "execution_count": 5,
   "metadata": {},
   "outputs": [
    {
     "name": "stdout",
     "output_type": "stream",
     "text": [
      "(828, 3072, 13) (92, 3072, 13) (828, 1) (92, 1)\n",
      "float64 float64 uint16 uint16\n"
     ]
    }
   ],
   "source": [
    "# X_train_norm, X_vld, lab_tr, lab_vld = train_test_split(X_train, labels_train, stratify = labels_train, random_state = 123)\n",
    "X_train, X_valid, Y_train, Y_valid = train_test_split(new_executive_data_transposed,\n",
    "                                                      new_executive_label_all,\n",
    "                                                      stratify = new_executive_label_all,\n",
    "                                                      random_state = 123,\n",
    "                                                      test_size=0.10)\n",
    "print(X_train.shape, X_valid.shape, Y_train.shape, Y_valid.shape)\n",
    "print(X_train.dtype, X_valid.dtype, Y_train.dtype, Y_valid.dtype)"
   ]
  },
  {
   "cell_type": "code",
   "execution_count": 7,
   "metadata": {},
   "outputs": [
    {
     "name": "stdout",
     "output_type": "stream",
     "text": [
      "(828, 3072, 13) float64 (92, 3072, 13) float64\n"
     ]
    }
   ],
   "source": [
    "# Standardize/normalize train and test\n",
    "X_train_norm, X_valid_norm = standardize(train=X_train, test=X_valid)\n",
    "\n",
    "print(X_train_norm.shape, X_train_norm.dtype, \n",
    "X_valid_norm.shape, X_valid_norm.dtype)"
   ]
  },
  {
   "cell_type": "code",
   "execution_count": 8,
   "metadata": {},
   "outputs": [
    {
     "name": "stdout",
     "output_type": "stream",
     "text": [
      "batch_size, seq_len, n_channels 82 3072 13\n",
      "n_classes 2\n"
     ]
    }
   ],
   "source": [
    "### Hyperparameters\n",
    "\n",
    "# Input data\n",
    "batch_size = X_train_norm.shape[0]// 10 # minibatch size & number of minibatches\n",
    "seq_len = X_train_norm.shape[1] # Number of steps: each trial length\n",
    "n_channels = X_train_norm.shape[2] # number of channels in each trial\n",
    "print('batch_size, seq_len, n_channels', batch_size, seq_len, n_channels)\n",
    "\n",
    "# Output labels\n",
    "n_classes = int(new_executive_label_all.max(axis=0))\n",
    "print('n_classes', n_classes)\n",
    "\n",
    "# learning parameters\n",
    "learning_rate = 0.0001 #1e-4\n",
    "epochs = 100 # num iterations for updating model\n",
    "keep_prob = 0.50 # 90% neurons are kept and 10% are dropped out"
   ]
  },
  {
   "cell_type": "code",
   "execution_count": 9,
   "metadata": {},
   "outputs": [
    {
     "name": "stdout",
     "output_type": "stream",
     "text": [
      "(828, 2) (92, 2) (828, 3072, 13) (92, 3072, 13)\n"
     ]
    }
   ],
   "source": [
    "Y_train_onehot = one_hot(labels=Y_train.reshape(-1), n_class=n_classes)\n",
    "Y_valid_onehot = one_hot(labels=Y_valid.reshape(-1), n_class=n_classes)\n",
    "\n",
    "print(Y_train_onehot.shape, Y_valid_onehot.shape, \n",
    " X_train_norm.shape, X_valid_norm.shape)"
   ]
  },
  {
   "cell_type": "code",
   "execution_count": 10,
   "metadata": {},
   "outputs": [
    {
     "name": "stdout",
     "output_type": "stream",
     "text": [
      "TensorFlow Version: 1.3.0\n",
      "Default GPU Device: /gpu:0\n"
     ]
    }
   ],
   "source": [
    "# GPUs or CPU\n",
    "import tensorflow as tf\n",
    "\n",
    "# Check TensorFlow Version\n",
    "print('TensorFlow Version: {}'.format(tf.__version__))\n",
    "\n",
    "# Check for a GPU\n",
    "print('Default GPU Device: {}'.format(tf.test.gpu_device_name()))"
   ]
  },
  {
   "cell_type": "code",
   "execution_count": 11,
   "metadata": {},
   "outputs": [],
   "source": [
    "#  Buffering/ placeholders to transfer the data from py to tf\n",
    "inputs_ = tf.placeholder(tf.float32, [None, seq_len, n_channels], name = 'inputs_')\n",
    "labels_ = tf.placeholder(tf.float32, [None, n_classes], name = 'labels_')\n",
    "keep_prob_ = tf.placeholder(tf.float32, name = 'keep_prob_')\n",
    "learning_rate_ = tf.placeholder(tf.float32, name = 'learning_rate_')# Construct the LSTM inputs and LSTM cells"
   ]
  },
  {
   "cell_type": "code",
   "execution_count": 12,
   "metadata": {},
   "outputs": [
    {
     "name": "stdout",
     "output_type": "stream",
     "text": [
      "(?, 3072, 26) (?, 1536, 26)\n",
      "(?, 1536, 36) (?, 768, 36)\n",
      "(?, 768, 72) (?, 384, 72)\n",
      "(?, 384, 144) (?, 192, 144)\n"
     ]
    }
   ],
   "source": [
    "# with graph.as_default():\n",
    "# (451, 3072, 13) float64 (193, 3072, 13) float64 (276, 3072, 13) float64\n",
    "# (batch, 3072, 13) --> (batch, 1536, 26)\n",
    "conv1 = tf.layers.conv1d(inputs=inputs_, filters=26, kernel_size=2, strides=1, padding='same', \n",
    "                         activation = tf.nn.relu)\n",
    "max_pool_1 = tf.layers.max_pooling1d(inputs=conv1, pool_size=2, strides=2, padding='same')\n",
    "# max_pool_1 = tf.nn.dropout(max_pool_1, keep_prob=keep_prob_)\n",
    "print(conv1.shape, max_pool_1.shape)\n",
    "\n",
    "# (batch, 1536, 26) --> (batch, 768, 52)\n",
    "conv2 = tf.layers.conv1d(inputs=max_pool_1, filters=36, kernel_size=2, strides=1, padding='same', \n",
    "                         activation = tf.nn.relu)\n",
    "max_pool_2 = tf.layers.max_pooling1d(inputs=conv2, pool_size=2, strides=2, padding='same')\n",
    "# max_pool_2 = tf.nn.dropout(max_pool_2, keep_prob=keep_prob_)\n",
    "print(conv2.shape, max_pool_2.shape)\n",
    "\n",
    "# (batch, 768, 52) --> (batch, 384, 104)\n",
    "conv3 = tf.layers.conv1d(inputs=max_pool_2, filters=72, kernel_size=2, strides=1, padding='same', \n",
    "                         activation = tf.nn.relu)\n",
    "max_pool_3 = tf.layers.max_pooling1d(inputs=conv3, pool_size=2, strides=2, padding='same')\n",
    "# max_pool_3 = tf.nn.dropout(max_pool_3, keep_prob=keep_prob_)\n",
    "print(conv3.shape, max_pool_3.shape)\n",
    "\n",
    "# (batch, 384, 72) --> (batch, 192, 144)\n",
    "conv4 = tf.layers.conv1d(inputs=max_pool_3, filters=144, kernel_size=2, strides=1, padding='same', \n",
    "                         activation = tf.nn.relu)\n",
    "max_pool_4 = tf.layers.max_pooling1d(inputs=conv4, pool_size=2, strides=2, padding='same')\n",
    "# max_pool_4 = tf.nn.dropout(max_pool_4, keep_prob=keep_prob_)\n",
    "print(conv4.shape, max_pool_4.shape)"
   ]
  },
  {
   "cell_type": "code",
   "execution_count": 14,
   "metadata": {},
   "outputs": [],
   "source": [
    "# Flatten and add dropout + predicted output\n",
    "flat = tf.reshape(max_pool_4, (-1, 192*144))\n",
    "flat = tf.nn.dropout(flat, keep_prob=keep_prob_)\n",
    "logits = tf.layers.dense(flat, n_classes)"
   ]
  },
  {
   "cell_type": "code",
   "execution_count": 15,
   "metadata": {},
   "outputs": [
    {
     "name": "stdout",
     "output_type": "stream",
     "text": [
      "Tensor(\"Equal:0\", shape=(?,), dtype=bool) Tensor(\"accuracy:0\", shape=(), dtype=float32)\n"
     ]
    }
   ],
   "source": [
    "# Backward pass: error backpropagation\n",
    "# Cost function\n",
    "cost_tensor = tf.nn.softmax_cross_entropy_with_logits(logits=logits, labels=labels_)\n",
    "cost = tf.reduce_mean(input_tensor=cost_tensor)\n",
    "\n",
    "# Optimizer\n",
    "optimizer = tf.train.AdamOptimizer(learning_rate=learning_rate_).minimize(cost)\n",
    "\n",
    "# Accuracy\n",
    "correct_pred = tf.equal(tf.argmax(logits, 1), tf.argmax(labels_, 1))\n",
    "accuracy = tf.reduce_mean(tf.cast(correct_pred, tf.float32), name='accuracy')\n",
    "print(correct_pred, accuracy)"
   ]
  },
  {
   "cell_type": "code",
   "execution_count": 16,
   "metadata": {},
   "outputs": [
    {
     "name": "stdout",
     "output_type": "stream",
     "text": [
      "Epoch: 1/100 Train loss: 0.729345 Valid loss: 0.741387 Train acc: 0.504878 Valid acc: 0.446341\n",
      "Epoch: 2/100 Train loss: 0.722421 Valid loss: 0.738545 Train acc: 0.512195 Valid acc: 0.430488\n",
      "Epoch: 3/100 Train loss: 0.712623 Valid loss: 0.735954 Train acc: 0.518293 Valid acc: 0.426829\n",
      "Epoch: 4/100 Train loss: 0.703726 Valid loss: 0.734185 Train acc: 0.532317 Valid acc: 0.418902\n",
      "Epoch: 5/100 Train loss: 0.699790 Valid loss: 0.733237 Train acc: 0.536341 Valid acc: 0.415854\n",
      "Epoch: 6/100 Train loss: 0.694868 Valid loss: 0.732831 Train acc: 0.541870 Valid acc: 0.415244\n",
      "Epoch: 7/100 Train loss: 0.691046 Valid loss: 0.732650 Train acc: 0.548258 Valid acc: 0.414112\n",
      "Epoch: 8/100 Train loss: 0.684285 Valid loss: 0.732536 Train acc: 0.559451 Valid acc: 0.413262\n",
      "Epoch: 9/100 Train loss: 0.678906 Valid loss: 0.732543 Train acc: 0.571545 Valid acc: 0.413686\n",
      "Epoch: 10/100 Train loss: 0.673868 Valid loss: 0.732762 Train acc: 0.581098 Valid acc: 0.413171\n",
      "Epoch: 11/100 Train loss: 0.668568 Valid loss: 0.733017 Train acc: 0.589246 Valid acc: 0.412639\n",
      "Epoch: 12/100 Train loss: 0.664550 Valid loss: 0.733400 Train acc: 0.595020 Valid acc: 0.411789\n",
      "Epoch: 13/100 Train loss: 0.658805 Valid loss: 0.733867 Train acc: 0.603752 Valid acc: 0.411069\n",
      "Epoch: 14/100 Train loss: 0.653682 Valid loss: 0.734508 Train acc: 0.610627 Valid acc: 0.410192\n",
      "Epoch: 15/100 Train loss: 0.649104 Valid loss: 0.735168 Train acc: 0.617317 Valid acc: 0.409675\n",
      "Epoch: 16/100 Train loss: 0.643638 Valid loss: 0.735848 Train acc: 0.626219 Valid acc: 0.408765\n",
      "Epoch: 17/100 Train loss: 0.638579 Valid loss: 0.736635 Train acc: 0.633572 Valid acc: 0.408895\n",
      "Epoch: 18/100 Train loss: 0.633194 Valid loss: 0.737573 Train acc: 0.642005 Valid acc: 0.409079\n",
      "Epoch: 19/100 Train loss: 0.627146 Valid loss: 0.738442 Train acc: 0.650257 Valid acc: 0.408472\n",
      "Epoch: 20/100 Train loss: 0.621477 Valid loss: 0.739452 Train acc: 0.657988 Valid acc: 0.407927\n",
      "Epoch: 21/100 Train loss: 0.616092 Valid loss: 0.740542 Train acc: 0.665679 Valid acc: 0.407317\n",
      "Epoch: 22/100 Train loss: 0.610126 Valid loss: 0.741725 Train acc: 0.673337 Valid acc: 0.406430\n",
      "Epoch: 23/100 Train loss: 0.603814 Valid loss: 0.743092 Train acc: 0.680329 Valid acc: 0.405939\n",
      "Epoch: 24/100 Train loss: 0.597445 Valid loss: 0.744538 Train acc: 0.687093 Valid acc: 0.405234\n",
      "Epoch: 25/100 Train loss: 0.591724 Valid loss: 0.746114 Train acc: 0.693659 Valid acc: 0.405317\n",
      "Epoch: 26/100 Train loss: 0.585331 Valid loss: 0.747680 Train acc: 0.700281 Valid acc: 0.405066\n",
      "Epoch: 27/100 Train loss: 0.578717 Valid loss: 0.749351 Train acc: 0.706910 Valid acc: 0.405194\n",
      "Epoch: 28/100 Train loss: 0.572422 Valid loss: 0.751136 Train acc: 0.712848 Valid acc: 0.405836\n",
      "Epoch: 29/100 Train loss: 0.566284 Valid loss: 0.753095 Train acc: 0.718293 Valid acc: 0.407149\n",
      "Epoch: 30/100 Train loss: 0.560206 Valid loss: 0.755107 Train acc: 0.723862 Valid acc: 0.408740\n",
      "Epoch: 31/100 Train loss: 0.554161 Valid loss: 0.757190 Train acc: 0.728993 Valid acc: 0.409953\n",
      "Epoch: 32/100 Train loss: 0.548069 Valid loss: 0.759350 Train acc: 0.733765 Valid acc: 0.411357\n",
      "Epoch: 33/100 Train loss: 0.541911 Valid loss: 0.761563 Train acc: 0.738692 Valid acc: 0.412749\n",
      "Epoch: 34/100 Train loss: 0.535874 Valid loss: 0.763932 Train acc: 0.743902 Valid acc: 0.413917\n",
      "Epoch: 35/100 Train loss: 0.529885 Valid loss: 0.766403 Train acc: 0.748571 Valid acc: 0.415296\n",
      "Epoch: 36/100 Train loss: 0.523843 Valid loss: 0.768966 Train acc: 0.753354 Valid acc: 0.416633\n",
      "Epoch: 37/100 Train loss: 0.518167 Valid loss: 0.771618 Train acc: 0.757581 Valid acc: 0.417601\n",
      "Epoch: 38/100 Train loss: 0.512479 Valid loss: 0.774362 Train acc: 0.761938 Valid acc: 0.418967\n",
      "Epoch: 39/100 Train loss: 0.507123 Valid loss: 0.777351 Train acc: 0.765728 Valid acc: 0.420138\n",
      "Epoch: 40/100 Train loss: 0.502171 Valid loss: 0.780378 Train acc: 0.769421 Valid acc: 0.421311\n",
      "Epoch: 41/100 Train loss: 0.496737 Valid loss: 0.783639 Train acc: 0.773260 Valid acc: 0.422427\n",
      "Epoch: 42/100 Train loss: 0.491414 Valid loss: 0.786762 Train acc: 0.777265 Valid acc: 0.423751\n",
      "Epoch: 43/100 Train loss: 0.486110 Valid loss: 0.789854 Train acc: 0.781027 Valid acc: 0.425156\n",
      "Epoch: 44/100 Train loss: 0.480811 Valid loss: 0.792987 Train acc: 0.784479 Valid acc: 0.426192\n",
      "Epoch: 45/100 Train loss: 0.475767 Valid loss: 0.796246 Train acc: 0.787859 Valid acc: 0.427371\n",
      "Epoch: 46/100 Train loss: 0.470835 Valid loss: 0.799598 Train acc: 0.791119 Valid acc: 0.428446\n",
      "Epoch: 47/100 Train loss: 0.465460 Valid loss: 0.802893 Train acc: 0.794629 Valid acc: 0.429735\n",
      "Epoch: 48/100 Train loss: 0.460406 Valid loss: 0.806270 Train acc: 0.797942 Valid acc: 0.430971\n",
      "Epoch: 49/100 Train loss: 0.455449 Valid loss: 0.809832 Train acc: 0.801095 Valid acc: 0.432056\n",
      "Epoch: 50/100 Train loss: 0.450559 Valid loss: 0.813595 Train acc: 0.804073 Valid acc: 0.433098\n",
      "Epoch: 51/100 Train loss: 0.445950 Valid loss: 0.817355 Train acc: 0.806887 Valid acc: 0.433883\n",
      "Epoch: 52/100 Train loss: 0.441599 Valid loss: 0.821161 Train acc: 0.809568 Valid acc: 0.434897\n",
      "Epoch: 53/100 Train loss: 0.436871 Valid loss: 0.824612 Train acc: 0.812448 Valid acc: 0.435849\n",
      "Epoch: 54/100 Train loss: 0.432252 Valid loss: 0.827999 Train acc: 0.815108 Valid acc: 0.436789\n",
      "Epoch: 55/100 Train loss: 0.427931 Valid loss: 0.831492 Train acc: 0.817583 Valid acc: 0.437605\n",
      "Epoch: 56/100 Train loss: 0.423509 Valid loss: 0.835012 Train acc: 0.820165 Valid acc: 0.438480\n",
      "Epoch: 57/100 Train loss: 0.419194 Valid loss: 0.838594 Train acc: 0.822721 Valid acc: 0.439089\n",
      "Epoch: 58/100 Train loss: 0.415171 Valid loss: 0.842252 Train acc: 0.824958 Valid acc: 0.439844\n",
      "Epoch: 59/100 Train loss: 0.410952 Valid loss: 0.845852 Train acc: 0.827346 Valid acc: 0.440637\n",
      "Epoch: 60/100 Train loss: 0.406884 Valid loss: 0.849492 Train acc: 0.829736 Valid acc: 0.441402\n",
      "Epoch: 61/100 Train loss: 0.402793 Valid loss: 0.853220 Train acc: 0.832067 Valid acc: 0.442143\n",
      "Epoch: 62/100 Train loss: 0.398607 Valid loss: 0.857030 Train acc: 0.834343 Valid acc: 0.442978\n",
      "Epoch: 63/100 Train loss: 0.394789 Valid loss: 0.860972 Train acc: 0.836450 Valid acc: 0.443593\n",
      "Epoch: 64/100 Train loss: 0.390950 Valid loss: 0.864814 Train acc: 0.838624 Valid acc: 0.444093\n",
      "Epoch: 65/100 Train loss: 0.387252 Valid loss: 0.868584 Train acc: 0.840713 Valid acc: 0.444615\n",
      "Epoch: 66/100 Train loss: 0.383574 Valid loss: 0.872316 Train acc: 0.842794 Valid acc: 0.445214\n",
      "Epoch: 67/100 Train loss: 0.379855 Valid loss: 0.876076 Train acc: 0.844740 Valid acc: 0.445723\n",
      "Epoch: 68/100 Train loss: 0.376210 Valid loss: 0.879953 Train acc: 0.846700 Valid acc: 0.446377\n",
      "Epoch: 69/100 Train loss: 0.372670 Valid loss: 0.883816 Train acc: 0.848586 Valid acc: 0.446907\n",
      "Epoch: 70/100 Train loss: 0.369307 Valid loss: 0.887708 Train acc: 0.850331 Valid acc: 0.447526\n",
      "Epoch: 71/100 Train loss: 0.365768 Valid loss: 0.891483 Train acc: 0.852233 Valid acc: 0.448008\n",
      "Epoch: 72/100 Train loss: 0.362274 Valid loss: 0.895327 Train acc: 0.854014 Valid acc: 0.448577\n",
      "Epoch: 73/100 Train loss: 0.358861 Valid loss: 0.899123 Train acc: 0.855830 Valid acc: 0.449064\n",
      "Epoch: 74/100 Train loss: 0.355615 Valid loss: 0.902912 Train acc: 0.857416 Valid acc: 0.449456\n",
      "Epoch: 75/100 Train loss: 0.352366 Valid loss: 0.906839 Train acc: 0.859057 Valid acc: 0.449967\n",
      "Epoch: 76/100 Train loss: 0.349150 Valid loss: 0.910807 Train acc: 0.860767 Valid acc: 0.450481\n",
      "Epoch: 77/100 Train loss: 0.345882 Valid loss: 0.914755 Train acc: 0.862385 Valid acc: 0.450903\n",
      "Epoch: 78/100 Train loss: 0.342727 Valid loss: 0.918756 Train acc: 0.863946 Valid acc: 0.451345\n",
      "Epoch: 79/100 Train loss: 0.339608 Valid loss: 0.922738 Train acc: 0.865452 Valid acc: 0.451683\n",
      "Epoch: 80/100 Train loss: 0.336715 Valid loss: 0.926753 Train acc: 0.866890 Valid acc: 0.451966\n",
      "Epoch: 81/100 Train loss: 0.333743 Valid loss: 0.930755 Train acc: 0.868338 Valid acc: 0.452273\n",
      "Epoch: 82/100 Train loss: 0.330832 Valid loss: 0.934694 Train acc: 0.869810 Valid acc: 0.452677\n",
      "Epoch: 83/100 Train loss: 0.328064 Valid loss: 0.938450 Train acc: 0.871128 Valid acc: 0.452865\n",
      "Epoch: 84/100 Train loss: 0.325213 Valid loss: 0.942262 Train acc: 0.872546 Valid acc: 0.453194\n",
      "Epoch: 85/100 Train loss: 0.322372 Valid loss: 0.946015 Train acc: 0.873902 Valid acc: 0.453386\n",
      "Epoch: 86/100 Train loss: 0.319558 Valid loss: 0.949813 Train acc: 0.875213 Valid acc: 0.453744\n"
     ]
    },
    {
     "name": "stdout",
     "output_type": "stream",
     "text": [
      "Epoch: 87/100 Train loss: 0.316824 Valid loss: 0.953573 Train acc: 0.876521 Valid acc: 0.454149\n",
      "Epoch: 88/100 Train loss: 0.314115 Valid loss: 0.957308 Train acc: 0.877827 Valid acc: 0.454504\n",
      "Epoch: 89/100 Train loss: 0.311409 Valid loss: 0.961157 Train acc: 0.879118 Valid acc: 0.454919\n",
      "Epoch: 90/100 Train loss: 0.308832 Valid loss: 0.965155 Train acc: 0.880325 Valid acc: 0.455379\n",
      "Epoch: 91/100 Train loss: 0.306227 Valid loss: 0.969128 Train acc: 0.881546 Valid acc: 0.455588\n",
      "Epoch: 92/100 Train loss: 0.303776 Valid loss: 0.973179 Train acc: 0.882662 Valid acc: 0.455965\n",
      "Epoch: 93/100 Train loss: 0.301261 Valid loss: 0.977144 Train acc: 0.883818 Valid acc: 0.456294\n",
      "Epoch: 94/100 Train loss: 0.298799 Valid loss: 0.981002 Train acc: 0.884977 Valid acc: 0.456681\n",
      "Epoch: 95/100 Train loss: 0.296428 Valid loss: 0.984672 Train acc: 0.886046 Valid acc: 0.456791\n",
      "Epoch: 96/100 Train loss: 0.294151 Valid loss: 0.988319 Train acc: 0.887093 Valid acc: 0.457050\n",
      "Epoch: 97/100 Train loss: 0.291820 Valid loss: 0.991901 Train acc: 0.888182 Valid acc: 0.457254\n",
      "Epoch: 98/100 Train loss: 0.289528 Valid loss: 0.995509 Train acc: 0.889236 Valid acc: 0.457491\n",
      "Epoch: 99/100 Train loss: 0.287338 Valid loss: 0.999263 Train acc: 0.890232 Valid acc: 0.457773\n",
      "Epoch: 100/100 Train loss: 0.285228 Valid loss: 1.003271 Train acc: 0.891171 Valid acc: 0.458159\n"
     ]
    }
   ],
   "source": [
    "validation_acc = []\n",
    "validation_loss = []\n",
    "\n",
    "train_acc = []\n",
    "train_loss = []\n",
    "\n",
    "# Save the training result or trained and validated model params\n",
    "saver = tf.train.Saver()\n",
    "\n",
    "with tf.Session() as sess:\n",
    "    sess.run(tf.global_variables_initializer())\n",
    "   \n",
    "    # Loop over epochs\n",
    "    for e in range(epochs):\n",
    "        \n",
    "        # Loop over batches\n",
    "        for x, y in get_batches(X_train_norm, Y_train_onehot, batch_size):\n",
    "            \n",
    "            ######################## Training\n",
    "            # Feed dictionary\n",
    "            feed = {inputs_ : x, labels_ : y, keep_prob_ : keep_prob, learning_rate_ : learning_rate}\n",
    "            \n",
    "            # Loss\n",
    "            loss, _ , acc = sess.run([cost, optimizer, accuracy], feed_dict = feed)\n",
    "            train_acc.append(acc)\n",
    "            train_loss.append(loss)\n",
    "            \n",
    "            ################## Validation\n",
    "            val_acc_ = []\n",
    "            val_loss_ = []    \n",
    "            for x_v, y_v in get_batches(X_valid_norm, Y_valid_onehot, batch_size):\n",
    "                \n",
    "                # Feed\n",
    "                feed = {inputs_ : x_v, labels_ : y_v, keep_prob_ : 1.0}  \n",
    "\n",
    "                # Loss\n",
    "                loss_v, acc_v = sess.run([cost, accuracy], feed_dict = feed)                    \n",
    "                val_acc_.append(acc_v)\n",
    "                val_loss_.append(loss_v)\n",
    "\n",
    "            # Store\n",
    "            validation_acc.append(np.mean(val_acc_))\n",
    "            validation_loss.append(np.mean(val_loss_))\n",
    "            \n",
    "        # Print info for every iter/epoch\n",
    "        print(\"Epoch: {}/{}\".format(e+1, epochs),\n",
    "              \"Train loss: {:6f}\".format(np.mean(train_loss)),\n",
    "              \"Valid loss: {:.6f}\".format(np.mean(validation_loss)),\n",
    "              \"Train acc: {:6f}\".format(np.mean(train_acc)),\n",
    "              \"Valid acc: {:.6f}\".format(np.mean(validation_acc)))\n",
    "                \n",
    "    saver.save(sess,\"checkpoints-cnn/har.ckpt\")"
   ]
  },
  {
   "cell_type": "code",
   "execution_count": 17,
   "metadata": {},
   "outputs": [
    {
     "data": {
      "image/png": "[encoded data removed]",
      "text/plain": [
       "<matplotlib.figure.Figure at 0x7f9d28596a20>"
      ]
     },
     "metadata": {},
     "output_type": "display_data"
    }
   ],
   "source": [
    "import matplotlib.pyplot as mplot\n",
    "\n",
    "mplot.plot(train_loss, label='train_loss')\n",
    "mplot.plot(validation_loss, label='valid_loss')\n",
    "mplot.legend()\n",
    "mplot.show()"
   ]
  },
  {
   "cell_type": "code",
   "execution_count": 18,
   "metadata": {},
   "outputs": [
    {
     "data": {
      "image/png": "[encoded data removed]",
      "text/plain": [
       "<matplotlib.figure.Figure at 0x7f9d20656cc0>"
      ]
     },
     "metadata": {},
     "output_type": "display_data"
    }
   ],
   "source": [
    "# import matplotlib.pyplot as mplot\n",
    "\n",
    "mplot.plot(train_acc, label='train_acc')\n",
    "mplot.plot(validation_acc, label='valid_acc')\n",
    "mplot.legend()\n",
    "mplot.show()"
   ]
  },
  {
   "cell_type": "code",
   "execution_count": 19,
   "metadata": {},
   "outputs": [],
   "source": [
    "# test_acc = []\n",
    "\n",
    "# with tf.Session() as sess:\n",
    "#     # Restore\n",
    "#     saver.restore(sess, tf.train.latest_checkpoint('checkpoints-cnn'))\n",
    "    \n",
    "#     for x_t, y_t in get_batches(X_test_norm, Y_test_onehot, batch_size):\n",
    "#         feed = {inputs_: x_t,\n",
    "#                 labels_: y_t,\n",
    "#                 keep_prob_: 1}\n",
    "        \n",
    "#         batch_acc = sess.run(accuracy, feed_dict=feed)\n",
    "#         test_acc.append(batch_acc)\n",
    "#     print(\"Test accuracy: {:.6f}\".format(np.mean(test_acc)))"
   ]
  },
  {
   "cell_type": "code",
   "execution_count": null,
   "metadata": {},
   "outputs": [],
   "source": []
  }
 ],
 "metadata": {
  "kernelspec": {
   "display_name": "Python 3",
   "language": "python",
   "name": "python3"
  },
  "language_info": {
   "codemirror_mode": {
    "name": "ipython",
    "version": 3
   },
   "file_extension": ".py",
   "mimetype": "text/x-python",
   "name": "python",
   "nbconvert_exporter": "python",
   "pygments_lexer": "ipython3",
   "version": "3.6.3"
  }
 },
 "nbformat": 4,
 "nbformat_minor": 2
}
