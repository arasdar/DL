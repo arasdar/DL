{
 "cells": [
  {
   "cell_type": "code",
   "execution_count": 19,
   "metadata": {},
   "outputs": [],
   "source": [
    "import scipy.io as spio\n",
    "import numpy as np\n",
    "from utilities import *\n",
    "from sklearn.model_selection import train_test_split"
   ]
  },
  {
   "cell_type": "code",
   "execution_count": 2,
   "metadata": {},
   "outputs": [
    {
     "name": "stdout",
     "output_type": "stream",
     "text": [
      "dict_keys(['__header__', '__version__', '__globals__', 'data'])\n",
      "(920, 3584, 13) float64\n"
     ]
    }
   ],
   "source": [
    "# Input data\n",
    "x_mat = spio.loadmat(file_name='../data/bci_EEG_data-dl_proj-final/final_imagery.mat')\n",
    "print(x_mat.keys())\n",
    "x_data = x_mat['data']\n",
    "print(x_data.shape, x_data.dtype)"
   ]
  },
  {
   "cell_type": "code",
   "execution_count": 3,
   "metadata": {},
   "outputs": [
    {
     "name": "stdout",
     "output_type": "stream",
     "text": [
      "dict_keys(['__header__', '__version__', '__globals__', 'new_imagery_label'])\n",
      "(920, 1) uint16\n",
      "0.0 0.5 0.5 0.0\n"
     ]
    }
   ],
   "source": [
    "# Output data: class labels\n",
    "y_mat = spio.loadmat(file_name='../data/bci_EEG_data-dl_proj-final/new_imagery_label.mat')\n",
    "print(y_mat.keys())\n",
    "y_labels = y_mat['new_imagery_label']\n",
    "print(y_labels.shape, y_labels.dtype)\n",
    "print(np.mean(y_labels==0), np.mean(y_labels==1), np.mean(y_labels==2), np.mean(y_labels==3))"
   ]
  },
  {
   "cell_type": "code",
   "execution_count": 4,
   "metadata": {},
   "outputs": [
    {
     "name": "stdout",
     "output_type": "stream",
     "text": [
      "(644, 3584, 13) (276, 3584, 13) (644, 1) (276, 1)\n",
      "float64 float64 uint16 uint16\n"
     ]
    }
   ],
   "source": [
    "X_train, X_valid, Y_train, Y_valid = train_test_split(x_data,\n",
    "                                                      y_labels,\n",
    "                                                      stratify = y_labels,\n",
    "                                                      random_state = 123,\n",
    "                                                      test_size=0.30)\n",
    "print(X_train.shape, X_valid.shape, Y_train.shape, Y_valid.shape)\n",
    "print(X_train.dtype, X_valid.dtype, Y_train.dtype, Y_valid.dtype)"
   ]
  },
  {
   "cell_type": "code",
   "execution_count": 5,
   "metadata": {},
   "outputs": [
    {
     "name": "stdout",
     "output_type": "stream",
     "text": [
      "(644, 3584, 13) float64 (276, 3584, 13) float64\n"
     ]
    }
   ],
   "source": [
    "# Standardize/normalize train and test\n",
    "X_train_norm, X_valid_norm = standardize(train=X_train, test=X_valid)\n",
    "\n",
    "print(X_train_norm.shape, X_train_norm.dtype, \n",
    "X_valid_norm.shape, X_valid_norm.dtype)"
   ]
  },
  {
   "cell_type": "code",
   "execution_count": 6,
   "metadata": {},
   "outputs": [
    {
     "name": "stdout",
     "output_type": "stream",
     "text": [
      "batch_size, seq_len, n_channels 6 3584 13\n",
      "n_classes 2\n"
     ]
    }
   ],
   "source": [
    "### Hyperparameters\n",
    "\n",
    "# Input data\n",
    "batch_size = X_train_norm.shape[0]// 100 # minibatch size & number of minibatches\n",
    "seq_len = X_train_norm.shape[1] # Number of steps: each trial length\n",
    "n_channels = X_train_norm.shape[2] # number of channels in each trial\n",
    "print('batch_size, seq_len, n_channels', batch_size, seq_len, n_channels)\n",
    "\n",
    "# Output labels\n",
    "n_classes = int(y_labels[0].max(axis=0)+1)\n",
    "print('n_classes', n_classes)\n",
    "\n",
    "# learning parameters\n",
    "learning_rate = 0.0001 #1e-4\n",
    "epochs = 10 # num iterations for updating model\n",
    "keep_prob = 0.50 # 90% neurons are kept and 10% are dropped out"
   ]
  },
  {
   "cell_type": "code",
   "execution_count": 7,
   "metadata": {},
   "outputs": [
    {
     "name": "stdout",
     "output_type": "stream",
     "text": [
      "(644, 2) (276, 2) (644, 3584, 13) (276, 3584, 13)\n"
     ]
    }
   ],
   "source": [
    "Y_train_onehot = one_hot(labels=Y_train.reshape(-1), n_class=n_classes)\n",
    "Y_valid_onehot = one_hot(labels=Y_valid.reshape(-1), n_class=n_classes)\n",
    "\n",
    "print(Y_train_onehot.shape, Y_valid_onehot.shape, \n",
    " X_train_norm.shape, X_valid_norm.shape)"
   ]
  },
  {
   "cell_type": "code",
   "execution_count": 8,
   "metadata": {},
   "outputs": [
    {
     "name": "stdout",
     "output_type": "stream",
     "text": [
      "TensorFlow Version: 1.3.0\n",
      "Default GPU Device: /gpu:0\n"
     ]
    }
   ],
   "source": [
    "# GPUs or CPU\n",
    "import tensorflow as tf\n",
    "\n",
    "# Check TensorFlow Version\n",
    "print('TensorFlow Version: {}'.format(tf.__version__))\n",
    "\n",
    "# Check for a GPU\n",
    "print('Default GPU Device: {}'.format(tf.test.gpu_device_name()))"
   ]
  },
  {
   "cell_type": "code",
   "execution_count": 9,
   "metadata": {},
   "outputs": [],
   "source": [
    "#  Buffering/ placeholders to transfer the data from py to tf\n",
    "inputs_ = tf.placeholder(tf.float32, [None, seq_len, n_channels], name = 'inputs_')\n",
    "labels_ = tf.placeholder(tf.float32, [None, n_classes], name = 'labels_')\n",
    "keep_prob_ = tf.placeholder(tf.float32, name = 'keep_prob_')\n",
    "learning_rate_ = tf.placeholder(tf.float32, name = 'learning_rate_')# Construct the LSTM inputs and LSTM cells"
   ]
  },
  {
   "cell_type": "code",
   "execution_count": 10,
   "metadata": {},
   "outputs": [
    {
     "name": "stdout",
     "output_type": "stream",
     "text": [
      "(?, 3584, 128) (?, 1792, 128)\n",
      "(?, 1792, 256) (?, 896, 256)\n",
      "(?, 896, 512) (?, 448, 512)\n",
      "(?, 448, 1024) (?, 224, 1024)\n"
     ]
    }
   ],
   "source": [
    "# with graph.as_default():\n",
    "# (451, 3072, 13) float64 (193, 3072, 13) float64 (276, 3072, 13) float64\n",
    "# (4536, 192, 64) (1944, 192, 64) (4536,) (1944,)\n",
    "# (644, 3584, 13) (276, 3584, 13) (644, 1) (276, 1)\n",
    "# (batch, 3584, 64) --> (batch, 1792, 128)\n",
    "conv1 = tf.layers.conv1d(inputs=inputs_, filters=128, kernel_size=2, strides=1, padding='same', \n",
    "                         activation = tf.nn.relu)\n",
    "max_pool_1 = tf.layers.max_pooling1d(inputs=conv1, pool_size=2, strides=2, padding='same')\n",
    "# max_pool_1 = tf.nn.dropout(max_pool_1, keep_prob=keep_prob_)\n",
    "print(conv1.shape, max_pool_1.shape)\n",
    "\n",
    "# (batch, 1792, 128) --> (batch, 896, 256)\n",
    "conv2 = tf.layers.conv1d(inputs=max_pool_1, filters=256, kernel_size=2, strides=1, padding='same', \n",
    "                         activation = tf.nn.relu)\n",
    "max_pool_2 = tf.layers.max_pooling1d(inputs=conv2, pool_size=2, strides=2, padding='same')\n",
    "# max_pool_2 = tf.nn.dropout(max_pool_2, keep_prob=keep_prob_)\n",
    "print(conv2.shape, max_pool_2.shape)\n",
    "\n",
    "# (batch, 896, 256) --> (batch, 448, 512)\n",
    "conv3 = tf.layers.conv1d(inputs=max_pool_2, filters=512, kernel_size=2, strides=1, padding='same', \n",
    "                         activation = tf.nn.relu)\n",
    "max_pool_3 = tf.layers.max_pooling1d(inputs=conv3, pool_size=2, strides=2, padding='same')\n",
    "# max_pool_3 = tf.nn.dropout(max_pool_3, keep_prob=keep_prob_)\n",
    "print(conv3.shape, max_pool_3.shape)\n",
    "\n",
    "# (batch, 448, 512) --> (batch, 224, 1024)\n",
    "conv4 = tf.layers.conv1d(inputs=max_pool_3, filters=1024, kernel_size=2, strides=1, padding='same', \n",
    "                         activation = tf.nn.relu)\n",
    "max_pool_4 = tf.layers.max_pooling1d(inputs=conv4, pool_size=2, strides=2, padding='same')\n",
    "# max_pool_4 = tf.nn.dropout(max_pool_4, keep_prob=keep_prob_)\n",
    "print(conv4.shape, max_pool_4.shape)"
   ]
  },
  {
   "cell_type": "code",
   "execution_count": 11,
   "metadata": {},
   "outputs": [
    {
     "name": "stdout",
     "output_type": "stream",
     "text": [
      "(?, 224, 1024) (?, 229376) (?, 2)\n"
     ]
    }
   ],
   "source": [
    "# Flatten and add dropout + predicted output\n",
    "flat = tf.reshape(max_pool_4, (-1, 224*1024))\n",
    "flat = tf.nn.dropout(flat, keep_prob=keep_prob_)\n",
    "logits = tf.layers.dense(flat, n_classes)\n",
    "print(max_pool_4.shape, flat.shape, logits.shape)"
   ]
  },
  {
   "cell_type": "code",
   "execution_count": 12,
   "metadata": {},
   "outputs": [],
   "source": [
    "# Backward pass: error backpropagation\n",
    "# Cost function\n",
    "cost_tensor = tf.nn.softmax_cross_entropy_with_logits(logits=logits, labels=labels_)\n",
    "cost = tf.reduce_mean(input_tensor=cost_tensor)\n",
    "\n",
    "# Optimizer\n",
    "optimizer = tf.train.AdamOptimizer(learning_rate=learning_rate_).minimize(cost)\n",
    "\n",
    "# Accuracy\n",
    "correct_pred = tf.equal(tf.argmax(logits, 1), tf.argmax(labels_, 1))\n",
    "accuracy = tf.reduce_mean(tf.cast(correct_pred, tf.float32), name='accuracy')"
   ]
  },
  {
   "cell_type": "code",
   "execution_count": 13,
   "metadata": {},
   "outputs": [
    {
     "name": "stdout",
     "output_type": "stream",
     "text": [
      "Epoch: 1/10 Train loss: 0.770580 Valid loss: 0.776016 Train acc: 0.518692 Valid acc: 0.505215\n",
      "Epoch: 2/10 Train loss: 0.719654 Valid loss: 0.750967 Train acc: 0.570093 Valid acc: 0.507229\n",
      "Epoch: 3/10 Train loss: 0.676460 Valid loss: 0.741732 Train acc: 0.629803 Valid acc: 0.509605\n",
      "Epoch: 4/10 Train loss: 0.618943 Valid loss: 0.745470 Train acc: 0.675623 Valid acc: 0.512216\n",
      "Epoch: 5/10 Train loss: 0.548733 Valid loss: 0.763013 Train acc: 0.725857 Valid acc: 0.517222\n",
      "Epoch: 6/10 Train loss: 0.487468 Valid loss: 0.813731 Train acc: 0.762461 Valid acc: 0.519978\n",
      "Epoch: 7/10 Train loss: 0.443215 Valid loss: 0.854747 Train acc: 0.787494 Valid acc: 0.522736\n",
      "Epoch: 8/10 Train loss: 0.402165 Valid loss: 0.893585 Train acc: 0.810358 Valid acc: 0.525282\n",
      "Epoch: 9/10 Train loss: 0.370982 Valid loss: 0.942892 Train acc: 0.826410 Valid acc: 0.527590\n",
      "Epoch: 10/10 Train loss: 0.347115 Valid loss: 0.985295 Train acc: 0.839564 Valid acc: 0.529656\n"
     ]
    }
   ],
   "source": [
    "validation_acc = []\n",
    "validation_loss = []\n",
    "\n",
    "train_acc = []\n",
    "train_loss = []\n",
    "\n",
    "# Save the training result or trained and validated model params\n",
    "saver = tf.train.Saver()\n",
    "\n",
    "with tf.Session() as sess:\n",
    "    sess.run(tf.global_variables_initializer())\n",
    "   \n",
    "    # Loop over epochs\n",
    "    for e in range(epochs):\n",
    "        \n",
    "        # Loop over batches\n",
    "        for x, y in get_batches(X_train_norm, Y_train_onehot, batch_size):\n",
    "            \n",
    "            ######################## Training\n",
    "            # Feed dictionary\n",
    "            feed = {inputs_ : x, labels_ : y, keep_prob_ : keep_prob, learning_rate_ : learning_rate}\n",
    "            \n",
    "            # Loss\n",
    "            loss, _ , acc = sess.run([cost, optimizer, accuracy], feed_dict = feed)\n",
    "            train_acc.append(acc)\n",
    "            train_loss.append(loss)\n",
    "            \n",
    "            ################## Validation\n",
    "            val_acc_ = []\n",
    "            val_loss_ = []    \n",
    "            for x_v, y_v in get_batches(X_valid_norm, Y_valid_onehot, batch_size):\n",
    "                \n",
    "                # Feed\n",
    "                feed = {inputs_ : x_v, labels_ : y_v, keep_prob_ : 1.0}  \n",
    "\n",
    "                # Loss\n",
    "                loss_v, acc_v = sess.run([cost, accuracy], feed_dict = feed)                    \n",
    "                val_acc_.append(acc_v)\n",
    "                val_loss_.append(loss_v)\n",
    "\n",
    "            # Store\n",
    "            validation_acc.append(np.mean(val_acc_))\n",
    "            validation_loss.append(np.mean(val_loss_))\n",
    "            \n",
    "        # Print info for every iter/epoch\n",
    "        print(\"Epoch: {}/{}\".format(e+1, epochs),\n",
    "              \"Train loss: {:6f}\".format(np.mean(train_loss)),\n",
    "              \"Valid loss: {:.6f}\".format(np.mean(validation_loss)),\n",
    "              \"Train acc: {:6f}\".format(np.mean(train_acc)),\n",
    "              \"Valid acc: {:.6f}\".format(np.mean(validation_acc)))\n",
    "                \n",
    "    saver.save(sess,\"checkpoints-cnn/har.ckpt\")"
   ]
  },
  {
   "cell_type": "code",
   "execution_count": 16,
   "metadata": {},
   "outputs": [
    {
     "data": {
      "image/png": "[encoded data removed]",
      "text/plain": [
       "<matplotlib.figure.Figure at 0x7f96cc08af60>"
      ]
     },
     "metadata": {},
     "output_type": "display_data"
    }
   ],
   "source": [
    "import matplotlib.pyplot as mplot\n",
    "\n",
    "mplot.plot(train_loss, label='train_loss')\n",
    "mplot.plot(validation_loss, label='valid_loss')\n",
    "mplot.legend()\n",
    "mplot.show()"
   ]
  },
  {
   "cell_type": "code",
   "execution_count": 18,
   "metadata": {},
   "outputs": [
    {
     "data": {
      "image/png": "[encoded data removed]",
      "text/plain": [
       "<matplotlib.figure.Figure at 0x7f96981920b8>"
      ]
     },
     "metadata": {},
     "output_type": "display_data"
    }
   ],
   "source": [
    "# import matplotlib.pyplot as mplot\n",
    "\n",
    "mplot.plot(train_acc, label='train_acc')\n",
    "mplot.plot(validation_acc, label='valid_acc')\n",
    "mplot.legend()\n",
    "mplot.show()"
   ]
  },
  {
   "cell_type": "code",
   "execution_count": null,
   "metadata": {},
   "outputs": [],
   "source": []
  }
 ],
 "metadata": {
  "kernelspec": {
   "display_name": "Python 3",
   "language": "python",
   "name": "python3"
  },
  "language_info": {
   "codemirror_mode": {
    "name": "ipython",
    "version": 3
   },
   "file_extension": ".py",
   "mimetype": "text/x-python",
   "name": "python",
   "nbconvert_exporter": "python",
   "pygments_lexer": "ipython3",
   "version": "3.6.3"
  }
 },
 "nbformat": 4,
 "nbformat_minor": 2
}
