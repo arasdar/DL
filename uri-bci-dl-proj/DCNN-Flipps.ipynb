{
 "cells": [
  {
   "cell_type": "markdown",
   "metadata": {},
   "source": [
    "# Input data"
   ]
  },
  {
   "cell_type": "code",
   "execution_count": 1,
   "metadata": {},
   "outputs": [],
   "source": [
    "import scipy.io as spio\n",
    "import numpy as np"
   ]
  },
  {
   "cell_type": "code",
   "execution_count": 2,
   "metadata": {},
   "outputs": [],
   "source": [
    "# Reading the data for the Face from all the subjects\n",
    "BahramFlipp = spio.loadmat(file_name='../data/bci-project-data-RAW/BahramFlipp.mat')\n",
    "DJFlipp = spio.loadmat(file_name='../data/bci-project-data-RAW/DJFlipp.mat')\n",
    "NickFlipp = spio.loadmat(file_name='../data/bci-project-data-RAW/NickFlipp.mat')\n",
    "RoohiFlipp = spio.loadmat(file_name='../data/bci-project-data-RAW/RoohiFlipp.mat')\n",
    "SarahFlipp = spio.loadmat(file_name='../data/bci-project-data-RAW/SarahFlipp.mat')"
   ]
  },
  {
   "cell_type": "code",
   "execution_count": 3,
   "metadata": {},
   "outputs": [
    {
     "data": {
      "text/plain": [
       "1134"
      ]
     },
     "execution_count": 3,
     "metadata": {},
     "output_type": "execute_result"
    }
   ],
   "source": [
    "# Deviding the input data into train and test\n",
    "# For creating the training and testing set, \n",
    "# 30% percent of each subject is considered as test and\n",
    "# 70% of each subject is conidered as training.\n",
    "length = int(BahramFlipp['Intensification_Data'].shape[0] * 0.30)\n",
    "length"
   ]
  },
  {
   "cell_type": "code",
   "execution_count": 4,
   "metadata": {},
   "outputs": [],
   "source": [
    "FlippsDataAll = np.vstack(tup=(BahramFlipp['Intensification_Data'][:], \n",
    "                       DJFlipp['Intensification_Data'][:], \n",
    "                       NickFlipp['Intensification_Data'][:],\n",
    "                      RoohiFlipp['Intensification_Data'][:],\n",
    "                      SarahFlipp['Intensification_Data'][:]))\n",
    "\n",
    "FlippsDataTrainAll = np.vstack(tup=(BahramFlipp['Intensification_Data'][:-length], \n",
    "                       DJFlipp['Intensification_Data'][:-length], \n",
    "                       NickFlipp['Intensification_Data'][:-length],\n",
    "                      RoohiFlipp['Intensification_Data'][:-length],\n",
    "                      SarahFlipp['Intensification_Data'][:-length]))\n",
    "\n",
    "FlippsDataTest = np.vstack(tup=(BahramFlipp['Intensification_Data'][-length:], \n",
    "                       DJFlipp['Intensification_Data'][-length:], \n",
    "                       NickFlipp['Intensification_Data'][-length:],\n",
    "                      RoohiFlipp['Intensification_Data'][-length:],\n",
    "                      SarahFlipp['Intensification_Data'][-length:]))"
   ]
  },
  {
   "cell_type": "code",
   "execution_count": 5,
   "metadata": {},
   "outputs": [
    {
     "data": {
      "text/plain": [
       "((18900, 205, 16),\n",
       " dtype('<f8'),\n",
       " (5670, 205, 16),\n",
       " dtype('<f8'),\n",
       " (13230, 205, 16),\n",
       " dtype('<f8'))"
      ]
     },
     "execution_count": 5,
     "metadata": {},
     "output_type": "execute_result"
    }
   ],
   "source": [
    "(FlippsDataAll.shape, FlippsDataAll.dtype,\n",
    " FlippsDataTest.shape, FlippsDataTest.dtype, \n",
    " FlippsDataTrainAll.shape, FlippsDataTrainAll.dtype)"
   ]
  },
  {
   "cell_type": "code",
   "execution_count": 6,
   "metadata": {},
   "outputs": [],
   "source": [
    "BahramFlippDataTrain = BahramFlipp['Intensification_Data'][:-length]\n",
    "DJFlippDataTrain = DJFlipp['Intensification_Data'][:-length]\n",
    "NickFlippDataTrain = NickFlipp['Intensification_Data'][:-length]\n",
    "RoohiFlippDataTrain = RoohiFlipp['Intensification_Data'][:-length]\n",
    "SarahFlippDataTrain = SarahFlipp['Intensification_Data'][:-length]"
   ]
  },
  {
   "cell_type": "code",
   "execution_count": 7,
   "metadata": {},
   "outputs": [
    {
     "data": {
      "text/plain": [
       "793"
      ]
     },
     "execution_count": 7,
     "metadata": {},
     "output_type": "execute_result"
    }
   ],
   "source": [
    "# 30% of the training is validation.\n",
    "# This is applied to every single subject data.\n",
    "length2 = int(BahramFlippDataTrain.shape[0] * 0.30)\n",
    "length2"
   ]
  },
  {
   "cell_type": "code",
   "execution_count": 8,
   "metadata": {},
   "outputs": [],
   "source": [
    "FlippsDataTrain = np.vstack(tup=(BahramFlippDataTrain[:-length2], \n",
    "                       DJFlippDataTrain[:-length2], \n",
    "                       NickFlippDataTrain[:-length2],\n",
    "                      RoohiFlippDataTrain[:-length2],\n",
    "                      SarahFlippDataTrain[:-length2]))\n",
    "\n",
    "FlippsDataValid = np.vstack(tup=(BahramFlippDataTrain[-length2:], \n",
    "                       DJFlippDataTrain[-length2:],\n",
    "                       NickFlippDataTrain[-length2:],\n",
    "                      RoohiFlippDataTrain[-length2:],\n",
    "                      SarahFlippDataTrain[-length2:]))"
   ]
  },
  {
   "cell_type": "code",
   "execution_count": 9,
   "metadata": {},
   "outputs": [
    {
     "data": {
      "text/plain": [
       "((13230, 205, 16),\n",
       " dtype('<f8'),\n",
       " (9265, 205, 16),\n",
       " dtype('<f8'),\n",
       " (3965, 205, 16),\n",
       " dtype('<f8'))"
      ]
     },
     "execution_count": 9,
     "metadata": {},
     "output_type": "execute_result"
    }
   ],
   "source": [
    "(FlippsDataTrainAll.shape, FlippsDataTrainAll.dtype, \n",
    " FlippsDataTrain.shape, FlippsDataTrain.dtype, \n",
    " FlippsDataValid.shape, FlippsDataValid.dtype)"
   ]
  },
  {
   "cell_type": "code",
   "execution_count": 10,
   "metadata": {},
   "outputs": [],
   "source": [
    "FlippsLabelAll = np.vstack(tup=(BahramFlipp['Intensification_Label'][:], \n",
    "                       DJFlipp['Intensification_Label'][:], \n",
    "                       NickFlipp['Intensification_Label'][:],\n",
    "                      RoohiFlipp['Intensification_Label'][:],\n",
    "                      SarahFlipp['Intensification_Label'][:]))\n",
    "\n",
    "FlippsLabelTrainAll = np.vstack(tup=(BahramFlipp['Intensification_Label'][:-length], \n",
    "                       DJFlipp['Intensification_Label'][:-length], \n",
    "                       NickFlipp['Intensification_Label'][:-length],\n",
    "                      RoohiFlipp['Intensification_Label'][:-length],\n",
    "                      SarahFlipp['Intensification_Label'][:-length]))\n",
    "\n",
    "FlippsLabelTest = np.vstack(tup=(BahramFlipp['Intensification_Label'][-length:], \n",
    "                       DJFlipp['Intensification_Label'][-length:], \n",
    "                       NickFlipp['Intensification_Label'][-length:],\n",
    "                      RoohiFlipp['Intensification_Label'][-length:],\n",
    "                      SarahFlipp['Intensification_Label'][-length:]))"
   ]
  },
  {
   "cell_type": "code",
   "execution_count": 11,
   "metadata": {},
   "outputs": [
    {
     "data": {
      "text/plain": [
       "((18900, 1),\n",
       " dtype('uint8'),\n",
       " (5670, 1),\n",
       " dtype('uint8'),\n",
       " (13230, 205, 16),\n",
       " dtype('<f8'))"
      ]
     },
     "execution_count": 11,
     "metadata": {},
     "output_type": "execute_result"
    }
   ],
   "source": [
    "(FlippsLabelAll.shape, FlippsLabelAll.dtype,\n",
    " FlippsLabelTest.shape, FlippsLabelTest.dtype, \n",
    " FlippsDataTrainAll.shape, FlippsDataTrainAll.dtype)"
   ]
  },
  {
   "cell_type": "code",
   "execution_count": 12,
   "metadata": {},
   "outputs": [],
   "source": [
    "BahramFlippLabelTrain = BahramFlipp['Intensification_Label'][:-length]\n",
    "DJFlippLabelTrain = DJFlipp['Intensification_Label'][:-length]\n",
    "NickFlippLabelTrain = NickFlipp['Intensification_Label'][:-length]\n",
    "RoohiFlippLabelTrain = RoohiFlipp['Intensification_Label'][:-length]\n",
    "SarahFlippLabelTrain = SarahFlipp['Intensification_Label'][:-length]"
   ]
  },
  {
   "cell_type": "code",
   "execution_count": 13,
   "metadata": {},
   "outputs": [],
   "source": [
    "FlippsLabelTrain = np.vstack(tup=(BahramFlippLabelTrain[:-length2], \n",
    "                       DJFlippLabelTrain[:-length2], \n",
    "                       NickFlippLabelTrain[:-length2],\n",
    "                      RoohiFlippLabelTrain[:-length2],\n",
    "                      SarahFlippLabelTrain[:-length2]))\n",
    "\n",
    "FlippsLabelValid = np.vstack(tup=(BahramFlippLabelTrain[-length2:], \n",
    "                       DJFlippLabelTrain[-length2:], \n",
    "                       NickFlippLabelTrain[-length2:],\n",
    "                      RoohiFlippLabelTrain[-length2:],\n",
    "                      SarahFlippLabelTrain[-length2:]))"
   ]
  },
  {
   "cell_type": "code",
   "execution_count": 14,
   "metadata": {},
   "outputs": [],
   "source": [
    "# # Normalizing input data\n",
    "# def normalize(inputs, inputs_all):\n",
    "#     return (inputs - inputs_all.mean(axis=0)[None,:,:]) / inputs_all.std(axis=0)[None,:,:]\n",
    "# Yalda suggested this normalization.\n",
    "def normalize(inputs):\n",
    "    return (inputs - inputs.mean(axis=0)[None,:,:]) / inputs.std(axis=0)[None,:,:]\n",
    "\n",
    "# onehot vectorizing output labels\n",
    "def one_hot(labels, n_class):\n",
    "    \"\"\" One-hot encoding \"\"\"\n",
    "    expansion = np.eye(n_class)\n",
    "    y = expansion[:, labels-1].T\n",
    "    assert y.shape[1] == n_class, \"Wrong number of labels!\"\n",
    "\n",
    "    return y\n",
    "\n",
    "# get minibatches for learning\n",
    "def get_batches(X, y, batch_size):\n",
    "    \"\"\" Return a generator for batches \"\"\"\n",
    "    n_batches = len(X) // batch_size\n",
    "    X, y = X[:n_batches*batch_size], y[:n_batches*batch_size]\n",
    "\n",
    "    # Loop over batches and yield\n",
    "    for b in range(0, len(X), batch_size):\n",
    "        yield X[b:b+batch_size], y[b:b+batch_size]"
   ]
  },
  {
   "cell_type": "code",
   "execution_count": 15,
   "metadata": {},
   "outputs": [],
   "source": [
    "# Standardize/normalize train and test\n",
    "# X_train_norm_all = normalize(inputs=FacesDataTrain, inputs_all=FacesDataAll)\n",
    "X_train_norm = normalize(inputs=FlippsDataTrain)\n",
    "X_valid_norm = normalize(inputs=FlippsDataValid)\n",
    "X_test_norm = normalize(inputs=FlippsDataTest)"
   ]
  },
  {
   "cell_type": "code",
   "execution_count": 16,
   "metadata": {},
   "outputs": [
    {
     "data": {
      "text/plain": [
       "((9265, 205, 16),\n",
       " dtype('<f8'),\n",
       " (3965, 205, 16),\n",
       " dtype('<f8'),\n",
       " (5670, 205, 16),\n",
       " dtype('<f8'))"
      ]
     },
     "execution_count": 16,
     "metadata": {},
     "output_type": "execute_result"
    }
   ],
   "source": [
    "(X_train_norm.shape, X_train_norm.dtype, \n",
    "X_valid_norm.shape, X_valid_norm.dtype,\n",
    "X_test_norm.shape, X_test_norm.dtype)"
   ]
  },
  {
   "cell_type": "markdown",
   "metadata": {},
   "source": [
    "### Hyperparameters"
   ]
  },
  {
   "cell_type": "code",
   "execution_count": 31,
   "metadata": {},
   "outputs": [],
   "source": [
    "# Input data\n",
    "# X_(5832, 192, 64): (n_trials, seq_len, n_channels), batch_size== n_trials\n",
    "batch_size = X_train_norm.shape[0]// 10 # Batch size: number of trials\n",
    "seq_len = X_train_norm.shape[1]          # Number of steps: each trial length\n",
    "n_channels = X_train_norm.shape[2] # number of channels in each trial\n",
    "\n",
    "# Output labels\n",
    "# Y_(5832, 2): (n_trails, n_classes)\n",
    "n_classes = int(FlippsLabelAll.max() + 1)\n",
    "\n",
    "# Tweekable parameters\n",
    "learning_rate = 0.0001 #1e-4\n",
    "epochs = 15 # num iterations for updating model\n",
    "keep_prob = 0.50 # 90% neurons are kept and 10% are dropped out"
   ]
  },
  {
   "cell_type": "code",
   "execution_count": 32,
   "metadata": {},
   "outputs": [],
   "source": [
    "Y_train = np.array(FlippsLabelTrain, dtype=int).reshape(-1)\n",
    "Y_valid = np.array(FlippsLabelValid, dtype=int).reshape(-1)\n",
    "Y_test = np.array(FlippsLabelTest, dtype=int).reshape(-1)"
   ]
  },
  {
   "cell_type": "code",
   "execution_count": 33,
   "metadata": {},
   "outputs": [],
   "source": [
    "Y_train_onehot = one_hot(labels=Y_train, n_class=n_classes)\n",
    "Y_valid_onehot = one_hot(labels=Y_valid, n_class=n_classes)\n",
    "Y_test_onehot = one_hot(labels=Y_test, n_class=n_classes)"
   ]
  },
  {
   "cell_type": "code",
   "execution_count": 34,
   "metadata": {},
   "outputs": [
    {
     "data": {
      "text/plain": [
       "((9265, 2),\n",
       " (3965, 2),\n",
       " (5670, 2),\n",
       " (9265, 205, 16),\n",
       " (3965, 205, 16),\n",
       " (5670, 205, 16))"
      ]
     },
     "execution_count": 34,
     "metadata": {},
     "output_type": "execute_result"
    }
   ],
   "source": [
    "(Y_train_onehot.shape, Y_valid_onehot.shape, Y_test_onehot.shape, \n",
    " X_train_norm.shape, X_valid_norm.shape, X_test_norm.shape)"
   ]
  },
  {
   "cell_type": "code",
   "execution_count": 35,
   "metadata": {},
   "outputs": [
    {
     "data": {
      "text/plain": [
       "(dtype('float64'),\n",
       " dtype('float64'),\n",
       " dtype('float64'),\n",
       " dtype('<f8'),\n",
       " dtype('<f8'),\n",
       " dtype('<f8'))"
      ]
     },
     "execution_count": 35,
     "metadata": {},
     "output_type": "execute_result"
    }
   ],
   "source": [
    "(Y_train_onehot.dtype, Y_valid_onehot.dtype, Y_test_onehot.dtype,\n",
    " X_train_norm.dtype, X_valid_norm.dtype, X_test_norm.dtype)"
   ]
  },
  {
   "cell_type": "markdown",
   "metadata": {},
   "source": [
    "# GPUs or CPU"
   ]
  },
  {
   "cell_type": "code",
   "execution_count": 36,
   "metadata": {},
   "outputs": [
    {
     "name": "stdout",
     "output_type": "stream",
     "text": [
      "TensorFlow Version: 1.3.0\n",
      "Default GPU Device: /gpu:0\n"
     ]
    }
   ],
   "source": [
    "\"\"\"\n",
    "DON'T MODIFY ANYTHING IN THIS CELL\n",
    "\"\"\"\n",
    "from distutils.version import LooseVersion\n",
    "import warnings\n",
    "import tensorflow as tf\n",
    "\n",
    "# Check TensorFlow Version\n",
    "assert LooseVersion(tf.__version__) >= LooseVersion('1.0'), 'Please use TensorFlow version 1.0 or newer.  You are using {}'.format(tf.__version__)\n",
    "print('TensorFlow Version: {}'.format(tf.__version__))\n",
    "\n",
    "# Check for a GPU\n",
    "if not tf.test.gpu_device_name():\n",
    "    warnings.warn('No GPU found. Please use a GPU to train your neural network.')\n",
    "else:\n",
    "    print('Default GPU Device: {}'.format(tf.test.gpu_device_name()))"
   ]
  },
  {
   "cell_type": "code",
   "execution_count": 37,
   "metadata": {},
   "outputs": [],
   "source": [
    "#  No graphs is needed on tensorflow\n",
    "inputs_ = tf.placeholder(dtype=tf.float32, shape=[None, seq_len, n_channels], name = 'inputs_')\n",
    "labels_ = tf.placeholder(dtype=tf.float32, shape=[None, n_classes], name = 'labels_')\n",
    "is_train = tf.placeholder(dtype=tf.bool, shape=None, name='is_train')\n",
    "keep_prob_ = tf.placeholder(dtype=tf.float32, shape=None, name = 'keep_prob_')\n",
    "learning_rate_ = tf.placeholder(tf.float32, shape=None, name = 'learning_rate_')"
   ]
  },
  {
   "cell_type": "markdown",
   "metadata": {},
   "source": [
    "# Forward pass: Convolutional Layers, FC Layer, and Output layer"
   ]
  },
  {
   "cell_type": "code",
   "execution_count": 38,
   "metadata": {},
   "outputs": [
    {
     "name": "stdout",
     "output_type": "stream",
     "text": [
      "(?, 101, 32)\n",
      "(?, 49, 64)\n",
      "(?, 3136) (?, 6272)\n",
      "(?, 2)\n"
     ]
    }
   ],
   "source": [
    "# (batch, 205, 16) --> (batch, 101, 32)\n",
    "# (205 - 5 + 0)/2 + 1 = 100+1= 101\n",
    "# 2/5 with strides/kernel_size is 40% non-overlap/diff region and 60% overlapping window/ common region\n",
    "in_conv = inputs_\n",
    "out_conv = tf.layers.conv1d(inputs=in_conv, filters=32, kernel_size=5, strides=2, padding='valid')\n",
    "out_conv = tf.layers.batch_normalization(inputs=out_conv)\n",
    "out_conv = tf.nn.relu(features=out_conv)\n",
    "if is_train is True:\n",
    "    out_conv = tf.nn.dropout(x=out_conv, keep_prob=keep_prob_)\n",
    "print(out_conv.shape)\n",
    "\n",
    "# (batch, 101, 32) --> (batch, 49, 64)\n",
    "# (101 - 5 + 0)/2 + 1 = (96/2)+1= 48+1= 49\n",
    "# 2/5 with strides/kernel_size is 40% non-overlap/diff region and 60% overlapping window/ common region\n",
    "in_conv = out_conv\n",
    "out_conv = tf.layers.conv1d(inputs=in_conv, filters=64, kernel_size=5, strides=2, padding='valid')\n",
    "out_conv = tf.layers.batch_normalization(inputs=out_conv)\n",
    "out_conv = tf.nn.relu(features=out_conv)\n",
    "if is_train is True:\n",
    "    out_conv = tf.nn.dropout(x=out_conv, keep_prob=keep_prob_)\n",
    "print(out_conv.shape)\n",
    "\n",
    "# (batch, 49, 64) --> (batch, 49*64) --> (batch, 49*64*2)\n",
    "# 49*64 = 50*64 - 1*64 = 3200 - 64 = 3136, 3136*2 = 6272\n",
    "# (batch, 49, 64) --> (batch, 3136) --> (batch, 6272)\n",
    "in_fc = tf.reshape(tensor=out_conv, shape=(-1, 49*64))\n",
    "out_fc = tf.layers.dense(inputs=in_fc, units=49*64*2)\n",
    "out_fc = tf.layers.batch_normalization(inputs=out_fc)\n",
    "out_fc = tf.nn.relu(features=out_fc)\n",
    "if is_train is True:\n",
    "    out_fc = tf.nn.dropout(x=out_fc, keep_prob=keep_prob_)\n",
    "print(in_fc.shape, out_fc.shape)\n",
    "\n",
    "# (batch, 49*64*2) --> (batch, 2) \n",
    "logits = tf.layers.dense(inputs=out_fc, units=n_classes)\n",
    "print(logits.shape)"
   ]
  },
  {
   "cell_type": "markdown",
   "metadata": {},
   "source": [
    "# Backward pass: error backpropagation"
   ]
  },
  {
   "cell_type": "code",
   "execution_count": 39,
   "metadata": {},
   "outputs": [],
   "source": [
    "# Cost function\n",
    "cost_tensor = tf.nn.softmax_cross_entropy_with_logits(logits=logits, labels=labels_)\n",
    "cost = tf.reduce_mean(input_tensor=cost_tensor)\n",
    "\n",
    "# Optimizer\n",
    "optimizer = tf.train.AdamOptimizer(learning_rate=learning_rate_).minimize(cost)\n",
    "\n",
    "# Accuracy\n",
    "correct_pred = tf.equal(tf.argmax(logits, 1), tf.argmax(labels_, 1))\n",
    "accuracy = tf.reduce_mean(tf.cast(correct_pred, tf.float32), name='accuracy')"
   ]
  },
  {
   "cell_type": "markdown",
   "metadata": {},
   "source": [
    "# Train the network"
   ]
  },
  {
   "cell_type": "code",
   "execution_count": 40,
   "metadata": {},
   "outputs": [
    {
     "name": "stdout",
     "output_type": "stream",
     "text": [
      "Epoch: 1/15 Train loss: 0.459776 Valid loss: 0.473912 train acc: 0.832613 Valid acc: 0.833291\n",
      "Epoch: 2/15 Train loss: 0.464111 Valid loss: 0.496606 train acc: 0.832613 Valid acc: 0.810088\n",
      "Epoch: 3/15 Train loss: 0.733566 Valid loss: 0.552082 train acc: 0.832613 Valid acc: 0.833039\n",
      "Epoch: 4/15 Train loss: 0.426507 Valid loss: 0.453251 train acc: 0.832613 Valid acc: 0.834804\n",
      "Epoch: 5/15 Train loss: 0.441791 Valid loss: 0.437195 train acc: 0.832613 Valid acc: 0.833039\n",
      "Epoch: 6/15 Train loss: 0.392807 Valid loss: 0.427198 train acc: 0.832613 Valid acc: 0.833796\n",
      "Epoch: 7/15 Train loss: 0.373411 Valid loss: 0.417856 train acc: 0.833693 Valid acc: 0.838083\n",
      "Epoch: 8/15 Train loss: 0.367746 Valid loss: 0.409288 train acc: 0.833693 Valid acc: 0.841110\n",
      "Epoch: 9/15 Train loss: 0.344072 Valid loss: 0.404346 train acc: 0.841253 Valid acc: 0.843884\n",
      "Epoch: 10/15 Train loss: 0.316421 Valid loss: 0.403949 train acc: 0.860691 Valid acc: 0.845902\n",
      "Epoch: 11/15 Train loss: 0.290982 Valid loss: 0.410523 train acc: 0.869330 Valid acc: 0.845649\n",
      "Epoch: 12/15 Train loss: 0.265169 Valid loss: 0.408869 train acc: 0.875810 Valid acc: 0.847919\n",
      "Epoch: 13/15 Train loss: 0.237404 Valid loss: 0.398832 train acc: 0.898488 Valid acc: 0.852459\n",
      "Epoch: 14/15 Train loss: 0.213987 Valid loss: 0.395115 train acc: 0.926566 Valid acc: 0.854224\n",
      "Epoch: 15/15 Train loss: 0.192183 Valid loss: 0.395571 train acc: 0.948164 Valid acc: 0.852963\n",
      "Testing loss: 0.407654 Testing acc: 0.845326\n"
     ]
    }
   ],
   "source": [
    "train_losses, valid_losses = [], []\n",
    "train_acc_list, valid_acc_list = [], []\n",
    "\n",
    "with tf.Session() as sess:\n",
    "    sess.run(tf.global_variables_initializer())\n",
    "   \n",
    "    # Loop over epochs\n",
    "    for e in range(epochs):\n",
    "        \n",
    "        # Loop over training minibatches\n",
    "        for x, y in get_batches(X_train_norm, Y_train_onehot, batch_size):\n",
    "            \n",
    "            # Feed dictionary of training minibatch\n",
    "            feed = {inputs_:x, labels_:y, is_train: True, keep_prob_:keep_prob, learning_rate_:learning_rate}\n",
    "            train_loss, _ , train_acc = sess.run([cost, optimizer, accuracy], feed_dict = feed)\n",
    "            \n",
    "            # Feed dictionary of validation fullbatch \n",
    "            feed = {inputs_:X_valid_norm, labels_:Y_valid_onehot, is_train: False}\n",
    "            valid_loss, valid_acc = sess.run([cost, accuracy], feed_dict = feed)\n",
    "\n",
    "            # Ploting the learning curve for training and validation\n",
    "            train_losses.append(train_loss)\n",
    "            valid_losses.append(valid_loss)\n",
    "            train_acc_list.append(train_acc)\n",
    "            valid_acc_list.append(valid_acc)\n",
    "            \n",
    "        # Print at each iter/ epoch\n",
    "        print(\"Epoch: {}/{}\".format(e+1, epochs),\n",
    "              \"Train loss: {:6f}\".format(train_loss),\n",
    "              \"Valid loss: {:.6f}\".format(valid_loss),\n",
    "              \"train acc: {:.6f}\".format(train_acc),\n",
    "              \"Valid acc: {:.6f}\".format(valid_acc))\n",
    "        \n",
    "    # Feed dictionary of testing fullbatch\n",
    "    feed = {inputs_:X_test_norm, labels_:Y_test_onehot, is_train: False}\n",
    "    loss, acc = sess.run([cost, accuracy], feed_dict = feed)\n",
    "    print(\"Testing loss: {:.6f}\".format(loss), \n",
    "         \"Testing acc: {:.6f}\".format(acc))"
   ]
  },
  {
   "cell_type": "code",
   "execution_count": 41,
   "metadata": {},
   "outputs": [
    {
     "data": {
      "image/png": "[encoded data removed]",
      "text/plain": [
       "<matplotlib.figure.Figure at 0x7f4ba05a1908>"
      ]
     },
     "metadata": {},
     "output_type": "display_data"
    }
   ],
   "source": [
    "import matplotlib.pyplot as mplot\n",
    "\n",
    "mplot.plot(train_losses, label='train_losses')\n",
    "mplot.plot(valid_losses, label='valid_losses')\n",
    "mplot.legend()\n",
    "mplot.show()"
   ]
  },
  {
   "cell_type": "code",
   "execution_count": 42,
   "metadata": {},
   "outputs": [
    {
     "data": {
      "image/png": "[encoded data removed]",
      "text/plain": [
       "<matplotlib.figure.Figure at 0x7f4ba05a15c0>"
      ]
     },
     "metadata": {},
     "output_type": "display_data"
    }
   ],
   "source": [
    "# import matplotlib.pyplot as mplot\n",
    "mplot.plot(train_acc_list, label='train_acc_list')\n",
    "mplot.plot(valid_acc_list, label='valid_acc_list')\n",
    "mplot.legend()\n",
    "mplot.show()"
   ]
  },
  {
   "cell_type": "code",
   "execution_count": null,
   "metadata": {},
   "outputs": [],
   "source": []
  }
 ],
 "metadata": {
  "kernelspec": {
   "display_name": "Python 3",
   "language": "python",
   "name": "python3"
  },
  "language_info": {
   "codemirror_mode": {
    "name": "ipython",
    "version": 3
   },
   "file_extension": ".py",
   "mimetype": "text/x-python",
   "name": "python",
   "nbconvert_exporter": "python",
   "pygments_lexer": "ipython3",
   "version": "3.6.3"
  }
 },
 "nbformat": 4,
 "nbformat_minor": 2
}
