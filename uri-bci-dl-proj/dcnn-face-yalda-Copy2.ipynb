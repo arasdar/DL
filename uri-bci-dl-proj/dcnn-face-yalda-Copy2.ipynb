{
 "cells": [
  {
   "cell_type": "code",
   "execution_count": 1,
   "metadata": {},
   "outputs": [
    {
     "name": "stdout",
     "output_type": "stream",
     "text": [
      "(18720, 205, 16) float64 (18720, 1) uint8\n",
      "0.833333333333 0.166666666667 0.0 0.0\n",
      "[2]\n"
     ]
    }
   ],
   "source": [
    "# Read the dataset\n",
    "import scipy.io as spio\n",
    "import numpy as np\n",
    "\n",
    "BahramFace = spio.loadmat(file_name='/home/arasdar/datasets/bci-project-data-RAW/BahramFace.mat')\n",
    "DJFace = spio.loadmat(file_name='/home/arasdar/datasets/bci-project-data-RAW/DJFace.mat')\n",
    "NickFace = spio.loadmat(file_name='/home/arasdar/datasets/bci-project-data-RAW/NickFace.mat')\n",
    "RoohiFace = spio.loadmat(file_name='/home/arasdar/datasets/bci-project-data-RAW/RoohiFace.mat')\n",
    "SarahFace = spio.loadmat(file_name='/home/arasdar/datasets/bci-project-data-RAW/SarahFace.mat')\n",
    "\n",
    "AllData = np.concatenate((BahramFace['Intensification_Data'],\n",
    "                            DJFace['Intensification_Data'],\n",
    "                            NickFace['Intensification_Data'],\n",
    "                            RoohiFace['Intensification_Data'],\n",
    "                            SarahFace['Intensification_Data']), axis=0)\n",
    "\n",
    "AllLabels = np.concatenate((BahramFace['Intensification_Label'],\n",
    "                            DJFace['Intensification_Label'],\n",
    "                            NickFace['Intensification_Label'],\n",
    "                            RoohiFace['Intensification_Label'],\n",
    "                            SarahFace['Intensification_Label']), axis=0)\n",
    "\n",
    "print(AllData.shape, AllData.dtype, AllLabels.shape, AllLabels.dtype)\n",
    "print(np.mean(AllLabels==0), np.mean(AllLabels==1), np.mean(AllLabels==2), np.mean(AllLabels==3))\n",
    "print((AllLabels +  1).max(axis=0))"
   ]
  },
  {
   "cell_type": "code",
   "execution_count": 2,
   "metadata": {},
   "outputs": [
    {
     "name": "stdout",
     "output_type": "stream",
     "text": [
      "(13104, 205, 16) (5616, 205, 16) (13104, 1) (5616, 1)\n"
     ]
    }
   ],
   "source": [
    "# Train and test split\n",
    "from sklearn.model_selection import train_test_split\n",
    "\n",
    "X_train_valid, X_test, Y_train_valid, Y_test = train_test_split(AllData, AllLabels, test_size=0.30)\n",
    "\n",
    "print(X_train_valid.shape, X_test.shape, Y_train_valid.shape, Y_test.shape)"
   ]
  },
  {
   "cell_type": "code",
   "execution_count": 3,
   "metadata": {},
   "outputs": [
    {
     "name": "stdout",
     "output_type": "stream",
     "text": [
      "0.0 0.834630647131 0.165369352869 0.0\n",
      "0.0 0.830306267806 0.169693732194 0.0\n",
      "(5616, 2) float64\n"
     ]
    }
   ],
   "source": [
    "from utilities import *\n",
    "\n",
    "# Normalizing/standardizing the input data features\n",
    "X_train_valid_norm, X_test_norm = standardize(test=X_test, train=X_train_valid)\n",
    "\n",
    "# Onehot encoding/vectorizing the output data labels\n",
    "print(np.mean((Y_train_valid+1).reshape(-1)==0), np.mean((Y_train_valid+1).reshape(-1)==1),\n",
    "     np.mean((Y_train_valid+1).reshape(-1)==2), np.mean((Y_train_valid+1).reshape(-1)==3))\n",
    "\n",
    "print(np.mean((Y_test+1).reshape(-1)==0), np.mean((Y_test+1).reshape(-1)==1),\n",
    "     np.mean((Y_test+1).reshape(-1)==2), np.mean((Y_test+1).reshape(-1)==3))\n",
    "\n",
    "# Y_train_valid_onehot = one_hot(labels=(Y_train_valid+1).reshape(-1), n_class=2) \n",
    "# print(Y_train_valid_onehot.shape, Y_train_valid_onehot.dtype, \n",
    "Y_test_onehot = one_hot(labels=(Y_test+1).reshape(-1), n_class=2) \n",
    "print(Y_test_onehot.shape, Y_test_onehot.dtype)"
   ]
  },
  {
   "cell_type": "code",
   "execution_count": 4,
   "metadata": {},
   "outputs": [],
   "source": [
    "# 70% train 30 % valid\n",
    "# get_batches from each train and valid the same\n",
    "# still it will be 70% to 30%\n",
    "# get_batches 83% vs 16%\n",
    "# get_batch 16% vs 16% each time\n",
    "# X_train_valid, X_test, Y_train_valid, Y_test = train_test_split(AllData, AllLabels, test_size=0.30)\n",
    "X_train_norm, X_valid_norm, Y_train, Y_valid = train_test_split(X_train_valid_norm, Y_train_valid, \n",
    "                                                                              test_size=0.30)"
   ]
  },
  {
   "cell_type": "code",
   "execution_count": 17,
   "metadata": {},
   "outputs": [],
   "source": [
    "def get_batches2(X_norm, Y_labels):\n",
    "    # Input train or valid\n",
    "    # This is not-applicable to test\n",
    "    X, Y = X_norm, Y_labels #_onehot\n",
    "    AllLabels = Y_labels # 100%\n",
    "\n",
    "    # non = 0 is 87%  AllLabelZero\n",
    "    # tgt = 1 is 13%  AllLabelOne\n",
    "    AllLabelZero = (AllLabels==0).reshape(-1) # 87%\n",
    "    AllLabelOne = (AllLabels==1).reshape(-1) # 13%\n",
    "\n",
    "    X_non, Y_non = X[AllLabelZero], Y[AllLabelZero] # 87%\n",
    "    X_tgt, Y_tgt = X[AllLabelOne], Y[AllLabelOne] # 13%\n",
    "    #     print('X_non.shape, Y_non.shape', X_non.shape, Y_non.shape)\n",
    "    #     print('X_tgt.shape, Y_tgt.shape', X_tgt.shape, Y_tgt.shape)\n",
    "\n",
    "    # Non-target batch size for get_batches from non-target data\n",
    "    batch_size = X_tgt.shape[0] # 13% -> tgt = 1 is 13%  AllLabelOne\n",
    "    assert X_tgt.shape[0] == Y_tgt.shape[0]\n",
    "    #     print(batch_size)\n",
    "\n",
    "    # # 87% - 13% +1: non - tgt + 1\n",
    "    # n_batches = X_non.shape[0] - tgt_batch_size + 1 # stride=1 \n",
    "    # # max overlap for non-tgt 87% - 13% +1\n",
    "\n",
    "    #     # 87% // 13%: non/ tgt\n",
    "    #     # max overlap for non-tgt 87%// 13%\n",
    "    #     num_non_batches = X_non.shape[0]// tgt_batch_size # stride= tgt_batch_size \n",
    "    # #     print(num_non_batches)\n",
    "    #     # # n_batches = len(X) // batch_size # stride=batch_size # min overlap\n",
    "    #     X_non_, Y_non_ = X_non[:num_non_batches*tgt_batch_size], Y_non[:num_non_batches*tgt_batch_size]\n",
    "\n",
    "    n_batches = X_non.shape[0] // batch_size\n",
    "    X_non, Y_non = X_non[:n_batches*batch_size], Y_non[:n_batches*batch_size]\n",
    "    \n",
    "    #     \"\"\" Return a generator for batches \"\"\"\n",
    "    #     n_batches = len(X) // batch_size\n",
    "    #     X, y = X[:n_batches*batch_size], y[:n_batches*batch_size]\n",
    "\n",
    "    # Loop over target batches: start, stop, step\n",
    "    for i in range(0, X_non.shape[0], batch_size):\n",
    "        #         print(i)\n",
    "        # each_train_valid_batch\n",
    "        each_X_norm = np.concatenate((X_non[i:i+batch_size], X_tgt), axis=0)\n",
    "        each_Y = np.concatenate((Y_non[i:i+batch_size], Y_tgt), axis=0)\n",
    "        each_Y_onehot = one_hot(labels=(each_Y+1).reshape(-1), n_class=2)\n",
    "#         np.random.shuffle(each_X_norm)\n",
    "#         np.random.shuffle(each_Y_onehot)\n",
    "        #         print('each_X_norm.shape, each_Y_onehot.shape', each_X_norm.shape, each_Y_onehot.shape)\n",
    "        #         print('each_X_norm.dtype, each_Y_onehot.dtype', each_X_norm.dtype, each_Y_onehot.dtype)\n",
    "        yield each_X_norm, each_Y_onehot"
   ]
  },
  {
   "cell_type": "code",
   "execution_count": 18,
   "metadata": {},
   "outputs": [
    {
     "data": {
      "text/plain": [
       "<generator object get_batches2 at 0x7f05e8610e08>"
      ]
     },
     "execution_count": 18,
     "metadata": {},
     "output_type": "execute_result"
    }
   ],
   "source": [
    "get_batches2(X_norm=X_valid_norm, Y_labels=Y_valid)"
   ]
  },
  {
   "cell_type": "code",
   "execution_count": 19,
   "metadata": {},
   "outputs": [
    {
     "data": {
      "text/plain": [
       "<generator object get_batches2 at 0x7f05e8795db0>"
      ]
     },
     "execution_count": 19,
     "metadata": {},
     "output_type": "execute_result"
    }
   ],
   "source": [
    "get_batches2(X_norm=X_train_norm, Y_labels=Y_train)"
   ]
  },
  {
   "cell_type": "code",
   "execution_count": 20,
   "metadata": {},
   "outputs": [
    {
     "name": "stdout",
     "output_type": "stream",
     "text": [
      "seq_len, n_channels 205 16\n",
      "n_classes [2]\n"
     ]
    }
   ],
   "source": [
    "## Hyperparameters\n",
    "# Input data\n",
    "# batch_size = X_train_norm.shape[0]// 100 # minibatch size & number of minibatches\n",
    "seq_len = X_train_norm.shape[1] # Number of steps: each trial length\n",
    "n_channels = X_train_norm.shape[2] # number of channels in each trial\n",
    "# print('batch_size, seq_len, n_channels', batch_size, seq_len, n_channels)\n",
    "print('seq_len, n_channels', seq_len, n_channels)\n",
    "\n",
    "# Output labels\n",
    "n_classes = Y_train_valid.max(axis=0)+1\n",
    "assert Y_train_valid.max(axis=0) == Y_test.max(axis=0)\n",
    "print('n_classes', n_classes)\n",
    "\n",
    "# learning parameters\n",
    "learning_rate = 0.0001 #1e-4\n",
    "epochs = 200 # num iterations for updating model\n",
    "keep_prob = 0.50 # 90% neurons are kept and 10% are dropped out"
   ]
  },
  {
   "cell_type": "code",
   "execution_count": 21,
   "metadata": {},
   "outputs": [
    {
     "name": "stdout",
     "output_type": "stream",
     "text": [
      "TensorFlow Version: 1.3.0\n",
      "Default GPU Device: /gpu:0\n"
     ]
    }
   ],
   "source": [
    "# GPUs or CPU\n",
    "import tensorflow as tf\n",
    "\n",
    "# Check TensorFlow Version\n",
    "print('TensorFlow Version: {}'.format(tf.__version__))\n",
    "\n",
    "# Check for a GPU\n",
    "print('Default GPU Device: {}'.format(tf.test.gpu_device_name()))"
   ]
  },
  {
   "cell_type": "code",
   "execution_count": 22,
   "metadata": {},
   "outputs": [
    {
     "name": "stdout",
     "output_type": "stream",
     "text": [
      "inputs_.shape, labels_.shape (?, 205, 16) (?, 2)\n"
     ]
    }
   ],
   "source": [
    "# Feed the data from python/numpy to tensorflow framework\n",
    "inputs_ = tf.placeholder(tf.float32, [None, seq_len, n_channels], name = 'inputs_')\n",
    "labels_ = tf.placeholder(tf.float32, [None, n_classes], name = 'labels_')\n",
    "keep_prob_ = tf.placeholder(tf.float32, name = 'keep_prob_')\n",
    "learning_rate_ = tf.placeholder(tf.float32, name = 'learning_rate_')\n",
    "print('inputs_.shape, labels_.shape', inputs_.shape, labels_.shape)"
   ]
  },
  {
   "cell_type": "code",
   "execution_count": 23,
   "metadata": {},
   "outputs": [
    {
     "name": "stdout",
     "output_type": "stream",
     "text": [
      "inputs_.shape, conv1.shape, max_pool_1.shape (?, 205, 16) (?, 204, 32) (?, 102, 32)\n",
      "max_pool_1.shape, conv2.shape, max_pool_2.shape (?, 102, 32) (?, 102, 64) (?, 51, 64)\n",
      "max_pool_2.shape, conv3.shape, max_pool_3.shape (?, 51, 64) (?, 50, 128) (?, 25, 128)\n",
      "max_pool_3.shape, conv4.shape, max_pool_4.shape (?, 25, 128) (?, 24, 256) (?, 12, 256)\n",
      "max_pool_4.shape, flat.shape, logits.shape (?, 12, 256) (?, 3072) (?, 2)\n"
     ]
    }
   ],
   "source": [
    "# inputs_.shape, labels_.shape (?, 205, 16) (?, 2)\n",
    "# (batch, 205, 16) --> (batch, 102, 32)\n",
    "# conv valid: (205-2+0)/1 + 1 = (203/1)+1 = 203 + 1=204\n",
    "# pool same: (204-2+0)/2 + 1 = (202/2)+1 = 101 + 1=102\n",
    "conv1 = tf.layers.conv1d(inputs=inputs_, filters=32, kernel_size=2, strides=1, padding='valid', \n",
    "                         activation = tf.nn.relu)\n",
    "max_pool_1 = tf.layers.max_pooling1d(inputs=conv1, pool_size=2, strides=2, padding='same')\n",
    "# max_pool_1 = tf.nn.dropout(max_pool_1, keep_prob=keep_prob_)\n",
    "print('inputs_.shape, conv1.shape, max_pool_1.shape', inputs_.shape, conv1.shape, max_pool_1.shape)\n",
    "\n",
    "# (batch, 102, 32) --> (batch, 51, 64)\n",
    "# conv same\n",
    "# pool same: (102-2+0)/2 + 1 = (100/2)+1 = 50 + 1=51\n",
    "conv2 = tf.layers.conv1d(inputs=max_pool_1, filters=64, kernel_size=2, strides=1, padding='same', \n",
    "                         activation = tf.nn.relu)\n",
    "max_pool_2 = tf.layers.max_pooling1d(inputs=conv2, pool_size=2, strides=2, padding='same')\n",
    "# max_pool_2 = tf.nn.dropout(max_pool_2, keep_prob=keep_prob_)\n",
    "print('max_pool_1.shape, conv2.shape, max_pool_2.shape', max_pool_1.shape, conv2.shape, max_pool_2.shape)\n",
    "\n",
    "# (batch, 51, 64) --> (batch, 25, 128)\n",
    "# conv valid: (51-2+0)/1 + 1 = (49/1)+1 = 49 + 1=50\n",
    "# pool same: (50-2+0)/2 + 1 = (48/2)+1 = 24 + 1=25\n",
    "conv3 = tf.layers.conv1d(inputs=max_pool_2, filters=128, kernel_size=2, strides=1, padding='valid', \n",
    "                         activation = tf.nn.relu)\n",
    "max_pool_3 = tf.layers.max_pooling1d(inputs=conv3, pool_size=2, strides=2, padding='same')\n",
    "# max_pool_3 = tf.nn.dropout(max_pool_3, keep_prob=keep_prob_)\n",
    "print('max_pool_2.shape, conv3.shape, max_pool_3.shape', max_pool_2.shape, conv3.shape, max_pool_3.shape)\n",
    "\n",
    "# (batch, 25, 128) --> (batch, 12, 256)\n",
    "# conv valid: (25-2+0)/1 + 1 = (23/1)+1 = 23 + 1=24\n",
    "# pool same: (24-2+0)/2 + 1 = (22/2)+1 = 11 + 1=12\n",
    "conv4 = tf.layers.conv1d(inputs=max_pool_3, filters=256, kernel_size=2, strides=1, padding='valid', \n",
    "                         activation = tf.nn.relu)\n",
    "max_pool_4 = tf.layers.max_pooling1d(inputs=conv4, pool_size=2, strides=2, padding='same')\n",
    "# max_pool_4 = tf.nn.dropout(max_pool_4, keep_prob=keep_prob_)\n",
    "print('max_pool_3.shape, conv4.shape, max_pool_4.shape', max_pool_3.shape, conv4.shape, max_pool_4.shape)\n",
    "\n",
    "# Flatten and add dropout + predicted output\n",
    "flat = tf.reshape(max_pool_4, (-1, 12*256))\n",
    "flat = tf.nn.dropout(flat, keep_prob=keep_prob_)\n",
    "logits = tf.layers.dense(flat, n_classes)\n",
    "print('max_pool_4.shape, flat.shape, logits.shape', max_pool_4.shape, flat.shape, logits.shape)"
   ]
  },
  {
   "cell_type": "code",
   "execution_count": 24,
   "metadata": {},
   "outputs": [
    {
     "name": "stdout",
     "output_type": "stream",
     "text": [
      "cost_tensor, cost Tensor(\"Reshape_7:0\", shape=(?,), dtype=float32) Tensor(\"Mean_1:0\", shape=(), dtype=float32)\n",
      "optimizer name: \"Adam_1\"\n",
      "op: \"NoOp\"\n",
      "input: \"^Adam_1/update_conv1d_4/kernel/ApplyAdam\"\n",
      "input: \"^Adam_1/update_conv1d_4/bias/ApplyAdam\"\n",
      "input: \"^Adam_1/update_conv1d_5/kernel/ApplyAdam\"\n",
      "input: \"^Adam_1/update_conv1d_5/bias/ApplyAdam\"\n",
      "input: \"^Adam_1/update_conv1d_6/kernel/ApplyAdam\"\n",
      "input: \"^Adam_1/update_conv1d_6/bias/ApplyAdam\"\n",
      "input: \"^Adam_1/update_conv1d_7/kernel/ApplyAdam\"\n",
      "input: \"^Adam_1/update_conv1d_7/bias/ApplyAdam\"\n",
      "input: \"^Adam_1/update_dense_1/kernel/ApplyAdam\"\n",
      "input: \"^Adam_1/update_dense_1/bias/ApplyAdam\"\n",
      "input: \"^Adam_1/Assign\"\n",
      "input: \"^Adam_1/Assign_1\"\n",
      "\n",
      "correct_pred, accuracy Tensor(\"Equal_1:0\", shape=(?,), dtype=bool) Tensor(\"accuracy_1:0\", shape=(), dtype=float32)\n",
      "confusion_matrix Tensor(\"confusion_matrix_1/SparseTensorDenseAdd:0\", shape=(?, ?), dtype=int32)\n"
     ]
    }
   ],
   "source": [
    "# Backward pass: error backpropagation\n",
    "# Cost function\n",
    "cost_tensor = tf.nn.softmax_cross_entropy_with_logits(logits=logits, labels=labels_)\n",
    "cost = tf.reduce_mean(input_tensor=cost_tensor)\n",
    "print('cost_tensor, cost', cost_tensor, cost)\n",
    "\n",
    "# Optimizer\n",
    "optimizer = tf.train.AdamOptimizer(learning_rate=learning_rate_).minimize(cost)\n",
    "print('optimizer', optimizer)\n",
    "\n",
    "# Accuracy\n",
    "correct_pred = tf.equal(tf.argmax(logits, 1), tf.argmax(labels_, 1))\n",
    "accuracy = tf.reduce_mean(tf.cast(correct_pred, tf.float32), name='accuracy')\n",
    "print('correct_pred, accuracy', correct_pred, accuracy)\n",
    "\n",
    "# Confusion matrix\n",
    "confusion_matrix = tf.confusion_matrix(predictions=tf.argmax(logits, 1),\n",
    "                                       labels=tf.argmax(labels_, 1))\n",
    "print('confusion_matrix', confusion_matrix)"
   ]
  },
  {
   "cell_type": "code",
   "execution_count": 25,
   "metadata": {},
   "outputs": [
    {
     "name": "stdout",
     "output_type": "stream",
     "text": [
      "Epoch: 1/200 Train loss: 0.695843 Valid loss: 0.689248 Train acc: 0.520430 Valid acc: 0.551657\n",
      "Epoch: 2/200 Train loss: 0.691074 Valid loss: 0.685239 Train acc: 0.539146 Valid acc: 0.581425\n",
      "Epoch: 3/200 Train loss: 0.686019 Valid loss: 0.681397 Train acc: 0.554435 Valid acc: 0.599423\n",
      "Epoch: 4/200 Train loss: 0.680858 Valid loss: 0.677510 Train acc: 0.569926 Valid acc: 0.612233\n",
      "Epoch: 5/200 Train loss: 0.675701 Valid loss: 0.673574 Train acc: 0.585134 Valid acc: 0.623078\n",
      "Epoch: 6/200 Train loss: 0.670502 Valid loss: 0.669469 Train acc: 0.597614 Valid acc: 0.632259\n",
      "Epoch: 7/200 Train loss: 0.664962 Valid loss: 0.665153 Train acc: 0.609649 Valid acc: 0.639596\n",
      "Epoch: 8/200 Train loss: 0.659545 Valid loss: 0.660641 Train acc: 0.620296 Valid acc: 0.646603\n",
      "Epoch: 9/200 Train loss: 0.653934 Valid loss: 0.655896 Train acc: 0.629898 Valid acc: 0.653199\n",
      "Epoch: 10/200 Train loss: 0.647762 Valid loss: 0.650938 Train acc: 0.638327 Valid acc: 0.659168\n",
      "Epoch: 11/200 Train loss: 0.641434 Valid loss: 0.645812 Train acc: 0.646438 Valid acc: 0.664687\n",
      "Epoch: 12/200 Train loss: 0.635101 Valid loss: 0.640576 Train acc: 0.654234 Valid acc: 0.669864\n",
      "Epoch: 13/200 Train loss: 0.628602 Valid loss: 0.635237 Train acc: 0.660985 Valid acc: 0.674722\n",
      "Epoch: 14/200 Train loss: 0.621992 Valid loss: 0.629917 Train acc: 0.667262 Valid acc: 0.679363\n",
      "Epoch: 15/200 Train loss: 0.615397 Valid loss: 0.624687 Train acc: 0.673351 Valid acc: 0.683665\n",
      "Epoch: 16/200 Train loss: 0.608899 Valid loss: 0.619559 Train acc: 0.679104 Valid acc: 0.687698\n",
      "Epoch: 17/200 Train loss: 0.602652 Valid loss: 0.614516 Train acc: 0.684476 Valid acc: 0.691770\n",
      "Epoch: 18/200 Train loss: 0.596359 Valid loss: 0.609682 Train acc: 0.689662 Valid acc: 0.695623\n",
      "Epoch: 19/200 Train loss: 0.590352 Valid loss: 0.604987 Train acc: 0.694369 Valid acc: 0.699419\n",
      "Epoch: 20/200 Train loss: 0.584588 Valid loss: 0.600426 Train acc: 0.698750 Valid acc: 0.703060\n",
      "Epoch: 21/200 Train loss: 0.579084 Valid loss: 0.596058 Train acc: 0.702912 Valid acc: 0.706380\n",
      "Epoch: 22/200 Train loss: 0.573740 Valid loss: 0.591849 Train acc: 0.706867 Valid acc: 0.709434\n",
      "Epoch: 23/200 Train loss: 0.568558 Valid loss: 0.587768 Train acc: 0.710656 Valid acc: 0.712322\n",
      "Epoch: 24/200 Train loss: 0.563574 Valid loss: 0.583832 Train acc: 0.714267 Valid acc: 0.714936\n",
      "Epoch: 25/200 Train loss: 0.558696 Valid loss: 0.580058 Train acc: 0.717769 Valid acc: 0.717362\n",
      "Epoch: 26/200 Train loss: 0.554099 Valid loss: 0.576426 Train acc: 0.720911 Valid acc: 0.719602\n",
      "Epoch: 27/200 Train loss: 0.549645 Valid loss: 0.572931 Train acc: 0.723967 Valid acc: 0.721735\n",
      "Epoch: 28/200 Train loss: 0.545272 Valid loss: 0.569577 Train acc: 0.726975 Valid acc: 0.723794\n",
      "Epoch: 29/200 Train loss: 0.541118 Valid loss: 0.566363 Train acc: 0.729727 Valid acc: 0.725738\n",
      "Epoch: 30/200 Train loss: 0.537104 Valid loss: 0.563296 Train acc: 0.732453 Valid acc: 0.727500\n",
      "Epoch: 31/200 Train loss: 0.533282 Valid loss: 0.560352 Train acc: 0.734937 Valid acc: 0.729190\n",
      "Epoch: 32/200 Train loss: 0.529582 Valid loss: 0.557515 Train acc: 0.737502 Valid acc: 0.730845\n",
      "Epoch: 33/200 Train loss: 0.525985 Valid loss: 0.554794 Train acc: 0.739850 Valid acc: 0.732435\n",
      "Epoch: 34/200 Train loss: 0.522532 Valid loss: 0.552179 Train acc: 0.742111 Valid acc: 0.733956\n",
      "Epoch: 35/200 Train loss: 0.519215 Valid loss: 0.549654 Train acc: 0.744334 Valid acc: 0.735423\n",
      "Epoch: 36/200 Train loss: 0.515951 Valid loss: 0.547246 Train acc: 0.746502 Valid acc: 0.736865\n",
      "Epoch: 37/200 Train loss: 0.512848 Valid loss: 0.544916 Train acc: 0.748518 Valid acc: 0.738252\n",
      "Epoch: 38/200 Train loss: 0.509785 Valid loss: 0.542673 Train acc: 0.750536 Valid acc: 0.739599\n",
      "Epoch: 39/200 Train loss: 0.506880 Valid loss: 0.540534 Train acc: 0.752448 Valid acc: 0.740891\n",
      "Epoch: 40/200 Train loss: 0.504055 Valid loss: 0.538449 Train acc: 0.754244 Valid acc: 0.742174\n",
      "Epoch: 41/200 Train loss: 0.501236 Valid loss: 0.536454 Train acc: 0.756078 Valid acc: 0.743414\n",
      "Epoch: 42/200 Train loss: 0.498511 Valid loss: 0.534538 Train acc: 0.757808 Valid acc: 0.744605\n",
      "Epoch: 43/200 Train loss: 0.495892 Valid loss: 0.532674 Train acc: 0.759469 Valid acc: 0.745750\n",
      "Epoch: 44/200 Train loss: 0.493359 Valid loss: 0.530877 Train acc: 0.761046 Valid acc: 0.746857\n",
      "Epoch: 45/200 Train loss: 0.490866 Valid loss: 0.529137 Train acc: 0.762672 Valid acc: 0.747905\n",
      "Epoch: 46/200 Train loss: 0.488416 Valid loss: 0.527463 Train acc: 0.764214 Valid acc: 0.748933\n",
      "Epoch: 47/200 Train loss: 0.486046 Valid loss: 0.525836 Train acc: 0.765683 Valid acc: 0.749919\n",
      "Epoch: 48/200 Train loss: 0.483702 Valid loss: 0.524256 Train acc: 0.767140 Valid acc: 0.750886\n",
      "Epoch: 49/200 Train loss: 0.481439 Valid loss: 0.522728 Train acc: 0.768517 Valid acc: 0.751827\n",
      "Epoch: 50/200 Train loss: 0.479226 Valid loss: 0.521242 Train acc: 0.769883 Valid acc: 0.752742\n",
      "Epoch: 51/200 Train loss: 0.477068 Valid loss: 0.519834 Train acc: 0.771229 Valid acc: 0.753615\n",
      "Epoch: 52/200 Train loss: 0.474936 Valid loss: 0.518459 Train acc: 0.772548 Valid acc: 0.754458\n",
      "Epoch: 53/200 Train loss: 0.472854 Valid loss: 0.517129 Train acc: 0.773818 Valid acc: 0.755280\n",
      "Epoch: 54/200 Train loss: 0.470875 Valid loss: 0.515852 Train acc: 0.775047 Valid acc: 0.756083\n",
      "Epoch: 55/200 Train loss: 0.468893 Valid loss: 0.514608 Train acc: 0.776266 Valid acc: 0.756857\n",
      "Epoch: 56/200 Train loss: 0.466955 Valid loss: 0.513411 Train acc: 0.777444 Valid acc: 0.757601\n",
      "Epoch: 57/200 Train loss: 0.465057 Valid loss: 0.512254 Train acc: 0.778612 Valid acc: 0.758320\n",
      "Epoch: 58/200 Train loss: 0.463170 Valid loss: 0.511141 Train acc: 0.779756 Valid acc: 0.759026\n",
      "Epoch: 59/200 Train loss: 0.461297 Valid loss: 0.510052 Train acc: 0.780948 Valid acc: 0.759723\n",
      "Epoch: 60/200 Train loss: 0.459525 Valid loss: 0.509006 Train acc: 0.782005 Valid acc: 0.760401\n",
      "Epoch: 61/200 Train loss: 0.457761 Valid loss: 0.507982 Train acc: 0.783070 Valid acc: 0.761067\n",
      "Epoch: 62/200 Train loss: 0.456026 Valid loss: 0.506984 Train acc: 0.784114 Valid acc: 0.761706\n",
      "Epoch: 63/200 Train loss: 0.454282 Valid loss: 0.506028 Train acc: 0.785178 Valid acc: 0.762335\n",
      "Epoch: 64/200 Train loss: 0.452582 Valid loss: 0.505096 Train acc: 0.786205 Valid acc: 0.762930\n",
      "Epoch: 65/200 Train loss: 0.450928 Valid loss: 0.504213 Train acc: 0.787222 Valid acc: 0.763521\n",
      "Epoch: 66/200 Train loss: 0.449270 Valid loss: 0.503347 Train acc: 0.788230 Valid acc: 0.764084\n",
      "Epoch: 67/200 Train loss: 0.447637 Valid loss: 0.502528 Train acc: 0.789215 Valid acc: 0.764643\n",
      "Epoch: 68/200 Train loss: 0.446075 Valid loss: 0.501716 Train acc: 0.790155 Valid acc: 0.765183\n",
      "Epoch: 69/200 Train loss: 0.444500 Valid loss: 0.500935 Train acc: 0.791115 Valid acc: 0.765712\n",
      "Epoch: 70/200 Train loss: 0.442963 Valid loss: 0.500174 Train acc: 0.792018 Valid acc: 0.766237\n",
      "Epoch: 71/200 Train loss: 0.441429 Valid loss: 0.499430 Train acc: 0.792940 Valid acc: 0.766745\n",
      "Epoch: 72/200 Train loss: 0.439889 Valid loss: 0.498720 Train acc: 0.793867 Valid acc: 0.767243\n",
      "Epoch: 73/200 Train loss: 0.438379 Valid loss: 0.498045 Train acc: 0.794772 Valid acc: 0.767730\n",
      "Epoch: 74/200 Train loss: 0.436907 Valid loss: 0.497387 Train acc: 0.795623 Valid acc: 0.768209\n",
      "Epoch: 75/200 Train loss: 0.435436 Valid loss: 0.496745 Train acc: 0.796504 Valid acc: 0.768687\n",
      "Epoch: 76/200 Train loss: 0.434017 Valid loss: 0.496110 Train acc: 0.797344 Valid acc: 0.769161\n",
      "Epoch: 77/200 Train loss: 0.432572 Valid loss: 0.495504 Train acc: 0.798210 Valid acc: 0.769627\n",
      "Epoch: 78/200 Train loss: 0.431194 Valid loss: 0.494917 Train acc: 0.799018 Valid acc: 0.770084\n",
      "Epoch: 79/200 Train loss: 0.429813 Valid loss: 0.494348 Train acc: 0.799823 Valid acc: 0.770522\n",
      "Epoch: 80/200 Train loss: 0.428467 Valid loss: 0.493781 Train acc: 0.800613 Valid acc: 0.770964\n",
      "Epoch: 81/200 Train loss: 0.427106 Valid loss: 0.493230 Train acc: 0.801381 Valid acc: 0.771397\n",
      "Epoch: 82/200 Train loss: 0.425740 Valid loss: 0.492688 Train acc: 0.802190 Valid acc: 0.771837\n",
      "Epoch: 83/200 Train loss: 0.424438 Valid loss: 0.492163 Train acc: 0.802950 Valid acc: 0.772263\n",
      "Epoch: 84/200 Train loss: 0.423125 Valid loss: 0.491649 Train acc: 0.803721 Valid acc: 0.772686\n",
      "Epoch: 85/200 Train loss: 0.421812 Valid loss: 0.491159 Train acc: 0.804503 Valid acc: 0.773097\n",
      "Epoch: 86/200 Train loss: 0.420532 Valid loss: 0.490680 Train acc: 0.805255 Valid acc: 0.773511\n"
     ]
    },
    {
     "name": "stdout",
     "output_type": "stream",
     "text": [
      "Epoch: 87/200 Train loss: 0.419237 Valid loss: 0.490235 Train acc: 0.806024 Valid acc: 0.773902\n",
      "Epoch: 88/200 Train loss: 0.417951 Valid loss: 0.489796 Train acc: 0.806769 Valid acc: 0.774300\n",
      "Epoch: 89/200 Train loss: 0.416699 Valid loss: 0.489366 Train acc: 0.807498 Valid acc: 0.774694\n",
      "Epoch: 90/200 Train loss: 0.415463 Valid loss: 0.488947 Train acc: 0.808227 Valid acc: 0.775079\n",
      "Epoch: 91/200 Train loss: 0.414238 Valid loss: 0.488536 Train acc: 0.808942 Valid acc: 0.775448\n",
      "Epoch: 92/200 Train loss: 0.412993 Valid loss: 0.488147 Train acc: 0.809682 Valid acc: 0.775805\n",
      "Epoch: 93/200 Train loss: 0.411797 Valid loss: 0.487763 Train acc: 0.810396 Valid acc: 0.776166\n",
      "Epoch: 94/200 Train loss: 0.410588 Valid loss: 0.487396 Train acc: 0.811086 Valid acc: 0.776502\n",
      "Epoch: 95/200 Train loss: 0.409412 Valid loss: 0.487033 Train acc: 0.811754 Valid acc: 0.776818\n",
      "Epoch: 96/200 Train loss: 0.408205 Valid loss: 0.486690 Train acc: 0.812464 Valid acc: 0.777129\n",
      "Epoch: 97/200 Train loss: 0.407005 Valid loss: 0.486355 Train acc: 0.813159 Valid acc: 0.777444\n",
      "Epoch: 98/200 Train loss: 0.405829 Valid loss: 0.486034 Train acc: 0.813868 Valid acc: 0.777752\n",
      "Epoch: 99/200 Train loss: 0.404661 Valid loss: 0.485742 Train acc: 0.814552 Valid acc: 0.778052\n",
      "Epoch: 100/200 Train loss: 0.403503 Valid loss: 0.485446 Train acc: 0.815224 Valid acc: 0.778349\n",
      "Epoch: 101/200 Train loss: 0.402348 Valid loss: 0.485153 Train acc: 0.815895 Valid acc: 0.778638\n",
      "Epoch: 102/200 Train loss: 0.401193 Valid loss: 0.484887 Train acc: 0.816555 Valid acc: 0.778914\n",
      "Epoch: 103/200 Train loss: 0.400056 Valid loss: 0.484598 Train acc: 0.817189 Valid acc: 0.779181\n",
      "Epoch: 104/200 Train loss: 0.398911 Valid loss: 0.484336 Train acc: 0.817845 Valid acc: 0.779445\n",
      "Epoch: 105/200 Train loss: 0.397800 Valid loss: 0.484091 Train acc: 0.818494 Valid acc: 0.779707\n",
      "Epoch: 106/200 Train loss: 0.396706 Valid loss: 0.483851 Train acc: 0.819123 Valid acc: 0.779967\n",
      "Epoch: 107/200 Train loss: 0.395560 Valid loss: 0.483628 Train acc: 0.819782 Valid acc: 0.780226\n",
      "Epoch: 108/200 Train loss: 0.394463 Valid loss: 0.483404 Train acc: 0.820403 Valid acc: 0.780471\n",
      "Epoch: 109/200 Train loss: 0.393347 Valid loss: 0.483197 Train acc: 0.821042 Valid acc: 0.780718\n",
      "Epoch: 110/200 Train loss: 0.392260 Valid loss: 0.482993 Train acc: 0.821685 Valid acc: 0.780957\n",
      "Epoch: 111/200 Train loss: 0.391170 Valid loss: 0.482813 Train acc: 0.822277 Valid acc: 0.781199\n",
      "Epoch: 112/200 Train loss: 0.390096 Valid loss: 0.482627 Train acc: 0.822886 Valid acc: 0.781429\n",
      "Epoch: 113/200 Train loss: 0.389017 Valid loss: 0.482456 Train acc: 0.823507 Valid acc: 0.781662\n",
      "Epoch: 114/200 Train loss: 0.387959 Valid loss: 0.482294 Train acc: 0.824104 Valid acc: 0.781889\n",
      "Epoch: 115/200 Train loss: 0.386897 Valid loss: 0.482146 Train acc: 0.824709 Valid acc: 0.782112\n",
      "Epoch: 116/200 Train loss: 0.385839 Valid loss: 0.481994 Train acc: 0.825299 Valid acc: 0.782335\n",
      "Epoch: 117/200 Train loss: 0.384782 Valid loss: 0.481859 Train acc: 0.825923 Valid acc: 0.782543\n",
      "Epoch: 118/200 Train loss: 0.383740 Valid loss: 0.481734 Train acc: 0.826508 Valid acc: 0.782734\n",
      "Epoch: 119/200 Train loss: 0.382684 Valid loss: 0.481603 Train acc: 0.827094 Valid acc: 0.782929\n",
      "Epoch: 120/200 Train loss: 0.381640 Valid loss: 0.481488 Train acc: 0.827673 Valid acc: 0.783107\n",
      "Epoch: 121/200 Train loss: 0.380592 Valid loss: 0.481373 Train acc: 0.828250 Valid acc: 0.783294\n",
      "Epoch: 122/200 Train loss: 0.379558 Valid loss: 0.481265 Train acc: 0.828826 Valid acc: 0.783476\n",
      "Epoch: 123/200 Train loss: 0.378526 Valid loss: 0.481171 Train acc: 0.829432 Valid acc: 0.783639\n",
      "Epoch: 124/200 Train loss: 0.377502 Valid loss: 0.481084 Train acc: 0.830007 Valid acc: 0.783810\n",
      "Epoch: 125/200 Train loss: 0.376489 Valid loss: 0.481020 Train acc: 0.830565 Valid acc: 0.783968\n",
      "Epoch: 126/200 Train loss: 0.375455 Valid loss: 0.480967 Train acc: 0.831154 Valid acc: 0.784140\n",
      "Epoch: 127/200 Train loss: 0.374448 Valid loss: 0.480911 Train acc: 0.831716 Valid acc: 0.784313\n",
      "Epoch: 128/200 Train loss: 0.373437 Valid loss: 0.480854 Train acc: 0.832294 Valid acc: 0.784471\n",
      "Epoch: 129/200 Train loss: 0.372440 Valid loss: 0.480805 Train acc: 0.832872 Valid acc: 0.784623\n",
      "Epoch: 130/200 Train loss: 0.371438 Valid loss: 0.480759 Train acc: 0.833434 Valid acc: 0.784780\n",
      "Epoch: 131/200 Train loss: 0.370447 Valid loss: 0.480737 Train acc: 0.833995 Valid acc: 0.784926\n",
      "Epoch: 132/200 Train loss: 0.369453 Valid loss: 0.480714 Train acc: 0.834570 Valid acc: 0.785065\n",
      "Epoch: 133/200 Train loss: 0.368461 Valid loss: 0.480703 Train acc: 0.835132 Valid acc: 0.785193\n",
      "Epoch: 134/200 Train loss: 0.367482 Valid loss: 0.480691 Train acc: 0.835681 Valid acc: 0.785325\n",
      "Epoch: 135/200 Train loss: 0.366505 Valid loss: 0.480696 Train acc: 0.836236 Valid acc: 0.785442\n",
      "Epoch: 136/200 Train loss: 0.365522 Valid loss: 0.480701 Train acc: 0.836800 Valid acc: 0.785561\n",
      "Epoch: 137/200 Train loss: 0.364554 Valid loss: 0.480687 Train acc: 0.837332 Valid acc: 0.785691\n",
      "Epoch: 138/200 Train loss: 0.363576 Valid loss: 0.480702 Train acc: 0.837874 Valid acc: 0.785814\n",
      "Epoch: 139/200 Train loss: 0.362620 Valid loss: 0.480731 Train acc: 0.838411 Valid acc: 0.785933\n",
      "Epoch: 140/200 Train loss: 0.361661 Valid loss: 0.480754 Train acc: 0.838947 Valid acc: 0.786049\n",
      "Epoch: 141/200 Train loss: 0.360714 Valid loss: 0.480794 Train acc: 0.839470 Valid acc: 0.786157\n",
      "Epoch: 142/200 Train loss: 0.359767 Valid loss: 0.480848 Train acc: 0.839996 Valid acc: 0.786260\n",
      "Epoch: 143/200 Train loss: 0.358832 Valid loss: 0.480897 Train acc: 0.840523 Valid acc: 0.786372\n",
      "Epoch: 144/200 Train loss: 0.357893 Valid loss: 0.480964 Train acc: 0.841027 Valid acc: 0.786481\n",
      "Epoch: 145/200 Train loss: 0.356938 Valid loss: 0.481042 Train acc: 0.841546 Valid acc: 0.786590\n",
      "Epoch: 146/200 Train loss: 0.356007 Valid loss: 0.481117 Train acc: 0.842062 Valid acc: 0.786700\n",
      "Epoch: 147/200 Train loss: 0.355081 Valid loss: 0.481211 Train acc: 0.842582 Valid acc: 0.786804\n",
      "Epoch: 148/200 Train loss: 0.354133 Valid loss: 0.481296 Train acc: 0.843117 Valid acc: 0.786906\n",
      "Epoch: 149/200 Train loss: 0.353210 Valid loss: 0.481425 Train acc: 0.843619 Valid acc: 0.786991\n",
      "Epoch: 150/200 Train loss: 0.352279 Valid loss: 0.481518 Train acc: 0.844127 Valid acc: 0.787093\n",
      "Epoch: 151/200 Train loss: 0.351364 Valid loss: 0.481638 Train acc: 0.844620 Valid acc: 0.787190\n",
      "Epoch: 152/200 Train loss: 0.350437 Valid loss: 0.481766 Train acc: 0.845123 Valid acc: 0.787273\n",
      "Epoch: 153/200 Train loss: 0.349524 Valid loss: 0.481882 Train acc: 0.845616 Valid acc: 0.787350\n",
      "Epoch: 154/200 Train loss: 0.348611 Valid loss: 0.482001 Train acc: 0.846116 Valid acc: 0.787429\n",
      "Epoch: 155/200 Train loss: 0.347693 Valid loss: 0.482125 Train acc: 0.846633 Valid acc: 0.787514\n",
      "Epoch: 156/200 Train loss: 0.346782 Valid loss: 0.482263 Train acc: 0.847148 Valid acc: 0.787597\n",
      "Epoch: 157/200 Train loss: 0.345882 Valid loss: 0.482407 Train acc: 0.847647 Valid acc: 0.787673\n",
      "Epoch: 158/200 Train loss: 0.344978 Valid loss: 0.482549 Train acc: 0.848142 Valid acc: 0.787744\n",
      "Epoch: 159/200 Train loss: 0.344069 Valid loss: 0.482700 Train acc: 0.848629 Valid acc: 0.787813\n",
      "Epoch: 160/200 Train loss: 0.343168 Valid loss: 0.482881 Train acc: 0.849121 Valid acc: 0.787877\n",
      "Epoch: 161/200 Train loss: 0.342270 Valid loss: 0.483056 Train acc: 0.849606 Valid acc: 0.787944\n",
      "Epoch: 162/200 Train loss: 0.341380 Valid loss: 0.483237 Train acc: 0.850091 Valid acc: 0.788007\n",
      "Epoch: 163/200 Train loss: 0.340490 Valid loss: 0.483439 Train acc: 0.850577 Valid acc: 0.788056\n",
      "Epoch: 164/200 Train loss: 0.339589 Valid loss: 0.483627 Train acc: 0.851061 Valid acc: 0.788106\n",
      "Epoch: 165/200 Train loss: 0.338711 Valid loss: 0.483823 Train acc: 0.851546 Valid acc: 0.788152\n",
      "Epoch: 166/200 Train loss: 0.337817 Valid loss: 0.484015 Train acc: 0.852025 Valid acc: 0.788196\n",
      "Epoch: 167/200 Train loss: 0.336947 Valid loss: 0.484224 Train acc: 0.852486 Valid acc: 0.788244\n",
      "Epoch: 168/200 Train loss: 0.336058 Valid loss: 0.484427 Train acc: 0.852965 Valid acc: 0.788294\n",
      "Epoch: 169/200 Train loss: 0.335166 Valid loss: 0.484681 Train acc: 0.853433 Valid acc: 0.788336\n",
      "Epoch: 170/200 Train loss: 0.334287 Valid loss: 0.484927 Train acc: 0.853901 Valid acc: 0.788377\n",
      "Epoch: 171/200 Train loss: 0.333420 Valid loss: 0.485170 Train acc: 0.854359 Valid acc: 0.788410\n"
     ]
    },
    {
     "name": "stdout",
     "output_type": "stream",
     "text": [
      "Epoch: 172/200 Train loss: 0.332562 Valid loss: 0.485398 Train acc: 0.854809 Valid acc: 0.788445\n",
      "Epoch: 173/200 Train loss: 0.331700 Valid loss: 0.485656 Train acc: 0.855257 Valid acc: 0.788475\n",
      "Epoch: 174/200 Train loss: 0.330839 Valid loss: 0.485912 Train acc: 0.855717 Valid acc: 0.788511\n",
      "Epoch: 175/200 Train loss: 0.329981 Valid loss: 0.486152 Train acc: 0.856163 Valid acc: 0.788545\n",
      "Epoch: 176/200 Train loss: 0.329134 Valid loss: 0.486435 Train acc: 0.856618 Valid acc: 0.788577\n",
      "Epoch: 177/200 Train loss: 0.328287 Valid loss: 0.486720 Train acc: 0.857062 Valid acc: 0.788612\n",
      "Epoch: 178/200 Train loss: 0.327435 Valid loss: 0.486978 Train acc: 0.857517 Valid acc: 0.788651\n",
      "Epoch: 179/200 Train loss: 0.326596 Valid loss: 0.487251 Train acc: 0.857953 Valid acc: 0.788685\n",
      "Epoch: 180/200 Train loss: 0.325762 Valid loss: 0.487534 Train acc: 0.858396 Valid acc: 0.788715\n",
      "Epoch: 181/200 Train loss: 0.324928 Valid loss: 0.487804 Train acc: 0.858840 Valid acc: 0.788743\n",
      "Epoch: 182/200 Train loss: 0.324086 Valid loss: 0.488087 Train acc: 0.859286 Valid acc: 0.788772\n",
      "Epoch: 183/200 Train loss: 0.323255 Valid loss: 0.488397 Train acc: 0.859730 Valid acc: 0.788802\n",
      "Epoch: 184/200 Train loss: 0.322425 Valid loss: 0.488702 Train acc: 0.860182 Valid acc: 0.788828\n",
      "Epoch: 185/200 Train loss: 0.321606 Valid loss: 0.488975 Train acc: 0.860621 Valid acc: 0.788859\n",
      "Epoch: 186/200 Train loss: 0.320793 Valid loss: 0.489298 Train acc: 0.861044 Valid acc: 0.788884\n",
      "Epoch: 187/200 Train loss: 0.319978 Valid loss: 0.489581 Train acc: 0.861484 Valid acc: 0.788906\n",
      "Epoch: 188/200 Train loss: 0.319159 Valid loss: 0.489884 Train acc: 0.861917 Valid acc: 0.788931\n",
      "Epoch: 189/200 Train loss: 0.318354 Valid loss: 0.490220 Train acc: 0.862342 Valid acc: 0.788951\n",
      "Epoch: 190/200 Train loss: 0.317555 Valid loss: 0.490523 Train acc: 0.862769 Valid acc: 0.788978\n",
      "Epoch: 191/200 Train loss: 0.316762 Valid loss: 0.490854 Train acc: 0.863192 Valid acc: 0.788991\n",
      "Epoch: 192/200 Train loss: 0.315960 Valid loss: 0.491206 Train acc: 0.863613 Valid acc: 0.789000\n",
      "Epoch: 193/200 Train loss: 0.315172 Valid loss: 0.491499 Train acc: 0.864023 Valid acc: 0.789015\n",
      "Epoch: 194/200 Train loss: 0.314359 Valid loss: 0.491819 Train acc: 0.864451 Valid acc: 0.789027\n",
      "Epoch: 195/200 Train loss: 0.313559 Valid loss: 0.492170 Train acc: 0.864873 Valid acc: 0.789043\n",
      "Epoch: 196/200 Train loss: 0.312764 Valid loss: 0.492526 Train acc: 0.865283 Valid acc: 0.789059\n",
      "Epoch: 197/200 Train loss: 0.311981 Valid loss: 0.492854 Train acc: 0.865685 Valid acc: 0.789072\n",
      "Epoch: 198/200 Train loss: 0.311187 Valid loss: 0.493215 Train acc: 0.866103 Valid acc: 0.789081\n",
      "Epoch: 199/200 Train loss: 0.310398 Valid loss: 0.493588 Train acc: 0.866519 Valid acc: 0.789088\n",
      "Epoch: 200/200 Train loss: 0.309597 Valid loss: 0.493951 Train acc: 0.866936 Valid acc: 0.789099\n"
     ]
    }
   ],
   "source": [
    "train_acc, train_loss = [], []\n",
    "valid_acc, valid_loss = [], []\n",
    "\n",
    "# Save the training result or trained and validated model params\n",
    "saver = tf.train.Saver()\n",
    "\n",
    "with tf.Session() as sess:\n",
    "    sess.run(tf.global_variables_initializer())\n",
    "   \n",
    "    # Loop over epochs\n",
    "    for e in range(epochs):\n",
    "        \n",
    "        # Loop over batches\n",
    "        #         for x, y in get_batches(X_train_norm, Y_train_onehot, batch_size):\n",
    "        for x, y in get_batches2(X_norm=X_train_norm, Y_labels=Y_train):\n",
    "            \n",
    "            ######################## Training\n",
    "            # Feed dictionary\n",
    "            feed = {inputs_ : x, labels_ : y, keep_prob_ : keep_prob, learning_rate_ : learning_rate}\n",
    "            \n",
    "            # Loss\n",
    "            loss, _ , acc = sess.run([cost, optimizer, accuracy], feed_dict = feed)\n",
    "            train_acc.append(acc)\n",
    "            train_loss.append(loss)\n",
    "            \n",
    "            ################## Validation\n",
    "            acc_batch = []\n",
    "            loss_batch = []    \n",
    "            # Loop over batches\n",
    "            #             for x, y in get_batches(X_valid_norm, Y_valid_onehot, batch_size):\n",
    "            for x, y in get_batches2(X_norm=X_valid_norm, Y_labels=Y_valid):\n",
    "\n",
    "                # Feed dictionary\n",
    "                feed = {inputs_ : x, labels_ : y, keep_prob_ : 1.0}\n",
    "\n",
    "                # Loss\n",
    "                loss, acc = sess.run([cost, accuracy], feed_dict = feed)\n",
    "                acc_batch.append(acc)\n",
    "                loss_batch.append(loss)\n",
    "\n",
    "            # Store\n",
    "            valid_acc.append(np.mean(acc_batch))\n",
    "            valid_loss.append(np.mean(loss_batch))\n",
    "            \n",
    "        # Print info for every iter/epoch\n",
    "        print(\"Epoch: {}/{}\".format(e+1, epochs),\n",
    "              \"Train loss: {:6f}\".format(np.mean(train_loss)),\n",
    "              \"Valid loss: {:.6f}\".format(np.mean(valid_loss)),\n",
    "              \"Train acc: {:6f}\".format(np.mean(train_acc)),\n",
    "              \"Valid acc: {:.6f}\".format(np.mean(valid_acc)))\n",
    "                \n",
    "    saver.save(sess,\"checkpoints/dcnn-face-yalda-Copy2.ckpt\")"
   ]
  },
  {
   "cell_type": "code",
   "execution_count": 26,
   "metadata": {},
   "outputs": [
    {
     "data": {
      "image/png": "[encoded data removed]",
      "text/plain": [
       "<matplotlib.figure.Figure at 0x7f05700bd128>"
      ]
     },
     "metadata": {},
     "output_type": "display_data"
    }
   ],
   "source": [
    "import matplotlib.pyplot as mplot\n",
    "\n",
    "mplot.plot(train_loss, label='Face train_loss')\n",
    "mplot.plot(valid_loss, label='Face valid_loss')\n",
    "mplot.legend()\n",
    "mplot.show()"
   ]
  },
  {
   "cell_type": "code",
   "execution_count": 27,
   "metadata": {},
   "outputs": [
    {
     "data": {
      "image/png": "[encoded data removed]",
      "text/plain": [
       "<matplotlib.figure.Figure at 0x7f0544fb8fd0>"
      ]
     },
     "metadata": {},
     "output_type": "display_data"
    }
   ],
   "source": [
    "# import matplotlib.pyplot as mplot\n",
    "mplot.plot(train_acc, label='Face train_acc')\n",
    "mplot.plot(valid_acc, label='Face valid_acc')\n",
    "mplot.legend()\n",
    "mplot.show()"
   ]
  },
  {
   "cell_type": "code",
   "execution_count": 28,
   "metadata": {},
   "outputs": [
    {
     "name": "stdout",
     "output_type": "stream",
     "text": [
      "INFO:tensorflow:Restoring parameters from checkpoints/dcnn-face-yalda-Copy2.ckpt\n",
      "Test loss: 0.338009 Test acc: 0.876786\n"
     ]
    }
   ],
   "source": [
    "test_acc, test_loss = [], []\n",
    "\n",
    "with tf.Session() as sess:\n",
    "    # Restore the validated model\n",
    "    saver.restore(sess, tf.train.latest_checkpoint('checkpoints/'))\n",
    "    \n",
    "    ################## Test\n",
    "    acc_batch = []\n",
    "    loss_batch = []    \n",
    "    # Loop over batches\n",
    "    for x, y in get_batches(batch_size=100, X=X_test_norm, y=Y_test_onehot):\n",
    "\n",
    "        # Feed dictionary\n",
    "        feed = {inputs_ : x, labels_ : y, keep_prob_ : 1.0}\n",
    "\n",
    "        # Loss\n",
    "        loss, acc = sess.run([cost, accuracy], feed_dict = feed)\n",
    "        acc_batch.append(acc)\n",
    "        loss_batch.append(loss)\n",
    "\n",
    "    # Store\n",
    "    test_acc.append(np.mean(acc_batch))\n",
    "    test_loss.append(np.mean(loss_batch))\n",
    "\n",
    "    # Print info for every iter/epoch\n",
    "    print(\"Test loss: {:6f}\".format(np.mean(test_loss)),\n",
    "          \"Test acc: {:.6f}\".format(np.mean(test_acc)))"
   ]
  },
  {
   "cell_type": "code",
   "execution_count": null,
   "metadata": {},
   "outputs": [],
   "source": []
  }
 ],
 "metadata": {
  "kernelspec": {
   "display_name": "Python 3",
   "language": "python",
   "name": "python3"
  },
  "language_info": {
   "codemirror_mode": {
    "name": "ipython",
    "version": 3
   },
   "file_extension": ".py",
   "mimetype": "text/x-python",
   "name": "python",
   "nbconvert_exporter": "python",
   "pygments_lexer": "ipython3",
   "version": "3.6.3"
  }
 },
 "nbformat": 4,
 "nbformat_minor": 2
}
