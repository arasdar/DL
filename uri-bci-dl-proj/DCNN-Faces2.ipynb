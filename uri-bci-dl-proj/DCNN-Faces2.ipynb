{
 "cells": [
  {
   "cell_type": "markdown",
   "metadata": {},
   "source": [
    "# Input data"
   ]
  },
  {
   "cell_type": "code",
   "execution_count": 1,
   "metadata": {},
   "outputs": [],
   "source": [
    "import scipy.io as spio\n",
    "import numpy as np"
   ]
  },
  {
   "cell_type": "code",
   "execution_count": 2,
   "metadata": {},
   "outputs": [],
   "source": [
    "# Reading the data for the Face from all the subjects\n",
    "BahramFace = spio.loadmat(file_name='../data/bci-project-data-RAW/BahramFace.mat')\n",
    "DJFace = spio.loadmat(file_name='../data/bci-project-data-RAW/DJFace.mat')\n",
    "NickFace = spio.loadmat(file_name='../data/bci-project-data-RAW/NickFace.mat')\n",
    "RoohiFace = spio.loadmat(file_name='../data/bci-project-data-RAW/RoohiFace.mat')\n",
    "SarahFace = spio.loadmat(file_name='../data/bci-project-data-RAW/SarahFace.mat')"
   ]
  },
  {
   "cell_type": "code",
   "execution_count": 3,
   "metadata": {},
   "outputs": [
    {
     "data": {
      "text/plain": [
       "1080"
      ]
     },
     "execution_count": 3,
     "metadata": {},
     "output_type": "execute_result"
    }
   ],
   "source": [
    "# Deviding the input data into train and validation\n",
    "# For creating the training and testing set, 30% percent of each subject is considered as test and\n",
    "# 70% of each subject is conidered as training.\n",
    "length = int(BahramFace['Intensification_Data'].shape[0] * 0.30)\n",
    "length"
   ]
  },
  {
   "cell_type": "code",
   "execution_count": 4,
   "metadata": {},
   "outputs": [],
   "source": [
    "FacesDataAll = np.vstack(tup=(BahramFace['Intensification_Data'][:], \n",
    "                       DJFace['Intensification_Data'][:], \n",
    "                       NickFace['Intensification_Data'][:],\n",
    "                      RoohiFace['Intensification_Data'][:],\n",
    "                      SarahFace['Intensification_Data'][:]))\n",
    "\n",
    "FacesDataTrainAll = np.vstack(tup=(BahramFace['Intensification_Data'][:-length], \n",
    "                       DJFace['Intensification_Data'][:-length], \n",
    "                       NickFace['Intensification_Data'][:-length],\n",
    "                      RoohiFace['Intensification_Data'][:-length],\n",
    "                      SarahFace['Intensification_Data'][:-length]))\n",
    "\n",
    "FacesDataTest = np.vstack(tup=(BahramFace['Intensification_Data'][-length:], \n",
    "                       DJFace['Intensification_Data'][-length:], \n",
    "                       NickFace['Intensification_Data'][-length:],\n",
    "                      RoohiFace['Intensification_Data'][-length:],\n",
    "                      SarahFace['Intensification_Data'][-length:]))"
   ]
  },
  {
   "cell_type": "code",
   "execution_count": 5,
   "metadata": {},
   "outputs": [
    {
     "data": {
      "text/plain": [
       "((18720, 205, 16),\n",
       " dtype('<f8'),\n",
       " (5400, 205, 16),\n",
       " dtype('<f8'),\n",
       " (13320, 205, 16),\n",
       " dtype('<f8'))"
      ]
     },
     "execution_count": 5,
     "metadata": {},
     "output_type": "execute_result"
    }
   ],
   "source": [
    "(FacesDataAll.shape, FacesDataAll.dtype, \n",
    " FacesDataTest.shape, FacesDataTest.dtype, \n",
    " FacesDataTrainAll.shape, FacesDataTrainAll.dtype)"
   ]
  },
  {
   "cell_type": "code",
   "execution_count": 6,
   "metadata": {},
   "outputs": [],
   "source": [
    "BahramFaceDataTrain = BahramFace['Intensification_Data'][:-length]\n",
    "DJFaceDataTrain = DJFace['Intensification_Data'][:-length]\n",
    "NickFaceDataTrain = NickFace['Intensification_Data'][:-length]\n",
    "RoohiFaceDataTrain = RoohiFace['Intensification_Data'][:-length]\n",
    "SarahFaceDataTrain = SarahFace['Intensification_Data'][:-length]"
   ]
  },
  {
   "cell_type": "code",
   "execution_count": 7,
   "metadata": {},
   "outputs": [
    {
     "data": {
      "text/plain": [
       "756"
      ]
     },
     "execution_count": 7,
     "metadata": {},
     "output_type": "execute_result"
    }
   ],
   "source": [
    "# 30% of the total training data is validation,\n",
    "# 70% of the total training data is training\n",
    "# This is applied to every single subject data.\n",
    "length2 = int(BahramFaceDataTrain.shape[0] * 0.30)\n",
    "length2"
   ]
  },
  {
   "cell_type": "code",
   "execution_count": 8,
   "metadata": {},
   "outputs": [],
   "source": [
    "FacesDataTrain = np.vstack(tup=(BahramFaceDataTrain[:-length2], \n",
    "                       DJFaceDataTrain[:-length2], \n",
    "                       NickFaceDataTrain[:-length2],\n",
    "                      RoohiFaceDataTrain[:-length2],\n",
    "                      SarahFaceDataTrain[:-length2]))\n",
    "\n",
    "FacesDataValid = np.vstack(tup=(BahramFaceDataTrain[-length2:], \n",
    "                       DJFaceDataTrain[-length2:], \n",
    "                       NickFaceDataTrain[-length2:],\n",
    "                      RoohiFaceDataTrain[-length2:],\n",
    "                      SarahFaceDataTrain[-length2:]))"
   ]
  },
  {
   "cell_type": "code",
   "execution_count": 9,
   "metadata": {},
   "outputs": [
    {
     "data": {
      "text/plain": [
       "((13320, 205, 16),\n",
       " dtype('<f8'),\n",
       " (9540, 205, 16),\n",
       " dtype('<f8'),\n",
       " (3780, 205, 16),\n",
       " dtype('<f8'))"
      ]
     },
     "execution_count": 9,
     "metadata": {},
     "output_type": "execute_result"
    }
   ],
   "source": [
    "(FacesDataTrainAll.shape, FacesDataTrainAll.dtype, \n",
    " FacesDataTrain.shape, FacesDataTrain.dtype, \n",
    " FacesDataValid.shape, FacesDataValid.dtype)"
   ]
  },
  {
   "cell_type": "code",
   "execution_count": 10,
   "metadata": {},
   "outputs": [],
   "source": [
    "FacesLabelAll = np.vstack(tup=(BahramFace['Intensification_Label'][:], \n",
    "                       DJFace['Intensification_Label'][:], \n",
    "                       NickFace['Intensification_Label'][:],\n",
    "                      RoohiFace['Intensification_Label'][:],\n",
    "                      SarahFace['Intensification_Label'][:]))\n",
    "\n",
    "FacesLabelTrainAll = np.vstack(tup=(BahramFace['Intensification_Label'][:-length], \n",
    "                       DJFace['Intensification_Label'][:-length], \n",
    "                       NickFace['Intensification_Label'][:-length],\n",
    "                      RoohiFace['Intensification_Label'][:-length],\n",
    "                      SarahFace['Intensification_Label'][:-length]))\n",
    "\n",
    "FacesLabelTest = np.vstack(tup=(BahramFace['Intensification_Label'][-length:], \n",
    "                       DJFace['Intensification_Label'][-length:], \n",
    "                       NickFace['Intensification_Label'][-length:],\n",
    "                      RoohiFace['Intensification_Label'][-length:],\n",
    "                      SarahFace['Intensification_Label'][-length:]))"
   ]
  },
  {
   "cell_type": "code",
   "execution_count": 11,
   "metadata": {},
   "outputs": [
    {
     "data": {
      "text/plain": [
       "((18720, 1),\n",
       " dtype('uint8'),\n",
       " (5400, 1),\n",
       " dtype('uint8'),\n",
       " (13320, 1),\n",
       " dtype('uint8'))"
      ]
     },
     "execution_count": 11,
     "metadata": {},
     "output_type": "execute_result"
    }
   ],
   "source": [
    "(FacesLabelAll.shape, FacesLabelAll.dtype,\n",
    " FacesLabelTest.shape, FacesLabelTest.dtype, \n",
    " FacesLabelTrainAll.shape, FacesLabelTrainAll.dtype)"
   ]
  },
  {
   "cell_type": "code",
   "execution_count": 12,
   "metadata": {},
   "outputs": [],
   "source": [
    "BahramFaceLabelTrain = BahramFace['Intensification_Label'][:-length]\n",
    "DJFaceLabelTrain = DJFace['Intensification_Label'][:-length]\n",
    "NickFaceLabelTrain = NickFace['Intensification_Label'][:-length]\n",
    "RoohiFaceLabelTrain = RoohiFace['Intensification_Label'][:-length]\n",
    "SarahFaceLabelTrain = SarahFace['Intensification_Label'][:-length]"
   ]
  },
  {
   "cell_type": "code",
   "execution_count": 13,
   "metadata": {},
   "outputs": [],
   "source": [
    "FacesLabelTrain = np.vstack(tup=(BahramFaceLabelTrain[:-length2], \n",
    "                       DJFaceLabelTrain[:-length2], \n",
    "                       NickFaceLabelTrain[:-length2],\n",
    "                      RoohiFaceLabelTrain[:-length2],\n",
    "                      SarahFaceLabelTrain[:-length2]))\n",
    "\n",
    "FacesLabelValid = np.vstack(tup=(BahramFaceLabelTrain[-length2:], \n",
    "                       DJFaceLabelTrain[-length2:], \n",
    "                       NickFaceLabelTrain[-length2:],\n",
    "                      RoohiFaceLabelTrain[-length2:],\n",
    "                      SarahFaceLabelTrain[-length2:]))"
   ]
  },
  {
   "cell_type": "code",
   "execution_count": 14,
   "metadata": {},
   "outputs": [],
   "source": [
    "# # Normalizing input data\n",
    "# def normalize(inputs, inputs_all):\n",
    "#     return (inputs - inputs_all.mean(axis=0)[None,:,:]) / inputs_all.std(axis=0)[None,:,:]\n",
    "# Yalda suggested this normalization.\n",
    "def normalize(inputs):\n",
    "    return (inputs - inputs.mean(axis=0)[None,:,:]) / inputs.std(axis=0)[None,:,:]\n",
    "\n",
    "# onehot vectorizing output labels\n",
    "def one_hot(labels, n_class):\n",
    "    \"\"\" One-hot encoding \"\"\"\n",
    "    expansion = np.eye(n_class)\n",
    "    y = expansion[:, labels-1].T\n",
    "    assert y.shape[1] == n_class, \"Wrong number of labels!\"\n",
    "\n",
    "    return y\n",
    "\n",
    "# get minibatches for learning\n",
    "def get_batches(X, y, batch_size):\n",
    "    \"\"\" Return a generator for batches \"\"\"\n",
    "    n_batches = len(X) // batch_size\n",
    "    X, y = X[:n_batches*batch_size], y[:n_batches*batch_size]\n",
    "\n",
    "    # Loop over batches and yield\n",
    "    for b in range(0, len(X), batch_size):\n",
    "        yield X[b:b+batch_size], y[b:b+batch_size]"
   ]
  },
  {
   "cell_type": "code",
   "execution_count": 15,
   "metadata": {},
   "outputs": [],
   "source": [
    "# Standardize/normalize train and test\n",
    "# X_train_norm_all = normalize(inputs=FacesDataTrain, inputs_all=FacesDataAll)\n",
    "X_train_norm = normalize(inputs=FacesDataTrain)\n",
    "X_valid_norm = normalize(inputs=FacesDataValid)\n",
    "X_test_norm = normalize(inputs=FacesDataTest)"
   ]
  },
  {
   "cell_type": "code",
   "execution_count": 16,
   "metadata": {},
   "outputs": [
    {
     "data": {
      "text/plain": [
       "((9540, 205, 16),\n",
       " dtype('<f8'),\n",
       " (3780, 205, 16),\n",
       " dtype('<f8'),\n",
       " (5400, 205, 16),\n",
       " dtype('<f8'))"
      ]
     },
     "execution_count": 16,
     "metadata": {},
     "output_type": "execute_result"
    }
   ],
   "source": [
    "(X_train_norm.shape, X_train_norm.dtype, \n",
    "X_valid_norm.shape, X_valid_norm.dtype,\n",
    "X_test_norm.shape, X_test_norm.dtype)"
   ]
  },
  {
   "cell_type": "markdown",
   "metadata": {},
   "source": [
    "### Hyperparameters"
   ]
  },
  {
   "cell_type": "code",
   "execution_count": 17,
   "metadata": {},
   "outputs": [],
   "source": [
    "# Input data\n",
    "batch_size = X_train_norm.shape[0]// 100 # minibatch size & number of minibatches\n",
    "seq_len = X_train_norm.shape[1] # Number of steps: each trial length\n",
    "n_channels = X_train_norm.shape[2] # number of channels in each trial\n",
    "\n",
    "# Output labels\n",
    "n_classes = int(FacesLabelAll.max() + 1)\n",
    "\n",
    "# Tweekable parameters\n",
    "learning_rate = 0.001 #1e-3\n",
    "epochs = 1 # num iterations for updating model\n",
    "keep_prob = 0.50 # 90% neurons are kept and 10% are dropped out"
   ]
  },
  {
   "cell_type": "code",
   "execution_count": 18,
   "metadata": {},
   "outputs": [],
   "source": [
    "Y_train = np.array(FacesLabelTrain, dtype=int).reshape(-1)\n",
    "Y_valid = np.array(FacesLabelValid, dtype=int).reshape(-1)\n",
    "Y_test = np.array(FacesLabelTest, dtype=int).reshape(-1)"
   ]
  },
  {
   "cell_type": "code",
   "execution_count": 19,
   "metadata": {},
   "outputs": [],
   "source": [
    "Y_train_onehot = one_hot(labels=Y_train, n_class=n_classes)\n",
    "Y_valid_onehot = one_hot(labels=Y_valid, n_class=n_classes)\n",
    "Y_test_onehot = one_hot(labels=Y_test, n_class=n_classes)"
   ]
  },
  {
   "cell_type": "code",
   "execution_count": 20,
   "metadata": {},
   "outputs": [
    {
     "data": {
      "text/plain": [
       "((9540, 2),\n",
       " (3780, 2),\n",
       " (5400, 2),\n",
       " (9540, 205, 16),\n",
       " (3780, 205, 16),\n",
       " (5400, 205, 16))"
      ]
     },
     "execution_count": 20,
     "metadata": {},
     "output_type": "execute_result"
    }
   ],
   "source": [
    "(Y_train_onehot.shape, Y_valid_onehot.shape, Y_test_onehot.shape, \n",
    " X_train_norm.shape, X_valid_norm.shape, X_test_norm.shape)"
   ]
  },
  {
   "cell_type": "code",
   "execution_count": 21,
   "metadata": {},
   "outputs": [
    {
     "data": {
      "text/plain": [
       "(dtype('float64'),\n",
       " dtype('float64'),\n",
       " dtype('float64'),\n",
       " dtype('<f8'),\n",
       " dtype('<f8'),\n",
       " dtype('<f8'))"
      ]
     },
     "execution_count": 21,
     "metadata": {},
     "output_type": "execute_result"
    }
   ],
   "source": [
    "(Y_train_onehot.dtype, Y_valid_onehot.dtype, Y_test_onehot.dtype,\n",
    " X_train_norm.dtype, X_valid_norm.dtype, X_test_norm.dtype)"
   ]
  },
  {
   "cell_type": "markdown",
   "metadata": {},
   "source": [
    "# GPUs or CPU"
   ]
  },
  {
   "cell_type": "code",
   "execution_count": 22,
   "metadata": {},
   "outputs": [
    {
     "name": "stdout",
     "output_type": "stream",
     "text": [
      "TensorFlow Version: 1.3.0\n",
      "Default GPU Device: /gpu:0\n"
     ]
    }
   ],
   "source": [
    "\"\"\"\n",
    "DON'T MODIFY ANYTHING IN THIS CELL\n",
    "\"\"\"\n",
    "from distutils.version import LooseVersion\n",
    "import warnings\n",
    "import tensorflow as tf\n",
    "\n",
    "# Check TensorFlow Version\n",
    "assert LooseVersion(tf.__version__) >= LooseVersion('1.0'), 'Please use TensorFlow version 1.0 or newer.  You are using {}'.format(tf.__version__)\n",
    "print('TensorFlow Version: {}'.format(tf.__version__))\n",
    "\n",
    "# Check for a GPU\n",
    "if not tf.test.gpu_device_name():\n",
    "    warnings.warn('No GPU found. Please use a GPU to train your neural network.')\n",
    "else:\n",
    "    print('Default GPU Device: {}'.format(tf.test.gpu_device_name()))"
   ]
  },
  {
   "cell_type": "code",
   "execution_count": 23,
   "metadata": {},
   "outputs": [],
   "source": [
    "#  No graphs is needed on tensorflow\n",
    "inputs_ = tf.placeholder(tf.float32, [None, seq_len, n_channels], name = 'inputs_')\n",
    "labels_ = tf.placeholder(tf.float32, [None, n_classes], name = 'labels_')\n",
    "keep_prob_ = tf.placeholder(tf.float32, name = 'keep_prob_')\n",
    "learning_rate_ = tf.placeholder(tf.float32, name = 'learning_rate_')"
   ]
  },
  {
   "cell_type": "markdown",
   "metadata": {},
   "source": [
    "# Forward pass: Convolutional Layers, FC Layer, and Output layer"
   ]
  },
  {
   "cell_type": "code",
   "execution_count": 24,
   "metadata": {},
   "outputs": [
    {
     "name": "stdout",
     "output_type": "stream",
     "text": [
      "(?, 101, 32)\n",
      "(?, 49, 64)\n",
      "(?, 3136) (?, 6272)\n",
      "(?, 2)\n"
     ]
    }
   ],
   "source": [
    "# (batch, 205, 16) --> (batch, 101, 32)\n",
    "# (205 - 5 + 0)/2 + 1 = 100+1= 101\n",
    "# 2/5 with strides/kernel_size is 40% non-overlap/diff region and 60% overlapping window/ common region\n",
    "in_conv = inputs_\n",
    "out_conv = tf.layers.conv1d(inputs=in_conv, filters=32, kernel_size=5, strides=2, padding='valid')\n",
    "out_conv = tf.layers.batch_normalization(inputs=out_conv)\n",
    "out_conv = tf.nn.relu(features=out_conv)\n",
    "out_conv = tf.nn.dropout(x=out_conv, keep_prob=keep_prob_)\n",
    "print(out_conv.shape)\n",
    "\n",
    "# (batch, 101, 32) --> (batch, 49, 64)\n",
    "# (101 - 5 + 0)/2 + 1 = (96/2)+1= 48+1= 49\n",
    "# 2/5 with strides/kernel_size is 40% non-overlap/diff region and 60% overlapping window/ common region\n",
    "in_conv = out_conv\n",
    "out_conv = tf.layers.conv1d(inputs=in_conv, filters=64, kernel_size=5, strides=2, padding='valid')\n",
    "out_conv = tf.layers.batch_normalization(inputs=out_conv)\n",
    "out_conv = tf.nn.relu(features=out_conv)\n",
    "out_conv = tf.nn.dropout(x=out_conv, keep_prob=keep_prob_)\n",
    "print(out_conv.shape)\n",
    "\n",
    "# (batch, 49, 64) --> (batch, 49*64) --> (batch, 49*64*2)\n",
    "# 49*64 = 50*64 - 1*64 = 3200 - 64 = 3136, 3136*2 = 6272\n",
    "# (batch, 49, 64) --> (batch, 3200) --> (batch, 6272)\n",
    "in_fc = tf.reshape(tensor=out_conv, shape=(-1, 49*64))\n",
    "out_fc = tf.layers.dense(inputs=in_fc, units=49*64*2)\n",
    "out_fc = tf.layers.batch_normalization(inputs=out_fc)\n",
    "out_fc = tf.nn.relu(features=out_fc)\n",
    "out_fc = tf.nn.dropout(x=out_fc, keep_prob=keep_prob_)\n",
    "print(in_fc.shape, out_fc.shape)\n",
    "\n",
    "# (batch, 49*64*2) --> (batch, 2) \n",
    "logits = tf.layers.dense(inputs=out_fc, units=n_classes)\n",
    "print(logits.shape)"
   ]
  },
  {
   "cell_type": "markdown",
   "metadata": {},
   "source": [
    "# Backward pass: error backpropagation"
   ]
  },
  {
   "cell_type": "code",
   "execution_count": 25,
   "metadata": {},
   "outputs": [],
   "source": [
    "# Cost function\n",
    "cost_tensor = tf.nn.softmax_cross_entropy_with_logits(logits=logits, labels=labels_)\n",
    "cost = tf.reduce_mean(input_tensor=cost_tensor)\n",
    "\n",
    "# Optimizer\n",
    "optimizer = tf.train.AdamOptimizer(learning_rate=learning_rate_).minimize(cost)\n",
    "\n",
    "# Accuracy\n",
    "correct_pred = tf.equal(tf.argmax(logits, 1), tf.argmax(labels_, 1))\n",
    "accuracy = tf.reduce_mean(tf.cast(correct_pred, tf.float32), name='accuracy')"
   ]
  },
  {
   "cell_type": "markdown",
   "metadata": {},
   "source": [
    "# Train the network"
   ]
  },
  {
   "cell_type": "code",
   "execution_count": 26,
   "metadata": {},
   "outputs": [
    {
     "name": "stdout",
     "output_type": "stream",
     "text": [
      "Epoch: 1/1 Train loss: 0.545156 Valid loss: 5.196780 Train acc: 0.768421 Valid acc: 0.833468\n",
      "Epoch: 1/1 Train loss: 3.957997 Valid loss: 4.451052 Train acc: 0.842105 Valid acc: 0.833468\n",
      "Epoch: 1/1 Train loss: 3.155336 Valid loss: 3.511941 Train acc: 0.831579 Valid acc: 0.833468\n",
      "Epoch: 1/1 Train loss: 1.593711 Valid loss: 2.747044 Train acc: 0.831579 Valid acc: 0.833468\n",
      "Epoch: 1/1 Train loss: 0.466992 Valid loss: 2.540453 Train acc: 0.831579 Valid acc: 0.700081\n",
      "Epoch: 1/1 Train loss: 1.279706 Valid loss: 2.322026 Train acc: 0.157895 Valid acc: 0.611156\n",
      "Epoch: 1/1 Train loss: 1.021961 Valid loss: 2.082491 Train acc: 0.200000 Valid acc: 0.622711\n",
      "Epoch: 1/1 Train loss: 0.594905 Valid loss: 1.880573 Train acc: 0.757895 Valid acc: 0.649055\n",
      "Epoch: 1/1 Train loss: 0.451249 Valid loss: 1.722178 Train acc: 0.831579 Valid acc: 0.669546\n",
      "Epoch: 1/1 Train loss: 0.399237 Valid loss: 1.597737 Train acc: 0.842105 Valid acc: 0.685938\n",
      "Epoch: 1/1 Train loss: 0.463140 Valid loss: 1.497697 Train acc: 0.831579 Valid acc: 0.699350\n",
      "Epoch: 1/1 Train loss: 0.461923 Valid loss: 1.415005 Train acc: 0.831579 Valid acc: 0.710526\n",
      "Epoch: 1/1 Train loss: 0.443131 Valid loss: 1.344894 Train acc: 0.842105 Valid acc: 0.719984\n",
      "Epoch: 1/1 Train loss: 0.512873 Valid loss: 1.284093 Train acc: 0.831579 Valid acc: 0.728090\n",
      "Epoch: 1/1 Train loss: 0.465304 Valid loss: 1.230591 Train acc: 0.842105 Valid acc: 0.735115\n",
      "Epoch: 1/1 Train loss: 0.537161 Valid loss: 1.183019 Train acc: 0.810526 Valid acc: 0.741262\n",
      "Epoch: 1/1 Train loss: 0.438665 Valid loss: 1.140554 Train acc: 0.831579 Valid acc: 0.746686\n",
      "Epoch: 1/1 Train loss: 0.423479 Valid loss: 1.102581 Train acc: 0.842105 Valid acc: 0.751507\n",
      "Epoch: 1/1 Train loss: 0.477289 Valid loss: 1.068575 Train acc: 0.831579 Valid acc: 0.755821\n",
      "Epoch: 1/1 Train loss: 0.426336 Valid loss: 1.038129 Train acc: 0.842105 Valid acc: 0.759703\n",
      "Epoch: 1/1 Train loss: 0.612026 Valid loss: 1.010974 Train acc: 0.810526 Valid acc: 0.763216\n",
      "Epoch: 1/1 Train loss: 0.494109 Valid loss: 0.986895 Train acc: 0.852632 Valid acc: 0.766409\n",
      "Epoch: 1/1 Train loss: 0.556177 Valid loss: 0.965666 Train acc: 0.821053 Valid acc: 0.769325\n",
      "Epoch: 1/1 Train loss: 0.421075 Valid loss: 0.946886 Train acc: 0.842105 Valid acc: 0.771997\n",
      "Epoch: 1/1 Train loss: 0.435214 Valid loss: 0.930257 Train acc: 0.831579 Valid acc: 0.774456\n",
      "Epoch: 1/1 Train loss: 0.458398 Valid loss: 0.915454 Train acc: 0.831579 Valid acc: 0.776726\n",
      "Epoch: 1/1 Train loss: 0.442889 Valid loss: 0.902232 Train acc: 0.842105 Valid acc: 0.778828\n",
      "Epoch: 1/1 Train loss: 0.520051 Valid loss: 0.890300 Train acc: 0.831579 Valid acc: 0.780779\n",
      "Epoch: 1/1 Train loss: 0.492843 Valid loss: 0.879384 Train acc: 0.821053 Valid acc: 0.782596\n",
      "Epoch: 1/1 Train loss: 0.491430 Valid loss: 0.869259 Train acc: 0.842105 Valid acc: 0.784292\n",
      "Epoch: 1/1 Train loss: 0.438159 Valid loss: 0.859745 Train acc: 0.842105 Valid acc: 0.785878\n",
      "Epoch: 1/1 Train loss: 0.480148 Valid loss: 0.850684 Train acc: 0.831579 Valid acc: 0.787365\n",
      "Epoch: 1/1 Train loss: 0.474596 Valid loss: 0.841963 Train acc: 0.821053 Valid acc: 0.788762\n",
      "Epoch: 1/1 Train loss: 0.457595 Valid loss: 0.833494 Train acc: 0.842105 Valid acc: 0.790077\n",
      "Epoch: 1/1 Train loss: 0.503806 Valid loss: 0.825205 Train acc: 0.831579 Valid acc: 0.791317\n",
      "Epoch: 1/1 Train loss: 0.450941 Valid loss: 0.817023 Train acc: 0.831579 Valid acc: 0.792488\n",
      "Epoch: 1/1 Train loss: 0.441300 Valid loss: 0.808928 Train acc: 0.842105 Valid acc: 0.793595\n",
      "Epoch: 1/1 Train loss: 0.473997 Valid loss: 0.800922 Train acc: 0.821053 Valid acc: 0.794645\n",
      "Epoch: 1/1 Train loss: 0.420060 Valid loss: 0.793003 Train acc: 0.831579 Valid acc: 0.795640\n",
      "Epoch: 1/1 Train loss: 0.417622 Valid loss: 0.785154 Train acc: 0.852632 Valid acc: 0.796586\n",
      "Epoch: 1/1 Train loss: 0.495158 Valid loss: 0.777422 Train acc: 0.810526 Valid acc: 0.797485\n",
      "Epoch: 1/1 Train loss: 0.408422 Valid loss: 0.769813 Train acc: 0.842105 Valid acc: 0.798342\n",
      "Epoch: 1/1 Train loss: 0.443314 Valid loss: 0.762370 Train acc: 0.831579 Valid acc: 0.799159\n",
      "Epoch: 1/1 Train loss: 0.426291 Valid loss: 0.755113 Train acc: 0.821053 Valid acc: 0.799939\n",
      "Epoch: 1/1 Train loss: 0.457481 Valid loss: 0.748069 Train acc: 0.852632 Valid acc: 0.800684\n",
      "Epoch: 1/1 Train loss: 0.496322 Valid loss: 0.741278 Train acc: 0.831579 Valid acc: 0.801397\n",
      "Epoch: 1/1 Train loss: 0.495094 Valid loss: 0.734752 Train acc: 0.831579 Valid acc: 0.802079\n",
      "Epoch: 1/1 Train loss: 0.439317 Valid loss: 0.728486 Train acc: 0.831579 Valid acc: 0.802733\n",
      "Epoch: 1/1 Train loss: 0.426783 Valid loss: 0.722479 Train acc: 0.842105 Valid acc: 0.803360\n",
      "Epoch: 1/1 Train loss: 0.451021 Valid loss: 0.716733 Train acc: 0.821053 Valid acc: 0.803962\n",
      "Epoch: 1/1 Train loss: 0.413626 Valid loss: 0.711241 Train acc: 0.842105 Valid acc: 0.804541\n",
      "Epoch: 1/1 Train loss: 0.479035 Valid loss: 0.706024 Train acc: 0.831579 Valid acc: 0.805097\n",
      "Epoch: 1/1 Train loss: 0.406624 Valid loss: 0.701079 Train acc: 0.842105 Valid acc: 0.805633\n",
      "Epoch: 1/1 Train loss: 0.440052 Valid loss: 0.696409 Train acc: 0.821053 Valid acc: 0.806148\n",
      "Epoch: 1/1 Train loss: 0.464867 Valid loss: 0.692003 Train acc: 0.842105 Valid acc: 0.806645\n",
      "Epoch: 1/1 Train loss: 0.466423 Valid loss: 0.687830 Train acc: 0.821053 Valid acc: 0.807133\n",
      "Epoch: 1/1 Train loss: 0.427850 Valid loss: 0.683845 Train acc: 0.831579 Valid acc: 0.807600\n",
      "Epoch: 1/1 Train loss: 0.422218 Valid loss: 0.680005 Train acc: 0.842105 Valid acc: 0.808051\n",
      "Epoch: 1/1 Train loss: 0.480580 Valid loss: 0.676313 Train acc: 0.831579 Valid acc: 0.808486\n",
      "Epoch: 1/1 Train loss: 0.412998 Valid loss: 0.672724 Train acc: 0.831579 Valid acc: 0.808907\n",
      "Epoch: 1/1 Train loss: 0.423667 Valid loss: 0.669194 Train acc: 0.831579 Valid acc: 0.809314\n",
      "Epoch: 1/1 Train loss: 0.379244 Valid loss: 0.665670 Train acc: 0.842105 Valid acc: 0.809708\n",
      "Epoch: 1/1 Train loss: 0.422010 Valid loss: 0.662136 Train acc: 0.821053 Valid acc: 0.810089\n",
      "Epoch: 1/1 Train loss: 0.481128 Valid loss: 0.658592 Train acc: 0.842105 Valid acc: 0.810459\n",
      "Epoch: 1/1 Train loss: 0.473058 Valid loss: 0.655054 Train acc: 0.831579 Valid acc: 0.810817\n",
      "Epoch: 1/1 Train loss: 0.457128 Valid loss: 0.651539 Train acc: 0.842105 Valid acc: 0.811164\n",
      "Epoch: 1/1 Train loss: 0.477129 Valid loss: 0.648063 Train acc: 0.831579 Valid acc: 0.811497\n",
      "Epoch: 1/1 Train loss: 0.467193 Valid loss: 0.644654 Train acc: 0.831579 Valid acc: 0.811816\n",
      "Epoch: 1/1 Train loss: 0.435877 Valid loss: 0.641317 Train acc: 0.831579 Valid acc: 0.812130\n",
      "Epoch: 1/1 Train loss: 0.430868 Valid loss: 0.638049 Train acc: 0.831579 Valid acc: 0.812435\n",
      "Epoch: 1/1 Train loss: 0.422346 Valid loss: 0.634851 Train acc: 0.831579 Valid acc: 0.812731\n",
      "Epoch: 1/1 Train loss: 0.413710 Valid loss: 0.631719 Train acc: 0.831579 Valid acc: 0.813019\n",
      "Epoch: 1/1 Train loss: 0.545234 Valid loss: 0.628669 Train acc: 0.831579 Valid acc: 0.813299\n",
      "Epoch: 1/1 Train loss: 0.402735 Valid loss: 0.625701 Train acc: 0.831579 Valid acc: 0.813572\n",
      "Epoch: 1/1 Train loss: 0.483028 Valid loss: 0.622820 Train acc: 0.831579 Valid acc: 0.813837\n",
      "Epoch: 1/1 Train loss: 0.386621 Valid loss: 0.620021 Train acc: 0.842105 Valid acc: 0.814096\n",
      "Epoch: 1/1 Train loss: 0.413134 Valid loss: 0.617298 Train acc: 0.831579 Valid acc: 0.814347\n",
      "Epoch: 1/1 Train loss: 0.376796 Valid loss: 0.614639 Train acc: 0.842105 Valid acc: 0.814592\n",
      "Epoch: 1/1 Train loss: 0.442921 Valid loss: 0.612040 Train acc: 0.810526 Valid acc: 0.814838\n",
      "Epoch: 1/1 Train loss: 0.374327 Valid loss: 0.609486 Train acc: 0.852632 Valid acc: 0.815081\n",
      "Epoch: 1/1 Train loss: 0.462419 Valid loss: 0.606997 Train acc: 0.831579 Valid acc: 0.815331\n",
      "Epoch: 1/1 Train loss: 0.399785 Valid loss: 0.604579 Train acc: 0.831579 Valid acc: 0.815586\n",
      "Epoch: 1/1 Train loss: 0.401872 Valid loss: 0.602245 Train acc: 0.831579 Valid acc: 0.815863\n",
      "Epoch: 1/1 Train loss: 0.430962 Valid loss: 0.600027 Train acc: 0.831579 Valid acc: 0.816166\n",
      "Epoch: 1/1 Train loss: 0.373129 Valid loss: 0.597913 Train acc: 0.831579 Valid acc: 0.816525\n",
      "Epoch: 1/1 Train loss: 0.369011 Valid loss: 0.595878 Train acc: 0.831579 Valid acc: 0.816941\n",
      "Epoch: 1/1 Train loss: 0.370095 Valid loss: 0.593901 Train acc: 0.831579 Valid acc: 0.817386\n",
      "Epoch: 1/1 Train loss: 2.118616 Valid loss: 0.592200 Train acc: 0.831579 Valid acc: 0.817891\n",
      "Epoch: 1/1 Train loss: 0.712592 Valid loss: 0.590859 Train acc: 0.831579 Valid acc: 0.818366\n"
     ]
    },
    {
     "name": "stdout",
     "output_type": "stream",
     "text": [
      "Epoch: 1/1 Train loss: 0.563330 Valid loss: 0.589868 Train acc: 0.842105 Valid acc: 0.818669\n",
      "Epoch: 1/1 Train loss: 0.428885 Valid loss: 0.589096 Train acc: 0.821053 Valid acc: 0.818828\n",
      "Epoch: 1/1 Train loss: 0.490953 Valid loss: 0.588414 Train acc: 0.852632 Valid acc: 0.818923\n",
      "Epoch: 1/1 Train loss: 0.465061 Valid loss: 0.587695 Train acc: 0.873684 Valid acc: 0.819010\n",
      "Epoch: 1/1 Train loss: 0.442676 Valid loss: 0.586825 Train acc: 0.842105 Valid acc: 0.819209\n",
      "Epoch: 1/1 Train loss: 0.470966 Valid loss: 0.585725 Train acc: 0.863158 Valid acc: 0.819547\n",
      "Epoch: 1/1 Train loss: 0.437763 Valid loss: 0.584355 Train acc: 0.873684 Valid acc: 0.819934\n",
      "Epoch: 1/1 Train loss: 0.411558 Valid loss: 0.582731 Train acc: 0.863158 Valid acc: 0.820332\n",
      "Epoch: 1/1 Train loss: 0.389928 Valid loss: 0.580924 Train acc: 0.852632 Valid acc: 0.820675\n",
      "Epoch: 1/1 Train loss: 0.361224 Valid loss: 0.579019 Train acc: 0.842105 Valid acc: 0.820960\n",
      "Epoch: 1/1 Train loss: 0.351344 Valid loss: 0.577114 Train acc: 0.842105 Valid acc: 0.821188\n",
      "Epoch: 1/1 Test loss: 0.382541 Test acc: 0.839662\n"
     ]
    }
   ],
   "source": [
    "# Plotting the acc and loss curve\n",
    "train_acc = []\n",
    "train_loss = []\n",
    "\n",
    "valid_acc = []\n",
    "valid_loss = []\n",
    "\n",
    "with tf.Session() as sess:\n",
    "    # initalize session global variables just in the case they are initialized.\n",
    "    sess.run(tf.global_variables_initializer())\n",
    "    \n",
    "    for e in range(epochs):\n",
    "       \n",
    "        # Loop over batches\n",
    "        for x, y in get_batches(X_train_norm, Y_train_onehot, batch_size):\n",
    "            \n",
    "            # Feed dictionary\n",
    "            feed = {inputs_:x, labels_:y, keep_prob_: keep_prob, learning_rate_:learning_rate}\n",
    "            loss, _ , acc = sess.run([cost, optimizer, accuracy], feed_dict = feed)\n",
    "            \n",
    "            train_acc.append(acc)\n",
    "            train_loss.append(loss)\n",
    "            \n",
    "            ################################ Validation\n",
    "            # Initialize \n",
    "            loss_v_batch, acc_v_batch = [], []\n",
    "\n",
    "            # Loop over batches\n",
    "            for x_v, y_v in get_batches(X_valid_norm, Y_valid_onehot, batch_size):\n",
    "\n",
    "                # Feed dictionary\n",
    "                feed = {inputs_:x_v, labels_:y_v, keep_prob_: 1.0}\n",
    "                loss_v, acc_v = sess.run([cost, accuracy], feed_dict = feed)\n",
    "                \n",
    "                acc_v_batch.append(acc_v)\n",
    "                loss_v_batch.append(loss_v)\n",
    "                \n",
    "            valid_acc.append(np.mean(acc_v_batch))\n",
    "            valid_loss.append(np.mean(loss_v_batch))\n",
    "            \n",
    "            # Print info\n",
    "            print(\"Epoch: {}/{}\".format(e+1, epochs),\n",
    "                  \"Train loss: {:6f}\".format(loss),\n",
    "                  \"Valid loss: {:.6f}\".format(np.mean(valid_loss)),\n",
    "                  \"Train acc: {:6f}\".format(acc),\n",
    "                  \"Valid acc: {:.6f}\".format(np.mean(valid_acc)))\n",
    "            \n",
    "    ################################ Test\n",
    "    # Initialize \n",
    "    acc_batch, loss_batch = [], []\n",
    "\n",
    "    # Loop over batches\n",
    "    for x, y in get_batches(X_test_norm, Y_test_onehot, batch_size):\n",
    "\n",
    "        # Feed dictionary\n",
    "        feed = {inputs_:x, labels_:y, keep_prob_:1.0}\n",
    "        loss, acc = sess.run([cost, accuracy], feed_dict = feed)\n",
    "\n",
    "        acc_batch.append(acc)\n",
    "        loss_batch.append(loss)\n",
    "\n",
    "    # Print info\n",
    "    print(\"Epoch: {}/{}\".format(e+1, epochs),\n",
    "          \"Test loss: {:6f}\".format(np.mean(loss_batch)),\n",
    "          \"Test acc: {:6f}\".format(np.mean(acc_batch)))"
   ]
  },
  {
   "cell_type": "code",
   "execution_count": 27,
   "metadata": {},
   "outputs": [
    {
     "data": {
      "image/png": "[encoded data removed]",
      "text/plain": [
       "<matplotlib.figure.Figure at 0x7fe6a456f6d8>"
      ]
     },
     "metadata": {},
     "output_type": "display_data"
    }
   ],
   "source": [
    "import matplotlib.pyplot as mplot\n",
    "\n",
    "mplot.plot(train_loss, label='train_loss')\n",
    "mplot.plot(valid_loss, label='valid_loss')\n",
    "mplot.legend()\n",
    "mplot.show()"
   ]
  },
  {
   "cell_type": "code",
   "execution_count": 28,
   "metadata": {},
   "outputs": [
    {
     "data": {
      "image/png": "[encoded data removed]",
      "text/plain": [
       "<matplotlib.figure.Figure at 0x7fe630073518>"
      ]
     },
     "metadata": {},
     "output_type": "display_data"
    }
   ],
   "source": [
    "# import matplotlib.pyplot as mplot\n",
    "\n",
    "mplot.plot(train_acc, label='train_acc')\n",
    "mplot.plot(valid_acc, label='valid_acc')\n",
    "mplot.legend()\n",
    "mplot.show()"
   ]
  },
  {
   "cell_type": "code",
   "execution_count": null,
   "metadata": {},
   "outputs": [],
   "source": []
  }
 ],
 "metadata": {
  "kernelspec": {
   "display_name": "Python 3",
   "language": "python",
   "name": "python3"
  },
  "language_info": {
   "codemirror_mode": {
    "name": "ipython",
    "version": 3
   },
   "file_extension": ".py",
   "mimetype": "text/x-python",
   "name": "python",
   "nbconvert_exporter": "python",
   "pygments_lexer": "ipython3",
   "version": "3.6.3"
  }
 },
 "nbformat": 4,
 "nbformat_minor": 2
}
